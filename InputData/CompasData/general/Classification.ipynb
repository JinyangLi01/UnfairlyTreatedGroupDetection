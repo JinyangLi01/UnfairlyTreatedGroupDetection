{
 "cells": [
  {
   "cell_type": "code",
   "execution_count": 1,
   "metadata": {
    "collapsed": true
   },
   "outputs": [],
   "source": [
    "import numpy as np\n",
    "import pandas as pd\n",
    "from sklearn.tree import DecisionTreeClassifier\n",
    "from sklearn.model_selection import train_test_split\n",
    "from sklearn.metrics import accuracy_score\n"
   ]
  },
  {
   "cell_type": "markdown",
   "source": [
    "# predict whole dataset compas\n",
    "\n",
    "#%5"
   ],
   "metadata": {
    "collapsed": false,
    "pycharm": {
     "name": "#%% md\n"
    }
   }
  },
  {
   "cell_type": "markdown",
   "source": [
    "## pick all possible predictors: 18"
   ],
   "metadata": {
    "collapsed": false,
    "pycharm": {
     "name": "#%% md\n"
    }
   }
  },
  {
   "cell_type": "code",
   "execution_count": 76,
   "outputs": [
    {
     "name": "stdout",
     "output_type": "stream",
     "text": [
      "6889\n"
     ]
    },
    {
     "data": {
      "text/plain": "        age_binary  age_bucketized   sex_binary       race_C        score  \\\ncount  6889.000000     6889.000000  6889.000000  6889.000000  6595.000000   \nmean      0.385978        0.385978     0.192771     0.635070     0.597314   \nstd       0.486861        0.486861     0.394503     0.725407     0.344170   \nmin       0.000000        0.000000     0.000000     0.000000    -0.446235   \n25%       0.000000        0.000000     0.000000     0.000000     0.347201   \n50%       0.000000        0.000000     0.000000     0.000000     0.574175   \n75%       1.000000        1.000000     0.000000     1.000000     0.860213   \nmax       1.000000        1.000000     1.000000     2.000000     2.238960   \n\n              rank  juv_fel_count_C  decile_score_C  juv_misd_count_C  \\\ncount  6889.000000      6889.000000     6889.000000       6889.000000   \nmean   3445.000000         0.002177        0.365220          0.002177   \nstd    1988.827335         0.057744        0.481527          0.052476   \nmin       1.000000         0.000000        0.000000          0.000000   \n25%    1723.000000         0.000000        0.000000          0.000000   \n50%    3445.000000         0.000000        0.000000          0.000000   \n75%    5167.000000         0.000000        1.000000          0.000000   \nmax    6889.000000         3.000000        1.000000          2.000000   \n\n       juv_other_count_C  ...  v_decile_score_C      start_C        end_C  \\\ncount        6889.000000  ...       6889.000000  6889.000000  6889.000000   \nmean            0.000871  ...          0.244448     0.006677     0.928727   \nstd             0.034069  ...          0.429790     0.094639     0.898929   \nmin             0.000000  ...          0.000000     0.000000     0.000000   \n25%             0.000000  ...          0.000000     0.000000     0.000000   \n50%             0.000000  ...          0.000000     0.000000     1.000000   \n75%             0.000000  ...          0.000000     0.000000     2.000000   \nmax             2.000000  ...          1.000000     2.000000     2.000000   \n\n           event_C  MarriageStatus_C     is_recid  is_violent_recid  \\\ncount  6889.000000       6889.000000  6889.000000       6889.000000   \nmean      0.382204          0.576862     0.479895          0.112353   \nstd       0.485961          1.439728     0.499632          0.315823   \nmin       0.000000          0.000000     0.000000          0.000000   \n25%       0.000000          0.000000     0.000000          0.000000   \n50%       0.000000          0.000000     0.000000          0.000000   \n75%       1.000000          0.000000     1.000000          0.000000   \nmax       1.000000          6.000000     1.000000          1.000000   \n\n       two_year_recid  Violence_score  Recidivism_score  \ncount     6889.000000     6889.000000       6889.000000  \nmean         0.450428       -2.368951         -0.693594  \nstd          0.497573        0.871101          0.843544  \nmin          0.000000       -4.630000         -3.000000  \n25%          0.000000       -2.990000         -1.280000  \n50%          0.000000       -2.330000         -0.640000  \n75%          1.000000       -1.740000         -0.080000  \nmax          1.000000        0.930000          1.690000  \n\n[8 rows x 24 columns]",
      "text/html": "<div>\n<style scoped>\n    .dataframe tbody tr th:only-of-type {\n        vertical-align: middle;\n    }\n\n    .dataframe tbody tr th {\n        vertical-align: top;\n    }\n\n    .dataframe thead th {\n        text-align: right;\n    }\n</style>\n<table border=\"1\" class=\"dataframe\">\n  <thead>\n    <tr style=\"text-align: right;\">\n      <th></th>\n      <th>age_binary</th>\n      <th>age_bucketized</th>\n      <th>sex_binary</th>\n      <th>race_C</th>\n      <th>score</th>\n      <th>rank</th>\n      <th>juv_fel_count_C</th>\n      <th>decile_score_C</th>\n      <th>juv_misd_count_C</th>\n      <th>juv_other_count_C</th>\n      <th>...</th>\n      <th>v_decile_score_C</th>\n      <th>start_C</th>\n      <th>end_C</th>\n      <th>event_C</th>\n      <th>MarriageStatus_C</th>\n      <th>is_recid</th>\n      <th>is_violent_recid</th>\n      <th>two_year_recid</th>\n      <th>Violence_score</th>\n      <th>Recidivism_score</th>\n    </tr>\n  </thead>\n  <tbody>\n    <tr>\n      <th>count</th>\n      <td>6889.000000</td>\n      <td>6889.000000</td>\n      <td>6889.000000</td>\n      <td>6889.000000</td>\n      <td>6595.000000</td>\n      <td>6889.000000</td>\n      <td>6889.000000</td>\n      <td>6889.000000</td>\n      <td>6889.000000</td>\n      <td>6889.000000</td>\n      <td>...</td>\n      <td>6889.000000</td>\n      <td>6889.000000</td>\n      <td>6889.000000</td>\n      <td>6889.000000</td>\n      <td>6889.000000</td>\n      <td>6889.000000</td>\n      <td>6889.000000</td>\n      <td>6889.000000</td>\n      <td>6889.000000</td>\n      <td>6889.000000</td>\n    </tr>\n    <tr>\n      <th>mean</th>\n      <td>0.385978</td>\n      <td>0.385978</td>\n      <td>0.192771</td>\n      <td>0.635070</td>\n      <td>0.597314</td>\n      <td>3445.000000</td>\n      <td>0.002177</td>\n      <td>0.365220</td>\n      <td>0.002177</td>\n      <td>0.000871</td>\n      <td>...</td>\n      <td>0.244448</td>\n      <td>0.006677</td>\n      <td>0.928727</td>\n      <td>0.382204</td>\n      <td>0.576862</td>\n      <td>0.479895</td>\n      <td>0.112353</td>\n      <td>0.450428</td>\n      <td>-2.368951</td>\n      <td>-0.693594</td>\n    </tr>\n    <tr>\n      <th>std</th>\n      <td>0.486861</td>\n      <td>0.486861</td>\n      <td>0.394503</td>\n      <td>0.725407</td>\n      <td>0.344170</td>\n      <td>1988.827335</td>\n      <td>0.057744</td>\n      <td>0.481527</td>\n      <td>0.052476</td>\n      <td>0.034069</td>\n      <td>...</td>\n      <td>0.429790</td>\n      <td>0.094639</td>\n      <td>0.898929</td>\n      <td>0.485961</td>\n      <td>1.439728</td>\n      <td>0.499632</td>\n      <td>0.315823</td>\n      <td>0.497573</td>\n      <td>0.871101</td>\n      <td>0.843544</td>\n    </tr>\n    <tr>\n      <th>min</th>\n      <td>0.000000</td>\n      <td>0.000000</td>\n      <td>0.000000</td>\n      <td>0.000000</td>\n      <td>-0.446235</td>\n      <td>1.000000</td>\n      <td>0.000000</td>\n      <td>0.000000</td>\n      <td>0.000000</td>\n      <td>0.000000</td>\n      <td>...</td>\n      <td>0.000000</td>\n      <td>0.000000</td>\n      <td>0.000000</td>\n      <td>0.000000</td>\n      <td>0.000000</td>\n      <td>0.000000</td>\n      <td>0.000000</td>\n      <td>0.000000</td>\n      <td>-4.630000</td>\n      <td>-3.000000</td>\n    </tr>\n    <tr>\n      <th>25%</th>\n      <td>0.000000</td>\n      <td>0.000000</td>\n      <td>0.000000</td>\n      <td>0.000000</td>\n      <td>0.347201</td>\n      <td>1723.000000</td>\n      <td>0.000000</td>\n      <td>0.000000</td>\n      <td>0.000000</td>\n      <td>0.000000</td>\n      <td>...</td>\n      <td>0.000000</td>\n      <td>0.000000</td>\n      <td>0.000000</td>\n      <td>0.000000</td>\n      <td>0.000000</td>\n      <td>0.000000</td>\n      <td>0.000000</td>\n      <td>0.000000</td>\n      <td>-2.990000</td>\n      <td>-1.280000</td>\n    </tr>\n    <tr>\n      <th>50%</th>\n      <td>0.000000</td>\n      <td>0.000000</td>\n      <td>0.000000</td>\n      <td>0.000000</td>\n      <td>0.574175</td>\n      <td>3445.000000</td>\n      <td>0.000000</td>\n      <td>0.000000</td>\n      <td>0.000000</td>\n      <td>0.000000</td>\n      <td>...</td>\n      <td>0.000000</td>\n      <td>0.000000</td>\n      <td>1.000000</td>\n      <td>0.000000</td>\n      <td>0.000000</td>\n      <td>0.000000</td>\n      <td>0.000000</td>\n      <td>0.000000</td>\n      <td>-2.330000</td>\n      <td>-0.640000</td>\n    </tr>\n    <tr>\n      <th>75%</th>\n      <td>1.000000</td>\n      <td>1.000000</td>\n      <td>0.000000</td>\n      <td>1.000000</td>\n      <td>0.860213</td>\n      <td>5167.000000</td>\n      <td>0.000000</td>\n      <td>1.000000</td>\n      <td>0.000000</td>\n      <td>0.000000</td>\n      <td>...</td>\n      <td>0.000000</td>\n      <td>0.000000</td>\n      <td>2.000000</td>\n      <td>1.000000</td>\n      <td>0.000000</td>\n      <td>1.000000</td>\n      <td>0.000000</td>\n      <td>1.000000</td>\n      <td>-1.740000</td>\n      <td>-0.080000</td>\n    </tr>\n    <tr>\n      <th>max</th>\n      <td>1.000000</td>\n      <td>1.000000</td>\n      <td>1.000000</td>\n      <td>2.000000</td>\n      <td>2.238960</td>\n      <td>6889.000000</td>\n      <td>3.000000</td>\n      <td>1.000000</td>\n      <td>2.000000</td>\n      <td>2.000000</td>\n      <td>...</td>\n      <td>1.000000</td>\n      <td>2.000000</td>\n      <td>2.000000</td>\n      <td>1.000000</td>\n      <td>6.000000</td>\n      <td>1.000000</td>\n      <td>1.000000</td>\n      <td>1.000000</td>\n      <td>0.930000</td>\n      <td>1.690000</td>\n    </tr>\n  </tbody>\n</table>\n<p>8 rows × 24 columns</p>\n</div>"
     },
     "execution_count": 76,
     "metadata": {},
     "output_type": "execute_result"
    }
   ],
   "source": [
    "compas_data = pd.read_csv(\"./compas_data_cat_necessary_att.csv\")\n",
    "print(len(compas_data))\n",
    "\n",
    "compas_data.describe()"
   ],
   "metadata": {
    "collapsed": false,
    "pycharm": {
     "name": "#%%\n"
    }
   }
  },
  {
   "cell_type": "code",
   "execution_count": 77,
   "outputs": [
    {
     "name": "stdout",
     "output_type": "stream",
     "text": [
      "['age_binary', 'age_bucketized', 'sex_binary', 'race_C', 'score', 'rank', 'juv_fel_count_C', 'decile_score_C', 'juv_misd_count_C', 'juv_other_count_C', 'priors_count_C', 'days_b_screening_arrest_C', 'c_days_from_compas_C', 'c_charge_degree_C', 'v_decile_score_C', 'start_C', 'end_C', 'event_C', 'MarriageStatus_C', 'is_recid', 'is_violent_recid', 'two_year_recid', 'Violence_score', 'Recidivism_score']\n"
     ]
    }
   ],
   "source": [
    "print(compas_data.columns.tolist())\n"
   ],
   "metadata": {
    "collapsed": false,
    "pycharm": {
     "name": "#%%\n"
    }
   }
  },
  {
   "cell_type": "code",
   "execution_count": 78,
   "outputs": [],
   "source": [
    "predictors = ['age_binary', 'sex_binary', 'race_C', 'juv_fel_count_C', 'decile_score_C',\n",
    "                  'juv_misd_count_C', 'juv_other_count_C', 'priors_count_C', 'days_b_screening_arrest_C', 'c_days_from_compas_C',\n",
    "                  'c_charge_degree_C', 'v_decile_score_C', 'start_C', 'end_C', 'event_C',\n",
    "                  'MarriageStatus_C', 'Violence_score', 'Recidivism_score']\n",
    "\n",
    "\n",
    "to_predict = 'is_recid'\n"
   ],
   "metadata": {
    "collapsed": false,
    "pycharm": {
     "name": "#%%\n"
    }
   }
  },
  {
   "cell_type": "code",
   "execution_count": 79,
   "outputs": [
    {
     "data": {
      "text/plain": "(6889, 19)"
     },
     "execution_count": 79,
     "metadata": {},
     "output_type": "execute_result"
    }
   ],
   "source": [
    "compas_data_predictors = compas_data[predictors + ['is_recid']]\n",
    "compas_data_predictors.shape"
   ],
   "metadata": {
    "collapsed": false,
    "pycharm": {
     "name": "#%%\n"
    }
   }
  },
  {
   "cell_type": "code",
   "execution_count": 80,
   "outputs": [],
   "source": [
    "compas_data_predictors.to_csv(\"compas_data_cat_predictors.csv\", index=False)"
   ],
   "metadata": {
    "collapsed": false,
    "pycharm": {
     "name": "#%%\n"
    }
   }
  },
  {
   "cell_type": "markdown",
   "source": [
    "## do predictions"
   ],
   "metadata": {
    "collapsed": false,
    "pycharm": {
     "name": "#%% md\n"
    }
   }
  },
  {
   "cell_type": "code",
   "execution_count": 81,
   "outputs": [
    {
     "data": {
      "text/plain": "   age_binary  sex_binary  race_C  juv_fel_count_C  decile_score_C  \\\n0           1           0       2                0               0   \n1           0           0       0                0               0   \n2           0           0       0                0               0   \n\n   juv_misd_count_C  juv_other_count_C  priors_count_C  \\\n0                 0                  0               0   \n1                 0                  0               0   \n2                 0                  0               0   \n\n   days_b_screening_arrest_C  c_days_from_compas_C  c_charge_degree_C  \\\n0                          0                     0                  0   \n1                          0                     0                  0   \n2                          0                     0                  0   \n\n   v_decile_score_C  start_C  end_C  event_C  MarriageStatus_C  \\\n0                 0        0      0        0                 0   \n1                 0        0      0        1                 0   \n2                 0        0      0        0                 0   \n\n   Violence_score  Recidivism_score  is_recid  \n0           -4.31             -2.78         0  \n1           -3.07             -0.76         1  \n2           -1.31              0.44         1  ",
      "text/html": "<div>\n<style scoped>\n    .dataframe tbody tr th:only-of-type {\n        vertical-align: middle;\n    }\n\n    .dataframe tbody tr th {\n        vertical-align: top;\n    }\n\n    .dataframe thead th {\n        text-align: right;\n    }\n</style>\n<table border=\"1\" class=\"dataframe\">\n  <thead>\n    <tr style=\"text-align: right;\">\n      <th></th>\n      <th>age_binary</th>\n      <th>sex_binary</th>\n      <th>race_C</th>\n      <th>juv_fel_count_C</th>\n      <th>decile_score_C</th>\n      <th>juv_misd_count_C</th>\n      <th>juv_other_count_C</th>\n      <th>priors_count_C</th>\n      <th>days_b_screening_arrest_C</th>\n      <th>c_days_from_compas_C</th>\n      <th>c_charge_degree_C</th>\n      <th>v_decile_score_C</th>\n      <th>start_C</th>\n      <th>end_C</th>\n      <th>event_C</th>\n      <th>MarriageStatus_C</th>\n      <th>Violence_score</th>\n      <th>Recidivism_score</th>\n      <th>is_recid</th>\n    </tr>\n  </thead>\n  <tbody>\n    <tr>\n      <th>0</th>\n      <td>1</td>\n      <td>0</td>\n      <td>2</td>\n      <td>0</td>\n      <td>0</td>\n      <td>0</td>\n      <td>0</td>\n      <td>0</td>\n      <td>0</td>\n      <td>0</td>\n      <td>0</td>\n      <td>0</td>\n      <td>0</td>\n      <td>0</td>\n      <td>0</td>\n      <td>0</td>\n      <td>-4.31</td>\n      <td>-2.78</td>\n      <td>0</td>\n    </tr>\n    <tr>\n      <th>1</th>\n      <td>0</td>\n      <td>0</td>\n      <td>0</td>\n      <td>0</td>\n      <td>0</td>\n      <td>0</td>\n      <td>0</td>\n      <td>0</td>\n      <td>0</td>\n      <td>0</td>\n      <td>0</td>\n      <td>0</td>\n      <td>0</td>\n      <td>0</td>\n      <td>1</td>\n      <td>0</td>\n      <td>-3.07</td>\n      <td>-0.76</td>\n      <td>1</td>\n    </tr>\n    <tr>\n      <th>2</th>\n      <td>0</td>\n      <td>0</td>\n      <td>0</td>\n      <td>0</td>\n      <td>0</td>\n      <td>0</td>\n      <td>0</td>\n      <td>0</td>\n      <td>0</td>\n      <td>0</td>\n      <td>0</td>\n      <td>0</td>\n      <td>0</td>\n      <td>0</td>\n      <td>0</td>\n      <td>0</td>\n      <td>-1.31</td>\n      <td>0.44</td>\n      <td>1</td>\n    </tr>\n  </tbody>\n</table>\n</div>"
     },
     "execution_count": 81,
     "metadata": {},
     "output_type": "execute_result"
    }
   ],
   "source": [
    "\n",
    "compas_data = pd.read_csv(\"compas_data_cat_predictors.csv\")\n",
    "compas_data[:3]\n"
   ],
   "metadata": {
    "collapsed": false,
    "pycharm": {
     "name": "#%%\n"
    }
   }
  },
  {
   "cell_type": "code",
   "execution_count": 82,
   "outputs": [],
   "source": [
    "predictors = ['age_binary', 'sex_binary', 'race_C', 'juv_fel_count_C', 'decile_score_C',\n",
    "                  'juv_misd_count_C', 'juv_other_count_C', 'priors_count_C', 'days_b_screening_arrest_C', 'c_days_from_compas_C',\n",
    "                  'c_charge_degree_C', 'v_decile_score_C', 'start_C', 'end_C', 'event_C',\n",
    "                  'MarriageStatus_C', 'Violence_score', 'Recidivism_score']\n"
   ],
   "metadata": {
    "collapsed": false,
    "pycharm": {
     "name": "#%%\n"
    }
   }
  },
  {
   "cell_type": "code",
   "execution_count": 83,
   "outputs": [],
   "source": [
    "X = compas_data[predictors].copy()\n",
    "y = compas_data['is_recid'].copy()\n",
    "X_train, X_test, y_train, y_test = train_test_split(X, y, test_size=0.5, random_state=1)\n"
   ],
   "metadata": {
    "collapsed": false,
    "pycharm": {
     "name": "#%%\n"
    }
   }
  },
  {
   "cell_type": "code",
   "execution_count": 84,
   "outputs": [],
   "source": [
    "clf = DecisionTreeClassifier()\n",
    "clf = clf.fit(X_train, y_train)"
   ],
   "metadata": {
    "collapsed": false,
    "pycharm": {
     "name": "#%%\n"
    }
   }
  },
  {
   "cell_type": "code",
   "execution_count": 85,
   "outputs": [],
   "source": [
    "X_test_res = X_test.copy()\n",
    "\n"
   ],
   "metadata": {
    "collapsed": false,
    "pycharm": {
     "name": "#%%\n"
    }
   }
  },
  {
   "cell_type": "code",
   "execution_count": 86,
   "outputs": [],
   "source": [
    "X_test_res['act'] = y_test"
   ],
   "metadata": {
    "collapsed": false,
    "pycharm": {
     "name": "#%%\n"
    }
   }
  },
  {
   "cell_type": "code",
   "execution_count": 87,
   "outputs": [
    {
     "data": {
      "text/plain": "      age_binary  sex_binary  race_C  juv_fel_count_C  decile_score_C  \\\n1457           0           0       0                0               1   \n1380           0           1       0                0               0   \n2975           0           0       0                0               1   \n6704           0           0       0                0               1   \n4053           0           1       0                0               0   \n...          ...         ...     ...              ...             ...   \n251            0           0       0                0               0   \n3646           0           0       0                0               1   \n5594           0           0       1                0               0   \n1090           0           1       0                0               1   \n2016           1           0       1                0               0   \n\n      juv_misd_count_C  juv_other_count_C  priors_count_C  \\\n1457                 0                  0               0   \n1380                 0                  0               0   \n2975                 2                  0               2   \n6704                 0                  0               0   \n4053                 0                  0               0   \n...                ...                ...             ...   \n251                  0                  0               0   \n3646                 0                  0               1   \n5594                 0                  0               0   \n1090                 0                  0               1   \n2016                 0                  0               0   \n\n      days_b_screening_arrest_C  c_days_from_compas_C  c_charge_degree_C  \\\n1457                          1                     0                  0   \n1380                          1                     0                  0   \n2975                          1                     0                  0   \n6704                          0                     0                  0   \n4053                          0                     0                  1   \n...                         ...                   ...                ...   \n251                           0                     0                  0   \n3646                          0                     0                  0   \n5594                          1                     0                  1   \n1090                          0                     0                  0   \n2016                          0                     0                  1   \n\n      v_decile_score_C  start_C  end_C  event_C  MarriageStatus_C  \\\n1457                 0        0      0        1                 0   \n1380                 0        0      0        1                 0   \n2975                 1        0      0        1                 0   \n6704                 0        0      2        0                 0   \n4053                 0        0      1        0                 0   \n...                ...      ...    ...      ...               ...   \n251                  0        0      1        0                 0   \n3646                 0        0      0        1                 0   \n5594                 0        0      1        1                 0   \n1090                 1        0      0        0                 0   \n2016                 0        0      2        0                 0   \n\n      Violence_score  Recidivism_score  act  \n1457           -1.22              0.15    1  \n1380           -2.26             -0.59    1  \n2975           -2.03             -0.13    1  \n6704           -1.96             -0.18    0  \n4053           -2.02             -0.77    1  \n...              ...               ...  ...  \n251            -2.18             -0.69    0  \n3646           -1.74              0.49    1  \n5594           -1.82             -0.72    1  \n1090           -1.07              0.21    0  \n2016           -3.63             -1.41    0  \n\n[3445 rows x 19 columns]",
      "text/html": "<div>\n<style scoped>\n    .dataframe tbody tr th:only-of-type {\n        vertical-align: middle;\n    }\n\n    .dataframe tbody tr th {\n        vertical-align: top;\n    }\n\n    .dataframe thead th {\n        text-align: right;\n    }\n</style>\n<table border=\"1\" class=\"dataframe\">\n  <thead>\n    <tr style=\"text-align: right;\">\n      <th></th>\n      <th>age_binary</th>\n      <th>sex_binary</th>\n      <th>race_C</th>\n      <th>juv_fel_count_C</th>\n      <th>decile_score_C</th>\n      <th>juv_misd_count_C</th>\n      <th>juv_other_count_C</th>\n      <th>priors_count_C</th>\n      <th>days_b_screening_arrest_C</th>\n      <th>c_days_from_compas_C</th>\n      <th>c_charge_degree_C</th>\n      <th>v_decile_score_C</th>\n      <th>start_C</th>\n      <th>end_C</th>\n      <th>event_C</th>\n      <th>MarriageStatus_C</th>\n      <th>Violence_score</th>\n      <th>Recidivism_score</th>\n      <th>act</th>\n    </tr>\n  </thead>\n  <tbody>\n    <tr>\n      <th>1457</th>\n      <td>0</td>\n      <td>0</td>\n      <td>0</td>\n      <td>0</td>\n      <td>1</td>\n      <td>0</td>\n      <td>0</td>\n      <td>0</td>\n      <td>1</td>\n      <td>0</td>\n      <td>0</td>\n      <td>0</td>\n      <td>0</td>\n      <td>0</td>\n      <td>1</td>\n      <td>0</td>\n      <td>-1.22</td>\n      <td>0.15</td>\n      <td>1</td>\n    </tr>\n    <tr>\n      <th>1380</th>\n      <td>0</td>\n      <td>1</td>\n      <td>0</td>\n      <td>0</td>\n      <td>0</td>\n      <td>0</td>\n      <td>0</td>\n      <td>0</td>\n      <td>1</td>\n      <td>0</td>\n      <td>0</td>\n      <td>0</td>\n      <td>0</td>\n      <td>0</td>\n      <td>1</td>\n      <td>0</td>\n      <td>-2.26</td>\n      <td>-0.59</td>\n      <td>1</td>\n    </tr>\n    <tr>\n      <th>2975</th>\n      <td>0</td>\n      <td>0</td>\n      <td>0</td>\n      <td>0</td>\n      <td>1</td>\n      <td>2</td>\n      <td>0</td>\n      <td>2</td>\n      <td>1</td>\n      <td>0</td>\n      <td>0</td>\n      <td>1</td>\n      <td>0</td>\n      <td>0</td>\n      <td>1</td>\n      <td>0</td>\n      <td>-2.03</td>\n      <td>-0.13</td>\n      <td>1</td>\n    </tr>\n    <tr>\n      <th>6704</th>\n      <td>0</td>\n      <td>0</td>\n      <td>0</td>\n      <td>0</td>\n      <td>1</td>\n      <td>0</td>\n      <td>0</td>\n      <td>0</td>\n      <td>0</td>\n      <td>0</td>\n      <td>0</td>\n      <td>0</td>\n      <td>0</td>\n      <td>2</td>\n      <td>0</td>\n      <td>0</td>\n      <td>-1.96</td>\n      <td>-0.18</td>\n      <td>0</td>\n    </tr>\n    <tr>\n      <th>4053</th>\n      <td>0</td>\n      <td>1</td>\n      <td>0</td>\n      <td>0</td>\n      <td>0</td>\n      <td>0</td>\n      <td>0</td>\n      <td>0</td>\n      <td>0</td>\n      <td>0</td>\n      <td>1</td>\n      <td>0</td>\n      <td>0</td>\n      <td>1</td>\n      <td>0</td>\n      <td>0</td>\n      <td>-2.02</td>\n      <td>-0.77</td>\n      <td>1</td>\n    </tr>\n    <tr>\n      <th>...</th>\n      <td>...</td>\n      <td>...</td>\n      <td>...</td>\n      <td>...</td>\n      <td>...</td>\n      <td>...</td>\n      <td>...</td>\n      <td>...</td>\n      <td>...</td>\n      <td>...</td>\n      <td>...</td>\n      <td>...</td>\n      <td>...</td>\n      <td>...</td>\n      <td>...</td>\n      <td>...</td>\n      <td>...</td>\n      <td>...</td>\n      <td>...</td>\n    </tr>\n    <tr>\n      <th>251</th>\n      <td>0</td>\n      <td>0</td>\n      <td>0</td>\n      <td>0</td>\n      <td>0</td>\n      <td>0</td>\n      <td>0</td>\n      <td>0</td>\n      <td>0</td>\n      <td>0</td>\n      <td>0</td>\n      <td>0</td>\n      <td>0</td>\n      <td>1</td>\n      <td>0</td>\n      <td>0</td>\n      <td>-2.18</td>\n      <td>-0.69</td>\n      <td>0</td>\n    </tr>\n    <tr>\n      <th>3646</th>\n      <td>0</td>\n      <td>0</td>\n      <td>0</td>\n      <td>0</td>\n      <td>1</td>\n      <td>0</td>\n      <td>0</td>\n      <td>1</td>\n      <td>0</td>\n      <td>0</td>\n      <td>0</td>\n      <td>0</td>\n      <td>0</td>\n      <td>0</td>\n      <td>1</td>\n      <td>0</td>\n      <td>-1.74</td>\n      <td>0.49</td>\n      <td>1</td>\n    </tr>\n    <tr>\n      <th>5594</th>\n      <td>0</td>\n      <td>0</td>\n      <td>1</td>\n      <td>0</td>\n      <td>0</td>\n      <td>0</td>\n      <td>0</td>\n      <td>0</td>\n      <td>1</td>\n      <td>0</td>\n      <td>1</td>\n      <td>0</td>\n      <td>0</td>\n      <td>1</td>\n      <td>1</td>\n      <td>0</td>\n      <td>-1.82</td>\n      <td>-0.72</td>\n      <td>1</td>\n    </tr>\n    <tr>\n      <th>1090</th>\n      <td>0</td>\n      <td>1</td>\n      <td>0</td>\n      <td>0</td>\n      <td>1</td>\n      <td>0</td>\n      <td>0</td>\n      <td>1</td>\n      <td>0</td>\n      <td>0</td>\n      <td>0</td>\n      <td>1</td>\n      <td>0</td>\n      <td>0</td>\n      <td>0</td>\n      <td>0</td>\n      <td>-1.07</td>\n      <td>0.21</td>\n      <td>0</td>\n    </tr>\n    <tr>\n      <th>2016</th>\n      <td>1</td>\n      <td>0</td>\n      <td>1</td>\n      <td>0</td>\n      <td>0</td>\n      <td>0</td>\n      <td>0</td>\n      <td>0</td>\n      <td>0</td>\n      <td>0</td>\n      <td>1</td>\n      <td>0</td>\n      <td>0</td>\n      <td>2</td>\n      <td>0</td>\n      <td>0</td>\n      <td>-3.63</td>\n      <td>-1.41</td>\n      <td>0</td>\n    </tr>\n  </tbody>\n</table>\n<p>3445 rows × 19 columns</p>\n</div>"
     },
     "execution_count": 87,
     "metadata": {},
     "output_type": "execute_result"
    }
   ],
   "source": [
    "X_test_res"
   ],
   "metadata": {
    "collapsed": false,
    "pycharm": {
     "name": "#%%\n"
    }
   }
  },
  {
   "cell_type": "code",
   "execution_count": 88,
   "outputs": [],
   "source": [
    "X_test_res['pred'] = X_test.apply(lambda x: clf.predict([x.to_list()]), axis=1)"
   ],
   "metadata": {
    "collapsed": false,
    "pycharm": {
     "name": "#%%\n"
    }
   }
  },
  {
   "cell_type": "code",
   "execution_count": 89,
   "outputs": [
    {
     "name": "stdout",
     "output_type": "stream",
     "text": [
      "      age_binary  sex_binary  race_C  juv_fel_count_C  decile_score_C  \\\n",
      "1457           0           0       0                0               1   \n",
      "1380           0           1       0                0               0   \n",
      "2975           0           0       0                0               1   \n",
      "\n",
      "      juv_misd_count_C  juv_other_count_C  priors_count_C  \\\n",
      "1457                 0                  0               0   \n",
      "1380                 0                  0               0   \n",
      "2975                 2                  0               2   \n",
      "\n",
      "      days_b_screening_arrest_C  c_days_from_compas_C  c_charge_degree_C  \\\n",
      "1457                          1                     0                  0   \n",
      "1380                          1                     0                  0   \n",
      "2975                          1                     0                  0   \n",
      "\n",
      "      v_decile_score_C  start_C  end_C  event_C  MarriageStatus_C  \\\n",
      "1457                 0        0      0        1                 0   \n",
      "1380                 0        0      0        1                 0   \n",
      "2975                 1        0      0        1                 0   \n",
      "\n",
      "      Violence_score  Recidivism_score  act pred  \n",
      "1457           -1.22              0.15    1  [1]  \n",
      "1380           -2.26             -0.59    1  [1]  \n",
      "2975           -2.03             -0.13    1  [1]  \n"
     ]
    }
   ],
   "source": [
    "print(X_test_res[:3])"
   ],
   "metadata": {
    "collapsed": false,
    "pycharm": {
     "name": "#%%\n"
    }
   }
  },
  {
   "cell_type": "code",
   "execution_count": 90,
   "outputs": [],
   "source": [
    "X_test_res.to_csv(r\"compas_data_cat_predictors_testdata.csv\", index=False)"
   ],
   "metadata": {
    "collapsed": false,
    "pycharm": {
     "name": "#%%\n"
    }
   }
  },
  {
   "cell_type": "code",
   "execution_count": 91,
   "outputs": [],
   "source": [
    "mis_class=X_test_res.loc[X_test_res['act']!=X_test_res['pred']]"
   ],
   "metadata": {
    "collapsed": false,
    "pycharm": {
     "name": "#%%\n"
    }
   }
  },
  {
   "cell_type": "code",
   "execution_count": 92,
   "outputs": [
    {
     "data": {
      "text/plain": "       age_binary  sex_binary      race_C  juv_fel_count_C  decile_score_C  \\\ncount  326.000000  326.000000  326.000000       326.000000      326.000000   \nmean     0.331288    0.156442    0.628834         0.003067        0.441718   \nstd      0.471400    0.363832    0.752614         0.055385        0.497355   \nmin      0.000000    0.000000    0.000000         0.000000        0.000000   \n25%      0.000000    0.000000    0.000000         0.000000        0.000000   \n50%      0.000000    0.000000    0.000000         0.000000        0.000000   \n75%      1.000000    0.000000    1.000000         0.000000        1.000000   \nmax      1.000000    1.000000    2.000000         1.000000        1.000000   \n\n       juv_misd_count_C  juv_other_count_C  priors_count_C  \\\ncount             326.0              326.0      326.000000   \nmean                0.0                0.0        0.153374   \nstd                 0.0                0.0        0.451770   \nmin                 0.0                0.0        0.000000   \n25%                 0.0                0.0        0.000000   \n50%                 0.0                0.0        0.000000   \n75%                 0.0                0.0        0.000000   \nmax                 0.0                0.0        3.000000   \n\n       days_b_screening_arrest_C  c_days_from_compas_C  c_charge_degree_C  \\\ncount                 326.000000            326.000000         326.000000   \nmean                    0.383436              0.018405           0.334356   \nstd                     0.546515              0.191268           0.472490   \nmin                     0.000000              0.000000           0.000000   \n25%                     0.000000              0.000000           0.000000   \n50%                     0.000000              0.000000           0.000000   \n75%                     1.000000              0.000000           1.000000   \nmax                     2.000000              2.000000           1.000000   \n\n       v_decile_score_C     start_C       end_C  event_C  MarriageStatus_C  \\\ncount        326.000000  326.000000  326.000000    326.0        326.000000   \nmean           0.282209    0.003067    0.352761      0.0          0.444785   \nstd            0.450766    0.055385    0.550336      0.0          1.277625   \nmin            0.000000    0.000000    0.000000      0.0          0.000000   \n25%            0.000000    0.000000    0.000000      0.0          0.000000   \n50%            0.000000    0.000000    0.000000      0.0          0.000000   \n75%            1.000000    0.000000    1.000000      0.0          0.000000   \nmax            1.000000    1.000000    2.000000      0.0          6.000000   \n\n       Violence_score  Recidivism_score         act  \ncount      326.000000        326.000000  326.000000  \nmean        -2.220767         -0.471871    0.484663  \nstd          0.776087          0.731811    0.500533  \nmin         -4.420000         -2.830000    0.000000  \n25%         -2.737500         -0.940000    0.000000  \n50%         -2.175000         -0.395000    0.000000  \n75%         -1.642500          0.035000    1.000000  \nmax         -0.550000          1.140000    1.000000  ",
      "text/html": "<div>\n<style scoped>\n    .dataframe tbody tr th:only-of-type {\n        vertical-align: middle;\n    }\n\n    .dataframe tbody tr th {\n        vertical-align: top;\n    }\n\n    .dataframe thead th {\n        text-align: right;\n    }\n</style>\n<table border=\"1\" class=\"dataframe\">\n  <thead>\n    <tr style=\"text-align: right;\">\n      <th></th>\n      <th>age_binary</th>\n      <th>sex_binary</th>\n      <th>race_C</th>\n      <th>juv_fel_count_C</th>\n      <th>decile_score_C</th>\n      <th>juv_misd_count_C</th>\n      <th>juv_other_count_C</th>\n      <th>priors_count_C</th>\n      <th>days_b_screening_arrest_C</th>\n      <th>c_days_from_compas_C</th>\n      <th>c_charge_degree_C</th>\n      <th>v_decile_score_C</th>\n      <th>start_C</th>\n      <th>end_C</th>\n      <th>event_C</th>\n      <th>MarriageStatus_C</th>\n      <th>Violence_score</th>\n      <th>Recidivism_score</th>\n      <th>act</th>\n    </tr>\n  </thead>\n  <tbody>\n    <tr>\n      <th>count</th>\n      <td>326.000000</td>\n      <td>326.000000</td>\n      <td>326.000000</td>\n      <td>326.000000</td>\n      <td>326.000000</td>\n      <td>326.0</td>\n      <td>326.0</td>\n      <td>326.000000</td>\n      <td>326.000000</td>\n      <td>326.000000</td>\n      <td>326.000000</td>\n      <td>326.000000</td>\n      <td>326.000000</td>\n      <td>326.000000</td>\n      <td>326.0</td>\n      <td>326.000000</td>\n      <td>326.000000</td>\n      <td>326.000000</td>\n      <td>326.000000</td>\n    </tr>\n    <tr>\n      <th>mean</th>\n      <td>0.331288</td>\n      <td>0.156442</td>\n      <td>0.628834</td>\n      <td>0.003067</td>\n      <td>0.441718</td>\n      <td>0.0</td>\n      <td>0.0</td>\n      <td>0.153374</td>\n      <td>0.383436</td>\n      <td>0.018405</td>\n      <td>0.334356</td>\n      <td>0.282209</td>\n      <td>0.003067</td>\n      <td>0.352761</td>\n      <td>0.0</td>\n      <td>0.444785</td>\n      <td>-2.220767</td>\n      <td>-0.471871</td>\n      <td>0.484663</td>\n    </tr>\n    <tr>\n      <th>std</th>\n      <td>0.471400</td>\n      <td>0.363832</td>\n      <td>0.752614</td>\n      <td>0.055385</td>\n      <td>0.497355</td>\n      <td>0.0</td>\n      <td>0.0</td>\n      <td>0.451770</td>\n      <td>0.546515</td>\n      <td>0.191268</td>\n      <td>0.472490</td>\n      <td>0.450766</td>\n      <td>0.055385</td>\n      <td>0.550336</td>\n      <td>0.0</td>\n      <td>1.277625</td>\n      <td>0.776087</td>\n      <td>0.731811</td>\n      <td>0.500533</td>\n    </tr>\n    <tr>\n      <th>min</th>\n      <td>0.000000</td>\n      <td>0.000000</td>\n      <td>0.000000</td>\n      <td>0.000000</td>\n      <td>0.000000</td>\n      <td>0.0</td>\n      <td>0.0</td>\n      <td>0.000000</td>\n      <td>0.000000</td>\n      <td>0.000000</td>\n      <td>0.000000</td>\n      <td>0.000000</td>\n      <td>0.000000</td>\n      <td>0.000000</td>\n      <td>0.0</td>\n      <td>0.000000</td>\n      <td>-4.420000</td>\n      <td>-2.830000</td>\n      <td>0.000000</td>\n    </tr>\n    <tr>\n      <th>25%</th>\n      <td>0.000000</td>\n      <td>0.000000</td>\n      <td>0.000000</td>\n      <td>0.000000</td>\n      <td>0.000000</td>\n      <td>0.0</td>\n      <td>0.0</td>\n      <td>0.000000</td>\n      <td>0.000000</td>\n      <td>0.000000</td>\n      <td>0.000000</td>\n      <td>0.000000</td>\n      <td>0.000000</td>\n      <td>0.000000</td>\n      <td>0.0</td>\n      <td>0.000000</td>\n      <td>-2.737500</td>\n      <td>-0.940000</td>\n      <td>0.000000</td>\n    </tr>\n    <tr>\n      <th>50%</th>\n      <td>0.000000</td>\n      <td>0.000000</td>\n      <td>0.000000</td>\n      <td>0.000000</td>\n      <td>0.000000</td>\n      <td>0.0</td>\n      <td>0.0</td>\n      <td>0.000000</td>\n      <td>0.000000</td>\n      <td>0.000000</td>\n      <td>0.000000</td>\n      <td>0.000000</td>\n      <td>0.000000</td>\n      <td>0.000000</td>\n      <td>0.0</td>\n      <td>0.000000</td>\n      <td>-2.175000</td>\n      <td>-0.395000</td>\n      <td>0.000000</td>\n    </tr>\n    <tr>\n      <th>75%</th>\n      <td>1.000000</td>\n      <td>0.000000</td>\n      <td>1.000000</td>\n      <td>0.000000</td>\n      <td>1.000000</td>\n      <td>0.0</td>\n      <td>0.0</td>\n      <td>0.000000</td>\n      <td>1.000000</td>\n      <td>0.000000</td>\n      <td>1.000000</td>\n      <td>1.000000</td>\n      <td>0.000000</td>\n      <td>1.000000</td>\n      <td>0.0</td>\n      <td>0.000000</td>\n      <td>-1.642500</td>\n      <td>0.035000</td>\n      <td>1.000000</td>\n    </tr>\n    <tr>\n      <th>max</th>\n      <td>1.000000</td>\n      <td>1.000000</td>\n      <td>2.000000</td>\n      <td>1.000000</td>\n      <td>1.000000</td>\n      <td>0.0</td>\n      <td>0.0</td>\n      <td>3.000000</td>\n      <td>2.000000</td>\n      <td>2.000000</td>\n      <td>1.000000</td>\n      <td>1.000000</td>\n      <td>1.000000</td>\n      <td>2.000000</td>\n      <td>0.0</td>\n      <td>6.000000</td>\n      <td>-0.550000</td>\n      <td>1.140000</td>\n      <td>1.000000</td>\n    </tr>\n  </tbody>\n</table>\n</div>"
     },
     "execution_count": 92,
     "metadata": {},
     "output_type": "execute_result"
    }
   ],
   "source": [
    "mis_class.describe()"
   ],
   "metadata": {
    "collapsed": false,
    "pycharm": {
     "name": "#%%\n"
    }
   }
  },
  {
   "cell_type": "code",
   "execution_count": 93,
   "outputs": [
    {
     "data": {
      "text/plain": "326"
     },
     "execution_count": 93,
     "metadata": {},
     "output_type": "execute_result"
    }
   ],
   "source": [
    "len(mis_class)"
   ],
   "metadata": {
    "collapsed": false,
    "pycharm": {
     "name": "#%%\n"
    }
   }
  },
  {
   "cell_type": "code",
   "execution_count": 94,
   "outputs": [
    {
     "name": "stdout",
     "output_type": "stream",
     "text": [
      "accuracy = 0.9053701015965167\n"
     ]
    }
   ],
   "source": [
    "print(\"accuracy = {}\".format(1 - len(mis_class) / len(X_test_res)))"
   ],
   "metadata": {
    "collapsed": false,
    "pycharm": {
     "name": "#%%\n"
    }
   }
  },
  {
   "cell_type": "code",
   "execution_count": 95,
   "outputs": [],
   "source": [
    "mis_class.to_csv(r\"compas_data_cat_predictors_mis.csv\", index=False)\n"
   ],
   "metadata": {
    "collapsed": false,
    "pycharm": {
     "name": "#%%\n"
    }
   }
  },
  {
   "cell_type": "code",
   "execution_count": null,
   "outputs": [],
   "source": [],
   "metadata": {
    "collapsed": false,
    "pycharm": {
     "name": "#%%\n"
    }
   }
  }
 ],
 "metadata": {
  "kernelspec": {
   "display_name": "Python 3",
   "language": "python",
   "name": "python3"
  },
  "language_info": {
   "codemirror_mode": {
    "name": "ipython",
    "version": 2
   },
   "file_extension": ".py",
   "mimetype": "text/x-python",
   "name": "python",
   "nbconvert_exporter": "python",
   "pygments_lexer": "ipython2",
   "version": "2.7.6"
  }
 },
 "nbformat": 4,
 "nbformat_minor": 0
}