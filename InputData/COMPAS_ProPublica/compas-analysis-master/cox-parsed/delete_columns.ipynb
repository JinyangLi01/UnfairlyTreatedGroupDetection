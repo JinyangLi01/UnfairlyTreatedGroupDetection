{
 "cells": [
  {
   "cell_type": "code",
   "execution_count": 13,
   "metadata": {
    "collapsed": true
   },
   "outputs": [],
   "source": [
    "import pandas as pd\n"
   ]
  },
  {
   "cell_type": "code",
   "execution_count": 14,
   "outputs": [
    {
     "data": {
      "text/plain": "   id              name   first       last compas_screening_date  sex  \\\n0   1  miguel hernandez  miguel  hernandez            2013-08-14    0   \n1   3       kevon dixon   kevon      dixon            2013-01-27    0   \n2   4          ed philo      ed      philo            2013-04-14    0   \n3   5       marcu brown   marcu      brown            2013-01-13    0   \n\n          dob  age  age_cat  race  ...  v_type_of_assessment  v_decile_score  \\\n0  1947-04-18   69        2     5  ...      Risk of Violence               1   \n1  1982-01-22   34        1     0  ...      Risk of Violence               1   \n2  1991-05-14   24        0     0  ...      Risk of Violence               3   \n3  1993-01-21   23        0     0  ...      Risk of Violence               6   \n\n   v_score_text  v_screening_date  in_custody  out_custody priors_count.1  \\\n0           Low        2013-08-14  2014-07-07   2014-07-14              0   \n1           Low        2013-01-27  2013-01-26   2013-02-05              0   \n2           Low        2013-04-14  2013-06-16   2013-06-16              4   \n3        Medium        2013-01-13         NaN          NaN              1   \n\n  start   end event  \n0     0   327     0  \n1     9   159     1  \n2     0    63     0  \n3     0  1174     0  \n\n[4 rows x 52 columns]",
      "text/html": "<div>\n<style scoped>\n    .dataframe tbody tr th:only-of-type {\n        vertical-align: middle;\n    }\n\n    .dataframe tbody tr th {\n        vertical-align: top;\n    }\n\n    .dataframe thead th {\n        text-align: right;\n    }\n</style>\n<table border=\"1\" class=\"dataframe\">\n  <thead>\n    <tr style=\"text-align: right;\">\n      <th></th>\n      <th>id</th>\n      <th>name</th>\n      <th>first</th>\n      <th>last</th>\n      <th>compas_screening_date</th>\n      <th>sex</th>\n      <th>dob</th>\n      <th>age</th>\n      <th>age_cat</th>\n      <th>race</th>\n      <th>...</th>\n      <th>v_type_of_assessment</th>\n      <th>v_decile_score</th>\n      <th>v_score_text</th>\n      <th>v_screening_date</th>\n      <th>in_custody</th>\n      <th>out_custody</th>\n      <th>priors_count.1</th>\n      <th>start</th>\n      <th>end</th>\n      <th>event</th>\n    </tr>\n  </thead>\n  <tbody>\n    <tr>\n      <th>0</th>\n      <td>1</td>\n      <td>miguel hernandez</td>\n      <td>miguel</td>\n      <td>hernandez</td>\n      <td>2013-08-14</td>\n      <td>0</td>\n      <td>1947-04-18</td>\n      <td>69</td>\n      <td>2</td>\n      <td>5</td>\n      <td>...</td>\n      <td>Risk of Violence</td>\n      <td>1</td>\n      <td>Low</td>\n      <td>2013-08-14</td>\n      <td>2014-07-07</td>\n      <td>2014-07-14</td>\n      <td>0</td>\n      <td>0</td>\n      <td>327</td>\n      <td>0</td>\n    </tr>\n    <tr>\n      <th>1</th>\n      <td>3</td>\n      <td>kevon dixon</td>\n      <td>kevon</td>\n      <td>dixon</td>\n      <td>2013-01-27</td>\n      <td>0</td>\n      <td>1982-01-22</td>\n      <td>34</td>\n      <td>1</td>\n      <td>0</td>\n      <td>...</td>\n      <td>Risk of Violence</td>\n      <td>1</td>\n      <td>Low</td>\n      <td>2013-01-27</td>\n      <td>2013-01-26</td>\n      <td>2013-02-05</td>\n      <td>0</td>\n      <td>9</td>\n      <td>159</td>\n      <td>1</td>\n    </tr>\n    <tr>\n      <th>2</th>\n      <td>4</td>\n      <td>ed philo</td>\n      <td>ed</td>\n      <td>philo</td>\n      <td>2013-04-14</td>\n      <td>0</td>\n      <td>1991-05-14</td>\n      <td>24</td>\n      <td>0</td>\n      <td>0</td>\n      <td>...</td>\n      <td>Risk of Violence</td>\n      <td>3</td>\n      <td>Low</td>\n      <td>2013-04-14</td>\n      <td>2013-06-16</td>\n      <td>2013-06-16</td>\n      <td>4</td>\n      <td>0</td>\n      <td>63</td>\n      <td>0</td>\n    </tr>\n    <tr>\n      <th>3</th>\n      <td>5</td>\n      <td>marcu brown</td>\n      <td>marcu</td>\n      <td>brown</td>\n      <td>2013-01-13</td>\n      <td>0</td>\n      <td>1993-01-21</td>\n      <td>23</td>\n      <td>0</td>\n      <td>0</td>\n      <td>...</td>\n      <td>Risk of Violence</td>\n      <td>6</td>\n      <td>Medium</td>\n      <td>2013-01-13</td>\n      <td>NaN</td>\n      <td>NaN</td>\n      <td>1</td>\n      <td>0</td>\n      <td>1174</td>\n      <td>0</td>\n    </tr>\n  </tbody>\n</table>\n<p>4 rows × 52 columns</p>\n</div>"
     },
     "execution_count": 14,
     "metadata": {},
     "output_type": "execute_result"
    }
   ],
   "source": [
    "data = pd.read_csv(\"cox-parsed_7214rows_cat.csv\")\n",
    "data[:4]"
   ],
   "metadata": {
    "collapsed": false,
    "pycharm": {
     "name": "#%%\n"
    }
   }
  },
  {
   "cell_type": "code",
   "execution_count": 15,
   "outputs": [
    {
     "data": {
      "text/plain": "Index(['id', 'name', 'first', 'last', 'compas_screening_date', 'sex', 'dob',\n       'age', 'age_cat', 'race', 'juv_fel_count', 'decile_score',\n       'juv_misd_count', 'juv_other_count', 'priors_count',\n       'days_b_screening_arrest', 'c_jail_in', 'c_jail_out', 'c_case_number',\n       'c_offense_date', 'c_arrest_date', 'c_days_from_compas',\n       'c_charge_degree', 'c_charge_desc', 'is_recid', 'r_case_number',\n       'r_charge_degree', 'r_days_from_arrest', 'r_offense_date',\n       'r_charge_desc', 'r_jail_in', 'r_jail_out', 'violent_recid',\n       'is_violent_recid', 'vr_case_number', 'vr_charge_degree',\n       'vr_offense_date', 'vr_charge_desc', 'type_of_assessment',\n       'decile_score.1', 'score_text', 'screening_date',\n       'v_type_of_assessment', 'v_decile_score', 'v_score_text',\n       'v_screening_date', 'in_custody', 'out_custody', 'priors_count.1',\n       'start', 'end', 'event'],\n      dtype='object')"
     },
     "execution_count": 15,
     "metadata": {},
     "output_type": "execute_result"
    }
   ],
   "source": [
    "data.columns\n"
   ],
   "metadata": {
    "collapsed": false,
    "pycharm": {
     "name": "#%%\n"
    }
   }
  },
  {
   "cell_type": "code",
   "execution_count": 16,
   "outputs": [],
   "source": [
    "data2 = data.drop(\"id\", axis=1)\n"
   ],
   "metadata": {
    "collapsed": false,
    "pycharm": {
     "name": "#%%\n"
    }
   }
  },
  {
   "cell_type": "code",
   "execution_count": 17,
   "outputs": [],
   "source": [
    "data2 = data2.drop(\"name\", axis=1)\n",
    "data2 = data2.drop(\"first\", axis=1)\n",
    "data2 = data2.drop(\"last\", axis=1)\n",
    "data2 = data2.drop(\"age\", axis=1)\n",
    "data2 = data2.drop(\"dob\", axis=1)"
   ],
   "metadata": {
    "collapsed": false,
    "pycharm": {
     "name": "#%%\n"
    }
   }
  },
  {
   "cell_type": "code",
   "execution_count": 18,
   "outputs": [
    {
     "data": {
      "text/plain": "  compas_screening_date  sex  age_cat  race  juv_fel_count  decile_score  \\\n0            2013-08-14    0        2     5              0             1   \n1            2013-01-27    0        1     0              0             3   \n2            2013-04-14    0        0     0              0             4   \n3            2013-01-13    0        0     0              0             8   \n\n   juv_misd_count  juv_other_count  priors_count  days_b_screening_arrest  \\\n0               0                0             0                     -1.0   \n1               0                0             0                     -1.0   \n2               0                1             4                     -1.0   \n3               1                0             1                      NaN   \n\n   ... v_type_of_assessment v_decile_score v_score_text v_screening_date  \\\n0  ...     Risk of Violence              1          Low       2013-08-14   \n1  ...     Risk of Violence              1          Low       2013-01-27   \n2  ...     Risk of Violence              3          Low       2013-04-14   \n3  ...     Risk of Violence              6       Medium       2013-01-13   \n\n   in_custody  out_custody priors_count.1 start   end event  \n0  2014-07-07   2014-07-14              0     0   327     0  \n1  2013-01-26   2013-02-05              0     9   159     1  \n2  2013-06-16   2013-06-16              4     0    63     0  \n3         NaN          NaN              1     0  1174     0  \n\n[4 rows x 46 columns]",
      "text/html": "<div>\n<style scoped>\n    .dataframe tbody tr th:only-of-type {\n        vertical-align: middle;\n    }\n\n    .dataframe tbody tr th {\n        vertical-align: top;\n    }\n\n    .dataframe thead th {\n        text-align: right;\n    }\n</style>\n<table border=\"1\" class=\"dataframe\">\n  <thead>\n    <tr style=\"text-align: right;\">\n      <th></th>\n      <th>compas_screening_date</th>\n      <th>sex</th>\n      <th>age_cat</th>\n      <th>race</th>\n      <th>juv_fel_count</th>\n      <th>decile_score</th>\n      <th>juv_misd_count</th>\n      <th>juv_other_count</th>\n      <th>priors_count</th>\n      <th>days_b_screening_arrest</th>\n      <th>...</th>\n      <th>v_type_of_assessment</th>\n      <th>v_decile_score</th>\n      <th>v_score_text</th>\n      <th>v_screening_date</th>\n      <th>in_custody</th>\n      <th>out_custody</th>\n      <th>priors_count.1</th>\n      <th>start</th>\n      <th>end</th>\n      <th>event</th>\n    </tr>\n  </thead>\n  <tbody>\n    <tr>\n      <th>0</th>\n      <td>2013-08-14</td>\n      <td>0</td>\n      <td>2</td>\n      <td>5</td>\n      <td>0</td>\n      <td>1</td>\n      <td>0</td>\n      <td>0</td>\n      <td>0</td>\n      <td>-1.0</td>\n      <td>...</td>\n      <td>Risk of Violence</td>\n      <td>1</td>\n      <td>Low</td>\n      <td>2013-08-14</td>\n      <td>2014-07-07</td>\n      <td>2014-07-14</td>\n      <td>0</td>\n      <td>0</td>\n      <td>327</td>\n      <td>0</td>\n    </tr>\n    <tr>\n      <th>1</th>\n      <td>2013-01-27</td>\n      <td>0</td>\n      <td>1</td>\n      <td>0</td>\n      <td>0</td>\n      <td>3</td>\n      <td>0</td>\n      <td>0</td>\n      <td>0</td>\n      <td>-1.0</td>\n      <td>...</td>\n      <td>Risk of Violence</td>\n      <td>1</td>\n      <td>Low</td>\n      <td>2013-01-27</td>\n      <td>2013-01-26</td>\n      <td>2013-02-05</td>\n      <td>0</td>\n      <td>9</td>\n      <td>159</td>\n      <td>1</td>\n    </tr>\n    <tr>\n      <th>2</th>\n      <td>2013-04-14</td>\n      <td>0</td>\n      <td>0</td>\n      <td>0</td>\n      <td>0</td>\n      <td>4</td>\n      <td>0</td>\n      <td>1</td>\n      <td>4</td>\n      <td>-1.0</td>\n      <td>...</td>\n      <td>Risk of Violence</td>\n      <td>3</td>\n      <td>Low</td>\n      <td>2013-04-14</td>\n      <td>2013-06-16</td>\n      <td>2013-06-16</td>\n      <td>4</td>\n      <td>0</td>\n      <td>63</td>\n      <td>0</td>\n    </tr>\n    <tr>\n      <th>3</th>\n      <td>2013-01-13</td>\n      <td>0</td>\n      <td>0</td>\n      <td>0</td>\n      <td>0</td>\n      <td>8</td>\n      <td>1</td>\n      <td>0</td>\n      <td>1</td>\n      <td>NaN</td>\n      <td>...</td>\n      <td>Risk of Violence</td>\n      <td>6</td>\n      <td>Medium</td>\n      <td>2013-01-13</td>\n      <td>NaN</td>\n      <td>NaN</td>\n      <td>1</td>\n      <td>0</td>\n      <td>1174</td>\n      <td>0</td>\n    </tr>\n  </tbody>\n</table>\n<p>4 rows × 46 columns</p>\n</div>"
     },
     "execution_count": 18,
     "metadata": {},
     "output_type": "execute_result"
    }
   ],
   "source": [
    "data2[:4]"
   ],
   "metadata": {
    "collapsed": false,
    "pycharm": {
     "name": "#%%\n"
    }
   }
  },
  {
   "cell_type": "code",
   "execution_count": 10,
   "outputs": [],
   "source": [
    "data2 = data2.rename(columns={'age_cat': 'age'})\n"
   ],
   "metadata": {
    "collapsed": false,
    "pycharm": {
     "name": "#%%\n"
    }
   }
  },
  {
   "cell_type": "code",
   "execution_count": 11,
   "outputs": [
    {
     "data": {
      "text/plain": "  compas_screening_date  sex  age  race  juv_fel_count  decile_score  \\\n0            2013-08-14    0    2     5              0             1   \n1            2013-01-27    0    1     0              0             3   \n2            2013-04-14    0    0     0              0             4   \n\n   juv_misd_count  juv_other_count  priors_count  days_b_screening_arrest  \\\n0               0                0             0                     -1.0   \n1               0                0             0                     -1.0   \n2               0                1             4                     -1.0   \n\n   ... v_type_of_assessment v_decile_score v_score_text v_screening_date  \\\n0  ...     Risk of Violence              1          Low       2013-08-14   \n1  ...     Risk of Violence              1          Low       2013-01-27   \n2  ...     Risk of Violence              3          Low       2013-04-14   \n\n   in_custody  out_custody priors_count.1 start  end event  \n0  2014-07-07   2014-07-14              0     0  327     0  \n1  2013-01-26   2013-02-05              0     9  159     1  \n2  2013-06-16   2013-06-16              4     0   63     0  \n\n[3 rows x 46 columns]",
      "text/html": "<div>\n<style scoped>\n    .dataframe tbody tr th:only-of-type {\n        vertical-align: middle;\n    }\n\n    .dataframe tbody tr th {\n        vertical-align: top;\n    }\n\n    .dataframe thead th {\n        text-align: right;\n    }\n</style>\n<table border=\"1\" class=\"dataframe\">\n  <thead>\n    <tr style=\"text-align: right;\">\n      <th></th>\n      <th>compas_screening_date</th>\n      <th>sex</th>\n      <th>age</th>\n      <th>race</th>\n      <th>juv_fel_count</th>\n      <th>decile_score</th>\n      <th>juv_misd_count</th>\n      <th>juv_other_count</th>\n      <th>priors_count</th>\n      <th>days_b_screening_arrest</th>\n      <th>...</th>\n      <th>v_type_of_assessment</th>\n      <th>v_decile_score</th>\n      <th>v_score_text</th>\n      <th>v_screening_date</th>\n      <th>in_custody</th>\n      <th>out_custody</th>\n      <th>priors_count.1</th>\n      <th>start</th>\n      <th>end</th>\n      <th>event</th>\n    </tr>\n  </thead>\n  <tbody>\n    <tr>\n      <th>0</th>\n      <td>2013-08-14</td>\n      <td>0</td>\n      <td>2</td>\n      <td>5</td>\n      <td>0</td>\n      <td>1</td>\n      <td>0</td>\n      <td>0</td>\n      <td>0</td>\n      <td>-1.0</td>\n      <td>...</td>\n      <td>Risk of Violence</td>\n      <td>1</td>\n      <td>Low</td>\n      <td>2013-08-14</td>\n      <td>2014-07-07</td>\n      <td>2014-07-14</td>\n      <td>0</td>\n      <td>0</td>\n      <td>327</td>\n      <td>0</td>\n    </tr>\n    <tr>\n      <th>1</th>\n      <td>2013-01-27</td>\n      <td>0</td>\n      <td>1</td>\n      <td>0</td>\n      <td>0</td>\n      <td>3</td>\n      <td>0</td>\n      <td>0</td>\n      <td>0</td>\n      <td>-1.0</td>\n      <td>...</td>\n      <td>Risk of Violence</td>\n      <td>1</td>\n      <td>Low</td>\n      <td>2013-01-27</td>\n      <td>2013-01-26</td>\n      <td>2013-02-05</td>\n      <td>0</td>\n      <td>9</td>\n      <td>159</td>\n      <td>1</td>\n    </tr>\n    <tr>\n      <th>2</th>\n      <td>2013-04-14</td>\n      <td>0</td>\n      <td>0</td>\n      <td>0</td>\n      <td>0</td>\n      <td>4</td>\n      <td>0</td>\n      <td>1</td>\n      <td>4</td>\n      <td>-1.0</td>\n      <td>...</td>\n      <td>Risk of Violence</td>\n      <td>3</td>\n      <td>Low</td>\n      <td>2013-04-14</td>\n      <td>2013-06-16</td>\n      <td>2013-06-16</td>\n      <td>4</td>\n      <td>0</td>\n      <td>63</td>\n      <td>0</td>\n    </tr>\n  </tbody>\n</table>\n<p>3 rows × 46 columns</p>\n</div>"
     },
     "execution_count": 11,
     "metadata": {},
     "output_type": "execute_result"
    }
   ],
   "source": [
    "data2[:3]\n"
   ],
   "metadata": {
    "collapsed": false,
    "pycharm": {
     "name": "#%%\n"
    }
   }
  },
  {
   "cell_type": "code",
   "execution_count": 19,
   "outputs": [],
   "source": [
    "data2.to_csv(\"cox-parsed_7214rows_cat_necessary_att1.csv\", index=False)\n"
   ],
   "metadata": {
    "collapsed": false,
    "pycharm": {
     "name": "#%%\n"
    }
   }
  },
  {
   "cell_type": "code",
   "execution_count": null,
   "outputs": [],
   "source": [],
   "metadata": {
    "collapsed": false,
    "pycharm": {
     "name": "#%%\n"
    }
   }
  }
 ],
 "metadata": {
  "kernelspec": {
   "display_name": "Python 3",
   "language": "python",
   "name": "python3"
  },
  "language_info": {
   "codemirror_mode": {
    "name": "ipython",
    "version": 2
   },
   "file_extension": ".py",
   "mimetype": "text/x-python",
   "name": "python",
   "nbconvert_exporter": "python",
   "pygments_lexer": "ipython2",
   "version": "2.7.6"
  }
 },
 "nbformat": 4,
 "nbformat_minor": 0
}