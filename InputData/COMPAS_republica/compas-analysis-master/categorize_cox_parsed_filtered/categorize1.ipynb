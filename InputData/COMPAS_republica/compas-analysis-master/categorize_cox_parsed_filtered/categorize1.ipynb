{
 "cells": [
  {
   "cell_type": "markdown",
   "metadata": {
    "collapsed": true,
    "pycharm": {
     "name": "#%% md\n"
    }
   },
   "source": [
    "Use \"../cox-parsed-filtered.csv\"\n",
    "Categorize it\n",
    "\n",
    "Attributes:\n",
    "\n",
    "cox['sex'].replace(to_replace=['Male', 'Female'], value=[0, 1], inplace=True)\n",
    "\n",
    "cox['age_cat'].replace(to_replace=['Less than 25', '25 - 45', 'Greater than 45'], value=[0, 1, 2], inplace=True)\n",
    "\n",
    "cox['race_factor'].replace(to_replace=['African-American', 'Asian', 'Caucasian', 'Hispanic', 'Native American', 'Other'], value=[0, 1, 2, 3, 4, 5], inplace=True)\n",
    "\n"
   ]
  },
  {
   "cell_type": "code",
   "execution_count": 12,
   "outputs": [],
   "source": [
    "import pandas as pd\n"
   ],
   "metadata": {
    "collapsed": false,
    "pycharm": {
     "name": "#%%\n"
    }
   }
  },
  {
   "cell_type": "code",
   "execution_count": 13,
   "outputs": [
    {
     "data": {
      "text/plain": "   id              name   first       last compas_screening_date   sex  \\\n1   1  miguel hernandez  miguel  hernandez            2013-08-14  Male   \n3   3       kevon dixon   kevon      dixon            2013-01-27  Male   \n4   4          ed philo      ed      philo            2013-04-14  Male   \n6   5       marcu brown   marcu      brown            2013-01-13  Male   \n\n          dob  age          age_cat              race  ...  v_score_text  \\\n1  1947-04-18   69  Greater than 45             Other  ...           Low   \n3  1982-01-22   34          25 - 45  African-American  ...           Low   \n4  1991-05-14   24     Less than 25  African-American  ...           Low   \n6  1993-01-21   23     Less than 25  African-American  ...        Medium   \n\n   v_screening_date  in_custody  out_custody  priors_count.1  start   end  \\\n1        2013-08-14  2014-07-07   2014-07-14               0      0   327   \n3        2013-01-27  2013-01-26   2013-02-05               0      9   159   \n4        2013-04-14  2013-06-16   2013-06-16               4      0    63   \n6        2013-01-13         NaN          NaN               1      0  1174   \n\n  event       race_factor score_factor  \n1     0             Other          Low  \n3     1  African-American          Low  \n4     0  African-American          Low  \n6     0  African-American         High  \n\n[4 rows x 54 columns]",
      "text/html": "<div>\n<style scoped>\n    .dataframe tbody tr th:only-of-type {\n        vertical-align: middle;\n    }\n\n    .dataframe tbody tr th {\n        vertical-align: top;\n    }\n\n    .dataframe thead th {\n        text-align: right;\n    }\n</style>\n<table border=\"1\" class=\"dataframe\">\n  <thead>\n    <tr style=\"text-align: right;\">\n      <th></th>\n      <th>id</th>\n      <th>name</th>\n      <th>first</th>\n      <th>last</th>\n      <th>compas_screening_date</th>\n      <th>sex</th>\n      <th>dob</th>\n      <th>age</th>\n      <th>age_cat</th>\n      <th>race</th>\n      <th>...</th>\n      <th>v_score_text</th>\n      <th>v_screening_date</th>\n      <th>in_custody</th>\n      <th>out_custody</th>\n      <th>priors_count.1</th>\n      <th>start</th>\n      <th>end</th>\n      <th>event</th>\n      <th>race_factor</th>\n      <th>score_factor</th>\n    </tr>\n  </thead>\n  <tbody>\n    <tr>\n      <th>1</th>\n      <td>1</td>\n      <td>miguel hernandez</td>\n      <td>miguel</td>\n      <td>hernandez</td>\n      <td>2013-08-14</td>\n      <td>Male</td>\n      <td>1947-04-18</td>\n      <td>69</td>\n      <td>Greater than 45</td>\n      <td>Other</td>\n      <td>...</td>\n      <td>Low</td>\n      <td>2013-08-14</td>\n      <td>2014-07-07</td>\n      <td>2014-07-14</td>\n      <td>0</td>\n      <td>0</td>\n      <td>327</td>\n      <td>0</td>\n      <td>Other</td>\n      <td>Low</td>\n    </tr>\n    <tr>\n      <th>3</th>\n      <td>3</td>\n      <td>kevon dixon</td>\n      <td>kevon</td>\n      <td>dixon</td>\n      <td>2013-01-27</td>\n      <td>Male</td>\n      <td>1982-01-22</td>\n      <td>34</td>\n      <td>25 - 45</td>\n      <td>African-American</td>\n      <td>...</td>\n      <td>Low</td>\n      <td>2013-01-27</td>\n      <td>2013-01-26</td>\n      <td>2013-02-05</td>\n      <td>0</td>\n      <td>9</td>\n      <td>159</td>\n      <td>1</td>\n      <td>African-American</td>\n      <td>Low</td>\n    </tr>\n    <tr>\n      <th>4</th>\n      <td>4</td>\n      <td>ed philo</td>\n      <td>ed</td>\n      <td>philo</td>\n      <td>2013-04-14</td>\n      <td>Male</td>\n      <td>1991-05-14</td>\n      <td>24</td>\n      <td>Less than 25</td>\n      <td>African-American</td>\n      <td>...</td>\n      <td>Low</td>\n      <td>2013-04-14</td>\n      <td>2013-06-16</td>\n      <td>2013-06-16</td>\n      <td>4</td>\n      <td>0</td>\n      <td>63</td>\n      <td>0</td>\n      <td>African-American</td>\n      <td>Low</td>\n    </tr>\n    <tr>\n      <th>6</th>\n      <td>5</td>\n      <td>marcu brown</td>\n      <td>marcu</td>\n      <td>brown</td>\n      <td>2013-01-13</td>\n      <td>Male</td>\n      <td>1993-01-21</td>\n      <td>23</td>\n      <td>Less than 25</td>\n      <td>African-American</td>\n      <td>...</td>\n      <td>Medium</td>\n      <td>2013-01-13</td>\n      <td>NaN</td>\n      <td>NaN</td>\n      <td>1</td>\n      <td>0</td>\n      <td>1174</td>\n      <td>0</td>\n      <td>African-American</td>\n      <td>High</td>\n    </tr>\n  </tbody>\n</table>\n<p>4 rows × 54 columns</p>\n</div>"
     },
     "execution_count": 13,
     "metadata": {},
     "output_type": "execute_result"
    }
   ],
   "source": [
    "cox = pd.read_csv(r\"../cox-parsed-filtered.csv\", index_col=0)\n",
    "cox[:4]\n"
   ],
   "metadata": {
    "collapsed": false,
    "pycharm": {
     "name": "#%%\n"
    }
   }
  },
  {
   "cell_type": "code",
   "execution_count": 5,
   "outputs": [
    {
     "data": {
      "text/plain": "               name   first       last compas_screening_date   sex  \\\n1  miguel hernandez  miguel  hernandez            2013-08-14  Male   \n3       kevon dixon   kevon      dixon            2013-01-27  Male   \n4          ed philo      ed      philo            2013-04-14  Male   \n6       marcu brown   marcu      brown            2013-01-13  Male   \n\n          dob  age          age_cat              race  juv_fel_count  ...  \\\n1  1947-04-18   69  Greater than 45             Other              0  ...   \n3  1982-01-22   34          25 - 45  African-American              0  ...   \n4  1991-05-14   24     Less than 25  African-American              0  ...   \n6  1993-01-21   23     Less than 25  African-American              0  ...   \n\n   v_score_text  v_screening_date  in_custody  out_custody  priors_count.1  \\\n1           Low        2013-08-14  2014-07-07   2014-07-14               0   \n3           Low        2013-01-27  2013-01-26   2013-02-05               0   \n4           Low        2013-04-14  2013-06-16   2013-06-16               4   \n6        Medium        2013-01-13         NaN          NaN               1   \n\n  start   end event       race_factor score_factor  \n1     0   327     0             Other          Low  \n3     9   159     1  African-American          Low  \n4     0    63     0  African-American          Low  \n6     0  1174     0  African-American         High  \n\n[4 rows x 53 columns]",
      "text/html": "<div>\n<style scoped>\n    .dataframe tbody tr th:only-of-type {\n        vertical-align: middle;\n    }\n\n    .dataframe tbody tr th {\n        vertical-align: top;\n    }\n\n    .dataframe thead th {\n        text-align: right;\n    }\n</style>\n<table border=\"1\" class=\"dataframe\">\n  <thead>\n    <tr style=\"text-align: right;\">\n      <th></th>\n      <th>name</th>\n      <th>first</th>\n      <th>last</th>\n      <th>compas_screening_date</th>\n      <th>sex</th>\n      <th>dob</th>\n      <th>age</th>\n      <th>age_cat</th>\n      <th>race</th>\n      <th>juv_fel_count</th>\n      <th>...</th>\n      <th>v_score_text</th>\n      <th>v_screening_date</th>\n      <th>in_custody</th>\n      <th>out_custody</th>\n      <th>priors_count.1</th>\n      <th>start</th>\n      <th>end</th>\n      <th>event</th>\n      <th>race_factor</th>\n      <th>score_factor</th>\n    </tr>\n  </thead>\n  <tbody>\n    <tr>\n      <th>1</th>\n      <td>miguel hernandez</td>\n      <td>miguel</td>\n      <td>hernandez</td>\n      <td>2013-08-14</td>\n      <td>Male</td>\n      <td>1947-04-18</td>\n      <td>69</td>\n      <td>Greater than 45</td>\n      <td>Other</td>\n      <td>0</td>\n      <td>...</td>\n      <td>Low</td>\n      <td>2013-08-14</td>\n      <td>2014-07-07</td>\n      <td>2014-07-14</td>\n      <td>0</td>\n      <td>0</td>\n      <td>327</td>\n      <td>0</td>\n      <td>Other</td>\n      <td>Low</td>\n    </tr>\n    <tr>\n      <th>3</th>\n      <td>kevon dixon</td>\n      <td>kevon</td>\n      <td>dixon</td>\n      <td>2013-01-27</td>\n      <td>Male</td>\n      <td>1982-01-22</td>\n      <td>34</td>\n      <td>25 - 45</td>\n      <td>African-American</td>\n      <td>0</td>\n      <td>...</td>\n      <td>Low</td>\n      <td>2013-01-27</td>\n      <td>2013-01-26</td>\n      <td>2013-02-05</td>\n      <td>0</td>\n      <td>9</td>\n      <td>159</td>\n      <td>1</td>\n      <td>African-American</td>\n      <td>Low</td>\n    </tr>\n    <tr>\n      <th>4</th>\n      <td>ed philo</td>\n      <td>ed</td>\n      <td>philo</td>\n      <td>2013-04-14</td>\n      <td>Male</td>\n      <td>1991-05-14</td>\n      <td>24</td>\n      <td>Less than 25</td>\n      <td>African-American</td>\n      <td>0</td>\n      <td>...</td>\n      <td>Low</td>\n      <td>2013-04-14</td>\n      <td>2013-06-16</td>\n      <td>2013-06-16</td>\n      <td>4</td>\n      <td>0</td>\n      <td>63</td>\n      <td>0</td>\n      <td>African-American</td>\n      <td>Low</td>\n    </tr>\n    <tr>\n      <th>6</th>\n      <td>marcu brown</td>\n      <td>marcu</td>\n      <td>brown</td>\n      <td>2013-01-13</td>\n      <td>Male</td>\n      <td>1993-01-21</td>\n      <td>23</td>\n      <td>Less than 25</td>\n      <td>African-American</td>\n      <td>0</td>\n      <td>...</td>\n      <td>Medium</td>\n      <td>2013-01-13</td>\n      <td>NaN</td>\n      <td>NaN</td>\n      <td>1</td>\n      <td>0</td>\n      <td>1174</td>\n      <td>0</td>\n      <td>African-American</td>\n      <td>High</td>\n    </tr>\n  </tbody>\n</table>\n<p>4 rows × 53 columns</p>\n</div>"
     },
     "execution_count": 5,
     "metadata": {},
     "output_type": "execute_result"
    }
   ],
   "source": [
    "# # drop useless columns\n",
    "# cox = cox.drop(\"id\", axis=1)\n",
    "# cox = cox.drop(\"name\", axis=1)\n",
    "# cox = cox.drop(\"first\", axis=1)\n",
    "# cox = cox.drop(\"last\", axis=1)\n",
    "# cox = cox.drop(\"dob\", axis=1)\n",
    "# cox = cox.drop(\"age\", axis=1)\n",
    "# cox[:4]\n"
   ],
   "metadata": {
    "collapsed": false,
    "pycharm": {
     "name": "#%%\n"
    }
   }
  },
  {
   "cell_type": "markdown",
   "source": [
    "# categorize sex, age, race"
   ],
   "metadata": {
    "collapsed": false,
    "pycharm": {
     "name": "#%% md\n"
    }
   }
  },
  {
   "cell_type": "code",
   "execution_count": 14,
   "outputs": [
    {
     "data": {
      "text/plain": "1        0\n3        0\n4        0\n6        0\n7        0\n        ..\n13339    0\n13340    1\n13341    0\n13342    1\n13343    1\nName: sex, Length: 10314, dtype: int64"
     },
     "execution_count": 14,
     "metadata": {},
     "output_type": "execute_result"
    }
   ],
   "source": [
    "# replace string with numerics\n",
    "\n",
    "cox['sex'].replace(to_replace=['Male', 'Female'], value=[0, 1], inplace=True)\n",
    "\n",
    "cox['sex']"
   ],
   "metadata": {
    "collapsed": false,
    "pycharm": {
     "name": "#%%\n"
    }
   }
  },
  {
   "cell_type": "code",
   "execution_count": 15,
   "outputs": [
    {
     "data": {
      "text/plain": "1        2\n3        1\n4        0\n6        0\n7        1\n        ..\n13339    0\n13340    1\n13341    2\n13342    1\n13343    0\nName: age_cat, Length: 10314, dtype: int64"
     },
     "execution_count": 15,
     "metadata": {},
     "output_type": "execute_result"
    }
   ],
   "source": [
    "cox['age_cat'].replace(to_replace=['Less than 25', '25 - 45', 'Greater than 45'], value=[0, 1, 2], inplace=True)\n",
    "cox['age_cat']"
   ],
   "metadata": {
    "collapsed": false,
    "pycharm": {
     "name": "#%%\n"
    }
   }
  },
  {
   "cell_type": "code",
   "execution_count": 16,
   "outputs": [
    {
     "data": {
      "text/plain": "1        5\n3        0\n4        0\n6        0\n7        5\n        ..\n13339    0\n13340    0\n13341    5\n13342    0\n13343    3\nName: race_factor, Length: 10314, dtype: int64"
     },
     "execution_count": 16,
     "metadata": {},
     "output_type": "execute_result"
    }
   ],
   "source": [
    "cox['race_factor'].replace(to_replace=['African-American', 'Asian', 'Caucasian', 'Hispanic', 'Native American', 'Other'], value=[0, 1, 2, 3, 4, 5], inplace=True)\n",
    "cox['race_factor']\n"
   ],
   "metadata": {
    "collapsed": false,
    "pycharm": {
     "name": "#%%\n"
    }
   }
  },
  {
   "cell_type": "code",
   "execution_count": 17,
   "outputs": [],
   "source": [
    "cox.to_csv(r\"cox-parsed-filtered-cat.csv\", index=False)\n"
   ],
   "metadata": {
    "collapsed": false,
    "pycharm": {
     "name": "#%%\n"
    }
   }
  },
  {
   "cell_type": "code",
   "execution_count": null,
   "outputs": [],
   "source": [
    "# normalize score"
   ],
   "metadata": {
    "collapsed": false,
    "pycharm": {
     "name": "#%%\n"
    }
   }
  },
  {
   "cell_type": "code",
   "execution_count": 20,
   "outputs": [
    {
     "data": {
      "text/plain": "   id              name   first       last compas_screening_date  sex  \\\n0   1  miguel hernandez  miguel  hernandez            2013-08-14    0   \n1   3       kevon dixon   kevon      dixon            2013-01-27    0   \n2   4          ed philo      ed      philo            2013-04-14    0   \n3   5       marcu brown   marcu      brown            2013-01-13    0   \n\n          dob  age  age_cat              race  ...  v_score_text  \\\n0  1947-04-18   69        2             Other  ...           Low   \n1  1982-01-22   34        1  African-American  ...           Low   \n2  1991-05-14   24        0  African-American  ...           Low   \n3  1993-01-21   23        0  African-American  ...        Medium   \n\n   v_screening_date  in_custody  out_custody  priors_count.1  start   end  \\\n0        2013-08-14  2014-07-07   2014-07-14               0      0   327   \n1        2013-01-27  2013-01-26   2013-02-05               0      9   159   \n2        2013-04-14  2013-06-16   2013-06-16               4      0    63   \n3        2013-01-13         NaN          NaN               1      0  1174   \n\n  event race_factor score_factor  \n0     0           5          Low  \n1     1           0          Low  \n2     0           0          Low  \n3     0           0         High  \n\n[4 rows x 54 columns]",
      "text/html": "<div>\n<style scoped>\n    .dataframe tbody tr th:only-of-type {\n        vertical-align: middle;\n    }\n\n    .dataframe tbody tr th {\n        vertical-align: top;\n    }\n\n    .dataframe thead th {\n        text-align: right;\n    }\n</style>\n<table border=\"1\" class=\"dataframe\">\n  <thead>\n    <tr style=\"text-align: right;\">\n      <th></th>\n      <th>id</th>\n      <th>name</th>\n      <th>first</th>\n      <th>last</th>\n      <th>compas_screening_date</th>\n      <th>sex</th>\n      <th>dob</th>\n      <th>age</th>\n      <th>age_cat</th>\n      <th>race</th>\n      <th>...</th>\n      <th>v_score_text</th>\n      <th>v_screening_date</th>\n      <th>in_custody</th>\n      <th>out_custody</th>\n      <th>priors_count.1</th>\n      <th>start</th>\n      <th>end</th>\n      <th>event</th>\n      <th>race_factor</th>\n      <th>score_factor</th>\n    </tr>\n  </thead>\n  <tbody>\n    <tr>\n      <th>0</th>\n      <td>1</td>\n      <td>miguel hernandez</td>\n      <td>miguel</td>\n      <td>hernandez</td>\n      <td>2013-08-14</td>\n      <td>0</td>\n      <td>1947-04-18</td>\n      <td>69</td>\n      <td>2</td>\n      <td>Other</td>\n      <td>...</td>\n      <td>Low</td>\n      <td>2013-08-14</td>\n      <td>2014-07-07</td>\n      <td>2014-07-14</td>\n      <td>0</td>\n      <td>0</td>\n      <td>327</td>\n      <td>0</td>\n      <td>5</td>\n      <td>Low</td>\n    </tr>\n    <tr>\n      <th>1</th>\n      <td>3</td>\n      <td>kevon dixon</td>\n      <td>kevon</td>\n      <td>dixon</td>\n      <td>2013-01-27</td>\n      <td>0</td>\n      <td>1982-01-22</td>\n      <td>34</td>\n      <td>1</td>\n      <td>African-American</td>\n      <td>...</td>\n      <td>Low</td>\n      <td>2013-01-27</td>\n      <td>2013-01-26</td>\n      <td>2013-02-05</td>\n      <td>0</td>\n      <td>9</td>\n      <td>159</td>\n      <td>1</td>\n      <td>0</td>\n      <td>Low</td>\n    </tr>\n    <tr>\n      <th>2</th>\n      <td>4</td>\n      <td>ed philo</td>\n      <td>ed</td>\n      <td>philo</td>\n      <td>2013-04-14</td>\n      <td>0</td>\n      <td>1991-05-14</td>\n      <td>24</td>\n      <td>0</td>\n      <td>African-American</td>\n      <td>...</td>\n      <td>Low</td>\n      <td>2013-04-14</td>\n      <td>2013-06-16</td>\n      <td>2013-06-16</td>\n      <td>4</td>\n      <td>0</td>\n      <td>63</td>\n      <td>0</td>\n      <td>0</td>\n      <td>Low</td>\n    </tr>\n    <tr>\n      <th>3</th>\n      <td>5</td>\n      <td>marcu brown</td>\n      <td>marcu</td>\n      <td>brown</td>\n      <td>2013-01-13</td>\n      <td>0</td>\n      <td>1993-01-21</td>\n      <td>23</td>\n      <td>0</td>\n      <td>African-American</td>\n      <td>...</td>\n      <td>Medium</td>\n      <td>2013-01-13</td>\n      <td>NaN</td>\n      <td>NaN</td>\n      <td>1</td>\n      <td>0</td>\n      <td>1174</td>\n      <td>0</td>\n      <td>0</td>\n      <td>High</td>\n    </tr>\n  </tbody>\n</table>\n<p>4 rows × 54 columns</p>\n</div>"
     },
     "execution_count": 20,
     "metadata": {},
     "output_type": "execute_result"
    }
   ],
   "source": [
    "cox = pd.read_csv(r\"cox-parsed-filtered-cat.csv\")\n",
    "cox[:4]"
   ],
   "metadata": {
    "collapsed": false,
    "pycharm": {
     "name": "#%%\n"
    }
   }
  },
  {
   "cell_type": "code",
   "execution_count": 23,
   "outputs": [
    {
     "data": {
      "text/plain": "                 id           sex           age       age_cat  juv_fel_count  \\\ncount  10314.000000  10314.000000  10314.000000  10314.000000   10314.000000   \nmean    5492.537716      0.204770     35.025693      1.015222       0.065154   \nstd     3177.588909      0.403553     11.952345      0.656189       0.465655   \nmin        1.000000      0.000000     18.000000      0.000000       0.000000   \n25%     2739.250000      0.000000     25.000000      1.000000       0.000000   \n50%     5485.500000      0.000000     32.000000      1.000000       0.000000   \n75%     8243.750000      0.000000     43.000000      1.000000       0.000000   \nmax    11001.000000      1.000000     96.000000      2.000000      20.000000   \n\n       decile_score  juv_misd_count  juv_other_count  priors_count  \\\ncount  10314.000000    10314.000000     10314.000000  10314.000000   \nmean       4.408183        0.080376         0.100737      3.279523   \nstd        2.866660        0.465254         0.491007      4.752899   \nmin        1.000000        0.000000         0.000000      0.000000   \n25%        2.000000        0.000000         0.000000      0.000000   \n50%        4.000000        0.000000         0.000000      1.000000   \n75%        7.000000        0.000000         0.000000      4.000000   \nmax       10.000000       13.000000        17.000000     43.000000   \n\n       days_b_screening_arrest  ...  r_days_from_arrest  violent_recid  \\\ncount              9887.000000  ...         2311.000000            0.0   \nmean                 -0.661677  ...           20.313284            NaN   \nstd                  73.854464  ...           74.946709            NaN   \nmin                -597.000000  ...           -1.000000            NaN   \n25%                  -1.000000  ...            0.000000            NaN   \n50%                  -1.000000  ...            0.000000            NaN   \n75%                  -1.000000  ...            1.000000            NaN   \nmax                1057.000000  ...          993.000000            NaN   \n\n       is_violent_recid  decile_score.1  v_decile_score  priors_count.1  \\\ncount      10314.000000    10314.000000    10314.000000    10314.000000   \nmean           0.079310        4.408183        3.600737        3.279523   \nstd            0.270235        2.866660        2.503209        4.752899   \nmin            0.000000        1.000000        1.000000        0.000000   \n25%            0.000000        2.000000        1.000000        0.000000   \n50%            0.000000        4.000000        3.000000        1.000000   \n75%            0.000000        7.000000        5.000000        4.000000   \nmax            1.000000       10.000000       10.000000       43.000000   \n\n              start           end         event   race_factor  \ncount  10314.000000  10314.000000  10314.000000  10314.000000  \nmean      23.885398    544.114698      0.267500      1.260811  \nstd      109.233017    354.295096      0.442677      1.434244  \nmin        0.000000      1.000000      0.000000      0.000000  \n25%        0.000000    202.000000      0.000000      0.000000  \n50%        0.000000    548.000000      0.000000      1.000000  \n75%        2.000000    827.000000      1.000000      2.000000  \nmax     1185.000000   1186.000000      1.000000      5.000000  \n\n[8 rows x 22 columns]",
      "text/html": "<div>\n<style scoped>\n    .dataframe tbody tr th:only-of-type {\n        vertical-align: middle;\n    }\n\n    .dataframe tbody tr th {\n        vertical-align: top;\n    }\n\n    .dataframe thead th {\n        text-align: right;\n    }\n</style>\n<table border=\"1\" class=\"dataframe\">\n  <thead>\n    <tr style=\"text-align: right;\">\n      <th></th>\n      <th>id</th>\n      <th>sex</th>\n      <th>age</th>\n      <th>age_cat</th>\n      <th>juv_fel_count</th>\n      <th>decile_score</th>\n      <th>juv_misd_count</th>\n      <th>juv_other_count</th>\n      <th>priors_count</th>\n      <th>days_b_screening_arrest</th>\n      <th>...</th>\n      <th>r_days_from_arrest</th>\n      <th>violent_recid</th>\n      <th>is_violent_recid</th>\n      <th>decile_score.1</th>\n      <th>v_decile_score</th>\n      <th>priors_count.1</th>\n      <th>start</th>\n      <th>end</th>\n      <th>event</th>\n      <th>race_factor</th>\n    </tr>\n  </thead>\n  <tbody>\n    <tr>\n      <th>count</th>\n      <td>10314.000000</td>\n      <td>10314.000000</td>\n      <td>10314.000000</td>\n      <td>10314.000000</td>\n      <td>10314.000000</td>\n      <td>10314.000000</td>\n      <td>10314.000000</td>\n      <td>10314.000000</td>\n      <td>10314.000000</td>\n      <td>9887.000000</td>\n      <td>...</td>\n      <td>2311.000000</td>\n      <td>0.0</td>\n      <td>10314.000000</td>\n      <td>10314.000000</td>\n      <td>10314.000000</td>\n      <td>10314.000000</td>\n      <td>10314.000000</td>\n      <td>10314.000000</td>\n      <td>10314.000000</td>\n      <td>10314.000000</td>\n    </tr>\n    <tr>\n      <th>mean</th>\n      <td>5492.537716</td>\n      <td>0.204770</td>\n      <td>35.025693</td>\n      <td>1.015222</td>\n      <td>0.065154</td>\n      <td>4.408183</td>\n      <td>0.080376</td>\n      <td>0.100737</td>\n      <td>3.279523</td>\n      <td>-0.661677</td>\n      <td>...</td>\n      <td>20.313284</td>\n      <td>NaN</td>\n      <td>0.079310</td>\n      <td>4.408183</td>\n      <td>3.600737</td>\n      <td>3.279523</td>\n      <td>23.885398</td>\n      <td>544.114698</td>\n      <td>0.267500</td>\n      <td>1.260811</td>\n    </tr>\n    <tr>\n      <th>std</th>\n      <td>3177.588909</td>\n      <td>0.403553</td>\n      <td>11.952345</td>\n      <td>0.656189</td>\n      <td>0.465655</td>\n      <td>2.866660</td>\n      <td>0.465254</td>\n      <td>0.491007</td>\n      <td>4.752899</td>\n      <td>73.854464</td>\n      <td>...</td>\n      <td>74.946709</td>\n      <td>NaN</td>\n      <td>0.270235</td>\n      <td>2.866660</td>\n      <td>2.503209</td>\n      <td>4.752899</td>\n      <td>109.233017</td>\n      <td>354.295096</td>\n      <td>0.442677</td>\n      <td>1.434244</td>\n    </tr>\n    <tr>\n      <th>min</th>\n      <td>1.000000</td>\n      <td>0.000000</td>\n      <td>18.000000</td>\n      <td>0.000000</td>\n      <td>0.000000</td>\n      <td>1.000000</td>\n      <td>0.000000</td>\n      <td>0.000000</td>\n      <td>0.000000</td>\n      <td>-597.000000</td>\n      <td>...</td>\n      <td>-1.000000</td>\n      <td>NaN</td>\n      <td>0.000000</td>\n      <td>1.000000</td>\n      <td>1.000000</td>\n      <td>0.000000</td>\n      <td>0.000000</td>\n      <td>1.000000</td>\n      <td>0.000000</td>\n      <td>0.000000</td>\n    </tr>\n    <tr>\n      <th>25%</th>\n      <td>2739.250000</td>\n      <td>0.000000</td>\n      <td>25.000000</td>\n      <td>1.000000</td>\n      <td>0.000000</td>\n      <td>2.000000</td>\n      <td>0.000000</td>\n      <td>0.000000</td>\n      <td>0.000000</td>\n      <td>-1.000000</td>\n      <td>...</td>\n      <td>0.000000</td>\n      <td>NaN</td>\n      <td>0.000000</td>\n      <td>2.000000</td>\n      <td>1.000000</td>\n      <td>0.000000</td>\n      <td>0.000000</td>\n      <td>202.000000</td>\n      <td>0.000000</td>\n      <td>0.000000</td>\n    </tr>\n    <tr>\n      <th>50%</th>\n      <td>5485.500000</td>\n      <td>0.000000</td>\n      <td>32.000000</td>\n      <td>1.000000</td>\n      <td>0.000000</td>\n      <td>4.000000</td>\n      <td>0.000000</td>\n      <td>0.000000</td>\n      <td>1.000000</td>\n      <td>-1.000000</td>\n      <td>...</td>\n      <td>0.000000</td>\n      <td>NaN</td>\n      <td>0.000000</td>\n      <td>4.000000</td>\n      <td>3.000000</td>\n      <td>1.000000</td>\n      <td>0.000000</td>\n      <td>548.000000</td>\n      <td>0.000000</td>\n      <td>1.000000</td>\n    </tr>\n    <tr>\n      <th>75%</th>\n      <td>8243.750000</td>\n      <td>0.000000</td>\n      <td>43.000000</td>\n      <td>1.000000</td>\n      <td>0.000000</td>\n      <td>7.000000</td>\n      <td>0.000000</td>\n      <td>0.000000</td>\n      <td>4.000000</td>\n      <td>-1.000000</td>\n      <td>...</td>\n      <td>1.000000</td>\n      <td>NaN</td>\n      <td>0.000000</td>\n      <td>7.000000</td>\n      <td>5.000000</td>\n      <td>4.000000</td>\n      <td>2.000000</td>\n      <td>827.000000</td>\n      <td>1.000000</td>\n      <td>2.000000</td>\n    </tr>\n    <tr>\n      <th>max</th>\n      <td>11001.000000</td>\n      <td>1.000000</td>\n      <td>96.000000</td>\n      <td>2.000000</td>\n      <td>20.000000</td>\n      <td>10.000000</td>\n      <td>13.000000</td>\n      <td>17.000000</td>\n      <td>43.000000</td>\n      <td>1057.000000</td>\n      <td>...</td>\n      <td>993.000000</td>\n      <td>NaN</td>\n      <td>1.000000</td>\n      <td>10.000000</td>\n      <td>10.000000</td>\n      <td>43.000000</td>\n      <td>1185.000000</td>\n      <td>1186.000000</td>\n      <td>1.000000</td>\n      <td>5.000000</td>\n    </tr>\n  </tbody>\n</table>\n<p>8 rows × 22 columns</p>\n</div>"
     },
     "execution_count": 23,
     "metadata": {},
     "output_type": "execute_result"
    }
   ],
   "source": [
    "compas_data = cox\n",
    "compas_describe = cox.describe()\n",
    "compas_describe"
   ],
   "metadata": {
    "collapsed": false,
    "pycharm": {
     "name": "#%%\n"
    }
   }
  },
  {
   "cell_type": "code",
   "execution_count": 24,
   "outputs": [],
   "source": [
    "\n",
    "c_days_from_compas_max = compas_describe['c_days_from_compas']['max']\n",
    "c_days_from_compas_min = compas_describe['c_days_from_compas']['min']\n",
    "\n",
    "juv_other_count_max = compas_describe['juv_other_count']['max']\n",
    "juv_other_count_min = compas_describe['juv_other_count']['min']\n",
    "\n",
    "days_b_screening_arrest_max = compas_describe['days_b_screening_arrest']['max']\n",
    "days_b_screening_arrest_min = compas_describe['days_b_screening_arrest']['min']\n",
    "\n",
    "start_max = compas_describe['start']['max']\n",
    "start_min = compas_describe['start']['min']\n",
    "\n",
    "end_max = compas_describe['end']['max']\n",
    "end_min = compas_describe['end']['min']\n",
    "\n",
    "age_max = compas_describe['age']['max']\n",
    "age_min = compas_describe['age']['min']\n",
    "\n",
    "priors_count_max = compas_describe['priors_count']['max']\n",
    "priors_count_min = compas_describe['priors_count']['min']\n"
   ],
   "metadata": {
    "collapsed": false,
    "pycharm": {
     "name": "#%%\n"
    }
   }
  },
  {
   "cell_type": "code",
   "execution_count": 25,
   "outputs": [
    {
     "name": "stdout",
     "output_type": "stream",
     "text": [
      "0         1.0\n",
      "1         1.0\n",
      "2         1.0\n",
      "3         1.0\n",
      "4        76.0\n",
      "         ... \n",
      "10309     1.0\n",
      "10310     1.0\n",
      "10311     1.0\n",
      "10312     1.0\n",
      "10313     2.0\n",
      "Name: c_days_from_compas, Length: 10314, dtype: float64\n",
      "0        0.000105\n",
      "1        0.000105\n",
      "2        0.000105\n",
      "3        0.000105\n",
      "4        0.008013\n",
      "           ...   \n",
      "10309    0.000105\n",
      "10310    0.000105\n",
      "10311    0.000105\n",
      "10312    0.000105\n",
      "10313    0.000211\n",
      "Name: c_days_from_compas_normalized, Length: 10314, dtype: float64\n"
     ]
    }
   ],
   "source": [
    "\n",
    "def c_days_from_compas(x):\n",
    "    return (x-c_days_from_compas_min)/(c_days_from_compas_max - c_days_from_compas_min)\n",
    "\n",
    "\n",
    "print(compas_data['c_days_from_compas'])\n",
    "compas_data['c_days_from_compas_normalized'] = compas_data['c_days_from_compas'].map(lambda x: c_days_from_compas(x))\n",
    "print(compas_data['c_days_from_compas_normalized'])\n"
   ],
   "metadata": {
    "collapsed": false,
    "pycharm": {
     "name": "#%%\n"
    }
   }
  },
  {
   "cell_type": "code",
   "execution_count": 26,
   "outputs": [
    {
     "name": "stdout",
     "output_type": "stream",
     "text": [
      "0        0\n",
      "1        0\n",
      "2        1\n",
      "3        0\n",
      "4        0\n",
      "        ..\n",
      "10309    0\n",
      "10310    0\n",
      "10311    0\n",
      "10312    0\n",
      "10313    0\n",
      "Name: juv_other_count, Length: 10314, dtype: int64\n",
      "0        0.000000\n",
      "1        0.000000\n",
      "2        0.058824\n",
      "3        0.000000\n",
      "4        0.000000\n",
      "           ...   \n",
      "10309    0.000000\n",
      "10310    0.000000\n",
      "10311    0.000000\n",
      "10312    0.000000\n",
      "10313    0.000000\n",
      "Name: juv_other_count_normalized, Length: 10314, dtype: float64\n"
     ]
    }
   ],
   "source": [
    "\n",
    "def juv_other_count(x):\n",
    "    return (x - juv_other_count_min)/(juv_other_count_max - juv_other_count_min)\n",
    "\n",
    "\n",
    "print(compas_data['juv_other_count'])\n",
    "compas_data['juv_other_count_normalized'] = compas_data['juv_other_count'].map(lambda x: juv_other_count(x))\n",
    "print(compas_data['juv_other_count_normalized'])\n"
   ],
   "metadata": {
    "collapsed": false,
    "pycharm": {
     "name": "#%%\n"
    }
   }
  },
  {
   "cell_type": "code",
   "execution_count": 27,
   "outputs": [
    {
     "name": "stdout",
     "output_type": "stream",
     "text": [
      "0       -1.0\n",
      "1       -1.0\n",
      "2       -1.0\n",
      "3        NaN\n",
      "4        NaN\n",
      "        ... \n",
      "10309   -1.0\n",
      "10310   -1.0\n",
      "10311   -1.0\n",
      "10312   -1.0\n",
      "10313   -2.0\n",
      "Name: days_b_screening_arrest, Length: 10314, dtype: float64\n",
      "0        0.360339\n",
      "1        0.360339\n",
      "2        0.360339\n",
      "3             NaN\n",
      "4             NaN\n",
      "           ...   \n",
      "10309    0.360339\n",
      "10310    0.360339\n",
      "10311    0.360339\n",
      "10312    0.360339\n",
      "10313    0.359734\n",
      "Name: days_b_screening_arrest_normalized, Length: 10314, dtype: float64\n"
     ]
    }
   ],
   "source": [
    "\n",
    "def days_b_screening_arrest(x):\n",
    "    return (x - days_b_screening_arrest_min)/(days_b_screening_arrest_max - days_b_screening_arrest_min)\n",
    "\n",
    "\n",
    "print(compas_data['days_b_screening_arrest'])\n",
    "compas_data['days_b_screening_arrest_normalized'] = compas_data['days_b_screening_arrest'].map(lambda x: days_b_screening_arrest(x))\n",
    "print(compas_data['days_b_screening_arrest_normalized'])\n"
   ],
   "metadata": {
    "collapsed": false,
    "pycharm": {
     "name": "#%%\n"
    }
   }
  },
  {
   "cell_type": "code",
   "execution_count": 28,
   "outputs": [
    {
     "name": "stdout",
     "output_type": "stream",
     "text": [
      "0        0\n",
      "1        9\n",
      "2        0\n",
      "3        0\n",
      "4        0\n",
      "        ..\n",
      "10309    1\n",
      "10310    9\n",
      "10311    0\n",
      "10312    0\n",
      "10313    0\n",
      "Name: start, Length: 10314, dtype: int64\n",
      "0        0.000000\n",
      "1        0.007595\n",
      "2        0.000000\n",
      "3        0.000000\n",
      "4        0.000000\n",
      "           ...   \n",
      "10309    0.000844\n",
      "10310    0.007595\n",
      "10311    0.000000\n",
      "10312    0.000000\n",
      "10313    0.000000\n",
      "Name: start_normalized, Length: 10314, dtype: float64\n"
     ]
    }
   ],
   "source": [
    "\n",
    "def start(x):\n",
    "    return (x - start_min)/(start_max - start_min)\n",
    "\n",
    "\n",
    "print(compas_data['start'])\n",
    "compas_data['start_normalized'] = compas_data['start'].map(lambda x: start(x))\n",
    "print(compas_data['start_normalized'])\n"
   ],
   "metadata": {
    "collapsed": false,
    "pycharm": {
     "name": "#%%\n"
    }
   }
  },
  {
   "cell_type": "code",
   "execution_count": 29,
   "outputs": [
    {
     "name": "stdout",
     "output_type": "stream",
     "text": [
      "0         327\n",
      "1         159\n",
      "2          63\n",
      "3        1174\n",
      "4        1102\n",
      "         ... \n",
      "10309     790\n",
      "10310     459\n",
      "10311     808\n",
      "10312     754\n",
      "10313     258\n",
      "Name: end, Length: 10314, dtype: int64\n",
      "0        0.275105\n",
      "1        0.133333\n",
      "2        0.052321\n",
      "3        0.989873\n",
      "4        0.929114\n",
      "           ...   \n",
      "10309    0.665823\n",
      "10310    0.386498\n",
      "10311    0.681013\n",
      "10312    0.635443\n",
      "10313    0.216878\n",
      "Name: end_normalized, Length: 10314, dtype: float64\n"
     ]
    }
   ],
   "source": [
    "def end(x):\n",
    "    return (x - end_min)/(end_max - end_min)\n",
    "\n",
    "\n",
    "print(compas_data['end'])\n",
    "compas_data['end_normalized'] = compas_data['end'].map(lambda x: end(x))\n",
    "print(compas_data['end_normalized'])\n",
    "\n"
   ],
   "metadata": {
    "collapsed": false,
    "pycharm": {
     "name": "#%%\n"
    }
   }
  },
  {
   "cell_type": "code",
   "execution_count": 30,
   "outputs": [
    {
     "name": "stdout",
     "output_type": "stream",
     "text": [
      "0        69\n",
      "1        34\n",
      "2        24\n",
      "3        23\n",
      "4        43\n",
      "         ..\n",
      "10309    23\n",
      "10310    31\n",
      "10311    57\n",
      "10312    33\n",
      "10313    23\n",
      "Name: age, Length: 10314, dtype: int64\n",
      "0        0.653846\n",
      "1        0.205128\n",
      "2        0.076923\n",
      "3        0.064103\n",
      "4        0.320513\n",
      "           ...   \n",
      "10309    0.064103\n",
      "10310    0.166667\n",
      "10311    0.500000\n",
      "10312    0.192308\n",
      "10313    0.064103\n",
      "Name: age_normalized, Length: 10314, dtype: float64\n"
     ]
    }
   ],
   "source": [
    "\n",
    "def age(x):\n",
    "    return (x - age_min)/(age_max - age_min)\n",
    "\n",
    "\n",
    "print(compas_data['age'])\n",
    "compas_data['age_normalized'] = compas_data['age'].map(lambda x: age(x))\n",
    "print(compas_data['age_normalized'])\n"
   ],
   "metadata": {
    "collapsed": false,
    "pycharm": {
     "name": "#%%\n"
    }
   }
  },
  {
   "cell_type": "code",
   "execution_count": 31,
   "outputs": [
    {
     "name": "stdout",
     "output_type": "stream",
     "text": [
      "0        0\n",
      "1        0\n",
      "2        4\n",
      "3        1\n",
      "4        2\n",
      "        ..\n",
      "10309    0\n",
      "10310    5\n",
      "10311    0\n",
      "10312    3\n",
      "10313    2\n",
      "Name: priors_count, Length: 10314, dtype: int64\n",
      "0        0.000000\n",
      "1        0.000000\n",
      "2        0.093023\n",
      "3        0.023256\n",
      "4        0.046512\n",
      "           ...   \n",
      "10309    0.000000\n",
      "10310    0.116279\n",
      "10311    0.000000\n",
      "10312    0.069767\n",
      "10313    0.046512\n",
      "Name: priors_count_normalized, Length: 10314, dtype: float64\n"
     ]
    }
   ],
   "source": [
    "\n",
    "def priors_count(x):\n",
    "    return (x - priors_count_min)/(priors_count_max - priors_count_min)\n",
    "\n",
    "\n",
    "print(compas_data['priors_count'])\n",
    "compas_data['priors_count_normalized'] = compas_data['priors_count'].map(lambda x: priors_count(x))\n",
    "print(compas_data['priors_count_normalized'])\n"
   ],
   "metadata": {
    "collapsed": false,
    "pycharm": {
     "name": "#%%\n"
    }
   }
  },
  {
   "cell_type": "code",
   "execution_count": null,
   "outputs": [],
   "source": [],
   "metadata": {
    "collapsed": false,
    "pycharm": {
     "name": "#%%\n"
    }
   }
  },
  {
   "cell_type": "markdown",
   "source": [
    "# rank"
   ],
   "metadata": {
    "collapsed": false
   }
  },
  {
   "cell_type": "code",
   "execution_count": 32,
   "outputs": [
    {
     "name": "stdout",
     "output_type": "stream",
     "text": [
      "0       -0.018297\n",
      "1        0.296244\n",
      "2        0.487688\n",
      "3             NaN\n",
      "4             NaN\n",
      "           ...   \n",
      "10309    0.963008\n",
      "10310    0.704149\n",
      "10311    0.541457\n",
      "10312    0.873347\n",
      "10313    0.559232\n",
      "Name: score, Length: 10314, dtype: float64\n"
     ]
    }
   ],
   "source": [
    "compas_data['score'] = compas_data['c_days_from_compas_normalized'] + compas_data['juv_other_count_normalized'] + \\\n",
    "                       compas_data['days_b_screening_arrest_normalized'] + compas_data['start_normalized'] + compas_data['end_normalized'] \\\n",
    "                       + compas_data['priors_count_normalized'] - compas_data['age_normalized']\n",
    "\n",
    "\n",
    "print(compas_data['score'])\n"
   ],
   "metadata": {
    "collapsed": false,
    "pycharm": {
     "name": "#%%\n"
    }
   }
  },
  {
   "cell_type": "code",
   "execution_count": 34,
   "outputs": [
    {
     "data": {
      "text/plain": "0          79.0\n1         881.0\n2        2725.0\n3        9888.0\n4        9889.0\n          ...  \n10309    7830.0\n10310    5241.0\n10311    3357.0\n10312    7026.0\n10313    3578.0\nName: rank, Length: 10314, dtype: float64"
     },
     "execution_count": 34,
     "metadata": {},
     "output_type": "execute_result"
    }
   ],
   "source": [
    "compas_data.to_csv(r\"cox-parsed-filtered-cat-scored.csv\")\n",
    "compas_data[:4]"
   ],
   "metadata": {
    "collapsed": false,
    "pycharm": {
     "name": "#%%\n"
    }
   }
  },
  {
   "cell_type": "code",
   "execution_count": null,
   "outputs": [],
   "source": [
    "compas_data['rank'] = compas_data['score'].rank(method='first', na_option='bottom', ascending=False)\n",
    "compas_data['rank']"
   ],
   "metadata": {
    "collapsed": false,
    "pycharm": {
     "name": "#%%\n"
    }
   }
  },
  {
   "cell_type": "code",
   "execution_count": 35,
   "outputs": [],
   "source": [
    "compas_data.to_csv(r\"cox-parsed-filtered-cat-score&rank.csv\", index=False)"
   ],
   "metadata": {
    "collapsed": false,
    "pycharm": {
     "name": "#%%\n"
    }
   }
  },
  {
   "cell_type": "code",
   "execution_count": 39,
   "outputs": [
    {
     "data": {
      "text/plain": "   id              name   first       last compas_screening_date  sex  \\\n0   1  miguel hernandez  miguel  hernandez            2013-08-14    0   \n1   3       kevon dixon   kevon      dixon            2013-01-27    0   \n2   4          ed philo      ed      philo            2013-04-14    0   \n3   5       marcu brown   marcu      brown            2013-01-13    0   \n\n          dob  age  age_cat              race  ...  score_factor  \\\n0  1947-04-18   69        2             Other  ...           Low   \n1  1982-01-22   34        1  African-American  ...           Low   \n2  1991-05-14   24        0  African-American  ...           Low   \n3  1993-01-21   23        0  African-American  ...          High   \n\n   c_days_from_compas_normalized  juv_other_count_normalized  \\\n0                       0.000105                    0.000000   \n1                       0.000105                    0.000000   \n2                       0.000105                    0.058824   \n3                       0.000105                    0.000000   \n\n   days_b_screening_arrest_normalized  start_normalized  end_normalized  \\\n0                            0.360339          0.000000        0.275105   \n1                            0.360339          0.007595        0.133333   \n2                            0.360339          0.000000        0.052321   \n3                                 NaN          0.000000        0.989873   \n\n  age_normalized priors_count_normalized     score    rank  \n0       0.653846                0.000000 -0.018297    79.0  \n1       0.205128                0.000000  0.296244   881.0  \n2       0.076923                0.093023  0.487688  2725.0  \n3       0.064103                0.023256       NaN  9888.0  \n\n[4 rows x 63 columns]",
      "text/html": "<div>\n<style scoped>\n    .dataframe tbody tr th:only-of-type {\n        vertical-align: middle;\n    }\n\n    .dataframe tbody tr th {\n        vertical-align: top;\n    }\n\n    .dataframe thead th {\n        text-align: right;\n    }\n</style>\n<table border=\"1\" class=\"dataframe\">\n  <thead>\n    <tr style=\"text-align: right;\">\n      <th></th>\n      <th>id</th>\n      <th>name</th>\n      <th>first</th>\n      <th>last</th>\n      <th>compas_screening_date</th>\n      <th>sex</th>\n      <th>dob</th>\n      <th>age</th>\n      <th>age_cat</th>\n      <th>race</th>\n      <th>...</th>\n      <th>score_factor</th>\n      <th>c_days_from_compas_normalized</th>\n      <th>juv_other_count_normalized</th>\n      <th>days_b_screening_arrest_normalized</th>\n      <th>start_normalized</th>\n      <th>end_normalized</th>\n      <th>age_normalized</th>\n      <th>priors_count_normalized</th>\n      <th>score</th>\n      <th>rank</th>\n    </tr>\n  </thead>\n  <tbody>\n    <tr>\n      <th>0</th>\n      <td>1</td>\n      <td>miguel hernandez</td>\n      <td>miguel</td>\n      <td>hernandez</td>\n      <td>2013-08-14</td>\n      <td>0</td>\n      <td>1947-04-18</td>\n      <td>69</td>\n      <td>2</td>\n      <td>Other</td>\n      <td>...</td>\n      <td>Low</td>\n      <td>0.000105</td>\n      <td>0.000000</td>\n      <td>0.360339</td>\n      <td>0.000000</td>\n      <td>0.275105</td>\n      <td>0.653846</td>\n      <td>0.000000</td>\n      <td>-0.018297</td>\n      <td>79.0</td>\n    </tr>\n    <tr>\n      <th>1</th>\n      <td>3</td>\n      <td>kevon dixon</td>\n      <td>kevon</td>\n      <td>dixon</td>\n      <td>2013-01-27</td>\n      <td>0</td>\n      <td>1982-01-22</td>\n      <td>34</td>\n      <td>1</td>\n      <td>African-American</td>\n      <td>...</td>\n      <td>Low</td>\n      <td>0.000105</td>\n      <td>0.000000</td>\n      <td>0.360339</td>\n      <td>0.007595</td>\n      <td>0.133333</td>\n      <td>0.205128</td>\n      <td>0.000000</td>\n      <td>0.296244</td>\n      <td>881.0</td>\n    </tr>\n    <tr>\n      <th>2</th>\n      <td>4</td>\n      <td>ed philo</td>\n      <td>ed</td>\n      <td>philo</td>\n      <td>2013-04-14</td>\n      <td>0</td>\n      <td>1991-05-14</td>\n      <td>24</td>\n      <td>0</td>\n      <td>African-American</td>\n      <td>...</td>\n      <td>Low</td>\n      <td>0.000105</td>\n      <td>0.058824</td>\n      <td>0.360339</td>\n      <td>0.000000</td>\n      <td>0.052321</td>\n      <td>0.076923</td>\n      <td>0.093023</td>\n      <td>0.487688</td>\n      <td>2725.0</td>\n    </tr>\n    <tr>\n      <th>3</th>\n      <td>5</td>\n      <td>marcu brown</td>\n      <td>marcu</td>\n      <td>brown</td>\n      <td>2013-01-13</td>\n      <td>0</td>\n      <td>1993-01-21</td>\n      <td>23</td>\n      <td>0</td>\n      <td>African-American</td>\n      <td>...</td>\n      <td>High</td>\n      <td>0.000105</td>\n      <td>0.000000</td>\n      <td>NaN</td>\n      <td>0.000000</td>\n      <td>0.989873</td>\n      <td>0.064103</td>\n      <td>0.023256</td>\n      <td>NaN</td>\n      <td>9888.0</td>\n    </tr>\n  </tbody>\n</table>\n<p>4 rows × 63 columns</p>\n</div>"
     },
     "execution_count": 39,
     "metadata": {},
     "output_type": "execute_result"
    }
   ],
   "source": [
    "compas_data = pd.read_csv(r\"cox-parsed-filtered-cat-score&rank.csv\")\n",
    "compas_data[:4]\n"
   ],
   "metadata": {
    "collapsed": false,
    "pycharm": {
     "name": "#%%\n"
    }
   }
  },
  {
   "cell_type": "code",
   "execution_count": 42,
   "outputs": [
    {
     "data": {
      "text/plain": "        id                name        first       last compas_screening_date  \\\n7548  8043        desi johnson         desi    johnson            2013-03-20   \n5319  5656       daniel morgan       daniel     morgan            2013-02-03   \n5161  5490    wacaltos virgile     wacaltos    virgile            2013-01-02   \n4824  5135  christopher marion  christopher     marion            2013-05-24   \n6340  6746     shawn hankerson        shawn  hankerson            2013-05-09   \n4265  4538          dontae pew       dontae        pew            2013-03-22   \n1911  2032       joshua stuart       joshua     stuart            2013-01-16   \n5292  5626       jahmal bodden       jahmal     bodden            2013-02-26   \n\n      sex         dob  age  age_cat              race  ...  score_factor  \\\n7548    0  1974-06-06   41        1  African-American  ...          High   \n5319    0  1990-04-29   25        1         Caucasian  ...          High   \n5161    0  1988-04-15   28        1             Other  ...          High   \n4824    0  1991-04-02   25        1  African-American  ...          High   \n6340    0  1990-10-27   25        1  African-American  ...          High   \n4265    0  1978-08-28   37        1  African-American  ...          High   \n1911    0  1993-08-27   22        0  African-American  ...        Medium   \n5292    0  1988-05-06   27        1  African-American  ...          High   \n\n      c_days_from_compas_normalized  juv_other_count_normalized  \\\n7548                       0.000105                    0.058824   \n5319                       0.000105                    0.411765   \n5161                       0.000000                    0.000000   \n4824                       0.000105                    0.058824   \n6340                       0.000105                    0.176471   \n4265                       0.000105                    0.000000   \n1911                       0.000105                    0.000000   \n5292                       0.000105                    0.000000   \n\n      days_b_screening_arrest_normalized  start_normalized  end_normalized  \\\n7548                            0.360339          0.935021        0.935021   \n5319                            0.360339          0.495359        0.972152   \n5161                            0.360943          1.000000        1.000000   \n4824                            0.360339          0.880169        0.880169   \n6340                            0.360339          0.892827        0.892827   \n4265                            0.360339          0.933333        0.933333   \n1911                            0.360339          0.988186        0.988186   \n5292                            0.360943          0.953586        0.953586   \n\n     age_normalized priors_count_normalized     score rank  \n7548       0.294872                0.674419  2.668857  1.0  \n5319       0.089744                0.441860  2.591836  2.0  \n5161       0.128205                0.232558  2.465296  3.0  \n4824       0.089744                0.348837  2.438699  4.0  \n6340       0.089744                0.139535  2.372360  5.0  \n4265       0.243590                0.372093  2.355614  6.0  \n1911       0.051282                0.046512  2.332045  7.0  \n5292       0.115385                0.162791  2.315628  8.0  \n\n[8 rows x 63 columns]",
      "text/html": "<div>\n<style scoped>\n    .dataframe tbody tr th:only-of-type {\n        vertical-align: middle;\n    }\n\n    .dataframe tbody tr th {\n        vertical-align: top;\n    }\n\n    .dataframe thead th {\n        text-align: right;\n    }\n</style>\n<table border=\"1\" class=\"dataframe\">\n  <thead>\n    <tr style=\"text-align: right;\">\n      <th></th>\n      <th>id</th>\n      <th>name</th>\n      <th>first</th>\n      <th>last</th>\n      <th>compas_screening_date</th>\n      <th>sex</th>\n      <th>dob</th>\n      <th>age</th>\n      <th>age_cat</th>\n      <th>race</th>\n      <th>...</th>\n      <th>score_factor</th>\n      <th>c_days_from_compas_normalized</th>\n      <th>juv_other_count_normalized</th>\n      <th>days_b_screening_arrest_normalized</th>\n      <th>start_normalized</th>\n      <th>end_normalized</th>\n      <th>age_normalized</th>\n      <th>priors_count_normalized</th>\n      <th>score</th>\n      <th>rank</th>\n    </tr>\n  </thead>\n  <tbody>\n    <tr>\n      <th>7548</th>\n      <td>8043</td>\n      <td>desi johnson</td>\n      <td>desi</td>\n      <td>johnson</td>\n      <td>2013-03-20</td>\n      <td>0</td>\n      <td>1974-06-06</td>\n      <td>41</td>\n      <td>1</td>\n      <td>African-American</td>\n      <td>...</td>\n      <td>High</td>\n      <td>0.000105</td>\n      <td>0.058824</td>\n      <td>0.360339</td>\n      <td>0.935021</td>\n      <td>0.935021</td>\n      <td>0.294872</td>\n      <td>0.674419</td>\n      <td>2.668857</td>\n      <td>1.0</td>\n    </tr>\n    <tr>\n      <th>5319</th>\n      <td>5656</td>\n      <td>daniel morgan</td>\n      <td>daniel</td>\n      <td>morgan</td>\n      <td>2013-02-03</td>\n      <td>0</td>\n      <td>1990-04-29</td>\n      <td>25</td>\n      <td>1</td>\n      <td>Caucasian</td>\n      <td>...</td>\n      <td>High</td>\n      <td>0.000105</td>\n      <td>0.411765</td>\n      <td>0.360339</td>\n      <td>0.495359</td>\n      <td>0.972152</td>\n      <td>0.089744</td>\n      <td>0.441860</td>\n      <td>2.591836</td>\n      <td>2.0</td>\n    </tr>\n    <tr>\n      <th>5161</th>\n      <td>5490</td>\n      <td>wacaltos virgile</td>\n      <td>wacaltos</td>\n      <td>virgile</td>\n      <td>2013-01-02</td>\n      <td>0</td>\n      <td>1988-04-15</td>\n      <td>28</td>\n      <td>1</td>\n      <td>Other</td>\n      <td>...</td>\n      <td>High</td>\n      <td>0.000000</td>\n      <td>0.000000</td>\n      <td>0.360943</td>\n      <td>1.000000</td>\n      <td>1.000000</td>\n      <td>0.128205</td>\n      <td>0.232558</td>\n      <td>2.465296</td>\n      <td>3.0</td>\n    </tr>\n    <tr>\n      <th>4824</th>\n      <td>5135</td>\n      <td>christopher marion</td>\n      <td>christopher</td>\n      <td>marion</td>\n      <td>2013-05-24</td>\n      <td>0</td>\n      <td>1991-04-02</td>\n      <td>25</td>\n      <td>1</td>\n      <td>African-American</td>\n      <td>...</td>\n      <td>High</td>\n      <td>0.000105</td>\n      <td>0.058824</td>\n      <td>0.360339</td>\n      <td>0.880169</td>\n      <td>0.880169</td>\n      <td>0.089744</td>\n      <td>0.348837</td>\n      <td>2.438699</td>\n      <td>4.0</td>\n    </tr>\n    <tr>\n      <th>6340</th>\n      <td>6746</td>\n      <td>shawn hankerson</td>\n      <td>shawn</td>\n      <td>hankerson</td>\n      <td>2013-05-09</td>\n      <td>0</td>\n      <td>1990-10-27</td>\n      <td>25</td>\n      <td>1</td>\n      <td>African-American</td>\n      <td>...</td>\n      <td>High</td>\n      <td>0.000105</td>\n      <td>0.176471</td>\n      <td>0.360339</td>\n      <td>0.892827</td>\n      <td>0.892827</td>\n      <td>0.089744</td>\n      <td>0.139535</td>\n      <td>2.372360</td>\n      <td>5.0</td>\n    </tr>\n    <tr>\n      <th>4265</th>\n      <td>4538</td>\n      <td>dontae pew</td>\n      <td>dontae</td>\n      <td>pew</td>\n      <td>2013-03-22</td>\n      <td>0</td>\n      <td>1978-08-28</td>\n      <td>37</td>\n      <td>1</td>\n      <td>African-American</td>\n      <td>...</td>\n      <td>High</td>\n      <td>0.000105</td>\n      <td>0.000000</td>\n      <td>0.360339</td>\n      <td>0.933333</td>\n      <td>0.933333</td>\n      <td>0.243590</td>\n      <td>0.372093</td>\n      <td>2.355614</td>\n      <td>6.0</td>\n    </tr>\n    <tr>\n      <th>1911</th>\n      <td>2032</td>\n      <td>joshua stuart</td>\n      <td>joshua</td>\n      <td>stuart</td>\n      <td>2013-01-16</td>\n      <td>0</td>\n      <td>1993-08-27</td>\n      <td>22</td>\n      <td>0</td>\n      <td>African-American</td>\n      <td>...</td>\n      <td>Medium</td>\n      <td>0.000105</td>\n      <td>0.000000</td>\n      <td>0.360339</td>\n      <td>0.988186</td>\n      <td>0.988186</td>\n      <td>0.051282</td>\n      <td>0.046512</td>\n      <td>2.332045</td>\n      <td>7.0</td>\n    </tr>\n    <tr>\n      <th>5292</th>\n      <td>5626</td>\n      <td>jahmal bodden</td>\n      <td>jahmal</td>\n      <td>bodden</td>\n      <td>2013-02-26</td>\n      <td>0</td>\n      <td>1988-05-06</td>\n      <td>27</td>\n      <td>1</td>\n      <td>African-American</td>\n      <td>...</td>\n      <td>High</td>\n      <td>0.000105</td>\n      <td>0.000000</td>\n      <td>0.360943</td>\n      <td>0.953586</td>\n      <td>0.953586</td>\n      <td>0.115385</td>\n      <td>0.162791</td>\n      <td>2.315628</td>\n      <td>8.0</td>\n    </tr>\n  </tbody>\n</table>\n<p>8 rows × 63 columns</p>\n</div>"
     },
     "execution_count": 42,
     "metadata": {},
     "output_type": "execute_result"
    }
   ],
   "source": [
    "compas_data = compas_data.sort_values(by=['rank'])\n",
    "compas_data[:8]\n"
   ],
   "metadata": {
    "collapsed": false,
    "pycharm": {
     "name": "#%%\n"
    }
   }
  },
  {
   "cell_type": "code",
   "execution_count": 43,
   "outputs": [],
   "source": [
    "compas_data.to_csv(r\"cox-parsed-filtered-cat-ranked.csv\", index=False)\n"
   ],
   "metadata": {
    "collapsed": false,
    "pycharm": {
     "name": "#%%\n"
    }
   }
  },
  {
   "cell_type": "markdown",
   "source": [
    "# categorize other attributes\n"
   ],
   "metadata": {
    "collapsed": false,
    "pycharm": {
     "name": "#%% md\n"
    }
   }
  },
  {
   "cell_type": "code",
   "execution_count": 44,
   "outputs": [
    {
     "data": {
      "text/plain": "     id                name        first     last compas_screening_date  sex  \\\n0  8043        desi johnson         desi  johnson            2013-03-20    0   \n1  5656       daniel morgan       daniel   morgan            2013-02-03    0   \n2  5490    wacaltos virgile     wacaltos  virgile            2013-01-02    0   \n3  5135  christopher marion  christopher   marion            2013-05-24    0   \n\n          dob  age  age_cat              race  ...  score_factor  \\\n0  1974-06-06   41        1  African-American  ...          High   \n1  1990-04-29   25        1         Caucasian  ...          High   \n2  1988-04-15   28        1             Other  ...          High   \n3  1991-04-02   25        1  African-American  ...          High   \n\n   c_days_from_compas_normalized  juv_other_count_normalized  \\\n0                       0.000105                    0.058824   \n1                       0.000105                    0.411765   \n2                       0.000000                    0.000000   \n3                       0.000105                    0.058824   \n\n   days_b_screening_arrest_normalized  start_normalized  end_normalized  \\\n0                            0.360339          0.935021        0.935021   \n1                            0.360339          0.495359        0.972152   \n2                            0.360943          1.000000        1.000000   \n3                            0.360339          0.880169        0.880169   \n\n  age_normalized priors_count_normalized     score rank  \n0       0.294872                0.674419  2.668857  1.0  \n1       0.089744                0.441860  2.591836  2.0  \n2       0.128205                0.232558  2.465296  3.0  \n3       0.089744                0.348837  2.438699  4.0  \n\n[4 rows x 63 columns]",
      "text/html": "<div>\n<style scoped>\n    .dataframe tbody tr th:only-of-type {\n        vertical-align: middle;\n    }\n\n    .dataframe tbody tr th {\n        vertical-align: top;\n    }\n\n    .dataframe thead th {\n        text-align: right;\n    }\n</style>\n<table border=\"1\" class=\"dataframe\">\n  <thead>\n    <tr style=\"text-align: right;\">\n      <th></th>\n      <th>id</th>\n      <th>name</th>\n      <th>first</th>\n      <th>last</th>\n      <th>compas_screening_date</th>\n      <th>sex</th>\n      <th>dob</th>\n      <th>age</th>\n      <th>age_cat</th>\n      <th>race</th>\n      <th>...</th>\n      <th>score_factor</th>\n      <th>c_days_from_compas_normalized</th>\n      <th>juv_other_count_normalized</th>\n      <th>days_b_screening_arrest_normalized</th>\n      <th>start_normalized</th>\n      <th>end_normalized</th>\n      <th>age_normalized</th>\n      <th>priors_count_normalized</th>\n      <th>score</th>\n      <th>rank</th>\n    </tr>\n  </thead>\n  <tbody>\n    <tr>\n      <th>0</th>\n      <td>8043</td>\n      <td>desi johnson</td>\n      <td>desi</td>\n      <td>johnson</td>\n      <td>2013-03-20</td>\n      <td>0</td>\n      <td>1974-06-06</td>\n      <td>41</td>\n      <td>1</td>\n      <td>African-American</td>\n      <td>...</td>\n      <td>High</td>\n      <td>0.000105</td>\n      <td>0.058824</td>\n      <td>0.360339</td>\n      <td>0.935021</td>\n      <td>0.935021</td>\n      <td>0.294872</td>\n      <td>0.674419</td>\n      <td>2.668857</td>\n      <td>1.0</td>\n    </tr>\n    <tr>\n      <th>1</th>\n      <td>5656</td>\n      <td>daniel morgan</td>\n      <td>daniel</td>\n      <td>morgan</td>\n      <td>2013-02-03</td>\n      <td>0</td>\n      <td>1990-04-29</td>\n      <td>25</td>\n      <td>1</td>\n      <td>Caucasian</td>\n      <td>...</td>\n      <td>High</td>\n      <td>0.000105</td>\n      <td>0.411765</td>\n      <td>0.360339</td>\n      <td>0.495359</td>\n      <td>0.972152</td>\n      <td>0.089744</td>\n      <td>0.441860</td>\n      <td>2.591836</td>\n      <td>2.0</td>\n    </tr>\n    <tr>\n      <th>2</th>\n      <td>5490</td>\n      <td>wacaltos virgile</td>\n      <td>wacaltos</td>\n      <td>virgile</td>\n      <td>2013-01-02</td>\n      <td>0</td>\n      <td>1988-04-15</td>\n      <td>28</td>\n      <td>1</td>\n      <td>Other</td>\n      <td>...</td>\n      <td>High</td>\n      <td>0.000000</td>\n      <td>0.000000</td>\n      <td>0.360943</td>\n      <td>1.000000</td>\n      <td>1.000000</td>\n      <td>0.128205</td>\n      <td>0.232558</td>\n      <td>2.465296</td>\n      <td>3.0</td>\n    </tr>\n    <tr>\n      <th>3</th>\n      <td>5135</td>\n      <td>christopher marion</td>\n      <td>christopher</td>\n      <td>marion</td>\n      <td>2013-05-24</td>\n      <td>0</td>\n      <td>1991-04-02</td>\n      <td>25</td>\n      <td>1</td>\n      <td>African-American</td>\n      <td>...</td>\n      <td>High</td>\n      <td>0.000105</td>\n      <td>0.058824</td>\n      <td>0.360339</td>\n      <td>0.880169</td>\n      <td>0.880169</td>\n      <td>0.089744</td>\n      <td>0.348837</td>\n      <td>2.438699</td>\n      <td>4.0</td>\n    </tr>\n  </tbody>\n</table>\n<p>4 rows × 63 columns</p>\n</div>"
     },
     "execution_count": 44,
     "metadata": {},
     "output_type": "execute_result"
    }
   ],
   "source": [
    "\n",
    "compas_data = pd.read_csv(r\"cox-parsed-filtered-cat-ranked.csv\")\n",
    "compas_data[:4]\n"
   ],
   "metadata": {
    "collapsed": false,
    "pycharm": {
     "name": "#%%\n"
    }
   }
  },
  {
   "cell_type": "code",
   "execution_count": 45,
   "outputs": [
    {
     "data": {
      "text/plain": "                 id           sex           age       age_cat  juv_fel_count  \\\ncount  10314.000000  10314.000000  10314.000000  10314.000000   10314.000000   \nmean    5492.537716      0.204770     35.025693      1.015222       0.065154   \nstd     3177.588909      0.403553     11.952345      0.656189       0.465655   \nmin        1.000000      0.000000     18.000000      0.000000       0.000000   \n25%     2739.250000      0.000000     25.000000      1.000000       0.000000   \n50%     5485.500000      0.000000     32.000000      1.000000       0.000000   \n75%     8243.750000      0.000000     43.000000      1.000000       0.000000   \nmax    11001.000000      1.000000     96.000000      2.000000      20.000000   \n\n       decile_score  juv_misd_count  juv_other_count  priors_count  \\\ncount  10314.000000    10314.000000     10314.000000  10314.000000   \nmean       4.408183        0.080376         0.100737      3.279523   \nstd        2.866660        0.465254         0.491007      4.752899   \nmin        1.000000        0.000000         0.000000      0.000000   \n25%        2.000000        0.000000         0.000000      0.000000   \n50%        4.000000        0.000000         0.000000      1.000000   \n75%        7.000000        0.000000         0.000000      4.000000   \nmax       10.000000       13.000000        17.000000     43.000000   \n\n       days_b_screening_arrest  ...   race_factor  \\\ncount              9887.000000  ...  10314.000000   \nmean                 -0.661677  ...      1.260811   \nstd                  73.854464  ...      1.434244   \nmin                -597.000000  ...      0.000000   \n25%                  -1.000000  ...      0.000000   \n50%                  -1.000000  ...      1.000000   \n75%                  -1.000000  ...      2.000000   \nmax                1057.000000  ...      5.000000   \n\n       c_days_from_compas_normalized  juv_other_count_normalized  \\\ncount                   10291.000000                10314.000000   \nmean                        0.006793                    0.005926   \nstd                         0.036770                    0.028883   \nmin                         0.000000                    0.000000   \n25%                         0.000105                    0.000000   \n50%                         0.000105                    0.000000   \n75%                         0.000211                    0.000000   \nmax                         1.000000                    1.000000   \n\n       days_b_screening_arrest_normalized  start_normalized  end_normalized  \\\ncount                         9887.000000      10314.000000    10314.000000   \nmean                             0.360543          0.020156        0.458325   \nstd                              0.044652          0.092180        0.298983   \nmin                              0.000000          0.000000        0.000000   \n25%                              0.360339          0.000000        0.169620   \n50%                              0.360339          0.000000        0.461603   \n75%                              0.360339          0.001688        0.697046   \nmax                              1.000000          1.000000        1.000000   \n\n       age_normalized  priors_count_normalized        score          rank  \ncount    10314.000000             10314.000000  9887.000000  10314.000000  \nmean         0.218278                 0.076268     0.701884   5157.500000  \nstd          0.153235                 0.110533     0.337279   2977.539672  \nmin          0.000000                 0.000000    -0.444676      1.000000  \n25%          0.089744                 0.000000     0.463447   2579.250000  \n50%          0.179487                 0.023256     0.675435   5157.500000  \n75%          0.320513                 0.093023     0.913065   7735.750000  \nmax          1.000000                 1.000000     2.668857  10314.000000  \n\n[8 rows x 31 columns]",
      "text/html": "<div>\n<style scoped>\n    .dataframe tbody tr th:only-of-type {\n        vertical-align: middle;\n    }\n\n    .dataframe tbody tr th {\n        vertical-align: top;\n    }\n\n    .dataframe thead th {\n        text-align: right;\n    }\n</style>\n<table border=\"1\" class=\"dataframe\">\n  <thead>\n    <tr style=\"text-align: right;\">\n      <th></th>\n      <th>id</th>\n      <th>sex</th>\n      <th>age</th>\n      <th>age_cat</th>\n      <th>juv_fel_count</th>\n      <th>decile_score</th>\n      <th>juv_misd_count</th>\n      <th>juv_other_count</th>\n      <th>priors_count</th>\n      <th>days_b_screening_arrest</th>\n      <th>...</th>\n      <th>race_factor</th>\n      <th>c_days_from_compas_normalized</th>\n      <th>juv_other_count_normalized</th>\n      <th>days_b_screening_arrest_normalized</th>\n      <th>start_normalized</th>\n      <th>end_normalized</th>\n      <th>age_normalized</th>\n      <th>priors_count_normalized</th>\n      <th>score</th>\n      <th>rank</th>\n    </tr>\n  </thead>\n  <tbody>\n    <tr>\n      <th>count</th>\n      <td>10314.000000</td>\n      <td>10314.000000</td>\n      <td>10314.000000</td>\n      <td>10314.000000</td>\n      <td>10314.000000</td>\n      <td>10314.000000</td>\n      <td>10314.000000</td>\n      <td>10314.000000</td>\n      <td>10314.000000</td>\n      <td>9887.000000</td>\n      <td>...</td>\n      <td>10314.000000</td>\n      <td>10291.000000</td>\n      <td>10314.000000</td>\n      <td>9887.000000</td>\n      <td>10314.000000</td>\n      <td>10314.000000</td>\n      <td>10314.000000</td>\n      <td>10314.000000</td>\n      <td>9887.000000</td>\n      <td>10314.000000</td>\n    </tr>\n    <tr>\n      <th>mean</th>\n      <td>5492.537716</td>\n      <td>0.204770</td>\n      <td>35.025693</td>\n      <td>1.015222</td>\n      <td>0.065154</td>\n      <td>4.408183</td>\n      <td>0.080376</td>\n      <td>0.100737</td>\n      <td>3.279523</td>\n      <td>-0.661677</td>\n      <td>...</td>\n      <td>1.260811</td>\n      <td>0.006793</td>\n      <td>0.005926</td>\n      <td>0.360543</td>\n      <td>0.020156</td>\n      <td>0.458325</td>\n      <td>0.218278</td>\n      <td>0.076268</td>\n      <td>0.701884</td>\n      <td>5157.500000</td>\n    </tr>\n    <tr>\n      <th>std</th>\n      <td>3177.588909</td>\n      <td>0.403553</td>\n      <td>11.952345</td>\n      <td>0.656189</td>\n      <td>0.465655</td>\n      <td>2.866660</td>\n      <td>0.465254</td>\n      <td>0.491007</td>\n      <td>4.752899</td>\n      <td>73.854464</td>\n      <td>...</td>\n      <td>1.434244</td>\n      <td>0.036770</td>\n      <td>0.028883</td>\n      <td>0.044652</td>\n      <td>0.092180</td>\n      <td>0.298983</td>\n      <td>0.153235</td>\n      <td>0.110533</td>\n      <td>0.337279</td>\n      <td>2977.539672</td>\n    </tr>\n    <tr>\n      <th>min</th>\n      <td>1.000000</td>\n      <td>0.000000</td>\n      <td>18.000000</td>\n      <td>0.000000</td>\n      <td>0.000000</td>\n      <td>1.000000</td>\n      <td>0.000000</td>\n      <td>0.000000</td>\n      <td>0.000000</td>\n      <td>-597.000000</td>\n      <td>...</td>\n      <td>0.000000</td>\n      <td>0.000000</td>\n      <td>0.000000</td>\n      <td>0.000000</td>\n      <td>0.000000</td>\n      <td>0.000000</td>\n      <td>0.000000</td>\n      <td>0.000000</td>\n      <td>-0.444676</td>\n      <td>1.000000</td>\n    </tr>\n    <tr>\n      <th>25%</th>\n      <td>2739.250000</td>\n      <td>0.000000</td>\n      <td>25.000000</td>\n      <td>1.000000</td>\n      <td>0.000000</td>\n      <td>2.000000</td>\n      <td>0.000000</td>\n      <td>0.000000</td>\n      <td>0.000000</td>\n      <td>-1.000000</td>\n      <td>...</td>\n      <td>0.000000</td>\n      <td>0.000105</td>\n      <td>0.000000</td>\n      <td>0.360339</td>\n      <td>0.000000</td>\n      <td>0.169620</td>\n      <td>0.089744</td>\n      <td>0.000000</td>\n      <td>0.463447</td>\n      <td>2579.250000</td>\n    </tr>\n    <tr>\n      <th>50%</th>\n      <td>5485.500000</td>\n      <td>0.000000</td>\n      <td>32.000000</td>\n      <td>1.000000</td>\n      <td>0.000000</td>\n      <td>4.000000</td>\n      <td>0.000000</td>\n      <td>0.000000</td>\n      <td>1.000000</td>\n      <td>-1.000000</td>\n      <td>...</td>\n      <td>1.000000</td>\n      <td>0.000105</td>\n      <td>0.000000</td>\n      <td>0.360339</td>\n      <td>0.000000</td>\n      <td>0.461603</td>\n      <td>0.179487</td>\n      <td>0.023256</td>\n      <td>0.675435</td>\n      <td>5157.500000</td>\n    </tr>\n    <tr>\n      <th>75%</th>\n      <td>8243.750000</td>\n      <td>0.000000</td>\n      <td>43.000000</td>\n      <td>1.000000</td>\n      <td>0.000000</td>\n      <td>7.000000</td>\n      <td>0.000000</td>\n      <td>0.000000</td>\n      <td>4.000000</td>\n      <td>-1.000000</td>\n      <td>...</td>\n      <td>2.000000</td>\n      <td>0.000211</td>\n      <td>0.000000</td>\n      <td>0.360339</td>\n      <td>0.001688</td>\n      <td>0.697046</td>\n      <td>0.320513</td>\n      <td>0.093023</td>\n      <td>0.913065</td>\n      <td>7735.750000</td>\n    </tr>\n    <tr>\n      <th>max</th>\n      <td>11001.000000</td>\n      <td>1.000000</td>\n      <td>96.000000</td>\n      <td>2.000000</td>\n      <td>20.000000</td>\n      <td>10.000000</td>\n      <td>13.000000</td>\n      <td>17.000000</td>\n      <td>43.000000</td>\n      <td>1057.000000</td>\n      <td>...</td>\n      <td>5.000000</td>\n      <td>1.000000</td>\n      <td>1.000000</td>\n      <td>1.000000</td>\n      <td>1.000000</td>\n      <td>1.000000</td>\n      <td>1.000000</td>\n      <td>1.000000</td>\n      <td>2.668857</td>\n      <td>10314.000000</td>\n    </tr>\n  </tbody>\n</table>\n<p>8 rows × 31 columns</p>\n</div>"
     },
     "execution_count": 45,
     "metadata": {},
     "output_type": "execute_result"
    }
   ],
   "source": [
    "compas_data.describe()\n"
   ],
   "metadata": {
    "collapsed": false,
    "pycharm": {
     "name": "#%%\n"
    }
   }
  },
  {
   "cell_type": "code",
   "execution_count": null,
   "outputs": [],
   "source": [],
   "metadata": {
    "collapsed": false,
    "pycharm": {
     "name": "#%%\n"
    }
   }
  }
 ],
 "metadata": {
  "kernelspec": {
   "display_name": "Python 3",
   "language": "python",
   "name": "python3"
  },
  "language_info": {
   "codemirror_mode": {
    "name": "ipython",
    "version": 2
   },
   "file_extension": ".py",
   "mimetype": "text/x-python",
   "name": "python",
   "nbconvert_exporter": "python",
   "pygments_lexer": "ipython2",
   "version": "2.7.6"
  }
 },
 "nbformat": 4,
 "nbformat_minor": 0
}