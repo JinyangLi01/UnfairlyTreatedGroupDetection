{
 "cells": [
  {
   "cell_type": "markdown",
   "source": [],
   "metadata": {
    "collapsed": false,
    "pycharm": {
     "name": "#%% md\n"
    }
   }
  },
  {
   "cell_type": "code",
   "execution_count": null,
   "metadata": {
    "collapsed": true,
    "pycharm": {
     "name": "#%%\n"
    }
   },
   "outputs": [],
   "source": []
  },
  {
   "cell_type": "code",
   "execution_count": 1,
   "outputs": [],
   "source": [
    "\n",
    "import pandas as pd\n",
    "import numpy as np\n",
    "\n"
   ],
   "metadata": {
    "collapsed": false,
    "pycharm": {
     "name": "#%%\n"
    }
   }
  },
  {
   "cell_type": "code",
   "execution_count": 3,
   "outputs": [
    {
     "data": {
      "text/plain": "   StatusExistingAcc  DurationMonth  CreditHistory  Purpose  CreditAmount  \\\n0                 11              6             34       43          1169   \n1                 12             48             32       43          5951   \n2                 14             12             34       46          2096   \n3                 11             42             32       42          7882   \n4                 11             24             33       40          4870   \n\n   SavingsAccount  EmploymentLength  InstallmentRate  MarriedNSex  Debtors  \\\n0              65                75                4           93      101   \n1              61                73                2           92      101   \n2              61                74                2           93      101   \n3              61                74                2           93      103   \n4              61                73                3           93      101   \n\n   ...  Age  InstallmentPlans  Housing  ExistingCredit  Job  NumPeopleLiable  \\\n0  ...   67               143      152               2  173                1   \n1  ...   22               143      152               1  173                1   \n2  ...   49               143      152               1  172                2   \n3  ...   45               143      153               1  173                2   \n4  ...   53               143      153               2  173                2   \n\n   Telephone  ForeignWorker  CreditEval  AgeBinary  \n0        192            201           1      other  \n1        191            201           2      young  \n2        191            201           1      other  \n3        191            201           1      other  \n4        191            201           2      other  \n\n[5 rows x 22 columns]",
      "text/html": "<div>\n<style scoped>\n    .dataframe tbody tr th:only-of-type {\n        vertical-align: middle;\n    }\n\n    .dataframe tbody tr th {\n        vertical-align: top;\n    }\n\n    .dataframe thead th {\n        text-align: right;\n    }\n</style>\n<table border=\"1\" class=\"dataframe\">\n  <thead>\n    <tr style=\"text-align: right;\">\n      <th></th>\n      <th>StatusExistingAcc</th>\n      <th>DurationMonth</th>\n      <th>CreditHistory</th>\n      <th>Purpose</th>\n      <th>CreditAmount</th>\n      <th>SavingsAccount</th>\n      <th>EmploymentLength</th>\n      <th>InstallmentRate</th>\n      <th>MarriedNSex</th>\n      <th>Debtors</th>\n      <th>...</th>\n      <th>Age</th>\n      <th>InstallmentPlans</th>\n      <th>Housing</th>\n      <th>ExistingCredit</th>\n      <th>Job</th>\n      <th>NumPeopleLiable</th>\n      <th>Telephone</th>\n      <th>ForeignWorker</th>\n      <th>CreditEval</th>\n      <th>AgeBinary</th>\n    </tr>\n  </thead>\n  <tbody>\n    <tr>\n      <th>0</th>\n      <td>11</td>\n      <td>6</td>\n      <td>34</td>\n      <td>43</td>\n      <td>1169</td>\n      <td>65</td>\n      <td>75</td>\n      <td>4</td>\n      <td>93</td>\n      <td>101</td>\n      <td>...</td>\n      <td>67</td>\n      <td>143</td>\n      <td>152</td>\n      <td>2</td>\n      <td>173</td>\n      <td>1</td>\n      <td>192</td>\n      <td>201</td>\n      <td>1</td>\n      <td>other</td>\n    </tr>\n    <tr>\n      <th>1</th>\n      <td>12</td>\n      <td>48</td>\n      <td>32</td>\n      <td>43</td>\n      <td>5951</td>\n      <td>61</td>\n      <td>73</td>\n      <td>2</td>\n      <td>92</td>\n      <td>101</td>\n      <td>...</td>\n      <td>22</td>\n      <td>143</td>\n      <td>152</td>\n      <td>1</td>\n      <td>173</td>\n      <td>1</td>\n      <td>191</td>\n      <td>201</td>\n      <td>2</td>\n      <td>young</td>\n    </tr>\n    <tr>\n      <th>2</th>\n      <td>14</td>\n      <td>12</td>\n      <td>34</td>\n      <td>46</td>\n      <td>2096</td>\n      <td>61</td>\n      <td>74</td>\n      <td>2</td>\n      <td>93</td>\n      <td>101</td>\n      <td>...</td>\n      <td>49</td>\n      <td>143</td>\n      <td>152</td>\n      <td>1</td>\n      <td>172</td>\n      <td>2</td>\n      <td>191</td>\n      <td>201</td>\n      <td>1</td>\n      <td>other</td>\n    </tr>\n    <tr>\n      <th>3</th>\n      <td>11</td>\n      <td>42</td>\n      <td>32</td>\n      <td>42</td>\n      <td>7882</td>\n      <td>61</td>\n      <td>74</td>\n      <td>2</td>\n      <td>93</td>\n      <td>103</td>\n      <td>...</td>\n      <td>45</td>\n      <td>143</td>\n      <td>153</td>\n      <td>1</td>\n      <td>173</td>\n      <td>2</td>\n      <td>191</td>\n      <td>201</td>\n      <td>1</td>\n      <td>other</td>\n    </tr>\n    <tr>\n      <th>4</th>\n      <td>11</td>\n      <td>24</td>\n      <td>33</td>\n      <td>40</td>\n      <td>4870</td>\n      <td>61</td>\n      <td>73</td>\n      <td>3</td>\n      <td>93</td>\n      <td>101</td>\n      <td>...</td>\n      <td>53</td>\n      <td>143</td>\n      <td>153</td>\n      <td>2</td>\n      <td>173</td>\n      <td>2</td>\n      <td>191</td>\n      <td>201</td>\n      <td>2</td>\n      <td>other</td>\n    </tr>\n  </tbody>\n</table>\n<p>5 rows × 22 columns</p>\n</div>"
     },
     "execution_count": 3,
     "metadata": {},
     "output_type": "execute_result"
    }
   ],
   "source": [
    "\n",
    "\n",
    "# German credit\n",
    "data_all_att = pd.read_csv(\"RankingFacts/GermanCredit_age25.csv\")\n",
    "data_all_att.head(5)\n"
   ],
   "metadata": {
    "collapsed": false,
    "pycharm": {
     "name": "#%%\n"
    }
   }
  },
  {
   "cell_type": "code",
   "execution_count": 4,
   "outputs": [
    {
     "data": {
      "text/plain": "   DurationMonth  CreditAmount     score  age25\n0       0.029412      0.949433  0.600715      0\n1       0.647059      0.686310  0.496131      1\n2       0.117647      0.898426  0.506866      0\n3       0.558824      0.580059  0.599482      0\n4       0.294118      0.745791  0.550060      0",
      "text/html": "<div>\n<style scoped>\n    .dataframe tbody tr th:only-of-type {\n        vertical-align: middle;\n    }\n\n    .dataframe tbody tr th {\n        vertical-align: top;\n    }\n\n    .dataframe thead th {\n        text-align: right;\n    }\n</style>\n<table border=\"1\" class=\"dataframe\">\n  <thead>\n    <tr style=\"text-align: right;\">\n      <th></th>\n      <th>DurationMonth</th>\n      <th>CreditAmount</th>\n      <th>score</th>\n      <th>age25</th>\n    </tr>\n  </thead>\n  <tbody>\n    <tr>\n      <th>0</th>\n      <td>0.029412</td>\n      <td>0.949433</td>\n      <td>0.600715</td>\n      <td>0</td>\n    </tr>\n    <tr>\n      <th>1</th>\n      <td>0.647059</td>\n      <td>0.686310</td>\n      <td>0.496131</td>\n      <td>1</td>\n    </tr>\n    <tr>\n      <th>2</th>\n      <td>0.117647</td>\n      <td>0.898426</td>\n      <td>0.506866</td>\n      <td>0</td>\n    </tr>\n    <tr>\n      <th>3</th>\n      <td>0.558824</td>\n      <td>0.580059</td>\n      <td>0.599482</td>\n      <td>0</td>\n    </tr>\n    <tr>\n      <th>4</th>\n      <td>0.294118</td>\n      <td>0.745791</td>\n      <td>0.550060</td>\n      <td>0</td>\n    </tr>\n  </tbody>\n</table>\n</div>"
     },
     "execution_count": 4,
     "metadata": {},
     "output_type": "execute_result"
    }
   ],
   "source": [
    "\n",
    "data_score = pd.read_csv(r\"FairRank/GermanCredit_age25.csv\")\n",
    "data_score.head(5)"
   ],
   "metadata": {
    "collapsed": false,
    "pycharm": {
     "name": "#%%\n"
    }
   }
  },
  {
   "cell_type": "code",
   "execution_count": 5,
   "outputs": [
    {
     "data": {
      "text/plain": "   StatusExistingAcc  DurationMonth_x  CreditHistory  Purpose  CreditAmount_x  \\\n0                 11                6             34       43            1169   \n1                 12               48             32       43            5951   \n2                 14               12             34       46            2096   \n3                 11               42             32       42            7882   \n4                 11               24             33       40            4870   \n\n   SavingsAccount  EmploymentLength  InstallmentRate  MarriedNSex  Debtors  \\\n0              65                75                4           93      101   \n1              61                73                2           92      101   \n2              61                74                2           93      101   \n3              61                74                2           93      103   \n4              61                73                3           93      101   \n\n   ...  Job  NumPeopleLiable  Telephone  ForeignWorker  CreditEval  AgeBinary  \\\n0  ...  173                1        192            201           1      other   \n1  ...  173                1        191            201           2      young   \n2  ...  172                2        191            201           1      other   \n3  ...  173                2        191            201           1      other   \n4  ...  173                2        191            201           2      other   \n\n   DurationMonth_y  CreditAmount_y     score  age25  \n0         0.029412        0.949433  0.600715      0  \n1         0.647059        0.686310  0.496131      1  \n2         0.117647        0.898426  0.506866      0  \n3         0.558824        0.580059  0.599482      0  \n4         0.294118        0.745791  0.550060      0  \n\n[5 rows x 26 columns]",
      "text/html": "<div>\n<style scoped>\n    .dataframe tbody tr th:only-of-type {\n        vertical-align: middle;\n    }\n\n    .dataframe tbody tr th {\n        vertical-align: top;\n    }\n\n    .dataframe thead th {\n        text-align: right;\n    }\n</style>\n<table border=\"1\" class=\"dataframe\">\n  <thead>\n    <tr style=\"text-align: right;\">\n      <th></th>\n      <th>StatusExistingAcc</th>\n      <th>DurationMonth_x</th>\n      <th>CreditHistory</th>\n      <th>Purpose</th>\n      <th>CreditAmount_x</th>\n      <th>SavingsAccount</th>\n      <th>EmploymentLength</th>\n      <th>InstallmentRate</th>\n      <th>MarriedNSex</th>\n      <th>Debtors</th>\n      <th>...</th>\n      <th>Job</th>\n      <th>NumPeopleLiable</th>\n      <th>Telephone</th>\n      <th>ForeignWorker</th>\n      <th>CreditEval</th>\n      <th>AgeBinary</th>\n      <th>DurationMonth_y</th>\n      <th>CreditAmount_y</th>\n      <th>score</th>\n      <th>age25</th>\n    </tr>\n  </thead>\n  <tbody>\n    <tr>\n      <th>0</th>\n      <td>11</td>\n      <td>6</td>\n      <td>34</td>\n      <td>43</td>\n      <td>1169</td>\n      <td>65</td>\n      <td>75</td>\n      <td>4</td>\n      <td>93</td>\n      <td>101</td>\n      <td>...</td>\n      <td>173</td>\n      <td>1</td>\n      <td>192</td>\n      <td>201</td>\n      <td>1</td>\n      <td>other</td>\n      <td>0.029412</td>\n      <td>0.949433</td>\n      <td>0.600715</td>\n      <td>0</td>\n    </tr>\n    <tr>\n      <th>1</th>\n      <td>12</td>\n      <td>48</td>\n      <td>32</td>\n      <td>43</td>\n      <td>5951</td>\n      <td>61</td>\n      <td>73</td>\n      <td>2</td>\n      <td>92</td>\n      <td>101</td>\n      <td>...</td>\n      <td>173</td>\n      <td>1</td>\n      <td>191</td>\n      <td>201</td>\n      <td>2</td>\n      <td>young</td>\n      <td>0.647059</td>\n      <td>0.686310</td>\n      <td>0.496131</td>\n      <td>1</td>\n    </tr>\n    <tr>\n      <th>2</th>\n      <td>14</td>\n      <td>12</td>\n      <td>34</td>\n      <td>46</td>\n      <td>2096</td>\n      <td>61</td>\n      <td>74</td>\n      <td>2</td>\n      <td>93</td>\n      <td>101</td>\n      <td>...</td>\n      <td>172</td>\n      <td>2</td>\n      <td>191</td>\n      <td>201</td>\n      <td>1</td>\n      <td>other</td>\n      <td>0.117647</td>\n      <td>0.898426</td>\n      <td>0.506866</td>\n      <td>0</td>\n    </tr>\n    <tr>\n      <th>3</th>\n      <td>11</td>\n      <td>42</td>\n      <td>32</td>\n      <td>42</td>\n      <td>7882</td>\n      <td>61</td>\n      <td>74</td>\n      <td>2</td>\n      <td>93</td>\n      <td>103</td>\n      <td>...</td>\n      <td>173</td>\n      <td>2</td>\n      <td>191</td>\n      <td>201</td>\n      <td>1</td>\n      <td>other</td>\n      <td>0.558824</td>\n      <td>0.580059</td>\n      <td>0.599482</td>\n      <td>0</td>\n    </tr>\n    <tr>\n      <th>4</th>\n      <td>11</td>\n      <td>24</td>\n      <td>33</td>\n      <td>40</td>\n      <td>4870</td>\n      <td>61</td>\n      <td>73</td>\n      <td>3</td>\n      <td>93</td>\n      <td>101</td>\n      <td>...</td>\n      <td>173</td>\n      <td>2</td>\n      <td>191</td>\n      <td>201</td>\n      <td>2</td>\n      <td>other</td>\n      <td>0.294118</td>\n      <td>0.745791</td>\n      <td>0.550060</td>\n      <td>0</td>\n    </tr>\n  </tbody>\n</table>\n<p>5 rows × 26 columns</p>\n</div>"
     },
     "execution_count": 5,
     "metadata": {},
     "output_type": "execute_result"
    }
   ],
   "source": [
    "\n",
    "data_merged = pd.merge(data_all_att, data_score, left_index=True, right_index=True)\n",
    "\n",
    "data_merged.head(5)"
   ],
   "metadata": {
    "collapsed": false,
    "pycharm": {
     "name": "#%%\n"
    }
   }
  },
  {
   "cell_type": "code",
   "execution_count": 6,
   "outputs": [
    {
     "data": {
      "text/plain": "1000"
     },
     "execution_count": 6,
     "metadata": {},
     "output_type": "execute_result"
    }
   ],
   "source": [
    "len(data_merged)"
   ],
   "metadata": {
    "collapsed": false,
    "pycharm": {
     "name": "#%%\n"
    }
   }
  },
  {
   "cell_type": "code",
   "execution_count": 7,
   "outputs": [
    {
     "data": {
      "text/plain": "       StatusExistingAcc  DurationMonth_x  CreditHistory      Purpose  \\\ncount        1000.000000      1000.000000     1000.00000  1000.000000   \nmean           12.577000        20.903000       32.54500    47.148000   \nstd             1.257638        12.058814        1.08312    40.095333   \nmin            11.000000         4.000000       30.00000    40.000000   \n25%            11.000000        12.000000       32.00000    41.000000   \n50%            12.000000        18.000000       32.00000    42.000000   \n75%            14.000000        24.000000       34.00000    43.000000   \nmax            14.000000        72.000000       34.00000   410.000000   \n\n       CreditAmount_x  SavingsAccount  EmploymentLength  InstallmentRate  \\\ncount     1000.000000     1000.000000       1000.000000      1000.000000   \nmean      3271.258000       62.105000         73.384000         2.973000   \nstd       2822.736876        1.580023          1.208306         1.118715   \nmin        250.000000       61.000000         71.000000         1.000000   \n25%       1365.500000       61.000000         73.000000         2.000000   \n50%       2319.500000       61.000000         73.000000         3.000000   \n75%       3972.250000       63.000000         75.000000         4.000000   \nmax      18424.000000       65.000000         75.000000         4.000000   \n\n       MarriedNSex      Debtors  ...  ExistingCredit          Job  \\\ncount   1000.00000  1000.000000  ...     1000.000000  1000.000000   \nmean      92.68200   101.145000  ...        1.407000   172.904000   \nstd        0.70808     0.477706  ...        0.577654     0.653614   \nmin       91.00000   101.000000  ...        1.000000   171.000000   \n25%       92.00000   101.000000  ...        1.000000   173.000000   \n50%       93.00000   101.000000  ...        1.000000   173.000000   \n75%       93.00000   101.000000  ...        2.000000   173.000000   \nmax       94.00000   103.000000  ...        4.000000   174.000000   \n\n       NumPeopleLiable    Telephone  ForeignWorker   CreditEval  \\\ncount      1000.000000  1000.000000    1000.000000  1000.000000   \nmean          1.155000   191.404000     201.037000     1.300000   \nstd           0.362086     0.490943       0.188856     0.458487   \nmin           1.000000   191.000000     201.000000     1.000000   \n25%           1.000000   191.000000     201.000000     1.000000   \n50%           1.000000   191.000000     201.000000     1.000000   \n75%           1.000000   192.000000     201.000000     2.000000   \nmax           2.000000   192.000000     202.000000     2.000000   \n\n       DurationMonth_y  CreditAmount_y        score        age25  \ncount      1000.000000     1000.000000  1000.000000  1000.000000  \nmean          0.248574        0.833759     0.493116     0.149000  \nstd           0.177336        0.155317     0.097706     0.356267  \nmin           0.000000        0.000000     0.184614     0.000000  \n25%           0.117647        0.795188     0.424975     0.000000  \n50%           0.205882        0.886129     0.491771     0.000000  \n75%           0.294118        0.938621     0.565130     0.000000  \nmax           1.000000        1.000000     0.790280     1.000000  \n\n[8 rows x 25 columns]",
      "text/html": "<div>\n<style scoped>\n    .dataframe tbody tr th:only-of-type {\n        vertical-align: middle;\n    }\n\n    .dataframe tbody tr th {\n        vertical-align: top;\n    }\n\n    .dataframe thead th {\n        text-align: right;\n    }\n</style>\n<table border=\"1\" class=\"dataframe\">\n  <thead>\n    <tr style=\"text-align: right;\">\n      <th></th>\n      <th>StatusExistingAcc</th>\n      <th>DurationMonth_x</th>\n      <th>CreditHistory</th>\n      <th>Purpose</th>\n      <th>CreditAmount_x</th>\n      <th>SavingsAccount</th>\n      <th>EmploymentLength</th>\n      <th>InstallmentRate</th>\n      <th>MarriedNSex</th>\n      <th>Debtors</th>\n      <th>...</th>\n      <th>ExistingCredit</th>\n      <th>Job</th>\n      <th>NumPeopleLiable</th>\n      <th>Telephone</th>\n      <th>ForeignWorker</th>\n      <th>CreditEval</th>\n      <th>DurationMonth_y</th>\n      <th>CreditAmount_y</th>\n      <th>score</th>\n      <th>age25</th>\n    </tr>\n  </thead>\n  <tbody>\n    <tr>\n      <th>count</th>\n      <td>1000.000000</td>\n      <td>1000.000000</td>\n      <td>1000.00000</td>\n      <td>1000.000000</td>\n      <td>1000.000000</td>\n      <td>1000.000000</td>\n      <td>1000.000000</td>\n      <td>1000.000000</td>\n      <td>1000.00000</td>\n      <td>1000.000000</td>\n      <td>...</td>\n      <td>1000.000000</td>\n      <td>1000.000000</td>\n      <td>1000.000000</td>\n      <td>1000.000000</td>\n      <td>1000.000000</td>\n      <td>1000.000000</td>\n      <td>1000.000000</td>\n      <td>1000.000000</td>\n      <td>1000.000000</td>\n      <td>1000.000000</td>\n    </tr>\n    <tr>\n      <th>mean</th>\n      <td>12.577000</td>\n      <td>20.903000</td>\n      <td>32.54500</td>\n      <td>47.148000</td>\n      <td>3271.258000</td>\n      <td>62.105000</td>\n      <td>73.384000</td>\n      <td>2.973000</td>\n      <td>92.68200</td>\n      <td>101.145000</td>\n      <td>...</td>\n      <td>1.407000</td>\n      <td>172.904000</td>\n      <td>1.155000</td>\n      <td>191.404000</td>\n      <td>201.037000</td>\n      <td>1.300000</td>\n      <td>0.248574</td>\n      <td>0.833759</td>\n      <td>0.493116</td>\n      <td>0.149000</td>\n    </tr>\n    <tr>\n      <th>std</th>\n      <td>1.257638</td>\n      <td>12.058814</td>\n      <td>1.08312</td>\n      <td>40.095333</td>\n      <td>2822.736876</td>\n      <td>1.580023</td>\n      <td>1.208306</td>\n      <td>1.118715</td>\n      <td>0.70808</td>\n      <td>0.477706</td>\n      <td>...</td>\n      <td>0.577654</td>\n      <td>0.653614</td>\n      <td>0.362086</td>\n      <td>0.490943</td>\n      <td>0.188856</td>\n      <td>0.458487</td>\n      <td>0.177336</td>\n      <td>0.155317</td>\n      <td>0.097706</td>\n      <td>0.356267</td>\n    </tr>\n    <tr>\n      <th>min</th>\n      <td>11.000000</td>\n      <td>4.000000</td>\n      <td>30.00000</td>\n      <td>40.000000</td>\n      <td>250.000000</td>\n      <td>61.000000</td>\n      <td>71.000000</td>\n      <td>1.000000</td>\n      <td>91.00000</td>\n      <td>101.000000</td>\n      <td>...</td>\n      <td>1.000000</td>\n      <td>171.000000</td>\n      <td>1.000000</td>\n      <td>191.000000</td>\n      <td>201.000000</td>\n      <td>1.000000</td>\n      <td>0.000000</td>\n      <td>0.000000</td>\n      <td>0.184614</td>\n      <td>0.000000</td>\n    </tr>\n    <tr>\n      <th>25%</th>\n      <td>11.000000</td>\n      <td>12.000000</td>\n      <td>32.00000</td>\n      <td>41.000000</td>\n      <td>1365.500000</td>\n      <td>61.000000</td>\n      <td>73.000000</td>\n      <td>2.000000</td>\n      <td>92.00000</td>\n      <td>101.000000</td>\n      <td>...</td>\n      <td>1.000000</td>\n      <td>173.000000</td>\n      <td>1.000000</td>\n      <td>191.000000</td>\n      <td>201.000000</td>\n      <td>1.000000</td>\n      <td>0.117647</td>\n      <td>0.795188</td>\n      <td>0.424975</td>\n      <td>0.000000</td>\n    </tr>\n    <tr>\n      <th>50%</th>\n      <td>12.000000</td>\n      <td>18.000000</td>\n      <td>32.00000</td>\n      <td>42.000000</td>\n      <td>2319.500000</td>\n      <td>61.000000</td>\n      <td>73.000000</td>\n      <td>3.000000</td>\n      <td>93.00000</td>\n      <td>101.000000</td>\n      <td>...</td>\n      <td>1.000000</td>\n      <td>173.000000</td>\n      <td>1.000000</td>\n      <td>191.000000</td>\n      <td>201.000000</td>\n      <td>1.000000</td>\n      <td>0.205882</td>\n      <td>0.886129</td>\n      <td>0.491771</td>\n      <td>0.000000</td>\n    </tr>\n    <tr>\n      <th>75%</th>\n      <td>14.000000</td>\n      <td>24.000000</td>\n      <td>34.00000</td>\n      <td>43.000000</td>\n      <td>3972.250000</td>\n      <td>63.000000</td>\n      <td>75.000000</td>\n      <td>4.000000</td>\n      <td>93.00000</td>\n      <td>101.000000</td>\n      <td>...</td>\n      <td>2.000000</td>\n      <td>173.000000</td>\n      <td>1.000000</td>\n      <td>192.000000</td>\n      <td>201.000000</td>\n      <td>2.000000</td>\n      <td>0.294118</td>\n      <td>0.938621</td>\n      <td>0.565130</td>\n      <td>0.000000</td>\n    </tr>\n    <tr>\n      <th>max</th>\n      <td>14.000000</td>\n      <td>72.000000</td>\n      <td>34.00000</td>\n      <td>410.000000</td>\n      <td>18424.000000</td>\n      <td>65.000000</td>\n      <td>75.000000</td>\n      <td>4.000000</td>\n      <td>94.00000</td>\n      <td>103.000000</td>\n      <td>...</td>\n      <td>4.000000</td>\n      <td>174.000000</td>\n      <td>2.000000</td>\n      <td>192.000000</td>\n      <td>202.000000</td>\n      <td>2.000000</td>\n      <td>1.000000</td>\n      <td>1.000000</td>\n      <td>0.790280</td>\n      <td>1.000000</td>\n    </tr>\n  </tbody>\n</table>\n<p>8 rows × 25 columns</p>\n</div>"
     },
     "execution_count": 7,
     "metadata": {},
     "output_type": "execute_result"
    }
   ],
   "source": [
    "\n",
    "data_merged.describe()"
   ],
   "metadata": {
    "collapsed": false,
    "pycharm": {
     "name": "#%%\n"
    }
   }
  },
  {
   "cell_type": "code",
   "execution_count": null,
   "outputs": [],
   "source": [
    "data_merged.columns\n"
   ],
   "metadata": {
    "collapsed": false,
    "pycharm": {
     "name": "#%%\n"
    }
   }
  },
  {
   "cell_type": "code",
   "execution_count": 9,
   "outputs": [],
   "source": [
    "\n",
    "data_merged.to_csv(r\"GermanCredit_without_cate.csv\", index=False)\n"
   ],
   "metadata": {
    "collapsed": false,
    "pycharm": {
     "name": "#%%\n"
    }
   }
  },
  {
   "cell_type": "markdown",
   "source": [
    "## categorize"
   ],
   "metadata": {
    "collapsed": false,
    "pycharm": {
     "name": "#%% md\n"
    }
   }
  },
  {
   "cell_type": "code",
   "execution_count": 10,
   "outputs": [],
   "source": [
    "def cate(x):\n",
    "    if x < 25:\n",
    "        return 1\n",
    "    elif x < 50:\n",
    "        return 2\n",
    "    else:\n",
    "        return 3\n",
    "\n",
    "data_merged['DurationMonth_C'] = data_merged['DurationMonth_x'].apply(cate)"
   ],
   "metadata": {
    "collapsed": false,
    "pycharm": {
     "name": "#%%\n"
    }
   }
  },
  {
   "cell_type": "code",
   "execution_count": 11,
   "outputs": [],
   "source": [
    "def cate(x):\n",
    "    if x < 2000:\n",
    "        return 1\n",
    "    elif x < 4000:\n",
    "        return 2\n",
    "    else:\n",
    "        return 3\n",
    "\n",
    "data_merged['CreditAmount_C'] = data_merged['CreditAmount_x'].apply(cate)"
   ],
   "metadata": {
    "collapsed": false,
    "pycharm": {
     "name": "#%%\n"
    }
   }
  },
  {
   "cell_type": "code",
   "execution_count": 12,
   "outputs": [],
   "source": [
    "def cate(x):\n",
    "    if x < 35:\n",
    "        return 1\n",
    "    elif x < 50:\n",
    "        return 2\n",
    "    else:\n",
    "        return 3\n",
    "\n",
    "data_merged['Age_C'] = data_merged['Age'].apply(cate)"
   ],
   "metadata": {
    "collapsed": false,
    "pycharm": {
     "name": "#%%\n"
    }
   }
  },
  {
   "cell_type": "code",
   "execution_count": 13,
   "outputs": [],
   "source": [
    "def cate(x):\n",
    "    if x == 410:\n",
    "        return 10\n",
    "    else:\n",
    "        return x - 40\n",
    "\n",
    "data_merged['Purpose'] = data_merged['Purpose'].apply(cate)"
   ],
   "metadata": {
    "collapsed": false,
    "pycharm": {
     "name": "#%%\n"
    }
   }
  },
  {
   "cell_type": "code",
   "execution_count": 14,
   "outputs": [
    {
     "data": {
      "text/plain": "StatusExistingAcc      int64\nDurationMonth_x        int64\nCreditHistory          int64\nPurpose                int64\nCreditAmount_x         int64\nSavingsAccount         int64\nEmploymentLength       int64\nInstallmentRate        int64\nMarriedNSex            int64\nDebtors                int64\nResidenceLength        int64\nProperty               int64\nAge                    int64\nInstallmentPlans       int64\nHousing                int64\nExistingCredit         int64\nJob                    int64\nNumPeopleLiable        int64\nTelephone              int64\nForeignWorker          int64\nCreditEval             int64\nAgeBinary             object\nDurationMonth_y      float64\nCreditAmount_y       float64\nscore                float64\nage25                  int64\nDurationMonth_C        int64\nCreditAmount_C         int64\nAge_C                  int64\ndtype: object"
     },
     "execution_count": 14,
     "metadata": {},
     "output_type": "execute_result"
    }
   ],
   "source": [
    "\n",
    "data_merged.dtypes"
   ],
   "metadata": {
    "collapsed": false,
    "pycharm": {
     "name": "#%%\n"
    }
   }
  },
  {
   "cell_type": "code",
   "execution_count": 15,
   "outputs": [],
   "source": [
    "\n",
    "data_merged.to_csv(r\"GermanCredit_age25_cate.csv\", index=False)"
   ],
   "metadata": {
    "collapsed": false,
    "pycharm": {
     "name": "#%%\n"
    }
   }
  },
  {
   "cell_type": "code",
   "execution_count": 18,
   "outputs": [],
   "source": [
    "\n",
    "data_merged['rank'] = data_merged['score'].rank(method='first', ascending=False).astype(int)"
   ],
   "metadata": {
    "collapsed": false,
    "pycharm": {
     "name": "#%%\n"
    }
   }
  },
  {
   "cell_type": "code",
   "execution_count": 19,
   "outputs": [
    {
     "data": {
      "text/plain": "   StatusExistingAcc  DurationMonth_x  CreditHistory  Purpose  CreditAmount_x  \\\n0                 11                6             34        3            1169   \n1                 12               48             32        3            5951   \n2                 14               12             34        6            2096   \n3                 11               42             32        2            7882   \n4                 11               24             33        0            4870   \n5                 14               36             32        6            9055   \n\n   SavingsAccount  EmploymentLength  InstallmentRate  MarriedNSex  Debtors  \\\n0              65                75                4           93      101   \n1              61                73                2           92      101   \n2              61                74                2           93      101   \n3              61                74                2           93      103   \n4              61                73                3           93      101   \n5              65                73                2           93      101   \n\n   ...  CreditEval  AgeBinary  DurationMonth_y  CreditAmount_y     score  \\\n0  ...           1      other         0.029412        0.949433  0.600715   \n1  ...           2      young         0.647059        0.686310  0.496131   \n2  ...           1      other         0.117647        0.898426  0.506866   \n3  ...           1      other         0.558824        0.580059  0.599482   \n4  ...           2      other         0.294118        0.745791  0.550060   \n5  ...           1      other         0.470588        0.515517  0.501291   \n\n   age25  DurationMonth_C  CreditAmount_C  Age_C  rank  \n0      0                1               1      3   149  \n1      1                2               3      1   486  \n2      0                1               2      2   452  \n3      0                2               3      2   152  \n4      0                1               3      3   303  \n5      0                2               3      2   468  \n\n[6 rows x 30 columns]",
      "text/html": "<div>\n<style scoped>\n    .dataframe tbody tr th:only-of-type {\n        vertical-align: middle;\n    }\n\n    .dataframe tbody tr th {\n        vertical-align: top;\n    }\n\n    .dataframe thead th {\n        text-align: right;\n    }\n</style>\n<table border=\"1\" class=\"dataframe\">\n  <thead>\n    <tr style=\"text-align: right;\">\n      <th></th>\n      <th>StatusExistingAcc</th>\n      <th>DurationMonth_x</th>\n      <th>CreditHistory</th>\n      <th>Purpose</th>\n      <th>CreditAmount_x</th>\n      <th>SavingsAccount</th>\n      <th>EmploymentLength</th>\n      <th>InstallmentRate</th>\n      <th>MarriedNSex</th>\n      <th>Debtors</th>\n      <th>...</th>\n      <th>CreditEval</th>\n      <th>AgeBinary</th>\n      <th>DurationMonth_y</th>\n      <th>CreditAmount_y</th>\n      <th>score</th>\n      <th>age25</th>\n      <th>DurationMonth_C</th>\n      <th>CreditAmount_C</th>\n      <th>Age_C</th>\n      <th>rank</th>\n    </tr>\n  </thead>\n  <tbody>\n    <tr>\n      <th>0</th>\n      <td>11</td>\n      <td>6</td>\n      <td>34</td>\n      <td>3</td>\n      <td>1169</td>\n      <td>65</td>\n      <td>75</td>\n      <td>4</td>\n      <td>93</td>\n      <td>101</td>\n      <td>...</td>\n      <td>1</td>\n      <td>other</td>\n      <td>0.029412</td>\n      <td>0.949433</td>\n      <td>0.600715</td>\n      <td>0</td>\n      <td>1</td>\n      <td>1</td>\n      <td>3</td>\n      <td>149</td>\n    </tr>\n    <tr>\n      <th>1</th>\n      <td>12</td>\n      <td>48</td>\n      <td>32</td>\n      <td>3</td>\n      <td>5951</td>\n      <td>61</td>\n      <td>73</td>\n      <td>2</td>\n      <td>92</td>\n      <td>101</td>\n      <td>...</td>\n      <td>2</td>\n      <td>young</td>\n      <td>0.647059</td>\n      <td>0.686310</td>\n      <td>0.496131</td>\n      <td>1</td>\n      <td>2</td>\n      <td>3</td>\n      <td>1</td>\n      <td>486</td>\n    </tr>\n    <tr>\n      <th>2</th>\n      <td>14</td>\n      <td>12</td>\n      <td>34</td>\n      <td>6</td>\n      <td>2096</td>\n      <td>61</td>\n      <td>74</td>\n      <td>2</td>\n      <td>93</td>\n      <td>101</td>\n      <td>...</td>\n      <td>1</td>\n      <td>other</td>\n      <td>0.117647</td>\n      <td>0.898426</td>\n      <td>0.506866</td>\n      <td>0</td>\n      <td>1</td>\n      <td>2</td>\n      <td>2</td>\n      <td>452</td>\n    </tr>\n    <tr>\n      <th>3</th>\n      <td>11</td>\n      <td>42</td>\n      <td>32</td>\n      <td>2</td>\n      <td>7882</td>\n      <td>61</td>\n      <td>74</td>\n      <td>2</td>\n      <td>93</td>\n      <td>103</td>\n      <td>...</td>\n      <td>1</td>\n      <td>other</td>\n      <td>0.558824</td>\n      <td>0.580059</td>\n      <td>0.599482</td>\n      <td>0</td>\n      <td>2</td>\n      <td>3</td>\n      <td>2</td>\n      <td>152</td>\n    </tr>\n    <tr>\n      <th>4</th>\n      <td>11</td>\n      <td>24</td>\n      <td>33</td>\n      <td>0</td>\n      <td>4870</td>\n      <td>61</td>\n      <td>73</td>\n      <td>3</td>\n      <td>93</td>\n      <td>101</td>\n      <td>...</td>\n      <td>2</td>\n      <td>other</td>\n      <td>0.294118</td>\n      <td>0.745791</td>\n      <td>0.550060</td>\n      <td>0</td>\n      <td>1</td>\n      <td>3</td>\n      <td>3</td>\n      <td>303</td>\n    </tr>\n    <tr>\n      <th>5</th>\n      <td>14</td>\n      <td>36</td>\n      <td>32</td>\n      <td>6</td>\n      <td>9055</td>\n      <td>65</td>\n      <td>73</td>\n      <td>2</td>\n      <td>93</td>\n      <td>101</td>\n      <td>...</td>\n      <td>1</td>\n      <td>other</td>\n      <td>0.470588</td>\n      <td>0.515517</td>\n      <td>0.501291</td>\n      <td>0</td>\n      <td>2</td>\n      <td>3</td>\n      <td>2</td>\n      <td>468</td>\n    </tr>\n  </tbody>\n</table>\n<p>6 rows × 30 columns</p>\n</div>"
     },
     "execution_count": 19,
     "metadata": {},
     "output_type": "execute_result"
    }
   ],
   "source": [
    "data_merged[:6]"
   ],
   "metadata": {
    "collapsed": false,
    "pycharm": {
     "name": "#%%\n"
    }
   }
  },
  {
   "cell_type": "code",
   "execution_count": 21,
   "outputs": [
    {
     "data": {
      "text/plain": "     StatusExistingAcc  DurationMonth_x  CreditHistory  Purpose  \\\n653                 12               36             33        0   \n890                 11               27             34        9   \n826                 11               18             34        0   \n768                 12               12             34        2   \n262                 11               18             34        0   \n29                  11               60             33        9   \n807                 14               12             34        3   \n242                 11               48             30        1   \n65                  14               27             32        5   \n802                 11               20             34        2   \n\n     CreditAmount_x  SavingsAccount  EmploymentLength  InstallmentRate  \\\n653            8086              62                75                2   \n890            2442              61                75                4   \n826            3966              61                75                1   \n768            3617              61                75                1   \n262            5302              61                75                2   \n29             6836              61                75                3   \n807             930              65                75                4   \n242            4605              61                75                3   \n65             5190              65                75                4   \n802            4272              61                75                1   \n\n     MarriedNSex  Debtors  ...  CreditEval  AgeBinary  DurationMonth_y  \\\n653           93      101  ...           2      other         0.470588   \n890           93      101  ...           1      other         0.338235   \n826           92      101  ...           2      other         0.205882   \n768           93      101  ...           1      other         0.117647   \n262           93      101  ...           1      other         0.205882   \n29            93      101  ...           2      other         0.823529   \n807           93      101  ...           1      other         0.117647   \n242           93      101  ...           2      young         0.647059   \n65            93      101  ...           1      other         0.338235   \n802           92      101  ...           1      young         0.235294   \n\n     CreditAmount_y     score  age25  DurationMonth_C  CreditAmount_C  Age_C  \\\n653        0.568835  0.790280      0                2               3      2   \n890        0.879388  0.761418      0                2               2      2   \n826        0.795532  0.744449      0                1               2      1   \n768        0.814735  0.731606      0                1               2      1   \n262        0.722020  0.723021      0                1               3      2   \n29         0.637614  0.721453      0                3               3      3   \n807        0.962584  0.712601      0                1               1      3   \n242        0.760372  0.711460      1                2               3      1   \n65         0.728183  0.710031      0                2               3      2   \n802        0.778695  0.700277      1                1               3      1   \n\n     rank  \n653     1  \n890     2  \n826     3  \n768     4  \n262     5  \n29      6  \n807     7  \n242     8  \n65      9  \n802    10  \n\n[10 rows x 30 columns]",
      "text/html": "<div>\n<style scoped>\n    .dataframe tbody tr th:only-of-type {\n        vertical-align: middle;\n    }\n\n    .dataframe tbody tr th {\n        vertical-align: top;\n    }\n\n    .dataframe thead th {\n        text-align: right;\n    }\n</style>\n<table border=\"1\" class=\"dataframe\">\n  <thead>\n    <tr style=\"text-align: right;\">\n      <th></th>\n      <th>StatusExistingAcc</th>\n      <th>DurationMonth_x</th>\n      <th>CreditHistory</th>\n      <th>Purpose</th>\n      <th>CreditAmount_x</th>\n      <th>SavingsAccount</th>\n      <th>EmploymentLength</th>\n      <th>InstallmentRate</th>\n      <th>MarriedNSex</th>\n      <th>Debtors</th>\n      <th>...</th>\n      <th>CreditEval</th>\n      <th>AgeBinary</th>\n      <th>DurationMonth_y</th>\n      <th>CreditAmount_y</th>\n      <th>score</th>\n      <th>age25</th>\n      <th>DurationMonth_C</th>\n      <th>CreditAmount_C</th>\n      <th>Age_C</th>\n      <th>rank</th>\n    </tr>\n  </thead>\n  <tbody>\n    <tr>\n      <th>653</th>\n      <td>12</td>\n      <td>36</td>\n      <td>33</td>\n      <td>0</td>\n      <td>8086</td>\n      <td>62</td>\n      <td>75</td>\n      <td>2</td>\n      <td>93</td>\n      <td>101</td>\n      <td>...</td>\n      <td>2</td>\n      <td>other</td>\n      <td>0.470588</td>\n      <td>0.568835</td>\n      <td>0.790280</td>\n      <td>0</td>\n      <td>2</td>\n      <td>3</td>\n      <td>2</td>\n      <td>1</td>\n    </tr>\n    <tr>\n      <th>890</th>\n      <td>11</td>\n      <td>27</td>\n      <td>34</td>\n      <td>9</td>\n      <td>2442</td>\n      <td>61</td>\n      <td>75</td>\n      <td>4</td>\n      <td>93</td>\n      <td>101</td>\n      <td>...</td>\n      <td>1</td>\n      <td>other</td>\n      <td>0.338235</td>\n      <td>0.879388</td>\n      <td>0.761418</td>\n      <td>0</td>\n      <td>2</td>\n      <td>2</td>\n      <td>2</td>\n      <td>2</td>\n    </tr>\n    <tr>\n      <th>826</th>\n      <td>11</td>\n      <td>18</td>\n      <td>34</td>\n      <td>0</td>\n      <td>3966</td>\n      <td>61</td>\n      <td>75</td>\n      <td>1</td>\n      <td>92</td>\n      <td>101</td>\n      <td>...</td>\n      <td>2</td>\n      <td>other</td>\n      <td>0.205882</td>\n      <td>0.795532</td>\n      <td>0.744449</td>\n      <td>0</td>\n      <td>1</td>\n      <td>2</td>\n      <td>1</td>\n      <td>3</td>\n    </tr>\n    <tr>\n      <th>768</th>\n      <td>12</td>\n      <td>12</td>\n      <td>34</td>\n      <td>2</td>\n      <td>3617</td>\n      <td>61</td>\n      <td>75</td>\n      <td>1</td>\n      <td>93</td>\n      <td>101</td>\n      <td>...</td>\n      <td>1</td>\n      <td>other</td>\n      <td>0.117647</td>\n      <td>0.814735</td>\n      <td>0.731606</td>\n      <td>0</td>\n      <td>1</td>\n      <td>2</td>\n      <td>1</td>\n      <td>4</td>\n    </tr>\n    <tr>\n      <th>262</th>\n      <td>11</td>\n      <td>18</td>\n      <td>34</td>\n      <td>0</td>\n      <td>5302</td>\n      <td>61</td>\n      <td>75</td>\n      <td>2</td>\n      <td>93</td>\n      <td>101</td>\n      <td>...</td>\n      <td>1</td>\n      <td>other</td>\n      <td>0.205882</td>\n      <td>0.722020</td>\n      <td>0.723021</td>\n      <td>0</td>\n      <td>1</td>\n      <td>3</td>\n      <td>2</td>\n      <td>5</td>\n    </tr>\n    <tr>\n      <th>29</th>\n      <td>11</td>\n      <td>60</td>\n      <td>33</td>\n      <td>9</td>\n      <td>6836</td>\n      <td>61</td>\n      <td>75</td>\n      <td>3</td>\n      <td>93</td>\n      <td>101</td>\n      <td>...</td>\n      <td>2</td>\n      <td>other</td>\n      <td>0.823529</td>\n      <td>0.637614</td>\n      <td>0.721453</td>\n      <td>0</td>\n      <td>3</td>\n      <td>3</td>\n      <td>3</td>\n      <td>6</td>\n    </tr>\n    <tr>\n      <th>807</th>\n      <td>14</td>\n      <td>12</td>\n      <td>34</td>\n      <td>3</td>\n      <td>930</td>\n      <td>65</td>\n      <td>75</td>\n      <td>4</td>\n      <td>93</td>\n      <td>101</td>\n      <td>...</td>\n      <td>1</td>\n      <td>other</td>\n      <td>0.117647</td>\n      <td>0.962584</td>\n      <td>0.712601</td>\n      <td>0</td>\n      <td>1</td>\n      <td>1</td>\n      <td>3</td>\n      <td>7</td>\n    </tr>\n    <tr>\n      <th>242</th>\n      <td>11</td>\n      <td>48</td>\n      <td>30</td>\n      <td>1</td>\n      <td>4605</td>\n      <td>61</td>\n      <td>75</td>\n      <td>3</td>\n      <td>93</td>\n      <td>101</td>\n      <td>...</td>\n      <td>2</td>\n      <td>young</td>\n      <td>0.647059</td>\n      <td>0.760372</td>\n      <td>0.711460</td>\n      <td>1</td>\n      <td>2</td>\n      <td>3</td>\n      <td>1</td>\n      <td>8</td>\n    </tr>\n    <tr>\n      <th>65</th>\n      <td>14</td>\n      <td>27</td>\n      <td>32</td>\n      <td>5</td>\n      <td>5190</td>\n      <td>65</td>\n      <td>75</td>\n      <td>4</td>\n      <td>93</td>\n      <td>101</td>\n      <td>...</td>\n      <td>1</td>\n      <td>other</td>\n      <td>0.338235</td>\n      <td>0.728183</td>\n      <td>0.710031</td>\n      <td>0</td>\n      <td>2</td>\n      <td>3</td>\n      <td>2</td>\n      <td>9</td>\n    </tr>\n    <tr>\n      <th>802</th>\n      <td>11</td>\n      <td>20</td>\n      <td>34</td>\n      <td>2</td>\n      <td>4272</td>\n      <td>61</td>\n      <td>75</td>\n      <td>1</td>\n      <td>92</td>\n      <td>101</td>\n      <td>...</td>\n      <td>1</td>\n      <td>young</td>\n      <td>0.235294</td>\n      <td>0.778695</td>\n      <td>0.700277</td>\n      <td>1</td>\n      <td>1</td>\n      <td>3</td>\n      <td>1</td>\n      <td>10</td>\n    </tr>\n  </tbody>\n</table>\n<p>10 rows × 30 columns</p>\n</div>"
     },
     "execution_count": 21,
     "metadata": {},
     "output_type": "execute_result"
    }
   ],
   "source": [
    "data_merged.sort_values(by=['rank'], inplace=True)\n",
    "data_merged[:10]"
   ],
   "metadata": {
    "collapsed": false,
    "pycharm": {
     "name": "#%%\n"
    }
   }
  },
  {
   "cell_type": "code",
   "execution_count": 28,
   "outputs": [],
   "source": [
    "data_merged.to_csv(r\"GermanCredit_allatt_ranked.csv\", index=False)"
   ],
   "metadata": {
    "collapsed": false,
    "pycharm": {
     "name": "#%%\n"
    }
   }
  },
  {
   "cell_type": "code",
   "execution_count": 29,
   "outputs": [],
   "source": [
    "data_merged.to_csv(r\"GermanCredit_allatt_ranked_w_index.csv\")"
   ],
   "metadata": {
    "collapsed": false,
    "pycharm": {
     "name": "#%%\n"
    }
   }
  },
  {
   "cell_type": "code",
   "execution_count": 29,
   "outputs": [],
   "source": [],
   "metadata": {
    "collapsed": false,
    "pycharm": {
     "name": "#%%\n"
    }
   }
  },
  {
   "cell_type": "code",
   "execution_count": 27,
   "outputs": [
    {
     "data": {
      "text/plain": "Index(['StatusExistingAcc', 'DurationMonth_x', 'CreditHistory', 'Purpose',\n       'CreditAmount_x', 'SavingsAccount', 'EmploymentLength',\n       'InstallmentRate', 'MarriedNSex', 'Debtors', 'ResidenceLength',\n       'Property', 'Age', 'InstallmentPlans', 'Housing', 'ExistingCredit',\n       'Job', 'NumPeopleLiable', 'Telephone', 'ForeignWorker', 'CreditEval',\n       'AgeBinary', 'DurationMonth_y', 'CreditAmount_y', 'score', 'age25',\n       'DurationMonth_C', 'CreditAmount_C', 'Age_C', 'rank'],\n      dtype='object')"
     },
     "execution_count": 27,
     "metadata": {},
     "output_type": "execute_result"
    }
   ],
   "source": [
    "data_merged.columns"
   ],
   "metadata": {
    "collapsed": false,
    "pycharm": {
     "name": "#%%\n"
    }
   }
  },
  {
   "cell_type": "code",
   "execution_count": 30,
   "outputs": [],
   "source": [
    "all_att = ['StatusExistingAcc', 'DurationMonth_x', 'CreditHistory', 'Purpose',\n",
    "       'CreditAmount_x', 'SavingsAccount', 'EmploymentLength',\n",
    "       'InstallmentRate', 'MarriedNSex', 'Debtors', 'ResidenceLength',\n",
    "       'Property', 'Age', 'InstallmentPlans', 'Housing', 'ExistingCredit',\n",
    "       'Job', 'NumPeopleLiable', 'Telephone', 'ForeignWorker', 'CreditEval',\n",
    "       'AgeBinary', 'DurationMonth_y', 'CreditAmount_y', 'score', 'age25',\n",
    "       'DurationMonth_C', 'CreditAmount_C', 'Age_C', 'rank']"
   ],
   "metadata": {
    "collapsed": false,
    "pycharm": {
     "name": "#%%\n"
    }
   }
  },
  {
   "cell_type": "code",
   "execution_count": 32,
   "outputs": [],
   "source": [
    "necessary_att = ['StatusExistingAcc', 'CreditHistory', 'Purpose', 'SavingsAccount', 'EmploymentLength', 'InstallmentRate', 'MarriedNSex', 'Debtors', 'ResidenceLength',\n",
    "       'Property', 'InstallmentPlans', 'Housing', 'ExistingCredit',\n",
    "       'Job', 'NumPeopleLiable', 'Telephone', 'ForeignWorker', 'CreditEval',\n",
    "       'DurationMonth_C', 'CreditAmount_C', 'Age_C', 'rank']\n",
    "\n"
   ],
   "metadata": {
    "collapsed": false,
    "pycharm": {
     "name": "#%%\n"
    }
   }
  },
  {
   "cell_type": "code",
   "execution_count": 33,
   "outputs": [],
   "source": [
    "data_merged[necessary_att].to_csv(r\"GermanCredit_ranked.csv\", index=False)"
   ],
   "metadata": {
    "collapsed": false,
    "pycharm": {
     "name": "#%%\n"
    }
   }
  },
  {
   "cell_type": "code",
   "execution_count": null,
   "outputs": [],
   "source": [],
   "metadata": {
    "collapsed": false,
    "pycharm": {
     "name": "#%%\n"
    }
   }
  }
 ],
 "metadata": {
  "kernelspec": {
   "display_name": "Python 3",
   "language": "python",
   "name": "python3"
  },
  "language_info": {
   "codemirror_mode": {
    "name": "ipython",
    "version": 2
   },
   "file_extension": ".py",
   "mimetype": "text/x-python",
   "name": "python",
   "nbconvert_exporter": "python",
   "pygments_lexer": "ipython2",
   "version": "2.7.6"
  }
 },
 "nbformat": 4,
 "nbformat_minor": 0
}