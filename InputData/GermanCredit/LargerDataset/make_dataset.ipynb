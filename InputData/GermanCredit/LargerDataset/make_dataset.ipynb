{
 "cells": [
  {
   "cell_type": "code",
   "execution_count": 7,
   "outputs": [],
   "source": [
    "import pandas as pd\n",
    "import numpy as np\n",
    "import random"
   ],
   "metadata": {
    "collapsed": false,
    "pycharm": {
     "name": "#%%\n"
    }
   }
  },
  {
   "cell_type": "code",
   "execution_count": 11,
   "outputs": [
    {
     "name": "stdout",
     "output_type": "stream",
     "text": [
      "       StatusExistingAcc  DurationMonth_C  CreditHistory      Purpose  \\\n",
      "count        1000.000000      1000.000000     1000.00000  1000.000000   \n",
      "mean           12.577000         1.246000       32.54500     2.828000   \n",
      "std             1.257638         0.466585        1.08312     2.744439   \n",
      "min            11.000000         1.000000       30.00000     0.000000   \n",
      "25%            11.000000         1.000000       32.00000     1.000000   \n",
      "50%            12.000000         1.000000       32.00000     2.000000   \n",
      "75%            14.000000         1.000000       34.00000     3.000000   \n",
      "max            14.000000         3.000000       34.00000    10.000000   \n",
      "\n",
      "       CreditAmount_C  SavingsAccount  EmploymentLength  InstallmentRate  \\\n",
      "count     1000.000000     1000.000000       1000.000000      1000.000000   \n",
      "mean         1.814000       62.105000         73.384000         2.973000   \n",
      "std          0.802526        1.580023          1.208306         1.118715   \n",
      "min          1.000000       61.000000         71.000000         1.000000   \n",
      "25%          1.000000       61.000000         73.000000         2.000000   \n",
      "50%          2.000000       61.000000         73.000000         3.000000   \n",
      "75%          2.000000       63.000000         75.000000         4.000000   \n",
      "max          3.000000       65.000000         75.000000         4.000000   \n",
      "\n",
      "       MarriedNSex      Debtors  ...     Property        Age_C  \\\n",
      "count   1000.00000  1000.000000  ...  1000.000000  1000.000000   \n",
      "mean      92.68200   101.145000  ...   122.358000     1.577000   \n",
      "std        0.70808     0.477706  ...     1.050209     0.703254   \n",
      "min       91.00000   101.000000  ...   121.000000     1.000000   \n",
      "25%       92.00000   101.000000  ...   121.000000     1.000000   \n",
      "50%       93.00000   101.000000  ...   122.000000     1.000000   \n",
      "75%       93.00000   101.000000  ...   123.000000     2.000000   \n",
      "max       94.00000   103.000000  ...   124.000000     3.000000   \n",
      "\n",
      "       InstallmentPlans      Housing  ExistingCredit          Job  \\\n",
      "count       1000.000000  1000.000000     1000.000000  1000.000000   \n",
      "mean         142.675000   151.929000        1.407000   172.904000   \n",
      "std            0.705601     0.531264        0.577654     0.653614   \n",
      "min          141.000000   151.000000        1.000000   171.000000   \n",
      "25%          143.000000   152.000000        1.000000   173.000000   \n",
      "50%          143.000000   152.000000        1.000000   173.000000   \n",
      "75%          143.000000   152.000000        2.000000   173.000000   \n",
      "max          143.000000   153.000000        4.000000   174.000000   \n",
      "\n",
      "       NumPeopleLiable    Telephone  ForeignWorker        score  \n",
      "count      1000.000000  1000.000000    1000.000000  1000.000000  \n",
      "mean          1.155000   191.404000     201.037000     0.493116  \n",
      "std           0.362086     0.490943       0.188856     0.097706  \n",
      "min           1.000000   191.000000     201.000000     0.184614  \n",
      "25%           1.000000   191.000000     201.000000     0.424975  \n",
      "50%           1.000000   191.000000     201.000000     0.491771  \n",
      "75%           1.000000   192.000000     201.000000     0.565130  \n",
      "max           2.000000   192.000000     202.000000     0.790280  \n",
      "\n",
      "[8 rows x 21 columns]\n"
     ]
    },
    {
     "data": {
      "text/plain": "   StatusExistingAcc  DurationMonth_C  CreditHistory  Purpose  CreditAmount_C  \\\n0                 12                2             33        0               3   \n1                 11                2             34        9               2   \n2                 11                1             34        0               2   \n3                 12                1             34        2               2   \n\n   SavingsAccount  EmploymentLength  InstallmentRate  MarriedNSex  Debtors  \\\n0              62                75                2           93      101   \n1              61                75                4           93      101   \n2              61                75                1           92      101   \n3              61                75                1           93      101   \n\n   ...  Property  Age_C  InstallmentPlans  Housing  ExistingCredit  Job  \\\n0  ...       123      2               143      152               4  174   \n1  ...       123      2               142      152               4  174   \n2  ...       121      1               141      151               3  173   \n3  ...       123      1               143      151               3  173   \n\n   NumPeopleLiable  Telephone  ForeignWorker     score  \n0                1        192            201  0.790280  \n1                2        192            201  0.761418  \n2                1        192            201  0.744449  \n3                1        192            201  0.731606  \n\n[4 rows x 21 columns]",
      "text/html": "<div>\n<style scoped>\n    .dataframe tbody tr th:only-of-type {\n        vertical-align: middle;\n    }\n\n    .dataframe tbody tr th {\n        vertical-align: top;\n    }\n\n    .dataframe thead th {\n        text-align: right;\n    }\n</style>\n<table border=\"1\" class=\"dataframe\">\n  <thead>\n    <tr style=\"text-align: right;\">\n      <th></th>\n      <th>StatusExistingAcc</th>\n      <th>DurationMonth_C</th>\n      <th>CreditHistory</th>\n      <th>Purpose</th>\n      <th>CreditAmount_C</th>\n      <th>SavingsAccount</th>\n      <th>EmploymentLength</th>\n      <th>InstallmentRate</th>\n      <th>MarriedNSex</th>\n      <th>Debtors</th>\n      <th>...</th>\n      <th>Property</th>\n      <th>Age_C</th>\n      <th>InstallmentPlans</th>\n      <th>Housing</th>\n      <th>ExistingCredit</th>\n      <th>Job</th>\n      <th>NumPeopleLiable</th>\n      <th>Telephone</th>\n      <th>ForeignWorker</th>\n      <th>score</th>\n    </tr>\n  </thead>\n  <tbody>\n    <tr>\n      <th>0</th>\n      <td>12</td>\n      <td>2</td>\n      <td>33</td>\n      <td>0</td>\n      <td>3</td>\n      <td>62</td>\n      <td>75</td>\n      <td>2</td>\n      <td>93</td>\n      <td>101</td>\n      <td>...</td>\n      <td>123</td>\n      <td>2</td>\n      <td>143</td>\n      <td>152</td>\n      <td>4</td>\n      <td>174</td>\n      <td>1</td>\n      <td>192</td>\n      <td>201</td>\n      <td>0.790280</td>\n    </tr>\n    <tr>\n      <th>1</th>\n      <td>11</td>\n      <td>2</td>\n      <td>34</td>\n      <td>9</td>\n      <td>2</td>\n      <td>61</td>\n      <td>75</td>\n      <td>4</td>\n      <td>93</td>\n      <td>101</td>\n      <td>...</td>\n      <td>123</td>\n      <td>2</td>\n      <td>142</td>\n      <td>152</td>\n      <td>4</td>\n      <td>174</td>\n      <td>2</td>\n      <td>192</td>\n      <td>201</td>\n      <td>0.761418</td>\n    </tr>\n    <tr>\n      <th>2</th>\n      <td>11</td>\n      <td>1</td>\n      <td>34</td>\n      <td>0</td>\n      <td>2</td>\n      <td>61</td>\n      <td>75</td>\n      <td>1</td>\n      <td>92</td>\n      <td>101</td>\n      <td>...</td>\n      <td>121</td>\n      <td>1</td>\n      <td>141</td>\n      <td>151</td>\n      <td>3</td>\n      <td>173</td>\n      <td>1</td>\n      <td>192</td>\n      <td>201</td>\n      <td>0.744449</td>\n    </tr>\n    <tr>\n      <th>3</th>\n      <td>12</td>\n      <td>1</td>\n      <td>34</td>\n      <td>2</td>\n      <td>2</td>\n      <td>61</td>\n      <td>75</td>\n      <td>1</td>\n      <td>93</td>\n      <td>101</td>\n      <td>...</td>\n      <td>123</td>\n      <td>1</td>\n      <td>143</td>\n      <td>151</td>\n      <td>3</td>\n      <td>173</td>\n      <td>1</td>\n      <td>192</td>\n      <td>201</td>\n      <td>0.731606</td>\n    </tr>\n  </tbody>\n</table>\n<p>4 rows × 21 columns</p>\n</div>"
     },
     "execution_count": 11,
     "metadata": {},
     "output_type": "execute_result"
    }
   ],
   "source": [
    "\n",
    "\n",
    "df = pd.read_csv(\"../GermanCredit_ranked_w_score.csv\")\n",
    "\n",
    "print(df.describe())\n",
    "\n",
    "df[:4]"
   ],
   "metadata": {
    "collapsed": false,
    "pycharm": {
     "name": "#%%\n"
    }
   }
  },
  {
   "cell_type": "code",
   "execution_count": 12,
   "outputs": [],
   "source": [
    "\n",
    "\n",
    "all_attributes = ['StatusExistingAcc', 'DurationMonth_C', 'CreditHistory', 'Purpose', 'CreditAmount_C',\n",
    "                  'SavingsAccount', 'EmploymentLength', 'InstallmentRate', 'MarriedNSex', 'Debtors',\n",
    "                  'ResidenceLength', 'Property', 'Age_C', 'InstallmentPlans', 'Housing',\n",
    "                  'ExistingCredit', 'Job', 'NumPeopleLiable', 'Telephone', 'ForeignWorker', 'score']\n",
    "\n"
   ],
   "metadata": {
    "collapsed": false,
    "pycharm": {
     "name": "#%%\n"
    }
   }
  },
  {
   "cell_type": "code",
   "execution_count": 12,
   "outputs": [],
   "source": [
    "\n"
   ],
   "metadata": {
    "collapsed": false,
    "pycharm": {
     "name": "#%%\n"
    }
   }
  },
  {
   "cell_type": "code",
   "execution_count": 26,
   "outputs": [
    {
     "name": "stdout",
     "output_type": "stream",
     "text": [
      "num_new_tuples=500\n"
     ]
    },
    {
     "ename": "KeyboardInterrupt",
     "evalue": "",
     "output_type": "error",
     "traceback": [
      "\u001B[0;31m---------------------------------------------------------------------------\u001B[0m",
      "\u001B[0;31mKeyboardInterrupt\u001B[0m                         Traceback (most recent call last)",
      "\u001B[0;32m<ipython-input-26-07a541d15f98>\u001B[0m in \u001B[0;36m<module>\u001B[0;34m\u001B[0m\n\u001B[1;32m     50\u001B[0m \u001B[0minput_file_path\u001B[0m \u001B[0;34m=\u001B[0m \u001B[0;34m\"../GermanCredit_ranked_w_score.csv\"\u001B[0m\u001B[0;34m\u001B[0m\u001B[0;34m\u001B[0m\u001B[0m\n\u001B[1;32m     51\u001B[0m \u001B[0moutput_pre\u001B[0m \u001B[0;34m=\u001B[0m \u001B[0;34mr\"./\"\u001B[0m\u001B[0;34m\u001B[0m\u001B[0;34m\u001B[0m\u001B[0m\n\u001B[0;32m---> 52\u001B[0;31m \u001B[0mExtendAndRank\u001B[0m\u001B[0;34m(\u001B[0m\u001B[0;36m1500\u001B[0m\u001B[0;34m,\u001B[0m \u001B[0minput_file_path\u001B[0m\u001B[0;34m,\u001B[0m \u001B[0moutput_pre\u001B[0m\u001B[0;34m,\u001B[0m \u001B[0;34m'score'\u001B[0m\u001B[0;34m)\u001B[0m\u001B[0;34m\u001B[0m\u001B[0;34m\u001B[0m\u001B[0m\n\u001B[0m\u001B[1;32m     53\u001B[0m \u001B[0;34m\u001B[0m\u001B[0m\n\u001B[1;32m     54\u001B[0m \u001B[0;34m\u001B[0m\u001B[0m\n",
      "\u001B[0;32m<ipython-input-26-07a541d15f98>\u001B[0m in \u001B[0;36mExtendAndRank\u001B[0;34m(size, input_file_path, output_pre, ranked_by_att)\u001B[0m\n\u001B[1;32m     43\u001B[0m \u001B[0;34m\u001B[0m\u001B[0m\n\u001B[1;32m     44\u001B[0m \u001B[0;32mdef\u001B[0m \u001B[0mExtendAndRank\u001B[0m\u001B[0;34m(\u001B[0m\u001B[0msize\u001B[0m\u001B[0;34m,\u001B[0m \u001B[0minput_file_path\u001B[0m\u001B[0;34m,\u001B[0m \u001B[0moutput_pre\u001B[0m\u001B[0;34m,\u001B[0m \u001B[0mranked_by_att\u001B[0m\u001B[0;34m)\u001B[0m\u001B[0;34m:\u001B[0m\u001B[0;34m\u001B[0m\u001B[0;34m\u001B[0m\u001B[0m\n\u001B[0;32m---> 45\u001B[0;31m     \u001B[0mextendDataset\u001B[0m\u001B[0;34m(\u001B[0m\u001B[0msize\u001B[0m\u001B[0;34m,\u001B[0m \u001B[0minput_file_path\u001B[0m\u001B[0;34m,\u001B[0m \u001B[0moutput_pre\u001B[0m\u001B[0;34m)\u001B[0m\u001B[0;34m\u001B[0m\u001B[0;34m\u001B[0m\u001B[0m\n\u001B[0m\u001B[1;32m     46\u001B[0m     \u001B[0mnew_file_path\u001B[0m \u001B[0;34m=\u001B[0m \u001B[0moutput_pre\u001B[0m \u001B[0;34m+\u001B[0m \u001B[0mstr\u001B[0m\u001B[0;34m(\u001B[0m\u001B[0msize\u001B[0m\u001B[0;34m)\u001B[0m \u001B[0;34m+\u001B[0m \u001B[0;34m'.csv'\u001B[0m\u001B[0;34m\u001B[0m\u001B[0;34m\u001B[0m\u001B[0m\n\u001B[1;32m     47\u001B[0m     \u001B[0mUpdateAndRank\u001B[0m\u001B[0;34m(\u001B[0m\u001B[0mnew_file_path\u001B[0m\u001B[0;34m,\u001B[0m \u001B[0mranked_by_att\u001B[0m\u001B[0;34m)\u001B[0m\u001B[0;34m\u001B[0m\u001B[0;34m\u001B[0m\u001B[0m\n",
      "\u001B[0;32m<ipython-input-26-07a541d15f98>\u001B[0m in \u001B[0;36mextendDataset\u001B[0;34m(newsize, filepath, output_pre)\u001B[0m\n\u001B[1;32m     25\u001B[0m     \u001B[0mprint\u001B[0m\u001B[0;34m(\u001B[0m\u001B[0;34m\"num_new_tuples={}\"\u001B[0m\u001B[0;34m.\u001B[0m\u001B[0mformat\u001B[0m\u001B[0;34m(\u001B[0m\u001B[0mnum_new_tuples\u001B[0m\u001B[0;34m)\u001B[0m\u001B[0;34m)\u001B[0m\u001B[0;34m\u001B[0m\u001B[0;34m\u001B[0m\u001B[0m\n\u001B[1;32m     26\u001B[0m     \u001B[0;32mfor\u001B[0m \u001B[0mi\u001B[0m \u001B[0;32min\u001B[0m \u001B[0mrange\u001B[0m\u001B[0;34m(\u001B[0m\u001B[0mnum_new_tuples\u001B[0m\u001B[0;34m)\u001B[0m\u001B[0;34m:\u001B[0m\u001B[0;34m\u001B[0m\u001B[0;34m\u001B[0m\u001B[0m\n\u001B[0;32m---> 27\u001B[0;31m         \u001B[0mtp\u001B[0m \u001B[0;34m=\u001B[0m \u001B[0mgenerateTuple\u001B[0m\u001B[0;34m(\u001B[0m\u001B[0moriginal_data\u001B[0m\u001B[0;34m)\u001B[0m\u001B[0;34m\u001B[0m\u001B[0;34m\u001B[0m\u001B[0m\n\u001B[0m\u001B[1;32m     28\u001B[0m         \u001B[0moriginal_data\u001B[0m\u001B[0;34m.\u001B[0m\u001B[0mloc\u001B[0m\u001B[0;34m[\u001B[0m\u001B[0mlen\u001B[0m\u001B[0;34m(\u001B[0m\u001B[0moriginal_data\u001B[0m\u001B[0;34m)\u001B[0m\u001B[0;34m]\u001B[0m \u001B[0;34m=\u001B[0m \u001B[0mtp\u001B[0m\u001B[0;34m\u001B[0m\u001B[0;34m\u001B[0m\u001B[0m\n\u001B[1;32m     29\u001B[0m         \u001B[0;32mif\u001B[0m \u001B[0mi\u001B[0m \u001B[0;34m%\u001B[0m \u001B[0;36m1000\u001B[0m \u001B[0;34m==\u001B[0m \u001B[0;36m0\u001B[0m\u001B[0;34m:\u001B[0m\u001B[0;34m\u001B[0m\u001B[0;34m\u001B[0m\u001B[0m\n",
      "\u001B[0;32m<ipython-input-26-07a541d15f98>\u001B[0m in \u001B[0;36mgenerateTuple\u001B[0;34m(original_data)\u001B[0m\n\u001B[1;32m      5\u001B[0m     \u001B[0mattributes\u001B[0m \u001B[0;34m=\u001B[0m \u001B[0moriginal_data\u001B[0m\u001B[0;34m.\u001B[0m\u001B[0mcolumns\u001B[0m\u001B[0;34m.\u001B[0m\u001B[0mtolist\u001B[0m\u001B[0;34m(\u001B[0m\u001B[0;34m)\u001B[0m\u001B[0;34m\u001B[0m\u001B[0;34m\u001B[0m\u001B[0m\n\u001B[1;32m      6\u001B[0m     \u001B[0mtuple\u001B[0m \u001B[0;34m=\u001B[0m \u001B[0mlist\u001B[0m\u001B[0;34m(\u001B[0m\u001B[0;34m)\u001B[0m\u001B[0;34m\u001B[0m\u001B[0;34m\u001B[0m\u001B[0m\n\u001B[0;32m----> 7\u001B[0;31m     \u001B[0;32mfor\u001B[0m \u001B[0matt\u001B[0m \u001B[0;32min\u001B[0m \u001B[0mattributes\u001B[0m\u001B[0;34m:\u001B[0m\u001B[0;34m\u001B[0m\u001B[0;34m\u001B[0m\u001B[0m\n\u001B[0m\u001B[1;32m      8\u001B[0m         \u001B[0;32mif\u001B[0m \u001B[0matt\u001B[0m \u001B[0;34m==\u001B[0m \u001B[0;34m'score'\u001B[0m\u001B[0;34m:\u001B[0m\u001B[0;34m\u001B[0m\u001B[0;34m\u001B[0m\u001B[0m\n\u001B[1;32m      9\u001B[0m             \u001B[0ms\u001B[0m \u001B[0;34m=\u001B[0m \u001B[0mrandom\u001B[0m\u001B[0;34m.\u001B[0m\u001B[0mrandom\u001B[0m\u001B[0;34m(\u001B[0m\u001B[0;34m)\u001B[0m\u001B[0;34m\u001B[0m\u001B[0;34m\u001B[0m\u001B[0m\n",
      "\u001B[0;32m<ipython-input-26-07a541d15f98>\u001B[0m in \u001B[0;36mgenerateTuple\u001B[0;34m(original_data)\u001B[0m\n\u001B[1;32m      5\u001B[0m     \u001B[0mattributes\u001B[0m \u001B[0;34m=\u001B[0m \u001B[0moriginal_data\u001B[0m\u001B[0;34m.\u001B[0m\u001B[0mcolumns\u001B[0m\u001B[0;34m.\u001B[0m\u001B[0mtolist\u001B[0m\u001B[0;34m(\u001B[0m\u001B[0;34m)\u001B[0m\u001B[0;34m\u001B[0m\u001B[0;34m\u001B[0m\u001B[0m\n\u001B[1;32m      6\u001B[0m     \u001B[0mtuple\u001B[0m \u001B[0;34m=\u001B[0m \u001B[0mlist\u001B[0m\u001B[0;34m(\u001B[0m\u001B[0;34m)\u001B[0m\u001B[0;34m\u001B[0m\u001B[0;34m\u001B[0m\u001B[0m\n\u001B[0;32m----> 7\u001B[0;31m     \u001B[0;32mfor\u001B[0m \u001B[0matt\u001B[0m \u001B[0;32min\u001B[0m \u001B[0mattributes\u001B[0m\u001B[0;34m:\u001B[0m\u001B[0;34m\u001B[0m\u001B[0;34m\u001B[0m\u001B[0m\n\u001B[0m\u001B[1;32m      8\u001B[0m         \u001B[0;32mif\u001B[0m \u001B[0matt\u001B[0m \u001B[0;34m==\u001B[0m \u001B[0;34m'score'\u001B[0m\u001B[0;34m:\u001B[0m\u001B[0;34m\u001B[0m\u001B[0;34m\u001B[0m\u001B[0m\n\u001B[1;32m      9\u001B[0m             \u001B[0ms\u001B[0m \u001B[0;34m=\u001B[0m \u001B[0mrandom\u001B[0m\u001B[0;34m.\u001B[0m\u001B[0mrandom\u001B[0m\u001B[0;34m(\u001B[0m\u001B[0;34m)\u001B[0m\u001B[0;34m\u001B[0m\u001B[0;34m\u001B[0m\u001B[0m\n",
      "\u001B[0;32m_pydevd_bundle/pydevd_cython_darwin_38_64.pyx\u001B[0m in \u001B[0;36m_pydevd_bundle.pydevd_cython_darwin_38_64.SafeCallWrapper.__call__\u001B[0;34m()\u001B[0m\n",
      "\u001B[0;32m_pydevd_bundle/pydevd_cython_darwin_38_64.pyx\u001B[0m in \u001B[0;36m_pydevd_bundle.pydevd_cython_darwin_38_64.PyDBFrame.trace_dispatch\u001B[0;34m()\u001B[0m\n",
      "\u001B[0;32m_pydevd_bundle/pydevd_cython_darwin_38_64.pyx\u001B[0m in \u001B[0;36m_pydevd_bundle.pydevd_cython_darwin_38_64.PyDBFrame.trace_dispatch\u001B[0;34m()\u001B[0m\n",
      "\u001B[0;32m_pydevd_bundle/pydevd_cython_darwin_38_64.pyx\u001B[0m in \u001B[0;36m_pydevd_bundle.pydevd_cython_darwin_38_64.PyDBFrame.trace_dispatch\u001B[0;34m()\u001B[0m\n",
      "\u001B[0;32m/Applications/PyCharm.app/Contents/plugins/python/helpers-pro/jupyter_debug/pydev_jupyter_plugin.py\u001B[0m in \u001B[0;36mstop\u001B[0;34m(plugin, pydb, frame, event, args, stop_info, arg, step_cmd)\u001B[0m\n\u001B[1;32m    163\u001B[0m         \u001B[0mframe\u001B[0m \u001B[0;34m=\u001B[0m \u001B[0msuspend_jupyter\u001B[0m\u001B[0;34m(\u001B[0m\u001B[0mmain_debugger\u001B[0m\u001B[0;34m,\u001B[0m \u001B[0mthread\u001B[0m\u001B[0;34m,\u001B[0m \u001B[0mframe\u001B[0m\u001B[0;34m,\u001B[0m \u001B[0mstep_cmd\u001B[0m\u001B[0;34m)\u001B[0m\u001B[0;34m\u001B[0m\u001B[0;34m\u001B[0m\u001B[0m\n\u001B[1;32m    164\u001B[0m         \u001B[0;32mif\u001B[0m \u001B[0mframe\u001B[0m\u001B[0;34m:\u001B[0m\u001B[0;34m\u001B[0m\u001B[0;34m\u001B[0m\u001B[0m\n\u001B[0;32m--> 165\u001B[0;31m             \u001B[0mmain_debugger\u001B[0m\u001B[0;34m.\u001B[0m\u001B[0mdo_wait_suspend\u001B[0m\u001B[0;34m(\u001B[0m\u001B[0mthread\u001B[0m\u001B[0;34m,\u001B[0m \u001B[0mframe\u001B[0m\u001B[0;34m,\u001B[0m \u001B[0mevent\u001B[0m\u001B[0;34m,\u001B[0m \u001B[0marg\u001B[0m\u001B[0;34m)\u001B[0m\u001B[0;34m\u001B[0m\u001B[0;34m\u001B[0m\u001B[0m\n\u001B[0m\u001B[1;32m    166\u001B[0m             \u001B[0;32mreturn\u001B[0m \u001B[0;32mTrue\u001B[0m\u001B[0;34m\u001B[0m\u001B[0;34m\u001B[0m\u001B[0m\n\u001B[1;32m    167\u001B[0m     \u001B[0;32mreturn\u001B[0m \u001B[0;32mFalse\u001B[0m\u001B[0;34m\u001B[0m\u001B[0;34m\u001B[0m\u001B[0m\n",
      "\u001B[0;32m/Applications/PyCharm.app/Contents/plugins/python/helpers/pydev/pydevd.py\u001B[0m in \u001B[0;36mdo_wait_suspend\u001B[0;34m(self, thread, frame, event, arg, send_suspend_message, is_unhandled_exception)\u001B[0m\n\u001B[1;32m   1153\u001B[0m \u001B[0;34m\u001B[0m\u001B[0m\n\u001B[1;32m   1154\u001B[0m         \u001B[0;32mwith\u001B[0m \u001B[0mself\u001B[0m\u001B[0;34m.\u001B[0m\u001B[0m_threads_suspended_single_notification\u001B[0m\u001B[0;34m.\u001B[0m\u001B[0mnotify_thread_suspended\u001B[0m\u001B[0;34m(\u001B[0m\u001B[0mthread_id\u001B[0m\u001B[0;34m,\u001B[0m \u001B[0mstop_reason\u001B[0m\u001B[0;34m)\u001B[0m\u001B[0;34m:\u001B[0m\u001B[0;34m\u001B[0m\u001B[0;34m\u001B[0m\u001B[0m\n\u001B[0;32m-> 1155\u001B[0;31m             \u001B[0mself\u001B[0m\u001B[0;34m.\u001B[0m\u001B[0m_do_wait_suspend\u001B[0m\u001B[0;34m(\u001B[0m\u001B[0mthread\u001B[0m\u001B[0;34m,\u001B[0m \u001B[0mframe\u001B[0m\u001B[0;34m,\u001B[0m \u001B[0mevent\u001B[0m\u001B[0;34m,\u001B[0m \u001B[0marg\u001B[0m\u001B[0;34m,\u001B[0m \u001B[0msuspend_type\u001B[0m\u001B[0;34m,\u001B[0m \u001B[0mfrom_this_thread\u001B[0m\u001B[0;34m)\u001B[0m\u001B[0;34m\u001B[0m\u001B[0;34m\u001B[0m\u001B[0m\n\u001B[0m\u001B[1;32m   1156\u001B[0m \u001B[0;34m\u001B[0m\u001B[0m\n\u001B[1;32m   1157\u001B[0m     \u001B[0;32mdef\u001B[0m \u001B[0m_do_wait_suspend\u001B[0m\u001B[0;34m(\u001B[0m\u001B[0mself\u001B[0m\u001B[0;34m,\u001B[0m \u001B[0mthread\u001B[0m\u001B[0;34m,\u001B[0m \u001B[0mframe\u001B[0m\u001B[0;34m,\u001B[0m \u001B[0mevent\u001B[0m\u001B[0;34m,\u001B[0m \u001B[0marg\u001B[0m\u001B[0;34m,\u001B[0m \u001B[0msuspend_type\u001B[0m\u001B[0;34m,\u001B[0m \u001B[0mfrom_this_thread\u001B[0m\u001B[0;34m)\u001B[0m\u001B[0;34m:\u001B[0m\u001B[0;34m\u001B[0m\u001B[0;34m\u001B[0m\u001B[0m\n",
      "\u001B[0;32m/Applications/PyCharm.app/Contents/plugins/python/helpers/pydev/pydevd.py\u001B[0m in \u001B[0;36m_do_wait_suspend\u001B[0;34m(self, thread, frame, event, arg, suspend_type, from_this_thread)\u001B[0m\n\u001B[1;32m   1168\u001B[0m \u001B[0;34m\u001B[0m\u001B[0m\n\u001B[1;32m   1169\u001B[0m                 \u001B[0mself\u001B[0m\u001B[0;34m.\u001B[0m\u001B[0mprocess_internal_commands\u001B[0m\u001B[0;34m(\u001B[0m\u001B[0;34m)\u001B[0m\u001B[0;34m\u001B[0m\u001B[0;34m\u001B[0m\u001B[0m\n\u001B[0;32m-> 1170\u001B[0;31m                 \u001B[0mtime\u001B[0m\u001B[0;34m.\u001B[0m\u001B[0msleep\u001B[0m\u001B[0;34m(\u001B[0m\u001B[0;36m0.01\u001B[0m\u001B[0;34m)\u001B[0m\u001B[0;34m\u001B[0m\u001B[0;34m\u001B[0m\u001B[0m\n\u001B[0m\u001B[1;32m   1171\u001B[0m \u001B[0;34m\u001B[0m\u001B[0m\n\u001B[1;32m   1172\u001B[0m         \u001B[0mself\u001B[0m\u001B[0;34m.\u001B[0m\u001B[0mcancel_async_evaluation\u001B[0m\u001B[0;34m(\u001B[0m\u001B[0mget_current_thread_id\u001B[0m\u001B[0;34m(\u001B[0m\u001B[0mthread\u001B[0m\u001B[0;34m)\u001B[0m\u001B[0;34m,\u001B[0m \u001B[0mstr\u001B[0m\u001B[0;34m(\u001B[0m\u001B[0mid\u001B[0m\u001B[0;34m(\u001B[0m\u001B[0mframe\u001B[0m\u001B[0;34m)\u001B[0m\u001B[0;34m)\u001B[0m\u001B[0;34m)\u001B[0m\u001B[0;34m\u001B[0m\u001B[0;34m\u001B[0m\u001B[0m\n",
      "\u001B[0;31mKeyboardInterrupt\u001B[0m: "
     ]
    }
   ],
   "source": [
    "\n",
    "\n",
    "def generateTuple(original_data):\n",
    "    describe_data = original_data.describe()\n",
    "    attributes = original_data.columns.tolist()\n",
    "    tuple = list()\n",
    "    for att in attributes:\n",
    "        if att == 'score':\n",
    "            s = random.random()\n",
    "            tuple.append(s)\n",
    "        else:\n",
    "            min = int(describe_data[att]['min'])\n",
    "            max = int(describe_data[att]['max'])\n",
    "            a = random.randint(min, max)\n",
    "            tuple.append(a)\n",
    "    return tuple\n",
    "\n",
    "\n",
    "def extendDataset(newsize, filepath, output_pre):\n",
    "    global tp\n",
    "    original_data = pd.read_csv(filepath)\n",
    "\n",
    "    oldsize = len(original_data)\n",
    "    num_new_tuples = newsize - oldsize\n",
    "    print(\"num_new_tuples={}\".format(num_new_tuples))\n",
    "    for i in range(num_new_tuples):\n",
    "        tp = generateTuple(original_data)\n",
    "        original_data.loc[len(original_data)] = tp\n",
    "        if i % 1000 == 0:\n",
    "            print(i, tp)\n",
    "    output_path = output_pre + str(newsize) + \".csv\"\n",
    "    original_data.to_csv(output_path, index=False)\n",
    "\n",
    "\n",
    "\n",
    "def UpdateAndRank(file_path, ranked_by):\n",
    "    data = pd.read_csv(file_path)\n",
    "\n",
    "    data['rank'] = data[ranked_by].rank(method='first', na_option='bottom', ascending=False).astype(int)\n",
    "    data = data.sort_values(by='rank', ascending=True)\n",
    "    data.to_csv(file_path, index=False)\n",
    "\n",
    "\n",
    "def ExtendAndRank(size, input_file_path, output_pre, ranked_by_att):\n",
    "    extendDataset(size, input_file_path, output_pre)\n",
    "    new_file_path = output_pre + str(size) + '.csv'\n",
    "    UpdateAndRank(new_file_path, ranked_by_att)\n",
    "\n",
    "\n",
    "input_file_path = \"../GermanCredit_ranked_w_score.csv\"\n",
    "output_pre = r\"./\"\n",
    "ExtendAndRank(1500, input_file_path, output_pre, 'score')\n",
    "\n",
    "\n"
   ],
   "metadata": {
    "collapsed": false,
    "pycharm": {
     "name": "#%%\n"
    }
   }
  },
  {
   "cell_type": "code",
   "execution_count": 23,
   "outputs": [
    {
     "name": "stdout",
     "output_type": "stream",
     "text": [
      "num_new_tuples=500\n",
      "0 [11, 1, 33, 6, 1, 61, 71, 4, 94, 101, 2, 121, 1, 142, 152, 2, 174, 2, 191, 202, 0.18871858364315963]\n"
     ]
    }
   ],
   "source": [
    "\n",
    "\n",
    "input_file_path = \"../GermanCredit_ranked_w_score.csv\"\n",
    "output_pre = r\"./\"\n",
    "ExtendAndRank(1500, input_file_path, output_pre, 'score')\n",
    "\n",
    "\n"
   ],
   "metadata": {
    "collapsed": false,
    "pycharm": {
     "name": "#%%\n"
    }
   }
  },
  {
   "cell_type": "code",
   "execution_count": 24,
   "outputs": [
    {
     "name": "stdout",
     "output_type": "stream",
     "text": [
      "2000\n",
      "num_new_tuples=500\n",
      "0 [14, 3, 32, 3, 2, 65, 73, 4, 94, 103, 3, 123, 2, 143, 151, 3, 173, 1, 191, 201, 0.7181254928889347, 254]\n",
      "2500\n",
      "num_new_tuples=500\n",
      "0 [12, 3, 34, 10, 2, 62, 72, 2, 92, 101, 4, 121, 1, 141, 152, 4, 174, 2, 191, 202, 0.1581307623504209, 1943]\n",
      "3000\n",
      "num_new_tuples=500\n",
      "0 [13, 1, 33, 0, 1, 62, 75, 1, 93, 103, 1, 121, 1, 143, 152, 1, 174, 1, 192, 202, 0.794726572095138, 690]\n",
      "3500\n",
      "num_new_tuples=500\n",
      "0 [12, 2, 34, 10, 2, 64, 75, 3, 92, 103, 4, 123, 1, 141, 152, 4, 173, 2, 192, 202, 0.28504696699310395, 311]\n",
      "4000\n",
      "num_new_tuples=500\n",
      "0 [11, 1, 31, 4, 1, 61, 71, 2, 93, 101, 3, 122, 1, 141, 152, 3, 171, 2, 191, 202, 0.7818830840392729, 1827]\n",
      "4500\n",
      "num_new_tuples=500\n",
      "0 [11, 2, 31, 10, 1, 61, 72, 4, 91, 103, 1, 121, 3, 142, 151, 1, 171, 1, 192, 202, 0.9661369576906678, 1064]\n",
      "5000\n",
      "num_new_tuples=500\n",
      "0 [13, 1, 32, 0, 1, 64, 74, 3, 92, 103, 2, 124, 1, 142, 152, 1, 173, 2, 192, 202, 0.05337641092736822, 2365]\n"
     ]
    }
   ],
   "source": [
    "\n",
    "\n",
    "for i in range(2000, 5500, 500):\n",
    "    print(i)\n",
    "    output_pre = r\"./\"\n",
    "    input_file_path = str(i-500) + \".csv\"\n",
    "    ExtendAndRank(i, input_file_path, output_pre, 'score')\n",
    "\n"
   ],
   "metadata": {
    "collapsed": false,
    "pycharm": {
     "name": "#%%\n"
    }
   }
  },
  {
   "cell_type": "code",
   "execution_count": null,
   "outputs": [],
   "source": [],
   "metadata": {
    "collapsed": false,
    "pycharm": {
     "name": "#%%\n"
    }
   }
  }
 ],
 "metadata": {
  "kernelspec": {
   "display_name": "Python 3",
   "language": "python",
   "name": "python3"
  },
  "language_info": {
   "codemirror_mode": {
    "name": "ipython",
    "version": 2
   },
   "file_extension": ".py",
   "mimetype": "text/x-python",
   "name": "python",
   "nbconvert_exporter": "python",
   "pygments_lexer": "ipython2",
   "version": "2.7.6"
  }
 },
 "nbformat": 4,
 "nbformat_minor": 0
}