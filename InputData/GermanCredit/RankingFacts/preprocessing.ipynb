{
 "cells": [
  {
   "cell_type": "code",
   "execution_count": 5,
   "outputs": [],
   "source": [
    "\n",
    "import pandas as pd\n",
    "import numpy as np\n"
   ],
   "metadata": {
    "collapsed": false,
    "pycharm": {
     "name": "#%%\n"
    }
   }
  },
  {
   "cell_type": "code",
   "execution_count": 6,
   "outputs": [],
   "source": [
    "\n",
    "\n",
    "def standardizeData(data,colums_to_exclude=[]):\n",
    "    \"\"\"\n",
    "        data is a dataframe stored all the data read from a csv source file\n",
    "        colums_to_exclude is a array like data structure stored the attributes which should be ignored in the normalization process.\n",
    "        return the standardized data\n",
    "    \"\"\"\n",
    "    df = data.loc[:, data.columns.difference(colums_to_exclude)]# remove no weight attributes\n",
    "    df_stand = (df - df.mean())/np.std(df)\n",
    "    data.loc[:, data.columns.difference(colums_to_exclude)] = df_stand\n",
    "\n",
    "    return data\n",
    "\n",
    "def normalizeDataset(data,colums_to_exclude=[]):\n",
    "    \"\"\"\n",
    "        data is a dataframe stored all the data read from a csv source file\n",
    "        colums_to_exclude is a array like data structure stored the attributes which should be ignored in the normalization process.\n",
    "        return the normalized data\n",
    "    \"\"\"\n",
    "    df = data.loc[:,data.columns.difference(colums_to_exclude)] # remove no weight attributes\n",
    "    norm_df = (df - df.min()) / (df.max() - df.min())\n",
    "    data.loc[:,data.columns.difference(colums_to_exclude)] = norm_df\n",
    "\n",
    "    return data\n",
    "\n"
   ],
   "metadata": {
    "collapsed": false,
    "pycharm": {
     "name": "#%%\n"
    }
   }
  },
  {
   "cell_type": "code",
   "execution_count": 17,
   "outputs": [
    {
     "data": {
      "text/plain": "   StatusExistingAcc  DurationMonth  CreditHistory  Purpose  CreditAmount  \\\n0                 11              6             34       43          1169   \n1                 12             48             32       43          5951   \n2                 14             12             34       46          2096   \n3                 11             42             32       42          7882   \n4                 11             24             33       40          4870   \n\n   SavingsAccount  EmploymentLength  InstallmentRate  MarriedNSex  Debtors  \\\n0              65                75                4           93      101   \n1              61                73                2           92      101   \n2              61                74                2           93      101   \n3              61                74                2           93      103   \n4              61                73                3           93      101   \n\n   ...  Age  InstallmentPlans  Housing  ExistingCredit  Job  NumPeopleLiable  \\\n0  ...   67               143      152               2  173                1   \n1  ...   22               143      152               1  173                1   \n2  ...   49               143      152               1  172                2   \n3  ...   45               143      153               1  173                2   \n4  ...   53               143      153               2  173                2   \n\n   Telephone  ForeignWorker  CreditEval  AgeBinary  \n0        192            201           1      other  \n1        191            201           2      young  \n2        191            201           1      other  \n3        191            201           1      other  \n4        191            201           2      other  \n\n[5 rows x 22 columns]",
      "text/html": "<div>\n<style scoped>\n    .dataframe tbody tr th:only-of-type {\n        vertical-align: middle;\n    }\n\n    .dataframe tbody tr th {\n        vertical-align: top;\n    }\n\n    .dataframe thead th {\n        text-align: right;\n    }\n</style>\n<table border=\"1\" class=\"dataframe\">\n  <thead>\n    <tr style=\"text-align: right;\">\n      <th></th>\n      <th>StatusExistingAcc</th>\n      <th>DurationMonth</th>\n      <th>CreditHistory</th>\n      <th>Purpose</th>\n      <th>CreditAmount</th>\n      <th>SavingsAccount</th>\n      <th>EmploymentLength</th>\n      <th>InstallmentRate</th>\n      <th>MarriedNSex</th>\n      <th>Debtors</th>\n      <th>...</th>\n      <th>Age</th>\n      <th>InstallmentPlans</th>\n      <th>Housing</th>\n      <th>ExistingCredit</th>\n      <th>Job</th>\n      <th>NumPeopleLiable</th>\n      <th>Telephone</th>\n      <th>ForeignWorker</th>\n      <th>CreditEval</th>\n      <th>AgeBinary</th>\n    </tr>\n  </thead>\n  <tbody>\n    <tr>\n      <th>0</th>\n      <td>11</td>\n      <td>6</td>\n      <td>34</td>\n      <td>43</td>\n      <td>1169</td>\n      <td>65</td>\n      <td>75</td>\n      <td>4</td>\n      <td>93</td>\n      <td>101</td>\n      <td>...</td>\n      <td>67</td>\n      <td>143</td>\n      <td>152</td>\n      <td>2</td>\n      <td>173</td>\n      <td>1</td>\n      <td>192</td>\n      <td>201</td>\n      <td>1</td>\n      <td>other</td>\n    </tr>\n    <tr>\n      <th>1</th>\n      <td>12</td>\n      <td>48</td>\n      <td>32</td>\n      <td>43</td>\n      <td>5951</td>\n      <td>61</td>\n      <td>73</td>\n      <td>2</td>\n      <td>92</td>\n      <td>101</td>\n      <td>...</td>\n      <td>22</td>\n      <td>143</td>\n      <td>152</td>\n      <td>1</td>\n      <td>173</td>\n      <td>1</td>\n      <td>191</td>\n      <td>201</td>\n      <td>2</td>\n      <td>young</td>\n    </tr>\n    <tr>\n      <th>2</th>\n      <td>14</td>\n      <td>12</td>\n      <td>34</td>\n      <td>46</td>\n      <td>2096</td>\n      <td>61</td>\n      <td>74</td>\n      <td>2</td>\n      <td>93</td>\n      <td>101</td>\n      <td>...</td>\n      <td>49</td>\n      <td>143</td>\n      <td>152</td>\n      <td>1</td>\n      <td>172</td>\n      <td>2</td>\n      <td>191</td>\n      <td>201</td>\n      <td>1</td>\n      <td>other</td>\n    </tr>\n    <tr>\n      <th>3</th>\n      <td>11</td>\n      <td>42</td>\n      <td>32</td>\n      <td>42</td>\n      <td>7882</td>\n      <td>61</td>\n      <td>74</td>\n      <td>2</td>\n      <td>93</td>\n      <td>103</td>\n      <td>...</td>\n      <td>45</td>\n      <td>143</td>\n      <td>153</td>\n      <td>1</td>\n      <td>173</td>\n      <td>2</td>\n      <td>191</td>\n      <td>201</td>\n      <td>1</td>\n      <td>other</td>\n    </tr>\n    <tr>\n      <th>4</th>\n      <td>11</td>\n      <td>24</td>\n      <td>33</td>\n      <td>40</td>\n      <td>4870</td>\n      <td>61</td>\n      <td>73</td>\n      <td>3</td>\n      <td>93</td>\n      <td>101</td>\n      <td>...</td>\n      <td>53</td>\n      <td>143</td>\n      <td>153</td>\n      <td>2</td>\n      <td>173</td>\n      <td>2</td>\n      <td>191</td>\n      <td>201</td>\n      <td>2</td>\n      <td>other</td>\n    </tr>\n  </tbody>\n</table>\n<p>5 rows × 22 columns</p>\n</div>"
     },
     "execution_count": 17,
     "metadata": {},
     "output_type": "execute_result"
    }
   ],
   "source": [
    "\n",
    "\n",
    "# German credit\n",
    "data = pd.read_csv(\"GermanCredit_age25.csv\")\n",
    "data.head(5)\n"
   ],
   "metadata": {
    "collapsed": false,
    "pycharm": {
     "name": "#%%\n"
    }
   }
  },
  {
   "cell_type": "code",
   "execution_count": 18,
   "outputs": [
    {
     "name": "stdout",
     "output_type": "stream",
     "text": [
      "22\n",
      "['StatusExistingAcc', 'DurationMonth', 'CreditHistory', 'Purpose', 'CreditAmount', 'SavingsAccount', 'EmploymentLength', 'InstallmentRate', 'MarriedNSex', 'Debtors', 'ResidenceLength', 'Property', 'Age', 'InstallmentPlans', 'Housing', 'ExistingCredit', 'Job', 'NumPeopleLiable', 'Telephone', 'ForeignWorker', 'CreditEval', 'AgeBinary']\n"
     ]
    }
   ],
   "source": [
    "\n",
    "all_att = data.columns.tolist()\n",
    "print(len(all_att))\n",
    "print(all_att)\n"
   ],
   "metadata": {
    "collapsed": false,
    "pycharm": {
     "name": "#%%\n"
    }
   }
  },
  {
   "cell_type": "code",
   "execution_count": 19,
   "outputs": [
    {
     "name": "stdout",
     "output_type": "stream",
     "text": [
      "20\n"
     ]
    }
   ],
   "source": [
    "all_att.remove(\"DurationMonth\")\n",
    "all_att.remove(\"CreditAmount\")\n",
    "\n",
    "print(len(all_att))"
   ],
   "metadata": {
    "collapsed": false,
    "pycharm": {
     "name": "#%%\n"
    }
   }
  },
  {
   "cell_type": "code",
   "execution_count": 20,
   "outputs": [
    {
     "data": {
      "text/plain": "   StatusExistingAcc  DurationMonth  CreditHistory  Purpose  CreditAmount  \\\n0                 11       0.029412             34       43      0.050567   \n1                 12       0.647059             32       43      0.313690   \n2                 14       0.117647             34       46      0.101574   \n3                 11       0.558824             32       42      0.419941   \n4                 11       0.294118             33       40      0.254209   \n\n   SavingsAccount  EmploymentLength  InstallmentRate  MarriedNSex  Debtors  \\\n0              65                75                4           93      101   \n1              61                73                2           92      101   \n2              61                74                2           93      101   \n3              61                74                2           93      103   \n4              61                73                3           93      101   \n\n   ...  Age  InstallmentPlans  Housing  ExistingCredit  Job  NumPeopleLiable  \\\n0  ...   67               143      152               2  173                1   \n1  ...   22               143      152               1  173                1   \n2  ...   49               143      152               1  172                2   \n3  ...   45               143      153               1  173                2   \n4  ...   53               143      153               2  173                2   \n\n   Telephone  ForeignWorker  CreditEval  AgeBinary  \n0        192            201           1      other  \n1        191            201           2      young  \n2        191            201           1      other  \n3        191            201           1      other  \n4        191            201           2      other  \n\n[5 rows x 22 columns]",
      "text/html": "<div>\n<style scoped>\n    .dataframe tbody tr th:only-of-type {\n        vertical-align: middle;\n    }\n\n    .dataframe tbody tr th {\n        vertical-align: top;\n    }\n\n    .dataframe thead th {\n        text-align: right;\n    }\n</style>\n<table border=\"1\" class=\"dataframe\">\n  <thead>\n    <tr style=\"text-align: right;\">\n      <th></th>\n      <th>StatusExistingAcc</th>\n      <th>DurationMonth</th>\n      <th>CreditHistory</th>\n      <th>Purpose</th>\n      <th>CreditAmount</th>\n      <th>SavingsAccount</th>\n      <th>EmploymentLength</th>\n      <th>InstallmentRate</th>\n      <th>MarriedNSex</th>\n      <th>Debtors</th>\n      <th>...</th>\n      <th>Age</th>\n      <th>InstallmentPlans</th>\n      <th>Housing</th>\n      <th>ExistingCredit</th>\n      <th>Job</th>\n      <th>NumPeopleLiable</th>\n      <th>Telephone</th>\n      <th>ForeignWorker</th>\n      <th>CreditEval</th>\n      <th>AgeBinary</th>\n    </tr>\n  </thead>\n  <tbody>\n    <tr>\n      <th>0</th>\n      <td>11</td>\n      <td>0.029412</td>\n      <td>34</td>\n      <td>43</td>\n      <td>0.050567</td>\n      <td>65</td>\n      <td>75</td>\n      <td>4</td>\n      <td>93</td>\n      <td>101</td>\n      <td>...</td>\n      <td>67</td>\n      <td>143</td>\n      <td>152</td>\n      <td>2</td>\n      <td>173</td>\n      <td>1</td>\n      <td>192</td>\n      <td>201</td>\n      <td>1</td>\n      <td>other</td>\n    </tr>\n    <tr>\n      <th>1</th>\n      <td>12</td>\n      <td>0.647059</td>\n      <td>32</td>\n      <td>43</td>\n      <td>0.313690</td>\n      <td>61</td>\n      <td>73</td>\n      <td>2</td>\n      <td>92</td>\n      <td>101</td>\n      <td>...</td>\n      <td>22</td>\n      <td>143</td>\n      <td>152</td>\n      <td>1</td>\n      <td>173</td>\n      <td>1</td>\n      <td>191</td>\n      <td>201</td>\n      <td>2</td>\n      <td>young</td>\n    </tr>\n    <tr>\n      <th>2</th>\n      <td>14</td>\n      <td>0.117647</td>\n      <td>34</td>\n      <td>46</td>\n      <td>0.101574</td>\n      <td>61</td>\n      <td>74</td>\n      <td>2</td>\n      <td>93</td>\n      <td>101</td>\n      <td>...</td>\n      <td>49</td>\n      <td>143</td>\n      <td>152</td>\n      <td>1</td>\n      <td>172</td>\n      <td>2</td>\n      <td>191</td>\n      <td>201</td>\n      <td>1</td>\n      <td>other</td>\n    </tr>\n    <tr>\n      <th>3</th>\n      <td>11</td>\n      <td>0.558824</td>\n      <td>32</td>\n      <td>42</td>\n      <td>0.419941</td>\n      <td>61</td>\n      <td>74</td>\n      <td>2</td>\n      <td>93</td>\n      <td>103</td>\n      <td>...</td>\n      <td>45</td>\n      <td>143</td>\n      <td>153</td>\n      <td>1</td>\n      <td>173</td>\n      <td>2</td>\n      <td>191</td>\n      <td>201</td>\n      <td>1</td>\n      <td>other</td>\n    </tr>\n    <tr>\n      <th>4</th>\n      <td>11</td>\n      <td>0.294118</td>\n      <td>33</td>\n      <td>40</td>\n      <td>0.254209</td>\n      <td>61</td>\n      <td>73</td>\n      <td>3</td>\n      <td>93</td>\n      <td>101</td>\n      <td>...</td>\n      <td>53</td>\n      <td>143</td>\n      <td>153</td>\n      <td>2</td>\n      <td>173</td>\n      <td>2</td>\n      <td>191</td>\n      <td>201</td>\n      <td>2</td>\n      <td>other</td>\n    </tr>\n  </tbody>\n</table>\n<p>5 rows × 22 columns</p>\n</div>"
     },
     "execution_count": 20,
     "metadata": {},
     "output_type": "execute_result"
    }
   ],
   "source": [
    "ignore_atts = all_att\n",
    "\n",
    "cur_data = data.copy()\n",
    "norm_data = normalizeDataset(cur_data, ignore_atts)\n",
    "# standarded_data = standardizeData(cur_data, ignore_atts)\n",
    "\n",
    "norm_data.head(5)"
   ],
   "metadata": {
    "collapsed": false,
    "pycharm": {
     "name": "#%%\n"
    }
   }
  },
  {
   "cell_type": "code",
   "execution_count": 21,
   "outputs": [
    {
     "data": {
      "text/plain": "    StatusExistingAcc  DurationMonth  CreditHistory  Purpose  CreditAmount  \\\n0                  11       0.029412             34       43      0.050567   \n1                  12       0.647059             32       43      0.313690   \n2                  14       0.117647             34       46      0.101574   \n3                  11       0.558824             32       42      0.419941   \n4                  11       0.294118             33       40      0.254209   \n5                  14       0.470588             32       46      0.484483   \n6                  14       0.294118             32       42      0.142236   \n7                  12       0.470588             32       41      0.368548   \n8                  14       0.117647             32       43      0.154561   \n9                  12       0.382353             34       40      0.274238   \n10                 12       0.117647             32       40      0.057500   \n11                 11       0.647059             32       49      0.223286   \n12                 12       0.117647             32       43      0.072466   \n13                 11       0.294118             34       40      0.052217   \n14                 11       0.161765             32       40      0.063442   \n15                 11       0.294118             32       43      0.056784   \n16                 14       0.294118             34       43      0.119621   \n17                 11       0.382353             30       49      0.430395   \n18                 12       0.294118             32       41      0.678387   \n19                 14       0.294118             32       43      0.174975   \n\n    SavingsAccount  EmploymentLength  InstallmentRate  MarriedNSex  Debtors  \\\n0               65                75                4           93      101   \n1               61                73                2           92      101   \n2               61                74                2           93      101   \n3               61                74                2           93      103   \n4               61                73                3           93      101   \n5               65                73                2           93      101   \n6               63                75                3           93      101   \n7               61                73                2           93      101   \n8               64                74                2           91      101   \n9               61                71                4           94      101   \n10              61                72                3           92      101   \n11              61                72                3           92      101   \n12              61                73                1           92      101   \n13              61                75                4           93      101   \n14              61                73                2           92      101   \n15              62                73                4           92      101   \n16              65                75                4           93      101   \n17              65                72                2           93      101   \n18              61                75                4           92      101   \n19              63                75                3           93      101   \n\n    ...  Age  InstallmentPlans  Housing  ExistingCredit  Job  NumPeopleLiable  \\\n0   ...   67               143      152               2  173                1   \n1   ...   22               143      152               1  173                1   \n2   ...   49               143      152               1  172                2   \n3   ...   45               143      153               1  173                2   \n4   ...   53               143      153               2  173                2   \n5   ...   35               143      153               1  172                2   \n6   ...   53               143      152               1  173                1   \n7   ...   35               143      151               1  174                1   \n8   ...   61               143      152               1  172                1   \n9   ...   28               143      152               2  174                1   \n10  ...   25               143      151               1  173                1   \n11  ...   24               143      151               1  173                1   \n12  ...   22               143      152               1  173                1   \n13  ...   60               143      152               2  172                1   \n14  ...   28               143      151               1  173                1   \n15  ...   32               143      152               1  172                1   \n16  ...   53               143      152               2  173                1   \n17  ...   25               141      152               3  173                1   \n18  ...   44               143      153               1  174                1   \n19  ...   31               143      152               1  173                2   \n\n    Telephone  ForeignWorker  CreditEval  AgeBinary  \n0         192            201           1      other  \n1         191            201           2      young  \n2         191            201           1      other  \n3         191            201           1      other  \n4         191            201           2      other  \n5         192            201           1      other  \n6         191            201           1      other  \n7         192            201           1      other  \n8         191            201           1      other  \n9         191            201           2      other  \n10        191            201           2      young  \n11        191            201           2      young  \n12        192            201           1      young  \n13        191            201           2      other  \n14        191            201           1      other  \n15        191            201           2      other  \n16        191            201           1      other  \n17        191            201           1      young  \n18        192            201           2      other  \n19        192            201           1      other  \n\n[20 rows x 22 columns]",
      "text/html": "<div>\n<style scoped>\n    .dataframe tbody tr th:only-of-type {\n        vertical-align: middle;\n    }\n\n    .dataframe tbody tr th {\n        vertical-align: top;\n    }\n\n    .dataframe thead th {\n        text-align: right;\n    }\n</style>\n<table border=\"1\" class=\"dataframe\">\n  <thead>\n    <tr style=\"text-align: right;\">\n      <th></th>\n      <th>StatusExistingAcc</th>\n      <th>DurationMonth</th>\n      <th>CreditHistory</th>\n      <th>Purpose</th>\n      <th>CreditAmount</th>\n      <th>SavingsAccount</th>\n      <th>EmploymentLength</th>\n      <th>InstallmentRate</th>\n      <th>MarriedNSex</th>\n      <th>Debtors</th>\n      <th>...</th>\n      <th>Age</th>\n      <th>InstallmentPlans</th>\n      <th>Housing</th>\n      <th>ExistingCredit</th>\n      <th>Job</th>\n      <th>NumPeopleLiable</th>\n      <th>Telephone</th>\n      <th>ForeignWorker</th>\n      <th>CreditEval</th>\n      <th>AgeBinary</th>\n    </tr>\n  </thead>\n  <tbody>\n    <tr>\n      <th>0</th>\n      <td>11</td>\n      <td>0.029412</td>\n      <td>34</td>\n      <td>43</td>\n      <td>0.050567</td>\n      <td>65</td>\n      <td>75</td>\n      <td>4</td>\n      <td>93</td>\n      <td>101</td>\n      <td>...</td>\n      <td>67</td>\n      <td>143</td>\n      <td>152</td>\n      <td>2</td>\n      <td>173</td>\n      <td>1</td>\n      <td>192</td>\n      <td>201</td>\n      <td>1</td>\n      <td>other</td>\n    </tr>\n    <tr>\n      <th>1</th>\n      <td>12</td>\n      <td>0.647059</td>\n      <td>32</td>\n      <td>43</td>\n      <td>0.313690</td>\n      <td>61</td>\n      <td>73</td>\n      <td>2</td>\n      <td>92</td>\n      <td>101</td>\n      <td>...</td>\n      <td>22</td>\n      <td>143</td>\n      <td>152</td>\n      <td>1</td>\n      <td>173</td>\n      <td>1</td>\n      <td>191</td>\n      <td>201</td>\n      <td>2</td>\n      <td>young</td>\n    </tr>\n    <tr>\n      <th>2</th>\n      <td>14</td>\n      <td>0.117647</td>\n      <td>34</td>\n      <td>46</td>\n      <td>0.101574</td>\n      <td>61</td>\n      <td>74</td>\n      <td>2</td>\n      <td>93</td>\n      <td>101</td>\n      <td>...</td>\n      <td>49</td>\n      <td>143</td>\n      <td>152</td>\n      <td>1</td>\n      <td>172</td>\n      <td>2</td>\n      <td>191</td>\n      <td>201</td>\n      <td>1</td>\n      <td>other</td>\n    </tr>\n    <tr>\n      <th>3</th>\n      <td>11</td>\n      <td>0.558824</td>\n      <td>32</td>\n      <td>42</td>\n      <td>0.419941</td>\n      <td>61</td>\n      <td>74</td>\n      <td>2</td>\n      <td>93</td>\n      <td>103</td>\n      <td>...</td>\n      <td>45</td>\n      <td>143</td>\n      <td>153</td>\n      <td>1</td>\n      <td>173</td>\n      <td>2</td>\n      <td>191</td>\n      <td>201</td>\n      <td>1</td>\n      <td>other</td>\n    </tr>\n    <tr>\n      <th>4</th>\n      <td>11</td>\n      <td>0.294118</td>\n      <td>33</td>\n      <td>40</td>\n      <td>0.254209</td>\n      <td>61</td>\n      <td>73</td>\n      <td>3</td>\n      <td>93</td>\n      <td>101</td>\n      <td>...</td>\n      <td>53</td>\n      <td>143</td>\n      <td>153</td>\n      <td>2</td>\n      <td>173</td>\n      <td>2</td>\n      <td>191</td>\n      <td>201</td>\n      <td>2</td>\n      <td>other</td>\n    </tr>\n    <tr>\n      <th>5</th>\n      <td>14</td>\n      <td>0.470588</td>\n      <td>32</td>\n      <td>46</td>\n      <td>0.484483</td>\n      <td>65</td>\n      <td>73</td>\n      <td>2</td>\n      <td>93</td>\n      <td>101</td>\n      <td>...</td>\n      <td>35</td>\n      <td>143</td>\n      <td>153</td>\n      <td>1</td>\n      <td>172</td>\n      <td>2</td>\n      <td>192</td>\n      <td>201</td>\n      <td>1</td>\n      <td>other</td>\n    </tr>\n    <tr>\n      <th>6</th>\n      <td>14</td>\n      <td>0.294118</td>\n      <td>32</td>\n      <td>42</td>\n      <td>0.142236</td>\n      <td>63</td>\n      <td>75</td>\n      <td>3</td>\n      <td>93</td>\n      <td>101</td>\n      <td>...</td>\n      <td>53</td>\n      <td>143</td>\n      <td>152</td>\n      <td>1</td>\n      <td>173</td>\n      <td>1</td>\n      <td>191</td>\n      <td>201</td>\n      <td>1</td>\n      <td>other</td>\n    </tr>\n    <tr>\n      <th>7</th>\n      <td>12</td>\n      <td>0.470588</td>\n      <td>32</td>\n      <td>41</td>\n      <td>0.368548</td>\n      <td>61</td>\n      <td>73</td>\n      <td>2</td>\n      <td>93</td>\n      <td>101</td>\n      <td>...</td>\n      <td>35</td>\n      <td>143</td>\n      <td>151</td>\n      <td>1</td>\n      <td>174</td>\n      <td>1</td>\n      <td>192</td>\n      <td>201</td>\n      <td>1</td>\n      <td>other</td>\n    </tr>\n    <tr>\n      <th>8</th>\n      <td>14</td>\n      <td>0.117647</td>\n      <td>32</td>\n      <td>43</td>\n      <td>0.154561</td>\n      <td>64</td>\n      <td>74</td>\n      <td>2</td>\n      <td>91</td>\n      <td>101</td>\n      <td>...</td>\n      <td>61</td>\n      <td>143</td>\n      <td>152</td>\n      <td>1</td>\n      <td>172</td>\n      <td>1</td>\n      <td>191</td>\n      <td>201</td>\n      <td>1</td>\n      <td>other</td>\n    </tr>\n    <tr>\n      <th>9</th>\n      <td>12</td>\n      <td>0.382353</td>\n      <td>34</td>\n      <td>40</td>\n      <td>0.274238</td>\n      <td>61</td>\n      <td>71</td>\n      <td>4</td>\n      <td>94</td>\n      <td>101</td>\n      <td>...</td>\n      <td>28</td>\n      <td>143</td>\n      <td>152</td>\n      <td>2</td>\n      <td>174</td>\n      <td>1</td>\n      <td>191</td>\n      <td>201</td>\n      <td>2</td>\n      <td>other</td>\n    </tr>\n    <tr>\n      <th>10</th>\n      <td>12</td>\n      <td>0.117647</td>\n      <td>32</td>\n      <td>40</td>\n      <td>0.057500</td>\n      <td>61</td>\n      <td>72</td>\n      <td>3</td>\n      <td>92</td>\n      <td>101</td>\n      <td>...</td>\n      <td>25</td>\n      <td>143</td>\n      <td>151</td>\n      <td>1</td>\n      <td>173</td>\n      <td>1</td>\n      <td>191</td>\n      <td>201</td>\n      <td>2</td>\n      <td>young</td>\n    </tr>\n    <tr>\n      <th>11</th>\n      <td>11</td>\n      <td>0.647059</td>\n      <td>32</td>\n      <td>49</td>\n      <td>0.223286</td>\n      <td>61</td>\n      <td>72</td>\n      <td>3</td>\n      <td>92</td>\n      <td>101</td>\n      <td>...</td>\n      <td>24</td>\n      <td>143</td>\n      <td>151</td>\n      <td>1</td>\n      <td>173</td>\n      <td>1</td>\n      <td>191</td>\n      <td>201</td>\n      <td>2</td>\n      <td>young</td>\n    </tr>\n    <tr>\n      <th>12</th>\n      <td>12</td>\n      <td>0.117647</td>\n      <td>32</td>\n      <td>43</td>\n      <td>0.072466</td>\n      <td>61</td>\n      <td>73</td>\n      <td>1</td>\n      <td>92</td>\n      <td>101</td>\n      <td>...</td>\n      <td>22</td>\n      <td>143</td>\n      <td>152</td>\n      <td>1</td>\n      <td>173</td>\n      <td>1</td>\n      <td>192</td>\n      <td>201</td>\n      <td>1</td>\n      <td>young</td>\n    </tr>\n    <tr>\n      <th>13</th>\n      <td>11</td>\n      <td>0.294118</td>\n      <td>34</td>\n      <td>40</td>\n      <td>0.052217</td>\n      <td>61</td>\n      <td>75</td>\n      <td>4</td>\n      <td>93</td>\n      <td>101</td>\n      <td>...</td>\n      <td>60</td>\n      <td>143</td>\n      <td>152</td>\n      <td>2</td>\n      <td>172</td>\n      <td>1</td>\n      <td>191</td>\n      <td>201</td>\n      <td>2</td>\n      <td>other</td>\n    </tr>\n    <tr>\n      <th>14</th>\n      <td>11</td>\n      <td>0.161765</td>\n      <td>32</td>\n      <td>40</td>\n      <td>0.063442</td>\n      <td>61</td>\n      <td>73</td>\n      <td>2</td>\n      <td>92</td>\n      <td>101</td>\n      <td>...</td>\n      <td>28</td>\n      <td>143</td>\n      <td>151</td>\n      <td>1</td>\n      <td>173</td>\n      <td>1</td>\n      <td>191</td>\n      <td>201</td>\n      <td>1</td>\n      <td>other</td>\n    </tr>\n    <tr>\n      <th>15</th>\n      <td>11</td>\n      <td>0.294118</td>\n      <td>32</td>\n      <td>43</td>\n      <td>0.056784</td>\n      <td>62</td>\n      <td>73</td>\n      <td>4</td>\n      <td>92</td>\n      <td>101</td>\n      <td>...</td>\n      <td>32</td>\n      <td>143</td>\n      <td>152</td>\n      <td>1</td>\n      <td>172</td>\n      <td>1</td>\n      <td>191</td>\n      <td>201</td>\n      <td>2</td>\n      <td>other</td>\n    </tr>\n    <tr>\n      <th>16</th>\n      <td>14</td>\n      <td>0.294118</td>\n      <td>34</td>\n      <td>43</td>\n      <td>0.119621</td>\n      <td>65</td>\n      <td>75</td>\n      <td>4</td>\n      <td>93</td>\n      <td>101</td>\n      <td>...</td>\n      <td>53</td>\n      <td>143</td>\n      <td>152</td>\n      <td>2</td>\n      <td>173</td>\n      <td>1</td>\n      <td>191</td>\n      <td>201</td>\n      <td>1</td>\n      <td>other</td>\n    </tr>\n    <tr>\n      <th>17</th>\n      <td>11</td>\n      <td>0.382353</td>\n      <td>30</td>\n      <td>49</td>\n      <td>0.430395</td>\n      <td>65</td>\n      <td>72</td>\n      <td>2</td>\n      <td>93</td>\n      <td>101</td>\n      <td>...</td>\n      <td>25</td>\n      <td>141</td>\n      <td>152</td>\n      <td>3</td>\n      <td>173</td>\n      <td>1</td>\n      <td>191</td>\n      <td>201</td>\n      <td>1</td>\n      <td>young</td>\n    </tr>\n    <tr>\n      <th>18</th>\n      <td>12</td>\n      <td>0.294118</td>\n      <td>32</td>\n      <td>41</td>\n      <td>0.678387</td>\n      <td>61</td>\n      <td>75</td>\n      <td>4</td>\n      <td>92</td>\n      <td>101</td>\n      <td>...</td>\n      <td>44</td>\n      <td>143</td>\n      <td>153</td>\n      <td>1</td>\n      <td>174</td>\n      <td>1</td>\n      <td>192</td>\n      <td>201</td>\n      <td>2</td>\n      <td>other</td>\n    </tr>\n    <tr>\n      <th>19</th>\n      <td>14</td>\n      <td>0.294118</td>\n      <td>32</td>\n      <td>43</td>\n      <td>0.174975</td>\n      <td>63</td>\n      <td>75</td>\n      <td>3</td>\n      <td>93</td>\n      <td>101</td>\n      <td>...</td>\n      <td>31</td>\n      <td>143</td>\n      <td>152</td>\n      <td>1</td>\n      <td>173</td>\n      <td>2</td>\n      <td>192</td>\n      <td>201</td>\n      <td>1</td>\n      <td>other</td>\n    </tr>\n  </tbody>\n</table>\n<p>20 rows × 22 columns</p>\n</div>"
     },
     "execution_count": 21,
     "metadata": {},
     "output_type": "execute_result"
    }
   ],
   "source": [
    "norm_data.head(20)"
   ],
   "metadata": {
    "collapsed": false,
    "pycharm": {
     "name": "#%%\n"
    }
   }
  },
  {
   "cell_type": "code",
   "execution_count": 21,
   "outputs": [],
   "source": [
    "\n",
    "\n"
   ],
   "metadata": {
    "collapsed": false,
    "pycharm": {
     "name": "#%%\n"
    }
   }
  },
  {
   "cell_type": "code",
   "execution_count": 21,
   "outputs": [],
   "source": [
    "\n",
    "\n"
   ],
   "metadata": {
    "collapsed": false,
    "pycharm": {
     "name": "#%%\n"
    }
   }
  },
  {
   "cell_type": "code",
   "execution_count": null,
   "outputs": [],
   "source": [
    "\n",
    "\n",
    "\n"
   ],
   "metadata": {
    "collapsed": false,
    "pycharm": {
     "name": "#%%\n"
    }
   }
  }
 ],
 "metadata": {
  "kernelspec": {
   "display_name": "Python 3",
   "language": "python",
   "name": "python3"
  },
  "language_info": {
   "codemirror_mode": {
    "name": "ipython",
    "version": 2
   },
   "file_extension": ".py",
   "mimetype": "text/x-python",
   "name": "python",
   "nbconvert_exporter": "python",
   "pygments_lexer": "ipython2",
   "version": "2.7.6"
  }
 },
 "nbformat": 4,
 "nbformat_minor": 0
}