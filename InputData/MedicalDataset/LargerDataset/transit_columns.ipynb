{
 "cells": [
  {
   "cell_type": "code",
   "execution_count": 2,
   "metadata": {
    "collapsed": true
   },
   "outputs": [],
   "source": [
    "import numpy as np\n",
    "import pandas as pd\n"
   ]
  },
  {
   "cell_type": "markdown",
   "source": [
    "#  translate columns until PREGNT"
   ],
   "metadata": {
    "collapsed": false,
    "pycharm": {
     "name": "#%% md\n"
    }
   }
  },
  {
   "cell_type": "code",
   "execution_count": 2,
   "outputs": [],
   "source": [],
   "metadata": {
    "collapsed": false,
    "pycharm": {
     "name": "#%%\n"
    }
   }
  },
  {
   "cell_type": "raw",
   "source": [
    "\n",
    "make float64 to int\n"
   ],
   "metadata": {
    "collapsed": false,
    "pycharm": {
     "name": "#%% raw\n"
    }
   }
  },
  {
   "cell_type": "code",
   "execution_count": 3,
   "outputs": [
    {
     "name": "stdout",
     "output_type": "stream",
     "text": [
      "0       0.0\n",
      "1       1.0\n",
      "2       1.0\n",
      "3       1.0\n",
      "4       0.0\n",
      "       ... \n",
      "7910    1.0\n",
      "7911    0.0\n",
      "7912    0.0\n",
      "7913    0.0\n",
      "7914    0.0\n",
      "Name: RACE, Length: 7915, dtype: float64\n",
      "0       0\n",
      "1       1\n",
      "2       1\n",
      "3       1\n",
      "4       0\n",
      "       ..\n",
      "7910    1\n",
      "7911    0\n",
      "7912    0\n",
      "7913    0\n",
      "7914    0\n",
      "Name: RACE, Length: 7915, dtype: int64\n"
     ]
    }
   ],
   "source": [
    "\n",
    "file_name = 'train.csv'\n",
    "df = pd.read_csv(file_name)\n",
    "\n",
    "print(df['RACE'])\n",
    "\n",
    "df['RACE'] = df['RACE'].astype(np.int64)\n",
    "\n",
    "print(df['RACE'])\n",
    "df.to_csv(r'train.csv', index=False)"
   ],
   "metadata": {
    "collapsed": false,
    "pycharm": {
     "name": "#%%\n"
    }
   }
  },
  {
   "cell_type": "code",
   "source": [
    "def add_col(df, col_name, num, minus_one = False):\n",
    "    length = len(df)\n",
    "    print(\"length: \", length)\n",
    "    df[col_name] = [0]*length\n",
    "    for i in range(length):\n",
    "        # print(\"i=\", i)\n",
    "        found = False\n",
    "        for j in range(1, num+1):\n",
    "            feature_name = col_name + \"=\" + str(j)\n",
    "            if df.iloc[i][feature_name] == 1:\n",
    "                # print(\"df[{}] = {}\".format(i, j))\n",
    "                df._set_value(i, col_name, j)\n",
    "                found = True\n",
    "                break\n",
    "\n",
    "        if minus_one:\n",
    "            feature_name = col_name + \"=-1\"\n",
    "            if df.iloc[i][feature_name] == 1:\n",
    "                df._set_value(i, col_name, -1)\n",
    "                found = True\n",
    "\n",
    "        if found is False:\n",
    "            print(\"{} not found\".format(i))\n",
    "    # print(df[col_name])\n"
   ],
   "metadata": {
    "collapsed": false,
    "pycharm": {
     "name": "#%%\n"
    }
   },
   "execution_count": 4,
   "outputs": []
  },
  {
   "cell_type": "code",
   "execution_count": 5,
   "outputs": [
    {
     "name": "stdout",
     "output_type": "stream",
     "text": [
      "length:  7915\n",
      "    AGE  RACE  PCS42  MCS42  K6SUM42  REGION=1  REGION=2  REGION=3  REGION=4  \\\n",
      "0  56.0     0  24.59  38.23     11.0       1.0       0.0       0.0       0.0   \n",
      "1  19.0     1  -1.00  -1.00     -1.0       1.0       0.0       0.0       0.0   \n",
      "2  73.0     1  -1.00  -1.00     -1.0       0.0       0.0       0.0       1.0   \n",
      "\n",
      "   SEX=1  ...  INSCOV=1  INSCOV=2  INSCOV=3     TP     FP     TN     FN  \\\n",
      "0    0.0  ...       0.0       1.0       0.0  False  False  False   True   \n",
      "1    1.0  ...       0.0       1.0       0.0  False  False   True  False   \n",
      "2    1.0  ...       1.0       0.0       0.0  False  False   True  False   \n",
      "\n",
      "   ground_truth  prediction  REGION  \n",
      "0             0           0       1  \n",
      "1             0           0       1  \n",
      "2             0           0       4  \n",
      "\n",
      "[3 rows x 145 columns]\n"
     ]
    }
   ],
   "source": [
    "\n",
    "file_name = 'train.csv'\n",
    "df = pd.read_csv(file_name)\n",
    "\n",
    "col_name = 'REGION'\n",
    "num = 4\n",
    "add_col(df, col_name, num, False)\n",
    "print(df[:3])"
   ],
   "metadata": {
    "collapsed": false,
    "pycharm": {
     "name": "#%%\n"
    }
   }
  },
  {
   "cell_type": "code",
   "execution_count": 6,
   "outputs": [
    {
     "name": "stdout",
     "output_type": "stream",
     "text": [
      "length:  7915\n",
      "    AGE  RACE  PCS42  MCS42  K6SUM42  REGION=1  REGION=2  REGION=3  REGION=4  \\\n",
      "0  56.0     0  24.59  38.23     11.0       1.0       0.0       0.0       0.0   \n",
      "1  19.0     1  -1.00  -1.00     -1.0       1.0       0.0       0.0       0.0   \n",
      "2  73.0     1  -1.00  -1.00     -1.0       0.0       0.0       0.0       1.0   \n",
      "\n",
      "   SEX=1  ...  INSCOV=2  INSCOV=3     TP     FP     TN     FN  ground_truth  \\\n",
      "0    0.0  ...       1.0       0.0  False  False  False   True             0   \n",
      "1    1.0  ...       1.0       0.0  False  False   True  False             0   \n",
      "2    1.0  ...       0.0       0.0  False  False   True  False             0   \n",
      "\n",
      "   prediction  REGION  SEX  \n",
      "0           0       1    2  \n",
      "1           0       1    1  \n",
      "2           0       4    1  \n",
      "\n",
      "[3 rows x 146 columns]\n"
     ]
    }
   ],
   "source": [
    "col_name = 'SEX'\n",
    "num = 2\n",
    "add_col(df, col_name, num, False)\n",
    "print(df[:3])"
   ],
   "metadata": {
    "collapsed": false,
    "pycharm": {
     "name": "#%%\n"
    }
   }
  },
  {
   "cell_type": "code",
   "execution_count": 7,
   "outputs": [
    {
     "name": "stdout",
     "output_type": "stream",
     "text": [
      "length:  7915\n",
      "    AGE  RACE  PCS42  MCS42  K6SUM42  REGION=1  REGION=2  REGION=3  REGION=4  \\\n",
      "0  56.0     0  24.59  38.23     11.0       1.0       0.0       0.0       0.0   \n",
      "1  19.0     1  -1.00  -1.00     -1.0       1.0       0.0       0.0       0.0   \n",
      "2  73.0     1  -1.00  -1.00     -1.0       0.0       0.0       0.0       1.0   \n",
      "\n",
      "   SEX=1  ...  INSCOV=3     TP     FP     TN     FN  ground_truth  prediction  \\\n",
      "0    0.0  ...       0.0  False  False  False   True             0           0   \n",
      "1    1.0  ...       0.0  False  False   True  False             0           0   \n",
      "2    1.0  ...       0.0  False  False   True  False             0           0   \n",
      "\n",
      "   REGION  SEX  MARRY  \n",
      "0       1    2      2  \n",
      "1       1    1      5  \n",
      "2       4    1      3  \n",
      "\n",
      "[3 rows x 147 columns]\n"
     ]
    }
   ],
   "source": [
    "\n",
    "col_name = 'MARRY'\n",
    "num = 10\n",
    "add_col(df, col_name, num, False)\n",
    "print(df[:3])\n"
   ],
   "metadata": {
    "collapsed": false,
    "pycharm": {
     "name": "#%%\n"
    }
   }
  },
  {
   "cell_type": "code",
   "execution_count": 8,
   "outputs": [
    {
     "name": "stdout",
     "output_type": "stream",
     "text": [
      "length:  7915\n",
      "    AGE  RACE  PCS42  MCS42  K6SUM42  REGION=1  REGION=2  REGION=3  REGION=4  \\\n",
      "0  56.0     0  24.59  38.23     11.0       1.0       0.0       0.0       0.0   \n",
      "1  19.0     1  -1.00  -1.00     -1.0       1.0       0.0       0.0       0.0   \n",
      "2  73.0     1  -1.00  -1.00     -1.0       0.0       0.0       0.0       1.0   \n",
      "\n",
      "   SEX=1  ...     TP     FP     TN     FN  ground_truth  prediction  REGION  \\\n",
      "0    0.0  ...  False  False  False   True             0           0       1   \n",
      "1    1.0  ...  False  False   True  False             0           0       1   \n",
      "2    1.0  ...  False  False   True  False             0           0       4   \n",
      "\n",
      "   SEX  MARRY  FTSTU  \n",
      "0    2      2     -1  \n",
      "1    1      5      3  \n",
      "2    1      3     -1  \n",
      "\n",
      "[3 rows x 148 columns]\n"
     ]
    }
   ],
   "source": [
    "col_name = 'FTSTU'\n",
    "num = 3\n",
    "add_col(df, col_name, num, True)\n",
    "print(df[:3])\n"
   ],
   "metadata": {
    "collapsed": false,
    "pycharm": {
     "name": "#%%\n"
    }
   }
  },
  {
   "cell_type": "code",
   "execution_count": 9,
   "outputs": [
    {
     "name": "stdout",
     "output_type": "stream",
     "text": [
      "length:  7915\n",
      "    AGE  RACE  PCS42  MCS42  K6SUM42  REGION=1  REGION=2  REGION=3  REGION=4  \\\n",
      "0  56.0     0  24.59  38.23     11.0       1.0       0.0       0.0       0.0   \n",
      "1  19.0     1  -1.00  -1.00     -1.0       1.0       0.0       0.0       0.0   \n",
      "2  73.0     1  -1.00  -1.00     -1.0       0.0       0.0       0.0       1.0   \n",
      "\n",
      "   SEX=1  ...     FP     TN     FN  ground_truth  prediction  REGION  SEX  \\\n",
      "0    0.0  ...  False  False   True             0           0       1    2   \n",
      "1    1.0  ...  False   True  False             0           0       1    1   \n",
      "2    1.0  ...  False   True  False             0           0       4    1   \n",
      "\n",
      "   MARRY  FTSTU  ACTDTY  \n",
      "0      2     -1       2  \n",
      "1      5      3       2  \n",
      "2      3     -1       4  \n",
      "\n",
      "[3 rows x 149 columns]\n"
     ]
    }
   ],
   "source": [
    "col_name = 'ACTDTY'\n",
    "num = 4\n",
    "add_col(df, col_name, num, False)\n",
    "print(df[:3])"
   ],
   "metadata": {
    "collapsed": false,
    "pycharm": {
     "name": "#%%\n"
    }
   }
  },
  {
   "cell_type": "code",
   "execution_count": 10,
   "outputs": [
    {
     "name": "stdout",
     "output_type": "stream",
     "text": [
      "length:  7915\n",
      "    AGE  RACE  PCS42  MCS42  K6SUM42  REGION=1  REGION=2  REGION=3  REGION=4  \\\n",
      "0  56.0     0  24.59  38.23     11.0       1.0       0.0       0.0       0.0   \n",
      "1  19.0     1  -1.00  -1.00     -1.0       1.0       0.0       0.0       0.0   \n",
      "2  73.0     1  -1.00  -1.00     -1.0       0.0       0.0       0.0       1.0   \n",
      "\n",
      "   SEX=1  ...     TN     FN  ground_truth  prediction  REGION  SEX  MARRY  \\\n",
      "0    0.0  ...  False   True             0           0       1    2      2   \n",
      "1    1.0  ...   True  False             0           0       1    1      5   \n",
      "2    1.0  ...   True  False             0           0       4    1      3   \n",
      "\n",
      "   FTSTU  ACTDTY  HONRDC  \n",
      "0     -1       2       2  \n",
      "1      3       2       2  \n",
      "2     -1       4       2  \n",
      "\n",
      "[3 rows x 150 columns]\n"
     ]
    }
   ],
   "source": [
    "col_name = 'HONRDC'\n",
    "num = 4\n",
    "add_col(df, col_name, num, False)\n",
    "print(df[:3])"
   ],
   "metadata": {
    "collapsed": false,
    "pycharm": {
     "name": "#%%\n"
    }
   }
  },
  {
   "cell_type": "code",
   "execution_count": 11,
   "outputs": [
    {
     "name": "stdout",
     "output_type": "stream",
     "text": [
      "length:  7915\n",
      "    AGE  RACE  PCS42  MCS42  K6SUM42  REGION=1  REGION=2  REGION=3  REGION=4  \\\n",
      "0  56.0     0  24.59  38.23     11.0       1.0       0.0       0.0       0.0   \n",
      "1  19.0     1  -1.00  -1.00     -1.0       1.0       0.0       0.0       0.0   \n",
      "2  73.0     1  -1.00  -1.00     -1.0       0.0       0.0       0.0       1.0   \n",
      "\n",
      "   SEX=1  ...     FN  ground_truth  prediction  REGION  SEX  MARRY  FTSTU  \\\n",
      "0    0.0  ...   True             0           0       1    2      2     -1   \n",
      "1    1.0  ...  False             0           0       1    1      5      3   \n",
      "2    1.0  ...  False             0           0       4    1      3     -1   \n",
      "\n",
      "   ACTDTY  HONRDC  RTHLTH  \n",
      "0       2       2       3  \n",
      "1       2       2       1  \n",
      "2       4       2       1  \n",
      "\n",
      "[3 rows x 151 columns]\n"
     ]
    }
   ],
   "source": [
    "col_name = 'RTHLTH'\n",
    "num = 5\n",
    "add_col(df, col_name, num, True)\n",
    "print(df[:3])"
   ],
   "metadata": {
    "collapsed": false,
    "pycharm": {
     "name": "#%%\n"
    }
   }
  },
  {
   "cell_type": "code",
   "execution_count": 12,
   "outputs": [
    {
     "name": "stdout",
     "output_type": "stream",
     "text": [
      "length:  7915\n",
      "    AGE  RACE  PCS42  MCS42  K6SUM42  REGION=1  REGION=2  REGION=3  REGION=4  \\\n",
      "0  56.0     0  24.59  38.23     11.0       1.0       0.0       0.0       0.0   \n",
      "1  19.0     1  -1.00  -1.00     -1.0       1.0       0.0       0.0       0.0   \n",
      "2  73.0     1  -1.00  -1.00     -1.0       0.0       0.0       0.0       1.0   \n",
      "\n",
      "   SEX=1  ...  ground_truth  prediction  REGION  SEX  MARRY  FTSTU  ACTDTY  \\\n",
      "0    0.0  ...             0           0       1    2      2     -1       2   \n",
      "1    1.0  ...             0           0       1    1      5      3       2   \n",
      "2    1.0  ...             0           0       4    1      3     -1       4   \n",
      "\n",
      "   HONRDC  RTHLTH  MNHLTH  \n",
      "0       2       3       3  \n",
      "1       2       1       1  \n",
      "2       2       1       1  \n",
      "\n",
      "[3 rows x 152 columns]\n"
     ]
    }
   ],
   "source": [
    "col_name = 'MNHLTH'\n",
    "num = 5\n",
    "add_col(df, col_name, num, True)\n",
    "print(df[:3])"
   ],
   "metadata": {
    "collapsed": false,
    "pycharm": {
     "name": "#%%\n"
    }
   }
  },
  {
   "cell_type": "code",
   "execution_count": 13,
   "outputs": [
    {
     "name": "stdout",
     "output_type": "stream",
     "text": [
      "length:  7915\n",
      "    AGE  RACE  PCS42  MCS42  K6SUM42  REGION=1  REGION=2  REGION=3  REGION=4  \\\n",
      "0  56.0     0  24.59  38.23     11.0       1.0       0.0       0.0       0.0   \n",
      "1  19.0     1  -1.00  -1.00     -1.0       1.0       0.0       0.0       0.0   \n",
      "2  73.0     1  -1.00  -1.00     -1.0       0.0       0.0       0.0       1.0   \n",
      "\n",
      "   SEX=1  ...  prediction  REGION  SEX  MARRY  FTSTU  ACTDTY  HONRDC  RTHLTH  \\\n",
      "0    0.0  ...           0       1    2      2     -1       2       2       3   \n",
      "1    1.0  ...           0       1    1      5      3       2       2       1   \n",
      "2    1.0  ...           0       4    1      3     -1       4       2       1   \n",
      "\n",
      "   MNHLTH  HIBPDX  \n",
      "0       3       2  \n",
      "1       1       2  \n",
      "2       1       2  \n",
      "\n",
      "[3 rows x 153 columns]\n"
     ]
    }
   ],
   "source": [
    "col_name = 'HIBPDX'\n",
    "num = 2\n",
    "add_col(df, col_name, num, True)\n",
    "print(df[:3])"
   ],
   "metadata": {
    "collapsed": false,
    "pycharm": {
     "name": "#%%\n"
    }
   }
  },
  {
   "cell_type": "code",
   "execution_count": 14,
   "outputs": [
    {
     "name": "stdout",
     "output_type": "stream",
     "text": [
      "length:  7915\n",
      "    AGE  RACE  PCS42  MCS42  K6SUM42  REGION=1  REGION=2  REGION=3  REGION=4  \\\n",
      "0  56.0     0  24.59  38.23     11.0       1.0       0.0       0.0       0.0   \n",
      "1  19.0     1  -1.00  -1.00     -1.0       1.0       0.0       0.0       0.0   \n",
      "2  73.0     1  -1.00  -1.00     -1.0       0.0       0.0       0.0       1.0   \n",
      "\n",
      "   SEX=1  ...  REGION  SEX  MARRY  FTSTU  ACTDTY  HONRDC  RTHLTH  MNHLTH  \\\n",
      "0    0.0  ...       1    2      2     -1       2       2       3       3   \n",
      "1    1.0  ...       1    1      5      3       2       2       1       1   \n",
      "2    1.0  ...       4    1      3     -1       4       2       1       1   \n",
      "\n",
      "   HIBPDX  CHDDX  \n",
      "0       2      2  \n",
      "1       2      2  \n",
      "2       2      2  \n",
      "\n",
      "[3 rows x 154 columns]\n"
     ]
    }
   ],
   "source": [
    "col_name = 'CHDDX'\n",
    "num = 2\n",
    "add_col(df, col_name, num, True)\n",
    "print(df[:3])\n"
   ],
   "metadata": {
    "collapsed": false,
    "pycharm": {
     "name": "#%%\n"
    }
   }
  },
  {
   "cell_type": "code",
   "execution_count": 15,
   "outputs": [
    {
     "name": "stdout",
     "output_type": "stream",
     "text": [
      "length:  7915\n",
      "    AGE  RACE  PCS42  MCS42  K6SUM42  REGION=1  REGION=2  REGION=3  REGION=4  \\\n",
      "0  56.0     0  24.59  38.23     11.0       1.0       0.0       0.0       0.0   \n",
      "1  19.0     1  -1.00  -1.00     -1.0       1.0       0.0       0.0       0.0   \n",
      "2  73.0     1  -1.00  -1.00     -1.0       0.0       0.0       0.0       1.0   \n",
      "\n",
      "   SEX=1  ...  SEX  MARRY  FTSTU  ACTDTY  HONRDC  RTHLTH  MNHLTH  HIBPDX  \\\n",
      "0    0.0  ...    2      2     -1       2       2       3       3       2   \n",
      "1    1.0  ...    1      5      3       2       2       1       1       2   \n",
      "2    1.0  ...    1      3     -1       4       2       1       1       2   \n",
      "\n",
      "   CHDDX  ANGIDX  \n",
      "0      2       2  \n",
      "1      2       2  \n",
      "2      2       2  \n",
      "\n",
      "[3 rows x 155 columns]\n"
     ]
    }
   ],
   "source": [
    "col_name = 'ANGIDX'\n",
    "num = 2\n",
    "add_col(df, col_name, num, True)\n",
    "print(df[:3])"
   ],
   "metadata": {
    "collapsed": false,
    "pycharm": {
     "name": "#%%\n"
    }
   }
  },
  {
   "cell_type": "code",
   "execution_count": 16,
   "outputs": [
    {
     "name": "stdout",
     "output_type": "stream",
     "text": [
      "length:  7915\n",
      "    AGE  RACE  PCS42  MCS42  K6SUM42  REGION=1  REGION=2  REGION=3  REGION=4  \\\n",
      "0  56.0     0  24.59  38.23     11.0       1.0       0.0       0.0       0.0   \n",
      "1  19.0     1  -1.00  -1.00     -1.0       1.0       0.0       0.0       0.0   \n",
      "2  73.0     1  -1.00  -1.00     -1.0       0.0       0.0       0.0       1.0   \n",
      "\n",
      "   SEX=1  ...  MARRY  FTSTU  ACTDTY  HONRDC  RTHLTH  MNHLTH  HIBPDX  CHDDX  \\\n",
      "0    0.0  ...      2     -1       2       2       3       3       2      2   \n",
      "1    1.0  ...      5      3       2       2       1       1       2      2   \n",
      "2    1.0  ...      3     -1       4       2       1       1       2      2   \n",
      "\n",
      "   ANGIDX  MIDX  \n",
      "0       2     2  \n",
      "1       2     2  \n",
      "2       2     2  \n",
      "\n",
      "[3 rows x 156 columns]\n"
     ]
    }
   ],
   "source": [
    "col_name = 'MIDX'\n",
    "num = 2\n",
    "add_col(df, col_name, num, True)\n",
    "print(df[:3])"
   ],
   "metadata": {
    "collapsed": false,
    "pycharm": {
     "name": "#%%\n"
    }
   }
  },
  {
   "cell_type": "code",
   "execution_count": 17,
   "outputs": [
    {
     "name": "stdout",
     "output_type": "stream",
     "text": [
      "length:  7915\n",
      "    AGE  RACE  PCS42  MCS42  K6SUM42  REGION=1  REGION=2  REGION=3  REGION=4  \\\n",
      "0  56.0     0  24.59  38.23     11.0       1.0       0.0       0.0       0.0   \n",
      "1  19.0     1  -1.00  -1.00     -1.0       1.0       0.0       0.0       0.0   \n",
      "2  73.0     1  -1.00  -1.00     -1.0       0.0       0.0       0.0       1.0   \n",
      "\n",
      "   SEX=1  ...  FTSTU  ACTDTY  HONRDC  RTHLTH  MNHLTH  HIBPDX  CHDDX  ANGIDX  \\\n",
      "0    0.0  ...     -1       2       2       3       3       2      2       2   \n",
      "1    1.0  ...      3       2       2       1       1       2      2       2   \n",
      "2    1.0  ...     -1       4       2       1       1       2      2       2   \n",
      "\n",
      "   MIDX  OHRTDX  \n",
      "0     2       1  \n",
      "1     2       2  \n",
      "2     2       2  \n",
      "\n",
      "[3 rows x 157 columns]\n"
     ]
    }
   ],
   "source": [
    "col_name = 'OHRTDX'\n",
    "num = 2\n",
    "add_col(df, col_name, num, True)\n",
    "print(df[:3])"
   ],
   "metadata": {
    "collapsed": false,
    "pycharm": {
     "name": "#%%\n"
    }
   }
  },
  {
   "cell_type": "code",
   "execution_count": 18,
   "outputs": [
    {
     "name": "stdout",
     "output_type": "stream",
     "text": [
      "length:  7915\n",
      "    AGE  RACE  PCS42  MCS42  K6SUM42  REGION=1  REGION=2  REGION=3  REGION=4  \\\n",
      "0  56.0     0  24.59  38.23     11.0       1.0       0.0       0.0       0.0   \n",
      "1  19.0     1  -1.00  -1.00     -1.0       1.0       0.0       0.0       0.0   \n",
      "2  73.0     1  -1.00  -1.00     -1.0       0.0       0.0       0.0       1.0   \n",
      "\n",
      "   SEX=1  ...  ACTDTY  HONRDC  RTHLTH  MNHLTH  HIBPDX  CHDDX  ANGIDX  MIDX  \\\n",
      "0    0.0  ...       2       2       3       3       2      2       2     2   \n",
      "1    1.0  ...       2       2       1       1       2      2       2     2   \n",
      "2    1.0  ...       4       2       1       1       2      2       2     2   \n",
      "\n",
      "   OHRTDX  STRKDX  \n",
      "0       1       2  \n",
      "1       2       2  \n",
      "2       2       2  \n",
      "\n",
      "[3 rows x 158 columns]\n"
     ]
    }
   ],
   "source": [
    "col_name = 'STRKDX'\n",
    "num = 2\n",
    "add_col(df, col_name, num, True)\n",
    "print(df[:3])\n"
   ],
   "metadata": {
    "collapsed": false,
    "pycharm": {
     "name": "#%%\n"
    }
   }
  },
  {
   "cell_type": "code",
   "execution_count": 19,
   "outputs": [
    {
     "name": "stdout",
     "output_type": "stream",
     "text": [
      "length:  7915\n",
      "    AGE  RACE  PCS42  MCS42  K6SUM42  REGION=1  REGION=2  REGION=3  REGION=4  \\\n",
      "0  56.0     0  24.59  38.23     11.0       1.0       0.0       0.0       0.0   \n",
      "1  19.0     1  -1.00  -1.00     -1.0       1.0       0.0       0.0       0.0   \n",
      "2  73.0     1  -1.00  -1.00     -1.0       0.0       0.0       0.0       1.0   \n",
      "\n",
      "   SEX=1  ...  HONRDC  RTHLTH  MNHLTH  HIBPDX  CHDDX  ANGIDX  MIDX  OHRTDX  \\\n",
      "0    0.0  ...       2       3       3       2      2       2     2       1   \n",
      "1    1.0  ...       2       1       1       2      2       2     2       2   \n",
      "2    1.0  ...       2       1       1       2      2       2     2       2   \n",
      "\n",
      "   STRKDX  EMPHDX  \n",
      "0       2       1  \n",
      "1       2       2  \n",
      "2       2       2  \n",
      "\n",
      "[3 rows x 159 columns]\n"
     ]
    }
   ],
   "source": [
    "col_name = 'EMPHDX'\n",
    "num = 2\n",
    "add_col(df, col_name, num, True)\n",
    "print(df[:3])\n"
   ],
   "metadata": {
    "collapsed": false,
    "pycharm": {
     "name": "#%%\n"
    }
   }
  },
  {
   "cell_type": "code",
   "execution_count": 20,
   "outputs": [
    {
     "name": "stdout",
     "output_type": "stream",
     "text": [
      "length:  7915\n",
      "    AGE  RACE  PCS42  MCS42  K6SUM42  REGION=1  REGION=2  REGION=3  REGION=4  \\\n",
      "0  56.0     0  24.59  38.23     11.0       1.0       0.0       0.0       0.0   \n",
      "1  19.0     1  -1.00  -1.00     -1.0       1.0       0.0       0.0       0.0   \n",
      "2  73.0     1  -1.00  -1.00     -1.0       0.0       0.0       0.0       1.0   \n",
      "\n",
      "   SEX=1  ...  RTHLTH  MNHLTH  HIBPDX  CHDDX  ANGIDX  MIDX  OHRTDX  STRKDX  \\\n",
      "0    0.0  ...       3       3       2      2       2     2       1       2   \n",
      "1    1.0  ...       1       1       2      2       2     2       2       2   \n",
      "2    1.0  ...       1       1       2      2       2     2       2       2   \n",
      "\n",
      "   EMPHDX  CHBRON  \n",
      "0       1       2  \n",
      "1       2       2  \n",
      "2       2       2  \n",
      "\n",
      "[3 rows x 160 columns]\n"
     ]
    }
   ],
   "source": [
    "col_name = 'CHBRON'\n",
    "num = 2\n",
    "add_col(df, col_name, num, True)\n",
    "print(df[:3])\n"
   ],
   "metadata": {
    "collapsed": false,
    "pycharm": {
     "name": "#%%\n"
    }
   }
  },
  {
   "cell_type": "code",
   "execution_count": 21,
   "outputs": [
    {
     "name": "stdout",
     "output_type": "stream",
     "text": [
      "length:  7915\n",
      "    AGE  RACE  PCS42  MCS42  K6SUM42  REGION=1  REGION=2  REGION=3  REGION=4  \\\n",
      "0  56.0     0  24.59  38.23     11.0       1.0       0.0       0.0       0.0   \n",
      "1  19.0     1  -1.00  -1.00     -1.0       1.0       0.0       0.0       0.0   \n",
      "2  73.0     1  -1.00  -1.00     -1.0       0.0       0.0       0.0       1.0   \n",
      "\n",
      "   SEX=1  ...  MNHLTH  HIBPDX  CHDDX  ANGIDX  MIDX  OHRTDX  STRKDX  EMPHDX  \\\n",
      "0    0.0  ...       3       2      2       2     2       1       2       1   \n",
      "1    1.0  ...       1       2      2       2     2       2       2       2   \n",
      "2    1.0  ...       1       2      2       2     2       2       2       2   \n",
      "\n",
      "   CHBRON  CHOLDX  \n",
      "0       2       1  \n",
      "1       2       2  \n",
      "2       2       2  \n",
      "\n",
      "[3 rows x 161 columns]\n"
     ]
    }
   ],
   "source": [
    "col_name = 'CHOLDX'\n",
    "num = 2\n",
    "add_col(df, col_name, num, True)\n",
    "print(df[:3])\n"
   ],
   "metadata": {
    "collapsed": false,
    "pycharm": {
     "name": "#%%\n"
    }
   }
  },
  {
   "cell_type": "code",
   "execution_count": 22,
   "outputs": [
    {
     "name": "stdout",
     "output_type": "stream",
     "text": [
      "length:  7915\n",
      "    AGE  RACE  PCS42  MCS42  K6SUM42  REGION=1  REGION=2  REGION=3  REGION=4  \\\n",
      "0  56.0     0  24.59  38.23     11.0       1.0       0.0       0.0       0.0   \n",
      "1  19.0     1  -1.00  -1.00     -1.0       1.0       0.0       0.0       0.0   \n",
      "2  73.0     1  -1.00  -1.00     -1.0       0.0       0.0       0.0       1.0   \n",
      "\n",
      "   SEX=1  ...  HIBPDX  CHDDX  ANGIDX  MIDX  OHRTDX  STRKDX  EMPHDX  CHBRON  \\\n",
      "0    0.0  ...       2      2       2     2       1       2       1       2   \n",
      "1    1.0  ...       2      2       2     2       2       2       2       2   \n",
      "2    1.0  ...       2      2       2     2       2       2       2       2   \n",
      "\n",
      "   CHOLDX  CANCERDX  \n",
      "0       1         2  \n",
      "1       2         2  \n",
      "2       2         2  \n",
      "\n",
      "[3 rows x 162 columns]\n"
     ]
    }
   ],
   "source": [
    "col_name = 'CANCERDX'\n",
    "num = 2\n",
    "add_col(df, col_name, num, True)\n",
    "print(df[:3])\n"
   ],
   "metadata": {
    "collapsed": false,
    "pycharm": {
     "name": "#%%\n"
    }
   }
  },
  {
   "cell_type": "code",
   "execution_count": 23,
   "outputs": [
    {
     "name": "stdout",
     "output_type": "stream",
     "text": [
      "length:  7915\n",
      "    AGE  RACE  PCS42  MCS42  K6SUM42  REGION=1  REGION=2  REGION=3  REGION=4  \\\n",
      "0  56.0     0  24.59  38.23     11.0       1.0       0.0       0.0       0.0   \n",
      "1  19.0     1  -1.00  -1.00     -1.0       1.0       0.0       0.0       0.0   \n",
      "2  73.0     1  -1.00  -1.00     -1.0       0.0       0.0       0.0       1.0   \n",
      "\n",
      "   SEX=1  ...  CHDDX  ANGIDX  MIDX  OHRTDX  STRKDX  EMPHDX  CHBRON  CHOLDX  \\\n",
      "0    0.0  ...      2       2     2       1       2       1       2       1   \n",
      "1    1.0  ...      2       2     2       2       2       2       2       2   \n",
      "2    1.0  ...      2       2     2       2       2       2       2       2   \n",
      "\n",
      "   CANCERDX  DIABDX  \n",
      "0         2       2  \n",
      "1         2       2  \n",
      "2         2       2  \n",
      "\n",
      "[3 rows x 163 columns]\n"
     ]
    }
   ],
   "source": [
    "col_name = 'DIABDX'\n",
    "num = 2\n",
    "add_col(df, col_name, num, True)\n",
    "print(df[:3])\n"
   ],
   "metadata": {
    "collapsed": false,
    "pycharm": {
     "name": "#%%\n"
    }
   }
  },
  {
   "cell_type": "code",
   "execution_count": 24,
   "outputs": [
    {
     "name": "stdout",
     "output_type": "stream",
     "text": [
      "length:  7915\n",
      "    AGE  RACE  PCS42  MCS42  K6SUM42  REGION=1  REGION=2  REGION=3  REGION=4  \\\n",
      "0  56.0     0  24.59  38.23     11.0       1.0       0.0       0.0       0.0   \n",
      "1  19.0     1  -1.00  -1.00     -1.0       1.0       0.0       0.0       0.0   \n",
      "2  73.0     1  -1.00  -1.00     -1.0       0.0       0.0       0.0       1.0   \n",
      "\n",
      "   SEX=1  ...  ANGIDX  MIDX  OHRTDX  STRKDX  EMPHDX  CHBRON  CHOLDX  CANCERDX  \\\n",
      "0    0.0  ...       2     2       1       2       1       2       1         2   \n",
      "1    1.0  ...       2     2       2       2       2       2       2         2   \n",
      "2    1.0  ...       2     2       2       2       2       2       2         2   \n",
      "\n",
      "   DIABDX  JTPAIN  \n",
      "0       2       1  \n",
      "1       2       2  \n",
      "2       2       2  \n",
      "\n",
      "[3 rows x 164 columns]\n"
     ]
    }
   ],
   "source": [
    "col_name = 'JTPAIN'\n",
    "num = 2\n",
    "add_col(df, col_name, num, True)\n",
    "print(df[:3])\n"
   ],
   "metadata": {
    "collapsed": false,
    "pycharm": {
     "name": "#%%\n"
    }
   }
  },
  {
   "cell_type": "code",
   "execution_count": 25,
   "outputs": [
    {
     "name": "stdout",
     "output_type": "stream",
     "text": [
      "length:  7915\n",
      "    AGE  RACE  PCS42  MCS42  K6SUM42  REGION=1  REGION=2  REGION=3  REGION=4  \\\n",
      "0  56.0     0  24.59  38.23     11.0       1.0       0.0       0.0       0.0   \n",
      "1  19.0     1  -1.00  -1.00     -1.0       1.0       0.0       0.0       0.0   \n",
      "2  73.0     1  -1.00  -1.00     -1.0       0.0       0.0       0.0       1.0   \n",
      "\n",
      "   SEX=1  ...  MIDX  OHRTDX  STRKDX  EMPHDX  CHBRON  CHOLDX  CANCERDX  DIABDX  \\\n",
      "0    0.0  ...     2       1       2       1       2       1         2       2   \n",
      "1    1.0  ...     2       2       2       2       2       2         2       2   \n",
      "2    1.0  ...     2       2       2       2       2       2         2       2   \n",
      "\n",
      "   JTPAIN  ARTHDX  \n",
      "0       1       1  \n",
      "1       2       2  \n",
      "2       2       2  \n",
      "\n",
      "[3 rows x 165 columns]\n"
     ]
    }
   ],
   "source": [
    "col_name = 'ARTHDX'\n",
    "num = 2\n",
    "add_col(df, col_name, num, True)\n",
    "print(df[:3])\n"
   ],
   "metadata": {
    "collapsed": false,
    "pycharm": {
     "name": "#%%\n"
    }
   }
  },
  {
   "cell_type": "code",
   "execution_count": 26,
   "outputs": [
    {
     "name": "stdout",
     "output_type": "stream",
     "text": [
      "length:  7915\n",
      "    AGE  RACE  PCS42  MCS42  K6SUM42  REGION=1  REGION=2  REGION=3  REGION=4  \\\n",
      "0  56.0     0  24.59  38.23     11.0       1.0       0.0       0.0       0.0   \n",
      "1  19.0     1  -1.00  -1.00     -1.0       1.0       0.0       0.0       0.0   \n",
      "2  73.0     1  -1.00  -1.00     -1.0       0.0       0.0       0.0       1.0   \n",
      "\n",
      "   SEX=1  ...  OHRTDX  STRKDX  EMPHDX  CHBRON  CHOLDX  CANCERDX  DIABDX  \\\n",
      "0    0.0  ...       1       2       1       2       1         2       2   \n",
      "1    1.0  ...       2       2       2       2       2         2       2   \n",
      "2    1.0  ...       2       2       2       2       2         2       2   \n",
      "\n",
      "   JTPAIN  ARTHDX  ARTHTYPE  \n",
      "0       1       1         1  \n",
      "1       2       2        -1  \n",
      "2       2       2        -1  \n",
      "\n",
      "[3 rows x 166 columns]\n"
     ]
    }
   ],
   "source": [
    "col_name = 'ARTHTYPE'\n",
    "num = 3\n",
    "add_col(df, col_name, num, True)\n",
    "print(df[:3])\n"
   ],
   "metadata": {
    "collapsed": false,
    "pycharm": {
     "name": "#%%\n"
    }
   }
  },
  {
   "cell_type": "code",
   "execution_count": 27,
   "outputs": [
    {
     "name": "stdout",
     "output_type": "stream",
     "text": [
      "length:  7915\n",
      "    AGE  RACE  PCS42  MCS42  K6SUM42  REGION=1  REGION=2  REGION=3  REGION=4  \\\n",
      "0  56.0     0  24.59  38.23     11.0       1.0       0.0       0.0       0.0   \n",
      "1  19.0     1  -1.00  -1.00     -1.0       1.0       0.0       0.0       0.0   \n",
      "2  73.0     1  -1.00  -1.00     -1.0       0.0       0.0       0.0       1.0   \n",
      "\n",
      "   SEX=1  ...  STRKDX  EMPHDX  CHBRON  CHOLDX  CANCERDX  DIABDX  JTPAIN  \\\n",
      "0    0.0  ...       2       1       2       1         2       2       1   \n",
      "1    1.0  ...       2       2       2       2         2       2       2   \n",
      "2    1.0  ...       2       2       2       2         2       2       2   \n",
      "\n",
      "   ARTHDX  ARTHTYPE  ASTHDX  \n",
      "0       1         1       2  \n",
      "1       2        -1       2  \n",
      "2       2        -1       2  \n",
      "\n",
      "[3 rows x 167 columns]\n"
     ]
    }
   ],
   "source": [
    "col_name = 'ASTHDX'\n",
    "num = 2\n",
    "add_col(df, col_name, num, False)\n",
    "print(df[:3])\n"
   ],
   "metadata": {
    "collapsed": false,
    "pycharm": {
     "name": "#%%\n"
    }
   }
  },
  {
   "cell_type": "code",
   "execution_count": 28,
   "outputs": [
    {
     "name": "stdout",
     "output_type": "stream",
     "text": [
      "length:  7915\n",
      "    AGE  RACE  PCS42  MCS42  K6SUM42  REGION=1  REGION=2  REGION=3  REGION=4  \\\n",
      "0  56.0     0  24.59  38.23     11.0       1.0       0.0       0.0       0.0   \n",
      "1  19.0     1  -1.00  -1.00     -1.0       1.0       0.0       0.0       0.0   \n",
      "2  73.0     1  -1.00  -1.00     -1.0       0.0       0.0       0.0       1.0   \n",
      "\n",
      "   SEX=1  ...  EMPHDX  CHBRON  CHOLDX  CANCERDX  DIABDX  JTPAIN  ARTHDX  \\\n",
      "0    0.0  ...       1       2       1         2       2       1       1   \n",
      "1    1.0  ...       2       2       2         2       2       2       2   \n",
      "2    1.0  ...       2       2       2         2       2       2       2   \n",
      "\n",
      "   ARTHTYPE  ASTHDX  ADHDADDX  \n",
      "0         1       2        -1  \n",
      "1        -1       2         1  \n",
      "2        -1       2        -1  \n",
      "\n",
      "[3 rows x 168 columns]\n"
     ]
    }
   ],
   "source": [
    "col_name = 'ADHDADDX'\n",
    "num = 2\n",
    "add_col(df, col_name, num, True)\n",
    "print(df[:3])\n"
   ],
   "metadata": {
    "collapsed": false,
    "pycharm": {
     "name": "#%%\n"
    }
   }
  },
  {
   "cell_type": "code",
   "execution_count": 29,
   "outputs": [
    {
     "name": "stdout",
     "output_type": "stream",
     "text": [
      "length:  7915\n",
      "    AGE  RACE  PCS42  MCS42  K6SUM42  REGION=1  REGION=2  REGION=3  REGION=4  \\\n",
      "0  56.0     0  24.59  38.23     11.0       1.0       0.0       0.0       0.0   \n",
      "1  19.0     1  -1.00  -1.00     -1.0       1.0       0.0       0.0       0.0   \n",
      "2  73.0     1  -1.00  -1.00     -1.0       0.0       0.0       0.0       1.0   \n",
      "\n",
      "   SEX=1  ...  CHBRON  CHOLDX  CANCERDX  DIABDX  JTPAIN  ARTHDX  ARTHTYPE  \\\n",
      "0    0.0  ...       2       1         2       2       1       1         1   \n",
      "1    1.0  ...       2       2         2       2       2       2        -1   \n",
      "2    1.0  ...       2       2         2       2       2       2        -1   \n",
      "\n",
      "   ASTHDX  ADHDADDX  PREGNT  \n",
      "0       2        -1      -1  \n",
      "1       2         1      -1  \n",
      "2       2        -1      -1  \n",
      "\n",
      "[3 rows x 169 columns]\n"
     ]
    }
   ],
   "source": [
    "col_name = 'PREGNT'\n",
    "num = 2\n",
    "add_col(df, col_name, num, True)\n",
    "print(df[:3])\n"
   ],
   "metadata": {
    "collapsed": false,
    "pycharm": {
     "name": "#%%\n"
    }
   }
  },
  {
   "cell_type": "code",
   "execution_count": 31,
   "outputs": [],
   "source": [
    "df.to_csv(\"train_add_col2PREGNT.csv\", index=False)"
   ],
   "metadata": {
    "collapsed": false,
    "pycharm": {
     "name": "#%%\n"
    }
   }
  },
  {
   "cell_type": "code",
   "execution_count": 1,
   "outputs": [],
   "source": [],
   "metadata": {
    "collapsed": false,
    "pycharm": {
     "name": "#%%\n"
    }
   }
  },
  {
   "cell_type": "markdown",
   "source": [
    "# translate all attributes"
   ],
   "metadata": {
    "collapsed": false,
    "pycharm": {
     "name": "#%% md\n"
    }
   }
  },
  {
   "cell_type": "code",
   "execution_count": 15,
   "outputs": [],
   "source": [],
   "metadata": {
    "collapsed": false,
    "pycharm": {
     "name": "#%%\n"
    }
   }
  },
  {
   "cell_type": "code",
   "execution_count": 32,
   "outputs": [
    {
     "name": "stdout",
     "output_type": "stream",
     "text": [
      "length:  7915\n",
      "    AGE  RACE  PCS42  MCS42  K6SUM42  REGION=1  REGION=2  REGION=3  REGION=4  \\\n",
      "0  56.0     0  24.59  38.23     11.0       1.0       0.0       0.0       0.0   \n",
      "1  19.0     1  -1.00  -1.00     -1.0       1.0       0.0       0.0       0.0   \n",
      "2  73.0     1  -1.00  -1.00     -1.0       0.0       0.0       0.0       1.0   \n",
      "\n",
      "   SEX=1  ...  CHOLDX  CANCERDX  DIABDX  JTPAIN  ARTHDX  ARTHTYPE  ASTHDX  \\\n",
      "0    0.0  ...       1         2       2       1       1         1       2   \n",
      "1    1.0  ...       2         2       2       2       2        -1       2   \n",
      "2    1.0  ...       2         2       2       2       2        -1       2   \n",
      "\n",
      "   ADHDADDX  PREGNT  WLKLIM  \n",
      "0        -1      -1       1  \n",
      "1         1      -1       2  \n",
      "2        -1      -1       2  \n",
      "\n",
      "[3 rows x 170 columns]\n"
     ]
    }
   ],
   "source": [
    "file_name = 'train_add_col2PREGNT.csv'\n",
    "df = pd.read_csv(file_name)\n",
    "\n",
    "col_name = 'WLKLIM'\n",
    "num = 2\n",
    "add_col(df, col_name, num, True)\n",
    "print(df[:3])\n"
   ],
   "metadata": {
    "collapsed": false,
    "pycharm": {
     "name": "#%%\n"
    }
   }
  },
  {
   "cell_type": "code",
   "execution_count": 33,
   "outputs": [
    {
     "name": "stdout",
     "output_type": "stream",
     "text": [
      "length:  7915\n",
      "    AGE  RACE  PCS42  MCS42  K6SUM42  REGION=1  REGION=2  REGION=3  REGION=4  \\\n",
      "0  56.0     0  24.59  38.23     11.0       1.0       0.0       0.0       0.0   \n",
      "1  19.0     1  -1.00  -1.00     -1.0       1.0       0.0       0.0       0.0   \n",
      "2  73.0     1  -1.00  -1.00     -1.0       0.0       0.0       0.0       1.0   \n",
      "\n",
      "   SEX=1  ...  CANCERDX  DIABDX  JTPAIN  ARTHDX  ARTHTYPE  ASTHDX  ADHDADDX  \\\n",
      "0    0.0  ...         2       2       1       1         1       2        -1   \n",
      "1    1.0  ...         2       2       2       2        -1       2         1   \n",
      "2    1.0  ...         2       2       2       2        -1       2        -1   \n",
      "\n",
      "   PREGNT  WLKLIM  ACTLIM  \n",
      "0      -1       1       1  \n",
      "1      -1       2       2  \n",
      "2      -1       2       2  \n",
      "\n",
      "[3 rows x 171 columns]\n"
     ]
    }
   ],
   "source": [
    "col_name = 'ACTLIM'\n",
    "num = 2\n",
    "add_col(df, col_name, num, True)\n",
    "print(df[:3])"
   ],
   "metadata": {
    "collapsed": false,
    "pycharm": {
     "name": "#%%\n"
    }
   }
  },
  {
   "cell_type": "code",
   "execution_count": 34,
   "outputs": [
    {
     "name": "stdout",
     "output_type": "stream",
     "text": [
      "length:  7915\n",
      "    AGE  RACE  PCS42  MCS42  K6SUM42  REGION=1  REGION=2  REGION=3  REGION=4  \\\n",
      "0  56.0     0  24.59  38.23     11.0       1.0       0.0       0.0       0.0   \n",
      "1  19.0     1  -1.00  -1.00     -1.0       1.0       0.0       0.0       0.0   \n",
      "2  73.0     1  -1.00  -1.00     -1.0       0.0       0.0       0.0       1.0   \n",
      "\n",
      "   SEX=1  ...  DIABDX  JTPAIN  ARTHDX  ARTHTYPE  ASTHDX  ADHDADDX  PREGNT  \\\n",
      "0    0.0  ...       2       1       1         1       2        -1      -1   \n",
      "1    1.0  ...       2       2       2        -1       2         1      -1   \n",
      "2    1.0  ...       2       2       2        -1       2        -1      -1   \n",
      "\n",
      "   WLKLIM  ACTLIM  SOCLIM  \n",
      "0       1       1       2  \n",
      "1       2       2       2  \n",
      "2       2       2       2  \n",
      "\n",
      "[3 rows x 172 columns]\n"
     ]
    }
   ],
   "source": [
    "col_name = 'SOCLIM'\n",
    "num = 2\n",
    "add_col(df, col_name, num, True)\n",
    "print(df[:3])"
   ],
   "metadata": {
    "collapsed": false,
    "pycharm": {
     "name": "#%%\n"
    }
   }
  },
  {
   "cell_type": "code",
   "execution_count": 35,
   "outputs": [
    {
     "name": "stdout",
     "output_type": "stream",
     "text": [
      "length:  7915\n",
      "    AGE  RACE  PCS42  MCS42  K6SUM42  REGION=1  REGION=2  REGION=3  REGION=4  \\\n",
      "0  56.0     0  24.59  38.23     11.0       1.0       0.0       0.0       0.0   \n",
      "1  19.0     1  -1.00  -1.00     -1.0       1.0       0.0       0.0       0.0   \n",
      "2  73.0     1  -1.00  -1.00     -1.0       0.0       0.0       0.0       1.0   \n",
      "\n",
      "   SEX=1  ...  JTPAIN  ARTHDX  ARTHTYPE  ASTHDX  ADHDADDX  PREGNT  WLKLIM  \\\n",
      "0    0.0  ...       1       1         1       2        -1      -1       1   \n",
      "1    1.0  ...       2       2        -1       2         1      -1       2   \n",
      "2    1.0  ...       2       2        -1       2        -1      -1       2   \n",
      "\n",
      "   ACTLIM  SOCLIM  COGLIM  \n",
      "0       1       2       1  \n",
      "1       2       2       2  \n",
      "2       2       2       2  \n",
      "\n",
      "[3 rows x 173 columns]\n"
     ]
    }
   ],
   "source": [
    "col_name = 'COGLIM'\n",
    "num = 2\n",
    "add_col(df, col_name, num, True)\n",
    "print(df[:3])"
   ],
   "metadata": {
    "collapsed": false,
    "pycharm": {
     "name": "#%%\n"
    }
   }
  },
  {
   "cell_type": "code",
   "execution_count": 36,
   "outputs": [
    {
     "name": "stdout",
     "output_type": "stream",
     "text": [
      "length:  7915\n",
      "    AGE  RACE  PCS42  MCS42  K6SUM42  REGION=1  REGION=2  REGION=3  REGION=4  \\\n",
      "0  56.0     0  24.59  38.23     11.0       1.0       0.0       0.0       0.0   \n",
      "1  19.0     1  -1.00  -1.00     -1.0       1.0       0.0       0.0       0.0   \n",
      "2  73.0     1  -1.00  -1.00     -1.0       0.0       0.0       0.0       1.0   \n",
      "\n",
      "   SEX=1  ...  ARTHDX  ARTHTYPE  ASTHDX  ADHDADDX  PREGNT  WLKLIM  ACTLIM  \\\n",
      "0    0.0  ...       1         1       2        -1      -1       1       1   \n",
      "1    1.0  ...       2        -1       2         1      -1       2       2   \n",
      "2    1.0  ...       2        -1       2        -1      -1       2       2   \n",
      "\n",
      "   SOCLIM  COGLIM  DFHEAR42  \n",
      "0       2       1         2  \n",
      "1       2       2         2  \n",
      "2       2       2         2  \n",
      "\n",
      "[3 rows x 174 columns]\n"
     ]
    }
   ],
   "source": [
    "col_name = 'DFHEAR42'\n",
    "num = 2\n",
    "add_col(df, col_name, num, True)\n",
    "print(df[:3])"
   ],
   "metadata": {
    "collapsed": false,
    "pycharm": {
     "name": "#%%\n"
    }
   }
  },
  {
   "cell_type": "code",
   "execution_count": 37,
   "outputs": [
    {
     "name": "stdout",
     "output_type": "stream",
     "text": [
      "length:  7915\n",
      "    AGE  RACE  PCS42  MCS42  K6SUM42  REGION=1  REGION=2  REGION=3  REGION=4  \\\n",
      "0  56.0     0  24.59  38.23     11.0       1.0       0.0       0.0       0.0   \n",
      "1  19.0     1  -1.00  -1.00     -1.0       1.0       0.0       0.0       0.0   \n",
      "2  73.0     1  -1.00  -1.00     -1.0       0.0       0.0       0.0       1.0   \n",
      "\n",
      "   SEX=1  ...  ARTHTYPE  ASTHDX  ADHDADDX  PREGNT  WLKLIM  ACTLIM  SOCLIM  \\\n",
      "0    0.0  ...         1       2        -1      -1       1       1       2   \n",
      "1    1.0  ...        -1       2         1      -1       2       2       2   \n",
      "2    1.0  ...        -1       2        -1      -1       2       2       2   \n",
      "\n",
      "   COGLIM  DFHEAR42  DFSEE42  \n",
      "0       1         2        2  \n",
      "1       2         2        2  \n",
      "2       2         2        2  \n",
      "\n",
      "[3 rows x 175 columns]\n"
     ]
    }
   ],
   "source": [
    "col_name = 'DFSEE42'\n",
    "num = 2\n",
    "add_col(df, col_name, num, True)\n",
    "print(df[:3])"
   ],
   "metadata": {
    "collapsed": false,
    "pycharm": {
     "name": "#%%\n"
    }
   }
  },
  {
   "cell_type": "code",
   "execution_count": 38,
   "outputs": [
    {
     "name": "stdout",
     "output_type": "stream",
     "text": [
      "length:  7915\n",
      "    AGE  RACE  PCS42  MCS42  K6SUM42  REGION=1  REGION=2  REGION=3  REGION=4  \\\n",
      "0  56.0     0  24.59  38.23     11.0       1.0       0.0       0.0       0.0   \n",
      "1  19.0     1  -1.00  -1.00     -1.0       1.0       0.0       0.0       0.0   \n",
      "2  73.0     1  -1.00  -1.00     -1.0       0.0       0.0       0.0       1.0   \n",
      "\n",
      "   SEX=1  ...  ASTHDX  ADHDADDX  PREGNT  WLKLIM  ACTLIM  SOCLIM  COGLIM  \\\n",
      "0    0.0  ...       2        -1      -1       1       1       2       1   \n",
      "1    1.0  ...       2         1      -1       2       2       2       2   \n",
      "2    1.0  ...       2        -1      -1       2       2       2       2   \n",
      "\n",
      "   DFHEAR42  DFSEE42  ADSMOK42  \n",
      "0         2        2         1  \n",
      "1         2        2        -1  \n",
      "2         2        2        -1  \n",
      "\n",
      "[3 rows x 176 columns]\n"
     ]
    }
   ],
   "source": [
    "col_name = 'ADSMOK42'\n",
    "num = 2\n",
    "add_col(df, col_name, num, True)\n",
    "print(df[:3])"
   ],
   "metadata": {
    "collapsed": false,
    "pycharm": {
     "name": "#%%\n"
    }
   }
  },
  {
   "cell_type": "code",
   "execution_count": 39,
   "outputs": [],
   "source": [
    "\n",
    "def add_col(df, col_name, num, zero, minus_one = False):\n",
    "    length = len(df)\n",
    "    print(\"length: \", length)\n",
    "    df[col_name] = [0]*length\n",
    "    for i in range(length):\n",
    "        # print(\"i=\", i)\n",
    "        found = False\n",
    "        for j in range(1, num+1):\n",
    "            feature_name = col_name + \"=\" + str(j)\n",
    "            if df.iloc[i][feature_name] == 1:\n",
    "                # print(\"df[{}] = {}\".format(i, j))\n",
    "                df._set_value(i, col_name, j)\n",
    "                found = True\n",
    "                break\n",
    "\n",
    "        if minus_one:\n",
    "            feature_name = col_name + \"=-1\"\n",
    "            if df.iloc[i][feature_name] == 1:\n",
    "                df._set_value(i, col_name, -1)\n",
    "                found = True\n",
    "\n",
    "        if zero:\n",
    "            feature_name = col_name + \"=0\"\n",
    "            if df.iloc[i][feature_name] == 1:\n",
    "                df._set_value(i, col_name, 0)\n",
    "                found = True\n",
    "\n",
    "        if found is False:\n",
    "            print(\"{} not found\".format(i))\n",
    "    # print(df[col_name])\n",
    "\n",
    "\n"
   ],
   "metadata": {
    "collapsed": false,
    "pycharm": {
     "name": "#%%\n"
    }
   }
  },
  {
   "cell_type": "code",
   "execution_count": 40,
   "outputs": [
    {
     "name": "stdout",
     "output_type": "stream",
     "text": [
      "length:  7915\n",
      "    AGE  RACE  PCS42  MCS42  K6SUM42  REGION=1  REGION=2  REGION=3  REGION=4  \\\n",
      "0  56.0     0  24.59  38.23     11.0       1.0       0.0       0.0       0.0   \n",
      "1  19.0     1  -1.00  -1.00     -1.0       1.0       0.0       0.0       0.0   \n",
      "2  73.0     1  -1.00  -1.00     -1.0       0.0       0.0       0.0       1.0   \n",
      "\n",
      "   SEX=1  ...  ADHDADDX  PREGNT  WLKLIM  ACTLIM  SOCLIM  COGLIM  DFHEAR42  \\\n",
      "0    0.0  ...        -1      -1       1       1       2       1         2   \n",
      "1    1.0  ...         1      -1       2       2       2       2         2   \n",
      "2    1.0  ...        -1      -1       2       2       2       2         2   \n",
      "\n",
      "   DFSEE42  ADSMOK42  PHQ242  \n",
      "0        2         1       5  \n",
      "1        2        -1      -1  \n",
      "2        2        -1      -1  \n",
      "\n",
      "[3 rows x 177 columns]\n"
     ]
    }
   ],
   "source": [
    "\n",
    "col_name = 'PHQ242'\n",
    "num = 6\n",
    "add_col(df, col_name, num, True, True)\n",
    "print(df[:3])"
   ],
   "metadata": {
    "collapsed": false,
    "pycharm": {
     "name": "#%%\n"
    }
   }
  },
  {
   "cell_type": "code",
   "execution_count": 41,
   "outputs": [
    {
     "name": "stdout",
     "output_type": "stream",
     "text": [
      "length:  7915\n",
      "    AGE  RACE  PCS42  MCS42  K6SUM42  REGION=1  REGION=2  REGION=3  REGION=4  \\\n",
      "0  56.0     0  24.59  38.23     11.0       1.0       0.0       0.0       0.0   \n",
      "1  19.0     1  -1.00  -1.00     -1.0       1.0       0.0       0.0       0.0   \n",
      "2  73.0     1  -1.00  -1.00     -1.0       0.0       0.0       0.0       1.0   \n",
      "\n",
      "   SEX=1  ...  PREGNT  WLKLIM  ACTLIM  SOCLIM  COGLIM  DFHEAR42  DFSEE42  \\\n",
      "0    0.0  ...      -1       1       1       2       1         2        2   \n",
      "1    1.0  ...      -1       2       2       2       2         2        2   \n",
      "2    1.0  ...      -1       2       2       2       2         2        2   \n",
      "\n",
      "   ADSMOK42  PHQ242  EMPST  \n",
      "0         1       5      4  \n",
      "1        -1      -1      1  \n",
      "2        -1      -1      1  \n",
      "\n",
      "[3 rows x 178 columns]\n"
     ]
    }
   ],
   "source": [
    "\n",
    "col_name = 'EMPST'\n",
    "num = 4\n",
    "add_col(df, col_name, num, False, True)\n",
    "print(df[:3])"
   ],
   "metadata": {
    "collapsed": false,
    "pycharm": {
     "name": "#%%\n"
    }
   }
  },
  {
   "cell_type": "code",
   "execution_count": 42,
   "outputs": [
    {
     "name": "stdout",
     "output_type": "stream",
     "text": [
      "length:  7915\n",
      "    AGE  RACE  PCS42  MCS42  K6SUM42  REGION=1  REGION=2  REGION=3  REGION=4  \\\n",
      "0  56.0     0  24.59  38.23     11.0       1.0       0.0       0.0       0.0   \n",
      "1  19.0     1  -1.00  -1.00     -1.0       1.0       0.0       0.0       0.0   \n",
      "2  73.0     1  -1.00  -1.00     -1.0       0.0       0.0       0.0       1.0   \n",
      "\n",
      "   SEX=1  ...  WLKLIM  ACTLIM  SOCLIM  COGLIM  DFHEAR42  DFSEE42  ADSMOK42  \\\n",
      "0    0.0  ...       1       1       2       1         2        2         1   \n",
      "1    1.0  ...       2       2       2       2         2        2        -1   \n",
      "2    1.0  ...       2       2       2       2         2        2        -1   \n",
      "\n",
      "   PHQ242  EMPST  POVCAT  \n",
      "0       5      4       1  \n",
      "1      -1      1       4  \n",
      "2      -1      1       5  \n",
      "\n",
      "[3 rows x 179 columns]\n"
     ]
    }
   ],
   "source": [
    "\n",
    "col_name = 'POVCAT'\n",
    "num = 5\n",
    "add_col(df, col_name, num, False, False)\n",
    "print(df[:3])\n"
   ],
   "metadata": {
    "collapsed": false,
    "pycharm": {
     "name": "#%%\n"
    }
   }
  },
  {
   "cell_type": "code",
   "execution_count": 43,
   "outputs": [
    {
     "name": "stdout",
     "output_type": "stream",
     "text": [
      "length:  7915\n",
      "    AGE  RACE  PCS42  MCS42  K6SUM42  REGION=1  REGION=2  REGION=3  REGION=4  \\\n",
      "0  56.0     0  24.59  38.23     11.0       1.0       0.0       0.0       0.0   \n",
      "1  19.0     1  -1.00  -1.00     -1.0       1.0       0.0       0.0       0.0   \n",
      "2  73.0     1  -1.00  -1.00     -1.0       0.0       0.0       0.0       1.0   \n",
      "\n",
      "   SEX=1  ...  ACTLIM  SOCLIM  COGLIM  DFHEAR42  DFSEE42  ADSMOK42  PHQ242  \\\n",
      "0    0.0  ...       1       2       1         2        2         1       5   \n",
      "1    1.0  ...       2       2       2         2        2        -1      -1   \n",
      "2    1.0  ...       2       2       2         2        2        -1      -1   \n",
      "\n",
      "   EMPST  POVCAT  INSCOV  \n",
      "0      4       1       2  \n",
      "1      1       4       2  \n",
      "2      1       5       1  \n",
      "\n",
      "[3 rows x 180 columns]\n"
     ]
    }
   ],
   "source": [
    "\n",
    "col_name = 'INSCOV'\n",
    "num = 3\n",
    "add_col(df, col_name, num, False, False)\n",
    "print(df[:3])"
   ],
   "metadata": {
    "collapsed": false,
    "pycharm": {
     "name": "#%%\n"
    }
   }
  },
  {
   "cell_type": "code",
   "execution_count": 43,
   "outputs": [],
   "source": [],
   "metadata": {
    "collapsed": false,
    "pycharm": {
     "name": "#%%\n"
    }
   }
  },
  {
   "cell_type": "code",
   "source": [
    "\n",
    "# this file has all attributes and SEX=1, SEX=2...\n",
    "df.to_csv(\"train_all_attributes.csv\", index=False)\n"
   ],
   "metadata": {
    "collapsed": false,
    "pycharm": {
     "name": "#%%\n"
    }
   },
   "execution_count": 44,
   "outputs": []
  },
  {
   "cell_type": "code",
   "execution_count": 45,
   "outputs": [
    {
     "data": {
      "text/plain": "['AGE',\n 'RACE',\n 'PCS42',\n 'MCS42',\n 'K6SUM42',\n 'REGION=1',\n 'REGION=2',\n 'REGION=3',\n 'REGION=4',\n 'SEX=1',\n 'SEX=2',\n 'MARRY=1',\n 'MARRY=2',\n 'MARRY=3',\n 'MARRY=4',\n 'MARRY=5',\n 'MARRY=6',\n 'MARRY=7',\n 'MARRY=8',\n 'MARRY=9',\n 'MARRY=10',\n 'FTSTU=-1',\n 'FTSTU=1',\n 'FTSTU=2',\n 'FTSTU=3',\n 'ACTDTY=1',\n 'ACTDTY=2',\n 'ACTDTY=3',\n 'ACTDTY=4',\n 'HONRDC=1',\n 'HONRDC=2',\n 'HONRDC=3',\n 'HONRDC=4',\n 'RTHLTH=-1',\n 'RTHLTH=1',\n 'RTHLTH=2',\n 'RTHLTH=3',\n 'RTHLTH=4',\n 'RTHLTH=5',\n 'MNHLTH=-1',\n 'MNHLTH=1',\n 'MNHLTH=2',\n 'MNHLTH=3',\n 'MNHLTH=4',\n 'MNHLTH=5',\n 'HIBPDX=-1',\n 'HIBPDX=1',\n 'HIBPDX=2',\n 'CHDDX=-1',\n 'CHDDX=1',\n 'CHDDX=2',\n 'ANGIDX=-1',\n 'ANGIDX=1',\n 'ANGIDX=2',\n 'MIDX=-1',\n 'MIDX=1',\n 'MIDX=2',\n 'OHRTDX=-1',\n 'OHRTDX=1',\n 'OHRTDX=2',\n 'STRKDX=-1',\n 'STRKDX=1',\n 'STRKDX=2',\n 'EMPHDX=-1',\n 'EMPHDX=1',\n 'EMPHDX=2',\n 'CHBRON=-1',\n 'CHBRON=1',\n 'CHBRON=2',\n 'CHOLDX=-1',\n 'CHOLDX=1',\n 'CHOLDX=2',\n 'CANCERDX=-1',\n 'CANCERDX=1',\n 'CANCERDX=2',\n 'DIABDX=-1',\n 'DIABDX=1',\n 'DIABDX=2',\n 'JTPAIN=-1',\n 'JTPAIN=1',\n 'JTPAIN=2',\n 'ARTHDX=-1',\n 'ARTHDX=1',\n 'ARTHDX=2',\n 'ARTHTYPE=-1',\n 'ARTHTYPE=1',\n 'ARTHTYPE=2',\n 'ARTHTYPE=3',\n 'ASTHDX=1',\n 'ASTHDX=2',\n 'ADHDADDX=-1',\n 'ADHDADDX=1',\n 'ADHDADDX=2',\n 'PREGNT=-1',\n 'PREGNT=1',\n 'PREGNT=2',\n 'WLKLIM=-1',\n 'WLKLIM=1',\n 'WLKLIM=2',\n 'ACTLIM=-1',\n 'ACTLIM=1',\n 'ACTLIM=2',\n 'SOCLIM=-1',\n 'SOCLIM=1',\n 'SOCLIM=2',\n 'COGLIM=-1',\n 'COGLIM=1',\n 'COGLIM=2',\n 'DFHEAR42=-1',\n 'DFHEAR42=1',\n 'DFHEAR42=2',\n 'DFSEE42=-1',\n 'DFSEE42=1',\n 'DFSEE42=2',\n 'ADSMOK42=-1',\n 'ADSMOK42=1',\n 'ADSMOK42=2',\n 'PHQ242=-1',\n 'PHQ242=0',\n 'PHQ242=1',\n 'PHQ242=2',\n 'PHQ242=3',\n 'PHQ242=4',\n 'PHQ242=5',\n 'PHQ242=6',\n 'EMPST=-1',\n 'EMPST=1',\n 'EMPST=2',\n 'EMPST=3',\n 'EMPST=4',\n 'POVCAT=1',\n 'POVCAT=2',\n 'POVCAT=3',\n 'POVCAT=4',\n 'POVCAT=5',\n 'INSCOV=1',\n 'INSCOV=2',\n 'INSCOV=3',\n 'TP',\n 'FP',\n 'TN',\n 'FN',\n 'ground_truth',\n 'prediction',\n 'REGION',\n 'SEX',\n 'MARRY',\n 'FTSTU',\n 'ACTDTY',\n 'HONRDC',\n 'RTHLTH',\n 'MNHLTH',\n 'HIBPDX',\n 'CHDDX',\n 'ANGIDX',\n 'MIDX',\n 'OHRTDX',\n 'STRKDX',\n 'EMPHDX',\n 'CHBRON',\n 'CHOLDX',\n 'CANCERDX',\n 'DIABDX',\n 'JTPAIN',\n 'ARTHDX',\n 'ARTHTYPE',\n 'ASTHDX',\n 'ADHDADDX',\n 'PREGNT',\n 'WLKLIM',\n 'ACTLIM',\n 'SOCLIM',\n 'COGLIM',\n 'DFHEAR42',\n 'DFSEE42',\n 'ADSMOK42',\n 'PHQ242',\n 'EMPST',\n 'POVCAT',\n 'INSCOV']"
     },
     "execution_count": 45,
     "metadata": {},
     "output_type": "execute_result"
    }
   ],
   "source": [
    "\n",
    "# delete attributes like SEX=1, SEX=2... , only have the necessary ones\n",
    "\n",
    "list(df.columns)"
   ],
   "metadata": {
    "collapsed": false,
    "pycharm": {
     "name": "#%%\n"
    }
   }
  },
  {
   "cell_type": "code",
   "execution_count": 76,
   "outputs": [],
   "source": [
    "# 41 attributes + ground_truth, prediction\n",
    "attributes = ['AGE', 'RACE', 'PCS42', 'MCS42', 'K6SUM42',\n",
    "              'REGION', 'SEX', 'MARRY', 'FTSTU', 'ACTDTY',\n",
    "              'HONRDC', 'RTHLTH', 'MNHLTH', 'HIBPDX', 'CHDDX',\n",
    "              'ANGIDX', 'MIDX', 'OHRTDX', 'STRKDX', 'EMPHDX',\n",
    "              'CHBRON', 'CHOLDX', 'CANCERDX', 'DIABDX', 'JTPAIN',\n",
    "              'ARTHDX', 'ARTHTYPE', 'ASTHDX', 'ADHDADDX', 'PREGNT',\n",
    "              'WLKLIM', 'ACTLIM', 'SOCLIM', 'COGLIM', 'DFHEAR42',\n",
    "              'DFSEE42', 'ADSMOK42', 'PHQ242', 'EMPST', 'POVCAT',\n",
    "              'INSCOV', 'ground_truth',\n",
    "              'prediction']\n"
   ],
   "metadata": {
    "collapsed": false,
    "pycharm": {
     "name": "#%%\n"
    }
   }
  },
  {
   "cell_type": "code",
   "execution_count": 77,
   "outputs": [],
   "source": [
    "\n",
    "df_necessary_att1 = df_necessary_att[attributes]\n"
   ],
   "metadata": {
    "collapsed": false,
    "pycharm": {
     "name": "#%%\n"
    }
   }
  },
  {
   "cell_type": "code",
   "execution_count": 78,
   "outputs": [],
   "source": [
    "df_necessary_att1.to_csv(\"train_41att.csv\", index=False)"
   ],
   "metadata": {
    "collapsed": false,
    "pycharm": {
     "name": "#%%\n"
    }
   }
  },
  {
   "cell_type": "code",
   "execution_count": 119,
   "outputs": [],
   "source": [],
   "metadata": {
    "collapsed": false,
    "pycharm": {
     "name": "#%%\n"
    }
   }
  },
  {
   "cell_type": "code",
   "execution_count": 72,
   "outputs": [],
   "source": [
    "\n",
    "df_necessary_att = pd.read_csv(\"train_all_attributes.csv\")\n",
    "df_necessary_att[\"TP\"] = df_necessary_att[\"TP\"].astype(int)\n",
    "df_necessary_att[\"TN\"] = df_necessary_att[\"TN\"].astype(int)\n",
    "df_necessary_att[\"FP\"] = df_necessary_att[\"FP\"].astype(int)\n",
    "df_necessary_att[\"FN\"] = df_necessary_att[\"FN\"].astype(int)\n"
   ],
   "metadata": {
    "collapsed": false,
    "pycharm": {
     "name": "#%%\n"
    }
   }
  },
  {
   "cell_type": "code",
   "execution_count": null,
   "outputs": [],
   "source": [],
   "metadata": {
    "collapsed": false,
    "pycharm": {
     "name": "#%%\n"
    }
   }
  },
  {
   "cell_type": "code",
   "execution_count": 73,
   "outputs": [
    {
     "data": {
      "text/plain": "    AGE  RACE  PCS42  MCS42  K6SUM42  REGION=1  REGION=2  REGION=3  REGION=4  \\\n0  56.0     0  24.59  38.23     11.0       1.0       0.0       0.0       0.0   \n1  19.0     1  -1.00  -1.00     -1.0       1.0       0.0       0.0       0.0   \n2  73.0     1  -1.00  -1.00     -1.0       0.0       0.0       0.0       1.0   \n\n   SEX=1  ...  ACTLIM  SOCLIM  COGLIM  DFHEAR42  DFSEE42  ADSMOK42  PHQ242  \\\n0    0.0  ...       1       2       1         2        2         1       5   \n1    1.0  ...       2       2       2         2        2        -1      -1   \n2    1.0  ...       2       2       2         2        2        -1      -1   \n\n   EMPST  POVCAT  INSCOV  \n0      4       1       2  \n1      1       4       2  \n2      1       5       1  \n\n[3 rows x 180 columns]",
      "text/html": "<div>\n<style scoped>\n    .dataframe tbody tr th:only-of-type {\n        vertical-align: middle;\n    }\n\n    .dataframe tbody tr th {\n        vertical-align: top;\n    }\n\n    .dataframe thead th {\n        text-align: right;\n    }\n</style>\n<table border=\"1\" class=\"dataframe\">\n  <thead>\n    <tr style=\"text-align: right;\">\n      <th></th>\n      <th>AGE</th>\n      <th>RACE</th>\n      <th>PCS42</th>\n      <th>MCS42</th>\n      <th>K6SUM42</th>\n      <th>REGION=1</th>\n      <th>REGION=2</th>\n      <th>REGION=3</th>\n      <th>REGION=4</th>\n      <th>SEX=1</th>\n      <th>...</th>\n      <th>ACTLIM</th>\n      <th>SOCLIM</th>\n      <th>COGLIM</th>\n      <th>DFHEAR42</th>\n      <th>DFSEE42</th>\n      <th>ADSMOK42</th>\n      <th>PHQ242</th>\n      <th>EMPST</th>\n      <th>POVCAT</th>\n      <th>INSCOV</th>\n    </tr>\n  </thead>\n  <tbody>\n    <tr>\n      <th>0</th>\n      <td>56.0</td>\n      <td>0</td>\n      <td>24.59</td>\n      <td>38.23</td>\n      <td>11.0</td>\n      <td>1.0</td>\n      <td>0.0</td>\n      <td>0.0</td>\n      <td>0.0</td>\n      <td>0.0</td>\n      <td>...</td>\n      <td>1</td>\n      <td>2</td>\n      <td>1</td>\n      <td>2</td>\n      <td>2</td>\n      <td>1</td>\n      <td>5</td>\n      <td>4</td>\n      <td>1</td>\n      <td>2</td>\n    </tr>\n    <tr>\n      <th>1</th>\n      <td>19.0</td>\n      <td>1</td>\n      <td>-1.00</td>\n      <td>-1.00</td>\n      <td>-1.0</td>\n      <td>1.0</td>\n      <td>0.0</td>\n      <td>0.0</td>\n      <td>0.0</td>\n      <td>1.0</td>\n      <td>...</td>\n      <td>2</td>\n      <td>2</td>\n      <td>2</td>\n      <td>2</td>\n      <td>2</td>\n      <td>-1</td>\n      <td>-1</td>\n      <td>1</td>\n      <td>4</td>\n      <td>2</td>\n    </tr>\n    <tr>\n      <th>2</th>\n      <td>73.0</td>\n      <td>1</td>\n      <td>-1.00</td>\n      <td>-1.00</td>\n      <td>-1.0</td>\n      <td>0.0</td>\n      <td>0.0</td>\n      <td>0.0</td>\n      <td>1.0</td>\n      <td>1.0</td>\n      <td>...</td>\n      <td>2</td>\n      <td>2</td>\n      <td>2</td>\n      <td>2</td>\n      <td>2</td>\n      <td>-1</td>\n      <td>-1</td>\n      <td>1</td>\n      <td>5</td>\n      <td>1</td>\n    </tr>\n  </tbody>\n</table>\n<p>3 rows × 180 columns</p>\n</div>"
     },
     "execution_count": 73,
     "metadata": {},
     "output_type": "execute_result"
    }
   ],
   "source": [
    "\n",
    "df_necessary_att[:3]\n"
   ],
   "metadata": {
    "collapsed": false,
    "pycharm": {
     "name": "#%%\n"
    }
   }
  },
  {
   "cell_type": "code",
   "execution_count": 74,
   "outputs": [],
   "source": [
    "\n",
    "\n",
    "\n",
    "for index, row in df_necessary_att.iterrows():\n",
    "    if row['TP'] == 1:\n",
    "        df_necessary_att._set_value(index,'ground_truth',1)\n",
    "        df_necessary_att._set_value(index,'prediction',1)\n",
    "    elif row['FP'] == 1:\n",
    "        df_necessary_att._set_value(index,'ground_truth',0)\n",
    "        df_necessary_att._set_value(index,'prediction',1)\n",
    "    elif row['TN'] == 1:\n",
    "        df_necessary_att._set_value(index,'ground_truth',0)\n",
    "        df_necessary_att._set_value(index,'prediction',0)\n",
    "    elif row['FN'] == 1:\n",
    "        df_necessary_att._set_value(index,'ground_truth',1)\n",
    "        df_necessary_att._set_value(index,'prediction',0)\n"
   ],
   "metadata": {
    "collapsed": false,
    "pycharm": {
     "name": "#%%\n"
    }
   }
  },
  {
   "cell_type": "code",
   "execution_count": 75,
   "outputs": [],
   "source": [
    "\n",
    "df_necessary_att.to_csv(\"train_all_attributes.csv\", index=False)\n"
   ],
   "metadata": {
    "collapsed": false,
    "pycharm": {
     "name": "#%%\n"
    }
   }
  },
  {
   "cell_type": "code",
   "execution_count": null,
   "outputs": [],
   "source": [],
   "metadata": {
    "collapsed": false,
    "pycharm": {
     "name": "#%%\n"
    }
   }
  },
  {
   "cell_type": "code",
   "execution_count": null,
   "outputs": [],
   "source": [],
   "metadata": {
    "collapsed": false,
    "pycharm": {
     "name": "#%%\n"
    }
   }
  },
  {
   "cell_type": "markdown",
   "source": [
    "\n",
    "\n",
    "# bucketize age"
   ],
   "metadata": {
    "collapsed": false,
    "pycharm": {
     "name": "#%% md\n"
    }
   }
  },
  {
   "cell_type": "code",
   "execution_count": 159,
   "outputs": [
    {
     "data": {
      "text/plain": "5576"
     },
     "execution_count": 159,
     "metadata": {},
     "output_type": "execute_result"
    }
   ],
   "source": [
    "\n",
    "file_name = 'train_TN_41att.csv'\n",
    "df = pd.read_csv(file_name)\n",
    "len(df)"
   ],
   "metadata": {
    "collapsed": false,
    "pycharm": {
     "name": "#%%\n"
    }
   }
  },
  {
   "cell_type": "code",
   "execution_count": 160,
   "outputs": [],
   "source": [
    "\n",
    "df['AGE_C'] = [0] * 5576"
   ],
   "metadata": {
    "collapsed": false,
    "pycharm": {
     "name": "#%%\n"
    }
   }
  },
  {
   "cell_type": "code",
   "execution_count": 161,
   "outputs": [],
   "source": [
    "def age(x):\n",
    "    if x <= 30:\n",
    "        return 0\n",
    "    elif x <= 50:\n",
    "        return 1\n",
    "    else:\n",
    "        return 2\n",
    "\n",
    "df['AGE_C'] = df['AGE'].map(lambda x: age(x))\n"
   ],
   "metadata": {
    "collapsed": false,
    "pycharm": {
     "name": "#%%\n"
    }
   }
  },
  {
   "cell_type": "code",
   "execution_count": 162,
   "outputs": [],
   "source": [
    "df['K6SUM42_C'] = [0] * 5576\n"
   ],
   "metadata": {
    "collapsed": false,
    "pycharm": {
     "name": "#%%\n"
    }
   }
  },
  {
   "cell_type": "code",
   "execution_count": 163,
   "outputs": [],
   "source": [
    "def K6SUM42(x):\n",
    "    if x == -9:\n",
    "        return 0\n",
    "    elif x == -1:\n",
    "        return -1\n",
    "    elif x < 8:\n",
    "        return 1\n",
    "    elif x < 16:\n",
    "        return 2\n",
    "    else:\n",
    "        return 3\n",
    "\n",
    "df['K6SUM42_C'] = df['K6SUM42'].map(lambda x: K6SUM42(x))"
   ],
   "metadata": {
    "collapsed": false,
    "pycharm": {
     "name": "#%%\n"
    }
   }
  },
  {
   "cell_type": "code",
   "execution_count": 164,
   "outputs": [],
   "source": [
    "df.to_csv(\"train_TN_41att.csv\", index=False)"
   ],
   "metadata": {
    "collapsed": false,
    "pycharm": {
     "name": "#%%\n"
    }
   }
  },
  {
   "cell_type": "code",
   "execution_count": 138,
   "outputs": [],
   "source": [],
   "metadata": {
    "collapsed": false,
    "pycharm": {
     "name": "#%%\n"
    }
   }
  },
  {
   "cell_type": "code",
   "execution_count": null,
   "outputs": [],
   "source": [],
   "metadata": {
    "collapsed": false,
    "pycharm": {
     "name": "#%%\n"
    }
   }
  }
 ],
 "metadata": {
  "kernelspec": {
   "display_name": "Python 3",
   "language": "python",
   "name": "python3"
  },
  "language_info": {
   "codemirror_mode": {
    "name": "ipython",
    "version": 2
   },
   "file_extension": ".py",
   "mimetype": "text/x-python",
   "name": "python",
   "nbconvert_exporter": "python",
   "pygments_lexer": "ipython2",
   "version": "2.7.6"
  }
 },
 "nbformat": 4,
 "nbformat_minor": 0
}