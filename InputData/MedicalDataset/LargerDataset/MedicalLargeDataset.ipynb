{
 "cells": [
  {
   "cell_type": "markdown",
   "metadata": {
    "collapsed": true,
    "pycharm": {
     "name": "#%% md\n"
    }
   },
   "source": [
    "# Large dataset for medical data"
   ]
  },
  {
   "cell_type": "code",
   "execution_count": 1,
   "outputs": [],
   "source": [
    "import numpy as np\n",
    "import pandas as pd\n",
    "import random\n",
    "from Algorithms import pattern_count\n"
   ],
   "metadata": {
    "collapsed": false,
    "pycharm": {
     "name": "#%%\n"
    }
   }
  },
  {
   "cell_type": "code",
   "execution_count": 2,
   "outputs": [],
   "source": [
    "\n",
    "\n",
    "def generateTuple(original_data):\n",
    "    describe_data = original_data.describe()\n",
    "    attributes = original_data.columns.tolist()\n",
    "    tuple = list()\n",
    "    for att in attributes:\n",
    "        min = int(describe_data[att]['min'])\n",
    "        max = int(describe_data[att]['max'])\n",
    "        a = random.randint(min, max)\n",
    "        tuple.append(a)\n",
    "    return tuple\n",
    "\n",
    "\n",
    "def extendDataset(newsize, filepath, output_pre):\n",
    "    global tp\n",
    "    original_data = pd.read_csv(filepath)\n",
    "\n",
    "    oldsize = len(original_data)\n",
    "    num_new_tuples = newsize - oldsize\n",
    "    print(\"num_new_tuples={}\".format(num_new_tuples))\n",
    "    for i in range(num_new_tuples):\n",
    "        tp = generateTuple(original_data)\n",
    "        original_data.loc[len(original_data)] = tp\n",
    "        if i % 1000 == 0:\n",
    "            print(i, tp)\n",
    "    output_path = output_pre + str(newsize) + \".csv\"\n",
    "    original_data.to_csv(output_path, index=False)\n"
   ],
   "metadata": {
    "collapsed": false,
    "pycharm": {
     "name": "#%%\n"
    }
   }
  },
  {
   "cell_type": "code",
   "execution_count": 3,
   "outputs": [],
   "source": [
    "\n",
    "def UpdateAndRank(file_path, ranked_by):\n",
    "    data = pd.read_csv(file_path)\n",
    "\n",
    "    data['score'] = data['c_days_from_compas'] + data['juv_other_count'] + \\\n",
    "                       data['days_b_screening_arrest'] + data['start'] + data['end'] \\\n",
    "                       + data['priors_count'] - data['age']\n",
    "\n",
    "\n",
    "\n",
    "    data['rank'] = data[ranked_by].rank(method='first', na_option='bottom', ascending=False)\n",
    "    data = data.sort_values(by='rank', ascending=True)\n",
    "    data.to_csv(file_path, index=False)\n",
    "\n",
    "\n",
    "def ExtendAndRank(size, input_file_path, output_pre, ranked_by_att):\n",
    "    extendDataset(size, input_file_path, output_pre)\n",
    "    new_file_path = output_pre + str(size) + '.csv'\n",
    "    UpdateAndRank(new_file_path, ranked_by_att)\n"
   ],
   "metadata": {
    "collapsed": false,
    "pycharm": {
     "name": "#%%\n"
    }
   }
  },
  {
   "cell_type": "code",
   "execution_count": 4,
   "outputs": [],
   "source": [
    "\n",
    "# 7915 rows\n",
    "\n"
   ],
   "metadata": {
    "collapsed": false,
    "pycharm": {
     "name": "#%%\n"
    }
   }
  },
  {
   "cell_type": "code",
   "execution_count": 19,
   "outputs": [
    {
     "name": "stdout",
     "output_type": "stream",
     "text": [
      "num_new_tuples=85\n",
      "0 [52, 0, 22, 23, -3, 3, 1, 2, 3, 3, 2, 0, 1, -1, -1, 2, 2, 1, 2, 2, 1, 2, 2, 2, 1, -1, 2, 2, -1, -1, 2, 1, -1, -1, 1, 0, -1, 5, 2, 1, 3, 1, 1]\n"
     ]
    }
   ],
   "source": [
    "\n",
    "input_file_path = \"train_41att.csv\"\n",
    "output_pre = r\"./\"\n",
    "extendDataset(8000, input_file_path, output_pre)\n",
    "\n",
    "\n"
   ],
   "metadata": {
    "collapsed": false,
    "pycharm": {
     "name": "#%%\n"
    }
   }
  },
  {
   "cell_type": "markdown",
   "source": [
    "all_attributes = [\"age_binary\",\"sex_binary\",\"race_C\",\"MarriageStatus_C\",\"juv_fel_count_C\",\n",
    "                  \"decile_score_C\", \"juv_misd_count_C\",\"juv_other_count_C\",\"priors_count_C\",\"days_b_screening_arrest_C\",\n",
    "                  \"c_days_from_compas_C\",\"c_charge_degree_C\",\"v_decile_score_C\",\"start_C\",\"end_C\",\n",
    "                  \"event_C\"]\n"
   ],
   "metadata": {
    "collapsed": false,
    "pycharm": {
     "name": "#%% md\n"
    }
   }
  },
  {
   "cell_type": "code",
   "execution_count": 21,
   "outputs": [
    {
     "name": "stdout",
     "output_type": "stream",
     "text": [
      "10000\n",
      "num_new_tuples=2000\n",
      "0 [85, 0, 10, 63, -6, 2, 1, 1, 3, 2, 1, 2, -1, 1, 0, 2, 0, 2, -1, 0, -1, 1, 2, -1, 2, 2, -1, 2, 0, 1, -1, 1, -1, -1, 0, 2, 1, 0, 2, 5, 1, 0, 1]\n",
      "1000 [48, 1, 13, 15, 2, 2, 1, 2, 0, 3, 1, 1, 0, 1, 0, 2, 1, 1, 0, 2, 2, 0, 0, 0, 1, 1, -1, 2, -1, 1, -1, -1, 0, 0, -1, 0, 1, 4, 0, 5, 3, 1, 1]\n",
      "12000\n",
      "num_new_tuples=2000\n",
      "0 [3, 0, 1, 22, 6, 4, 2, 8, 2, 4, 4, 2, 0, 0, 1, 0, 0, 1, -1, 1, -1, 1, -1, 0, 2, -1, 1, 1, 1, -1, 1, 0, 2, 1, -1, 0, 2, 4, 1, 2, 1, 0, 1]\n",
      "1000 [70, 1, 66, -7, 5, 3, 1, 3, -1, 4, 1, 3, 5, -1, 2, 2, 0, 0, -1, 0, 2, 2, 0, 1, 2, 1, 0, 2, 0, 0, 0, -1, 2, 2, 0, 1, 1, 4, 0, 1, 3, 0, 0]\n",
      "14000\n",
      "num_new_tuples=2000\n",
      "0 [55, 0, 42, -6, 4, 3, 1, 5, -1, 4, 4, 2, 2, 0, -1, 2, -1, 1, 0, 0, 0, 0, 2, -1, 1, -1, 1, 2, 0, 2, -1, 0, 2, 0, 0, 2, 2, 3, -1, 2, 2, 0, 0]\n",
      "1000 [30, 0, 13, 48, 5, 2, 1, 9, 1, 4, 3, 1, -1, 2, -1, 1, 2, 1, 1, -1, 2, 2, 1, 2, 0, 2, 1, 1, 0, 1, 2, 2, 1, 1, -1, -1, 0, 1, 3, 5, 3, 0, 0]\n",
      "16000\n",
      "num_new_tuples=2000\n",
      "0 [53, 0, 9, 54, 22, 2, 2, 6, 1, 2, 3, 5, 3, -1, 0, -1, 2, -1, -1, 1, -1, 1, 2, 2, 0, 0, 0, 1, -1, 0, 2, 0, 1, 2, -1, 2, 0, 1, -1, 4, 1, 1, 0]\n",
      "1000 [8, 0, 8, -4, 5, 1, 2, 1, 1, 2, 4, 5, 4, 2, 2, 2, 1, 1, 1, 2, 1, 1, 0, -1, 2, 0, -1, 1, 0, -1, 1, -1, 2, 0, 2, 0, -1, 6, -1, 4, 1, 1, 1]\n",
      "18000\n",
      "num_new_tuples=2000\n",
      "0 [57, 0, 8, 47, 15, 1, 1, 6, 0, 2, 2, -1, 5, 2, 1, 0, 1, -1, 2, 2, 1, -1, 1, 0, 0, 0, -1, 2, 1, 2, 2, 2, 1, 1, 2, 1, 1, 2, 4, 4, 1, 0, 1]\n",
      "1000 [34, 1, 14, 15, 5, 3, 1, 9, -1, 4, 3, 5, 5, -1, 0, 2, 0, -1, 1, 1, 2, 2, 0, 0, -1, 2, 1, 1, 0, 1, 1, 2, 0, 1, 0, 1, -1, 2, -1, 5, 3, 0, 1]\n",
      "20000\n",
      "num_new_tuples=2000\n",
      "0 [65, 0, 45, -7, -5, 3, 2, 7, 1, 1, 1, 3, 4, 0, -1, -1, 1, -1, 1, 1, 0, 2, 1, 1, -1, 0, 3, 1, 1, 2, 0, 1, 1, -1, 0, 2, 2, 4, 2, 1, 1, 1, 1]\n",
      "1000 [8, 0, 20, 65, 4, 4, 2, 4, 3, 3, 3, 0, 0, 0, 2, 2, 2, 2, 1, -1, 1, 0, 2, 1, -1, 0, 1, 2, 0, 1, 0, 1, -1, -1, 2, 1, 1, 2, 3, 4, 1, 1, 0]\n"
     ]
    }
   ],
   "source": [
    "\n",
    "for i in range(10000, 22000, 2000):\n",
    "    print(i)\n",
    "    output_pre = r\"./\"\n",
    "    input_file_path = str(i-2000) + \".csv\"\n",
    "    extendDataset(i, input_file_path, output_pre)\n",
    "\n",
    "\n"
   ],
   "metadata": {
    "collapsed": false,
    "pycharm": {
     "name": "#%%\n"
    }
   }
  },
  {
   "cell_type": "code",
   "execution_count": null,
   "outputs": [],
   "source": [],
   "metadata": {
    "collapsed": false,
    "pycharm": {
     "name": "#%%\n"
    }
   }
  },
  {
   "cell_type": "code",
   "execution_count": null,
   "outputs": [],
   "source": [],
   "metadata": {
    "collapsed": false,
    "pycharm": {
     "name": "#%%\n"
    }
   }
  },
  {
   "cell_type": "markdown",
   "source": [
    "## bucketize"
   ],
   "metadata": {
    "collapsed": false,
    "pycharm": {
     "name": "#%% md\n"
    }
   }
  },
  {
   "cell_type": "code",
   "execution_count": 24,
   "outputs": [],
   "source": [
    "\n",
    "def age(x):\n",
    "    if x <= 30:\n",
    "        return 0\n",
    "    elif x <= 50:\n",
    "        return 1\n",
    "    else:\n",
    "        return 2\n",
    "\n",
    "\n",
    "def K6SUM42(x):\n",
    "    if x == -9:\n",
    "        return 0\n",
    "    elif x == -1:\n",
    "        return -1\n",
    "    elif x < 8:\n",
    "        return 1\n",
    "    elif x < 16:\n",
    "        return 2\n",
    "    else:\n",
    "        return 3\n",
    "\n"
   ],
   "metadata": {
    "collapsed": false,
    "pycharm": {
     "name": "#%%\n"
    }
   }
  },
  {
   "cell_type": "code",
   "execution_count": 45,
   "outputs": [
    {
     "name": "stdout",
     "output_type": "stream",
     "text": [
      "20000\n"
     ]
    }
   ],
   "source": [
    "\n",
    "\n",
    "for i in range(8000, 22000, 2000):\n",
    "    print(i)\n",
    "    input_file_path = str(i) + \".csv\"\n",
    "    df = pd.read_csv(input_file_path)\n",
    "    df['AGE_C'] = [0] * len(df)\n",
    "\n",
    "    df['AGE_C'] = df['AGE'].map(lambda x: age(x))\n",
    "    df['K6SUM42_C'] = [0] * len(df)\n",
    "\n",
    "    df['K6SUM42_C'] = df['K6SUM42'].map(lambda x: K6SUM42(x))\n",
    "    df.to_csv(input_file_path, index=False)\n"
   ],
   "metadata": {
    "collapsed": false,
    "pycharm": {
     "name": "#%%\n"
    }
   }
  },
  {
   "cell_type": "code",
   "execution_count": null,
   "outputs": [],
   "source": [],
   "metadata": {
    "collapsed": false,
    "pycharm": {
     "name": "#%%\n"
    }
   }
  },
  {
   "cell_type": "code",
   "execution_count": null,
   "outputs": [],
   "source": [],
   "metadata": {
    "collapsed": false,
    "pycharm": {
     "name": "#%%\n"
    }
   }
  },
  {
   "cell_type": "markdown",
   "source": [
    "# make mis, TP, TN, FP, FN"
   ],
   "metadata": {
    "collapsed": false,
    "pycharm": {
     "name": "#%% md\n"
    }
   }
  },
  {
   "cell_type": "code",
   "execution_count": 27,
   "outputs": [
    {
     "name": "stdout",
     "output_type": "stream",
     "text": [
      "8000\n",
      "0       1\n",
      "1       0\n",
      "2       0\n",
      "3       1\n",
      "4       0\n",
      "       ..\n",
      "7995    1\n",
      "7996    0\n",
      "7997    0\n",
      "7998    1\n",
      "7999    1\n",
      "Name: ground_truth, Length: 8000, dtype: int64\n",
      "10000\n",
      "0       1\n",
      "1       0\n",
      "2       0\n",
      "3       1\n",
      "4       0\n",
      "       ..\n",
      "9995    0\n",
      "9996    0\n",
      "9997    0\n",
      "9998    0\n",
      "9999    0\n",
      "Name: ground_truth, Length: 10000, dtype: int64\n",
      "12000\n",
      "0        1\n",
      "1        0\n",
      "2        0\n",
      "3        1\n",
      "4        0\n",
      "        ..\n",
      "11995    1\n",
      "11996    1\n",
      "11997    1\n",
      "11998    0\n",
      "11999    1\n",
      "Name: ground_truth, Length: 12000, dtype: int64\n",
      "14000\n",
      "0        1\n",
      "1        0\n",
      "2        0\n",
      "3        1\n",
      "4        0\n",
      "        ..\n",
      "13995    1\n",
      "13996    1\n",
      "13997    0\n",
      "13998    1\n",
      "13999    1\n",
      "Name: ground_truth, Length: 14000, dtype: int64\n",
      "16000\n",
      "0        1\n",
      "1        0\n",
      "2        0\n",
      "3        1\n",
      "4        0\n",
      "        ..\n",
      "15995    0\n",
      "15996    0\n",
      "15997    1\n",
      "15998    0\n",
      "15999    1\n",
      "Name: ground_truth, Length: 16000, dtype: int64\n",
      "18000\n",
      "0        1\n",
      "1        0\n",
      "2        0\n",
      "3        1\n",
      "4        0\n",
      "        ..\n",
      "17995    1\n",
      "17996    1\n",
      "17997    0\n",
      "17998    1\n",
      "17999    1\n",
      "Name: ground_truth, Length: 18000, dtype: int64\n",
      "20000\n",
      "0        1\n",
      "1        0\n",
      "2        0\n",
      "3        1\n",
      "4        0\n",
      "        ..\n",
      "19995    0\n",
      "19996    0\n",
      "19997    1\n",
      "19998    1\n",
      "19999    0\n",
      "Name: ground_truth, Length: 20000, dtype: int64\n"
     ]
    }
   ],
   "source": [
    "\n",
    "for i in range(8000, 22000, 2000):\n",
    "    print(i)\n",
    "    input_file_path = str(i) + '.csv'\n",
    "    df = pd.read_csv(input_file_path)\n",
    "    print(df['ground_truth'])\n",
    "    mis = df[df['prediction'] + df['ground_truth'] == 1].copy()\n",
    "    mis.to_csv(str(i) + '_mis.csv', index = False)\n"
   ],
   "metadata": {
    "collapsed": false,
    "pycharm": {
     "name": "#%%\n"
    }
   }
  },
  {
   "cell_type": "code",
   "execution_count": 39,
   "outputs": [
    {
     "name": "stdout",
     "output_type": "stream",
     "text": [
      "8000\n",
      "10000\n",
      "12000\n",
      "14000\n",
      "16000\n",
      "18000\n",
      "20000\n"
     ]
    }
   ],
   "source": [
    "\n",
    "\n",
    "for i in range(8000, 22000, 2000):\n",
    "    print(i)\n",
    "    input_file_path = str(i) + '.csv'\n",
    "    df = pd.read_csv(input_file_path)\n",
    "    TP = df[(df['prediction'] == 1) & (df['ground_truth'] == 1)].copy()\n",
    "    TP.to_csv(str(i) + '_TP.csv', index = False)\n",
    "    TN = df[(df['prediction'] == 0) & (df['ground_truth'] == 0)].copy()\n",
    "    TN.to_csv(str(i) + '_TN.csv', index = False)\n",
    "    FP = df[(df['prediction'] == 1) & (df['ground_truth'] == 0)].copy()\n",
    "    FP.to_csv(str(i) + '_FP.csv', index = False)\n",
    "    FN = df[(df['prediction'] == 0) & (df['ground_truth'] == 1)].copy()\n",
    "    FN.to_csv(str(i) + '_FN.csv', index = False)\n"
   ],
   "metadata": {
    "collapsed": false,
    "pycharm": {
     "name": "#%%\n"
    }
   }
  },
  {
   "cell_type": "code",
   "execution_count": null,
   "outputs": [],
   "source": [],
   "metadata": {
    "collapsed": false,
    "pycharm": {
     "name": "#%%\n"
    }
   }
  },
  {
   "cell_type": "code",
   "execution_count": null,
   "outputs": [],
   "source": [],
   "metadata": {
    "collapsed": false,
    "pycharm": {
     "name": "#%%\n"
    }
   }
  },
  {
   "cell_type": "code",
   "execution_count": null,
   "outputs": [],
   "source": [],
   "metadata": {
    "collapsed": false,
    "pycharm": {
     "name": "#%%\n"
    }
   }
  },
  {
   "cell_type": "code",
   "execution_count": null,
   "outputs": [],
   "source": [],
   "metadata": {
    "collapsed": false,
    "pycharm": {
     "name": "#%%\n"
    }
   }
  }
 ],
 "metadata": {
  "kernelspec": {
   "display_name": "Python 3",
   "language": "python",
   "name": "python3"
  },
  "language_info": {
   "codemirror_mode": {
    "name": "ipython",
    "version": 2
   },
   "file_extension": ".py",
   "mimetype": "text/x-python",
   "name": "python",
   "nbconvert_exporter": "python",
   "pygments_lexer": "ipython2",
   "version": "2.7.6"
  }
 },
 "nbformat": 4,
 "nbformat_minor": 0
}