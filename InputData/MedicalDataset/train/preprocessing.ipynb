{
 "cells": [
  {
   "cell_type": "code",
   "execution_count": 14,
   "metadata": {
    "collapsed": true
   },
   "outputs": [],
   "source": [
    "import numpy as np\n",
    "import pandas as pd\n"
   ]
  },
  {
   "cell_type": "raw",
   "source": [
    "\n",
    "make float64 to int\n"
   ],
   "metadata": {
    "collapsed": false,
    "pycharm": {
     "name": "#%% raw\n"
    }
   }
  },
  {
   "cell_type": "code",
   "execution_count": 96,
   "outputs": [
    {
     "name": "stdout",
     "output_type": "stream",
     "text": [
      "0      0.0\n",
      "1      0.0\n",
      "2      0.0\n",
      "3      0.0\n",
      "4      0.0\n",
      "      ... \n",
      "937    0.0\n",
      "938    1.0\n",
      "939    1.0\n",
      "940    1.0\n",
      "941    1.0\n",
      "Name: RACE, Length: 942, dtype: float64\n",
      "0      0\n",
      "1      0\n",
      "2      0\n",
      "3      0\n",
      "4      0\n",
      "      ..\n",
      "937    0\n",
      "938    1\n",
      "939    1\n",
      "940    1\n",
      "941    1\n",
      "Name: RACE, Length: 942, dtype: int64\n"
     ]
    }
   ],
   "source": [
    "\n",
    "file_name = 'train_TP_add_col2PREGNT.csv'\n",
    "df = pd.read_csv(file_name)\n",
    "\n",
    "print(df['RACE'])\n",
    "\n",
    "df['RACE'] = df['RACE'].astype(np.int64)\n",
    "\n",
    "print(df['RACE'])\n",
    "df.to_csv(r'train_TP_add_col2PREGNT.csv', index=False)"
   ],
   "metadata": {
    "collapsed": false,
    "pycharm": {
     "name": "#%%\n"
    }
   }
  },
  {
   "cell_type": "code",
   "source": [
    "def add_col(df, col_name, num, minus_one = False):\n",
    "    length = len(df)\n",
    "    print(\"length: \", length)\n",
    "    df[col_name] = [0]*length\n",
    "    for i in range(length):\n",
    "        # print(\"i=\", i)\n",
    "        found = False\n",
    "        for j in range(1, num+1):\n",
    "            feature_name = col_name + \"=\" + str(j)\n",
    "            if df.iloc[i][feature_name] == 1:\n",
    "                # print(\"df[{}] = {}\".format(i, j))\n",
    "                df._set_value(i, col_name, j)\n",
    "                found = True\n",
    "                break\n",
    "\n",
    "        if minus_one:\n",
    "            feature_name = col_name + \"=-1\"\n",
    "            if df.iloc[i][feature_name] == 1:\n",
    "                df._set_value(i, col_name, -1)\n",
    "                found = True\n",
    "\n",
    "        if found is False:\n",
    "            print(\"{} not found\".format(i))\n",
    "    # print(df[col_name])\n",
    "\n",
    "\n",
    "file_name = 'train_TP.csv'\n",
    "df = pd.read_csv(file_name)\n",
    "\n",
    "col_name = 'REGION'\n",
    "num = 4\n",
    "add_col(df, col_name, num, False)\n",
    "print(df[:3])"
   ],
   "metadata": {
    "collapsed": false,
    "pycharm": {
     "name": "#%%\n"
    }
   },
   "execution_count": 67,
   "outputs": [
    {
     "name": "stdout",
     "output_type": "stream",
     "text": [
      "length:  942\n",
      "    AGE  RACE  PCS42  MCS42  K6SUM42  REGION=1  REGION=2  REGION=3  REGION=4  \\\n",
      "0  56.0   0.0  17.70  53.37      3.0       0.0       0.0       1.0       0.0   \n",
      "1  78.0   0.0  -1.00  -1.00     -1.0       1.0       0.0       0.0       0.0   \n",
      "2  58.0   0.0  56.71  62.39      0.0       0.0       0.0       1.0       0.0   \n",
      "\n",
      "   SEX=1  ...  EMPST=4  POVCAT=1  POVCAT=2  POVCAT=3  POVCAT=4  POVCAT=5  \\\n",
      "0    0.0  ...      1.0       0.0       0.0       0.0       1.0       0.0   \n",
      "1    1.0  ...      1.0       0.0       1.0       0.0       0.0       0.0   \n",
      "2    0.0  ...      0.0       0.0       0.0       0.0       1.0       0.0   \n",
      "\n",
      "   INSCOV=1  INSCOV=2  INSCOV=3  REGION  \n",
      "0       1.0       0.0       0.0       3  \n",
      "1       0.0       1.0       0.0       1  \n",
      "2       1.0       0.0       0.0       3  \n",
      "\n",
      "[3 rows x 139 columns]\n"
     ]
    }
   ]
  },
  {
   "cell_type": "code",
   "execution_count": 68,
   "outputs": [
    {
     "name": "stdout",
     "output_type": "stream",
     "text": [
      "length:  942\n",
      "    AGE  RACE  PCS42  MCS42  K6SUM42  REGION=1  REGION=2  REGION=3  REGION=4  \\\n",
      "0  56.0   0.0  17.70  53.37      3.0       0.0       0.0       1.0       0.0   \n",
      "1  78.0   0.0  -1.00  -1.00     -1.0       1.0       0.0       0.0       0.0   \n",
      "2  58.0   0.0  56.71  62.39      0.0       0.0       0.0       1.0       0.0   \n",
      "\n",
      "   SEX=1  ...  POVCAT=1  POVCAT=2  POVCAT=3  POVCAT=4  POVCAT=5  INSCOV=1  \\\n",
      "0    0.0  ...       0.0       0.0       0.0       1.0       0.0       1.0   \n",
      "1    1.0  ...       0.0       1.0       0.0       0.0       0.0       0.0   \n",
      "2    0.0  ...       0.0       0.0       0.0       1.0       0.0       1.0   \n",
      "\n",
      "   INSCOV=2  INSCOV=3  REGION  SEX  \n",
      "0       0.0       0.0       3    2  \n",
      "1       1.0       0.0       1    1  \n",
      "2       0.0       0.0       3    2  \n",
      "\n",
      "[3 rows x 140 columns]\n"
     ]
    }
   ],
   "source": [
    "col_name = 'SEX'\n",
    "num = 2\n",
    "add_col(df, col_name, num, False)\n",
    "print(df[:3])"
   ],
   "metadata": {
    "collapsed": false,
    "pycharm": {
     "name": "#%%\n"
    }
   }
  },
  {
   "cell_type": "code",
   "execution_count": 69,
   "outputs": [
    {
     "name": "stdout",
     "output_type": "stream",
     "text": [
      "length:  942\n",
      "    AGE  RACE  PCS42  MCS42  K6SUM42  REGION=1  REGION=2  REGION=3  REGION=4  \\\n",
      "0  56.0   0.0  17.70  53.37      3.0       0.0       0.0       1.0       0.0   \n",
      "1  78.0   0.0  -1.00  -1.00     -1.0       1.0       0.0       0.0       0.0   \n",
      "2  58.0   0.0  56.71  62.39      0.0       0.0       0.0       1.0       0.0   \n",
      "\n",
      "   SEX=1  ...  POVCAT=2  POVCAT=3  POVCAT=4  POVCAT=5  INSCOV=1  INSCOV=2  \\\n",
      "0    0.0  ...       0.0       0.0       1.0       0.0       1.0       0.0   \n",
      "1    1.0  ...       1.0       0.0       0.0       0.0       0.0       1.0   \n",
      "2    0.0  ...       0.0       0.0       1.0       0.0       1.0       0.0   \n",
      "\n",
      "   INSCOV=3  REGION  SEX  MARRY  \n",
      "0       0.0       3    2      1  \n",
      "1       0.0       1    1      3  \n",
      "2       0.0       3    2     10  \n",
      "\n",
      "[3 rows x 141 columns]\n"
     ]
    }
   ],
   "source": [
    "\n",
    "col_name = 'MARRY'\n",
    "num = 10\n",
    "add_col(df, col_name, num, False)\n",
    "print(df[:3])\n"
   ],
   "metadata": {
    "collapsed": false,
    "pycharm": {
     "name": "#%%\n"
    }
   }
  },
  {
   "cell_type": "code",
   "execution_count": 70,
   "outputs": [
    {
     "name": "stdout",
     "output_type": "stream",
     "text": [
      "length:  942\n",
      "    AGE  RACE  PCS42  MCS42  K6SUM42  REGION=1  REGION=2  REGION=3  REGION=4  \\\n",
      "0  56.0   0.0  17.70  53.37      3.0       0.0       0.0       1.0       0.0   \n",
      "1  78.0   0.0  -1.00  -1.00     -1.0       1.0       0.0       0.0       0.0   \n",
      "2  58.0   0.0  56.71  62.39      0.0       0.0       0.0       1.0       0.0   \n",
      "\n",
      "   SEX=1  ...  POVCAT=3  POVCAT=4  POVCAT=5  INSCOV=1  INSCOV=2  INSCOV=3  \\\n",
      "0    0.0  ...       0.0       1.0       0.0       1.0       0.0       0.0   \n",
      "1    1.0  ...       0.0       0.0       0.0       0.0       1.0       0.0   \n",
      "2    0.0  ...       0.0       1.0       0.0       1.0       0.0       0.0   \n",
      "\n",
      "   REGION  SEX  MARRY  FTSTU  \n",
      "0       3    2      1     -1  \n",
      "1       1    1      3     -1  \n",
      "2       3    2     10     -1  \n",
      "\n",
      "[3 rows x 142 columns]\n"
     ]
    }
   ],
   "source": [
    "col_name = 'FTSTU'\n",
    "num = 3\n",
    "add_col(df, col_name, num, True)\n",
    "print(df[:3])\n"
   ],
   "metadata": {
    "collapsed": false,
    "pycharm": {
     "name": "#%%\n"
    }
   }
  },
  {
   "cell_type": "code",
   "execution_count": 71,
   "outputs": [
    {
     "name": "stdout",
     "output_type": "stream",
     "text": [
      "length:  942\n",
      "    AGE  RACE  PCS42  MCS42  K6SUM42  REGION=1  REGION=2  REGION=3  REGION=4  \\\n",
      "0  56.0   0.0  17.70  53.37      3.0       0.0       0.0       1.0       0.0   \n",
      "1  78.0   0.0  -1.00  -1.00     -1.0       1.0       0.0       0.0       0.0   \n",
      "2  58.0   0.0  56.71  62.39      0.0       0.0       0.0       1.0       0.0   \n",
      "\n",
      "   SEX=1  ...  POVCAT=4  POVCAT=5  INSCOV=1  INSCOV=2  INSCOV=3  REGION  SEX  \\\n",
      "0    0.0  ...       1.0       0.0       1.0       0.0       0.0       3    2   \n",
      "1    1.0  ...       0.0       0.0       0.0       1.0       0.0       1    1   \n",
      "2    0.0  ...       1.0       0.0       1.0       0.0       0.0       3    2   \n",
      "\n",
      "   MARRY  FTSTU  ACTDTY  \n",
      "0      1     -1       2  \n",
      "1      3     -1       4  \n",
      "2     10     -1       2  \n",
      "\n",
      "[3 rows x 143 columns]\n"
     ]
    }
   ],
   "source": [
    "col_name = 'ACTDTY'\n",
    "num = 4\n",
    "add_col(df, col_name, num, False)\n",
    "print(df[:3])"
   ],
   "metadata": {
    "collapsed": false,
    "pycharm": {
     "name": "#%%\n"
    }
   }
  },
  {
   "cell_type": "code",
   "execution_count": 72,
   "outputs": [
    {
     "name": "stdout",
     "output_type": "stream",
     "text": [
      "length:  942\n",
      "    AGE  RACE  PCS42  MCS42  K6SUM42  REGION=1  REGION=2  REGION=3  REGION=4  \\\n",
      "0  56.0   0.0  17.70  53.37      3.0       0.0       0.0       1.0       0.0   \n",
      "1  78.0   0.0  -1.00  -1.00     -1.0       1.0       0.0       0.0       0.0   \n",
      "2  58.0   0.0  56.71  62.39      0.0       0.0       0.0       1.0       0.0   \n",
      "\n",
      "   SEX=1  ...  POVCAT=5  INSCOV=1  INSCOV=2  INSCOV=3  REGION  SEX  MARRY  \\\n",
      "0    0.0  ...       0.0       1.0       0.0       0.0       3    2      1   \n",
      "1    1.0  ...       0.0       0.0       1.0       0.0       1    1      3   \n",
      "2    0.0  ...       0.0       1.0       0.0       0.0       3    2     10   \n",
      "\n",
      "   FTSTU  ACTDTY  HONRDC  \n",
      "0     -1       2       2  \n",
      "1     -1       4       2  \n",
      "2     -1       2       2  \n",
      "\n",
      "[3 rows x 144 columns]\n"
     ]
    }
   ],
   "source": [
    "col_name = 'HONRDC'\n",
    "num = 4\n",
    "add_col(df, col_name, num, False)\n",
    "print(df[:3])"
   ],
   "metadata": {
    "collapsed": false,
    "pycharm": {
     "name": "#%%\n"
    }
   }
  },
  {
   "cell_type": "code",
   "execution_count": 73,
   "outputs": [
    {
     "name": "stdout",
     "output_type": "stream",
     "text": [
      "length:  942\n",
      "    AGE  RACE  PCS42  MCS42  K6SUM42  REGION=1  REGION=2  REGION=3  REGION=4  \\\n",
      "0  56.0   0.0  17.70  53.37      3.0       0.0       0.0       1.0       0.0   \n",
      "1  78.0   0.0  -1.00  -1.00     -1.0       1.0       0.0       0.0       0.0   \n",
      "2  58.0   0.0  56.71  62.39      0.0       0.0       0.0       1.0       0.0   \n",
      "\n",
      "   SEX=1  ...  INSCOV=1  INSCOV=2  INSCOV=3  REGION  SEX  MARRY  FTSTU  \\\n",
      "0    0.0  ...       1.0       0.0       0.0       3    2      1     -1   \n",
      "1    1.0  ...       0.0       1.0       0.0       1    1      3     -1   \n",
      "2    0.0  ...       1.0       0.0       0.0       3    2     10     -1   \n",
      "\n",
      "   ACTDTY  HONRDC  RTHLTH  \n",
      "0       2       2       4  \n",
      "1       4       2       1  \n",
      "2       2       2       1  \n",
      "\n",
      "[3 rows x 145 columns]\n"
     ]
    }
   ],
   "source": [
    "col_name = 'RTHLTH'\n",
    "num = 5\n",
    "add_col(df, col_name, num, True)\n",
    "print(df[:3])"
   ],
   "metadata": {
    "collapsed": false,
    "pycharm": {
     "name": "#%%\n"
    }
   }
  },
  {
   "cell_type": "code",
   "execution_count": 74,
   "outputs": [
    {
     "name": "stdout",
     "output_type": "stream",
     "text": [
      "length:  942\n",
      "    AGE  RACE  PCS42  MCS42  K6SUM42  REGION=1  REGION=2  REGION=3  REGION=4  \\\n",
      "0  56.0   0.0  17.70  53.37      3.0       0.0       0.0       1.0       0.0   \n",
      "1  78.0   0.0  -1.00  -1.00     -1.0       1.0       0.0       0.0       0.0   \n",
      "2  58.0   0.0  56.71  62.39      0.0       0.0       0.0       1.0       0.0   \n",
      "\n",
      "   SEX=1  ...  INSCOV=2  INSCOV=3  REGION  SEX  MARRY  FTSTU  ACTDTY  HONRDC  \\\n",
      "0    0.0  ...       0.0       0.0       3    2      1     -1       2       2   \n",
      "1    1.0  ...       1.0       0.0       1    1      3     -1       4       2   \n",
      "2    0.0  ...       0.0       0.0       3    2     10     -1       2       2   \n",
      "\n",
      "   RTHLTH  MNHLTH  \n",
      "0       4       1  \n",
      "1       1       1  \n",
      "2       1       1  \n",
      "\n",
      "[3 rows x 146 columns]\n"
     ]
    }
   ],
   "source": [
    "col_name = 'MNHLTH'\n",
    "num = 5\n",
    "add_col(df, col_name, num, True)\n",
    "print(df[:3])"
   ],
   "metadata": {
    "collapsed": false,
    "pycharm": {
     "name": "#%%\n"
    }
   }
  },
  {
   "cell_type": "code",
   "execution_count": 75,
   "outputs": [
    {
     "name": "stdout",
     "output_type": "stream",
     "text": [
      "length:  942\n",
      "    AGE  RACE  PCS42  MCS42  K6SUM42  REGION=1  REGION=2  REGION=3  REGION=4  \\\n",
      "0  56.0   0.0  17.70  53.37      3.0       0.0       0.0       1.0       0.0   \n",
      "1  78.0   0.0  -1.00  -1.00     -1.0       1.0       0.0       0.0       0.0   \n",
      "2  58.0   0.0  56.71  62.39      0.0       0.0       0.0       1.0       0.0   \n",
      "\n",
      "   SEX=1  ...  INSCOV=3  REGION  SEX  MARRY  FTSTU  ACTDTY  HONRDC  RTHLTH  \\\n",
      "0    0.0  ...       0.0       3    2      1     -1       2       2       4   \n",
      "1    1.0  ...       0.0       1    1      3     -1       4       2       1   \n",
      "2    0.0  ...       0.0       3    2     10     -1       2       2       1   \n",
      "\n",
      "   MNHLTH  HIBPDX  \n",
      "0       1       1  \n",
      "1       1       1  \n",
      "2       1       2  \n",
      "\n",
      "[3 rows x 147 columns]\n"
     ]
    }
   ],
   "source": [
    "col_name = 'HIBPDX'\n",
    "num = 2\n",
    "add_col(df, col_name, num, True)\n",
    "print(df[:3])"
   ],
   "metadata": {
    "collapsed": false,
    "pycharm": {
     "name": "#%%\n"
    }
   }
  },
  {
   "cell_type": "code",
   "execution_count": 76,
   "outputs": [
    {
     "name": "stdout",
     "output_type": "stream",
     "text": [
      "length:  942\n",
      "    AGE  RACE  PCS42  MCS42  K6SUM42  REGION=1  REGION=2  REGION=3  REGION=4  \\\n",
      "0  56.0   0.0  17.70  53.37      3.0       0.0       0.0       1.0       0.0   \n",
      "1  78.0   0.0  -1.00  -1.00     -1.0       1.0       0.0       0.0       0.0   \n",
      "2  58.0   0.0  56.71  62.39      0.0       0.0       0.0       1.0       0.0   \n",
      "\n",
      "   SEX=1  ...  REGION  SEX  MARRY  FTSTU  ACTDTY  HONRDC  RTHLTH  MNHLTH  \\\n",
      "0    0.0  ...       3    2      1     -1       2       2       4       1   \n",
      "1    1.0  ...       1    1      3     -1       4       2       1       1   \n",
      "2    0.0  ...       3    2     10     -1       2       2       1       1   \n",
      "\n",
      "   HIBPDX  CHDDX  \n",
      "0       1      2  \n",
      "1       1      2  \n",
      "2       2      1  \n",
      "\n",
      "[3 rows x 148 columns]\n"
     ]
    }
   ],
   "source": [
    "col_name = 'CHDDX'\n",
    "num = 2\n",
    "add_col(df, col_name, num, True)\n",
    "print(df[:3])\n"
   ],
   "metadata": {
    "collapsed": false,
    "pycharm": {
     "name": "#%%\n"
    }
   }
  },
  {
   "cell_type": "code",
   "execution_count": 77,
   "outputs": [
    {
     "name": "stdout",
     "output_type": "stream",
     "text": [
      "length:  942\n",
      "    AGE  RACE  PCS42  MCS42  K6SUM42  REGION=1  REGION=2  REGION=3  REGION=4  \\\n",
      "0  56.0   0.0  17.70  53.37      3.0       0.0       0.0       1.0       0.0   \n",
      "1  78.0   0.0  -1.00  -1.00     -1.0       1.0       0.0       0.0       0.0   \n",
      "2  58.0   0.0  56.71  62.39      0.0       0.0       0.0       1.0       0.0   \n",
      "\n",
      "   SEX=1  ...  SEX  MARRY  FTSTU  ACTDTY  HONRDC  RTHLTH  MNHLTH  HIBPDX  \\\n",
      "0    0.0  ...    2      1     -1       2       2       4       1       1   \n",
      "1    1.0  ...    1      3     -1       4       2       1       1       1   \n",
      "2    0.0  ...    2     10     -1       2       2       1       1       2   \n",
      "\n",
      "   CHDDX  ANGIDX  \n",
      "0      2       2  \n",
      "1      2       2  \n",
      "2      1       2  \n",
      "\n",
      "[3 rows x 149 columns]\n"
     ]
    }
   ],
   "source": [
    "col_name = 'ANGIDX'\n",
    "num = 2\n",
    "add_col(df, col_name, num, True)\n",
    "print(df[:3])"
   ],
   "metadata": {
    "collapsed": false,
    "pycharm": {
     "name": "#%%\n"
    }
   }
  },
  {
   "cell_type": "code",
   "execution_count": 78,
   "outputs": [
    {
     "name": "stdout",
     "output_type": "stream",
     "text": [
      "length:  942\n",
      "    AGE  RACE  PCS42  MCS42  K6SUM42  REGION=1  REGION=2  REGION=3  REGION=4  \\\n",
      "0  56.0   0.0  17.70  53.37      3.0       0.0       0.0       1.0       0.0   \n",
      "1  78.0   0.0  -1.00  -1.00     -1.0       1.0       0.0       0.0       0.0   \n",
      "2  58.0   0.0  56.71  62.39      0.0       0.0       0.0       1.0       0.0   \n",
      "\n",
      "   SEX=1  ...  MARRY  FTSTU  ACTDTY  HONRDC  RTHLTH  MNHLTH  HIBPDX  CHDDX  \\\n",
      "0    0.0  ...      1     -1       2       2       4       1       1      2   \n",
      "1    1.0  ...      3     -1       4       2       1       1       1      2   \n",
      "2    0.0  ...     10     -1       2       2       1       1       2      1   \n",
      "\n",
      "   ANGIDX  MIDX  \n",
      "0       2     2  \n",
      "1       2     2  \n",
      "2       2     2  \n",
      "\n",
      "[3 rows x 150 columns]\n"
     ]
    }
   ],
   "source": [
    "col_name = 'MIDX'\n",
    "num = 2\n",
    "add_col(df, col_name, num, True)\n",
    "print(df[:3])"
   ],
   "metadata": {
    "collapsed": false,
    "pycharm": {
     "name": "#%%\n"
    }
   }
  },
  {
   "cell_type": "code",
   "execution_count": 79,
   "outputs": [
    {
     "name": "stdout",
     "output_type": "stream",
     "text": [
      "length:  942\n",
      "    AGE  RACE  PCS42  MCS42  K6SUM42  REGION=1  REGION=2  REGION=3  REGION=4  \\\n",
      "0  56.0   0.0  17.70  53.37      3.0       0.0       0.0       1.0       0.0   \n",
      "1  78.0   0.0  -1.00  -1.00     -1.0       1.0       0.0       0.0       0.0   \n",
      "2  58.0   0.0  56.71  62.39      0.0       0.0       0.0       1.0       0.0   \n",
      "\n",
      "   SEX=1  ...  FTSTU  ACTDTY  HONRDC  RTHLTH  MNHLTH  HIBPDX  CHDDX  ANGIDX  \\\n",
      "0    0.0  ...     -1       2       2       4       1       1      2       2   \n",
      "1    1.0  ...     -1       4       2       1       1       1      2       2   \n",
      "2    0.0  ...     -1       2       2       1       1       2      1       2   \n",
      "\n",
      "   MIDX  OHRTDX  \n",
      "0     2       2  \n",
      "1     2       2  \n",
      "2     2       1  \n",
      "\n",
      "[3 rows x 151 columns]\n"
     ]
    }
   ],
   "source": [
    "col_name = 'OHRTDX'\n",
    "num = 2\n",
    "add_col(df, col_name, num, True)\n",
    "print(df[:3])"
   ],
   "metadata": {
    "collapsed": false,
    "pycharm": {
     "name": "#%%\n"
    }
   }
  },
  {
   "cell_type": "code",
   "execution_count": 80,
   "outputs": [
    {
     "name": "stdout",
     "output_type": "stream",
     "text": [
      "length:  942\n",
      "    AGE  RACE  PCS42  MCS42  K6SUM42  REGION=1  REGION=2  REGION=3  REGION=4  \\\n",
      "0  56.0   0.0  17.70  53.37      3.0       0.0       0.0       1.0       0.0   \n",
      "1  78.0   0.0  -1.00  -1.00     -1.0       1.0       0.0       0.0       0.0   \n",
      "2  58.0   0.0  56.71  62.39      0.0       0.0       0.0       1.0       0.0   \n",
      "\n",
      "   SEX=1  ...  ACTDTY  HONRDC  RTHLTH  MNHLTH  HIBPDX  CHDDX  ANGIDX  MIDX  \\\n",
      "0    0.0  ...       2       2       4       1       1      2       2     2   \n",
      "1    1.0  ...       4       2       1       1       1      2       2     2   \n",
      "2    0.0  ...       2       2       1       1       2      1       2     2   \n",
      "\n",
      "   OHRTDX  STRKDX  \n",
      "0       2       2  \n",
      "1       2       2  \n",
      "2       1       2  \n",
      "\n",
      "[3 rows x 152 columns]\n"
     ]
    }
   ],
   "source": [
    "col_name = 'STRKDX'\n",
    "num = 2\n",
    "add_col(df, col_name, num, True)\n",
    "print(df[:3])\n"
   ],
   "metadata": {
    "collapsed": false,
    "pycharm": {
     "name": "#%%\n"
    }
   }
  },
  {
   "cell_type": "code",
   "execution_count": 81,
   "outputs": [
    {
     "name": "stdout",
     "output_type": "stream",
     "text": [
      "length:  942\n",
      "    AGE  RACE  PCS42  MCS42  K6SUM42  REGION=1  REGION=2  REGION=3  REGION=4  \\\n",
      "0  56.0   0.0  17.70  53.37      3.0       0.0       0.0       1.0       0.0   \n",
      "1  78.0   0.0  -1.00  -1.00     -1.0       1.0       0.0       0.0       0.0   \n",
      "2  58.0   0.0  56.71  62.39      0.0       0.0       0.0       1.0       0.0   \n",
      "\n",
      "   SEX=1  ...  HONRDC  RTHLTH  MNHLTH  HIBPDX  CHDDX  ANGIDX  MIDX  OHRTDX  \\\n",
      "0    0.0  ...       2       4       1       1      2       2     2       2   \n",
      "1    1.0  ...       2       1       1       1      2       2     2       2   \n",
      "2    0.0  ...       2       1       1       2      1       2     2       1   \n",
      "\n",
      "   STRKDX  EMPHDX  \n",
      "0       2       2  \n",
      "1       2       2  \n",
      "2       2       2  \n",
      "\n",
      "[3 rows x 153 columns]\n"
     ]
    }
   ],
   "source": [
    "col_name = 'EMPHDX'\n",
    "num = 2\n",
    "add_col(df, col_name, num, True)\n",
    "print(df[:3])\n"
   ],
   "metadata": {
    "collapsed": false,
    "pycharm": {
     "name": "#%%\n"
    }
   }
  },
  {
   "cell_type": "code",
   "execution_count": 82,
   "outputs": [
    {
     "name": "stdout",
     "output_type": "stream",
     "text": [
      "length:  942\n",
      "    AGE  RACE  PCS42  MCS42  K6SUM42  REGION=1  REGION=2  REGION=3  REGION=4  \\\n",
      "0  56.0   0.0  17.70  53.37      3.0       0.0       0.0       1.0       0.0   \n",
      "1  78.0   0.0  -1.00  -1.00     -1.0       1.0       0.0       0.0       0.0   \n",
      "2  58.0   0.0  56.71  62.39      0.0       0.0       0.0       1.0       0.0   \n",
      "\n",
      "   SEX=1  ...  RTHLTH  MNHLTH  HIBPDX  CHDDX  ANGIDX  MIDX  OHRTDX  STRKDX  \\\n",
      "0    0.0  ...       4       1       1      2       2     2       2       2   \n",
      "1    1.0  ...       1       1       1      2       2     2       2       2   \n",
      "2    0.0  ...       1       1       2      1       2     2       1       2   \n",
      "\n",
      "   EMPHDX  CHBRON  \n",
      "0       2       2  \n",
      "1       2       2  \n",
      "2       2       2  \n",
      "\n",
      "[3 rows x 154 columns]\n"
     ]
    }
   ],
   "source": [
    "col_name = 'CHBRON'\n",
    "num = 2\n",
    "add_col(df, col_name, num, True)\n",
    "print(df[:3])\n"
   ],
   "metadata": {
    "collapsed": false,
    "pycharm": {
     "name": "#%%\n"
    }
   }
  },
  {
   "cell_type": "code",
   "execution_count": 83,
   "outputs": [
    {
     "name": "stdout",
     "output_type": "stream",
     "text": [
      "length:  942\n",
      "    AGE  RACE  PCS42  MCS42  K6SUM42  REGION=1  REGION=2  REGION=3  REGION=4  \\\n",
      "0  56.0   0.0  17.70  53.37      3.0       0.0       0.0       1.0       0.0   \n",
      "1  78.0   0.0  -1.00  -1.00     -1.0       1.0       0.0       0.0       0.0   \n",
      "2  58.0   0.0  56.71  62.39      0.0       0.0       0.0       1.0       0.0   \n",
      "\n",
      "   SEX=1  ...  MNHLTH  HIBPDX  CHDDX  ANGIDX  MIDX  OHRTDX  STRKDX  EMPHDX  \\\n",
      "0    0.0  ...       1       1      2       2     2       2       2       2   \n",
      "1    1.0  ...       1       1      2       2     2       2       2       2   \n",
      "2    0.0  ...       1       2      1       2     2       1       2       2   \n",
      "\n",
      "   CHBRON  CHOLDX  \n",
      "0       2       2  \n",
      "1       2       1  \n",
      "2       2       2  \n",
      "\n",
      "[3 rows x 155 columns]\n"
     ]
    }
   ],
   "source": [
    "col_name = 'CHOLDX'\n",
    "num = 2\n",
    "add_col(df, col_name, num, True)\n",
    "print(df[:3])\n"
   ],
   "metadata": {
    "collapsed": false,
    "pycharm": {
     "name": "#%%\n"
    }
   }
  },
  {
   "cell_type": "code",
   "execution_count": 84,
   "outputs": [
    {
     "name": "stdout",
     "output_type": "stream",
     "text": [
      "length:  942\n",
      "    AGE  RACE  PCS42  MCS42  K6SUM42  REGION=1  REGION=2  REGION=3  REGION=4  \\\n",
      "0  56.0   0.0  17.70  53.37      3.0       0.0       0.0       1.0       0.0   \n",
      "1  78.0   0.0  -1.00  -1.00     -1.0       1.0       0.0       0.0       0.0   \n",
      "2  58.0   0.0  56.71  62.39      0.0       0.0       0.0       1.0       0.0   \n",
      "\n",
      "   SEX=1  ...  HIBPDX  CHDDX  ANGIDX  MIDX  OHRTDX  STRKDX  EMPHDX  CHBRON  \\\n",
      "0    0.0  ...       1      2       2     2       2       2       2       2   \n",
      "1    1.0  ...       1      2       2     2       2       2       2       2   \n",
      "2    0.0  ...       2      1       2     2       1       2       2       2   \n",
      "\n",
      "   CHOLDX  CANCERDX  \n",
      "0       2         2  \n",
      "1       1         2  \n",
      "2       2         2  \n",
      "\n",
      "[3 rows x 156 columns]\n"
     ]
    }
   ],
   "source": [
    "col_name = 'CANCERDX'\n",
    "num = 2\n",
    "add_col(df, col_name, num, True)\n",
    "print(df[:3])\n"
   ],
   "metadata": {
    "collapsed": false,
    "pycharm": {
     "name": "#%%\n"
    }
   }
  },
  {
   "cell_type": "code",
   "execution_count": 85,
   "outputs": [
    {
     "name": "stdout",
     "output_type": "stream",
     "text": [
      "length:  942\n",
      "    AGE  RACE  PCS42  MCS42  K6SUM42  REGION=1  REGION=2  REGION=3  REGION=4  \\\n",
      "0  56.0   0.0  17.70  53.37      3.0       0.0       0.0       1.0       0.0   \n",
      "1  78.0   0.0  -1.00  -1.00     -1.0       1.0       0.0       0.0       0.0   \n",
      "2  58.0   0.0  56.71  62.39      0.0       0.0       0.0       1.0       0.0   \n",
      "\n",
      "   SEX=1  ...  CHDDX  ANGIDX  MIDX  OHRTDX  STRKDX  EMPHDX  CHBRON  CHOLDX  \\\n",
      "0    0.0  ...      2       2     2       2       2       2       2       2   \n",
      "1    1.0  ...      2       2     2       2       2       2       2       1   \n",
      "2    0.0  ...      1       2     2       1       2       2       2       2   \n",
      "\n",
      "   CANCERDX  DIABDX  \n",
      "0         2       1  \n",
      "1         2       2  \n",
      "2         2       2  \n",
      "\n",
      "[3 rows x 157 columns]\n"
     ]
    }
   ],
   "source": [
    "col_name = 'DIABDX'\n",
    "num = 2\n",
    "add_col(df, col_name, num, True)\n",
    "print(df[:3])\n"
   ],
   "metadata": {
    "collapsed": false,
    "pycharm": {
     "name": "#%%\n"
    }
   }
  },
  {
   "cell_type": "code",
   "execution_count": 86,
   "outputs": [
    {
     "name": "stdout",
     "output_type": "stream",
     "text": [
      "length:  942\n",
      "    AGE  RACE  PCS42  MCS42  K6SUM42  REGION=1  REGION=2  REGION=3  REGION=4  \\\n",
      "0  56.0   0.0  17.70  53.37      3.0       0.0       0.0       1.0       0.0   \n",
      "1  78.0   0.0  -1.00  -1.00     -1.0       1.0       0.0       0.0       0.0   \n",
      "2  58.0   0.0  56.71  62.39      0.0       0.0       0.0       1.0       0.0   \n",
      "\n",
      "   SEX=1  ...  ANGIDX  MIDX  OHRTDX  STRKDX  EMPHDX  CHBRON  CHOLDX  CANCERDX  \\\n",
      "0    0.0  ...       2     2       2       2       2       2       2         2   \n",
      "1    1.0  ...       2     2       2       2       2       2       1         2   \n",
      "2    0.0  ...       2     2       1       2       2       2       2         2   \n",
      "\n",
      "   DIABDX  JTPAIN  \n",
      "0       1       1  \n",
      "1       2       2  \n",
      "2       2       2  \n",
      "\n",
      "[3 rows x 158 columns]\n"
     ]
    }
   ],
   "source": [
    "col_name = 'JTPAIN'\n",
    "num = 2\n",
    "add_col(df, col_name, num, True)\n",
    "print(df[:3])\n"
   ],
   "metadata": {
    "collapsed": false,
    "pycharm": {
     "name": "#%%\n"
    }
   }
  },
  {
   "cell_type": "code",
   "execution_count": 87,
   "outputs": [
    {
     "name": "stdout",
     "output_type": "stream",
     "text": [
      "length:  942\n",
      "    AGE  RACE  PCS42  MCS42  K6SUM42  REGION=1  REGION=2  REGION=3  REGION=4  \\\n",
      "0  56.0   0.0  17.70  53.37      3.0       0.0       0.0       1.0       0.0   \n",
      "1  78.0   0.0  -1.00  -1.00     -1.0       1.0       0.0       0.0       0.0   \n",
      "2  58.0   0.0  56.71  62.39      0.0       0.0       0.0       1.0       0.0   \n",
      "\n",
      "   SEX=1  ...  MIDX  OHRTDX  STRKDX  EMPHDX  CHBRON  CHOLDX  CANCERDX  DIABDX  \\\n",
      "0    0.0  ...     2       2       2       2       2       2         2       1   \n",
      "1    1.0  ...     2       2       2       2       2       1         2       2   \n",
      "2    0.0  ...     2       1       2       2       2       2         2       2   \n",
      "\n",
      "   JTPAIN  ARTHDX  \n",
      "0       1       1  \n",
      "1       2       2  \n",
      "2       2       2  \n",
      "\n",
      "[3 rows x 159 columns]\n"
     ]
    }
   ],
   "source": [
    "col_name = 'ARTHDX'\n",
    "num = 2\n",
    "add_col(df, col_name, num, True)\n",
    "print(df[:3])\n"
   ],
   "metadata": {
    "collapsed": false,
    "pycharm": {
     "name": "#%%\n"
    }
   }
  },
  {
   "cell_type": "code",
   "execution_count": 88,
   "outputs": [
    {
     "name": "stdout",
     "output_type": "stream",
     "text": [
      "length:  942\n",
      "    AGE  RACE  PCS42  MCS42  K6SUM42  REGION=1  REGION=2  REGION=3  REGION=4  \\\n",
      "0  56.0   0.0  17.70  53.37      3.0       0.0       0.0       1.0       0.0   \n",
      "1  78.0   0.0  -1.00  -1.00     -1.0       1.0       0.0       0.0       0.0   \n",
      "2  58.0   0.0  56.71  62.39      0.0       0.0       0.0       1.0       0.0   \n",
      "\n",
      "   SEX=1  ...  OHRTDX  STRKDX  EMPHDX  CHBRON  CHOLDX  CANCERDX  DIABDX  \\\n",
      "0    0.0  ...       2       2       2       2       2         2       1   \n",
      "1    1.0  ...       2       2       2       2       1         2       2   \n",
      "2    0.0  ...       1       2       2       2       2         2       2   \n",
      "\n",
      "   JTPAIN  ARTHDX  ARTHTYPE  \n",
      "0       1       1         3  \n",
      "1       2       2        -1  \n",
      "2       2       2        -1  \n",
      "\n",
      "[3 rows x 160 columns]\n"
     ]
    }
   ],
   "source": [
    "col_name = 'ARTHTYPE'\n",
    "num = 3\n",
    "add_col(df, col_name, num, True)\n",
    "print(df[:3])\n"
   ],
   "metadata": {
    "collapsed": false,
    "pycharm": {
     "name": "#%%\n"
    }
   }
  },
  {
   "cell_type": "code",
   "execution_count": 89,
   "outputs": [
    {
     "name": "stdout",
     "output_type": "stream",
     "text": [
      "length:  942\n",
      "    AGE  RACE  PCS42  MCS42  K6SUM42  REGION=1  REGION=2  REGION=3  REGION=4  \\\n",
      "0  56.0   0.0  17.70  53.37      3.0       0.0       0.0       1.0       0.0   \n",
      "1  78.0   0.0  -1.00  -1.00     -1.0       1.0       0.0       0.0       0.0   \n",
      "2  58.0   0.0  56.71  62.39      0.0       0.0       0.0       1.0       0.0   \n",
      "\n",
      "   SEX=1  ...  STRKDX  EMPHDX  CHBRON  CHOLDX  CANCERDX  DIABDX  JTPAIN  \\\n",
      "0    0.0  ...       2       2       2       2         2       1       1   \n",
      "1    1.0  ...       2       2       2       1         2       2       2   \n",
      "2    0.0  ...       2       2       2       2         2       2       2   \n",
      "\n",
      "   ARTHDX  ARTHTYPE  ASTHDX  \n",
      "0       1         3       2  \n",
      "1       2        -1       2  \n",
      "2       2        -1       2  \n",
      "\n",
      "[3 rows x 161 columns]\n"
     ]
    }
   ],
   "source": [
    "col_name = 'ASTHDX'\n",
    "num = 2\n",
    "add_col(df, col_name, num, False)\n",
    "print(df[:3])\n"
   ],
   "metadata": {
    "collapsed": false,
    "pycharm": {
     "name": "#%%\n"
    }
   }
  },
  {
   "cell_type": "code",
   "execution_count": 90,
   "outputs": [
    {
     "name": "stdout",
     "output_type": "stream",
     "text": [
      "length:  942\n",
      "    AGE  RACE  PCS42  MCS42  K6SUM42  REGION=1  REGION=2  REGION=3  REGION=4  \\\n",
      "0  56.0   0.0  17.70  53.37      3.0       0.0       0.0       1.0       0.0   \n",
      "1  78.0   0.0  -1.00  -1.00     -1.0       1.0       0.0       0.0       0.0   \n",
      "2  58.0   0.0  56.71  62.39      0.0       0.0       0.0       1.0       0.0   \n",
      "\n",
      "   SEX=1  ...  EMPHDX  CHBRON  CHOLDX  CANCERDX  DIABDX  JTPAIN  ARTHDX  \\\n",
      "0    0.0  ...       2       2       2         2       1       1       1   \n",
      "1    1.0  ...       2       2       1         2       2       2       2   \n",
      "2    0.0  ...       2       2       2         2       2       2       2   \n",
      "\n",
      "   ARTHTYPE  ASTHDX  ADHDADDX  \n",
      "0         3       2        -1  \n",
      "1        -1       2        -1  \n",
      "2        -1       2        -1  \n",
      "\n",
      "[3 rows x 162 columns]\n"
     ]
    }
   ],
   "source": [
    "col_name = 'ADHDADDX'\n",
    "num = 2\n",
    "add_col(df, col_name, num, True)\n",
    "print(df[:3])\n"
   ],
   "metadata": {
    "collapsed": false,
    "pycharm": {
     "name": "#%%\n"
    }
   }
  },
  {
   "cell_type": "code",
   "execution_count": 91,
   "outputs": [
    {
     "name": "stdout",
     "output_type": "stream",
     "text": [
      "length:  942\n",
      "    AGE  RACE  PCS42  MCS42  K6SUM42  REGION=1  REGION=2  REGION=3  REGION=4  \\\n",
      "0  56.0   0.0  17.70  53.37      3.0       0.0       0.0       1.0       0.0   \n",
      "1  78.0   0.0  -1.00  -1.00     -1.0       1.0       0.0       0.0       0.0   \n",
      "2  58.0   0.0  56.71  62.39      0.0       0.0       0.0       1.0       0.0   \n",
      "\n",
      "   SEX=1  ...  CHBRON  CHOLDX  CANCERDX  DIABDX  JTPAIN  ARTHDX  ARTHTYPE  \\\n",
      "0    0.0  ...       2       2         2       1       1       1         3   \n",
      "1    1.0  ...       2       1         2       2       2       2        -1   \n",
      "2    0.0  ...       2       2         2       2       2       2        -1   \n",
      "\n",
      "   ASTHDX  ADHDADDX  PREGNT  \n",
      "0       2        -1      -1  \n",
      "1       2        -1      -1  \n",
      "2       2        -1      -1  \n",
      "\n",
      "[3 rows x 163 columns]\n"
     ]
    }
   ],
   "source": [
    "col_name = 'PREGNT'\n",
    "num = 2\n",
    "add_col(df, col_name, num, True)\n",
    "print(df[:3])\n"
   ],
   "metadata": {
    "collapsed": false,
    "pycharm": {
     "name": "#%%\n"
    }
   }
  },
  {
   "cell_type": "code",
   "execution_count": 92,
   "outputs": [],
   "source": [
    "df.to_csv(\"train_TP_add_col2PREGNT.csv\", index=False)"
   ],
   "metadata": {
    "collapsed": false,
    "pycharm": {
     "name": "#%%\n"
    }
   }
  },
  {
   "cell_type": "code",
   "execution_count": null,
   "outputs": [],
   "source": [],
   "metadata": {
    "collapsed": false,
    "pycharm": {
     "name": "#%%\n"
    }
   }
  }
 ],
 "metadata": {
  "kernelspec": {
   "display_name": "Python 3",
   "language": "python",
   "name": "python3"
  },
  "language_info": {
   "codemirror_mode": {
    "name": "ipython",
    "version": 2
   },
   "file_extension": ".py",
   "mimetype": "text/x-python",
   "name": "python",
   "nbconvert_exporter": "python",
   "pygments_lexer": "ipython2",
   "version": "2.7.6"
  }
 },
 "nbformat": 4,
 "nbformat_minor": 0
}