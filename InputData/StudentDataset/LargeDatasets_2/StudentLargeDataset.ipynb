{
 "cells": [
  {
   "cell_type": "markdown",
   "metadata": {
    "collapsed": true,
    "pycharm": {
     "name": "#%% md\n"
    }
   },
   "source": [
    "# Large dataset for student data"
   ]
  },
  {
   "cell_type": "code",
   "execution_count": 3,
   "outputs": [],
   "source": [
    "import numpy as np\n",
    "import pandas as pd\n",
    "import random\n",
    "from Algorithms import pattern_count\n",
    "\n"
   ],
   "metadata": {
    "collapsed": false,
    "pycharm": {
     "name": "#%%\n"
    }
   }
  },
  {
   "cell_type": "code",
   "execution_count": 22,
   "outputs": [
    {
     "data": {
      "text/plain": "              age        Medu        Fedu  traveltime   studytime    failures  \\\ncount  395.000000  395.000000  395.000000  395.000000  395.000000  395.000000   \nmean    16.696203    2.749367    2.521519    1.448101    2.035443    0.334177   \nstd      1.276043    1.094735    1.088201    0.697505    0.839240    0.743651   \nmin     15.000000    0.000000    0.000000    1.000000    1.000000    0.000000   \n25%     16.000000    2.000000    2.000000    1.000000    1.000000    0.000000   \n50%     17.000000    3.000000    2.000000    1.000000    2.000000    0.000000   \n75%     18.000000    4.000000    3.000000    2.000000    2.000000    0.000000   \nmax     22.000000    4.000000    4.000000    4.000000    4.000000    3.000000   \n\n           famrel    freetime       goout        Dalc  ...  freetime_C  \\\ncount  395.000000  395.000000  395.000000  395.000000  ...  395.000000   \nmean     3.944304    3.235443    3.108861    1.481013  ...    3.235443   \nstd      0.896659    0.998862    1.113278    0.890741  ...    0.998862   \nmin      1.000000    1.000000    1.000000    1.000000  ...    1.000000   \n25%      4.000000    3.000000    2.000000    1.000000  ...    3.000000   \n50%      4.000000    3.000000    3.000000    1.000000  ...    3.000000   \n75%      5.000000    4.000000    4.000000    2.000000  ...    4.000000   \nmax      5.000000    5.000000    5.000000    5.000000  ...    5.000000   \n\n          goout_C      Dalc_C      Walc_C    health_C  absences_C        G1_C  \\\ncount  395.000000  395.000000  395.000000  395.000000   395.00000  395.000000   \nmean     3.108861    1.481013    2.291139    3.554430     0.01519    1.592405   \nstd      1.113278    0.890741    1.287897    1.390303     0.14168    0.704188   \nmin      1.000000    1.000000    1.000000    1.000000     0.00000    0.000000   \n25%      2.000000    1.000000    1.000000    3.000000     0.00000    1.000000   \n50%      3.000000    1.000000    2.000000    4.000000     0.00000    2.000000   \n75%      4.000000    2.000000    3.000000    5.000000     0.00000    2.000000   \nmax      5.000000    5.000000    5.000000    5.000000     2.00000    3.000000   \n\n             G2_C        G3_C        rank  \ncount  395.000000  395.000000  395.000000  \nmean     1.524051    1.513924  198.000000  \nstd      0.751515    0.828848  114.170924  \nmin      0.000000    0.000000    1.000000  \n25%      1.000000    1.000000   99.500000  \n50%      2.000000    2.000000  198.000000  \n75%      2.000000    2.000000  296.500000  \nmax      3.000000    3.000000  395.000000  \n\n[8 rows x 50 columns]",
      "text/html": "<div>\n<style scoped>\n    .dataframe tbody tr th:only-of-type {\n        vertical-align: middle;\n    }\n\n    .dataframe tbody tr th {\n        vertical-align: top;\n    }\n\n    .dataframe thead th {\n        text-align: right;\n    }\n</style>\n<table border=\"1\" class=\"dataframe\">\n  <thead>\n    <tr style=\"text-align: right;\">\n      <th></th>\n      <th>age</th>\n      <th>Medu</th>\n      <th>Fedu</th>\n      <th>traveltime</th>\n      <th>studytime</th>\n      <th>failures</th>\n      <th>famrel</th>\n      <th>freetime</th>\n      <th>goout</th>\n      <th>Dalc</th>\n      <th>...</th>\n      <th>freetime_C</th>\n      <th>goout_C</th>\n      <th>Dalc_C</th>\n      <th>Walc_C</th>\n      <th>health_C</th>\n      <th>absences_C</th>\n      <th>G1_C</th>\n      <th>G2_C</th>\n      <th>G3_C</th>\n      <th>rank</th>\n    </tr>\n  </thead>\n  <tbody>\n    <tr>\n      <th>count</th>\n      <td>395.000000</td>\n      <td>395.000000</td>\n      <td>395.000000</td>\n      <td>395.000000</td>\n      <td>395.000000</td>\n      <td>395.000000</td>\n      <td>395.000000</td>\n      <td>395.000000</td>\n      <td>395.000000</td>\n      <td>395.000000</td>\n      <td>...</td>\n      <td>395.000000</td>\n      <td>395.000000</td>\n      <td>395.000000</td>\n      <td>395.000000</td>\n      <td>395.000000</td>\n      <td>395.00000</td>\n      <td>395.000000</td>\n      <td>395.000000</td>\n      <td>395.000000</td>\n      <td>395.000000</td>\n    </tr>\n    <tr>\n      <th>mean</th>\n      <td>16.696203</td>\n      <td>2.749367</td>\n      <td>2.521519</td>\n      <td>1.448101</td>\n      <td>2.035443</td>\n      <td>0.334177</td>\n      <td>3.944304</td>\n      <td>3.235443</td>\n      <td>3.108861</td>\n      <td>1.481013</td>\n      <td>...</td>\n      <td>3.235443</td>\n      <td>3.108861</td>\n      <td>1.481013</td>\n      <td>2.291139</td>\n      <td>3.554430</td>\n      <td>0.01519</td>\n      <td>1.592405</td>\n      <td>1.524051</td>\n      <td>1.513924</td>\n      <td>198.000000</td>\n    </tr>\n    <tr>\n      <th>std</th>\n      <td>1.276043</td>\n      <td>1.094735</td>\n      <td>1.088201</td>\n      <td>0.697505</td>\n      <td>0.839240</td>\n      <td>0.743651</td>\n      <td>0.896659</td>\n      <td>0.998862</td>\n      <td>1.113278</td>\n      <td>0.890741</td>\n      <td>...</td>\n      <td>0.998862</td>\n      <td>1.113278</td>\n      <td>0.890741</td>\n      <td>1.287897</td>\n      <td>1.390303</td>\n      <td>0.14168</td>\n      <td>0.704188</td>\n      <td>0.751515</td>\n      <td>0.828848</td>\n      <td>114.170924</td>\n    </tr>\n    <tr>\n      <th>min</th>\n      <td>15.000000</td>\n      <td>0.000000</td>\n      <td>0.000000</td>\n      <td>1.000000</td>\n      <td>1.000000</td>\n      <td>0.000000</td>\n      <td>1.000000</td>\n      <td>1.000000</td>\n      <td>1.000000</td>\n      <td>1.000000</td>\n      <td>...</td>\n      <td>1.000000</td>\n      <td>1.000000</td>\n      <td>1.000000</td>\n      <td>1.000000</td>\n      <td>1.000000</td>\n      <td>0.00000</td>\n      <td>0.000000</td>\n      <td>0.000000</td>\n      <td>0.000000</td>\n      <td>1.000000</td>\n    </tr>\n    <tr>\n      <th>25%</th>\n      <td>16.000000</td>\n      <td>2.000000</td>\n      <td>2.000000</td>\n      <td>1.000000</td>\n      <td>1.000000</td>\n      <td>0.000000</td>\n      <td>4.000000</td>\n      <td>3.000000</td>\n      <td>2.000000</td>\n      <td>1.000000</td>\n      <td>...</td>\n      <td>3.000000</td>\n      <td>2.000000</td>\n      <td>1.000000</td>\n      <td>1.000000</td>\n      <td>3.000000</td>\n      <td>0.00000</td>\n      <td>1.000000</td>\n      <td>1.000000</td>\n      <td>1.000000</td>\n      <td>99.500000</td>\n    </tr>\n    <tr>\n      <th>50%</th>\n      <td>17.000000</td>\n      <td>3.000000</td>\n      <td>2.000000</td>\n      <td>1.000000</td>\n      <td>2.000000</td>\n      <td>0.000000</td>\n      <td>4.000000</td>\n      <td>3.000000</td>\n      <td>3.000000</td>\n      <td>1.000000</td>\n      <td>...</td>\n      <td>3.000000</td>\n      <td>3.000000</td>\n      <td>1.000000</td>\n      <td>2.000000</td>\n      <td>4.000000</td>\n      <td>0.00000</td>\n      <td>2.000000</td>\n      <td>2.000000</td>\n      <td>2.000000</td>\n      <td>198.000000</td>\n    </tr>\n    <tr>\n      <th>75%</th>\n      <td>18.000000</td>\n      <td>4.000000</td>\n      <td>3.000000</td>\n      <td>2.000000</td>\n      <td>2.000000</td>\n      <td>0.000000</td>\n      <td>5.000000</td>\n      <td>4.000000</td>\n      <td>4.000000</td>\n      <td>2.000000</td>\n      <td>...</td>\n      <td>4.000000</td>\n      <td>4.000000</td>\n      <td>2.000000</td>\n      <td>3.000000</td>\n      <td>5.000000</td>\n      <td>0.00000</td>\n      <td>2.000000</td>\n      <td>2.000000</td>\n      <td>2.000000</td>\n      <td>296.500000</td>\n    </tr>\n    <tr>\n      <th>max</th>\n      <td>22.000000</td>\n      <td>4.000000</td>\n      <td>4.000000</td>\n      <td>4.000000</td>\n      <td>4.000000</td>\n      <td>3.000000</td>\n      <td>5.000000</td>\n      <td>5.000000</td>\n      <td>5.000000</td>\n      <td>5.000000</td>\n      <td>...</td>\n      <td>5.000000</td>\n      <td>5.000000</td>\n      <td>5.000000</td>\n      <td>5.000000</td>\n      <td>5.000000</td>\n      <td>2.00000</td>\n      <td>3.000000</td>\n      <td>3.000000</td>\n      <td>3.000000</td>\n      <td>395.000000</td>\n    </tr>\n  </tbody>\n</table>\n<p>8 rows × 50 columns</p>\n</div>"
     },
     "execution_count": 22,
     "metadata": {},
     "output_type": "execute_result"
    }
   ],
   "source": [
    "\n",
    "\n",
    "df = pd.read_csv(\"student-mat_cat_ranked.csv\")\n",
    "\n",
    "df.describe()\n",
    "\n"
   ],
   "metadata": {
    "collapsed": false,
    "pycharm": {
     "name": "#%%\n"
    }
   }
  },
  {
   "cell_type": "code",
   "execution_count": 23,
   "outputs": [
    {
     "data": {
      "text/plain": "Index(['school', 'sex', 'age', 'address', 'famsize', 'Pstatus', 'Medu', 'Fedu',\n       'Mjob', 'Fjob', 'reason', 'guardian', 'traveltime', 'studytime',\n       'failures', 'schoolsup', 'famsup', 'paid', 'activities', 'nursery',\n       'higher', 'internet', 'romantic', 'famrel', 'freetime', 'goout', 'Dalc',\n       'Walc', 'health', 'absences', 'G1', 'G2', 'G3', 'school_C', 'sex_C',\n       'age_C', 'address_C', 'famsize_C', 'Pstatus_C', 'Medu_C', 'Fedu_C',\n       'Mjob_C', 'Fjob_C', 'reason_C', 'guardian_C', 'traveltime_C',\n       'studytime_C', 'failures_C', 'schoolsup_C', 'famsup_C', 'paid_C',\n       'activities_C', 'nursery_C', 'higher_C', 'internet_C', 'romantic_C',\n       'famrel_C', 'freetime_C', 'goout_C', 'Dalc_C', 'Walc_C', 'health_C',\n       'absences_C', 'G1_C', 'G2_C', 'G3_C', 'rank'],\n      dtype='object')"
     },
     "execution_count": 23,
     "metadata": {},
     "output_type": "execute_result"
    }
   ],
   "source": [
    "\n",
    "df.columns\n",
    "\n"
   ],
   "metadata": {
    "collapsed": false,
    "pycharm": {
     "name": "#%%\n"
    }
   }
  },
  {
   "cell_type": "code",
   "execution_count": 23,
   "outputs": [],
   "source": [],
   "metadata": {
    "collapsed": false,
    "pycharm": {
     "name": "#%%\n"
    }
   }
  },
  {
   "cell_type": "code",
   "execution_count": 24,
   "outputs": [],
   "source": [
    "# columns = ['G1', 'G2', 'G3', 'school_C', 'sex_C',\n",
    "#         'age_C', 'address_C', 'famsize_C', 'Pstatus_C', 'Medu_C',\n",
    "#         'Fedu_C', 'Mjob_C', 'Fjob_C', 'reason_C', 'guardian_C',\n",
    "#         'traveltime_C', 'studytime_C', 'failures_C', 'schoolsup_C', 'famsup_C',\n",
    "#         'paid_C', 'activities_C', 'nursery_C', 'higher_C', 'internet_C',\n",
    "#         'romantic_C', 'famrel_C', 'freetime_C', 'goout_C', 'Dalc_C',\n",
    "#         'Walc_C', 'health_C', 'absences_C', 'G1_C', 'G2_C',\n",
    "#         'G3_C', 'rank']\n"
   ],
   "metadata": {
    "collapsed": false,
    "pycharm": {
     "name": "#%%\n"
    }
   }
  },
  {
   "cell_type": "code",
   "execution_count": 25,
   "outputs": [],
   "source": [
    "\n",
    "columns = ['school_C', 'sex_C', 'age_C', 'address_C', 'famsize_C',\n",
    "           'Pstatus_C', 'Medu_C', 'Fedu_C', 'Mjob_C', 'Fjob_C',\n",
    "           'reason_C', 'guardian_C', 'traveltime_C', 'studytime_C', 'failures_C',\n",
    "           'schoolsup_C', 'famsup_C', 'paid_C', 'activities_C', 'nursery_C',\n",
    "           'higher_C', 'internet_C', 'romantic_C', 'famrel_C', 'freetime_C',\n",
    "           'goout_C', 'Dalc_C', 'Walc_C', 'health_C', 'absences_C',\n",
    "           'G1_C', 'G2_C', 'G3_C', 'rank']\n"
   ],
   "metadata": {
    "collapsed": false,
    "pycharm": {
     "name": "#%%\n"
    }
   }
  },
  {
   "cell_type": "code",
   "execution_count": 16,
   "outputs": [
    {
     "data": {
      "text/plain": "   school_C  sex_C  age_C  address_C  famsize_C  Pstatus_C  Medu_C  Fedu_C  \\\n0         0      0      0          0          1          0       4       3   \n1         0      0      0          0          0          1       3       2   \n2         0      0      0          0          0          1       4       4   \n3         0      0      0          0          0          0       4       2   \n\n   Mjob_C  Fjob_C  ...  freetime_C  goout_C  Dalc_C  Walc_C  health_C  \\\n0       1       2  ...           2        2       1       1         2   \n1       2       4  ...           2        2       1       1         1   \n2       0       0  ...           5        3       1       1         4   \n3       0       4  ...           5        2       1       1         3   \n\n   absences_C  G1_C  G2_C  G3_C  rank  \n0           0     3     3     3   1.0  \n1           0     3     3     3   2.0  \n2           0     3     3     3   3.0  \n3           0     3     3     3   4.0  \n\n[4 rows x 34 columns]",
      "text/html": "<div>\n<style scoped>\n    .dataframe tbody tr th:only-of-type {\n        vertical-align: middle;\n    }\n\n    .dataframe tbody tr th {\n        vertical-align: top;\n    }\n\n    .dataframe thead th {\n        text-align: right;\n    }\n</style>\n<table border=\"1\" class=\"dataframe\">\n  <thead>\n    <tr style=\"text-align: right;\">\n      <th></th>\n      <th>school_C</th>\n      <th>sex_C</th>\n      <th>age_C</th>\n      <th>address_C</th>\n      <th>famsize_C</th>\n      <th>Pstatus_C</th>\n      <th>Medu_C</th>\n      <th>Fedu_C</th>\n      <th>Mjob_C</th>\n      <th>Fjob_C</th>\n      <th>...</th>\n      <th>freetime_C</th>\n      <th>goout_C</th>\n      <th>Dalc_C</th>\n      <th>Walc_C</th>\n      <th>health_C</th>\n      <th>absences_C</th>\n      <th>G1_C</th>\n      <th>G2_C</th>\n      <th>G3_C</th>\n      <th>rank</th>\n    </tr>\n  </thead>\n  <tbody>\n    <tr>\n      <th>0</th>\n      <td>0</td>\n      <td>0</td>\n      <td>0</td>\n      <td>0</td>\n      <td>1</td>\n      <td>0</td>\n      <td>4</td>\n      <td>3</td>\n      <td>1</td>\n      <td>2</td>\n      <td>...</td>\n      <td>2</td>\n      <td>2</td>\n      <td>1</td>\n      <td>1</td>\n      <td>2</td>\n      <td>0</td>\n      <td>3</td>\n      <td>3</td>\n      <td>3</td>\n      <td>1.0</td>\n    </tr>\n    <tr>\n      <th>1</th>\n      <td>0</td>\n      <td>0</td>\n      <td>0</td>\n      <td>0</td>\n      <td>0</td>\n      <td>1</td>\n      <td>3</td>\n      <td>2</td>\n      <td>2</td>\n      <td>4</td>\n      <td>...</td>\n      <td>2</td>\n      <td>2</td>\n      <td>1</td>\n      <td>1</td>\n      <td>1</td>\n      <td>0</td>\n      <td>3</td>\n      <td>3</td>\n      <td>3</td>\n      <td>2.0</td>\n    </tr>\n    <tr>\n      <th>2</th>\n      <td>0</td>\n      <td>0</td>\n      <td>0</td>\n      <td>0</td>\n      <td>0</td>\n      <td>1</td>\n      <td>4</td>\n      <td>4</td>\n      <td>0</td>\n      <td>0</td>\n      <td>...</td>\n      <td>5</td>\n      <td>3</td>\n      <td>1</td>\n      <td>1</td>\n      <td>4</td>\n      <td>0</td>\n      <td>3</td>\n      <td>3</td>\n      <td>3</td>\n      <td>3.0</td>\n    </tr>\n    <tr>\n      <th>3</th>\n      <td>0</td>\n      <td>0</td>\n      <td>0</td>\n      <td>0</td>\n      <td>0</td>\n      <td>0</td>\n      <td>4</td>\n      <td>2</td>\n      <td>0</td>\n      <td>4</td>\n      <td>...</td>\n      <td>5</td>\n      <td>2</td>\n      <td>1</td>\n      <td>1</td>\n      <td>3</td>\n      <td>0</td>\n      <td>3</td>\n      <td>3</td>\n      <td>3</td>\n      <td>4.0</td>\n    </tr>\n  </tbody>\n</table>\n<p>4 rows × 34 columns</p>\n</div>"
     },
     "execution_count": 16,
     "metadata": {},
     "output_type": "execute_result"
    }
   ],
   "source": [
    "\n",
    "df = df[columns]\n",
    "df[:4]\n"
   ],
   "metadata": {
    "collapsed": false,
    "pycharm": {
     "name": "#%%\n"
    }
   }
  },
  {
   "cell_type": "code",
   "execution_count": 17,
   "outputs": [],
   "source": [
    "df.to_csv(\"mat_cat_numeric_withrank.csv\", index=False)\n"
   ],
   "metadata": {
    "collapsed": false,
    "pycharm": {
     "name": "#%%\n"
    }
   }
  },
  {
   "cell_type": "code",
   "execution_count": null,
   "outputs": [],
   "source": [
    "\n",
    "\n"
   ],
   "metadata": {
    "collapsed": false,
    "pycharm": {
     "name": "#%%\n"
    }
   }
  },
  {
   "cell_type": "code",
   "execution_count": 26,
   "outputs": [],
   "source": [
    "\n",
    "\n",
    "columns2 = ['G1', 'G2', 'G3', 'school_C', 'sex_C',\n",
    "        'age_C', 'address_C', 'famsize_C', 'Pstatus_C', 'Medu_C',\n",
    "        'Fedu_C', 'Mjob_C', 'Fjob_C', 'reason_C', 'guardian_C',\n",
    "        'traveltime_C', 'studytime_C', 'failures_C', 'schoolsup_C', 'famsup_C',\n",
    "        'paid_C', 'activities_C', 'nursery_C', 'higher_C', 'internet_C',\n",
    "        'romantic_C', 'famrel_C', 'freetime_C', 'goout_C', 'Dalc_C',\n",
    "        'Walc_C', 'health_C', 'absences_C', 'G1_C', 'G2_C',\n",
    "        'G3_C', 'rank']\n",
    "\n"
   ],
   "metadata": {
    "collapsed": false,
    "pycharm": {
     "name": "#%%\n"
    }
   }
  },
  {
   "cell_type": "code",
   "execution_count": 27,
   "outputs": [
    {
     "data": {
      "text/plain": "   G1  G2  G3  school_C  sex_C  age_C  address_C  famsize_C  Pstatus_C  \\\n0  19  19  20         0      0      0          0          1          0   \n1  16  18  19         0      0      0          0          0          1   \n2  18  19  19         0      0      0          0          0          1   \n3  18  19  19         0      0      0          0          0          0   \n\n   Medu_C  ...  freetime_C  goout_C  Dalc_C  Walc_C  health_C  absences_C  \\\n0       4  ...           2        2       1       1         2           0   \n1       3  ...           2        2       1       1         1           0   \n2       4  ...           5        3       1       1         4           0   \n3       4  ...           5        2       1       1         3           0   \n\n   G1_C  G2_C  G3_C  rank  \n0     3     3     3   1.0  \n1     3     3     3   2.0  \n2     3     3     3   3.0  \n3     3     3     3   4.0  \n\n[4 rows x 37 columns]",
      "text/html": "<div>\n<style scoped>\n    .dataframe tbody tr th:only-of-type {\n        vertical-align: middle;\n    }\n\n    .dataframe tbody tr th {\n        vertical-align: top;\n    }\n\n    .dataframe thead th {\n        text-align: right;\n    }\n</style>\n<table border=\"1\" class=\"dataframe\">\n  <thead>\n    <tr style=\"text-align: right;\">\n      <th></th>\n      <th>G1</th>\n      <th>G2</th>\n      <th>G3</th>\n      <th>school_C</th>\n      <th>sex_C</th>\n      <th>age_C</th>\n      <th>address_C</th>\n      <th>famsize_C</th>\n      <th>Pstatus_C</th>\n      <th>Medu_C</th>\n      <th>...</th>\n      <th>freetime_C</th>\n      <th>goout_C</th>\n      <th>Dalc_C</th>\n      <th>Walc_C</th>\n      <th>health_C</th>\n      <th>absences_C</th>\n      <th>G1_C</th>\n      <th>G2_C</th>\n      <th>G3_C</th>\n      <th>rank</th>\n    </tr>\n  </thead>\n  <tbody>\n    <tr>\n      <th>0</th>\n      <td>19</td>\n      <td>19</td>\n      <td>20</td>\n      <td>0</td>\n      <td>0</td>\n      <td>0</td>\n      <td>0</td>\n      <td>1</td>\n      <td>0</td>\n      <td>4</td>\n      <td>...</td>\n      <td>2</td>\n      <td>2</td>\n      <td>1</td>\n      <td>1</td>\n      <td>2</td>\n      <td>0</td>\n      <td>3</td>\n      <td>3</td>\n      <td>3</td>\n      <td>1.0</td>\n    </tr>\n    <tr>\n      <th>1</th>\n      <td>16</td>\n      <td>18</td>\n      <td>19</td>\n      <td>0</td>\n      <td>0</td>\n      <td>0</td>\n      <td>0</td>\n      <td>0</td>\n      <td>1</td>\n      <td>3</td>\n      <td>...</td>\n      <td>2</td>\n      <td>2</td>\n      <td>1</td>\n      <td>1</td>\n      <td>1</td>\n      <td>0</td>\n      <td>3</td>\n      <td>3</td>\n      <td>3</td>\n      <td>2.0</td>\n    </tr>\n    <tr>\n      <th>2</th>\n      <td>18</td>\n      <td>19</td>\n      <td>19</td>\n      <td>0</td>\n      <td>0</td>\n      <td>0</td>\n      <td>0</td>\n      <td>0</td>\n      <td>1</td>\n      <td>4</td>\n      <td>...</td>\n      <td>5</td>\n      <td>3</td>\n      <td>1</td>\n      <td>1</td>\n      <td>4</td>\n      <td>0</td>\n      <td>3</td>\n      <td>3</td>\n      <td>3</td>\n      <td>3.0</td>\n    </tr>\n    <tr>\n      <th>3</th>\n      <td>18</td>\n      <td>19</td>\n      <td>19</td>\n      <td>0</td>\n      <td>0</td>\n      <td>0</td>\n      <td>0</td>\n      <td>0</td>\n      <td>0</td>\n      <td>4</td>\n      <td>...</td>\n      <td>5</td>\n      <td>2</td>\n      <td>1</td>\n      <td>1</td>\n      <td>3</td>\n      <td>0</td>\n      <td>3</td>\n      <td>3</td>\n      <td>3</td>\n      <td>4.0</td>\n    </tr>\n  </tbody>\n</table>\n<p>4 rows × 37 columns</p>\n</div>"
     },
     "execution_count": 27,
     "metadata": {},
     "output_type": "execute_result"
    }
   ],
   "source": [
    "\n",
    "df2 = df[columns2].copy()\n",
    "df2[:4]\n",
    "\n",
    "\n"
   ],
   "metadata": {
    "collapsed": false,
    "pycharm": {
     "name": "#%%\n"
    }
   }
  },
  {
   "cell_type": "code",
   "execution_count": 30,
   "outputs": [],
   "source": [
    "\n",
    "\n",
    "df2.to_csv(\"student_to_extend.csv\", index=False)\n"
   ],
   "metadata": {
    "collapsed": false,
    "pycharm": {
     "name": "#%%\n"
    }
   }
  },
  {
   "cell_type": "code",
   "execution_count": null,
   "outputs": [],
   "source": [],
   "metadata": {
    "collapsed": false,
    "pycharm": {
     "name": "#%%\n"
    }
   }
  },
  {
   "cell_type": "code",
   "execution_count": null,
   "outputs": [],
   "source": [],
   "metadata": {
    "collapsed": false,
    "pycharm": {
     "name": "#%%\n"
    }
   }
  },
  {
   "cell_type": "code",
   "execution_count": null,
   "outputs": [],
   "source": [],
   "metadata": {
    "collapsed": false,
    "pycharm": {
     "name": "#%%\n"
    }
   }
  },
  {
   "cell_type": "code",
   "execution_count": null,
   "outputs": [],
   "source": [],
   "metadata": {
    "collapsed": false,
    "pycharm": {
     "name": "#%%\n"
    }
   }
  },
  {
   "cell_type": "code",
   "execution_count": 31,
   "outputs": [
    {
     "data": {
      "text/plain": "               G1          G2          G3    school_C       sex_C       age_C  \\\ncount  395.000000  395.000000  395.000000  395.000000  395.000000  395.000000   \nmean    10.908861   10.713924   10.415190    0.116456    0.526582    0.073418   \nstd      3.319195    3.761505    4.581443    0.321177    0.499926    0.261152   \nmin      3.000000    0.000000    0.000000    0.000000    0.000000    0.000000   \n25%      8.000000    9.000000    8.000000    0.000000    0.000000    0.000000   \n50%     11.000000   11.000000   11.000000    0.000000    1.000000    0.000000   \n75%     13.000000   13.000000   14.000000    0.000000    1.000000    0.000000   \nmax     19.000000   19.000000   20.000000    1.000000    1.000000    1.000000   \n\n        address_C   famsize_C   Pstatus_C      Medu_C  ...  freetime_C  \\\ncount  395.000000  395.000000  395.000000  395.000000  ...  395.000000   \nmean     0.222785    0.711392    0.103797    2.749367  ...    3.235443   \nstd      0.416643    0.453690    0.305384    1.094735  ...    0.998862   \nmin      0.000000    0.000000    0.000000    0.000000  ...    1.000000   \n25%      0.000000    0.000000    0.000000    2.000000  ...    3.000000   \n50%      0.000000    1.000000    0.000000    3.000000  ...    3.000000   \n75%      0.000000    1.000000    0.000000    4.000000  ...    4.000000   \nmax      1.000000    1.000000    1.000000    4.000000  ...    5.000000   \n\n          goout_C      Dalc_C      Walc_C    health_C  absences_C        G1_C  \\\ncount  395.000000  395.000000  395.000000  395.000000   395.00000  395.000000   \nmean     3.108861    1.481013    2.291139    3.554430     0.01519    1.592405   \nstd      1.113278    0.890741    1.287897    1.390303     0.14168    0.704188   \nmin      1.000000    1.000000    1.000000    1.000000     0.00000    0.000000   \n25%      2.000000    1.000000    1.000000    3.000000     0.00000    1.000000   \n50%      3.000000    1.000000    2.000000    4.000000     0.00000    2.000000   \n75%      4.000000    2.000000    3.000000    5.000000     0.00000    2.000000   \nmax      5.000000    5.000000    5.000000    5.000000     2.00000    3.000000   \n\n             G2_C        G3_C        rank  \ncount  395.000000  395.000000  395.000000  \nmean     1.524051    1.513924  198.000000  \nstd      0.751515    0.828848  114.170924  \nmin      0.000000    0.000000    1.000000  \n25%      1.000000    1.000000   99.500000  \n50%      2.000000    2.000000  198.000000  \n75%      2.000000    2.000000  296.500000  \nmax      3.000000    3.000000  395.000000  \n\n[8 rows x 37 columns]",
      "text/html": "<div>\n<style scoped>\n    .dataframe tbody tr th:only-of-type {\n        vertical-align: middle;\n    }\n\n    .dataframe tbody tr th {\n        vertical-align: top;\n    }\n\n    .dataframe thead th {\n        text-align: right;\n    }\n</style>\n<table border=\"1\" class=\"dataframe\">\n  <thead>\n    <tr style=\"text-align: right;\">\n      <th></th>\n      <th>G1</th>\n      <th>G2</th>\n      <th>G3</th>\n      <th>school_C</th>\n      <th>sex_C</th>\n      <th>age_C</th>\n      <th>address_C</th>\n      <th>famsize_C</th>\n      <th>Pstatus_C</th>\n      <th>Medu_C</th>\n      <th>...</th>\n      <th>freetime_C</th>\n      <th>goout_C</th>\n      <th>Dalc_C</th>\n      <th>Walc_C</th>\n      <th>health_C</th>\n      <th>absences_C</th>\n      <th>G1_C</th>\n      <th>G2_C</th>\n      <th>G3_C</th>\n      <th>rank</th>\n    </tr>\n  </thead>\n  <tbody>\n    <tr>\n      <th>count</th>\n      <td>395.000000</td>\n      <td>395.000000</td>\n      <td>395.000000</td>\n      <td>395.000000</td>\n      <td>395.000000</td>\n      <td>395.000000</td>\n      <td>395.000000</td>\n      <td>395.000000</td>\n      <td>395.000000</td>\n      <td>395.000000</td>\n      <td>...</td>\n      <td>395.000000</td>\n      <td>395.000000</td>\n      <td>395.000000</td>\n      <td>395.000000</td>\n      <td>395.000000</td>\n      <td>395.00000</td>\n      <td>395.000000</td>\n      <td>395.000000</td>\n      <td>395.000000</td>\n      <td>395.000000</td>\n    </tr>\n    <tr>\n      <th>mean</th>\n      <td>10.908861</td>\n      <td>10.713924</td>\n      <td>10.415190</td>\n      <td>0.116456</td>\n      <td>0.526582</td>\n      <td>0.073418</td>\n      <td>0.222785</td>\n      <td>0.711392</td>\n      <td>0.103797</td>\n      <td>2.749367</td>\n      <td>...</td>\n      <td>3.235443</td>\n      <td>3.108861</td>\n      <td>1.481013</td>\n      <td>2.291139</td>\n      <td>3.554430</td>\n      <td>0.01519</td>\n      <td>1.592405</td>\n      <td>1.524051</td>\n      <td>1.513924</td>\n      <td>198.000000</td>\n    </tr>\n    <tr>\n      <th>std</th>\n      <td>3.319195</td>\n      <td>3.761505</td>\n      <td>4.581443</td>\n      <td>0.321177</td>\n      <td>0.499926</td>\n      <td>0.261152</td>\n      <td>0.416643</td>\n      <td>0.453690</td>\n      <td>0.305384</td>\n      <td>1.094735</td>\n      <td>...</td>\n      <td>0.998862</td>\n      <td>1.113278</td>\n      <td>0.890741</td>\n      <td>1.287897</td>\n      <td>1.390303</td>\n      <td>0.14168</td>\n      <td>0.704188</td>\n      <td>0.751515</td>\n      <td>0.828848</td>\n      <td>114.170924</td>\n    </tr>\n    <tr>\n      <th>min</th>\n      <td>3.000000</td>\n      <td>0.000000</td>\n      <td>0.000000</td>\n      <td>0.000000</td>\n      <td>0.000000</td>\n      <td>0.000000</td>\n      <td>0.000000</td>\n      <td>0.000000</td>\n      <td>0.000000</td>\n      <td>0.000000</td>\n      <td>...</td>\n      <td>1.000000</td>\n      <td>1.000000</td>\n      <td>1.000000</td>\n      <td>1.000000</td>\n      <td>1.000000</td>\n      <td>0.00000</td>\n      <td>0.000000</td>\n      <td>0.000000</td>\n      <td>0.000000</td>\n      <td>1.000000</td>\n    </tr>\n    <tr>\n      <th>25%</th>\n      <td>8.000000</td>\n      <td>9.000000</td>\n      <td>8.000000</td>\n      <td>0.000000</td>\n      <td>0.000000</td>\n      <td>0.000000</td>\n      <td>0.000000</td>\n      <td>0.000000</td>\n      <td>0.000000</td>\n      <td>2.000000</td>\n      <td>...</td>\n      <td>3.000000</td>\n      <td>2.000000</td>\n      <td>1.000000</td>\n      <td>1.000000</td>\n      <td>3.000000</td>\n      <td>0.00000</td>\n      <td>1.000000</td>\n      <td>1.000000</td>\n      <td>1.000000</td>\n      <td>99.500000</td>\n    </tr>\n    <tr>\n      <th>50%</th>\n      <td>11.000000</td>\n      <td>11.000000</td>\n      <td>11.000000</td>\n      <td>0.000000</td>\n      <td>1.000000</td>\n      <td>0.000000</td>\n      <td>0.000000</td>\n      <td>1.000000</td>\n      <td>0.000000</td>\n      <td>3.000000</td>\n      <td>...</td>\n      <td>3.000000</td>\n      <td>3.000000</td>\n      <td>1.000000</td>\n      <td>2.000000</td>\n      <td>4.000000</td>\n      <td>0.00000</td>\n      <td>2.000000</td>\n      <td>2.000000</td>\n      <td>2.000000</td>\n      <td>198.000000</td>\n    </tr>\n    <tr>\n      <th>75%</th>\n      <td>13.000000</td>\n      <td>13.000000</td>\n      <td>14.000000</td>\n      <td>0.000000</td>\n      <td>1.000000</td>\n      <td>0.000000</td>\n      <td>0.000000</td>\n      <td>1.000000</td>\n      <td>0.000000</td>\n      <td>4.000000</td>\n      <td>...</td>\n      <td>4.000000</td>\n      <td>4.000000</td>\n      <td>2.000000</td>\n      <td>3.000000</td>\n      <td>5.000000</td>\n      <td>0.00000</td>\n      <td>2.000000</td>\n      <td>2.000000</td>\n      <td>2.000000</td>\n      <td>296.500000</td>\n    </tr>\n    <tr>\n      <th>max</th>\n      <td>19.000000</td>\n      <td>19.000000</td>\n      <td>20.000000</td>\n      <td>1.000000</td>\n      <td>1.000000</td>\n      <td>1.000000</td>\n      <td>1.000000</td>\n      <td>1.000000</td>\n      <td>1.000000</td>\n      <td>4.000000</td>\n      <td>...</td>\n      <td>5.000000</td>\n      <td>5.000000</td>\n      <td>5.000000</td>\n      <td>5.000000</td>\n      <td>5.000000</td>\n      <td>2.00000</td>\n      <td>3.000000</td>\n      <td>3.000000</td>\n      <td>3.000000</td>\n      <td>395.000000</td>\n    </tr>\n  </tbody>\n</table>\n<p>8 rows × 37 columns</p>\n</div>"
     },
     "execution_count": 31,
     "metadata": {},
     "output_type": "execute_result"
    }
   ],
   "source": [
    "\n",
    "df2.describe()\n"
   ],
   "metadata": {
    "collapsed": false,
    "pycharm": {
     "name": "#%%\n"
    }
   }
  },
  {
   "cell_type": "code",
   "execution_count": null,
   "outputs": [],
   "source": [],
   "metadata": {
    "collapsed": false,
    "pycharm": {
     "name": "#%%\n"
    }
   }
  },
  {
   "cell_type": "code",
   "execution_count": null,
   "outputs": [],
   "source": [],
   "metadata": {
    "collapsed": false,
    "pycharm": {
     "name": "#%%\n"
    }
   }
  },
  {
   "cell_type": "code",
   "execution_count": 1,
   "outputs": [],
   "source": [
    "\n"
   ],
   "metadata": {
    "collapsed": false,
    "pycharm": {
     "name": "#%%\n"
    }
   }
  },
  {
   "cell_type": "code",
   "execution_count": 33,
   "outputs": [],
   "source": [
    "\n",
    "\n",
    "def generateTuple(original_data):\n",
    "    describe_data = original_data.describe()\n",
    "    attributes = original_data.columns.tolist()\n",
    "    tuple = list()\n",
    "    for att in attributes:\n",
    "        min = int(describe_data[att]['min'])\n",
    "        max = int(describe_data[att]['max'])\n",
    "        a = random.randint(min, max)\n",
    "        tuple.append(a)\n",
    "    return tuple\n",
    "\n",
    "\n",
    "def extendDataset(newsize, filepath, output_pre):\n",
    "    global tp\n",
    "    original_data = pd.read_csv(filepath)\n",
    "\n",
    "    oldsize = len(original_data)\n",
    "    num_new_tuples = newsize - oldsize\n",
    "    print(\"num_new_tuples={}\".format(num_new_tuples))\n",
    "    for i in range(num_new_tuples):\n",
    "        tp = generateTuple(original_data)\n",
    "        original_data.loc[len(original_data)] = tp\n",
    "        if i % 1000 == 0:\n",
    "            print(i, tp)\n",
    "    output_path = output_pre + str(newsize) + \".csv\"\n",
    "    original_data.to_csv(output_path, index=False)\n"
   ],
   "metadata": {
    "collapsed": false,
    "pycharm": {
     "name": "#%%\n"
    }
   }
  },
  {
   "cell_type": "code",
   "execution_count": 34,
   "outputs": [],
   "source": [
    "\n",
    "def UpdateAndRank(file_path, ranked_by):\n",
    "    data = pd.read_csv(file_path)\n",
    "\n",
    "    data['rank'] = data[ranked_by].rank(method='first', na_option='bottom', ascending=False)\n",
    "    data = data.sort_values(by='rank', ascending=True)\n",
    "    data.to_csv(file_path, index=False)\n",
    "\n",
    "\n",
    "def ExtendAndRank(size, input_file_path, output_pre, ranked_by_att):\n",
    "    extendDataset(size, input_file_path, output_pre)\n",
    "    new_file_path = output_pre + str(size) + '.csv'\n",
    "    UpdateAndRank(new_file_path, ranked_by_att)\n"
   ],
   "metadata": {
    "collapsed": false,
    "pycharm": {
     "name": "#%%\n"
    }
   }
  },
  {
   "cell_type": "code",
   "execution_count": 36,
   "outputs": [],
   "source": [
    "\n",
    "# 395 rows\n",
    "\n"
   ],
   "metadata": {
    "collapsed": false,
    "pycharm": {
     "name": "#%%\n"
    }
   }
  },
  {
   "cell_type": "code",
   "execution_count": 45,
   "outputs": [
    {
     "name": "stdout",
     "output_type": "stream",
     "text": [
      "num_new_tuples=804\n",
      "0 [18, 10, 3, 1, 1, 1, 0, 0, 0, 1, 1, 0, 1, 1, 1, 1, 3, 1, 1, 1, 1, 1, 1, 0, 1, 1, 3, 4, 2, 3, 3, 3, 0, 0, 1, 3, 62]\n"
     ]
    }
   ],
   "source": [
    "\n",
    "input_file_path = \"student_to_extend.csv\"\n",
    "output_pre = r\"./\"\n",
    "ExtendAndRank(1200, input_file_path, output_pre, 'G3')\n",
    "\n"
   ],
   "metadata": {
    "collapsed": false,
    "pycharm": {
     "name": "#%%\n"
    }
   }
  },
  {
   "cell_type": "markdown",
   "source": [
    "all_attributes = [\"age_binary\",\"sex_binary\",\"race_C\",\"MarriageStatus_C\",\"juv_fel_count_C\",\n",
    "                  \"decile_score_C\", \"juv_misd_count_C\",\"juv_other_count_C\",\"priors_count_C\",\"days_b_screening_arrest_C\",\n",
    "                  \"c_days_from_compas_C\",\"c_charge_degree_C\",\"v_decile_score_C\",\"start_C\",\"end_C\",\n",
    "                  \"event_C\"]\n"
   ],
   "metadata": {
    "collapsed": false,
    "pycharm": {
     "name": "#%% md\n"
    }
   }
  },
  {
   "cell_type": "code",
   "execution_count": 46,
   "outputs": [
    {
     "name": "stdout",
     "output_type": "stream",
     "text": [
      "i=400\n",
      "i=500\n",
      "i=600\n",
      "i=700\n",
      "i=800\n",
      "i=900\n",
      "i=1000\n",
      "i=1100\n",
      "i=1200\n"
     ]
    }
   ],
   "source": [
    "\n",
    "# G1_C, G2_C, G3_C:\n",
    "\n",
    "\n",
    "def grades(x):\n",
    "    if x <= 5:\n",
    "        return 0\n",
    "    elif x <= 10:\n",
    "        return 1\n",
    "    elif x <= 15:\n",
    "        return 2\n",
    "    else:\n",
    "        return 3\n",
    "\n",
    "for i in range(400, 1300, 100):\n",
    "    print(\"i={}\".format(i))\n",
    "    student_data = pd.read_csv(str(i) + \".csv\")\n",
    "\n",
    "    student_data['G1_C'] = student_data['G1'].map(lambda x: grades(x))\n",
    "\n",
    "    student_data['G2_C'] = student_data['G2'].map(lambda x: grades(x))\n",
    "\n",
    "    student_data['G3_C'] = student_data['G3'].map(lambda x: grades(x))\n",
    "\n",
    "\n",
    "\n",
    "\n"
   ],
   "metadata": {
    "collapsed": false,
    "pycharm": {
     "name": "#%%\n"
    }
   }
  },
  {
   "cell_type": "code",
   "execution_count": null,
   "outputs": [],
   "source": [
    "\n",
    "for i in range(10000, 22000, 2000):\n",
    "    print(i)\n",
    "    output_pre = r\"./\"\n",
    "    input_file_path = str(i-2000) + \".csv\"\n",
    "    extendDataset(i, input_file_path, output_pre)\n",
    "\n",
    "\n"
   ],
   "metadata": {
    "collapsed": false,
    "pycharm": {
     "name": "#%%\n"
    }
   }
  },
  {
   "cell_type": "code",
   "execution_count": null,
   "outputs": [],
   "source": [],
   "metadata": {
    "collapsed": false,
    "pycharm": {
     "name": "#%%\n"
    }
   }
  },
  {
   "cell_type": "code",
   "execution_count": null,
   "outputs": [],
   "source": [],
   "metadata": {
    "collapsed": false,
    "pycharm": {
     "name": "#%%\n"
    }
   }
  },
  {
   "cell_type": "markdown",
   "source": [
    "## bucketize"
   ],
   "metadata": {
    "collapsed": false,
    "pycharm": {
     "name": "#%% md\n"
    }
   }
  },
  {
   "cell_type": "code",
   "execution_count": 24,
   "outputs": [],
   "source": [
    "\n",
    "def age(x):\n",
    "    if x <= 30:\n",
    "        return 0\n",
    "    elif x <= 50:\n",
    "        return 1\n",
    "    else:\n",
    "        return 2\n",
    "\n",
    "\n",
    "def K6SUM42(x):\n",
    "    if x == -9:\n",
    "        return 0\n",
    "    elif x == -1:\n",
    "        return -1\n",
    "    elif x < 8:\n",
    "        return 1\n",
    "    elif x < 16:\n",
    "        return 2\n",
    "    else:\n",
    "        return 3\n",
    "\n"
   ],
   "metadata": {
    "collapsed": false,
    "pycharm": {
     "name": "#%%\n"
    }
   }
  },
  {
   "cell_type": "code",
   "execution_count": 45,
   "outputs": [
    {
     "name": "stdout",
     "output_type": "stream",
     "text": [
      "20000\n"
     ]
    }
   ],
   "source": [
    "\n",
    "\n",
    "for i in range(8000, 22000, 2000):\n",
    "    print(i)\n",
    "    input_file_path = str(i) + \".csv\"\n",
    "    df = pd.read_csv(input_file_path)\n",
    "    df['AGE_C'] = [0] * len(df)\n",
    "\n",
    "    df['AGE_C'] = df['AGE'].map(lambda x: age(x))\n",
    "    df['K6SUM42_C'] = [0] * len(df)\n",
    "\n",
    "    df['K6SUM42_C'] = df['K6SUM42'].map(lambda x: K6SUM42(x))\n",
    "    df.to_csv(input_file_path, index=False)\n"
   ],
   "metadata": {
    "collapsed": false,
    "pycharm": {
     "name": "#%%\n"
    }
   }
  },
  {
   "cell_type": "code",
   "execution_count": null,
   "outputs": [],
   "source": [],
   "metadata": {
    "collapsed": false,
    "pycharm": {
     "name": "#%%\n"
    }
   }
  },
  {
   "cell_type": "code",
   "execution_count": null,
   "outputs": [],
   "source": [],
   "metadata": {
    "collapsed": false,
    "pycharm": {
     "name": "#%%\n"
    }
   }
  },
  {
   "cell_type": "markdown",
   "source": [
    "# make mis, TP, TN, FP, FN"
   ],
   "metadata": {
    "collapsed": false,
    "pycharm": {
     "name": "#%% md\n"
    }
   }
  },
  {
   "cell_type": "code",
   "execution_count": 27,
   "outputs": [
    {
     "name": "stdout",
     "output_type": "stream",
     "text": [
      "8000\n",
      "0       1\n",
      "1       0\n",
      "2       0\n",
      "3       1\n",
      "4       0\n",
      "       ..\n",
      "7995    1\n",
      "7996    0\n",
      "7997    0\n",
      "7998    1\n",
      "7999    1\n",
      "Name: ground_truth, Length: 8000, dtype: int64\n",
      "10000\n",
      "0       1\n",
      "1       0\n",
      "2       0\n",
      "3       1\n",
      "4       0\n",
      "       ..\n",
      "9995    0\n",
      "9996    0\n",
      "9997    0\n",
      "9998    0\n",
      "9999    0\n",
      "Name: ground_truth, Length: 10000, dtype: int64\n",
      "12000\n",
      "0        1\n",
      "1        0\n",
      "2        0\n",
      "3        1\n",
      "4        0\n",
      "        ..\n",
      "11995    1\n",
      "11996    1\n",
      "11997    1\n",
      "11998    0\n",
      "11999    1\n",
      "Name: ground_truth, Length: 12000, dtype: int64\n",
      "14000\n",
      "0        1\n",
      "1        0\n",
      "2        0\n",
      "3        1\n",
      "4        0\n",
      "        ..\n",
      "13995    1\n",
      "13996    1\n",
      "13997    0\n",
      "13998    1\n",
      "13999    1\n",
      "Name: ground_truth, Length: 14000, dtype: int64\n",
      "16000\n",
      "0        1\n",
      "1        0\n",
      "2        0\n",
      "3        1\n",
      "4        0\n",
      "        ..\n",
      "15995    0\n",
      "15996    0\n",
      "15997    1\n",
      "15998    0\n",
      "15999    1\n",
      "Name: ground_truth, Length: 16000, dtype: int64\n",
      "18000\n",
      "0        1\n",
      "1        0\n",
      "2        0\n",
      "3        1\n",
      "4        0\n",
      "        ..\n",
      "17995    1\n",
      "17996    1\n",
      "17997    0\n",
      "17998    1\n",
      "17999    1\n",
      "Name: ground_truth, Length: 18000, dtype: int64\n",
      "20000\n",
      "0        1\n",
      "1        0\n",
      "2        0\n",
      "3        1\n",
      "4        0\n",
      "        ..\n",
      "19995    0\n",
      "19996    0\n",
      "19997    1\n",
      "19998    1\n",
      "19999    0\n",
      "Name: ground_truth, Length: 20000, dtype: int64\n"
     ]
    }
   ],
   "source": [
    "\n",
    "for i in range(8000, 22000, 2000):\n",
    "    print(i)\n",
    "    input_file_path = str(i) + '.csv'\n",
    "    df = pd.read_csv(input_file_path)\n",
    "    print(df['ground_truth'])\n",
    "    mis = df[df['prediction'] + df['ground_truth'] == 1].copy()\n",
    "    mis.to_csv(str(i) + '_mis.csv', index = False)\n"
   ],
   "metadata": {
    "collapsed": false,
    "pycharm": {
     "name": "#%%\n"
    }
   }
  },
  {
   "cell_type": "code",
   "execution_count": 39,
   "outputs": [
    {
     "name": "stdout",
     "output_type": "stream",
     "text": [
      "8000\n",
      "10000\n",
      "12000\n",
      "14000\n",
      "16000\n",
      "18000\n",
      "20000\n"
     ]
    }
   ],
   "source": [
    "\n",
    "\n",
    "for i in range(8000, 22000, 2000):\n",
    "    print(i)\n",
    "    input_file_path = str(i) + '.csv'\n",
    "    df = pd.read_csv(input_file_path)\n",
    "    TP = df[(df['prediction'] == 1) & (df['ground_truth'] == 1)].copy()\n",
    "    TP.to_csv(str(i) + '_TP.csv', index = False)\n",
    "    TN = df[(df['prediction'] == 0) & (df['ground_truth'] == 0)].copy()\n",
    "    TN.to_csv(str(i) + '_TN.csv', index = False)\n",
    "    FP = df[(df['prediction'] == 1) & (df['ground_truth'] == 0)].copy()\n",
    "    FP.to_csv(str(i) + '_FP.csv', index = False)\n",
    "    FN = df[(df['prediction'] == 0) & (df['ground_truth'] == 1)].copy()\n",
    "    FN.to_csv(str(i) + '_FN.csv', index = False)\n"
   ],
   "metadata": {
    "collapsed": false,
    "pycharm": {
     "name": "#%%\n"
    }
   }
  },
  {
   "cell_type": "code",
   "execution_count": null,
   "outputs": [],
   "source": [],
   "metadata": {
    "collapsed": false,
    "pycharm": {
     "name": "#%%\n"
    }
   }
  },
  {
   "cell_type": "code",
   "execution_count": null,
   "outputs": [],
   "source": [],
   "metadata": {
    "collapsed": false,
    "pycharm": {
     "name": "#%%\n"
    }
   }
  },
  {
   "cell_type": "code",
   "execution_count": null,
   "outputs": [],
   "source": [],
   "metadata": {
    "collapsed": false,
    "pycharm": {
     "name": "#%%\n"
    }
   }
  },
  {
   "cell_type": "code",
   "execution_count": null,
   "outputs": [],
   "source": [],
   "metadata": {
    "collapsed": false,
    "pycharm": {
     "name": "#%%\n"
    }
   }
  }
 ],
 "metadata": {
  "kernelspec": {
   "display_name": "Python 3",
   "language": "python",
   "name": "python3"
  },
  "language_info": {
   "codemirror_mode": {
    "name": "ipython",
    "version": 2
   },
   "file_extension": ".py",
   "mimetype": "text/x-python",
   "name": "python",
   "nbconvert_exporter": "python",
   "pygments_lexer": "ipython2",
   "version": "2.7.6"
  }
 },
 "nbformat": 4,
 "nbformat_minor": 0
}