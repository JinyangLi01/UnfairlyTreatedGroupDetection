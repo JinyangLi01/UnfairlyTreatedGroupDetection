{
 "cells": [
  {
   "cell_type": "raw",
   "metadata": {},
   "source": [
    "This notebook is for data preprocessing"
   ]
  },
  {
   "cell_type": "code",
   "execution_count": 2,
   "metadata": {},
   "outputs": [],
   "source": [
    "import numpy as np \n",
    "import pandas as pd \n",
    "import csv\n",
    "%matplotlib inline\n",
    "from sklearn.tree import DecisionTreeClassifier\n",
    "from sklearn.model_selection import train_test_split"
   ]
  },
  {
   "cell_type": "code",
   "execution_count": 28,
   "metadata": {},
   "outputs": [
    {
     "data": {
      "text/plain": [
       "(45222, 14)"
      ]
     },
     "execution_count": 28,
     "metadata": {},
     "output_type": "execute_result"
    }
   ],
   "source": [
    "data = pd.read_csv(\"CleanAdult.csv\")\n",
    "data.shape"
   ]
  },
  {
   "cell_type": "code",
   "execution_count": 48,
   "metadata": {},
   "outputs": [
    {
     "data": {
      "text/plain": [
       "pandas.core.frame.DataFrame"
      ]
     },
     "execution_count": 48,
     "metadata": {},
     "output_type": "execute_result"
    }
   ],
   "source": [
    "type(data)"
   ]
  },
  {
   "cell_type": "markdown",
   "metadata": {},
   "source": [
    "# group some non-discrete numbers"
   ]
  },
  {
   "cell_type": "code",
   "execution_count": 18,
   "metadata": {},
   "outputs": [],
   "source": [
    "for index, row in data.iterrows():\n",
    "    if row['age'] < 40:\n",
    "        row['age'] = 0\n",
    "    elif row['age'] < 60:\n",
    "        row['age'] = 1\n",
    "    elif row['age'] < 80:\n",
    "        row['age'] = 2\n",
    "    else:\n",
    "        row['age'] = 3\n",
    "        \n",
    "    "
   ]
  },
  {
   "cell_type": "code",
   "execution_count": 19,
   "metadata": {},
   "outputs": [],
   "source": [
    "for index, row in data.iterrows():\n",
    "    if row['capital-gain'] == 0:\n",
    "        row['capital-gain'] = 0\n",
    "    elif row['capital-gain'] < 100:\n",
    "        row['capital-gain'] = 1\n",
    "    elif row['capital-gain'] < 200:\n",
    "        row['capital-gain'] = 2\n",
    "    elif row['capital-gain'] < 1000:\n",
    "        row['capital-gain'] = 3\n",
    "    else:\n",
    "        row['capital-gain'] = 4\n",
    "        \n",
    "    "
   ]
  },
  {
   "cell_type": "code",
   "execution_count": 20,
   "metadata": {},
   "outputs": [],
   "source": [
    "for index, row in data.iterrows():\n",
    "    if row['capital-loss'] == 0:\n",
    "        row['capital-loss'] = 0\n",
    "    elif row['capital-loss'] < 50:\n",
    "        row['capital-loss'] = 1\n",
    "    elif row['capital-loss'] < 100:\n",
    "        row['capital-loss'] = 2\n",
    "    else:\n",
    "        row['capital-loss'] = 3"
   ]
  },
  {
   "cell_type": "code",
   "execution_count": 22,
   "metadata": {},
   "outputs": [],
   "source": [
    "for index, row in data.iterrows():\n",
    "    if row['hours-per-week'] < 20:\n",
    "        row['hours-per-week'] = 0\n",
    "    elif row['hours-per-week'] < 40:\n",
    "        row['hours-per-week'] = 1\n",
    "    elif row['hours-per-week'] < 60:\n",
    "        row['hours-per-week'] = 2\n",
    "    elif row['hours-per-week'] < 80:\n",
    "        row['hours-per-week'] = 3\n",
    "    else:\n",
    "        row['hours-per-week'] = 4"
   ]
  },
  {
   "cell_type": "code",
   "execution_count": 23,
   "metadata": {},
   "outputs": [
    {
     "name": "stdout",
     "output_type": "stream",
     "text": [
      "       age  workclass  education  educational-num  marital-status  occupation  \\\n",
      "0        0          2          1                7               4           6   \n",
      "1        0          2         11                9               2           4   \n",
      "2        0          1          7               12               2          10   \n",
      "3        1          2         15               10               2           6   \n",
      "4        0          2          0                6               4           7   \n",
      "...    ...        ...        ...              ...             ...         ...   \n",
      "45217    0          2          7               12               2          12   \n",
      "45218    1          2         11                9               2           6   \n",
      "45219    1          2         11                9               6           0   \n",
      "45220    0          2         11                9               4           0   \n",
      "45221    1          3         11                9               2           3   \n",
      "\n",
      "       relationship  race  gender  capital-gain  capital-loss  hours-per-week  \\\n",
      "0                 3     2       1             0             0               2   \n",
      "1                 0     4       1             0             0               2   \n",
      "2                 0     4       1             0             0               2   \n",
      "3                 0     2       1             4             0               2   \n",
      "4                 1     4       1             0             0               1   \n",
      "...             ...   ...     ...           ...           ...             ...   \n",
      "45217             5     4       0             0             0               1   \n",
      "45218             0     4       1             0             0               2   \n",
      "45219             4     4       0             0             0               2   \n",
      "45220             3     4       1             0             0               1   \n",
      "45221             5     4       0             4             0               2   \n",
      "\n",
      "       native-country  income  \n",
      "0                  38       0  \n",
      "1                  38       0  \n",
      "2                  38       1  \n",
      "3                  38       1  \n",
      "4                  38       0  \n",
      "...               ...     ...  \n",
      "45217              38       0  \n",
      "45218              38       1  \n",
      "45219              38       0  \n",
      "45220              38       0  \n",
      "45221              38       1  \n",
      "\n",
      "[45222 rows x 14 columns]\n"
     ]
    }
   ],
   "source": [
    "print(data)"
   ]
  },
  {
   "cell_type": "code",
   "execution_count": 26,
   "metadata": {},
   "outputs": [],
   "source": [
    "### out put clean data into CleanAdult.csv\n",
    "data.to_csv (r'CleanAdult2.csv', index = False, header=True)"
   ]
  },
  {
   "cell_type": "markdown",
   "metadata": {},
   "source": [
    "# Prediction"
   ]
  },
  {
   "cell_type": "code",
   "execution_count": 29,
   "metadata": {},
   "outputs": [
    {
     "name": "stdout",
     "output_type": "stream",
     "text": [
      "4325\n",
      "80.87214187784706\n"
     ]
    }
   ],
   "source": [
    "predictors = ['age','workclass','education','educational-num',\n",
    "              'marital-status', 'occupation','relationship','race','gender',\n",
    "              'capital-gain','capital-loss','hours-per-week', 'native-country']\n",
    "\n",
    "high_income = data[data['income'] == 1]\n",
    "low_income = data[data['income'] == 0]\n",
    "\n",
    "\n",
    "# splitting data arrays into two subsets: for training data and for testing data\n",
    "X_train, X_test, y_train, y_test = train_test_split(data[predictors], data['income'], test_size=0.5, random_state=1)\n",
    "\n",
    "clf = DecisionTreeClassifier()\n",
    "clf = clf.fit(X_train, y_train)\n",
    "\n",
    "num = 0\n",
    "for index, row in X_test.iterrows():\n",
    "    if clf.predict([row.to_list()]) != y_test.loc[index]:\n",
    "        num = num + 1\n",
    "        #print ('-----------------')\n",
    "        #print (str(num) + '\\n')\n",
    "        #print (row)\n",
    "        \n",
    "print(num)\n",
    "OverallAccuracy = (1-num/len(X_test))*100 # accuracy\n",
    "print(OverallAccuracy)\n",
    "AccThreshold = OverallAccuracy - 15 # Low accuracy threshold\n",
    "NumThreshold = 10 # minority group size threshold"
   ]
  },
  {
   "cell_type": "markdown",
   "metadata": {},
   "source": [
    "# Preparation"
   ]
  },
  {
   "cell_type": "code",
   "execution_count": 30,
   "metadata": {},
   "outputs": [
    {
     "data": {
      "text/html": [
       "<div>\n",
       "<style scoped>\n",
       "    .dataframe tbody tr th:only-of-type {\n",
       "        vertical-align: middle;\n",
       "    }\n",
       "\n",
       "    .dataframe tbody tr th {\n",
       "        vertical-align: top;\n",
       "    }\n",
       "\n",
       "    .dataframe thead th {\n",
       "        text-align: right;\n",
       "    }\n",
       "</style>\n",
       "<table border=\"1\" class=\"dataframe\">\n",
       "  <thead>\n",
       "    <tr style=\"text-align: right;\">\n",
       "      <th></th>\n",
       "      <th>age</th>\n",
       "      <th>workclass</th>\n",
       "      <th>education</th>\n",
       "      <th>educational-num</th>\n",
       "      <th>marital-status</th>\n",
       "      <th>occupation</th>\n",
       "      <th>relationship</th>\n",
       "      <th>race</th>\n",
       "      <th>gender</th>\n",
       "      <th>capital-gain</th>\n",
       "      <th>capital-loss</th>\n",
       "      <th>hours-per-week</th>\n",
       "      <th>native-country</th>\n",
       "      <th>act</th>\n",
       "    </tr>\n",
       "  </thead>\n",
       "  <tbody>\n",
       "    <tr>\n",
       "      <th>count</th>\n",
       "      <td>4325.000000</td>\n",
       "      <td>4325.000000</td>\n",
       "      <td>4325.000000</td>\n",
       "      <td>4325.000000</td>\n",
       "      <td>4325.000000</td>\n",
       "      <td>4325.000000</td>\n",
       "      <td>4325.000000</td>\n",
       "      <td>4325.000000</td>\n",
       "      <td>4325.000000</td>\n",
       "      <td>4325.000000</td>\n",
       "      <td>4325.000000</td>\n",
       "      <td>4325.000000</td>\n",
       "      <td>4325.000000</td>\n",
       "      <td>4325.000000</td>\n",
       "    </tr>\n",
       "    <tr>\n",
       "      <th>mean</th>\n",
       "      <td>43.088555</td>\n",
       "      <td>2.247399</td>\n",
       "      <td>10.695260</td>\n",
       "      <td>10.787514</td>\n",
       "      <td>2.137572</td>\n",
       "      <td>6.303353</td>\n",
       "      <td>0.840462</td>\n",
       "      <td>3.743584</td>\n",
       "      <td>0.812023</td>\n",
       "      <td>209.930405</td>\n",
       "      <td>55.022890</td>\n",
       "      <td>44.486705</td>\n",
       "      <td>36.313988</td>\n",
       "      <td>0.496879</td>\n",
       "    </tr>\n",
       "    <tr>\n",
       "      <th>std</th>\n",
       "      <td>11.033264</td>\n",
       "      <td>1.068566</td>\n",
       "      <td>3.175427</td>\n",
       "      <td>2.429378</td>\n",
       "      <td>1.077602</td>\n",
       "      <td>4.150666</td>\n",
       "      <td>1.588138</td>\n",
       "      <td>0.776421</td>\n",
       "      <td>0.390739</td>\n",
       "      <td>2091.187494</td>\n",
       "      <td>318.380758</td>\n",
       "      <td>11.828431</td>\n",
       "      <td>6.384634</td>\n",
       "      <td>0.500048</td>\n",
       "    </tr>\n",
       "    <tr>\n",
       "      <th>min</th>\n",
       "      <td>19.000000</td>\n",
       "      <td>0.000000</td>\n",
       "      <td>0.000000</td>\n",
       "      <td>1.000000</td>\n",
       "      <td>0.000000</td>\n",
       "      <td>0.000000</td>\n",
       "      <td>0.000000</td>\n",
       "      <td>0.000000</td>\n",
       "      <td>0.000000</td>\n",
       "      <td>0.000000</td>\n",
       "      <td>0.000000</td>\n",
       "      <td>2.000000</td>\n",
       "      <td>0.000000</td>\n",
       "      <td>0.000000</td>\n",
       "    </tr>\n",
       "    <tr>\n",
       "      <th>25%</th>\n",
       "      <td>35.000000</td>\n",
       "      <td>2.000000</td>\n",
       "      <td>9.000000</td>\n",
       "      <td>9.000000</td>\n",
       "      <td>2.000000</td>\n",
       "      <td>3.000000</td>\n",
       "      <td>0.000000</td>\n",
       "      <td>4.000000</td>\n",
       "      <td>1.000000</td>\n",
       "      <td>0.000000</td>\n",
       "      <td>0.000000</td>\n",
       "      <td>40.000000</td>\n",
       "      <td>38.000000</td>\n",
       "      <td>0.000000</td>\n",
       "    </tr>\n",
       "    <tr>\n",
       "      <th>50%</th>\n",
       "      <td>42.000000</td>\n",
       "      <td>2.000000</td>\n",
       "      <td>11.000000</td>\n",
       "      <td>10.000000</td>\n",
       "      <td>2.000000</td>\n",
       "      <td>6.000000</td>\n",
       "      <td>0.000000</td>\n",
       "      <td>4.000000</td>\n",
       "      <td>1.000000</td>\n",
       "      <td>0.000000</td>\n",
       "      <td>0.000000</td>\n",
       "      <td>40.000000</td>\n",
       "      <td>38.000000</td>\n",
       "      <td>0.000000</td>\n",
       "    </tr>\n",
       "    <tr>\n",
       "      <th>75%</th>\n",
       "      <td>50.000000</td>\n",
       "      <td>2.000000</td>\n",
       "      <td>12.000000</td>\n",
       "      <td>13.000000</td>\n",
       "      <td>2.000000</td>\n",
       "      <td>10.000000</td>\n",
       "      <td>1.000000</td>\n",
       "      <td>4.000000</td>\n",
       "      <td>1.000000</td>\n",
       "      <td>0.000000</td>\n",
       "      <td>0.000000</td>\n",
       "      <td>50.000000</td>\n",
       "      <td>38.000000</td>\n",
       "      <td>1.000000</td>\n",
       "    </tr>\n",
       "    <tr>\n",
       "      <th>max</th>\n",
       "      <td>90.000000</td>\n",
       "      <td>6.000000</td>\n",
       "      <td>15.000000</td>\n",
       "      <td>16.000000</td>\n",
       "      <td>6.000000</td>\n",
       "      <td>13.000000</td>\n",
       "      <td>5.000000</td>\n",
       "      <td>4.000000</td>\n",
       "      <td>1.000000</td>\n",
       "      <td>99999.000000</td>\n",
       "      <td>3175.000000</td>\n",
       "      <td>99.000000</td>\n",
       "      <td>39.000000</td>\n",
       "      <td>1.000000</td>\n",
       "    </tr>\n",
       "  </tbody>\n",
       "</table>\n",
       "</div>"
      ],
      "text/plain": [
       "               age    workclass    education  educational-num  marital-status  \\\n",
       "count  4325.000000  4325.000000  4325.000000      4325.000000     4325.000000   \n",
       "mean     43.088555     2.247399    10.695260        10.787514        2.137572   \n",
       "std      11.033264     1.068566     3.175427         2.429378        1.077602   \n",
       "min      19.000000     0.000000     0.000000         1.000000        0.000000   \n",
       "25%      35.000000     2.000000     9.000000         9.000000        2.000000   \n",
       "50%      42.000000     2.000000    11.000000        10.000000        2.000000   \n",
       "75%      50.000000     2.000000    12.000000        13.000000        2.000000   \n",
       "max      90.000000     6.000000    15.000000        16.000000        6.000000   \n",
       "\n",
       "        occupation  relationship         race       gender  capital-gain  \\\n",
       "count  4325.000000   4325.000000  4325.000000  4325.000000   4325.000000   \n",
       "mean      6.303353      0.840462     3.743584     0.812023    209.930405   \n",
       "std       4.150666      1.588138     0.776421     0.390739   2091.187494   \n",
       "min       0.000000      0.000000     0.000000     0.000000      0.000000   \n",
       "25%       3.000000      0.000000     4.000000     1.000000      0.000000   \n",
       "50%       6.000000      0.000000     4.000000     1.000000      0.000000   \n",
       "75%      10.000000      1.000000     4.000000     1.000000      0.000000   \n",
       "max      13.000000      5.000000     4.000000     1.000000  99999.000000   \n",
       "\n",
       "       capital-loss  hours-per-week  native-country          act  \n",
       "count   4325.000000     4325.000000     4325.000000  4325.000000  \n",
       "mean      55.022890       44.486705       36.313988     0.496879  \n",
       "std      318.380758       11.828431        6.384634     0.500048  \n",
       "min        0.000000        2.000000        0.000000     0.000000  \n",
       "25%        0.000000       40.000000       38.000000     0.000000  \n",
       "50%        0.000000       40.000000       38.000000     0.000000  \n",
       "75%        0.000000       50.000000       38.000000     1.000000  \n",
       "max     3175.000000       99.000000       39.000000     1.000000  "
      ]
     },
     "execution_count": 30,
     "metadata": {},
     "output_type": "execute_result"
    }
   ],
   "source": [
    "X_test_res = X_test.copy()\n",
    "X_test_res['act'] = y_test # actual result\n",
    "X_test_res['pred'] = X_test.apply(lambda x: clf.predict([x.to_list()]), axis=1)\n",
    "mis_class=X_test_res.loc[X_test_res['act']!=X_test_res['pred']]\n",
    "#mis_class=X_test_res.loc[X_test_res['act']!=X_test_res['pred']]\n",
    "mis_class.describe()"
   ]
  },
  {
   "cell_type": "code",
   "execution_count": 3,
   "metadata": {},
   "outputs": [
    {
     "data": {
      "text/plain": [
       "(4340, 15)"
      ]
     },
     "execution_count": 3,
     "metadata": {},
     "output_type": "execute_result"
    }
   ],
   "source": [
    "mc = pd.read_csv(\"miss_class.csv\")\n",
    "mc.shape"
   ]
  },
  {
   "cell_type": "code",
   "execution_count": null,
   "metadata": {},
   "outputs": [],
   "source": [
    "for i in range(4340):\n",
    "    mc.set_value"
   ]
  },
  {
   "cell_type": "code",
   "execution_count": 18,
   "metadata": {},
   "outputs": [],
   "source": [
    "def age(x):\n",
    "    if x < 40:\n",
    "        return 0\n",
    "    elif x < 60:\n",
    "        return 1\n",
    "    elif x < 80:\n",
    "        return 2\n",
    "    else:\n",
    "        return 3\n",
    "\n",
    "        \n",
    "    "
   ]
  },
  {
   "cell_type": "code",
   "execution_count": 19,
   "metadata": {},
   "outputs": [
    {
     "name": "stdout",
     "output_type": "stream",
     "text": [
      "0       56\n",
      "1       40\n",
      "2       43\n",
      "3       34\n",
      "4       33\n",
      "        ..\n",
      "4335    39\n",
      "4336    66\n",
      "4337    48\n",
      "4338    53\n",
      "4339    27\n",
      "Name: age, Length: 4340, dtype: int64\n",
      "0       1\n",
      "1       1\n",
      "2       1\n",
      "3       0\n",
      "4       0\n",
      "       ..\n",
      "4335    0\n",
      "4336    2\n",
      "4337    1\n",
      "4338    1\n",
      "4339    0\n",
      "Name: age, Length: 4340, dtype: int64\n"
     ]
    }
   ],
   "source": [
    "print(mc['age'])\n",
    "mc['age'] = mc['age'].map(lambda x: age(x))\n",
    "print(mc['age'])"
   ]
  },
  {
   "cell_type": "code",
   "execution_count": 20,
   "metadata": {},
   "outputs": [],
   "source": [
    "     \n",
    "def capitalgain(x):\n",
    "    if x == 0:\n",
    "        return 0\n",
    "    elif x < 100:\n",
    "        return 1\n",
    "    elif x < 200:\n",
    "        return 2\n",
    "    elif x < 1000:\n",
    "        return 3\n",
    "    else:\n",
    "        return 4\n",
    "\n",
    "    "
   ]
  },
  {
   "cell_type": "code",
   "execution_count": 21,
   "metadata": {},
   "outputs": [
    {
     "name": "stdout",
     "output_type": "stream",
     "text": [
      "0          0\n",
      "1          0\n",
      "2          0\n",
      "3          0\n",
      "4          0\n",
      "        ... \n",
      "4335       0\n",
      "4336       0\n",
      "4337       0\n",
      "4338       0\n",
      "4339    4064\n",
      "Name: capital-gain, Length: 4340, dtype: int64\n",
      "0       0\n",
      "1       0\n",
      "2       0\n",
      "3       0\n",
      "4       0\n",
      "       ..\n",
      "4335    0\n",
      "4336    0\n",
      "4337    0\n",
      "4338    0\n",
      "4339    4\n",
      "Name: capital-gain, Length: 4340, dtype: int64\n"
     ]
    }
   ],
   "source": [
    "print(mc['capital-gain'])\n",
    "mc['capital-gain'] = mc['capital-gain'].map(lambda x: capitalgain(x))\n",
    "print(mc['capital-gain'])"
   ]
  },
  {
   "cell_type": "code",
   "execution_count": 22,
   "metadata": {},
   "outputs": [],
   "source": [
    "     \n",
    "def capitalloss(x):\n",
    "    if x == 0:\n",
    "        return 0\n",
    "    elif x < 50:\n",
    "        return 1\n",
    "    elif x < 100:\n",
    "        return 2\n",
    "    else:\n",
    "        return 3\n"
   ]
  },
  {
   "cell_type": "code",
   "execution_count": 23,
   "metadata": {},
   "outputs": [
    {
     "name": "stdout",
     "output_type": "stream",
     "text": [
      "0          0\n",
      "1       1340\n",
      "2          0\n",
      "3          0\n",
      "4          0\n",
      "        ... \n",
      "4335       0\n",
      "4336    1258\n",
      "4337       0\n",
      "4338       0\n",
      "4339       0\n",
      "Name: capital-loss, Length: 4340, dtype: int64\n",
      "0       0\n",
      "1       3\n",
      "2       0\n",
      "3       0\n",
      "4       0\n",
      "       ..\n",
      "4335    0\n",
      "4336    3\n",
      "4337    0\n",
      "4338    0\n",
      "4339    0\n",
      "Name: capital-loss, Length: 4340, dtype: int64\n"
     ]
    }
   ],
   "source": [
    "print(mc['capital-loss'])\n",
    "mc['capital-loss'] = mc['capital-loss'].map(lambda x: capitalloss(x))\n",
    "print(mc['capital-loss'])"
   ]
  },
  {
   "cell_type": "code",
   "execution_count": 26,
   "metadata": {},
   "outputs": [],
   "source": [
    "def hoursperweek(x):\n",
    "    if x < 20:\n",
    "        return 0\n",
    "    elif x < 40:\n",
    "        return 1\n",
    "    elif x < 60:\n",
    "        return 2\n",
    "    elif x < 80:\n",
    "        return 3\n",
    "    else:\n",
    "        return 4\n"
   ]
  },
  {
   "cell_type": "code",
   "execution_count": 27,
   "metadata": {},
   "outputs": [
    {
     "name": "stdout",
     "output_type": "stream",
     "text": [
      "0       40\n",
      "1       40\n",
      "2       99\n",
      "3       50\n",
      "4       45\n",
      "        ..\n",
      "4335    50\n",
      "4336    20\n",
      "4337    40\n",
      "4338    70\n",
      "4339    40\n",
      "Name: hours-per-week, Length: 4340, dtype: int64\n",
      "0       2\n",
      "1       2\n",
      "2       4\n",
      "3       2\n",
      "4       2\n",
      "       ..\n",
      "4335    2\n",
      "4336    1\n",
      "4337    2\n",
      "4338    3\n",
      "4339    2\n",
      "Name: hours-per-week, Length: 4340, dtype: int64\n"
     ]
    }
   ],
   "source": [
    "print(mc['hours-per-week'])\n",
    "mc['hours-per-week'] = mc['hours-per-week'].map(lambda x: hoursperweek(x))\n",
    "print(mc['hours-per-week'])"
   ]
  },
  {
   "cell_type": "code",
   "execution_count": null,
   "metadata": {},
   "outputs": [],
   "source": []
  },
  {
   "cell_type": "code",
   "execution_count": null,
   "metadata": {},
   "outputs": [],
   "source": []
  },
  {
   "cell_type": "code",
   "execution_count": 28,
   "metadata": {},
   "outputs": [],
   "source": [
    "\n",
    "### out put clean data into CleanAdult.csv\n",
    "mc.to_csv (r'miss_class2.csv', index = False, header=True)"
   ]
  },
  {
   "cell_type": "code",
   "execution_count": 37,
   "metadata": {},
   "outputs": [
    {
     "data": {
      "text/html": [
       "<div>\n",
       "<style scoped>\n",
       "    .dataframe tbody tr th:only-of-type {\n",
       "        vertical-align: middle;\n",
       "    }\n",
       "\n",
       "    .dataframe tbody tr th {\n",
       "        vertical-align: top;\n",
       "    }\n",
       "\n",
       "    .dataframe thead th {\n",
       "        text-align: right;\n",
       "    }\n",
       "</style>\n",
       "<table border=\"1\" class=\"dataframe\">\n",
       "  <thead>\n",
       "    <tr style=\"text-align: right;\">\n",
       "      <th></th>\n",
       "      <th>age</th>\n",
       "      <th>workclass</th>\n",
       "      <th>education</th>\n",
       "      <th>educational-num</th>\n",
       "      <th>marital-status</th>\n",
       "      <th>occupation</th>\n",
       "      <th>relationship</th>\n",
       "      <th>race</th>\n",
       "      <th>gender</th>\n",
       "      <th>capital-gain</th>\n",
       "      <th>capital-loss</th>\n",
       "      <th>hours-per-week</th>\n",
       "      <th>native-country</th>\n",
       "      <th>act</th>\n",
       "    </tr>\n",
       "  </thead>\n",
       "  <tbody>\n",
       "    <tr>\n",
       "      <th>count</th>\n",
       "      <td>4340.000000</td>\n",
       "      <td>4340.000000</td>\n",
       "      <td>4340.000000</td>\n",
       "      <td>4340.000000</td>\n",
       "      <td>4340.000000</td>\n",
       "      <td>4340.000000</td>\n",
       "      <td>4340.000000</td>\n",
       "      <td>4340.000000</td>\n",
       "      <td>4340.000000</td>\n",
       "      <td>4340.000000</td>\n",
       "      <td>4340.000000</td>\n",
       "      <td>4340.000000</td>\n",
       "      <td>4340.000000</td>\n",
       "      <td>4340.000000</td>\n",
       "    </tr>\n",
       "    <tr>\n",
       "      <th>mean</th>\n",
       "      <td>0.657604</td>\n",
       "      <td>2.242166</td>\n",
       "      <td>10.715207</td>\n",
       "      <td>10.805760</td>\n",
       "      <td>2.131106</td>\n",
       "      <td>6.300000</td>\n",
       "      <td>0.858065</td>\n",
       "      <td>3.743088</td>\n",
       "      <td>0.808065</td>\n",
       "      <td>0.146544</td>\n",
       "      <td>0.090553</td>\n",
       "      <td>2.013594</td>\n",
       "      <td>36.329954</td>\n",
       "      <td>0.494931</td>\n",
       "    </tr>\n",
       "    <tr>\n",
       "      <th>std</th>\n",
       "      <td>0.627994</td>\n",
       "      <td>1.068142</td>\n",
       "      <td>3.174135</td>\n",
       "      <td>2.408848</td>\n",
       "      <td>1.069858</td>\n",
       "      <td>4.157129</td>\n",
       "      <td>1.605517</td>\n",
       "      <td>0.776549</td>\n",
       "      <td>0.393868</td>\n",
       "      <td>0.751552</td>\n",
       "      <td>0.513342</td>\n",
       "      <td>0.595016</td>\n",
       "      <td>6.375431</td>\n",
       "      <td>0.500032</td>\n",
       "    </tr>\n",
       "    <tr>\n",
       "      <th>min</th>\n",
       "      <td>0.000000</td>\n",
       "      <td>0.000000</td>\n",
       "      <td>0.000000</td>\n",
       "      <td>1.000000</td>\n",
       "      <td>0.000000</td>\n",
       "      <td>0.000000</td>\n",
       "      <td>0.000000</td>\n",
       "      <td>0.000000</td>\n",
       "      <td>0.000000</td>\n",
       "      <td>0.000000</td>\n",
       "      <td>0.000000</td>\n",
       "      <td>0.000000</td>\n",
       "      <td>0.000000</td>\n",
       "      <td>0.000000</td>\n",
       "    </tr>\n",
       "    <tr>\n",
       "      <th>25%</th>\n",
       "      <td>0.000000</td>\n",
       "      <td>2.000000</td>\n",
       "      <td>9.000000</td>\n",
       "      <td>9.000000</td>\n",
       "      <td>2.000000</td>\n",
       "      <td>3.000000</td>\n",
       "      <td>0.000000</td>\n",
       "      <td>4.000000</td>\n",
       "      <td>1.000000</td>\n",
       "      <td>0.000000</td>\n",
       "      <td>0.000000</td>\n",
       "      <td>2.000000</td>\n",
       "      <td>38.000000</td>\n",
       "      <td>0.000000</td>\n",
       "    </tr>\n",
       "    <tr>\n",
       "      <th>50%</th>\n",
       "      <td>1.000000</td>\n",
       "      <td>2.000000</td>\n",
       "      <td>11.000000</td>\n",
       "      <td>10.000000</td>\n",
       "      <td>2.000000</td>\n",
       "      <td>6.000000</td>\n",
       "      <td>0.000000</td>\n",
       "      <td>4.000000</td>\n",
       "      <td>1.000000</td>\n",
       "      <td>0.000000</td>\n",
       "      <td>0.000000</td>\n",
       "      <td>2.000000</td>\n",
       "      <td>38.000000</td>\n",
       "      <td>0.000000</td>\n",
       "    </tr>\n",
       "    <tr>\n",
       "      <th>75%</th>\n",
       "      <td>1.000000</td>\n",
       "      <td>2.000000</td>\n",
       "      <td>12.000000</td>\n",
       "      <td>13.000000</td>\n",
       "      <td>2.000000</td>\n",
       "      <td>10.000000</td>\n",
       "      <td>1.000000</td>\n",
       "      <td>4.000000</td>\n",
       "      <td>1.000000</td>\n",
       "      <td>0.000000</td>\n",
       "      <td>0.000000</td>\n",
       "      <td>2.000000</td>\n",
       "      <td>38.000000</td>\n",
       "      <td>1.000000</td>\n",
       "    </tr>\n",
       "    <tr>\n",
       "      <th>max</th>\n",
       "      <td>3.000000</td>\n",
       "      <td>6.000000</td>\n",
       "      <td>15.000000</td>\n",
       "      <td>16.000000</td>\n",
       "      <td>6.000000</td>\n",
       "      <td>13.000000</td>\n",
       "      <td>5.000000</td>\n",
       "      <td>4.000000</td>\n",
       "      <td>1.000000</td>\n",
       "      <td>4.000000</td>\n",
       "      <td>3.000000</td>\n",
       "      <td>4.000000</td>\n",
       "      <td>39.000000</td>\n",
       "      <td>1.000000</td>\n",
       "    </tr>\n",
       "  </tbody>\n",
       "</table>\n",
       "</div>"
      ],
      "text/plain": [
       "               age    workclass    education  educational-num  marital-status  \\\n",
       "count  4340.000000  4340.000000  4340.000000      4340.000000     4340.000000   \n",
       "mean      0.657604     2.242166    10.715207        10.805760        2.131106   \n",
       "std       0.627994     1.068142     3.174135         2.408848        1.069858   \n",
       "min       0.000000     0.000000     0.000000         1.000000        0.000000   \n",
       "25%       0.000000     2.000000     9.000000         9.000000        2.000000   \n",
       "50%       1.000000     2.000000    11.000000        10.000000        2.000000   \n",
       "75%       1.000000     2.000000    12.000000        13.000000        2.000000   \n",
       "max       3.000000     6.000000    15.000000        16.000000        6.000000   \n",
       "\n",
       "        occupation  relationship         race       gender  capital-gain  \\\n",
       "count  4340.000000   4340.000000  4340.000000  4340.000000   4340.000000   \n",
       "mean      6.300000      0.858065     3.743088     0.808065      0.146544   \n",
       "std       4.157129      1.605517     0.776549     0.393868      0.751552   \n",
       "min       0.000000      0.000000     0.000000     0.000000      0.000000   \n",
       "25%       3.000000      0.000000     4.000000     1.000000      0.000000   \n",
       "50%       6.000000      0.000000     4.000000     1.000000      0.000000   \n",
       "75%      10.000000      1.000000     4.000000     1.000000      0.000000   \n",
       "max      13.000000      5.000000     4.000000     1.000000      4.000000   \n",
       "\n",
       "       capital-loss  hours-per-week  native-country          act  \n",
       "count   4340.000000     4340.000000     4340.000000  4340.000000  \n",
       "mean       0.090553        2.013594       36.329954     0.494931  \n",
       "std        0.513342        0.595016        6.375431     0.500032  \n",
       "min        0.000000        0.000000        0.000000     0.000000  \n",
       "25%        0.000000        2.000000       38.000000     0.000000  \n",
       "50%        0.000000        2.000000       38.000000     0.000000  \n",
       "75%        0.000000        2.000000       38.000000     1.000000  \n",
       "max        3.000000        4.000000       39.000000     1.000000  "
      ]
     },
     "execution_count": 37,
     "metadata": {},
     "output_type": "execute_result"
    }
   ],
   "source": [
    "mcdes = mc.describe()\n",
    "mcdes"
   ]
  },
  {
   "cell_type": "code",
   "execution_count": 56,
   "metadata": {},
   "outputs": [
    {
     "name": "stdout",
     "output_type": "stream",
     "text": [
      "3.0\n"
     ]
    }
   ],
   "source": [
    "attributes = mcdes.columns.values\n",
    "print(mcdes[attributes[0]]['max'])"
   ]
  },
  {
   "cell_type": "markdown",
   "metadata": {},
   "source": [
    "# Minority groups identified by one attribute"
   ]
  },
  {
   "cell_type": "code",
   "execution_count": 83,
   "metadata": {},
   "outputs": [
    {
     "name": "stdout",
     "output_type": "stream",
     "text": [
      "\n",
      "\n",
      "age  =  75 group size =  26 acc =  65.38461538461539\n",
      "age  =  83 group size =  5 acc =  60.0\n",
      "age  =  88 group size =  3 acc =  33.333333333333336\n",
      "\n",
      "\n",
      "\n",
      "\n",
      "\n",
      "\n",
      "\n",
      "\n",
      "marital-status  =  1 group size =  19 acc =  63.1578947368421\n",
      "\n",
      "\n",
      "\n",
      "\n",
      "relationship  =  5 group size =  1054 acc =  65.84440227703985\n",
      "\n",
      "\n",
      "\n",
      "\n",
      "\n",
      "\n"
     ]
    },
    {
     "name": "stderr",
     "output_type": "stream",
     "text": [
      "<ipython-input-83-edaee6876fb0>:8: UserWarning: Boolean Series key will be reindexed to match DataFrame index.\n",
      "  mis_class_min = mis_class[(X_test[attribute] == i)]\n"
     ]
    },
    {
     "name": "stdout",
     "output_type": "stream",
     "text": [
      "capital-gain  =  1409 group size =  3 acc =  33.333333333333336\n",
      "capital-gain  =  2009 group size =  2 acc =  50.0\n",
      "capital-gain  =  2105 group size =  8 acc =  62.5\n",
      "capital-gain  =  2228 group size =  2 acc =  50.0\n",
      "capital-gain  =  2346 group size =  2 acc =  50.0\n",
      "capital-gain  =  2653 group size =  5 acc =  60.0\n",
      "capital-gain  =  2829 group size =  21 acc =  61.904761904761905\n",
      "capital-gain  =  2936 group size =  1 acc =  0.0\n",
      "capital-gain  =  3432 group size =  2 acc =  50.0\n",
      "capital-gain  =  3471 group size =  6 acc =  50.0\n",
      "capital-gain  =  3908 group size =  19 acc =  63.1578947368421\n",
      "capital-gain  =  4386 group size =  50 acc =  58.00000000000001\n",
      "capital-gain  =  4687 group size =  2 acc =  50.0\n",
      "capital-gain  =  4865 group size =  10 acc =  50.0\n",
      "capital-gain  =  4931 group size =  2 acc =  0.0\n",
      "capital-gain  =  6097 group size =  1 acc =  0.0\n",
      "capital-gain  =  7978 group size =  1 acc =  0.0\n",
      "capital-gain  =  18481 group size =  1 acc =  0.0\n",
      "capital-gain  =  41310 group size =  2 acc =  0.0\n",
      "\n",
      "\n",
      "capital-loss  =  323 group size =  2 acc =  50.0\n",
      "capital-loss  =  653 group size =  3 acc =  33.333333333333336\n",
      "capital-loss  =  1421 group size =  1 acc =  0.0\n",
      "capital-loss  =  1485 group size =  31 acc =  51.61290322580645\n",
      "capital-loss  =  1504 group size =  11 acc =  63.63636363636363\n",
      "capital-loss  =  1564 group size =  21 acc =  42.85714285714286\n",
      "capital-loss  =  1573 group size =  4 acc =  50.0\n",
      "capital-loss  =  1648 group size =  1 acc =  0.0\n",
      "capital-loss  =  1755 group size =  1 acc =  0.0\n",
      "capital-loss  =  2129 group size =  1 acc =  0.0\n",
      "capital-loss  =  2149 group size =  3 acc =  0.0\n",
      "capital-loss  =  2238 group size =  2 acc =  50.0\n",
      "capital-loss  =  2258 group size =  23 acc =  60.86956521739131\n",
      "capital-loss  =  2267 group size =  1 acc =  0.0\n",
      "capital-loss  =  2282 group size =  1 acc =  0.0\n",
      "capital-loss  =  2352 group size =  2 acc =  50.0\n",
      "capital-loss  =  2457 group size =  1 acc =  0.0\n",
      "capital-loss  =  2603 group size =  2 acc =  50.0\n",
      "capital-loss  =  2754 group size =  1 acc =  0.0\n",
      "capital-loss  =  3175 group size =  2 acc =  0.0\n",
      "\n",
      "\n",
      "hours-per-week  =  31 group size =  5 acc =  60.0\n",
      "hours-per-week  =  57 group size =  7 acc =  57.14285714285714\n",
      "hours-per-week  =  63 group size =  8 acc =  62.5\n",
      "hours-per-week  =  67 group size =  2 acc =  50.0\n",
      "hours-per-week  =  69 group size =  1 acc =  0.0\n",
      "hours-per-week  =  73 group size =  1 acc =  0.0\n",
      "hours-per-week  =  77 group size =  5 acc =  60.0\n",
      "hours-per-week  =  81 group size =  2 acc =  50.0\n",
      "hours-per-week  =  84 group size =  35 acc =  60.0\n",
      "hours-per-week  =  86 group size =  2 acc =  0.0\n",
      "hours-per-week  =  88 group size =  1 acc =  0.0\n",
      "hours-per-week  =  92 group size =  1 acc =  0.0\n",
      "hours-per-week  =  94 group size =  1 acc =  0.0\n",
      "hours-per-week  =  97 group size =  1 acc =  0.0\n",
      "hours-per-week  =  99 group size =  53 acc =  49.056603773584904\n",
      "\n",
      "\n",
      "native-country  =  0 group size =  11 acc =  54.54545454545454\n",
      "native-country  =  11 group size =  31 acc =  61.29032258064516\n",
      "native-country  =  17 group size =  11 acc =  63.63636363636363\n"
     ]
    }
   ],
   "source": [
    "for attribute in predictors:\n",
    "    print(\"\\n\")\n",
    "    for i in range (mis_class[attribute].min(), mis_class[attribute].max()+1):\n",
    "        X_test_min = X_test_res[(X_test[attribute] == i)]\n",
    "        #print(len(X_test_min))\n",
    "        if len(X_test_min) == 0:\n",
    "            continue\n",
    "        mis_class_min = mis_class[(X_test[attribute] == i)]\n",
    "        min_acc = (1 - len(mis_class_min)/len(X_test_min))*100\n",
    "        if min_acc < AccThreshold:\n",
    "            #if len(X_test_min) < NumThreshold:\n",
    "             #   print(\"group too small >_< : \")\n",
    "            print(attribute, \" = \", i, \"group size = \", len(X_test_min), \"acc = \", min_acc)\n",
    "\n",
    "#X_test_res_min_mis_class = X_test_res_min.loc[X_test_res_min['act']!=X_test_res_min['pred']]\n",
    "#min_acc = (1 - len(mis_class_min)/len(X_test_min))*100\n"
   ]
  },
  {
   "cell_type": "code",
   "execution_count": 84,
   "metadata": {},
   "outputs": [
    {
     "name": "stdout",
     "output_type": "stream",
     "text": [
      "Age =  39 group size =  38 acc =  68.42105263157895\n"
     ]
    },
    {
     "name": "stderr",
     "output_type": "stream",
     "text": [
      "<ipython-input-84-c8feee28848d>:2: UserWarning: Boolean Series key will be reindexed to match DataFrame index.\n",
      "  mis_class_min1 = mis_class[(X_test['age'] >= 83)]\n"
     ]
    }
   ],
   "source": [
    "X_test_min1 = X_test_res[(X_test['age'] >= 83)]\n",
    "mis_class_min1 = mis_class[(X_test['age'] >= 83)]\n",
    "min_acc1 = (1 - len(mis_class_min1)/len(X_test_min1))*100\n",
    "print(\"Age = \", i, \"group size = \", len(X_test_min1), \"acc = \", min_acc1)"
   ]
  },
  {
   "cell_type": "code",
   "execution_count": 85,
   "metadata": {},
   "outputs": [
    {
     "name": "stdout",
     "output_type": "stream",
     "text": [
      "capital-gain =  39 group size =  9 acc =  77.77777777777779\n"
     ]
    },
    {
     "name": "stderr",
     "output_type": "stream",
     "text": [
      "<ipython-input-85-995efc6e718b>:2: UserWarning: Boolean Series key will be reindexed to match DataFrame index.\n",
      "  mis_class_min2 = mis_class[(X_test['capital-gain'] >= 1400) & (X_test['capital-gain'] <= 1500)]\n"
     ]
    }
   ],
   "source": [
    "X_test_min2 = X_test_res[(X_test['capital-gain'] >= 1400) & (X_test['capital-gain'] <= 1500)]\n",
    "mis_class_min2 = mis_class[(X_test['capital-gain'] >= 1400) & (X_test['capital-gain'] <= 1500)]\n",
    "min_acc2 = (1 - len(mis_class_min2)/len(X_test_min2))*100\n",
    "print(\"capital-gain = \", i, \"group size = \", len(X_test_min2), \"acc = \", min_acc2)"
   ]
  },
  {
   "cell_type": "raw",
   "metadata": {},
   "source": [
    "Minority groups identified by one attribute:\n",
    "\n",
    "marital-status  =  1 group size =  19 acc =  57.89473684210527\n",
    "hours-per-week  =  99 group size =  53 acc =  47.16981132075472\n",
    "native-country  =  0 group size =  11 acc =  54.54545454545454"
   ]
  },
  {
   "cell_type": "markdown",
   "metadata": {},
   "source": [
    "# Minority groups identified by two attribtues"
   ]
  },
  {
   "cell_type": "markdown",
   "metadata": {},
   "source": [
    "## 2 of Race, gender, relationship"
   ]
  },
  {
   "cell_type": "code",
   "execution_count": 90,
   "metadata": {},
   "outputs": [
    {
     "name": "stderr",
     "output_type": "stream",
     "text": [
      "<ipython-input-90-06c83435f66f>:6: UserWarning: Boolean Series key will be reindexed to match DataFrame index.\n",
      "  mis_class_min3 = mis_class[(X_test['race'] == race) & (X_test['gender'] == gender)]\n"
     ]
    }
   ],
   "source": [
    "for race in range (mis_class['race'].min(), mis_class['race'].max()+1):\n",
    "    for gender in range(mis_class['gender'].min(), mis_class['gender'].max()+1):\n",
    "        X_test_min3 = X_test_res[(X_test['race'] == race) & (X_test['gender'] == gender)]\n",
    "        if len(X_test_min3) == 0:\n",
    "            continue\n",
    "        mis_class_min3 = mis_class[(X_test['race'] == race) & (X_test['gender'] == gender)]\n",
    "        min_acc3 = (1 - len(mis_class_min3)/len(X_test_min3))*100\n",
    "        if (min_acc3 < AccThreshold):\n",
    "            print(\"race = \", race, \"gender = \", gender, \"group size = \", len(X_test_min3), \"acc = \", min_acc3)"
   ]
  },
  {
   "cell_type": "code",
   "execution_count": 91,
   "metadata": {},
   "outputs": [
    {
     "name": "stdout",
     "output_type": "stream",
     "text": [
      "relationship =  0 gender =  0 group size =  1 acc =  0.0\n",
      "relationship =  5 gender =  0 group size =  1054 acc =  65.84440227703985\n"
     ]
    },
    {
     "name": "stderr",
     "output_type": "stream",
     "text": [
      "<ipython-input-91-0101d6aa12ad>:6: UserWarning: Boolean Series key will be reindexed to match DataFrame index.\n",
      "  mis_class_min4 = mis_class[(X_test['relationship'] == relationship) & (X_test['gender'] == gender)]\n"
     ]
    }
   ],
   "source": [
    "for relationship in range (mis_class['relationship'].min(), mis_class['relationship'].max()+1):\n",
    "    for gender in range(mis_class['gender'].min(), mis_class['gender'].max()+1):\n",
    "        X_test_min4 = X_test_res[(X_test['relationship'] == relationship) & (X_test['gender'] == gender)]\n",
    "        if len(X_test_min4) == 0:\n",
    "            continue\n",
    "        mis_class_min4 = mis_class[(X_test['relationship'] == relationship) & (X_test['gender'] == gender)]\n",
    "        min_acc4 = (1 - len(mis_class_min4)/len(X_test_min4))*100\n",
    "        if (min_acc4 < AccThreshold):\n",
    "            print(\"relationship = \", relationship, \"gender = \", gender, \"group size = \", len(X_test_min4), \"acc = \", min_acc4)\n",
    "        "
   ]
  },
  {
   "cell_type": "code",
   "execution_count": 92,
   "metadata": {},
   "outputs": [
    {
     "name": "stdout",
     "output_type": "stream",
     "text": [
      "race =  2 relationship =  5 group size =  102 acc =  64.70588235294117\n",
      "race =  4 relationship =  5 group size =  898 acc =  65.70155902004454\n"
     ]
    },
    {
     "name": "stderr",
     "output_type": "stream",
     "text": [
      "<ipython-input-92-47e063f3f486>:6: UserWarning: Boolean Series key will be reindexed to match DataFrame index.\n",
      "  mis_class_min5 = mis_class[(X_test['relationship'] == relationship) & (X_test['race'] == race)]\n"
     ]
    }
   ],
   "source": [
    "for relationship in range (mis_class['relationship'].min(), mis_class['relationship'].max()+1):\n",
    "    for race in range(mis_class['race'].min(), mis_class['race'].max()+1):\n",
    "        X_test_min5 = X_test_res[(X_test['relationship'] == relationship) & (X_test['race'] == race)]\n",
    "        if len(X_test_min5) == 0:\n",
    "            continue\n",
    "        mis_class_min5 = mis_class[(X_test['relationship'] == relationship) & (X_test['race'] == race)]\n",
    "        min_acc5 = (1 - len(mis_class_min5)/len(X_test_min5))*100\n",
    "        if (min_acc5 < AccThreshold):\n",
    "            print(\"race = \", race, \"relationship = \", relationship, \"group size = \", len(X_test_min5), \"acc = \", min_acc5)\n",
    "        "
   ]
  },
  {
   "cell_type": "raw",
   "metadata": {},
   "source": [
    "relationship =  0 gender =  0 group size =  1 acc =  0.0\n",
    "relationship =  5 gender =  0 group size =  1054 acc =  65.84440227703985\n",
    "race =  2 relationship =  5 group size =  102 acc =  64.70588235294117\n",
    "race =  4 relationship =  5 group size =  898 acc =  65.70155902004454"
   ]
  },
  {
   "cell_type": "code",
   "execution_count": null,
   "metadata": {},
   "outputs": [],
   "source": []
  }
 ],
 "metadata": {
  "kernelspec": {
   "display_name": "Python 3",
   "language": "python",
   "name": "python3"
  },
  "language_info": {
   "codemirror_mode": {
    "name": "ipython",
    "version": 3
   },
   "file_extension": ".py",
   "mimetype": "text/x-python",
   "name": "python",
   "nbconvert_exporter": "python",
   "pygments_lexer": "ipython3",
   "version": "3.8.3"
  },
  "toc": {
   "base_numbering": 1,
   "nav_menu": {},
   "number_sections": true,
   "sideBar": true,
   "skip_h1_title": false,
   "title_cell": "Table of Contents",
   "title_sidebar": "Contents",
   "toc_cell": false,
   "toc_position": {},
   "toc_section_display": true,
   "toc_window_display": false
  }
 },
 "nbformat": 4,
 "nbformat_minor": 4
}
