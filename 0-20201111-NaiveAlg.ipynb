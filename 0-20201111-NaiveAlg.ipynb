{
 "cells": [
  {
   "cell_type": "raw",
   "metadata": {},
   "source": [
    "naive algorithm:\n",
    "    go along all possible patterns\n",
    "    "
   ]
  },
  {
   "cell_type": "markdown",
   "metadata": {},
   "source": [
    "# import, attributes and useful functions"
   ]
  },
  {
   "cell_type": "code",
   "execution_count": 9,
   "metadata": {},
   "outputs": [],
   "source": [
    "from itertools import combinations \n",
    "import pandas as pd \n",
    "import numpy as np\n",
    "import pattern_count\n",
    "import time \n",
    "import pickle"
   ]
  },
  {
   "cell_type": "code",
   "execution_count": 10,
   "metadata": {},
   "outputs": [],
   "source": [
    "\n",
    "def Prepatation(filename):\n",
    "    mc = pd.read_csv(filename)\n",
    "    mcdes = mc.describe()\n",
    "    attributes = mcdes.columns.values\n",
    "    return mc, mcdes, attributes\n"
   ]
  },
  {
   "cell_type": "code",
   "execution_count": 11,
   "metadata": {},
   "outputs": [],
   "source": [
    "def DFSattributes(cur, last, comb, pattern, all_p, mcdes):\n",
    "    if cur == last:\n",
    "        #print(\"comb[{}] = {}\".format(cur, comb[cur]))\n",
    "        #print(\"{} {}\".format(int(mcdes[attributes[comb[cur]]]['min']), int(mcdes[attributes[comb[cur]]]['max'])))\n",
    "        for a in range(int(mcdes[attributes[comb[cur]]]['min']), int(mcdes[attributes[comb[cur]]]['max'])+1):\n",
    "            s = pattern.copy()\n",
    "            s[comb[cur]] = a\n",
    "            all_p.append(s)\n",
    "        return\n",
    "    else:\n",
    "        #print(\"comb[{}] = {}\".format(cur, comb[cur]))\n",
    "        #print(\"{} {}\".format(int(mcdes[attributes[comb[cur]]]['min']), int(mcdes[attributes[comb[cur]]]['max'])))\n",
    "        for a in range(int(mcdes[attributes[comb[cur]]]['min']), int(mcdes[attributes[comb[cur]]]['max'])+1):\n",
    "            s = pattern.copy()\n",
    "            s[comb[cur]] = a\n",
    "            DFSattributes(cur+1, last, comb, s, all_p, mcdes)\n",
    "        \n",
    "        \n",
    "\n",
    "def AllPatternsInComb(comb, NumAttribute, mcdes): # comb = [1,4]\n",
    "    all_p = []\n",
    "    pattern = [-1] * NumAttribute\n",
    "    DFSattributes(0, len(comb)-1, comb, pattern, all_p, mcdes)\n",
    "    return all_p\n",
    "\n",
    "\n",
    "def num2string(pattern):\n",
    "    st = ''\n",
    "    for i in pattern:\n",
    "        if i != -1:\n",
    "            st += str(i)\n",
    "        st += '|'\n",
    "    st = st[:-1]\n",
    "    return st\n",
    "\n",
    "\n",
    "def P1DominatedByP2(P1, P2):\n",
    "    length = len(P1)\n",
    "    for i in range(length):\n",
    "        if P1[i] == -1:\n",
    "            if P2[i] != -1:\n",
    "                return False\n",
    "        if P1[i] != -1:\n",
    "            if P2[i] != P1[i] and P2[i] != -1:\n",
    "                return False\n",
    "    return True\n",
    "\n",
    "# coverage of P among dataset D\n",
    "def cov(P, D):\n",
    "    cnt = 0\n",
    "    for d in D:\n",
    "        if P1DominatedByP2(d, P):\n",
    "            cnt += 1\n",
    "    return cnt\n",
    "\n",
    "\n",
    "# whether a pattern P is dominated by MUP M\n",
    "def PDominatedByM(P, M):\n",
    "    for m in M:\n",
    "        if P1DominatedByP2(P, m):\n",
    "            return True\n",
    "    return False"
   ]
  },
  {
   "cell_type": "code",
   "execution_count": 12,
   "metadata": {},
   "outputs": [],
   "source": [
    "\n",
    "def equalPattern(s, t):\n",
    "    if len(s) != len(t):\n",
    "        return False\n",
    "    lens = len(s)\n",
    "    for i in range(0, lens):\n",
    "        if s[i] != t[i]:\n",
    "            return False\n",
    "    return True"
   ]
  },
  {
   "cell_type": "code",
   "execution_count": 16,
   "metadata": {},
   "outputs": [
    {
     "name": "stdout",
     "output_type": "stream",
     "text": [
      "pattern_with_low_accuracy number = 1\n",
      "pattern_with_low_accuracy number = 2\n"
     ]
    },
    {
     "ename": "KeyboardInterrupt",
     "evalue": "",
     "output_type": "error",
     "traceback": [
      "\u001b[0;31m---------------------------------------------------------------------------\u001b[0m",
      "\u001b[0;31mKeyboardInterrupt\u001b[0m                         Traceback (most recent call last)",
      "\u001b[0;32m<ipython-input-16-5ccefb2633e4>\u001b[0m in \u001b[0;36m<module>\u001b[0;34m\u001b[0m\n\u001b[1;32m     34\u001b[0m             \u001b[0mnum_pattern_checked\u001b[0m \u001b[0;34m+=\u001b[0m \u001b[0;36m1\u001b[0m\u001b[0;34m\u001b[0m\u001b[0;34m\u001b[0m\u001b[0m\n\u001b[1;32m     35\u001b[0m             \u001b[0mp_\u001b[0m \u001b[0;34m=\u001b[0m \u001b[0mnum2string\u001b[0m\u001b[0;34m(\u001b[0m\u001b[0mp\u001b[0m\u001b[0;34m)\u001b[0m\u001b[0;34m\u001b[0m\u001b[0;34m\u001b[0m\u001b[0m\n\u001b[0;32m---> 36\u001b[0;31m             \u001b[0mcardinality\u001b[0m \u001b[0;34m=\u001b[0m \u001b[0mpc_adult\u001b[0m\u001b[0;34m.\u001b[0m\u001b[0mpattern_count\u001b[0m\u001b[0;34m(\u001b[0m\u001b[0mp_\u001b[0m\u001b[0;34m)\u001b[0m\u001b[0;34m\u001b[0m\u001b[0;34m\u001b[0m\u001b[0m\n\u001b[0m\u001b[1;32m     37\u001b[0m \u001b[0;34m\u001b[0m\u001b[0m\n\u001b[1;32m     38\u001b[0m             \u001b[0;32mif\u001b[0m \u001b[0mcardinality\u001b[0m \u001b[0;34m<\u001b[0m \u001b[0mThc\u001b[0m\u001b[0;34m:\u001b[0m\u001b[0;34m\u001b[0m\u001b[0;34m\u001b[0m\u001b[0m\n",
      "\u001b[0;32m~/Desktop/Fairness/Coding/Jupyter/pattern_count.py\u001b[0m in \u001b[0;36mpattern_count\u001b[0;34m(self, pattern)\u001b[0m\n\u001b[1;32m    125\u001b[0m \u001b[0;34m\u001b[0m\u001b[0m\n\u001b[1;32m    126\u001b[0m             \u001b[0mcount\u001b[0m \u001b[0;34m=\u001b[0m \u001b[0;36m0\u001b[0m\u001b[0;34m\u001b[0m\u001b[0;34m\u001b[0m\u001b[0m\n\u001b[0;32m--> 127\u001b[0;31m             \u001b[0;32mfor\u001b[0m \u001b[0mi\u001b[0m\u001b[0;34m,\u001b[0m \u001b[0mbit\u001b[0m \u001b[0;32min\u001b[0m \u001b[0menumerate\u001b[0m\u001b[0;34m(\u001b[0m\u001b[0mand_bitarray\u001b[0m\u001b[0;34m)\u001b[0m\u001b[0;34m:\u001b[0m\u001b[0;34m\u001b[0m\u001b[0;34m\u001b[0m\u001b[0m\n\u001b[0m\u001b[1;32m    128\u001b[0m                 \u001b[0;32mif\u001b[0m \u001b[0mbit\u001b[0m\u001b[0;34m:\u001b[0m\u001b[0;34m\u001b[0m\u001b[0;34m\u001b[0m\u001b[0m\n\u001b[1;32m    129\u001b[0m                     \u001b[0mcount\u001b[0m \u001b[0;34m+=\u001b[0m \u001b[0mself\u001b[0m\u001b[0;34m.\u001b[0m\u001b[0moccurences\u001b[0m\u001b[0;34m[\u001b[0m\u001b[0mi\u001b[0m\u001b[0;34m]\u001b[0m\u001b[0;34m\u001b[0m\u001b[0;34m\u001b[0m\u001b[0m\n",
      "\u001b[0;31mKeyboardInterrupt\u001b[0m: "
     ]
    }
   ],
   "source": [
    "\n",
    "\n",
    "time1 = time.time()\n",
    "\n",
    "\n",
    "mc, mcdes, attributes = Prepatation('miss_class3.csv')\n",
    "mcarray = np.array(mc)\n",
    "mclist = mcarray.tolist()\n",
    "NumAttribute = len(attributes)\n",
    "index_list = list(range(0, NumAttribute)) # list[1, 2, ...13]\n",
    "\n",
    "\n",
    "column_list_mc = np.array(mc.columns).tolist()\n",
    "pc_mc = pattern_count.PatternCounter('miss_class3.csv', column_list_mc, encoded=False)\n",
    "pc_mc.parse_data()\n",
    "\n",
    "data = pd.read_csv(\"CleanAdult3.csv\")\n",
    "column_list_adult = np.array(data.columns).tolist()\n",
    "pc_adult = pattern_count.PatternCounter('CleanAdult3.csv', column_list_adult, encoded=False)\n",
    "pc_adult.parse_data()\n",
    "dataarray = np.array(data)\n",
    "datalist = dataarray.tolist()\n",
    "\n",
    "\n",
    "\n",
    "num_pattern_checked = 0\n",
    "Tha = 0.65\n",
    "Thc = 50\n",
    "pattern_with_low_accuracy = []\n",
    "for num_att in range(1, NumAttribute+1):\n",
    "    comb_num_att = list(combinations(index_list, num_att)) # list of combinations of attribute index, length num_att\n",
    "    for comb in comb_num_att:\n",
    "        patterns = AllPatternsInComb(comb, NumAttribute, mcdes)\n",
    "        for p in patterns:\n",
    "           \n",
    "            num_pattern_checked += 1\n",
    "            p_ = num2string(p)\n",
    "            cardinality = pc_adult.pattern_count(p_)\n",
    "            \n",
    "            if cardinality < Thc:\n",
    "                continue\n",
    "            mc = pc_mc.pattern_count(p_)\n",
    "            acc = 1 - mc/cardinality\n",
    "   \n",
    "            if acc < Tha:\n",
    "                if PDominatedByM(p, pattern_with_low_accuracy) == False:\n",
    "                    pattern_with_low_accuracy.append(p)\n",
    "                    print(\"pattern_with_low_accuracy number = {}\".format(len(pattern_with_low_accuracy)))\n",
    "\n",
    "time2 = time.time()\n",
    "print(\"execution time = %s seconds\" % (time2-time1))\n",
    "print(len(pattern_with_low_accuracy))\n",
    "print(\"num_pattern_checked = \", num_pattern_checked)"
   ]
  },
  {
   "cell_type": "code",
   "execution_count": 17,
   "metadata": {},
   "outputs": [
    {
     "name": "stdout",
     "output_type": "stream",
     "text": [
      "[[1, -1, 10, -1, -1, -1, 1, -1, -1, 0, -1, -1, -1], [1, -1, -1, 16, -1, -1, 1, -1, -1, 0, -1, -1, -1]]\n"
     ]
    }
   ],
   "source": [
    "print(pattern_with_low_accuracy)"
   ]
  },
  {
   "cell_type": "code",
   "execution_count": 19,
   "metadata": {
    "collapsed": false,
    "jupyter": {
     "outputs_hidden": false
    },
    "pycharm": {
     "name": "#%%\n"
    }
   },
   "outputs": [],
   "source": [
    "\n",
    "with open('P30.pkl', 'rb') as filehandle:\n",
    "    # read the data as binary data stream\n",
    "    patterns_from_P30 = pickle.load(filehandle)\n",
    "filehandle.close()\n"
   ]
  },
  {
   "cell_type": "code",
   "execution_count": 19,
   "metadata": {},
   "outputs": [
    {
     "name": "stdout",
     "output_type": "stream",
     "text": [
      "53 22 0.41509433962264153\n",
      "53 22 0.41509433962264153\n"
     ]
    }
   ],
   "source": [
    "s = [1, -1, 10, -1, -1, -1, 1, -1, -1, 0, -1, -1, -1]\n",
    "\n",
    "smc = (pc_mc.pattern_count(num2string(s)))\n",
    "sdata = (pc_adult.pattern_count(num2string(s)))\n",
    "print(sdata, smc, smc/sdata)\n",
    "\n",
    "\n",
    "covmc = cov(s, mclist)\n",
    "covdata = cov(s, datalist)\n",
    "print(covdata, covmc, covmc/covdata)"
   ]
  },
  {
   "cell_type": "code",
   "execution_count": null,
   "metadata": {},
   "outputs": [],
   "source": []
  },
  {
   "cell_type": "code",
   "execution_count": null,
   "metadata": {},
   "outputs": [],
   "source": []
  },
  {
   "cell_type": "code",
   "execution_count": null,
   "metadata": {},
   "outputs": [],
   "source": []
  }
 ],
 "metadata": {
  "kernelspec": {
   "display_name": "Python 3",
   "language": "python",
   "name": "python3"
  },
  "language_info": {
   "codemirror_mode": {
    "name": "ipython",
    "version": 3
   },
   "file_extension": ".py",
   "mimetype": "text/x-python",
   "name": "python",
   "nbconvert_exporter": "python",
   "pygments_lexer": "ipython3",
   "version": "3.8.3"
  },
  "toc": {
   "base_numbering": 1,
   "nav_menu": {},
   "number_sections": true,
   "sideBar": true,
   "skip_h1_title": false,
   "title_cell": "Table of Contents",
   "title_sidebar": "Contents",
   "toc_cell": false,
   "toc_position": {},
   "toc_section_display": true,
   "toc_window_display": false
  }
 },
 "nbformat": 4,
 "nbformat_minor": 4
}
