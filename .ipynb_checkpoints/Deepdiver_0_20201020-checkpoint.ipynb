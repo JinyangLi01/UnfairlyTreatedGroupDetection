{
 "cells": [
  {
   "cell_type": "code",
   "execution_count": 1,
   "metadata": {},
   "outputs": [
    {
     "data": {
      "text/plain": [
       "'\\ncleanAdult = pd.read_csv(\"CleanAdult2.csv\")\\nmiss_class = pd.read_csv(\"miss_class2.csv\")\\n\\npredictors = [\\'age\\', \\'workclass\\', \\'education\\', \\'educational-num\\',\\n              \\'marital-status\\', \\'occupation\\', \\'relationship\\', \\'race\\', \\'gender\\',\\n              \\'capital-gain\\', \\'capital-loss\\', \\'hours-per-week\\', \\'native-country\\']  # len =13\\n\\n'"
      ]
     },
     "execution_count": 1,
     "metadata": {},
     "output_type": "execute_result"
    }
   ],
   "source": [
    "import numpy as np\n",
    "import pandas as pd\n",
    "import csv\n",
    "import math\n",
    "\n",
    "\"\"\"\n",
    "cleanAdult = pd.read_csv(\"CleanAdult2.csv\")\n",
    "miss_class = pd.read_csv(\"miss_class2.csv\")\n",
    "\n",
    "predictors = ['age', 'workclass', 'education', 'educational-num',\n",
    "              'marital-status', 'occupation', 'relationship', 'race', 'gender',\n",
    "              'capital-gain', 'capital-loss', 'hours-per-week', 'native-country']  # len =13\n",
    "\n",
    "\"\"\"\n"
   ]
  },
  {
   "cell_type": "code",
   "execution_count": 2,
   "metadata": {},
   "outputs": [],
   "source": [
    "def P1DominatedByP2(P1, P2):\n",
    "    length = len(P1)\n",
    "    for i in range(length):\n",
    "        if P1[i] == -1:\n",
    "            if P2[i] != -1:\n",
    "                return False\n",
    "        if P1[i] != -1:\n",
    "            if P2[i] != P1[i] and P2[i] != -1:\n",
    "                return False\n",
    "    return True\n",
    "\n",
    "# whether a pattern P is dominated by MUP M\n",
    "def PDominatedByM(P, M):\n",
    "    for m in M:\n",
    "        if P1DominatedByP2(P, m):\n",
    "            return True\n",
    "    return False\n",
    "\n",
    "# whether a pattern P dominates MUP M\n",
    "def PDominatesM(P, M):\n",
    "    for m in M:\n",
    "        if P1DominatedByP2(m, P):\n",
    "            return True\n",
    "    return False\n",
    "\n",
    "# coverage of P among dataset D\n",
    "def cov(P, D):\n",
    "    cnt = 0\n",
    "    for d in D:\n",
    "        if P1DominatedByP2(d, P):\n",
    "            cnt += 1\n",
    "    return cnt\n",
    "\n",
    "\n",
    "def GenerateParents(P):\n",
    "    parents = []\n",
    "    length = len(P)\n",
    "    for i in range(length):\n",
    "        if P[i] != -1:\n",
    "            q = P.copy()\n",
    "            q[i] = -1\n",
    "            parents.append(q)\n",
    "    return parents\n",
    "\n",
    "def GenerateByRule1(P, mcdes, attributes):\n",
    "    children = []\n",
    "    length = len(P)\n",
    "    i = 0\n",
    "    for i in range(length-1, -1, -1):\n",
    "        if P[i] != -1:\n",
    "            break\n",
    "    if P[i] == -1:\n",
    "        i -= 1\n",
    "    for j in range(i+1, length, 1):\n",
    "        for a in range(int(mcdes[attributes[j]]['min']), int(mcdes[attributes[j]]['max'])):\n",
    "            s = P.copy()\n",
    "            s[j] = a\n",
    "            children.append(s)\n",
    "    return children\n",
    "\n",
    "def Deepdiver(D, tao, mcdes, attributes):\n",
    "    root = [-1] * (len(attributes))\n",
    "    S = [root]  # initial stack\n",
    "    M = []  # maximal uncovered patterns\n",
    "    while len(S) > 0:\n",
    "        P = S.pop()\n",
    "        #print(P, len(M))\n",
    "        if PDominatedByM(P, M):\n",
    "            continue\n",
    "        elif PDominatesM(P, M):\n",
    "            uncoveredFlag = True\n",
    "        else:\n",
    "            cnt = cov(P, D)\n",
    "            uncoveredFlag = cnt < tao\n",
    "        if uncoveredFlag:\n",
    "            S1 = [P] # stack\n",
    "            while len(S1) > 0:\n",
    "                P1 = S1.pop()\n",
    "                ParentNodes = GenerateParents(P1)\n",
    "                for parent in ParentNodes:\n",
    "                    cntparent = cov(parent, D)\n",
    "                    if cntparent < tao:\n",
    "                        S1.append(parent)\n",
    "                        break\n",
    "                M.append(P)\n",
    "            # end while\n",
    "        else:\n",
    "            children = GenerateByRule1(P, mcdes, attributes)\n",
    "            S = S + children\n",
    "    return M\n",
    "\n",
    "\n",
    "def Prepatation(filename):\n",
    "    mc = pd.read_csv(filename)\n",
    "    mcdes = mc.describe()\n",
    "    attributes = mcdes.columns.values\n",
    "    return mc, mcdes, attributes\n"
   ]
  },
  {
   "cell_type": "code",
   "execution_count": 3,
   "metadata": {},
   "outputs": [],
   "source": [
    "\n",
    "mc, mcdes, attributes = Prepatation('miss_class2.csv')\n",
    "print(len(attributes))\n",
    "del mc['act']\n",
    "del mc['pred']\n",
    "mcarray = np.array(mc)\n",
    "mclist = mcarray.tolist()\n"
   ]
  },
  {
   "cell_type": "code",
   "execution_count": 51,
   "metadata": {},
   "outputs": [
    {
     "name": "stdout",
     "output_type": "stream",
     "text": [
      "0\n",
      "[]\n"
     ]
    }
   ],
   "source": [
    "M = Deepdiver(mclist, 50*0.6, mcdes, attributes)\n",
    "print(M)"
   ]
  },
  {
   "cell_type": "code",
   "execution_count": 53,
   "metadata": {},
   "outputs": [
    {
     "name": "stdout",
     "output_type": "stream",
     "text": [
      "33\n"
     ]
    }
   ],
   "source": [
    "P = [-1, -1, -1, -1,   -1, -1, 5, 2, -1,    -1, -1, -1, -1]\n",
    "covrage = cov(P, mclist)\n",
    "print(covrage)"
   ]
  },
  {
   "cell_type": "code",
   "execution_count": null,
   "metadata": {},
   "outputs": [],
   "source": [
    "M = Deepdiver(mc, 0.60)"
   ]
  }
 ],
 "metadata": {
  "kernelspec": {
   "display_name": "Python 3",
   "language": "python",
   "name": "python3"
  },
  "language_info": {
   "codemirror_mode": {
    "name": "ipython",
    "version": 3
   },
   "file_extension": ".py",
   "mimetype": "text/x-python",
   "name": "python",
   "nbconvert_exporter": "python",
   "pygments_lexer": "ipython3",
   "version": "3.8.3"
  },
  "toc": {
   "base_numbering": 1,
   "nav_menu": {},
   "number_sections": true,
   "sideBar": true,
   "skip_h1_title": false,
   "title_cell": "Table of Contents",
   "title_sidebar": "Contents",
   "toc_cell": false,
   "toc_position": {},
   "toc_section_display": true,
   "toc_window_display": false
  }
 },
 "nbformat": 4,
 "nbformat_minor": 4
}
