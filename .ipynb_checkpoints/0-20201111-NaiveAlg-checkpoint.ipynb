{
 "cells": [
  {
   "cell_type": "raw",
   "metadata": {},
   "source": [
    "naive algorithm:\n",
    "    go along all possible patterns\n",
    "    "
   ]
  },
  {
   "cell_type": "markdown",
   "metadata": {},
   "source": [
    "# import, attributes and useful functions"
   ]
  },
  {
   "cell_type": "code",
   "execution_count": 1,
   "metadata": {},
   "outputs": [],
   "source": [
    "from itertools import combinations \n",
    "import pandas as pd \n",
    "import numpy as np\n",
    "import import_ipynb\n",
    "import pattern_count\n",
    "import time \n"
   ]
  },
  {
   "cell_type": "code",
   "execution_count": 25,
   "metadata": {},
   "outputs": [],
   "source": [
    "\n",
    "def Prepatation(filename):\n",
    "    mc = pd.read_csv(filename)\n",
    "    mcdes = mc.describe()\n",
    "    attributes = mcdes.columns.values\n",
    "    return mc, mcdes, attributes\n"
   ]
  },
  {
   "cell_type": "code",
   "execution_count": 31,
   "metadata": {},
   "outputs": [
    {
     "name": "stdout",
     "output_type": "stream",
     "text": [
      "13 ['age' 'workclass' 'education' 'educational-num' 'marital-status'\n",
      " 'occupation' 'relationship' 'race' 'gender' 'capital-gain' 'capital-loss'\n",
      " 'hours-per-week' 'native-country']\n",
      "               age    workclass    education  educational-num  marital-status  \\\n",
      "count  4340.000000  4340.000000  4340.000000      4340.000000     4340.000000   \n",
      "mean      0.657604     2.242166    10.715207        10.805760        2.131106   \n",
      "std       0.627994     1.068142     3.174135         2.408848        1.069858   \n",
      "min       0.000000     0.000000     0.000000         1.000000        0.000000   \n",
      "25%       0.000000     2.000000     9.000000         9.000000        2.000000   \n",
      "50%       1.000000     2.000000    11.000000        10.000000        2.000000   \n",
      "75%       1.000000     2.000000    12.000000        13.000000        2.000000   \n",
      "max       3.000000     6.000000    15.000000        16.000000        6.000000   \n",
      "\n",
      "        occupation  relationship         race       gender  capital-gain  \\\n",
      "count  4340.000000   4340.000000  4340.000000  4340.000000   4340.000000   \n",
      "mean      6.300000      0.858065     3.743088     0.808065      0.146544   \n",
      "std       4.157129      1.605517     0.776549     0.393868      0.751552   \n",
      "min       0.000000      0.000000     0.000000     0.000000      0.000000   \n",
      "25%       3.000000      0.000000     4.000000     1.000000      0.000000   \n",
      "50%       6.000000      0.000000     4.000000     1.000000      0.000000   \n",
      "75%      10.000000      1.000000     4.000000     1.000000      0.000000   \n",
      "max      13.000000      5.000000     4.000000     1.000000      4.000000   \n",
      "\n",
      "       capital-loss  hours-per-week  native-country  \n",
      "count   4340.000000     4340.000000     4340.000000  \n",
      "mean       0.090553        2.013594       36.329954  \n",
      "std        0.513342        0.595016        6.375431  \n",
      "min        0.000000        0.000000        0.000000  \n",
      "25%        0.000000        2.000000       38.000000  \n",
      "50%        0.000000        2.000000       38.000000  \n",
      "75%        0.000000        2.000000       38.000000  \n",
      "max        3.000000        4.000000       39.000000  \n"
     ]
    }
   ],
   "source": [
    "mc, mcdes, attributes = Prepatation('miss_class3.csv')\n",
    "mcarray = np.array(mc)\n",
    "mclist = mcarray.tolist()\n",
    "print(len(attributes), attributes)\n",
    "print(mcdes)"
   ]
  },
  {
   "cell_type": "code",
   "execution_count": 47,
   "metadata": {},
   "outputs": [
    {
     "name": "stdout",
     "output_type": "stream",
     "text": [
      "               age    workclass    education  educational-num  marital-status  \\\n",
      "count  4340.000000  4340.000000  4340.000000      4340.000000     4340.000000   \n",
      "mean      0.657604     2.242166    10.715207        10.805760        2.131106   \n",
      "std       0.627994     1.068142     3.174135         2.408848        1.069858   \n",
      "min       0.000000     0.000000     0.000000         1.000000        0.000000   \n",
      "25%       0.000000     2.000000     9.000000         9.000000        2.000000   \n",
      "50%       1.000000     2.000000    11.000000        10.000000        2.000000   \n",
      "75%       1.000000     2.000000    12.000000        13.000000        2.000000   \n",
      "max       3.000000     6.000000    15.000000        16.000000        6.000000   \n",
      "\n",
      "        occupation  relationship         race       gender  capital-gain  \\\n",
      "count  4340.000000   4340.000000  4340.000000  4340.000000   4340.000000   \n",
      "mean      6.300000      0.858065     3.743088     0.808065      0.146544   \n",
      "std       4.157129      1.605517     0.776549     0.393868      0.751552   \n",
      "min       0.000000      0.000000     0.000000     0.000000      0.000000   \n",
      "25%       3.000000      0.000000     4.000000     1.000000      0.000000   \n",
      "50%       6.000000      0.000000     4.000000     1.000000      0.000000   \n",
      "75%      10.000000      1.000000     4.000000     1.000000      0.000000   \n",
      "max      13.000000      5.000000     4.000000     1.000000      4.000000   \n",
      "\n",
      "       capital-loss  hours-per-week  native-country  \n",
      "count   4340.000000     4340.000000     4340.000000  \n",
      "mean       0.090553        2.013594       36.329954  \n",
      "std        0.513342        0.595016        6.375431  \n",
      "min        0.000000        0.000000        0.000000  \n",
      "25%        0.000000        2.000000       38.000000  \n",
      "50%        0.000000        2.000000       38.000000  \n",
      "75%        0.000000        2.000000       38.000000  \n",
      "max        3.000000        4.000000       39.000000  \n"
     ]
    }
   ],
   "source": [
    "\n",
    "NumAttribute = len(attributes)\n",
    "index_list = list(range(1, NumAttribute+1)) # list[1, 2, ...13]\n",
    "print(mcdes)"
   ]
  },
  {
   "cell_type": "code",
   "execution_count": 49,
   "metadata": {},
   "outputs": [
    {
     "name": "stdout",
     "output_type": "stream",
     "text": [
      "comb[0] = 1\n",
      "0 6\n",
      "comb[1] = 4\n",
      "0 6\n",
      "comb[1] = 4\n",
      "0 6\n",
      "comb[1] = 4\n",
      "0 6\n",
      "comb[1] = 4\n",
      "0 6\n",
      "comb[1] = 4\n",
      "0 6\n",
      "comb[1] = 4\n",
      "0 6\n",
      "comb[1] = 4\n",
      "0 6\n",
      "[[-1, 0, -1, -1, 0, -1, -1, -1, -1, -1, -1, -1, -1], [-1, 0, -1, -1, 1, -1, -1, -1, -1, -1, -1, -1, -1], [-1, 0, -1, -1, 2, -1, -1, -1, -1, -1, -1, -1, -1], [-1, 0, -1, -1, 3, -1, -1, -1, -1, -1, -1, -1, -1], [-1, 0, -1, -1, 4, -1, -1, -1, -1, -1, -1, -1, -1], [-1, 0, -1, -1, 5, -1, -1, -1, -1, -1, -1, -1, -1], [-1, 0, -1, -1, 6, -1, -1, -1, -1, -1, -1, -1, -1], [-1, 1, -1, -1, 0, -1, -1, -1, -1, -1, -1, -1, -1], [-1, 1, -1, -1, 1, -1, -1, -1, -1, -1, -1, -1, -1], [-1, 1, -1, -1, 2, -1, -1, -1, -1, -1, -1, -1, -1], [-1, 1, -1, -1, 3, -1, -1, -1, -1, -1, -1, -1, -1], [-1, 1, -1, -1, 4, -1, -1, -1, -1, -1, -1, -1, -1], [-1, 1, -1, -1, 5, -1, -1, -1, -1, -1, -1, -1, -1], [-1, 1, -1, -1, 6, -1, -1, -1, -1, -1, -1, -1, -1], [-1, 2, -1, -1, 0, -1, -1, -1, -1, -1, -1, -1, -1], [-1, 2, -1, -1, 1, -1, -1, -1, -1, -1, -1, -1, -1], [-1, 2, -1, -1, 2, -1, -1, -1, -1, -1, -1, -1, -1], [-1, 2, -1, -1, 3, -1, -1, -1, -1, -1, -1, -1, -1], [-1, 2, -1, -1, 4, -1, -1, -1, -1, -1, -1, -1, -1], [-1, 2, -1, -1, 5, -1, -1, -1, -1, -1, -1, -1, -1], [-1, 2, -1, -1, 6, -1, -1, -1, -1, -1, -1, -1, -1], [-1, 3, -1, -1, 0, -1, -1, -1, -1, -1, -1, -1, -1], [-1, 3, -1, -1, 1, -1, -1, -1, -1, -1, -1, -1, -1], [-1, 3, -1, -1, 2, -1, -1, -1, -1, -1, -1, -1, -1], [-1, 3, -1, -1, 3, -1, -1, -1, -1, -1, -1, -1, -1], [-1, 3, -1, -1, 4, -1, -1, -1, -1, -1, -1, -1, -1], [-1, 3, -1, -1, 5, -1, -1, -1, -1, -1, -1, -1, -1], [-1, 3, -1, -1, 6, -1, -1, -1, -1, -1, -1, -1, -1], [-1, 4, -1, -1, 0, -1, -1, -1, -1, -1, -1, -1, -1], [-1, 4, -1, -1, 1, -1, -1, -1, -1, -1, -1, -1, -1], [-1, 4, -1, -1, 2, -1, -1, -1, -1, -1, -1, -1, -1], [-1, 4, -1, -1, 3, -1, -1, -1, -1, -1, -1, -1, -1], [-1, 4, -1, -1, 4, -1, -1, -1, -1, -1, -1, -1, -1], [-1, 4, -1, -1, 5, -1, -1, -1, -1, -1, -1, -1, -1], [-1, 4, -1, -1, 6, -1, -1, -1, -1, -1, -1, -1, -1], [-1, 5, -1, -1, 0, -1, -1, -1, -1, -1, -1, -1, -1], [-1, 5, -1, -1, 1, -1, -1, -1, -1, -1, -1, -1, -1], [-1, 5, -1, -1, 2, -1, -1, -1, -1, -1, -1, -1, -1], [-1, 5, -1, -1, 3, -1, -1, -1, -1, -1, -1, -1, -1], [-1, 5, -1, -1, 4, -1, -1, -1, -1, -1, -1, -1, -1], [-1, 5, -1, -1, 5, -1, -1, -1, -1, -1, -1, -1, -1], [-1, 5, -1, -1, 6, -1, -1, -1, -1, -1, -1, -1, -1], [-1, 6, -1, -1, 0, -1, -1, -1, -1, -1, -1, -1, -1], [-1, 6, -1, -1, 1, -1, -1, -1, -1, -1, -1, -1, -1], [-1, 6, -1, -1, 2, -1, -1, -1, -1, -1, -1, -1, -1], [-1, 6, -1, -1, 3, -1, -1, -1, -1, -1, -1, -1, -1], [-1, 6, -1, -1, 4, -1, -1, -1, -1, -1, -1, -1, -1], [-1, 6, -1, -1, 5, -1, -1, -1, -1, -1, -1, -1, -1], [-1, 6, -1, -1, 6, -1, -1, -1, -1, -1, -1, -1, -1]]\n"
     ]
    }
   ],
   "source": [
    "def DFSattributes(cur, last, comb, pattern, all_p, mcdes):\n",
    "    if cur == last:\n",
    "        print(\"comb[{}] = {}\".format(cur, comb[cur]))\n",
    "        print(\"{} {}\".format(int(mcdes[attributes[comb[cur]]]['min']), int(mcdes[attributes[comb[cur]]]['max'])))\n",
    "        for a in range(int(mcdes[attributes[comb[cur]]]['min']), int(mcdes[attributes[comb[cur]]]['max'])+1):\n",
    "            s = pattern.copy()\n",
    "            s[comb[cur]] = a\n",
    "            all_p.append(s)\n",
    "        return\n",
    "    else:\n",
    "        print(\"comb[{}] = {}\".format(cur, comb[cur]))\n",
    "        print(\"{} {}\".format(int(mcdes[attributes[comb[cur]]]['min']), int(mcdes[attributes[comb[cur]]]['max'])))\n",
    "        for a in range(int(mcdes[attributes[comb[cur]]]['min']), int(mcdes[attributes[comb[cur]]]['max'])+1):\n",
    "            s = pattern.copy()\n",
    "            s[comb[cur]] = a\n",
    "            DFSattributes(cur+1, last, comb, s, all_p, mcdes)\n",
    "        \n",
    "        \n",
    "\n",
    "def AllPatternsInComb(comb, NumAttribute, mcdes): # comb = [1,4]\n",
    "    all_p = []\n",
    "    pattern = [-1] * NumAttribute\n",
    "    DFSattributes(0, len(comb)-1, comb, pattern, all_p, mcdes)\n",
    "    return all_p\n",
    "\n",
    "print(AllPatternsInComb([1,4], 13, mcdes))\n",
    "\n"
   ]
  },
  {
   "cell_type": "code",
   "execution_count": 17,
   "metadata": {},
   "outputs": [],
   "source": [
    "for num_att in range(1, NumAttribute+1):\n",
    "    comb_num_att = combinations(li, num_att) # list of combinations of attribute index, length num_att \n",
    "    for comb in comb_num_att:\n",
    "        patterns_of_comb = "
   ]
  },
  {
   "cell_type": "code",
   "execution_count": null,
   "metadata": {},
   "outputs": [],
   "source": []
  },
  {
   "cell_type": "code",
   "execution_count": null,
   "metadata": {},
   "outputs": [],
   "source": []
  },
  {
   "cell_type": "code",
   "execution_count": null,
   "metadata": {},
   "outputs": [],
   "source": []
  },
  {
   "cell_type": "code",
   "execution_count": 2,
   "metadata": {},
   "outputs": [
    {
     "ename": "NameError",
     "evalue": "name 'predictors' is not defined",
     "output_type": "error",
     "traceback": [
      "\u001b[0;31m---------------------------------------------------------------------------\u001b[0m",
      "\u001b[0;31mNameError\u001b[0m                                 Traceback (most recent call last)",
      "\u001b[0;32m<ipython-input-2-edaee6876fb0>\u001b[0m in \u001b[0;36m<module>\u001b[0;34m\u001b[0m\n\u001b[0;32m----> 1\u001b[0;31m \u001b[0;32mfor\u001b[0m \u001b[0mattribute\u001b[0m \u001b[0;32min\u001b[0m \u001b[0mpredictors\u001b[0m\u001b[0;34m:\u001b[0m\u001b[0;34m\u001b[0m\u001b[0;34m\u001b[0m\u001b[0m\n\u001b[0m\u001b[1;32m      2\u001b[0m     \u001b[0mprint\u001b[0m\u001b[0;34m(\u001b[0m\u001b[0;34m\"\\n\"\u001b[0m\u001b[0;34m)\u001b[0m\u001b[0;34m\u001b[0m\u001b[0;34m\u001b[0m\u001b[0m\n\u001b[1;32m      3\u001b[0m     \u001b[0;32mfor\u001b[0m \u001b[0mi\u001b[0m \u001b[0;32min\u001b[0m \u001b[0mrange\u001b[0m \u001b[0;34m(\u001b[0m\u001b[0mmis_class\u001b[0m\u001b[0;34m[\u001b[0m\u001b[0mattribute\u001b[0m\u001b[0;34m]\u001b[0m\u001b[0;34m.\u001b[0m\u001b[0mmin\u001b[0m\u001b[0;34m(\u001b[0m\u001b[0;34m)\u001b[0m\u001b[0;34m,\u001b[0m \u001b[0mmis_class\u001b[0m\u001b[0;34m[\u001b[0m\u001b[0mattribute\u001b[0m\u001b[0;34m]\u001b[0m\u001b[0;34m.\u001b[0m\u001b[0mmax\u001b[0m\u001b[0;34m(\u001b[0m\u001b[0;34m)\u001b[0m\u001b[0;34m+\u001b[0m\u001b[0;36m1\u001b[0m\u001b[0;34m)\u001b[0m\u001b[0;34m:\u001b[0m\u001b[0;34m\u001b[0m\u001b[0;34m\u001b[0m\u001b[0m\n\u001b[1;32m      4\u001b[0m         \u001b[0mX_test_min\u001b[0m \u001b[0;34m=\u001b[0m \u001b[0mX_test_res\u001b[0m\u001b[0;34m[\u001b[0m\u001b[0;34m(\u001b[0m\u001b[0mX_test\u001b[0m\u001b[0;34m[\u001b[0m\u001b[0mattribute\u001b[0m\u001b[0;34m]\u001b[0m \u001b[0;34m==\u001b[0m \u001b[0mi\u001b[0m\u001b[0;34m)\u001b[0m\u001b[0;34m]\u001b[0m\u001b[0;34m\u001b[0m\u001b[0;34m\u001b[0m\u001b[0m\n\u001b[1;32m      5\u001b[0m         \u001b[0;31m#print(len(X_test_min))\u001b[0m\u001b[0;34m\u001b[0m\u001b[0;34m\u001b[0m\u001b[0;34m\u001b[0m\u001b[0m\n",
      "\u001b[0;31mNameError\u001b[0m: name 'predictors' is not defined"
     ]
    }
   ],
   "source": [
    "for attribute in predictors:\n",
    "    print(\"\\n\")\n",
    "    for i in range (mis_class[attribute].min(), mis_class[attribute].max()+1):\n",
    "        X_test_min = X_test_res[(X_test[attribute] == i)]\n",
    "        #print(len(X_test_min))\n",
    "        if len(X_test_min) == 0:\n",
    "            continue\n",
    "        mis_class_min = mis_class[(X_test[attribute] == i)]\n",
    "        min_acc = (1 - len(mis_class_min)/len(X_test_min))*100\n",
    "        if min_acc < AccThreshold:\n",
    "            #if len(X_test_min) < NumThreshold:\n",
    "             #   print(\"group too small >_< : \")\n",
    "            print(attribute, \" = \", i, \"group size = \", len(X_test_min), \"acc = \", min_acc)\n",
    "\n",
    "#X_test_res_min_mis_class = X_test_res_min.loc[X_test_res_min['act']!=X_test_res_min['pred']]\n",
    "#min_acc = (1 - len(mis_class_min)/len(X_test_min))*100\n"
   ]
  },
  {
   "cell_type": "code",
   "execution_count": null,
   "metadata": {},
   "outputs": [],
   "source": []
  },
  {
   "cell_type": "code",
   "execution_count": null,
   "metadata": {},
   "outputs": [],
   "source": []
  },
  {
   "cell_type": "code",
   "execution_count": null,
   "metadata": {},
   "outputs": [],
   "source": []
  }
 ],
 "metadata": {
  "kernelspec": {
   "display_name": "Python [conda env:py37]",
   "language": "python",
   "name": "conda-env-py37-py"
  },
  "language_info": {
   "codemirror_mode": {
    "name": "ipython",
    "version": 3
   },
   "file_extension": ".py",
   "mimetype": "text/x-python",
   "name": "python",
   "nbconvert_exporter": "python",
   "pygments_lexer": "ipython3",
   "version": "3.7.9"
  },
  "toc": {
   "base_numbering": 1,
   "nav_menu": {},
   "number_sections": true,
   "sideBar": true,
   "skip_h1_title": false,
   "title_cell": "Table of Contents",
   "title_sidebar": "Contents",
   "toc_cell": false,
   "toc_position": {},
   "toc_section_display": true,
   "toc_window_display": false
  }
 },
 "nbformat": 4,
 "nbformat_minor": 4
}
