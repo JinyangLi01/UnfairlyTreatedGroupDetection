{
 "cells": [
  {
   "cell_type": "code",
   "execution_count": 26,
   "metadata": {},
   "outputs": [
    {
     "data": {
      "text/plain": "'\\ncleanAdult = pd.read_csv(\"CleanAdult2.csv\")\\nmiss_class = pd.read_csv(\"miss_class2.csv\")\\n\\npredictors = [\\'age\\', \\'workclass\\', \\'education\\', \\'educational-num\\',\\n              \\'marital-status\\', \\'occupation\\', \\'relationship\\', \\'race\\', \\'gender\\',\\n              \\'capital-gain\\', \\'capital-loss\\', \\'hours-per-week\\', \\'native-country\\']  # len =13\\n\\n'"
     },
     "execution_count": 26,
     "metadata": {},
     "output_type": "execute_result"
    }
   ],
   "source": [
    "import numpy as np\n",
    "import pandas as pd\n",
    "import csv\n",
    "import math\n",
    "import pickle\n",
    "import pattern_count\n",
    "import time\n",
    "\n",
    "\"\"\"\n",
    "cleanAdult = pd.read_csv(\"CleanAdult2.csv\")\n",
    "miss_class = pd.read_csv(\"miss_class2.csv\")\n",
    "\n",
    "predictors = ['age', 'workclass', 'education', 'educational-num',\n",
    "              'marital-status', 'occupation', 'relationship', 'race', 'gender',\n",
    "              'capital-gain', 'capital-loss', 'hours-per-week', 'native-country']  # len =13\n",
    "\n",
    "\"\"\"\n",
    "\n",
    "\n"
   ]
  },
  {
   "cell_type": "code",
   "execution_count": 27,
   "metadata": {},
   "outputs": [],
   "source": [
    "def P1DominatedByP2(P1, P2):\n",
    "    length = len(P1)\n",
    "    for i in range(length):\n",
    "        if P1[i] == -1:\n",
    "            if P2[i] != -1:\n",
    "                return False\n",
    "        if P1[i] != -1:\n",
    "            if P2[i] != P1[i] and P2[i] != -1:\n",
    "                return False\n",
    "    return True\n",
    "\n",
    "# whether a pattern P is dominated by MUP M\n",
    "def PDominatedByM(P, M):\n",
    "    for m in M:\n",
    "        if P1DominatedByP2(P, m):\n",
    "            return True\n",
    "    return False\n",
    "\n",
    "# whether a pattern P dominates MUP M\n",
    "def PDominatesM(P, M):\n",
    "    for m in M:\n",
    "        if P1DominatedByP2(m, P):\n",
    "            return True\n",
    "    return False\n",
    "\n",
    "\"\"\"\n",
    "# coverage of P among dataset D\n",
    "def cov(P, D):\n",
    "    cnt = 0\n",
    "    for d in D:\n",
    "        if P1DominatedByP2(d, P):\n",
    "            cnt += 1\n",
    "    return cnt\n",
    "\n",
    "\"\"\"\n",
    "def GenerateParents(P):\n",
    "    parents = []\n",
    "    length = len(P)\n",
    "    for i in range(length):\n",
    "        if P[i] != -1:\n",
    "            q = P.copy()\n",
    "            q[i] = -1\n",
    "            parents.append(q)\n",
    "    return parents\n",
    "\n",
    "def GenerateByRule1(P, mcdes, attributes):\n",
    "    children = []\n",
    "    length = len(P)\n",
    "    i = 0\n",
    "    for i in range(length-1, -1, -1):\n",
    "        if P[i] != -1:\n",
    "            break\n",
    "    if P[i] == -1:\n",
    "        i -= 1\n",
    "    for j in range(i+1, length, 1):\n",
    "        for a in range(int(mcdes[attributes[j]]['min']), int(mcdes[attributes[j]]['max'])+1):\n",
    "            s = P.copy()\n",
    "            s[j] = a\n",
    "            children.append(s)\n",
    "    return children\n",
    "\n",
    "\n",
    "def num2string(pattern):\n",
    "    st = ''\n",
    "    for i in pattern:\n",
    "        if i != -1:\n",
    "            st += str(i)\n",
    "        st += '|'\n",
    "    st = st[:-1]\n",
    "    return st\n",
    "\n",
    "\n",
    "\n",
    "def Deepdiver(file, tao):\n",
    "    mc, mcdes, attributes = Prepatation(file)\n",
    "    column_list = np.array(mc.columns).tolist()\n",
    "    pc = pattern_count.PatternCounter(file, column_list, encoded=False)\n",
    "    pc.parse_data()\n",
    "    \n",
    "    root = [-1] * (len(attributes))\n",
    "    S = [root]  # initial stack\n",
    "    M = []  # maximal uncovered patterns\n",
    "    while len(S) > 0:\n",
    "        P = S.pop()\n",
    "        #print(P, len(M))\n",
    "        if PDominatedByM(P, M):\n",
    "            continue\n",
    "        elif PDominatesM(P, M):\n",
    "            uncoveredFlag = True\n",
    "        else:\n",
    "            st = num2string(P)\n",
    "            cnt = pc.pattern_count(st)\n",
    "            uncoveredFlag = cnt < tao and cnt > 0 # add > 0 requirement here\n",
    "        if uncoveredFlag:\n",
    "            S1 = [P] # stack\n",
    "            while len(S1) > 0:\n",
    "                P1 = S1.pop()\n",
    "                ParentNodes = GenerateParents(P1)\n",
    "                for parent in ParentNodes:\n",
    "                    st = num2string(parent)\n",
    "                    cntparent = pc.pattern_count(st)\n",
    "                    if cntparent < tao:\n",
    "                        S1.append(parent)\n",
    "                        break\n",
    "                M.append(P)\n",
    "            # end while\n",
    "        else:\n",
    "            children = GenerateByRule1(P, mcdes, attributes)\n",
    "            S = S + children\n",
    "    return M\n",
    "\n",
    "\n",
    "def Prepatation(filename):\n",
    "    mc = pd.read_csv(filename)\n",
    "    mcdes = mc.describe()\n",
    "    attributes = mcdes.columns.values\n",
    "    return mc, mcdes, attributes\n"
   ]
  },
  {
   "cell_type": "code",
   "execution_count": 19,
   "metadata": {},
   "outputs": [
    {
     "name": "stdout",
     "output_type": "stream",
     "text": [
      "13\n"
     ]
    }
   ],
   "source": [
    "\n",
    "mc, mcdes, attributes = Prepatation('miss_class3.csv')\n",
    "print(len(attributes))\n",
    "mcarray = np.array(mc)\n",
    "mclist = mcarray.tolist()\n"
   ]
  },
  {
   "cell_type": "code",
   "execution_count": 20,
   "metadata": {},
   "outputs": [
    {
     "name": "stdout",
     "output_type": "stream",
     "text": [
      "               age    workclass    education  educational-num  marital-status  \\\n",
      "count  4340.000000  4340.000000  4340.000000      4340.000000     4340.000000   \n",
      "mean      0.657604     2.242166    10.715207        10.805760        2.131106   \n",
      "std       0.627994     1.068142     3.174135         2.408848        1.069858   \n",
      "min       0.000000     0.000000     0.000000         1.000000        0.000000   \n",
      "25%       0.000000     2.000000     9.000000         9.000000        2.000000   \n",
      "50%       1.000000     2.000000    11.000000        10.000000        2.000000   \n",
      "75%       1.000000     2.000000    12.000000        13.000000        2.000000   \n",
      "max       3.000000     6.000000    15.000000        16.000000        6.000000   \n",
      "\n",
      "        occupation  relationship         race       gender  capital-gain  \\\n",
      "count  4340.000000   4340.000000  4340.000000  4340.000000   4340.000000   \n",
      "mean      6.300000      0.858065     3.743088     0.808065      0.146544   \n",
      "std       4.157129      1.605517     0.776549     0.393868      0.751552   \n",
      "min       0.000000      0.000000     0.000000     0.000000      0.000000   \n",
      "25%       3.000000      0.000000     4.000000     1.000000      0.000000   \n",
      "50%       6.000000      0.000000     4.000000     1.000000      0.000000   \n",
      "75%      10.000000      1.000000     4.000000     1.000000      0.000000   \n",
      "max      13.000000      5.000000     4.000000     1.000000      4.000000   \n",
      "\n",
      "       capital-loss  hours-per-week  native-country  \n",
      "count   4340.000000     4340.000000     4340.000000  \n",
      "mean       0.090553        2.013594       36.329954  \n",
      "std        0.513342        0.595016        6.375431  \n",
      "min        0.000000        0.000000        0.000000  \n",
      "25%        0.000000        2.000000       38.000000  \n",
      "50%        0.000000        2.000000       38.000000  \n",
      "75%        0.000000        2.000000       38.000000  \n",
      "max        3.000000        4.000000       39.000000  \n"
     ]
    }
   ],
   "source": [
    "print(mcdes)"
   ]
  },
  {
   "cell_type": "code",
   "execution_count": 21,
   "metadata": {},
   "outputs": [
    {
     "ename": "KeyboardInterrupt",
     "evalue": "",
     "output_type": "error",
     "traceback": [
      "\u001B[0;31m---------------------------------------------------------------------------\u001B[0m",
      "\u001B[0;31mKeyboardInterrupt\u001B[0m                         Traceback (most recent call last)",
      "\u001B[0;32m<ipython-input-21-8b31ab6ebf8e>\u001B[0m in \u001B[0;36m<module>\u001B[0;34m\u001B[0m\n\u001B[1;32m      1\u001B[0m \u001B[0mtime1\u001B[0m \u001B[0;34m=\u001B[0m \u001B[0mtime\u001B[0m\u001B[0;34m.\u001B[0m\u001B[0mtime\u001B[0m\u001B[0;34m(\u001B[0m\u001B[0;34m)\u001B[0m\u001B[0;34m\u001B[0m\u001B[0;34m\u001B[0m\u001B[0m\n\u001B[0;32m----> 2\u001B[0;31m \u001B[0mM\u001B[0m \u001B[0;34m=\u001B[0m \u001B[0mDeepdiver\u001B[0m\u001B[0;34m(\u001B[0m\u001B[0;34m'miss_class3.csv'\u001B[0m\u001B[0;34m,\u001B[0m \u001B[0;36m50\u001B[0m\u001B[0;34m*\u001B[0m\u001B[0;36m0.6\u001B[0m\u001B[0;34m)\u001B[0m\u001B[0;34m\u001B[0m\u001B[0;34m\u001B[0m\u001B[0m\n\u001B[0m\u001B[1;32m      3\u001B[0m \u001B[0mtime2\u001B[0m \u001B[0;34m=\u001B[0m \u001B[0mtime\u001B[0m\u001B[0;34m.\u001B[0m\u001B[0mtime\u001B[0m\u001B[0;34m(\u001B[0m\u001B[0;34m)\u001B[0m\u001B[0;34m\u001B[0m\u001B[0;34m\u001B[0m\u001B[0m\n\u001B[1;32m      4\u001B[0m \u001B[0mprint\u001B[0m\u001B[0;34m(\u001B[0m\u001B[0;34m\"--- %s seconds ---\"\u001B[0m \u001B[0;34m%\u001B[0m \u001B[0;34m(\u001B[0m\u001B[0mtime2\u001B[0m \u001B[0;34m-\u001B[0m \u001B[0mtime1\u001B[0m\u001B[0;34m)\u001B[0m\u001B[0;34m)\u001B[0m\u001B[0;34m\u001B[0m\u001B[0;34m\u001B[0m\u001B[0m\n\u001B[1;32m      5\u001B[0m \u001B[0mprint\u001B[0m\u001B[0;34m(\u001B[0m\u001B[0mM\u001B[0m\u001B[0;34m)\u001B[0m\u001B[0;34m\u001B[0m\u001B[0;34m\u001B[0m\u001B[0m\n",
      "\u001B[0;32m<ipython-input-18-480eaa5e5bc8>\u001B[0m in \u001B[0;36mDeepdiver\u001B[0;34m(file, tao)\u001B[0m\n\u001B[1;32m     88\u001B[0m         \u001B[0;32mif\u001B[0m \u001B[0mPDominatedByM\u001B[0m\u001B[0;34m(\u001B[0m\u001B[0mP\u001B[0m\u001B[0;34m,\u001B[0m \u001B[0mM\u001B[0m\u001B[0;34m)\u001B[0m\u001B[0;34m:\u001B[0m\u001B[0;34m\u001B[0m\u001B[0;34m\u001B[0m\u001B[0m\n\u001B[1;32m     89\u001B[0m             \u001B[0;32mcontinue\u001B[0m\u001B[0;34m\u001B[0m\u001B[0;34m\u001B[0m\u001B[0m\n\u001B[0;32m---> 90\u001B[0;31m         \u001B[0;32melif\u001B[0m \u001B[0mPDominatesM\u001B[0m\u001B[0;34m(\u001B[0m\u001B[0mP\u001B[0m\u001B[0;34m,\u001B[0m \u001B[0mM\u001B[0m\u001B[0;34m)\u001B[0m\u001B[0;34m:\u001B[0m\u001B[0;34m\u001B[0m\u001B[0;34m\u001B[0m\u001B[0m\n\u001B[0m\u001B[1;32m     91\u001B[0m             \u001B[0muncoveredFlag\u001B[0m \u001B[0;34m=\u001B[0m \u001B[0;32mTrue\u001B[0m\u001B[0;34m\u001B[0m\u001B[0;34m\u001B[0m\u001B[0m\n\u001B[1;32m     92\u001B[0m         \u001B[0;32melse\u001B[0m\u001B[0;34m:\u001B[0m\u001B[0;34m\u001B[0m\u001B[0;34m\u001B[0m\u001B[0m\n",
      "\u001B[0;32m<ipython-input-18-480eaa5e5bc8>\u001B[0m in \u001B[0;36mPDominatesM\u001B[0;34m(P, M)\u001B[0m\n\u001B[1;32m     20\u001B[0m \u001B[0;32mdef\u001B[0m \u001B[0mPDominatesM\u001B[0m\u001B[0;34m(\u001B[0m\u001B[0mP\u001B[0m\u001B[0;34m,\u001B[0m \u001B[0mM\u001B[0m\u001B[0;34m)\u001B[0m\u001B[0;34m:\u001B[0m\u001B[0;34m\u001B[0m\u001B[0;34m\u001B[0m\u001B[0m\n\u001B[1;32m     21\u001B[0m     \u001B[0;32mfor\u001B[0m \u001B[0mm\u001B[0m \u001B[0;32min\u001B[0m \u001B[0mM\u001B[0m\u001B[0;34m:\u001B[0m\u001B[0;34m\u001B[0m\u001B[0;34m\u001B[0m\u001B[0m\n\u001B[0;32m---> 22\u001B[0;31m         \u001B[0;32mif\u001B[0m \u001B[0mP1DominatedByP2\u001B[0m\u001B[0;34m(\u001B[0m\u001B[0mm\u001B[0m\u001B[0;34m,\u001B[0m \u001B[0mP\u001B[0m\u001B[0;34m)\u001B[0m\u001B[0;34m:\u001B[0m\u001B[0;34m\u001B[0m\u001B[0;34m\u001B[0m\u001B[0m\n\u001B[0m\u001B[1;32m     23\u001B[0m             \u001B[0;32mreturn\u001B[0m \u001B[0;32mTrue\u001B[0m\u001B[0;34m\u001B[0m\u001B[0;34m\u001B[0m\u001B[0m\n\u001B[1;32m     24\u001B[0m     \u001B[0;32mreturn\u001B[0m \u001B[0;32mFalse\u001B[0m\u001B[0;34m\u001B[0m\u001B[0;34m\u001B[0m\u001B[0m\n",
      "\u001B[0;32m<ipython-input-18-480eaa5e5bc8>\u001B[0m in \u001B[0;36mP1DominatedByP2\u001B[0;34m(P1, P2)\u001B[0m\n\u001B[1;32m      3\u001B[0m     \u001B[0;32mfor\u001B[0m \u001B[0mi\u001B[0m \u001B[0;32min\u001B[0m \u001B[0mrange\u001B[0m\u001B[0;34m(\u001B[0m\u001B[0mlength\u001B[0m\u001B[0;34m)\u001B[0m\u001B[0;34m:\u001B[0m\u001B[0;34m\u001B[0m\u001B[0;34m\u001B[0m\u001B[0m\n\u001B[1;32m      4\u001B[0m         \u001B[0;32mif\u001B[0m \u001B[0mP1\u001B[0m\u001B[0;34m[\u001B[0m\u001B[0mi\u001B[0m\u001B[0;34m]\u001B[0m \u001B[0;34m==\u001B[0m \u001B[0;34m-\u001B[0m\u001B[0;36m1\u001B[0m\u001B[0;34m:\u001B[0m\u001B[0;34m\u001B[0m\u001B[0;34m\u001B[0m\u001B[0m\n\u001B[0;32m----> 5\u001B[0;31m             \u001B[0;32mif\u001B[0m \u001B[0mP2\u001B[0m\u001B[0;34m[\u001B[0m\u001B[0mi\u001B[0m\u001B[0;34m]\u001B[0m \u001B[0;34m!=\u001B[0m \u001B[0;34m-\u001B[0m\u001B[0;36m1\u001B[0m\u001B[0;34m:\u001B[0m\u001B[0;34m\u001B[0m\u001B[0;34m\u001B[0m\u001B[0m\n\u001B[0m\u001B[1;32m      6\u001B[0m                 \u001B[0;32mreturn\u001B[0m \u001B[0;32mFalse\u001B[0m\u001B[0;34m\u001B[0m\u001B[0;34m\u001B[0m\u001B[0m\n\u001B[1;32m      7\u001B[0m         \u001B[0;32mif\u001B[0m \u001B[0mP1\u001B[0m\u001B[0;34m[\u001B[0m\u001B[0mi\u001B[0m\u001B[0;34m]\u001B[0m \u001B[0;34m!=\u001B[0m \u001B[0;34m-\u001B[0m\u001B[0;36m1\u001B[0m\u001B[0;34m:\u001B[0m\u001B[0;34m\u001B[0m\u001B[0;34m\u001B[0m\u001B[0m\n",
      "\u001B[0;31mKeyboardInterrupt\u001B[0m: "
     ]
    }
   ],
   "source": [
    "time1 = time.time()\n",
    "M = Deepdiver('miss_class3.csv', 50*0.6)\n",
    "time2 = time.time()\n",
    "print(\"--- %s seconds ---\" % (time2 - time1))\n",
    "print(M)"
   ]
  },
  {
   "cell_type": "code",
   "execution_count": 5,
   "metadata": {},
   "outputs": [
    {
     "ename": "NameError",
     "evalue": "name 'M' is not defined",
     "output_type": "error",
     "traceback": [
      "\u001B[0;31m---------------------------------------------------------------------------\u001B[0m",
      "\u001B[0;31mNameError\u001B[0m                                 Traceback (most recent call last)",
      "\u001B[0;32m<ipython-input-5-227f36000baf>\u001B[0m in \u001B[0;36m<module>\u001B[0;34m\u001B[0m\n\u001B[0;32m----> 1\u001B[0;31m \u001B[0mprint\u001B[0m\u001B[0;34m(\u001B[0m\u001B[0mlen\u001B[0m\u001B[0;34m(\u001B[0m\u001B[0mM\u001B[0m\u001B[0;34m)\u001B[0m\u001B[0;34m)\u001B[0m\u001B[0;34m\u001B[0m\u001B[0;34m\u001B[0m\u001B[0m\n\u001B[0m\u001B[1;32m      2\u001B[0m \u001B[0;34m\u001B[0m\u001B[0m\n",
      "\u001B[0;31mNameError\u001B[0m: name 'M' is not defined"
     ]
    }
   ],
   "source": [
    "print(len(M)) "
   ]
  },
  {
   "cell_type": "code",
   "execution_count": 24,
   "metadata": {},
   "outputs": [
    {
     "ename": "NameError",
     "evalue": "name 'M' is not defined",
     "output_type": "error",
     "traceback": [
      "\u001B[0;31m---------------------------------------------------------------------------\u001B[0m",
      "\u001B[0;31mNameError\u001B[0m                                 Traceback (most recent call last)",
      "\u001B[0;32m<ipython-input-24-cec18abc5233>\u001B[0m in \u001B[0;36m<module>\u001B[0;34m\u001B[0m\n\u001B[1;32m      1\u001B[0m \u001B[0;32mwith\u001B[0m \u001B[0mopen\u001B[0m\u001B[0;34m(\u001B[0m\u001B[0;34m'M30.pkl'\u001B[0m\u001B[0;34m,\u001B[0m \u001B[0;34m'wb'\u001B[0m\u001B[0;34m)\u001B[0m \u001B[0;32mas\u001B[0m \u001B[0mfilehandle\u001B[0m\u001B[0;34m:\u001B[0m\u001B[0;34m\u001B[0m\u001B[0;34m\u001B[0m\u001B[0m\n\u001B[1;32m      2\u001B[0m     \u001B[0;31m# store the data as binary data stream\u001B[0m\u001B[0;34m\u001B[0m\u001B[0;34m\u001B[0m\u001B[0;34m\u001B[0m\u001B[0m\n\u001B[0;32m----> 3\u001B[0;31m     \u001B[0mpickle\u001B[0m\u001B[0;34m.\u001B[0m\u001B[0mdump\u001B[0m\u001B[0;34m(\u001B[0m\u001B[0mM\u001B[0m\u001B[0;34m,\u001B[0m \u001B[0mfilehandle\u001B[0m\u001B[0;34m)\u001B[0m\u001B[0;34m\u001B[0m\u001B[0;34m\u001B[0m\u001B[0m\n\u001B[0m\u001B[1;32m      4\u001B[0m \u001B[0;34m\u001B[0m\u001B[0m\n",
      "\u001B[0;31mNameError\u001B[0m: name 'M' is not defined"
     ]
    }
   ],
   "source": [
    "with open('M30.pkl', 'wb') as filehandle:\n",
    "    # store the data as binary data stream\n",
    "    pickle.dump(M, filehandle)"
   ]
  },
  {
   "cell_type": "code",
   "execution_count": 25,
   "metadata": {},
   "outputs": [
    {
     "ename": "EOFError",
     "evalue": "Ran out of input",
     "output_type": "error",
     "traceback": [
      "\u001B[0;31m---------------------------------------------------------------------------\u001B[0m",
      "\u001B[0;31mEOFError\u001B[0m                                  Traceback (most recent call last)",
      "\u001B[0;32m<ipython-input-25-f2b1d2b98512>\u001B[0m in \u001B[0;36m<module>\u001B[0;34m\u001B[0m\n\u001B[1;32m      1\u001B[0m \u001B[0;32mwith\u001B[0m \u001B[0mopen\u001B[0m\u001B[0;34m(\u001B[0m\u001B[0;34m'M30.pkl'\u001B[0m\u001B[0;34m,\u001B[0m \u001B[0;34m'rb'\u001B[0m\u001B[0;34m)\u001B[0m \u001B[0;32mas\u001B[0m \u001B[0mfilehandle\u001B[0m\u001B[0;34m:\u001B[0m\u001B[0;34m\u001B[0m\u001B[0;34m\u001B[0m\u001B[0m\n\u001B[1;32m      2\u001B[0m     \u001B[0;31m# read the data as binary data stream\u001B[0m\u001B[0;34m\u001B[0m\u001B[0;34m\u001B[0m\u001B[0;34m\u001B[0m\u001B[0m\n\u001B[0;32m----> 3\u001B[0;31m     \u001B[0mplacesList\u001B[0m \u001B[0;34m=\u001B[0m \u001B[0mpickle\u001B[0m\u001B[0;34m.\u001B[0m\u001B[0mload\u001B[0m\u001B[0;34m(\u001B[0m\u001B[0mfilehandle\u001B[0m\u001B[0;34m)\u001B[0m\u001B[0;34m\u001B[0m\u001B[0;34m\u001B[0m\u001B[0m\n\u001B[0m\u001B[1;32m      4\u001B[0m \u001B[0;34m\u001B[0m\u001B[0m\n",
      "\u001B[0;31mEOFError\u001B[0m: Ran out of input"
     ]
    }
   ],
   "source": [
    "with open('M30.pkl', 'rb') as filehandle:\n",
    "    # read the data as binary data stream\n",
    "    placesList = pickle.load(filehandle)"
   ]
  },
  {
   "cell_type": "code",
   "execution_count": null,
   "outputs": [],
   "source": [],
   "metadata": {
    "collapsed": false,
    "pycharm": {
     "name": "#%%\n"
    }
   }
  },
  {
   "cell_type": "code",
   "execution_count": null,
   "outputs": [],
   "source": [],
   "metadata": {
    "collapsed": false,
    "pycharm": {
     "name": "#%%\n"
    }
   }
  }
 ],
 "metadata": {
  "kernelspec": {
   "display_name": "Python 3",
   "language": "python",
   "name": "python3"
  },
  "language_info": {
   "codemirror_mode": {
    "name": "ipython",
    "version": 3
   },
   "file_extension": ".py",
   "mimetype": "text/x-python",
   "name": "python",
   "nbconvert_exporter": "python",
   "pygments_lexer": "ipython3",
   "version": "3.8.3"
  },
  "toc": {
   "base_numbering": 1,
   "nav_menu": {},
   "number_sections": true,
   "sideBar": true,
   "skip_h1_title": false,
   "title_cell": "Table of Contents",
   "title_sidebar": "Contents",
   "toc_cell": false,
   "toc_position": {},
   "toc_section_display": true,
   "toc_window_display": false
  }
 },
 "nbformat": 4,
 "nbformat_minor": 4
}