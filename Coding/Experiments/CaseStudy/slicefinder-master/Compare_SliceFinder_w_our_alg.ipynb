{
 "cells": [
  {
   "cell_type": "code",
   "execution_count": null,
   "outputs": [],
   "source": [
    "import pandas as pd\n",
    "import numpy as np\n",
    "import pickle\n",
    "import time\n",
    "from sklearn.preprocessing import StandardScaler, LabelEncoder\n",
    "from sklearn.linear_model import LogisticRegression\n",
    "from sklearn.ensemble import RandomForestClassifier\n",
    "from slice_finder import SliceFinder\n",
    "\n",
    "from ipywidgets import interact, interactive\n",
    "from IPython.display import display\n",
    "\n",
    "from bokeh.layouts import widgetbox, row\n",
    "from bokeh.models import ColumnDataSource\n",
    "from bokeh.models import HoverTool\n",
    "from bokeh.models.widgets import DataTable, TableColumn\n",
    "from bokeh.io import push_notebook, show, output_notebook\n",
    "from bokeh.plotting import figure\n",
    "output_notebook()\n",
    "\n",
    "import warnings\n",
    "warnings.filterwarnings('ignore')\n",
    "\n",
    "import matplotlib.pyplot as plt\n",
    "import matplotlib\n",
    "matplotlib.rcParams.update({'font.size': 17})"
   ],
   "metadata": {
    "collapsed": false,
    "pycharm": {
     "name": "#%%\n",
     "is_executing": true
    }
   }
  },
  {
   "cell_type": "code",
   "execution_count": null,
   "outputs": [],
   "source": [],
   "metadata": {
    "collapsed": false,
    "pycharm": {
     "name": "#%%\n",
     "is_executing": true
    }
   }
  },
  {
   "cell_type": "markdown",
   "source": [
    "\n",
    "## Example: COMPAS dataset"
   ],
   "metadata": {
    "collapsed": false
   }
  },
  {
   "cell_type": "markdown",
   "source": [
    "### slice finder"
   ],
   "metadata": {
    "collapsed": false
   }
  },
  {
   "cell_type": "code",
   "execution_count": null,
   "outputs": [],
   "source": [
    "\n",
    "# data_file = r\"../../../../InputData/COMPAS_ProPublica/compas-analysis-master/cox-parsed/cox-parsed_7214rows_with_labels.csv\"\n",
    "data_file = r\"../CompareDivExplorer/divexplorer-main/notebooks/datasets/compas_discretized.csv\" \\\n",
    "\n",
    "\n",
    "compas_data = pd.read_csv(data_file)\n",
    "\n",
    "\n",
    "\n",
    "all_attributes = ['age', 'charge', 'race', 'sex', '#prior', 'stay', 'class', 'predicted']\n",
    "compas_data = compas_data[['age', 'charge', 'race', 'sex', '#prior', 'stay', 'class']]\n",
    "\n",
    "compas_data[:5]"
   ],
   "metadata": {
    "collapsed": false,
    "pycharm": {
     "name": "#%%\n",
     "is_executing": true
    }
   }
  },
  {
   "cell_type": "code",
   "execution_count": null,
   "outputs": [],
   "source": [
    "\n",
    "\n",
    "\n",
    "# # drop nan values\n",
    "# adult_data = adult_data.dropna()\n",
    "\n",
    "# Encode categorical features\n",
    "encoders = {}\n",
    "for column in compas_data.columns:\n",
    "    if compas_data.dtypes[column] == np.object:\n",
    "        le = LabelEncoder()\n",
    "        compas_data[column] = le.fit_transform(compas_data[column])\n",
    "        encoders[column] = le\n",
    "        print(column, le.classes_, le.transform(le.classes_))\n",
    "\n",
    "X, y = compas_data[compas_data.columns.difference([\"class\"])], compas_data[\"class\"]\n",
    "\n",
    "pickle.dump(encoders, open(\"compas.pkl\", \"wb\"), protocol=2)\n",
    "\n",
    "# Train a model\n",
    "#lr = LogisticRegression()\n",
    "#lr.fit(X, y)\n",
    "lr = RandomForestClassifier(max_depth=5, n_estimators=10)\n",
    "lr.fit(X, y)\n",
    "\n",
    "\n",
    "print(X)\n",
    "print(y)\n"
   ],
   "metadata": {
    "collapsed": false,
    "pycharm": {
     "name": "#%%\n",
     "is_executing": true
    }
   }
  },
  {
   "cell_type": "code",
   "execution_count": null,
   "outputs": [],
   "source": [
    "compas_data.columns\n"
   ],
   "metadata": {
    "collapsed": false,
    "pycharm": {
     "name": "#%%\n",
     "is_executing": true
    }
   }
  },
  {
   "cell_type": "code",
   "execution_count": null,
   "outputs": [],
   "source": [
    "\n"
   ],
   "metadata": {
    "collapsed": false,
    "pycharm": {
     "name": "#%%\n",
     "is_executing": true
    }
   }
  },
  {
   "cell_type": "code",
   "execution_count": null,
   "outputs": [],
   "source": [
    "\n",
    "sf = SliceFinder(lr, (X, y))\n",
    "metrics_all = sf.evaluate_model((X,y))\n",
    "reference = (np.mean(metrics_all), np.std(metrics_all), len(metrics_all))\n",
    "\n"
   ],
   "metadata": {
    "collapsed": false,
    "pycharm": {
     "name": "#%%\n",
     "is_executing": true
    }
   }
  },
  {
   "cell_type": "code",
   "execution_count": null,
   "outputs": [],
   "source": [
    "\n",
    "# degree: number of att in a pattern\n",
    "time1 = time.time()\n",
    "recommendations = sf.find_slice(k=10, epsilon=0.4, degree=6, max_workers=4)\n",
    "time2 = time.time()\n",
    "\n",
    "print(\"time = {}s\".format(time2 - time1))\n",
    "\n",
    "for s in recommendations:\n",
    "    print ('\\n=====================\\nSlice description:')\n",
    "    for k, v in list(s.filters.items()):\n",
    "        values = ''\n",
    "        if k in encoders:\n",
    "            le = encoders[k]\n",
    "            for v_ in v:\n",
    "                values += '%s '%(le.inverse_transform(v_)[0])\n",
    "        else:\n",
    "            for v_ in sorted(v, key=lambda x: x[0]):\n",
    "                if len(v_) > 1:\n",
    "                    values += '%s ~ %s'%(v_[0], v_[1])\n",
    "                else:\n",
    "                    values += '%s '%(v_[0])\n",
    "        print ('%s:%s'%(k, values))\n",
    "    print ('---------------------\\neffect_size: %s'%(s.effect_size))\n",
    "    print ('---------------------\\nmetric: %s'%(s.metric))\n",
    "    print ('size: %s'%(s.size))\n",
    "\n"
   ],
   "metadata": {
    "collapsed": false,
    "pycharm": {
     "name": "#%%\n",
     "is_executing": true
    }
   }
  },
  {
   "cell_type": "raw",
   "source": [
    "degree = 6, k = 10, compas\n",
    "\n",
    "=====================\n",
    "Slice description:\n",
    "age:>45\n",
    "sex:Female\n",
    "stay:>3Months\n",
    "---------------------\n",
    "effect_size: 0.4549356654704909\n",
    "---------------------\n",
    "metric: 0.8704216039196198\n",
    "size: 9\n",
    "=====================\n",
    "Slice description:\n",
    "sex:Female\n",
    "age:>45\n",
    "stay:>3Months\n",
    "---------------------\n",
    "effect_size: 0.4549356654704909\n",
    "---------------------\n",
    "metric: 0.8704216039196198\n",
    "size: 9\n",
    "\n",
    "=====================\n",
    "\n",
    "\n",
    "\n"
   ],
   "metadata": {
    "collapsed": false
   }
  },
  {
   "cell_type": "raw",
   "source": [
    "\n",
    "Result using compas by propublica:\n",
    "\n",
    "time = 45.51964211463928s\n",
    "=====================\n",
    "Slice description: [-1, 2, 4]\n",
    "age_cat:Greater than 45\n",
    "race:Native American\n",
    "---------------------\n",
    "effect_size: 0.46101940714561984\n",
    "---------------------\n",
    "metric: 0.8999632846790581\n",
    "size: 3\n",
    "\n",
    "=====================\n",
    "Slice description: [1, 2, 4]\n",
    "age_cat:Greater than 45\n",
    "race:Asian\n",
    "sex:Female\n",
    "---------------------\n",
    "effect_size: 1.2433614565205635\n",
    "---------------------\n",
    "metric: 1.090083379685828\n",
    "size: 1"
   ],
   "metadata": {
    "collapsed": false
   }
  },
  {
   "cell_type": "code",
   "execution_count": null,
   "outputs": [],
   "source": [],
   "metadata": {
    "collapsed": false,
    "pycharm": {
     "name": "#%%\n"
    }
   }
  },
  {
   "cell_type": "markdown",
   "source": [
    "## Analyze the results"
   ],
   "metadata": {
    "collapsed": false
   }
  },
  {
   "cell_type": "code",
   "execution_count": 34,
   "outputs": [
    {
     "name": "stdout",
     "output_type": "stream",
     "text": [
      "7214\n"
     ]
    },
    {
     "data": {
      "text/plain": "    sex          age_cat              race\n0  Male  Greater than 45             Other\n1  Male          25 - 45  African-American\n2  Male     Less than 25  African-American\n3  Male     Less than 25  African-American",
      "text/html": "<div>\n<style scoped>\n    .dataframe tbody tr th:only-of-type {\n        vertical-align: middle;\n    }\n\n    .dataframe tbody tr th {\n        vertical-align: top;\n    }\n\n    .dataframe thead th {\n        text-align: right;\n    }\n</style>\n<table border=\"1\" class=\"dataframe\">\n  <thead>\n    <tr style=\"text-align: right;\">\n      <th></th>\n      <th>sex</th>\n      <th>age_cat</th>\n      <th>race</th>\n    </tr>\n  </thead>\n  <tbody>\n    <tr>\n      <th>0</th>\n      <td>Male</td>\n      <td>Greater than 45</td>\n      <td>Other</td>\n    </tr>\n    <tr>\n      <th>1</th>\n      <td>Male</td>\n      <td>25 - 45</td>\n      <td>African-American</td>\n    </tr>\n    <tr>\n      <th>2</th>\n      <td>Male</td>\n      <td>Less than 25</td>\n      <td>African-American</td>\n    </tr>\n    <tr>\n      <th>3</th>\n      <td>Male</td>\n      <td>Less than 25</td>\n      <td>African-American</td>\n    </tr>\n  </tbody>\n</table>\n</div>"
     },
     "execution_count": 34,
     "metadata": {},
     "output_type": "execute_result"
    }
   ],
   "source": [
    "from Algorithms import NewAlgGeneral_SizeFairnessValue_2_20210528 as newalg\n",
    "from Algorithms import pattern_count\n",
    "\n",
    "\n",
    "data_file = r\"../../../../InputData/COMPAS_ProPublica/compas-analysis-master/cox-parsed/cox-parsed_7214rows_with_labels.csv\"\n",
    "\n",
    "\n",
    "df = pd.read_csv(data_file)\n",
    "\n",
    "\n",
    "\n",
    "\n",
    "TP = df[(df['ground_truth'] == 1) & (df['predicted'] == 1)]\n",
    "FP = df[(df['ground_truth'] == 0) & (df['predicted'] == 1)]\n",
    "TN = df[(df['ground_truth'] == 0) & (df['predicted'] == 0)]\n",
    "FN = df[(df['ground_truth'] == 1) & (df['predicted'] == 0)]\n",
    "\n",
    "print(len(TP) + len(FP) + len(TN) + len(FN))\n",
    "\n",
    "selected_attributes = ['sex', 'age_cat', 'race']\n",
    "df = df[selected_attributes]\n",
    "TP = TP[selected_attributes]\n",
    "TN = TN[selected_attributes]\n",
    "FP = FP[selected_attributes]\n",
    "FN = FN[selected_attributes]\n",
    "\n",
    "df[:4]\n",
    "\n"
   ],
   "metadata": {
    "collapsed": false,
    "pycharm": {
     "name": "#%%\n"
    }
   }
  },
  {
   "cell_type": "code",
   "execution_count": 36,
   "outputs": [
    {
     "name": "stdout",
     "output_type": "stream",
     "text": [
      "3 0 1 0 2\n",
      "acc = 1.0, FPR = 0.0, FNR = 0.0\n",
      "1 0 0 0 1\n",
      "acc = 1.0, FPR = None, FNR = 0.0\n"
     ]
    }
   ],
   "source": [
    "\n",
    "\n",
    "pc_whole_data = pattern_count.PatternCounter(df, encoded=False)\n",
    "pc_whole_data.parse_data()\n",
    "pc_FP = pattern_count.PatternCounter(FP, encoded=False)\n",
    "pc_FP.parse_data()\n",
    "pc_TN = pattern_count.PatternCounter(TN, encoded=False)\n",
    "pc_TN.parse_data()\n",
    "pc_FN = pattern_count.PatternCounter(FN, encoded=False)\n",
    "pc_FN.parse_data()\n",
    "pc_TP = pattern_count.PatternCounter(TP, encoded=False)\n",
    "pc_TP.parse_data()\n",
    "\n",
    "\n",
    "\n",
    "def analyze(P):\n",
    "    st = newalg.num2string(P)\n",
    "    whole_cardinality = pc_whole_data.pattern_count(st)\n",
    "    fp = pc_FP.pattern_count(st)\n",
    "    tn = pc_TN.pattern_count(st)\n",
    "    if fp + tn != 0:\n",
    "        FPR = fp / (fp + tn)\n",
    "    else:\n",
    "        FPR = None\n",
    "    fn = pc_FN.pattern_count(st)\n",
    "    tp = pc_TP.pattern_count(st)\n",
    "    if fn + tp != 0:\n",
    "        FNR = fn / (fn + tp)\n",
    "    else:\n",
    "        FNR = None\n",
    "\n",
    "    acc = (tp + tn) / whole_cardinality\n",
    "    print(whole_cardinality, fp, tn, fn, tp)\n",
    "    print(\"acc = {}, FPR = {}, FNR = {}\".format(acc, FPR, FNR))\n",
    "\n",
    "analyze([-1, 'Greater than 45', 'Native American'])\n",
    "analyze(['Male', 'Greater than 45', 'Native American'])\n"
   ],
   "metadata": {
    "collapsed": false,
    "pycharm": {
     "name": "#%%\n"
    }
   }
  },
  {
   "cell_type": "code",
   "execution_count": null,
   "outputs": [],
   "source": [],
   "metadata": {
    "collapsed": false,
    "pycharm": {
     "name": "#%%\n"
    }
   }
  }
 ],
 "metadata": {
  "kernelspec": {
   "display_name": "Python 3",
   "language": "python",
   "name": "python3"
  },
  "language_info": {
   "codemirror_mode": {
    "name": "ipython",
    "version": 2
   },
   "file_extension": ".py",
   "mimetype": "text/x-python",
   "name": "python",
   "nbconvert_exporter": "python",
   "pygments_lexer": "ipython2",
   "version": "2.7.6"
  }
 },
 "nbformat": 4,
 "nbformat_minor": 0
}