{
 "cells": [
  {
   "cell_type": "code",
   "execution_count": 1,
   "outputs": [],
   "source": [
    "\n",
    "import pandas as pd\n",
    "from Algorithms import pattern_count\n",
    "\n",
    "%load_ext autoreload\n",
    "%autoreload 2\n"
   ],
   "metadata": {
    "collapsed": false,
    "pycharm": {
     "name": "#%%\n"
    }
   }
  },
  {
   "cell_type": "code",
   "execution_count": 2,
   "outputs": [],
   "source": [
    "\n",
    "\n",
    "all_attributes = ['school_C', 'sex_C', 'age_C', 'address_C', 'famsize_C',\n",
    "                  'Pstatus_C', 'Medu_C', 'Fedu_C', 'Mjob_C', 'Fjob_C',\n",
    "                  'reason_C', 'guardian_C', 'traveltime_C', 'studytime_C', 'failures_C',\n",
    "                  'schoolsup_C', 'famsup_C', 'paid_C', 'activities_C', 'nursery_C',\n",
    "                  'higher_C', 'internet_C', 'romantic_C', 'famrel_C', 'freetime_C',\n",
    "                  'goout_C', 'Dalc_C', 'Walc_C', 'health_C', 'absences_C',\n",
    "                  'G1_C', 'G2_C', 'G3_C']\n"
   ],
   "metadata": {
    "collapsed": false,
    "pycharm": {
     "name": "#%%\n"
    }
   }
  },
  {
   "cell_type": "code",
   "execution_count": 24,
   "outputs": [
    {
     "name": "stdout",
     "output_type": "stream",
     "text": [
      "5\n"
     ]
    }
   ],
   "source": [
    "\n",
    "from Algorithms import NewAlgRanking_19_20211216 as newalg\n",
    "from Algorithms import NaiveAlgRanking_4_20211213 as naivealg\n",
    "selected_attributes = all_attributes[:4]\n",
    "\n",
    "Thc_list = [10, 20, 30, 40, 50, 60, 70, 80, 90, 100]\n",
    "k_min = 10\n",
    "k_max = 10\n",
    "\n",
    "original_data_file = r\"datasets/student-mat_cat_ranked.csv\"\n",
    "\n",
    "ranked_data = pd.read_csv(original_data_file)\n",
    "ranked_data = ranked_data[selected_attributes]\n",
    "time_limit = 10*60\n",
    "\n",
    "\n",
    "List_k = list(range(k_min, k_max))\n",
    "\n",
    "Thc = 50\n",
    "\n",
    "Lowerbounds = [10] * 10\n",
    "\n",
    "\n",
    "# Lowerbounds = [10] * 10 + [20] * 10 + [30] * 10 + [40] * 10\n",
    "\n",
    "result1, num_patterns_visited1_, t1_ \\\n",
    "            = newalg.GraphTraverse(\n",
    "            ranked_data, selected_attributes, Thc,\n",
    "            Lowerbounds,\n",
    "            k_min, k_max, time_limit)\n",
    "\n",
    "print(len(result1[0]))\n",
    "\n"
   ],
   "metadata": {
    "collapsed": false,
    "pycharm": {
     "name": "#%%\n"
    }
   }
  },
  {
   "cell_type": "code",
   "execution_count": 25,
   "outputs": [
    {
     "name": "stdout",
     "output_type": "stream",
     "text": [
      "[0, -1, -1, -1]\n",
      "[-1, 0, -1, -1]\n",
      "[-1, 1, -1, -1]\n",
      "[-1, -1, -1, 0]\n",
      "[-1, -1, -1, 1]\n"
     ]
    }
   ],
   "source": [
    "\n",
    "for r in result1[0]:\n",
    "    print(r)"
   ],
   "metadata": {
    "collapsed": false,
    "pycharm": {
     "name": "#%%\n"
    }
   }
  },
  {
   "cell_type": "code",
   "execution_count": 26,
   "outputs": [
    {
     "name": "stdout",
     "output_type": "stream",
     "text": [
      "time for k_min = 0.013398170471191406\n",
      "finish kmin\n",
      "2\n",
      "[{'|1||', '|||1'}]\n"
     ]
    }
   ],
   "source": [
    "from Algorithms import WholeProcess_0_20201211 as wholeprocess\n",
    "from Algorithms import NewAlgRanking_definition2_13_20220509 as newalg\n",
    "\n",
    "\n",
    "\n",
    "selected_attributes = all_attributes[:4]\n",
    "\n",
    "k=50\n",
    "\n",
    "alpha = 0.8\n",
    "\n",
    "\n",
    "k_min = 10\n",
    "k_max = 10\n",
    "\n",
    "original_data_file = r\"datasets/student-mat_cat_ranked.csv\"\n",
    "\n",
    "\n",
    "ranked_data = pd.read_csv(original_data_file)\n",
    "ranked_data = ranked_data[selected_attributes]\n",
    "\n",
    "time_limit = 10 * 60\n",
    "\n",
    "\n",
    "\n",
    "result2, num_patterns_visited1_, t1_ \\\n",
    "            = newalg.GraphTraverse(\n",
    "            ranked_data, selected_attributes, Thc,\n",
    "            alpha,\n",
    "            k_min, k_max, time_limit)\n",
    "\n",
    "\n",
    "print(len(result2[0]))\n",
    "print(result2)"
   ],
   "metadata": {
    "collapsed": false,
    "pycharm": {
     "name": "#%%\n"
    }
   }
  },
  {
   "cell_type": "code",
   "execution_count": 40,
   "outputs": [
    {
     "name": "stdout",
     "output_type": "stream",
     "text": [
      "The autoreload extension is already loaded. To reload it, use:\n",
      "  %reload_ext autoreload\n"
     ]
    }
   ],
   "source": [
    "%load_ext autoreload\n",
    "%autoreload 2\n",
    "\n",
    "import os\n",
    "import pandas as pd\n",
    "from divexplorer.FP_DivergenceExplorer import FP_DivergenceExplorer\n",
    "# from divexplorer.FP_DivergenceExplorer_original import FP_DivergenceExplorer\n",
    "\n",
    "\n",
    "inputDir=os.path.join(\".\", \"datasets\")\n",
    "\n",
    "\n",
    "df= pd.read_csv(os.path.join(inputDir, \"student-mat_cat_ranked.csv\"))\n",
    "selected_attributes = all_attributes[:10] + [\"truth\", \"prediction\", \"rank\"]\n",
    "\n",
    "df = df[selected_attributes]\n",
    "\n",
    "class_map={'N': 0, 'P': 1}\n",
    "df.head()\n",
    "\n",
    "min_sup = 0.13\n",
    "fp_diver = FP_DivergenceExplorer(df,\"truth\", \"prediction\", class_map=class_map)\n"
   ],
   "metadata": {
    "collapsed": false,
    "pycharm": {
     "name": "#%%\n"
    }
   }
  },
  {
   "cell_type": "code",
   "execution_count": 41,
   "outputs": [
    {
     "name": "stderr",
     "output_type": "stream",
     "text": [
      "/Users/jinyangli/opt/anaconda3/lib/python3.8/site-packages/divexplorer/FP_DivergenceExplorer.py:501: FutureWarning: The frame.append method is deprecated and will be removed from pandas in a future version. Use pandas.concat instead.\n",
      "  fp = fp.append(row_root, ignore_index=True)\n"
     ]
    }
   ],
   "source": [
    "\n",
    "TopK = 10\n",
    "FP_fm=fp_diver.getFrequentPatternDivergence(min_support=min_sup,\n",
    "                                            TopK=TopK,\n",
    "                                            metrics=[\"d_accuracy\"])\n"
   ],
   "metadata": {
    "collapsed": false,
    "pycharm": {
     "name": "#%%\n"
    }
   }
  },
  {
   "cell_type": "code",
   "execution_count": 42,
   "outputs": [
    {
     "name": "stdout",
     "output_type": "stream",
     "text": [
      "641\n"
     ]
    },
    {
     "data": {
      "text/plain": "    support                itemsets  sum_rank  average_rank  fn  tp  \\\n0  1.000000                      ()       NaN           NaN  92  92   \n1  0.926582               (age_C=0)       1.0      0.002732   0   1   \n2  0.896203           (Pstatus_C=0)      73.0      0.206215   1   1   \n3  0.883544            (school_C=0)     143.0      0.409742   0   3   \n4  0.832911  (age_C=0, Pstatus_C=0)       1.0      0.003040   0   1   \n\n   avg_rank_computed     fp     rank     tn  length  support_count  accuracy  \\\n0           0.025316  105.0  78210.0  106.0       0          395.0  0.025316   \n1           0.027322    NaN      NaN    NaN       1          366.0  0.027322   \n2           0.019774    NaN      NaN    NaN       1          354.0  0.019774   \n3           0.025788    NaN      NaN    NaN       1          349.0  0.025788   \n4           0.021277    NaN      NaN    NaN       2          329.0  0.021277   \n\n   d_accuracy  t_value_tp_tn  \n0    0.000000       0.000000  \n1    0.002006       0.697830  \n2   -0.005542       0.005597  \n3    0.000472       1.808232  \n4   -0.004040       0.697830  ",
      "text/html": "<div>\n<style scoped>\n    .dataframe tbody tr th:only-of-type {\n        vertical-align: middle;\n    }\n\n    .dataframe tbody tr th {\n        vertical-align: top;\n    }\n\n    .dataframe thead th {\n        text-align: right;\n    }\n</style>\n<table border=\"1\" class=\"dataframe\">\n  <thead>\n    <tr style=\"text-align: right;\">\n      <th></th>\n      <th>support</th>\n      <th>itemsets</th>\n      <th>sum_rank</th>\n      <th>average_rank</th>\n      <th>fn</th>\n      <th>tp</th>\n      <th>avg_rank_computed</th>\n      <th>fp</th>\n      <th>rank</th>\n      <th>tn</th>\n      <th>length</th>\n      <th>support_count</th>\n      <th>accuracy</th>\n      <th>d_accuracy</th>\n      <th>t_value_tp_tn</th>\n    </tr>\n  </thead>\n  <tbody>\n    <tr>\n      <th>0</th>\n      <td>1.000000</td>\n      <td>()</td>\n      <td>NaN</td>\n      <td>NaN</td>\n      <td>92</td>\n      <td>92</td>\n      <td>0.025316</td>\n      <td>105.0</td>\n      <td>78210.0</td>\n      <td>106.0</td>\n      <td>0</td>\n      <td>395.0</td>\n      <td>0.025316</td>\n      <td>0.000000</td>\n      <td>0.000000</td>\n    </tr>\n    <tr>\n      <th>1</th>\n      <td>0.926582</td>\n      <td>(age_C=0)</td>\n      <td>1.0</td>\n      <td>0.002732</td>\n      <td>0</td>\n      <td>1</td>\n      <td>0.027322</td>\n      <td>NaN</td>\n      <td>NaN</td>\n      <td>NaN</td>\n      <td>1</td>\n      <td>366.0</td>\n      <td>0.027322</td>\n      <td>0.002006</td>\n      <td>0.697830</td>\n    </tr>\n    <tr>\n      <th>2</th>\n      <td>0.896203</td>\n      <td>(Pstatus_C=0)</td>\n      <td>73.0</td>\n      <td>0.206215</td>\n      <td>1</td>\n      <td>1</td>\n      <td>0.019774</td>\n      <td>NaN</td>\n      <td>NaN</td>\n      <td>NaN</td>\n      <td>1</td>\n      <td>354.0</td>\n      <td>0.019774</td>\n      <td>-0.005542</td>\n      <td>0.005597</td>\n    </tr>\n    <tr>\n      <th>3</th>\n      <td>0.883544</td>\n      <td>(school_C=0)</td>\n      <td>143.0</td>\n      <td>0.409742</td>\n      <td>0</td>\n      <td>3</td>\n      <td>0.025788</td>\n      <td>NaN</td>\n      <td>NaN</td>\n      <td>NaN</td>\n      <td>1</td>\n      <td>349.0</td>\n      <td>0.025788</td>\n      <td>0.000472</td>\n      <td>1.808232</td>\n    </tr>\n    <tr>\n      <th>4</th>\n      <td>0.832911</td>\n      <td>(age_C=0, Pstatus_C=0)</td>\n      <td>1.0</td>\n      <td>0.003040</td>\n      <td>0</td>\n      <td>1</td>\n      <td>0.021277</td>\n      <td>NaN</td>\n      <td>NaN</td>\n      <td>NaN</td>\n      <td>2</td>\n      <td>329.0</td>\n      <td>0.021277</td>\n      <td>-0.004040</td>\n      <td>0.697830</td>\n    </tr>\n  </tbody>\n</table>\n</div>"
     },
     "execution_count": 42,
     "metadata": {},
     "output_type": "execute_result"
    }
   ],
   "source": [
    "print(len(FP_fm))\n",
    "FP_fm[:5]\n",
    "\n"
   ],
   "metadata": {
    "collapsed": false,
    "pycharm": {
     "name": "#%%\n"
    }
   }
  },
  {
   "cell_type": "code",
   "execution_count": 44,
   "outputs": [
    {
     "data": {
      "text/plain": "      support                                           itemsets  sum_rank  \\\n542  0.141772  (Medu_C=4, address_C=0, sex_C=0, school_C=0, a...       1.0   \n519  0.146835          (Medu_C=4, sex_C=0, age_C=0, address_C=0)     101.0   \n517  0.146835       (Medu_C=4, sex_C=0, address_C=0, school_C=0)       1.0   \n480  0.151899                   (Medu_C=4, sex_C=0, address_C=0)     615.0   \n432  0.162025           (Medu_C=4, sex_C=0, age_C=0, school_C=0)       1.0   \n..        ...                                                ...       ...   \n277  0.200000                   (age_C=0, Pstatus_C=0, Fedu_C=4)       6.0   \n275  0.200000                    (school_C=0, age_C=0, Medu_C=3)       2.0   \n274  0.200000       (school_C=0, age_C=0, Pstatus_C=0, Fjob_C=2)       1.0   \n55   0.400000                    (sex_C=0, age_C=0, Pstatus_C=0)       1.0   \n0    1.000000                                                 ()       NaN   \n\n     average_rank  fn  tp  avg_rank_computed     fp     rank     tn  length  \\\n542      0.017857   0   1           0.089286    NaN      NaN    NaN       5   \n519      1.741379   0   2           0.086207    NaN      NaN    NaN       4   \n517      0.017241   0   1           0.086207    NaN      NaN    NaN       4   \n480     10.250000   0   3           0.083333    NaN      NaN    NaN       3   \n432      0.015625   0   1           0.078125    NaN      NaN    NaN       4   \n..            ...  ..  ..                ...    ...      ...    ...     ...   \n277      0.075949   0   0           0.025316    NaN      NaN    NaN       3   \n275      0.025316   0   1           0.025316    NaN      NaN    NaN       3   \n274      0.012658   0   1           0.025316    NaN      NaN    NaN       4   \n55       0.006329   0   1           0.025316    NaN      NaN    NaN       3   \n0             NaN  92  92           0.025316  105.0  78210.0  106.0       0   \n\n     support_count  accuracy  d_accuracy  t_value_tp_tn  \n542           56.0  0.089286    0.063969       0.697830  \n519           58.0  0.086207    0.060890       1.273866  \n517           58.0  0.086207    0.060890       0.697830  \n480           60.0  0.083333    0.058017       1.808232  \n432           64.0  0.078125    0.052809       0.697830  \n..             ...       ...         ...            ...  \n277           79.0  0.025316    0.000000       0.004346  \n275           79.0  0.025316    0.000000       0.697830  \n274           79.0  0.025316    0.000000       0.697830  \n55           158.0  0.025316    0.000000       0.697830  \n0            395.0  0.025316    0.000000       0.000000  \n\n[641 rows x 15 columns]",
      "text/html": "<div>\n<style scoped>\n    .dataframe tbody tr th:only-of-type {\n        vertical-align: middle;\n    }\n\n    .dataframe tbody tr th {\n        vertical-align: top;\n    }\n\n    .dataframe thead th {\n        text-align: right;\n    }\n</style>\n<table border=\"1\" class=\"dataframe\">\n  <thead>\n    <tr style=\"text-align: right;\">\n      <th></th>\n      <th>support</th>\n      <th>itemsets</th>\n      <th>sum_rank</th>\n      <th>average_rank</th>\n      <th>fn</th>\n      <th>tp</th>\n      <th>avg_rank_computed</th>\n      <th>fp</th>\n      <th>rank</th>\n      <th>tn</th>\n      <th>length</th>\n      <th>support_count</th>\n      <th>accuracy</th>\n      <th>d_accuracy</th>\n      <th>t_value_tp_tn</th>\n    </tr>\n  </thead>\n  <tbody>\n    <tr>\n      <th>542</th>\n      <td>0.141772</td>\n      <td>(Medu_C=4, address_C=0, sex_C=0, school_C=0, a...</td>\n      <td>1.0</td>\n      <td>0.017857</td>\n      <td>0</td>\n      <td>1</td>\n      <td>0.089286</td>\n      <td>NaN</td>\n      <td>NaN</td>\n      <td>NaN</td>\n      <td>5</td>\n      <td>56.0</td>\n      <td>0.089286</td>\n      <td>0.063969</td>\n      <td>0.697830</td>\n    </tr>\n    <tr>\n      <th>519</th>\n      <td>0.146835</td>\n      <td>(Medu_C=4, sex_C=0, age_C=0, address_C=0)</td>\n      <td>101.0</td>\n      <td>1.741379</td>\n      <td>0</td>\n      <td>2</td>\n      <td>0.086207</td>\n      <td>NaN</td>\n      <td>NaN</td>\n      <td>NaN</td>\n      <td>4</td>\n      <td>58.0</td>\n      <td>0.086207</td>\n      <td>0.060890</td>\n      <td>1.273866</td>\n    </tr>\n    <tr>\n      <th>517</th>\n      <td>0.146835</td>\n      <td>(Medu_C=4, sex_C=0, address_C=0, school_C=0)</td>\n      <td>1.0</td>\n      <td>0.017241</td>\n      <td>0</td>\n      <td>1</td>\n      <td>0.086207</td>\n      <td>NaN</td>\n      <td>NaN</td>\n      <td>NaN</td>\n      <td>4</td>\n      <td>58.0</td>\n      <td>0.086207</td>\n      <td>0.060890</td>\n      <td>0.697830</td>\n    </tr>\n    <tr>\n      <th>480</th>\n      <td>0.151899</td>\n      <td>(Medu_C=4, sex_C=0, address_C=0)</td>\n      <td>615.0</td>\n      <td>10.250000</td>\n      <td>0</td>\n      <td>3</td>\n      <td>0.083333</td>\n      <td>NaN</td>\n      <td>NaN</td>\n      <td>NaN</td>\n      <td>3</td>\n      <td>60.0</td>\n      <td>0.083333</td>\n      <td>0.058017</td>\n      <td>1.808232</td>\n    </tr>\n    <tr>\n      <th>432</th>\n      <td>0.162025</td>\n      <td>(Medu_C=4, sex_C=0, age_C=0, school_C=0)</td>\n      <td>1.0</td>\n      <td>0.015625</td>\n      <td>0</td>\n      <td>1</td>\n      <td>0.078125</td>\n      <td>NaN</td>\n      <td>NaN</td>\n      <td>NaN</td>\n      <td>4</td>\n      <td>64.0</td>\n      <td>0.078125</td>\n      <td>0.052809</td>\n      <td>0.697830</td>\n    </tr>\n    <tr>\n      <th>...</th>\n      <td>...</td>\n      <td>...</td>\n      <td>...</td>\n      <td>...</td>\n      <td>...</td>\n      <td>...</td>\n      <td>...</td>\n      <td>...</td>\n      <td>...</td>\n      <td>...</td>\n      <td>...</td>\n      <td>...</td>\n      <td>...</td>\n      <td>...</td>\n      <td>...</td>\n    </tr>\n    <tr>\n      <th>277</th>\n      <td>0.200000</td>\n      <td>(age_C=0, Pstatus_C=0, Fedu_C=4)</td>\n      <td>6.0</td>\n      <td>0.075949</td>\n      <td>0</td>\n      <td>0</td>\n      <td>0.025316</td>\n      <td>NaN</td>\n      <td>NaN</td>\n      <td>NaN</td>\n      <td>3</td>\n      <td>79.0</td>\n      <td>0.025316</td>\n      <td>0.000000</td>\n      <td>0.004346</td>\n    </tr>\n    <tr>\n      <th>275</th>\n      <td>0.200000</td>\n      <td>(school_C=0, age_C=0, Medu_C=3)</td>\n      <td>2.0</td>\n      <td>0.025316</td>\n      <td>0</td>\n      <td>1</td>\n      <td>0.025316</td>\n      <td>NaN</td>\n      <td>NaN</td>\n      <td>NaN</td>\n      <td>3</td>\n      <td>79.0</td>\n      <td>0.025316</td>\n      <td>0.000000</td>\n      <td>0.697830</td>\n    </tr>\n    <tr>\n      <th>274</th>\n      <td>0.200000</td>\n      <td>(school_C=0, age_C=0, Pstatus_C=0, Fjob_C=2)</td>\n      <td>1.0</td>\n      <td>0.012658</td>\n      <td>0</td>\n      <td>1</td>\n      <td>0.025316</td>\n      <td>NaN</td>\n      <td>NaN</td>\n      <td>NaN</td>\n      <td>4</td>\n      <td>79.0</td>\n      <td>0.025316</td>\n      <td>0.000000</td>\n      <td>0.697830</td>\n    </tr>\n    <tr>\n      <th>55</th>\n      <td>0.400000</td>\n      <td>(sex_C=0, age_C=0, Pstatus_C=0)</td>\n      <td>1.0</td>\n      <td>0.006329</td>\n      <td>0</td>\n      <td>1</td>\n      <td>0.025316</td>\n      <td>NaN</td>\n      <td>NaN</td>\n      <td>NaN</td>\n      <td>3</td>\n      <td>158.0</td>\n      <td>0.025316</td>\n      <td>0.000000</td>\n      <td>0.697830</td>\n    </tr>\n    <tr>\n      <th>0</th>\n      <td>1.000000</td>\n      <td>()</td>\n      <td>NaN</td>\n      <td>NaN</td>\n      <td>92</td>\n      <td>92</td>\n      <td>0.025316</td>\n      <td>105.0</td>\n      <td>78210.0</td>\n      <td>106.0</td>\n      <td>0</td>\n      <td>395.0</td>\n      <td>0.025316</td>\n      <td>0.000000</td>\n      <td>0.000000</td>\n    </tr>\n  </tbody>\n</table>\n<p>641 rows × 15 columns</p>\n</div>"
     },
     "execution_count": 44,
     "metadata": {},
     "output_type": "execute_result"
    }
   ],
   "source": [
    "\n",
    "FP_fm_sorted = FP_fm.reindex(FP_fm['d_accuracy'].abs().sort_values(ascending=False).index)\n",
    "FP_fm_sorted"
   ],
   "metadata": {
    "collapsed": false,
    "pycharm": {
     "name": "#%%\n"
    }
   }
  },
  {
   "cell_type": "code",
   "execution_count": 45,
   "outputs": [
    {
     "data": {
      "text/plain": "      support                                           itemsets  sum_rank  \\\n0    0.141772  (Medu_C=4, address_C=0, sex_C=0, school_C=0, a...       1.0   \n1    0.146835          (Medu_C=4, sex_C=0, age_C=0, address_C=0)     101.0   \n2    0.146835       (Medu_C=4, sex_C=0, address_C=0, school_C=0)       1.0   \n3    0.151899                   (Medu_C=4, sex_C=0, address_C=0)     615.0   \n4    0.162025           (Medu_C=4, sex_C=0, age_C=0, school_C=0)       1.0   \n..        ...                                                ...       ...   \n636  0.200000                   (age_C=0, Pstatus_C=0, Fedu_C=4)       6.0   \n637  0.200000                    (school_C=0, age_C=0, Medu_C=3)       2.0   \n638  0.200000       (school_C=0, age_C=0, Pstatus_C=0, Fjob_C=2)       1.0   \n639  0.400000                    (sex_C=0, age_C=0, Pstatus_C=0)       1.0   \n640  1.000000                                                 ()       NaN   \n\n     average_rank  fn  tp  avg_rank_computed     fp     rank     tn  length  \\\n0        0.017857   0   1           0.089286    NaN      NaN    NaN       5   \n1        1.741379   0   2           0.086207    NaN      NaN    NaN       4   \n2        0.017241   0   1           0.086207    NaN      NaN    NaN       4   \n3       10.250000   0   3           0.083333    NaN      NaN    NaN       3   \n4        0.015625   0   1           0.078125    NaN      NaN    NaN       4   \n..            ...  ..  ..                ...    ...      ...    ...     ...   \n636      0.075949   0   0           0.025316    NaN      NaN    NaN       3   \n637      0.025316   0   1           0.025316    NaN      NaN    NaN       3   \n638      0.012658   0   1           0.025316    NaN      NaN    NaN       4   \n639      0.006329   0   1           0.025316    NaN      NaN    NaN       3   \n640           NaN  92  92           0.025316  105.0  78210.0  106.0       0   \n\n     support_count  accuracy  d_accuracy  t_value_tp_tn  \n0             56.0  0.089286    0.063969       0.697830  \n1             58.0  0.086207    0.060890       1.273866  \n2             58.0  0.086207    0.060890       0.697830  \n3             60.0  0.083333    0.058017       1.808232  \n4             64.0  0.078125    0.052809       0.697830  \n..             ...       ...         ...            ...  \n636           79.0  0.025316    0.000000       0.004346  \n637           79.0  0.025316    0.000000       0.697830  \n638           79.0  0.025316    0.000000       0.697830  \n639          158.0  0.025316    0.000000       0.697830  \n640          395.0  0.025316    0.000000       0.000000  \n\n[641 rows x 15 columns]",
      "text/html": "<div>\n<style scoped>\n    .dataframe tbody tr th:only-of-type {\n        vertical-align: middle;\n    }\n\n    .dataframe tbody tr th {\n        vertical-align: top;\n    }\n\n    .dataframe thead th {\n        text-align: right;\n    }\n</style>\n<table border=\"1\" class=\"dataframe\">\n  <thead>\n    <tr style=\"text-align: right;\">\n      <th></th>\n      <th>support</th>\n      <th>itemsets</th>\n      <th>sum_rank</th>\n      <th>average_rank</th>\n      <th>fn</th>\n      <th>tp</th>\n      <th>avg_rank_computed</th>\n      <th>fp</th>\n      <th>rank</th>\n      <th>tn</th>\n      <th>length</th>\n      <th>support_count</th>\n      <th>accuracy</th>\n      <th>d_accuracy</th>\n      <th>t_value_tp_tn</th>\n    </tr>\n  </thead>\n  <tbody>\n    <tr>\n      <th>0</th>\n      <td>0.141772</td>\n      <td>(Medu_C=4, address_C=0, sex_C=0, school_C=0, a...</td>\n      <td>1.0</td>\n      <td>0.017857</td>\n      <td>0</td>\n      <td>1</td>\n      <td>0.089286</td>\n      <td>NaN</td>\n      <td>NaN</td>\n      <td>NaN</td>\n      <td>5</td>\n      <td>56.0</td>\n      <td>0.089286</td>\n      <td>0.063969</td>\n      <td>0.697830</td>\n    </tr>\n    <tr>\n      <th>1</th>\n      <td>0.146835</td>\n      <td>(Medu_C=4, sex_C=0, age_C=0, address_C=0)</td>\n      <td>101.0</td>\n      <td>1.741379</td>\n      <td>0</td>\n      <td>2</td>\n      <td>0.086207</td>\n      <td>NaN</td>\n      <td>NaN</td>\n      <td>NaN</td>\n      <td>4</td>\n      <td>58.0</td>\n      <td>0.086207</td>\n      <td>0.060890</td>\n      <td>1.273866</td>\n    </tr>\n    <tr>\n      <th>2</th>\n      <td>0.146835</td>\n      <td>(Medu_C=4, sex_C=0, address_C=0, school_C=0)</td>\n      <td>1.0</td>\n      <td>0.017241</td>\n      <td>0</td>\n      <td>1</td>\n      <td>0.086207</td>\n      <td>NaN</td>\n      <td>NaN</td>\n      <td>NaN</td>\n      <td>4</td>\n      <td>58.0</td>\n      <td>0.086207</td>\n      <td>0.060890</td>\n      <td>0.697830</td>\n    </tr>\n    <tr>\n      <th>3</th>\n      <td>0.151899</td>\n      <td>(Medu_C=4, sex_C=0, address_C=0)</td>\n      <td>615.0</td>\n      <td>10.250000</td>\n      <td>0</td>\n      <td>3</td>\n      <td>0.083333</td>\n      <td>NaN</td>\n      <td>NaN</td>\n      <td>NaN</td>\n      <td>3</td>\n      <td>60.0</td>\n      <td>0.083333</td>\n      <td>0.058017</td>\n      <td>1.808232</td>\n    </tr>\n    <tr>\n      <th>4</th>\n      <td>0.162025</td>\n      <td>(Medu_C=4, sex_C=0, age_C=0, school_C=0)</td>\n      <td>1.0</td>\n      <td>0.015625</td>\n      <td>0</td>\n      <td>1</td>\n      <td>0.078125</td>\n      <td>NaN</td>\n      <td>NaN</td>\n      <td>NaN</td>\n      <td>4</td>\n      <td>64.0</td>\n      <td>0.078125</td>\n      <td>0.052809</td>\n      <td>0.697830</td>\n    </tr>\n    <tr>\n      <th>...</th>\n      <td>...</td>\n      <td>...</td>\n      <td>...</td>\n      <td>...</td>\n      <td>...</td>\n      <td>...</td>\n      <td>...</td>\n      <td>...</td>\n      <td>...</td>\n      <td>...</td>\n      <td>...</td>\n      <td>...</td>\n      <td>...</td>\n      <td>...</td>\n      <td>...</td>\n    </tr>\n    <tr>\n      <th>636</th>\n      <td>0.200000</td>\n      <td>(age_C=0, Pstatus_C=0, Fedu_C=4)</td>\n      <td>6.0</td>\n      <td>0.075949</td>\n      <td>0</td>\n      <td>0</td>\n      <td>0.025316</td>\n      <td>NaN</td>\n      <td>NaN</td>\n      <td>NaN</td>\n      <td>3</td>\n      <td>79.0</td>\n      <td>0.025316</td>\n      <td>0.000000</td>\n      <td>0.004346</td>\n    </tr>\n    <tr>\n      <th>637</th>\n      <td>0.200000</td>\n      <td>(school_C=0, age_C=0, Medu_C=3)</td>\n      <td>2.0</td>\n      <td>0.025316</td>\n      <td>0</td>\n      <td>1</td>\n      <td>0.025316</td>\n      <td>NaN</td>\n      <td>NaN</td>\n      <td>NaN</td>\n      <td>3</td>\n      <td>79.0</td>\n      <td>0.025316</td>\n      <td>0.000000</td>\n      <td>0.697830</td>\n    </tr>\n    <tr>\n      <th>638</th>\n      <td>0.200000</td>\n      <td>(school_C=0, age_C=0, Pstatus_C=0, Fjob_C=2)</td>\n      <td>1.0</td>\n      <td>0.012658</td>\n      <td>0</td>\n      <td>1</td>\n      <td>0.025316</td>\n      <td>NaN</td>\n      <td>NaN</td>\n      <td>NaN</td>\n      <td>4</td>\n      <td>79.0</td>\n      <td>0.025316</td>\n      <td>0.000000</td>\n      <td>0.697830</td>\n    </tr>\n    <tr>\n      <th>639</th>\n      <td>0.400000</td>\n      <td>(sex_C=0, age_C=0, Pstatus_C=0)</td>\n      <td>1.0</td>\n      <td>0.006329</td>\n      <td>0</td>\n      <td>1</td>\n      <td>0.025316</td>\n      <td>NaN</td>\n      <td>NaN</td>\n      <td>NaN</td>\n      <td>3</td>\n      <td>158.0</td>\n      <td>0.025316</td>\n      <td>0.000000</td>\n      <td>0.697830</td>\n    </tr>\n    <tr>\n      <th>640</th>\n      <td>1.000000</td>\n      <td>()</td>\n      <td>NaN</td>\n      <td>NaN</td>\n      <td>92</td>\n      <td>92</td>\n      <td>0.025316</td>\n      <td>105.0</td>\n      <td>78210.0</td>\n      <td>106.0</td>\n      <td>0</td>\n      <td>395.0</td>\n      <td>0.025316</td>\n      <td>0.000000</td>\n      <td>0.000000</td>\n    </tr>\n  </tbody>\n</table>\n<p>641 rows × 15 columns</p>\n</div>"
     },
     "execution_count": 45,
     "metadata": {},
     "output_type": "execute_result"
    }
   ],
   "source": [
    "\n",
    "FP_fm_sorted.reset_index(level=None, drop=True, inplace=True, col_level=0, col_fill='')\n",
    "FP_fm_sorted\n"
   ],
   "metadata": {
    "collapsed": false,
    "pycharm": {
     "name": "#%%\n"
    }
   }
  },
  {
   "cell_type": "code",
   "execution_count": 46,
   "outputs": [
    {
     "data": {
      "text/plain": "    support                                           itemsets  sum_rank  \\\n0  0.141772  (Medu_C=4, address_C=0, sex_C=0, school_C=0, a...       1.0   \n1  0.146835          (Medu_C=4, sex_C=0, age_C=0, address_C=0)     101.0   \n2  0.146835       (Medu_C=4, sex_C=0, address_C=0, school_C=0)       1.0   \n3  0.151899                   (Medu_C=4, sex_C=0, address_C=0)     615.0   \n4  0.162025           (Medu_C=4, sex_C=0, age_C=0, school_C=0)       1.0   \n5  0.131646        (school_C=0, famsize_C=0, age_C=0, sex_C=0)       2.0   \n6  0.131646  (address_C=0, sex_C=0, Pstatus_C=0, Medu_C=4, ...       1.0   \n7  0.167089                    (Medu_C=4, sex_C=0, school_C=0)     192.0   \n8  0.134177      (Medu_C=4, sex_C=0, Pstatus_C=0, address_C=0)     421.0   \n9  0.134177                 (school_C=0, famsize_C=0, sex_C=0)     193.0   \n\n   average_rank  fn  tp  avg_rank_computed  fp  rank  tn  length  \\\n0      0.017857   0   1           0.089286 NaN   NaN NaN       5   \n1      1.741379   0   2           0.086207 NaN   NaN NaN       4   \n2      0.017241   0   1           0.086207 NaN   NaN NaN       4   \n3     10.250000   0   3           0.083333 NaN   NaN NaN       3   \n4      0.015625   0   1           0.078125 NaN   NaN NaN       4   \n5      0.038462   0   1           0.076923 NaN   NaN NaN       4   \n6      0.019231   0   1           0.076923 NaN   NaN NaN       5   \n7      2.909091   0   2           0.075758 NaN   NaN NaN       3   \n8      7.943396   0   2           0.075472 NaN   NaN NaN       4   \n9      3.641509   0   2           0.075472 NaN   NaN NaN       3   \n\n   support_count  accuracy  d_accuracy  t_value_tp_tn  \n0           56.0  0.089286    0.063969       0.697830  \n1           58.0  0.086207    0.060890       1.273866  \n2           58.0  0.086207    0.060890       0.697830  \n3           60.0  0.083333    0.058017       1.808232  \n4           64.0  0.078125    0.052809       0.697830  \n5           52.0  0.076923    0.051607       0.697830  \n6           52.0  0.076923    0.051607       0.697830  \n7           66.0  0.075758    0.050441       1.273866  \n8           53.0  0.075472    0.050155       1.273866  \n9           53.0  0.075472    0.050155       1.273866  ",
      "text/html": "<div>\n<style scoped>\n    .dataframe tbody tr th:only-of-type {\n        vertical-align: middle;\n    }\n\n    .dataframe tbody tr th {\n        vertical-align: top;\n    }\n\n    .dataframe thead th {\n        text-align: right;\n    }\n</style>\n<table border=\"1\" class=\"dataframe\">\n  <thead>\n    <tr style=\"text-align: right;\">\n      <th></th>\n      <th>support</th>\n      <th>itemsets</th>\n      <th>sum_rank</th>\n      <th>average_rank</th>\n      <th>fn</th>\n      <th>tp</th>\n      <th>avg_rank_computed</th>\n      <th>fp</th>\n      <th>rank</th>\n      <th>tn</th>\n      <th>length</th>\n      <th>support_count</th>\n      <th>accuracy</th>\n      <th>d_accuracy</th>\n      <th>t_value_tp_tn</th>\n    </tr>\n  </thead>\n  <tbody>\n    <tr>\n      <th>0</th>\n      <td>0.141772</td>\n      <td>(Medu_C=4, address_C=0, sex_C=0, school_C=0, a...</td>\n      <td>1.0</td>\n      <td>0.017857</td>\n      <td>0</td>\n      <td>1</td>\n      <td>0.089286</td>\n      <td>NaN</td>\n      <td>NaN</td>\n      <td>NaN</td>\n      <td>5</td>\n      <td>56.0</td>\n      <td>0.089286</td>\n      <td>0.063969</td>\n      <td>0.697830</td>\n    </tr>\n    <tr>\n      <th>1</th>\n      <td>0.146835</td>\n      <td>(Medu_C=4, sex_C=0, age_C=0, address_C=0)</td>\n      <td>101.0</td>\n      <td>1.741379</td>\n      <td>0</td>\n      <td>2</td>\n      <td>0.086207</td>\n      <td>NaN</td>\n      <td>NaN</td>\n      <td>NaN</td>\n      <td>4</td>\n      <td>58.0</td>\n      <td>0.086207</td>\n      <td>0.060890</td>\n      <td>1.273866</td>\n    </tr>\n    <tr>\n      <th>2</th>\n      <td>0.146835</td>\n      <td>(Medu_C=4, sex_C=0, address_C=0, school_C=0)</td>\n      <td>1.0</td>\n      <td>0.017241</td>\n      <td>0</td>\n      <td>1</td>\n      <td>0.086207</td>\n      <td>NaN</td>\n      <td>NaN</td>\n      <td>NaN</td>\n      <td>4</td>\n      <td>58.0</td>\n      <td>0.086207</td>\n      <td>0.060890</td>\n      <td>0.697830</td>\n    </tr>\n    <tr>\n      <th>3</th>\n      <td>0.151899</td>\n      <td>(Medu_C=4, sex_C=0, address_C=0)</td>\n      <td>615.0</td>\n      <td>10.250000</td>\n      <td>0</td>\n      <td>3</td>\n      <td>0.083333</td>\n      <td>NaN</td>\n      <td>NaN</td>\n      <td>NaN</td>\n      <td>3</td>\n      <td>60.0</td>\n      <td>0.083333</td>\n      <td>0.058017</td>\n      <td>1.808232</td>\n    </tr>\n    <tr>\n      <th>4</th>\n      <td>0.162025</td>\n      <td>(Medu_C=4, sex_C=0, age_C=0, school_C=0)</td>\n      <td>1.0</td>\n      <td>0.015625</td>\n      <td>0</td>\n      <td>1</td>\n      <td>0.078125</td>\n      <td>NaN</td>\n      <td>NaN</td>\n      <td>NaN</td>\n      <td>4</td>\n      <td>64.0</td>\n      <td>0.078125</td>\n      <td>0.052809</td>\n      <td>0.697830</td>\n    </tr>\n    <tr>\n      <th>5</th>\n      <td>0.131646</td>\n      <td>(school_C=0, famsize_C=0, age_C=0, sex_C=0)</td>\n      <td>2.0</td>\n      <td>0.038462</td>\n      <td>0</td>\n      <td>1</td>\n      <td>0.076923</td>\n      <td>NaN</td>\n      <td>NaN</td>\n      <td>NaN</td>\n      <td>4</td>\n      <td>52.0</td>\n      <td>0.076923</td>\n      <td>0.051607</td>\n      <td>0.697830</td>\n    </tr>\n    <tr>\n      <th>6</th>\n      <td>0.131646</td>\n      <td>(address_C=0, sex_C=0, Pstatus_C=0, Medu_C=4, ...</td>\n      <td>1.0</td>\n      <td>0.019231</td>\n      <td>0</td>\n      <td>1</td>\n      <td>0.076923</td>\n      <td>NaN</td>\n      <td>NaN</td>\n      <td>NaN</td>\n      <td>5</td>\n      <td>52.0</td>\n      <td>0.076923</td>\n      <td>0.051607</td>\n      <td>0.697830</td>\n    </tr>\n    <tr>\n      <th>7</th>\n      <td>0.167089</td>\n      <td>(Medu_C=4, sex_C=0, school_C=0)</td>\n      <td>192.0</td>\n      <td>2.909091</td>\n      <td>0</td>\n      <td>2</td>\n      <td>0.075758</td>\n      <td>NaN</td>\n      <td>NaN</td>\n      <td>NaN</td>\n      <td>3</td>\n      <td>66.0</td>\n      <td>0.075758</td>\n      <td>0.050441</td>\n      <td>1.273866</td>\n    </tr>\n    <tr>\n      <th>8</th>\n      <td>0.134177</td>\n      <td>(Medu_C=4, sex_C=0, Pstatus_C=0, address_C=0)</td>\n      <td>421.0</td>\n      <td>7.943396</td>\n      <td>0</td>\n      <td>2</td>\n      <td>0.075472</td>\n      <td>NaN</td>\n      <td>NaN</td>\n      <td>NaN</td>\n      <td>4</td>\n      <td>53.0</td>\n      <td>0.075472</td>\n      <td>0.050155</td>\n      <td>1.273866</td>\n    </tr>\n    <tr>\n      <th>9</th>\n      <td>0.134177</td>\n      <td>(school_C=0, famsize_C=0, sex_C=0)</td>\n      <td>193.0</td>\n      <td>3.641509</td>\n      <td>0</td>\n      <td>2</td>\n      <td>0.075472</td>\n      <td>NaN</td>\n      <td>NaN</td>\n      <td>NaN</td>\n      <td>3</td>\n      <td>53.0</td>\n      <td>0.075472</td>\n      <td>0.050155</td>\n      <td>1.273866</td>\n    </tr>\n  </tbody>\n</table>\n</div>"
     },
     "execution_count": 46,
     "metadata": {},
     "output_type": "execute_result"
    }
   ],
   "source": [
    "\n",
    "FP_fm_unfair = FP_fm_sorted[:TopK]\n",
    "FP_fm_unfair\n"
   ],
   "metadata": {
    "collapsed": false,
    "pycharm": {
     "name": "#%%\n"
    }
   }
  },
  {
   "cell_type": "code",
   "execution_count": 47,
   "outputs": [
    {
     "name": "stdout",
     "output_type": "stream",
     "text": [
      "frozenset({'Medu_C=4', 'address_C=0', 'sex_C=0', 'school_C=0', 'age_C=0'})\n",
      "frozenset({'Medu_C=4', 'sex_C=0', 'age_C=0', 'address_C=0'})\n",
      "frozenset({'Medu_C=4', 'sex_C=0', 'address_C=0', 'school_C=0'})\n",
      "frozenset({'Medu_C=4', 'sex_C=0', 'address_C=0'})\n",
      "frozenset({'Medu_C=4', 'sex_C=0', 'age_C=0', 'school_C=0'})\n",
      "frozenset({'school_C=0', 'famsize_C=0', 'age_C=0', 'sex_C=0'})\n",
      "frozenset({'address_C=0', 'sex_C=0', 'Pstatus_C=0', 'Medu_C=4', 'age_C=0'})\n",
      "frozenset({'Medu_C=4', 'sex_C=0', 'school_C=0'})\n",
      "frozenset({'Medu_C=4', 'sex_C=0', 'Pstatus_C=0', 'address_C=0'})\n",
      "frozenset({'school_C=0', 'famsize_C=0', 'sex_C=0'})\n"
     ]
    }
   ],
   "source": [
    "\n",
    "for row in FP_fm_unfair.iterrows():\n",
    "    print(row[1]['itemsets'])\n"
   ],
   "metadata": {
    "collapsed": false,
    "pycharm": {
     "name": "#%%\n"
    }
   }
  },
  {
   "cell_type": "code",
   "execution_count": 48,
   "outputs": [
    {
     "data": {
      "text/plain": "      support   itemsets  sum_rank  average_rank  fn  tp  avg_rank_computed  \\\n294  0.473418  (sex_C=0)    3372.0     18.032086   3  11           0.037433   \n\n     fp  rank  tn  length  support_count  accuracy  d_accuracy  t_value_tp_tn  \n294 NaN   NaN NaN       1          187.0  0.037433    0.012117        2.30379  ",
      "text/html": "<div>\n<style scoped>\n    .dataframe tbody tr th:only-of-type {\n        vertical-align: middle;\n    }\n\n    .dataframe tbody tr th {\n        vertical-align: top;\n    }\n\n    .dataframe thead th {\n        text-align: right;\n    }\n</style>\n<table border=\"1\" class=\"dataframe\">\n  <thead>\n    <tr style=\"text-align: right;\">\n      <th></th>\n      <th>support</th>\n      <th>itemsets</th>\n      <th>sum_rank</th>\n      <th>average_rank</th>\n      <th>fn</th>\n      <th>tp</th>\n      <th>avg_rank_computed</th>\n      <th>fp</th>\n      <th>rank</th>\n      <th>tn</th>\n      <th>length</th>\n      <th>support_count</th>\n      <th>accuracy</th>\n      <th>d_accuracy</th>\n      <th>t_value_tp_tn</th>\n    </tr>\n  </thead>\n  <tbody>\n    <tr>\n      <th>294</th>\n      <td>0.473418</td>\n      <td>(sex_C=0)</td>\n      <td>3372.0</td>\n      <td>18.032086</td>\n      <td>3</td>\n      <td>11</td>\n      <td>0.037433</td>\n      <td>NaN</td>\n      <td>NaN</td>\n      <td>NaN</td>\n      <td>1</td>\n      <td>187.0</td>\n      <td>0.037433</td>\n      <td>0.012117</td>\n      <td>2.30379</td>\n    </tr>\n  </tbody>\n</table>\n</div>"
     },
     "execution_count": 48,
     "metadata": {},
     "output_type": "execute_result"
    }
   ],
   "source": [
    "\n",
    "FP_fm_sorted[FP_fm_sorted['itemsets'] == frozenset({'sex_C=0'})]\n"
   ],
   "metadata": {
    "collapsed": false,
    "pycharm": {
     "name": "#%%\n"
    }
   }
  },
  {
   "cell_type": "code",
   "execution_count": 49,
   "outputs": [
    {
     "data": {
      "text/plain": "      support      itemsets  sum_rank  average_rank  fn  tp  \\\n628  0.883544  (school_C=0)     143.0      0.409742   0   3   \n\n     avg_rank_computed  fp  rank  tn  length  support_count  accuracy  \\\n628           0.025788 NaN   NaN NaN       1          349.0  0.025788   \n\n     d_accuracy  t_value_tp_tn  \n628    0.000472       1.808232  ",
      "text/html": "<div>\n<style scoped>\n    .dataframe tbody tr th:only-of-type {\n        vertical-align: middle;\n    }\n\n    .dataframe tbody tr th {\n        vertical-align: top;\n    }\n\n    .dataframe thead th {\n        text-align: right;\n    }\n</style>\n<table border=\"1\" class=\"dataframe\">\n  <thead>\n    <tr style=\"text-align: right;\">\n      <th></th>\n      <th>support</th>\n      <th>itemsets</th>\n      <th>sum_rank</th>\n      <th>average_rank</th>\n      <th>fn</th>\n      <th>tp</th>\n      <th>avg_rank_computed</th>\n      <th>fp</th>\n      <th>rank</th>\n      <th>tn</th>\n      <th>length</th>\n      <th>support_count</th>\n      <th>accuracy</th>\n      <th>d_accuracy</th>\n      <th>t_value_tp_tn</th>\n    </tr>\n  </thead>\n  <tbody>\n    <tr>\n      <th>628</th>\n      <td>0.883544</td>\n      <td>(school_C=0)</td>\n      <td>143.0</td>\n      <td>0.409742</td>\n      <td>0</td>\n      <td>3</td>\n      <td>0.025788</td>\n      <td>NaN</td>\n      <td>NaN</td>\n      <td>NaN</td>\n      <td>1</td>\n      <td>349.0</td>\n      <td>0.025788</td>\n      <td>0.000472</td>\n      <td>1.808232</td>\n    </tr>\n  </tbody>\n</table>\n</div>"
     },
     "execution_count": 49,
     "metadata": {},
     "output_type": "execute_result"
    }
   ],
   "source": [
    "\n",
    "FP_fm_sorted[FP_fm_sorted['itemsets'] == frozenset({'school_C=0'})]"
   ],
   "metadata": {
    "collapsed": false,
    "pycharm": {
     "name": "#%%\n"
    }
   }
  },
  {
   "cell_type": "code",
   "execution_count": 49,
   "outputs": [],
   "source": [
    "\n",
    "\n",
    "\n"
   ],
   "metadata": {
    "collapsed": false,
    "pycharm": {
     "name": "#%%\n"
    }
   }
  },
  {
   "cell_type": "code",
   "execution_count": 50,
   "outputs": [
    {
     "name": "stdout",
     "output_type": "stream",
     "text": [
      "0||| 349\n",
      "|0|| 187\n",
      "|1|| 208\n",
      "|||0 307\n",
      "|||1 88\n"
     ]
    }
   ],
   "source": [
    "\n",
    "import time\n",
    "import math\n",
    "import numpy as np\n",
    "import pandas as pd\n",
    "from Algorithms import NaiveAlgRanking_definition2_5_20220506 as naiveranking\n",
    "from Algorithms import pattern_count\n",
    "from sortedcontainers import SortedDict\n",
    "import cProfile\n",
    "import pstats\n",
    "import logging\n",
    "\n",
    "selected_attributes = all_attributes[:4]\n",
    "\n",
    "original_data_file = r\"datasets/student-mat_cat_ranked.csv\"\n",
    "\n",
    "\n",
    "ranked_data = pd.read_csv(original_data_file)\n",
    "ranked_data = ranked_data[selected_attributes]\n",
    "\n",
    "\n",
    "pc_whole_data = pattern_count.PatternCounter(ranked_data, encoded=False)\n",
    "pc_whole_data.parse_data()\n",
    "\n",
    "patterns = [[0, -1, -1, -1],\n",
    "[-1, 0, -1, -1],\n",
    "[-1, 1, -1, -1],\n",
    "[-1, -1, -1, 0],\n",
    "[-1, -1, -1, 1]]\n",
    "\n",
    "\n",
    "def num2string(pattern):\n",
    "    st = ''\n",
    "    for i in pattern:\n",
    "        if i != -1:\n",
    "            st += str(i)\n",
    "        st += '|'\n",
    "    st = st[:-1]\n",
    "    return st\n",
    "\n",
    "\n",
    "\n",
    "for p in patterns:\n",
    "    st = num2string(p)\n",
    "    whole_cardinality = pc_whole_data.pattern_count(st)\n",
    "    print(st, whole_cardinality)\n",
    "\n"
   ],
   "metadata": {
    "collapsed": false,
    "pycharm": {
     "name": "#%%\n"
    }
   }
  }
 ],
 "metadata": {
  "kernelspec": {
   "display_name": "Python 3",
   "language": "python",
   "name": "python3"
  },
  "language_info": {
   "codemirror_mode": {
    "name": "ipython",
    "version": 2
   },
   "file_extension": ".py",
   "mimetype": "text/x-python",
   "name": "python",
   "nbconvert_exporter": "python",
   "pygments_lexer": "ipython2",
   "version": "2.7.6"
  }
 },
 "nbformat": 4,
 "nbformat_minor": 0
}