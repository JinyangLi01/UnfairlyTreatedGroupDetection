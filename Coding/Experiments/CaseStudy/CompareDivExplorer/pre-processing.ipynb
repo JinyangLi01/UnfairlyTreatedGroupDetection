{
 "cells": [
  {
   "cell_type": "code",
   "execution_count": 1,
   "outputs": [],
   "source": [
    "import pandas as pd\n",
    "import numpy as np\n",
    "import random"
   ],
   "metadata": {
    "collapsed": false,
    "pycharm": {
     "name": "#%%\n"
    }
   }
  },
  {
   "cell_type": "code",
   "execution_count": 16,
   "outputs": [
    {
     "data": {
      "text/plain": "   StatusExistingAcc  CreditHistory  Purpose  SavingsAccount  \\\n0                 12             33        0              62   \n1                 11             34        9              61   \n2                 11             34        0              61   \n3                 12             34        2              61   \n\n   EmploymentLength  InstallmentRate  MarriedNSex  Debtors  ResidenceLength  \\\n0                75                2           93      101                4   \n1                75                4           93      101                4   \n2                75                1           92      101                4   \n3                75                1           93      101                4   \n\n   Property  ...  ExistingCredit  Job  NumPeopleLiable  Telephone  \\\n0       123  ...               4  174                1        192   \n1       123  ...               4  174                2        192   \n2       121  ...               3  173                1        192   \n3       123  ...               3  173                1        192   \n\n   ForeignWorker  CreditEval  DurationMonth_C  CreditAmount_C  Age_C  rank  \n0            201           2                2               3      2     1  \n1            201           1                2               2      2     2  \n2            201           2                1               2      1     3  \n3            201           1                1               2      1     4  \n\n[4 rows x 22 columns]",
      "text/html": "<div>\n<style scoped>\n    .dataframe tbody tr th:only-of-type {\n        vertical-align: middle;\n    }\n\n    .dataframe tbody tr th {\n        vertical-align: top;\n    }\n\n    .dataframe thead th {\n        text-align: right;\n    }\n</style>\n<table border=\"1\" class=\"dataframe\">\n  <thead>\n    <tr style=\"text-align: right;\">\n      <th></th>\n      <th>StatusExistingAcc</th>\n      <th>CreditHistory</th>\n      <th>Purpose</th>\n      <th>SavingsAccount</th>\n      <th>EmploymentLength</th>\n      <th>InstallmentRate</th>\n      <th>MarriedNSex</th>\n      <th>Debtors</th>\n      <th>ResidenceLength</th>\n      <th>Property</th>\n      <th>...</th>\n      <th>ExistingCredit</th>\n      <th>Job</th>\n      <th>NumPeopleLiable</th>\n      <th>Telephone</th>\n      <th>ForeignWorker</th>\n      <th>CreditEval</th>\n      <th>DurationMonth_C</th>\n      <th>CreditAmount_C</th>\n      <th>Age_C</th>\n      <th>rank</th>\n    </tr>\n  </thead>\n  <tbody>\n    <tr>\n      <th>0</th>\n      <td>12</td>\n      <td>33</td>\n      <td>0</td>\n      <td>62</td>\n      <td>75</td>\n      <td>2</td>\n      <td>93</td>\n      <td>101</td>\n      <td>4</td>\n      <td>123</td>\n      <td>...</td>\n      <td>4</td>\n      <td>174</td>\n      <td>1</td>\n      <td>192</td>\n      <td>201</td>\n      <td>2</td>\n      <td>2</td>\n      <td>3</td>\n      <td>2</td>\n      <td>1</td>\n    </tr>\n    <tr>\n      <th>1</th>\n      <td>11</td>\n      <td>34</td>\n      <td>9</td>\n      <td>61</td>\n      <td>75</td>\n      <td>4</td>\n      <td>93</td>\n      <td>101</td>\n      <td>4</td>\n      <td>123</td>\n      <td>...</td>\n      <td>4</td>\n      <td>174</td>\n      <td>2</td>\n      <td>192</td>\n      <td>201</td>\n      <td>1</td>\n      <td>2</td>\n      <td>2</td>\n      <td>2</td>\n      <td>2</td>\n    </tr>\n    <tr>\n      <th>2</th>\n      <td>11</td>\n      <td>34</td>\n      <td>0</td>\n      <td>61</td>\n      <td>75</td>\n      <td>1</td>\n      <td>92</td>\n      <td>101</td>\n      <td>4</td>\n      <td>121</td>\n      <td>...</td>\n      <td>3</td>\n      <td>173</td>\n      <td>1</td>\n      <td>192</td>\n      <td>201</td>\n      <td>2</td>\n      <td>1</td>\n      <td>2</td>\n      <td>1</td>\n      <td>3</td>\n    </tr>\n    <tr>\n      <th>3</th>\n      <td>12</td>\n      <td>34</td>\n      <td>2</td>\n      <td>61</td>\n      <td>75</td>\n      <td>1</td>\n      <td>93</td>\n      <td>101</td>\n      <td>4</td>\n      <td>123</td>\n      <td>...</td>\n      <td>3</td>\n      <td>173</td>\n      <td>1</td>\n      <td>192</td>\n      <td>201</td>\n      <td>1</td>\n      <td>1</td>\n      <td>2</td>\n      <td>1</td>\n      <td>4</td>\n    </tr>\n  </tbody>\n</table>\n<p>4 rows × 22 columns</p>\n</div>"
     },
     "execution_count": 16,
     "metadata": {},
     "output_type": "execute_result"
    }
   ],
   "source": [
    "df = pd.read_csv(r\"datasets/GermanCredit_ranked_w_classification.csv\")\n",
    "df[:4]"
   ],
   "metadata": {
    "collapsed": false,
    "pycharm": {
     "name": "#%%\n"
    }
   }
  },
  {
   "cell_type": "code",
   "execution_count": 17,
   "outputs": [
    {
     "data": {
      "text/plain": "    StatusExistingAcc  CreditHistory  Purpose  SavingsAccount  \\\n0                  12             33        0              62   \n1                  11             34        9              61   \n2                  11             34        0              61   \n3                  12             34        2              61   \n4                  11             34        0              61   \n5                  11             33        9              61   \n6                  14             34        3              65   \n7                  11             30        1              61   \n8                  14             32        5              65   \n9                  11             34        2              61   \n10                 11             34        0              61   \n11                 12             34        3              61   \n12                 14             34        1              65   \n13                 14             32        0              61   \n14                 13             34        0              61   \n15                 14             34        1              61   \n16                 14             32        3              62   \n17                 14             34        6              61   \n18                 11             34        1              61   \n19                 11             34        3              64   \n\n    EmploymentLength  InstallmentRate  MarriedNSex  Debtors  ResidenceLength  \\\n0                 75                2           93      101                4   \n1                 75                4           93      101                4   \n2                 75                1           92      101                4   \n3                 75                1           93      101                4   \n4                 75                2           93      101                4   \n5                 75                3           93      101                4   \n6                 75                4           93      101                4   \n7                 75                3           93      101                4   \n8                 75                4           93      101                4   \n9                 75                1           92      101                4   \n10                75                1           92      101                4   \n11                75                2           93      101                4   \n12                75                1           93      101                4   \n13                75                2           93      101                4   \n14                75                1           93      101                4   \n15                75                1           93      101                4   \n16                75                2           93      101                4   \n17                75                2           92      101                4   \n18                75                2           92      101                4   \n19                75                4           92      101                4   \n\n    Property  ...  Job  NumPeopleLiable  Telephone  ForeignWorker  CreditEval  \\\n0        123  ...  174                1        192            201           2   \n1        123  ...  174                2        192            201           1   \n2        121  ...  173                1        192            201           2   \n3        123  ...  173                1        192            201           1   \n4        124  ...  174                1        192            201           1   \n5        124  ...  173                1        192            201           2   \n6        121  ...  173                1        191            201           1   \n7        124  ...  173                2        191            201           2   \n8        122  ...  173                2        192            201           1   \n9        122  ...  173                1        191            201           1   \n10       124  ...  173                1        192            201           1   \n11       121  ...  172                1        191            201           1   \n12       123  ...  173                1        191            201           1   \n13       122  ...  174                1        192            201           1   \n14       121  ...  173                2        191            202           1   \n15       123  ...  174                1        192            201           1   \n16       123  ...  173                1        191            201           2   \n17       124  ...  172                1        191            201           1   \n18       124  ...  174                2        192            201           1   \n19       122  ...  174                1        192            201           1   \n\n    DurationMonth_C  CreditAmount_C  Age_C  rank  prediction  \n0                 2               3      2     1        True  \n1                 2               2      2     2        True  \n2                 1               2      1     3        True  \n3                 1               2      1     4        True  \n4                 1               3      2     5       False  \n5                 3               3      3     6        True  \n6                 1               1      3     7        True  \n7                 2               3      1     8       False  \n8                 2               3      2     9       False  \n9                 1               3      1    10        True  \n10                1               1      2    11        True  \n11                1               1      2    12       False  \n12                2               3      3    13       False  \n13                3               3      2    14        True  \n14                1               1      2    15       False  \n15                1               2      2    16       False  \n16                1               2      1    17       False  \n17                1               2      3    18        True  \n18                1               3      2    19        True  \n19                1               1      3    20       False  \n\n[20 rows x 23 columns]",
      "text/html": "<div>\n<style scoped>\n    .dataframe tbody tr th:only-of-type {\n        vertical-align: middle;\n    }\n\n    .dataframe tbody tr th {\n        vertical-align: top;\n    }\n\n    .dataframe thead th {\n        text-align: right;\n    }\n</style>\n<table border=\"1\" class=\"dataframe\">\n  <thead>\n    <tr style=\"text-align: right;\">\n      <th></th>\n      <th>StatusExistingAcc</th>\n      <th>CreditHistory</th>\n      <th>Purpose</th>\n      <th>SavingsAccount</th>\n      <th>EmploymentLength</th>\n      <th>InstallmentRate</th>\n      <th>MarriedNSex</th>\n      <th>Debtors</th>\n      <th>ResidenceLength</th>\n      <th>Property</th>\n      <th>...</th>\n      <th>Job</th>\n      <th>NumPeopleLiable</th>\n      <th>Telephone</th>\n      <th>ForeignWorker</th>\n      <th>CreditEval</th>\n      <th>DurationMonth_C</th>\n      <th>CreditAmount_C</th>\n      <th>Age_C</th>\n      <th>rank</th>\n      <th>prediction</th>\n    </tr>\n  </thead>\n  <tbody>\n    <tr>\n      <th>0</th>\n      <td>12</td>\n      <td>33</td>\n      <td>0</td>\n      <td>62</td>\n      <td>75</td>\n      <td>2</td>\n      <td>93</td>\n      <td>101</td>\n      <td>4</td>\n      <td>123</td>\n      <td>...</td>\n      <td>174</td>\n      <td>1</td>\n      <td>192</td>\n      <td>201</td>\n      <td>2</td>\n      <td>2</td>\n      <td>3</td>\n      <td>2</td>\n      <td>1</td>\n      <td>True</td>\n    </tr>\n    <tr>\n      <th>1</th>\n      <td>11</td>\n      <td>34</td>\n      <td>9</td>\n      <td>61</td>\n      <td>75</td>\n      <td>4</td>\n      <td>93</td>\n      <td>101</td>\n      <td>4</td>\n      <td>123</td>\n      <td>...</td>\n      <td>174</td>\n      <td>2</td>\n      <td>192</td>\n      <td>201</td>\n      <td>1</td>\n      <td>2</td>\n      <td>2</td>\n      <td>2</td>\n      <td>2</td>\n      <td>True</td>\n    </tr>\n    <tr>\n      <th>2</th>\n      <td>11</td>\n      <td>34</td>\n      <td>0</td>\n      <td>61</td>\n      <td>75</td>\n      <td>1</td>\n      <td>92</td>\n      <td>101</td>\n      <td>4</td>\n      <td>121</td>\n      <td>...</td>\n      <td>173</td>\n      <td>1</td>\n      <td>192</td>\n      <td>201</td>\n      <td>2</td>\n      <td>1</td>\n      <td>2</td>\n      <td>1</td>\n      <td>3</td>\n      <td>True</td>\n    </tr>\n    <tr>\n      <th>3</th>\n      <td>12</td>\n      <td>34</td>\n      <td>2</td>\n      <td>61</td>\n      <td>75</td>\n      <td>1</td>\n      <td>93</td>\n      <td>101</td>\n      <td>4</td>\n      <td>123</td>\n      <td>...</td>\n      <td>173</td>\n      <td>1</td>\n      <td>192</td>\n      <td>201</td>\n      <td>1</td>\n      <td>1</td>\n      <td>2</td>\n      <td>1</td>\n      <td>4</td>\n      <td>True</td>\n    </tr>\n    <tr>\n      <th>4</th>\n      <td>11</td>\n      <td>34</td>\n      <td>0</td>\n      <td>61</td>\n      <td>75</td>\n      <td>2</td>\n      <td>93</td>\n      <td>101</td>\n      <td>4</td>\n      <td>124</td>\n      <td>...</td>\n      <td>174</td>\n      <td>1</td>\n      <td>192</td>\n      <td>201</td>\n      <td>1</td>\n      <td>1</td>\n      <td>3</td>\n      <td>2</td>\n      <td>5</td>\n      <td>False</td>\n    </tr>\n    <tr>\n      <th>5</th>\n      <td>11</td>\n      <td>33</td>\n      <td>9</td>\n      <td>61</td>\n      <td>75</td>\n      <td>3</td>\n      <td>93</td>\n      <td>101</td>\n      <td>4</td>\n      <td>124</td>\n      <td>...</td>\n      <td>173</td>\n      <td>1</td>\n      <td>192</td>\n      <td>201</td>\n      <td>2</td>\n      <td>3</td>\n      <td>3</td>\n      <td>3</td>\n      <td>6</td>\n      <td>True</td>\n    </tr>\n    <tr>\n      <th>6</th>\n      <td>14</td>\n      <td>34</td>\n      <td>3</td>\n      <td>65</td>\n      <td>75</td>\n      <td>4</td>\n      <td>93</td>\n      <td>101</td>\n      <td>4</td>\n      <td>121</td>\n      <td>...</td>\n      <td>173</td>\n      <td>1</td>\n      <td>191</td>\n      <td>201</td>\n      <td>1</td>\n      <td>1</td>\n      <td>1</td>\n      <td>3</td>\n      <td>7</td>\n      <td>True</td>\n    </tr>\n    <tr>\n      <th>7</th>\n      <td>11</td>\n      <td>30</td>\n      <td>1</td>\n      <td>61</td>\n      <td>75</td>\n      <td>3</td>\n      <td>93</td>\n      <td>101</td>\n      <td>4</td>\n      <td>124</td>\n      <td>...</td>\n      <td>173</td>\n      <td>2</td>\n      <td>191</td>\n      <td>201</td>\n      <td>2</td>\n      <td>2</td>\n      <td>3</td>\n      <td>1</td>\n      <td>8</td>\n      <td>False</td>\n    </tr>\n    <tr>\n      <th>8</th>\n      <td>14</td>\n      <td>32</td>\n      <td>5</td>\n      <td>65</td>\n      <td>75</td>\n      <td>4</td>\n      <td>93</td>\n      <td>101</td>\n      <td>4</td>\n      <td>122</td>\n      <td>...</td>\n      <td>173</td>\n      <td>2</td>\n      <td>192</td>\n      <td>201</td>\n      <td>1</td>\n      <td>2</td>\n      <td>3</td>\n      <td>2</td>\n      <td>9</td>\n      <td>False</td>\n    </tr>\n    <tr>\n      <th>9</th>\n      <td>11</td>\n      <td>34</td>\n      <td>2</td>\n      <td>61</td>\n      <td>75</td>\n      <td>1</td>\n      <td>92</td>\n      <td>101</td>\n      <td>4</td>\n      <td>122</td>\n      <td>...</td>\n      <td>173</td>\n      <td>1</td>\n      <td>191</td>\n      <td>201</td>\n      <td>1</td>\n      <td>1</td>\n      <td>3</td>\n      <td>1</td>\n      <td>10</td>\n      <td>True</td>\n    </tr>\n    <tr>\n      <th>10</th>\n      <td>11</td>\n      <td>34</td>\n      <td>0</td>\n      <td>61</td>\n      <td>75</td>\n      <td>1</td>\n      <td>92</td>\n      <td>101</td>\n      <td>4</td>\n      <td>124</td>\n      <td>...</td>\n      <td>173</td>\n      <td>1</td>\n      <td>192</td>\n      <td>201</td>\n      <td>1</td>\n      <td>1</td>\n      <td>1</td>\n      <td>2</td>\n      <td>11</td>\n      <td>True</td>\n    </tr>\n    <tr>\n      <th>11</th>\n      <td>12</td>\n      <td>34</td>\n      <td>3</td>\n      <td>61</td>\n      <td>75</td>\n      <td>2</td>\n      <td>93</td>\n      <td>101</td>\n      <td>4</td>\n      <td>121</td>\n      <td>...</td>\n      <td>172</td>\n      <td>1</td>\n      <td>191</td>\n      <td>201</td>\n      <td>1</td>\n      <td>1</td>\n      <td>1</td>\n      <td>2</td>\n      <td>12</td>\n      <td>False</td>\n    </tr>\n    <tr>\n      <th>12</th>\n      <td>14</td>\n      <td>34</td>\n      <td>1</td>\n      <td>65</td>\n      <td>75</td>\n      <td>1</td>\n      <td>93</td>\n      <td>101</td>\n      <td>4</td>\n      <td>123</td>\n      <td>...</td>\n      <td>173</td>\n      <td>1</td>\n      <td>191</td>\n      <td>201</td>\n      <td>1</td>\n      <td>2</td>\n      <td>3</td>\n      <td>3</td>\n      <td>13</td>\n      <td>False</td>\n    </tr>\n    <tr>\n      <th>13</th>\n      <td>14</td>\n      <td>32</td>\n      <td>0</td>\n      <td>61</td>\n      <td>75</td>\n      <td>2</td>\n      <td>93</td>\n      <td>101</td>\n      <td>4</td>\n      <td>122</td>\n      <td>...</td>\n      <td>174</td>\n      <td>1</td>\n      <td>192</td>\n      <td>201</td>\n      <td>1</td>\n      <td>3</td>\n      <td>3</td>\n      <td>2</td>\n      <td>14</td>\n      <td>True</td>\n    </tr>\n    <tr>\n      <th>14</th>\n      <td>13</td>\n      <td>34</td>\n      <td>0</td>\n      <td>61</td>\n      <td>75</td>\n      <td>1</td>\n      <td>93</td>\n      <td>101</td>\n      <td>4</td>\n      <td>121</td>\n      <td>...</td>\n      <td>173</td>\n      <td>2</td>\n      <td>191</td>\n      <td>202</td>\n      <td>1</td>\n      <td>1</td>\n      <td>1</td>\n      <td>2</td>\n      <td>15</td>\n      <td>False</td>\n    </tr>\n    <tr>\n      <th>15</th>\n      <td>14</td>\n      <td>34</td>\n      <td>1</td>\n      <td>61</td>\n      <td>75</td>\n      <td>1</td>\n      <td>93</td>\n      <td>101</td>\n      <td>4</td>\n      <td>123</td>\n      <td>...</td>\n      <td>174</td>\n      <td>1</td>\n      <td>192</td>\n      <td>201</td>\n      <td>1</td>\n      <td>1</td>\n      <td>2</td>\n      <td>2</td>\n      <td>16</td>\n      <td>False</td>\n    </tr>\n    <tr>\n      <th>16</th>\n      <td>14</td>\n      <td>32</td>\n      <td>3</td>\n      <td>62</td>\n      <td>75</td>\n      <td>2</td>\n      <td>93</td>\n      <td>101</td>\n      <td>4</td>\n      <td>123</td>\n      <td>...</td>\n      <td>173</td>\n      <td>1</td>\n      <td>191</td>\n      <td>201</td>\n      <td>2</td>\n      <td>1</td>\n      <td>2</td>\n      <td>1</td>\n      <td>17</td>\n      <td>False</td>\n    </tr>\n    <tr>\n      <th>17</th>\n      <td>14</td>\n      <td>34</td>\n      <td>6</td>\n      <td>61</td>\n      <td>75</td>\n      <td>2</td>\n      <td>92</td>\n      <td>101</td>\n      <td>4</td>\n      <td>124</td>\n      <td>...</td>\n      <td>172</td>\n      <td>1</td>\n      <td>191</td>\n      <td>201</td>\n      <td>1</td>\n      <td>1</td>\n      <td>2</td>\n      <td>3</td>\n      <td>18</td>\n      <td>True</td>\n    </tr>\n    <tr>\n      <th>18</th>\n      <td>11</td>\n      <td>34</td>\n      <td>1</td>\n      <td>61</td>\n      <td>75</td>\n      <td>2</td>\n      <td>92</td>\n      <td>101</td>\n      <td>4</td>\n      <td>124</td>\n      <td>...</td>\n      <td>174</td>\n      <td>2</td>\n      <td>192</td>\n      <td>201</td>\n      <td>1</td>\n      <td>1</td>\n      <td>3</td>\n      <td>2</td>\n      <td>19</td>\n      <td>True</td>\n    </tr>\n    <tr>\n      <th>19</th>\n      <td>11</td>\n      <td>34</td>\n      <td>3</td>\n      <td>64</td>\n      <td>75</td>\n      <td>4</td>\n      <td>92</td>\n      <td>101</td>\n      <td>4</td>\n      <td>122</td>\n      <td>...</td>\n      <td>174</td>\n      <td>1</td>\n      <td>192</td>\n      <td>201</td>\n      <td>1</td>\n      <td>1</td>\n      <td>1</td>\n      <td>3</td>\n      <td>20</td>\n      <td>False</td>\n    </tr>\n  </tbody>\n</table>\n<p>20 rows × 23 columns</p>\n</div>"
     },
     "execution_count": 17,
     "metadata": {},
     "output_type": "execute_result"
    }
   ],
   "source": [
    "df['prediction'] = df.apply(lambda x: bool(random.getrandbits(1)), axis=1)\n",
    "\n",
    "df[:20]"
   ],
   "metadata": {
    "collapsed": false,
    "pycharm": {
     "name": "#%%\n"
    }
   }
  },
  {
   "cell_type": "code",
   "execution_count": 18,
   "outputs": [
    {
     "data": {
      "text/plain": "    StatusExistingAcc  CreditHistory  Purpose  SavingsAccount  \\\n0                  12             33        0              62   \n1                  11             34        9              61   \n2                  11             34        0              61   \n3                  12             34        2              61   \n4                  11             34        0              61   \n5                  11             33        9              61   \n6                  14             34        3              65   \n7                  11             30        1              61   \n8                  14             32        5              65   \n9                  11             34        2              61   \n10                 11             34        0              61   \n11                 12             34        3              61   \n12                 14             34        1              65   \n13                 14             32        0              61   \n14                 13             34        0              61   \n15                 14             34        1              61   \n16                 14             32        3              62   \n17                 14             34        6              61   \n18                 11             34        1              61   \n19                 11             34        3              64   \n\n    EmploymentLength  InstallmentRate  MarriedNSex  Debtors  ResidenceLength  \\\n0                 75                2           93      101                4   \n1                 75                4           93      101                4   \n2                 75                1           92      101                4   \n3                 75                1           93      101                4   \n4                 75                2           93      101                4   \n5                 75                3           93      101                4   \n6                 75                4           93      101                4   \n7                 75                3           93      101                4   \n8                 75                4           93      101                4   \n9                 75                1           92      101                4   \n10                75                1           92      101                4   \n11                75                2           93      101                4   \n12                75                1           93      101                4   \n13                75                2           93      101                4   \n14                75                1           93      101                4   \n15                75                1           93      101                4   \n16                75                2           93      101                4   \n17                75                2           92      101                4   \n18                75                2           92      101                4   \n19                75                4           92      101                4   \n\n    Property  ...  NumPeopleLiable  Telephone  ForeignWorker  CreditEval  \\\n0        123  ...                1        192            201           2   \n1        123  ...                2        192            201           1   \n2        121  ...                1        192            201           2   \n3        123  ...                1        192            201           1   \n4        124  ...                1        192            201           1   \n5        124  ...                1        192            201           2   \n6        121  ...                1        191            201           1   \n7        124  ...                2        191            201           2   \n8        122  ...                2        192            201           1   \n9        122  ...                1        191            201           1   \n10       124  ...                1        192            201           1   \n11       121  ...                1        191            201           1   \n12       123  ...                1        191            201           1   \n13       122  ...                1        192            201           1   \n14       121  ...                2        191            202           1   \n15       123  ...                1        192            201           1   \n16       123  ...                1        191            201           2   \n17       124  ...                1        191            201           1   \n18       124  ...                2        192            201           1   \n19       122  ...                1        192            201           1   \n\n    DurationMonth_C  CreditAmount_C  Age_C  rank  prediction  truth  \n0                 2               3      2     1        True  False  \n1                 2               2      2     2        True   True  \n2                 1               2      1     3        True  False  \n3                 1               2      1     4        True  False  \n4                 1               3      2     5       False   True  \n5                 3               3      3     6        True   True  \n6                 1               1      3     7        True  False  \n7                 2               3      1     8       False   True  \n8                 2               3      2     9       False   True  \n9                 1               3      1    10        True  False  \n10                1               1      2    11        True  False  \n11                1               1      2    12       False  False  \n12                2               3      3    13       False   True  \n13                3               3      2    14        True   True  \n14                1               1      2    15       False   True  \n15                1               2      2    16       False   True  \n16                1               2      1    17       False   True  \n17                1               2      3    18        True  False  \n18                1               3      2    19        True  False  \n19                1               1      3    20       False   True  \n\n[20 rows x 24 columns]",
      "text/html": "<div>\n<style scoped>\n    .dataframe tbody tr th:only-of-type {\n        vertical-align: middle;\n    }\n\n    .dataframe tbody tr th {\n        vertical-align: top;\n    }\n\n    .dataframe thead th {\n        text-align: right;\n    }\n</style>\n<table border=\"1\" class=\"dataframe\">\n  <thead>\n    <tr style=\"text-align: right;\">\n      <th></th>\n      <th>StatusExistingAcc</th>\n      <th>CreditHistory</th>\n      <th>Purpose</th>\n      <th>SavingsAccount</th>\n      <th>EmploymentLength</th>\n      <th>InstallmentRate</th>\n      <th>MarriedNSex</th>\n      <th>Debtors</th>\n      <th>ResidenceLength</th>\n      <th>Property</th>\n      <th>...</th>\n      <th>NumPeopleLiable</th>\n      <th>Telephone</th>\n      <th>ForeignWorker</th>\n      <th>CreditEval</th>\n      <th>DurationMonth_C</th>\n      <th>CreditAmount_C</th>\n      <th>Age_C</th>\n      <th>rank</th>\n      <th>prediction</th>\n      <th>truth</th>\n    </tr>\n  </thead>\n  <tbody>\n    <tr>\n      <th>0</th>\n      <td>12</td>\n      <td>33</td>\n      <td>0</td>\n      <td>62</td>\n      <td>75</td>\n      <td>2</td>\n      <td>93</td>\n      <td>101</td>\n      <td>4</td>\n      <td>123</td>\n      <td>...</td>\n      <td>1</td>\n      <td>192</td>\n      <td>201</td>\n      <td>2</td>\n      <td>2</td>\n      <td>3</td>\n      <td>2</td>\n      <td>1</td>\n      <td>True</td>\n      <td>False</td>\n    </tr>\n    <tr>\n      <th>1</th>\n      <td>11</td>\n      <td>34</td>\n      <td>9</td>\n      <td>61</td>\n      <td>75</td>\n      <td>4</td>\n      <td>93</td>\n      <td>101</td>\n      <td>4</td>\n      <td>123</td>\n      <td>...</td>\n      <td>2</td>\n      <td>192</td>\n      <td>201</td>\n      <td>1</td>\n      <td>2</td>\n      <td>2</td>\n      <td>2</td>\n      <td>2</td>\n      <td>True</td>\n      <td>True</td>\n    </tr>\n    <tr>\n      <th>2</th>\n      <td>11</td>\n      <td>34</td>\n      <td>0</td>\n      <td>61</td>\n      <td>75</td>\n      <td>1</td>\n      <td>92</td>\n      <td>101</td>\n      <td>4</td>\n      <td>121</td>\n      <td>...</td>\n      <td>1</td>\n      <td>192</td>\n      <td>201</td>\n      <td>2</td>\n      <td>1</td>\n      <td>2</td>\n      <td>1</td>\n      <td>3</td>\n      <td>True</td>\n      <td>False</td>\n    </tr>\n    <tr>\n      <th>3</th>\n      <td>12</td>\n      <td>34</td>\n      <td>2</td>\n      <td>61</td>\n      <td>75</td>\n      <td>1</td>\n      <td>93</td>\n      <td>101</td>\n      <td>4</td>\n      <td>123</td>\n      <td>...</td>\n      <td>1</td>\n      <td>192</td>\n      <td>201</td>\n      <td>1</td>\n      <td>1</td>\n      <td>2</td>\n      <td>1</td>\n      <td>4</td>\n      <td>True</td>\n      <td>False</td>\n    </tr>\n    <tr>\n      <th>4</th>\n      <td>11</td>\n      <td>34</td>\n      <td>0</td>\n      <td>61</td>\n      <td>75</td>\n      <td>2</td>\n      <td>93</td>\n      <td>101</td>\n      <td>4</td>\n      <td>124</td>\n      <td>...</td>\n      <td>1</td>\n      <td>192</td>\n      <td>201</td>\n      <td>1</td>\n      <td>1</td>\n      <td>3</td>\n      <td>2</td>\n      <td>5</td>\n      <td>False</td>\n      <td>True</td>\n    </tr>\n    <tr>\n      <th>5</th>\n      <td>11</td>\n      <td>33</td>\n      <td>9</td>\n      <td>61</td>\n      <td>75</td>\n      <td>3</td>\n      <td>93</td>\n      <td>101</td>\n      <td>4</td>\n      <td>124</td>\n      <td>...</td>\n      <td>1</td>\n      <td>192</td>\n      <td>201</td>\n      <td>2</td>\n      <td>3</td>\n      <td>3</td>\n      <td>3</td>\n      <td>6</td>\n      <td>True</td>\n      <td>True</td>\n    </tr>\n    <tr>\n      <th>6</th>\n      <td>14</td>\n      <td>34</td>\n      <td>3</td>\n      <td>65</td>\n      <td>75</td>\n      <td>4</td>\n      <td>93</td>\n      <td>101</td>\n      <td>4</td>\n      <td>121</td>\n      <td>...</td>\n      <td>1</td>\n      <td>191</td>\n      <td>201</td>\n      <td>1</td>\n      <td>1</td>\n      <td>1</td>\n      <td>3</td>\n      <td>7</td>\n      <td>True</td>\n      <td>False</td>\n    </tr>\n    <tr>\n      <th>7</th>\n      <td>11</td>\n      <td>30</td>\n      <td>1</td>\n      <td>61</td>\n      <td>75</td>\n      <td>3</td>\n      <td>93</td>\n      <td>101</td>\n      <td>4</td>\n      <td>124</td>\n      <td>...</td>\n      <td>2</td>\n      <td>191</td>\n      <td>201</td>\n      <td>2</td>\n      <td>2</td>\n      <td>3</td>\n      <td>1</td>\n      <td>8</td>\n      <td>False</td>\n      <td>True</td>\n    </tr>\n    <tr>\n      <th>8</th>\n      <td>14</td>\n      <td>32</td>\n      <td>5</td>\n      <td>65</td>\n      <td>75</td>\n      <td>4</td>\n      <td>93</td>\n      <td>101</td>\n      <td>4</td>\n      <td>122</td>\n      <td>...</td>\n      <td>2</td>\n      <td>192</td>\n      <td>201</td>\n      <td>1</td>\n      <td>2</td>\n      <td>3</td>\n      <td>2</td>\n      <td>9</td>\n      <td>False</td>\n      <td>True</td>\n    </tr>\n    <tr>\n      <th>9</th>\n      <td>11</td>\n      <td>34</td>\n      <td>2</td>\n      <td>61</td>\n      <td>75</td>\n      <td>1</td>\n      <td>92</td>\n      <td>101</td>\n      <td>4</td>\n      <td>122</td>\n      <td>...</td>\n      <td>1</td>\n      <td>191</td>\n      <td>201</td>\n      <td>1</td>\n      <td>1</td>\n      <td>3</td>\n      <td>1</td>\n      <td>10</td>\n      <td>True</td>\n      <td>False</td>\n    </tr>\n    <tr>\n      <th>10</th>\n      <td>11</td>\n      <td>34</td>\n      <td>0</td>\n      <td>61</td>\n      <td>75</td>\n      <td>1</td>\n      <td>92</td>\n      <td>101</td>\n      <td>4</td>\n      <td>124</td>\n      <td>...</td>\n      <td>1</td>\n      <td>192</td>\n      <td>201</td>\n      <td>1</td>\n      <td>1</td>\n      <td>1</td>\n      <td>2</td>\n      <td>11</td>\n      <td>True</td>\n      <td>False</td>\n    </tr>\n    <tr>\n      <th>11</th>\n      <td>12</td>\n      <td>34</td>\n      <td>3</td>\n      <td>61</td>\n      <td>75</td>\n      <td>2</td>\n      <td>93</td>\n      <td>101</td>\n      <td>4</td>\n      <td>121</td>\n      <td>...</td>\n      <td>1</td>\n      <td>191</td>\n      <td>201</td>\n      <td>1</td>\n      <td>1</td>\n      <td>1</td>\n      <td>2</td>\n      <td>12</td>\n      <td>False</td>\n      <td>False</td>\n    </tr>\n    <tr>\n      <th>12</th>\n      <td>14</td>\n      <td>34</td>\n      <td>1</td>\n      <td>65</td>\n      <td>75</td>\n      <td>1</td>\n      <td>93</td>\n      <td>101</td>\n      <td>4</td>\n      <td>123</td>\n      <td>...</td>\n      <td>1</td>\n      <td>191</td>\n      <td>201</td>\n      <td>1</td>\n      <td>2</td>\n      <td>3</td>\n      <td>3</td>\n      <td>13</td>\n      <td>False</td>\n      <td>True</td>\n    </tr>\n    <tr>\n      <th>13</th>\n      <td>14</td>\n      <td>32</td>\n      <td>0</td>\n      <td>61</td>\n      <td>75</td>\n      <td>2</td>\n      <td>93</td>\n      <td>101</td>\n      <td>4</td>\n      <td>122</td>\n      <td>...</td>\n      <td>1</td>\n      <td>192</td>\n      <td>201</td>\n      <td>1</td>\n      <td>3</td>\n      <td>3</td>\n      <td>2</td>\n      <td>14</td>\n      <td>True</td>\n      <td>True</td>\n    </tr>\n    <tr>\n      <th>14</th>\n      <td>13</td>\n      <td>34</td>\n      <td>0</td>\n      <td>61</td>\n      <td>75</td>\n      <td>1</td>\n      <td>93</td>\n      <td>101</td>\n      <td>4</td>\n      <td>121</td>\n      <td>...</td>\n      <td>2</td>\n      <td>191</td>\n      <td>202</td>\n      <td>1</td>\n      <td>1</td>\n      <td>1</td>\n      <td>2</td>\n      <td>15</td>\n      <td>False</td>\n      <td>True</td>\n    </tr>\n    <tr>\n      <th>15</th>\n      <td>14</td>\n      <td>34</td>\n      <td>1</td>\n      <td>61</td>\n      <td>75</td>\n      <td>1</td>\n      <td>93</td>\n      <td>101</td>\n      <td>4</td>\n      <td>123</td>\n      <td>...</td>\n      <td>1</td>\n      <td>192</td>\n      <td>201</td>\n      <td>1</td>\n      <td>1</td>\n      <td>2</td>\n      <td>2</td>\n      <td>16</td>\n      <td>False</td>\n      <td>True</td>\n    </tr>\n    <tr>\n      <th>16</th>\n      <td>14</td>\n      <td>32</td>\n      <td>3</td>\n      <td>62</td>\n      <td>75</td>\n      <td>2</td>\n      <td>93</td>\n      <td>101</td>\n      <td>4</td>\n      <td>123</td>\n      <td>...</td>\n      <td>1</td>\n      <td>191</td>\n      <td>201</td>\n      <td>2</td>\n      <td>1</td>\n      <td>2</td>\n      <td>1</td>\n      <td>17</td>\n      <td>False</td>\n      <td>True</td>\n    </tr>\n    <tr>\n      <th>17</th>\n      <td>14</td>\n      <td>34</td>\n      <td>6</td>\n      <td>61</td>\n      <td>75</td>\n      <td>2</td>\n      <td>92</td>\n      <td>101</td>\n      <td>4</td>\n      <td>124</td>\n      <td>...</td>\n      <td>1</td>\n      <td>191</td>\n      <td>201</td>\n      <td>1</td>\n      <td>1</td>\n      <td>2</td>\n      <td>3</td>\n      <td>18</td>\n      <td>True</td>\n      <td>False</td>\n    </tr>\n    <tr>\n      <th>18</th>\n      <td>11</td>\n      <td>34</td>\n      <td>1</td>\n      <td>61</td>\n      <td>75</td>\n      <td>2</td>\n      <td>92</td>\n      <td>101</td>\n      <td>4</td>\n      <td>124</td>\n      <td>...</td>\n      <td>2</td>\n      <td>192</td>\n      <td>201</td>\n      <td>1</td>\n      <td>1</td>\n      <td>3</td>\n      <td>2</td>\n      <td>19</td>\n      <td>True</td>\n      <td>False</td>\n    </tr>\n    <tr>\n      <th>19</th>\n      <td>11</td>\n      <td>34</td>\n      <td>3</td>\n      <td>64</td>\n      <td>75</td>\n      <td>4</td>\n      <td>92</td>\n      <td>101</td>\n      <td>4</td>\n      <td>122</td>\n      <td>...</td>\n      <td>1</td>\n      <td>192</td>\n      <td>201</td>\n      <td>1</td>\n      <td>1</td>\n      <td>1</td>\n      <td>3</td>\n      <td>20</td>\n      <td>False</td>\n      <td>True</td>\n    </tr>\n  </tbody>\n</table>\n<p>20 rows × 24 columns</p>\n</div>"
     },
     "execution_count": 18,
     "metadata": {},
     "output_type": "execute_result"
    }
   ],
   "source": [
    "df['truth'] = df.apply(lambda x: bool(random.getrandbits(1)), axis=1)\n",
    "\n",
    "df[:20]"
   ],
   "metadata": {
    "collapsed": false,
    "pycharm": {
     "name": "#%%\n"
    }
   }
  },
  {
   "cell_type": "code",
   "execution_count": 19,
   "outputs": [],
   "source": [
    "\n",
    "df.to_csv(r\"datasets/GermanCredit_ranked_w_classification.csv\", index=False)\n"
   ],
   "metadata": {
    "collapsed": false,
    "pycharm": {
     "name": "#%%\n"
    }
   }
  },
  {
   "cell_type": "code",
   "execution_count": 19,
   "outputs": [],
   "source": [
    "\n",
    "\n"
   ],
   "metadata": {
    "collapsed": false,
    "pycharm": {
     "name": "#%%\n"
    }
   }
  },
  {
   "cell_type": "code",
   "execution_count": 19,
   "outputs": [],
   "source": [
    "\n"
   ],
   "metadata": {
    "collapsed": false,
    "pycharm": {
     "name": "#%%\n"
    }
   }
  },
  {
   "cell_type": "markdown",
   "source": [
    "\n",
    "# analysis of data"
   ],
   "metadata": {
    "collapsed": false,
    "pycharm": {
     "name": "#%% md\n"
    }
   }
  },
  {
   "cell_type": "code",
   "execution_count": 21,
   "outputs": [
    {
     "data": {
      "text/plain": "   StatusExistingAcc  CreditHistory  Purpose  SavingsAccount  \\\n0                 12             33        0              62   \n1                 11             34        9              61   \n2                 11             34        0              61   \n3                 12             34        2              61   \n\n   EmploymentLength  InstallmentRate  MarriedNSex  Debtors  ResidenceLength  \\\n0                75                2           93      101                4   \n1                75                4           93      101                4   \n2                75                1           92      101                4   \n3                75                1           93      101                4   \n\n   Property  ...  NumPeopleLiable  Telephone  ForeignWorker  CreditEval  \\\n0       123  ...                1        192            201           2   \n1       123  ...                2        192            201           1   \n2       121  ...                1        192            201           2   \n3       123  ...                1        192            201           1   \n\n   DurationMonth_C  CreditAmount_C  Age_C  rank  prediction  truth  \n0                2               3      2     1        True  False  \n1                2               2      2     2        True   True  \n2                1               2      1     3        True  False  \n3                1               2      1     4        True  False  \n\n[4 rows x 24 columns]",
      "text/html": "<div>\n<style scoped>\n    .dataframe tbody tr th:only-of-type {\n        vertical-align: middle;\n    }\n\n    .dataframe tbody tr th {\n        vertical-align: top;\n    }\n\n    .dataframe thead th {\n        text-align: right;\n    }\n</style>\n<table border=\"1\" class=\"dataframe\">\n  <thead>\n    <tr style=\"text-align: right;\">\n      <th></th>\n      <th>StatusExistingAcc</th>\n      <th>CreditHistory</th>\n      <th>Purpose</th>\n      <th>SavingsAccount</th>\n      <th>EmploymentLength</th>\n      <th>InstallmentRate</th>\n      <th>MarriedNSex</th>\n      <th>Debtors</th>\n      <th>ResidenceLength</th>\n      <th>Property</th>\n      <th>...</th>\n      <th>NumPeopleLiable</th>\n      <th>Telephone</th>\n      <th>ForeignWorker</th>\n      <th>CreditEval</th>\n      <th>DurationMonth_C</th>\n      <th>CreditAmount_C</th>\n      <th>Age_C</th>\n      <th>rank</th>\n      <th>prediction</th>\n      <th>truth</th>\n    </tr>\n  </thead>\n  <tbody>\n    <tr>\n      <th>0</th>\n      <td>12</td>\n      <td>33</td>\n      <td>0</td>\n      <td>62</td>\n      <td>75</td>\n      <td>2</td>\n      <td>93</td>\n      <td>101</td>\n      <td>4</td>\n      <td>123</td>\n      <td>...</td>\n      <td>1</td>\n      <td>192</td>\n      <td>201</td>\n      <td>2</td>\n      <td>2</td>\n      <td>3</td>\n      <td>2</td>\n      <td>1</td>\n      <td>True</td>\n      <td>False</td>\n    </tr>\n    <tr>\n      <th>1</th>\n      <td>11</td>\n      <td>34</td>\n      <td>9</td>\n      <td>61</td>\n      <td>75</td>\n      <td>4</td>\n      <td>93</td>\n      <td>101</td>\n      <td>4</td>\n      <td>123</td>\n      <td>...</td>\n      <td>2</td>\n      <td>192</td>\n      <td>201</td>\n      <td>1</td>\n      <td>2</td>\n      <td>2</td>\n      <td>2</td>\n      <td>2</td>\n      <td>True</td>\n      <td>True</td>\n    </tr>\n    <tr>\n      <th>2</th>\n      <td>11</td>\n      <td>34</td>\n      <td>0</td>\n      <td>61</td>\n      <td>75</td>\n      <td>1</td>\n      <td>92</td>\n      <td>101</td>\n      <td>4</td>\n      <td>121</td>\n      <td>...</td>\n      <td>1</td>\n      <td>192</td>\n      <td>201</td>\n      <td>2</td>\n      <td>1</td>\n      <td>2</td>\n      <td>1</td>\n      <td>3</td>\n      <td>True</td>\n      <td>False</td>\n    </tr>\n    <tr>\n      <th>3</th>\n      <td>12</td>\n      <td>34</td>\n      <td>2</td>\n      <td>61</td>\n      <td>75</td>\n      <td>1</td>\n      <td>93</td>\n      <td>101</td>\n      <td>4</td>\n      <td>123</td>\n      <td>...</td>\n      <td>1</td>\n      <td>192</td>\n      <td>201</td>\n      <td>1</td>\n      <td>1</td>\n      <td>2</td>\n      <td>1</td>\n      <td>4</td>\n      <td>True</td>\n      <td>False</td>\n    </tr>\n  </tbody>\n</table>\n<p>4 rows × 24 columns</p>\n</div>"
     },
     "execution_count": 21,
     "metadata": {},
     "output_type": "execute_result"
    }
   ],
   "source": [
    "\n",
    "df = pd.read_csv(r\"datasets/GermanCredit_ranked_w_classification.csv\")\n",
    "df[:4]"
   ],
   "metadata": {
    "collapsed": false,
    "pycharm": {
     "name": "#%%\n"
    }
   }
  },
  {
   "cell_type": "code",
   "execution_count": 24,
   "outputs": [
    {
     "name": "stdout",
     "output_type": "stream",
     "text": [
      "907\n"
     ]
    }
   ],
   "source": [
    "\n",
    "df_selected = df[df['Debtors'] == 101]\n",
    "\n",
    "print(len(df_selected))"
   ],
   "metadata": {
    "collapsed": false,
    "pycharm": {
     "name": "#%%\n"
    }
   }
  },
  {
   "cell_type": "code",
   "execution_count": 6,
   "outputs": [],
   "source": [
    "\n",
    "import os\n",
    "import pandas as pd\n",
    "from divexplorer.FP_DivergenceExplorer import FP_DivergenceExplorer\n",
    "# from divexplorer.FP_DivergenceExplorer_original import FP_DivergenceExplorer\n",
    "\n",
    "\n",
    "inputDir=os.path.join(\".\", \"datasets\")\n",
    "\n",
    "\n",
    "df= pd.read_csv(os.path.join(inputDir, \"GermanCredit_ranked_w_classification.csv\"))\n",
    "\n",
    "# df= pd.read_csv(os.path.join(inputDir, \"compas_discretized.csv\"))\n",
    "\n",
    "class_map={'N': 0, 'P': 1}\n",
    "df.head()\n",
    "\n",
    "min_sup = 0.05\n",
    "fp_diver = FP_DivergenceExplorer(df,\"truth\", \"prediction\", class_map=class_map)\n"
   ],
   "metadata": {
    "collapsed": false,
    "pycharm": {
     "name": "#%%\n"
    }
   }
  },
  {
   "cell_type": "code",
   "execution_count": 7,
   "outputs": [
    {
     "name": "stderr",
     "output_type": "stream",
     "text": [
      "/Users/jinyangli/opt/anaconda3/lib/python3.8/site-packages/divexplorer/FP_DivergenceExplorer.py:498: FutureWarning: The frame.append method is deprecated and will be removed from pandas in a future version. Use pandas.concat instead.\n",
      "  fp = fp.append(row_root, ignore_index=True)\n"
     ]
    }
   ],
   "source": [
    "\n",
    "FP_fm=fp_diver.getFrequentPatternDivergence(min_support=min_sup,\n",
    "                                            metrics=[\"d_accuracy\"])\n",
    "\n"
   ],
   "metadata": {
    "collapsed": false,
    "pycharm": {
     "name": "#%%\n"
    }
   }
  },
  {
   "cell_type": "code",
   "execution_count": 8,
   "outputs": [
    {
     "name": "stdout",
     "output_type": "stream",
     "text": [
      "158316\n"
     ]
    },
    {
     "data": {
      "text/plain": "   support                          itemsets  sum_rank  average_rank   fn  \\\n0    1.000                                ()       NaN           NaN  263   \n1    0.963               (ForeignWorker=201)       1.0      0.001038    0   \n2    0.907                     (Debtors=101)      16.0      0.017641    1   \n3    0.880  (Debtors=101, ForeignWorker=201)       1.0      0.001136    0   \n4    0.845               (NumPeopleLiable=1)     381.0      0.450888    0   \n\n    tp  avg_rank_computed     fp      rank     tn  length  support_count  \\\n0  247         500.500000  248.0  500500.0  242.0       0         1000.0   \n1    0         496.466251    NaN       NaN    NaN       1          963.0   \n2    0         497.790518    NaN       NaN    NaN       1          907.0   \n3    0         494.119318    NaN       NaN    NaN       2          880.0   \n4    2         513.189349    NaN       NaN    NaN       1          845.0   \n\n     accuracy  d_accuracy  t_value_tp_tn  \n0  500.500000    0.000000       0.000000  \n1  496.466251   -4.033749       0.037972  \n2  497.790518   -2.709482       0.659055  \n3  494.119318   -6.380682       0.037972  \n4  513.189349   12.689349       1.343230  ",
      "text/html": "<div>\n<style scoped>\n    .dataframe tbody tr th:only-of-type {\n        vertical-align: middle;\n    }\n\n    .dataframe tbody tr th {\n        vertical-align: top;\n    }\n\n    .dataframe thead th {\n        text-align: right;\n    }\n</style>\n<table border=\"1\" class=\"dataframe\">\n  <thead>\n    <tr style=\"text-align: right;\">\n      <th></th>\n      <th>support</th>\n      <th>itemsets</th>\n      <th>sum_rank</th>\n      <th>average_rank</th>\n      <th>fn</th>\n      <th>tp</th>\n      <th>avg_rank_computed</th>\n      <th>fp</th>\n      <th>rank</th>\n      <th>tn</th>\n      <th>length</th>\n      <th>support_count</th>\n      <th>accuracy</th>\n      <th>d_accuracy</th>\n      <th>t_value_tp_tn</th>\n    </tr>\n  </thead>\n  <tbody>\n    <tr>\n      <th>0</th>\n      <td>1.000</td>\n      <td>()</td>\n      <td>NaN</td>\n      <td>NaN</td>\n      <td>263</td>\n      <td>247</td>\n      <td>500.500000</td>\n      <td>248.0</td>\n      <td>500500.0</td>\n      <td>242.0</td>\n      <td>0</td>\n      <td>1000.0</td>\n      <td>500.500000</td>\n      <td>0.000000</td>\n      <td>0.000000</td>\n    </tr>\n    <tr>\n      <th>1</th>\n      <td>0.963</td>\n      <td>(ForeignWorker=201)</td>\n      <td>1.0</td>\n      <td>0.001038</td>\n      <td>0</td>\n      <td>0</td>\n      <td>496.466251</td>\n      <td>NaN</td>\n      <td>NaN</td>\n      <td>NaN</td>\n      <td>1</td>\n      <td>963.0</td>\n      <td>496.466251</td>\n      <td>-4.033749</td>\n      <td>0.037972</td>\n    </tr>\n    <tr>\n      <th>2</th>\n      <td>0.907</td>\n      <td>(Debtors=101)</td>\n      <td>16.0</td>\n      <td>0.017641</td>\n      <td>1</td>\n      <td>0</td>\n      <td>497.790518</td>\n      <td>NaN</td>\n      <td>NaN</td>\n      <td>NaN</td>\n      <td>1</td>\n      <td>907.0</td>\n      <td>497.790518</td>\n      <td>-2.709482</td>\n      <td>0.659055</td>\n    </tr>\n    <tr>\n      <th>3</th>\n      <td>0.880</td>\n      <td>(Debtors=101, ForeignWorker=201)</td>\n      <td>1.0</td>\n      <td>0.001136</td>\n      <td>0</td>\n      <td>0</td>\n      <td>494.119318</td>\n      <td>NaN</td>\n      <td>NaN</td>\n      <td>NaN</td>\n      <td>2</td>\n      <td>880.0</td>\n      <td>494.119318</td>\n      <td>-6.380682</td>\n      <td>0.037972</td>\n    </tr>\n    <tr>\n      <th>4</th>\n      <td>0.845</td>\n      <td>(NumPeopleLiable=1)</td>\n      <td>381.0</td>\n      <td>0.450888</td>\n      <td>0</td>\n      <td>2</td>\n      <td>513.189349</td>\n      <td>NaN</td>\n      <td>NaN</td>\n      <td>NaN</td>\n      <td>1</td>\n      <td>845.0</td>\n      <td>513.189349</td>\n      <td>12.689349</td>\n      <td>1.343230</td>\n    </tr>\n  </tbody>\n</table>\n</div>"
     },
     "execution_count": 8,
     "metadata": {},
     "output_type": "execute_result"
    }
   ],
   "source": [
    "print(len(FP_fm))\n",
    "FP_fm[:5]\n"
   ],
   "metadata": {
    "collapsed": false,
    "pycharm": {
     "name": "#%%\n"
    }
   }
  },
  {
   "cell_type": "code",
   "execution_count": 13,
   "outputs": [
    {
     "name": "stdout",
     "output_type": "stream",
     "text": [
      "13\n"
     ]
    },
    {
     "data": {
      "text/plain": "        support                                           itemsets  sum_rank  \\\n76416     0.066  (EmploymentLength=75, ResidenceLength=4, Exist...    2600.0   \n88687     0.063  (EmploymentLength=75, ResidenceLength=4, Forei...       6.0   \n94034     0.061  (EmploymentLength=75, ResidenceLength=4, Debto...      21.0   \n104935    0.059  (Debtors=101, ForeignWorker=201, ExistingCredi...       6.0   \n120175    0.056  (EmploymentLength=75, ResidenceLength=4, Insta...     182.0   \n128381    0.054           (ResidenceLength=1, EmploymentLength=72)   44504.0   \n133304    0.053  (ResidenceLength=1, DurationMonth_C=1, NumPeop...    1595.0   \n133767    0.053  (ResidenceLength=1, EmploymentLength=72, Forei...     635.0   \n134422    0.053  (ForeignWorker=201, ExistingCredit=2, Installm...       6.0   \n142490    0.052  (ForeignWorker=201, ExistingCredit=2, NumPeopl...       6.0   \n142491    0.052  (Debtors=101, ExistingCredit=2, InstallmentPla...      21.0   \n142559    0.052  (EmploymentLength=75, ResidenceLength=4, NumPe...     194.0   \n151401    0.050  (Debtors=101, ForeignWorker=201, ExistingCredi...       6.0   \n\n        average_rank  fn  tp  avg_rank_computed  fp  rank  tn  length  \\\n76416      39.393939  11  13          74.075758 NaN   NaN NaN       3   \n88687       0.095238   0   1          74.571429 NaN   NaN NaN       4   \n94034       0.344262   1   1          72.475410 NaN   NaN NaN       4   \n104935      0.101695   0   1          72.881356 NaN   NaN NaN       5   \n120175      3.250000   2   2          76.892857 NaN   NaN NaN       4   \n128381    824.148148  16  15         931.925926 NaN   NaN NaN       2   \n133304     30.094340   1   1         921.698113 NaN   NaN NaN       5   \n133767     11.981132   0   0         931.000000 NaN   NaN NaN       3   \n134422      0.113208   0   1          77.641509 NaN   NaN NaN       5   \n142490      0.115385   0   1          77.365385 NaN   NaN NaN       5   \n142491      0.403846   1   1          75.269231 NaN   NaN NaN       5   \n142559      3.730769   0   2          77.365385 NaN   NaN NaN       4   \n151401      0.120000   0   1          75.860000 NaN   NaN NaN       6   \n\n        support_count    accuracy  d_accuracy  t_value_tp_tn  \n76416            66.0   74.075758 -426.424242       0.508483  \n88687            63.0   74.571429 -425.928571       0.751998  \n94034            61.0   72.475410 -428.024590       0.048973  \n104935           59.0   72.881356 -427.618644       0.751998  \n120175           56.0   76.892857 -423.607143       0.057889  \n128381           54.0  931.925926  431.425926       0.047888  \n133304           53.0  921.698113  421.198113       0.048973  \n133767           53.0  931.000000  430.500000       0.037972  \n134422           53.0   77.641509 -422.858491       0.751998  \n142490           52.0   77.365385 -423.134615       0.751998  \n142491           52.0   75.269231 -425.230769       0.048973  \n142559           52.0   77.365385 -423.134615       1.343230  \n151401           50.0   75.860000 -424.640000       0.751998  ",
      "text/html": "<div>\n<style scoped>\n    .dataframe tbody tr th:only-of-type {\n        vertical-align: middle;\n    }\n\n    .dataframe tbody tr th {\n        vertical-align: top;\n    }\n\n    .dataframe thead th {\n        text-align: right;\n    }\n</style>\n<table border=\"1\" class=\"dataframe\">\n  <thead>\n    <tr style=\"text-align: right;\">\n      <th></th>\n      <th>support</th>\n      <th>itemsets</th>\n      <th>sum_rank</th>\n      <th>average_rank</th>\n      <th>fn</th>\n      <th>tp</th>\n      <th>avg_rank_computed</th>\n      <th>fp</th>\n      <th>rank</th>\n      <th>tn</th>\n      <th>length</th>\n      <th>support_count</th>\n      <th>accuracy</th>\n      <th>d_accuracy</th>\n      <th>t_value_tp_tn</th>\n    </tr>\n  </thead>\n  <tbody>\n    <tr>\n      <th>76416</th>\n      <td>0.066</td>\n      <td>(EmploymentLength=75, ResidenceLength=4, Exist...</td>\n      <td>2600.0</td>\n      <td>39.393939</td>\n      <td>11</td>\n      <td>13</td>\n      <td>74.075758</td>\n      <td>NaN</td>\n      <td>NaN</td>\n      <td>NaN</td>\n      <td>3</td>\n      <td>66.0</td>\n      <td>74.075758</td>\n      <td>-426.424242</td>\n      <td>0.508483</td>\n    </tr>\n    <tr>\n      <th>88687</th>\n      <td>0.063</td>\n      <td>(EmploymentLength=75, ResidenceLength=4, Forei...</td>\n      <td>6.0</td>\n      <td>0.095238</td>\n      <td>0</td>\n      <td>1</td>\n      <td>74.571429</td>\n      <td>NaN</td>\n      <td>NaN</td>\n      <td>NaN</td>\n      <td>4</td>\n      <td>63.0</td>\n      <td>74.571429</td>\n      <td>-425.928571</td>\n      <td>0.751998</td>\n    </tr>\n    <tr>\n      <th>94034</th>\n      <td>0.061</td>\n      <td>(EmploymentLength=75, ResidenceLength=4, Debto...</td>\n      <td>21.0</td>\n      <td>0.344262</td>\n      <td>1</td>\n      <td>1</td>\n      <td>72.475410</td>\n      <td>NaN</td>\n      <td>NaN</td>\n      <td>NaN</td>\n      <td>4</td>\n      <td>61.0</td>\n      <td>72.475410</td>\n      <td>-428.024590</td>\n      <td>0.048973</td>\n    </tr>\n    <tr>\n      <th>104935</th>\n      <td>0.059</td>\n      <td>(Debtors=101, ForeignWorker=201, ExistingCredi...</td>\n      <td>6.0</td>\n      <td>0.101695</td>\n      <td>0</td>\n      <td>1</td>\n      <td>72.881356</td>\n      <td>NaN</td>\n      <td>NaN</td>\n      <td>NaN</td>\n      <td>5</td>\n      <td>59.0</td>\n      <td>72.881356</td>\n      <td>-427.618644</td>\n      <td>0.751998</td>\n    </tr>\n    <tr>\n      <th>120175</th>\n      <td>0.056</td>\n      <td>(EmploymentLength=75, ResidenceLength=4, Insta...</td>\n      <td>182.0</td>\n      <td>3.250000</td>\n      <td>2</td>\n      <td>2</td>\n      <td>76.892857</td>\n      <td>NaN</td>\n      <td>NaN</td>\n      <td>NaN</td>\n      <td>4</td>\n      <td>56.0</td>\n      <td>76.892857</td>\n      <td>-423.607143</td>\n      <td>0.057889</td>\n    </tr>\n    <tr>\n      <th>128381</th>\n      <td>0.054</td>\n      <td>(ResidenceLength=1, EmploymentLength=72)</td>\n      <td>44504.0</td>\n      <td>824.148148</td>\n      <td>16</td>\n      <td>15</td>\n      <td>931.925926</td>\n      <td>NaN</td>\n      <td>NaN</td>\n      <td>NaN</td>\n      <td>2</td>\n      <td>54.0</td>\n      <td>931.925926</td>\n      <td>431.425926</td>\n      <td>0.047888</td>\n    </tr>\n    <tr>\n      <th>133304</th>\n      <td>0.053</td>\n      <td>(ResidenceLength=1, DurationMonth_C=1, NumPeop...</td>\n      <td>1595.0</td>\n      <td>30.094340</td>\n      <td>1</td>\n      <td>1</td>\n      <td>921.698113</td>\n      <td>NaN</td>\n      <td>NaN</td>\n      <td>NaN</td>\n      <td>5</td>\n      <td>53.0</td>\n      <td>921.698113</td>\n      <td>421.198113</td>\n      <td>0.048973</td>\n    </tr>\n    <tr>\n      <th>133767</th>\n      <td>0.053</td>\n      <td>(ResidenceLength=1, EmploymentLength=72, Forei...</td>\n      <td>635.0</td>\n      <td>11.981132</td>\n      <td>0</td>\n      <td>0</td>\n      <td>931.000000</td>\n      <td>NaN</td>\n      <td>NaN</td>\n      <td>NaN</td>\n      <td>3</td>\n      <td>53.0</td>\n      <td>931.000000</td>\n      <td>430.500000</td>\n      <td>0.037972</td>\n    </tr>\n    <tr>\n      <th>134422</th>\n      <td>0.053</td>\n      <td>(ForeignWorker=201, ExistingCredit=2, Installm...</td>\n      <td>6.0</td>\n      <td>0.113208</td>\n      <td>0</td>\n      <td>1</td>\n      <td>77.641509</td>\n      <td>NaN</td>\n      <td>NaN</td>\n      <td>NaN</td>\n      <td>5</td>\n      <td>53.0</td>\n      <td>77.641509</td>\n      <td>-422.858491</td>\n      <td>0.751998</td>\n    </tr>\n    <tr>\n      <th>142490</th>\n      <td>0.052</td>\n      <td>(ForeignWorker=201, ExistingCredit=2, NumPeopl...</td>\n      <td>6.0</td>\n      <td>0.115385</td>\n      <td>0</td>\n      <td>1</td>\n      <td>77.365385</td>\n      <td>NaN</td>\n      <td>NaN</td>\n      <td>NaN</td>\n      <td>5</td>\n      <td>52.0</td>\n      <td>77.365385</td>\n      <td>-423.134615</td>\n      <td>0.751998</td>\n    </tr>\n    <tr>\n      <th>142491</th>\n      <td>0.052</td>\n      <td>(Debtors=101, ExistingCredit=2, InstallmentPla...</td>\n      <td>21.0</td>\n      <td>0.403846</td>\n      <td>1</td>\n      <td>1</td>\n      <td>75.269231</td>\n      <td>NaN</td>\n      <td>NaN</td>\n      <td>NaN</td>\n      <td>5</td>\n      <td>52.0</td>\n      <td>75.269231</td>\n      <td>-425.230769</td>\n      <td>0.048973</td>\n    </tr>\n    <tr>\n      <th>142559</th>\n      <td>0.052</td>\n      <td>(EmploymentLength=75, ResidenceLength=4, NumPe...</td>\n      <td>194.0</td>\n      <td>3.730769</td>\n      <td>0</td>\n      <td>2</td>\n      <td>77.365385</td>\n      <td>NaN</td>\n      <td>NaN</td>\n      <td>NaN</td>\n      <td>4</td>\n      <td>52.0</td>\n      <td>77.365385</td>\n      <td>-423.134615</td>\n      <td>1.343230</td>\n    </tr>\n    <tr>\n      <th>151401</th>\n      <td>0.050</td>\n      <td>(Debtors=101, ForeignWorker=201, ExistingCredi...</td>\n      <td>6.0</td>\n      <td>0.120000</td>\n      <td>0</td>\n      <td>1</td>\n      <td>75.860000</td>\n      <td>NaN</td>\n      <td>NaN</td>\n      <td>NaN</td>\n      <td>6</td>\n      <td>50.0</td>\n      <td>75.860000</td>\n      <td>-424.640000</td>\n      <td>0.751998</td>\n    </tr>\n  </tbody>\n</table>\n</div>"
     },
     "execution_count": 13,
     "metadata": {},
     "output_type": "execute_result"
    }
   ],
   "source": [
    "\n",
    "\n",
    "FP_fm_unfair = FP_fm[FP_fm[\"d_accuracy\"].abs() > 420]\n",
    "\n",
    "print(len(FP_fm_unfair))\n",
    "FP_fm_unfair"
   ],
   "metadata": {
    "collapsed": false,
    "pycharm": {
     "name": "#%%\n"
    }
   }
  },
  {
   "cell_type": "code",
   "execution_count": 58,
   "outputs": [
    {
     "name": "stdout",
     "output_type": "stream",
     "text": [
      "frozenset({'DurationMonth_C=1'})\n",
      "frozenset({'ForeignWorker=201', 'DurationMonth_C=1'})\n",
      "frozenset({'Housing=152'})\n",
      "frozenset({'Debtors=101', 'DurationMonth_C=1'})\n",
      "frozenset({'ForeignWorker=201', 'Housing=152'})\n",
      "frozenset({'Debtors=101', 'ForeignWorker=201', 'DurationMonth_C=1'})\n",
      "frozenset({'NumPeopleLiable=1', 'DurationMonth_C=1'})\n",
      "frozenset({'Debtors=101', 'Housing=152'})\n",
      "frozenset({'ExistingCredit=1'})\n",
      "frozenset({'InstallmentPlans=143', 'DurationMonth_C=1'})\n",
      "frozenset({'Job=173'})\n",
      "frozenset({'NumPeopleLiable=1', 'ForeignWorker=201', 'DurationMonth_C=1'})\n",
      "frozenset({'Debtors=101', 'ForeignWorker=201', 'Housing=152'})\n",
      "frozenset({'CreditEval=1', 'ForeignWorker=201', 'Debtors=101'})\n",
      "frozenset({'Job=173', 'ForeignWorker=201'})\n",
      "frozenset({'ExistingCredit=1', 'ForeignWorker=201'})\n",
      "frozenset({'NumPeopleLiable=1', 'Housing=152'})\n",
      "frozenset({'SavingsAccount=61'})\n"
     ]
    }
   ],
   "source": [
    "for row in FP_fm_unfair.iterrows():\n",
    "    print(row[1]['itemsets'])"
   ],
   "metadata": {
    "collapsed": false,
    "pycharm": {
     "name": "#%%\n"
    }
   }
  },
  {
   "cell_type": "code",
   "execution_count": null,
   "outputs": [],
   "source": [
    "\n",
    "\n"
   ],
   "metadata": {
    "collapsed": false,
    "pycharm": {
     "name": "#%%\n"
    }
   }
  },
  {
   "cell_type": "code",
   "execution_count": null,
   "outputs": [],
   "source": [
    "\n",
    "\n"
   ],
   "metadata": {
    "collapsed": false,
    "pycharm": {
     "name": "#%%\n"
    }
   }
  },
  {
   "cell_type": "code",
   "execution_count": null,
   "outputs": [],
   "source": [
    "\n",
    "\n",
    "\n",
    "import os\n",
    "import pandas as pd\n",
    "from divexplorer.FP_DivergenceExplorer import FP_DivergenceExplorer\n",
    "# from divexplorer.FP_DivergenceExplorer_original import FP_DivergenceExplorer\n",
    "\n",
    "\n",
    "inputDir=os.path.join(\".\", \"datasets\")\n",
    "\n",
    "\n",
    "df= pd.read_csv(os.path.join(inputDir, \"student-mat_cat_ranked.csv\"))\n",
    "\n",
    "# df= pd.read_csv(os.path.join(inputDir, \"compas_discretized.csv\"))\n",
    "\n",
    "class_map={'N': 0, 'P': 1}\n",
    "df.head()\n",
    "\n",
    "min_sup = 0.6\n",
    "fp_diver = FP_DivergenceExplorer(df,\"truth\", \"prediction\", class_map=class_map)\n",
    "\n",
    "\n"
   ],
   "metadata": {
    "collapsed": false,
    "pycharm": {
     "name": "#%%\n"
    }
   }
  },
  {
   "cell_type": "markdown",
   "source": [
    "\n",
    "# student dataset"
   ],
   "metadata": {
    "collapsed": false,
    "pycharm": {
     "name": "#%% md\n"
    }
   }
  },
  {
   "cell_type": "code",
   "execution_count": 18,
   "outputs": [
    {
     "data": {
      "text/plain": "  school sex  age address famsize Pstatus  Medu  Fedu      Mjob      Fjob  \\\n0     GP   M   16       U     GT3       T     4     3    health  services   \n1     GP   M   15       U     LE3       A     3     2  services     other   \n2     GP   M   15       U     LE3       A     4     4   teacher   teacher   \n3     GP   M   15       U     LE3       T     4     2   teacher     other   \n\n   ... Dalc_C Walc_C  health_C  absences_C  G1_C G2_C G3_C rank  truth  \\\n0  ...      1      1         2           0     3    3    3    1   True   \n1  ...      1      1         1           0     3    3    3    2   True   \n2  ...      1      1         4           0     3    3    3    3  False   \n3  ...      1      1         3           0     3    3    3    4  False   \n\n  prediction  \n0       True  \n1       True  \n2       True  \n3       True  \n\n[4 rows x 69 columns]",
      "text/html": "<div>\n<style scoped>\n    .dataframe tbody tr th:only-of-type {\n        vertical-align: middle;\n    }\n\n    .dataframe tbody tr th {\n        vertical-align: top;\n    }\n\n    .dataframe thead th {\n        text-align: right;\n    }\n</style>\n<table border=\"1\" class=\"dataframe\">\n  <thead>\n    <tr style=\"text-align: right;\">\n      <th></th>\n      <th>school</th>\n      <th>sex</th>\n      <th>age</th>\n      <th>address</th>\n      <th>famsize</th>\n      <th>Pstatus</th>\n      <th>Medu</th>\n      <th>Fedu</th>\n      <th>Mjob</th>\n      <th>Fjob</th>\n      <th>...</th>\n      <th>Dalc_C</th>\n      <th>Walc_C</th>\n      <th>health_C</th>\n      <th>absences_C</th>\n      <th>G1_C</th>\n      <th>G2_C</th>\n      <th>G3_C</th>\n      <th>rank</th>\n      <th>truth</th>\n      <th>prediction</th>\n    </tr>\n  </thead>\n  <tbody>\n    <tr>\n      <th>0</th>\n      <td>GP</td>\n      <td>M</td>\n      <td>16</td>\n      <td>U</td>\n      <td>GT3</td>\n      <td>T</td>\n      <td>4</td>\n      <td>3</td>\n      <td>health</td>\n      <td>services</td>\n      <td>...</td>\n      <td>1</td>\n      <td>1</td>\n      <td>2</td>\n      <td>0</td>\n      <td>3</td>\n      <td>3</td>\n      <td>3</td>\n      <td>1</td>\n      <td>True</td>\n      <td>True</td>\n    </tr>\n    <tr>\n      <th>1</th>\n      <td>GP</td>\n      <td>M</td>\n      <td>15</td>\n      <td>U</td>\n      <td>LE3</td>\n      <td>A</td>\n      <td>3</td>\n      <td>2</td>\n      <td>services</td>\n      <td>other</td>\n      <td>...</td>\n      <td>1</td>\n      <td>1</td>\n      <td>1</td>\n      <td>0</td>\n      <td>3</td>\n      <td>3</td>\n      <td>3</td>\n      <td>2</td>\n      <td>True</td>\n      <td>True</td>\n    </tr>\n    <tr>\n      <th>2</th>\n      <td>GP</td>\n      <td>M</td>\n      <td>15</td>\n      <td>U</td>\n      <td>LE3</td>\n      <td>A</td>\n      <td>4</td>\n      <td>4</td>\n      <td>teacher</td>\n      <td>teacher</td>\n      <td>...</td>\n      <td>1</td>\n      <td>1</td>\n      <td>4</td>\n      <td>0</td>\n      <td>3</td>\n      <td>3</td>\n      <td>3</td>\n      <td>3</td>\n      <td>False</td>\n      <td>True</td>\n    </tr>\n    <tr>\n      <th>3</th>\n      <td>GP</td>\n      <td>M</td>\n      <td>15</td>\n      <td>U</td>\n      <td>LE3</td>\n      <td>T</td>\n      <td>4</td>\n      <td>2</td>\n      <td>teacher</td>\n      <td>other</td>\n      <td>...</td>\n      <td>1</td>\n      <td>1</td>\n      <td>3</td>\n      <td>0</td>\n      <td>3</td>\n      <td>3</td>\n      <td>3</td>\n      <td>4</td>\n      <td>False</td>\n      <td>True</td>\n    </tr>\n  </tbody>\n</table>\n<p>4 rows × 69 columns</p>\n</div>"
     },
     "execution_count": 18,
     "metadata": {},
     "output_type": "execute_result"
    }
   ],
   "source": [
    "df = pd.read_csv(r'datasets/student-mat_cat_ranked.csv')\n",
    "df[:4]\n"
   ],
   "metadata": {
    "collapsed": false,
    "pycharm": {
     "name": "#%%\n"
    }
   }
  },
  {
   "cell_type": "code",
   "execution_count": 5,
   "outputs": [
    {
     "data": {
      "text/plain": "  school sex  age address famsize Pstatus  Medu  Fedu      Mjob      Fjob  \\\n0     GP   M   16       U     GT3       T     4     3    health  services   \n1     GP   M   15       U     LE3       A     3     2  services     other   \n2     GP   M   15       U     LE3       A     4     4   teacher   teacher   \n3     GP   M   15       U     LE3       T     4     2   teacher     other   \n\n   ... goout_C Dalc_C  Walc_C  health_C  absences_C G1_C G2_C G3_C rank  truth  \n0  ...       2      1       1         2           0    3    3    3  1.0   True  \n1  ...       2      1       1         1           0    3    3    3  2.0   True  \n2  ...       3      1       1         4           0    3    3    3  3.0  False  \n3  ...       2      1       1         3           0    3    3    3  4.0  False  \n\n[4 rows x 68 columns]",
      "text/html": "<div>\n<style scoped>\n    .dataframe tbody tr th:only-of-type {\n        vertical-align: middle;\n    }\n\n    .dataframe tbody tr th {\n        vertical-align: top;\n    }\n\n    .dataframe thead th {\n        text-align: right;\n    }\n</style>\n<table border=\"1\" class=\"dataframe\">\n  <thead>\n    <tr style=\"text-align: right;\">\n      <th></th>\n      <th>school</th>\n      <th>sex</th>\n      <th>age</th>\n      <th>address</th>\n      <th>famsize</th>\n      <th>Pstatus</th>\n      <th>Medu</th>\n      <th>Fedu</th>\n      <th>Mjob</th>\n      <th>Fjob</th>\n      <th>...</th>\n      <th>goout_C</th>\n      <th>Dalc_C</th>\n      <th>Walc_C</th>\n      <th>health_C</th>\n      <th>absences_C</th>\n      <th>G1_C</th>\n      <th>G2_C</th>\n      <th>G3_C</th>\n      <th>rank</th>\n      <th>truth</th>\n    </tr>\n  </thead>\n  <tbody>\n    <tr>\n      <th>0</th>\n      <td>GP</td>\n      <td>M</td>\n      <td>16</td>\n      <td>U</td>\n      <td>GT3</td>\n      <td>T</td>\n      <td>4</td>\n      <td>3</td>\n      <td>health</td>\n      <td>services</td>\n      <td>...</td>\n      <td>2</td>\n      <td>1</td>\n      <td>1</td>\n      <td>2</td>\n      <td>0</td>\n      <td>3</td>\n      <td>3</td>\n      <td>3</td>\n      <td>1.0</td>\n      <td>True</td>\n    </tr>\n    <tr>\n      <th>1</th>\n      <td>GP</td>\n      <td>M</td>\n      <td>15</td>\n      <td>U</td>\n      <td>LE3</td>\n      <td>A</td>\n      <td>3</td>\n      <td>2</td>\n      <td>services</td>\n      <td>other</td>\n      <td>...</td>\n      <td>2</td>\n      <td>1</td>\n      <td>1</td>\n      <td>1</td>\n      <td>0</td>\n      <td>3</td>\n      <td>3</td>\n      <td>3</td>\n      <td>2.0</td>\n      <td>True</td>\n    </tr>\n    <tr>\n      <th>2</th>\n      <td>GP</td>\n      <td>M</td>\n      <td>15</td>\n      <td>U</td>\n      <td>LE3</td>\n      <td>A</td>\n      <td>4</td>\n      <td>4</td>\n      <td>teacher</td>\n      <td>teacher</td>\n      <td>...</td>\n      <td>3</td>\n      <td>1</td>\n      <td>1</td>\n      <td>4</td>\n      <td>0</td>\n      <td>3</td>\n      <td>3</td>\n      <td>3</td>\n      <td>3.0</td>\n      <td>False</td>\n    </tr>\n    <tr>\n      <th>3</th>\n      <td>GP</td>\n      <td>M</td>\n      <td>15</td>\n      <td>U</td>\n      <td>LE3</td>\n      <td>T</td>\n      <td>4</td>\n      <td>2</td>\n      <td>teacher</td>\n      <td>other</td>\n      <td>...</td>\n      <td>2</td>\n      <td>1</td>\n      <td>1</td>\n      <td>3</td>\n      <td>0</td>\n      <td>3</td>\n      <td>3</td>\n      <td>3</td>\n      <td>4.0</td>\n      <td>False</td>\n    </tr>\n  </tbody>\n</table>\n<p>4 rows × 68 columns</p>\n</div>"
     },
     "execution_count": 5,
     "metadata": {},
     "output_type": "execute_result"
    }
   ],
   "source": [
    "df['truth'] = df.apply(lambda x: bool(random.getrandbits(1)), axis=1)\n",
    "df[:4]"
   ],
   "metadata": {
    "collapsed": false,
    "pycharm": {
     "name": "#%%\n"
    }
   }
  },
  {
   "cell_type": "code",
   "execution_count": 6,
   "outputs": [
    {
     "data": {
      "text/plain": "  school sex  age address famsize Pstatus  Medu  Fedu      Mjob      Fjob  \\\n0     GP   M   16       U     GT3       T     4     3    health  services   \n1     GP   M   15       U     LE3       A     3     2  services     other   \n2     GP   M   15       U     LE3       A     4     4   teacher   teacher   \n3     GP   M   15       U     LE3       T     4     2   teacher     other   \n\n   ... Dalc_C Walc_C  health_C  absences_C  G1_C G2_C G3_C rank  truth  \\\n0  ...      1      1         2           0     3    3    3  1.0   True   \n1  ...      1      1         1           0     3    3    3  2.0   True   \n2  ...      1      1         4           0     3    3    3  3.0  False   \n3  ...      1      1         3           0     3    3    3  4.0  False   \n\n  prediction  \n0       True  \n1       True  \n2       True  \n3       True  \n\n[4 rows x 69 columns]",
      "text/html": "<div>\n<style scoped>\n    .dataframe tbody tr th:only-of-type {\n        vertical-align: middle;\n    }\n\n    .dataframe tbody tr th {\n        vertical-align: top;\n    }\n\n    .dataframe thead th {\n        text-align: right;\n    }\n</style>\n<table border=\"1\" class=\"dataframe\">\n  <thead>\n    <tr style=\"text-align: right;\">\n      <th></th>\n      <th>school</th>\n      <th>sex</th>\n      <th>age</th>\n      <th>address</th>\n      <th>famsize</th>\n      <th>Pstatus</th>\n      <th>Medu</th>\n      <th>Fedu</th>\n      <th>Mjob</th>\n      <th>Fjob</th>\n      <th>...</th>\n      <th>Dalc_C</th>\n      <th>Walc_C</th>\n      <th>health_C</th>\n      <th>absences_C</th>\n      <th>G1_C</th>\n      <th>G2_C</th>\n      <th>G3_C</th>\n      <th>rank</th>\n      <th>truth</th>\n      <th>prediction</th>\n    </tr>\n  </thead>\n  <tbody>\n    <tr>\n      <th>0</th>\n      <td>GP</td>\n      <td>M</td>\n      <td>16</td>\n      <td>U</td>\n      <td>GT3</td>\n      <td>T</td>\n      <td>4</td>\n      <td>3</td>\n      <td>health</td>\n      <td>services</td>\n      <td>...</td>\n      <td>1</td>\n      <td>1</td>\n      <td>2</td>\n      <td>0</td>\n      <td>3</td>\n      <td>3</td>\n      <td>3</td>\n      <td>1.0</td>\n      <td>True</td>\n      <td>True</td>\n    </tr>\n    <tr>\n      <th>1</th>\n      <td>GP</td>\n      <td>M</td>\n      <td>15</td>\n      <td>U</td>\n      <td>LE3</td>\n      <td>A</td>\n      <td>3</td>\n      <td>2</td>\n      <td>services</td>\n      <td>other</td>\n      <td>...</td>\n      <td>1</td>\n      <td>1</td>\n      <td>1</td>\n      <td>0</td>\n      <td>3</td>\n      <td>3</td>\n      <td>3</td>\n      <td>2.0</td>\n      <td>True</td>\n      <td>True</td>\n    </tr>\n    <tr>\n      <th>2</th>\n      <td>GP</td>\n      <td>M</td>\n      <td>15</td>\n      <td>U</td>\n      <td>LE3</td>\n      <td>A</td>\n      <td>4</td>\n      <td>4</td>\n      <td>teacher</td>\n      <td>teacher</td>\n      <td>...</td>\n      <td>1</td>\n      <td>1</td>\n      <td>4</td>\n      <td>0</td>\n      <td>3</td>\n      <td>3</td>\n      <td>3</td>\n      <td>3.0</td>\n      <td>False</td>\n      <td>True</td>\n    </tr>\n    <tr>\n      <th>3</th>\n      <td>GP</td>\n      <td>M</td>\n      <td>15</td>\n      <td>U</td>\n      <td>LE3</td>\n      <td>T</td>\n      <td>4</td>\n      <td>2</td>\n      <td>teacher</td>\n      <td>other</td>\n      <td>...</td>\n      <td>1</td>\n      <td>1</td>\n      <td>3</td>\n      <td>0</td>\n      <td>3</td>\n      <td>3</td>\n      <td>3</td>\n      <td>4.0</td>\n      <td>False</td>\n      <td>True</td>\n    </tr>\n  </tbody>\n</table>\n<p>4 rows × 69 columns</p>\n</div>"
     },
     "execution_count": 6,
     "metadata": {},
     "output_type": "execute_result"
    }
   ],
   "source": [
    "df['prediction'] = df.apply(lambda x: bool(random.getrandbits(1)), axis=1)\n",
    "df[:4]"
   ],
   "metadata": {
    "collapsed": false,
    "pycharm": {
     "name": "#%%\n"
    }
   }
  },
  {
   "cell_type": "code",
   "execution_count": 17,
   "outputs": [],
   "source": [
    "df.to_csv(r'datasets/student-mat_cat_ranked.csv', index=False)"
   ],
   "metadata": {
    "collapsed": false,
    "pycharm": {
     "name": "#%%\n"
    }
   }
  },
  {
   "cell_type": "code",
   "execution_count": 16,
   "outputs": [
    {
     "data": {
      "text/plain": "  school sex  age address famsize Pstatus  Medu  Fedu      Mjob      Fjob  \\\n0     GP   M   16       U     GT3       T     4     3    health  services   \n1     GP   M   15       U     LE3       A     3     2  services     other   \n2     GP   M   15       U     LE3       A     4     4   teacher   teacher   \n3     GP   M   15       U     LE3       T     4     2   teacher     other   \n\n   ... Dalc_C Walc_C  health_C  absences_C  G1_C G2_C G3_C rank  truth  \\\n0  ...      1      1         2           0     3    3    3    1   True   \n1  ...      1      1         1           0     3    3    3    2   True   \n2  ...      1      1         4           0     3    3    3    3  False   \n3  ...      1      1         3           0     3    3    3    4  False   \n\n  prediction  \n0       True  \n1       True  \n2       True  \n3       True  \n\n[4 rows x 69 columns]",
      "text/html": "<div>\n<style scoped>\n    .dataframe tbody tr th:only-of-type {\n        vertical-align: middle;\n    }\n\n    .dataframe tbody tr th {\n        vertical-align: top;\n    }\n\n    .dataframe thead th {\n        text-align: right;\n    }\n</style>\n<table border=\"1\" class=\"dataframe\">\n  <thead>\n    <tr style=\"text-align: right;\">\n      <th></th>\n      <th>school</th>\n      <th>sex</th>\n      <th>age</th>\n      <th>address</th>\n      <th>famsize</th>\n      <th>Pstatus</th>\n      <th>Medu</th>\n      <th>Fedu</th>\n      <th>Mjob</th>\n      <th>Fjob</th>\n      <th>...</th>\n      <th>Dalc_C</th>\n      <th>Walc_C</th>\n      <th>health_C</th>\n      <th>absences_C</th>\n      <th>G1_C</th>\n      <th>G2_C</th>\n      <th>G3_C</th>\n      <th>rank</th>\n      <th>truth</th>\n      <th>prediction</th>\n    </tr>\n  </thead>\n  <tbody>\n    <tr>\n      <th>0</th>\n      <td>GP</td>\n      <td>M</td>\n      <td>16</td>\n      <td>U</td>\n      <td>GT3</td>\n      <td>T</td>\n      <td>4</td>\n      <td>3</td>\n      <td>health</td>\n      <td>services</td>\n      <td>...</td>\n      <td>1</td>\n      <td>1</td>\n      <td>2</td>\n      <td>0</td>\n      <td>3</td>\n      <td>3</td>\n      <td>3</td>\n      <td>1</td>\n      <td>True</td>\n      <td>True</td>\n    </tr>\n    <tr>\n      <th>1</th>\n      <td>GP</td>\n      <td>M</td>\n      <td>15</td>\n      <td>U</td>\n      <td>LE3</td>\n      <td>A</td>\n      <td>3</td>\n      <td>2</td>\n      <td>services</td>\n      <td>other</td>\n      <td>...</td>\n      <td>1</td>\n      <td>1</td>\n      <td>1</td>\n      <td>0</td>\n      <td>3</td>\n      <td>3</td>\n      <td>3</td>\n      <td>2</td>\n      <td>True</td>\n      <td>True</td>\n    </tr>\n    <tr>\n      <th>2</th>\n      <td>GP</td>\n      <td>M</td>\n      <td>15</td>\n      <td>U</td>\n      <td>LE3</td>\n      <td>A</td>\n      <td>4</td>\n      <td>4</td>\n      <td>teacher</td>\n      <td>teacher</td>\n      <td>...</td>\n      <td>1</td>\n      <td>1</td>\n      <td>4</td>\n      <td>0</td>\n      <td>3</td>\n      <td>3</td>\n      <td>3</td>\n      <td>3</td>\n      <td>False</td>\n      <td>True</td>\n    </tr>\n    <tr>\n      <th>3</th>\n      <td>GP</td>\n      <td>M</td>\n      <td>15</td>\n      <td>U</td>\n      <td>LE3</td>\n      <td>T</td>\n      <td>4</td>\n      <td>2</td>\n      <td>teacher</td>\n      <td>other</td>\n      <td>...</td>\n      <td>1</td>\n      <td>1</td>\n      <td>3</td>\n      <td>0</td>\n      <td>3</td>\n      <td>3</td>\n      <td>3</td>\n      <td>4</td>\n      <td>False</td>\n      <td>True</td>\n    </tr>\n  </tbody>\n</table>\n<p>4 rows × 69 columns</p>\n</div>"
     },
     "execution_count": 16,
     "metadata": {},
     "output_type": "execute_result"
    }
   ],
   "source": [
    "df[\"rank\"] = df[\"rank\"].astype(int)\n",
    "#\n",
    "df[:4]"
   ],
   "metadata": {
    "collapsed": false,
    "pycharm": {
     "name": "#%%\n"
    }
   }
  },
  {
   "cell_type": "code",
   "execution_count": null,
   "outputs": [],
   "source": [
    "\n"
   ],
   "metadata": {
    "collapsed": false,
    "pycharm": {
     "name": "#%%\n"
    }
   }
  },
  {
   "cell_type": "code",
   "execution_count": 19,
   "outputs": [],
   "source": [
    "\n",
    "\n",
    "import os\n",
    "import pandas as pd\n",
    "from divexplorer.FP_DivergenceExplorer import FP_DivergenceExplorer\n",
    "# from divexplorer.FP_DivergenceExplorer_original import FP_DivergenceExplorer\n",
    "\n",
    "\n",
    "inputDir=os.path.join(\".\", \"datasets\")\n",
    "\n",
    "\n",
    "df= pd.read_csv(os.path.join(inputDir, \"student-mat_cat_ranked.csv\"))\n",
    "\n",
    "# df= pd.read_csv(os.path.join(inputDir, \"compas_discretized.csv\"))\n",
    "\n",
    "class_map={'N': 0, 'P': 1}\n",
    "df.head()\n",
    "\n",
    "min_sup = 0.05\n",
    "fp_diver = FP_DivergenceExplorer(df,\"truth\", \"prediction\", class_map=class_map)\n"
   ],
   "metadata": {
    "collapsed": false,
    "pycharm": {
     "name": "#%%\n"
    }
   }
  },
  {
   "cell_type": "code",
   "execution_count": null,
   "outputs": [],
   "source": [
    "\n",
    "\n",
    "FP_fm=fp_diver.getFrequentPatternDivergence(min_support=min_sup,\n",
    "                                            metrics=[\"d_accuracy\"])\n",
    "\n"
   ],
   "metadata": {
    "collapsed": false,
    "pycharm": {
     "name": "#%%\n",
     "is_executing": true
    }
   }
  },
  {
   "cell_type": "code",
   "execution_count": null,
   "outputs": [],
   "source": [
    "print(len(FP_fm))\n",
    "FP_fm[:5]"
   ],
   "metadata": {
    "collapsed": false,
    "pycharm": {
     "name": "#%%\n",
     "is_executing": true
    }
   }
  },
  {
   "cell_type": "code",
   "execution_count": null,
   "outputs": [],
   "source": [
    "\n",
    "\n",
    "\n",
    "FP_fm_unfair = FP_fm[FP_fm[\"d_accuracy\"].abs() > 420]\n",
    "\n",
    "print(len(FP_fm_unfair))\n",
    "FP_fm_unfair"
   ],
   "metadata": {
    "collapsed": false,
    "pycharm": {
     "name": "#%%\n"
    }
   }
  },
  {
   "cell_type": "code",
   "execution_count": null,
   "outputs": [],
   "source": [],
   "metadata": {
    "collapsed": false,
    "pycharm": {
     "name": "#%%\n"
    }
   }
  }
 ],
 "metadata": {
  "kernelspec": {
   "display_name": "Python 3",
   "language": "python",
   "name": "python3"
  },
  "language_info": {
   "codemirror_mode": {
    "name": "ipython",
    "version": 2
   },
   "file_extension": ".py",
   "mimetype": "text/x-python",
   "name": "python",
   "nbconvert_exporter": "python",
   "pygments_lexer": "ipython2",
   "version": "2.7.6"
  }
 },
 "nbformat": 4,
 "nbformat_minor": 0
}