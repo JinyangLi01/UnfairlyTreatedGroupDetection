{
 "cells": [
  {
   "cell_type": "code",
   "execution_count": 1,
   "metadata": {
    "collapsed": true,
    "pycharm": {
     "name": "#%%\n"
    }
   },
   "outputs": [],
   "source": [
    "import pandas as pd\n",
    "import os\n",
    "from divexplorer.FP_DivergenceExplorer import FP_DivergenceExplorer\n",
    "\n"
   ]
  },
  {
   "cell_type": "markdown",
   "source": [
    "\n",
    "# reproduce DivExplorer\n"
   ],
   "metadata": {
    "collapsed": false,
    "pycharm": {
     "name": "#%% md\n"
    }
   }
  },
  {
   "cell_type": "code",
   "execution_count": 2,
   "outputs": [
    {
     "data": {
      "text/plain": "     age charge    race   sex #prior   stay  class  predicted\n0    >45      F   Other  Male      0  <week      0          0\n1  25-45      F  Afr-Am  Male      0  1w-3M      1          0\n2    <25      F  Afr-Am  Male     >3  <week      1          0\n3  25-45      M   Other  Male      0  <week      0          0\n4  25-45      F    Cauc  Male     >3  <week      1          0",
      "text/html": "<div>\n<style scoped>\n    .dataframe tbody tr th:only-of-type {\n        vertical-align: middle;\n    }\n\n    .dataframe tbody tr th {\n        vertical-align: top;\n    }\n\n    .dataframe thead th {\n        text-align: right;\n    }\n</style>\n<table border=\"1\" class=\"dataframe\">\n  <thead>\n    <tr style=\"text-align: right;\">\n      <th></th>\n      <th>age</th>\n      <th>charge</th>\n      <th>race</th>\n      <th>sex</th>\n      <th>#prior</th>\n      <th>stay</th>\n      <th>class</th>\n      <th>predicted</th>\n    </tr>\n  </thead>\n  <tbody>\n    <tr>\n      <th>0</th>\n      <td>&gt;45</td>\n      <td>F</td>\n      <td>Other</td>\n      <td>Male</td>\n      <td>0</td>\n      <td>&lt;week</td>\n      <td>0</td>\n      <td>0</td>\n    </tr>\n    <tr>\n      <th>1</th>\n      <td>25-45</td>\n      <td>F</td>\n      <td>Afr-Am</td>\n      <td>Male</td>\n      <td>0</td>\n      <td>1w-3M</td>\n      <td>1</td>\n      <td>0</td>\n    </tr>\n    <tr>\n      <th>2</th>\n      <td>&lt;25</td>\n      <td>F</td>\n      <td>Afr-Am</td>\n      <td>Male</td>\n      <td>&gt;3</td>\n      <td>&lt;week</td>\n      <td>1</td>\n      <td>0</td>\n    </tr>\n    <tr>\n      <th>3</th>\n      <td>25-45</td>\n      <td>M</td>\n      <td>Other</td>\n      <td>Male</td>\n      <td>0</td>\n      <td>&lt;week</td>\n      <td>0</td>\n      <td>0</td>\n    </tr>\n    <tr>\n      <th>4</th>\n      <td>25-45</td>\n      <td>F</td>\n      <td>Cauc</td>\n      <td>Male</td>\n      <td>&gt;3</td>\n      <td>&lt;week</td>\n      <td>1</td>\n      <td>0</td>\n    </tr>\n  </tbody>\n</table>\n</div>"
     },
     "execution_count": 2,
     "metadata": {},
     "output_type": "execute_result"
    }
   ],
   "source": [
    "\n",
    "\n",
    "inputDir=os.path.join(\".\", \"datasets\")\n",
    "\n",
    "\n",
    "df= pd.read_csv(os.path.join(inputDir, \"compas_discretized.csv\"))\n",
    "class_map={'N': 0, 'P': 1}\n",
    "df.head()\n",
    "\n"
   ],
   "metadata": {
    "collapsed": false,
    "pycharm": {
     "name": "#%%\n"
    }
   }
  },
  {
   "cell_type": "code",
   "execution_count": 3,
   "outputs": [
    {
     "data": {
      "text/plain": "6172"
     },
     "execution_count": 3,
     "metadata": {},
     "output_type": "execute_result"
    }
   ],
   "source": [
    "\n",
    "len(df)\n"
   ],
   "metadata": {
    "collapsed": false,
    "pycharm": {
     "name": "#%%\n"
    }
   }
  },
  {
   "cell_type": "code",
   "execution_count": 42,
   "outputs": [
    {
     "name": "stdout",
     "output_type": "stream",
     "text": [
      "running time = 1.1769459247589111s\n"
     ]
    }
   ],
   "source": [
    "\n",
    "import time\n",
    "\n",
    "time1 = time.time()\n",
    "min_sup=0.01 # 61.72 size threshold\n",
    "# Input: a discretized dataframe with the true class and the predicted class.\n",
    "# We specify their column names in the dataframe\n",
    "# The class_map is a dictionary to specify the positive and the negative class (e.g. {\"P\":1, \"N\":0})\n",
    "fp_diver=FP_DivergenceExplorer(df,\"class\", \"predicted\", class_map=class_map)\n",
    "#Extract frequent patterns (FP) and compute divergence\n",
    "##min_support: minimum support threshold\n",
    "##metrics: metrics=[\"d_fpr\", \"d_fnr\"]\n",
    "# (default metric of interest: False Positive Rate (FPR) d_fpr, False Negative Rate (FNR) d_fnr, Accuracy divergence)\n",
    "FP_fm=fp_diver.getFrequentPatternDivergence(min_support=min_sup, metrics=[\"d_fpr\"])\n",
    "time2 = time.time()\n",
    "print(\"running time = {}s\".format(time2 - time1))"
   ],
   "metadata": {
    "collapsed": false,
    "pycharm": {
     "name": "#%%\n"
    }
   }
  },
  {
   "cell_type": "code",
   "execution_count": 43,
   "outputs": [
    {
     "name": "stdout",
     "output_type": "stream",
     "text": [
      "Number of frequent patterns: 969\n"
     ]
    }
   ],
   "source": [
    "print(f\"Number of frequent patterns: {len(FP_fm)}\")"
   ],
   "metadata": {
    "collapsed": false,
    "pycharm": {
     "name": "#%%\n"
    }
   }
  },
  {
   "cell_type": "code",
   "execution_count": 44,
   "outputs": [
    {
     "data": {
      "text/plain": "    support                itemsets    tn   fp    fn   tp  length  \\\n0  1.000000                      ()  3066  297  1962  847       0   \n1  0.809624              (sex=Male)  2357  244  1647  749       1   \n2  0.772683            (stay=<week)  2589  201  1487  492       1   \n3  0.643227              (charge=F)  1772  214  1307  677       1   \n4  0.614226  (stay=<week, sex=Male)  1959  162  1236  434       2   \n\n   support_count       fpr     d_fpr  t_value_fp  \n0         6172.0  0.088314  0.000000    0.000000  \n1         4997.0  0.093810  0.005496    0.738697  \n2         4769.0  0.072043 -0.016271    2.339352  \n3         3970.0  0.107754  0.019440    2.301183  \n4         3791.0  0.076379 -0.011935    1.555571  ",
      "text/html": "<div>\n<style scoped>\n    .dataframe tbody tr th:only-of-type {\n        vertical-align: middle;\n    }\n\n    .dataframe tbody tr th {\n        vertical-align: top;\n    }\n\n    .dataframe thead th {\n        text-align: right;\n    }\n</style>\n<table border=\"1\" class=\"dataframe\">\n  <thead>\n    <tr style=\"text-align: right;\">\n      <th></th>\n      <th>support</th>\n      <th>itemsets</th>\n      <th>tn</th>\n      <th>fp</th>\n      <th>fn</th>\n      <th>tp</th>\n      <th>length</th>\n      <th>support_count</th>\n      <th>fpr</th>\n      <th>d_fpr</th>\n      <th>t_value_fp</th>\n    </tr>\n  </thead>\n  <tbody>\n    <tr>\n      <th>0</th>\n      <td>1.000000</td>\n      <td>()</td>\n      <td>3066</td>\n      <td>297</td>\n      <td>1962</td>\n      <td>847</td>\n      <td>0</td>\n      <td>6172.0</td>\n      <td>0.088314</td>\n      <td>0.000000</td>\n      <td>0.000000</td>\n    </tr>\n    <tr>\n      <th>1</th>\n      <td>0.809624</td>\n      <td>(sex=Male)</td>\n      <td>2357</td>\n      <td>244</td>\n      <td>1647</td>\n      <td>749</td>\n      <td>1</td>\n      <td>4997.0</td>\n      <td>0.093810</td>\n      <td>0.005496</td>\n      <td>0.738697</td>\n    </tr>\n    <tr>\n      <th>2</th>\n      <td>0.772683</td>\n      <td>(stay=&lt;week)</td>\n      <td>2589</td>\n      <td>201</td>\n      <td>1487</td>\n      <td>492</td>\n      <td>1</td>\n      <td>4769.0</td>\n      <td>0.072043</td>\n      <td>-0.016271</td>\n      <td>2.339352</td>\n    </tr>\n    <tr>\n      <th>3</th>\n      <td>0.643227</td>\n      <td>(charge=F)</td>\n      <td>1772</td>\n      <td>214</td>\n      <td>1307</td>\n      <td>677</td>\n      <td>1</td>\n      <td>3970.0</td>\n      <td>0.107754</td>\n      <td>0.019440</td>\n      <td>2.301183</td>\n    </tr>\n    <tr>\n      <th>4</th>\n      <td>0.614226</td>\n      <td>(stay=&lt;week, sex=Male)</td>\n      <td>1959</td>\n      <td>162</td>\n      <td>1236</td>\n      <td>434</td>\n      <td>2</td>\n      <td>3791.0</td>\n      <td>0.076379</td>\n      <td>-0.011935</td>\n      <td>1.555571</td>\n    </tr>\n  </tbody>\n</table>\n</div>"
     },
     "execution_count": 44,
     "metadata": {},
     "output_type": "execute_result"
    }
   ],
   "source": [
    "FP_fm.head()"
   ],
   "metadata": {
    "collapsed": false,
    "pycharm": {
     "name": "#%%\n"
    }
   }
  },
  {
   "cell_type": "code",
   "execution_count": 45,
   "outputs": [
    {
     "data": {
      "text/plain": "196"
     },
     "execution_count": 45,
     "metadata": {},
     "output_type": "execute_result"
    }
   ],
   "source": [
    "\n",
    "FP_fm_unfair = FP_fm[FP_fm[\"d_fpr\"] > 0.1]\n",
    "len(FP_fm_unfair)\n"
   ],
   "metadata": {
    "collapsed": false,
    "pycharm": {
     "name": "#%%\n"
    }
   }
  },
  {
   "cell_type": "code",
   "execution_count": 46,
   "outputs": [
    {
     "data": {
      "text/plain": "     support                            itemsets   tn   fp   fn   tp  length  \\\n28  0.293422                         (#prior=>3)  470  132  670  539       1   \n35  0.256643               (sex=Male, #prior=>3)  401  115  588  480       2   \n43  0.219540               (#prior=>3, charge=F)  331   97  488  439       2   \n49  0.207226              (#prior=>3, age=25-45)  297  100  469  413       2   \n55  0.196695            (race=Afr-Am, #prior=>3)  283  100  403  428       2   \n56  0.194426             (stay=<week, #prior=>3)  349   82  457  312       2   \n58  0.190376     (sex=Male, #prior=>3, charge=F)  277   83  423  392       3   \n62  0.180655    (sex=Male, #prior=>3, age=25-45)  254   86  405  370       3   \n64  0.178386                 (sex=Male, age=<25)  357   83  414  247       2   \n67  0.175308  (sex=Male, race=Afr-Am, #prior=>3)  239   87  369  387       3   \n\n    support_count       fpr     d_fpr  t_value_fp  \n28         1811.0  0.219269  0.130955    7.503321  \n35         1584.0  0.222868  0.134554    7.146700  \n43         1355.0  0.226636  0.138322    6.702442  \n49         1279.0  0.251889  0.163575    7.384973  \n55         1214.0  0.261097  0.172783    7.582039  \n56         1200.0  0.190255  0.101941    5.283437  \n58         1175.0  0.230556  0.142242    6.323414  \n62         1115.0  0.252941  0.164627    6.903692  \n64         1101.0  0.188636  0.100322    5.265747  \n67         1082.0  0.266871  0.178557    7.214382  ",
      "text/html": "<div>\n<style scoped>\n    .dataframe tbody tr th:only-of-type {\n        vertical-align: middle;\n    }\n\n    .dataframe tbody tr th {\n        vertical-align: top;\n    }\n\n    .dataframe thead th {\n        text-align: right;\n    }\n</style>\n<table border=\"1\" class=\"dataframe\">\n  <thead>\n    <tr style=\"text-align: right;\">\n      <th></th>\n      <th>support</th>\n      <th>itemsets</th>\n      <th>tn</th>\n      <th>fp</th>\n      <th>fn</th>\n      <th>tp</th>\n      <th>length</th>\n      <th>support_count</th>\n      <th>fpr</th>\n      <th>d_fpr</th>\n      <th>t_value_fp</th>\n    </tr>\n  </thead>\n  <tbody>\n    <tr>\n      <th>28</th>\n      <td>0.293422</td>\n      <td>(#prior=&gt;3)</td>\n      <td>470</td>\n      <td>132</td>\n      <td>670</td>\n      <td>539</td>\n      <td>1</td>\n      <td>1811.0</td>\n      <td>0.219269</td>\n      <td>0.130955</td>\n      <td>7.503321</td>\n    </tr>\n    <tr>\n      <th>35</th>\n      <td>0.256643</td>\n      <td>(sex=Male, #prior=&gt;3)</td>\n      <td>401</td>\n      <td>115</td>\n      <td>588</td>\n      <td>480</td>\n      <td>2</td>\n      <td>1584.0</td>\n      <td>0.222868</td>\n      <td>0.134554</td>\n      <td>7.146700</td>\n    </tr>\n    <tr>\n      <th>43</th>\n      <td>0.219540</td>\n      <td>(#prior=&gt;3, charge=F)</td>\n      <td>331</td>\n      <td>97</td>\n      <td>488</td>\n      <td>439</td>\n      <td>2</td>\n      <td>1355.0</td>\n      <td>0.226636</td>\n      <td>0.138322</td>\n      <td>6.702442</td>\n    </tr>\n    <tr>\n      <th>49</th>\n      <td>0.207226</td>\n      <td>(#prior=&gt;3, age=25-45)</td>\n      <td>297</td>\n      <td>100</td>\n      <td>469</td>\n      <td>413</td>\n      <td>2</td>\n      <td>1279.0</td>\n      <td>0.251889</td>\n      <td>0.163575</td>\n      <td>7.384973</td>\n    </tr>\n    <tr>\n      <th>55</th>\n      <td>0.196695</td>\n      <td>(race=Afr-Am, #prior=&gt;3)</td>\n      <td>283</td>\n      <td>100</td>\n      <td>403</td>\n      <td>428</td>\n      <td>2</td>\n      <td>1214.0</td>\n      <td>0.261097</td>\n      <td>0.172783</td>\n      <td>7.582039</td>\n    </tr>\n    <tr>\n      <th>56</th>\n      <td>0.194426</td>\n      <td>(stay=&lt;week, #prior=&gt;3)</td>\n      <td>349</td>\n      <td>82</td>\n      <td>457</td>\n      <td>312</td>\n      <td>2</td>\n      <td>1200.0</td>\n      <td>0.190255</td>\n      <td>0.101941</td>\n      <td>5.283437</td>\n    </tr>\n    <tr>\n      <th>58</th>\n      <td>0.190376</td>\n      <td>(sex=Male, #prior=&gt;3, charge=F)</td>\n      <td>277</td>\n      <td>83</td>\n      <td>423</td>\n      <td>392</td>\n      <td>3</td>\n      <td>1175.0</td>\n      <td>0.230556</td>\n      <td>0.142242</td>\n      <td>6.323414</td>\n    </tr>\n    <tr>\n      <th>62</th>\n      <td>0.180655</td>\n      <td>(sex=Male, #prior=&gt;3, age=25-45)</td>\n      <td>254</td>\n      <td>86</td>\n      <td>405</td>\n      <td>370</td>\n      <td>3</td>\n      <td>1115.0</td>\n      <td>0.252941</td>\n      <td>0.164627</td>\n      <td>6.903692</td>\n    </tr>\n    <tr>\n      <th>64</th>\n      <td>0.178386</td>\n      <td>(sex=Male, age=&lt;25)</td>\n      <td>357</td>\n      <td>83</td>\n      <td>414</td>\n      <td>247</td>\n      <td>2</td>\n      <td>1101.0</td>\n      <td>0.188636</td>\n      <td>0.100322</td>\n      <td>5.265747</td>\n    </tr>\n    <tr>\n      <th>67</th>\n      <td>0.175308</td>\n      <td>(sex=Male, race=Afr-Am, #prior=&gt;3)</td>\n      <td>239</td>\n      <td>87</td>\n      <td>369</td>\n      <td>387</td>\n      <td>3</td>\n      <td>1082.0</td>\n      <td>0.266871</td>\n      <td>0.178557</td>\n      <td>7.214382</td>\n    </tr>\n  </tbody>\n</table>\n</div>"
     },
     "execution_count": 46,
     "metadata": {},
     "output_type": "execute_result"
    }
   ],
   "source": [
    "FP_fm_unfair[:10]"
   ],
   "metadata": {
    "collapsed": false,
    "pycharm": {
     "name": "#%%\n"
    }
   }
  },
  {
   "cell_type": "code",
   "execution_count": 46,
   "outputs": [],
   "source": [
    "\n",
    "\n"
   ],
   "metadata": {
    "collapsed": false,
    "pycharm": {
     "name": "#%%\n"
    }
   }
  },
  {
   "cell_type": "markdown",
   "source": [
    "## use our algorithm on this dataset"
   ],
   "metadata": {
    "collapsed": false,
    "pycharm": {
     "name": "#%% md\n"
    }
   }
  },
  {
   "cell_type": "code",
   "execution_count": 6,
   "outputs": [
    {
     "name": "stdout",
     "output_type": "stream",
     "text": [
      "6172\n"
     ]
    },
    {
     "data": {
      "text/plain": "     age charge    race   sex #prior   stay  class  predicted\n0    >45      F   Other  Male      0  <week      0          0\n1  25-45      F  Afr-Am  Male      0  1w-3M      1          0\n2    <25      F  Afr-Am  Male     >3  <week      1          0\n3  25-45      M   Other  Male      0  <week      0          0\n4  25-45      F    Cauc  Male     >3  <week      1          0",
      "text/html": "<div>\n<style scoped>\n    .dataframe tbody tr th:only-of-type {\n        vertical-align: middle;\n    }\n\n    .dataframe tbody tr th {\n        vertical-align: top;\n    }\n\n    .dataframe thead th {\n        text-align: right;\n    }\n</style>\n<table border=\"1\" class=\"dataframe\">\n  <thead>\n    <tr style=\"text-align: right;\">\n      <th></th>\n      <th>age</th>\n      <th>charge</th>\n      <th>race</th>\n      <th>sex</th>\n      <th>#prior</th>\n      <th>stay</th>\n      <th>class</th>\n      <th>predicted</th>\n    </tr>\n  </thead>\n  <tbody>\n    <tr>\n      <th>0</th>\n      <td>&gt;45</td>\n      <td>F</td>\n      <td>Other</td>\n      <td>Male</td>\n      <td>0</td>\n      <td>&lt;week</td>\n      <td>0</td>\n      <td>0</td>\n    </tr>\n    <tr>\n      <th>1</th>\n      <td>25-45</td>\n      <td>F</td>\n      <td>Afr-Am</td>\n      <td>Male</td>\n      <td>0</td>\n      <td>1w-3M</td>\n      <td>1</td>\n      <td>0</td>\n    </tr>\n    <tr>\n      <th>2</th>\n      <td>&lt;25</td>\n      <td>F</td>\n      <td>Afr-Am</td>\n      <td>Male</td>\n      <td>&gt;3</td>\n      <td>&lt;week</td>\n      <td>1</td>\n      <td>0</td>\n    </tr>\n    <tr>\n      <th>3</th>\n      <td>25-45</td>\n      <td>M</td>\n      <td>Other</td>\n      <td>Male</td>\n      <td>0</td>\n      <td>&lt;week</td>\n      <td>0</td>\n      <td>0</td>\n    </tr>\n    <tr>\n      <th>4</th>\n      <td>25-45</td>\n      <td>F</td>\n      <td>Cauc</td>\n      <td>Male</td>\n      <td>&gt;3</td>\n      <td>&lt;week</td>\n      <td>1</td>\n      <td>0</td>\n    </tr>\n  </tbody>\n</table>\n</div>"
     },
     "execution_count": 6,
     "metadata": {},
     "output_type": "execute_result"
    }
   ],
   "source": [
    "\n",
    "inputDir=os.path.join(\".\", \"datasets\")\n",
    "\n",
    "\n",
    "df= pd.read_csv(os.path.join(inputDir, \"compas_discretized.csv\"))\n",
    "print(len(df))\n",
    "df[:5]"
   ],
   "metadata": {
    "collapsed": false,
    "pycharm": {
     "name": "#%%\n"
    }
   }
  },
  {
   "cell_type": "code",
   "execution_count": 7,
   "outputs": [
    {
     "name": "stdout",
     "output_type": "stream",
     "text": [
      "6172\n"
     ]
    }
   ],
   "source": [
    "\n",
    "TP = df[(df['class'] == 1) & (df['predicted'] == 1)]\n",
    "FP = df[(df['class'] == 0) & (df['predicted'] == 1)]\n",
    "TN = df[(df['class'] == 0) & (df['predicted'] == 0)]\n",
    "FN = df[(df['class'] == 1) & (df['predicted'] == 0)]\n",
    "\n",
    "print(len(TP) + len(FP) + len(TN) + len(FN))\n",
    "\n",
    "selected_attributes = ['age', 'charge', 'race', 'sex', '#prior', 'stay']\n",
    "df = df[selected_attributes]\n",
    "TP = TP[selected_attributes]\n",
    "TN = TN[selected_attributes]\n",
    "FP = FP[selected_attributes]\n",
    "FN = FN[selected_attributes]"
   ],
   "metadata": {
    "collapsed": false,
    "pycharm": {
     "name": "#%%\n"
    }
   }
  },
  {
   "cell_type": "code",
   "execution_count": 8,
   "outputs": [
    {
     "name": "stdout",
     "output_type": "stream",
     "text": [
      "False_positive_error_rate_balance, original_thf = 0.08831400535236396, Thf = 0.18831400535236398\n",
      "newalg, time = 0.06547927856445312 s, num_calculation = 0\n",
      "\n",
      "num of patterns detected = 0\n"
     ]
    }
   ],
   "source": [
    "%reload_ext autoreload\n",
    "\n",
    "%autoreload 2\n",
    "\n",
    "from Algorithms import NewAlgGeneral_StatisticalSignificant_0_20220125 as newalg\n",
    "\n",
    "thc = 61.72\n",
    "time_limit = 5 * 60\n",
    "fairness_definition = 1  # FPR = FP/(FP+TN) False_positive_error_rate_balance, but for those treated too well\n",
    "delta_thf = 0.1\n",
    "pattern_with_low_fairness1, sizes_of_patterns, fairness_values_of_patterns, t_values_of_patterns,\\\n",
    "num_patterns, t1_ = newalg.GraphTraverse(df,\n",
    "                                         TP, TN, FP, FN, delta_thf,\n",
    "                                         thc, time_limit, fairness_definition)\n",
    "\n",
    "\n",
    "print(\"newalg, time = {} s, num_calculation = {}\\n\".format(t1_, num_patterns))\n",
    "print(\"num of patterns detected = {}\".format(len(pattern_with_low_fairness1)))\n",
    "for i in range(len(pattern_with_low_fairness1)):\n",
    "    print(\"{} {} {} {}\\n\".format(str(pattern_with_low_fairness1[i]),\n",
    "                              sizes_of_patterns[i], fairness_values_of_patterns[i],\n",
    "                                 t_values_of_patterns[i]))\n",
    "\n"
   ],
   "metadata": {
    "collapsed": false,
    "pycharm": {
     "name": "#%%\n"
    }
   }
  },
  {
   "cell_type": "code",
   "execution_count": null,
   "outputs": [],
   "source": [],
   "metadata": {
    "collapsed": false,
    "pycharm": {
     "name": "#%%\n"
    }
   }
  },
  {
   "cell_type": "code",
   "execution_count": null,
   "outputs": [],
   "source": [],
   "metadata": {
    "collapsed": false,
    "pycharm": {
     "name": "#%%\n"
    }
   }
  },
  {
   "cell_type": "markdown",
   "source": [
    "## whether FP_fm_unfair are descendents of pattern_with_low_fairness1 (yes)"
   ],
   "metadata": {
    "collapsed": false,
    "pycharm": {
     "name": "#%% md\n"
    }
   }
  },
  {
   "cell_type": "code",
   "execution_count": 57,
   "outputs": [],
   "source": [
    "\n",
    "def P1DominatedByP2(P1, P2):\n",
    "    length = len(P1)\n",
    "    for i in range(length):\n",
    "        if P1[i] == -1:\n",
    "            if P2[i] != -1:\n",
    "                return False\n",
    "        if P1[i] != -1:\n",
    "            if P2[i] != P1[i] and P2[i] != -1:\n",
    "                return False\n",
    "    return True\n",
    "\n",
    "# whether a pattern P is dominated by MUP M\n",
    "# except from P itself\n",
    "def PDominatedByM(P, M):\n",
    "    for m in M:\n",
    "        if PatternEqual(m, P):\n",
    "            return True, m\n",
    "        if P1DominatedByP2(P, m):\n",
    "            return True, m\n",
    "    return False, None\n",
    "\n",
    "\n",
    "\n",
    "def PatternEqual(m, P):\n",
    "    length = len(m)\n",
    "    if len(P) != length:\n",
    "        return False\n",
    "    for i in range(length):\n",
    "        if m[i] != P[i]:\n",
    "            return False\n",
    "    return True\n",
    "\n",
    "\n",
    "for p in FP_fm_unfair:\n",
    "    if PDominatedByM(p, pattern_with_low_fairness1):\n",
    "        continue\n",
    "    else:\n",
    "        raise Exception(\"noooo\")\n",
    "\n",
    "\n",
    "\n",
    "\n"
   ],
   "metadata": {
    "collapsed": false,
    "pycharm": {
     "name": "#%%\n"
    }
   }
  },
  {
   "cell_type": "code",
   "execution_count": null,
   "outputs": [],
   "source": [],
   "metadata": {
    "collapsed": false,
    "pycharm": {
     "name": "#%%\n"
    }
   }
  },
  {
   "cell_type": "code",
   "execution_count": null,
   "outputs": [],
   "source": [],
   "metadata": {
    "collapsed": false,
    "pycharm": {
     "name": "#%%\n"
    }
   }
  },
  {
   "cell_type": "markdown",
   "source": [
    "\n",
    "# reproduce ProPublica by DivExplorer and our algorithm"
   ],
   "metadata": {
    "collapsed": false,
    "pycharm": {
     "name": "#%% md\n"
    }
   }
  },
  {
   "cell_type": "markdown",
   "source": [
    "## reproduce ProPublica by DivExplorer"
   ],
   "metadata": {
    "collapsed": false,
    "pycharm": {
     "name": "#%% md\n"
    }
   }
  },
  {
   "cell_type": "code",
   "execution_count": 11,
   "outputs": [],
   "source": [
    "\n",
    "\n",
    "original_data_file = r\"../../../../InputData/COMPAS_ProPublica/compas-analysis-master/cox-parsed/cox-parsed_7214rows_cat.csv\"\n",
    "TP_data_file = r\"../../../../InputData/COMPAS_ProPublica/compas-analysis-master/cox-parsed/cox-parsed-TP-cat.csv\"\n",
    "FP_data_file = r\"../../../../InputData/COMPAS_ProPublica/compas-analysis-master/cox-parsed/cox-parsed-FP-cat.csv\"\n",
    "TN_data_file = r\"../../../../InputData/COMPAS_ProPublica/compas-analysis-master/cox-parsed/cox-parsed-TN-cat.csv\"\n",
    "FN_data_file = r\"../../../../InputData/COMPAS_ProPublica/compas-analysis-master/cox-parsed/cox-parsed-FN-cat.csv\"\n",
    "\n",
    "\n"
   ],
   "metadata": {
    "collapsed": false,
    "pycharm": {
     "name": "#%%\n"
    }
   }
  },
  {
   "cell_type": "code",
   "execution_count": 12,
   "outputs": [
    {
     "name": "stdout",
     "output_type": "stream",
     "text": [
      "7214\n"
     ]
    },
    {
     "data": {
      "text/plain": "   id                name   first         last compas_screening_date   sex  \\\n0   1    miguel hernandez  miguel    hernandez            2013-08-14  Male   \n1   3         kevon dixon   kevon        dixon            2013-01-27  Male   \n2   4            ed philo      ed        philo            2013-04-14  Male   \n3   5         marcu brown   marcu        brown            2013-01-13  Male   \n4   6  bouthy pierrelouis  bouthy  pierrelouis            2013-03-26  Male   \n\n          dob  age          age_cat              race  ...  v_score_text  \\\n0  1947-04-18   69  Greater than 45             Other  ...           Low   \n1  1982-01-22   34          25 - 45  African-American  ...           Low   \n2  1991-05-14   24     Less than 25  African-American  ...           Low   \n3  1993-01-21   23     Less than 25  African-American  ...        Medium   \n4  1973-01-22   43          25 - 45             Other  ...           Low   \n\n   v_screening_date  in_custody  out_custody  priors_count.1  start   end  \\\n0        2013-08-14  2014-07-07   2014-07-14               0      0   327   \n1        2013-01-27  2013-01-26   2013-02-05               0      9   159   \n2        2013-04-14  2013-06-16   2013-06-16               4      0    63   \n3        2013-01-13         NaN          NaN               1      0  1174   \n4        2013-03-26         NaN          NaN               2      0  1102   \n\n  event predicted ground_truth  \n0     0         0            0  \n1     1         0            1  \n2     0         0            1  \n3     0         1            0  \n4     0         0            0  \n\n[5 rows x 54 columns]",
      "text/html": "<div>\n<style scoped>\n    .dataframe tbody tr th:only-of-type {\n        vertical-align: middle;\n    }\n\n    .dataframe tbody tr th {\n        vertical-align: top;\n    }\n\n    .dataframe thead th {\n        text-align: right;\n    }\n</style>\n<table border=\"1\" class=\"dataframe\">\n  <thead>\n    <tr style=\"text-align: right;\">\n      <th></th>\n      <th>id</th>\n      <th>name</th>\n      <th>first</th>\n      <th>last</th>\n      <th>compas_screening_date</th>\n      <th>sex</th>\n      <th>dob</th>\n      <th>age</th>\n      <th>age_cat</th>\n      <th>race</th>\n      <th>...</th>\n      <th>v_score_text</th>\n      <th>v_screening_date</th>\n      <th>in_custody</th>\n      <th>out_custody</th>\n      <th>priors_count.1</th>\n      <th>start</th>\n      <th>end</th>\n      <th>event</th>\n      <th>predicted</th>\n      <th>ground_truth</th>\n    </tr>\n  </thead>\n  <tbody>\n    <tr>\n      <th>0</th>\n      <td>1</td>\n      <td>miguel hernandez</td>\n      <td>miguel</td>\n      <td>hernandez</td>\n      <td>2013-08-14</td>\n      <td>Male</td>\n      <td>1947-04-18</td>\n      <td>69</td>\n      <td>Greater than 45</td>\n      <td>Other</td>\n      <td>...</td>\n      <td>Low</td>\n      <td>2013-08-14</td>\n      <td>2014-07-07</td>\n      <td>2014-07-14</td>\n      <td>0</td>\n      <td>0</td>\n      <td>327</td>\n      <td>0</td>\n      <td>0</td>\n      <td>0</td>\n    </tr>\n    <tr>\n      <th>1</th>\n      <td>3</td>\n      <td>kevon dixon</td>\n      <td>kevon</td>\n      <td>dixon</td>\n      <td>2013-01-27</td>\n      <td>Male</td>\n      <td>1982-01-22</td>\n      <td>34</td>\n      <td>25 - 45</td>\n      <td>African-American</td>\n      <td>...</td>\n      <td>Low</td>\n      <td>2013-01-27</td>\n      <td>2013-01-26</td>\n      <td>2013-02-05</td>\n      <td>0</td>\n      <td>9</td>\n      <td>159</td>\n      <td>1</td>\n      <td>0</td>\n      <td>1</td>\n    </tr>\n    <tr>\n      <th>2</th>\n      <td>4</td>\n      <td>ed philo</td>\n      <td>ed</td>\n      <td>philo</td>\n      <td>2013-04-14</td>\n      <td>Male</td>\n      <td>1991-05-14</td>\n      <td>24</td>\n      <td>Less than 25</td>\n      <td>African-American</td>\n      <td>...</td>\n      <td>Low</td>\n      <td>2013-04-14</td>\n      <td>2013-06-16</td>\n      <td>2013-06-16</td>\n      <td>4</td>\n      <td>0</td>\n      <td>63</td>\n      <td>0</td>\n      <td>0</td>\n      <td>1</td>\n    </tr>\n    <tr>\n      <th>3</th>\n      <td>5</td>\n      <td>marcu brown</td>\n      <td>marcu</td>\n      <td>brown</td>\n      <td>2013-01-13</td>\n      <td>Male</td>\n      <td>1993-01-21</td>\n      <td>23</td>\n      <td>Less than 25</td>\n      <td>African-American</td>\n      <td>...</td>\n      <td>Medium</td>\n      <td>2013-01-13</td>\n      <td>NaN</td>\n      <td>NaN</td>\n      <td>1</td>\n      <td>0</td>\n      <td>1174</td>\n      <td>0</td>\n      <td>1</td>\n      <td>0</td>\n    </tr>\n    <tr>\n      <th>4</th>\n      <td>6</td>\n      <td>bouthy pierrelouis</td>\n      <td>bouthy</td>\n      <td>pierrelouis</td>\n      <td>2013-03-26</td>\n      <td>Male</td>\n      <td>1973-01-22</td>\n      <td>43</td>\n      <td>25 - 45</td>\n      <td>Other</td>\n      <td>...</td>\n      <td>Low</td>\n      <td>2013-03-26</td>\n      <td>NaN</td>\n      <td>NaN</td>\n      <td>2</td>\n      <td>0</td>\n      <td>1102</td>\n      <td>0</td>\n      <td>0</td>\n      <td>0</td>\n    </tr>\n  </tbody>\n</table>\n<p>5 rows × 54 columns</p>\n</div>"
     },
     "execution_count": 12,
     "metadata": {},
     "output_type": "execute_result"
    }
   ],
   "source": [
    "\n",
    "data_file = r\"../../../../InputData/COMPAS_ProPublica/compas-analysis-master/cox-parsed/cox-parsed_7214rows_with_labels.csv\"\n",
    "\n",
    "df= pd.read_csv(data_file)\n",
    "class_map={'N': 0, 'P': 1}\n",
    "print(len(df))\n",
    "df.head()\n"
   ],
   "metadata": {
    "collapsed": false,
    "pycharm": {
     "name": "#%%\n"
    }
   }
  },
  {
   "cell_type": "code",
   "execution_count": 13,
   "outputs": [],
   "source": [
    "\n",
    "ignore_columns = df.columns.to_list()\n",
    "ignore_columns.remove(\"sex\")\n",
    "ignore_columns.remove(\"race\")\n",
    "ignore_columns.remove(\"age_cat\")\n",
    "ignore_columns.remove(\"predicted\")\n",
    "ignore_columns.remove(\"ground_truth\")\n"
   ],
   "metadata": {
    "collapsed": false,
    "pycharm": {
     "name": "#%%\n"
    }
   }
  },
  {
   "cell_type": "code",
   "execution_count": 15,
   "outputs": [
    {
     "name": "stdout",
     "output_type": "stream",
     "text": [
      "Number of frequent patterns: 51\n",
      "number of unfair patterns = 22\n",
      "running time = 0.12210392951965332\n",
      "6                                      (race=Caucasian)\n",
      "8                            (sex=Male, race=Caucasian)\n",
      "10                            (age_cat=Greater than 45)\n",
      "14                  (sex=Male, age_cat=Greater than 45)\n",
      "16          (sex=Male, age_cat=25 - 45, race=Caucasian)\n",
      "19            (race=Caucasian, age_cat=Greater than 45)\n",
      "22                                      (race=Hispanic)\n",
      "24    (sex=Male, race=Caucasian, age_cat=Greater tha...\n",
      "26                            (sex=Male, race=Hispanic)\n",
      "30                                         (race=Other)\n",
      "31                     (age_cat=25 - 45, race=Hispanic)\n",
      "32                               (race=Other, sex=Male)\n",
      "34           (sex=Male, age_cat=25 - 45, race=Hispanic)\n",
      "36                (sex=Female, age_cat=Greater than 45)\n",
      "38                        (race=Other, age_cat=25 - 45)\n",
      "39              (race=Other, sex=Male, age_cat=25 - 45)\n",
      "40    (race=Caucasian, sex=Female, age_cat=Greater t...\n",
      "42             (race=Hispanic, age_cat=Greater than 45)\n",
      "44    (sex=Male, race=Hispanic, age_cat=Greater than...\n",
      "46                          (sex=Female, race=Hispanic)\n",
      "49                (race=Other, age_cat=Greater than 45)\n",
      "50                   (race=Other, age_cat=Less than 25)\n",
      "Name: itemsets, dtype: object\n"
     ]
    }
   ],
   "source": [
    "\n",
    "# def __init__(\n",
    "#     self,\n",
    "#     X_discrete,\n",
    "#     true_class_name,\n",
    "#     predicted_class_name=None,\n",
    "#     class_map={},\n",
    "#     ignore_cols=[],\n",
    "#     log_loss_values=None,\n",
    "#     clf=None,\n",
    "#     dataset_name=\"\",\n",
    "#     type_cl=\"\",\n",
    "# ):\n",
    "\n",
    "\n",
    "min_sup=0.01 # 61.72 size threshold\n",
    "# Input: a discretized dataframe with the true class and the predicted class.\n",
    "# We specify their column names in the dataframe\n",
    "# The class_map is a dictionary to specify the positive and the negative class (e.g. {\"P\":1, \"N\":0})\n",
    "\n",
    "import time\n",
    "time1 = time.time()\n",
    "fp_diver=FP_DivergenceExplorer(df,\"ground_truth\", \"predicted\", class_map=class_map, ignore_cols=ignore_columns)\n",
    "#Extract frequent patterns (FP) and compute divergence\n",
    "##min_support: minimum support threshold\n",
    "##metrics: metrics=[\"d_fpr\", \"d_fnr\"]\n",
    "# (default metric of interest: False Positive Rate (FPR) d_fpr, False Negative Rate (FNR) d_fnr, Accuracy divergence)\n",
    "FP_fm=fp_diver.getFrequentPatternDivergence(min_support=min_sup, metrics=[\"d_fnr\"])\n",
    "FP_fm_unfair = FP_fm[FP_fm[\"d_fnr\"] > 0.1]\n",
    "time2 = time.time()\n",
    "print(f\"Number of frequent patterns: {len(FP_fm)}\")\n",
    "print(\"number of unfair patterns = {}\".format(len(FP_fm_unfair)))\n",
    "print(\"running time = {}\".format(time2 - time1))\n",
    "print(\"{}\".format(FP_fm_unfair[\"itemsets\"]))\n"
   ],
   "metadata": {
    "collapsed": false,
    "pycharm": {
     "name": "#%%\n"
    }
   }
  },
  {
   "cell_type": "markdown",
   "source": [
    "\n"
   ],
   "metadata": {
    "collapsed": false,
    "pycharm": {
     "name": "#%% md\n"
    }
   }
  },
  {
   "cell_type": "code",
   "execution_count": 16,
   "outputs": [
    {
     "data": {
      "text/plain": "     support                                           itemsets    tn   fp  \\\n6   0.340172                                   (race=Caucasian)  1139  349   \n8   0.261575                         (sex=Male, race=Caucasian)   882  238   \n10  0.218464                          (age_cat=Greater than 45)   897  181   \n14  0.176878                (sex=Male, age_cat=Greater than 45)   703  146   \n16  0.139035        (sex=Male, age_cat=25 - 45, race=Caucasian)   420  148   \n19  0.104242          (race=Caucasian, age_cat=Greater than 45)   491   52   \n22  0.088301                                    (race=Hispanic)   318   87   \n24  0.080538  (sex=Male, race=Caucasian, age_cat=Greater tha...   378   35   \n26  0.074023                          (sex=Male, race=Hispanic)   255   80   \n30  0.052259                                       (race=Other)   208   36   \n31  0.050873                   (age_cat=25 - 45, race=Hispanic)   189   43   \n32  0.042972                             (race=Other, sex=Male)   162   30   \n34  0.042140         (sex=Male, age_cat=25 - 45, race=Hispanic)   150   40   \n36  0.041586              (sex=Female, age_cat=Greater than 45)   194   35   \n38  0.029110                      (race=Other, age_cat=25 - 45)   124   15   \n39  0.023981            (race=Other, sex=Male, age_cat=25 - 45)    97   14   \n40  0.023704  (race=Caucasian, sex=Female, age_cat=Greater t...   113   17   \n42  0.019823           (race=Hispanic, age_cat=Greater than 45)    97   15   \n44  0.016634  (sex=Male, race=Hispanic, age_cat=Greater than...    81   13   \n46  0.014278                        (sex=Female, race=Hispanic)    63    7   \n49  0.011783              (race=Other, age_cat=Greater than 45)    61    2   \n50  0.011367                 (race=Other, age_cat=Less than 25)    23   19   \n\n     fn   tp  length  support_count       fnr     d_fnr  t_value_fn  \n6   461  505       1         2454.0  0.477226  0.103187    5.683547  \n8   375  392       2         1887.0  0.488918  0.114879    5.766989  \n10  285  213       1         1576.0  0.572289  0.198250    8.357542  \n14  238  189       2         1276.0  0.557377  0.183338    7.201065  \n16  212  223       3         1003.0  0.487356  0.113318    4.470216  \n19  144   65       2          752.0  0.688995  0.314956    9.501053  \n22  129  103       1          637.0  0.556034  0.181996    5.415124  \n24  113   55       3          581.0  0.672619  0.298580    8.028109  \n26  105   94       2          534.0  0.527638  0.153599    4.240734  \n30   90   43       1          377.0  0.676692  0.302653    7.302187  \n31   80   55       2          367.0  0.592593  0.218554    5.084974  \n32   80   38       2          310.0  0.677966  0.303927    6.930204  \n34   63   51       3          304.0  0.552632  0.178593    3.798855  \n36   47   24       2          300.0  0.661972  0.287933    5.078091  \n38   52   19       2          210.0  0.732394  0.358356    6.698572  \n39   47   15       3          173.0  0.758065  0.384026    6.912883  \n40   31   10       3          171.0  0.756098  0.382059    5.579887  \n42   25    6       2          143.0  0.806452  0.432413    5.858860  \n44   20    6       3          120.0  0.769231  0.395192    4.648882  \n46   24    9       2          103.0  0.727273  0.353234    4.489580  \n49   19    3       2           85.0  0.863636  0.489598    6.121527  \n50   19   21       2           82.0  0.475000  0.100961    1.331976  ",
      "text/html": "<div>\n<style scoped>\n    .dataframe tbody tr th:only-of-type {\n        vertical-align: middle;\n    }\n\n    .dataframe tbody tr th {\n        vertical-align: top;\n    }\n\n    .dataframe thead th {\n        text-align: right;\n    }\n</style>\n<table border=\"1\" class=\"dataframe\">\n  <thead>\n    <tr style=\"text-align: right;\">\n      <th></th>\n      <th>support</th>\n      <th>itemsets</th>\n      <th>tn</th>\n      <th>fp</th>\n      <th>fn</th>\n      <th>tp</th>\n      <th>length</th>\n      <th>support_count</th>\n      <th>fnr</th>\n      <th>d_fnr</th>\n      <th>t_value_fn</th>\n    </tr>\n  </thead>\n  <tbody>\n    <tr>\n      <th>6</th>\n      <td>0.340172</td>\n      <td>(race=Caucasian)</td>\n      <td>1139</td>\n      <td>349</td>\n      <td>461</td>\n      <td>505</td>\n      <td>1</td>\n      <td>2454.0</td>\n      <td>0.477226</td>\n      <td>0.103187</td>\n      <td>5.683547</td>\n    </tr>\n    <tr>\n      <th>8</th>\n      <td>0.261575</td>\n      <td>(sex=Male, race=Caucasian)</td>\n      <td>882</td>\n      <td>238</td>\n      <td>375</td>\n      <td>392</td>\n      <td>2</td>\n      <td>1887.0</td>\n      <td>0.488918</td>\n      <td>0.114879</td>\n      <td>5.766989</td>\n    </tr>\n    <tr>\n      <th>10</th>\n      <td>0.218464</td>\n      <td>(age_cat=Greater than 45)</td>\n      <td>897</td>\n      <td>181</td>\n      <td>285</td>\n      <td>213</td>\n      <td>1</td>\n      <td>1576.0</td>\n      <td>0.572289</td>\n      <td>0.198250</td>\n      <td>8.357542</td>\n    </tr>\n    <tr>\n      <th>14</th>\n      <td>0.176878</td>\n      <td>(sex=Male, age_cat=Greater than 45)</td>\n      <td>703</td>\n      <td>146</td>\n      <td>238</td>\n      <td>189</td>\n      <td>2</td>\n      <td>1276.0</td>\n      <td>0.557377</td>\n      <td>0.183338</td>\n      <td>7.201065</td>\n    </tr>\n    <tr>\n      <th>16</th>\n      <td>0.139035</td>\n      <td>(sex=Male, age_cat=25 - 45, race=Caucasian)</td>\n      <td>420</td>\n      <td>148</td>\n      <td>212</td>\n      <td>223</td>\n      <td>3</td>\n      <td>1003.0</td>\n      <td>0.487356</td>\n      <td>0.113318</td>\n      <td>4.470216</td>\n    </tr>\n    <tr>\n      <th>19</th>\n      <td>0.104242</td>\n      <td>(race=Caucasian, age_cat=Greater than 45)</td>\n      <td>491</td>\n      <td>52</td>\n      <td>144</td>\n      <td>65</td>\n      <td>2</td>\n      <td>752.0</td>\n      <td>0.688995</td>\n      <td>0.314956</td>\n      <td>9.501053</td>\n    </tr>\n    <tr>\n      <th>22</th>\n      <td>0.088301</td>\n      <td>(race=Hispanic)</td>\n      <td>318</td>\n      <td>87</td>\n      <td>129</td>\n      <td>103</td>\n      <td>1</td>\n      <td>637.0</td>\n      <td>0.556034</td>\n      <td>0.181996</td>\n      <td>5.415124</td>\n    </tr>\n    <tr>\n      <th>24</th>\n      <td>0.080538</td>\n      <td>(sex=Male, race=Caucasian, age_cat=Greater tha...</td>\n      <td>378</td>\n      <td>35</td>\n      <td>113</td>\n      <td>55</td>\n      <td>3</td>\n      <td>581.0</td>\n      <td>0.672619</td>\n      <td>0.298580</td>\n      <td>8.028109</td>\n    </tr>\n    <tr>\n      <th>26</th>\n      <td>0.074023</td>\n      <td>(sex=Male, race=Hispanic)</td>\n      <td>255</td>\n      <td>80</td>\n      <td>105</td>\n      <td>94</td>\n      <td>2</td>\n      <td>534.0</td>\n      <td>0.527638</td>\n      <td>0.153599</td>\n      <td>4.240734</td>\n    </tr>\n    <tr>\n      <th>30</th>\n      <td>0.052259</td>\n      <td>(race=Other)</td>\n      <td>208</td>\n      <td>36</td>\n      <td>90</td>\n      <td>43</td>\n      <td>1</td>\n      <td>377.0</td>\n      <td>0.676692</td>\n      <td>0.302653</td>\n      <td>7.302187</td>\n    </tr>\n    <tr>\n      <th>31</th>\n      <td>0.050873</td>\n      <td>(age_cat=25 - 45, race=Hispanic)</td>\n      <td>189</td>\n      <td>43</td>\n      <td>80</td>\n      <td>55</td>\n      <td>2</td>\n      <td>367.0</td>\n      <td>0.592593</td>\n      <td>0.218554</td>\n      <td>5.084974</td>\n    </tr>\n    <tr>\n      <th>32</th>\n      <td>0.042972</td>\n      <td>(race=Other, sex=Male)</td>\n      <td>162</td>\n      <td>30</td>\n      <td>80</td>\n      <td>38</td>\n      <td>2</td>\n      <td>310.0</td>\n      <td>0.677966</td>\n      <td>0.303927</td>\n      <td>6.930204</td>\n    </tr>\n    <tr>\n      <th>34</th>\n      <td>0.042140</td>\n      <td>(sex=Male, age_cat=25 - 45, race=Hispanic)</td>\n      <td>150</td>\n      <td>40</td>\n      <td>63</td>\n      <td>51</td>\n      <td>3</td>\n      <td>304.0</td>\n      <td>0.552632</td>\n      <td>0.178593</td>\n      <td>3.798855</td>\n    </tr>\n    <tr>\n      <th>36</th>\n      <td>0.041586</td>\n      <td>(sex=Female, age_cat=Greater than 45)</td>\n      <td>194</td>\n      <td>35</td>\n      <td>47</td>\n      <td>24</td>\n      <td>2</td>\n      <td>300.0</td>\n      <td>0.661972</td>\n      <td>0.287933</td>\n      <td>5.078091</td>\n    </tr>\n    <tr>\n      <th>38</th>\n      <td>0.029110</td>\n      <td>(race=Other, age_cat=25 - 45)</td>\n      <td>124</td>\n      <td>15</td>\n      <td>52</td>\n      <td>19</td>\n      <td>2</td>\n      <td>210.0</td>\n      <td>0.732394</td>\n      <td>0.358356</td>\n      <td>6.698572</td>\n    </tr>\n    <tr>\n      <th>39</th>\n      <td>0.023981</td>\n      <td>(race=Other, sex=Male, age_cat=25 - 45)</td>\n      <td>97</td>\n      <td>14</td>\n      <td>47</td>\n      <td>15</td>\n      <td>3</td>\n      <td>173.0</td>\n      <td>0.758065</td>\n      <td>0.384026</td>\n      <td>6.912883</td>\n    </tr>\n    <tr>\n      <th>40</th>\n      <td>0.023704</td>\n      <td>(race=Caucasian, sex=Female, age_cat=Greater t...</td>\n      <td>113</td>\n      <td>17</td>\n      <td>31</td>\n      <td>10</td>\n      <td>3</td>\n      <td>171.0</td>\n      <td>0.756098</td>\n      <td>0.382059</td>\n      <td>5.579887</td>\n    </tr>\n    <tr>\n      <th>42</th>\n      <td>0.019823</td>\n      <td>(race=Hispanic, age_cat=Greater than 45)</td>\n      <td>97</td>\n      <td>15</td>\n      <td>25</td>\n      <td>6</td>\n      <td>2</td>\n      <td>143.0</td>\n      <td>0.806452</td>\n      <td>0.432413</td>\n      <td>5.858860</td>\n    </tr>\n    <tr>\n      <th>44</th>\n      <td>0.016634</td>\n      <td>(sex=Male, race=Hispanic, age_cat=Greater than...</td>\n      <td>81</td>\n      <td>13</td>\n      <td>20</td>\n      <td>6</td>\n      <td>3</td>\n      <td>120.0</td>\n      <td>0.769231</td>\n      <td>0.395192</td>\n      <td>4.648882</td>\n    </tr>\n    <tr>\n      <th>46</th>\n      <td>0.014278</td>\n      <td>(sex=Female, race=Hispanic)</td>\n      <td>63</td>\n      <td>7</td>\n      <td>24</td>\n      <td>9</td>\n      <td>2</td>\n      <td>103.0</td>\n      <td>0.727273</td>\n      <td>0.353234</td>\n      <td>4.489580</td>\n    </tr>\n    <tr>\n      <th>49</th>\n      <td>0.011783</td>\n      <td>(race=Other, age_cat=Greater than 45)</td>\n      <td>61</td>\n      <td>2</td>\n      <td>19</td>\n      <td>3</td>\n      <td>2</td>\n      <td>85.0</td>\n      <td>0.863636</td>\n      <td>0.489598</td>\n      <td>6.121527</td>\n    </tr>\n    <tr>\n      <th>50</th>\n      <td>0.011367</td>\n      <td>(race=Other, age_cat=Less than 25)</td>\n      <td>23</td>\n      <td>19</td>\n      <td>19</td>\n      <td>21</td>\n      <td>2</td>\n      <td>82.0</td>\n      <td>0.475000</td>\n      <td>0.100961</td>\n      <td>1.331976</td>\n    </tr>\n  </tbody>\n</table>\n</div>"
     },
     "execution_count": 16,
     "metadata": {},
     "output_type": "execute_result"
    }
   ],
   "source": [
    "\n",
    "FP_fm_unfair\n"
   ],
   "metadata": {
    "collapsed": false,
    "pycharm": {
     "name": "#%%\n"
    }
   }
  },
  {
   "cell_type": "code",
   "execution_count": 29,
   "outputs": [
    {
     "name": "stdout",
     "output_type": "stream",
     "text": [
      "[0.12497566276357142, 0.13765877532644588, 0.11746710578385122, 0.13960293428499337, 0.21786107964840185, 0.1907934104754695, 0.2753934900616215, 0.26297386160328906, 0.1639448821194035, 0.29365055333261236, 0.3109162983402929, 0.151917532255329, 0.20591946089563762, 0.3765076961897552, 0.12888864857070764] [8.999310075609277, 9.005013822693135, 6.996435622259253, 7.4605235327035, 10.53402246516901, 8.042809168197255, 10.246106485918853, 8.476220681466526, 4.5619878918308645, 7.85448747558272, 6.185974519510599, 2.42739348207005, 2.995737232499526, 6.318158014347071, 1.755603216098227]\n"
     ]
    },
    {
     "data": {
      "text/plain": "[<matplotlib.lines.Line2D at 0x7f9b875fdd00>]"
     },
     "execution_count": 29,
     "metadata": {},
     "output_type": "execute_result"
    },
    {
     "data": {
      "text/plain": "<Figure size 2016x720 with 1 Axes>",
      "image/png": "[encoded data removed]"
     },
     "metadata": {},
     "output_type": "display_data"
    }
   ],
   "source": [
    "# when d_fpr grows, does t-value grow??\n",
    "\n",
    "import matplotlib.pyplot as plt\n",
    "import seaborn as sns\n",
    "from matplotlib.ticker import FuncFormatter\n",
    "\n",
    "plt.rc('text', usetex=True)\n",
    "plt.rc('font', family='serif')\n",
    "sns.set_palette(\"Paired\")\n",
    "sns.set_context(\"poster\", font_scale=2)\n",
    "sns.set_style(\"whitegrid\")\n",
    "line_style = ['o-', 's-', 'p-', '^-', 'o:', 's:', 'p:', '^:']\n",
    "color = ['C3', 'C5', sns.xkcd_rgb[\"amber\"], 'C9', 'C3', 'C5', sns.xkcd_rgb[\"amber\"], 'C9']\n",
    "# plt_title = [\"BlueNile\", \"COMPAS\", \"Credit Card\"]\n",
    "label = [\"Adult (acc)\", \"COMPAS (acc)\", \"Credit card (acc)\", \"Medical (acc)\",\n",
    "         \"Adult (FPR)\", \"COMPAS (FPR)\", \"Credit card (FPR)\", \"Medical (FPR)\"]\n",
    "line_width = 8\n",
    "marker_size = 15\n",
    "f_size = (28, 10)\n",
    "def thousands_formatter(x, pos):\n",
    "    return int(x/1000)\n",
    "\n",
    "x_list = FP_fm_unfair['d_fpr'].to_list()\n",
    "y_list = FP_fm_unfair['t_value_fp'].to_list()\n",
    "\n",
    "print(x_list, y_list)\n",
    "\n",
    "fig, ax = plt.subplots(1, 1, figsize=f_size)\n",
    "plt.plot(x_list, y_list, line_style[0], color=color[0], label=label[0], linewidth=line_width,\n",
    "      markersize=marker_size)\n",
    "# plt.xlabel('d_fpr')\n",
    "# plt.ylabel('t_value')\n",
    "# # plt.legend(bbox_to_anchor=(0.95, 0.9), loc='center', fontsize='x-small', ncol=1)\n",
    "# # plt.legend(bbox_to_anchor=(1.01, 1.01), loc='upper right', fontsize='x-small', ncol=2)\n",
    "# plt.legend(bbox_to_anchor=(1, 1), loc='upper left', ncol=1)\n",
    "# plt.grid(True)\n",
    "# # fig.tight_layout()\n",
    "# # plt.savefig(\"thc_time.png\",\n",
    "\n",
    "# #             bbox_inches='tight')\n",
    "# plt.show()\n",
    "# plt.close()\n",
    "\n",
    "\n"
   ],
   "metadata": {
    "collapsed": false,
    "pycharm": {
     "name": "#%%\n"
    }
   }
  },
  {
   "cell_type": "code",
   "execution_count": null,
   "outputs": [],
   "source": [],
   "metadata": {
    "collapsed": false,
    "pycharm": {
     "name": "#%%\n"
    }
   }
  },
  {
   "cell_type": "code",
   "execution_count": null,
   "outputs": [],
   "source": [],
   "metadata": {
    "collapsed": false,
    "pycharm": {
     "name": "#%%\n"
    }
   }
  },
  {
   "cell_type": "markdown",
   "source": [
    "## reproduce ProPublica by our algorithm (FPR)"
   ],
   "metadata": {
    "collapsed": false,
    "pycharm": {
     "name": "#%% md\n"
    }
   }
  },
  {
   "cell_type": "code",
   "execution_count": 1,
   "outputs": [
    {
     "name": "stdout",
     "output_type": "stream",
     "text": [
      "False_positive_error_rate_balance, original_thf = 0.32349230381024474, Thf = 0.4234923038102447\n",
      "p_value: 2.9751009799373e-19 p_2: 0.0 p_3: 2.9751009799373e-19\n",
      "\n",
      " Welch's t-test= 8.9993 \n",
      " p-value = 0.0000 \n",
      " Welch-Satterthwaite Degrees of Freedom= 6171.4435\n",
      "p_value: 3.2729941888880294e-12 p_2: 3.2729374765949615e-12 p_3: 3.2729941888880294e-12\n",
      "\n",
      " Welch's t-test= 6.9964 \n",
      " p-value = 0.0000 \n",
      " Welch-Satterthwaite Degrees of Freedom= 2795.5880\n",
      "p_value: 3.503828058118625e-25 p_2: 0.0 p_3: 3.503828058118625e-25\n",
      "\n",
      " Welch's t-test= 10.5340 \n",
      " p-value = 0.0000 \n",
      " Welch-Satterthwaite Degrees of Freedom= 1705.9134\n",
      "p_value: 7.953445913587729e-14 p_2: 7.949196856316121e-14 p_3: 7.953445913587729e-14\n",
      "\n",
      " Welch's t-test= 7.8545 \n",
      " p-value = 0.0000 \n",
      " Welch-Satterthwaite Degrees of Freedom= 288.7345\n",
      "p_value: 3.1298069051729424e-19 p_2: 0.0 p_3: 3.1298069051729424e-19\n",
      "\n",
      " Welch's t-test= 9.0050 \n",
      " p-value = 0.0000 \n",
      " Welch-Satterthwaite Degrees of Freedom= 4467.2980\n",
      "p_value: 1.252310447828391e-13 p_2: 1.2523315717771766e-13 p_3: 1.252310447828391e-13\n",
      "\n",
      " Welch's t-test= 7.4605 \n",
      " p-value = 0.0000 \n",
      " Welch-Satterthwaite Degrees of Freedom= 2109.5022\n",
      "p_value: 1.9308864287824113e-15 p_2: 1.9984014443252818e-15 p_3: 1.9308864287824113e-15\n",
      "\n",
      " Welch's t-test= 8.0428 \n",
      " p-value = 0.0000 \n",
      " Welch-Satterthwaite Degrees of Freedom= 1325.5471\n",
      "newalg, time = 0.08048796653747559 s, num_calculation = 65\n",
      "\n",
      "num of patterns detected = 2\n",
      "[-2, -2, 0] 3696 0.44846796657381616 8.999310075609277 2.9751009799373e-19\n",
      "\n",
      "[-2, 0, -2] 1529 0.5413533834586466 10.53402246516901 3.503828058118625e-25\n",
      "\n"
     ]
    }
   ],
   "source": [
    "%reload_ext autoreload\n",
    "\n",
    "%autoreload 2\n",
    "\n",
    "import pandas as pd\n",
    "from Algorithms import NewAlgGeneral_StatisticalSignificant_0_20220125 as newalg\n",
    "\n",
    "\"\"\"\n",
    "cox['sex'].replace(to_replace=['Male', 'Female'], value=[0, 1], inplace=True)\n",
    "\n",
    "\n",
    "cox['age_cat'].replace(to_replace=['Less than 25', '25 - 45', 'Greater than 45'], value=[0, 1, 2], inplace=True)\n",
    "\n",
    "cox['race'].replace(to_replace=['African-American', 'Asian', 'Caucasian', 'Hispanic', 'Native American', 'Other'], value=[0, 1, 2, 3, 4, 5], inplace=True)\n",
    "\n",
    "\n",
    "\"\"\"\n",
    "\n",
    "selected_attributes = [\"sex\", \"age_cat\", \"race\"]\n",
    "\n",
    "original_data_file = r\"../../../../InputData/COMPAS_ProPublica/compas-analysis-master/cox-parsed/cox-parsed_7214rows_cat.csv\"\n",
    "TP_data_file = r\"../../../../InputData/COMPAS_ProPublica/compas-analysis-master/cox-parsed/cox-parsed-TP-cat.csv\"\n",
    "FP_data_file = r\"../../../../InputData/COMPAS_ProPublica/compas-analysis-master/cox-parsed/cox-parsed-FP-cat.csv\"\n",
    "TN_data_file = r\"../../../../InputData/COMPAS_ProPublica/compas-analysis-master/cox-parsed/cox-parsed-TN-cat.csv\"\n",
    "FN_data_file = r\"../../../../InputData/COMPAS_ProPublica/compas-analysis-master/cox-parsed/cox-parsed-FN-cat.csv\"\n",
    "\n",
    "output_path = r'../../../../OutputData/CaseStudy/ProPublica/fp_greater_than_trying.txt'\n",
    "output_file = open(output_path, \"w\")\n",
    "\n",
    "output_file.write(\"selected_attributes: {}\\n\".format(selected_attributes))\n",
    "\n",
    "\n",
    "def read_with_att(original_data_file, selected_attributes):\n",
    "    original_data = pd.read_csv(original_data_file)\n",
    "    less_attribute_data = original_data[selected_attributes]\n",
    "    return less_attribute_data\n",
    "\n",
    "\n",
    "less_attribute_data = read_with_att(original_data_file, selected_attributes)\n",
    "TP = read_with_att(TP_data_file, selected_attributes)\n",
    "FP = read_with_att(FP_data_file, selected_attributes)\n",
    "TN = read_with_att(TN_data_file, selected_attributes)\n",
    "FN = read_with_att(FN_data_file, selected_attributes)\n",
    "\n",
    "\n",
    "# thc = 3696 this is the max thc to find black [-1, -1, 0]\n",
    "thc = 20\n",
    "time_limit = 5 * 60\n",
    "# fairness_definition = 1 # FPR = FP/(FP+TN) False_positive_error_rate_balance\n",
    "\n",
    "fairness_definition = 1  # FPR = FP/(FP+TN) False_positive_error_rate_balance, but for those treated too well\n",
    "delta_thf = 0.1\n",
    "\n",
    "output_file.write(\"fairness_definition = {}, thc = {}, delta_thf = {}\\n\".format(fairness_definition, thc, delta_thf))\n",
    "\n",
    "\n",
    "pattern_with_low_fairness1, sizes_of_patterns, fairness_values_of_patterns, t_values_of_patterns, p_value_of_patterns, \\\n",
    "num_patterns, t1_ = newalg.GraphTraverse(less_attribute_data,\n",
    "                                         TP, TN, FP, FN, delta_thf,\n",
    "                                         thc, time_limit, fairness_definition)\n",
    "\n",
    "print(\"newalg, time = {} s, num_calculation = {}\\n\".format(t1_, num_patterns))\n",
    "print(\"num of patterns detected = {}\".format(len(pattern_with_low_fairness1)))\n",
    "for i in range(len(pattern_with_low_fairness1)):\n",
    "    print(\"{} {} {} {} {}\\n\".format(str(pattern_with_low_fairness1[i]),\n",
    "                                          sizes_of_patterns[i], fairness_values_of_patterns[i],\n",
    "                                          t_values_of_patterns[i],\n",
    "                                 p_value_of_patterns[i]))\n",
    "\n",
    "\n",
    "output_file.write(\"newalg, time = {} s, num_calculation = {}\\n\".format(t1_, num_patterns))\n",
    "output_file.write(\"num of patterns detected = {}\\n\".format(len(pattern_with_low_fairness1)))\n",
    "for i in range(len(pattern_with_low_fairness1)):\n",
    "    output_file.write(\"{} {} {} {} {}\\n\".format(str(pattern_with_low_fairness1[i]),\n",
    "                                          sizes_of_patterns[i], fairness_values_of_patterns[i],\n",
    "                                          t_values_of_patterns[i],\n",
    "                                             p_value_of_patterns[i]))\n"
   ],
   "metadata": {
    "collapsed": false,
    "pycharm": {
     "name": "#%%\n"
    }
   }
  },
  {
   "cell_type": "code",
   "execution_count": 5,
   "outputs": [],
   "source": [
    "\n",
    "\n"
   ],
   "metadata": {
    "collapsed": false,
    "pycharm": {
     "name": "#%%\n"
    }
   }
  },
  {
   "cell_type": "markdown",
   "source": [
    "\n",
    "\n",
    "\n",
    "# use data from ProPublica but do FNR"
   ],
   "metadata": {
    "collapsed": false,
    "pycharm": {
     "name": "#%% md\n"
    }
   }
  },
  {
   "cell_type": "markdown",
   "source": [
    "## our algorithm"
   ],
   "metadata": {
    "collapsed": false,
    "pycharm": {
     "name": "#%% md\n"
    }
   }
  },
  {
   "cell_type": "code",
   "execution_count": 5,
   "outputs": [
    {
     "name": "stdout",
     "output_type": "stream",
     "text": [
      "False_negative_error_rate_balance, original_thf = 0.3740387573054445, Thf = 0.47403875730544454\n",
      "newalg, time = 0.06280303001403809 s, num_calculation = 65\n",
      "\n",
      "num of patterns detected = 4\n",
      "[-2, -2, 5] 377 0.6766917293233082 7.302187170915806 1.6749871823338957e-12\n",
      "\n",
      "[-2, -2, 3] 637 0.5560344827586207 5.415123898793821 8.61551962297769e-08\n",
      "\n",
      "[-2, -2, 2] 2454 0.4772256728778468 5.68354676378254 1.4278291248885885e-08\n",
      "\n",
      "[-2, 2, -2] 1576 0.572289156626506 8.357541614746069 1.261803361406437e-16\n",
      "\n"
     ]
    }
   ],
   "source": [
    "import pandas as pd\n",
    "from Algorithms import NewAlgGeneral_StatisticalSignificant_0_20220125 as newalg\n",
    "\n",
    "\"\"\"\n",
    "cox['sex'].replace(to_replace=['Male', 'Female'], value=[0, 1], inplace=True)\n",
    "\n",
    "\n",
    "cox['age_cat'].replace(to_replace=['Less than 25', '25 - 45', 'Greater than 45'], value=[0, 1, 2], inplace=True)\n",
    "\n",
    "cox['race'].replace(to_replace=['African-American', 'Asian', 'Caucasian', 'Hispanic', 'Native American', 'Other'], value=[0, 1, 2, 3, 4, 5], inplace=True)\n",
    "\n",
    "\n",
    "\"\"\"\n",
    "\n",
    "selected_attributes = [\"sex\", \"age_cat\", \"race\"]\n",
    "\n",
    "original_data_file = r\"../../../../InputData/COMPAS_ProPublica/compas-analysis-master/cox-parsed/cox-parsed_7214rows_cat.csv\"\n",
    "TP_data_file = r\"../../../../InputData/COMPAS_ProPublica/compas-analysis-master/cox-parsed/cox-parsed-TP-cat.csv\"\n",
    "FP_data_file = r\"../../../../InputData/COMPAS_ProPublica/compas-analysis-master/cox-parsed/cox-parsed-FP-cat.csv\"\n",
    "TN_data_file = r\"../../../../InputData/COMPAS_ProPublica/compas-analysis-master/cox-parsed/cox-parsed-TN-cat.csv\"\n",
    "FN_data_file = r\"../../../../InputData/COMPAS_ProPublica/compas-analysis-master/cox-parsed/cox-parsed-FN-cat.csv\"\n",
    "\n",
    "output_path = r'../../../../OutputData/CaseStudy/ProPublica/fp_greater_than_trying.txt'\n",
    "output_file = open(output_path, \"w\")\n",
    "\n",
    "output_file.write(\"selected_attributes: {}\\n\".format(selected_attributes))\n",
    "\n",
    "\n",
    "\n",
    "def read_with_att(original_data_file, selected_attributes):\n",
    "    original_data = pd.read_csv(original_data_file)\n",
    "    less_attribute_data = original_data[selected_attributes]\n",
    "    return less_attribute_data\n",
    "\n",
    "\n",
    "less_attribute_data = read_with_att(original_data_file, selected_attributes)\n",
    "TP = read_with_att(TP_data_file, selected_attributes)\n",
    "FP = read_with_att(FP_data_file, selected_attributes)\n",
    "TN = read_with_att(TN_data_file, selected_attributes)\n",
    "FN = read_with_att(FN_data_file, selected_attributes)\n",
    "\n",
    "\n",
    "\n",
    "\n",
    "thc = 20\n",
    "time_limit = 5 * 60\n",
    "# fairness_definition = 1 # FPR = FP/(FP+TN) False_positive_error_rate_balance\n",
    "\n",
    "fairness_definition = 2 # FNR = FP/(FP+TN) False_positive_error_rate_balance, but for those treated too well\n",
    "delta_thf = 0.1\n",
    "\n",
    "\n",
    "\n",
    "output_file.write(\"fairness_definition = {}, thc = {}, delta_thf = {}\\n\".format(fairness_definition, thc, delta_thf))\n",
    "\n",
    "# print(\"less_attribute_data\")\n",
    "# print(less_attribute_data)\n",
    "\n",
    "pattern_with_low_fairness1, sizes_of_patterns, fairness_values_of_patterns, t_values_of_patterns, p_value_of_patterns, \\\n",
    "num_patterns, t1_ = newalg.GraphTraverse(less_attribute_data,\n",
    "                                         TP, TN, FP, FN, delta_thf,\n",
    "                                         thc, time_limit, fairness_definition)\n",
    "\n",
    "print(\"newalg, time = {} s, num_calculation = {}\\n\".format(t1_, num_patterns))\n",
    "print(\"num of patterns detected = {}\".format(len(pattern_with_low_fairness1)))\n",
    "for i in range(len(pattern_with_low_fairness1)):\n",
    "    print(\"{} {} {} {} {}\\n\".format(str(pattern_with_low_fairness1[i]),\n",
    "                                          sizes_of_patterns[i], fairness_values_of_patterns[i],\n",
    "                                          t_values_of_patterns[i],\n",
    "                                 p_value_of_patterns[i]))\n",
    "\n",
    "\n",
    "output_file.write(\"newalg, time = {} s, num_calculation = {}\\n\".format(t1_, num_patterns))\n",
    "output_file.write(\"num of patterns detected = {}\\n\".format(len(pattern_with_low_fairness1)))\n",
    "for i in range(len(pattern_with_low_fairness1)):\n",
    "    output_file.write(\"{} {} {} {} {}\\n\".format(str(pattern_with_low_fairness1[i]),\n",
    "                                          sizes_of_patterns[i], fairness_values_of_patterns[i],\n",
    "                                          t_values_of_patterns[i],\n",
    "                                             p_value_of_patterns[i]))\n"
   ],
   "metadata": {
    "collapsed": false,
    "pycharm": {
     "name": "#%%\n"
    }
   }
  },
  {
   "cell_type": "code",
   "execution_count": 16,
   "outputs": [],
   "source": [],
   "metadata": {
    "collapsed": false,
    "pycharm": {
     "name": "#%%\n"
    }
   }
  },
  {
   "cell_type": "markdown",
   "source": [
    "## DivExplorer"
   ],
   "metadata": {
    "collapsed": false,
    "pycharm": {
     "name": "#%% md\n"
    }
   }
  },
  {
   "cell_type": "code",
   "execution_count": null,
   "outputs": [],
   "source": [],
   "metadata": {
    "collapsed": false,
    "pycharm": {
     "name": "#%%\n"
    }
   }
  },
  {
   "cell_type": "code",
   "execution_count": 25,
   "outputs": [
    {
     "name": "stdout",
     "output_type": "stream",
     "text": [
      "Number of frequent patterns: 51\n",
      "number of unfair patterns = 49\n",
      "running time = 0.11466479301452637\n",
      "0                                                    ()\n",
      "1                                            (sex=Male)\n",
      "2                                     (age_cat=25 - 45)\n",
      "3                               (race=African-American)\n",
      "4                           (age_cat=25 - 45, sex=Male)\n",
      "5                     (sex=Male, race=African-American)\n",
      "6                                      (race=Caucasian)\n",
      "7              (age_cat=25 - 45, race=African-American)\n",
      "8                            (sex=Male, race=Caucasian)\n",
      "9     (age_cat=25 - 45, sex=Male, race=African-Ameri...\n",
      "10                            (age_cat=Greater than 45)\n",
      "11                               (age_cat=Less than 25)\n",
      "12                                         (sex=Female)\n",
      "13                    (age_cat=25 - 45, race=Caucasian)\n",
      "14                  (sex=Male, age_cat=Greater than 45)\n",
      "15                     (sex=Male, age_cat=Less than 25)\n",
      "16          (age_cat=25 - 45, sex=Male, race=Caucasian)\n",
      "17        (age_cat=Less than 25, race=African-American)\n",
      "18                        (age_cat=25 - 45, sex=Female)\n",
      "19            (race=Caucasian, age_cat=Greater than 45)\n",
      "20    (sex=Male, age_cat=Less than 25, race=African-...\n",
      "21                  (sex=Female, race=African-American)\n",
      "22                                      (race=Hispanic)\n",
      "23     (age_cat=Greater than 45, race=African-American)\n",
      "24    (sex=Male, race=Caucasian, age_cat=Greater tha...\n",
      "25                         (race=Caucasian, sex=Female)\n",
      "26                            (sex=Male, race=Hispanic)\n",
      "27    (sex=Male, age_cat=Greater than 45, race=Afric...\n",
      "28    (age_cat=25 - 45, sex=Female, race=African-Ame...\n",
      "29               (race=Caucasian, age_cat=Less than 25)\n",
      "30                                         (race=Other)\n",
      "31                     (age_cat=25 - 45, race=Hispanic)\n",
      "32                               (sex=Male, race=Other)\n",
      "33        (age_cat=25 - 45, race=Caucasian, sex=Female)\n",
      "34           (age_cat=25 - 45, sex=Male, race=Hispanic)\n",
      "35     (sex=Male, race=Caucasian, age_cat=Less than 25)\n",
      "36                (age_cat=Greater than 45, sex=Female)\n",
      "37                   (age_cat=Less than 25, sex=Female)\n",
      "38                        (age_cat=25 - 45, race=Other)\n",
      "39              (age_cat=25 - 45, sex=Male, race=Other)\n",
      "40    (race=Caucasian, age_cat=Greater than 45, sex=...\n",
      "41    (age_cat=Less than 25, sex=Female, race=Africa...\n",
      "42             (age_cat=Greater than 45, race=Hispanic)\n",
      "43                (age_cat=Less than 25, race=Hispanic)\n",
      "44    (sex=Male, age_cat=Greater than 45, race=Hispa...\n",
      "45      (sex=Male, age_cat=Less than 25, race=Hispanic)\n",
      "46                          (sex=Female, race=Hispanic)\n",
      "47    (age_cat=Greater than 45, sex=Female, race=Afr...\n",
      "49                (age_cat=Greater than 45, race=Other)\n",
      "Name: itemsets, dtype: object\n"
     ]
    }
   ],
   "source": [
    "\n",
    "# def __init__(\n",
    "#     self,\n",
    "#     X_discrete,\n",
    "#     true_class_name,\n",
    "#     predicted_class_name=None,\n",
    "#     class_map={},\n",
    "#     ignore_cols=[],\n",
    "#     log_loss_values=None,\n",
    "#     clf=None,\n",
    "#     dataset_name=\"\",\n",
    "#     type_cl=\"\",\n",
    "# ):\n",
    "\n",
    "\n",
    "min_sup=0.01 # 61.72 size threshold\n",
    "# Input: a discretized dataframe with the true class and the predicted class.\n",
    "# We specify their column names in the dataframe\n",
    "# The class_map is a dictionary to specify the positive and the negative class (e.g. {\"P\":1, \"N\":0})\n",
    "\n",
    "import time\n",
    "time1 = time.time()\n",
    "fp_diver=FP_DivergenceExplorer(df,\"ground_truth\", \"predicted\", class_map=class_map, ignore_cols=ignore_columns)\n",
    "#Extract frequent patterns (FP) and compute divergence\n",
    "##min_support: minimum support threshold\n",
    "##metrics: metrics=[\"d_fpr\", \"d_fnr\"]\n",
    "# (default metric of interest: False Positive Rate (FPR) d_fpr, False Negative Rate (FNR) d_fnr, Accuracy divergence)\n",
    "FP_fm=fp_diver.getFrequentPatternDivergence(min_support=min_sup, metrics=[\"d_accuracy\"])\n",
    "FP_fm_unfair = FP_fm[FP_fm[\"d_accuracy\"] > -0.1]\n",
    "time2 = time.time()\n",
    "print(f\"Number of frequent patterns: {len(FP_fm)}\")\n",
    "print(\"number of unfair patterns = {}\".format(len(FP_fm_unfair)))\n",
    "print(\"running time = {}\".format(time2 - time1))\n",
    "print(\"{}\".format(FP_fm_unfair[\"itemsets\"]))"
   ],
   "metadata": {
    "collapsed": false,
    "pycharm": {
     "name": "#%%\n"
    }
   }
  },
  {
   "cell_type": "code",
   "execution_count": 25,
   "outputs": [],
   "source": [],
   "metadata": {
    "collapsed": false,
    "pycharm": {
     "name": "#%%\n"
    }
   }
  },
  {
   "cell_type": "markdown",
   "source": [
    "# Medical dataset"
   ],
   "metadata": {
    "collapsed": false,
    "pycharm": {
     "name": "#%% md\n"
    }
   }
  },
  {
   "cell_type": "markdown",
   "source": [
    "## DivExplorer"
   ],
   "metadata": {
    "collapsed": false,
    "pycharm": {
     "name": "#%% md\n"
    }
   }
  },
  {
   "cell_type": "code",
   "execution_count": 38,
   "outputs": [
    {
     "name": "stdout",
     "output_type": "stream",
     "text": [
      "7915 942 5576 1014 383\n"
     ]
    }
   ],
   "source": [
    "\n",
    "data_file = r\"../../../../InputData/MedicalDataset/train/train_41att_with_labels.csv\"\n",
    "df= pd.read_csv(data_file)\n",
    "TP = df[(df['ground_truth'] == 1) & (df['predicted'] == 1)]\n",
    "TN = df[(df['ground_truth'] == 0) & (df['predicted'] == 0)]\n",
    "FP = df[(df['ground_truth'] == 0) & (df['predicted'] == 1)]\n",
    "FN = df[(df['ground_truth'] == 1) & (df['predicted'] == 0)]\n",
    "print(len(df), len(TP), len(TN), len(FP), len(FN))\n",
    "\n"
   ],
   "metadata": {
    "collapsed": false,
    "pycharm": {
     "name": "#%%\n"
    }
   }
  },
  {
   "cell_type": "code",
   "execution_count": null,
   "outputs": [],
   "source": [
    "\n",
    "data_file = r\"../../../../InputData/MedicalDataset/train/train_41att_with_labels.csv\"\n",
    "\n",
    "df= pd.read_csv(data_file)\n",
    "class_map={'N': 0, 'P': 1}\n",
    "print(len(df))\n",
    "df.head()\n"
   ],
   "metadata": {
    "collapsed": false,
    "pycharm": {
     "name": "#%%\n"
    }
   }
  },
  {
   "cell_type": "code",
   "execution_count": 36,
   "outputs": [
    {
     "ename": "ValueError",
     "evalue": "list.remove(x): x not in list",
     "output_type": "error",
     "traceback": [
      "\u001B[0;31m---------------------------------------------------------------------------\u001B[0m",
      "\u001B[0;31mValueError\u001B[0m                                Traceback (most recent call last)",
      "\u001B[0;32m<ipython-input-36-150af3a9b818>\u001B[0m in \u001B[0;36m<module>\u001B[0;34m\u001B[0m\n\u001B[1;32m      3\u001B[0m selected_attributes = [\"REGION\", \"SEX\", \"MARRY\", \"RACE\", \"FTSTU\", \"ACTDTY\", \"HONRDC\",\n\u001B[1;32m      4\u001B[0m                        \"RTHLTH\", \"MNHLTH\", \"HIBPDX\", \"CHDDX\", \"ANGIDX\", \"MIDX\"]\n\u001B[0;32m----> 5\u001B[0;31m \u001B[0mignore_columns\u001B[0m\u001B[0;34m.\u001B[0m\u001B[0mremove\u001B[0m\u001B[0;34m(\u001B[0m\u001B[0;34m\"predicted\"\u001B[0m\u001B[0;34m)\u001B[0m\u001B[0;34m\u001B[0m\u001B[0;34m\u001B[0m\u001B[0m\n\u001B[0m\u001B[1;32m      6\u001B[0m \u001B[0mignore_columns\u001B[0m\u001B[0;34m.\u001B[0m\u001B[0mremove\u001B[0m\u001B[0;34m(\u001B[0m\u001B[0;34m\"ground_truth\"\u001B[0m\u001B[0;34m)\u001B[0m\u001B[0;34m\u001B[0m\u001B[0;34m\u001B[0m\u001B[0m\n\u001B[1;32m      7\u001B[0m \u001B[0;34m\u001B[0m\u001B[0m\n",
      "\u001B[0;31mValueError\u001B[0m: list.remove(x): x not in list"
     ]
    }
   ],
   "source": [
    "\n",
    "ignore_columns = df.columns.to_list()\n",
    "# 13 attributes\n",
    "selected_attributes = [\"REGION\", \"SEX\", \"MARRY\", \"RACE\", \"FTSTU\", \"ACTDTY\", \"HONRDC\", \"RTHLTH\", \"MNHLTH\", \"HIBPDX\", \"CHDDX\", \"ANGIDX\", \"MIDX\"]\n",
    "ignore_columns.remove(\"predicted\")\n",
    "ignore_columns.remove(\"ground_truth\")\n",
    "\n",
    "for att in selected_attributes[:10]:\n",
    "    ignore_columns.remove(att)\n",
    "\n",
    "\n",
    "min_sup=0.014 # 110 size threshold\n",
    "# Input: a discretized dataframe with the true class and the predicted class.\n",
    "# We specify their column names in the dataframe\n",
    "# The class_map is a dictionary to specify the positive and the negative class (e.g. {\"P\":1, \"N\":0})\n",
    "\n",
    "import time\n",
    "time1 = time.time()\n",
    "fp_diver=FP_DivergenceExplorer(df,\"ground_truth\", \"predicted\", class_map=class_map, ignore_cols=ignore_columns)\n",
    "#Extract frequent patterns (FP) and compute divergence\n",
    "##min_support: minimum support threshold\n",
    "##metrics: metrics=[\"d_fpr\", \"d_fnr\"]\n",
    "# (default metric of interest: False Positive Rate (FPR) d_fpr, False Negative Rate (FNR) d_fnr, Accuracy divergence)\n",
    "FP_fm=fp_diver.getFrequentPatternDivergence(min_support=min_sup, metrics=[\"d_accuracy\"])\n",
    "FP_fm_unfair = FP_fm[FP_fm[\"d_accuracy\"] > 0.1]\n",
    "time2 = time.time()\n",
    "print(f\"Number of frequent patterns: {len(FP_fm)}\")\n",
    "print(\"number of unfair patterns = {}\".format(len(FP_fm_unfair)))\n",
    "print(\"running time = {}\".format(time2 - time1))\n",
    "print(\"{}\".format(FP_fm_unfair[\"itemsets\"]))\n",
    "\n"
   ],
   "metadata": {
    "collapsed": false,
    "pycharm": {
     "name": "#%%\n"
    }
   }
  },
  {
   "cell_type": "code",
   "execution_count": 25,
   "outputs": [],
   "source": [],
   "metadata": {
    "collapsed": false,
    "pycharm": {
     "name": "#%%\n"
    }
   }
  },
  {
   "cell_type": "code",
   "execution_count": null,
   "outputs": [],
   "source": [],
   "metadata": {
    "collapsed": false,
    "pycharm": {
     "name": "#%%\n"
    }
   }
  }
 ],
 "metadata": {
  "kernelspec": {
   "display_name": "Python 3",
   "language": "python",
   "name": "python3"
  },
  "language_info": {
   "codemirror_mode": {
    "name": "ipython",
    "version": 2
   },
   "file_extension": ".py",
   "mimetype": "text/x-python",
   "name": "python",
   "nbconvert_exporter": "python",
   "pygments_lexer": "ipython2",
   "version": "2.7.6"
  }
 },
 "nbformat": 4,
 "nbformat_minor": 0
}