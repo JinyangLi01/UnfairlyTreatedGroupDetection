{
 "cells": [
  {
   "cell_type": "code",
   "execution_count": 39,
   "metadata": {
    "collapsed": true
   },
   "outputs": [],
   "source": [
    "import pandas as pd\n",
    "import os\n",
    "from divexplorer.FP_DivergenceExplorer import FP_DivergenceExplorer\n",
    "\n"
   ]
  },
  {
   "cell_type": "markdown",
   "source": [
    "\n",
    "# reproduce DivExplorer\n"
   ],
   "metadata": {
    "collapsed": false,
    "pycharm": {
     "name": "#%% md\n"
    }
   }
  },
  {
   "cell_type": "code",
   "execution_count": 40,
   "outputs": [
    {
     "data": {
      "text/plain": "     age charge    race   sex #prior   stay  class  predicted\n0    >45      F   Other  Male      0  <week      0          0\n1  25-45      F  Afr-Am  Male      0  1w-3M      1          0\n2    <25      F  Afr-Am  Male     >3  <week      1          0\n3  25-45      M   Other  Male      0  <week      0          0\n4  25-45      F    Cauc  Male     >3  <week      1          0",
      "text/html": "<div>\n<style scoped>\n    .dataframe tbody tr th:only-of-type {\n        vertical-align: middle;\n    }\n\n    .dataframe tbody tr th {\n        vertical-align: top;\n    }\n\n    .dataframe thead th {\n        text-align: right;\n    }\n</style>\n<table border=\"1\" class=\"dataframe\">\n  <thead>\n    <tr style=\"text-align: right;\">\n      <th></th>\n      <th>age</th>\n      <th>charge</th>\n      <th>race</th>\n      <th>sex</th>\n      <th>#prior</th>\n      <th>stay</th>\n      <th>class</th>\n      <th>predicted</th>\n    </tr>\n  </thead>\n  <tbody>\n    <tr>\n      <th>0</th>\n      <td>&gt;45</td>\n      <td>F</td>\n      <td>Other</td>\n      <td>Male</td>\n      <td>0</td>\n      <td>&lt;week</td>\n      <td>0</td>\n      <td>0</td>\n    </tr>\n    <tr>\n      <th>1</th>\n      <td>25-45</td>\n      <td>F</td>\n      <td>Afr-Am</td>\n      <td>Male</td>\n      <td>0</td>\n      <td>1w-3M</td>\n      <td>1</td>\n      <td>0</td>\n    </tr>\n    <tr>\n      <th>2</th>\n      <td>&lt;25</td>\n      <td>F</td>\n      <td>Afr-Am</td>\n      <td>Male</td>\n      <td>&gt;3</td>\n      <td>&lt;week</td>\n      <td>1</td>\n      <td>0</td>\n    </tr>\n    <tr>\n      <th>3</th>\n      <td>25-45</td>\n      <td>M</td>\n      <td>Other</td>\n      <td>Male</td>\n      <td>0</td>\n      <td>&lt;week</td>\n      <td>0</td>\n      <td>0</td>\n    </tr>\n    <tr>\n      <th>4</th>\n      <td>25-45</td>\n      <td>F</td>\n      <td>Cauc</td>\n      <td>Male</td>\n      <td>&gt;3</td>\n      <td>&lt;week</td>\n      <td>1</td>\n      <td>0</td>\n    </tr>\n  </tbody>\n</table>\n</div>"
     },
     "execution_count": 40,
     "metadata": {},
     "output_type": "execute_result"
    }
   ],
   "source": [
    "\n",
    "\n",
    "inputDir=os.path.join(\".\", \"datasets\")\n",
    "\n",
    "\n",
    "df= pd.read_csv(os.path.join(inputDir, \"compas_discretized.csv\"))\n",
    "class_map={'N': 0, 'P': 1}\n",
    "df.head()\n",
    "\n"
   ],
   "metadata": {
    "collapsed": false,
    "pycharm": {
     "name": "#%%\n"
    }
   }
  },
  {
   "cell_type": "code",
   "execution_count": 41,
   "outputs": [
    {
     "data": {
      "text/plain": "6172"
     },
     "execution_count": 41,
     "metadata": {},
     "output_type": "execute_result"
    }
   ],
   "source": [
    "\n",
    "len(df)\n"
   ],
   "metadata": {
    "collapsed": false,
    "pycharm": {
     "name": "#%%\n"
    }
   }
  },
  {
   "cell_type": "code",
   "execution_count": 42,
   "outputs": [
    {
     "name": "stdout",
     "output_type": "stream",
     "text": [
      "running time = 1.1769459247589111s\n"
     ]
    }
   ],
   "source": [
    "\n",
    "import time\n",
    "\n",
    "time1 = time.time()\n",
    "min_sup=0.01 # 61.72 size threshold\n",
    "# Input: a discretized dataframe with the true class and the predicted class.\n",
    "# We specify their column names in the dataframe\n",
    "# The class_map is a dictionary to specify the positive and the negative class (e.g. {\"P\":1, \"N\":0})\n",
    "fp_diver=FP_DivergenceExplorer(df,\"class\", \"predicted\", class_map=class_map)\n",
    "#Extract frequent patterns (FP) and compute divergence\n",
    "##min_support: minimum support threshold\n",
    "##metrics: metrics=[\"d_fpr\", \"d_fnr\"]\n",
    "# (default metric of interest: False Positive Rate (FPR) d_fpr, False Negative Rate (FNR) d_fnr, Accuracy divergence)\n",
    "FP_fm=fp_diver.getFrequentPatternDivergence(min_support=min_sup, metrics=[\"d_fpr\"])\n",
    "time2 = time.time()\n",
    "print(\"running time = {}s\".format(time2 - time1))"
   ],
   "metadata": {
    "collapsed": false,
    "pycharm": {
     "name": "#%%\n"
    }
   }
  },
  {
   "cell_type": "code",
   "execution_count": 43,
   "outputs": [
    {
     "name": "stdout",
     "output_type": "stream",
     "text": [
      "Number of frequent patterns: 969\n"
     ]
    }
   ],
   "source": [
    "print(f\"Number of frequent patterns: {len(FP_fm)}\")"
   ],
   "metadata": {
    "collapsed": false,
    "pycharm": {
     "name": "#%%\n"
    }
   }
  },
  {
   "cell_type": "code",
   "execution_count": 44,
   "outputs": [
    {
     "data": {
      "text/plain": "    support                itemsets    tn   fp    fn   tp  length  \\\n0  1.000000                      ()  3066  297  1962  847       0   \n1  0.809624              (sex=Male)  2357  244  1647  749       1   \n2  0.772683            (stay=<week)  2589  201  1487  492       1   \n3  0.643227              (charge=F)  1772  214  1307  677       1   \n4  0.614226  (stay=<week, sex=Male)  1959  162  1236  434       2   \n\n   support_count       fpr     d_fpr  t_value_fp  \n0         6172.0  0.088314  0.000000    0.000000  \n1         4997.0  0.093810  0.005496    0.738697  \n2         4769.0  0.072043 -0.016271    2.339352  \n3         3970.0  0.107754  0.019440    2.301183  \n4         3791.0  0.076379 -0.011935    1.555571  ",
      "text/html": "<div>\n<style scoped>\n    .dataframe tbody tr th:only-of-type {\n        vertical-align: middle;\n    }\n\n    .dataframe tbody tr th {\n        vertical-align: top;\n    }\n\n    .dataframe thead th {\n        text-align: right;\n    }\n</style>\n<table border=\"1\" class=\"dataframe\">\n  <thead>\n    <tr style=\"text-align: right;\">\n      <th></th>\n      <th>support</th>\n      <th>itemsets</th>\n      <th>tn</th>\n      <th>fp</th>\n      <th>fn</th>\n      <th>tp</th>\n      <th>length</th>\n      <th>support_count</th>\n      <th>fpr</th>\n      <th>d_fpr</th>\n      <th>t_value_fp</th>\n    </tr>\n  </thead>\n  <tbody>\n    <tr>\n      <th>0</th>\n      <td>1.000000</td>\n      <td>()</td>\n      <td>3066</td>\n      <td>297</td>\n      <td>1962</td>\n      <td>847</td>\n      <td>0</td>\n      <td>6172.0</td>\n      <td>0.088314</td>\n      <td>0.000000</td>\n      <td>0.000000</td>\n    </tr>\n    <tr>\n      <th>1</th>\n      <td>0.809624</td>\n      <td>(sex=Male)</td>\n      <td>2357</td>\n      <td>244</td>\n      <td>1647</td>\n      <td>749</td>\n      <td>1</td>\n      <td>4997.0</td>\n      <td>0.093810</td>\n      <td>0.005496</td>\n      <td>0.738697</td>\n    </tr>\n    <tr>\n      <th>2</th>\n      <td>0.772683</td>\n      <td>(stay=&lt;week)</td>\n      <td>2589</td>\n      <td>201</td>\n      <td>1487</td>\n      <td>492</td>\n      <td>1</td>\n      <td>4769.0</td>\n      <td>0.072043</td>\n      <td>-0.016271</td>\n      <td>2.339352</td>\n    </tr>\n    <tr>\n      <th>3</th>\n      <td>0.643227</td>\n      <td>(charge=F)</td>\n      <td>1772</td>\n      <td>214</td>\n      <td>1307</td>\n      <td>677</td>\n      <td>1</td>\n      <td>3970.0</td>\n      <td>0.107754</td>\n      <td>0.019440</td>\n      <td>2.301183</td>\n    </tr>\n    <tr>\n      <th>4</th>\n      <td>0.614226</td>\n      <td>(stay=&lt;week, sex=Male)</td>\n      <td>1959</td>\n      <td>162</td>\n      <td>1236</td>\n      <td>434</td>\n      <td>2</td>\n      <td>3791.0</td>\n      <td>0.076379</td>\n      <td>-0.011935</td>\n      <td>1.555571</td>\n    </tr>\n  </tbody>\n</table>\n</div>"
     },
     "execution_count": 44,
     "metadata": {},
     "output_type": "execute_result"
    }
   ],
   "source": [
    "FP_fm.head()"
   ],
   "metadata": {
    "collapsed": false,
    "pycharm": {
     "name": "#%%\n"
    }
   }
  },
  {
   "cell_type": "code",
   "execution_count": 45,
   "outputs": [
    {
     "data": {
      "text/plain": "196"
     },
     "execution_count": 45,
     "metadata": {},
     "output_type": "execute_result"
    }
   ],
   "source": [
    "\n",
    "FP_fm_unfair = FP_fm[FP_fm[\"d_fpr\"] > 0.1]\n",
    "len(FP_fm_unfair)\n"
   ],
   "metadata": {
    "collapsed": false,
    "pycharm": {
     "name": "#%%\n"
    }
   }
  },
  {
   "cell_type": "code",
   "execution_count": 46,
   "outputs": [
    {
     "data": {
      "text/plain": "     support                            itemsets   tn   fp   fn   tp  length  \\\n28  0.293422                         (#prior=>3)  470  132  670  539       1   \n35  0.256643               (sex=Male, #prior=>3)  401  115  588  480       2   \n43  0.219540               (#prior=>3, charge=F)  331   97  488  439       2   \n49  0.207226              (#prior=>3, age=25-45)  297  100  469  413       2   \n55  0.196695            (race=Afr-Am, #prior=>3)  283  100  403  428       2   \n56  0.194426             (stay=<week, #prior=>3)  349   82  457  312       2   \n58  0.190376     (sex=Male, #prior=>3, charge=F)  277   83  423  392       3   \n62  0.180655    (sex=Male, #prior=>3, age=25-45)  254   86  405  370       3   \n64  0.178386                 (sex=Male, age=<25)  357   83  414  247       2   \n67  0.175308  (sex=Male, race=Afr-Am, #prior=>3)  239   87  369  387       3   \n\n    support_count       fpr     d_fpr  t_value_fp  \n28         1811.0  0.219269  0.130955    7.503321  \n35         1584.0  0.222868  0.134554    7.146700  \n43         1355.0  0.226636  0.138322    6.702442  \n49         1279.0  0.251889  0.163575    7.384973  \n55         1214.0  0.261097  0.172783    7.582039  \n56         1200.0  0.190255  0.101941    5.283437  \n58         1175.0  0.230556  0.142242    6.323414  \n62         1115.0  0.252941  0.164627    6.903692  \n64         1101.0  0.188636  0.100322    5.265747  \n67         1082.0  0.266871  0.178557    7.214382  ",
      "text/html": "<div>\n<style scoped>\n    .dataframe tbody tr th:only-of-type {\n        vertical-align: middle;\n    }\n\n    .dataframe tbody tr th {\n        vertical-align: top;\n    }\n\n    .dataframe thead th {\n        text-align: right;\n    }\n</style>\n<table border=\"1\" class=\"dataframe\">\n  <thead>\n    <tr style=\"text-align: right;\">\n      <th></th>\n      <th>support</th>\n      <th>itemsets</th>\n      <th>tn</th>\n      <th>fp</th>\n      <th>fn</th>\n      <th>tp</th>\n      <th>length</th>\n      <th>support_count</th>\n      <th>fpr</th>\n      <th>d_fpr</th>\n      <th>t_value_fp</th>\n    </tr>\n  </thead>\n  <tbody>\n    <tr>\n      <th>28</th>\n      <td>0.293422</td>\n      <td>(#prior=&gt;3)</td>\n      <td>470</td>\n      <td>132</td>\n      <td>670</td>\n      <td>539</td>\n      <td>1</td>\n      <td>1811.0</td>\n      <td>0.219269</td>\n      <td>0.130955</td>\n      <td>7.503321</td>\n    </tr>\n    <tr>\n      <th>35</th>\n      <td>0.256643</td>\n      <td>(sex=Male, #prior=&gt;3)</td>\n      <td>401</td>\n      <td>115</td>\n      <td>588</td>\n      <td>480</td>\n      <td>2</td>\n      <td>1584.0</td>\n      <td>0.222868</td>\n      <td>0.134554</td>\n      <td>7.146700</td>\n    </tr>\n    <tr>\n      <th>43</th>\n      <td>0.219540</td>\n      <td>(#prior=&gt;3, charge=F)</td>\n      <td>331</td>\n      <td>97</td>\n      <td>488</td>\n      <td>439</td>\n      <td>2</td>\n      <td>1355.0</td>\n      <td>0.226636</td>\n      <td>0.138322</td>\n      <td>6.702442</td>\n    </tr>\n    <tr>\n      <th>49</th>\n      <td>0.207226</td>\n      <td>(#prior=&gt;3, age=25-45)</td>\n      <td>297</td>\n      <td>100</td>\n      <td>469</td>\n      <td>413</td>\n      <td>2</td>\n      <td>1279.0</td>\n      <td>0.251889</td>\n      <td>0.163575</td>\n      <td>7.384973</td>\n    </tr>\n    <tr>\n      <th>55</th>\n      <td>0.196695</td>\n      <td>(race=Afr-Am, #prior=&gt;3)</td>\n      <td>283</td>\n      <td>100</td>\n      <td>403</td>\n      <td>428</td>\n      <td>2</td>\n      <td>1214.0</td>\n      <td>0.261097</td>\n      <td>0.172783</td>\n      <td>7.582039</td>\n    </tr>\n    <tr>\n      <th>56</th>\n      <td>0.194426</td>\n      <td>(stay=&lt;week, #prior=&gt;3)</td>\n      <td>349</td>\n      <td>82</td>\n      <td>457</td>\n      <td>312</td>\n      <td>2</td>\n      <td>1200.0</td>\n      <td>0.190255</td>\n      <td>0.101941</td>\n      <td>5.283437</td>\n    </tr>\n    <tr>\n      <th>58</th>\n      <td>0.190376</td>\n      <td>(sex=Male, #prior=&gt;3, charge=F)</td>\n      <td>277</td>\n      <td>83</td>\n      <td>423</td>\n      <td>392</td>\n      <td>3</td>\n      <td>1175.0</td>\n      <td>0.230556</td>\n      <td>0.142242</td>\n      <td>6.323414</td>\n    </tr>\n    <tr>\n      <th>62</th>\n      <td>0.180655</td>\n      <td>(sex=Male, #prior=&gt;3, age=25-45)</td>\n      <td>254</td>\n      <td>86</td>\n      <td>405</td>\n      <td>370</td>\n      <td>3</td>\n      <td>1115.0</td>\n      <td>0.252941</td>\n      <td>0.164627</td>\n      <td>6.903692</td>\n    </tr>\n    <tr>\n      <th>64</th>\n      <td>0.178386</td>\n      <td>(sex=Male, age=&lt;25)</td>\n      <td>357</td>\n      <td>83</td>\n      <td>414</td>\n      <td>247</td>\n      <td>2</td>\n      <td>1101.0</td>\n      <td>0.188636</td>\n      <td>0.100322</td>\n      <td>5.265747</td>\n    </tr>\n    <tr>\n      <th>67</th>\n      <td>0.175308</td>\n      <td>(sex=Male, race=Afr-Am, #prior=&gt;3)</td>\n      <td>239</td>\n      <td>87</td>\n      <td>369</td>\n      <td>387</td>\n      <td>3</td>\n      <td>1082.0</td>\n      <td>0.266871</td>\n      <td>0.178557</td>\n      <td>7.214382</td>\n    </tr>\n  </tbody>\n</table>\n</div>"
     },
     "execution_count": 46,
     "metadata": {},
     "output_type": "execute_result"
    }
   ],
   "source": [
    "FP_fm_unfair[:10]"
   ],
   "metadata": {
    "collapsed": false,
    "pycharm": {
     "name": "#%%\n"
    }
   }
  },
  {
   "cell_type": "code",
   "execution_count": 46,
   "outputs": [],
   "source": [
    "\n",
    "\n"
   ],
   "metadata": {
    "collapsed": false,
    "pycharm": {
     "name": "#%%\n"
    }
   }
  },
  {
   "cell_type": "markdown",
   "source": [
    "## use our algorithm on this dataset"
   ],
   "metadata": {
    "collapsed": false,
    "pycharm": {
     "name": "#%% md\n"
    }
   }
  },
  {
   "cell_type": "code",
   "execution_count": 47,
   "outputs": [
    {
     "name": "stdout",
     "output_type": "stream",
     "text": [
      "6172\n"
     ]
    },
    {
     "data": {
      "text/plain": "     age charge    race   sex #prior   stay  class  predicted\n0    >45      F   Other  Male      0  <week      0          0\n1  25-45      F  Afr-Am  Male      0  1w-3M      1          0\n2    <25      F  Afr-Am  Male     >3  <week      1          0\n3  25-45      M   Other  Male      0  <week      0          0\n4  25-45      F    Cauc  Male     >3  <week      1          0",
      "text/html": "<div>\n<style scoped>\n    .dataframe tbody tr th:only-of-type {\n        vertical-align: middle;\n    }\n\n    .dataframe tbody tr th {\n        vertical-align: top;\n    }\n\n    .dataframe thead th {\n        text-align: right;\n    }\n</style>\n<table border=\"1\" class=\"dataframe\">\n  <thead>\n    <tr style=\"text-align: right;\">\n      <th></th>\n      <th>age</th>\n      <th>charge</th>\n      <th>race</th>\n      <th>sex</th>\n      <th>#prior</th>\n      <th>stay</th>\n      <th>class</th>\n      <th>predicted</th>\n    </tr>\n  </thead>\n  <tbody>\n    <tr>\n      <th>0</th>\n      <td>&gt;45</td>\n      <td>F</td>\n      <td>Other</td>\n      <td>Male</td>\n      <td>0</td>\n      <td>&lt;week</td>\n      <td>0</td>\n      <td>0</td>\n    </tr>\n    <tr>\n      <th>1</th>\n      <td>25-45</td>\n      <td>F</td>\n      <td>Afr-Am</td>\n      <td>Male</td>\n      <td>0</td>\n      <td>1w-3M</td>\n      <td>1</td>\n      <td>0</td>\n    </tr>\n    <tr>\n      <th>2</th>\n      <td>&lt;25</td>\n      <td>F</td>\n      <td>Afr-Am</td>\n      <td>Male</td>\n      <td>&gt;3</td>\n      <td>&lt;week</td>\n      <td>1</td>\n      <td>0</td>\n    </tr>\n    <tr>\n      <th>3</th>\n      <td>25-45</td>\n      <td>M</td>\n      <td>Other</td>\n      <td>Male</td>\n      <td>0</td>\n      <td>&lt;week</td>\n      <td>0</td>\n      <td>0</td>\n    </tr>\n    <tr>\n      <th>4</th>\n      <td>25-45</td>\n      <td>F</td>\n      <td>Cauc</td>\n      <td>Male</td>\n      <td>&gt;3</td>\n      <td>&lt;week</td>\n      <td>1</td>\n      <td>0</td>\n    </tr>\n  </tbody>\n</table>\n</div>"
     },
     "execution_count": 47,
     "metadata": {},
     "output_type": "execute_result"
    }
   ],
   "source": [
    "\n",
    "inputDir=os.path.join(\".\", \"datasets\")\n",
    "\n",
    "\n",
    "df= pd.read_csv(os.path.join(inputDir, \"compas_discretized.csv\"))\n",
    "print(len(df))\n",
    "df[:5]"
   ],
   "metadata": {
    "collapsed": false,
    "pycharm": {
     "name": "#%%\n"
    }
   }
  },
  {
   "cell_type": "code",
   "execution_count": 48,
   "outputs": [
    {
     "name": "stdout",
     "output_type": "stream",
     "text": [
      "6172\n"
     ]
    }
   ],
   "source": [
    "\n",
    "TP = df[(df['class'] == 1) & (df['predicted'] == 1)]\n",
    "FP = df[(df['class'] == 0) & (df['predicted'] == 1)]\n",
    "TN = df[(df['class'] == 0) & (df['predicted'] == 0)]\n",
    "FN = df[(df['class'] == 1) & (df['predicted'] == 0)]\n",
    "\n",
    "print(len(TP) + len(FP) + len(TN) + len(FN))\n",
    "\n",
    "selected_attributes = ['age', 'charge', 'race', 'sex', '#prior', 'stay']\n",
    "df = df[selected_attributes]\n",
    "TP = TP[selected_attributes]\n",
    "TN = TN[selected_attributes]\n",
    "FP = FP[selected_attributes]\n",
    "FN = FN[selected_attributes]"
   ],
   "metadata": {
    "collapsed": false,
    "pycharm": {
     "name": "#%%\n"
    }
   }
  },
  {
   "cell_type": "code",
   "execution_count": 49,
   "outputs": [
    {
     "name": "stdout",
     "output_type": "stream",
     "text": [
      "False_positive_error_rate_balance, original_thf = 0.08831400535236396, Thf = 0.18831400535236398\n",
      "newalg, time = 0.33303213119506836 s, num_calculation = 1343\n",
      "\n",
      "num of patterns detected = 10\n",
      "[-1, -1, -1, -1, -1, '>3Months'] 310 0.224\n",
      "\n",
      "[-1, -1, -1, -1, '>3', -1] 1811 0.21926910299003322\n",
      "\n",
      "[-1, -1, 'Afr-Am', -1, -1, '1w-3M'] 585 0.20772946859903382\n",
      "\n",
      "[-1, -1, 'Hispanic', 'Male', -1, '1w-3M'] 68 0.2\n",
      "\n",
      "['<25', -1, -1, -1, -1, '1w-3M'] 232 0.35064935064935066\n",
      "\n",
      "['<25', -1, -1, -1, '[1,3]', -1] 595 0.21395348837209302\n",
      "\n",
      "['<25', -1, -1, 'Male', -1, -1] 1101 0.18863636363636363\n",
      "\n",
      "['<25', -1, 'Afr-Am', -1, -1, -1] 809 0.20754716981132076\n",
      "\n",
      "['<25', -1, 'Hispanic', -1, -1, -1] 109 0.21428571428571427\n",
      "\n",
      "['<25', 'F', -1, -1, -1, -1] 968 0.20347394540942929\n",
      "\n"
     ]
    }
   ],
   "source": [
    "%reload_ext autoreload\n",
    "\n",
    "%autoreload 2\n",
    "\n",
    "from Algorithms import NewAlgGeneral_SizeFairnessValue_2_20210528 as newalg\n",
    "\n",
    "thc = 61.72\n",
    "time_limit = 5 * 60\n",
    "fairness_definition = 1  # FPR = FP/(FP+TN) False_positive_error_rate_balance, but for those treated too well\n",
    "delta_thf = 0.1\n",
    "pattern_with_low_fairness1, sizes_of_patterns, fairness_values_of_patterns, \\\n",
    "num_patterns, t1_ = newalg.GraphTraverse(df,\n",
    "                                         TP, TN, FP, FN, delta_thf,\n",
    "                                         thc, time_limit, fairness_definition)\n",
    "\n",
    "\n",
    "print(\"newalg, time = {} s, num_calculation = {}\\n\".format(t1_, num_patterns))\n",
    "print(\"num of patterns detected = {}\".format(len(pattern_with_low_fairness1)))\n",
    "for i in range(len(pattern_with_low_fairness1)):\n",
    "    print(\"{} {} {}\\n\".format(str(pattern_with_low_fairness1[i]),\n",
    "                              sizes_of_patterns[i], fairness_values_of_patterns[i]))\n",
    "\n"
   ],
   "metadata": {
    "collapsed": false,
    "pycharm": {
     "name": "#%%\n"
    }
   }
  },
  {
   "cell_type": "code",
   "execution_count": null,
   "outputs": [],
   "source": [],
   "metadata": {
    "collapsed": false,
    "pycharm": {
     "name": "#%%\n"
    }
   }
  },
  {
   "cell_type": "code",
   "execution_count": null,
   "outputs": [],
   "source": [],
   "metadata": {
    "collapsed": false,
    "pycharm": {
     "name": "#%%\n"
    }
   }
  },
  {
   "cell_type": "markdown",
   "source": [
    "## whether FP_fm_unfair are descendents of pattern_with_low_fairness1"
   ],
   "metadata": {
    "collapsed": false,
    "pycharm": {
     "name": "#%% md\n"
    }
   }
  },
  {
   "cell_type": "code",
   "execution_count": 57,
   "outputs": [],
   "source": [
    "\n",
    "def P1DominatedByP2(P1, P2):\n",
    "    length = len(P1)\n",
    "    for i in range(length):\n",
    "        if P1[i] == -1:\n",
    "            if P2[i] != -1:\n",
    "                return False\n",
    "        if P1[i] != -1:\n",
    "            if P2[i] != P1[i] and P2[i] != -1:\n",
    "                return False\n",
    "    return True\n",
    "\n",
    "# whether a pattern P is dominated by MUP M\n",
    "# except from P itself\n",
    "def PDominatedByM(P, M):\n",
    "    for m in M:\n",
    "        if PatternEqual(m, P):\n",
    "            return True, m\n",
    "        if P1DominatedByP2(P, m):\n",
    "            return True, m\n",
    "    return False, None\n",
    "\n",
    "\n",
    "\n",
    "def PatternEqual(m, P):\n",
    "    length = len(m)\n",
    "    if len(P) != length:\n",
    "        return False\n",
    "    for i in range(length):\n",
    "        if m[i] != P[i]:\n",
    "            return False\n",
    "    return True\n",
    "\n",
    "\n",
    "for p in FP_fm_unfair:\n",
    "    if PDominatedByM(p, pattern_with_low_fairness1):\n",
    "        continue\n",
    "    else:\n",
    "        raise Exception(\"noooo\")\n",
    "\n",
    "\n",
    "\n",
    "\n"
   ],
   "metadata": {
    "collapsed": false,
    "pycharm": {
     "name": "#%%\n"
    }
   }
  },
  {
   "cell_type": "code",
   "execution_count": null,
   "outputs": [],
   "source": [],
   "metadata": {
    "collapsed": false,
    "pycharm": {
     "name": "#%%\n"
    }
   }
  },
  {
   "cell_type": "code",
   "execution_count": null,
   "outputs": [],
   "source": [],
   "metadata": {
    "collapsed": false,
    "pycharm": {
     "name": "#%%\n"
    }
   }
  },
  {
   "cell_type": "markdown",
   "source": [
    "\n",
    "# reproduce ProPublica by DivExplorer and our algorithm"
   ],
   "metadata": {
    "collapsed": false,
    "pycharm": {
     "name": "#%% md\n"
    }
   }
  },
  {
   "cell_type": "markdown",
   "source": [
    "## reproduce ProPublica by DivExplorer"
   ],
   "metadata": {
    "collapsed": false,
    "pycharm": {
     "name": "#%% md\n"
    }
   }
  },
  {
   "cell_type": "code",
   "execution_count": 50,
   "outputs": [],
   "source": [
    "\n",
    "\n",
    "original_data_file = r\"../../../../InputData/COMPAS_ProPublica/compas-analysis-master/cox-parsed/cox-parsed_7214rows_cat.csv\"\n",
    "TP_data_file = r\"../../../../InputData/COMPAS_ProPublica/compas-analysis-master/cox-parsed/cox-parsed-TP-cat.csv\"\n",
    "FP_data_file = r\"../../../../InputData/COMPAS_ProPublica/compas-analysis-master/cox-parsed/cox-parsed-FP-cat.csv\"\n",
    "TN_data_file = r\"../../../../InputData/COMPAS_ProPublica/compas-analysis-master/cox-parsed/cox-parsed-TN-cat.csv\"\n",
    "FN_data_file = r\"../../../../InputData/COMPAS_ProPublica/compas-analysis-master/cox-parsed/cox-parsed-FN-cat.csv\"\n",
    "\n",
    "\n"
   ],
   "metadata": {
    "collapsed": false,
    "pycharm": {
     "name": "#%%\n"
    }
   }
  },
  {
   "cell_type": "code",
   "execution_count": 51,
   "outputs": [
    {
     "name": "stdout",
     "output_type": "stream",
     "text": [
      "7214\n"
     ]
    },
    {
     "data": {
      "text/plain": "   id                name   first         last compas_screening_date   sex  \\\n0   1    miguel hernandez  miguel    hernandez            2013-08-14  Male   \n1   3         kevon dixon   kevon        dixon            2013-01-27  Male   \n2   4            ed philo      ed        philo            2013-04-14  Male   \n3   5         marcu brown   marcu        brown            2013-01-13  Male   \n4   6  bouthy pierrelouis  bouthy  pierrelouis            2013-03-26  Male   \n\n          dob  age          age_cat              race  ...  v_score_text  \\\n0  1947-04-18   69  Greater than 45             Other  ...           Low   \n1  1982-01-22   34          25 - 45  African-American  ...           Low   \n2  1991-05-14   24     Less than 25  African-American  ...           Low   \n3  1993-01-21   23     Less than 25  African-American  ...        Medium   \n4  1973-01-22   43          25 - 45             Other  ...           Low   \n\n   v_screening_date  in_custody  out_custody  priors_count.1  start   end  \\\n0        2013-08-14  2014-07-07   2014-07-14               0      0   327   \n1        2013-01-27  2013-01-26   2013-02-05               0      9   159   \n2        2013-04-14  2013-06-16   2013-06-16               4      0    63   \n3        2013-01-13         NaN          NaN               1      0  1174   \n4        2013-03-26         NaN          NaN               2      0  1102   \n\n  event predicted ground_truth  \n0     0         0            0  \n1     1         0            1  \n2     0         0            1  \n3     0         1            0  \n4     0         0            0  \n\n[5 rows x 54 columns]",
      "text/html": "<div>\n<style scoped>\n    .dataframe tbody tr th:only-of-type {\n        vertical-align: middle;\n    }\n\n    .dataframe tbody tr th {\n        vertical-align: top;\n    }\n\n    .dataframe thead th {\n        text-align: right;\n    }\n</style>\n<table border=\"1\" class=\"dataframe\">\n  <thead>\n    <tr style=\"text-align: right;\">\n      <th></th>\n      <th>id</th>\n      <th>name</th>\n      <th>first</th>\n      <th>last</th>\n      <th>compas_screening_date</th>\n      <th>sex</th>\n      <th>dob</th>\n      <th>age</th>\n      <th>age_cat</th>\n      <th>race</th>\n      <th>...</th>\n      <th>v_score_text</th>\n      <th>v_screening_date</th>\n      <th>in_custody</th>\n      <th>out_custody</th>\n      <th>priors_count.1</th>\n      <th>start</th>\n      <th>end</th>\n      <th>event</th>\n      <th>predicted</th>\n      <th>ground_truth</th>\n    </tr>\n  </thead>\n  <tbody>\n    <tr>\n      <th>0</th>\n      <td>1</td>\n      <td>miguel hernandez</td>\n      <td>miguel</td>\n      <td>hernandez</td>\n      <td>2013-08-14</td>\n      <td>Male</td>\n      <td>1947-04-18</td>\n      <td>69</td>\n      <td>Greater than 45</td>\n      <td>Other</td>\n      <td>...</td>\n      <td>Low</td>\n      <td>2013-08-14</td>\n      <td>2014-07-07</td>\n      <td>2014-07-14</td>\n      <td>0</td>\n      <td>0</td>\n      <td>327</td>\n      <td>0</td>\n      <td>0</td>\n      <td>0</td>\n    </tr>\n    <tr>\n      <th>1</th>\n      <td>3</td>\n      <td>kevon dixon</td>\n      <td>kevon</td>\n      <td>dixon</td>\n      <td>2013-01-27</td>\n      <td>Male</td>\n      <td>1982-01-22</td>\n      <td>34</td>\n      <td>25 - 45</td>\n      <td>African-American</td>\n      <td>...</td>\n      <td>Low</td>\n      <td>2013-01-27</td>\n      <td>2013-01-26</td>\n      <td>2013-02-05</td>\n      <td>0</td>\n      <td>9</td>\n      <td>159</td>\n      <td>1</td>\n      <td>0</td>\n      <td>1</td>\n    </tr>\n    <tr>\n      <th>2</th>\n      <td>4</td>\n      <td>ed philo</td>\n      <td>ed</td>\n      <td>philo</td>\n      <td>2013-04-14</td>\n      <td>Male</td>\n      <td>1991-05-14</td>\n      <td>24</td>\n      <td>Less than 25</td>\n      <td>African-American</td>\n      <td>...</td>\n      <td>Low</td>\n      <td>2013-04-14</td>\n      <td>2013-06-16</td>\n      <td>2013-06-16</td>\n      <td>4</td>\n      <td>0</td>\n      <td>63</td>\n      <td>0</td>\n      <td>0</td>\n      <td>1</td>\n    </tr>\n    <tr>\n      <th>3</th>\n      <td>5</td>\n      <td>marcu brown</td>\n      <td>marcu</td>\n      <td>brown</td>\n      <td>2013-01-13</td>\n      <td>Male</td>\n      <td>1993-01-21</td>\n      <td>23</td>\n      <td>Less than 25</td>\n      <td>African-American</td>\n      <td>...</td>\n      <td>Medium</td>\n      <td>2013-01-13</td>\n      <td>NaN</td>\n      <td>NaN</td>\n      <td>1</td>\n      <td>0</td>\n      <td>1174</td>\n      <td>0</td>\n      <td>1</td>\n      <td>0</td>\n    </tr>\n    <tr>\n      <th>4</th>\n      <td>6</td>\n      <td>bouthy pierrelouis</td>\n      <td>bouthy</td>\n      <td>pierrelouis</td>\n      <td>2013-03-26</td>\n      <td>Male</td>\n      <td>1973-01-22</td>\n      <td>43</td>\n      <td>25 - 45</td>\n      <td>Other</td>\n      <td>...</td>\n      <td>Low</td>\n      <td>2013-03-26</td>\n      <td>NaN</td>\n      <td>NaN</td>\n      <td>2</td>\n      <td>0</td>\n      <td>1102</td>\n      <td>0</td>\n      <td>0</td>\n      <td>0</td>\n    </tr>\n  </tbody>\n</table>\n<p>5 rows × 54 columns</p>\n</div>"
     },
     "execution_count": 51,
     "metadata": {},
     "output_type": "execute_result"
    }
   ],
   "source": [
    "\n",
    "data_file = r\"../../../../InputData/COMPAS_ProPublica/compas-analysis-master/cox-parsed/cox-parsed_7214rows_with_labels.csv\"\n",
    "\n",
    "df= pd.read_csv(data_file)\n",
    "class_map={'N': 0, 'P': 1}\n",
    "print(len(df))\n",
    "df.head()\n"
   ],
   "metadata": {
    "collapsed": false,
    "pycharm": {
     "name": "#%%\n"
    }
   }
  },
  {
   "cell_type": "code",
   "execution_count": 52,
   "outputs": [],
   "source": [
    "\n",
    "ignore_columns = df.columns.to_list()\n",
    "ignore_columns.remove(\"sex\")\n",
    "ignore_columns.remove(\"race\")\n",
    "ignore_columns.remove(\"age_cat\")\n",
    "ignore_columns.remove(\"predicted\")\n",
    "ignore_columns.remove(\"ground_truth\")\n"
   ],
   "metadata": {
    "collapsed": false,
    "pycharm": {
     "name": "#%%\n"
    }
   }
  },
  {
   "cell_type": "code",
   "execution_count": 53,
   "outputs": [
    {
     "name": "stdout",
     "output_type": "stream",
     "text": [
      "Number of frequent patterns: 51\n",
      "number of unfair patterns = 15\n",
      "running time = 0.11346006393432617\n",
      "3                               (race=African-American)\n",
      "5                     (race=African-American, sex=Male)\n",
      "7              (race=African-American, age_cat=25 - 45)\n",
      "9     (race=African-American, sex=Male, age_cat=25 -...\n",
      "11                               (age_cat=Less than 25)\n",
      "15                     (sex=Male, age_cat=Less than 25)\n",
      "17        (race=African-American, age_cat=Less than 25)\n",
      "20    (race=African-American, sex=Male, age_cat=Less...\n",
      "29               (age_cat=Less than 25, race=Caucasian)\n",
      "37                   (sex=Female, age_cat=Less than 25)\n",
      "41    (race=African-American, sex=Female, age_cat=Le...\n",
      "43                (age_cat=Less than 25, race=Hispanic)\n",
      "45      (sex=Male, age_cat=Less than 25, race=Hispanic)\n",
      "48    (sex=Female, age_cat=Less than 25, race=Caucas...\n",
      "50                   (age_cat=Less than 25, race=Other)\n",
      "Name: itemsets, dtype: object\n"
     ]
    }
   ],
   "source": [
    "\n",
    "# def __init__(\n",
    "#     self,\n",
    "#     X_discrete,\n",
    "#     true_class_name,\n",
    "#     predicted_class_name=None,\n",
    "#     class_map={},\n",
    "#     ignore_cols=[],\n",
    "#     log_loss_values=None,\n",
    "#     clf=None,\n",
    "#     dataset_name=\"\",\n",
    "#     type_cl=\"\",\n",
    "# ):\n",
    "\n",
    "\n",
    "min_sup=0.01 # 61.72 size threshold\n",
    "# Input: a discretized dataframe with the true class and the predicted class.\n",
    "# We specify their column names in the dataframe\n",
    "# The class_map is a dictionary to specify the positive and the negative class (e.g. {\"P\":1, \"N\":0})\n",
    "\n",
    "import time\n",
    "time1 = time.time()\n",
    "fp_diver=FP_DivergenceExplorer(df,\"ground_truth\", \"predicted\", class_map=class_map, ignore_cols=ignore_columns)\n",
    "#Extract frequent patterns (FP) and compute divergence\n",
    "##min_support: minimum support threshold\n",
    "##metrics: metrics=[\"d_fpr\", \"d_fnr\"]\n",
    "# (default metric of interest: False Positive Rate (FPR) d_fpr, False Negative Rate (FNR) d_fnr, Accuracy divergence)\n",
    "FP_fm=fp_diver.getFrequentPatternDivergence(min_support=min_sup, metrics=[\"d_fpr\"])\n",
    "FP_fm_unfair = FP_fm[FP_fm[\"d_fpr\"] > 0.1]\n",
    "time2 = time.time()\n",
    "print(f\"Number of frequent patterns: {len(FP_fm)}\")\n",
    "print(\"number of unfair patterns = {}\".format(len(FP_fm_unfair)))\n",
    "print(\"running time = {}\".format(time2 - time1))\n",
    "print(\"{}\".format(FP_fm_unfair[\"itemsets\"]))\n"
   ],
   "metadata": {
    "collapsed": false,
    "pycharm": {
     "name": "#%%\n"
    }
   }
  },
  {
   "cell_type": "markdown",
   "source": [
    "\n"
   ],
   "metadata": {
    "collapsed": false,
    "pycharm": {
     "name": "#%% md\n"
    }
   }
  },
  {
   "cell_type": "code",
   "execution_count": 56,
   "outputs": [
    {
     "data": {
      "text/plain": "     support                                           itemsets   tn   fp  \\\n3   0.512337                            (race=African-American)  990  805   \n5   0.421957                  (race=African-American, sex=Male)  749  641   \n7   0.304131           (race=African-American, age_cat=25 - 45)  606  478   \n9   0.249376  (race=African-American, sex=Male, age_cat=25 -...  451  389   \n11  0.211949                             (age_cat=Less than 25)  305  360   \n15  0.172027                   (sex=Male, age_cat=Less than 25)  238  252   \n17  0.127530      (race=African-American, age_cat=Less than 25)  144  215   \n20  0.104103  (race=African-American, sex=Male, age_cat=Less...  110  156   \n29  0.054062             (age_cat=Less than 25, race=Caucasian)  102   97   \n37  0.039922                 (sex=Female, age_cat=Less than 25)   67  108   \n41  0.023427  (race=African-American, sex=Female, age_cat=Le...   34   59   \n43  0.017605              (age_cat=Less than 25, race=Hispanic)   32   29   \n45  0.015248    (sex=Male, age_cat=Less than 25, race=Hispanic)   24   27   \n48  0.012060  (sex=Female, age_cat=Less than 25, race=Caucas...   18   42   \n50  0.011367                 (age_cat=Less than 25, race=Other)   23   19   \n\n     fn    tp  length  support_count       fpr     d_fpr  t_value_fp  \n3   532  1369       1         3696.0  0.448468  0.124976    8.999310  \n5   458  1196       2         3044.0  0.461151  0.137659    9.005014  \n7   307   803       2         2194.0  0.440959  0.117467    6.996436  \n9   255   704       3         1799.0  0.463095  0.139603    7.460524  \n11  225   639       1         1529.0  0.541353  0.217861   10.534022  \n15  205   546       2         1241.0  0.514286  0.190793    8.042809  \n17  130   431       2          920.0  0.598886  0.275393   10.246106  \n20  115   370       3          751.0  0.586466  0.262974    8.476221  \n29   51   140       2          390.0  0.487437  0.163945    4.561988  \n37   20    93       2          288.0  0.617143  0.293651    7.854487  \n41   15    61       3          169.0  0.634409  0.310916    6.185975  \n43   24    42       2          127.0  0.475410  0.151918    2.427393  \n45   22    37       3          110.0  0.529412  0.205919    2.995737  \n48    1    26       3           87.0  0.700000  0.376508    6.318158  \n50   19    21       2           82.0  0.452381  0.128889    1.755603  ",
      "text/html": "<div>\n<style scoped>\n    .dataframe tbody tr th:only-of-type {\n        vertical-align: middle;\n    }\n\n    .dataframe tbody tr th {\n        vertical-align: top;\n    }\n\n    .dataframe thead th {\n        text-align: right;\n    }\n</style>\n<table border=\"1\" class=\"dataframe\">\n  <thead>\n    <tr style=\"text-align: right;\">\n      <th></th>\n      <th>support</th>\n      <th>itemsets</th>\n      <th>tn</th>\n      <th>fp</th>\n      <th>fn</th>\n      <th>tp</th>\n      <th>length</th>\n      <th>support_count</th>\n      <th>fpr</th>\n      <th>d_fpr</th>\n      <th>t_value_fp</th>\n    </tr>\n  </thead>\n  <tbody>\n    <tr>\n      <th>3</th>\n      <td>0.512337</td>\n      <td>(race=African-American)</td>\n      <td>990</td>\n      <td>805</td>\n      <td>532</td>\n      <td>1369</td>\n      <td>1</td>\n      <td>3696.0</td>\n      <td>0.448468</td>\n      <td>0.124976</td>\n      <td>8.999310</td>\n    </tr>\n    <tr>\n      <th>5</th>\n      <td>0.421957</td>\n      <td>(race=African-American, sex=Male)</td>\n      <td>749</td>\n      <td>641</td>\n      <td>458</td>\n      <td>1196</td>\n      <td>2</td>\n      <td>3044.0</td>\n      <td>0.461151</td>\n      <td>0.137659</td>\n      <td>9.005014</td>\n    </tr>\n    <tr>\n      <th>7</th>\n      <td>0.304131</td>\n      <td>(race=African-American, age_cat=25 - 45)</td>\n      <td>606</td>\n      <td>478</td>\n      <td>307</td>\n      <td>803</td>\n      <td>2</td>\n      <td>2194.0</td>\n      <td>0.440959</td>\n      <td>0.117467</td>\n      <td>6.996436</td>\n    </tr>\n    <tr>\n      <th>9</th>\n      <td>0.249376</td>\n      <td>(race=African-American, sex=Male, age_cat=25 -...</td>\n      <td>451</td>\n      <td>389</td>\n      <td>255</td>\n      <td>704</td>\n      <td>3</td>\n      <td>1799.0</td>\n      <td>0.463095</td>\n      <td>0.139603</td>\n      <td>7.460524</td>\n    </tr>\n    <tr>\n      <th>11</th>\n      <td>0.211949</td>\n      <td>(age_cat=Less than 25)</td>\n      <td>305</td>\n      <td>360</td>\n      <td>225</td>\n      <td>639</td>\n      <td>1</td>\n      <td>1529.0</td>\n      <td>0.541353</td>\n      <td>0.217861</td>\n      <td>10.534022</td>\n    </tr>\n    <tr>\n      <th>15</th>\n      <td>0.172027</td>\n      <td>(sex=Male, age_cat=Less than 25)</td>\n      <td>238</td>\n      <td>252</td>\n      <td>205</td>\n      <td>546</td>\n      <td>2</td>\n      <td>1241.0</td>\n      <td>0.514286</td>\n      <td>0.190793</td>\n      <td>8.042809</td>\n    </tr>\n    <tr>\n      <th>17</th>\n      <td>0.127530</td>\n      <td>(race=African-American, age_cat=Less than 25)</td>\n      <td>144</td>\n      <td>215</td>\n      <td>130</td>\n      <td>431</td>\n      <td>2</td>\n      <td>920.0</td>\n      <td>0.598886</td>\n      <td>0.275393</td>\n      <td>10.246106</td>\n    </tr>\n    <tr>\n      <th>20</th>\n      <td>0.104103</td>\n      <td>(race=African-American, sex=Male, age_cat=Less...</td>\n      <td>110</td>\n      <td>156</td>\n      <td>115</td>\n      <td>370</td>\n      <td>3</td>\n      <td>751.0</td>\n      <td>0.586466</td>\n      <td>0.262974</td>\n      <td>8.476221</td>\n    </tr>\n    <tr>\n      <th>29</th>\n      <td>0.054062</td>\n      <td>(age_cat=Less than 25, race=Caucasian)</td>\n      <td>102</td>\n      <td>97</td>\n      <td>51</td>\n      <td>140</td>\n      <td>2</td>\n      <td>390.0</td>\n      <td>0.487437</td>\n      <td>0.163945</td>\n      <td>4.561988</td>\n    </tr>\n    <tr>\n      <th>37</th>\n      <td>0.039922</td>\n      <td>(sex=Female, age_cat=Less than 25)</td>\n      <td>67</td>\n      <td>108</td>\n      <td>20</td>\n      <td>93</td>\n      <td>2</td>\n      <td>288.0</td>\n      <td>0.617143</td>\n      <td>0.293651</td>\n      <td>7.854487</td>\n    </tr>\n    <tr>\n      <th>41</th>\n      <td>0.023427</td>\n      <td>(race=African-American, sex=Female, age_cat=Le...</td>\n      <td>34</td>\n      <td>59</td>\n      <td>15</td>\n      <td>61</td>\n      <td>3</td>\n      <td>169.0</td>\n      <td>0.634409</td>\n      <td>0.310916</td>\n      <td>6.185975</td>\n    </tr>\n    <tr>\n      <th>43</th>\n      <td>0.017605</td>\n      <td>(age_cat=Less than 25, race=Hispanic)</td>\n      <td>32</td>\n      <td>29</td>\n      <td>24</td>\n      <td>42</td>\n      <td>2</td>\n      <td>127.0</td>\n      <td>0.475410</td>\n      <td>0.151918</td>\n      <td>2.427393</td>\n    </tr>\n    <tr>\n      <th>45</th>\n      <td>0.015248</td>\n      <td>(sex=Male, age_cat=Less than 25, race=Hispanic)</td>\n      <td>24</td>\n      <td>27</td>\n      <td>22</td>\n      <td>37</td>\n      <td>3</td>\n      <td>110.0</td>\n      <td>0.529412</td>\n      <td>0.205919</td>\n      <td>2.995737</td>\n    </tr>\n    <tr>\n      <th>48</th>\n      <td>0.012060</td>\n      <td>(sex=Female, age_cat=Less than 25, race=Caucas...</td>\n      <td>18</td>\n      <td>42</td>\n      <td>1</td>\n      <td>26</td>\n      <td>3</td>\n      <td>87.0</td>\n      <td>0.700000</td>\n      <td>0.376508</td>\n      <td>6.318158</td>\n    </tr>\n    <tr>\n      <th>50</th>\n      <td>0.011367</td>\n      <td>(age_cat=Less than 25, race=Other)</td>\n      <td>23</td>\n      <td>19</td>\n      <td>19</td>\n      <td>21</td>\n      <td>2</td>\n      <td>82.0</td>\n      <td>0.452381</td>\n      <td>0.128889</td>\n      <td>1.755603</td>\n    </tr>\n  </tbody>\n</table>\n</div>"
     },
     "execution_count": 56,
     "metadata": {},
     "output_type": "execute_result"
    }
   ],
   "source": [
    "\n",
    "FP_fm_unfair\n"
   ],
   "metadata": {
    "collapsed": false,
    "pycharm": {
     "name": "#%%\n"
    }
   }
  },
  {
   "cell_type": "markdown",
   "source": [
    "## reproduce ProPublica by our algorithm (FPR)"
   ],
   "metadata": {
    "collapsed": false,
    "pycharm": {
     "name": "#%% md\n"
    }
   }
  },
  {
   "cell_type": "code",
   "execution_count": 55,
   "outputs": [
    {
     "name": "stdout",
     "output_type": "stream",
     "text": [
      "False_positive_error_rate_balance, original_thf = 0.32349230381024474, Thf = 0.4234923038102447\n",
      "newalg, time = 0.21779084205627441 s, num_calculation = 65\n",
      "\n",
      "num of patterns detected = 2\n",
      "[-1, -1, 0] 3696 0.44846796657381616\n",
      "\n",
      "[-1, 0, -1] 1529 0.5413533834586466\n",
      "\n"
     ]
    }
   ],
   "source": [
    "\n",
    "import pandas as pd\n",
    "from Algorithms import NewAlgGeneral_SizeFairnessValue_2_20210528 as newalg\n",
    "\n",
    "\"\"\"\n",
    "cox['sex'].replace(to_replace=['Male', 'Female'], value=[0, 1], inplace=True)\n",
    "\n",
    "\n",
    "cox['age_cat'].replace(to_replace=['Less than 25', '25 - 45', 'Greater than 45'], value=[0, 1, 2], inplace=True)\n",
    "\n",
    "cox['race'].replace(to_replace=['African-American', 'Asian', 'Caucasian', 'Hispanic', 'Native American', 'Other'], value=[0, 1, 2, 3, 4, 5], inplace=True)\n",
    "\n",
    "\n",
    "\"\"\"\n",
    "\n",
    "selected_attributes = [\"sex\", \"age_cat\", \"race\"]\n",
    "\n",
    "original_data_file = r\"../../../../InputData/COMPAS_ProPublica/compas-analysis-master/cox-parsed/cox-parsed_7214rows_cat.csv\"\n",
    "TP_data_file = r\"../../../../InputData/COMPAS_ProPublica/compas-analysis-master/cox-parsed/cox-parsed-TP-cat.csv\"\n",
    "FP_data_file = r\"../../../../InputData/COMPAS_ProPublica/compas-analysis-master/cox-parsed/cox-parsed-FP-cat.csv\"\n",
    "TN_data_file = r\"../../../../InputData/COMPAS_ProPublica/compas-analysis-master/cox-parsed/cox-parsed-TN-cat.csv\"\n",
    "FN_data_file = r\"../../../../InputData/COMPAS_ProPublica/compas-analysis-master/cox-parsed/cox-parsed-FN-cat.csv\"\n",
    "\n",
    "output_path = r'../../../../OutputData/CaseStudy/ProPublica/fp_greater_than_trying.txt'\n",
    "output_file = open(output_path, \"w\")\n",
    "\n",
    "output_file.write(\"selected_attributes: {}\\n\".format(selected_attributes))\n",
    "\n",
    "\n",
    "def read_with_att(original_data_file, selected_attributes):\n",
    "    original_data = pd.read_csv(original_data_file)\n",
    "    less_attribute_data = original_data[selected_attributes]\n",
    "    return less_attribute_data\n",
    "\n",
    "\n",
    "less_attribute_data = read_with_att(original_data_file, selected_attributes)\n",
    "TP = read_with_att(TP_data_file, selected_attributes)\n",
    "FP = read_with_att(FP_data_file, selected_attributes)\n",
    "TN = read_with_att(TN_data_file, selected_attributes)\n",
    "FN = read_with_att(FN_data_file, selected_attributes)\n",
    "\n",
    "\n",
    "# thc = 3696 this is the max thc to find black [-1, -1, 0]\n",
    "thc = 20\n",
    "time_limit = 5 * 60\n",
    "# fairness_definition = 1 # FPR = FP/(FP+TN) False_positive_error_rate_balance\n",
    "\n",
    "fairness_definition = 1  # FPR = FP/(FP+TN) False_positive_error_rate_balance, but for those treated too well\n",
    "delta_thf = 0.1\n",
    "\n",
    "output_file.write(\"fairness_definition = {}, thc = {}, delta_thf = {}\\n\".format(fairness_definition, thc, delta_thf))\n",
    "\n",
    "\n",
    "pattern_with_low_fairness1, sizes_of_patterns, fairness_values_of_patterns, \\\n",
    "num_patterns, t1_ = newalg.GraphTraverse(less_attribute_data,\n",
    "                                         TP, TN, FP, FN, delta_thf,\n",
    "                                         thc, time_limit, fairness_definition)\n",
    "\n",
    "print(\"newalg, time = {} s, num_calculation = {}\\n\".format(t1_, num_patterns))\n",
    "print(\"num of patterns detected = {}\".format(len(pattern_with_low_fairness1)))\n",
    "for i in range(len(pattern_with_low_fairness1)):\n",
    "    print(\"{} {} {}\\n\".format(str(pattern_with_low_fairness1[i]),\n",
    "                              sizes_of_patterns[i], fairness_values_of_patterns[i]))\n",
    "\n",
    "\n",
    "output_file.write(\"newalg, time = {} s, num_calculation = {}\\n\".format(t1_, num_patterns))\n",
    "output_file.write(\"num of patterns detected = {}\\n\".format(len(pattern_with_low_fairness1)))\n",
    "for i in range(len(pattern_with_low_fairness1)):\n",
    "    output_file.write(\"{} {} {}\\n\".format(str(pattern_with_low_fairness1[i]),\n",
    "                                          sizes_of_patterns[i], fairness_values_of_patterns[i]))\n",
    "\n",
    "# pattern_with_low_accuracy2, calculation2_, t2_ = naivealg.NaiveAlg(less_attribute_data,\n",
    "#                                                                    mis_class_data, tha,\n",
    "#                                                                    thc, time_limit)\n",
    "# print(\"naivealg, time = {} s, num_calculation = {}\".format(t2_, calculation2_), \"\\n\",\n",
    "#       pattern_with_low_accuracy2)\n",
    "\n",
    "\n",
    "\n"
   ],
   "metadata": {
    "collapsed": false,
    "pycharm": {
     "name": "#%%\n"
    }
   }
  },
  {
   "cell_type": "code",
   "execution_count": 5,
   "outputs": [],
   "source": [
    "\n",
    "\n"
   ],
   "metadata": {
    "collapsed": false,
    "pycharm": {
     "name": "#%%\n"
    }
   }
  },
  {
   "cell_type": "markdown",
   "source": [
    "\n",
    "\n",
    "\n",
    "# use data from ProPublica but do FNR"
   ],
   "metadata": {
    "collapsed": false,
    "pycharm": {
     "name": "#%% md\n"
    }
   }
  },
  {
   "cell_type": "markdown",
   "source": [
    "## our algorithm"
   ],
   "metadata": {
    "collapsed": false,
    "pycharm": {
     "name": "#%% md\n"
    }
   }
  },
  {
   "cell_type": "code",
   "execution_count": 16,
   "outputs": [
    {
     "name": "stdout",
     "output_type": "stream",
     "text": [
      "less_attribute_data\n",
      "      sex  age_cat  race\n",
      "0       0        2     5\n",
      "1       0        1     0\n",
      "2       0        0     0\n",
      "3       0        0     0\n",
      "4       0        1     5\n",
      "...   ...      ...   ...\n",
      "7209    0        0     0\n",
      "7210    0        0     0\n",
      "7211    0        2     5\n",
      "7212    1        1     0\n",
      "7213    1        0     3\n",
      "\n",
      "[7214 rows x 3 columns]\n",
      "False_negative_error_rate_balance, original_thf = 0.3740387573054445, Thf = 0.47403875730544454\n",
      "newalg, time = 0.053254127502441406 s, num_calculation = 65\n",
      "\n",
      "num of patterns detected = 4\n",
      "[-1, -1, 5]\n",
      "[-1, -1, 3]\n",
      "[-1, -1, 2]\n",
      "[-1, 2, -1]\n"
     ]
    }
   ],
   "source": [
    "import pandas as pd\n",
    "from Algorithms import NewAlgGeneral_1_20210528 as newalg\n",
    "\n",
    "\"\"\"\n",
    "cox['sex'].replace(to_replace=['Male', 'Female'], value=[0, 1], inplace=True)\n",
    "\n",
    "\n",
    "cox['age_cat'].replace(to_replace=['Less than 25', '25 - 45', 'Greater than 45'], value=[0, 1, 2], inplace=True)\n",
    "\n",
    "cox['race'].replace(to_replace=['African-American', 'Asian', 'Caucasian', 'Hispanic', 'Native American', 'Other'], value=[0, 1, 2, 3, 4, 5], inplace=True)\n",
    "\n",
    "\n",
    "\"\"\"\n",
    "\n",
    "selected_attributes = [\"sex\", \"age_cat\", \"race\"]\n",
    "\n",
    "original_data_file = r\"../../../../InputData/COMPAS_ProPublica/compas-analysis-master/cox-parsed/cox-parsed_7214rows_cat.csv\"\n",
    "TP_data_file = r\"../../../../InputData/COMPAS_ProPublica/compas-analysis-master/cox-parsed/cox-parsed-TP-cat.csv\"\n",
    "FP_data_file = r\"../../../../InputData/COMPAS_ProPublica/compas-analysis-master/cox-parsed/cox-parsed-FP-cat.csv\"\n",
    "TN_data_file = r\"../../../../InputData/COMPAS_ProPublica/compas-analysis-master/cox-parsed/cox-parsed-TN-cat.csv\"\n",
    "FN_data_file = r\"../../../../InputData/COMPAS_ProPublica/compas-analysis-master/cox-parsed/cox-parsed-FN-cat.csv\"\n",
    "\n",
    "output_path = r'../../../../OutputData/CaseStudy/ProPublica/fp_greater_than_trying.txt'\n",
    "output_file = open(output_path, \"w\")\n",
    "\n",
    "output_file.write(\"selected_attributes: {}\\n\".format(selected_attributes))\n",
    "\n",
    "\n",
    "\n",
    "def read_with_att(original_data_file, selected_attributes):\n",
    "    original_data = pd.read_csv(original_data_file)\n",
    "    less_attribute_data = original_data[selected_attributes]\n",
    "    return less_attribute_data\n",
    "\n",
    "\n",
    "less_attribute_data = read_with_att(original_data_file, selected_attributes)\n",
    "TP = read_with_att(TP_data_file, selected_attributes)\n",
    "FP = read_with_att(FP_data_file, selected_attributes)\n",
    "TN = read_with_att(TN_data_file, selected_attributes)\n",
    "FN = read_with_att(FN_data_file, selected_attributes)\n",
    "\n",
    "\n",
    "\n",
    "\n",
    "thc = 20\n",
    "time_limit = 5 * 60\n",
    "# fairness_definition = 1 # FPR = FP/(FP+TN) False_positive_error_rate_balance\n",
    "\n",
    "fairness_definition = 2 # FNR = FP/(FP+TN) False_positive_error_rate_balance, but for those treated too well\n",
    "delta_thf = 0.1\n",
    "\n",
    "\n",
    "\n",
    "output_file.write(\"fairness_definition = {}, thc = {}, delta_thf = {}\\n\".format(fairness_definition, thc, delta_thf))\n",
    "\n",
    "print(\"less_attribute_data\")\n",
    "print(less_attribute_data)\n",
    "\n",
    "pattern_with_low_fairness1, calculation1_, t1_ = newalg.GraphTraverse(less_attribute_data,\n",
    "                                                                      TP, TN, FP, FN, delta_thf,\n",
    "                                                                      thc, time_limit, fairness_definition)\n",
    "\n",
    "\n",
    "print(\"newalg, time = {} s, num_calculation = {}\\n\".format(t1_, calculation1_))\n",
    "print(\"num of patterns detected = {}\".format(len(pattern_with_low_fairness1)))\n",
    "for p in pattern_with_low_fairness1:\n",
    "    print(p)\n",
    "\n",
    "output_file.write(\"newalg, time = {} s, num_calculation = {}\\n\".format(t1_, calculation1_))\n",
    "output_file.write(\"num of patterns detected = {}\\n\".format(len(pattern_with_low_fairness1)))\n",
    "for p in pattern_with_low_fairness1:\n",
    "    output_file.write(str(p))\n",
    "    output_file.write(\"\\n\")\n",
    "\n",
    "# pattern_with_low_accuracy2, calculation2_, t2_ = naivealg.NaiveAlg(less_attribute_data,\n",
    "#                                                                    mis_class_data, tha,\n",
    "#                                                                    thc, time_limit)\n",
    "# print(\"naivealg, time = {} s, num_calculation = {}\".format(t2_, calculation2_), \"\\n\",\n",
    "#       pattern_with_low_accuracy2)"
   ],
   "metadata": {
    "collapsed": false,
    "pycharm": {
     "name": "#%%\n"
    }
   }
  },
  {
   "cell_type": "code",
   "execution_count": 16,
   "outputs": [],
   "source": [],
   "metadata": {
    "collapsed": false,
    "pycharm": {
     "name": "#%%\n"
    }
   }
  },
  {
   "cell_type": "markdown",
   "source": [
    "## DivExplorer"
   ],
   "metadata": {
    "collapsed": false,
    "pycharm": {
     "name": "#%% md\n"
    }
   }
  },
  {
   "cell_type": "code",
   "execution_count": null,
   "outputs": [],
   "source": [],
   "metadata": {
    "collapsed": false,
    "pycharm": {
     "name": "#%%\n"
    }
   }
  },
  {
   "cell_type": "code",
   "execution_count": 25,
   "outputs": [
    {
     "name": "stdout",
     "output_type": "stream",
     "text": [
      "Number of frequent patterns: 51\n",
      "number of unfair patterns = 49\n",
      "running time = 0.11466479301452637\n",
      "0                                                    ()\n",
      "1                                            (sex=Male)\n",
      "2                                     (age_cat=25 - 45)\n",
      "3                               (race=African-American)\n",
      "4                           (age_cat=25 - 45, sex=Male)\n",
      "5                     (sex=Male, race=African-American)\n",
      "6                                      (race=Caucasian)\n",
      "7              (age_cat=25 - 45, race=African-American)\n",
      "8                            (sex=Male, race=Caucasian)\n",
      "9     (age_cat=25 - 45, sex=Male, race=African-Ameri...\n",
      "10                            (age_cat=Greater than 45)\n",
      "11                               (age_cat=Less than 25)\n",
      "12                                         (sex=Female)\n",
      "13                    (age_cat=25 - 45, race=Caucasian)\n",
      "14                  (sex=Male, age_cat=Greater than 45)\n",
      "15                     (sex=Male, age_cat=Less than 25)\n",
      "16          (age_cat=25 - 45, sex=Male, race=Caucasian)\n",
      "17        (age_cat=Less than 25, race=African-American)\n",
      "18                        (age_cat=25 - 45, sex=Female)\n",
      "19            (race=Caucasian, age_cat=Greater than 45)\n",
      "20    (sex=Male, age_cat=Less than 25, race=African-...\n",
      "21                  (sex=Female, race=African-American)\n",
      "22                                      (race=Hispanic)\n",
      "23     (age_cat=Greater than 45, race=African-American)\n",
      "24    (sex=Male, race=Caucasian, age_cat=Greater tha...\n",
      "25                         (race=Caucasian, sex=Female)\n",
      "26                            (sex=Male, race=Hispanic)\n",
      "27    (sex=Male, age_cat=Greater than 45, race=Afric...\n",
      "28    (age_cat=25 - 45, sex=Female, race=African-Ame...\n",
      "29               (race=Caucasian, age_cat=Less than 25)\n",
      "30                                         (race=Other)\n",
      "31                     (age_cat=25 - 45, race=Hispanic)\n",
      "32                               (sex=Male, race=Other)\n",
      "33        (age_cat=25 - 45, race=Caucasian, sex=Female)\n",
      "34           (age_cat=25 - 45, sex=Male, race=Hispanic)\n",
      "35     (sex=Male, race=Caucasian, age_cat=Less than 25)\n",
      "36                (age_cat=Greater than 45, sex=Female)\n",
      "37                   (age_cat=Less than 25, sex=Female)\n",
      "38                        (age_cat=25 - 45, race=Other)\n",
      "39              (age_cat=25 - 45, sex=Male, race=Other)\n",
      "40    (race=Caucasian, age_cat=Greater than 45, sex=...\n",
      "41    (age_cat=Less than 25, sex=Female, race=Africa...\n",
      "42             (age_cat=Greater than 45, race=Hispanic)\n",
      "43                (age_cat=Less than 25, race=Hispanic)\n",
      "44    (sex=Male, age_cat=Greater than 45, race=Hispa...\n",
      "45      (sex=Male, age_cat=Less than 25, race=Hispanic)\n",
      "46                          (sex=Female, race=Hispanic)\n",
      "47    (age_cat=Greater than 45, sex=Female, race=Afr...\n",
      "49                (age_cat=Greater than 45, race=Other)\n",
      "Name: itemsets, dtype: object\n"
     ]
    }
   ],
   "source": [
    "\n",
    "# def __init__(\n",
    "#     self,\n",
    "#     X_discrete,\n",
    "#     true_class_name,\n",
    "#     predicted_class_name=None,\n",
    "#     class_map={},\n",
    "#     ignore_cols=[],\n",
    "#     log_loss_values=None,\n",
    "#     clf=None,\n",
    "#     dataset_name=\"\",\n",
    "#     type_cl=\"\",\n",
    "# ):\n",
    "\n",
    "\n",
    "min_sup=0.01 # 61.72 size threshold\n",
    "# Input: a discretized dataframe with the true class and the predicted class.\n",
    "# We specify their column names in the dataframe\n",
    "# The class_map is a dictionary to specify the positive and the negative class (e.g. {\"P\":1, \"N\":0})\n",
    "\n",
    "import time\n",
    "time1 = time.time()\n",
    "fp_diver=FP_DivergenceExplorer(df,\"ground_truth\", \"predicted\", class_map=class_map, ignore_cols=ignore_columns)\n",
    "#Extract frequent patterns (FP) and compute divergence\n",
    "##min_support: minimum support threshold\n",
    "##metrics: metrics=[\"d_fpr\", \"d_fnr\"]\n",
    "# (default metric of interest: False Positive Rate (FPR) d_fpr, False Negative Rate (FNR) d_fnr, Accuracy divergence)\n",
    "FP_fm=fp_diver.getFrequentPatternDivergence(min_support=min_sup, metrics=[\"d_accuracy\"])\n",
    "FP_fm_unfair = FP_fm[FP_fm[\"d_accuracy\"] > -0.1]\n",
    "time2 = time.time()\n",
    "print(f\"Number of frequent patterns: {len(FP_fm)}\")\n",
    "print(\"number of unfair patterns = {}\".format(len(FP_fm_unfair)))\n",
    "print(\"running time = {}\".format(time2 - time1))\n",
    "print(\"{}\".format(FP_fm_unfair[\"itemsets\"]))"
   ],
   "metadata": {
    "collapsed": false,
    "pycharm": {
     "name": "#%%\n"
    }
   }
  },
  {
   "cell_type": "code",
   "execution_count": 25,
   "outputs": [],
   "source": [],
   "metadata": {
    "collapsed": false,
    "pycharm": {
     "name": "#%%\n"
    }
   }
  },
  {
   "cell_type": "markdown",
   "source": [
    "# Medical dataset"
   ],
   "metadata": {
    "collapsed": false,
    "pycharm": {
     "name": "#%% md\n"
    }
   }
  },
  {
   "cell_type": "markdown",
   "source": [
    "## DivExplorer"
   ],
   "metadata": {
    "collapsed": false,
    "pycharm": {
     "name": "#%% md\n"
    }
   }
  },
  {
   "cell_type": "code",
   "execution_count": 38,
   "outputs": [
    {
     "name": "stdout",
     "output_type": "stream",
     "text": [
      "7915 942 5576 1014 383\n"
     ]
    }
   ],
   "source": [
    "\n",
    "data_file = r\"../../../../InputData/MedicalDataset/train/train_41att_with_labels.csv\"\n",
    "df= pd.read_csv(data_file)\n",
    "TP = df[(df['ground_truth'] == 1) & (df['predicted'] == 1)]\n",
    "TN = df[(df['ground_truth'] == 0) & (df['predicted'] == 0)]\n",
    "FP = df[(df['ground_truth'] == 0) & (df['predicted'] == 1)]\n",
    "FN = df[(df['ground_truth'] == 1) & (df['predicted'] == 0)]\n",
    "print(len(df), len(TP), len(TN), len(FP), len(FN))\n",
    "\n"
   ],
   "metadata": {
    "collapsed": false,
    "pycharm": {
     "name": "#%%\n"
    }
   }
  },
  {
   "cell_type": "code",
   "execution_count": null,
   "outputs": [],
   "source": [
    "\n",
    "data_file = r\"../../../../InputData/MedicalDataset/train/train_41att_with_labels.csv\"\n",
    "\n",
    "df= pd.read_csv(data_file)\n",
    "class_map={'N': 0, 'P': 1}\n",
    "print(len(df))\n",
    "df.head()\n"
   ],
   "metadata": {
    "collapsed": false,
    "pycharm": {
     "name": "#%%\n"
    }
   }
  },
  {
   "cell_type": "code",
   "execution_count": 36,
   "outputs": [
    {
     "ename": "ValueError",
     "evalue": "list.remove(x): x not in list",
     "output_type": "error",
     "traceback": [
      "\u001B[0;31m---------------------------------------------------------------------------\u001B[0m",
      "\u001B[0;31mValueError\u001B[0m                                Traceback (most recent call last)",
      "\u001B[0;32m<ipython-input-36-150af3a9b818>\u001B[0m in \u001B[0;36m<module>\u001B[0;34m\u001B[0m\n\u001B[1;32m      3\u001B[0m selected_attributes = [\"REGION\", \"SEX\", \"MARRY\", \"RACE\", \"FTSTU\", \"ACTDTY\", \"HONRDC\",\n\u001B[1;32m      4\u001B[0m                        \"RTHLTH\", \"MNHLTH\", \"HIBPDX\", \"CHDDX\", \"ANGIDX\", \"MIDX\"]\n\u001B[0;32m----> 5\u001B[0;31m \u001B[0mignore_columns\u001B[0m\u001B[0;34m.\u001B[0m\u001B[0mremove\u001B[0m\u001B[0;34m(\u001B[0m\u001B[0;34m\"predicted\"\u001B[0m\u001B[0;34m)\u001B[0m\u001B[0;34m\u001B[0m\u001B[0;34m\u001B[0m\u001B[0m\n\u001B[0m\u001B[1;32m      6\u001B[0m \u001B[0mignore_columns\u001B[0m\u001B[0;34m.\u001B[0m\u001B[0mremove\u001B[0m\u001B[0;34m(\u001B[0m\u001B[0;34m\"ground_truth\"\u001B[0m\u001B[0;34m)\u001B[0m\u001B[0;34m\u001B[0m\u001B[0;34m\u001B[0m\u001B[0m\n\u001B[1;32m      7\u001B[0m \u001B[0;34m\u001B[0m\u001B[0m\n",
      "\u001B[0;31mValueError\u001B[0m: list.remove(x): x not in list"
     ]
    }
   ],
   "source": [
    "\n",
    "ignore_columns = df.columns.to_list()\n",
    "# 13 attributes\n",
    "selected_attributes = [\"REGION\", \"SEX\", \"MARRY\", \"RACE\", \"FTSTU\", \"ACTDTY\", \"HONRDC\", \"RTHLTH\", \"MNHLTH\", \"HIBPDX\", \"CHDDX\", \"ANGIDX\", \"MIDX\"]\n",
    "ignore_columns.remove(\"predicted\")\n",
    "ignore_columns.remove(\"ground_truth\")\n",
    "\n",
    "for att in selected_attributes[:10]:\n",
    "    ignore_columns.remove(att)\n",
    "\n",
    "\n",
    "min_sup=0.014 # 110 size threshold\n",
    "# Input: a discretized dataframe with the true class and the predicted class.\n",
    "# We specify their column names in the dataframe\n",
    "# The class_map is a dictionary to specify the positive and the negative class (e.g. {\"P\":1, \"N\":0})\n",
    "\n",
    "import time\n",
    "time1 = time.time()\n",
    "fp_diver=FP_DivergenceExplorer(df,\"ground_truth\", \"predicted\", class_map=class_map, ignore_cols=ignore_columns)\n",
    "#Extract frequent patterns (FP) and compute divergence\n",
    "##min_support: minimum support threshold\n",
    "##metrics: metrics=[\"d_fpr\", \"d_fnr\"]\n",
    "# (default metric of interest: False Positive Rate (FPR) d_fpr, False Negative Rate (FNR) d_fnr, Accuracy divergence)\n",
    "FP_fm=fp_diver.getFrequentPatternDivergence(min_support=min_sup, metrics=[\"d_accuracy\"])\n",
    "FP_fm_unfair = FP_fm[FP_fm[\"d_accuracy\"] > 0.1]\n",
    "time2 = time.time()\n",
    "print(f\"Number of frequent patterns: {len(FP_fm)}\")\n",
    "print(\"number of unfair patterns = {}\".format(len(FP_fm_unfair)))\n",
    "print(\"running time = {}\".format(time2 - time1))\n",
    "print(\"{}\".format(FP_fm_unfair[\"itemsets\"]))\n",
    "\n"
   ],
   "metadata": {
    "collapsed": false,
    "pycharm": {
     "name": "#%%\n"
    }
   }
  },
  {
   "cell_type": "code",
   "execution_count": 25,
   "outputs": [],
   "source": [],
   "metadata": {
    "collapsed": false,
    "pycharm": {
     "name": "#%%\n"
    }
   }
  },
  {
   "cell_type": "code",
   "execution_count": null,
   "outputs": [],
   "source": [],
   "metadata": {
    "collapsed": false,
    "pycharm": {
     "name": "#%%\n"
    }
   }
  }
 ],
 "metadata": {
  "kernelspec": {
   "display_name": "Python 3",
   "language": "python",
   "name": "python3"
  },
  "language_info": {
   "codemirror_mode": {
    "name": "ipython",
    "version": 2
   },
   "file_extension": ".py",
   "mimetype": "text/x-python",
   "name": "python",
   "nbconvert_exporter": "python",
   "pygments_lexer": "ipython2",
   "version": "2.7.6"
  }
 },
 "nbformat": 4,
 "nbformat_minor": 0
}