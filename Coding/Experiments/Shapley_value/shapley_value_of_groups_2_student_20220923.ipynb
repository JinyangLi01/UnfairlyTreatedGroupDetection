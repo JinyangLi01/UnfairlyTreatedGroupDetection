{
 "cells": [
  {
   "cell_type": "code",
   "execution_count": 1,
   "metadata": {
    "collapsed": true
   },
   "outputs": [],
   "source": [
    "import copy\n",
    "\n",
    "import pandas as pd\n",
    "import sys\n",
    "import math\n",
    "\n",
    "sys.path.append('../../')\n",
    "from Algorithms import GlobalBounds as globalbounds\n",
    "\n",
    "import numpy as np\n",
    "import copy\n",
    "import sys\n",
    "import math\n",
    "from sklearn.linear_model import LinearRegression\n",
    "import shap\n",
    "import matplotlib.pyplot as plt\n",
    "import seaborn as sns\n",
    "from matplotlib.ticker import FuncFormatter\n",
    "\n",
    "from Algorithms import PropBounds as propbounds\n",
    "\n",
    "plt.rc('text', usetex=True)\n",
    "plt.rc('font', family='serif')\n",
    "plt.rcParams['font.size'] = '22'\n",
    "\n",
    "sns.set_palette(\"Paired\")\n",
    "# sns.set_palette(\"deep\")\n",
    "sns.set_context(\"poster\", font_scale=2)\n",
    "sns.set_style(\"whitegrid\")\n",
    "# sns.palplot(sns.color_palette(\"deep\", 10))\n",
    "# sns.palplot(sns.color_palette(\"Paired\", 9))\n",
    "\n",
    "line_style = ['o-', 's--', '^:', '-.p']\n",
    "color = ['C0', 'C1', 'C2', 'C3', 'C4', 'C5', 'C6', 'C7', 'C8']\n",
    "# plt_title = [\"BlueNile\", \"COMPAS\", \"Credit Card\"]\n",
    "#\n",
    "# label = [\"PropBounds\", \"IterTD\"]\n",
    "line_width = 8\n",
    "marker_size = 20\n",
    "f_size = (18, 16)\n",
    "FONTSIZE=50"
   ]
  },
  {
   "cell_type": "code",
   "execution_count": 2,
   "outputs": [],
   "source": [
    "def string2list(st):\n",
    "    p = list()\n",
    "    idx = 0\n",
    "    item = ''\n",
    "    i = ''\n",
    "    for i in st:\n",
    "        if i == '|':\n",
    "            if item == '':\n",
    "                p.append(-1)\n",
    "            else:\n",
    "                if item.isnumeric():\n",
    "                    p.append(int(item))\n",
    "                else:\n",
    "                    p.append(item)\n",
    "                item = ''\n",
    "            idx += 1\n",
    "        else:\n",
    "            item += i\n",
    "    if i != '|':\n",
    "        if item.isnumeric():\n",
    "            p.append(int(item))\n",
    "        else:\n",
    "            p.append(item)\n",
    "    else:\n",
    "        p.append(-1)\n",
    "    return p\n",
    "\n",
    "\n",
    "def P1DominatedByP2(P1, P2):\n",
    "    length = len(P1)\n",
    "    for i in range(length):\n",
    "        if P1[i] == -1:\n",
    "            if P2[i] != -1:\n",
    "                return False\n",
    "        if P1[i] != -1:\n",
    "            if P2[i] != P1[i] and P2[i] != -1:\n",
    "                return False\n",
    "    return True\n",
    "\n",
    "def idx_of_tuples_in_group(group, data):\n",
    "    def belong_to_group(row):\n",
    "        nonlocal group\n",
    "        if P1DominatedByP2(row, group):\n",
    "            return True\n",
    "        else:\n",
    "            return False\n",
    "    data[\"in\"] = data.apply(belong_to_group, axis=1)\n",
    "    return data[data[\"in\"] == True].index\n",
    "\n",
    "def average_shapley_values_of_group(data, group, all_attributes, shap_values):\n",
    "    # get all tuples in this group\n",
    "    data1 = data[all_attributes].copy(deep=True)\n",
    "    tuples_idx = idx_of_tuples_in_group(group, data1).to_list()\n",
    "    if len(tuples_idx) == 0:\n",
    "        # output_file.write(\"\\ngroup {} size {}\\n\".format(group, len(tuples_idx)))\n",
    "        print(\"group {} size {}\".format(group, len(tuples_idx)))\n",
    "        return []\n",
    "    else:\n",
    "        avg = np.average(shap_values.values[tuples_idx], axis=0)\n",
    "        print(\"group {} size {}\".format(group, len(tuples_idx)))\n",
    "        # print(avg)\n",
    "        return list(avg)\n",
    "\n",
    "\n",
    "def idx_of_tuples_in_group_w_attribute(group, data, att, value):\n",
    "    def belong_to_group(row):\n",
    "        nonlocal group\n",
    "        if P1DominatedByP2(row, group):\n",
    "            if row[att] == value:\n",
    "                return True\n",
    "            else:\n",
    "                return False\n",
    "        else:\n",
    "            return False\n",
    "    data[\"in\"] = data.apply(belong_to_group, axis=1)\n",
    "    idx = data[data[\"in\"] == True].index\n",
    "    data.drop(columns=[\"in\"], axis=1, inplace=True)\n",
    "    return idx\n",
    "\n",
    "\n",
    "def shapley_values_att_value_seperated(data, group, all_attributes, shap_values, output_file):\n",
    "    # get all tuples in this group\n",
    "    data1 = data[all_attributes].copy(deep=True)\n",
    "    att_idx = 0\n",
    "    for att in all_attributes:\n",
    "        for v in range(int(data1.describe()[att][\"min\"]), int(data1.describe()[att][\"max\"]) + 1):\n",
    "            tuples_idx = idx_of_tuples_in_group_w_attribute(group, data1, att, v).to_list()\n",
    "            if len(tuples_idx) == 0:\n",
    "                output_file.write(\"group {} att {} = {} size {}\\n\".format(group, att, v, len(tuples_idx)))\n",
    "                print(\"group {} att {} = {} size {}\".format(group, att, v, len(tuples_idx)))\n",
    "            else:\n",
    "                values_of_group = shap_values.values[tuples_idx]\n",
    "                avg = np.average(values_of_group, axis=0)\n",
    "                print(\"group {} att {} = {} size {}\\n avg {}\".format(group, att, v, len(tuples_idx), avg))\n",
    "                output_file.write(\"group {} att {} = {} size {} avg {}\\n\".format(group, att, v, len(tuples_idx), avg[att_idx]))\n",
    "        att_idx += 1\n",
    "\n",
    "def tuples_in_group(g, data, selected_attributes):\n",
    "    tuple_idx = idx_of_tuples_in_group(g, data[selected_attributes].copy(deep=True))\n",
    "    tuples = data.iloc[tuple_idx]\n",
    "    return tuples\n",
    "\n",
    "def tuples_not_in_group(g, data, selected_attributes):\n",
    "    tuple_idx = idx_of_tuples_in_group(g, data[selected_attributes].copy(deep=True))\n",
    "    return data.drop(tuple_idx)\n",
    "\n",
    "# def check_another_group_global_bounds(g, data, selected_attributes, thc, Lowerbounds, k):\n",
    "#     size_whole_data = len(tuples_in_group(g, data, selected_attributes))\n",
    "#     if size_whole_data < thc:\n",
    "#         print(\"group g size too small\", size_whole_data)\n",
    "#         return False\n",
    "#     size_topk = len(tuples_in_group(g, data[:k], selected_attributes))\n",
    "#     if size_topk < Lowerbounds[0]:\n",
    "#         print(\"group g doesn't have enough representation in top k\", size_topk)\n",
    "#         return False\n",
    "#     return True\n",
    "\n",
    "\n",
    "# def check_another_group_prop_bounds(g, data, selected_attributes, thc, alpha, k):\n",
    "#     size_whole_data = len(tuples_in_group(g, data, selected_attributes))\n",
    "#     if size_whole_data < thc:\n",
    "#         print(\"group g size too small\", size_whole_data)\n",
    "#         return False\n",
    "#     size_topk = len(tuples_in_group(g, data[:k], selected_attributes))\n",
    "#     lowerbound = alpha * size_whole_data * k / len(data)\n",
    "#     print(size_whole_data, size_topk, lowerbound)\n",
    "#     if size_topk < lowerbound:\n",
    "#         print(\"group g doesn't have enough representation in top k\", size_topk)\n",
    "#         return False\n",
    "#     return True\n",
    "\n",
    "\n",
    "# def plot_distribution_number(ranked_data, attribute, group, another_group, k):\n",
    "#     x_list = ranked_data[attribute].unique()\n",
    "#     x_list.sort()\n",
    "#     tuples = tuples_in_group(group, ranked_data, selected_attributes)\n",
    "#     s = tuples[attribute].value_counts().sort_index()\n",
    "#     group_value_dis = [s[i] if i in s else 0 for i in x_list]\n",
    "#     s = ranked_data[attribute].value_counts().sort_index()\n",
    "#     whole_data_dis = [s[i] if i in s else 0 for i in x_list]\n",
    "#     s = tuples_not_in_group(group, ranked_data, selected_attributes)[attribute].value_counts().sort_index()\n",
    "#     other_data_dis = [s[i] if i in s else 0 for i in x_list]\n",
    "#     s = tuples_in_group(another_group, ranked_data, selected_attributes)[attribute].value_counts().sort_index()\n",
    "#     total = sum(s)\n",
    "#     another_group_dis = [s[i] if i in s else 0 for i in x_list]\n",
    "#\n",
    "#\n",
    "#     s = ranked_data[:k][attribute].value_counts().sort_index()\n",
    "#     topkdis = [s[i] if i in s else 0 for i in x_list]\n",
    "#\n",
    "#     index = np.arange(len(x_list))\n",
    "#     bar_width = 0.2\n",
    "#\n",
    "#     fig, ax = plt.subplots(1, 1, figsize=(20, 8))\n",
    "#\n",
    "#     index = np.arange(len(x_list))\n",
    "#     plt.bar(index, group_value_dis, bar_width, color=color[0], label=\"group\")\n",
    "#     plt.bar(index + bar_width, whole_data_dis, bar_width,  color=color[2], label=\"whole data\")\n",
    "#     plt.bar(index + bar_width * 2, other_data_dis, bar_width,  color=color[4], label=\"other data\")\n",
    "#     plt.bar(index + bar_width * 3, another_group_dis, bar_width,  color=color[6], label=\"non-problematic group\")\n",
    "#     plt.bar(index + bar_width * 4, topkdis, bar_width,  color=color[8], label=\"topk\")\n",
    "#     # plt.xticks(index + bar_width, x_list)\n",
    "#     # plt.xticks(index, x_list)\n",
    "#\n",
    "#     plt.ylabel('number of tuples')\n",
    "#     plt.xlabel('value of attribute ' + attribute)\n",
    "#     # plt.yscale('log')\n",
    "#     plt.legend(loc='best', fontsize=25)\n",
    "#\n",
    "#     plt.tight_layout()\n",
    "#     # plt.savefig(\"adult_time.png\", bbox_inches='tight')\n",
    "#     plt.show()\n",
    "\n"
   ],
   "metadata": {
    "collapsed": false
   }
  },
  {
   "cell_type": "code",
   "execution_count": 19,
   "outputs": [],
   "source": [
    "\n",
    "def plot_distribution_ratio(ranked_data, attribute, original_att, group, group_name, k, axis):\n",
    "    x_list = ranked_data[attribute].unique()\n",
    "    x_list.sort()\n",
    "    print(\"unique values of {} = {}\".format(attribute, x_list))\n",
    "\n",
    "    tuples = tuples_in_group(group, ranked_data, selected_attributes)\n",
    "    print(\"num of tuples in group {} = {}\".format(len(tuples), group))\n",
    "    s = tuples[attribute].value_counts().sort_index()\n",
    "    total = sum(s)\n",
    "    group_value_dis = [s[i]/total if i in s else 0 for i in x_list]\n",
    "\n",
    "    s = ranked_data[:k][attribute].value_counts().sort_index()\n",
    "    total = sum(s)\n",
    "    topkdis = [s[i]/total if i in s else 0 for i in x_list]\n",
    "\n",
    "    bar_width = 0.45\n",
    "    index = np.arange(len(x_list))\n",
    "    print(index)\n",
    "    axis.bar(index, group_value_dis, bar_width, color=color[3], label=group_name)\n",
    "    axis.bar(index + bar_width, topkdis, bar_width,  color=color[7], label=\"top-k\")\n",
    "    # plt.xticks(index + bar_width, x_list)\n",
    "    # plt.xticks(range(x_list[0], x_list[-1]+1))\n",
    "    index2 = [0, 2, 4, 6, 8, 10, 12, 14, 16, 18]\n",
    "    axis.set_xticks([x + bar_width/2 for x in index2], [0, 4, 6, 8, 10, 12, 14, 16, 18, 20], fontsize=FONTSIZE)\n",
    "    axis.set_yticks([0, 0.1, 0.2, 0.3], [0, 0.1, 0.2, 0.3], fontsize=FONTSIZE)\n",
    "    axis.set_ylabel('Proportion', fontsize=FONTSIZE)\n",
    "    axis.set_xlabel('Value of '+ original_att, fontsize=FONTSIZE)\n",
    "    axis.legend(loc='upper left', fontsize=40, bbox_to_anchor=(-0.02, 1.04))\n",
    "    # plt.tight_layout()\n",
    "    # plt.savefig(\"adult_time.png\", bbox_inches='tight')\n",
    "    # plt.show()\n",
    "    return axis\n"
   ],
   "metadata": {
    "collapsed": false
   }
  },
  {
   "cell_type": "code",
   "execution_count": 4,
   "outputs": [],
   "source": [
    "\n",
    "def plot_average_shap_value_of_group(data, group, selected_attributes, all_attributes_original, shap_values, axis):\n",
    "    s = average_shapley_values_of_group(data, group, selected_attributes, shap_values)\n",
    "    df=pd.DataFrame({'Attribute':all_attributes_original, 'Shapley values':s})\n",
    "\n",
    "    df.sort_values(by='Shapley values',key=abs, inplace=True,ascending=False)\n",
    "\n",
    "    small_shap_values = df[6:]\n",
    "    summary_shap_values = df[:6]\n",
    "\n",
    "    summary_shap_values = summary_shap_values.append({'Attribute': 'other positive Shapley values', 'Shapley values': sum([x if x > 0 else 0 for x in small_shap_values['Shapley values']])}, ignore_index=True)\n",
    "    summary_shap_values = summary_shap_values.append({'Attribute': 'other negative Shapley values', 'Shapley values': sum([x if x < 0 else 0 for x in small_shap_values['Shapley values']])}, ignore_index=True)\n",
    "\n",
    "    print(summary_shap_values)\n",
    "\n",
    "    summary_shap_values = summary_shap_values[::-1]\n",
    "    # summary_shap_values.plot(kind='barh',x='Attribute',y='Shapley values',color=[color[4] if t > 0 else color[0] for t in summary_shap_values['Shapley values']], figsize=(18, 16), legend=False, fontsize=FONTSIZE, ax=axis)\n",
    "    summary_shap_values.plot(kind='barh',x='Attribute',y='Shapley values',color=[color[4] if t > 0 else color[0] for t in summary_shap_values['Shapley values']], legend=False, fontsize=FONTSIZE, ax=axis)\n",
    "    axis.set_ylabel('Attribute', fontsize=FONTSIZE)\n",
    "    # plt.show()\n",
    "    # plt.xlabel('Shapley values', fontsize=FONTSIZE)\n",
    "    # plt.ylabel('Attribute', fontsize=FONTSIZE)\n",
    "    # plt.tight_layout()\n",
    "    # fig.set(xlabel='Shapley values')\n",
    "    # return plt\n",
    "\n"
   ],
   "metadata": {
    "collapsed": false
   }
  },
  {
   "cell_type": "code",
   "execution_count": 4,
   "outputs": [],
   "source": [],
   "metadata": {
    "collapsed": false
   }
  },
  {
   "cell_type": "code",
   "execution_count": 4,
   "outputs": [],
   "source": [],
   "metadata": {
    "collapsed": false
   }
  },
  {
   "cell_type": "markdown",
   "source": [
    "# student data"
   ],
   "metadata": {
    "collapsed": false
   }
  },
  {
   "cell_type": "code",
   "execution_count": 5,
   "outputs": [],
   "source": [
    "all_attributes = ['school_C', 'sex_C', 'age_C', 'address_C', 'famsize_C', 'Pstatus_C', 'Medu_C',\n",
    "                      'Fedu_C', 'Mjob_C', 'Fjob_C', 'reason_C', 'guardian_C', 'traveltime_C', 'studytime_C',\n",
    "                      'failures_C', 'schoolsup_C', 'famsup_C', 'paid_C', 'activities_C', 'nursery_C', 'higher_C',\n",
    "                      'internet_C', 'romantic_C', 'famrel_C', 'freetime_C', 'goout_C', 'Dalc_C', 'Walc_C',\n",
    "                      'health_C', 'absences_C', 'G1_C', 'G2_C', 'G3_C']\n",
    "\n",
    "all_attributes_original = ['student\\'s school', 'student\\'s sex', 'student\\'s age',\n",
    "                  'student\\'s home address type', 'family size', 'parent\\'s cohabitation status',\n",
    "                  'mother\\'s education', 'father\\'s education', 'mother\\'s job',\n",
    "                  'father\\'s job', 'reason to choose this school', 'student\\'s guardian',\n",
    "                  'home to school travel time', 'weekly study time', 'number of past class failures',\n",
    "                  'extra educational support', 'family educational support', 'extra paid classes within the course subject',\n",
    "                  'extra-curricular activities', 'attended nursery school', 'wants to take higher education',\n",
    "                  'Internet access at home', 'with a romantic relationship', 'quality of family relationships',\n",
    "                  'free time after school', 'going out with friends', 'workday alcohol consumption',\n",
    "                  'weekend alcohol consumption', 'current health status', 'number of school absences',\n",
    "                  'first period grade', 'second period grade', 'final grade']\n",
    "\n",
    "\n",
    "original_data_file = r\"../../../InputData/StudentDataset/ForRanking_1/student-mat_cat_ranked.csv\"\n",
    "\n",
    "ranked_data = pd.read_csv(original_data_file, index_col=False)\n"
   ],
   "metadata": {
    "collapsed": false
   }
  },
  {
   "cell_type": "markdown",
   "source": [
    "# 16 att"
   ],
   "metadata": {
    "collapsed": false
   }
  },
  {
   "cell_type": "code",
   "execution_count": 7,
   "outputs": [
    {
     "name": "stdout",
     "output_type": "stream",
     "text": [
      "68\n",
      "[-1, -1, -1, -1, -1, -1, -1, 4, -1, -1, -1, -1, -1, -1, -1, -1]\n",
      "[-1, -1, -1, -1, -1, -1, -1, -1, -1, 'services', -1, -1, -1, -1, -1, -1]\n",
      "[-1, 'M', -1, -1, 'GT3', 'T', -1, -1, -1, -1, -1, -1, -1, -1, -1, -1]\n",
      "[-1, 'M', -1, 'U', -1, 'T', -1, -1, -1, -1, -1, -1, 1, -1, -1, -1]\n",
      "[-1, 'M', 1, -1, -1, 'T', -1, -1, -1, -1, -1, -1, 1, -1, -1, -1]\n",
      "[-1, 'M', -1, -1, 'GT3', -1, -1, -1, -1, -1, -1, -1, 1, -1, -1, -1]\n",
      "[-1, -1, -1, -1, -1, -1, -1, -1, -1, -1, -1, -1, -1, 3, -1, -1]\n",
      "[-1, -1, -1, -1, 'GT3', -1, -1, -1, -1, -1, -1, 'mother', 1, -1, -1, -1]\n",
      "[-1, -1, -1, -1, -1, -1, -1, -1, -1, -1, -1, -1, -1, -1, -1, 'yes']\n",
      "[-1, -1, -1, -1, 'GT3', 'T', -1, -1, -1, -1, -1, 'mother', -1, -1, 0, -1]\n",
      "[-1, -1, -1, -1, -1, -1, 2, -1, -1, -1, -1, -1, -1, -1, -1, -1]\n",
      "[-1, 'F', -1, -1, -1, -1, -1, -1, -1, -1, -1, -1, -1, -1, -1, -1]\n",
      "[-1, -1, 1, -1, -1, 'T', -1, -1, -1, -1, -1, 'mother', 1, -1, -1, -1]\n",
      "[-1, 'M', -1, -1, -1, -1, -1, -1, -1, -1, -1, 'mother', 1, -1, -1, -1]\n",
      "[-1, -1, -1, -1, -1, -1, -1, -1, -1, 'other', -1, 'mother', -1, -1, -1, -1]\n",
      "[-1, 'M', -1, -1, 'GT3', -1, -1, -1, -1, -1, -1, 'mother', -1, -1, -1, -1]\n",
      "[-1, -1, 1, 'U', -1, 'T', 4, -1, -1, -1, -1, -1, 1, -1, -1, -1]\n",
      "[-1, -1, -1, -1, -1, 'T', -1, -1, -1, 'other', -1, -1, -1, -1, -1, -1]\n",
      "[-1, -1, -1, 'R', -1, -1, -1, -1, -1, -1, -1, -1, -1, -1, -1, -1]\n",
      "[-1, -1, 1, -1, 'GT3', 'T', -1, -1, -1, -1, -1, 'mother', -1, -1, -1, -1]\n",
      "[-1, -1, -1, -1, 'GT3', 'T', -1, -1, -1, -1, -1, 'mother', -1, -1, -1, 'no']\n",
      "[-1, -1, -1, -1, -1, -1, -1, 3, -1, -1, -1, -1, -1, -1, -1, -1]\n",
      "[-1, -1, -1, -1, -1, -1, 3, -1, -1, -1, -1, -1, -1, -1, -1, -1]\n",
      "[-1, -1, -1, 'U', -1, -1, 4, -1, -1, -1, -1, 'mother', -1, -1, -1, -1]\n",
      "[-1, -1, -1, -1, -1, -1, -1, -1, -1, -1, 'reputation', -1, -1, -1, -1, -1]\n",
      "[-1, 'M', -1, -1, -1, 'T', -1, -1, -1, -1, -1, 'mother', -1, -1, -1, -1]\n",
      "['GP', 'M', 1, 'U', -1, 'T', -1, -1, -1, -1, -1, -1, -1, -1, -1, -1]\n",
      "[-1, -1, 2, -1, -1, -1, -1, -1, -1, -1, -1, -1, -1, -1, -1, -1]\n",
      "[-1, -1, -1, -1, -1, -1, -1, -1, -1, -1, 'course', -1, -1, -1, -1, -1]\n",
      "[-1, -1, -1, 'U', 'GT3', -1, -1, -1, -1, -1, -1, 'mother', -1, -1, -1, -1]\n",
      "[-1, -1, -1, -1, -1, -1, -1, -1, -1, -1, -1, -1, -1, 1, -1, -1]\n",
      "[-1, -1, -1, 'U', 'GT3', -1, 4, -1, -1, -1, -1, -1, -1, -1, -1, -1]\n",
      "[-1, 'M', -1, -1, -1, -1, 4, -1, -1, -1, -1, -1, -1, -1, -1, -1]\n",
      "[-1, -1, -1, -1, 'LE3', -1, -1, -1, -1, -1, -1, -1, -1, -1, -1, -1]\n",
      "[-1, -1, -1, -1, -1, -1, -1, 1, -1, -1, -1, -1, -1, -1, -1, -1]\n",
      "[-1, -1, -1, -1, -1, -1, -1, -1, -1, -1, -1, 'father', -1, -1, -1, -1]\n",
      "[-1, 'M', -1, -1, -1, -1, -1, -1, -1, 'other', -1, -1, -1, -1, -1, -1]\n",
      "[-1, -1, -1, -1, 'GT3', -1, -1, -1, -1, 'other', -1, -1, -1, -1, -1, -1]\n",
      "[-1, -1, -1, -1, -1, -1, -1, -1, -1, 'other', -1, -1, 1, -1, -1, -1]\n",
      "[-1, 'M', -1, 'U', 'GT3', -1, -1, -1, -1, -1, -1, -1, -1, -1, -1, -1]\n",
      "['GP', -1, 1, 'U', -1, 'T', -1, -1, -1, -1, -1, 'mother', -1, -1, 0, 'no']\n",
      "[-1, -1, 1, -1, -1, 'T', 4, -1, -1, -1, -1, 'mother', -1, -1, -1, -1]\n",
      "[-1, -1, -1, -1, -1, -1, -1, -1, 'teacher', -1, -1, -1, -1, -1, -1, -1]\n",
      "[-1, -1, 1, 'U', 'GT3', 'T', -1, -1, -1, -1, -1, -1, 1, -1, -1, 'no']\n",
      "[-1, -1, -1, -1, -1, -1, -1, 2, -1, -1, -1, -1, -1, -1, -1, -1]\n",
      "[-1, -1, -1, -1, -1, -1, -1, -1, -1, -1, 'home', -1, -1, -1, -1, -1]\n",
      "[-1, -1, -1, -1, 'GT3', 'T', 4, -1, -1, -1, -1, -1, -1, -1, -1, -1]\n",
      "[-1, -1, -1, -1, -1, -1, -1, -1, -1, -1, -1, -1, 2, -1, -1, -1]\n",
      "[-1, -1, -1, -1, -1, -1, -1, -1, 'services', -1, -1, -1, -1, -1, -1, -1]\n",
      "[-1, -1, -1, 'U', -1, -1, -1, -1, -1, 'other', -1, -1, -1, -1, -1, -1]\n",
      "[-1, 'M', -1, 'U', -1, -1, -1, -1, -1, -1, -1, 'mother', -1, -1, -1, -1]\n",
      "[-1, -1, 1, -1, -1, -1, 4, -1, -1, -1, -1, 'mother', -1, -1, 0, -1]\n",
      "[-1, -1, 1, -1, 'GT3', -1, -1, -1, -1, -1, -1, 'mother', -1, -1, 0, 'no']\n",
      "[-1, -1, -1, -1, -1, -1, -1, -1, -1, -1, -1, -1, -1, 2, -1, -1]\n",
      "[-1, -1, -1, -1, 'GT3', -1, 4, -1, -1, -1, -1, -1, 1, -1, -1, -1]\n",
      "[-1, -1, -1, -1, -1, -1, -1, -1, 'at_home', -1, -1, -1, -1, -1, -1, -1]\n",
      "[-1, -1, -1, -1, 'GT3', -1, 4, -1, -1, -1, -1, 'mother', -1, -1, -1, -1]\n",
      "[-1, -1, -1, -1, -1, -1, 4, -1, -1, -1, -1, 'mother', 1, -1, -1, -1]\n",
      "['GP', -1, -1, -1, -1, 'T', 4, -1, -1, -1, -1, 'mother', -1, -1, -1, -1]\n",
      "[-1, -1, -1, 'U', -1, 'T', -1, -1, -1, -1, -1, 'mother', 1, -1, -1, 'no']\n",
      "[-1, -1, -1, -1, -1, -1, 1, -1, -1, -1, -1, -1, -1, -1, -1, -1]\n",
      "[-1, -1, 1, 'U', -1, 'T', 4, -1, -1, -1, -1, -1, -1, -1, 0, -1]\n",
      "[-1, -1, -1, -1, -1, -1, -1, -1, -1, -1, -1, -1, -1, -1, 1, -1]\n",
      "[-1, -1, 1, -1, -1, -1, -1, -1, -1, 'other', -1, -1, -1, -1, -1, -1]\n",
      "[-1, -1, -1, -1, -1, -1, 4, -1, -1, 'other', -1, -1, -1, -1, -1, -1]\n",
      "[-1, -1, -1, -1, -1, 'T', 4, -1, -1, -1, -1, 'mother', -1, -1, 0, -1]\n",
      "[-1, -1, 1, -1, 'GT3', -1, 4, -1, -1, -1, -1, -1, -1, -1, -1, -1]\n",
      "[-1, -1, -1, -1, -1, -1, -1, -1, 'other', -1, -1, -1, -1, -1, -1, -1]\n"
     ]
    }
   ],
   "source": [
    "\n",
    "selected_attributes = all_attributes[:16]\n",
    "\n",
    "k = 49\n",
    "k_min = k\n",
    "k_max = k\n",
    "thc = 50\n",
    "Lowerbounds = [20]\n",
    "time_limit = 5*60\n",
    "result_global_bounds, num_patterns_visited1_, t1_ \\\n",
    "    = globalbounds.GraphTraverse(\n",
    "    ranked_data[selected_attributes].copy(deep=True), selected_attributes, thc,\n",
    "    Lowerbounds,\n",
    "    k_min, k_max, time_limit)\n",
    "# print(result_global_bounds)\n",
    "groups_global_bounds = [string2list(s) for s in list(result_global_bounds[0])]\n",
    "print(len(groups_global_bounds))\n",
    "for g in groups_global_bounds:\n",
    "    print(g)\n"
   ],
   "metadata": {
    "collapsed": false
   }
  },
  {
   "cell_type": "code",
   "execution_count": 8,
   "outputs": [
    {
     "name": "stdout",
     "output_type": "stream",
     "text": [
      "[-1, -1, -1, -1, 'GT3', 'T', -1, -1, -1, -1, -1, -1, -1, 3, -1, -1]\n",
      "[-1, -1, -1, -1, -1, -1, -1, -1, -1, -1, -1, -1, -1, -1, -1, 'yes']\n",
      "[-1, -1, -1, -1, -1, -1, 2, -1, -1, -1, -1, -1, -1, -1, -1, -1]\n",
      "[-1, 'F', -1, -1, -1, -1, -1, -1, -1, -1, -1, -1, -1, -1, -1, -1]\n",
      "[-1, -1, 2, -1, -1, -1, -1, -1, -1, -1, -1, -1, -1, -1, -1, -1]\n",
      "[-1, -1, -1, -1, -1, -1, -1, 2, -1, -1, -1, 'mother', -1, -1, -1, -1]\n",
      "[-1, -1, -1, -1, -1, -1, -1, -1, -1, -1, -1, -1, -1, -1, 1, -1]\n",
      "['GP', -1, 1, 'U', 'LE3', 'T', -1, -1, -1, -1, -1, -1, -1, -1, -1, -1]\n",
      "[-1, -1, -1, -1, -1, -1, -1, -1, -1, 'other', -1, -1, -1, -1, -1, -1]\n",
      "[-1, -1, -1, 'R', -1, -1, -1, -1, -1, -1, -1, -1, -1, -1, -1, -1]\n",
      "[-1, -1, -1, -1, -1, 'T', -1, 2, -1, -1, -1, -1, -1, -1, -1, -1]\n",
      "[-1, -1, -1, -1, -1, -1, -1, -1, -1, -1, 'course', -1, -1, -1, -1, -1]\n",
      "[-1, -1, -1, -1, -1, -1, -1, 1, -1, -1, -1, -1, -1, -1, -1, -1]\n",
      "[-1, -1, -1, -1, -1, -1, -1, -1, -1, -1, -1, -1, 2, -1, -1, -1]\n",
      "[-1, -1, -1, -1, -1, -1, -1, -1, -1, -1, -1, -1, -1, 2, -1, -1]\n",
      "[-1, -1, -1, -1, -1, -1, -1, -1, 'at_home', -1, -1, -1, -1, -1, -1, -1]\n",
      "[-1, -1, -1, -1, -1, -1, 1, -1, -1, -1, -1, -1, -1, -1, -1, -1]\n",
      "[-1, -1, -1, -1, 'GT3', -1, 3, -1, -1, -1, -1, -1, -1, -1, -1, -1]\n",
      "[-1, -1, -1, -1, -1, -1, -1, -1, 'other', -1, -1, -1, -1, -1, -1, -1]\n"
     ]
    }
   ],
   "source": [
    "selected_attributes = all_attributes[:16]\n",
    "\n",
    "alpha = 0.8\n",
    "k = 49\n",
    "k_min = k\n",
    "k_max = k\n",
    "thc = 50\n",
    "time_limit = 5*60\n",
    "result_prop_bounds, num_patterns_visited1_, t1_ \\\n",
    "            = propbounds.GraphTraverse(\n",
    "            ranked_data[selected_attributes], selected_attributes, thc,\n",
    "            alpha,\n",
    "            k_min, k_max, time_limit)\n",
    "groups_prop_bounds = [string2list(k) for k in list(result_prop_bounds[0])]\n",
    "for g in groups_prop_bounds:\n",
    "    print(g)\n"
   ],
   "metadata": {
    "collapsed": false
   }
  },
  {
   "cell_type": "code",
   "execution_count": 8,
   "outputs": [],
   "source": [
    "\n",
    "\n"
   ],
   "metadata": {
    "collapsed": false
   }
  },
  {
   "cell_type": "code",
   "execution_count": 8,
   "outputs": [],
   "source": [],
   "metadata": {
    "collapsed": false
   }
  },
  {
   "cell_type": "code",
   "execution_count": 9,
   "outputs": [
    {
     "name": "stdout",
     "output_type": "stream",
     "text": [
      "school_C ['GP', 'MS']\n",
      "sex_C ['F', 'M']\n",
      "address_C ['R', 'U']\n",
      "famsize_C ['GT3', 'LE3']\n",
      "Pstatus_C ['A', 'T']\n",
      "Mjob_C ['at_home', 'health', 'other', 'services', 'teacher']\n",
      "Fjob_C ['at_home', 'health', 'other', 'services', 'teacher']\n",
      "reason_C ['course', 'home', 'other', 'reputation']\n",
      "guardian_C ['father', 'mother', 'other']\n",
      "schoolsup_C ['no', 'yes']\n",
      "famsup_C ['no', 'yes']\n",
      "paid_C ['no', 'yes']\n",
      "activities_C ['no', 'yes']\n",
      "nursery_C ['no', 'yes']\n",
      "higher_C ['no', 'yes']\n",
      "internet_C ['no', 'yes']\n",
      "romantic_C ['no', 'yes']\n",
      "Model coefficients:\n",
      "\n",
      "school_C = 11.89275\n",
      "sex_C = -5.39896\n",
      "age_C = 16.187\n",
      "address_C = -13.22364\n",
      "famsize_C = 0.0323\n",
      "Pstatus_C = -4.06843\n",
      "Medu_C = -4.81818\n",
      "Fedu_C = -0.6633\n",
      "Mjob_C = 4.76802\n",
      "Fjob_C = 2.47179\n",
      "reason_C = -2.23184\n",
      "guardian_C = 2.25619\n",
      "traveltime_C = -4.56083\n",
      "studytime_C = -0.81082\n",
      "failures_C = -2.19889\n",
      "schoolsup_C = 11.24251\n",
      "famsup_C = 6.9722\n",
      "paid_C = -7.03452\n",
      "activities_C = -5.25613\n",
      "nursery_C = 3.49264\n",
      "higher_C = 8.5865\n",
      "internet_C = -2.1814\n",
      "romantic_C = 2.70547\n",
      "famrel_C = -4.93503\n",
      "freetime_C = 1.84302\n",
      "goout_C = 4.30462\n",
      "Dalc_C = 0.49572\n",
      "Walc_C = -0.20626\n",
      "health_C = 1.35109\n",
      "absences_C = 25.27649\n",
      "G1_C = -28.20471\n",
      "G2_C = -19.78066\n",
      "G3_C = -94.30185\n"
     ]
    },
    {
     "name": "stderr",
     "output_type": "stream",
     "text": [
      "Permutation explainer: 396it [00:15, 12.49it/s]                         \n"
     ]
    },
    {
     "data": {
      "text/plain": ".values =\narray([[  -2.37854968,   -2.80745737,   -4.6942308 , ...,  -40.33274051,\n         -27.89073168, -134.85165097],\n       [  -2.37854968,   -2.80745737,   -4.6942308 , ...,  -40.33274051,\n         -27.89073168, -134.85165097],\n       [  -2.37854968,   -2.80745737,   -4.6942308 , ...,  -40.33274051,\n         -27.89073168, -134.85165097],\n       ...,\n       [   9.51419873,   -2.80745737,   11.49277195, ...,   16.07668678,\n          11.67058985,  148.0539105 ],\n       [   9.51419873,    2.59149911,   11.49277195, ...,   16.07668678,\n          11.67058985,  148.0539105 ],\n       [   9.51419873,    2.59149911,   11.49277195, ...,   16.07668678,\n          11.67058985,  148.0539105 ]])\n\n.base_values =\narray([193.8078427, 193.8078427, 193.8078427, 193.8078427, 193.8078427,\n       193.8078427, 193.8078427, 193.8078427, 193.8078427, 193.8078427,\n       193.8078427, 193.8078427, 193.8078427, 193.8078427, 193.8078427,\n       193.8078427, 193.8078427, 193.8078427, 193.8078427, 193.8078427,\n       193.8078427, 193.8078427, 193.8078427, 193.8078427, 193.8078427,\n       193.8078427, 193.8078427, 193.8078427, 193.8078427, 193.8078427,\n       193.8078427, 193.8078427, 193.8078427, 193.8078427, 193.8078427,\n       193.8078427, 193.8078427, 193.8078427, 193.8078427, 193.8078427,\n       193.8078427, 193.8078427, 193.8078427, 193.8078427, 193.8078427,\n       193.8078427, 193.8078427, 193.8078427, 193.8078427, 193.8078427,\n       193.8078427, 193.8078427, 193.8078427, 193.8078427, 193.8078427,\n       193.8078427, 193.8078427, 193.8078427, 193.8078427, 193.8078427,\n       193.8078427, 193.8078427, 193.8078427, 193.8078427, 193.8078427,\n       193.8078427, 193.8078427, 193.8078427, 193.8078427, 193.8078427,\n       193.8078427, 193.8078427, 193.8078427, 193.8078427, 193.8078427,\n       193.8078427, 193.8078427, 193.8078427, 193.8078427, 193.8078427,\n       193.8078427, 193.8078427, 193.8078427, 193.8078427, 193.8078427,\n       193.8078427, 193.8078427, 193.8078427, 193.8078427, 193.8078427,\n       193.8078427, 193.8078427, 193.8078427, 193.8078427, 193.8078427,\n       193.8078427, 193.8078427, 193.8078427, 193.8078427, 193.8078427,\n       193.8078427, 193.8078427, 193.8078427, 193.8078427, 193.8078427,\n       193.8078427, 193.8078427, 193.8078427, 193.8078427, 193.8078427,\n       193.8078427, 193.8078427, 193.8078427, 193.8078427, 193.8078427,\n       193.8078427, 193.8078427, 193.8078427, 193.8078427, 193.8078427,\n       193.8078427, 193.8078427, 193.8078427, 193.8078427, 193.8078427,\n       193.8078427, 193.8078427, 193.8078427, 193.8078427, 193.8078427,\n       193.8078427, 193.8078427, 193.8078427, 193.8078427, 193.8078427,\n       193.8078427, 193.8078427, 193.8078427, 193.8078427, 193.8078427,\n       193.8078427, 193.8078427, 193.8078427, 193.8078427, 193.8078427,\n       193.8078427, 193.8078427, 193.8078427, 193.8078427, 193.8078427,\n       193.8078427, 193.8078427, 193.8078427, 193.8078427, 193.8078427,\n       193.8078427, 193.8078427, 193.8078427, 193.8078427, 193.8078427,\n       193.8078427, 193.8078427, 193.8078427, 193.8078427, 193.8078427,\n       193.8078427, 193.8078427, 193.8078427, 193.8078427, 193.8078427,\n       193.8078427, 193.8078427, 193.8078427, 193.8078427, 193.8078427,\n       193.8078427, 193.8078427, 193.8078427, 193.8078427, 193.8078427,\n       193.8078427, 193.8078427, 193.8078427, 193.8078427, 193.8078427,\n       193.8078427, 193.8078427, 193.8078427, 193.8078427, 193.8078427,\n       193.8078427, 193.8078427, 193.8078427, 193.8078427, 193.8078427,\n       193.8078427, 193.8078427, 193.8078427, 193.8078427, 193.8078427,\n       193.8078427, 193.8078427, 193.8078427, 193.8078427, 193.8078427,\n       193.8078427, 193.8078427, 193.8078427, 193.8078427, 193.8078427,\n       193.8078427, 193.8078427, 193.8078427, 193.8078427, 193.8078427,\n       193.8078427, 193.8078427, 193.8078427, 193.8078427, 193.8078427,\n       193.8078427, 193.8078427, 193.8078427, 193.8078427, 193.8078427,\n       193.8078427, 193.8078427, 193.8078427, 193.8078427, 193.8078427,\n       193.8078427, 193.8078427, 193.8078427, 193.8078427, 193.8078427,\n       193.8078427, 193.8078427, 193.8078427, 193.8078427, 193.8078427,\n       193.8078427, 193.8078427, 193.8078427, 193.8078427, 193.8078427,\n       193.8078427, 193.8078427, 193.8078427, 193.8078427, 193.8078427,\n       193.8078427, 193.8078427, 193.8078427, 193.8078427, 193.8078427,\n       193.8078427, 193.8078427, 193.8078427, 193.8078427, 193.8078427,\n       193.8078427, 193.8078427, 193.8078427, 193.8078427, 193.8078427,\n       193.8078427, 193.8078427, 193.8078427, 193.8078427, 193.8078427,\n       193.8078427, 193.8078427, 193.8078427, 193.8078427, 193.8078427,\n       193.8078427, 193.8078427, 193.8078427, 193.8078427, 193.8078427,\n       193.8078427, 193.8078427, 193.8078427, 193.8078427, 193.8078427,\n       193.8078427, 193.8078427, 193.8078427, 193.8078427, 193.8078427,\n       193.8078427, 193.8078427, 193.8078427, 193.8078427, 193.8078427,\n       193.8078427, 193.8078427, 193.8078427, 193.8078427, 193.8078427,\n       193.8078427, 193.8078427, 193.8078427, 193.8078427, 193.8078427,\n       193.8078427, 193.8078427, 193.8078427, 193.8078427, 193.8078427,\n       193.8078427, 193.8078427, 193.8078427, 193.8078427, 193.8078427,\n       193.8078427, 193.8078427, 193.8078427, 193.8078427, 193.8078427,\n       193.8078427, 193.8078427, 193.8078427, 193.8078427, 193.8078427,\n       193.8078427, 193.8078427, 193.8078427, 193.8078427, 193.8078427,\n       193.8078427, 193.8078427, 193.8078427, 193.8078427, 193.8078427,\n       193.8078427, 193.8078427, 193.8078427, 193.8078427, 193.8078427,\n       193.8078427, 193.8078427, 193.8078427, 193.8078427, 193.8078427,\n       193.8078427, 193.8078427, 193.8078427, 193.8078427, 193.8078427,\n       193.8078427, 193.8078427, 193.8078427, 193.8078427, 193.8078427,\n       193.8078427, 193.8078427, 193.8078427, 193.8078427, 193.8078427,\n       193.8078427, 193.8078427, 193.8078427, 193.8078427, 193.8078427,\n       193.8078427, 193.8078427, 193.8078427, 193.8078427, 193.8078427,\n       193.8078427, 193.8078427, 193.8078427, 193.8078427, 193.8078427,\n       193.8078427, 193.8078427, 193.8078427, 193.8078427, 193.8078427,\n       193.8078427, 193.8078427, 193.8078427, 193.8078427, 193.8078427,\n       193.8078427, 193.8078427, 193.8078427, 193.8078427, 193.8078427,\n       193.8078427, 193.8078427, 193.8078427, 193.8078427, 193.8078427])\n\n.data =\narray([[1, 2, 1, ..., 4, 4, 4],\n       [1, 2, 1, ..., 4, 4, 4],\n       [1, 2, 1, ..., 4, 4, 4],\n       ...,\n       [2, 2, 2, ..., 2, 2, 1],\n       [2, 1, 2, ..., 2, 2, 1],\n       [2, 1, 2, ..., 2, 2, 1]])"
     },
     "execution_count": 9,
     "metadata": {},
     "output_type": "execute_result"
    }
   ],
   "source": [
    "\n",
    "x = ranked_data[all_attributes]\n",
    "y = ranked_data['rank']\n",
    "# have to convert strings to numbers for linear regression\n",
    "def convert_string_to_number(df, all_attributes):\n",
    "    col_idx = 0\n",
    "    def convert_to_number(column):\n",
    "        nonlocal col_idx\n",
    "        if column.dtypes == 'object':\n",
    "            unique_values = sorted(column.unique())\n",
    "            print(all_attributes[col_idx], unique_values)\n",
    "            df[all_attributes[col_idx]].replace(to_replace=unique_values,\n",
    "                              value=range(1, len(unique_values)+1), inplace=True)\n",
    "        col_idx += 1\n",
    "    df.apply(convert_to_number, axis=0)\n",
    "    return df\n",
    "\n",
    "x = convert_string_to_number(x, all_attributes)\n",
    "\n",
    "\n",
    "# with sklearn\n",
    "model = LinearRegression()\n",
    "model.fit(x, y)\n",
    "print(\"Model coefficients:\\n\")\n",
    "for i in range(x.shape[1]):\n",
    "    print(x.columns[i], \"=\", model.coef_[i].round(5))\n",
    "# compute the SHAP values for the linear model\n",
    "explainer = shap.Explainer(model.predict, x)\n",
    "shap_values = explainer(x)\n",
    "shap_values\n"
   ],
   "metadata": {
    "collapsed": false
   }
  },
  {
   "cell_type": "code",
   "execution_count": 9,
   "outputs": [],
   "source": [
    "\n"
   ],
   "metadata": {
    "collapsed": false
   }
  },
  {
   "cell_type": "code",
   "execution_count": 22,
   "outputs": [
    {
     "name": "stdout",
     "output_type": "stream",
     "text": [
      "group [-1, -1, -1, -1, -1, -1, 2, -1, -1, -1, -1, -1, -1, -1, -1, -1] size 103\n",
      "                       Attribute  Shapley values\n",
      "0                    final grade       13.467770\n",
      "1             mother's education        4.191816\n",
      "2            second period grade        2.260373\n",
      "3               student's school       -1.570305\n",
      "4                   mother's job       -0.886481\n",
      "5     family educational support       -0.745281\n",
      "6  other positive Shapley values        3.309257\n",
      "7  other negative Shapley values       -2.157086\n"
     ]
    },
    {
     "name": "stderr",
     "output_type": "stream",
     "text": [
      "The frame.append method is deprecated and will be removed from pandas in a future version. Use pandas.concat instead.\n",
      "The frame.append method is deprecated and will be removed from pandas in a future version. Use pandas.concat instead.\n"
     ]
    },
    {
     "data": {
      "text/plain": "<Figure size 1008x504 with 1 Axes>",
      "image/png": "[encoded data removed]"
     },
     "metadata": {},
     "output_type": "display_data"
    }
   ],
   "source": [
    "fig, ax = plt.subplots(1, 1,figsize=(14, 7))\n",
    "\n",
    "group = groups_global_bounds[10]\n",
    "plot_average_shap_value_of_group(ranked_data, group, selected_attributes, all_attributes_original, shap_values, ax)\n",
    "plt.xticks([0, 10, 20, 30], fontsize=FONTSIZE)\n",
    "plt.tight_layout()\n",
    "plt.savefig(r\"student_shap_globalbounds.png\", bbox_inches='tight')"
   ],
   "metadata": {
    "collapsed": false
   }
  },
  {
   "cell_type": "code",
   "execution_count": 24,
   "outputs": [
    {
     "name": "stdout",
     "output_type": "stream",
     "text": [
      "unique values of G3 = [ 0  4  5  6  7  8  9 10 11 12 13 14 15 16 17 18 19 20]\n",
      "num of tuples in group 103 = [-1, -1, -1, -1, -1, -1, 2, -1, -1, -1, -1, -1, -1, -1, -1, -1]\n",
      "[ 0  1  2  3  4  5  6  7  8  9 10 11 12 13 14 15 16 17]\n"
     ]
    },
    {
     "name": "stderr",
     "output_type": "stream",
     "text": [
      "Matplotlib is currently using module://matplotlib_inline.backend_inline, which is a non-GUI backend, so cannot show the figure.\n"
     ]
    },
    {
     "data": {
      "text/plain": "<Figure size 1008x432 with 1 Axes>",
      "image/png": "[encoded data removed]"
     },
     "metadata": {},
     "output_type": "display_data"
    }
   ],
   "source": [
    "fig, ax = plt.subplots(1, 1,figsize=(14, 6))\n",
    "original_att = 'final grade'\n",
    "att = all_attributes[all_attributes_original.index(original_att)]\n",
    "group_name = \"\\{mother's education = 5th to 9th grade\\}\"\n",
    "plot_distribution_ratio(ranked_data, 'G3', original_att, group, group_name, k, ax)\n",
    "# plt.yticks([0, 0.05, 0.1, 0.15, 0.2, 0.25, 0.3, 0.35], fontsize=FONTSIZE)\n",
    "fig.show()\n",
    "plt.savefig(r\"student_value_dis_globalbounds.png\", bbox_inches='tight')\n"
   ],
   "metadata": {
    "collapsed": false
   }
  },
  {
   "cell_type": "code",
   "execution_count": 104,
   "outputs": [],
   "source": [],
   "metadata": {
    "collapsed": false
   }
  },
  {
   "cell_type": "code",
   "execution_count": null,
   "outputs": [],
   "source": [],
   "metadata": {
    "collapsed": false
   }
  }
 ],
 "metadata": {
  "kernelspec": {
   "display_name": "Python 3",
   "language": "python",
   "name": "python3"
  },
  "language_info": {
   "codemirror_mode": {
    "name": "ipython",
    "version": 2
   },
   "file_extension": ".py",
   "mimetype": "text/x-python",
   "name": "python",
   "nbconvert_exporter": "python",
   "pygments_lexer": "ipython2",
   "version": "2.7.6"
  }
 },
 "nbformat": 4,
 "nbformat_minor": 0
}
