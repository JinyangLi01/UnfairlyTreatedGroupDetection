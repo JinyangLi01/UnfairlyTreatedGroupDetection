{
 "cells": [
  {
   "cell_type": "code",
   "execution_count": 6,
   "metadata": {
    "collapsed": true
   },
   "outputs": [],
   "source": [
    "import copy\n",
    "\n",
    "import pandas as pd\n",
    "import sys\n",
    "import math\n",
    "\n",
    "sys.path.append('../Coding')\n",
    "from itertools import combinations\n",
    "from Algorithms import pattern_count\n",
    "import time\n",
    "from Algorithms import GlobalBounds as globalbounds\n",
    "\n",
    "import numpy as np\n",
    "import copy\n",
    "import sys\n",
    "import math\n",
    "from sklearn.linear_model import LinearRegression\n",
    "import shap\n",
    "import matplotlib.pyplot as plt\n",
    "import seaborn as sns\n",
    "from matplotlib.ticker import FuncFormatter\n",
    "\n",
    "from Algorithms import PropBounds as propbounds\n",
    "\n",
    "plt.rc('text', usetex=True)\n",
    "plt.rc('font', family='serif')\n",
    "plt.rcParams['font.size'] = '22'\n",
    "\n",
    "sns.set_palette(\"Paired\")\n",
    "# sns.set_palette(\"deep\")\n",
    "sns.set_context(\"poster\", font_scale=2)\n",
    "sns.set_style(\"whitegrid\")\n",
    "# sns.palplot(sns.color_palette(\"deep\", 10))\n",
    "# sns.palplot(sns.color_palette(\"Paired\", 9))\n",
    "\n",
    "line_style = ['o-', 's--', '^:', '-.p']\n",
    "color = ['C0', 'C1', 'C2', 'C3', 'C4', 'C5', 'C6', 'C7', 'C8']\n",
    "# plt_title = [\"BlueNile\", \"COMPAS\", \"Credit Card\"]\n",
    "#\n",
    "# label = [\"PropBounds\", \"IterTD\"]\n",
    "line_width = 8\n",
    "marker_size = 20\n",
    "f_size = (18, 16)\n",
    "FONTSIZE=50"
   ]
  },
  {
   "cell_type": "code",
   "execution_count": 7,
   "outputs": [],
   "source": [
    "def string2num(st):\n",
    "    p = list()\n",
    "    idx = 0\n",
    "    item = ''\n",
    "    i = ''\n",
    "    for i in st:\n",
    "        if i == '|':\n",
    "            if item == '':\n",
    "                p.append(-1)\n",
    "            else:\n",
    "                p.append(int(item))\n",
    "                item = ''\n",
    "            idx += 1\n",
    "        else:\n",
    "            item += i\n",
    "    if i != '|':\n",
    "        p.append(int(item))\n",
    "    else:\n",
    "        p.append(-1)\n",
    "    return p\n",
    "\n",
    "\n",
    "def P1DominatedByP2(P1, P2):\n",
    "    length = len(P1)\n",
    "    for i in range(length):\n",
    "        if P1[i] == -1:\n",
    "            if P2[i] != -1:\n",
    "                return False\n",
    "        if P1[i] != -1:\n",
    "            if P2[i] != P1[i] and P2[i] != -1:\n",
    "                return False\n",
    "    return True\n",
    "\n",
    "def idx_of_tuples_in_group(group, data):\n",
    "    def belong_to_group(row):\n",
    "        nonlocal group\n",
    "        if P1DominatedByP2(row, group):\n",
    "            return True\n",
    "        else:\n",
    "            return False\n",
    "    data[\"in\"] = data.apply(belong_to_group, axis=1)\n",
    "    return data[data[\"in\"] == True].index\n",
    "\n",
    "def average_shapley_values_of_group(data, group, all_attributes, shap_values):\n",
    "    # get all tuples in this group\n",
    "    data1 = data[all_attributes].copy(deep=True)\n",
    "    tuples_idx = idx_of_tuples_in_group(group, data1).to_list()\n",
    "    if len(tuples_idx) == 0:\n",
    "        # output_file.write(\"\\ngroup {} size {}\\n\".format(group, len(tuples_idx)))\n",
    "        print(\"group {} size {}\".format(group, len(tuples_idx)))\n",
    "        return []\n",
    "    else:\n",
    "        # print(tuples_idx, len(tuples_idx))\n",
    "        # for id in tuples_idx:\n",
    "        #     print(id, shap_values.values[id])\n",
    "        avg = np.average(shap_values.values[tuples_idx], axis=0)\n",
    "        # print(np.sum(shap_values.values[tuples_idx], axis=0))\n",
    "        # output_file.write(\"\\ngroup {} size {}\\n\".format(group, len(tuples_idx)))\n",
    "        # output_file.write(str(avg))\n",
    "        print(\"group {} size {}\".format(group, len(tuples_idx)))\n",
    "        # print(avg)\n",
    "        return list(avg)\n",
    "\n",
    "\n",
    "def idx_of_tuples_in_group_w_attribute(group, data, att, value):\n",
    "    def belong_to_group(row):\n",
    "        nonlocal group\n",
    "        if P1DominatedByP2(row, group):\n",
    "            if row[att] == value:\n",
    "                return True\n",
    "            else:\n",
    "                return False\n",
    "        else:\n",
    "            return False\n",
    "    data[\"in\"] = data.apply(belong_to_group, axis=1)\n",
    "    idx = data[data[\"in\"] == True].index\n",
    "    data.drop(columns=[\"in\"], axis=1, inplace=True)\n",
    "    return idx\n",
    "\n",
    "\n",
    "def shapley_values_att_value_seperated(data, group, all_attributes, shap_values, output_file):\n",
    "    # get all tuples in this group\n",
    "    data1 = data[all_attributes].copy(deep=True)\n",
    "    att_idx = 0\n",
    "    for att in all_attributes:\n",
    "        for v in range(int(data1.describe()[att][\"min\"]), int(data1.describe()[att][\"max\"]) + 1):\n",
    "            tuples_idx = idx_of_tuples_in_group_w_attribute(group, data1, att, v).to_list()\n",
    "            if len(tuples_idx) == 0:\n",
    "                output_file.write(\"group {} att {} = {} size {}\\n\".format(group, att, v, len(tuples_idx)))\n",
    "                print(\"group {} att {} = {} size {}\".format(group, att, v, len(tuples_idx)))\n",
    "            else:\n",
    "                values_of_group = shap_values.values[tuples_idx]\n",
    "                avg = np.average(values_of_group, axis=0)\n",
    "                print(\"group {} att {} = {} size {}\\n avg {}\".format(group, att, v, len(tuples_idx), avg))\n",
    "                output_file.write(\"group {} att {} = {} size {} avg {}\\n\".format(group, att, v, len(tuples_idx), avg[att_idx]))\n",
    "        att_idx += 1\n",
    "\n",
    "def tuples_in_group(g, data, selected_attributes):\n",
    "    tuple_idx = idx_of_tuples_in_group(g, data[selected_attributes].copy(deep=True))\n",
    "    tuples = data.iloc[tuple_idx]\n",
    "    return tuples\n",
    "\n",
    "def tuples_not_in_group(g, data, selected_attributes):\n",
    "    tuple_idx = idx_of_tuples_in_group(g, data[selected_attributes].copy(deep=True))\n",
    "    return data.drop(tuple_idx)\n",
    "\n",
    "# def check_another_group_global_bounds(g, data, selected_attributes, thc, Lowerbounds, k):\n",
    "#     size_whole_data = len(tuples_in_group(g, data, selected_attributes))\n",
    "#     if size_whole_data < thc:\n",
    "#         print(\"group g size too small\", size_whole_data)\n",
    "#         return False\n",
    "#     size_topk = len(tuples_in_group(g, data[:k], selected_attributes))\n",
    "#     if size_topk < Lowerbounds[0]:\n",
    "#         print(\"group g doesn't have enough representation in top k\", size_topk)\n",
    "#         return False\n",
    "#     return True\n",
    "\n",
    "\n",
    "# def check_another_group_prop_bounds(g, data, selected_attributes, thc, alpha, k):\n",
    "#     size_whole_data = len(tuples_in_group(g, data, selected_attributes))\n",
    "#     if size_whole_data < thc:\n",
    "#         print(\"group g size too small\", size_whole_data)\n",
    "#         return False\n",
    "#     size_topk = len(tuples_in_group(g, data[:k], selected_attributes))\n",
    "#     lowerbound = alpha * size_whole_data * k / len(data)\n",
    "#     print(size_whole_data, size_topk, lowerbound)\n",
    "#     if size_topk < lowerbound:\n",
    "#         print(\"group g doesn't have enough representation in top k\", size_topk)\n",
    "#         return False\n",
    "#     return True\n",
    "\n",
    "\n",
    "# def plot_distribution_number(ranked_data, attribute, group, another_group, k):\n",
    "#     x_list = ranked_data[attribute].unique()\n",
    "#     x_list.sort()\n",
    "#     tuples = tuples_in_group(group, ranked_data, selected_attributes)\n",
    "#     s = tuples[attribute].value_counts().sort_index()\n",
    "#     group_value_dis = [s[i] if i in s else 0 for i in x_list]\n",
    "#     s = ranked_data[attribute].value_counts().sort_index()\n",
    "#     whole_data_dis = [s[i] if i in s else 0 for i in x_list]\n",
    "#     s = tuples_not_in_group(group, ranked_data, selected_attributes)[attribute].value_counts().sort_index()\n",
    "#     other_data_dis = [s[i] if i in s else 0 for i in x_list]\n",
    "#     s = tuples_in_group(another_group, ranked_data, selected_attributes)[attribute].value_counts().sort_index()\n",
    "#     total = sum(s)\n",
    "#     another_group_dis = [s[i] if i in s else 0 for i in x_list]\n",
    "#\n",
    "#\n",
    "#     s = ranked_data[:k][attribute].value_counts().sort_index()\n",
    "#     topkdis = [s[i] if i in s else 0 for i in x_list]\n",
    "#\n",
    "#     index = np.arange(len(x_list))\n",
    "#     bar_width = 0.2\n",
    "#\n",
    "#     fig, ax = plt.subplots(1, 1, figsize=(20, 8))\n",
    "#\n",
    "#     index = np.arange(len(x_list))\n",
    "#     plt.bar(index, group_value_dis, bar_width, color=color[0], label=\"group\")\n",
    "#     plt.bar(index + bar_width, whole_data_dis, bar_width,  color=color[2], label=\"whole data\")\n",
    "#     plt.bar(index + bar_width * 2, other_data_dis, bar_width,  color=color[4], label=\"other data\")\n",
    "#     plt.bar(index + bar_width * 3, another_group_dis, bar_width,  color=color[6], label=\"non-problematic group\")\n",
    "#     plt.bar(index + bar_width * 4, topkdis, bar_width,  color=color[8], label=\"topk\")\n",
    "#     # plt.xticks(index + bar_width, x_list)\n",
    "#     # plt.xticks(index, x_list)\n",
    "#\n",
    "#     plt.ylabel('number of tuples')\n",
    "#     plt.xlabel('value of attribute ' + attribute)\n",
    "#     # plt.yscale('log')\n",
    "#     plt.legend(loc='best', fontsize=25)\n",
    "#\n",
    "#     plt.tight_layout()\n",
    "#     # plt.savefig(\"adult_time.png\", bbox_inches='tight')\n",
    "#     plt.show()\n",
    "\n"
   ],
   "metadata": {
    "collapsed": false
   }
  },
  {
   "cell_type": "code",
   "execution_count": 8,
   "outputs": [],
   "source": [
    "\n",
    "def plot_distribution_ratio(ranked_data, attribute, original_att, group, group_name, k, axis):\n",
    "    x_list = ranked_data[attribute].unique()\n",
    "    x_list.sort()\n",
    "    print(x_list)\n",
    "\n",
    "    tuples = tuples_in_group(group, ranked_data, selected_attributes)\n",
    "    s = tuples[attribute].value_counts().sort_index()\n",
    "    total = sum(s)\n",
    "    group_value_dis = [s[i]/total if i in s else 0 for i in x_list]\n",
    "\n",
    "    s = ranked_data[:k][attribute].value_counts().sort_index()\n",
    "    total = sum(s)\n",
    "    topkdis = [s[i]/total if i in s else 0 for i in x_list]\n",
    "\n",
    "    bar_width = 0.45\n",
    "    index = np.arange(len(x_list))\n",
    "    print(index)\n",
    "    axis.bar(index, group_value_dis, bar_width, color=color[3], label=group_name)\n",
    "    axis.bar(index + bar_width, topkdis, bar_width,  color=color[7], label=\"top-k\")\n",
    "    # plt.xticks(index + bar_width, x_list)\n",
    "    # plt.xticks(range(x_list[0], x_list[-1]+1))\n",
    "    index2 = [0, 2, 4, 6, 8, 10, 12, 14, 16, 18]\n",
    "    axis.set_xticks([x + bar_width/2 for x in index2], [0, 4, 6, 8, 10, 12, 14, 16, 18, 20], fontsize=FONTSIZE)\n",
    "    axis.set_yticks([0, 0.1, 0.2, 0.3], [0, 0.1, 0.2, 0.3], fontsize=FONTSIZE)\n",
    "    axis.set_ylabel('Proportion', fontsize=FONTSIZE)\n",
    "    axis.set_xlabel('Value of '+ original_att, fontsize=FONTSIZE)\n",
    "    axis.legend(loc='upper left', fontsize=40, bbox_to_anchor=(-0.02, 1.04))\n",
    "    # plt.tight_layout()\n",
    "    # plt.savefig(\"adult_time.png\", bbox_inches='tight')\n",
    "    # plt.show()\n",
    "    return axis\n"
   ],
   "metadata": {
    "collapsed": false
   }
  },
  {
   "cell_type": "code",
   "execution_count": 9,
   "outputs": [],
   "source": [
    "\n",
    "def plot_average_shap_value_of_group(data, group, selected_attributes, all_attributes_original, shap_values, axis):\n",
    "    s = average_shapley_values_of_group(data, group, selected_attributes, shap_values)\n",
    "\n",
    "    df=pd.DataFrame({'Attribute':all_attributes_original, 'Shapley values':s})\n",
    "    df.sort_values(by='Shapley values',key=abs, inplace=True,ascending=False)\n",
    "\n",
    "    small_shap_values = df[6:]\n",
    "    summary_shap_values = df[:6]\n",
    "\n",
    "    summary_shap_values = summary_shap_values.append({'Attribute': 'other positive Shapley values', 'Shapley values': sum([x if x > 0 else 0 for x in small_shap_values['Shapley values']])}, ignore_index=True)\n",
    "    summary_shap_values = summary_shap_values.append({'Attribute': 'other negative Shapley values', 'Shapley values': sum([x if x < 0 else 0 for x in small_shap_values['Shapley values']])}, ignore_index=True)\n",
    "\n",
    "    print(summary_shap_values)\n",
    "\n",
    "    summary_shap_values = summary_shap_values[::-1]\n",
    "    # summary_shap_values.plot(kind='barh',x='Attribute',y='Shapley values',color=[color[4] if t > 0 else color[0] for t in summary_shap_values['Shapley values']], figsize=(18, 16), legend=False, fontsize=FONTSIZE, ax=axis)\n",
    "    summary_shap_values.plot(kind='barh',x='Attribute',y='Shapley values',color=[color[4] if t > 0 else color[0] for t in summary_shap_values['Shapley values']], legend=False, fontsize=FONTSIZE, ax=axis)\n",
    "    axis.set_ylabel('Attribute', fontsize=FONTSIZE)\n",
    "    # plt.show()\n",
    "    # plt.xlabel('Shapley values', fontsize=FONTSIZE)\n",
    "    # plt.ylabel('Attribute', fontsize=FONTSIZE)\n",
    "    # plt.tight_layout()\n",
    "    # fig.set(xlabel='Shapley values')\n",
    "    # return plt\n",
    "\n"
   ],
   "metadata": {
    "collapsed": false
   }
  },
  {
   "cell_type": "code",
   "execution_count": 9,
   "outputs": [],
   "source": [],
   "metadata": {
    "collapsed": false
   }
  },
  {
   "cell_type": "code",
   "execution_count": 9,
   "outputs": [],
   "source": [],
   "metadata": {
    "collapsed": false
   }
  },
  {
   "cell_type": "markdown",
   "source": [
    "# student data"
   ],
   "metadata": {
    "collapsed": false
   }
  },
  {
   "cell_type": "code",
   "execution_count": 10,
   "outputs": [],
   "source": [
    "\n",
    "all_attributes = ['school_C', 'sex_C', 'age_C', 'address_C', 'famsize_C', 'Pstatus_C', 'Medu_C',\n",
    "                  'Fedu_C', 'Mjob_C', 'Fjob_C', 'reason_C', 'guardian_C', 'traveltime_C', 'studytime_C',\n",
    "                  'failures_C', 'schoolsup_C', 'famsup_C', 'paid_C', 'activities_C', 'nursery_C', 'higher_C',\n",
    "                  'internet_C', 'romantic_C', 'famrel_C', 'freetime_C', 'goout_C', 'Dalc_C', 'Walc_C',\n",
    "                  'health_C', 'absences_C', 'G1_C', 'G2_C', 'G3_C']\n",
    "\n",
    "\n",
    "all_attributes_original = ['school', 'sex', 'age', 'address', 'family size', 'parent\\'s cohabitation status', 'mother\\'s education',\n",
    "                  'father\\'s education', 'mother\\'s job', 'father\\'s job', 'reason to choose this school', 'student\\'s guardian', 'home to school travel time', 'weekly study time',\n",
    "                  'number of past class failures', 'extra educational support', 'family educational support', 'extra paid classes', 'extra-curricular activities', 'attended nursery school', 'wants to take higher education',\n",
    "                  'Internet access at home', 'with a romantic relationship', 'quality of family relationships', 'free time after school', 'going out with friends', 'workday alcohol consumption', 'weekend alcohol consumption',\n",
    "                  'current health status', 'number of school absences', 'first period grade', 'second period grade', 'final grade']\n",
    "\n",
    "\n",
    "original_data_file = r\"../../../InputData/StudentDataset/ForRanking_1/student-mat_cat_ranked.csv\"\n",
    "\n",
    "ranked_data = pd.read_csv(original_data_file, index_col=False)\n"
   ],
   "metadata": {
    "collapsed": false
   }
  },
  {
   "cell_type": "markdown",
   "source": [
    "# 16 att"
   ],
   "metadata": {
    "collapsed": false
   }
  },
  {
   "cell_type": "code",
   "execution_count": 11,
   "outputs": [
    {
     "name": "stdout",
     "output_type": "stream",
     "text": [
      "||0|0|||||||||||0|\n",
      "|||||||||||0||||\n",
      "|||||0|||||||||0|1\n",
      "||||||||||2|||||\n",
      "||0|0||||||||||||1\n",
      "|||||||3||||||||\n",
      "||||||||||||1|||\n",
      "|0||||||||||||||\n",
      "|||||||||||||1||\n",
      "||||||4|||||||||\n",
      "0|||0||||||||||||\n",
      "|||0|||||||||||0|1\n",
      "0|||||0||||||||||\n",
      "||||||2|||||||||\n",
      "||||||1|||||||||\n",
      "||||||||4|||||||\n",
      "||||||||||||||1|\n",
      "|||||||2||||||||\n",
      "||||||||||0|||||\n",
      "|||0||0||||||||||\n",
      "|||1||||||||||||\n",
      "|||||||||||||2||\n",
      "||||||||||||2|||\n",
      "||||||||0|||||||\n",
      "|||||||||2||||||\n",
      "||||||||3|||||||\n",
      "|||||||||||||||0\n",
      "|1||||||||||||||\n",
      "|||||||||4||||||\n",
      "||||||||||1|||||\n",
      "||||0|||||||||||\n",
      "||||||3|||||||||\n",
      "|||||||4||||||||\n",
      "||||1|||||||||||\n",
      "|||||||1||||||||\n",
      "|||||||||||1||||\n",
      "|||||||||||||3||\n",
      "||||||||2|||||||\n"
     ]
    }
   ],
   "source": [
    "selected_attributes = all_attributes[:16]\n",
    "\n",
    "k = 49\n",
    "k_min = k\n",
    "k_max = k\n",
    "thc = 50\n",
    "Lowerbounds = [40]\n",
    "time_limit = 5*60\n",
    "result_global_bounds, num_patterns_visited1_, t1_ \\\n",
    "    = globalbounds.GraphTraverse(\n",
    "    ranked_data[selected_attributes].copy(deep=True), selected_attributes, thc,\n",
    "    Lowerbounds,\n",
    "    k_min, k_max, time_limit)\n",
    "groups_global_bounds = result_global_bounds[0]\n",
    "for g in groups_global_bounds:\n",
    "    print(g)\n"
   ],
   "metadata": {
    "collapsed": false
   }
  },
  {
   "cell_type": "code",
   "execution_count": 12,
   "outputs": [
    {
     "name": "stdout",
     "output_type": "stream",
     "text": [
      "[-1, -1, -1, -1, 1, 0, -1, -1, -1, -1, -1, -1, -1, 3, -1, -1]\n",
      "[-1, -1, -1, -1, -1, -1, -1, -1, -1, -1, 2, -1, -1, -1, -1, -1]\n",
      "[-1, -1, -1, -1, -1, -1, 1, -1, -1, -1, -1, -1, -1, -1, -1, -1]\n",
      "[-1, -1, -1, -1, -1, -1, -1, -1, 4, -1, -1, -1, -1, -1, -1, -1]\n",
      "[-1, -1, -1, -1, -1, -1, -1, -1, -1, -1, -1, -1, -1, 2, -1, -1]\n",
      "[-1, -1, -1, 1, -1, -1, -1, -1, -1, -1, -1, -1, -1, -1, -1, -1]\n",
      "[-1, -1, -1, -1, -1, -1, -1, -1, -1, -1, -1, -1, 2, -1, -1, -1]\n",
      "[-1, 1, -1, -1, -1, -1, -1, -1, -1, -1, -1, -1, -1, -1, -1, -1]\n",
      "[-1, -1, -1, -1, -1, -1, -1, -1, -1, 4, -1, -1, -1, -1, -1, -1]\n",
      "[-1, -1, -1, -1, 1, -1, 3, -1, -1, -1, -1, -1, -1, -1, -1, -1]\n",
      "[-1, -1, -1, -1, -1, -1, -1, 1, -1, -1, -1, -1, -1, -1, -1, -1]\n",
      "[-1, -1, -1, -1, -1, -1, 2, -1, -1, -1, -1, -1, -1, -1, -1, -1]\n",
      "[-1, -1, -1, -1, -1, -1, -1, -1, -1, -1, -1, -1, -1, -1, 1, -1]\n",
      "[-1, -1, -1, -1, -1, -1, -1, -1, 3, -1, -1, -1, -1, -1, -1, -1]\n",
      "[-1, -1, -1, -1, -1, -1, -1, -1, -1, -1, -1, -1, -1, -1, -1, 0]\n",
      "[-1, -1, -1, -1, -1, 0, -1, 2, -1, -1, -1, -1, -1, -1, -1, -1]\n",
      "[-1, -1, -1, -1, -1, -1, -1, 2, -1, -1, -1, 0, -1, -1, -1, -1]\n"
     ]
    }
   ],
   "source": [
    "selected_attributes = all_attributes[:16]\n",
    "\n",
    "alpha = 0.8\n",
    "k = 49\n",
    "k_min = k\n",
    "k_max = k\n",
    "thc = 50\n",
    "time_limit = 5*60\n",
    "result_prop_bounds, num_patterns_visited1_, t1_ \\\n",
    "            = propbounds.GraphTraverse(\n",
    "            ranked_data[selected_attributes], selected_attributes, thc,\n",
    "            alpha,\n",
    "            k_min, k_max, time_limit)\n",
    "groups_prop_bounds = [string2num(k) for k in result_prop_bounds[0]]\n",
    "for g in groups_prop_bounds:\n",
    "    print(g)\n"
   ],
   "metadata": {
    "collapsed": false
   }
  },
  {
   "cell_type": "code",
   "execution_count": null,
   "outputs": [],
   "source": [],
   "metadata": {
    "collapsed": false
   }
  },
  {
   "cell_type": "code",
   "execution_count": 28,
   "outputs": [],
   "source": [],
   "metadata": {
    "collapsed": false
   }
  },
  {
   "cell_type": "code",
   "execution_count": 29,
   "outputs": [
    {
     "name": "stdout",
     "output_type": "stream",
     "text": [
      "Model coefficients:\n",
      "\n",
      "school = 13.62283\n",
      "sex = 3.74994\n",
      "age = 21.58114\n",
      "address = 9.59259\n",
      "family size = -2.53632\n",
      "parent's cohabitation status = 6.69229\n",
      "mother's education = -3.16792\n",
      "father's education = -1.79844\n",
      "mother's job = -1.71096\n",
      "father's job = -1.47305\n",
      "reason to choose this school = -0.0908\n",
      "student's guardian = 1.23539\n",
      "home to school travel time = -1.59712\n",
      "weekly study time = 0.46849\n",
      "number of past class failures = -5.80891\n",
      "extra educational support = -7.64857\n",
      "family educational support = -3.48639\n",
      "extra paid classes = 3.10652\n",
      "extra-curricular activities = 4.29685\n",
      "attended nursery school = -1.37875\n",
      "wants to take higher education = 1.03296\n",
      "Internet access at home = 0.54819\n",
      "with a romantic relationship = -3.61323\n",
      "quality of family relationships = -3.55531\n",
      "free time after school = 0.22307\n",
      "going out with friends = 4.11919\n",
      "workday alcohol consumption = 1.28626\n",
      "weekend alcohol consumption = -1.04685\n",
      "current health status = 1.747\n",
      "number of school absences = 22.40992\n",
      "first period grade = -26.17014\n",
      "second period grade = -22.57083\n",
      "final grade = -91.37035\n"
     ]
    },
    {
     "data": {
      "text/plain": ".values =\narray([[  -2.72456602,   -1.94996825,   -1.51067972, ...,  -38.20840228,\n         -32.50199032, -130.65960066],\n       [  -2.72456602,   -1.94996825,   -1.51067972, ...,  -38.20840228,\n         -32.50199032, -130.65960066],\n       [  -2.72456602,   -1.94996825,   -1.51067972, ...,  -38.20840228,\n         -32.50199032, -130.65960066],\n       ...,\n       [  10.89826409,   -1.94996825,   20.07045909, ...,   14.13187482,\n          35.21048952,  143.45144968],\n       [  10.89826409,    1.79997069,   20.07045909, ...,   14.13187482,\n          35.21048952,  143.45144968],\n       [  10.89826409,    1.79997069,   -1.51067972, ...,   14.13187482,\n          35.21048952,  143.45144968]])\n\n.base_values =\narray([193.81417239, 193.81417239, 193.81417239, 193.81417239,\n       193.81417239, 193.81417239, 193.81417239, 193.81417239,\n       193.81417239, 193.81417239, 193.81417239, 193.81417239,\n       193.81417239, 193.81417239, 193.81417239, 193.81417239,\n       193.81417239, 193.81417239, 193.81417239, 193.81417239,\n       193.81417239, 193.81417239, 193.81417239, 193.81417239,\n       193.81417239, 193.81417239, 193.81417239, 193.81417239,\n       193.81417239, 193.81417239, 193.81417239, 193.81417239,\n       193.81417239, 193.81417239, 193.81417239, 193.81417239,\n       193.81417239, 193.81417239, 193.81417239, 193.81417239,\n       193.81417239, 193.81417239, 193.81417239, 193.81417239,\n       193.81417239, 193.81417239, 193.81417239, 193.81417239,\n       193.81417239, 193.81417239, 193.81417239, 193.81417239,\n       193.81417239, 193.81417239, 193.81417239, 193.81417239,\n       193.81417239, 193.81417239, 193.81417239, 193.81417239,\n       193.81417239, 193.81417239, 193.81417239, 193.81417239,\n       193.81417239, 193.81417239, 193.81417239, 193.81417239,\n       193.81417239, 193.81417239, 193.81417239, 193.81417239,\n       193.81417239, 193.81417239, 193.81417239, 193.81417239,\n       193.81417239, 193.81417239, 193.81417239, 193.81417239,\n       193.81417239, 193.81417239, 193.81417239, 193.81417239,\n       193.81417239, 193.81417239, 193.81417239, 193.81417239,\n       193.81417239, 193.81417239, 193.81417239, 193.81417239,\n       193.81417239, 193.81417239, 193.81417239, 193.81417239,\n       193.81417239, 193.81417239, 193.81417239, 193.81417239,\n       193.81417239, 193.81417239, 193.81417239, 193.81417239,\n       193.81417239, 193.81417239, 193.81417239, 193.81417239,\n       193.81417239, 193.81417239, 193.81417239, 193.81417239,\n       193.81417239, 193.81417239, 193.81417239, 193.81417239,\n       193.81417239, 193.81417239, 193.81417239, 193.81417239,\n       193.81417239, 193.81417239, 193.81417239, 193.81417239,\n       193.81417239, 193.81417239, 193.81417239, 193.81417239,\n       193.81417239, 193.81417239, 193.81417239, 193.81417239,\n       193.81417239, 193.81417239, 193.81417239, 193.81417239,\n       193.81417239, 193.81417239, 193.81417239, 193.81417239,\n       193.81417239, 193.81417239, 193.81417239, 193.81417239,\n       193.81417239, 193.81417239, 193.81417239, 193.81417239,\n       193.81417239, 193.81417239, 193.81417239, 193.81417239,\n       193.81417239, 193.81417239, 193.81417239, 193.81417239,\n       193.81417239, 193.81417239, 193.81417239, 193.81417239,\n       193.81417239, 193.81417239, 193.81417239, 193.81417239,\n       193.81417239, 193.81417239, 193.81417239, 193.81417239,\n       193.81417239, 193.81417239, 193.81417239, 193.81417239,\n       193.81417239, 193.81417239, 193.81417239, 193.81417239,\n       193.81417239, 193.81417239, 193.81417239, 193.81417239,\n       193.81417239, 193.81417239, 193.81417239, 193.81417239,\n       193.81417239, 193.81417239, 193.81417239, 193.81417239,\n       193.81417239, 193.81417239, 193.81417239, 193.81417239,\n       193.81417239, 193.81417239, 193.81417239, 193.81417239,\n       193.81417239, 193.81417239, 193.81417239, 193.81417239,\n       193.81417239, 193.81417239, 193.81417239, 193.81417239,\n       193.81417239, 193.81417239, 193.81417239, 193.81417239,\n       193.81417239, 193.81417239, 193.81417239, 193.81417239,\n       193.81417239, 193.81417239, 193.81417239, 193.81417239,\n       193.81417239, 193.81417239, 193.81417239, 193.81417239,\n       193.81417239, 193.81417239, 193.81417239, 193.81417239,\n       193.81417239, 193.81417239, 193.81417239, 193.81417239,\n       193.81417239, 193.81417239, 193.81417239, 193.81417239,\n       193.81417239, 193.81417239, 193.81417239, 193.81417239,\n       193.81417239, 193.81417239, 193.81417239, 193.81417239,\n       193.81417239, 193.81417239, 193.81417239, 193.81417239,\n       193.81417239, 193.81417239, 193.81417239, 193.81417239,\n       193.81417239, 193.81417239, 193.81417239, 193.81417239,\n       193.81417239, 193.81417239, 193.81417239, 193.81417239,\n       193.81417239, 193.81417239, 193.81417239, 193.81417239,\n       193.81417239, 193.81417239, 193.81417239, 193.81417239,\n       193.81417239, 193.81417239, 193.81417239, 193.81417239,\n       193.81417239, 193.81417239, 193.81417239, 193.81417239,\n       193.81417239, 193.81417239, 193.81417239, 193.81417239,\n       193.81417239, 193.81417239, 193.81417239, 193.81417239,\n       193.81417239, 193.81417239, 193.81417239, 193.81417239,\n       193.81417239, 193.81417239, 193.81417239, 193.81417239,\n       193.81417239, 193.81417239, 193.81417239, 193.81417239,\n       193.81417239, 193.81417239, 193.81417239, 193.81417239,\n       193.81417239, 193.81417239, 193.81417239, 193.81417239,\n       193.81417239, 193.81417239, 193.81417239, 193.81417239,\n       193.81417239, 193.81417239, 193.81417239, 193.81417239,\n       193.81417239, 193.81417239, 193.81417239, 193.81417239,\n       193.81417239, 193.81417239, 193.81417239, 193.81417239,\n       193.81417239, 193.81417239, 193.81417239, 193.81417239,\n       193.81417239, 193.81417239, 193.81417239, 193.81417239,\n       193.81417239, 193.81417239, 193.81417239, 193.81417239,\n       193.81417239, 193.81417239, 193.81417239, 193.81417239,\n       193.81417239, 193.81417239, 193.81417239, 193.81417239,\n       193.81417239, 193.81417239, 193.81417239, 193.81417239,\n       193.81417239, 193.81417239, 193.81417239, 193.81417239,\n       193.81417239, 193.81417239, 193.81417239, 193.81417239,\n       193.81417239, 193.81417239, 193.81417239, 193.81417239,\n       193.81417239, 193.81417239, 193.81417239, 193.81417239,\n       193.81417239, 193.81417239, 193.81417239, 193.81417239,\n       193.81417239, 193.81417239, 193.81417239, 193.81417239,\n       193.81417239, 193.81417239, 193.81417239, 193.81417239,\n       193.81417239, 193.81417239, 193.81417239, 193.81417239,\n       193.81417239, 193.81417239, 193.81417239, 193.81417239,\n       193.81417239, 193.81417239, 193.81417239, 193.81417239,\n       193.81417239, 193.81417239, 193.81417239, 193.81417239,\n       193.81417239, 193.81417239, 193.81417239, 193.81417239,\n       193.81417239, 193.81417239, 193.81417239, 193.81417239,\n       193.81417239, 193.81417239, 193.81417239])\n\n.data =\narray([[0, 0, 0, ..., 3, 3, 3],\n       [0, 0, 0, ..., 3, 3, 3],\n       [0, 0, 0, ..., 3, 3, 3],\n       ...,\n       [1, 0, 1, ..., 1, 0, 0],\n       [1, 1, 1, ..., 1, 0, 0],\n       [1, 1, 0, ..., 1, 0, 0]])"
     },
     "execution_count": 29,
     "metadata": {},
     "output_type": "execute_result"
    }
   ],
   "source": [
    "\n",
    "x = ranked_data[all_attributes]\n",
    "y = ranked_data['rank']\n",
    "x.set_axis(all_attributes_original, axis=1, inplace=True)\n",
    "\n",
    "# with sklearn\n",
    "model = LinearRegression()\n",
    "model.fit(x, y)\n",
    "print(\"Model coefficients:\\n\")\n",
    "for i in range(x.shape[1]):\n",
    "    print(x.columns[i], \"=\", model.coef_[i].round(5))\n",
    "# compute the SHAP values for the linear model\n",
    "explainer = shap.Explainer(model.predict, x)\n",
    "shap_values = explainer(x)\n",
    "shap_values\n"
   ],
   "metadata": {
    "collapsed": false
   }
  },
  {
   "cell_type": "code",
   "execution_count": 29,
   "outputs": [],
   "source": [
    "\n"
   ],
   "metadata": {
    "collapsed": false
   }
  },
  {
   "cell_type": "code",
   "execution_count": 19,
   "outputs": [
    {
     "name": "stdout",
     "output_type": "stream",
     "text": [
      "check shap values = [ 1.20065621e+00  8.38969391e-02  1.78135841e+00  1.49579358e+00\n",
      "  3.37029211e-01 -6.89646123e-01  5.92401417e+00  1.94658082e+00\n",
      " -1.63556182e+00 -3.17579532e-01 -7.24855707e-03  4.75310131e-02\n",
      " -2.90459802e-01 -1.20139914e-01 -2.36983739e+00  4.27801637e-02\n",
      " -7.40415291e-01  5.43377520e-01  7.70520308e-01 -1.83209640e-01\n",
      "  7.40578767e-02  1.03597727e-01 -1.98421301e-01  2.08497714e-01\n",
      " -3.22132881e-02  1.14499457e-01 -3.16115223e-02 -3.51138733e-01\n",
      "  6.86956303e-02 -2.24099232e-01  5.26064141e+00  8.04898630e+00\n",
      "  3.34972995e+01]\n",
      "group [-1, -1, -1, -1, -1, -1, 1, -1, -1, -1, -1, -1, -1, -1, -1, -1] size 59\n",
      "                       Attribute  Shapley values\n",
      "0                    final grade       33.497300\n",
      "1            second period grade        8.048986\n",
      "2             mother's education        5.924014\n",
      "3             first period grade        5.260641\n",
      "4  number of past class failures       -2.369837\n",
      "5             father's education        1.946581\n",
      "6  other positive Shapley values        6.872292\n",
      "7  other negative Shapley values       -4.821745\n"
     ]
    },
    {
     "name": "stderr",
     "output_type": "stream",
     "text": [
      "The frame.append method is deprecated and will be removed from pandas in a future version. Use pandas.concat instead.\n",
      "The frame.append method is deprecated and will be removed from pandas in a future version. Use pandas.concat instead.\n"
     ]
    },
    {
     "data": {
      "text/plain": "<Figure size 1008x504 with 1 Axes>",
      "image/png": "[encoded data removed]"
     },
     "metadata": {},
     "output_type": "display_data"
    }
   ],
   "source": [
    "fig, ax = plt.subplots(1, 1,figsize=(14, 7))\n",
    "group = groups_global_bounds[5]\n",
    "plot_average_shap_value_of_group(ranked_data, group, selected_attributes, all_attributes_original, shap_values, ax)\n",
    "plt.xticks([0, 10, 20, 30], fontsize=FONTSIZE)\n",
    "plt.tight_layout()\n",
    "plt.savefig(r\"student_shap_globalbounds.png\", bbox_inches='tight')"
   ],
   "metadata": {
    "collapsed": false
   }
  },
  {
   "cell_type": "code",
   "execution_count": 15,
   "outputs": [
    {
     "name": "stdout",
     "output_type": "stream",
     "text": [
      "[ 0  4  5  6  7  8  9 10 11 12 13 14 15 16 17 18 19 20]\n",
      "[ 0  1  2  3  4  5  6  7  8  9 10 11 12 13 14 15 16 17]\n"
     ]
    },
    {
     "name": "stderr",
     "output_type": "stream",
     "text": [
      "Matplotlib is currently using module://matplotlib_inline.backend_inline, which is a non-GUI backend, so cannot show the figure.\n"
     ]
    },
    {
     "data": {
      "text/plain": "<Figure size 1008x432 with 1 Axes>",
      "image/png": "[encoded data removed]"
     },
     "metadata": {},
     "output_type": "display_data"
    }
   ],
   "source": [
    "fig, ax = plt.subplots(1, 1,figsize=(14, 6))\n",
    "original_att = 'final grade'\n",
    "att = all_attributes[all_attributes_original.index(original_att)]\n",
    "group_name = \"\\{mother's education = primary \\neducation (4th grade)\\}\"\n",
    "plot_distribution_ratio(ranked_data, 'G3', original_att, group, group_name, k, ax)\n",
    "# plt.yticks([0, 0.05, 0.1, 0.15, 0.2, 0.25, 0.3, 0.35], fontsize=FONTSIZE)\n",
    "fig.show()\n",
    "plt.savefig(r\"student_value_dis_globalbounds.png\", bbox_inches='tight')\n"
   ],
   "metadata": {
    "collapsed": false
   }
  },
  {
   "cell_type": "code",
   "execution_count": null,
   "outputs": [],
   "source": [],
   "metadata": {
    "collapsed": false
   }
  },
  {
   "cell_type": "code",
   "execution_count": null,
   "outputs": [],
   "source": [],
   "metadata": {
    "collapsed": false
   }
  }
 ],
 "metadata": {
  "kernelspec": {
   "display_name": "Python 3",
   "language": "python",
   "name": "python3"
  },
  "language_info": {
   "codemirror_mode": {
    "name": "ipython",
    "version": 2
   },
   "file_extension": ".py",
   "mimetype": "text/x-python",
   "name": "python",
   "nbconvert_exporter": "python",
   "pygments_lexer": "ipython2",
   "version": "2.7.6"
  }
 },
 "nbformat": 4,
 "nbformat_minor": 0
}
