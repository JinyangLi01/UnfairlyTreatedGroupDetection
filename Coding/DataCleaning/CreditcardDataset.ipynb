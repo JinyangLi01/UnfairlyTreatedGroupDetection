{
 "cells": [
  {
   "cell_type": "markdown",
   "metadata": {
    "collapsed": true,
    "pycharm": {
     "name": "#%% md\n"
    }
   },
   "source": [
    "This notebook is to prepare credit card dataset\n"
   ]
  },
  {
   "cell_type": "code",
   "execution_count": 5,
   "outputs": [],
   "source": [
    "import pandas as pd\n",
    "from Algorithms import pattern_count"
   ],
   "metadata": {
    "collapsed": false,
    "pycharm": {
     "name": "#%%\n"
    }
   }
  },
  {
   "cell_type": "code",
   "execution_count": 21,
   "outputs": [
    {
     "name": "stdout",
     "output_type": "stream",
     "text": [
      "30000\n"
     ]
    }
   ],
   "source": [
    "file_path = r'../../InputData/CreditcardDataset/credit_card_clients.xls'\n",
    "original_data = pd.read_excel(file_path)\n",
    "print(len(original_data))"
   ],
   "metadata": {
    "collapsed": false,
    "pycharm": {
     "name": "#%%\n"
    }
   }
  },
  {
   "cell_type": "code",
   "execution_count": 22,
   "outputs": [
    {
     "name": "stdout",
     "output_type": "stream",
     "text": [
      "<class 'pandas.core.frame.DataFrame'>\n",
      "       limit_bal  sex  education  marriage  age  pay_0  pay_2  pay_3  pay_4  \\\n",
      "0          20000    2          2         1   24      2      2     -1     -1   \n",
      "1         120000    2          2         2   26     -1      2      0      0   \n",
      "2          90000    2          2         2   34      0      0      0      0   \n",
      "3          50000    2          2         1   37      0      0      0      0   \n",
      "4          50000    1          2         1   57     -1      0     -1      0   \n",
      "...          ...  ...        ...       ...  ...    ...    ...    ...    ...   \n",
      "29995     220000    1          3         1   39      0      0      0      0   \n",
      "29996     150000    1          3         2   43     -1     -1     -1     -1   \n",
      "29997      30000    1          2         2   37      4      3      2     -1   \n",
      "29998      80000    1          3         1   41      1     -1      0      0   \n",
      "29999      50000    1          2         1   46      0      0      0      0   \n",
      "\n",
      "       pay_5  ...  bill_amt4  bill_amt5  bill_amt6  pay_amt1  pay_amt2  \\\n",
      "0         -2  ...          0          0          0         0       689   \n",
      "1          0  ...       3272       3455       3261         0      1000   \n",
      "2          0  ...      14331      14948      15549      1518      1500   \n",
      "3          0  ...      28314      28959      29547      2000      2019   \n",
      "4          0  ...      20940      19146      19131      2000     36681   \n",
      "...      ...  ...        ...        ...        ...       ...       ...   \n",
      "29995      0  ...      88004      31237      15980      8500     20000   \n",
      "29996      0  ...       8979       5190          0      1837      3526   \n",
      "29997      0  ...      20878      20582      19357         0         0   \n",
      "29998      0  ...      52774      11855      48944     85900      3409   \n",
      "29999      0  ...      36535      32428      15313      2078      1800   \n",
      "\n",
      "       pay_amt3  pay_amt4  pay_amt5  pay_amt6  default payment next month  \n",
      "0             0         0         0         0                           1  \n",
      "1          1000      1000         0      2000                           1  \n",
      "2          1000      1000      1000      5000                           0  \n",
      "3          1200      1100      1069      1000                           0  \n",
      "4         10000      9000       689       679                           0  \n",
      "...         ...       ...       ...       ...                         ...  \n",
      "29995      5003      3047      5000      1000                           0  \n",
      "29996      8998       129         0         0                           0  \n",
      "29997     22000      4200      2000      3100                           1  \n",
      "29998      1178      1926     52964      1804                           1  \n",
      "29999      1430      1000      1000      1000                           1  \n",
      "\n",
      "[30000 rows x 24 columns]\n"
     ]
    }
   ],
   "source": [
    "print(type(original_data))\n",
    "print(original_data)"
   ],
   "metadata": {
    "collapsed": false,
    "pycharm": {
     "name": "#%%\n"
    }
   }
  },
  {
   "cell_type": "code",
   "execution_count": 23,
   "outputs": [
    {
     "name": "stdout",
     "output_type": "stream",
     "text": [
      "   limit_bal  sex  education  marriage  age  pay_0  pay_2  pay_3  pay_4  \\\n",
      "1     120000    2          2         2   26     -1      2      0      0   \n",
      "2      90000    2          2         2   34      0      0      0      0   \n",
      "3      50000    2          2         1   37      0      0      0      0   \n",
      "4      50000    1          2         1   57     -1      0     -1      0   \n",
      "\n",
      "   pay_5  ...  bill_amt4  bill_amt5  bill_amt6  pay_amt1  pay_amt2  pay_amt3  \\\n",
      "1      0  ...       3272       3455       3261         0      1000      1000   \n",
      "2      0  ...      14331      14948      15549      1518      1500      1000   \n",
      "3      0  ...      28314      28959      29547      2000      2019      1200   \n",
      "4      0  ...      20940      19146      19131      2000     36681     10000   \n",
      "\n",
      "   pay_amt4  pay_amt5  pay_amt6  default payment next month  \n",
      "1      1000         0      2000                           1  \n",
      "2      1000      1000      5000                           0  \n",
      "3      1100      1069      1000                           0  \n",
      "4      9000       689       679                           0  \n",
      "\n",
      "[4 rows x 24 columns]\n"
     ]
    }
   ],
   "source": [
    "print(original_data[1:5])"
   ],
   "metadata": {
    "collapsed": false,
    "pycharm": {
     "name": "#%%\n"
    }
   }
  },
  {
   "cell_type": "code",
   "execution_count": 60,
   "outputs": [
    {
     "data": {
      "text/plain": "         Unnamed: 0       limit_bal           sex     education      marriage  \\\ncount  30000.000000    30000.000000  30000.000000  30000.000000  30000.000000   \nmean   14999.500000   167484.322667      1.603733      1.853133      1.551867   \nstd     8660.398374   129747.661567      0.489129      0.790349      0.521970   \nmin        0.000000    10000.000000      1.000000      0.000000      0.000000   \n25%     7499.750000    50000.000000      1.000000      1.000000      1.000000   \n50%    14999.500000   140000.000000      2.000000      2.000000      2.000000   \n75%    22499.250000   240000.000000      2.000000      2.000000      2.000000   \nmax    29999.000000  1000000.000000      2.000000      6.000000      3.000000   \n\n                age         pay_0         pay_2         pay_3         pay_4  \\\ncount  30000.000000  30000.000000  30000.000000  30000.000000  30000.000000   \nmean      35.485500     -0.016700     -0.133767     -0.166200     -0.220667   \nstd        9.217904      1.123802      1.197186      1.196868      1.169139   \nmin       21.000000     -2.000000     -2.000000     -2.000000     -2.000000   \n25%       28.000000     -1.000000     -1.000000     -1.000000     -1.000000   \n50%       34.000000      0.000000      0.000000      0.000000      0.000000   \n75%       41.000000      0.000000      0.000000      0.000000      0.000000   \nmax       79.000000      8.000000      8.000000      8.000000      8.000000   \n\n       ...      bill_amt4      bill_amt5      bill_amt6       pay_amt1  \\\ncount  ...   30000.000000   30000.000000   30000.000000   30000.000000   \nmean   ...   43262.948967   40311.400967   38871.760400    5663.580500   \nstd    ...   64332.856134   60797.155770   59554.107537   16563.280354   \nmin    ... -170000.000000  -81334.000000 -339603.000000       0.000000   \n25%    ...    2326.750000    1763.000000    1256.000000    1000.000000   \n50%    ...   19052.000000   18104.500000   17071.000000    2100.000000   \n75%    ...   54506.000000   50190.500000   49198.250000    5006.000000   \nmax    ...  891586.000000  927171.000000  961664.000000  873552.000000   \n\n           pay_amt2      pay_amt3       pay_amt4       pay_amt5  \\\ncount  3.000000e+04   30000.00000   30000.000000   30000.000000   \nmean   5.921163e+03    5225.68150    4826.076867    4799.387633   \nstd    2.304087e+04   17606.96147   15666.159744   15278.305679   \nmin    0.000000e+00       0.00000       0.000000       0.000000   \n25%    8.330000e+02     390.00000     296.000000     252.500000   \n50%    2.009000e+03    1800.00000    1500.000000    1500.000000   \n75%    5.000000e+03    4505.00000    4013.250000    4031.500000   \nmax    1.684259e+06  896040.00000  621000.000000  426529.000000   \n\n            pay_amt6  default payment next month  \ncount   30000.000000                30000.000000  \nmean     5215.502567                    0.221200  \nstd     17777.465775                    0.415062  \nmin         0.000000                    0.000000  \n25%       117.750000                    0.000000  \n50%      1500.000000                    0.000000  \n75%      4000.000000                    0.000000  \nmax    528666.000000                    1.000000  \n\n[8 rows x 25 columns]",
      "text/html": "<div>\n<style scoped>\n    .dataframe tbody tr th:only-of-type {\n        vertical-align: middle;\n    }\n\n    .dataframe tbody tr th {\n        vertical-align: top;\n    }\n\n    .dataframe thead th {\n        text-align: right;\n    }\n</style>\n<table border=\"1\" class=\"dataframe\">\n  <thead>\n    <tr style=\"text-align: right;\">\n      <th></th>\n      <th>Unnamed: 0</th>\n      <th>limit_bal</th>\n      <th>sex</th>\n      <th>education</th>\n      <th>marriage</th>\n      <th>age</th>\n      <th>pay_0</th>\n      <th>pay_2</th>\n      <th>pay_3</th>\n      <th>pay_4</th>\n      <th>...</th>\n      <th>bill_amt4</th>\n      <th>bill_amt5</th>\n      <th>bill_amt6</th>\n      <th>pay_amt1</th>\n      <th>pay_amt2</th>\n      <th>pay_amt3</th>\n      <th>pay_amt4</th>\n      <th>pay_amt5</th>\n      <th>pay_amt6</th>\n      <th>default payment next month</th>\n    </tr>\n  </thead>\n  <tbody>\n    <tr>\n      <th>count</th>\n      <td>30000.000000</td>\n      <td>30000.000000</td>\n      <td>30000.000000</td>\n      <td>30000.000000</td>\n      <td>30000.000000</td>\n      <td>30000.000000</td>\n      <td>30000.000000</td>\n      <td>30000.000000</td>\n      <td>30000.000000</td>\n      <td>30000.000000</td>\n      <td>...</td>\n      <td>30000.000000</td>\n      <td>30000.000000</td>\n      <td>30000.000000</td>\n      <td>30000.000000</td>\n      <td>3.000000e+04</td>\n      <td>30000.00000</td>\n      <td>30000.000000</td>\n      <td>30000.000000</td>\n      <td>30000.000000</td>\n      <td>30000.000000</td>\n    </tr>\n    <tr>\n      <th>mean</th>\n      <td>14999.500000</td>\n      <td>167484.322667</td>\n      <td>1.603733</td>\n      <td>1.853133</td>\n      <td>1.551867</td>\n      <td>35.485500</td>\n      <td>-0.016700</td>\n      <td>-0.133767</td>\n      <td>-0.166200</td>\n      <td>-0.220667</td>\n      <td>...</td>\n      <td>43262.948967</td>\n      <td>40311.400967</td>\n      <td>38871.760400</td>\n      <td>5663.580500</td>\n      <td>5.921163e+03</td>\n      <td>5225.68150</td>\n      <td>4826.076867</td>\n      <td>4799.387633</td>\n      <td>5215.502567</td>\n      <td>0.221200</td>\n    </tr>\n    <tr>\n      <th>std</th>\n      <td>8660.398374</td>\n      <td>129747.661567</td>\n      <td>0.489129</td>\n      <td>0.790349</td>\n      <td>0.521970</td>\n      <td>9.217904</td>\n      <td>1.123802</td>\n      <td>1.197186</td>\n      <td>1.196868</td>\n      <td>1.169139</td>\n      <td>...</td>\n      <td>64332.856134</td>\n      <td>60797.155770</td>\n      <td>59554.107537</td>\n      <td>16563.280354</td>\n      <td>2.304087e+04</td>\n      <td>17606.96147</td>\n      <td>15666.159744</td>\n      <td>15278.305679</td>\n      <td>17777.465775</td>\n      <td>0.415062</td>\n    </tr>\n    <tr>\n      <th>min</th>\n      <td>0.000000</td>\n      <td>10000.000000</td>\n      <td>1.000000</td>\n      <td>0.000000</td>\n      <td>0.000000</td>\n      <td>21.000000</td>\n      <td>-2.000000</td>\n      <td>-2.000000</td>\n      <td>-2.000000</td>\n      <td>-2.000000</td>\n      <td>...</td>\n      <td>-170000.000000</td>\n      <td>-81334.000000</td>\n      <td>-339603.000000</td>\n      <td>0.000000</td>\n      <td>0.000000e+00</td>\n      <td>0.00000</td>\n      <td>0.000000</td>\n      <td>0.000000</td>\n      <td>0.000000</td>\n      <td>0.000000</td>\n    </tr>\n    <tr>\n      <th>25%</th>\n      <td>7499.750000</td>\n      <td>50000.000000</td>\n      <td>1.000000</td>\n      <td>1.000000</td>\n      <td>1.000000</td>\n      <td>28.000000</td>\n      <td>-1.000000</td>\n      <td>-1.000000</td>\n      <td>-1.000000</td>\n      <td>-1.000000</td>\n      <td>...</td>\n      <td>2326.750000</td>\n      <td>1763.000000</td>\n      <td>1256.000000</td>\n      <td>1000.000000</td>\n      <td>8.330000e+02</td>\n      <td>390.00000</td>\n      <td>296.000000</td>\n      <td>252.500000</td>\n      <td>117.750000</td>\n      <td>0.000000</td>\n    </tr>\n    <tr>\n      <th>50%</th>\n      <td>14999.500000</td>\n      <td>140000.000000</td>\n      <td>2.000000</td>\n      <td>2.000000</td>\n      <td>2.000000</td>\n      <td>34.000000</td>\n      <td>0.000000</td>\n      <td>0.000000</td>\n      <td>0.000000</td>\n      <td>0.000000</td>\n      <td>...</td>\n      <td>19052.000000</td>\n      <td>18104.500000</td>\n      <td>17071.000000</td>\n      <td>2100.000000</td>\n      <td>2.009000e+03</td>\n      <td>1800.00000</td>\n      <td>1500.000000</td>\n      <td>1500.000000</td>\n      <td>1500.000000</td>\n      <td>0.000000</td>\n    </tr>\n    <tr>\n      <th>75%</th>\n      <td>22499.250000</td>\n      <td>240000.000000</td>\n      <td>2.000000</td>\n      <td>2.000000</td>\n      <td>2.000000</td>\n      <td>41.000000</td>\n      <td>0.000000</td>\n      <td>0.000000</td>\n      <td>0.000000</td>\n      <td>0.000000</td>\n      <td>...</td>\n      <td>54506.000000</td>\n      <td>50190.500000</td>\n      <td>49198.250000</td>\n      <td>5006.000000</td>\n      <td>5.000000e+03</td>\n      <td>4505.00000</td>\n      <td>4013.250000</td>\n      <td>4031.500000</td>\n      <td>4000.000000</td>\n      <td>0.000000</td>\n    </tr>\n    <tr>\n      <th>max</th>\n      <td>29999.000000</td>\n      <td>1000000.000000</td>\n      <td>2.000000</td>\n      <td>6.000000</td>\n      <td>3.000000</td>\n      <td>79.000000</td>\n      <td>8.000000</td>\n      <td>8.000000</td>\n      <td>8.000000</td>\n      <td>8.000000</td>\n      <td>...</td>\n      <td>891586.000000</td>\n      <td>927171.000000</td>\n      <td>961664.000000</td>\n      <td>873552.000000</td>\n      <td>1.684259e+06</td>\n      <td>896040.00000</td>\n      <td>621000.000000</td>\n      <td>426529.000000</td>\n      <td>528666.000000</td>\n      <td>1.000000</td>\n    </tr>\n  </tbody>\n</table>\n<p>8 rows × 25 columns</p>\n</div>"
     },
     "execution_count": 60,
     "metadata": {},
     "output_type": "execute_result"
    }
   ],
   "source": [
    "original_data = pd.read_csv(r'../../InputData/CreditcardDataset/credit_card_clients.csv')\n",
    "\n",
    "original_data.describe()"
   ],
   "metadata": {
    "collapsed": false,
    "pycharm": {
     "name": "#%%\n"
    }
   }
  },
  {
   "cell_type": "code",
   "execution_count": 61,
   "outputs": [],
   "source": [
    "del original_data['Unnamed: 0']\n"
   ],
   "metadata": {
    "collapsed": false,
    "pycharm": {
     "name": "#%%\n"
    }
   }
  },
  {
   "cell_type": "code",
   "execution_count": 62,
   "outputs": [],
   "source": [
    "original_data.to_csv(r'../../InputData/CreditcardDataset/credit_card_clients.csv')"
   ],
   "metadata": {
    "collapsed": false,
    "pycharm": {
     "name": "#%%\n"
    }
   }
  },
  {
   "cell_type": "code",
   "execution_count": 63,
   "outputs": [
    {
     "data": {
      "text/plain": "            limit_bal           sex     education      marriage           age  \\\ncount    30000.000000  30000.000000  30000.000000  30000.000000  30000.000000   \nmean    167484.322667      1.603733      1.853133      1.551867     35.485500   \nstd     129747.661567      0.489129      0.790349      0.521970      9.217904   \nmin      10000.000000      1.000000      0.000000      0.000000     21.000000   \n25%      50000.000000      1.000000      1.000000      1.000000     28.000000   \n50%     140000.000000      2.000000      2.000000      2.000000     34.000000   \n75%     240000.000000      2.000000      2.000000      2.000000     41.000000   \nmax    1000000.000000      2.000000      6.000000      3.000000     79.000000   \n\n              pay_0         pay_2         pay_3         pay_4         pay_5  \\\ncount  30000.000000  30000.000000  30000.000000  30000.000000  30000.000000   \nmean      -0.016700     -0.133767     -0.166200     -0.220667     -0.266200   \nstd        1.123802      1.197186      1.196868      1.169139      1.133187   \nmin       -2.000000     -2.000000     -2.000000     -2.000000     -2.000000   \n25%       -1.000000     -1.000000     -1.000000     -1.000000     -1.000000   \n50%        0.000000      0.000000      0.000000      0.000000      0.000000   \n75%        0.000000      0.000000      0.000000      0.000000      0.000000   \nmax        8.000000      8.000000      8.000000      8.000000      8.000000   \n\n       ...      bill_amt4      bill_amt5      bill_amt6       pay_amt1  \\\ncount  ...   30000.000000   30000.000000   30000.000000   30000.000000   \nmean   ...   43262.948967   40311.400967   38871.760400    5663.580500   \nstd    ...   64332.856134   60797.155770   59554.107537   16563.280354   \nmin    ... -170000.000000  -81334.000000 -339603.000000       0.000000   \n25%    ...    2326.750000    1763.000000    1256.000000    1000.000000   \n50%    ...   19052.000000   18104.500000   17071.000000    2100.000000   \n75%    ...   54506.000000   50190.500000   49198.250000    5006.000000   \nmax    ...  891586.000000  927171.000000  961664.000000  873552.000000   \n\n           pay_amt2      pay_amt3       pay_amt4       pay_amt5  \\\ncount  3.000000e+04   30000.00000   30000.000000   30000.000000   \nmean   5.921163e+03    5225.68150    4826.076867    4799.387633   \nstd    2.304087e+04   17606.96147   15666.159744   15278.305679   \nmin    0.000000e+00       0.00000       0.000000       0.000000   \n25%    8.330000e+02     390.00000     296.000000     252.500000   \n50%    2.009000e+03    1800.00000    1500.000000    1500.000000   \n75%    5.000000e+03    4505.00000    4013.250000    4031.500000   \nmax    1.684259e+06  896040.00000  621000.000000  426529.000000   \n\n            pay_amt6  default payment next month  \ncount   30000.000000                30000.000000  \nmean     5215.502567                    0.221200  \nstd     17777.465775                    0.415062  \nmin         0.000000                    0.000000  \n25%       117.750000                    0.000000  \n50%      1500.000000                    0.000000  \n75%      4000.000000                    0.000000  \nmax    528666.000000                    1.000000  \n\n[8 rows x 24 columns]",
      "text/html": "<div>\n<style scoped>\n    .dataframe tbody tr th:only-of-type {\n        vertical-align: middle;\n    }\n\n    .dataframe tbody tr th {\n        vertical-align: top;\n    }\n\n    .dataframe thead th {\n        text-align: right;\n    }\n</style>\n<table border=\"1\" class=\"dataframe\">\n  <thead>\n    <tr style=\"text-align: right;\">\n      <th></th>\n      <th>limit_bal</th>\n      <th>sex</th>\n      <th>education</th>\n      <th>marriage</th>\n      <th>age</th>\n      <th>pay_0</th>\n      <th>pay_2</th>\n      <th>pay_3</th>\n      <th>pay_4</th>\n      <th>pay_5</th>\n      <th>...</th>\n      <th>bill_amt4</th>\n      <th>bill_amt5</th>\n      <th>bill_amt6</th>\n      <th>pay_amt1</th>\n      <th>pay_amt2</th>\n      <th>pay_amt3</th>\n      <th>pay_amt4</th>\n      <th>pay_amt5</th>\n      <th>pay_amt6</th>\n      <th>default payment next month</th>\n    </tr>\n  </thead>\n  <tbody>\n    <tr>\n      <th>count</th>\n      <td>30000.000000</td>\n      <td>30000.000000</td>\n      <td>30000.000000</td>\n      <td>30000.000000</td>\n      <td>30000.000000</td>\n      <td>30000.000000</td>\n      <td>30000.000000</td>\n      <td>30000.000000</td>\n      <td>30000.000000</td>\n      <td>30000.000000</td>\n      <td>...</td>\n      <td>30000.000000</td>\n      <td>30000.000000</td>\n      <td>30000.000000</td>\n      <td>30000.000000</td>\n      <td>3.000000e+04</td>\n      <td>30000.00000</td>\n      <td>30000.000000</td>\n      <td>30000.000000</td>\n      <td>30000.000000</td>\n      <td>30000.000000</td>\n    </tr>\n    <tr>\n      <th>mean</th>\n      <td>167484.322667</td>\n      <td>1.603733</td>\n      <td>1.853133</td>\n      <td>1.551867</td>\n      <td>35.485500</td>\n      <td>-0.016700</td>\n      <td>-0.133767</td>\n      <td>-0.166200</td>\n      <td>-0.220667</td>\n      <td>-0.266200</td>\n      <td>...</td>\n      <td>43262.948967</td>\n      <td>40311.400967</td>\n      <td>38871.760400</td>\n      <td>5663.580500</td>\n      <td>5.921163e+03</td>\n      <td>5225.68150</td>\n      <td>4826.076867</td>\n      <td>4799.387633</td>\n      <td>5215.502567</td>\n      <td>0.221200</td>\n    </tr>\n    <tr>\n      <th>std</th>\n      <td>129747.661567</td>\n      <td>0.489129</td>\n      <td>0.790349</td>\n      <td>0.521970</td>\n      <td>9.217904</td>\n      <td>1.123802</td>\n      <td>1.197186</td>\n      <td>1.196868</td>\n      <td>1.169139</td>\n      <td>1.133187</td>\n      <td>...</td>\n      <td>64332.856134</td>\n      <td>60797.155770</td>\n      <td>59554.107537</td>\n      <td>16563.280354</td>\n      <td>2.304087e+04</td>\n      <td>17606.96147</td>\n      <td>15666.159744</td>\n      <td>15278.305679</td>\n      <td>17777.465775</td>\n      <td>0.415062</td>\n    </tr>\n    <tr>\n      <th>min</th>\n      <td>10000.000000</td>\n      <td>1.000000</td>\n      <td>0.000000</td>\n      <td>0.000000</td>\n      <td>21.000000</td>\n      <td>-2.000000</td>\n      <td>-2.000000</td>\n      <td>-2.000000</td>\n      <td>-2.000000</td>\n      <td>-2.000000</td>\n      <td>...</td>\n      <td>-170000.000000</td>\n      <td>-81334.000000</td>\n      <td>-339603.000000</td>\n      <td>0.000000</td>\n      <td>0.000000e+00</td>\n      <td>0.00000</td>\n      <td>0.000000</td>\n      <td>0.000000</td>\n      <td>0.000000</td>\n      <td>0.000000</td>\n    </tr>\n    <tr>\n      <th>25%</th>\n      <td>50000.000000</td>\n      <td>1.000000</td>\n      <td>1.000000</td>\n      <td>1.000000</td>\n      <td>28.000000</td>\n      <td>-1.000000</td>\n      <td>-1.000000</td>\n      <td>-1.000000</td>\n      <td>-1.000000</td>\n      <td>-1.000000</td>\n      <td>...</td>\n      <td>2326.750000</td>\n      <td>1763.000000</td>\n      <td>1256.000000</td>\n      <td>1000.000000</td>\n      <td>8.330000e+02</td>\n      <td>390.00000</td>\n      <td>296.000000</td>\n      <td>252.500000</td>\n      <td>117.750000</td>\n      <td>0.000000</td>\n    </tr>\n    <tr>\n      <th>50%</th>\n      <td>140000.000000</td>\n      <td>2.000000</td>\n      <td>2.000000</td>\n      <td>2.000000</td>\n      <td>34.000000</td>\n      <td>0.000000</td>\n      <td>0.000000</td>\n      <td>0.000000</td>\n      <td>0.000000</td>\n      <td>0.000000</td>\n      <td>...</td>\n      <td>19052.000000</td>\n      <td>18104.500000</td>\n      <td>17071.000000</td>\n      <td>2100.000000</td>\n      <td>2.009000e+03</td>\n      <td>1800.00000</td>\n      <td>1500.000000</td>\n      <td>1500.000000</td>\n      <td>1500.000000</td>\n      <td>0.000000</td>\n    </tr>\n    <tr>\n      <th>75%</th>\n      <td>240000.000000</td>\n      <td>2.000000</td>\n      <td>2.000000</td>\n      <td>2.000000</td>\n      <td>41.000000</td>\n      <td>0.000000</td>\n      <td>0.000000</td>\n      <td>0.000000</td>\n      <td>0.000000</td>\n      <td>0.000000</td>\n      <td>...</td>\n      <td>54506.000000</td>\n      <td>50190.500000</td>\n      <td>49198.250000</td>\n      <td>5006.000000</td>\n      <td>5.000000e+03</td>\n      <td>4505.00000</td>\n      <td>4013.250000</td>\n      <td>4031.500000</td>\n      <td>4000.000000</td>\n      <td>0.000000</td>\n    </tr>\n    <tr>\n      <th>max</th>\n      <td>1000000.000000</td>\n      <td>2.000000</td>\n      <td>6.000000</td>\n      <td>3.000000</td>\n      <td>79.000000</td>\n      <td>8.000000</td>\n      <td>8.000000</td>\n      <td>8.000000</td>\n      <td>8.000000</td>\n      <td>8.000000</td>\n      <td>...</td>\n      <td>891586.000000</td>\n      <td>927171.000000</td>\n      <td>961664.000000</td>\n      <td>873552.000000</td>\n      <td>1.684259e+06</td>\n      <td>896040.00000</td>\n      <td>621000.000000</td>\n      <td>426529.000000</td>\n      <td>528666.000000</td>\n      <td>1.000000</td>\n    </tr>\n  </tbody>\n</table>\n<p>8 rows × 24 columns</p>\n</div>"
     },
     "execution_count": 63,
     "metadata": {},
     "output_type": "execute_result"
    }
   ],
   "source": [
    "original_data.describe()"
   ],
   "metadata": {
    "collapsed": false,
    "pycharm": {
     "name": "#%%\n"
    }
   }
  },
  {
   "cell_type": "code",
   "execution_count": 64,
   "outputs": [],
   "source": [
    "def limit_bal(x):\n",
    "    if x < 200000:\n",
    "        return 0\n",
    "    elif x < 400000:\n",
    "        return 1\n",
    "    elif x < 600000:\n",
    "        return 2\n",
    "    elif x < 800000:\n",
    "        return 3\n",
    "    else:\n",
    "        return 4\n"
   ],
   "metadata": {
    "collapsed": false,
    "pycharm": {
     "name": "#%%\n"
    }
   }
  },
  {
   "cell_type": "code",
   "execution_count": 65,
   "outputs": [
    {
     "name": "stdout",
     "output_type": "stream",
     "text": [
      "0         20000\n",
      "1        120000\n",
      "2         90000\n",
      "3         50000\n",
      "4         50000\n",
      "          ...  \n",
      "29995    220000\n",
      "29996    150000\n",
      "29997     30000\n",
      "29998     80000\n",
      "29999     50000\n",
      "Name: limit_bal, Length: 30000, dtype: int64\n",
      "0        0\n",
      "1        0\n",
      "2        0\n",
      "3        0\n",
      "4        0\n",
      "        ..\n",
      "29995    1\n",
      "29996    0\n",
      "29997    0\n",
      "29998    0\n",
      "29999    0\n",
      "Name: limit_bal, Length: 30000, dtype: int64\n"
     ]
    }
   ],
   "source": [
    "print(original_data['limit_bal'])\n",
    "original_data['limit_bal'] = original_data['limit_bal'].map(lambda x: limit_bal(x))\n",
    "print(original_data['limit_bal'])"
   ],
   "metadata": {
    "collapsed": false,
    "pycharm": {
     "name": "#%%\n"
    }
   }
  },
  {
   "cell_type": "code",
   "execution_count": 66,
   "outputs": [
    {
     "name": "stdout",
     "output_type": "stream",
     "text": [
      "0        24\n",
      "1        26\n",
      "2        34\n",
      "3        37\n",
      "4        57\n",
      "         ..\n",
      "29995    39\n",
      "29996    43\n",
      "29997    37\n",
      "29998    41\n",
      "29999    46\n",
      "Name: age, Length: 30000, dtype: int64\n",
      "0        0\n",
      "1        0\n",
      "2        0\n",
      "3        0\n",
      "4        1\n",
      "        ..\n",
      "29995    0\n",
      "29996    1\n",
      "29997    0\n",
      "29998    1\n",
      "29999    1\n",
      "Name: age, Length: 30000, dtype: int64\n"
     ]
    }
   ],
   "source": [
    "\n",
    "def age(x):\n",
    "    if x < 40:\n",
    "        return 0\n",
    "    elif x < 60:\n",
    "        return 1\n",
    "    else:\n",
    "        return 2\n",
    "\n",
    "print(original_data['age'])\n",
    "original_data['age'] = original_data['age'].map(lambda x: age(x))\n",
    "print(original_data['age'])"
   ],
   "metadata": {
    "collapsed": false,
    "pycharm": {
     "name": "#%%\n"
    }
   }
  },
  {
   "cell_type": "code",
   "execution_count": 67,
   "outputs": [
    {
     "data": {
      "text/plain": "          limit_bal           sex     education      marriage          age  \\\ncount  30000.000000  30000.000000  30000.000000  30000.000000  30000.00000   \nmean       0.444100      1.603733      1.853133      1.551867      0.31610   \nstd        0.631259      0.489129      0.790349      0.521970      0.48866   \nmin        0.000000      1.000000      0.000000      0.000000      0.00000   \n25%        0.000000      1.000000      1.000000      1.000000      0.00000   \n50%        0.000000      2.000000      2.000000      2.000000      0.00000   \n75%        1.000000      2.000000      2.000000      2.000000      1.00000   \nmax        4.000000      2.000000      6.000000      3.000000      2.00000   \n\n              pay_0         pay_2         pay_3         pay_4         pay_5  \\\ncount  30000.000000  30000.000000  30000.000000  30000.000000  30000.000000   \nmean      -0.016700     -0.133767     -0.166200     -0.220667     -0.266200   \nstd        1.123802      1.197186      1.196868      1.169139      1.133187   \nmin       -2.000000     -2.000000     -2.000000     -2.000000     -2.000000   \n25%       -1.000000     -1.000000     -1.000000     -1.000000     -1.000000   \n50%        0.000000      0.000000      0.000000      0.000000      0.000000   \n75%        0.000000      0.000000      0.000000      0.000000      0.000000   \nmax        8.000000      8.000000      8.000000      8.000000      8.000000   \n\n       ...      bill_amt4      bill_amt5      bill_amt6       pay_amt1  \\\ncount  ...   30000.000000   30000.000000   30000.000000   30000.000000   \nmean   ...   43262.948967   40311.400967   38871.760400    5663.580500   \nstd    ...   64332.856134   60797.155770   59554.107537   16563.280354   \nmin    ... -170000.000000  -81334.000000 -339603.000000       0.000000   \n25%    ...    2326.750000    1763.000000    1256.000000    1000.000000   \n50%    ...   19052.000000   18104.500000   17071.000000    2100.000000   \n75%    ...   54506.000000   50190.500000   49198.250000    5006.000000   \nmax    ...  891586.000000  927171.000000  961664.000000  873552.000000   \n\n           pay_amt2      pay_amt3       pay_amt4       pay_amt5  \\\ncount  3.000000e+04   30000.00000   30000.000000   30000.000000   \nmean   5.921163e+03    5225.68150    4826.076867    4799.387633   \nstd    2.304087e+04   17606.96147   15666.159744   15278.305679   \nmin    0.000000e+00       0.00000       0.000000       0.000000   \n25%    8.330000e+02     390.00000     296.000000     252.500000   \n50%    2.009000e+03    1800.00000    1500.000000    1500.000000   \n75%    5.000000e+03    4505.00000    4013.250000    4031.500000   \nmax    1.684259e+06  896040.00000  621000.000000  426529.000000   \n\n            pay_amt6  default payment next month  \ncount   30000.000000                30000.000000  \nmean     5215.502567                    0.221200  \nstd     17777.465775                    0.415062  \nmin         0.000000                    0.000000  \n25%       117.750000                    0.000000  \n50%      1500.000000                    0.000000  \n75%      4000.000000                    0.000000  \nmax    528666.000000                    1.000000  \n\n[8 rows x 24 columns]",
      "text/html": "<div>\n<style scoped>\n    .dataframe tbody tr th:only-of-type {\n        vertical-align: middle;\n    }\n\n    .dataframe tbody tr th {\n        vertical-align: top;\n    }\n\n    .dataframe thead th {\n        text-align: right;\n    }\n</style>\n<table border=\"1\" class=\"dataframe\">\n  <thead>\n    <tr style=\"text-align: right;\">\n      <th></th>\n      <th>limit_bal</th>\n      <th>sex</th>\n      <th>education</th>\n      <th>marriage</th>\n      <th>age</th>\n      <th>pay_0</th>\n      <th>pay_2</th>\n      <th>pay_3</th>\n      <th>pay_4</th>\n      <th>pay_5</th>\n      <th>...</th>\n      <th>bill_amt4</th>\n      <th>bill_amt5</th>\n      <th>bill_amt6</th>\n      <th>pay_amt1</th>\n      <th>pay_amt2</th>\n      <th>pay_amt3</th>\n      <th>pay_amt4</th>\n      <th>pay_amt5</th>\n      <th>pay_amt6</th>\n      <th>default payment next month</th>\n    </tr>\n  </thead>\n  <tbody>\n    <tr>\n      <th>count</th>\n      <td>30000.000000</td>\n      <td>30000.000000</td>\n      <td>30000.000000</td>\n      <td>30000.000000</td>\n      <td>30000.00000</td>\n      <td>30000.000000</td>\n      <td>30000.000000</td>\n      <td>30000.000000</td>\n      <td>30000.000000</td>\n      <td>30000.000000</td>\n      <td>...</td>\n      <td>30000.000000</td>\n      <td>30000.000000</td>\n      <td>30000.000000</td>\n      <td>30000.000000</td>\n      <td>3.000000e+04</td>\n      <td>30000.00000</td>\n      <td>30000.000000</td>\n      <td>30000.000000</td>\n      <td>30000.000000</td>\n      <td>30000.000000</td>\n    </tr>\n    <tr>\n      <th>mean</th>\n      <td>0.444100</td>\n      <td>1.603733</td>\n      <td>1.853133</td>\n      <td>1.551867</td>\n      <td>0.31610</td>\n      <td>-0.016700</td>\n      <td>-0.133767</td>\n      <td>-0.166200</td>\n      <td>-0.220667</td>\n      <td>-0.266200</td>\n      <td>...</td>\n      <td>43262.948967</td>\n      <td>40311.400967</td>\n      <td>38871.760400</td>\n      <td>5663.580500</td>\n      <td>5.921163e+03</td>\n      <td>5225.68150</td>\n      <td>4826.076867</td>\n      <td>4799.387633</td>\n      <td>5215.502567</td>\n      <td>0.221200</td>\n    </tr>\n    <tr>\n      <th>std</th>\n      <td>0.631259</td>\n      <td>0.489129</td>\n      <td>0.790349</td>\n      <td>0.521970</td>\n      <td>0.48866</td>\n      <td>1.123802</td>\n      <td>1.197186</td>\n      <td>1.196868</td>\n      <td>1.169139</td>\n      <td>1.133187</td>\n      <td>...</td>\n      <td>64332.856134</td>\n      <td>60797.155770</td>\n      <td>59554.107537</td>\n      <td>16563.280354</td>\n      <td>2.304087e+04</td>\n      <td>17606.96147</td>\n      <td>15666.159744</td>\n      <td>15278.305679</td>\n      <td>17777.465775</td>\n      <td>0.415062</td>\n    </tr>\n    <tr>\n      <th>min</th>\n      <td>0.000000</td>\n      <td>1.000000</td>\n      <td>0.000000</td>\n      <td>0.000000</td>\n      <td>0.00000</td>\n      <td>-2.000000</td>\n      <td>-2.000000</td>\n      <td>-2.000000</td>\n      <td>-2.000000</td>\n      <td>-2.000000</td>\n      <td>...</td>\n      <td>-170000.000000</td>\n      <td>-81334.000000</td>\n      <td>-339603.000000</td>\n      <td>0.000000</td>\n      <td>0.000000e+00</td>\n      <td>0.00000</td>\n      <td>0.000000</td>\n      <td>0.000000</td>\n      <td>0.000000</td>\n      <td>0.000000</td>\n    </tr>\n    <tr>\n      <th>25%</th>\n      <td>0.000000</td>\n      <td>1.000000</td>\n      <td>1.000000</td>\n      <td>1.000000</td>\n      <td>0.00000</td>\n      <td>-1.000000</td>\n      <td>-1.000000</td>\n      <td>-1.000000</td>\n      <td>-1.000000</td>\n      <td>-1.000000</td>\n      <td>...</td>\n      <td>2326.750000</td>\n      <td>1763.000000</td>\n      <td>1256.000000</td>\n      <td>1000.000000</td>\n      <td>8.330000e+02</td>\n      <td>390.00000</td>\n      <td>296.000000</td>\n      <td>252.500000</td>\n      <td>117.750000</td>\n      <td>0.000000</td>\n    </tr>\n    <tr>\n      <th>50%</th>\n      <td>0.000000</td>\n      <td>2.000000</td>\n      <td>2.000000</td>\n      <td>2.000000</td>\n      <td>0.00000</td>\n      <td>0.000000</td>\n      <td>0.000000</td>\n      <td>0.000000</td>\n      <td>0.000000</td>\n      <td>0.000000</td>\n      <td>...</td>\n      <td>19052.000000</td>\n      <td>18104.500000</td>\n      <td>17071.000000</td>\n      <td>2100.000000</td>\n      <td>2.009000e+03</td>\n      <td>1800.00000</td>\n      <td>1500.000000</td>\n      <td>1500.000000</td>\n      <td>1500.000000</td>\n      <td>0.000000</td>\n    </tr>\n    <tr>\n      <th>75%</th>\n      <td>1.000000</td>\n      <td>2.000000</td>\n      <td>2.000000</td>\n      <td>2.000000</td>\n      <td>1.00000</td>\n      <td>0.000000</td>\n      <td>0.000000</td>\n      <td>0.000000</td>\n      <td>0.000000</td>\n      <td>0.000000</td>\n      <td>...</td>\n      <td>54506.000000</td>\n      <td>50190.500000</td>\n      <td>49198.250000</td>\n      <td>5006.000000</td>\n      <td>5.000000e+03</td>\n      <td>4505.00000</td>\n      <td>4013.250000</td>\n      <td>4031.500000</td>\n      <td>4000.000000</td>\n      <td>0.000000</td>\n    </tr>\n    <tr>\n      <th>max</th>\n      <td>4.000000</td>\n      <td>2.000000</td>\n      <td>6.000000</td>\n      <td>3.000000</td>\n      <td>2.00000</td>\n      <td>8.000000</td>\n      <td>8.000000</td>\n      <td>8.000000</td>\n      <td>8.000000</td>\n      <td>8.000000</td>\n      <td>...</td>\n      <td>891586.000000</td>\n      <td>927171.000000</td>\n      <td>961664.000000</td>\n      <td>873552.000000</td>\n      <td>1.684259e+06</td>\n      <td>896040.00000</td>\n      <td>621000.000000</td>\n      <td>426529.000000</td>\n      <td>528666.000000</td>\n      <td>1.000000</td>\n    </tr>\n  </tbody>\n</table>\n<p>8 rows × 24 columns</p>\n</div>"
     },
     "execution_count": 67,
     "metadata": {},
     "output_type": "execute_result"
    }
   ],
   "source": [
    "\n",
    "original_data.describe()"
   ],
   "metadata": {
    "collapsed": false,
    "pycharm": {
     "name": "#%%\n"
    }
   }
  },
  {
   "cell_type": "code",
   "execution_count": 176,
   "outputs": [],
   "source": [
    "original_data.to_csv(r'../../InputData/CreditcardDataset/credit_card_clients_categorized_1.csv')\n"
   ],
   "metadata": {
    "collapsed": false,
    "pycharm": {
     "name": "#%%\n"
    }
   }
  },
  {
   "cell_type": "code",
   "execution_count": 175,
   "outputs": [
    {
     "data": {
      "text/plain": "          limit_bal           sex     education      marriage          age  \\\ncount  30000.000000  30000.000000  30000.000000  30000.000000  30000.00000   \nmean       0.444100      1.603733      1.853133      1.551867      0.31610   \nstd        0.631259      0.489129      0.790349      0.521970      0.48866   \nmin        0.000000      1.000000      0.000000      0.000000      0.00000   \n25%        0.000000      1.000000      1.000000      1.000000      0.00000   \n50%        0.000000      2.000000      2.000000      2.000000      0.00000   \n75%        1.000000      2.000000      2.000000      2.000000      1.00000   \nmax        4.000000      2.000000      6.000000      3.000000      2.00000   \n\n              pay_0         pay_2         pay_3         pay_4         pay_5  \\\ncount  30000.000000  30000.000000  30000.000000  30000.000000  30000.000000   \nmean       1.983300      1.866233      1.833800      1.779333      1.733800   \nstd        1.123802      1.197186      1.196868      1.169139      1.133187   \nmin        0.000000      0.000000      0.000000      0.000000      0.000000   \n25%        1.000000      1.000000      1.000000      1.000000      1.000000   \n50%        2.000000      2.000000      2.000000      2.000000      2.000000   \n75%        2.000000      2.000000      2.000000      2.000000      2.000000   \nmax       10.000000     10.000000     10.000000     10.000000     10.000000   \n\n       ...     bill_amt4     bill_amt5     bill_amt6      pay_amt1  \\\ncount  ...  30000.000000  30000.000000  30000.000000  30000.000000   \nmean   ...      1.014967      0.031767      0.984733      1.001533   \nstd    ...      0.258221      0.190155      0.174646      0.044696   \nmin    ...      0.000000      0.000000      0.000000      1.000000   \n25%    ...      1.000000      0.000000      1.000000      1.000000   \n50%    ...      1.000000      0.000000      1.000000      1.000000   \n75%    ...      1.000000      0.000000      1.000000      1.000000   \nmax    ...      5.000000      4.000000      3.000000      4.000000   \n\n           pay_amt2      pay_amt3      pay_amt4      pay_amt5      pay_amt6  \\\ncount  30000.000000  30000.000000  30000.000000  30000.000000  30000.000000   \nmean       0.000467      0.001533      0.001267      0.007200      0.009933   \nstd        0.033662      0.046163      0.039981      0.104953      0.124238   \nmin        0.000000      0.000000      0.000000      0.000000      0.000000   \n25%        0.000000      0.000000      0.000000      0.000000      0.000000   \n50%        0.000000      0.000000      0.000000      0.000000      0.000000   \n75%        0.000000      0.000000      0.000000      0.000000      0.000000   \nmax        3.000000      3.000000      2.000000      3.000000      4.000000   \n\n       default payment next month  \ncount                30000.000000  \nmean                     0.221200  \nstd                      0.415062  \nmin                      0.000000  \n25%                      0.000000  \n50%                      0.000000  \n75%                      0.000000  \nmax                      1.000000  \n\n[8 rows x 24 columns]",
      "text/html": "<div>\n<style scoped>\n    .dataframe tbody tr th:only-of-type {\n        vertical-align: middle;\n    }\n\n    .dataframe tbody tr th {\n        vertical-align: top;\n    }\n\n    .dataframe thead th {\n        text-align: right;\n    }\n</style>\n<table border=\"1\" class=\"dataframe\">\n  <thead>\n    <tr style=\"text-align: right;\">\n      <th></th>\n      <th>limit_bal</th>\n      <th>sex</th>\n      <th>education</th>\n      <th>marriage</th>\n      <th>age</th>\n      <th>pay_0</th>\n      <th>pay_2</th>\n      <th>pay_3</th>\n      <th>pay_4</th>\n      <th>pay_5</th>\n      <th>...</th>\n      <th>bill_amt4</th>\n      <th>bill_amt5</th>\n      <th>bill_amt6</th>\n      <th>pay_amt1</th>\n      <th>pay_amt2</th>\n      <th>pay_amt3</th>\n      <th>pay_amt4</th>\n      <th>pay_amt5</th>\n      <th>pay_amt6</th>\n      <th>default payment next month</th>\n    </tr>\n  </thead>\n  <tbody>\n    <tr>\n      <th>count</th>\n      <td>30000.000000</td>\n      <td>30000.000000</td>\n      <td>30000.000000</td>\n      <td>30000.000000</td>\n      <td>30000.00000</td>\n      <td>30000.000000</td>\n      <td>30000.000000</td>\n      <td>30000.000000</td>\n      <td>30000.000000</td>\n      <td>30000.000000</td>\n      <td>...</td>\n      <td>30000.000000</td>\n      <td>30000.000000</td>\n      <td>30000.000000</td>\n      <td>30000.000000</td>\n      <td>30000.000000</td>\n      <td>30000.000000</td>\n      <td>30000.000000</td>\n      <td>30000.000000</td>\n      <td>30000.000000</td>\n      <td>30000.000000</td>\n    </tr>\n    <tr>\n      <th>mean</th>\n      <td>0.444100</td>\n      <td>1.603733</td>\n      <td>1.853133</td>\n      <td>1.551867</td>\n      <td>0.31610</td>\n      <td>1.983300</td>\n      <td>1.866233</td>\n      <td>1.833800</td>\n      <td>1.779333</td>\n      <td>1.733800</td>\n      <td>...</td>\n      <td>1.014967</td>\n      <td>0.031767</td>\n      <td>0.984733</td>\n      <td>1.001533</td>\n      <td>0.000467</td>\n      <td>0.001533</td>\n      <td>0.001267</td>\n      <td>0.007200</td>\n      <td>0.009933</td>\n      <td>0.221200</td>\n    </tr>\n    <tr>\n      <th>std</th>\n      <td>0.631259</td>\n      <td>0.489129</td>\n      <td>0.790349</td>\n      <td>0.521970</td>\n      <td>0.48866</td>\n      <td>1.123802</td>\n      <td>1.197186</td>\n      <td>1.196868</td>\n      <td>1.169139</td>\n      <td>1.133187</td>\n      <td>...</td>\n      <td>0.258221</td>\n      <td>0.190155</td>\n      <td>0.174646</td>\n      <td>0.044696</td>\n      <td>0.033662</td>\n      <td>0.046163</td>\n      <td>0.039981</td>\n      <td>0.104953</td>\n      <td>0.124238</td>\n      <td>0.415062</td>\n    </tr>\n    <tr>\n      <th>min</th>\n      <td>0.000000</td>\n      <td>1.000000</td>\n      <td>0.000000</td>\n      <td>0.000000</td>\n      <td>0.00000</td>\n      <td>0.000000</td>\n      <td>0.000000</td>\n      <td>0.000000</td>\n      <td>0.000000</td>\n      <td>0.000000</td>\n      <td>...</td>\n      <td>0.000000</td>\n      <td>0.000000</td>\n      <td>0.000000</td>\n      <td>1.000000</td>\n      <td>0.000000</td>\n      <td>0.000000</td>\n      <td>0.000000</td>\n      <td>0.000000</td>\n      <td>0.000000</td>\n      <td>0.000000</td>\n    </tr>\n    <tr>\n      <th>25%</th>\n      <td>0.000000</td>\n      <td>1.000000</td>\n      <td>1.000000</td>\n      <td>1.000000</td>\n      <td>0.00000</td>\n      <td>1.000000</td>\n      <td>1.000000</td>\n      <td>1.000000</td>\n      <td>1.000000</td>\n      <td>1.000000</td>\n      <td>...</td>\n      <td>1.000000</td>\n      <td>0.000000</td>\n      <td>1.000000</td>\n      <td>1.000000</td>\n      <td>0.000000</td>\n      <td>0.000000</td>\n      <td>0.000000</td>\n      <td>0.000000</td>\n      <td>0.000000</td>\n      <td>0.000000</td>\n    </tr>\n    <tr>\n      <th>50%</th>\n      <td>0.000000</td>\n      <td>2.000000</td>\n      <td>2.000000</td>\n      <td>2.000000</td>\n      <td>0.00000</td>\n      <td>2.000000</td>\n      <td>2.000000</td>\n      <td>2.000000</td>\n      <td>2.000000</td>\n      <td>2.000000</td>\n      <td>...</td>\n      <td>1.000000</td>\n      <td>0.000000</td>\n      <td>1.000000</td>\n      <td>1.000000</td>\n      <td>0.000000</td>\n      <td>0.000000</td>\n      <td>0.000000</td>\n      <td>0.000000</td>\n      <td>0.000000</td>\n      <td>0.000000</td>\n    </tr>\n    <tr>\n      <th>75%</th>\n      <td>1.000000</td>\n      <td>2.000000</td>\n      <td>2.000000</td>\n      <td>2.000000</td>\n      <td>1.00000</td>\n      <td>2.000000</td>\n      <td>2.000000</td>\n      <td>2.000000</td>\n      <td>2.000000</td>\n      <td>2.000000</td>\n      <td>...</td>\n      <td>1.000000</td>\n      <td>0.000000</td>\n      <td>1.000000</td>\n      <td>1.000000</td>\n      <td>0.000000</td>\n      <td>0.000000</td>\n      <td>0.000000</td>\n      <td>0.000000</td>\n      <td>0.000000</td>\n      <td>0.000000</td>\n    </tr>\n    <tr>\n      <th>max</th>\n      <td>4.000000</td>\n      <td>2.000000</td>\n      <td>6.000000</td>\n      <td>3.000000</td>\n      <td>2.00000</td>\n      <td>10.000000</td>\n      <td>10.000000</td>\n      <td>10.000000</td>\n      <td>10.000000</td>\n      <td>10.000000</td>\n      <td>...</td>\n      <td>5.000000</td>\n      <td>4.000000</td>\n      <td>3.000000</td>\n      <td>4.000000</td>\n      <td>3.000000</td>\n      <td>3.000000</td>\n      <td>2.000000</td>\n      <td>3.000000</td>\n      <td>4.000000</td>\n      <td>1.000000</td>\n    </tr>\n  </tbody>\n</table>\n<p>8 rows × 24 columns</p>\n</div>"
     },
     "execution_count": 175,
     "metadata": {},
     "output_type": "execute_result"
    }
   ],
   "source": [
    "original_data.describe()\n"
   ],
   "metadata": {
    "collapsed": false,
    "pycharm": {
     "name": "#%%\n"
    }
   }
  },
  {
   "cell_type": "code",
   "execution_count": 157,
   "outputs": [
    {
     "name": "stdout",
     "output_type": "stream",
     "text": [
      "0       -2\n",
      "1        2\n",
      "2        0\n",
      "3        0\n",
      "4        0\n",
      "        ..\n",
      "29995    0\n",
      "29996    0\n",
      "29997    0\n",
      "29998   -1\n",
      "29999    0\n",
      "Name: pay_6, Length: 30000, dtype: int64\n",
      "0        0\n",
      "1        4\n",
      "2        2\n",
      "3        2\n",
      "4        2\n",
      "        ..\n",
      "29995    2\n",
      "29996    2\n",
      "29997    2\n",
      "29998    1\n",
      "29999    2\n",
      "Name: pay_6, Length: 30000, dtype: int64\n"
     ]
    }
   ],
   "source": [
    "\n",
    "def pay_6(x):\n",
    "    return x+2\n",
    "\n",
    "print(original_data['pay_6'])\n",
    "original_data['pay_6'] = original_data['pay_6'].map(lambda x: pay_6(x))\n",
    "print(original_data['pay_6'])\n"
   ],
   "metadata": {
    "collapsed": false,
    "pycharm": {
     "name": "#%%\n"
    }
   }
  },
  {
   "cell_type": "code",
   "execution_count": 158,
   "outputs": [
    {
     "data": {
      "text/plain": "count    30000.000000\nmean         1.708900\nstd          1.149988\nmin          0.000000\n25%          1.000000\n50%          2.000000\n75%          2.000000\nmax         10.000000\nName: pay_6, dtype: float64"
     },
     "execution_count": 158,
     "metadata": {},
     "output_type": "execute_result"
    }
   ],
   "source": [
    "original_data.describe()['pay_6']\n"
   ],
   "metadata": {
    "collapsed": false,
    "pycharm": {
     "name": "#%%\n"
    }
   }
  },
  {
   "cell_type": "markdown",
   "source": [
    "## redundancy check"
   ],
   "metadata": {
    "collapsed": false,
    "pycharm": {
     "name": "#%% md\n"
    }
   }
  },
  {
   "cell_type": "code",
   "execution_count": null,
   "outputs": [],
   "source": [
    "\n",
    "\n"
   ],
   "metadata": {
    "collapsed": false,
    "pycharm": {
     "name": "#%%\n"
    }
   }
  }
 ],
 "metadata": {
  "kernelspec": {
   "display_name": "Python 3",
   "language": "python",
   "name": "python3"
  },
  "language_info": {
   "codemirror_mode": {
    "name": "ipython",
    "version": 2
   },
   "file_extension": ".py",
   "mimetype": "text/x-python",
   "name": "python",
   "nbconvert_exporter": "python",
   "pygments_lexer": "ipython2",
   "version": "2.7.6"
  }
 },
 "nbformat": 4,
 "nbformat_minor": 0
}