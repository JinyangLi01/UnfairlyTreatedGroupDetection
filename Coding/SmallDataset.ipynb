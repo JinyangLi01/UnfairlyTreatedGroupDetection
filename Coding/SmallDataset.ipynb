{
 "cells": [
  {
   "cell_type": "raw",
   "source": [
    "make Adult dataset smaller, based on CleanAdult3.txt\n"
   ],
   "metadata": {
    "collapsed": false,
    "pycharm": {
     "name": "#%% raw\n"
    }
   }
  },
  {
   "cell_type": "markdown",
   "source": [
    "# CleanAdult3.txt\n",
    "\n",
    "\n",
    "\n",
    "\n"
   ],
   "metadata": {
    "collapsed": false,
    "pycharm": {
     "name": "#%% md\n"
    }
   }
  },
  {
   "cell_type": "code",
   "execution_count": 2,
   "outputs": [],
   "source": [
    "import pandas as pd\n",
    "import csv"
   ],
   "metadata": {
    "collapsed": false,
    "pycharm": {
     "name": "#%%\n"
    }
   }
  },
  {
   "cell_type": "code",
   "execution_count": 8,
   "outputs": [
    {
     "name": "stdout",
     "output_type": "stream",
     "text": [
      "   age  workclass  education  educational-num  marital-status  occupation  \\\n",
      "0    0          2          1                7               4           6   \n",
      "1    0          2         11                9               2           4   \n",
      "2    0          1          7               12               2          10   \n",
      "3    1          2         15               10               2           6   \n",
      "\n",
      "   relationship  race  gender  capital-gain  capital-loss  hours-per-week  \\\n",
      "0             3     2       1             0             0               2   \n",
      "1             0     4       1             0             0               2   \n",
      "2             0     4       1             0             0               2   \n",
      "3             0     2       1             4             0               2   \n",
      "\n",
      "   native-country  \n",
      "0              38  \n",
      "1              38  \n",
      "2              38  \n",
      "3              38  \n"
     ]
    }
   ],
   "source": [
    "adult3 = pd.read_csv(\"CleanAdult3.csv\")\n",
    "adult3.shape\n",
    "print(adult3[:5])"
   ],
   "metadata": {
    "collapsed": false,
    "pycharm": {
     "name": "#%%\n"
    }
   }
  },
  {
   "cell_type": "code",
   "execution_count": null,
   "outputs": [],
   "source": [],
   "metadata": {
    "collapsed": false,
    "pycharm": {
     "name": "#%%\n"
    }
   }
  }
 ],
 "metadata": {
  "kernelspec": {
   "display_name": "Python 3",
   "language": "python",
   "name": "python3"
  },
  "language_info": {
   "codemirror_mode": {
    "name": "ipython",
    "version": 2
   },
   "file_extension": ".py",
   "mimetype": "text/x-python",
   "name": "python",
   "nbconvert_exporter": "python",
   "pygments_lexer": "ipython2",
   "version": "2.7.6"
  }
 },
 "nbformat": 4,
 "nbformat_minor": 0
}