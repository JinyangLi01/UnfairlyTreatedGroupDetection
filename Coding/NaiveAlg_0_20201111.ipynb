{
 "cells": [
  {
   "cell_type": "raw",
   "metadata": {},
   "source": [
    "naive algorithm:\n",
    "    go along all possible patterns\n",
    "    "
   ]
  },
  {
   "cell_type": "markdown",
   "metadata": {},
   "source": [
    "# import, attributes and useful functions"
   ]
  },
  {
   "cell_type": "code",
   "execution_count": 1,
   "metadata": {},
   "outputs": [],
   "source": [
    "%load_ext autoreload\n",
    "%autoreload 2\n",
    "\n",
    "from itertools import combinations \n",
    "import pandas as pd \n",
    "import numpy as np\n",
    "import pattern_count\n",
    "import time \n",
    "import pickle\n",
    "import NaiveAlg_0_\n"
   ]
  },
  {
   "cell_type": "markdown",
   "metadata": {
    "pycharm": {
     "name": "#%% md\n"
    }
   },
   "source": [
    "# NaiveAlg.py in small dataset"
   ]
  },
  {
   "cell_type": "code",
   "execution_count": 2,
   "outputs": [
    {
     "name": "stdout",
     "output_type": "stream",
     "text": [
      "execution time = 0.021709203720092773 seconds\n",
      "2\n",
      "num_pattern_checked =  407\n"
     ]
    }
   ],
   "source": [
    "whole_data_file = \"../InputData/SmallDataset/SmallWhole_3_20.csv\"\n",
    "mis_class_data_file = \"../InputData/SmallDataset/SmallMisClass_3_20.csv\"\n",
    "Tha = 0.5\n",
    "Thc = 2\n",
    "pattern_with_low_accuracy, num_pattern_checked, execution_time = NaiveAlg_0_.NaiveAlg(whole_data_file, mis_class_data_file, Tha, Thc)\n"
   ],
   "metadata": {
    "collapsed": false,
    "pycharm": {
     "name": "#%%\n"
    }
   }
  },
  {
   "cell_type": "code",
   "execution_count": 3,
   "outputs": [
    {
     "name": "stdout",
     "output_type": "stream",
     "text": [
      "[[2, -1, -1], [-1, 2, 15]] \n",
      " 407 0.021709203720092773\n"
     ]
    }
   ],
   "source": [
    "print(pattern_with_low_accuracy, \"\\n\", num_pattern_checked, execution_time)"
   ],
   "metadata": {
    "collapsed": false,
    "pycharm": {
     "name": "#%%\n"
    }
   }
  },
  {
   "cell_type": "code",
   "execution_count": 4,
   "outputs": [
    {
     "name": "stdout",
     "output_type": "stream",
     "text": [
      "['age', 'workclass', 'education']\n"
     ]
    }
   ],
   "source": [
    "# check pattern coverage\n",
    "column_list = pd.read_csv(whole_data_file).columns.values.tolist()\n",
    "print(column_list)\n",
    "\n",
    "whole_pattern_count = pattern_count.PatternCounter(whole_data_file, column_list, encoded=False)\n",
    "misclass_pattern_count = pattern_count.PatternCounter(mis_class_data_file, column_list, encoded=False)\n",
    "whole_pattern_count.parse_data()\n",
    "misclass_pattern_count.parse_data()"
   ],
   "metadata": {
    "collapsed": false,
    "pycharm": {
     "name": "#%%\n"
    }
   }
  },
  {
   "cell_type": "code",
   "execution_count": 6,
   "outputs": [
    {
     "name": "stdout",
     "output_type": "stream",
     "text": [
      "[2, -1, -1] 2 2\n",
      "[-1, 2, 15] 3 2\n"
     ]
    }
   ],
   "source": [
    "for p in pattern_with_low_accuracy:\n",
    "    p_ = pattern_count.num2string(p)\n",
    "    print(p, whole_pattern_count.pattern_count(p_), misclass_pattern_count.pattern_count(p_))"
   ],
   "metadata": {
    "collapsed": false,
    "pycharm": {
     "name": "#%%\n"
    }
   }
  },
  {
   "cell_type": "code",
   "execution_count": 20,
   "outputs": [],
   "source": [],
   "metadata": {
    "collapsed": false,
    "pycharm": {
     "name": "#%%\n"
    }
   }
  },
  {
   "cell_type": "code",
   "execution_count": null,
   "outputs": [],
   "source": [],
   "metadata": {
    "collapsed": false,
    "pycharm": {
     "name": "#%%\n"
    }
   }
  }
 ],
 "metadata": {
  "kernelspec": {
   "display_name": "Python 3",
   "language": "python",
   "name": "python3"
  },
  "language_info": {
   "codemirror_mode": {
    "name": "ipython",
    "version": 3
   },
   "file_extension": ".py",
   "mimetype": "text/x-python",
   "name": "python",
   "nbconvert_exporter": "python",
   "pygments_lexer": "ipython3",
   "version": "3.8.3"
  },
  "toc": {
   "base_numbering": 1,
   "nav_menu": {},
   "number_sections": true,
   "sideBar": true,
   "skip_h1_title": false,
   "title_cell": "Table of Contents",
   "title_sidebar": "Contents",
   "toc_cell": false,
   "toc_position": {},
   "toc_section_display": true,
   "toc_window_display": false
  }
 },
 "nbformat": 4,
 "nbformat_minor": 4
}