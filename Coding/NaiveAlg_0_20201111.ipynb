{
 "cells": [
  {
   "cell_type": "raw",
   "metadata": {},
   "source": [
    "naive algorithm:\n",
    "    go along all possible patterns\n",
    "    "
   ]
  },
  {
   "cell_type": "markdown",
   "metadata": {},
   "source": [
    "# import, attributes and useful functions"
   ]
  },
  {
   "cell_type": "code",
   "execution_count": 102,
   "metadata": {},
   "outputs": [
    {
     "name": "stdout",
     "output_type": "stream",
     "text": [
      "The autoreload extension is already loaded. To reload it, use:\n",
      "  %reload_ext autoreload\n"
     ]
    }
   ],
   "source": [
    "%load_ext autoreload\n",
    "%autoreload 2\n",
    "\n",
    "from itertools import combinations \n",
    "import pandas as pd \n",
    "import numpy as np\n",
    "import pattern_count\n",
    "import NaiveAlg_0_ as naivealg\n",
    "import NewAlg_0_20201128 as newalg\n"
   ]
  },
  {
   "cell_type": "markdown",
   "metadata": {
    "pycharm": {
     "name": "#%% md\n"
    }
   },
   "source": [
    "# NaiveAlg.py in small dataset"
   ]
  },
  {
   "cell_type": "code",
   "execution_count": 103,
   "outputs": [
    {
     "name": "stdout",
     "output_type": "stream",
     "text": [
      "----------------------------------------------------  num_att =  1\n",
      "1\n",
      "2\n",
      "3\n",
      "4\n",
      "----------------------------------------------------  num_att =  2\n",
      "5\n",
      "6\n",
      "7\n",
      "8\n",
      "9\n",
      "10\n",
      "11\n",
      "12\n",
      "13\n",
      "14\n",
      "15\n",
      "16\n",
      "17\n",
      "18\n",
      "19\n",
      "20\n",
      "21\n",
      "22\n",
      "----------------------------------------------------  num_att =  3\n",
      "23\n",
      "24\n",
      "25\n",
      "26\n",
      "27\n",
      "28\n",
      "----------------------------------------------------  num_att =  4\n",
      "29\n",
      "30\n",
      "31\n",
      "32\n",
      "----------------------------------------------------  num_att =  5\n",
      "33\n",
      "----------------------------------------------------  num_att =  6\n",
      "execution time = 4420.230357885361 seconds\n",
      "33\n",
      "num_pattern_checked =  489440389\n"
     ]
    }
   ],
   "source": [
    "whole_data_file = \"../InputData/SmallDataset/SmallWhole_13_100.csv\"\n",
    "mis_class_data_file = \"../InputData/SmallDataset/SmallMisClass_13_50.csv\"\n",
    "Tha = 0.5\n",
    "Thc = 6\n",
    "pattern_with_low_accuracy, num_pattern_checked, execution_time = naivealg.NaiveAlg(whole_data_file, mis_class_data_file, Tha, Thc)\n"
   ],
   "metadata": {
    "collapsed": false,
    "pycharm": {
     "name": "#%%\n"
    }
   }
  },
  {
   "cell_type": "code",
   "execution_count": 104,
   "outputs": [
    {
     "name": "stdout",
     "output_type": "stream",
     "text": [
      "[[-1, 4, -1, -1, -1, -1, -1, -1, -1, -1, -1, -1, -1], [-1, -1, -1, -1, -1, 9, -1, -1, -1, -1, -1, -1, -1], [-1, -1, -1, -1, -1, -1, 4, -1, -1, -1, -1, -1, -1], [-1, -1, -1, -1, -1, -1, -1, -1, -1, -1, -1, 1, -1], [0, -1, 9, -1, -1, -1, -1, -1, -1, -1, -1, -1, -1], [0, -1, -1, 13, -1, -1, -1, -1, -1, -1, -1, -1, -1], [0, -1, -1, -1, 2, -1, -1, -1, -1, -1, -1, -1, -1], [0, -1, -1, -1, -1, -1, 0, -1, -1, -1, -1, -1, -1], [0, -1, -1, -1, -1, -1, -1, -1, 1, -1, -1, -1, -1], [-1, 2, -1, -1, -1, 6, -1, -1, -1, -1, -1, -1, -1], [-1, -1, 9, -1, -1, -1, -1, -1, 1, -1, -1, -1, -1], [-1, -1, 9, -1, -1, -1, -1, -1, -1, 0, -1, -1, -1], [-1, -1, 9, -1, -1, -1, -1, -1, -1, -1, -1, 2, -1], [-1, -1, -1, 13, -1, -1, -1, -1, 1, -1, -1, -1, -1], [-1, -1, -1, 13, -1, -1, -1, -1, -1, 0, -1, -1, -1], [-1, -1, -1, 13, -1, -1, -1, -1, -1, -1, -1, 2, -1], [-1, -1, -1, -1, 2, -1, -1, -1, -1, -1, -1, -1, 38], [-1, -1, -1, -1, -1, 6, -1, -1, 1, -1, -1, -1, -1], [-1, -1, -1, -1, -1, 2, -1, -1, -1, -1, -1, -1, 38], [-1, -1, -1, -1, -1, 6, -1, -1, -1, -1, -1, -1, 38], [-1, -1, -1, -1, -1, -1, 0, -1, -1, 4, -1, -1, -1], [-1, -1, -1, -1, -1, -1, 0, -1, -1, -1, -1, -1, 38], [-1, -1, -1, -1, 4, -1, 1, -1, 1, -1, -1, -1, -1], [-1, -1, -1, -1, 4, -1, -1, 4, 1, -1, -1, -1, -1], [-1, -1, -1, -1, 2, -1, -1, 4, -1, 0, -1, -1, -1], [-1, -1, -1, -1, 2, -1, -1, -1, 1, 4, -1, -1, -1], [-1, -1, -1, -1, 4, -1, -1, -1, 1, 0, -1, -1, -1], [-1, -1, -1, -1, 4, -1, -1, -1, 1, -1, -1, 2, -1], [0, -1, 11, -1, -1, -1, -1, -1, -1, 0, -1, -1, 38], [0, -1, -1, 9, -1, -1, -1, -1, -1, 0, -1, -1, 38], [0, -1, -1, -1, -1, -1, -1, 4, -1, 0, 0, -1, -1], [-1, -1, -1, -1, -1, -1, 3, 4, 1, 0, -1, -1, -1], [-1, -1, -1, -1, -1, -1, -1, 4, 1, 0, 0, -1, 38]] \n",
      " 489440389 4420.230357885361\n"
     ]
    }
   ],
   "source": [
    "print(pattern_with_low_accuracy, \"\\n\", num_pattern_checked, execution_time)"
   ],
   "metadata": {
    "collapsed": false,
    "pycharm": {
     "name": "#%%\n"
    }
   }
  },
  {
   "cell_type": "code",
   "execution_count": 92,
   "outputs": [
    {
     "name": "stdout",
     "output_type": "stream",
     "text": [
      "['age', 'workclass', 'education', 'educational-num', 'marital-status', 'occupation', 'relationship', 'race', 'gender', 'capital-gain', 'capital-loss', 'hours-per-week', 'native-country']\n"
     ]
    }
   ],
   "source": [
    "# check pattern coverage\n",
    "column_list = pd.read_csv(whole_data_file).columns.values.tolist()\n",
    "print(column_list)\n",
    "\n",
    "whole_pattern_count = pattern_count.PatternCounter(whole_data_file, column_list, encoded=False)\n",
    "misclass_pattern_count = pattern_count.PatternCounter(mis_class_data_file, column_list, encoded=False)\n",
    "whole_pattern_count.parse_data()\n",
    "misclass_pattern_count.parse_data()"
   ],
   "metadata": {
    "collapsed": false,
    "pycharm": {
     "name": "#%%\n"
    }
   }
  },
  {
   "cell_type": "code",
   "execution_count": 95,
   "outputs": [
    {
     "name": "stdout",
     "output_type": "stream",
     "text": [
      "[-1, 4, -1, -1, -1, -1, -1, -1, -1, -1, -1, -1, -1] 0.2857142857142857\n",
      "[-1, -1, -1, -1, -1, 9, -1, -1, -1, -1, -1, -1, -1] 0.125\n",
      "[-1, -1, -1, -1, -1, -1, 4, -1, -1, -1, -1, -1, -1] 0.2857142857142857\n",
      "[-1, -1, -1, -1, -1, -1, -1, -1, -1, -1, -1, 1, -1] 0.45454545454545453\n",
      "[0, -1, 9, -1, -1, -1, -1, -1, -1, -1, -1, -1, -1] 0.4\n",
      "[0, -1, -1, 13, -1, -1, -1, -1, -1, -1, -1, -1, -1] 0.4\n",
      "[0, -1, -1, -1, 2, -1, -1, -1, -1, -1, -1, -1, -1] 0.375\n",
      "[0, -1, -1, -1, -1, -1, 0, -1, -1, -1, -1, -1, -1] 0.35714285714285715\n",
      "[0, -1, -1, -1, -1, -1, -1, -1, 1, -1, -1, -1, -1] 0.475\n",
      "[-1, 2, -1, -1, -1, 6, -1, -1, -1, -1, -1, -1, -1] 0.46153846153846156\n",
      "[-1, -1, 9, -1, -1, -1, -1, -1, 1, -1, -1, -1, -1] 0.3333333333333333\n",
      "[-1, -1, 9, -1, -1, -1, -1, -1, -1, 0, -1, -1, -1] 0.45454545454545453\n",
      "[-1, -1, 9, -1, -1, -1, -1, -1, -1, -1, -1, 2, -1] 0.45454545454545453\n",
      "[-1, -1, -1, 13, -1, -1, -1, -1, 1, -1, -1, -1, -1] 0.3333333333333333\n",
      "[-1, -1, -1, 13, -1, -1, -1, -1, -1, 0, -1, -1, -1] 0.45454545454545453\n",
      "[-1, -1, -1, 13, -1, -1, -1, -1, -1, -1, -1, 2, -1] 0.45454545454545453\n",
      "[-1, -1, -1, -1, 2, -1, -1, -1, -1, -1, -1, -1, 38] 0.4634146341463415\n",
      "[-1, -1, -1, -1, -1, 6, -1, -1, 1, -1, -1, -1, -1] 0.3333333333333333\n",
      "[-1, -1, -1, -1, -1, 2, -1, -1, -1, -1, -1, -1, 38] 0.42857142857142855\n",
      "[-1, -1, -1, -1, -1, 6, -1, -1, -1, -1, -1, -1, 38] 0.46153846153846156\n",
      "[-1, -1, -1, -1, -1, -1, 0, -1, -1, 4, -1, -1, -1] 0.45454545454545453\n",
      "[-1, -1, -1, -1, -1, -1, 0, -1, -1, -1, -1, -1, 38] 0.47368421052631576\n",
      "[-1, -1, -1, -1, 4, -1, 1, -1, 1, -1, -1, -1, -1] 0.45454545454545453\n",
      "[-1, -1, -1, -1, 4, -1, -1, 4, 1, -1, -1, -1, -1] 0.4117647058823529\n",
      "[-1, -1, -1, -1, 2, -1, -1, 4, -1, 0, -1, -1, -1] 0.4838709677419355\n",
      "[-1, -1, -1, -1, 2, -1, -1, -1, 1, 4, -1, -1, -1] 0.45454545454545453\n",
      "[-1, -1, -1, -1, 4, -1, -1, -1, 1, 0, -1, -1, -1] 0.45\n",
      "[-1, -1, -1, -1, 4, -1, -1, -1, 1, -1, -1, 2, -1] 0.45454545454545453\n",
      "[0, -1, 11, -1, -1, -1, -1, -1, -1, 0, -1, -1, 38] 0.4666666666666667\n",
      "[0, -1, -1, 9, -1, -1, -1, -1, -1, 0, -1, -1, 38] 0.4666666666666667\n",
      "[0, -1, -1, -1, -1, -1, -1, 4, -1, 0, 0, -1, -1] 0.48936170212765956\n",
      "[-1, -1, -1, -1, -1, -1, 3, 4, 1, 0, -1, -1, -1] 0.42857142857142855\n",
      "[-1, -1, -1, -1, -1, -1, -1, 4, 1, 0, 0, -1, 38] 0.4883720930232558\n"
     ]
    }
   ],
   "source": [
    "for p in pattern_with_low_accuracy:\n",
    "    p_ = pattern_count.num2string(p)\n",
    "    cardinality_whole_data = whole_pattern_count.pattern_count(p_)\n",
    "    cardinality_mis_class = misclass_pattern_count.pattern_count(p_)\n",
    "    acc = (cardinality_whole_data - cardinality_mis_class) / cardinality_whole_data\n",
    "    print(p, acc)"
   ],
   "metadata": {
    "collapsed": false,
    "pycharm": {
     "name": "#%%\n"
    }
   }
  },
  {
   "cell_type": "code",
   "execution_count": 100,
   "outputs": [],
   "source": [
    "\n",
    "# check pattern domination\n",
    "\n",
    "for p in pattern_with_low_accuracy:\n",
    "    d, domination = naivealg.PDominatedByM(p, pattern_with_low_accuracy)\n",
    "    if d:\n",
    "        print(p, \"is donimated by\", domination)\n"
   ],
   "metadata": {
    "collapsed": false,
    "pycharm": {
     "name": "#%%\n"
    }
   }
  },
  {
   "cell_type": "code",
   "execution_count": 85,
   "outputs": [
    {
     "name": "stdout",
     "output_type": "stream",
     "text": [
      "33 \n",
      " [[-1, -1, -1, -1, -1, -1, -1, -1, -1, -1, -1, 1, -1], [-1, -1, -1, -1, -1, -1, -1, 4, 1, 0, 0, -1, 38], [-1, -1, -1, -1, -1, -1, 4, -1, -1, -1, -1, -1, -1], [-1, -1, -1, -1, -1, -1, 3, 4, 1, 0, -1, -1, -1], [-1, -1, -1, -1, -1, -1, 0, -1, -1, -1, -1, -1, 38], [-1, -1, -1, -1, -1, -1, 0, -1, -1, 4, -1, -1, -1], [-1, -1, -1, -1, -1, 9, -1, -1, -1, -1, -1, -1, -1], [-1, -1, -1, -1, -1, 6, -1, -1, -1, -1, -1, -1, 38], [-1, -1, -1, -1, -1, 6, -1, -1, 1, -1, -1, -1, -1], [-1, -1, -1, -1, -1, 2, -1, -1, -1, -1, -1, -1, 38], [-1, -1, -1, -1, 4, -1, -1, -1, 1, -1, -1, 2, -1], [-1, -1, -1, -1, 4, -1, -1, -1, 1, 0, -1, -1, -1], [-1, -1, -1, -1, 4, -1, -1, 4, 1, -1, -1, -1, -1], [-1, -1, -1, -1, 4, -1, 1, -1, 1, -1, -1, -1, -1], [-1, -1, -1, -1, 2, -1, -1, -1, -1, -1, -1, -1, 38], [-1, -1, -1, -1, 2, -1, -1, -1, 1, 4, -1, -1, -1], [-1, -1, -1, -1, 2, -1, -1, 4, -1, 0, -1, -1, -1], [-1, -1, -1, 13, -1, -1, -1, -1, -1, -1, -1, 2, -1], [-1, -1, -1, 13, -1, -1, -1, -1, -1, 0, -1, -1, -1], [-1, -1, -1, 13, -1, -1, -1, -1, 1, -1, -1, -1, -1], [-1, -1, 9, -1, -1, -1, -1, -1, -1, -1, -1, 2, -1], [-1, -1, 9, -1, -1, -1, -1, -1, -1, 0, -1, -1, -1], [-1, -1, 9, -1, -1, -1, -1, -1, 1, -1, -1, -1, -1], [-1, 4, -1, -1, -1, -1, -1, -1, -1, -1, -1, -1, -1], [-1, 2, -1, -1, -1, 6, -1, -1, -1, -1, -1, -1, -1], [0, -1, -1, -1, -1, -1, -1, -1, 1, -1, -1, -1, -1], [0, -1, -1, -1, -1, -1, -1, 4, -1, 0, 0, -1, -1], [0, -1, -1, -1, -1, -1, 0, -1, -1, -1, -1, -1, -1], [0, -1, -1, -1, 2, -1, -1, -1, -1, -1, -1, -1, -1], [0, -1, -1, 13, -1, -1, -1, -1, -1, -1, -1, -1, -1], [0, -1, -1, 9, -1, -1, -1, -1, -1, 0, -1, -1, 38], [0, -1, 11, -1, -1, -1, -1, -1, -1, 0, -1, -1, 38], [0, -1, 9, -1, -1, -1, -1, -1, -1, -1, -1, -1, -1]] \n",
      " 121354 1.265505075454712\n"
     ]
    }
   ],
   "source": [
    "\n",
    "# test 2\n",
    "\n",
    "whole_data_file_new_alg = \"../InputData/SmallDataset/SmallWhole_13_100.csv\"\n",
    "mis_class_data_file_new_alg = \"../InputData/SmallDataset/SmallMisClass_13_50.csv\"\n",
    "Tha = 0.5\n",
    "Thc = 6\n",
    "pattern_with_low_accuracy_new_alg, num_pattern_checked_new_alg, execution_time_new_alg = newalg.GraphTraverse(whole_data_file_new_alg, mis_class_data_file_new_alg, Tha, Thc)\n",
    "\n",
    "print(len(pattern_with_low_accuracy_new_alg), \"\\n\", pattern_with_low_accuracy_new_alg, \"\\n\", num_pattern_checked_new_alg, execution_time_new_alg)\n",
    "\n"
   ],
   "metadata": {
    "collapsed": false,
    "pycharm": {
     "name": "#%%\n"
    }
   }
  },
  {
   "cell_type": "code",
   "execution_count": 101,
   "outputs": [],
   "source": [
    "# all 32 patterns found by naive alg are also found by new alg\n",
    "# [-1, -1, -1, -1, -1, -1, -1, 4, 1, 0, 0, -1, 38] is found by new alg\n",
    "# but not found by naive alg by the time stopped.\n",
    "# because there are too many attributes not -1\n",
    "\n",
    "for p in pattern_with_low_accuracy_new_alg:\n",
    "    if p not in pattern_with_low_accuracy:\n",
    "        print(p)"
   ],
   "metadata": {
    "collapsed": false,
    "pycharm": {
     "name": "#%%\n"
    }
   }
  },
  {
   "cell_type": "code",
   "execution_count": null,
   "outputs": [],
   "source": [],
   "metadata": {
    "collapsed": false,
    "pycharm": {
     "name": "#%%\n"
    }
   }
  }
 ],
 "metadata": {
  "kernelspec": {
   "display_name": "Python 3",
   "language": "python",
   "name": "python3"
  },
  "language_info": {
   "codemirror_mode": {
    "name": "ipython",
    "version": 3
   },
   "file_extension": ".py",
   "mimetype": "text/x-python",
   "name": "python",
   "nbconvert_exporter": "python",
   "pygments_lexer": "ipython3",
   "version": "3.8.3"
  },
  "toc": {
   "base_numbering": 1,
   "nav_menu": {},
   "number_sections": true,
   "sideBar": true,
   "skip_h1_title": false,
   "title_cell": "Table of Contents",
   "title_sidebar": "Contents",
   "toc_cell": false,
   "toc_position": {},
   "toc_section_display": true,
   "toc_window_display": false
  }
 },
 "nbformat": 4,
 "nbformat_minor": 4
}