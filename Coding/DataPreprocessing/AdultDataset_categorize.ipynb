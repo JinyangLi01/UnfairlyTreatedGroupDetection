{
 "cells": [
  {
   "cell_type": "raw",
   "metadata": {},
   "source": [
    "This notebook is for data preprocessing"
   ]
  },
  {
   "cell_type": "code",
   "execution_count": 2,
   "metadata": {},
   "outputs": [],
   "source": [
    "import numpy as np \n",
    "import pandas as pd \n",
    "import csv\n",
    "%matplotlib inline\n",
    "from sklearn.tree import DecisionTreeClassifier\n",
    "from sklearn.model_selection import train_test_split"
   ]
  },
  {
   "cell_type": "code",
   "execution_count": 10,
   "metadata": {},
   "outputs": [
    {
     "name": "stdout",
     "output_type": "stream",
     "text": [
      "(45222, 15)\n"
     ]
    },
    {
     "data": {
      "text/plain": "   age  workclass  fnlwgt  education  educational-num  marital-status  \\\n0   25          2  226802          1                7               4   \n1   38          2   89814         11                9               2   \n2   28          1  336951          7               12               2   \n3   44          2  160323         15               10               2   \n\n   occupation  relationship  race  gender  capital-gain  capital-loss  \\\n0           6             3     2       1             0             0   \n1           4             0     4       1             0             0   \n2          10             0     4       1             0             0   \n3           6             0     2       1          7688             0   \n\n   hours-per-week  native-country  income  \n0              40              38       0  \n1              50              38       0  \n2              40              38       1  \n3              40              38       1  ",
      "text/html": "<div>\n<style scoped>\n    .dataframe tbody tr th:only-of-type {\n        vertical-align: middle;\n    }\n\n    .dataframe tbody tr th {\n        vertical-align: top;\n    }\n\n    .dataframe thead th {\n        text-align: right;\n    }\n</style>\n<table border=\"1\" class=\"dataframe\">\n  <thead>\n    <tr style=\"text-align: right;\">\n      <th></th>\n      <th>age</th>\n      <th>workclass</th>\n      <th>fnlwgt</th>\n      <th>education</th>\n      <th>educational-num</th>\n      <th>marital-status</th>\n      <th>occupation</th>\n      <th>relationship</th>\n      <th>race</th>\n      <th>gender</th>\n      <th>capital-gain</th>\n      <th>capital-loss</th>\n      <th>hours-per-week</th>\n      <th>native-country</th>\n      <th>income</th>\n    </tr>\n  </thead>\n  <tbody>\n    <tr>\n      <th>0</th>\n      <td>25</td>\n      <td>2</td>\n      <td>226802</td>\n      <td>1</td>\n      <td>7</td>\n      <td>4</td>\n      <td>6</td>\n      <td>3</td>\n      <td>2</td>\n      <td>1</td>\n      <td>0</td>\n      <td>0</td>\n      <td>40</td>\n      <td>38</td>\n      <td>0</td>\n    </tr>\n    <tr>\n      <th>1</th>\n      <td>38</td>\n      <td>2</td>\n      <td>89814</td>\n      <td>11</td>\n      <td>9</td>\n      <td>2</td>\n      <td>4</td>\n      <td>0</td>\n      <td>4</td>\n      <td>1</td>\n      <td>0</td>\n      <td>0</td>\n      <td>50</td>\n      <td>38</td>\n      <td>0</td>\n    </tr>\n    <tr>\n      <th>2</th>\n      <td>28</td>\n      <td>1</td>\n      <td>336951</td>\n      <td>7</td>\n      <td>12</td>\n      <td>2</td>\n      <td>10</td>\n      <td>0</td>\n      <td>4</td>\n      <td>1</td>\n      <td>0</td>\n      <td>0</td>\n      <td>40</td>\n      <td>38</td>\n      <td>1</td>\n    </tr>\n    <tr>\n      <th>3</th>\n      <td>44</td>\n      <td>2</td>\n      <td>160323</td>\n      <td>15</td>\n      <td>10</td>\n      <td>2</td>\n      <td>6</td>\n      <td>0</td>\n      <td>2</td>\n      <td>1</td>\n      <td>7688</td>\n      <td>0</td>\n      <td>40</td>\n      <td>38</td>\n      <td>1</td>\n    </tr>\n  </tbody>\n</table>\n</div>"
     },
     "execution_count": 10,
     "metadata": {},
     "output_type": "execute_result"
    }
   ],
   "source": [
    "data = pd.read_csv(r\"../../InputData/AdultDataset/ForClassification/CleanAdult_numerical.csv\")\n",
    "print(data.shape)\n",
    "data[:4]"
   ]
  },
  {
   "cell_type": "code",
   "execution_count": 11,
   "metadata": {},
   "outputs": [
    {
     "name": "stdout",
     "output_type": "stream",
     "text": [
      "(4340, 15)\n"
     ]
    },
    {
     "data": {
      "text/plain": "   age  workclass  education  educational-num  marital-status  occupation  \\\n0   40          2         15               10               4           3   \n1   43          2         11                9               2          13   \n2   34          2         11                9               2           2   \n3   33          2         12               14               2           9   \n\n   relationship  race  gender  capital-gain  capital-loss  hours-per-week  \\\n0             1     4       0             0          1340              40   \n1             0     1       1             0             0              99   \n2             0     4       1             0             0              50   \n3             0     4       1             0             0              45   \n\n   native-country  act pred  \n0              38    0  [1]  \n1              38    0  [1]  \n2              38    1  [0]  \n3              38    1  [0]  ",
      "text/html": "<div>\n<style scoped>\n    .dataframe tbody tr th:only-of-type {\n        vertical-align: middle;\n    }\n\n    .dataframe tbody tr th {\n        vertical-align: top;\n    }\n\n    .dataframe thead th {\n        text-align: right;\n    }\n</style>\n<table border=\"1\" class=\"dataframe\">\n  <thead>\n    <tr style=\"text-align: right;\">\n      <th></th>\n      <th>age</th>\n      <th>workclass</th>\n      <th>education</th>\n      <th>educational-num</th>\n      <th>marital-status</th>\n      <th>occupation</th>\n      <th>relationship</th>\n      <th>race</th>\n      <th>gender</th>\n      <th>capital-gain</th>\n      <th>capital-loss</th>\n      <th>hours-per-week</th>\n      <th>native-country</th>\n      <th>act</th>\n      <th>pred</th>\n    </tr>\n  </thead>\n  <tbody>\n    <tr>\n      <th>0</th>\n      <td>40</td>\n      <td>2</td>\n      <td>15</td>\n      <td>10</td>\n      <td>4</td>\n      <td>3</td>\n      <td>1</td>\n      <td>4</td>\n      <td>0</td>\n      <td>0</td>\n      <td>1340</td>\n      <td>40</td>\n      <td>38</td>\n      <td>0</td>\n      <td>[1]</td>\n    </tr>\n    <tr>\n      <th>1</th>\n      <td>43</td>\n      <td>2</td>\n      <td>11</td>\n      <td>9</td>\n      <td>2</td>\n      <td>13</td>\n      <td>0</td>\n      <td>1</td>\n      <td>1</td>\n      <td>0</td>\n      <td>0</td>\n      <td>99</td>\n      <td>38</td>\n      <td>0</td>\n      <td>[1]</td>\n    </tr>\n    <tr>\n      <th>2</th>\n      <td>34</td>\n      <td>2</td>\n      <td>11</td>\n      <td>9</td>\n      <td>2</td>\n      <td>2</td>\n      <td>0</td>\n      <td>4</td>\n      <td>1</td>\n      <td>0</td>\n      <td>0</td>\n      <td>50</td>\n      <td>38</td>\n      <td>1</td>\n      <td>[0]</td>\n    </tr>\n    <tr>\n      <th>3</th>\n      <td>33</td>\n      <td>2</td>\n      <td>12</td>\n      <td>14</td>\n      <td>2</td>\n      <td>9</td>\n      <td>0</td>\n      <td>4</td>\n      <td>1</td>\n      <td>0</td>\n      <td>0</td>\n      <td>45</td>\n      <td>38</td>\n      <td>1</td>\n      <td>[0]</td>\n    </tr>\n  </tbody>\n</table>\n</div>"
     },
     "execution_count": 11,
     "metadata": {},
     "output_type": "execute_result"
    }
   ],
   "source": [
    "mis = pd.read_csv(r\"../../InputData/AdultDataset/ForClassification/CleanAdult_numerical_mis.csv\")\n",
    "print(mis.shape)\n",
    "mis[:4]"
   ]
  },
  {
   "cell_type": "code",
   "execution_count": 12,
   "outputs": [
    {
     "data": {
      "text/plain": "                age     workclass        fnlwgt     education  \\\ncount  45222.000000  45222.000000  4.522200e+04  45222.000000   \nmean      38.547941      2.204502  1.897347e+05     10.313321   \nstd       13.217870      0.958122  1.056392e+05      3.817014   \nmin       17.000000      0.000000  1.349200e+04      0.000000   \n25%       28.000000      2.000000  1.173882e+05      9.000000   \n50%       37.000000      2.000000  1.783160e+05     11.000000   \n75%       47.000000      2.000000  2.379260e+05     12.000000   \nmax       90.000000      6.000000  1.490400e+06     15.000000   \n\n       educational-num  marital-status    occupation  relationship  \\\ncount     45222.000000    45222.000000  45222.000000  45222.000000   \nmean         10.118460        2.585180      5.969572      1.412697   \nstd           2.552881        1.500458      4.026400      1.597227   \nmin           1.000000        0.000000      0.000000      0.000000   \n25%           9.000000        2.000000      2.000000      0.000000   \n50%          10.000000        2.000000      6.000000      1.000000   \n75%          13.000000        4.000000      9.000000      3.000000   \nmax          16.000000        6.000000     13.000000      5.000000   \n\n               race        gender  capital-gain  capital-loss  hours-per-week  \\\ncount  45222.000000  45222.000000  45222.000000  45222.000000    45222.000000   \nmean       3.680288      0.675048   1101.430344     88.595418       40.938017   \nstd        0.832353      0.468362   7506.430084    404.956092       12.007508   \nmin        0.000000      0.000000      0.000000      0.000000        1.000000   \n25%        4.000000      0.000000      0.000000      0.000000       40.000000   \n50%        4.000000      1.000000      0.000000      0.000000       40.000000   \n75%        4.000000      1.000000      0.000000      0.000000       45.000000   \nmax        4.000000      1.000000  99999.000000   4356.000000       99.000000   \n\n       native-country        income  \ncount    45222.000000  45222.000000  \nmean        36.401022      0.247844  \nstd          6.079856      0.431766  \nmin          0.000000      0.000000  \n25%         38.000000      0.000000  \n50%         38.000000      0.000000  \n75%         38.000000      0.000000  \nmax         40.000000      1.000000  ",
      "text/html": "<div>\n<style scoped>\n    .dataframe tbody tr th:only-of-type {\n        vertical-align: middle;\n    }\n\n    .dataframe tbody tr th {\n        vertical-align: top;\n    }\n\n    .dataframe thead th {\n        text-align: right;\n    }\n</style>\n<table border=\"1\" class=\"dataframe\">\n  <thead>\n    <tr style=\"text-align: right;\">\n      <th></th>\n      <th>age</th>\n      <th>workclass</th>\n      <th>fnlwgt</th>\n      <th>education</th>\n      <th>educational-num</th>\n      <th>marital-status</th>\n      <th>occupation</th>\n      <th>relationship</th>\n      <th>race</th>\n      <th>gender</th>\n      <th>capital-gain</th>\n      <th>capital-loss</th>\n      <th>hours-per-week</th>\n      <th>native-country</th>\n      <th>income</th>\n    </tr>\n  </thead>\n  <tbody>\n    <tr>\n      <th>count</th>\n      <td>45222.000000</td>\n      <td>45222.000000</td>\n      <td>4.522200e+04</td>\n      <td>45222.000000</td>\n      <td>45222.000000</td>\n      <td>45222.000000</td>\n      <td>45222.000000</td>\n      <td>45222.000000</td>\n      <td>45222.000000</td>\n      <td>45222.000000</td>\n      <td>45222.000000</td>\n      <td>45222.000000</td>\n      <td>45222.000000</td>\n      <td>45222.000000</td>\n      <td>45222.000000</td>\n    </tr>\n    <tr>\n      <th>mean</th>\n      <td>38.547941</td>\n      <td>2.204502</td>\n      <td>1.897347e+05</td>\n      <td>10.313321</td>\n      <td>10.118460</td>\n      <td>2.585180</td>\n      <td>5.969572</td>\n      <td>1.412697</td>\n      <td>3.680288</td>\n      <td>0.675048</td>\n      <td>1101.430344</td>\n      <td>88.595418</td>\n      <td>40.938017</td>\n      <td>36.401022</td>\n      <td>0.247844</td>\n    </tr>\n    <tr>\n      <th>std</th>\n      <td>13.217870</td>\n      <td>0.958122</td>\n      <td>1.056392e+05</td>\n      <td>3.817014</td>\n      <td>2.552881</td>\n      <td>1.500458</td>\n      <td>4.026400</td>\n      <td>1.597227</td>\n      <td>0.832353</td>\n      <td>0.468362</td>\n      <td>7506.430084</td>\n      <td>404.956092</td>\n      <td>12.007508</td>\n      <td>6.079856</td>\n      <td>0.431766</td>\n    </tr>\n    <tr>\n      <th>min</th>\n      <td>17.000000</td>\n      <td>0.000000</td>\n      <td>1.349200e+04</td>\n      <td>0.000000</td>\n      <td>1.000000</td>\n      <td>0.000000</td>\n      <td>0.000000</td>\n      <td>0.000000</td>\n      <td>0.000000</td>\n      <td>0.000000</td>\n      <td>0.000000</td>\n      <td>0.000000</td>\n      <td>1.000000</td>\n      <td>0.000000</td>\n      <td>0.000000</td>\n    </tr>\n    <tr>\n      <th>25%</th>\n      <td>28.000000</td>\n      <td>2.000000</td>\n      <td>1.173882e+05</td>\n      <td>9.000000</td>\n      <td>9.000000</td>\n      <td>2.000000</td>\n      <td>2.000000</td>\n      <td>0.000000</td>\n      <td>4.000000</td>\n      <td>0.000000</td>\n      <td>0.000000</td>\n      <td>0.000000</td>\n      <td>40.000000</td>\n      <td>38.000000</td>\n      <td>0.000000</td>\n    </tr>\n    <tr>\n      <th>50%</th>\n      <td>37.000000</td>\n      <td>2.000000</td>\n      <td>1.783160e+05</td>\n      <td>11.000000</td>\n      <td>10.000000</td>\n      <td>2.000000</td>\n      <td>6.000000</td>\n      <td>1.000000</td>\n      <td>4.000000</td>\n      <td>1.000000</td>\n      <td>0.000000</td>\n      <td>0.000000</td>\n      <td>40.000000</td>\n      <td>38.000000</td>\n      <td>0.000000</td>\n    </tr>\n    <tr>\n      <th>75%</th>\n      <td>47.000000</td>\n      <td>2.000000</td>\n      <td>2.379260e+05</td>\n      <td>12.000000</td>\n      <td>13.000000</td>\n      <td>4.000000</td>\n      <td>9.000000</td>\n      <td>3.000000</td>\n      <td>4.000000</td>\n      <td>1.000000</td>\n      <td>0.000000</td>\n      <td>0.000000</td>\n      <td>45.000000</td>\n      <td>38.000000</td>\n      <td>0.000000</td>\n    </tr>\n    <tr>\n      <th>max</th>\n      <td>90.000000</td>\n      <td>6.000000</td>\n      <td>1.490400e+06</td>\n      <td>15.000000</td>\n      <td>16.000000</td>\n      <td>6.000000</td>\n      <td>13.000000</td>\n      <td>5.000000</td>\n      <td>4.000000</td>\n      <td>1.000000</td>\n      <td>99999.000000</td>\n      <td>4356.000000</td>\n      <td>99.000000</td>\n      <td>40.000000</td>\n      <td>1.000000</td>\n    </tr>\n  </tbody>\n</table>\n</div>"
     },
     "execution_count": 12,
     "metadata": {},
     "output_type": "execute_result"
    }
   ],
   "source": [
    "data.describe()"
   ],
   "metadata": {
    "collapsed": false,
    "pycharm": {
     "name": "#%%\n"
    }
   }
  },
  {
   "cell_type": "code",
   "execution_count": 15,
   "outputs": [
    {
     "name": "stdout",
     "output_type": "stream",
     "text": [
      "45222\n",
      "41432\n",
      "45222\n",
      "43082\n"
     ]
    }
   ],
   "source": [
    "print(len(data))\n",
    "print(len(data[data['capital-gain'] == 0]))\n",
    "\n",
    "print(len(data))\n",
    "print(len(data[data['capital-loss'] == 0]))\n",
    "\n"
   ],
   "metadata": {
    "collapsed": false,
    "pycharm": {
     "name": "#%%\n"
    }
   }
  },
  {
   "cell_type": "markdown",
   "metadata": {},
   "source": [
    "## categorize attributes:\n",
    "\n",
    "age, capital-gain, capital-loss, hours-per-week\n",
    "\n",
    "attributes already categorized:\n",
    "category_col =['workclass', 'race', 'education','marital-status', 'occupation',\n",
    "               'relationship', 'gender', 'native-country', 'income']\n"
   ]
  },
  {
   "cell_type": "code",
   "execution_count": 17,
   "outputs": [],
   "source": [
    "def age(x):\n",
    "    if x <= 30:\n",
    "        return 0\n",
    "    elif x <= 50:\n",
    "        return 1\n",
    "    else:\n",
    "        return 2\n",
    "\n",
    "\n",
    "def capitalgain(x):\n",
    "    if x == 0:\n",
    "        return 0\n",
    "    else:\n",
    "        return 1\n",
    "\n",
    "\n",
    "def capitalloss(x):\n",
    "    if x == 0:\n",
    "        return 0\n",
    "    else:\n",
    "        return 1\n",
    "\n",
    "\n",
    "def hoursperweek(x):\n",
    "    if x < 50:\n",
    "        return 0\n",
    "    else:\n",
    "        return 1"
   ],
   "metadata": {
    "collapsed": false,
    "pycharm": {
     "name": "#%%\n"
    }
   }
  },
  {
   "cell_type": "code",
   "execution_count": 18,
   "outputs": [],
   "source": [
    "def categorize(data):\n",
    "    data['age'] = data['age'].map(lambda x: age(x))\n",
    "    data['capital-gain'] = data['capital-gain'].map(lambda x: capitalgain(x))\n",
    "    data['capital-loss'] = data['capital-loss'].map(lambda x: capitalloss(x))\n",
    "    data['hours-per-week'] = data['hours-per-week'].map(lambda x: hoursperweek(x))\n"
   ],
   "metadata": {
    "collapsed": false,
    "pycharm": {
     "name": "#%%\n"
    }
   }
  },
  {
   "cell_type": "code",
   "execution_count": null,
   "outputs": [],
   "source": [
    "categorize(data)\n",
    "data.describe()"
   ],
   "metadata": {
    "collapsed": false,
    "pycharm": {
     "name": "#%%\n"
    }
   }
  },
  {
   "cell_type": "code",
   "execution_count": null,
   "outputs": [],
   "source": [
    "data.to_csv(r\"../../InputData/AdultDataset/ForClassification/CleanAdult_numerical_cat.csv\")\n"
   ],
   "metadata": {
    "collapsed": false,
    "pycharm": {
     "name": "#%%\n"
    }
   }
  },
  {
   "cell_type": "code",
   "execution_count": 21,
   "metadata": {},
   "outputs": [
    {
     "data": {
      "text/plain": "               age    workclass    education  educational-num  marital-status  \\\ncount  4340.000000  4340.000000  4340.000000      4340.000000     4340.000000   \nmean      1.126959     2.245161    10.697926        10.786175        2.127189   \nstd       0.598270     1.068214     3.183306         2.404362        1.074950   \nmin       0.000000     0.000000     0.000000         1.000000        0.000000   \n25%       1.000000     2.000000     9.000000         9.000000        2.000000   \n50%       1.000000     2.000000    11.000000        10.000000        2.000000   \n75%       2.000000     2.000000    12.000000        13.000000        2.000000   \nmax       2.000000     6.000000    15.000000        16.000000        6.000000   \n\n        occupation  relationship         race       gender  capital-gain  \\\ncount  4340.000000   4340.000000  4340.000000  4340.000000   4340.000000   \nmean      6.293779      0.842857     3.736636     0.812903      0.035714   \nstd       4.147445      1.588507     0.785613     0.390034      0.185598   \nmin       0.000000      0.000000     0.000000     0.000000      0.000000   \n25%       3.000000      0.000000     4.000000     1.000000      0.000000   \n50%       6.000000      0.000000     4.000000     1.000000      0.000000   \n75%      10.000000      1.000000     4.000000     1.000000      0.000000   \nmax      13.000000      5.000000     4.000000     1.000000      1.000000   \n\n       capital-loss  hours-per-week  native-country          act  \ncount   4340.000000     4340.000000     4340.000000  4340.000000  \nmean       0.028802        0.298618       36.249309     0.496774  \nstd        0.167268        0.457704        6.520064     0.500047  \nmin        0.000000        0.000000        0.000000     0.000000  \n25%        0.000000        0.000000       38.000000     0.000000  \n50%        0.000000        0.000000       38.000000     0.000000  \n75%        0.000000        1.000000       38.000000     1.000000  \nmax        1.000000        1.000000       39.000000     1.000000  ",
      "text/html": "<div>\n<style scoped>\n    .dataframe tbody tr th:only-of-type {\n        vertical-align: middle;\n    }\n\n    .dataframe tbody tr th {\n        vertical-align: top;\n    }\n\n    .dataframe thead th {\n        text-align: right;\n    }\n</style>\n<table border=\"1\" class=\"dataframe\">\n  <thead>\n    <tr style=\"text-align: right;\">\n      <th></th>\n      <th>age</th>\n      <th>workclass</th>\n      <th>education</th>\n      <th>educational-num</th>\n      <th>marital-status</th>\n      <th>occupation</th>\n      <th>relationship</th>\n      <th>race</th>\n      <th>gender</th>\n      <th>capital-gain</th>\n      <th>capital-loss</th>\n      <th>hours-per-week</th>\n      <th>native-country</th>\n      <th>act</th>\n    </tr>\n  </thead>\n  <tbody>\n    <tr>\n      <th>count</th>\n      <td>4340.000000</td>\n      <td>4340.000000</td>\n      <td>4340.000000</td>\n      <td>4340.000000</td>\n      <td>4340.000000</td>\n      <td>4340.000000</td>\n      <td>4340.000000</td>\n      <td>4340.000000</td>\n      <td>4340.000000</td>\n      <td>4340.000000</td>\n      <td>4340.000000</td>\n      <td>4340.000000</td>\n      <td>4340.000000</td>\n      <td>4340.000000</td>\n    </tr>\n    <tr>\n      <th>mean</th>\n      <td>1.126959</td>\n      <td>2.245161</td>\n      <td>10.697926</td>\n      <td>10.786175</td>\n      <td>2.127189</td>\n      <td>6.293779</td>\n      <td>0.842857</td>\n      <td>3.736636</td>\n      <td>0.812903</td>\n      <td>0.035714</td>\n      <td>0.028802</td>\n      <td>0.298618</td>\n      <td>36.249309</td>\n      <td>0.496774</td>\n    </tr>\n    <tr>\n      <th>std</th>\n      <td>0.598270</td>\n      <td>1.068214</td>\n      <td>3.183306</td>\n      <td>2.404362</td>\n      <td>1.074950</td>\n      <td>4.147445</td>\n      <td>1.588507</td>\n      <td>0.785613</td>\n      <td>0.390034</td>\n      <td>0.185598</td>\n      <td>0.167268</td>\n      <td>0.457704</td>\n      <td>6.520064</td>\n      <td>0.500047</td>\n    </tr>\n    <tr>\n      <th>min</th>\n      <td>0.000000</td>\n      <td>0.000000</td>\n      <td>0.000000</td>\n      <td>1.000000</td>\n      <td>0.000000</td>\n      <td>0.000000</td>\n      <td>0.000000</td>\n      <td>0.000000</td>\n      <td>0.000000</td>\n      <td>0.000000</td>\n      <td>0.000000</td>\n      <td>0.000000</td>\n      <td>0.000000</td>\n      <td>0.000000</td>\n    </tr>\n    <tr>\n      <th>25%</th>\n      <td>1.000000</td>\n      <td>2.000000</td>\n      <td>9.000000</td>\n      <td>9.000000</td>\n      <td>2.000000</td>\n      <td>3.000000</td>\n      <td>0.000000</td>\n      <td>4.000000</td>\n      <td>1.000000</td>\n      <td>0.000000</td>\n      <td>0.000000</td>\n      <td>0.000000</td>\n      <td>38.000000</td>\n      <td>0.000000</td>\n    </tr>\n    <tr>\n      <th>50%</th>\n      <td>1.000000</td>\n      <td>2.000000</td>\n      <td>11.000000</td>\n      <td>10.000000</td>\n      <td>2.000000</td>\n      <td>6.000000</td>\n      <td>0.000000</td>\n      <td>4.000000</td>\n      <td>1.000000</td>\n      <td>0.000000</td>\n      <td>0.000000</td>\n      <td>0.000000</td>\n      <td>38.000000</td>\n      <td>0.000000</td>\n    </tr>\n    <tr>\n      <th>75%</th>\n      <td>2.000000</td>\n      <td>2.000000</td>\n      <td>12.000000</td>\n      <td>13.000000</td>\n      <td>2.000000</td>\n      <td>10.000000</td>\n      <td>1.000000</td>\n      <td>4.000000</td>\n      <td>1.000000</td>\n      <td>0.000000</td>\n      <td>0.000000</td>\n      <td>1.000000</td>\n      <td>38.000000</td>\n      <td>1.000000</td>\n    </tr>\n    <tr>\n      <th>max</th>\n      <td>2.000000</td>\n      <td>6.000000</td>\n      <td>15.000000</td>\n      <td>16.000000</td>\n      <td>6.000000</td>\n      <td>13.000000</td>\n      <td>5.000000</td>\n      <td>4.000000</td>\n      <td>1.000000</td>\n      <td>1.000000</td>\n      <td>1.000000</td>\n      <td>1.000000</td>\n      <td>39.000000</td>\n      <td>1.000000</td>\n    </tr>\n  </tbody>\n</table>\n</div>"
     },
     "execution_count": 21,
     "metadata": {},
     "output_type": "execute_result"
    }
   ],
   "source": [
    "categorize(mis)\n",
    "mis.describe()"
   ]
  },
  {
   "cell_type": "code",
   "execution_count": 22,
   "metadata": {},
   "outputs": [],
   "source": [
    "mis.to_csv(r\"../../InputData/AdultDataset/ForClassification/CleanAdult_numerical_mis_cat.csv\")\n"
   ]
  },
  {
   "cell_type": "code",
   "execution_count": null,
   "metadata": {},
   "outputs": [],
   "source": []
  },
  {
   "cell_type": "code",
   "execution_count": null,
   "metadata": {},
   "outputs": [],
   "source": []
  },
  {
   "cell_type": "code",
   "execution_count": 28,
   "metadata": {},
   "outputs": [],
   "source": [
    "\n",
    "### out put clean data into CleanAdult.csv\n",
    "mc.to_csv (r'miss_class2.csv', index = False, header=True)"
   ]
  },
  {
   "cell_type": "code",
   "execution_count": 37,
   "metadata": {},
   "outputs": [
    {
     "data": {
      "text/html": [
       "<div>\n",
       "<style scoped>\n",
       "    .dataframe tbody tr th:only-of-type {\n",
       "        vertical-align: middle;\n",
       "    }\n",
       "\n",
       "    .dataframe tbody tr th {\n",
       "        vertical-align: top;\n",
       "    }\n",
       "\n",
       "    .dataframe thead th {\n",
       "        text-align: right;\n",
       "    }\n",
       "</style>\n",
       "<table border=\"1\" class=\"dataframe\">\n",
       "  <thead>\n",
       "    <tr style=\"text-align: right;\">\n",
       "      <th></th>\n",
       "      <th>age</th>\n",
       "      <th>workclass</th>\n",
       "      <th>education</th>\n",
       "      <th>educational-num</th>\n",
       "      <th>marital-status</th>\n",
       "      <th>occupation</th>\n",
       "      <th>relationship</th>\n",
       "      <th>race</th>\n",
       "      <th>gender</th>\n",
       "      <th>capital-gain</th>\n",
       "      <th>capital-loss</th>\n",
       "      <th>hours-per-week</th>\n",
       "      <th>native-country</th>\n",
       "      <th>act</th>\n",
       "    </tr>\n",
       "  </thead>\n",
       "  <tbody>\n",
       "    <tr>\n",
       "      <th>count</th>\n",
       "      <td>4340.000000</td>\n",
       "      <td>4340.000000</td>\n",
       "      <td>4340.000000</td>\n",
       "      <td>4340.000000</td>\n",
       "      <td>4340.000000</td>\n",
       "      <td>4340.000000</td>\n",
       "      <td>4340.000000</td>\n",
       "      <td>4340.000000</td>\n",
       "      <td>4340.000000</td>\n",
       "      <td>4340.000000</td>\n",
       "      <td>4340.000000</td>\n",
       "      <td>4340.000000</td>\n",
       "      <td>4340.000000</td>\n",
       "      <td>4340.000000</td>\n",
       "    </tr>\n",
       "    <tr>\n",
       "      <th>mean</th>\n",
       "      <td>0.657604</td>\n",
       "      <td>2.242166</td>\n",
       "      <td>10.715207</td>\n",
       "      <td>10.805760</td>\n",
       "      <td>2.131106</td>\n",
       "      <td>6.300000</td>\n",
       "      <td>0.858065</td>\n",
       "      <td>3.743088</td>\n",
       "      <td>0.808065</td>\n",
       "      <td>0.146544</td>\n",
       "      <td>0.090553</td>\n",
       "      <td>2.013594</td>\n",
       "      <td>36.329954</td>\n",
       "      <td>0.494931</td>\n",
       "    </tr>\n",
       "    <tr>\n",
       "      <th>std</th>\n",
       "      <td>0.627994</td>\n",
       "      <td>1.068142</td>\n",
       "      <td>3.174135</td>\n",
       "      <td>2.408848</td>\n",
       "      <td>1.069858</td>\n",
       "      <td>4.157129</td>\n",
       "      <td>1.605517</td>\n",
       "      <td>0.776549</td>\n",
       "      <td>0.393868</td>\n",
       "      <td>0.751552</td>\n",
       "      <td>0.513342</td>\n",
       "      <td>0.595016</td>\n",
       "      <td>6.375431</td>\n",
       "      <td>0.500032</td>\n",
       "    </tr>\n",
       "    <tr>\n",
       "      <th>min</th>\n",
       "      <td>0.000000</td>\n",
       "      <td>0.000000</td>\n",
       "      <td>0.000000</td>\n",
       "      <td>1.000000</td>\n",
       "      <td>0.000000</td>\n",
       "      <td>0.000000</td>\n",
       "      <td>0.000000</td>\n",
       "      <td>0.000000</td>\n",
       "      <td>0.000000</td>\n",
       "      <td>0.000000</td>\n",
       "      <td>0.000000</td>\n",
       "      <td>0.000000</td>\n",
       "      <td>0.000000</td>\n",
       "      <td>0.000000</td>\n",
       "    </tr>\n",
       "    <tr>\n",
       "      <th>25%</th>\n",
       "      <td>0.000000</td>\n",
       "      <td>2.000000</td>\n",
       "      <td>9.000000</td>\n",
       "      <td>9.000000</td>\n",
       "      <td>2.000000</td>\n",
       "      <td>3.000000</td>\n",
       "      <td>0.000000</td>\n",
       "      <td>4.000000</td>\n",
       "      <td>1.000000</td>\n",
       "      <td>0.000000</td>\n",
       "      <td>0.000000</td>\n",
       "      <td>2.000000</td>\n",
       "      <td>38.000000</td>\n",
       "      <td>0.000000</td>\n",
       "    </tr>\n",
       "    <tr>\n",
       "      <th>50%</th>\n",
       "      <td>1.000000</td>\n",
       "      <td>2.000000</td>\n",
       "      <td>11.000000</td>\n",
       "      <td>10.000000</td>\n",
       "      <td>2.000000</td>\n",
       "      <td>6.000000</td>\n",
       "      <td>0.000000</td>\n",
       "      <td>4.000000</td>\n",
       "      <td>1.000000</td>\n",
       "      <td>0.000000</td>\n",
       "      <td>0.000000</td>\n",
       "      <td>2.000000</td>\n",
       "      <td>38.000000</td>\n",
       "      <td>0.000000</td>\n",
       "    </tr>\n",
       "    <tr>\n",
       "      <th>75%</th>\n",
       "      <td>1.000000</td>\n",
       "      <td>2.000000</td>\n",
       "      <td>12.000000</td>\n",
       "      <td>13.000000</td>\n",
       "      <td>2.000000</td>\n",
       "      <td>10.000000</td>\n",
       "      <td>1.000000</td>\n",
       "      <td>4.000000</td>\n",
       "      <td>1.000000</td>\n",
       "      <td>0.000000</td>\n",
       "      <td>0.000000</td>\n",
       "      <td>2.000000</td>\n",
       "      <td>38.000000</td>\n",
       "      <td>1.000000</td>\n",
       "    </tr>\n",
       "    <tr>\n",
       "      <th>max</th>\n",
       "      <td>3.000000</td>\n",
       "      <td>6.000000</td>\n",
       "      <td>15.000000</td>\n",
       "      <td>16.000000</td>\n",
       "      <td>6.000000</td>\n",
       "      <td>13.000000</td>\n",
       "      <td>5.000000</td>\n",
       "      <td>4.000000</td>\n",
       "      <td>1.000000</td>\n",
       "      <td>4.000000</td>\n",
       "      <td>3.000000</td>\n",
       "      <td>4.000000</td>\n",
       "      <td>39.000000</td>\n",
       "      <td>1.000000</td>\n",
       "    </tr>\n",
       "  </tbody>\n",
       "</table>\n",
       "</div>"
      ],
      "text/plain": [
       "               age    workclass    education  educational-num  marital-status  \\\n",
       "count  4340.000000  4340.000000  4340.000000      4340.000000     4340.000000   \n",
       "mean      0.657604     2.242166    10.715207        10.805760        2.131106   \n",
       "std       0.627994     1.068142     3.174135         2.408848        1.069858   \n",
       "min       0.000000     0.000000     0.000000         1.000000        0.000000   \n",
       "25%       0.000000     2.000000     9.000000         9.000000        2.000000   \n",
       "50%       1.000000     2.000000    11.000000        10.000000        2.000000   \n",
       "75%       1.000000     2.000000    12.000000        13.000000        2.000000   \n",
       "max       3.000000     6.000000    15.000000        16.000000        6.000000   \n",
       "\n",
       "        occupation  relationship         race       gender  capital-gain  \\\n",
       "count  4340.000000   4340.000000  4340.000000  4340.000000   4340.000000   \n",
       "mean      6.300000      0.858065     3.743088     0.808065      0.146544   \n",
       "std       4.157129      1.605517     0.776549     0.393868      0.751552   \n",
       "min       0.000000      0.000000     0.000000     0.000000      0.000000   \n",
       "25%       3.000000      0.000000     4.000000     1.000000      0.000000   \n",
       "50%       6.000000      0.000000     4.000000     1.000000      0.000000   \n",
       "75%      10.000000      1.000000     4.000000     1.000000      0.000000   \n",
       "max      13.000000      5.000000     4.000000     1.000000      4.000000   \n",
       "\n",
       "       capital-loss  hours-per-week  native-country          act  \n",
       "count   4340.000000     4340.000000     4340.000000  4340.000000  \n",
       "mean       0.090553        2.013594       36.329954     0.494931  \n",
       "std        0.513342        0.595016        6.375431     0.500032  \n",
       "min        0.000000        0.000000        0.000000     0.000000  \n",
       "25%        0.000000        2.000000       38.000000     0.000000  \n",
       "50%        0.000000        2.000000       38.000000     0.000000  \n",
       "75%        0.000000        2.000000       38.000000     1.000000  \n",
       "max        3.000000        4.000000       39.000000     1.000000  "
      ]
     },
     "execution_count": 37,
     "metadata": {},
     "output_type": "execute_result"
    }
   ],
   "source": [
    "mcdes = mc.describe()\n",
    "mcdes"
   ]
  },
  {
   "cell_type": "code",
   "execution_count": 56,
   "metadata": {
    "pycharm": {
     "name": "#%%\n"
    }
   },
   "outputs": [
    {
     "name": "stdout",
     "output_type": "stream",
     "text": [
      "3.0\n"
     ]
    }
   ],
   "source": [
    "attributes = mcdes.columns.values\n",
    "print(mcdes[attributes[0]]['max'])\n"
   ]
  },
  {
   "cell_type": "code",
   "execution_count": null,
   "outputs": [],
   "source": [],
   "metadata": {
    "collapsed": false,
    "pycharm": {
     "name": "#%%\n"
    }
   }
  }
 ],
 "metadata": {
  "kernelspec": {
   "display_name": "Python 3",
   "language": "python",
   "name": "python3"
  },
  "language_info": {
   "codemirror_mode": {
    "name": "ipython",
    "version": 3
   },
   "file_extension": ".py",
   "mimetype": "text/x-python",
   "name": "python",
   "nbconvert_exporter": "python",
   "pygments_lexer": "ipython3",
   "version": "3.8.3"
  },
  "toc": {
   "base_numbering": 1,
   "nav_menu": {},
   "number_sections": true,
   "sideBar": true,
   "skip_h1_title": false,
   "title_cell": "Table of Contents",
   "title_sidebar": "Contents",
   "toc_cell": false,
   "toc_position": {},
   "toc_section_display": true,
   "toc_window_display": false
  }
 },
 "nbformat": 4,
 "nbformat_minor": 4
}