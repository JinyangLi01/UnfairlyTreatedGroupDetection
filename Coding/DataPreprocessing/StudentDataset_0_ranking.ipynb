{
 "cells": [
  {
   "cell_type": "markdown",
   "source": [
    "This is to preprocess student data for ranking experiments.\n"
   ],
   "metadata": {
    "collapsed": false
   }
  },
  {
   "cell_type": "code",
   "execution_count": 9,
   "outputs": [],
   "source": [
    "import numpy as np\n",
    "import pandas as pd\n",
    "from sklearn.tree import DecisionTreeClassifier\n",
    "from sklearn.model_selection import train_test_split\n",
    "from sklearn.metrics import accuracy_score"
   ],
   "metadata": {
    "collapsed": false,
    "pycharm": {
     "name": "#%%\n"
    }
   }
  },
  {
   "cell_type": "code",
   "execution_count": 10,
   "outputs": [
    {
     "name": "stdout",
     "output_type": "stream",
     "text": [
      "395\n"
     ]
    },
    {
     "data": {
      "text/plain": "  school sex  age address famsize Pstatus  Medu  Fedu     Mjob      Fjob  ...  \\\n0     GP   F   18       U     GT3       A     4     4  at_home   teacher  ...   \n1     GP   F   17       U     GT3       T     1     1  at_home     other  ...   \n2     GP   F   15       U     LE3       T     1     1  at_home     other  ...   \n3     GP   F   15       U     GT3       T     4     2   health  services  ...   \n\n  famrel freetime  goout  Dalc  Walc health absences  G1  G2  G3  \n0      4        3      4     1     1      3        6   5   6   6  \n1      5        3      3     1     1      3        4   5   5   6  \n2      4        3      2     2     3      3       10   7   8  10  \n3      3        2      2     1     1      5        2  15  14  15  \n\n[4 rows x 33 columns]",
      "text/html": "<div>\n<style scoped>\n    .dataframe tbody tr th:only-of-type {\n        vertical-align: middle;\n    }\n\n    .dataframe tbody tr th {\n        vertical-align: top;\n    }\n\n    .dataframe thead th {\n        text-align: right;\n    }\n</style>\n<table border=\"1\" class=\"dataframe\">\n  <thead>\n    <tr style=\"text-align: right;\">\n      <th></th>\n      <th>school</th>\n      <th>sex</th>\n      <th>age</th>\n      <th>address</th>\n      <th>famsize</th>\n      <th>Pstatus</th>\n      <th>Medu</th>\n      <th>Fedu</th>\n      <th>Mjob</th>\n      <th>Fjob</th>\n      <th>...</th>\n      <th>famrel</th>\n      <th>freetime</th>\n      <th>goout</th>\n      <th>Dalc</th>\n      <th>Walc</th>\n      <th>health</th>\n      <th>absences</th>\n      <th>G1</th>\n      <th>G2</th>\n      <th>G3</th>\n    </tr>\n  </thead>\n  <tbody>\n    <tr>\n      <th>0</th>\n      <td>GP</td>\n      <td>F</td>\n      <td>18</td>\n      <td>U</td>\n      <td>GT3</td>\n      <td>A</td>\n      <td>4</td>\n      <td>4</td>\n      <td>at_home</td>\n      <td>teacher</td>\n      <td>...</td>\n      <td>4</td>\n      <td>3</td>\n      <td>4</td>\n      <td>1</td>\n      <td>1</td>\n      <td>3</td>\n      <td>6</td>\n      <td>5</td>\n      <td>6</td>\n      <td>6</td>\n    </tr>\n    <tr>\n      <th>1</th>\n      <td>GP</td>\n      <td>F</td>\n      <td>17</td>\n      <td>U</td>\n      <td>GT3</td>\n      <td>T</td>\n      <td>1</td>\n      <td>1</td>\n      <td>at_home</td>\n      <td>other</td>\n      <td>...</td>\n      <td>5</td>\n      <td>3</td>\n      <td>3</td>\n      <td>1</td>\n      <td>1</td>\n      <td>3</td>\n      <td>4</td>\n      <td>5</td>\n      <td>5</td>\n      <td>6</td>\n    </tr>\n    <tr>\n      <th>2</th>\n      <td>GP</td>\n      <td>F</td>\n      <td>15</td>\n      <td>U</td>\n      <td>LE3</td>\n      <td>T</td>\n      <td>1</td>\n      <td>1</td>\n      <td>at_home</td>\n      <td>other</td>\n      <td>...</td>\n      <td>4</td>\n      <td>3</td>\n      <td>2</td>\n      <td>2</td>\n      <td>3</td>\n      <td>3</td>\n      <td>10</td>\n      <td>7</td>\n      <td>8</td>\n      <td>10</td>\n    </tr>\n    <tr>\n      <th>3</th>\n      <td>GP</td>\n      <td>F</td>\n      <td>15</td>\n      <td>U</td>\n      <td>GT3</td>\n      <td>T</td>\n      <td>4</td>\n      <td>2</td>\n      <td>health</td>\n      <td>services</td>\n      <td>...</td>\n      <td>3</td>\n      <td>2</td>\n      <td>2</td>\n      <td>1</td>\n      <td>1</td>\n      <td>5</td>\n      <td>2</td>\n      <td>15</td>\n      <td>14</td>\n      <td>15</td>\n    </tr>\n  </tbody>\n</table>\n<p>4 rows × 33 columns</p>\n</div>"
     },
     "execution_count": 10,
     "metadata": {},
     "output_type": "execute_result"
    }
   ],
   "source": [
    "\n",
    "student_data = pd.read_csv(\"../../InputData/StudentDataset/student-mat.csv\", sep=';')\n",
    "print(len(student_data))\n",
    "student_data[:4]"
   ],
   "metadata": {
    "collapsed": false,
    "pycharm": {
     "name": "#%%\n"
    }
   }
  },
  {
   "cell_type": "code",
   "execution_count": 11,
   "outputs": [
    {
     "data": {
      "text/plain": "              age        Medu        Fedu  traveltime   studytime    failures  \\\ncount  395.000000  395.000000  395.000000  395.000000  395.000000  395.000000   \nmean    16.696203    2.749367    2.521519    1.448101    2.035443    0.334177   \nstd      1.276043    1.094735    1.088201    0.697505    0.839240    0.743651   \nmin     15.000000    0.000000    0.000000    1.000000    1.000000    0.000000   \n25%     16.000000    2.000000    2.000000    1.000000    1.000000    0.000000   \n50%     17.000000    3.000000    2.000000    1.000000    2.000000    0.000000   \n75%     18.000000    4.000000    3.000000    2.000000    2.000000    0.000000   \nmax     22.000000    4.000000    4.000000    4.000000    4.000000    3.000000   \n\n           famrel    freetime       goout        Dalc        Walc      health  \\\ncount  395.000000  395.000000  395.000000  395.000000  395.000000  395.000000   \nmean     3.944304    3.235443    3.108861    1.481013    2.291139    3.554430   \nstd      0.896659    0.998862    1.113278    0.890741    1.287897    1.390303   \nmin      1.000000    1.000000    1.000000    1.000000    1.000000    1.000000   \n25%      4.000000    3.000000    2.000000    1.000000    1.000000    3.000000   \n50%      4.000000    3.000000    3.000000    1.000000    2.000000    4.000000   \n75%      5.000000    4.000000    4.000000    2.000000    3.000000    5.000000   \nmax      5.000000    5.000000    5.000000    5.000000    5.000000    5.000000   \n\n         absences          G1          G2          G3  \ncount  395.000000  395.000000  395.000000  395.000000  \nmean     5.708861   10.908861   10.713924   10.415190  \nstd      8.003096    3.319195    3.761505    4.581443  \nmin      0.000000    3.000000    0.000000    0.000000  \n25%      0.000000    8.000000    9.000000    8.000000  \n50%      4.000000   11.000000   11.000000   11.000000  \n75%      8.000000   13.000000   13.000000   14.000000  \nmax     75.000000   19.000000   19.000000   20.000000  ",
      "text/html": "<div>\n<style scoped>\n    .dataframe tbody tr th:only-of-type {\n        vertical-align: middle;\n    }\n\n    .dataframe tbody tr th {\n        vertical-align: top;\n    }\n\n    .dataframe thead th {\n        text-align: right;\n    }\n</style>\n<table border=\"1\" class=\"dataframe\">\n  <thead>\n    <tr style=\"text-align: right;\">\n      <th></th>\n      <th>age</th>\n      <th>Medu</th>\n      <th>Fedu</th>\n      <th>traveltime</th>\n      <th>studytime</th>\n      <th>failures</th>\n      <th>famrel</th>\n      <th>freetime</th>\n      <th>goout</th>\n      <th>Dalc</th>\n      <th>Walc</th>\n      <th>health</th>\n      <th>absences</th>\n      <th>G1</th>\n      <th>G2</th>\n      <th>G3</th>\n    </tr>\n  </thead>\n  <tbody>\n    <tr>\n      <th>count</th>\n      <td>395.000000</td>\n      <td>395.000000</td>\n      <td>395.000000</td>\n      <td>395.000000</td>\n      <td>395.000000</td>\n      <td>395.000000</td>\n      <td>395.000000</td>\n      <td>395.000000</td>\n      <td>395.000000</td>\n      <td>395.000000</td>\n      <td>395.000000</td>\n      <td>395.000000</td>\n      <td>395.000000</td>\n      <td>395.000000</td>\n      <td>395.000000</td>\n      <td>395.000000</td>\n    </tr>\n    <tr>\n      <th>mean</th>\n      <td>16.696203</td>\n      <td>2.749367</td>\n      <td>2.521519</td>\n      <td>1.448101</td>\n      <td>2.035443</td>\n      <td>0.334177</td>\n      <td>3.944304</td>\n      <td>3.235443</td>\n      <td>3.108861</td>\n      <td>1.481013</td>\n      <td>2.291139</td>\n      <td>3.554430</td>\n      <td>5.708861</td>\n      <td>10.908861</td>\n      <td>10.713924</td>\n      <td>10.415190</td>\n    </tr>\n    <tr>\n      <th>std</th>\n      <td>1.276043</td>\n      <td>1.094735</td>\n      <td>1.088201</td>\n      <td>0.697505</td>\n      <td>0.839240</td>\n      <td>0.743651</td>\n      <td>0.896659</td>\n      <td>0.998862</td>\n      <td>1.113278</td>\n      <td>0.890741</td>\n      <td>1.287897</td>\n      <td>1.390303</td>\n      <td>8.003096</td>\n      <td>3.319195</td>\n      <td>3.761505</td>\n      <td>4.581443</td>\n    </tr>\n    <tr>\n      <th>min</th>\n      <td>15.000000</td>\n      <td>0.000000</td>\n      <td>0.000000</td>\n      <td>1.000000</td>\n      <td>1.000000</td>\n      <td>0.000000</td>\n      <td>1.000000</td>\n      <td>1.000000</td>\n      <td>1.000000</td>\n      <td>1.000000</td>\n      <td>1.000000</td>\n      <td>1.000000</td>\n      <td>0.000000</td>\n      <td>3.000000</td>\n      <td>0.000000</td>\n      <td>0.000000</td>\n    </tr>\n    <tr>\n      <th>25%</th>\n      <td>16.000000</td>\n      <td>2.000000</td>\n      <td>2.000000</td>\n      <td>1.000000</td>\n      <td>1.000000</td>\n      <td>0.000000</td>\n      <td>4.000000</td>\n      <td>3.000000</td>\n      <td>2.000000</td>\n      <td>1.000000</td>\n      <td>1.000000</td>\n      <td>3.000000</td>\n      <td>0.000000</td>\n      <td>8.000000</td>\n      <td>9.000000</td>\n      <td>8.000000</td>\n    </tr>\n    <tr>\n      <th>50%</th>\n      <td>17.000000</td>\n      <td>3.000000</td>\n      <td>2.000000</td>\n      <td>1.000000</td>\n      <td>2.000000</td>\n      <td>0.000000</td>\n      <td>4.000000</td>\n      <td>3.000000</td>\n      <td>3.000000</td>\n      <td>1.000000</td>\n      <td>2.000000</td>\n      <td>4.000000</td>\n      <td>4.000000</td>\n      <td>11.000000</td>\n      <td>11.000000</td>\n      <td>11.000000</td>\n    </tr>\n    <tr>\n      <th>75%</th>\n      <td>18.000000</td>\n      <td>4.000000</td>\n      <td>3.000000</td>\n      <td>2.000000</td>\n      <td>2.000000</td>\n      <td>0.000000</td>\n      <td>5.000000</td>\n      <td>4.000000</td>\n      <td>4.000000</td>\n      <td>2.000000</td>\n      <td>3.000000</td>\n      <td>5.000000</td>\n      <td>8.000000</td>\n      <td>13.000000</td>\n      <td>13.000000</td>\n      <td>14.000000</td>\n    </tr>\n    <tr>\n      <th>max</th>\n      <td>22.000000</td>\n      <td>4.000000</td>\n      <td>4.000000</td>\n      <td>4.000000</td>\n      <td>4.000000</td>\n      <td>3.000000</td>\n      <td>5.000000</td>\n      <td>5.000000</td>\n      <td>5.000000</td>\n      <td>5.000000</td>\n      <td>5.000000</td>\n      <td>5.000000</td>\n      <td>75.000000</td>\n      <td>19.000000</td>\n      <td>19.000000</td>\n      <td>20.000000</td>\n    </tr>\n  </tbody>\n</table>\n</div>"
     },
     "execution_count": 11,
     "metadata": {},
     "output_type": "execute_result"
    }
   ],
   "source": [
    "student_data.describe()\n"
   ],
   "metadata": {
    "collapsed": false,
    "pycharm": {
     "name": "#%%\n"
    }
   }
  },
  {
   "cell_type": "code",
   "execution_count": 12,
   "outputs": [],
   "source": [
    "student_data['age_binary'] = [0]*395"
   ],
   "metadata": {
    "collapsed": false,
    "pycharm": {
     "name": "#%%\n"
    }
   }
  },
  {
   "cell_type": "code",
   "execution_count": 13,
   "outputs": [
    {
     "data": {
      "text/plain": "  school sex  age address famsize Pstatus  Medu  Fedu     Mjob      Fjob  ...  \\\n0     GP   F   18       U     GT3       A     4     4  at_home   teacher  ...   \n1     GP   F   17       U     GT3       T     1     1  at_home     other  ...   \n2     GP   F   15       U     LE3       T     1     1  at_home     other  ...   \n3     GP   F   15       U     GT3       T     4     2   health  services  ...   \n\n  freetime goout  Dalc  Walc  health absences  G1  G2  G3 age_binary  \n0        3     4     1     1       3        6   5   6   6          0  \n1        3     3     1     1       3        4   5   5   6          0  \n2        3     2     2     3       3       10   7   8  10          0  \n3        2     2     1     1       5        2  15  14  15          0  \n\n[4 rows x 34 columns]",
      "text/html": "<div>\n<style scoped>\n    .dataframe tbody tr th:only-of-type {\n        vertical-align: middle;\n    }\n\n    .dataframe tbody tr th {\n        vertical-align: top;\n    }\n\n    .dataframe thead th {\n        text-align: right;\n    }\n</style>\n<table border=\"1\" class=\"dataframe\">\n  <thead>\n    <tr style=\"text-align: right;\">\n      <th></th>\n      <th>school</th>\n      <th>sex</th>\n      <th>age</th>\n      <th>address</th>\n      <th>famsize</th>\n      <th>Pstatus</th>\n      <th>Medu</th>\n      <th>Fedu</th>\n      <th>Mjob</th>\n      <th>Fjob</th>\n      <th>...</th>\n      <th>freetime</th>\n      <th>goout</th>\n      <th>Dalc</th>\n      <th>Walc</th>\n      <th>health</th>\n      <th>absences</th>\n      <th>G1</th>\n      <th>G2</th>\n      <th>G3</th>\n      <th>age_binary</th>\n    </tr>\n  </thead>\n  <tbody>\n    <tr>\n      <th>0</th>\n      <td>GP</td>\n      <td>F</td>\n      <td>18</td>\n      <td>U</td>\n      <td>GT3</td>\n      <td>A</td>\n      <td>4</td>\n      <td>4</td>\n      <td>at_home</td>\n      <td>teacher</td>\n      <td>...</td>\n      <td>3</td>\n      <td>4</td>\n      <td>1</td>\n      <td>1</td>\n      <td>3</td>\n      <td>6</td>\n      <td>5</td>\n      <td>6</td>\n      <td>6</td>\n      <td>0</td>\n    </tr>\n    <tr>\n      <th>1</th>\n      <td>GP</td>\n      <td>F</td>\n      <td>17</td>\n      <td>U</td>\n      <td>GT3</td>\n      <td>T</td>\n      <td>1</td>\n      <td>1</td>\n      <td>at_home</td>\n      <td>other</td>\n      <td>...</td>\n      <td>3</td>\n      <td>3</td>\n      <td>1</td>\n      <td>1</td>\n      <td>3</td>\n      <td>4</td>\n      <td>5</td>\n      <td>5</td>\n      <td>6</td>\n      <td>0</td>\n    </tr>\n    <tr>\n      <th>2</th>\n      <td>GP</td>\n      <td>F</td>\n      <td>15</td>\n      <td>U</td>\n      <td>LE3</td>\n      <td>T</td>\n      <td>1</td>\n      <td>1</td>\n      <td>at_home</td>\n      <td>other</td>\n      <td>...</td>\n      <td>3</td>\n      <td>2</td>\n      <td>2</td>\n      <td>3</td>\n      <td>3</td>\n      <td>10</td>\n      <td>7</td>\n      <td>8</td>\n      <td>10</td>\n      <td>0</td>\n    </tr>\n    <tr>\n      <th>3</th>\n      <td>GP</td>\n      <td>F</td>\n      <td>15</td>\n      <td>U</td>\n      <td>GT3</td>\n      <td>T</td>\n      <td>4</td>\n      <td>2</td>\n      <td>health</td>\n      <td>services</td>\n      <td>...</td>\n      <td>2</td>\n      <td>2</td>\n      <td>1</td>\n      <td>1</td>\n      <td>5</td>\n      <td>2</td>\n      <td>15</td>\n      <td>14</td>\n      <td>15</td>\n      <td>0</td>\n    </tr>\n  </tbody>\n</table>\n<p>4 rows × 34 columns</p>\n</div>"
     },
     "execution_count": 13,
     "metadata": {},
     "output_type": "execute_result"
    }
   ],
   "source": [
    "student_data[:4]"
   ],
   "metadata": {
    "collapsed": false,
    "pycharm": {
     "name": "#%%\n"
    }
   }
  },
  {
   "cell_type": "markdown",
   "source": [
    "### age"
   ],
   "metadata": {
    "collapsed": false
   }
  },
  {
   "cell_type": "code",
   "execution_count": 14,
   "outputs": [
    {
     "name": "stdout",
     "output_type": "stream",
     "text": [
      "0      0\n",
      "1      0\n",
      "2      0\n",
      "3      0\n",
      "4      0\n",
      "      ..\n",
      "390    0\n",
      "391    0\n",
      "392    0\n",
      "393    0\n",
      "394    0\n",
      "Name: age_binary, Length: 395, dtype: int64\n",
      "0      0\n",
      "1      0\n",
      "2      0\n",
      "3      0\n",
      "4      0\n",
      "      ..\n",
      "390    1\n",
      "391    0\n",
      "392    1\n",
      "393    0\n",
      "394    1\n",
      "Name: age_binary, Length: 395, dtype: int64\n"
     ]
    }
   ],
   "source": [
    "\n",
    "def age_binary(x):\n",
    "    if x <= 18:\n",
    "        return 0\n",
    "    else:\n",
    "        return 1\n",
    "\n",
    "\n",
    "print(student_data['age_binary'])\n",
    "student_data['age_binary'] = student_data['age'].map(lambda x: age_binary(x))\n",
    "print(student_data['age_binary'])\n"
   ],
   "metadata": {
    "collapsed": false,
    "pycharm": {
     "name": "#%%\n"
    }
   }
  },
  {
   "cell_type": "code",
   "execution_count": 15,
   "outputs": [
    {
     "data": {
      "text/plain": "0       47.0\n1       48.0\n2      131.0\n3      323.0\n4      132.0\n       ...  \n390    129.0\n391    371.0\n392     70.0\n393    186.0\n394    130.0\nName: rank, Length: 395, dtype: float64"
     },
     "execution_count": 15,
     "metadata": {},
     "output_type": "execute_result"
    }
   ],
   "source": [
    "student_data['rank'] = student_data['G3'].rank(method='first', na_option='bottom')\n",
    "student_data['rank']"
   ],
   "metadata": {
    "collapsed": false,
    "pycharm": {
     "name": "#%%\n"
    }
   }
  },
  {
   "cell_type": "code",
   "execution_count": 17,
   "outputs": [],
   "source": [
    "selected_attributes = [\"school\", \"sex\", \"age_binary\", \"address\", \"famsize\", \"Pstatus\", \"Medu\", \"Fedu\", \"Mjob\", \"Fjob\", \"rank\"]\n",
    "\n",
    "student_data_selected_att = student_data[selected_attributes]"
   ],
   "metadata": {
    "collapsed": false,
    "pycharm": {
     "name": "#%%\n"
    }
   }
  },
  {
   "cell_type": "code",
   "execution_count": 18,
   "outputs": [
    {
     "data": {
      "text/plain": "    school sex  age_binary address famsize Pstatus  Medu  Fedu      Mjob  \\\n128     GP   M           0       R     GT3       T     2     2  services   \n130     GP   F           0       R     GT3       T     3     4  services   \n131     GP   F           0       U     GT3       T     1     1   at_home   \n134     GP   M           0       R     GT3       T     3     4   at_home   \n135     GP   F           0       U     GT3       T     4     4  services   \n..     ...  ..         ...     ...     ...     ...   ...   ...       ...   \n110     GP   M           0       U     LE3       A     4     4   teacher   \n113     GP   M           0       U     LE3       T     4     2   teacher   \n286     GP   F           0       U     GT3       T     2     2   at_home   \n374     MS   F           0       R     LE3       T     4     4     other   \n47      GP   M           0       U     GT3       T     4     3    health   \n\n         Fjob   rank  \n128     other    1.0  \n130   teacher    2.0  \n131     other    3.0  \n134   teacher    4.0  \n135   at_home    5.0  \n..        ...    ...  \n110   teacher  391.0  \n113     other  392.0  \n286   at_home  393.0  \n374     other  394.0  \n47   services  395.0  \n\n[395 rows x 11 columns]",
      "text/html": "<div>\n<style scoped>\n    .dataframe tbody tr th:only-of-type {\n        vertical-align: middle;\n    }\n\n    .dataframe tbody tr th {\n        vertical-align: top;\n    }\n\n    .dataframe thead th {\n        text-align: right;\n    }\n</style>\n<table border=\"1\" class=\"dataframe\">\n  <thead>\n    <tr style=\"text-align: right;\">\n      <th></th>\n      <th>school</th>\n      <th>sex</th>\n      <th>age_binary</th>\n      <th>address</th>\n      <th>famsize</th>\n      <th>Pstatus</th>\n      <th>Medu</th>\n      <th>Fedu</th>\n      <th>Mjob</th>\n      <th>Fjob</th>\n      <th>rank</th>\n    </tr>\n  </thead>\n  <tbody>\n    <tr>\n      <th>128</th>\n      <td>GP</td>\n      <td>M</td>\n      <td>0</td>\n      <td>R</td>\n      <td>GT3</td>\n      <td>T</td>\n      <td>2</td>\n      <td>2</td>\n      <td>services</td>\n      <td>other</td>\n      <td>1.0</td>\n    </tr>\n    <tr>\n      <th>130</th>\n      <td>GP</td>\n      <td>F</td>\n      <td>0</td>\n      <td>R</td>\n      <td>GT3</td>\n      <td>T</td>\n      <td>3</td>\n      <td>4</td>\n      <td>services</td>\n      <td>teacher</td>\n      <td>2.0</td>\n    </tr>\n    <tr>\n      <th>131</th>\n      <td>GP</td>\n      <td>F</td>\n      <td>0</td>\n      <td>U</td>\n      <td>GT3</td>\n      <td>T</td>\n      <td>1</td>\n      <td>1</td>\n      <td>at_home</td>\n      <td>other</td>\n      <td>3.0</td>\n    </tr>\n    <tr>\n      <th>134</th>\n      <td>GP</td>\n      <td>M</td>\n      <td>0</td>\n      <td>R</td>\n      <td>GT3</td>\n      <td>T</td>\n      <td>3</td>\n      <td>4</td>\n      <td>at_home</td>\n      <td>teacher</td>\n      <td>4.0</td>\n    </tr>\n    <tr>\n      <th>135</th>\n      <td>GP</td>\n      <td>F</td>\n      <td>0</td>\n      <td>U</td>\n      <td>GT3</td>\n      <td>T</td>\n      <td>4</td>\n      <td>4</td>\n      <td>services</td>\n      <td>at_home</td>\n      <td>5.0</td>\n    </tr>\n    <tr>\n      <th>...</th>\n      <td>...</td>\n      <td>...</td>\n      <td>...</td>\n      <td>...</td>\n      <td>...</td>\n      <td>...</td>\n      <td>...</td>\n      <td>...</td>\n      <td>...</td>\n      <td>...</td>\n      <td>...</td>\n    </tr>\n    <tr>\n      <th>110</th>\n      <td>GP</td>\n      <td>M</td>\n      <td>0</td>\n      <td>U</td>\n      <td>LE3</td>\n      <td>A</td>\n      <td>4</td>\n      <td>4</td>\n      <td>teacher</td>\n      <td>teacher</td>\n      <td>391.0</td>\n    </tr>\n    <tr>\n      <th>113</th>\n      <td>GP</td>\n      <td>M</td>\n      <td>0</td>\n      <td>U</td>\n      <td>LE3</td>\n      <td>T</td>\n      <td>4</td>\n      <td>2</td>\n      <td>teacher</td>\n      <td>other</td>\n      <td>392.0</td>\n    </tr>\n    <tr>\n      <th>286</th>\n      <td>GP</td>\n      <td>F</td>\n      <td>0</td>\n      <td>U</td>\n      <td>GT3</td>\n      <td>T</td>\n      <td>2</td>\n      <td>2</td>\n      <td>at_home</td>\n      <td>at_home</td>\n      <td>393.0</td>\n    </tr>\n    <tr>\n      <th>374</th>\n      <td>MS</td>\n      <td>F</td>\n      <td>0</td>\n      <td>R</td>\n      <td>LE3</td>\n      <td>T</td>\n      <td>4</td>\n      <td>4</td>\n      <td>other</td>\n      <td>other</td>\n      <td>394.0</td>\n    </tr>\n    <tr>\n      <th>47</th>\n      <td>GP</td>\n      <td>M</td>\n      <td>0</td>\n      <td>U</td>\n      <td>GT3</td>\n      <td>T</td>\n      <td>4</td>\n      <td>3</td>\n      <td>health</td>\n      <td>services</td>\n      <td>395.0</td>\n    </tr>\n  </tbody>\n</table>\n<p>395 rows × 11 columns</p>\n</div>"
     },
     "execution_count": 18,
     "metadata": {},
     "output_type": "execute_result"
    }
   ],
   "source": [
    "student_data_selected_att = student_data_selected_att.sort_values(by=['rank'])\n",
    "student_data_selected_att\n",
    "\n"
   ],
   "metadata": {
    "collapsed": false,
    "pycharm": {
     "name": "#%%\n"
    }
   }
  },
  {
   "cell_type": "code",
   "execution_count": 19,
   "outputs": [],
   "source": [
    "student_data_selected_att.to_csv(r\"../../InputData/StudentDataset/student-mat_selected_att.csv\", index=False)\n"
   ],
   "metadata": {
    "collapsed": false,
    "pycharm": {
     "name": "#%%\n"
    }
   }
  },
  {
   "cell_type": "code",
   "execution_count": 21,
   "outputs": [
    {
     "data": {
      "text/plain": "  school sex  age_binary address famsize Pstatus  Medu  Fedu      Mjob  \\\n0     GP   M           0       R     GT3       T     2     2  services   \n1     GP   F           0       R     GT3       T     3     4  services   \n2     GP   F           0       U     GT3       T     1     1   at_home   \n3     GP   M           0       R     GT3       T     3     4   at_home   \n4     GP   F           0       U     GT3       T     4     4  services   \n\n      Fjob  rank  \n0    other   1.0  \n1  teacher   2.0  \n2    other   3.0  \n3  teacher   4.0  \n4  at_home   5.0  ",
      "text/html": "<div>\n<style scoped>\n    .dataframe tbody tr th:only-of-type {\n        vertical-align: middle;\n    }\n\n    .dataframe tbody tr th {\n        vertical-align: top;\n    }\n\n    .dataframe thead th {\n        text-align: right;\n    }\n</style>\n<table border=\"1\" class=\"dataframe\">\n  <thead>\n    <tr style=\"text-align: right;\">\n      <th></th>\n      <th>school</th>\n      <th>sex</th>\n      <th>age_binary</th>\n      <th>address</th>\n      <th>famsize</th>\n      <th>Pstatus</th>\n      <th>Medu</th>\n      <th>Fedu</th>\n      <th>Mjob</th>\n      <th>Fjob</th>\n      <th>rank</th>\n    </tr>\n  </thead>\n  <tbody>\n    <tr>\n      <th>0</th>\n      <td>GP</td>\n      <td>M</td>\n      <td>0</td>\n      <td>R</td>\n      <td>GT3</td>\n      <td>T</td>\n      <td>2</td>\n      <td>2</td>\n      <td>services</td>\n      <td>other</td>\n      <td>1.0</td>\n    </tr>\n    <tr>\n      <th>1</th>\n      <td>GP</td>\n      <td>F</td>\n      <td>0</td>\n      <td>R</td>\n      <td>GT3</td>\n      <td>T</td>\n      <td>3</td>\n      <td>4</td>\n      <td>services</td>\n      <td>teacher</td>\n      <td>2.0</td>\n    </tr>\n    <tr>\n      <th>2</th>\n      <td>GP</td>\n      <td>F</td>\n      <td>0</td>\n      <td>U</td>\n      <td>GT3</td>\n      <td>T</td>\n      <td>1</td>\n      <td>1</td>\n      <td>at_home</td>\n      <td>other</td>\n      <td>3.0</td>\n    </tr>\n    <tr>\n      <th>3</th>\n      <td>GP</td>\n      <td>M</td>\n      <td>0</td>\n      <td>R</td>\n      <td>GT3</td>\n      <td>T</td>\n      <td>3</td>\n      <td>4</td>\n      <td>at_home</td>\n      <td>teacher</td>\n      <td>4.0</td>\n    </tr>\n    <tr>\n      <th>4</th>\n      <td>GP</td>\n      <td>F</td>\n      <td>0</td>\n      <td>U</td>\n      <td>GT3</td>\n      <td>T</td>\n      <td>4</td>\n      <td>4</td>\n      <td>services</td>\n      <td>at_home</td>\n      <td>5.0</td>\n    </tr>\n  </tbody>\n</table>\n</div>"
     },
     "execution_count": 21,
     "metadata": {},
     "output_type": "execute_result"
    }
   ],
   "source": [
    "student_data_selected_att = pd.read_csv(r\"../../InputData/StudentDataset/student-mat_selected_att.csv\")\n",
    "student_data_selected_att[:5]"
   ],
   "metadata": {
    "collapsed": false,
    "pycharm": {
     "name": "#%%\n"
    }
   }
  },
  {
   "cell_type": "code",
   "execution_count": 22,
   "outputs": [
    {
     "name": "stdout",
     "output_type": "stream",
     "text": [
      "0      GP\n",
      "1      GP\n",
      "2      GP\n",
      "3      GP\n",
      "4      GP\n",
      "       ..\n",
      "390    GP\n",
      "391    GP\n",
      "392    GP\n",
      "393    MS\n",
      "394    GP\n",
      "Name: school, Length: 395, dtype: object\n",
      "0      0\n",
      "1      0\n",
      "2      0\n",
      "3      0\n",
      "4      0\n",
      "      ..\n",
      "390    0\n",
      "391    0\n",
      "392    0\n",
      "393    1\n",
      "394    0\n",
      "Name: school, Length: 395, dtype: int64\n"
     ]
    }
   ],
   "source": [
    "\n",
    "def school(x):\n",
    "    if x == \"GP\":\n",
    "        return 0\n",
    "    else:\n",
    "        return 1\n",
    "\n",
    "\n",
    "print(student_data_selected_att['school'])\n",
    "student_data_selected_att['school'] = student_data_selected_att['school'].map(lambda x: school(x))\n",
    "print(student_data_selected_att['school'])\n",
    "\n"
   ],
   "metadata": {
    "collapsed": false,
    "pycharm": {
     "name": "#%%\n"
    }
   }
  },
  {
   "cell_type": "code",
   "execution_count": 23,
   "outputs": [
    {
     "name": "stdout",
     "output_type": "stream",
     "text": [
      "0      M\n",
      "1      F\n",
      "2      F\n",
      "3      M\n",
      "4      F\n",
      "      ..\n",
      "390    M\n",
      "391    M\n",
      "392    F\n",
      "393    F\n",
      "394    M\n",
      "Name: sex, Length: 395, dtype: object\n",
      "0      1\n",
      "1      0\n",
      "2      0\n",
      "3      1\n",
      "4      0\n",
      "      ..\n",
      "390    1\n",
      "391    1\n",
      "392    0\n",
      "393    0\n",
      "394    1\n",
      "Name: sex, Length: 395, dtype: int64\n"
     ]
    }
   ],
   "source": [
    "def sex(x):\n",
    "    if x == \"F\":\n",
    "        return 0\n",
    "    else:\n",
    "        return 1\n",
    "\n",
    "\n",
    "print(student_data_selected_att['sex'])\n",
    "student_data_selected_att['sex'] = student_data_selected_att['sex'].map(lambda x: sex(x))\n",
    "print(student_data_selected_att['sex'])\n",
    "\n"
   ],
   "metadata": {
    "collapsed": false,
    "pycharm": {
     "name": "#%%\n"
    }
   }
  },
  {
   "cell_type": "code",
   "execution_count": 24,
   "outputs": [
    {
     "name": "stdout",
     "output_type": "stream",
     "text": [
      "0      R\n",
      "1      R\n",
      "2      U\n",
      "3      R\n",
      "4      U\n",
      "      ..\n",
      "390    U\n",
      "391    U\n",
      "392    U\n",
      "393    R\n",
      "394    U\n",
      "Name: address, Length: 395, dtype: object\n",
      "0      1\n",
      "1      1\n",
      "2      0\n",
      "3      1\n",
      "4      0\n",
      "      ..\n",
      "390    0\n",
      "391    0\n",
      "392    0\n",
      "393    1\n",
      "394    0\n",
      "Name: address, Length: 395, dtype: int64\n"
     ]
    }
   ],
   "source": [
    "\n",
    "def address(x):\n",
    "    if x == \"U\":\n",
    "        return 0\n",
    "    else:\n",
    "        return 1\n",
    "\n",
    "\n",
    "print(student_data_selected_att['address'])\n",
    "student_data_selected_att['address'] = student_data_selected_att['address'].map(lambda x: address(x))\n",
    "print(student_data_selected_att['address'])\n",
    "\n"
   ],
   "metadata": {
    "collapsed": false,
    "pycharm": {
     "name": "#%%\n"
    }
   }
  },
  {
   "cell_type": "code",
   "execution_count": 25,
   "outputs": [
    {
     "name": "stdout",
     "output_type": "stream",
     "text": [
      "0      GT3\n",
      "1      GT3\n",
      "2      GT3\n",
      "3      GT3\n",
      "4      GT3\n",
      "      ... \n",
      "390    LE3\n",
      "391    LE3\n",
      "392    GT3\n",
      "393    LE3\n",
      "394    GT3\n",
      "Name: famsize, Length: 395, dtype: object\n",
      "0      1\n",
      "1      1\n",
      "2      1\n",
      "3      1\n",
      "4      1\n",
      "      ..\n",
      "390    0\n",
      "391    0\n",
      "392    1\n",
      "393    0\n",
      "394    1\n",
      "Name: famsize, Length: 395, dtype: int64\n"
     ]
    }
   ],
   "source": [
    "\n",
    "def famsize(x):\n",
    "    if x == \"LE3\":\n",
    "        return 0\n",
    "    else:\n",
    "        return 1\n",
    "\n",
    "\n",
    "print(student_data_selected_att['famsize'])\n",
    "student_data_selected_att['famsize'] = student_data_selected_att['famsize'].map(lambda x: famsize(x))\n",
    "print(student_data_selected_att['famsize'])\n",
    "\n"
   ],
   "metadata": {
    "collapsed": false,
    "pycharm": {
     "name": "#%%\n"
    }
   }
  },
  {
   "cell_type": "code",
   "execution_count": 26,
   "outputs": [
    {
     "name": "stdout",
     "output_type": "stream",
     "text": [
      "0      T\n",
      "1      T\n",
      "2      T\n",
      "3      T\n",
      "4      T\n",
      "      ..\n",
      "390    A\n",
      "391    T\n",
      "392    T\n",
      "393    T\n",
      "394    T\n",
      "Name: Pstatus, Length: 395, dtype: object\n",
      "0      0\n",
      "1      0\n",
      "2      0\n",
      "3      0\n",
      "4      0\n",
      "      ..\n",
      "390    1\n",
      "391    0\n",
      "392    0\n",
      "393    0\n",
      "394    0\n",
      "Name: Pstatus, Length: 395, dtype: int64\n"
     ]
    }
   ],
   "source": [
    "def Pstatus(x):\n",
    "    if x == \"T\":\n",
    "        return 0\n",
    "    else:\n",
    "        return 1\n",
    "\n",
    "\n",
    "print(student_data_selected_att['Pstatus'])\n",
    "student_data_selected_att['Pstatus'] = student_data_selected_att['Pstatus'].map(lambda x: Pstatus(x))\n",
    "print(student_data_selected_att['Pstatus'])\n",
    "\n",
    "\n"
   ],
   "metadata": {
    "collapsed": false,
    "pycharm": {
     "name": "#%%\n"
    }
   }
  },
  {
   "cell_type": "code",
   "execution_count": 27,
   "outputs": [
    {
     "name": "stdout",
     "output_type": "stream",
     "text": [
      "0      services\n",
      "1      services\n",
      "2       at_home\n",
      "3       at_home\n",
      "4      services\n",
      "         ...   \n",
      "390     teacher\n",
      "391     teacher\n",
      "392     at_home\n",
      "393       other\n",
      "394      health\n",
      "Name: Mjob, Length: 395, dtype: object\n",
      "0      2\n",
      "1      2\n",
      "2      3\n",
      "3      3\n",
      "4      2\n",
      "      ..\n",
      "390    0\n",
      "391    0\n",
      "392    3\n",
      "393    4\n",
      "394    1\n",
      "Name: Mjob, Length: 395, dtype: int64\n"
     ]
    }
   ],
   "source": [
    "# 9 Mjob - mother's job (nominal: 'teacher', 'health' care related, civil 'services' (e.g. administrative or police), 'at_home' or 'other')\n",
    "# 10 Fjob - father's job (nominal: 'teacher', 'health' care related, civil 'services' (e.g. administrative or police), 'at_home' or 'other')\n",
    "\n",
    "def Mjob(x):\n",
    "    if x == 'teacher':\n",
    "        return 0\n",
    "    elif x == 'health':\n",
    "        return 1\n",
    "    elif x == 'services':\n",
    "        return 2\n",
    "    elif x == 'at_home':\n",
    "        return 3\n",
    "    else:\n",
    "        return 4\n",
    "\n",
    "\n",
    "print(student_data_selected_att['Mjob'])\n",
    "student_data_selected_att['Mjob'] = student_data_selected_att['Mjob'].map(lambda x: Mjob(x))\n",
    "print(student_data_selected_att['Mjob'])\n"
   ],
   "metadata": {
    "collapsed": false,
    "pycharm": {
     "name": "#%%\n"
    }
   }
  },
  {
   "cell_type": "code",
   "execution_count": 28,
   "outputs": [
    {
     "name": "stdout",
     "output_type": "stream",
     "text": [
      "0         other\n",
      "1       teacher\n",
      "2         other\n",
      "3       teacher\n",
      "4       at_home\n",
      "         ...   \n",
      "390     teacher\n",
      "391       other\n",
      "392     at_home\n",
      "393       other\n",
      "394    services\n",
      "Name: Fjob, Length: 395, dtype: object\n",
      "0      4\n",
      "1      0\n",
      "2      4\n",
      "3      0\n",
      "4      3\n",
      "      ..\n",
      "390    0\n",
      "391    4\n",
      "392    3\n",
      "393    4\n",
      "394    2\n",
      "Name: Fjob, Length: 395, dtype: int64\n"
     ]
    }
   ],
   "source": [
    "def Fjob(x):\n",
    "    if x == 'teacher':\n",
    "        return 0\n",
    "    elif x == 'health':\n",
    "        return 1\n",
    "    elif x == 'services':\n",
    "        return 2\n",
    "    elif x == 'at_home':\n",
    "        return 3\n",
    "    else:\n",
    "        return 4\n",
    "\n",
    "\n",
    "print(student_data_selected_att['Fjob'])\n",
    "student_data_selected_att['Fjob'] = student_data_selected_att['Fjob'].map(lambda x: Fjob(x))\n",
    "print(student_data_selected_att['Fjob'])\n"
   ],
   "metadata": {
    "collapsed": false,
    "pycharm": {
     "name": "#%%\n"
    }
   }
  },
  {
   "cell_type": "code",
   "execution_count": 29,
   "outputs": [],
   "source": [
    "student_data_selected_att.to_csv(r\"../../InputData/StudentDataset/student-mat_selected_att.csv\", index=False)\n",
    "\n"
   ],
   "metadata": {
    "collapsed": false,
    "pycharm": {
     "name": "#%%\n"
    }
   }
  },
  {
   "cell_type": "code",
   "execution_count": 38,
   "outputs": [],
   "source": [
    "student_data_selected_9att = student_data_selected_att[[\"school\",\"sex\",\"age_binary\",\"address\", \"famsize\",\n",
    "                                                        \"Pstatus\", \"Medu\", \"Fedu\", \"Mjob\", \"rank\"]]\n",
    "\n",
    "student_data_selected_9att.to_csv(r\"../../InputData/StudentDataset/ForRanking/student-mat_selected_9att.csv\", index=False)\n"
   ],
   "metadata": {
    "collapsed": false,
    "pycharm": {
     "name": "#%%\n"
    }
   }
  },
  {
   "cell_type": "code",
   "execution_count": 6,
   "outputs": [],
   "source": [],
   "metadata": {
    "collapsed": false,
    "pycharm": {
     "name": "#%%\n"
    }
   }
  },
  {
   "cell_type": "code",
   "execution_count": 2,
   "outputs": [
    {
     "name": "stdout",
     "output_type": "stream",
     "text": [
      "[1, 2, 3, 4, 7, 8, 9] [7, 8, 9, 1, 2, 3, 4]\n"
     ]
    }
   ],
   "source": [
    "#  [[0, -1, 0, 1, 1], [0, 1, 0, -1, 1], [0, 0, 0, 0, 1]]\n",
    "# [0, 1, 0, 0, -1]"
   ],
   "metadata": {
    "collapsed": false,
    "pycharm": {
     "name": "#%%\n"
    }
   }
  }
 ],
 "metadata": {
  "kernelspec": {
   "display_name": "Python 3",
   "language": "python",
   "name": "python3"
  },
  "language_info": {
   "codemirror_mode": {
    "name": "ipython",
    "version": 3
   },
   "file_extension": ".py",
   "mimetype": "text/x-python",
   "name": "python",
   "nbconvert_exporter": "python",
   "pygments_lexer": "ipython3",
   "version": "3.8.3"
  }
 },
 "nbformat": 4,
 "nbformat_minor": 4
}