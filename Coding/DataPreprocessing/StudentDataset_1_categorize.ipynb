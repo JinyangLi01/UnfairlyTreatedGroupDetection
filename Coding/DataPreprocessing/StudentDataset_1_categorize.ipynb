{
 "cells": [
  {
   "cell_type": "code",
   "execution_count": 6,
   "metadata": {
    "collapsed": true
   },
   "outputs": [],
   "source": [
    "\n",
    "import numpy as np\n",
    "import pandas as pd\n",
    "from sklearn.tree import DecisionTreeClassifier\n",
    "from sklearn.model_selection import train_test_split\n",
    "from sklearn.metrics import accuracy_score\n"
   ]
  },
  {
   "cell_type": "markdown",
   "source": [
    "# Categorize"
   ],
   "metadata": {
    "collapsed": false
   }
  },
  {
   "cell_type": "code",
   "execution_count": 7,
   "outputs": [
    {
     "name": "stdout",
     "output_type": "stream",
     "text": [
      "395\n"
     ]
    },
    {
     "data": {
      "text/plain": "  school sex  age address famsize Pstatus  Medu  Fedu     Mjob     Fjob  ...  \\\n0     GP   F   18       U     GT3       A     4     4  at_home  teacher  ...   \n1     GP   F   17       U     GT3       T     1     1  at_home    other  ...   \n2     GP   F   15       U     LE3       T     1     1  at_home    other  ...   \n\n  famrel freetime  goout  Dalc  Walc health absences G1 G2  G3  \n0      4        3      4     1     1      3        6  5  6   6  \n1      5        3      3     1     1      3        4  5  5   6  \n2      4        3      2     2     3      3       10  7  8  10  \n\n[3 rows x 33 columns]",
      "text/html": "<div>\n<style scoped>\n    .dataframe tbody tr th:only-of-type {\n        vertical-align: middle;\n    }\n\n    .dataframe tbody tr th {\n        vertical-align: top;\n    }\n\n    .dataframe thead th {\n        text-align: right;\n    }\n</style>\n<table border=\"1\" class=\"dataframe\">\n  <thead>\n    <tr style=\"text-align: right;\">\n      <th></th>\n      <th>school</th>\n      <th>sex</th>\n      <th>age</th>\n      <th>address</th>\n      <th>famsize</th>\n      <th>Pstatus</th>\n      <th>Medu</th>\n      <th>Fedu</th>\n      <th>Mjob</th>\n      <th>Fjob</th>\n      <th>...</th>\n      <th>famrel</th>\n      <th>freetime</th>\n      <th>goout</th>\n      <th>Dalc</th>\n      <th>Walc</th>\n      <th>health</th>\n      <th>absences</th>\n      <th>G1</th>\n      <th>G2</th>\n      <th>G3</th>\n    </tr>\n  </thead>\n  <tbody>\n    <tr>\n      <th>0</th>\n      <td>GP</td>\n      <td>F</td>\n      <td>18</td>\n      <td>U</td>\n      <td>GT3</td>\n      <td>A</td>\n      <td>4</td>\n      <td>4</td>\n      <td>at_home</td>\n      <td>teacher</td>\n      <td>...</td>\n      <td>4</td>\n      <td>3</td>\n      <td>4</td>\n      <td>1</td>\n      <td>1</td>\n      <td>3</td>\n      <td>6</td>\n      <td>5</td>\n      <td>6</td>\n      <td>6</td>\n    </tr>\n    <tr>\n      <th>1</th>\n      <td>GP</td>\n      <td>F</td>\n      <td>17</td>\n      <td>U</td>\n      <td>GT3</td>\n      <td>T</td>\n      <td>1</td>\n      <td>1</td>\n      <td>at_home</td>\n      <td>other</td>\n      <td>...</td>\n      <td>5</td>\n      <td>3</td>\n      <td>3</td>\n      <td>1</td>\n      <td>1</td>\n      <td>3</td>\n      <td>4</td>\n      <td>5</td>\n      <td>5</td>\n      <td>6</td>\n    </tr>\n    <tr>\n      <th>2</th>\n      <td>GP</td>\n      <td>F</td>\n      <td>15</td>\n      <td>U</td>\n      <td>LE3</td>\n      <td>T</td>\n      <td>1</td>\n      <td>1</td>\n      <td>at_home</td>\n      <td>other</td>\n      <td>...</td>\n      <td>4</td>\n      <td>3</td>\n      <td>2</td>\n      <td>2</td>\n      <td>3</td>\n      <td>3</td>\n      <td>10</td>\n      <td>7</td>\n      <td>8</td>\n      <td>10</td>\n    </tr>\n  </tbody>\n</table>\n<p>3 rows × 33 columns</p>\n</div>"
     },
     "execution_count": 7,
     "metadata": {},
     "output_type": "execute_result"
    }
   ],
   "source": [
    "student_data = pd.read_csv(\"../../InputData/StudentDataset/original/student-mat.csv\", sep=';')\n",
    "print(len(student_data))\n",
    "student_data[:3]"
   ],
   "metadata": {
    "collapsed": false
   }
  },
  {
   "cell_type": "code",
   "execution_count": 8,
   "outputs": [
    {
     "name": "stdout",
     "output_type": "stream",
     "text": [
      "['school', 'sex', 'age', 'address', 'famsize', 'Pstatus', 'Medu', 'Fedu', 'Mjob', 'Fjob', 'reason', 'guardian', 'traveltime', 'studytime', 'failures', 'schoolsup', 'famsup', 'paid', 'activities', 'nursery', 'higher', 'internet', 'romantic', 'famrel', 'freetime', 'goout', 'Dalc', 'Walc', 'health', 'absences', 'G1', 'G2', 'G3']\n"
     ]
    }
   ],
   "source": [
    "all_attributes = student_data.columns.tolist()\n",
    "print(all_attributes)"
   ],
   "metadata": {
    "collapsed": false
   }
  },
  {
   "cell_type": "code",
   "execution_count": 9,
   "outputs": [
    {
     "data": {
      "text/plain": "  school sex  age address famsize Pstatus  Medu  Fedu     Mjob      Fjob  ...  \\\n0     GP   F   18       U     GT3       A     4     4  at_home   teacher  ...   \n1     GP   F   17       U     GT3       T     1     1  at_home     other  ...   \n2     GP   F   15       U     LE3       T     1     1  at_home     other  ...   \n3     GP   F   15       U     GT3       T     4     2   health  services  ...   \n\n  quality of family relationships free time after school  \\\n0                               4                      3   \n1                               5                      3   \n2                               4                      3   \n3                               3                      2   \n\n   going out with friends  workday alcohol consumption  \\\n0                       4                            1   \n1                       3                            1   \n2                       2                            2   \n3                       2                            1   \n\n   weekend alcohol consumption current health status  \\\n0                            1                     3   \n1                            1                     3   \n2                            3                     3   \n3                            1                     5   \n\n  number of school absences first period grade second period grade final grade  \n0                         6                  5                   6           6  \n1                         4                  5                   5           6  \n2                        10                  7                   8          10  \n3                         2                 15                  14          15  \n\n[4 rows x 66 columns]",
      "text/html": "<div>\n<style scoped>\n    .dataframe tbody tr th:only-of-type {\n        vertical-align: middle;\n    }\n\n    .dataframe tbody tr th {\n        vertical-align: top;\n    }\n\n    .dataframe thead th {\n        text-align: right;\n    }\n</style>\n<table border=\"1\" class=\"dataframe\">\n  <thead>\n    <tr style=\"text-align: right;\">\n      <th></th>\n      <th>school</th>\n      <th>sex</th>\n      <th>age</th>\n      <th>address</th>\n      <th>famsize</th>\n      <th>Pstatus</th>\n      <th>Medu</th>\n      <th>Fedu</th>\n      <th>Mjob</th>\n      <th>Fjob</th>\n      <th>...</th>\n      <th>quality of family relationships</th>\n      <th>free time after school</th>\n      <th>going out with friends</th>\n      <th>workday alcohol consumption</th>\n      <th>weekend alcohol consumption</th>\n      <th>current health status</th>\n      <th>number of school absences</th>\n      <th>first period grade</th>\n      <th>second period grade</th>\n      <th>final grade</th>\n    </tr>\n  </thead>\n  <tbody>\n    <tr>\n      <th>0</th>\n      <td>GP</td>\n      <td>F</td>\n      <td>18</td>\n      <td>U</td>\n      <td>GT3</td>\n      <td>A</td>\n      <td>4</td>\n      <td>4</td>\n      <td>at_home</td>\n      <td>teacher</td>\n      <td>...</td>\n      <td>4</td>\n      <td>3</td>\n      <td>4</td>\n      <td>1</td>\n      <td>1</td>\n      <td>3</td>\n      <td>6</td>\n      <td>5</td>\n      <td>6</td>\n      <td>6</td>\n    </tr>\n    <tr>\n      <th>1</th>\n      <td>GP</td>\n      <td>F</td>\n      <td>17</td>\n      <td>U</td>\n      <td>GT3</td>\n      <td>T</td>\n      <td>1</td>\n      <td>1</td>\n      <td>at_home</td>\n      <td>other</td>\n      <td>...</td>\n      <td>5</td>\n      <td>3</td>\n      <td>3</td>\n      <td>1</td>\n      <td>1</td>\n      <td>3</td>\n      <td>4</td>\n      <td>5</td>\n      <td>5</td>\n      <td>6</td>\n    </tr>\n    <tr>\n      <th>2</th>\n      <td>GP</td>\n      <td>F</td>\n      <td>15</td>\n      <td>U</td>\n      <td>LE3</td>\n      <td>T</td>\n      <td>1</td>\n      <td>1</td>\n      <td>at_home</td>\n      <td>other</td>\n      <td>...</td>\n      <td>4</td>\n      <td>3</td>\n      <td>2</td>\n      <td>2</td>\n      <td>3</td>\n      <td>3</td>\n      <td>10</td>\n      <td>7</td>\n      <td>8</td>\n      <td>10</td>\n    </tr>\n    <tr>\n      <th>3</th>\n      <td>GP</td>\n      <td>F</td>\n      <td>15</td>\n      <td>U</td>\n      <td>GT3</td>\n      <td>T</td>\n      <td>4</td>\n      <td>2</td>\n      <td>health</td>\n      <td>services</td>\n      <td>...</td>\n      <td>3</td>\n      <td>2</td>\n      <td>2</td>\n      <td>1</td>\n      <td>1</td>\n      <td>5</td>\n      <td>2</td>\n      <td>15</td>\n      <td>14</td>\n      <td>15</td>\n    </tr>\n  </tbody>\n</table>\n<p>4 rows × 66 columns</p>\n</div>"
     },
     "execution_count": 9,
     "metadata": {},
     "output_type": "execute_result"
    }
   ],
   "source": [
    "# build a new set of attributes: xxx_C, and copy old values\n",
    "cat_attributes = ['student\\'s school', 'student\\'s sex', 'student\\'s age', 'student\\'s home address type', 'family size', 'parent\\'s cohabitation status', 'mother\\'s education', 'father\\'s education', 'mother\\'s job', 'father\\'s job', 'reason to choose this school', 'student\\'s guardian', 'home to school travel time', 'weekly study time', 'number of past class failures', 'extra educational support', 'family educational support', 'extra paid classes within the course subject', 'extra-curricular activities', 'attended nursery school', 'wants to take higher education', 'Internet access at home', 'with a romantic relationship', 'quality of family relationships', 'free time after school', 'going out with friends', 'workday alcohol consumption', 'weekend alcohol consumption', 'current health status', 'number of school absences', 'first period grade', 'second period grade', 'final grade']\n",
    "\n",
    "num_att = len(cat_attributes)\n",
    "for i in range(num_att):\n",
    "    student_data[cat_attributes[i]] = student_data[all_attributes[i]]\n",
    "\n",
    "student_data[:4]\n",
    "\n"
   ],
   "metadata": {
    "collapsed": false
   }
  },
  {
   "cell_type": "code",
   "execution_count": 10,
   "outputs": [
    {
     "data": {
      "text/plain": "              age        Medu        Fedu  traveltime   studytime    failures  \\\ncount  395.000000  395.000000  395.000000  395.000000  395.000000  395.000000   \nmean    16.696203    2.749367    2.521519    1.448101    2.035443    0.334177   \nstd      1.276043    1.094735    1.088201    0.697505    0.839240    0.743651   \nmin     15.000000    0.000000    0.000000    1.000000    1.000000    0.000000   \n25%     16.000000    2.000000    2.000000    1.000000    1.000000    0.000000   \n50%     17.000000    3.000000    2.000000    1.000000    2.000000    0.000000   \n75%     18.000000    4.000000    3.000000    2.000000    2.000000    0.000000   \nmax     22.000000    4.000000    4.000000    4.000000    4.000000    3.000000   \n\n           famrel    freetime       goout        Dalc  ...  \\\ncount  395.000000  395.000000  395.000000  395.000000  ...   \nmean     3.944304    3.235443    3.108861    1.481013  ...   \nstd      0.896659    0.998862    1.113278    0.890741  ...   \nmin      1.000000    1.000000    1.000000    1.000000  ...   \n25%      4.000000    3.000000    2.000000    1.000000  ...   \n50%      4.000000    3.000000    3.000000    1.000000  ...   \n75%      5.000000    4.000000    4.000000    2.000000  ...   \nmax      5.000000    5.000000    5.000000    5.000000  ...   \n\n       quality of family relationships  free time after school  \\\ncount                       395.000000              395.000000   \nmean                          3.944304                3.235443   \nstd                           0.896659                0.998862   \nmin                           1.000000                1.000000   \n25%                           4.000000                3.000000   \n50%                           4.000000                3.000000   \n75%                           5.000000                4.000000   \nmax                           5.000000                5.000000   \n\n       going out with friends  workday alcohol consumption  \\\ncount              395.000000                   395.000000   \nmean                 3.108861                     1.481013   \nstd                  1.113278                     0.890741   \nmin                  1.000000                     1.000000   \n25%                  2.000000                     1.000000   \n50%                  3.000000                     1.000000   \n75%                  4.000000                     2.000000   \nmax                  5.000000                     5.000000   \n\n       weekend alcohol consumption  current health status  \\\ncount                   395.000000             395.000000   \nmean                      2.291139               3.554430   \nstd                       1.287897               1.390303   \nmin                       1.000000               1.000000   \n25%                       1.000000               3.000000   \n50%                       2.000000               4.000000   \n75%                       3.000000               5.000000   \nmax                       5.000000               5.000000   \n\n       number of school absences  first period grade  second period grade  \\\ncount                 395.000000          395.000000           395.000000   \nmean                    5.708861           10.908861            10.713924   \nstd                     8.003096            3.319195             3.761505   \nmin                     0.000000            3.000000             0.000000   \n25%                     0.000000            8.000000             9.000000   \n50%                     4.000000           11.000000            11.000000   \n75%                     8.000000           13.000000            13.000000   \nmax                    75.000000           19.000000            19.000000   \n\n       final grade  \ncount   395.000000  \nmean     10.415190  \nstd       4.581443  \nmin       0.000000  \n25%       8.000000  \n50%      11.000000  \n75%      14.000000  \nmax      20.000000  \n\n[8 rows x 32 columns]",
      "text/html": "<div>\n<style scoped>\n    .dataframe tbody tr th:only-of-type {\n        vertical-align: middle;\n    }\n\n    .dataframe tbody tr th {\n        vertical-align: top;\n    }\n\n    .dataframe thead th {\n        text-align: right;\n    }\n</style>\n<table border=\"1\" class=\"dataframe\">\n  <thead>\n    <tr style=\"text-align: right;\">\n      <th></th>\n      <th>age</th>\n      <th>Medu</th>\n      <th>Fedu</th>\n      <th>traveltime</th>\n      <th>studytime</th>\n      <th>failures</th>\n      <th>famrel</th>\n      <th>freetime</th>\n      <th>goout</th>\n      <th>Dalc</th>\n      <th>...</th>\n      <th>quality of family relationships</th>\n      <th>free time after school</th>\n      <th>going out with friends</th>\n      <th>workday alcohol consumption</th>\n      <th>weekend alcohol consumption</th>\n      <th>current health status</th>\n      <th>number of school absences</th>\n      <th>first period grade</th>\n      <th>second period grade</th>\n      <th>final grade</th>\n    </tr>\n  </thead>\n  <tbody>\n    <tr>\n      <th>count</th>\n      <td>395.000000</td>\n      <td>395.000000</td>\n      <td>395.000000</td>\n      <td>395.000000</td>\n      <td>395.000000</td>\n      <td>395.000000</td>\n      <td>395.000000</td>\n      <td>395.000000</td>\n      <td>395.000000</td>\n      <td>395.000000</td>\n      <td>...</td>\n      <td>395.000000</td>\n      <td>395.000000</td>\n      <td>395.000000</td>\n      <td>395.000000</td>\n      <td>395.000000</td>\n      <td>395.000000</td>\n      <td>395.000000</td>\n      <td>395.000000</td>\n      <td>395.000000</td>\n      <td>395.000000</td>\n    </tr>\n    <tr>\n      <th>mean</th>\n      <td>16.696203</td>\n      <td>2.749367</td>\n      <td>2.521519</td>\n      <td>1.448101</td>\n      <td>2.035443</td>\n      <td>0.334177</td>\n      <td>3.944304</td>\n      <td>3.235443</td>\n      <td>3.108861</td>\n      <td>1.481013</td>\n      <td>...</td>\n      <td>3.944304</td>\n      <td>3.235443</td>\n      <td>3.108861</td>\n      <td>1.481013</td>\n      <td>2.291139</td>\n      <td>3.554430</td>\n      <td>5.708861</td>\n      <td>10.908861</td>\n      <td>10.713924</td>\n      <td>10.415190</td>\n    </tr>\n    <tr>\n      <th>std</th>\n      <td>1.276043</td>\n      <td>1.094735</td>\n      <td>1.088201</td>\n      <td>0.697505</td>\n      <td>0.839240</td>\n      <td>0.743651</td>\n      <td>0.896659</td>\n      <td>0.998862</td>\n      <td>1.113278</td>\n      <td>0.890741</td>\n      <td>...</td>\n      <td>0.896659</td>\n      <td>0.998862</td>\n      <td>1.113278</td>\n      <td>0.890741</td>\n      <td>1.287897</td>\n      <td>1.390303</td>\n      <td>8.003096</td>\n      <td>3.319195</td>\n      <td>3.761505</td>\n      <td>4.581443</td>\n    </tr>\n    <tr>\n      <th>min</th>\n      <td>15.000000</td>\n      <td>0.000000</td>\n      <td>0.000000</td>\n      <td>1.000000</td>\n      <td>1.000000</td>\n      <td>0.000000</td>\n      <td>1.000000</td>\n      <td>1.000000</td>\n      <td>1.000000</td>\n      <td>1.000000</td>\n      <td>...</td>\n      <td>1.000000</td>\n      <td>1.000000</td>\n      <td>1.000000</td>\n      <td>1.000000</td>\n      <td>1.000000</td>\n      <td>1.000000</td>\n      <td>0.000000</td>\n      <td>3.000000</td>\n      <td>0.000000</td>\n      <td>0.000000</td>\n    </tr>\n    <tr>\n      <th>25%</th>\n      <td>16.000000</td>\n      <td>2.000000</td>\n      <td>2.000000</td>\n      <td>1.000000</td>\n      <td>1.000000</td>\n      <td>0.000000</td>\n      <td>4.000000</td>\n      <td>3.000000</td>\n      <td>2.000000</td>\n      <td>1.000000</td>\n      <td>...</td>\n      <td>4.000000</td>\n      <td>3.000000</td>\n      <td>2.000000</td>\n      <td>1.000000</td>\n      <td>1.000000</td>\n      <td>3.000000</td>\n      <td>0.000000</td>\n      <td>8.000000</td>\n      <td>9.000000</td>\n      <td>8.000000</td>\n    </tr>\n    <tr>\n      <th>50%</th>\n      <td>17.000000</td>\n      <td>3.000000</td>\n      <td>2.000000</td>\n      <td>1.000000</td>\n      <td>2.000000</td>\n      <td>0.000000</td>\n      <td>4.000000</td>\n      <td>3.000000</td>\n      <td>3.000000</td>\n      <td>1.000000</td>\n      <td>...</td>\n      <td>4.000000</td>\n      <td>3.000000</td>\n      <td>3.000000</td>\n      <td>1.000000</td>\n      <td>2.000000</td>\n      <td>4.000000</td>\n      <td>4.000000</td>\n      <td>11.000000</td>\n      <td>11.000000</td>\n      <td>11.000000</td>\n    </tr>\n    <tr>\n      <th>75%</th>\n      <td>18.000000</td>\n      <td>4.000000</td>\n      <td>3.000000</td>\n      <td>2.000000</td>\n      <td>2.000000</td>\n      <td>0.000000</td>\n      <td>5.000000</td>\n      <td>4.000000</td>\n      <td>4.000000</td>\n      <td>2.000000</td>\n      <td>...</td>\n      <td>5.000000</td>\n      <td>4.000000</td>\n      <td>4.000000</td>\n      <td>2.000000</td>\n      <td>3.000000</td>\n      <td>5.000000</td>\n      <td>8.000000</td>\n      <td>13.000000</td>\n      <td>13.000000</td>\n      <td>14.000000</td>\n    </tr>\n    <tr>\n      <th>max</th>\n      <td>22.000000</td>\n      <td>4.000000</td>\n      <td>4.000000</td>\n      <td>4.000000</td>\n      <td>4.000000</td>\n      <td>3.000000</td>\n      <td>5.000000</td>\n      <td>5.000000</td>\n      <td>5.000000</td>\n      <td>5.000000</td>\n      <td>...</td>\n      <td>5.000000</td>\n      <td>5.000000</td>\n      <td>5.000000</td>\n      <td>5.000000</td>\n      <td>5.000000</td>\n      <td>5.000000</td>\n      <td>75.000000</td>\n      <td>19.000000</td>\n      <td>19.000000</td>\n      <td>20.000000</td>\n    </tr>\n  </tbody>\n</table>\n<p>8 rows × 32 columns</p>\n</div>"
     },
     "execution_count": 10,
     "metadata": {},
     "output_type": "execute_result"
    }
   ],
   "source": [
    "student_data.describe()"
   ],
   "metadata": {
    "collapsed": false
   }
  },
  {
   "cell_type": "code",
   "execution_count": 10,
   "outputs": [],
   "source": [],
   "metadata": {
    "collapsed": false
   }
  },
  {
   "cell_type": "code",
   "execution_count": 10,
   "outputs": [],
   "source": [],
   "metadata": {
    "collapsed": false
   }
  },
  {
   "cell_type": "code",
   "execution_count": 11,
   "outputs": [],
   "source": [
    "# categorize XXX_C values\n",
    "\n",
    "student_data['student\\'s sex'].replace(to_replace=['M', 'F'], value=['male', 'female'], inplace=True)\n",
    "\n",
    "student_data['student\\'s age'].replace(to_replace=[15, 16, 17, 18, 19, 20, 21, 22],\n",
    "                              value=['15-17', '15-17','15-17', '18-20',  '18-20', '18-20', '21-22', '21-22'], inplace=True)\n",
    "\n",
    "student_data['student\\'s home address type'].replace(to_replace=['U', 'R'], value=['urban', 'rural'], inplace=True)\n",
    "\n",
    "student_data['family size'].replace(to_replace=['LE3', 'GT3'], value=['less or equal to 3', 'greater than 3'], inplace=True)\n",
    "\n",
    "student_data['parent\\'s cohabitation status'].replace(to_replace=['T', 'A'], value=['living together', 'part'], inplace=True)\n",
    "\n",
    "# Medu/Fedu is already numeric: 0-4\n",
    "student_data['mother\\'s education'].replace(to_replace=[0, 1, 2, 3, 4], value=['none', 'primary education (4th grade)', '5th to 9th grade', 'secondary education', 'higher education'], inplace=True)\n",
    "\n",
    "student_data['father\\'s education'].replace(to_replace=[0, 1, 2, 3, 4], value=['none', 'primary education (4th grade)', '5th to 9th grade', 'secondary education', 'higher education'], inplace=True)\n",
    "\n",
    "student_data['mother\\'s job'].replace(to_replace=['teacher', 'health', 'services', 'at_home', 'other'],\n",
    "                               value=['teacher', 'healthcare related', 'civial services', 'at home', 'other'], inplace=True)\n",
    "\n",
    "student_data['father\\'s job'].replace(to_replace=['teacher', 'health', 'services', 'at_home', 'other'],\n",
    "                               value=['teacher', 'healthcare related', 'civial services', 'at home', 'other'], inplace=True)\n",
    "\n",
    "student_data['reason to choose this school'].replace(to_replace=['home', 'reputation', 'course', 'other'],\n",
    "                                 value=['close to home', 'school reputation', 'course preference', 'other'], inplace=True)\n",
    "\n",
    "# 12 guardian - student's guardian (nominal: \"mother\", \"father\" or \"other\")\n",
    "\n",
    "\n",
    "# travel time is numeric: 1-4\n",
    "student_data['home to school travel time'].replace(to_replace=[1, 2, 3, 4], value=['< 15 min', '15 to 30 min', '30 min to 1 hour', '> 1 hour'], inplace=True)\n",
    "\n",
    "# study time is numeric: 1-4\n",
    "student_data['weekly study time'].replace(to_replace=[1, 2, 3, 4], value=['< 2 hours', '2 to 5 hours', '5 to 10 hours', '> 10 hours'], inplace=True)\n",
    "\n",
    "# failures is numeric: n if 1<=n<3, else 4\n",
    "student_data['number of past class failures'].replace(to_replace=[1, 2, 3, 4], value=['1', '2', '3', '> 4'], inplace=True)\n",
    "\n",
    "\n",
    "# (numeric: from 1 - very bad to 5 - excellent)\n",
    "student_data['quality of family relationships'].replace(to_replace=[1, 2, 3, 4, 5], value=['very bad', 'bad', 'average', 'good', 'excellent'], inplace=True)\n",
    "#\n",
    "# numeric: from 1 - very low to 5 - very high\n",
    "student_data['free time after school'].replace(to_replace=[1, 2, 3, 4, 5], value=['very low', 'below average', 'average', 'above average', 'very high'], inplace=True)\n",
    "#\n",
    "#\n",
    "# 26 goout - going out with friends (numeric: from 1 - very low to 5 - very high)\n",
    "student_data['going out with friends'].replace(to_replace=[1, 2, 3, 4, 5], value=['very low', 'below average', 'average', 'above average', 'very high'], inplace=True)\n",
    "\n",
    "# 27 Dalc - workday alcohol consumption (numeric: from 1 - very low to 5 - very high)\n",
    "student_data['workday alcohol consumption'].replace(to_replace=[1, 2, 3, 4, 5], value=['very low', 'below average', 'average', 'above average', 'very high'], inplace=True)\n",
    "\n",
    "\n",
    "# 28 Walc - weekend alcohol consumption (numeric: from 1 - very low to 5 - very high)\n",
    "student_data['weekend alcohol consumption'].replace(to_replace=[1, 2, 3, 4, 5], value=['very low', 'below average', 'average', 'above average', 'very high'], inplace=True)\n",
    "\n",
    "\n",
    "\n",
    "# 29 health - current health status (numeric: from 1 - very bad to 5 - very good)\n",
    "student_data['current health status'].replace(to_replace=[1, 2, 3, 4, 5], value=['very bad', 'bad', 'average', 'good', 'very good'], inplace=True)\n",
    "#\n",
    "\n"
   ],
   "metadata": {
    "collapsed": false
   }
  },
  {
   "cell_type": "code",
   "execution_count": 12,
   "outputs": [
    {
     "data": {
      "text/plain": "  school sex  age address famsize Pstatus  Medu  Fedu     Mjob     Fjob  ...  \\\n0     GP   F   18       U     GT3       A     4     4  at_home  teacher  ...   \n1     GP   F   17       U     GT3       T     1     1  at_home    other  ...   \n2     GP   F   15       U     LE3       T     1     1  at_home    other  ...   \n\n  quality of family relationships free time after school  \\\n0                            good                average   \n1                       excellent                average   \n2                            good                average   \n\n   going out with friends  workday alcohol consumption  \\\n0           above average                     very low   \n1                 average                     very low   \n2           below average                below average   \n\n   weekend alcohol consumption current health status  \\\n0                     very low               average   \n1                     very low               average   \n2                      average               average   \n\n  number of school absences first period grade second period grade final grade  \n0                         6                  5                   6           6  \n1                         4                  5                   5           6  \n2                        10                  7                   8          10  \n\n[3 rows x 66 columns]",
      "text/html": "<div>\n<style scoped>\n    .dataframe tbody tr th:only-of-type {\n        vertical-align: middle;\n    }\n\n    .dataframe tbody tr th {\n        vertical-align: top;\n    }\n\n    .dataframe thead th {\n        text-align: right;\n    }\n</style>\n<table border=\"1\" class=\"dataframe\">\n  <thead>\n    <tr style=\"text-align: right;\">\n      <th></th>\n      <th>school</th>\n      <th>sex</th>\n      <th>age</th>\n      <th>address</th>\n      <th>famsize</th>\n      <th>Pstatus</th>\n      <th>Medu</th>\n      <th>Fedu</th>\n      <th>Mjob</th>\n      <th>Fjob</th>\n      <th>...</th>\n      <th>quality of family relationships</th>\n      <th>free time after school</th>\n      <th>going out with friends</th>\n      <th>workday alcohol consumption</th>\n      <th>weekend alcohol consumption</th>\n      <th>current health status</th>\n      <th>number of school absences</th>\n      <th>first period grade</th>\n      <th>second period grade</th>\n      <th>final grade</th>\n    </tr>\n  </thead>\n  <tbody>\n    <tr>\n      <th>0</th>\n      <td>GP</td>\n      <td>F</td>\n      <td>18</td>\n      <td>U</td>\n      <td>GT3</td>\n      <td>A</td>\n      <td>4</td>\n      <td>4</td>\n      <td>at_home</td>\n      <td>teacher</td>\n      <td>...</td>\n      <td>good</td>\n      <td>average</td>\n      <td>above average</td>\n      <td>very low</td>\n      <td>very low</td>\n      <td>average</td>\n      <td>6</td>\n      <td>5</td>\n      <td>6</td>\n      <td>6</td>\n    </tr>\n    <tr>\n      <th>1</th>\n      <td>GP</td>\n      <td>F</td>\n      <td>17</td>\n      <td>U</td>\n      <td>GT3</td>\n      <td>T</td>\n      <td>1</td>\n      <td>1</td>\n      <td>at_home</td>\n      <td>other</td>\n      <td>...</td>\n      <td>excellent</td>\n      <td>average</td>\n      <td>average</td>\n      <td>very low</td>\n      <td>very low</td>\n      <td>average</td>\n      <td>4</td>\n      <td>5</td>\n      <td>5</td>\n      <td>6</td>\n    </tr>\n    <tr>\n      <th>2</th>\n      <td>GP</td>\n      <td>F</td>\n      <td>15</td>\n      <td>U</td>\n      <td>LE3</td>\n      <td>T</td>\n      <td>1</td>\n      <td>1</td>\n      <td>at_home</td>\n      <td>other</td>\n      <td>...</td>\n      <td>good</td>\n      <td>average</td>\n      <td>below average</td>\n      <td>below average</td>\n      <td>average</td>\n      <td>average</td>\n      <td>10</td>\n      <td>7</td>\n      <td>8</td>\n      <td>10</td>\n    </tr>\n  </tbody>\n</table>\n<p>3 rows × 66 columns</p>\n</div>"
     },
     "execution_count": 12,
     "metadata": {},
     "output_type": "execute_result"
    }
   ],
   "source": [
    "student_data[:3]"
   ],
   "metadata": {
    "collapsed": false
   }
  },
  {
   "cell_type": "code",
   "execution_count": 13,
   "outputs": [],
   "source": [
    "# student_data_copy = student_data.copy(deep=True)\n"
   ],
   "metadata": {
    "collapsed": false
   }
  },
  {
   "cell_type": "code",
   "execution_count": 14,
   "outputs": [],
   "source": [
    "# 30 absences - number of school absences (numeric: from 0 to 93)\n",
    "def absences(x):\n",
    "    if x < 30:\n",
    "        return '< 30'\n",
    "    elif x <= 60:\n",
    "        return '30 to 60'\n",
    "    else:\n",
    "        return '> 60'\n",
    "\n",
    "\n",
    "student_data['number of school absences'] = student_data['absences'].map(lambda x: absences(x))\n"
   ],
   "metadata": {
    "collapsed": false
   }
  },
  {
   "cell_type": "code",
   "execution_count": 15,
   "outputs": [
    {
     "name": "stdout",
     "output_type": "stream",
     "text": [
      "    school sex  age address famsize Pstatus  Medu  Fedu      Mjob      Fjob  \\\n",
      "0       GP   F   18       U     GT3       A     4     4   at_home   teacher   \n",
      "1       GP   F   17       U     GT3       T     1     1   at_home     other   \n",
      "2       GP   F   15       U     LE3       T     1     1   at_home     other   \n",
      "3       GP   F   15       U     GT3       T     4     2    health  services   \n",
      "4       GP   F   16       U     GT3       T     3     3     other     other   \n",
      "..     ...  ..  ...     ...     ...     ...   ...   ...       ...       ...   \n",
      "390     MS   M   20       U     LE3       A     2     2  services  services   \n",
      "391     MS   M   17       U     LE3       T     3     1  services  services   \n",
      "392     MS   M   21       R     GT3       T     1     1     other     other   \n",
      "393     MS   M   18       R     LE3       T     3     2  services     other   \n",
      "394     MS   M   19       U     LE3       T     1     1     other   at_home   \n",
      "\n",
      "     ... quality of family relationships free time after school  \\\n",
      "0    ...                            good                average   \n",
      "1    ...                       excellent                average   \n",
      "2    ...                            good                average   \n",
      "3    ...                         average          below average   \n",
      "4    ...                            good                average   \n",
      "..   ...                             ...                    ...   \n",
      "390  ...                       excellent              very high   \n",
      "391  ...                             bad          above average   \n",
      "392  ...                       excellent              very high   \n",
      "393  ...                            good          above average   \n",
      "394  ...                         average          below average   \n",
      "\n",
      "     going out with friends  workday alcohol consumption  \\\n",
      "0             above average                     very low   \n",
      "1                   average                     very low   \n",
      "2             below average                below average   \n",
      "3             below average                     very low   \n",
      "4             below average                     very low   \n",
      "..                      ...                          ...   \n",
      "390           above average                above average   \n",
      "391               very high                      average   \n",
      "392                 average                      average   \n",
      "393                very low                      average   \n",
      "394                 average                      average   \n",
      "\n",
      "     weekend alcohol consumption current health status  \\\n",
      "0                       very low               average   \n",
      "1                       very low               average   \n",
      "2                        average               average   \n",
      "3                       very low             very good   \n",
      "4                  below average             very good   \n",
      "..                           ...                   ...   \n",
      "390                    very high                  good   \n",
      "391                above average                   bad   \n",
      "392                      average               average   \n",
      "393                above average             very good   \n",
      "394                      average             very good   \n",
      "\n",
      "    number of school absences first period grade second period grade  \\\n",
      "0                        < 30                  5                   6   \n",
      "1                        < 30                  5                   5   \n",
      "2                        < 30                  7                   8   \n",
      "3                        < 30                 15                  14   \n",
      "4                        < 30                  6                  10   \n",
      "..                        ...                ...                 ...   \n",
      "390                      < 30                  9                   9   \n",
      "391                      < 30                 14                  16   \n",
      "392                      < 30                 10                   8   \n",
      "393                      < 30                 11                  12   \n",
      "394                      < 30                  8                   9   \n",
      "\n",
      "    final grade  \n",
      "0             6  \n",
      "1             6  \n",
      "2            10  \n",
      "3            15  \n",
      "4            10  \n",
      "..          ...  \n",
      "390           9  \n",
      "391          16  \n",
      "392           7  \n",
      "393          10  \n",
      "394           9  \n",
      "\n",
      "[389 rows x 66 columns]\n"
     ]
    }
   ],
   "source": [
    "\n",
    "print(student_data[student_data['number of school absences'] == '< 30'])\n"
   ],
   "metadata": {
    "collapsed": false
   }
  },
  {
   "cell_type": "code",
   "execution_count": 16,
   "outputs": [],
   "source": [
    "\n",
    "# these grades are related with the course subject, Math or Portuguese:\n",
    "# 31 G1 - first period grade (numeric: from 0 to 20)\n",
    "# 31 G2 - second period grade (numeric: from 0 to 20)\n",
    "# 32 G3 - final grade (numeric: from 0 to 20, output target)\n",
    "#\n",
    "\n",
    "\n",
    "def grades(x):\n",
    "    if x < 5:\n",
    "        return '< 5'\n",
    "    elif x <= 10:\n",
    "        return '5 to 10'\n",
    "    elif x <= 15:\n",
    "        return '11 to 15'\n",
    "    else:\n",
    "        return '> 15'\n",
    "\n",
    "\n",
    "student_data['first period grade'] = student_data['G1'].map(lambda x: grades(x))\n",
    "\n",
    "student_data['second period grade'] = student_data['G2'].map(lambda x: grades(x))\n",
    "\n",
    "student_data['final grade'] = student_data['G3'].map(lambda x: grades(x))\n",
    "\n",
    "\n",
    "\n"
   ],
   "metadata": {
    "collapsed": false
   }
  },
  {
   "cell_type": "code",
   "execution_count": 17,
   "outputs": [
    {
     "data": {
      "text/plain": "  school sex  age address famsize Pstatus  Medu  Fedu     Mjob      Fjob  ...  \\\n0     GP   F   18       U     GT3       A     4     4  at_home   teacher  ...   \n1     GP   F   17       U     GT3       T     1     1  at_home     other  ...   \n2     GP   F   15       U     LE3       T     1     1  at_home     other  ...   \n3     GP   F   15       U     GT3       T     4     2   health  services  ...   \n\n  quality of family relationships free time after school  \\\n0                            good                average   \n1                       excellent                average   \n2                            good                average   \n3                         average          below average   \n\n   going out with friends  workday alcohol consumption  \\\n0           above average                     very low   \n1                 average                     very low   \n2           below average                below average   \n3           below average                     very low   \n\n   weekend alcohol consumption current health status  \\\n0                     very low               average   \n1                     very low               average   \n2                      average               average   \n3                     very low             very good   \n\n  number of school absences first period grade second period grade final grade  \n0                      < 30            5 to 10             5 to 10     5 to 10  \n1                      < 30            5 to 10             5 to 10     5 to 10  \n2                      < 30            5 to 10             5 to 10     5 to 10  \n3                      < 30           11 to 15            11 to 15    11 to 15  \n\n[4 rows x 66 columns]",
      "text/html": "<div>\n<style scoped>\n    .dataframe tbody tr th:only-of-type {\n        vertical-align: middle;\n    }\n\n    .dataframe tbody tr th {\n        vertical-align: top;\n    }\n\n    .dataframe thead th {\n        text-align: right;\n    }\n</style>\n<table border=\"1\" class=\"dataframe\">\n  <thead>\n    <tr style=\"text-align: right;\">\n      <th></th>\n      <th>school</th>\n      <th>sex</th>\n      <th>age</th>\n      <th>address</th>\n      <th>famsize</th>\n      <th>Pstatus</th>\n      <th>Medu</th>\n      <th>Fedu</th>\n      <th>Mjob</th>\n      <th>Fjob</th>\n      <th>...</th>\n      <th>quality of family relationships</th>\n      <th>free time after school</th>\n      <th>going out with friends</th>\n      <th>workday alcohol consumption</th>\n      <th>weekend alcohol consumption</th>\n      <th>current health status</th>\n      <th>number of school absences</th>\n      <th>first period grade</th>\n      <th>second period grade</th>\n      <th>final grade</th>\n    </tr>\n  </thead>\n  <tbody>\n    <tr>\n      <th>0</th>\n      <td>GP</td>\n      <td>F</td>\n      <td>18</td>\n      <td>U</td>\n      <td>GT3</td>\n      <td>A</td>\n      <td>4</td>\n      <td>4</td>\n      <td>at_home</td>\n      <td>teacher</td>\n      <td>...</td>\n      <td>good</td>\n      <td>average</td>\n      <td>above average</td>\n      <td>very low</td>\n      <td>very low</td>\n      <td>average</td>\n      <td>&lt; 30</td>\n      <td>5 to 10</td>\n      <td>5 to 10</td>\n      <td>5 to 10</td>\n    </tr>\n    <tr>\n      <th>1</th>\n      <td>GP</td>\n      <td>F</td>\n      <td>17</td>\n      <td>U</td>\n      <td>GT3</td>\n      <td>T</td>\n      <td>1</td>\n      <td>1</td>\n      <td>at_home</td>\n      <td>other</td>\n      <td>...</td>\n      <td>excellent</td>\n      <td>average</td>\n      <td>average</td>\n      <td>very low</td>\n      <td>very low</td>\n      <td>average</td>\n      <td>&lt; 30</td>\n      <td>5 to 10</td>\n      <td>5 to 10</td>\n      <td>5 to 10</td>\n    </tr>\n    <tr>\n      <th>2</th>\n      <td>GP</td>\n      <td>F</td>\n      <td>15</td>\n      <td>U</td>\n      <td>LE3</td>\n      <td>T</td>\n      <td>1</td>\n      <td>1</td>\n      <td>at_home</td>\n      <td>other</td>\n      <td>...</td>\n      <td>good</td>\n      <td>average</td>\n      <td>below average</td>\n      <td>below average</td>\n      <td>average</td>\n      <td>average</td>\n      <td>&lt; 30</td>\n      <td>5 to 10</td>\n      <td>5 to 10</td>\n      <td>5 to 10</td>\n    </tr>\n    <tr>\n      <th>3</th>\n      <td>GP</td>\n      <td>F</td>\n      <td>15</td>\n      <td>U</td>\n      <td>GT3</td>\n      <td>T</td>\n      <td>4</td>\n      <td>2</td>\n      <td>health</td>\n      <td>services</td>\n      <td>...</td>\n      <td>average</td>\n      <td>below average</td>\n      <td>below average</td>\n      <td>very low</td>\n      <td>very low</td>\n      <td>very good</td>\n      <td>&lt; 30</td>\n      <td>11 to 15</td>\n      <td>11 to 15</td>\n      <td>11 to 15</td>\n    </tr>\n  </tbody>\n</table>\n<p>4 rows × 66 columns</p>\n</div>"
     },
     "execution_count": 17,
     "metadata": {},
     "output_type": "execute_result"
    }
   ],
   "source": [
    "\n",
    "student_data[:4]\n",
    "\n"
   ],
   "metadata": {
    "collapsed": false
   }
  },
  {
   "cell_type": "code",
   "execution_count": 17,
   "outputs": [],
   "source": [
    "\n",
    "\n",
    "\n"
   ],
   "metadata": {
    "collapsed": false
   }
  },
  {
   "cell_type": "code",
   "execution_count": 17,
   "outputs": [],
   "source": [
    "\n",
    "\n",
    "\n"
   ],
   "metadata": {
    "collapsed": false
   }
  },
  {
   "cell_type": "code",
   "execution_count": 18,
   "outputs": [],
   "source": [
    "\n",
    "## this is the categorized file!!!\n",
    "student_data.to_csv(\"../../InputData/StudentDataset/original/student-mat_cat.csv\", index=False)\n",
    "\n"
   ],
   "metadata": {
    "collapsed": false
   }
  },
  {
   "cell_type": "code",
   "execution_count": null,
   "outputs": [],
   "source": [],
   "metadata": {
    "collapsed": false
   }
  }
 ],
 "metadata": {
  "kernelspec": {
   "display_name": "Python 3",
   "language": "python",
   "name": "python3"
  },
  "language_info": {
   "codemirror_mode": {
    "name": "ipython",
    "version": 2
   },
   "file_extension": ".py",
   "mimetype": "text/x-python",
   "name": "python",
   "nbconvert_exporter": "python",
   "pygments_lexer": "ipython2",
   "version": "2.7.6"
  }
 },
 "nbformat": 4,
 "nbformat_minor": 0
}
