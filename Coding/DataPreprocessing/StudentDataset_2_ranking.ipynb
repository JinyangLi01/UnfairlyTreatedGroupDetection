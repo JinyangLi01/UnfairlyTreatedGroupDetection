{
 "cells": [
  {
   "cell_type": "code",
   "execution_count": 1,
   "metadata": {
    "collapsed": true
   },
   "outputs": [],
   "source": [
    "\n",
    "import numpy as np\n",
    "import pandas as pd\n",
    "from sklearn.tree import DecisionTreeClassifier\n",
    "from sklearn.model_selection import train_test_split\n",
    "from sklearn.metrics import accuracy_score\n",
    "\n"
   ]
  },
  {
   "cell_type": "markdown",
   "source": [
    "# rank categorized data based on G3"
   ],
   "metadata": {
    "collapsed": false
   }
  },
  {
   "cell_type": "code",
   "execution_count": 2,
   "outputs": [
    {
     "name": "stdout",
     "output_type": "stream",
     "text": [
      "395\n"
     ]
    },
    {
     "data": {
      "text/plain": "  school sex  age address famsize Pstatus  Medu  Fedu     Mjob     Fjob  ...  \\\n0     GP   F   18       U     GT3       A     4     4  at_home  teacher  ...   \n1     GP   F   17       U     GT3       T     1     1  at_home    other  ...   \n2     GP   F   15       U     LE3       T     1     1  at_home    other  ...   \n\n  quality of family relationships free time after school  \\\n0                            good                average   \n1                       excellent                average   \n2                            good                average   \n\n   going out with friends  workday alcohol consumption  \\\n0           above average                     very low   \n1                 average                     very low   \n2           below average                below average   \n\n   weekend alcohol consumption current health status  \\\n0                     very low               average   \n1                     very low               average   \n2                      average               average   \n\n  number of school absences first period grade second period grade final grade  \n0                      < 30            5 to 10             5 to 10     5 to 10  \n1                      < 30            5 to 10             5 to 10     5 to 10  \n2                      < 30            5 to 10             5 to 10     5 to 10  \n\n[3 rows x 66 columns]",
      "text/html": "<div>\n<style scoped>\n    .dataframe tbody tr th:only-of-type {\n        vertical-align: middle;\n    }\n\n    .dataframe tbody tr th {\n        vertical-align: top;\n    }\n\n    .dataframe thead th {\n        text-align: right;\n    }\n</style>\n<table border=\"1\" class=\"dataframe\">\n  <thead>\n    <tr style=\"text-align: right;\">\n      <th></th>\n      <th>school</th>\n      <th>sex</th>\n      <th>age</th>\n      <th>address</th>\n      <th>famsize</th>\n      <th>Pstatus</th>\n      <th>Medu</th>\n      <th>Fedu</th>\n      <th>Mjob</th>\n      <th>Fjob</th>\n      <th>...</th>\n      <th>quality of family relationships</th>\n      <th>free time after school</th>\n      <th>going out with friends</th>\n      <th>workday alcohol consumption</th>\n      <th>weekend alcohol consumption</th>\n      <th>current health status</th>\n      <th>number of school absences</th>\n      <th>first period grade</th>\n      <th>second period grade</th>\n      <th>final grade</th>\n    </tr>\n  </thead>\n  <tbody>\n    <tr>\n      <th>0</th>\n      <td>GP</td>\n      <td>F</td>\n      <td>18</td>\n      <td>U</td>\n      <td>GT3</td>\n      <td>A</td>\n      <td>4</td>\n      <td>4</td>\n      <td>at_home</td>\n      <td>teacher</td>\n      <td>...</td>\n      <td>good</td>\n      <td>average</td>\n      <td>above average</td>\n      <td>very low</td>\n      <td>very low</td>\n      <td>average</td>\n      <td>&lt; 30</td>\n      <td>5 to 10</td>\n      <td>5 to 10</td>\n      <td>5 to 10</td>\n    </tr>\n    <tr>\n      <th>1</th>\n      <td>GP</td>\n      <td>F</td>\n      <td>17</td>\n      <td>U</td>\n      <td>GT3</td>\n      <td>T</td>\n      <td>1</td>\n      <td>1</td>\n      <td>at_home</td>\n      <td>other</td>\n      <td>...</td>\n      <td>excellent</td>\n      <td>average</td>\n      <td>average</td>\n      <td>very low</td>\n      <td>very low</td>\n      <td>average</td>\n      <td>&lt; 30</td>\n      <td>5 to 10</td>\n      <td>5 to 10</td>\n      <td>5 to 10</td>\n    </tr>\n    <tr>\n      <th>2</th>\n      <td>GP</td>\n      <td>F</td>\n      <td>15</td>\n      <td>U</td>\n      <td>LE3</td>\n      <td>T</td>\n      <td>1</td>\n      <td>1</td>\n      <td>at_home</td>\n      <td>other</td>\n      <td>...</td>\n      <td>good</td>\n      <td>average</td>\n      <td>below average</td>\n      <td>below average</td>\n      <td>average</td>\n      <td>average</td>\n      <td>&lt; 30</td>\n      <td>5 to 10</td>\n      <td>5 to 10</td>\n      <td>5 to 10</td>\n    </tr>\n  </tbody>\n</table>\n<p>3 rows × 66 columns</p>\n</div>"
     },
     "execution_count": 2,
     "metadata": {},
     "output_type": "execute_result"
    }
   ],
   "source": [
    "\n",
    "student_data = pd.read_csv(\"../../InputData/StudentDataset/original/student-mat_cat.csv\")\n",
    "print(len(student_data))\n",
    "student_data[:3]"
   ],
   "metadata": {
    "collapsed": false
   }
  },
  {
   "cell_type": "code",
   "execution_count": 3,
   "outputs": [
    {
     "data": {
      "text/plain": "  school sex  age address famsize Pstatus  Medu  Fedu     Mjob     Fjob  ...  \\\n0     GP   F   18       U     GT3       A     4     4  at_home  teacher  ...   \n1     GP   F   17       U     GT3       T     1     1  at_home    other  ...   \n2     GP   F   15       U     LE3       T     1     1  at_home    other  ...   \n\n  free time after school going out with friends  workday alcohol consumption  \\\n0                average          above average                     very low   \n1                average                average                     very low   \n2                average          below average                below average   \n\n   weekend alcohol consumption  current health status  \\\n0                     very low                average   \n1                     very low                average   \n2                      average                average   \n\n  number of school absences first period grade second period grade  \\\n0                      < 30            5 to 10             5 to 10   \n1                      < 30            5 to 10             5 to 10   \n2                      < 30            5 to 10             5 to 10   \n\n  final grade   rank  \n0     5 to 10  335.0  \n1     5 to 10  336.0  \n2     5 to 10  210.0  \n\n[3 rows x 67 columns]",
      "text/html": "<div>\n<style scoped>\n    .dataframe tbody tr th:only-of-type {\n        vertical-align: middle;\n    }\n\n    .dataframe tbody tr th {\n        vertical-align: top;\n    }\n\n    .dataframe thead th {\n        text-align: right;\n    }\n</style>\n<table border=\"1\" class=\"dataframe\">\n  <thead>\n    <tr style=\"text-align: right;\">\n      <th></th>\n      <th>school</th>\n      <th>sex</th>\n      <th>age</th>\n      <th>address</th>\n      <th>famsize</th>\n      <th>Pstatus</th>\n      <th>Medu</th>\n      <th>Fedu</th>\n      <th>Mjob</th>\n      <th>Fjob</th>\n      <th>...</th>\n      <th>free time after school</th>\n      <th>going out with friends</th>\n      <th>workday alcohol consumption</th>\n      <th>weekend alcohol consumption</th>\n      <th>current health status</th>\n      <th>number of school absences</th>\n      <th>first period grade</th>\n      <th>second period grade</th>\n      <th>final grade</th>\n      <th>rank</th>\n    </tr>\n  </thead>\n  <tbody>\n    <tr>\n      <th>0</th>\n      <td>GP</td>\n      <td>F</td>\n      <td>18</td>\n      <td>U</td>\n      <td>GT3</td>\n      <td>A</td>\n      <td>4</td>\n      <td>4</td>\n      <td>at_home</td>\n      <td>teacher</td>\n      <td>...</td>\n      <td>average</td>\n      <td>above average</td>\n      <td>very low</td>\n      <td>very low</td>\n      <td>average</td>\n      <td>&lt; 30</td>\n      <td>5 to 10</td>\n      <td>5 to 10</td>\n      <td>5 to 10</td>\n      <td>335.0</td>\n    </tr>\n    <tr>\n      <th>1</th>\n      <td>GP</td>\n      <td>F</td>\n      <td>17</td>\n      <td>U</td>\n      <td>GT3</td>\n      <td>T</td>\n      <td>1</td>\n      <td>1</td>\n      <td>at_home</td>\n      <td>other</td>\n      <td>...</td>\n      <td>average</td>\n      <td>average</td>\n      <td>very low</td>\n      <td>very low</td>\n      <td>average</td>\n      <td>&lt; 30</td>\n      <td>5 to 10</td>\n      <td>5 to 10</td>\n      <td>5 to 10</td>\n      <td>336.0</td>\n    </tr>\n    <tr>\n      <th>2</th>\n      <td>GP</td>\n      <td>F</td>\n      <td>15</td>\n      <td>U</td>\n      <td>LE3</td>\n      <td>T</td>\n      <td>1</td>\n      <td>1</td>\n      <td>at_home</td>\n      <td>other</td>\n      <td>...</td>\n      <td>average</td>\n      <td>below average</td>\n      <td>below average</td>\n      <td>average</td>\n      <td>average</td>\n      <td>&lt; 30</td>\n      <td>5 to 10</td>\n      <td>5 to 10</td>\n      <td>5 to 10</td>\n      <td>210.0</td>\n    </tr>\n  </tbody>\n</table>\n<p>3 rows × 67 columns</p>\n</div>"
     },
     "execution_count": 3,
     "metadata": {},
     "output_type": "execute_result"
    }
   ],
   "source": [
    "student_data['rank'] = student_data['G3'].rank(method='first', na_option='bottom', ascending=False)\n",
    "\n",
    "student_data[:3]\n"
   ],
   "metadata": {
    "collapsed": false
   }
  },
  {
   "cell_type": "code",
   "execution_count": 4,
   "outputs": [
    {
     "name": "stdout",
     "output_type": "stream",
     "text": [
      "395\n"
     ]
    }
   ],
   "source": [
    "student_data.to_csv(\"../../InputData/StudentDataset/ForRanking_1/student-mat_cat_withrank.csv\", index=False)\n",
    "print(len(student_data))\n"
   ],
   "metadata": {
    "collapsed": false
   }
  },
  {
   "cell_type": "code",
   "execution_count": 5,
   "outputs": [
    {
     "data": {
      "text/plain": "    school sex  age address famsize Pstatus  Medu  Fedu      Mjob      Fjob  \\\n47      GP   M   16       U     GT3       T     4     3    health  services   \n8       GP   M   15       U     LE3       A     3     2  services     other   \n110     GP   M   15       U     LE3       A     4     4   teacher   teacher   \n\n     ... free time after school going out with friends  \\\n47   ...          below average          below average   \n8    ...          below average          below average   \n110  ...              very high                average   \n\n     workday alcohol consumption  weekend alcohol consumption  \\\n47                      very low                     very low   \n8                       very low                     very low   \n110                     very low                     very low   \n\n     current health status number of school absences first period grade  \\\n47                     bad                      < 30               > 15   \n8                 very bad                      < 30               > 15   \n110                   good                      < 30               > 15   \n\n    second period grade final grade rank  \n47                 > 15        > 15  1.0  \n8                  > 15        > 15  2.0  \n110                > 15        > 15  3.0  \n\n[3 rows x 67 columns]",
      "text/html": "<div>\n<style scoped>\n    .dataframe tbody tr th:only-of-type {\n        vertical-align: middle;\n    }\n\n    .dataframe tbody tr th {\n        vertical-align: top;\n    }\n\n    .dataframe thead th {\n        text-align: right;\n    }\n</style>\n<table border=\"1\" class=\"dataframe\">\n  <thead>\n    <tr style=\"text-align: right;\">\n      <th></th>\n      <th>school</th>\n      <th>sex</th>\n      <th>age</th>\n      <th>address</th>\n      <th>famsize</th>\n      <th>Pstatus</th>\n      <th>Medu</th>\n      <th>Fedu</th>\n      <th>Mjob</th>\n      <th>Fjob</th>\n      <th>...</th>\n      <th>free time after school</th>\n      <th>going out with friends</th>\n      <th>workday alcohol consumption</th>\n      <th>weekend alcohol consumption</th>\n      <th>current health status</th>\n      <th>number of school absences</th>\n      <th>first period grade</th>\n      <th>second period grade</th>\n      <th>final grade</th>\n      <th>rank</th>\n    </tr>\n  </thead>\n  <tbody>\n    <tr>\n      <th>47</th>\n      <td>GP</td>\n      <td>M</td>\n      <td>16</td>\n      <td>U</td>\n      <td>GT3</td>\n      <td>T</td>\n      <td>4</td>\n      <td>3</td>\n      <td>health</td>\n      <td>services</td>\n      <td>...</td>\n      <td>below average</td>\n      <td>below average</td>\n      <td>very low</td>\n      <td>very low</td>\n      <td>bad</td>\n      <td>&lt; 30</td>\n      <td>&gt; 15</td>\n      <td>&gt; 15</td>\n      <td>&gt; 15</td>\n      <td>1.0</td>\n    </tr>\n    <tr>\n      <th>8</th>\n      <td>GP</td>\n      <td>M</td>\n      <td>15</td>\n      <td>U</td>\n      <td>LE3</td>\n      <td>A</td>\n      <td>3</td>\n      <td>2</td>\n      <td>services</td>\n      <td>other</td>\n      <td>...</td>\n      <td>below average</td>\n      <td>below average</td>\n      <td>very low</td>\n      <td>very low</td>\n      <td>very bad</td>\n      <td>&lt; 30</td>\n      <td>&gt; 15</td>\n      <td>&gt; 15</td>\n      <td>&gt; 15</td>\n      <td>2.0</td>\n    </tr>\n    <tr>\n      <th>110</th>\n      <td>GP</td>\n      <td>M</td>\n      <td>15</td>\n      <td>U</td>\n      <td>LE3</td>\n      <td>A</td>\n      <td>4</td>\n      <td>4</td>\n      <td>teacher</td>\n      <td>teacher</td>\n      <td>...</td>\n      <td>very high</td>\n      <td>average</td>\n      <td>very low</td>\n      <td>very low</td>\n      <td>good</td>\n      <td>&lt; 30</td>\n      <td>&gt; 15</td>\n      <td>&gt; 15</td>\n      <td>&gt; 15</td>\n      <td>3.0</td>\n    </tr>\n  </tbody>\n</table>\n<p>3 rows × 67 columns</p>\n</div>"
     },
     "execution_count": 5,
     "metadata": {},
     "output_type": "execute_result"
    }
   ],
   "source": [
    "student_data = student_data.sort_values(by='rank', ascending=True)\n",
    "student_data[:3]\n"
   ],
   "metadata": {
    "collapsed": false
   }
  },
  {
   "cell_type": "code",
   "execution_count": 6,
   "outputs": [
    {
     "name": "stdout",
     "output_type": "stream",
     "text": [
      "395\n"
     ]
    }
   ],
   "source": [
    "student_data.to_csv(\"../../InputData/StudentDataset/ForRanking_1/student-mat_cat_ranked.csv\", index=False)\n",
    "print(len(student_data))\n",
    "\n"
   ],
   "metadata": {
    "collapsed": false
   }
  },
  {
   "cell_type": "code",
   "execution_count": null,
   "outputs": [],
   "source": [],
   "metadata": {
    "collapsed": false
   }
  }
 ],
 "metadata": {
  "kernelspec": {
   "display_name": "Python 3",
   "language": "python",
   "name": "python3"
  },
  "language_info": {
   "codemirror_mode": {
    "name": "ipython",
    "version": 2
   },
   "file_extension": ".py",
   "mimetype": "text/x-python",
   "name": "python",
   "nbconvert_exporter": "python",
   "pygments_lexer": "ipython2",
   "version": "2.7.6"
  }
 },
 "nbformat": 4,
 "nbformat_minor": 0
}
