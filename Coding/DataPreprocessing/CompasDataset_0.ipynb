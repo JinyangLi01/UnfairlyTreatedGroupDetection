{
 "cells": [
  {
   "cell_type": "code",
   "execution_count": 2,
   "metadata": {},
   "outputs": [],
   "source": [
    "import numpy as np\n",
    "import pandas as pd\n",
    "from sklearn.tree import DecisionTreeClassifier\n",
    "from sklearn.model_selection import train_test_split\n",
    "from sklearn.metrics import accuracy_score"
   ]
  },
  {
   "cell_type": "code",
   "execution_count": 88,
   "metadata": {},
   "outputs": [
    {
     "name": "stdout",
     "output_type": "stream",
     "text": [
      "6889\n"
     ]
    }
   ],
   "source": [
    "compas_data = pd.read_csv(\"../../InputData/RecidivismData/RecidivismData_Original-categorized.csv\")\n",
    "print(len(compas_data))\n",
    "features = ['sexC', 'ageC','raceC', 'MC','priors_count_C']\n",
    "X = compas_data[features].copy()\n",
    "y = compas_data['is_recid'].copy()\n",
    "X_train, X_test, y_train, y_test = train_test_split(X, y, test_size=0.5, random_state=1)\n"
   ]
  },
  {
   "cell_type": "code",
   "execution_count": 89,
   "outputs": [
    {
     "data": {
      "text/plain": "               age  juv_fel_count  decile_score  juv_misd_count  \\\ncount  6889.000000    6889.000000   6889.000000     6889.000000   \nmean     34.869792       0.068225      4.507621        0.090289   \nstd      11.924183       0.480444      2.855803        0.484343   \nmin      18.000000       0.000000      1.000000        0.000000   \n25%      25.000000       0.000000      2.000000        0.000000   \n50%      31.000000       0.000000      4.000000        0.000000   \n75%      43.000000       0.000000      7.000000        0.000000   \nmax      83.000000      20.000000     10.000000       13.000000   \n\n       juv_other_count  priors_count  days_b_screening_arrest  \\\ncount      6889.000000   6889.000000              6595.000000   \nmean          0.111047      3.466686                 2.206065   \nstd           0.508643      4.881592                71.840165   \nmin           0.000000      0.000000              -414.000000   \n25%           0.000000      0.000000                -1.000000   \n50%           0.000000      2.000000                -1.000000   \n75%           0.000000      5.000000                -1.000000   \nmax          17.000000     38.000000              1057.000000   \n\n       c_days_from_compas     is_recid  is_violent_recid  ...        start  \\\ncount         6868.000000  6889.000000       6889.000000  ...  6889.000000   \nmean            57.663221     0.479895          0.112353  ...    11.567281   \nstd            331.867889     0.499632          0.315823  ...    47.454454   \nmin              0.000000     0.000000          0.000000  ...     0.000000   \n25%              1.000000     0.000000          0.000000  ...     0.000000   \n50%              1.000000     0.000000          0.000000  ...     0.000000   \n75%              2.000000     1.000000          0.000000  ...     2.000000   \nmax           9485.000000     1.000000          1.000000  ...   937.000000   \n\n               end        event  two_year_recid  Violence_score  \\\ncount  6889.000000  6889.000000     6889.000000     6889.000000   \nmean    554.479315     0.382204        0.450428       -2.368951   \nstd     399.199550     0.485961        0.497573        0.871101   \nmin       0.000000     0.000000        0.000000       -4.630000   \n25%     149.000000     0.000000        0.000000       -2.990000   \n50%     532.000000     0.000000        0.000000       -2.330000   \n75%     914.000000     1.000000        1.000000       -1.740000   \nmax    1186.000000     1.000000        1.000000        0.930000   \n\n       Recidivism_score         sexC         ageC        raceC           MC  \ncount       6889.000000  6889.000000  6889.000000  6889.000000  6889.000000  \nmean          -0.693594     0.192771     1.284221     0.693424     0.537233  \nstd            0.843544     0.394503     0.575019     0.860519     1.296868  \nmin           -3.000000     0.000000     0.000000     0.000000     0.000000  \n25%           -1.280000     0.000000     1.000000     0.000000     0.000000  \n50%           -0.640000     0.000000     1.000000     0.000000     0.000000  \n75%           -0.080000     0.000000     2.000000     1.000000     0.000000  \nmax            1.690000     1.000000     3.000000     3.000000     6.000000  \n\n[8 rows x 22 columns]",
      "text/html": "<div>\n<style scoped>\n    .dataframe tbody tr th:only-of-type {\n        vertical-align: middle;\n    }\n\n    .dataframe tbody tr th {\n        vertical-align: top;\n    }\n\n    .dataframe thead th {\n        text-align: right;\n    }\n</style>\n<table border=\"1\" class=\"dataframe\">\n  <thead>\n    <tr style=\"text-align: right;\">\n      <th></th>\n      <th>age</th>\n      <th>juv_fel_count</th>\n      <th>decile_score</th>\n      <th>juv_misd_count</th>\n      <th>juv_other_count</th>\n      <th>priors_count</th>\n      <th>days_b_screening_arrest</th>\n      <th>c_days_from_compas</th>\n      <th>is_recid</th>\n      <th>is_violent_recid</th>\n      <th>...</th>\n      <th>start</th>\n      <th>end</th>\n      <th>event</th>\n      <th>two_year_recid</th>\n      <th>Violence_score</th>\n      <th>Recidivism_score</th>\n      <th>sexC</th>\n      <th>ageC</th>\n      <th>raceC</th>\n      <th>MC</th>\n    </tr>\n  </thead>\n  <tbody>\n    <tr>\n      <th>count</th>\n      <td>6889.000000</td>\n      <td>6889.000000</td>\n      <td>6889.000000</td>\n      <td>6889.000000</td>\n      <td>6889.000000</td>\n      <td>6889.000000</td>\n      <td>6595.000000</td>\n      <td>6868.000000</td>\n      <td>6889.000000</td>\n      <td>6889.000000</td>\n      <td>...</td>\n      <td>6889.000000</td>\n      <td>6889.000000</td>\n      <td>6889.000000</td>\n      <td>6889.000000</td>\n      <td>6889.000000</td>\n      <td>6889.000000</td>\n      <td>6889.000000</td>\n      <td>6889.000000</td>\n      <td>6889.000000</td>\n      <td>6889.000000</td>\n    </tr>\n    <tr>\n      <th>mean</th>\n      <td>34.869792</td>\n      <td>0.068225</td>\n      <td>4.507621</td>\n      <td>0.090289</td>\n      <td>0.111047</td>\n      <td>3.466686</td>\n      <td>2.206065</td>\n      <td>57.663221</td>\n      <td>0.479895</td>\n      <td>0.112353</td>\n      <td>...</td>\n      <td>11.567281</td>\n      <td>554.479315</td>\n      <td>0.382204</td>\n      <td>0.450428</td>\n      <td>-2.368951</td>\n      <td>-0.693594</td>\n      <td>0.192771</td>\n      <td>1.284221</td>\n      <td>0.693424</td>\n      <td>0.537233</td>\n    </tr>\n    <tr>\n      <th>std</th>\n      <td>11.924183</td>\n      <td>0.480444</td>\n      <td>2.855803</td>\n      <td>0.484343</td>\n      <td>0.508643</td>\n      <td>4.881592</td>\n      <td>71.840165</td>\n      <td>331.867889</td>\n      <td>0.499632</td>\n      <td>0.315823</td>\n      <td>...</td>\n      <td>47.454454</td>\n      <td>399.199550</td>\n      <td>0.485961</td>\n      <td>0.497573</td>\n      <td>0.871101</td>\n      <td>0.843544</td>\n      <td>0.394503</td>\n      <td>0.575019</td>\n      <td>0.860519</td>\n      <td>1.296868</td>\n    </tr>\n    <tr>\n      <th>min</th>\n      <td>18.000000</td>\n      <td>0.000000</td>\n      <td>1.000000</td>\n      <td>0.000000</td>\n      <td>0.000000</td>\n      <td>0.000000</td>\n      <td>-414.000000</td>\n      <td>0.000000</td>\n      <td>0.000000</td>\n      <td>0.000000</td>\n      <td>...</td>\n      <td>0.000000</td>\n      <td>0.000000</td>\n      <td>0.000000</td>\n      <td>0.000000</td>\n      <td>-4.630000</td>\n      <td>-3.000000</td>\n      <td>0.000000</td>\n      <td>0.000000</td>\n      <td>0.000000</td>\n      <td>0.000000</td>\n    </tr>\n    <tr>\n      <th>25%</th>\n      <td>25.000000</td>\n      <td>0.000000</td>\n      <td>2.000000</td>\n      <td>0.000000</td>\n      <td>0.000000</td>\n      <td>0.000000</td>\n      <td>-1.000000</td>\n      <td>1.000000</td>\n      <td>0.000000</td>\n      <td>0.000000</td>\n      <td>...</td>\n      <td>0.000000</td>\n      <td>149.000000</td>\n      <td>0.000000</td>\n      <td>0.000000</td>\n      <td>-2.990000</td>\n      <td>-1.280000</td>\n      <td>0.000000</td>\n      <td>1.000000</td>\n      <td>0.000000</td>\n      <td>0.000000</td>\n    </tr>\n    <tr>\n      <th>50%</th>\n      <td>31.000000</td>\n      <td>0.000000</td>\n      <td>4.000000</td>\n      <td>0.000000</td>\n      <td>0.000000</td>\n      <td>2.000000</td>\n      <td>-1.000000</td>\n      <td>1.000000</td>\n      <td>0.000000</td>\n      <td>0.000000</td>\n      <td>...</td>\n      <td>0.000000</td>\n      <td>532.000000</td>\n      <td>0.000000</td>\n      <td>0.000000</td>\n      <td>-2.330000</td>\n      <td>-0.640000</td>\n      <td>0.000000</td>\n      <td>1.000000</td>\n      <td>0.000000</td>\n      <td>0.000000</td>\n    </tr>\n    <tr>\n      <th>75%</th>\n      <td>43.000000</td>\n      <td>0.000000</td>\n      <td>7.000000</td>\n      <td>0.000000</td>\n      <td>0.000000</td>\n      <td>5.000000</td>\n      <td>-1.000000</td>\n      <td>2.000000</td>\n      <td>1.000000</td>\n      <td>0.000000</td>\n      <td>...</td>\n      <td>2.000000</td>\n      <td>914.000000</td>\n      <td>1.000000</td>\n      <td>1.000000</td>\n      <td>-1.740000</td>\n      <td>-0.080000</td>\n      <td>0.000000</td>\n      <td>2.000000</td>\n      <td>1.000000</td>\n      <td>0.000000</td>\n    </tr>\n    <tr>\n      <th>max</th>\n      <td>83.000000</td>\n      <td>20.000000</td>\n      <td>10.000000</td>\n      <td>13.000000</td>\n      <td>17.000000</td>\n      <td>38.000000</td>\n      <td>1057.000000</td>\n      <td>9485.000000</td>\n      <td>1.000000</td>\n      <td>1.000000</td>\n      <td>...</td>\n      <td>937.000000</td>\n      <td>1186.000000</td>\n      <td>1.000000</td>\n      <td>1.000000</td>\n      <td>0.930000</td>\n      <td>1.690000</td>\n      <td>1.000000</td>\n      <td>3.000000</td>\n      <td>3.000000</td>\n      <td>6.000000</td>\n    </tr>\n  </tbody>\n</table>\n<p>8 rows × 22 columns</p>\n</div>"
     },
     "execution_count": 89,
     "metadata": {},
     "output_type": "execute_result"
    }
   ],
   "source": [
    "compas_data.describe()\n"
   ],
   "metadata": {
    "collapsed": false,
    "pycharm": {
     "name": "#%%\n"
    }
   }
  },
  {
   "cell_type": "code",
   "execution_count": 32,
   "outputs": [],
   "source": [
    "# put only 4 attributes into a file\n",
    "attributes = ['sexC', 'ageC','raceC', 'MC','priors_count_C']\n",
    "effective_data = compas_data[attributes].copy()\n",
    "effective_data.to_csv(r\"../../InputData/RecidivismData/RecidivismData_att_classified.csv\")\n"
   ],
   "metadata": {
    "collapsed": false,
    "pycharm": {
     "name": "#%%\n"
    }
   }
  },
  {
   "cell_type": "code",
   "execution_count": 102,
   "outputs": [
    {
     "data": {
      "text/plain": "       priors_count  priors_count_C\ncount   6889.000000     6889.000000\nmean       3.466686        3.466686\nstd        4.881592        4.881592\nmin        0.000000        0.000000\n25%        0.000000        0.000000\n50%        2.000000        2.000000\n75%        5.000000        5.000000\nmax       38.000000       38.000000",
      "text/html": "<div>\n<style scoped>\n    .dataframe tbody tr th:only-of-type {\n        vertical-align: middle;\n    }\n\n    .dataframe tbody tr th {\n        vertical-align: top;\n    }\n\n    .dataframe thead th {\n        text-align: right;\n    }\n</style>\n<table border=\"1\" class=\"dataframe\">\n  <thead>\n    <tr style=\"text-align: right;\">\n      <th></th>\n      <th>priors_count</th>\n      <th>priors_count_C</th>\n    </tr>\n  </thead>\n  <tbody>\n    <tr>\n      <th>count</th>\n      <td>6889.000000</td>\n      <td>6889.000000</td>\n    </tr>\n    <tr>\n      <th>mean</th>\n      <td>3.466686</td>\n      <td>3.466686</td>\n    </tr>\n    <tr>\n      <th>std</th>\n      <td>4.881592</td>\n      <td>4.881592</td>\n    </tr>\n    <tr>\n      <th>min</th>\n      <td>0.000000</td>\n      <td>0.000000</td>\n    </tr>\n    <tr>\n      <th>25%</th>\n      <td>0.000000</td>\n      <td>0.000000</td>\n    </tr>\n    <tr>\n      <th>50%</th>\n      <td>2.000000</td>\n      <td>2.000000</td>\n    </tr>\n    <tr>\n      <th>75%</th>\n      <td>5.000000</td>\n      <td>5.000000</td>\n    </tr>\n    <tr>\n      <th>max</th>\n      <td>38.000000</td>\n      <td>38.000000</td>\n    </tr>\n  </tbody>\n</table>\n</div>"
     },
     "execution_count": 102,
     "metadata": {},
     "output_type": "execute_result"
    }
   ],
   "source": [
    "col_to_category =['priors_count', 'priors_count_C']\n",
    "data_to_category = compas_data[col_to_category].copy()\n",
    "data_to_category.describe()"
   ],
   "metadata": {
    "collapsed": false,
    "pycharm": {
     "name": "#%%\n"
    }
   }
  },
  {
   "cell_type": "code",
   "execution_count": 91,
   "outputs": [],
   "source": [
    "compas_data['juv_fel_count_C'] = [0]*6889\n",
    "compas_data['juv_misd_count_C'] = [0]*6889\n",
    "compas_data['juv_other_count_C'] = [0]*6889\n",
    "compas_data['c_charge_degree_C'] = [0]*6889\n",
    "compas_data['c_days_from_compas_C'] = [0]*6889"
   ],
   "metadata": {
    "collapsed": false,
    "pycharm": {
     "name": "#%%\n"
    }
   }
  },
  {
   "cell_type": "code",
   "execution_count": 92,
   "outputs": [
    {
     "data": {
      "text/plain": "               name FirstName   LastName   sex DateOfBirth  age  \\\n0  miguel hernandez    miguel  hernandez  Male   4/18/1947   69   \n1       kevon dixon     kevon      dixon  Male   1/22/1982   34   \n2          ed philo        ed      philo  Male   5/14/1991   24   \n3       marcu brown     marcu      brown  Male   1/21/1993   23   \n\n               race  juv_fel_count  decile_score  juv_misd_count  ...  \\\n0             Other              0             1               0  ...   \n1  African-American              0             3               0  ...   \n2  African-American              0             4               0  ...   \n3  African-American              0             8               1  ...   \n\n   Recidivism_score  MarriageStatus  sexC  ageC raceC  MC  juv_fel_count_C  \\\n0             -2.78          Single     0     3     3   0                0   \n1             -0.76          Single     0     1     0   0                0   \n2              0.44          Single     0     1     0   0                0   \n3              0.16          Single     0     1     0   0                0   \n\n   juv_misd_count_C  juv_other_count_C  c_charge_degree_C  \n0                 0                  0                  0  \n1                 0                  0                  0  \n2                 0                  0                  0  \n3                 0                  0                  0  \n\n[4 rows x 34 columns]",
      "text/html": "<div>\n<style scoped>\n    .dataframe tbody tr th:only-of-type {\n        vertical-align: middle;\n    }\n\n    .dataframe tbody tr th {\n        vertical-align: top;\n    }\n\n    .dataframe thead th {\n        text-align: right;\n    }\n</style>\n<table border=\"1\" class=\"dataframe\">\n  <thead>\n    <tr style=\"text-align: right;\">\n      <th></th>\n      <th>name</th>\n      <th>FirstName</th>\n      <th>LastName</th>\n      <th>sex</th>\n      <th>DateOfBirth</th>\n      <th>age</th>\n      <th>race</th>\n      <th>juv_fel_count</th>\n      <th>decile_score</th>\n      <th>juv_misd_count</th>\n      <th>...</th>\n      <th>Recidivism_score</th>\n      <th>MarriageStatus</th>\n      <th>sexC</th>\n      <th>ageC</th>\n      <th>raceC</th>\n      <th>MC</th>\n      <th>juv_fel_count_C</th>\n      <th>juv_misd_count_C</th>\n      <th>juv_other_count_C</th>\n      <th>c_charge_degree_C</th>\n    </tr>\n  </thead>\n  <tbody>\n    <tr>\n      <th>0</th>\n      <td>miguel hernandez</td>\n      <td>miguel</td>\n      <td>hernandez</td>\n      <td>Male</td>\n      <td>4/18/1947</td>\n      <td>69</td>\n      <td>Other</td>\n      <td>0</td>\n      <td>1</td>\n      <td>0</td>\n      <td>...</td>\n      <td>-2.78</td>\n      <td>Single</td>\n      <td>0</td>\n      <td>3</td>\n      <td>3</td>\n      <td>0</td>\n      <td>0</td>\n      <td>0</td>\n      <td>0</td>\n      <td>0</td>\n    </tr>\n    <tr>\n      <th>1</th>\n      <td>kevon dixon</td>\n      <td>kevon</td>\n      <td>dixon</td>\n      <td>Male</td>\n      <td>1/22/1982</td>\n      <td>34</td>\n      <td>African-American</td>\n      <td>0</td>\n      <td>3</td>\n      <td>0</td>\n      <td>...</td>\n      <td>-0.76</td>\n      <td>Single</td>\n      <td>0</td>\n      <td>1</td>\n      <td>0</td>\n      <td>0</td>\n      <td>0</td>\n      <td>0</td>\n      <td>0</td>\n      <td>0</td>\n    </tr>\n    <tr>\n      <th>2</th>\n      <td>ed philo</td>\n      <td>ed</td>\n      <td>philo</td>\n      <td>Male</td>\n      <td>5/14/1991</td>\n      <td>24</td>\n      <td>African-American</td>\n      <td>0</td>\n      <td>4</td>\n      <td>0</td>\n      <td>...</td>\n      <td>0.44</td>\n      <td>Single</td>\n      <td>0</td>\n      <td>1</td>\n      <td>0</td>\n      <td>0</td>\n      <td>0</td>\n      <td>0</td>\n      <td>0</td>\n      <td>0</td>\n    </tr>\n    <tr>\n      <th>3</th>\n      <td>marcu brown</td>\n      <td>marcu</td>\n      <td>brown</td>\n      <td>Male</td>\n      <td>1/21/1993</td>\n      <td>23</td>\n      <td>African-American</td>\n      <td>0</td>\n      <td>8</td>\n      <td>1</td>\n      <td>...</td>\n      <td>0.16</td>\n      <td>Single</td>\n      <td>0</td>\n      <td>1</td>\n      <td>0</td>\n      <td>0</td>\n      <td>0</td>\n      <td>0</td>\n      <td>0</td>\n      <td>0</td>\n    </tr>\n  </tbody>\n</table>\n<p>4 rows × 34 columns</p>\n</div>"
     },
     "execution_count": 92,
     "metadata": {},
     "output_type": "execute_result"
    }
   ],
   "source": [
    "compas_data[:4]"
   ],
   "metadata": {
    "collapsed": false,
    "pycharm": {
     "name": "#%%\n"
    }
   }
  },
  {
   "cell_type": "markdown",
   "source": [
    "### group some non-discrete numbers"
   ],
   "metadata": {
    "collapsed": false,
    "pycharm": {
     "name": "#%% md\n"
    }
   }
  },
  {
   "cell_type": "code",
   "execution_count": 93,
   "outputs": [
    {
     "name": "stdout",
     "output_type": "stream",
     "text": [
      "0       0\n",
      "1       0\n",
      "2       0\n",
      "3       0\n",
      "4       0\n",
      "       ..\n",
      "6884    0\n",
      "6885    0\n",
      "6886    0\n",
      "6887    0\n",
      "6888    0\n",
      "Name: juv_fel_count_C, Length: 6889, dtype: int64\n",
      "0       0\n",
      "1       0\n",
      "2       0\n",
      "3       0\n",
      "4       0\n",
      "       ..\n",
      "6884    0\n",
      "6885    0\n",
      "6886    0\n",
      "6887    0\n",
      "6888    0\n",
      "Name: juv_fel_count_C, Length: 6889, dtype: int64\n"
     ]
    }
   ],
   "source": [
    "\n",
    "def juv_fel_count(x):\n",
    "    if x < 5:\n",
    "        return 0\n",
    "    elif x < 10:\n",
    "        return 1\n",
    "    elif x < 15:\n",
    "        return 2\n",
    "    else:\n",
    "        return 3\n",
    "\n",
    "\n",
    "print(compas_data['juv_fel_count_C'])\n",
    "compas_data['juv_fel_count_C'] = compas_data['juv_fel_count'].map(lambda x: juv_fel_count(x))\n",
    "print(compas_data['juv_fel_count_C'])"
   ],
   "metadata": {
    "collapsed": false,
    "pycharm": {
     "name": "#%%\n"
    }
   }
  },
  {
   "cell_type": "code",
   "execution_count": 94,
   "outputs": [
    {
     "name": "stdout",
     "output_type": "stream",
     "text": [
      "                    name FirstName    LastName   sex DateOfBirth  age  \\\n",
      "535        travis holmes    travis      holmes  Male   12/7/1987   28   \n",
      "1421      markel landers    markel     landers  Male  12/29/1995   20   \n",
      "1714    fandy fleurinord     fandy  fleurinord  Male   2/12/1991   25   \n",
      "3118          gary riess      gary       riess  Male   7/10/1976   39   \n",
      "3196      gavin williams     gavin    williams  Male  10/30/1984   31   \n",
      "3548      zachary brooks   zachary      brooks  Male    8/1/1997   18   \n",
      "3565     emmanuel colson  emmanuel      colson  Male  10/30/1979   36   \n",
      "3698     shanard twensey   shanard     twensey  Male    2/5/1992   24   \n",
      "4992  bradley mammarelli   bradley  mammarelli  Male   5/19/1992   23   \n",
      "5469    timothy kendrick   timothy    kendrick  Male   1/22/1986   30   \n",
      "5523     william cesaire   william     cesaire  Male   7/12/1991   24   \n",
      "6007       tavaris evans   tavaris       evans  Male   1/20/1998   18   \n",
      "\n",
      "                  race  juv_fel_count  decile_score  juv_misd_count  ...  \\\n",
      "535   African-American              8             8               0  ...   \n",
      "1421  African-American              9             4               0  ...   \n",
      "1714             Other             20            10               0  ...   \n",
      "3118         Caucasian              6             7               1  ...   \n",
      "3196  African-American              5             9               0  ...   \n",
      "3548         Caucasian              5             8               0  ...   \n",
      "3565  African-American             10             7               0  ...   \n",
      "3698  African-American              5             8               0  ...   \n",
      "4992         Caucasian              8            10               2  ...   \n",
      "5469  African-American              6             9               0  ...   \n",
      "5523  African-American              5            10               1  ...   \n",
      "6007  African-American              5             5               0  ...   \n",
      "\n",
      "      Recidivism_score  MarriageStatus  sexC  ageC raceC  MC  juv_fel_count_C  \\\n",
      "535               0.26          Single     0     1     0   0                1   \n",
      "1421             -0.55          Single     0     0     0   0                1   \n",
      "1714              0.92          Single     0     1     3   0                3   \n",
      "3118              0.01        Divorced     0     1     1   5                1   \n",
      "3196              0.58          Single     0     1     0   0                1   \n",
      "3548              0.14          Single     0     0     1   0                1   \n",
      "3565              0.03          Single     0     1     0   0                2   \n",
      "3698              0.12          Single     0     1     0   0                1   \n",
      "4992              1.69        Divorced     0     1     1   5                1   \n",
      "5469              0.25          Single     0     1     0   0                1   \n",
      "5523              1.14          Single     0     1     0   0                1   \n",
      "6007             -0.37          Single     0     0     0   0                1   \n",
      "\n",
      "      juv_misd_count_C  juv_other_count_C  c_charge_degree_C  \n",
      "535                  0                  0                  0  \n",
      "1421                 0                  0                  0  \n",
      "1714                 0                  0                  0  \n",
      "3118                 0                  0                  0  \n",
      "3196                 0                  0                  0  \n",
      "3548                 0                  0                  0  \n",
      "3565                 0                  0                  0  \n",
      "3698                 0                  0                  0  \n",
      "4992                 0                  0                  0  \n",
      "5469                 0                  0                  0  \n",
      "5523                 0                  0                  0  \n",
      "6007                 0                  0                  0  \n",
      "\n",
      "[12 rows x 34 columns]\n"
     ]
    }
   ],
   "source": [
    "evi = compas_data[compas_data['juv_fel_count_C'] > 0]\n",
    "print(evi)\n"
   ],
   "metadata": {
    "collapsed": false,
    "pycharm": {
     "name": "#%%\n"
    }
   }
  },
  {
   "cell_type": "code",
   "execution_count": 95,
   "outputs": [
    {
     "name": "stdout",
     "output_type": "stream",
     "text": [
      "0       0\n",
      "1       0\n",
      "2       0\n",
      "3       0\n",
      "4       0\n",
      "       ..\n",
      "6884    0\n",
      "6885    0\n",
      "6886    0\n",
      "6887    0\n",
      "6888    0\n",
      "Name: juv_misd_count_C, Length: 6889, dtype: int64\n",
      "0       0\n",
      "1       0\n",
      "2       0\n",
      "3       0\n",
      "4       0\n",
      "       ..\n",
      "6884    0\n",
      "6885    0\n",
      "6886    0\n",
      "6887    0\n",
      "6888    0\n",
      "Name: juv_misd_count_C, Length: 6889, dtype: int64\n"
     ]
    }
   ],
   "source": [
    "\n",
    "def juv_misd_count(x):\n",
    "    if x < 5:\n",
    "        return 0\n",
    "    elif x < 10:\n",
    "        return 1\n",
    "    else:\n",
    "        return 2\n",
    "\n",
    "\n",
    "print(compas_data['juv_misd_count_C'])\n",
    "compas_data['juv_misd_count_C'] = compas_data['juv_misd_count'].map(lambda x: juv_misd_count(x))\n",
    "print(compas_data['juv_misd_count_C'])"
   ],
   "metadata": {
    "collapsed": false,
    "pycharm": {
     "name": "#%%\n"
    }
   }
  },
  {
   "cell_type": "code",
   "execution_count": 96,
   "outputs": [
    {
     "name": "stdout",
     "output_type": "stream",
     "text": [
      "                   name    FirstName   LastName   sex DateOfBirth  age  \\\n",
      "76       kambrel tarver      kambrel     tarver  Male   1/30/1991   25   \n",
      "108     ramon wilkerson        ramon  wilkerson  Male   5/17/1982   33   \n",
      "1178        renee sopon        renee      sopon  Male   5/23/1995   20   \n",
      "1392        james scott        james      scott  Male   1/17/1992   24   \n",
      "2094        deon warren         deon     warren  Male    8/6/1977   38   \n",
      "2975     ellis carswell        ellis   carswell  Male   8/22/1990   25   \n",
      "3221      henry randall        henry    randall  Male   9/27/1978   37   \n",
      "4856     evans mesadieu        evans   mesadieu  Male   9/16/1977   38   \n",
      "4899     marshall higgs     marshall      higgs  Male  11/26/1988   27   \n",
      "4996  christopher kirby  christopher      kirby  Male   3/18/1979   37   \n",
      "5098     matthew thomas      matthew     thomas  Male  11/23/1983   32   \n",
      "5194     frantz abelard       frantz    abelard  Male  11/26/1987   28   \n",
      "6223         kevin soto        kevin       soto  Male   7/27/1991   24   \n",
      "\n",
      "                  race  juv_fel_count  decile_score  juv_misd_count  ...  \\\n",
      "76    African-American              1            10               6  ...   \n",
      "108   African-American              0             8              12  ...   \n",
      "1178             Other              0            10               8  ...   \n",
      "1392  African-American              0             9               5  ...   \n",
      "2094  African-American              0             7               5  ...   \n",
      "2975  African-American              0             9              13  ...   \n",
      "3221  African-American              1             8               8  ...   \n",
      "4856  African-American              1             6               5  ...   \n",
      "4899  African-American              0            10               5  ...   \n",
      "4996         Caucasian              1             7               6  ...   \n",
      "5098  African-American              0             8               6  ...   \n",
      "5194  African-American              0            10               8  ...   \n",
      "6223  African-American              0            10               5  ...   \n",
      "\n",
      "      Recidivism_score     MarriageStatus  sexC  ageC raceC  MC  \\\n",
      "76                0.73             Single     0     1     0   0   \n",
      "108               0.28           Divorced     0     1     0   5   \n",
      "1178              0.72             Single     0     0     3   0   \n",
      "1392              0.61             Single     0     1     0   0   \n",
      "2094             -0.07  Significant Other     0     1     0   4   \n",
      "2975             -0.13             Single     0     1     0   0   \n",
      "3221              0.10             Single     0     1     0   0   \n",
      "4856             -0.17  Significant Other     0     1     0   4   \n",
      "4899              0.76             Single     0     1     0   0   \n",
      "4996             -0.05             Single     0     1     1   0   \n",
      "5098              0.21             Single     0     1     0   0   \n",
      "5194              0.80             Single     0     1     0   0   \n",
      "6223              1.04             Single     0     1     0   0   \n",
      "\n",
      "      juv_fel_count_C  juv_misd_count_C  juv_other_count_C  c_charge_degree_C  \n",
      "76                  0                 1                  0                  0  \n",
      "108                 0                 2                  0                  0  \n",
      "1178                0                 1                  0                  0  \n",
      "1392                0                 1                  0                  0  \n",
      "2094                0                 1                  0                  0  \n",
      "2975                0                 2                  0                  0  \n",
      "3221                0                 1                  0                  0  \n",
      "4856                0                 1                  0                  0  \n",
      "4899                0                 1                  0                  0  \n",
      "4996                0                 1                  0                  0  \n",
      "5098                0                 1                  0                  0  \n",
      "5194                0                 1                  0                  0  \n",
      "6223                0                 1                  0                  0  \n",
      "\n",
      "[13 rows x 34 columns]\n"
     ]
    }
   ],
   "source": [
    "evi = compas_data[compas_data['juv_misd_count_C'] > 0]\n",
    "print(evi)\n",
    "\n"
   ],
   "metadata": {
    "collapsed": false,
    "pycharm": {
     "name": "#%%\n"
    }
   }
  },
  {
   "cell_type": "code",
   "execution_count": 97,
   "outputs": [
    {
     "name": "stdout",
     "output_type": "stream",
     "text": [
      "0       0\n",
      "1       0\n",
      "2       0\n",
      "3       0\n",
      "4       0\n",
      "       ..\n",
      "6884    0\n",
      "6885    0\n",
      "6886    0\n",
      "6887    0\n",
      "6888    0\n",
      "Name: juv_other_count_C, Length: 6889, dtype: int64\n",
      "0       0\n",
      "1       0\n",
      "2       0\n",
      "3       0\n",
      "4       0\n",
      "       ..\n",
      "6884    0\n",
      "6885    0\n",
      "6886    0\n",
      "6887    0\n",
      "6888    0\n",
      "Name: juv_other_count_C, Length: 6889, dtype: int64\n"
     ]
    }
   ],
   "source": [
    "\n",
    "def juv_other_count(x):\n",
    "    if x < 6:\n",
    "        return 0\n",
    "    elif x < 12:\n",
    "        return 1\n",
    "    else:\n",
    "        return 2\n",
    "\n",
    "\n",
    "print(compas_data['juv_other_count_C'])\n",
    "compas_data['juv_other_count_C'] = compas_data['juv_other_count'].map(lambda x: juv_other_count(x))\n",
    "print(compas_data['juv_other_count_C'])\n"
   ],
   "metadata": {
    "collapsed": false,
    "pycharm": {
     "name": "#%%\n"
    }
   }
  },
  {
   "cell_type": "code",
   "execution_count": 98,
   "outputs": [
    {
     "name": "stdout",
     "output_type": "stream",
     "text": [
      "                  name    FirstName  LastName   sex DateOfBirth  age  \\\n",
      "1516    gregory barnes      gregory    barnes  Male   7/30/1980   35   \n",
      "2689        dale janki         dale     janki  Male    1/3/1992   24   \n",
      "5480   steven ferguson       steven  ferguson  Male  12/17/1994   21   \n",
      "5717        evan blake         evan     blake  Male   2/27/1995   21   \n",
      "6508  christopher leal  christopher      leal  Male  11/15/1992   23   \n",
      "\n",
      "                  race  juv_fel_count  decile_score  juv_misd_count  ...  \\\n",
      "1516  African-American              0             9               4  ...   \n",
      "2689             Other              0            10               1  ...   \n",
      "5480  African-American              0             9               2  ...   \n",
      "5717         Caucasian              0             9               2  ...   \n",
      "6508         Caucasian              0             7               0  ...   \n",
      "\n",
      "      Recidivism_score  MarriageStatus  sexC  ageC raceC  MC  juv_fel_count_C  \\\n",
      "1516              0.56          Single     0     1     0   0                0   \n",
      "2689              0.69          Single     0     1     3   0                0   \n",
      "5480              0.42          Single     0     1     0   0                0   \n",
      "5717              0.50          Single     0     1     1   0                0   \n",
      "6508              0.07          Single     0     1     1   0                0   \n",
      "\n",
      "      juv_misd_count_C  juv_other_count_C  c_charge_degree_C  \n",
      "1516                 0                  2                  0  \n",
      "2689                 0                  1                  0  \n",
      "5480                 0                  1                  0  \n",
      "5717                 0                  1                  0  \n",
      "6508                 0                  1                  0  \n",
      "\n",
      "[5 rows x 34 columns]\n"
     ]
    }
   ],
   "source": [
    "evi = compas_data[compas_data['juv_other_count_C'] > 0]\n",
    "print(evi)"
   ],
   "metadata": {
    "collapsed": false,
    "pycharm": {
     "name": "#%%\n"
    }
   }
  },
  {
   "cell_type": "code",
   "execution_count": 103,
   "outputs": [
    {
     "name": "stdout",
     "output_type": "stream",
     "text": [
      "0       0\n",
      "1       0\n",
      "2       4\n",
      "3       1\n",
      "4       2\n",
      "       ..\n",
      "6884    0\n",
      "6885    0\n",
      "6886    0\n",
      "6887    3\n",
      "6888    2\n",
      "Name: priors_count_C, Length: 6889, dtype: int64\n",
      "0       0\n",
      "1       0\n",
      "2       0\n",
      "3       0\n",
      "4       0\n",
      "       ..\n",
      "6884    0\n",
      "6885    0\n",
      "6886    0\n",
      "6887    0\n",
      "6888    0\n",
      "Name: priors_count_C, Length: 6889, dtype: int64\n"
     ]
    }
   ],
   "source": [
    "\n",
    "def priors_count(x):\n",
    "    if x < 8:\n",
    "        return 0\n",
    "    elif x < 16:\n",
    "        return 1\n",
    "    elif x < 24:\n",
    "        return 2\n",
    "    elif x < 32:\n",
    "        return 3\n",
    "    else:\n",
    "        return 4\n",
    "\n",
    "\n",
    "print(compas_data['priors_count_C'])\n",
    "compas_data['priors_count_C'] = compas_data['priors_count'].map(lambda x: priors_count(x))\n",
    "print(compas_data['priors_count_C'])"
   ],
   "metadata": {
    "collapsed": false,
    "pycharm": {
     "name": "#%%\n"
    }
   }
  },
  {
   "cell_type": "code",
   "execution_count": 108,
   "outputs": [
    {
     "name": "stdout",
     "output_type": "stream",
     "text": [
      "Series([], Name: priors_count_C, dtype: int64)\n"
     ]
    }
   ],
   "source": [
    "evi = compas_data[compas_data['priors_count_C'] == 5]\n",
    "print(evi['priors_count_C'])\n"
   ],
   "metadata": {
    "collapsed": false,
    "pycharm": {
     "name": "#%%\n"
    }
   }
  },
  {
   "cell_type": "code",
   "execution_count": 110,
   "outputs": [
    {
     "name": "stdout",
     "output_type": "stream",
     "text": [
      "0       0\n",
      "1       0\n",
      "2       0\n",
      "3       0\n",
      "4       0\n",
      "       ..\n",
      "6884    0\n",
      "6885    0\n",
      "6886    0\n",
      "6887    0\n",
      "6888    0\n",
      "Name: c_days_from_compas_C, Length: 6889, dtype: int64\n",
      "0       0\n",
      "1       0\n",
      "2       0\n",
      "3       0\n",
      "4       0\n",
      "       ..\n",
      "6884    0\n",
      "6885    0\n",
      "6886    0\n",
      "6887    0\n",
      "6888    0\n",
      "Name: c_days_from_compas_C, Length: 6889, dtype: int64\n"
     ]
    }
   ],
   "source": [
    "\n",
    "def c_days_from_compas(x):\n",
    "    if x < 1000:\n",
    "        return 0\n",
    "    elif x < 2000:\n",
    "        return 1\n",
    "    elif x < 3000:\n",
    "        return 2\n",
    "    elif x < 4000:\n",
    "        return 3\n",
    "    elif x < 5000:\n",
    "        return 4\n",
    "    elif x < 6000:\n",
    "        return 5\n",
    "    elif x < 7000:\n",
    "        return 6\n",
    "    elif x < 8000:\n",
    "        return 7\n",
    "    elif x < 9000:\n",
    "        return 8\n",
    "    else:\n",
    "        return 9\n",
    "\n",
    "\n",
    "print(compas_data['c_days_from_compas_C'])\n",
    "compas_data['c_days_from_compas_C'] = compas_data['c_days_from_compas'].map(lambda x: c_days_from_compas(x))\n",
    "print(compas_data['c_days_from_compas_C'])"
   ],
   "metadata": {
    "collapsed": false,
    "pycharm": {
     "name": "#%%\n"
    }
   }
  },
  {
   "cell_type": "code",
   "execution_count": 111,
   "outputs": [
    {
     "name": "stdout",
     "output_type": "stream",
     "text": [
      "73      5\n",
      "1641    5\n",
      "2704    5\n",
      "Name: c_days_from_compas_C, dtype: int64\n"
     ]
    }
   ],
   "source": [
    "evi = compas_data[compas_data['c_days_from_compas_C'] == 5]\n",
    "print(evi['c_days_from_compas_C'])\n"
   ],
   "metadata": {
    "collapsed": false,
    "pycharm": {
     "name": "#%%\n"
    }
   }
  },
  {
   "cell_type": "code",
   "execution_count": null,
   "outputs": [],
   "source": [],
   "metadata": {
    "collapsed": false,
    "pycharm": {
     "name": "#%%\n"
    }
   }
  },
  {
   "cell_type": "code",
   "execution_count": 99,
   "outputs": [],
   "source": [
    "# change compas_data['c_charge_degree'] from F, M to 0, 1\n",
    "\n",
    "b, c = np.unique(compas_data['c_charge_degree'], return_inverse=True)\n",
    "compas_data['c_charge_degree'] = c # use number to represent content"
   ],
   "metadata": {
    "collapsed": false,
    "pycharm": {
     "name": "#%%\n"
    }
   }
  },
  {
   "cell_type": "code",
   "execution_count": 100,
   "outputs": [
    {
     "data": {
      "text/plain": "                 name FirstName     LastName   sex DateOfBirth  age  \\\n0    miguel hernandez    miguel    hernandez  Male   4/18/1947   69   \n1         kevon dixon     kevon        dixon  Male   1/22/1982   34   \n2            ed philo        ed        philo  Male   5/14/1991   24   \n3         marcu brown     marcu        brown  Male   1/21/1993   23   \n4  bouthy pierrelouis    bouthy  pierrelouis  Male   1/22/1973   43   \n\n               race  juv_fel_count  decile_score  juv_misd_count  ...  \\\n0             Other              0             1               0  ...   \n1  African-American              0             3               0  ...   \n2  African-American              0             4               0  ...   \n3  African-American              0             8               1  ...   \n4             Other              0             1               0  ...   \n\n   Recidivism_score  MarriageStatus  sexC  ageC  raceC  MC  juv_fel_count_C  \\\n0             -2.78          Single     0     3      3   0                0   \n1             -0.76          Single     0     1      0   0                0   \n2              0.44          Single     0     1      0   0                0   \n3              0.16          Single     0     1      0   0                0   \n4             -2.20         Married     0     2      3   1                0   \n\n   juv_misd_count_C  juv_other_count_C  c_charge_degree_C  \n0                 0                  0                  0  \n1                 0                  0                  0  \n2                 0                  0                  0  \n3                 0                  0                  0  \n4                 0                  0                  0  \n\n[5 rows x 34 columns]",
      "text/html": "<div>\n<style scoped>\n    .dataframe tbody tr th:only-of-type {\n        vertical-align: middle;\n    }\n\n    .dataframe tbody tr th {\n        vertical-align: top;\n    }\n\n    .dataframe thead th {\n        text-align: right;\n    }\n</style>\n<table border=\"1\" class=\"dataframe\">\n  <thead>\n    <tr style=\"text-align: right;\">\n      <th></th>\n      <th>name</th>\n      <th>FirstName</th>\n      <th>LastName</th>\n      <th>sex</th>\n      <th>DateOfBirth</th>\n      <th>age</th>\n      <th>race</th>\n      <th>juv_fel_count</th>\n      <th>decile_score</th>\n      <th>juv_misd_count</th>\n      <th>...</th>\n      <th>Recidivism_score</th>\n      <th>MarriageStatus</th>\n      <th>sexC</th>\n      <th>ageC</th>\n      <th>raceC</th>\n      <th>MC</th>\n      <th>juv_fel_count_C</th>\n      <th>juv_misd_count_C</th>\n      <th>juv_other_count_C</th>\n      <th>c_charge_degree_C</th>\n    </tr>\n  </thead>\n  <tbody>\n    <tr>\n      <th>0</th>\n      <td>miguel hernandez</td>\n      <td>miguel</td>\n      <td>hernandez</td>\n      <td>Male</td>\n      <td>4/18/1947</td>\n      <td>69</td>\n      <td>Other</td>\n      <td>0</td>\n      <td>1</td>\n      <td>0</td>\n      <td>...</td>\n      <td>-2.78</td>\n      <td>Single</td>\n      <td>0</td>\n      <td>3</td>\n      <td>3</td>\n      <td>0</td>\n      <td>0</td>\n      <td>0</td>\n      <td>0</td>\n      <td>0</td>\n    </tr>\n    <tr>\n      <th>1</th>\n      <td>kevon dixon</td>\n      <td>kevon</td>\n      <td>dixon</td>\n      <td>Male</td>\n      <td>1/22/1982</td>\n      <td>34</td>\n      <td>African-American</td>\n      <td>0</td>\n      <td>3</td>\n      <td>0</td>\n      <td>...</td>\n      <td>-0.76</td>\n      <td>Single</td>\n      <td>0</td>\n      <td>1</td>\n      <td>0</td>\n      <td>0</td>\n      <td>0</td>\n      <td>0</td>\n      <td>0</td>\n      <td>0</td>\n    </tr>\n    <tr>\n      <th>2</th>\n      <td>ed philo</td>\n      <td>ed</td>\n      <td>philo</td>\n      <td>Male</td>\n      <td>5/14/1991</td>\n      <td>24</td>\n      <td>African-American</td>\n      <td>0</td>\n      <td>4</td>\n      <td>0</td>\n      <td>...</td>\n      <td>0.44</td>\n      <td>Single</td>\n      <td>0</td>\n      <td>1</td>\n      <td>0</td>\n      <td>0</td>\n      <td>0</td>\n      <td>0</td>\n      <td>0</td>\n      <td>0</td>\n    </tr>\n    <tr>\n      <th>3</th>\n      <td>marcu brown</td>\n      <td>marcu</td>\n      <td>brown</td>\n      <td>Male</td>\n      <td>1/21/1993</td>\n      <td>23</td>\n      <td>African-American</td>\n      <td>0</td>\n      <td>8</td>\n      <td>1</td>\n      <td>...</td>\n      <td>0.16</td>\n      <td>Single</td>\n      <td>0</td>\n      <td>1</td>\n      <td>0</td>\n      <td>0</td>\n      <td>0</td>\n      <td>0</td>\n      <td>0</td>\n      <td>0</td>\n    </tr>\n    <tr>\n      <th>4</th>\n      <td>bouthy pierrelouis</td>\n      <td>bouthy</td>\n      <td>pierrelouis</td>\n      <td>Male</td>\n      <td>1/22/1973</td>\n      <td>43</td>\n      <td>Other</td>\n      <td>0</td>\n      <td>1</td>\n      <td>0</td>\n      <td>...</td>\n      <td>-2.20</td>\n      <td>Married</td>\n      <td>0</td>\n      <td>2</td>\n      <td>3</td>\n      <td>1</td>\n      <td>0</td>\n      <td>0</td>\n      <td>0</td>\n      <td>0</td>\n    </tr>\n  </tbody>\n</table>\n<p>5 rows × 34 columns</p>\n</div>"
     },
     "execution_count": 100,
     "metadata": {},
     "output_type": "execute_result"
    }
   ],
   "source": [
    "compas_data[:5]"
   ],
   "metadata": {
    "collapsed": false,
    "pycharm": {
     "name": "#%%\n"
    }
   }
  },
  {
   "cell_type": "code",
   "execution_count": 112,
   "outputs": [],
   "source": [
    "#write new data into file\n",
    "\n",
    "category_col =['sexC', 'ageC','raceC', 'MC', 'priors_count_C', 'c_charge_degree', 'decile_score', 'c_days_from_compas_C',\n",
    " 'juv_fel_count_C', 'juv_misd_count_C', 'juv_other_count_C', 'is_recid', 'is_violent_recid']\n",
    "\n",
    "effective_data = compas_data[category_col].copy()\n",
    "effective_data.to_csv(r\"../../InputData/RecidivismData/RecidivismData_att_classified.csv\")\n",
    "\n",
    "\n"
   ],
   "metadata": {
    "collapsed": false,
    "pycharm": {
     "name": "#%%\n"
    }
   }
  },
  {
   "cell_type": "code",
   "execution_count": 113,
   "outputs": [
    {
     "data": {
      "text/plain": "   sexC  ageC  raceC  MC  priors_count_C  c_charge_degree  decile_score  \\\n0     0     3      3   0               0                0             1   \n1     0     1      0   0               0                0             3   \n2     0     1      0   0               0                0             4   \n3     0     1      0   0               0                0             8   \n4     0     2      3   1               0                0             1   \n\n   c_days_from_compas_C  juv_fel_count_C  juv_misd_count_C  juv_other_count_C  \\\n0                     0                0                 0                  0   \n1                     0                0                 0                  0   \n2                     0                0                 0                  0   \n3                     0                0                 0                  0   \n4                     0                0                 0                  0   \n\n   is_recid  is_violent_recid  \n0         0                 0  \n1         1                 1  \n2         1                 0  \n3         0                 0  \n4         0                 0  ",
      "text/html": "<div>\n<style scoped>\n    .dataframe tbody tr th:only-of-type {\n        vertical-align: middle;\n    }\n\n    .dataframe tbody tr th {\n        vertical-align: top;\n    }\n\n    .dataframe thead th {\n        text-align: right;\n    }\n</style>\n<table border=\"1\" class=\"dataframe\">\n  <thead>\n    <tr style=\"text-align: right;\">\n      <th></th>\n      <th>sexC</th>\n      <th>ageC</th>\n      <th>raceC</th>\n      <th>MC</th>\n      <th>priors_count_C</th>\n      <th>c_charge_degree</th>\n      <th>decile_score</th>\n      <th>c_days_from_compas_C</th>\n      <th>juv_fel_count_C</th>\n      <th>juv_misd_count_C</th>\n      <th>juv_other_count_C</th>\n      <th>is_recid</th>\n      <th>is_violent_recid</th>\n    </tr>\n  </thead>\n  <tbody>\n    <tr>\n      <th>0</th>\n      <td>0</td>\n      <td>3</td>\n      <td>3</td>\n      <td>0</td>\n      <td>0</td>\n      <td>0</td>\n      <td>1</td>\n      <td>0</td>\n      <td>0</td>\n      <td>0</td>\n      <td>0</td>\n      <td>0</td>\n      <td>0</td>\n    </tr>\n    <tr>\n      <th>1</th>\n      <td>0</td>\n      <td>1</td>\n      <td>0</td>\n      <td>0</td>\n      <td>0</td>\n      <td>0</td>\n      <td>3</td>\n      <td>0</td>\n      <td>0</td>\n      <td>0</td>\n      <td>0</td>\n      <td>1</td>\n      <td>1</td>\n    </tr>\n    <tr>\n      <th>2</th>\n      <td>0</td>\n      <td>1</td>\n      <td>0</td>\n      <td>0</td>\n      <td>0</td>\n      <td>0</td>\n      <td>4</td>\n      <td>0</td>\n      <td>0</td>\n      <td>0</td>\n      <td>0</td>\n      <td>1</td>\n      <td>0</td>\n    </tr>\n    <tr>\n      <th>3</th>\n      <td>0</td>\n      <td>1</td>\n      <td>0</td>\n      <td>0</td>\n      <td>0</td>\n      <td>0</td>\n      <td>8</td>\n      <td>0</td>\n      <td>0</td>\n      <td>0</td>\n      <td>0</td>\n      <td>0</td>\n      <td>0</td>\n    </tr>\n    <tr>\n      <th>4</th>\n      <td>0</td>\n      <td>2</td>\n      <td>3</td>\n      <td>1</td>\n      <td>0</td>\n      <td>0</td>\n      <td>1</td>\n      <td>0</td>\n      <td>0</td>\n      <td>0</td>\n      <td>0</td>\n      <td>0</td>\n      <td>0</td>\n    </tr>\n  </tbody>\n</table>\n</div>"
     },
     "execution_count": 113,
     "metadata": {},
     "output_type": "execute_result"
    }
   ],
   "source": [
    "effective_data[:5]"
   ],
   "metadata": {
    "collapsed": false,
    "pycharm": {
     "name": "#%%\n"
    }
   }
  },
  {
   "cell_type": "code",
   "execution_count": null,
   "outputs": [],
   "source": [],
   "metadata": {
    "collapsed": false,
    "pycharm": {
     "name": "#%%\n"
    }
   }
  },
  {
   "cell_type": "code",
   "execution_count": 114,
   "outputs": [
    {
     "data": {
      "text/plain": "6889"
     },
     "execution_count": 114,
     "metadata": {},
     "output_type": "execute_result"
    }
   ],
   "source": [
    "len(effective_data)"
   ],
   "metadata": {
    "collapsed": false,
    "pycharm": {
     "name": "#%%\n"
    }
   }
  },
  {
   "cell_type": "code",
   "execution_count": null,
   "outputs": [],
   "source": [],
   "metadata": {
    "collapsed": false,
    "pycharm": {
     "name": "#%%\n"
    }
   }
  },
  {
   "cell_type": "code",
   "execution_count": 8,
   "metadata": {},
   "outputs": [
    {
     "data": {
      "text/plain": "(43, 5)"
     },
     "execution_count": 8,
     "metadata": {},
     "output_type": "execute_result"
    }
   ],
   "source": [
    "HF_test = X_test[(X_test['raceC'] == 2) & (X_test['sexC'] == 1)]\n",
    "HF_test.shape"
   ]
  },
  {
   "cell_type": "code",
   "execution_count": 21,
   "metadata": {},
   "outputs": [],
   "source": [
    "clf = DecisionTreeClassifier()\n",
    "#clf = DecisionTreeClassifier(max_depth=10)\n",
    "clf = clf.fit(X_train, y_train)"
   ]
  },
  {
   "cell_type": "code",
   "execution_count": 23,
   "metadata": {},
   "outputs": [
    {
     "data": {
      "text/plain": "0.6438316400580552"
     },
     "execution_count": 23,
     "metadata": {},
     "output_type": "execute_result"
    }
   ],
   "source": [
    "accuracy_score(y_test, clf.predict(X_test))"
   ]
  },
  {
   "cell_type": "code",
   "execution_count": 24,
   "metadata": {},
   "outputs": [],
   "source": [
    "test_res = X_test.copy()\n",
    "test_res['label'] = y_test\n",
    "test_res['predication'] = clf.predict(X_test)"
   ]
  },
  {
   "cell_type": "code",
   "execution_count": 25,
   "metadata": {},
   "outputs": [],
   "source": [
    "miss = test_res[test_res['label'] != test_res['predication']]"
   ]
  },
  {
   "cell_type": "code",
   "execution_count": 26,
   "metadata": {},
   "outputs": [
    {
     "data": {
      "text/plain": "64.38316400580551"
     },
     "execution_count": 26,
     "metadata": {},
     "output_type": "execute_result"
    }
   ],
   "source": [
    "(1-miss.shape[0]/test_res.shape[0])*100"
   ]
  },
  {
   "cell_type": "code",
   "execution_count": 14,
   "metadata": {},
   "outputs": [],
   "source": [
    "miss_HF = miss[(miss['raceC']==2) & (miss['sexC']==1)]\n",
    "test_HF = test_res[(test_res['raceC']==2) & (test_res['sexC']==1)]"
   ]
  },
  {
   "cell_type": "code",
   "execution_count": 15,
   "metadata": {},
   "outputs": [
    {
     "data": {
      "text/plain": "55.81395348837209"
     },
     "execution_count": 15,
     "metadata": {},
     "output_type": "execute_result"
    }
   ],
   "source": [
    "(1-miss_HF.shape[0]/test_HF.shape[0])*100"
   ]
  },
  {
   "cell_type": "code",
   "execution_count": 16,
   "metadata": {},
   "outputs": [],
   "source": [
    "test = X_test.copy()\n",
    "test['label'] = y_test.copy()\n",
    "train = X_train.copy()\n",
    "train['label'] = y_train.copy()\n",
    "test_HF = test[(test['raceC']==2) & (test['sexC']==1)]\n",
    "train_HF = train[(train['raceC']==2) & (train['sexC']==1)]\n",
    "X_HF_train = train_HF[features].copy()\n",
    "X_HF_test = test_HF[features].copy()\n",
    "y_HF_train = train_HF['label'].copy()\n",
    "y_HF_test = test_HF['label'].copy()"
   ]
  },
  {
   "cell_type": "code",
   "execution_count": 17,
   "metadata": {},
   "outputs": [
    {
     "data": {
      "text/plain": "(57, 6)"
     },
     "execution_count": 17,
     "metadata": {},
     "output_type": "execute_result"
    }
   ],
   "source": [
    "train_HF.shape"
   ]
  },
  {
   "cell_type": "code",
   "execution_count": 18,
   "metadata": {},
   "outputs": [],
   "source": [
    "clf = clf.fit(X_HF_train, y_HF_train)"
   ]
  },
  {
   "cell_type": "code",
   "execution_count": 19,
   "metadata": {},
   "outputs": [
    {
     "data": {
      "text/plain": "0.5813953488372093"
     },
     "execution_count": 19,
     "metadata": {},
     "output_type": "execute_result"
    }
   ],
   "source": [
    "accuracy_score(y_HF_test, clf.predict(X_HF_test))"
   ]
  },
  {
   "cell_type": "code",
   "execution_count": 5,
   "metadata": {
    "pycharm": {
     "name": "#%%\n"
    }
   },
   "outputs": [],
   "source": [
    "\n",
    "\n",
    "\n"
   ]
  }
 ],
 "metadata": {
  "kernelspec": {
   "display_name": "Python 3",
   "language": "python",
   "name": "python3"
  },
  "language_info": {
   "codemirror_mode": {
    "name": "ipython",
    "version": 3
   },
   "file_extension": ".py",
   "mimetype": "text/x-python",
   "name": "python",
   "nbconvert_exporter": "python",
   "pygments_lexer": "ipython3",
   "version": "3.8.3"
  }
 },
 "nbformat": 4,
 "nbformat_minor": 4
}