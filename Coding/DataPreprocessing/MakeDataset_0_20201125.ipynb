{
 "cells": [
  {
   "cell_type": "raw",
   "source": [
    "\n",
    "This notebook aims to create datasets with different sizes\n"
   ],
   "metadata": {
    "collapsed": false
   }
  },
  {
   "cell_type": "markdown",
   "source": [
    "# 1. Small Dataset to Check Implementation Correctness"
   ],
   "metadata": {
    "collapsed": false
   }
  },
  {
   "cell_type": "code",
   "execution_count": 1,
   "outputs": [],
   "source": [
    "import numpy as np\n",
    "import pandas as pd\n",
    "import random\n",
    "from Algorithms import pattern_count"
   ],
   "metadata": {
    "collapsed": false,
    "pycharm": {
     "name": "#%%\n"
    }
   }
  },
  {
   "cell_type": "markdown",
   "source": [
    "# 1.1 small dataset"
   ],
   "metadata": {
    "collapsed": false
   }
  },
  {
   "cell_type": "code",
   "execution_count": null,
   "outputs": [],
   "source": [
    "adult3 = pd.read_csv(\"../../InputData/AdultDataset/CleanAdult3.csv\")\n",
    "\n",
    "print(adult3.shape)\n",
    "print(adult3[:5])"
   ],
   "metadata": {
    "collapsed": false,
    "pycharm": {
     "name": "#%%\n"
    }
   }
  },
  {
   "cell_type": "code",
   "execution_count": null,
   "outputs": [],
   "source": [
    "SmallWhole_3_20 = adult3[adult3.columns[0:3]].head(20)"
   ],
   "metadata": {
    "collapsed": false,
    "pycharm": {
     "name": "#%%\n"
    }
   }
  },
  {
   "cell_type": "code",
   "execution_count": null,
   "outputs": [],
   "source": [
    "# this is dataset with only attributes\n",
    "SmallWhole_3_20.to_csv (r'../InputData/SmallDataset/SmallWhole_3_20.csv', index = False, header=True)"
   ],
   "metadata": {
    "collapsed": false,
    "pycharm": {
     "name": "#%%\n"
    }
   }
  },
  {
   "cell_type": "code",
   "execution_count": null,
   "outputs": [],
   "source": [
    "# suppose mis-classified tuples are the first 10\n",
    "SmallMisClass_3_20 = SmallWhole_3_20[:10]\n",
    "SmallMisClass_3_20.to_csv(r'../InputData/SmallDataset/SmallMisClass_3_20.csv', index = False, header=True)\n"
   ],
   "metadata": {
    "collapsed": false,
    "pycharm": {
     "name": "#%%\n"
    }
   }
  },
  {
   "cell_type": "code",
   "execution_count": null,
   "outputs": [],
   "source": [
    "SmallWholes_13_100 = adult3[adult3.columns].head(100)\n",
    "SmallWholes_13_100.to_csv(r'../InputData/SmallDataset/SmallWhole_13_100.csv', index = False, header=True)\n",
    "SmallWholes_13_100.to_csv(r'../InputData/SmallDataset/SmallMisClass_13_50.csv', index = False, header=True)\n"
   ],
   "metadata": {
    "collapsed": false,
    "pycharm": {
     "name": "#%%\n"
    }
   }
  },
  {
   "cell_type": "code",
   "execution_count": null,
   "outputs": [],
   "source": [
    "\n",
    "SmallWholes_13_1000 = adult3[adult3.columns].head(1000)\n",
    "SmallWholes_13_1000.to_csv(r'../InputData/SmallDataset/SmallWhole_13_1000.csv', index = False, header=True)\n",
    "SmallWholes_13_1000.head(500).to_csv(r'../InputData/SmallDataset/SmallMisClass_13_500.csv', index = False, header=True)"
   ],
   "metadata": {
    "collapsed": false,
    "pycharm": {
     "name": "#%%\n"
    }
   }
  },
  {
   "cell_type": "code",
   "execution_count": null,
   "outputs": [],
   "source": [
    "\n",
    "SmallWholes_13_1000 = adult3[adult3.columns].head(10000)\n",
    "SmallWholes_13_1000.to_csv(r'../InputData/SmallDataset/SmallWhole_13_10000.csv', index = False, header=True)\n",
    "SmallWholes_13_1000.head(5000).to_csv(r'../InputData/SmallDataset/SmallMisClass_13_5000.csv', index = False, header=True)\n",
    "\n"
   ],
   "metadata": {
    "collapsed": false,
    "pycharm": {
     "name": "#%%\n"
    }
   }
  },
  {
   "cell_type": "code",
   "execution_count": null,
   "outputs": [],
   "source": [
    "# this is dataset with income levels\n",
    "adult2 = pd.read_csv(\"../../InputData/AdultDataset/CleanAdult2.csv\")\n",
    "\n",
    "s = adult2.columns[0:5].tolist()\n",
    "s.append('income')"
   ],
   "metadata": {
    "collapsed": false,
    "pycharm": {
     "name": "#%%\n"
    }
   }
  },
  {
   "cell_type": "code",
   "execution_count": null,
   "outputs": [],
   "source": [
    "Small_5_20_income = adult2[s].head(20)\n",
    "Small_5_20_income\n"
   ],
   "metadata": {
    "collapsed": false,
    "pycharm": {
     "name": "#%%\n"
    }
   }
  },
  {
   "cell_type": "code",
   "execution_count": null,
   "outputs": [],
   "source": [
    "\n",
    "Small_5_20_income.to_csv(\"../../InputData/AdultDataset/SmallDataset/Small_5_20_income.csv\")\n"
   ],
   "metadata": {
    "collapsed": false,
    "pycharm": {
     "name": "#%%\n"
    }
   }
  },
  {
   "cell_type": "markdown",
   "source": [
    "# 2. Less attributes datasets"
   ],
   "metadata": {
    "collapsed": false
   }
  },
  {
   "cell_type": "code",
   "execution_count": null,
   "outputs": [],
   "source": [
    "adult3 = pd.read_csv(\"../InputData/CleanAdult3.csv\")\n",
    "print(adult3.shape)\n",
    "print(adult3[:5])\n",
    "selected_attributes = ['age', 'education', 'marital-status', 'race', 'gender']\n",
    "LessAttributeDataset = adult3[selected_attributes]\n",
    "LessAttributeDataset.describe()"
   ],
   "metadata": {
    "collapsed": false,
    "pycharm": {
     "name": "#%%\n"
    }
   }
  },
  {
   "cell_type": "markdown",
   "source": [
    "# 3. smaller data sizes"
   ],
   "metadata": {
    "collapsed": false
   }
  },
  {
   "cell_type": "markdown",
   "source": [
    "## 3.1 Adult data"
   ],
   "metadata": {
    "collapsed": false
   }
  },
  {
   "cell_type": "code",
   "execution_count": null,
   "outputs": [],
   "source": [
    "# 45222 rows\n",
    "\n",
    "data = pd.read_csv(\"../../InputData/AdultDataset/CleanAdult2.csv\")"
   ],
   "metadata": {
    "collapsed": false,
    "pycharm": {
     "name": "#%%\n"
    }
   }
  },
  {
   "cell_type": "code",
   "execution_count": null,
   "outputs": [],
   "source": [
    "def makeDataSetWithSize(datasize, wholesize, filepath, output_pre):\n",
    "    index_list = random.sample(range(0, wholesize), datasize)\n",
    "    wholedata = pd.read_csv(filepath)\n",
    "    newdata = wholedata.iloc[index_list, : ]\n",
    "    output_path = output_pre + str(datasize) + \".csv\"\n",
    "    newdata.to_csv(output_path)"
   ],
   "metadata": {
    "collapsed": false,
    "pycharm": {
     "name": "#%%\n"
    }
   }
  },
  {
   "cell_type": "code",
   "execution_count": null,
   "outputs": [],
   "source": [
    "file_path = r\"../../InputData/CleanAdult2.csv\"\n",
    "output_pre = r\"../../InputData/DifferentDataSizes/\"\n",
    "makeDataSetWithSize(40000, 45222, file_path, output_pre)"
   ],
   "metadata": {
    "collapsed": false,
    "pycharm": {
     "name": "#%%\n"
    }
   }
  },
  {
   "cell_type": "markdown",
   "source": [
    "## 3.1 Compas data"
   ],
   "metadata": {
    "collapsed": false
   }
  },
  {
   "cell_type": "code",
   "execution_count": null,
   "outputs": [],
   "source": [
    "# 6889 rows\n",
    "compas_data = pd.read_csv(\"../../InputData/RecidivismData/RecidivismData_att_classified.csv\")\n",
    "\n",
    "len(compas_data)\n"
   ],
   "metadata": {
    "collapsed": false,
    "pycharm": {
     "name": "#%%\n"
    }
   }
  },
  {
   "cell_type": "code",
   "execution_count": null,
   "outputs": [],
   "source": [
    "file_path = r\"../../InputData/RecidivismData/RecidivismData_att_classified.csv\"\n",
    "output_pre = r\"../../InputData/RecidivismData/DifferentDataSizes/\"\n",
    "makeDataSetWithSize(6000, 6889, file_path, output_pre)\n"
   ],
   "metadata": {
    "collapsed": false,
    "pycharm": {
     "name": "#%%\n"
    }
   }
  },
  {
   "cell_type": "markdown",
   "source": [
    "## define categorizations"
   ],
   "metadata": {
    "collapsed": false
   }
  },
  {
   "cell_type": "code",
   "execution_count": null,
   "outputs": [],
   "source": [
    "\n",
    "def age(x):\n",
    "    if x <= 30:\n",
    "        return 0\n",
    "    elif x <= 50:\n",
    "        return 1\n",
    "    else:\n",
    "        return 2\n",
    "\n",
    "\n",
    "def capitalgain(x):\n",
    "    if x == 0:\n",
    "        return 0\n",
    "    else:\n",
    "        return 1\n",
    "\n",
    "\n",
    "def capitalloss(x):\n",
    "    if x == 0:\n",
    "        return 0\n",
    "    else:\n",
    "        return 1\n",
    "\n",
    "\n",
    "def hoursperweek(x):\n",
    "    if x < 50:\n",
    "        return 0\n",
    "    else:\n",
    "        return 1"
   ],
   "metadata": {
    "collapsed": false,
    "pycharm": {
     "name": "#%%\n"
    }
   }
  },
  {
   "cell_type": "code",
   "execution_count": null,
   "outputs": [],
   "source": [
    "def categorize(data):\n",
    "    data['age'] = data['age'].map(lambda x: age(x))\n",
    "    data['capital-gain'] = data['capital-gain'].map(lambda x: capitalgain(x))\n",
    "    data['capital-loss'] = data['capital-loss'].map(lambda x: capitalloss(x))\n",
    "    data['hours-per-week'] = data['hours-per-week'].map(lambda x: hoursperweek(x))\n",
    "\n",
    "\n"
   ],
   "metadata": {
    "collapsed": false,
    "pycharm": {
     "name": "#%%\n"
    }
   }
  },
  {
   "cell_type": "markdown",
   "source": [
    "# 4. larger data sizes, by generating new tuples"
   ],
   "metadata": {
    "collapsed": false
   }
  },
  {
   "cell_type": "markdown",
   "source": [
    "## 4.1 Adult data"
   ],
   "metadata": {
    "collapsed": false
   }
  },
  {
   "cell_type": "code",
   "execution_count": null,
   "outputs": [],
   "source": [
    "# 45222 rows\n",
    "original_adult_data = pd.read_csv(r\"../../InputData/AdultDataset/ForClassification/CleanAdult_numerical.csv\")\n",
    "\n",
    "print(len(original_adult_data))\n",
    "original_adult_data.describe()\n"
   ],
   "metadata": {
    "collapsed": false,
    "pycharm": {
     "name": "#%%\n"
    }
   }
  },
  {
   "cell_type": "code",
   "execution_count": null,
   "outputs": [],
   "source": [
    "len(original_adult_data)\n",
    "for index, row in original_adult_data.iterrows():\n",
    "    rowlist = row.tolist()\n",
    "    print(rowlist)"
   ],
   "metadata": {
    "collapsed": false,
    "pycharm": {
     "name": "#%%\n"
    }
   }
  },
  {
   "cell_type": "code",
   "execution_count": 6,
   "outputs": [],
   "source": [
    "def generateTuple(original_data):\n",
    "    describe_data = original_data.describe()\n",
    "    attributes = original_data.columns.tolist()\n",
    "    tuple = list()\n",
    "    for att in attributes:\n",
    "        min = int(describe_data[att]['min'])\n",
    "        max = int(describe_data[att]['max'])\n",
    "        a = random.randint(min, max)\n",
    "        tuple.append(a)\n",
    "    return tuple\n"
   ],
   "metadata": {
    "collapsed": false,
    "pycharm": {
     "name": "#%%\n"
    }
   }
  },
  {
   "cell_type": "code",
   "execution_count": 7,
   "outputs": [],
   "source": [
    "# def PatternEqual(m, P):\n",
    "#     length = len(m)\n",
    "#     if len(P) != length:\n",
    "#         return False\n",
    "#     for i in range(length):\n",
    "#         if m[i] != P[i]:\n",
    "#             return False\n",
    "#     return True\n",
    "#\n",
    "# def patterns_in_data(p, data):\n",
    "#     for index, row in data.iterrows():\n",
    "#         rowlist = row.tolist()\n",
    "#         if PatternEqual(p, rowlist):\n",
    "#             return True\n",
    "#     return False"
   ],
   "metadata": {
    "collapsed": false,
    "pycharm": {
     "name": "#%%\n"
    }
   }
  },
  {
   "cell_type": "code",
   "execution_count": 8,
   "outputs": [],
   "source": [
    "def extendDataset(newsize, filepath, output_pre):\n",
    "    global tp\n",
    "    original_data = pd.read_csv(filepath)\n",
    "\n",
    "    original_data_pc = pattern_count.PatternCounter(original_data, encoded=False)\n",
    "    original_data_pc.parse_data()\n",
    "\n",
    "    oldsize = len(original_data)\n",
    "    num_new_tuples = newsize - oldsize\n",
    "    print(num_new_tuples)\n",
    "    for i in range(num_new_tuples):\n",
    "        tp = generateTuple(original_data)\n",
    "        original_data.loc[len(original_data)] = tp\n",
    "        if i % 1000 == 0:\n",
    "            print(i, tp)\n",
    "    output_path = output_pre + str(newsize) + \".csv\"\n",
    "    original_data.to_csv(output_path, index=False)\n"
   ],
   "metadata": {
    "collapsed": false,
    "pycharm": {
     "name": "#%%\n"
    }
   }
  },
  {
   "cell_type": "code",
   "execution_count": null,
   "outputs": [],
   "source": [
    "file_path = r\"../../InputData/AdultDataset/ForClassification/CleanAdult_numerical.csv\"\n",
    "\n",
    "output_pre = r\"../../InputData/AdultDataset/LargeDatasets_without_cat/\"\n",
    "extendDataset(50000, file_path, output_pre)\n"
   ],
   "metadata": {
    "collapsed": false,
    "pycharm": {
     "name": "#%%\n"
    }
   }
  },
  {
   "cell_type": "code",
   "execution_count": 105,
   "outputs": [
    {
     "data": {
      "text/plain": "   age  workclass  education  educational-num  marital-status  occupation  \\\n0   65          4         13                8               5          12   \n1   84          3         13               10               2           6   \n2   71          5          3                4               3          12   \n3   45          2          8               11               0           0   \n\n   relationship  race  gender  capital-gain  capital-loss  hours-per-week  \\\n0             3     2       1         70842           575               9   \n1             1     1       1         70966           663              12   \n2             1     0       0         14560          2444              62   \n3             4     4       0             0             0              55   \n\n   native-country  act pred  \n0              21    0  [1]  \n1               3    1  [0]  \n2              39    0  [1]  \n3              38    1  [0]  ",
      "text/html": "<div>\n<style scoped>\n    .dataframe tbody tr th:only-of-type {\n        vertical-align: middle;\n    }\n\n    .dataframe tbody tr th {\n        vertical-align: top;\n    }\n\n    .dataframe thead th {\n        text-align: right;\n    }\n</style>\n<table border=\"1\" class=\"dataframe\">\n  <thead>\n    <tr style=\"text-align: right;\">\n      <th></th>\n      <th>age</th>\n      <th>workclass</th>\n      <th>education</th>\n      <th>educational-num</th>\n      <th>marital-status</th>\n      <th>occupation</th>\n      <th>relationship</th>\n      <th>race</th>\n      <th>gender</th>\n      <th>capital-gain</th>\n      <th>capital-loss</th>\n      <th>hours-per-week</th>\n      <th>native-country</th>\n      <th>act</th>\n      <th>pred</th>\n    </tr>\n  </thead>\n  <tbody>\n    <tr>\n      <th>0</th>\n      <td>65</td>\n      <td>4</td>\n      <td>13</td>\n      <td>8</td>\n      <td>5</td>\n      <td>12</td>\n      <td>3</td>\n      <td>2</td>\n      <td>1</td>\n      <td>70842</td>\n      <td>575</td>\n      <td>9</td>\n      <td>21</td>\n      <td>0</td>\n      <td>[1]</td>\n    </tr>\n    <tr>\n      <th>1</th>\n      <td>84</td>\n      <td>3</td>\n      <td>13</td>\n      <td>10</td>\n      <td>2</td>\n      <td>6</td>\n      <td>1</td>\n      <td>1</td>\n      <td>1</td>\n      <td>70966</td>\n      <td>663</td>\n      <td>12</td>\n      <td>3</td>\n      <td>1</td>\n      <td>[0]</td>\n    </tr>\n    <tr>\n      <th>2</th>\n      <td>71</td>\n      <td>5</td>\n      <td>3</td>\n      <td>4</td>\n      <td>3</td>\n      <td>12</td>\n      <td>1</td>\n      <td>0</td>\n      <td>0</td>\n      <td>14560</td>\n      <td>2444</td>\n      <td>62</td>\n      <td>39</td>\n      <td>0</td>\n      <td>[1]</td>\n    </tr>\n    <tr>\n      <th>3</th>\n      <td>45</td>\n      <td>2</td>\n      <td>8</td>\n      <td>11</td>\n      <td>0</td>\n      <td>0</td>\n      <td>4</td>\n      <td>4</td>\n      <td>0</td>\n      <td>0</td>\n      <td>0</td>\n      <td>55</td>\n      <td>38</td>\n      <td>1</td>\n      <td>[0]</td>\n    </tr>\n  </tbody>\n</table>\n</div>"
     },
     "execution_count": 105,
     "metadata": {},
     "output_type": "execute_result"
    }
   ],
   "source": [
    "f = pd.read_csv(r\"../../InputData/AdultDataset/LargeDatasets_without_cat/80000_mis.csv\")\n",
    "f[:4]\n",
    "\n"
   ],
   "metadata": {
    "collapsed": false,
    "pycharm": {
     "name": "#%%\n"
    }
   }
  },
  {
   "cell_type": "code",
   "execution_count": 106,
   "outputs": [
    {
     "name": "stdout",
     "output_type": "stream",
     "text": [
      "12965\n",
      "                age     workclass     education  educational-num  \\\n",
      "count  12965.000000  12965.000000  12965.000000     12965.000000   \n",
      "mean      50.164597      2.730505      8.539144         9.251600   \n",
      "std       19.284451      1.797792      4.473476         4.131546   \n",
      "min       17.000000      0.000000      0.000000         1.000000   \n",
      "25%       35.000000      2.000000      5.000000         6.000000   \n",
      "50%       48.000000      2.000000      9.000000        10.000000   \n",
      "75%       64.000000      4.000000     12.000000        13.000000   \n",
      "max       90.000000      6.000000     15.000000        16.000000   \n",
      "\n",
      "       marital-status    occupation  relationship          race        gender  \\\n",
      "count    12965.000000  12965.000000  12965.000000  12965.000000  12965.000000   \n",
      "mean         2.737293      6.450212      1.966525      2.558349      0.603085   \n",
      "std          1.804363      4.097217      1.854418      1.490304      0.489277   \n",
      "min          0.000000      0.000000      0.000000      0.000000      0.000000   \n",
      "25%          2.000000      3.000000      0.000000      1.000000      0.000000   \n",
      "50%          2.000000      6.000000      1.000000      3.000000      1.000000   \n",
      "75%          4.000000     10.000000      4.000000      4.000000      1.000000   \n",
      "max          6.000000     13.000000      5.000000      4.000000      1.000000   \n",
      "\n",
      "       capital-gain  capital-loss  hours-per-week  native-country  \\\n",
      "count  12965.000000  12965.000000    12965.000000    12965.000000   \n",
      "mean   33780.142923   1470.652526       47.985808       25.300116   \n",
      "std    33276.004649   1439.023245       24.532971       12.945091   \n",
      "min        0.000000      0.000000        1.000000        0.000000   \n",
      "25%        0.000000      0.000000       34.000000       14.000000   \n",
      "50%    26243.000000   1162.000000       44.000000       29.000000   \n",
      "75%    62797.000000   2714.000000       65.000000       38.000000   \n",
      "max    99999.000000   4355.000000       99.000000       40.000000   \n",
      "\n",
      "                act  \n",
      "count  12965.000000  \n",
      "mean       0.499576  \n",
      "std        0.500019  \n",
      "min        0.000000  \n",
      "25%        0.000000  \n",
      "50%        0.000000  \n",
      "75%        1.000000  \n",
      "max        1.000000  \n"
     ]
    }
   ],
   "source": [
    "print(len(f))\n",
    "\n",
    "print(f.describe())\n",
    "\n",
    "categorize(f)\n",
    "\n",
    "f.to_csv(r\"../../InputData/AdultDataset/LargeDatasets_cat/80000_mis.csv\", index=False)"
   ],
   "metadata": {
    "collapsed": false,
    "pycharm": {
     "name": "#%%\n"
    }
   }
  },
  {
   "cell_type": "code",
   "execution_count": 88,
   "outputs": [
    {
     "name": "stdout",
     "output_type": "stream",
     "text": [
      "               age    workclass    education  educational-num  marital-status  \\\n",
      "count  6577.000000  6577.000000  6577.000000      6577.000000     6577.000000   \n",
      "mean      1.216208     2.523643     9.489281         9.884142        2.456439   \n",
      "std       0.679307     1.508117     4.081766         3.578451        1.520829   \n",
      "min       0.000000     0.000000     0.000000         1.000000        0.000000   \n",
      "25%       1.000000     2.000000     7.000000         9.000000        2.000000   \n",
      "50%       1.000000     2.000000    10.000000        10.000000        2.000000   \n",
      "75%       2.000000     4.000000    12.000000        13.000000        3.000000   \n",
      "max       2.000000     6.000000    15.000000        16.000000        6.000000   \n",
      "\n",
      "        occupation  relationship         race       gender  capital-gain  \\\n",
      "count  6577.000000   6577.000000  6577.000000  6577.000000   6577.000000   \n",
      "mean      6.375095      1.411890     3.101110     0.704272      0.382393   \n",
      "std       4.126343      1.803753     1.351182     0.456404      0.486009   \n",
      "min       0.000000      0.000000     0.000000     0.000000      0.000000   \n",
      "25%       3.000000      0.000000     2.000000     0.000000      0.000000   \n",
      "50%       6.000000      0.000000     4.000000     1.000000      0.000000   \n",
      "75%      10.000000      3.000000     4.000000     1.000000      1.000000   \n",
      "max      13.000000      5.000000     4.000000     1.000000      1.000000   \n",
      "\n",
      "       capital-loss  hours-per-week  native-country          act  \n",
      "count   6577.000000     6577.000000     6577.000000  6577.000000  \n",
      "mean       0.388019        0.381785       30.405504     0.509655  \n",
      "std        0.487336        0.485861       11.786611     0.499945  \n",
      "min        0.000000        0.000000        0.000000     0.000000  \n",
      "25%        0.000000        0.000000       24.000000     0.000000  \n",
      "50%        0.000000        0.000000       38.000000     1.000000  \n",
      "75%        1.000000        1.000000       38.000000     1.000000  \n",
      "max        1.000000        1.000000       40.000000     1.000000  \n"
     ]
    }
   ],
   "source": [
    "print(f.describe())\n"
   ],
   "metadata": {
    "collapsed": false,
    "pycharm": {
     "name": "#%%\n"
    }
   }
  },
  {
   "cell_type": "code",
   "execution_count": null,
   "outputs": [],
   "source": [],
   "metadata": {
    "collapsed": false,
    "pycharm": {
     "name": "#%%\n"
    }
   }
  },
  {
   "cell_type": "code",
   "execution_count": null,
   "outputs": [],
   "source": [],
   "metadata": {
    "collapsed": false,
    "pycharm": {
     "name": "#%%\n"
    }
   }
  },
  {
   "cell_type": "code",
   "execution_count": null,
   "outputs": [],
   "source": [
    "\n",
    "file_path = r\"../../InputData/AdultDataset/LargeDatasets_without_cat/95000.csv\"\n",
    "output_pre = r\"../../InputData/AdultDataset/LargeDatasets_without_cat/\"\n",
    "extendDataset(100000, file_path, output_pre)\n"
   ],
   "metadata": {
    "collapsed": false,
    "pycharm": {
     "name": "#%%\n"
    }
   }
  },
  {
   "cell_type": "code",
   "execution_count": null,
   "outputs": [],
   "source": [
    "\n",
    "f = pd.read_csv(r\"../../InputData/AdultDataset/LargeDatasets_without_cat/100000.csv\")\n",
    "f[:4]"
   ],
   "metadata": {
    "collapsed": false,
    "pycharm": {
     "name": "#%%\n"
    }
   }
  },
  {
   "cell_type": "code",
   "execution_count": null,
   "outputs": [],
   "source": [
    "print(len(f))\n",
    "\n",
    "print(f.describe())\n",
    "\n",
    "categorize(f)\n",
    "\n",
    "f.to_csv(r\"../../InputData/AdultDataset/LargeDatasets_cat/100000.csv\")\n",
    "\n",
    "\n"
   ],
   "metadata": {
    "collapsed": false,
    "pycharm": {
     "name": "#%%\n"
    }
   }
  },
  {
   "cell_type": "code",
   "execution_count": null,
   "outputs": [],
   "source": [],
   "metadata": {
    "collapsed": false,
    "pycharm": {
     "name": "#%%\n"
    }
   }
  },
  {
   "cell_type": "markdown",
   "source": [
    "## 4.2 Compas Data"
   ],
   "metadata": {
    "collapsed": false
   }
  },
  {
   "cell_type": "code",
   "execution_count": null,
   "outputs": [],
   "source": [
    "# 45222 rows\n",
    "original_compas_data = pd.read_csv(r\"../../InputData/RecidivismData/RecidivismData_att_classified.csv\")\n",
    "\n",
    "original_compas_data.describe()\n",
    "\n",
    "# 6889\n",
    "print(len(original_compas_data))"
   ],
   "metadata": {
    "collapsed": false,
    "pycharm": {
     "name": "#%%\n"
    }
   }
  },
  {
   "cell_type": "code",
   "execution_count": null,
   "outputs": [],
   "source": [
    "original_compas_data[:6000].to_csv(r\"../../InputData/RecidivismData/LargerDatasets/6000.csv\")"
   ],
   "metadata": {
    "collapsed": false,
    "pycharm": {
     "name": "#%%\n"
    }
   }
  },
  {
   "cell_type": "code",
   "execution_count": null,
   "outputs": [],
   "source": [
    "file_path = r\"../../InputData/RecidivismData/RecidivismData_att_classified.csv\"\n",
    "output_pre = r\"../../InputData/RecidivismData/LargerDatasets/\"\n",
    "extendDataset(8000, file_path, output_pre)"
   ],
   "metadata": {
    "collapsed": false,
    "pycharm": {
     "name": "#%%\n"
    }
   }
  },
  {
   "cell_type": "code",
   "execution_count": null,
   "outputs": [],
   "source": [],
   "metadata": {
    "collapsed": false,
    "pycharm": {
     "name": "#%%\n"
    }
   }
  },
  {
   "cell_type": "markdown",
   "source": [
    "## 4.2 Creditcard Data"
   ],
   "metadata": {
    "collapsed": false
   }
  },
  {
   "cell_type": "code",
   "execution_count": 108,
   "outputs": [
    {
     "data": {
      "text/plain": "          limit_bal           sex     education      marriage          age  \\\ncount  30000.000000  30000.000000  30000.000000  30000.000000  30000.00000   \nmean       0.444100      1.603733      1.853133      1.551867      0.31610   \nstd        0.631259      0.489129      0.790349      0.521970      0.48866   \nmin        0.000000      1.000000      0.000000      0.000000      0.00000   \n25%        0.000000      1.000000      1.000000      1.000000      0.00000   \n50%        0.000000      2.000000      2.000000      2.000000      0.00000   \n75%        1.000000      2.000000      2.000000      2.000000      1.00000   \nmax        4.000000      2.000000      6.000000      3.000000      2.00000   \n\n              pay_0         pay_2         pay_3         pay_4         pay_5  \\\ncount  30000.000000  30000.000000  30000.000000  30000.000000  30000.000000   \nmean       1.983300      1.866233      1.833800      1.779333      1.733800   \nstd        1.123802      1.197186      1.196868      1.169139      1.133187   \nmin        0.000000      0.000000      0.000000      0.000000      0.000000   \n25%        1.000000      1.000000      1.000000      1.000000      1.000000   \n50%        2.000000      2.000000      2.000000      2.000000      2.000000   \n75%        2.000000      2.000000      2.000000      2.000000      2.000000   \nmax       10.000000     10.000000     10.000000     10.000000     10.000000   \n\n       ...     bill_amt4     bill_amt5     bill_amt6      pay_amt1  \\\ncount  ...  30000.000000  30000.000000  30000.000000  30000.000000   \nmean   ...      1.014967      0.031767      0.984733      1.001533   \nstd    ...      0.258221      0.190155      0.174646      0.044696   \nmin    ...      0.000000      0.000000      0.000000      1.000000   \n25%    ...      1.000000      0.000000      1.000000      1.000000   \n50%    ...      1.000000      0.000000      1.000000      1.000000   \n75%    ...      1.000000      0.000000      1.000000      1.000000   \nmax    ...      5.000000      4.000000      3.000000      4.000000   \n\n           pay_amt2      pay_amt3      pay_amt4      pay_amt5      pay_amt6  \\\ncount  30000.000000  30000.000000  30000.000000  30000.000000  30000.000000   \nmean       0.000467      0.001533      0.001267      0.007200      0.009933   \nstd        0.033662      0.046163      0.039981      0.104953      0.124238   \nmin        0.000000      0.000000      0.000000      0.000000      0.000000   \n25%        0.000000      0.000000      0.000000      0.000000      0.000000   \n50%        0.000000      0.000000      0.000000      0.000000      0.000000   \n75%        0.000000      0.000000      0.000000      0.000000      0.000000   \nmax        3.000000      3.000000      2.000000      3.000000      4.000000   \n\n       default payment next month  \ncount                30000.000000  \nmean                     0.221200  \nstd                      0.415062  \nmin                      0.000000  \n25%                      0.000000  \n50%                      0.000000  \n75%                      0.000000  \nmax                      1.000000  \n\n[8 rows x 24 columns]",
      "text/html": "<div>\n<style scoped>\n    .dataframe tbody tr th:only-of-type {\n        vertical-align: middle;\n    }\n\n    .dataframe tbody tr th {\n        vertical-align: top;\n    }\n\n    .dataframe thead th {\n        text-align: right;\n    }\n</style>\n<table border=\"1\" class=\"dataframe\">\n  <thead>\n    <tr style=\"text-align: right;\">\n      <th></th>\n      <th>limit_bal</th>\n      <th>sex</th>\n      <th>education</th>\n      <th>marriage</th>\n      <th>age</th>\n      <th>pay_0</th>\n      <th>pay_2</th>\n      <th>pay_3</th>\n      <th>pay_4</th>\n      <th>pay_5</th>\n      <th>...</th>\n      <th>bill_amt4</th>\n      <th>bill_amt5</th>\n      <th>bill_amt6</th>\n      <th>pay_amt1</th>\n      <th>pay_amt2</th>\n      <th>pay_amt3</th>\n      <th>pay_amt4</th>\n      <th>pay_amt5</th>\n      <th>pay_amt6</th>\n      <th>default payment next month</th>\n    </tr>\n  </thead>\n  <tbody>\n    <tr>\n      <th>count</th>\n      <td>30000.000000</td>\n      <td>30000.000000</td>\n      <td>30000.000000</td>\n      <td>30000.000000</td>\n      <td>30000.00000</td>\n      <td>30000.000000</td>\n      <td>30000.000000</td>\n      <td>30000.000000</td>\n      <td>30000.000000</td>\n      <td>30000.000000</td>\n      <td>...</td>\n      <td>30000.000000</td>\n      <td>30000.000000</td>\n      <td>30000.000000</td>\n      <td>30000.000000</td>\n      <td>30000.000000</td>\n      <td>30000.000000</td>\n      <td>30000.000000</td>\n      <td>30000.000000</td>\n      <td>30000.000000</td>\n      <td>30000.000000</td>\n    </tr>\n    <tr>\n      <th>mean</th>\n      <td>0.444100</td>\n      <td>1.603733</td>\n      <td>1.853133</td>\n      <td>1.551867</td>\n      <td>0.31610</td>\n      <td>1.983300</td>\n      <td>1.866233</td>\n      <td>1.833800</td>\n      <td>1.779333</td>\n      <td>1.733800</td>\n      <td>...</td>\n      <td>1.014967</td>\n      <td>0.031767</td>\n      <td>0.984733</td>\n      <td>1.001533</td>\n      <td>0.000467</td>\n      <td>0.001533</td>\n      <td>0.001267</td>\n      <td>0.007200</td>\n      <td>0.009933</td>\n      <td>0.221200</td>\n    </tr>\n    <tr>\n      <th>std</th>\n      <td>0.631259</td>\n      <td>0.489129</td>\n      <td>0.790349</td>\n      <td>0.521970</td>\n      <td>0.48866</td>\n      <td>1.123802</td>\n      <td>1.197186</td>\n      <td>1.196868</td>\n      <td>1.169139</td>\n      <td>1.133187</td>\n      <td>...</td>\n      <td>0.258221</td>\n      <td>0.190155</td>\n      <td>0.174646</td>\n      <td>0.044696</td>\n      <td>0.033662</td>\n      <td>0.046163</td>\n      <td>0.039981</td>\n      <td>0.104953</td>\n      <td>0.124238</td>\n      <td>0.415062</td>\n    </tr>\n    <tr>\n      <th>min</th>\n      <td>0.000000</td>\n      <td>1.000000</td>\n      <td>0.000000</td>\n      <td>0.000000</td>\n      <td>0.00000</td>\n      <td>0.000000</td>\n      <td>0.000000</td>\n      <td>0.000000</td>\n      <td>0.000000</td>\n      <td>0.000000</td>\n      <td>...</td>\n      <td>0.000000</td>\n      <td>0.000000</td>\n      <td>0.000000</td>\n      <td>1.000000</td>\n      <td>0.000000</td>\n      <td>0.000000</td>\n      <td>0.000000</td>\n      <td>0.000000</td>\n      <td>0.000000</td>\n      <td>0.000000</td>\n    </tr>\n    <tr>\n      <th>25%</th>\n      <td>0.000000</td>\n      <td>1.000000</td>\n      <td>1.000000</td>\n      <td>1.000000</td>\n      <td>0.00000</td>\n      <td>1.000000</td>\n      <td>1.000000</td>\n      <td>1.000000</td>\n      <td>1.000000</td>\n      <td>1.000000</td>\n      <td>...</td>\n      <td>1.000000</td>\n      <td>0.000000</td>\n      <td>1.000000</td>\n      <td>1.000000</td>\n      <td>0.000000</td>\n      <td>0.000000</td>\n      <td>0.000000</td>\n      <td>0.000000</td>\n      <td>0.000000</td>\n      <td>0.000000</td>\n    </tr>\n    <tr>\n      <th>50%</th>\n      <td>0.000000</td>\n      <td>2.000000</td>\n      <td>2.000000</td>\n      <td>2.000000</td>\n      <td>0.00000</td>\n      <td>2.000000</td>\n      <td>2.000000</td>\n      <td>2.000000</td>\n      <td>2.000000</td>\n      <td>2.000000</td>\n      <td>...</td>\n      <td>1.000000</td>\n      <td>0.000000</td>\n      <td>1.000000</td>\n      <td>1.000000</td>\n      <td>0.000000</td>\n      <td>0.000000</td>\n      <td>0.000000</td>\n      <td>0.000000</td>\n      <td>0.000000</td>\n      <td>0.000000</td>\n    </tr>\n    <tr>\n      <th>75%</th>\n      <td>1.000000</td>\n      <td>2.000000</td>\n      <td>2.000000</td>\n      <td>2.000000</td>\n      <td>1.00000</td>\n      <td>2.000000</td>\n      <td>2.000000</td>\n      <td>2.000000</td>\n      <td>2.000000</td>\n      <td>2.000000</td>\n      <td>...</td>\n      <td>1.000000</td>\n      <td>0.000000</td>\n      <td>1.000000</td>\n      <td>1.000000</td>\n      <td>0.000000</td>\n      <td>0.000000</td>\n      <td>0.000000</td>\n      <td>0.000000</td>\n      <td>0.000000</td>\n      <td>0.000000</td>\n    </tr>\n    <tr>\n      <th>max</th>\n      <td>4.000000</td>\n      <td>2.000000</td>\n      <td>6.000000</td>\n      <td>3.000000</td>\n      <td>2.00000</td>\n      <td>10.000000</td>\n      <td>10.000000</td>\n      <td>10.000000</td>\n      <td>10.000000</td>\n      <td>10.000000</td>\n      <td>...</td>\n      <td>5.000000</td>\n      <td>4.000000</td>\n      <td>3.000000</td>\n      <td>4.000000</td>\n      <td>3.000000</td>\n      <td>3.000000</td>\n      <td>2.000000</td>\n      <td>3.000000</td>\n      <td>4.000000</td>\n      <td>1.000000</td>\n    </tr>\n  </tbody>\n</table>\n<p>8 rows × 24 columns</p>\n</div>"
     },
     "execution_count": 108,
     "metadata": {},
     "output_type": "execute_result"
    }
   ],
   "source": [
    "# 45222 rows\n",
    "original_creditcard_data = pd.read_csv(r\"../../InputData/CreditcardDataset/ForClassification/credit_card_clients_categorized.csv\")\n",
    "\n",
    "original_creditcard_data.describe()"
   ],
   "metadata": {
    "collapsed": false,
    "pycharm": {
     "name": "#%%\n"
    }
   }
  },
  {
   "cell_type": "code",
   "execution_count": 109,
   "outputs": [
    {
     "name": "stdout",
     "output_type": "stream",
     "text": [
      "30000\n"
     ]
    }
   ],
   "source": [
    "# 30000\n",
    "print(len(original_creditcard_data))"
   ],
   "metadata": {
    "collapsed": false,
    "pycharm": {
     "name": "#%%\n"
    }
   }
  },
  {
   "cell_type": "code",
   "execution_count": 111,
   "outputs": [],
   "source": [
    "original_creditcard_data.to_csv(r\"../../InputData/CreditcardDataset/LargeDatasets_cat/30000.csv\")\n"
   ],
   "metadata": {
    "collapsed": false,
    "pycharm": {
     "name": "#%%\n"
    }
   }
  },
  {
   "cell_type": "code",
   "execution_count": 112,
   "outputs": [
    {
     "name": "stdout",
     "output_type": "stream",
     "text": [
      "5000\n",
      "0 [13766, 3, 2, 6, 0, 2, 2, 7, 1, 1, 9, 3, 5, 0, 1, 0, 1, 2, 3, 1, 3, 0, 0, 3, 1]\n",
      "1000 [16117, 0, 1, 4, 0, 2, 4, 5, 5, 8, 4, 7, 1, 3, 0, 4, 0, 0, 1, 0, 0, 1, 1, 4, 0]\n",
      "2000 [13253, 3, 1, 5, 0, 1, 6, 3, 1, 4, 5, 4, 3, 3, 1, 1, 4, 2, 2, 0, 3, 2, 0, 3, 0]\n",
      "3000 [23493, 1, 1, 4, 0, 0, 0, 1, 10, 2, 1, 2, 5, 0, 0, 5, 3, 3, 2, 1, 3, 1, 1, 4, 1]\n",
      "4000 [27007, 1, 1, 5, 1, 2, 8, 7, 1, 8, 4, 3, 4, 3, 0, 1, 4, 3, 4, 3, 1, 1, 3, 3, 0]\n"
     ]
    }
   ],
   "source": [
    "file_path = r\"../../InputData/CreditcardDataset/LargeDatasets_cat/30000.csv\"\n",
    "output_pre = r\"../../InputData/CreditcardDataset/LargeDatasets_cat/\"\n",
    "extendDataset(35000, file_path, output_pre)"
   ],
   "metadata": {
    "collapsed": false,
    "pycharm": {
     "name": "#%%\n"
    }
   }
  },
  {
   "cell_type": "code",
   "execution_count": null,
   "outputs": [],
   "source": [
    "f = pd.read_csv(r\"../../InputData/CreditcardDataset/LargeDatasets_cat/35000.csv\")\n",
    "f[:4]\n"
   ],
   "metadata": {
    "collapsed": false,
    "pycharm": {
     "name": "#%%\n"
    }
   }
  },
  {
   "cell_type": "code",
   "execution_count": null,
   "outputs": [],
   "source": [],
   "metadata": {
    "collapsed": false,
    "pycharm": {
     "name": "#%%\n"
    }
   }
  },
  {
   "cell_type": "code",
   "execution_count": 113,
   "outputs": [],
   "source": [],
   "metadata": {
    "collapsed": false,
    "pycharm": {
     "name": "#%%\n"
    }
   }
  },
  {
   "cell_type": "code",
   "execution_count": 116,
   "outputs": [
    {
     "name": "stdout",
     "output_type": "stream",
     "text": [
      "5000\n",
      "0 [13747, 2, 1, 3, 1, 2, 9, 7, 5, 7, 7, 7, 5, 4, 0, 2, 1, 2, 3, 2, 0, 1, 3, 0, 1]\n",
      "1000 [10543, 3, 1, 5, 1, 2, 8, 0, 6, 5, 7, 9, 3, 4, 2, 5, 1, 3, 1, 2, 3, 2, 1, 4, 1]\n",
      "2000 [12420, 3, 1, 0, 0, 1, 3, 4, 2, 10, 8, 4, 0, 4, 2, 4, 3, 2, 3, 3, 0, 2, 3, 1, 0]\n",
      "3000 [3460, 2, 2, 5, 3, 0, 6, 3, 1, 9, 1, 3, 0, 1, 2, 2, 4, 0, 4, 0, 3, 2, 2, 2, 0]\n",
      "4000 [22875, 4, 2, 6, 0, 0, 7, 2, 2, 3, 0, 6, 1, 1, 1, 2, 4, 1, 4, 3, 1, 0, 3, 3, 0]\n"
     ]
    }
   ],
   "source": [
    "file_path = r\"../../InputData/CreditcardDataset/LargeDatasets_cat/35000.csv\"\n",
    "output_pre = r\"../../InputData/CreditcardDataset/LargeDatasets_cat/\"\n",
    "extendDataset(40000, file_path, output_pre)"
   ],
   "metadata": {
    "collapsed": false,
    "pycharm": {
     "name": "#%%\n"
    }
   }
  },
  {
   "cell_type": "code",
   "execution_count": 117,
   "outputs": [
    {
     "data": {
      "text/plain": "   Unnamed: 0  limit_bal  sex  education  marriage  age  pay_0  pay_2  pay_3  \\\n0           0          0    2          2         1    0      4      4      1   \n1           1          0    2          2         2    0      1      4      2   \n2           2          0    2          2         2    0      2      2      2   \n3           3          0    2          2         1    0      2      2      2   \n\n   pay_4  ...  bill_amt4  bill_amt5  bill_amt6  pay_amt1  pay_amt2  pay_amt3  \\\n0      1  ...          1          0          1         1         0         0   \n1      2  ...          1          0          1         1         0         0   \n2      2  ...          1          0          1         1         0         0   \n3      2  ...          1          0          1         1         0         0   \n\n   pay_amt4  pay_amt5  pay_amt6  default payment next month  \n0         0         0         0                           1  \n1         0         0         0                           1  \n2         0         0         0                           0  \n3         0         0         0                           0  \n\n[4 rows x 25 columns]",
      "text/html": "<div>\n<style scoped>\n    .dataframe tbody tr th:only-of-type {\n        vertical-align: middle;\n    }\n\n    .dataframe tbody tr th {\n        vertical-align: top;\n    }\n\n    .dataframe thead th {\n        text-align: right;\n    }\n</style>\n<table border=\"1\" class=\"dataframe\">\n  <thead>\n    <tr style=\"text-align: right;\">\n      <th></th>\n      <th>Unnamed: 0</th>\n      <th>limit_bal</th>\n      <th>sex</th>\n      <th>education</th>\n      <th>marriage</th>\n      <th>age</th>\n      <th>pay_0</th>\n      <th>pay_2</th>\n      <th>pay_3</th>\n      <th>pay_4</th>\n      <th>...</th>\n      <th>bill_amt4</th>\n      <th>bill_amt5</th>\n      <th>bill_amt6</th>\n      <th>pay_amt1</th>\n      <th>pay_amt2</th>\n      <th>pay_amt3</th>\n      <th>pay_amt4</th>\n      <th>pay_amt5</th>\n      <th>pay_amt6</th>\n      <th>default payment next month</th>\n    </tr>\n  </thead>\n  <tbody>\n    <tr>\n      <th>0</th>\n      <td>0</td>\n      <td>0</td>\n      <td>2</td>\n      <td>2</td>\n      <td>1</td>\n      <td>0</td>\n      <td>4</td>\n      <td>4</td>\n      <td>1</td>\n      <td>1</td>\n      <td>...</td>\n      <td>1</td>\n      <td>0</td>\n      <td>1</td>\n      <td>1</td>\n      <td>0</td>\n      <td>0</td>\n      <td>0</td>\n      <td>0</td>\n      <td>0</td>\n      <td>1</td>\n    </tr>\n    <tr>\n      <th>1</th>\n      <td>1</td>\n      <td>0</td>\n      <td>2</td>\n      <td>2</td>\n      <td>2</td>\n      <td>0</td>\n      <td>1</td>\n      <td>4</td>\n      <td>2</td>\n      <td>2</td>\n      <td>...</td>\n      <td>1</td>\n      <td>0</td>\n      <td>1</td>\n      <td>1</td>\n      <td>0</td>\n      <td>0</td>\n      <td>0</td>\n      <td>0</td>\n      <td>0</td>\n      <td>1</td>\n    </tr>\n    <tr>\n      <th>2</th>\n      <td>2</td>\n      <td>0</td>\n      <td>2</td>\n      <td>2</td>\n      <td>2</td>\n      <td>0</td>\n      <td>2</td>\n      <td>2</td>\n      <td>2</td>\n      <td>2</td>\n      <td>...</td>\n      <td>1</td>\n      <td>0</td>\n      <td>1</td>\n      <td>1</td>\n      <td>0</td>\n      <td>0</td>\n      <td>0</td>\n      <td>0</td>\n      <td>0</td>\n      <td>0</td>\n    </tr>\n    <tr>\n      <th>3</th>\n      <td>3</td>\n      <td>0</td>\n      <td>2</td>\n      <td>2</td>\n      <td>1</td>\n      <td>0</td>\n      <td>2</td>\n      <td>2</td>\n      <td>2</td>\n      <td>2</td>\n      <td>...</td>\n      <td>1</td>\n      <td>0</td>\n      <td>1</td>\n      <td>1</td>\n      <td>0</td>\n      <td>0</td>\n      <td>0</td>\n      <td>0</td>\n      <td>0</td>\n      <td>0</td>\n    </tr>\n  </tbody>\n</table>\n<p>4 rows × 25 columns</p>\n</div>"
     },
     "execution_count": 117,
     "metadata": {},
     "output_type": "execute_result"
    }
   ],
   "source": [
    "f = pd.read_csv(r\"../../InputData/CreditcardDataset/LargeDatasets_cat/40000.csv\")\n",
    "f[:4]\n",
    "\n"
   ],
   "metadata": {
    "collapsed": false,
    "pycharm": {
     "name": "#%%\n"
    }
   }
  },
  {
   "cell_type": "code",
   "execution_count": 118,
   "outputs": [
    {
     "name": "stdout",
     "output_type": "stream",
     "text": [
      "5000\n",
      "0 [25807, 3, 1, 1, 0, 1, 9, 2, 7, 4, 0, 1, 5, 4, 0, 3, 0, 0, 4, 2, 2, 2, 1, 1, 0]\n",
      "1000 [3758, 1, 2, 5, 1, 1, 1, 2, 5, 10, 0, 3, 0, 2, 1, 3, 2, 0, 4, 0, 1, 2, 0, 2, 0]\n",
      "2000 [16693, 1, 2, 3, 3, 0, 9, 0, 6, 2, 5, 0, 0, 1, 1, 2, 3, 0, 2, 2, 2, 0, 2, 4, 1]\n",
      "3000 [8883, 4, 2, 5, 0, 1, 1, 0, 0, 4, 3, 0, 5, 2, 1, 3, 1, 3, 2, 1, 3, 0, 0, 0, 0]\n",
      "4000 [4092, 2, 1, 3, 0, 2, 10, 2, 1, 10, 10, 6, 4, 1, 0, 0, 0, 2, 4, 2, 1, 0, 1, 2, 1]\n"
     ]
    }
   ],
   "source": [
    "file_path = r\"../../InputData/CreditcardDataset/LargeDatasets_cat/40000.csv\"\n",
    "output_pre = r\"../../InputData/CreditcardDataset/LargeDatasets_cat/\"\n",
    "extendDataset(45000, file_path, output_pre)"
   ],
   "metadata": {
    "collapsed": false,
    "pycharm": {
     "name": "#%%\n"
    }
   }
  },
  {
   "cell_type": "code",
   "execution_count": 119,
   "outputs": [
    {
     "data": {
      "text/plain": "   Unnamed: 0  limit_bal  sex  education  marriage  age  pay_0  pay_2  pay_3  \\\n0           0          0    2          2         1    0      4      4      1   \n1           1          0    2          2         2    0      1      4      2   \n2           2          0    2          2         2    0      2      2      2   \n3           3          0    2          2         1    0      2      2      2   \n\n   pay_4  ...  bill_amt4  bill_amt5  bill_amt6  pay_amt1  pay_amt2  pay_amt3  \\\n0      1  ...          1          0          1         1         0         0   \n1      2  ...          1          0          1         1         0         0   \n2      2  ...          1          0          1         1         0         0   \n3      2  ...          1          0          1         1         0         0   \n\n   pay_amt4  pay_amt5  pay_amt6  default payment next month  \n0         0         0         0                           1  \n1         0         0         0                           1  \n2         0         0         0                           0  \n3         0         0         0                           0  \n\n[4 rows x 25 columns]",
      "text/html": "<div>\n<style scoped>\n    .dataframe tbody tr th:only-of-type {\n        vertical-align: middle;\n    }\n\n    .dataframe tbody tr th {\n        vertical-align: top;\n    }\n\n    .dataframe thead th {\n        text-align: right;\n    }\n</style>\n<table border=\"1\" class=\"dataframe\">\n  <thead>\n    <tr style=\"text-align: right;\">\n      <th></th>\n      <th>Unnamed: 0</th>\n      <th>limit_bal</th>\n      <th>sex</th>\n      <th>education</th>\n      <th>marriage</th>\n      <th>age</th>\n      <th>pay_0</th>\n      <th>pay_2</th>\n      <th>pay_3</th>\n      <th>pay_4</th>\n      <th>...</th>\n      <th>bill_amt4</th>\n      <th>bill_amt5</th>\n      <th>bill_amt6</th>\n      <th>pay_amt1</th>\n      <th>pay_amt2</th>\n      <th>pay_amt3</th>\n      <th>pay_amt4</th>\n      <th>pay_amt5</th>\n      <th>pay_amt6</th>\n      <th>default payment next month</th>\n    </tr>\n  </thead>\n  <tbody>\n    <tr>\n      <th>0</th>\n      <td>0</td>\n      <td>0</td>\n      <td>2</td>\n      <td>2</td>\n      <td>1</td>\n      <td>0</td>\n      <td>4</td>\n      <td>4</td>\n      <td>1</td>\n      <td>1</td>\n      <td>...</td>\n      <td>1</td>\n      <td>0</td>\n      <td>1</td>\n      <td>1</td>\n      <td>0</td>\n      <td>0</td>\n      <td>0</td>\n      <td>0</td>\n      <td>0</td>\n      <td>1</td>\n    </tr>\n    <tr>\n      <th>1</th>\n      <td>1</td>\n      <td>0</td>\n      <td>2</td>\n      <td>2</td>\n      <td>2</td>\n      <td>0</td>\n      <td>1</td>\n      <td>4</td>\n      <td>2</td>\n      <td>2</td>\n      <td>...</td>\n      <td>1</td>\n      <td>0</td>\n      <td>1</td>\n      <td>1</td>\n      <td>0</td>\n      <td>0</td>\n      <td>0</td>\n      <td>0</td>\n      <td>0</td>\n      <td>1</td>\n    </tr>\n    <tr>\n      <th>2</th>\n      <td>2</td>\n      <td>0</td>\n      <td>2</td>\n      <td>2</td>\n      <td>2</td>\n      <td>0</td>\n      <td>2</td>\n      <td>2</td>\n      <td>2</td>\n      <td>2</td>\n      <td>...</td>\n      <td>1</td>\n      <td>0</td>\n      <td>1</td>\n      <td>1</td>\n      <td>0</td>\n      <td>0</td>\n      <td>0</td>\n      <td>0</td>\n      <td>0</td>\n      <td>0</td>\n    </tr>\n    <tr>\n      <th>3</th>\n      <td>3</td>\n      <td>0</td>\n      <td>2</td>\n      <td>2</td>\n      <td>1</td>\n      <td>0</td>\n      <td>2</td>\n      <td>2</td>\n      <td>2</td>\n      <td>2</td>\n      <td>...</td>\n      <td>1</td>\n      <td>0</td>\n      <td>1</td>\n      <td>1</td>\n      <td>0</td>\n      <td>0</td>\n      <td>0</td>\n      <td>0</td>\n      <td>0</td>\n      <td>0</td>\n    </tr>\n  </tbody>\n</table>\n<p>4 rows × 25 columns</p>\n</div>"
     },
     "execution_count": 119,
     "metadata": {},
     "output_type": "execute_result"
    }
   ],
   "source": [
    "f = pd.read_csv(r\"../../InputData/CreditcardDataset/LargeDatasets_cat/45000.csv\")\n",
    "f[:4]\n"
   ],
   "metadata": {
    "collapsed": false,
    "pycharm": {
     "name": "#%%\n"
    }
   }
  },
  {
   "cell_type": "code",
   "execution_count": 120,
   "outputs": [
    {
     "name": "stdout",
     "output_type": "stream",
     "text": [
      "5000\n",
      "0 [17895, 1, 2, 4, 2, 1, 2, 5, 6, 4, 9, 4, 5, 3, 1, 1, 0, 2, 4, 1, 2, 0, 0, 4, 1]\n",
      "1000 [18788, 3, 2, 1, 1, 0, 1, 10, 0, 5, 3, 9, 4, 4, 0, 0, 1, 3, 1, 2, 2, 0, 1, 2, 1]\n",
      "2000 [1255, 3, 1, 0, 2, 2, 3, 7, 5, 9, 5, 8, 5, 1, 1, 1, 2, 0, 4, 2, 2, 2, 2, 2, 1]\n",
      "3000 [22511, 2, 1, 4, 2, 2, 10, 7, 6, 9, 4, 4, 1, 0, 2, 0, 2, 0, 4, 3, 1, 0, 1, 0, 1]\n",
      "4000 [1264, 1, 1, 0, 3, 0, 8, 4, 10, 8, 2, 5, 4, 4, 2, 2, 3, 3, 4, 0, 0, 2, 2, 3, 1]\n"
     ]
    }
   ],
   "source": [
    "file_path = r\"../../InputData/CreditcardDataset/LargeDatasets_cat/45000.csv\"\n",
    "output_pre = r\"../../InputData/CreditcardDataset/LargeDatasets_cat/\"\n",
    "extendDataset(50000, file_path, output_pre)"
   ],
   "metadata": {
    "collapsed": false,
    "pycharm": {
     "name": "#%%\n"
    }
   }
  },
  {
   "cell_type": "code",
   "execution_count": 121,
   "outputs": [
    {
     "data": {
      "text/plain": "   Unnamed: 0  limit_bal  sex  education  marriage  age  pay_0  pay_2  pay_3  \\\n0           0          0    2          2         1    0      4      4      1   \n1           1          0    2          2         2    0      1      4      2   \n2           2          0    2          2         2    0      2      2      2   \n3           3          0    2          2         1    0      2      2      2   \n\n   pay_4  ...  bill_amt4  bill_amt5  bill_amt6  pay_amt1  pay_amt2  pay_amt3  \\\n0      1  ...          1          0          1         1         0         0   \n1      2  ...          1          0          1         1         0         0   \n2      2  ...          1          0          1         1         0         0   \n3      2  ...          1          0          1         1         0         0   \n\n   pay_amt4  pay_amt5  pay_amt6  default payment next month  \n0         0         0         0                           1  \n1         0         0         0                           1  \n2         0         0         0                           0  \n3         0         0         0                           0  \n\n[4 rows x 25 columns]",
      "text/html": "<div>\n<style scoped>\n    .dataframe tbody tr th:only-of-type {\n        vertical-align: middle;\n    }\n\n    .dataframe tbody tr th {\n        vertical-align: top;\n    }\n\n    .dataframe thead th {\n        text-align: right;\n    }\n</style>\n<table border=\"1\" class=\"dataframe\">\n  <thead>\n    <tr style=\"text-align: right;\">\n      <th></th>\n      <th>Unnamed: 0</th>\n      <th>limit_bal</th>\n      <th>sex</th>\n      <th>education</th>\n      <th>marriage</th>\n      <th>age</th>\n      <th>pay_0</th>\n      <th>pay_2</th>\n      <th>pay_3</th>\n      <th>pay_4</th>\n      <th>...</th>\n      <th>bill_amt4</th>\n      <th>bill_amt5</th>\n      <th>bill_amt6</th>\n      <th>pay_amt1</th>\n      <th>pay_amt2</th>\n      <th>pay_amt3</th>\n      <th>pay_amt4</th>\n      <th>pay_amt5</th>\n      <th>pay_amt6</th>\n      <th>default payment next month</th>\n    </tr>\n  </thead>\n  <tbody>\n    <tr>\n      <th>0</th>\n      <td>0</td>\n      <td>0</td>\n      <td>2</td>\n      <td>2</td>\n      <td>1</td>\n      <td>0</td>\n      <td>4</td>\n      <td>4</td>\n      <td>1</td>\n      <td>1</td>\n      <td>...</td>\n      <td>1</td>\n      <td>0</td>\n      <td>1</td>\n      <td>1</td>\n      <td>0</td>\n      <td>0</td>\n      <td>0</td>\n      <td>0</td>\n      <td>0</td>\n      <td>1</td>\n    </tr>\n    <tr>\n      <th>1</th>\n      <td>1</td>\n      <td>0</td>\n      <td>2</td>\n      <td>2</td>\n      <td>2</td>\n      <td>0</td>\n      <td>1</td>\n      <td>4</td>\n      <td>2</td>\n      <td>2</td>\n      <td>...</td>\n      <td>1</td>\n      <td>0</td>\n      <td>1</td>\n      <td>1</td>\n      <td>0</td>\n      <td>0</td>\n      <td>0</td>\n      <td>0</td>\n      <td>0</td>\n      <td>1</td>\n    </tr>\n    <tr>\n      <th>2</th>\n      <td>2</td>\n      <td>0</td>\n      <td>2</td>\n      <td>2</td>\n      <td>2</td>\n      <td>0</td>\n      <td>2</td>\n      <td>2</td>\n      <td>2</td>\n      <td>2</td>\n      <td>...</td>\n      <td>1</td>\n      <td>0</td>\n      <td>1</td>\n      <td>1</td>\n      <td>0</td>\n      <td>0</td>\n      <td>0</td>\n      <td>0</td>\n      <td>0</td>\n      <td>0</td>\n    </tr>\n    <tr>\n      <th>3</th>\n      <td>3</td>\n      <td>0</td>\n      <td>2</td>\n      <td>2</td>\n      <td>1</td>\n      <td>0</td>\n      <td>2</td>\n      <td>2</td>\n      <td>2</td>\n      <td>2</td>\n      <td>...</td>\n      <td>1</td>\n      <td>0</td>\n      <td>1</td>\n      <td>1</td>\n      <td>0</td>\n      <td>0</td>\n      <td>0</td>\n      <td>0</td>\n      <td>0</td>\n      <td>0</td>\n    </tr>\n  </tbody>\n</table>\n<p>4 rows × 25 columns</p>\n</div>"
     },
     "execution_count": 121,
     "metadata": {},
     "output_type": "execute_result"
    }
   ],
   "source": [
    "f = pd.read_csv(r\"../../InputData/CreditcardDataset/LargeDatasets_cat/50000.csv\")\n",
    "f[:4]\n",
    "\n"
   ],
   "metadata": {
    "collapsed": false,
    "pycharm": {
     "name": "#%%\n"
    }
   }
  },
  {
   "cell_type": "code",
   "execution_count": 122,
   "outputs": [
    {
     "name": "stdout",
     "output_type": "stream",
     "text": [
      "5000\n",
      "0 [14043, 2, 2, 5, 0, 1, 4, 8, 1, 3, 9, 9, 2, 3, 1, 0, 4, 3, 4, 0, 0, 0, 0, 3, 0]\n",
      "1000 [26692, 2, 1, 2, 0, 2, 2, 0, 9, 3, 6, 7, 4, 0, 1, 0, 2, 2, 2, 3, 0, 0, 0, 1, 0]\n",
      "2000 [13736, 4, 1, 5, 3, 1, 4, 3, 5, 4, 0, 6, 5, 3, 0, 1, 2, 0, 1, 2, 0, 0, 3, 1, 1]\n",
      "3000 [5680, 0, 1, 1, 3, 2, 10, 1, 4, 8, 8, 5, 0, 3, 1, 5, 3, 2, 3, 3, 2, 0, 0, 1, 0]\n",
      "4000 [29156, 3, 1, 3, 2, 2, 10, 9, 5, 4, 1, 8, 0, 1, 0, 0, 0, 3, 2, 2, 0, 1, 3, 4, 0]\n"
     ]
    }
   ],
   "source": [
    "file_path = r\"../../InputData/CreditcardDataset/LargeDatasets_cat/50000.csv\"\n",
    "output_pre = r\"../../InputData/CreditcardDataset/LargeDatasets_cat/\"\n",
    "extendDataset(55000, file_path, output_pre)"
   ],
   "metadata": {
    "collapsed": false,
    "pycharm": {
     "name": "#%%\n"
    }
   }
  },
  {
   "cell_type": "code",
   "execution_count": 123,
   "outputs": [
    {
     "data": {
      "text/plain": "   Unnamed: 0  limit_bal  sex  education  marriage  age  pay_0  pay_2  pay_3  \\\n0           0          0    2          2         1    0      4      4      1   \n1           1          0    2          2         2    0      1      4      2   \n2           2          0    2          2         2    0      2      2      2   \n3           3          0    2          2         1    0      2      2      2   \n\n   pay_4  ...  bill_amt4  bill_amt5  bill_amt6  pay_amt1  pay_amt2  pay_amt3  \\\n0      1  ...          1          0          1         1         0         0   \n1      2  ...          1          0          1         1         0         0   \n2      2  ...          1          0          1         1         0         0   \n3      2  ...          1          0          1         1         0         0   \n\n   pay_amt4  pay_amt5  pay_amt6  default payment next month  \n0         0         0         0                           1  \n1         0         0         0                           1  \n2         0         0         0                           0  \n3         0         0         0                           0  \n\n[4 rows x 25 columns]",
      "text/html": "<div>\n<style scoped>\n    .dataframe tbody tr th:only-of-type {\n        vertical-align: middle;\n    }\n\n    .dataframe tbody tr th {\n        vertical-align: top;\n    }\n\n    .dataframe thead th {\n        text-align: right;\n    }\n</style>\n<table border=\"1\" class=\"dataframe\">\n  <thead>\n    <tr style=\"text-align: right;\">\n      <th></th>\n      <th>Unnamed: 0</th>\n      <th>limit_bal</th>\n      <th>sex</th>\n      <th>education</th>\n      <th>marriage</th>\n      <th>age</th>\n      <th>pay_0</th>\n      <th>pay_2</th>\n      <th>pay_3</th>\n      <th>pay_4</th>\n      <th>...</th>\n      <th>bill_amt4</th>\n      <th>bill_amt5</th>\n      <th>bill_amt6</th>\n      <th>pay_amt1</th>\n      <th>pay_amt2</th>\n      <th>pay_amt3</th>\n      <th>pay_amt4</th>\n      <th>pay_amt5</th>\n      <th>pay_amt6</th>\n      <th>default payment next month</th>\n    </tr>\n  </thead>\n  <tbody>\n    <tr>\n      <th>0</th>\n      <td>0</td>\n      <td>0</td>\n      <td>2</td>\n      <td>2</td>\n      <td>1</td>\n      <td>0</td>\n      <td>4</td>\n      <td>4</td>\n      <td>1</td>\n      <td>1</td>\n      <td>...</td>\n      <td>1</td>\n      <td>0</td>\n      <td>1</td>\n      <td>1</td>\n      <td>0</td>\n      <td>0</td>\n      <td>0</td>\n      <td>0</td>\n      <td>0</td>\n      <td>1</td>\n    </tr>\n    <tr>\n      <th>1</th>\n      <td>1</td>\n      <td>0</td>\n      <td>2</td>\n      <td>2</td>\n      <td>2</td>\n      <td>0</td>\n      <td>1</td>\n      <td>4</td>\n      <td>2</td>\n      <td>2</td>\n      <td>...</td>\n      <td>1</td>\n      <td>0</td>\n      <td>1</td>\n      <td>1</td>\n      <td>0</td>\n      <td>0</td>\n      <td>0</td>\n      <td>0</td>\n      <td>0</td>\n      <td>1</td>\n    </tr>\n    <tr>\n      <th>2</th>\n      <td>2</td>\n      <td>0</td>\n      <td>2</td>\n      <td>2</td>\n      <td>2</td>\n      <td>0</td>\n      <td>2</td>\n      <td>2</td>\n      <td>2</td>\n      <td>2</td>\n      <td>...</td>\n      <td>1</td>\n      <td>0</td>\n      <td>1</td>\n      <td>1</td>\n      <td>0</td>\n      <td>0</td>\n      <td>0</td>\n      <td>0</td>\n      <td>0</td>\n      <td>0</td>\n    </tr>\n    <tr>\n      <th>3</th>\n      <td>3</td>\n      <td>0</td>\n      <td>2</td>\n      <td>2</td>\n      <td>1</td>\n      <td>0</td>\n      <td>2</td>\n      <td>2</td>\n      <td>2</td>\n      <td>2</td>\n      <td>...</td>\n      <td>1</td>\n      <td>0</td>\n      <td>1</td>\n      <td>1</td>\n      <td>0</td>\n      <td>0</td>\n      <td>0</td>\n      <td>0</td>\n      <td>0</td>\n      <td>0</td>\n    </tr>\n  </tbody>\n</table>\n<p>4 rows × 25 columns</p>\n</div>"
     },
     "execution_count": 123,
     "metadata": {},
     "output_type": "execute_result"
    }
   ],
   "source": [
    "f = pd.read_csv(r\"../../InputData/CreditcardDataset/LargeDatasets_cat/55000.csv\")\n",
    "f[:4]\n"
   ],
   "metadata": {
    "collapsed": false,
    "pycharm": {
     "name": "#%%\n"
    }
   }
  },
  {
   "cell_type": "code",
   "execution_count": 124,
   "outputs": [
    {
     "name": "stdout",
     "output_type": "stream",
     "text": [
      "5000\n",
      "0 [12607, 1, 2, 1, 0, 0, 9, 3, 5, 7, 10, 9, 1, 1, 0, 2, 1, 3, 3, 2, 3, 0, 2, 2, 1]\n",
      "1000 [9849, 3, 2, 1, 1, 2, 9, 10, 3, 6, 1, 2, 2, 1, 1, 4, 3, 3, 3, 2, 1, 0, 3, 3, 1]\n",
      "2000 [11788, 1, 2, 3, 1, 0, 9, 1, 5, 10, 3, 10, 1, 4, 1, 1, 2, 3, 1, 1, 2, 0, 3, 4, 1]\n",
      "3000 [22402, 2, 1, 1, 1, 1, 8, 3, 0, 5, 0, 7, 3, 4, 2, 3, 4, 2, 1, 2, 2, 2, 3, 0, 1]\n",
      "4000 [20730, 1, 2, 2, 2, 0, 4, 2, 3, 4, 9, 10, 4, 2, 0, 0, 3, 2, 4, 3, 2, 2, 0, 3, 1]\n"
     ]
    }
   ],
   "source": [
    "file_path = r\"../../InputData/CreditcardDataset/LargeDatasets_cat/55000.csv\"\n",
    "output_pre = r\"../../InputData/CreditcardDataset/LargeDatasets_cat/\"\n",
    "extendDataset(60000, file_path, output_pre)"
   ],
   "metadata": {
    "collapsed": false,
    "pycharm": {
     "name": "#%%\n"
    }
   }
  },
  {
   "cell_type": "code",
   "execution_count": 125,
   "outputs": [
    {
     "data": {
      "text/plain": "   Unnamed: 0  limit_bal  sex  education  marriage  age  pay_0  pay_2  pay_3  \\\n0           0          0    2          2         1    0      4      4      1   \n1           1          0    2          2         2    0      1      4      2   \n2           2          0    2          2         2    0      2      2      2   \n3           3          0    2          2         1    0      2      2      2   \n\n   pay_4  ...  bill_amt4  bill_amt5  bill_amt6  pay_amt1  pay_amt2  pay_amt3  \\\n0      1  ...          1          0          1         1         0         0   \n1      2  ...          1          0          1         1         0         0   \n2      2  ...          1          0          1         1         0         0   \n3      2  ...          1          0          1         1         0         0   \n\n   pay_amt4  pay_amt5  pay_amt6  default payment next month  \n0         0         0         0                           1  \n1         0         0         0                           1  \n2         0         0         0                           0  \n3         0         0         0                           0  \n\n[4 rows x 25 columns]",
      "text/html": "<div>\n<style scoped>\n    .dataframe tbody tr th:only-of-type {\n        vertical-align: middle;\n    }\n\n    .dataframe tbody tr th {\n        vertical-align: top;\n    }\n\n    .dataframe thead th {\n        text-align: right;\n    }\n</style>\n<table border=\"1\" class=\"dataframe\">\n  <thead>\n    <tr style=\"text-align: right;\">\n      <th></th>\n      <th>Unnamed: 0</th>\n      <th>limit_bal</th>\n      <th>sex</th>\n      <th>education</th>\n      <th>marriage</th>\n      <th>age</th>\n      <th>pay_0</th>\n      <th>pay_2</th>\n      <th>pay_3</th>\n      <th>pay_4</th>\n      <th>...</th>\n      <th>bill_amt4</th>\n      <th>bill_amt5</th>\n      <th>bill_amt6</th>\n      <th>pay_amt1</th>\n      <th>pay_amt2</th>\n      <th>pay_amt3</th>\n      <th>pay_amt4</th>\n      <th>pay_amt5</th>\n      <th>pay_amt6</th>\n      <th>default payment next month</th>\n    </tr>\n  </thead>\n  <tbody>\n    <tr>\n      <th>0</th>\n      <td>0</td>\n      <td>0</td>\n      <td>2</td>\n      <td>2</td>\n      <td>1</td>\n      <td>0</td>\n      <td>4</td>\n      <td>4</td>\n      <td>1</td>\n      <td>1</td>\n      <td>...</td>\n      <td>1</td>\n      <td>0</td>\n      <td>1</td>\n      <td>1</td>\n      <td>0</td>\n      <td>0</td>\n      <td>0</td>\n      <td>0</td>\n      <td>0</td>\n      <td>1</td>\n    </tr>\n    <tr>\n      <th>1</th>\n      <td>1</td>\n      <td>0</td>\n      <td>2</td>\n      <td>2</td>\n      <td>2</td>\n      <td>0</td>\n      <td>1</td>\n      <td>4</td>\n      <td>2</td>\n      <td>2</td>\n      <td>...</td>\n      <td>1</td>\n      <td>0</td>\n      <td>1</td>\n      <td>1</td>\n      <td>0</td>\n      <td>0</td>\n      <td>0</td>\n      <td>0</td>\n      <td>0</td>\n      <td>1</td>\n    </tr>\n    <tr>\n      <th>2</th>\n      <td>2</td>\n      <td>0</td>\n      <td>2</td>\n      <td>2</td>\n      <td>2</td>\n      <td>0</td>\n      <td>2</td>\n      <td>2</td>\n      <td>2</td>\n      <td>2</td>\n      <td>...</td>\n      <td>1</td>\n      <td>0</td>\n      <td>1</td>\n      <td>1</td>\n      <td>0</td>\n      <td>0</td>\n      <td>0</td>\n      <td>0</td>\n      <td>0</td>\n      <td>0</td>\n    </tr>\n    <tr>\n      <th>3</th>\n      <td>3</td>\n      <td>0</td>\n      <td>2</td>\n      <td>2</td>\n      <td>1</td>\n      <td>0</td>\n      <td>2</td>\n      <td>2</td>\n      <td>2</td>\n      <td>2</td>\n      <td>...</td>\n      <td>1</td>\n      <td>0</td>\n      <td>1</td>\n      <td>1</td>\n      <td>0</td>\n      <td>0</td>\n      <td>0</td>\n      <td>0</td>\n      <td>0</td>\n      <td>0</td>\n    </tr>\n  </tbody>\n</table>\n<p>4 rows × 25 columns</p>\n</div>"
     },
     "execution_count": 125,
     "metadata": {},
     "output_type": "execute_result"
    }
   ],
   "source": [
    "f = pd.read_csv(r\"../../InputData/CreditcardDataset/LargeDatasets_cat/60000.csv\")\n",
    "f[:4]\n",
    "\n"
   ],
   "metadata": {
    "collapsed": false,
    "pycharm": {
     "name": "#%%\n"
    }
   }
  },
  {
   "cell_type": "markdown",
   "source": [
    "## Apply classifier to large creditcard datasets"
   ],
   "metadata": {
    "collapsed": false,
    "pycharm": {
     "name": "#%% md\n"
    }
   }
  },
  {
   "cell_type": "code",
   "execution_count": 133,
   "outputs": [
    {
     "data": {
      "text/plain": "   limit_bal  sex  education  marriage  age  pay_0  pay_2  pay_3  pay_4  \\\n0          0    2          2         1    0      4      4      1      1   \n1          0    2          2         2    0      1      4      2      2   \n2          0    2          2         2    0      2      2      2      2   \n3          0    2          2         1    0      2      2      2      2   \n\n   pay_5  ...  bill_amt4  bill_amt5  bill_amt6  pay_amt1  pay_amt2  pay_amt3  \\\n0      0  ...          1          0          1         1         0         0   \n1      2  ...          1          0          1         1         0         0   \n2      2  ...          1          0          1         1         0         0   \n3      2  ...          1          0          1         1         0         0   \n\n   pay_amt4  pay_amt5  pay_amt6  default payment next month  \n0         0         0         0                           1  \n1         0         0         0                           1  \n2         0         0         0                           0  \n3         0         0         0                           0  \n\n[4 rows x 24 columns]",
      "text/html": "<div>\n<style scoped>\n    .dataframe tbody tr th:only-of-type {\n        vertical-align: middle;\n    }\n\n    .dataframe tbody tr th {\n        vertical-align: top;\n    }\n\n    .dataframe thead th {\n        text-align: right;\n    }\n</style>\n<table border=\"1\" class=\"dataframe\">\n  <thead>\n    <tr style=\"text-align: right;\">\n      <th></th>\n      <th>limit_bal</th>\n      <th>sex</th>\n      <th>education</th>\n      <th>marriage</th>\n      <th>age</th>\n      <th>pay_0</th>\n      <th>pay_2</th>\n      <th>pay_3</th>\n      <th>pay_4</th>\n      <th>pay_5</th>\n      <th>...</th>\n      <th>bill_amt4</th>\n      <th>bill_amt5</th>\n      <th>bill_amt6</th>\n      <th>pay_amt1</th>\n      <th>pay_amt2</th>\n      <th>pay_amt3</th>\n      <th>pay_amt4</th>\n      <th>pay_amt5</th>\n      <th>pay_amt6</th>\n      <th>default payment next month</th>\n    </tr>\n  </thead>\n  <tbody>\n    <tr>\n      <th>0</th>\n      <td>0</td>\n      <td>2</td>\n      <td>2</td>\n      <td>1</td>\n      <td>0</td>\n      <td>4</td>\n      <td>4</td>\n      <td>1</td>\n      <td>1</td>\n      <td>0</td>\n      <td>...</td>\n      <td>1</td>\n      <td>0</td>\n      <td>1</td>\n      <td>1</td>\n      <td>0</td>\n      <td>0</td>\n      <td>0</td>\n      <td>0</td>\n      <td>0</td>\n      <td>1</td>\n    </tr>\n    <tr>\n      <th>1</th>\n      <td>0</td>\n      <td>2</td>\n      <td>2</td>\n      <td>2</td>\n      <td>0</td>\n      <td>1</td>\n      <td>4</td>\n      <td>2</td>\n      <td>2</td>\n      <td>2</td>\n      <td>...</td>\n      <td>1</td>\n      <td>0</td>\n      <td>1</td>\n      <td>1</td>\n      <td>0</td>\n      <td>0</td>\n      <td>0</td>\n      <td>0</td>\n      <td>0</td>\n      <td>1</td>\n    </tr>\n    <tr>\n      <th>2</th>\n      <td>0</td>\n      <td>2</td>\n      <td>2</td>\n      <td>2</td>\n      <td>0</td>\n      <td>2</td>\n      <td>2</td>\n      <td>2</td>\n      <td>2</td>\n      <td>2</td>\n      <td>...</td>\n      <td>1</td>\n      <td>0</td>\n      <td>1</td>\n      <td>1</td>\n      <td>0</td>\n      <td>0</td>\n      <td>0</td>\n      <td>0</td>\n      <td>0</td>\n      <td>0</td>\n    </tr>\n    <tr>\n      <th>3</th>\n      <td>0</td>\n      <td>2</td>\n      <td>2</td>\n      <td>1</td>\n      <td>0</td>\n      <td>2</td>\n      <td>2</td>\n      <td>2</td>\n      <td>2</td>\n      <td>2</td>\n      <td>...</td>\n      <td>1</td>\n      <td>0</td>\n      <td>1</td>\n      <td>1</td>\n      <td>0</td>\n      <td>0</td>\n      <td>0</td>\n      <td>0</td>\n      <td>0</td>\n      <td>0</td>\n    </tr>\n  </tbody>\n</table>\n<p>4 rows × 24 columns</p>\n</div>"
     },
     "execution_count": 133,
     "metadata": {},
     "output_type": "execute_result"
    }
   ],
   "source": [
    "\n",
    "data = pd.read_csv(r\"../../InputData/CreditcardDataset/LargeDatasets_cat/60000.csv\")\n",
    "data[:4]\n"
   ],
   "metadata": {
    "collapsed": false,
    "pycharm": {
     "name": "#%%\n"
    }
   }
  },
  {
   "cell_type": "code",
   "execution_count": 134,
   "outputs": [
    {
     "data": {
      "text/plain": "Index(['limit_bal', 'sex', 'education', 'marriage', 'age', 'pay_0', 'pay_2',\n       'pay_3', 'pay_4', 'pay_5', 'pay_6', 'bill_amt1', 'bill_amt2',\n       'bill_amt3', 'bill_amt4', 'bill_amt5', 'bill_amt6', 'pay_amt1',\n       'pay_amt2', 'pay_amt3', 'pay_amt4', 'pay_amt5', 'pay_amt6',\n       'default payment next month'],\n      dtype='object')"
     },
     "execution_count": 134,
     "metadata": {},
     "output_type": "execute_result"
    }
   ],
   "source": [
    "data.columns"
   ],
   "metadata": {
    "collapsed": false,
    "pycharm": {
     "name": "#%%\n"
    }
   }
  },
  {
   "cell_type": "code",
   "execution_count": null,
   "outputs": [],
   "source": [
    "predictors = ['limit_bal', 'sex', 'education', 'marriage', 'age', 'pay_0', 'pay_2',\n",
    "       'pay_3', 'pay_4', 'pay_5', 'pay_6', 'bill_amt1', 'bill_amt2',\n",
    "       'bill_amt3', 'bill_amt4', 'bill_amt5', 'bill_amt6', 'pay_amt1',\n",
    "       'pay_amt2', 'pay_amt3', 'pay_amt4', 'pay_amt5', 'pay_amt6',\n",
    "       'default payment next month']\n"
   ],
   "metadata": {
    "collapsed": false,
    "pycharm": {
     "name": "#%%\n"
    }
   }
  },
  {
   "cell_type": "code",
   "execution_count": null,
   "outputs": [],
   "source": [],
   "metadata": {
    "collapsed": false,
    "pycharm": {
     "name": "#%%\n"
    }
   }
  },
  {
   "cell_type": "code",
   "execution_count": null,
   "outputs": [],
   "source": [
    "\n"
   ],
   "metadata": {
    "collapsed": false,
    "pycharm": {
     "name": "#%%\n"
    }
   }
  },
  {
   "cell_type": "markdown",
   "source": [
    "## 4.3 Student data"
   ],
   "metadata": {
    "collapsed": false
   }
  },
  {
   "cell_type": "code",
   "execution_count": 18,
   "outputs": [
    {
     "data": {
      "text/plain": "              age        Medu        Fedu  traveltime   studytime    failures  \\\ncount  395.000000  395.000000  395.000000  395.000000  395.000000  395.000000   \nmean    16.696203    2.749367    2.521519    1.448101    2.035443    0.334177   \nstd      1.276043    1.094735    1.088201    0.697505    0.839240    0.743651   \nmin     15.000000    0.000000    0.000000    1.000000    1.000000    0.000000   \n25%     16.000000    2.000000    2.000000    1.000000    1.000000    0.000000   \n50%     17.000000    3.000000    2.000000    1.000000    2.000000    0.000000   \n75%     18.000000    4.000000    3.000000    2.000000    2.000000    0.000000   \nmax     22.000000    4.000000    4.000000    4.000000    4.000000    3.000000   \n\n           famrel    freetime       goout        Dalc  ...  freetime_C  \\\ncount  395.000000  395.000000  395.000000  395.000000  ...  395.000000   \nmean     3.944304    3.235443    3.108861    1.481013  ...    3.235443   \nstd      0.896659    0.998862    1.113278    0.890741  ...    0.998862   \nmin      1.000000    1.000000    1.000000    1.000000  ...    1.000000   \n25%      4.000000    3.000000    2.000000    1.000000  ...    3.000000   \n50%      4.000000    3.000000    3.000000    1.000000  ...    3.000000   \n75%      5.000000    4.000000    4.000000    2.000000  ...    4.000000   \nmax      5.000000    5.000000    5.000000    5.000000  ...    5.000000   \n\n          goout_C      Dalc_C      Walc_C    health_C  absences_C        G1_C  \\\ncount  395.000000  395.000000  395.000000  395.000000  395.000000  395.000000   \nmean     3.108861    1.481013    2.291139    3.554430    0.202532    0.640506   \nstd      1.113278    0.890741    1.287897    1.390303    3.774681    0.480461   \nmin      1.000000    1.000000    1.000000    1.000000    0.000000    0.000000   \n25%      2.000000    1.000000    1.000000    3.000000    0.000000    0.000000   \n50%      3.000000    1.000000    2.000000    4.000000    0.000000    1.000000   \n75%      4.000000    2.000000    3.000000    5.000000    0.000000    1.000000   \nmax      5.000000    5.000000    5.000000    5.000000   75.000000    1.000000   \n\n             G2_C        G3_C        rank  \ncount  395.000000  395.000000  395.000000  \nmean     0.630380    0.670886  198.000000  \nstd      0.483314    0.470487  114.170924  \nmin      0.000000    0.000000    1.000000  \n25%      0.000000    0.000000   99.500000  \n50%      1.000000    1.000000  198.000000  \n75%      1.000000    1.000000  296.500000  \nmax      1.000000    1.000000  395.000000  \n\n[8 rows x 50 columns]",
      "text/html": "<div>\n<style scoped>\n    .dataframe tbody tr th:only-of-type {\n        vertical-align: middle;\n    }\n\n    .dataframe tbody tr th {\n        vertical-align: top;\n    }\n\n    .dataframe thead th {\n        text-align: right;\n    }\n</style>\n<table border=\"1\" class=\"dataframe\">\n  <thead>\n    <tr style=\"text-align: right;\">\n      <th></th>\n      <th>age</th>\n      <th>Medu</th>\n      <th>Fedu</th>\n      <th>traveltime</th>\n      <th>studytime</th>\n      <th>failures</th>\n      <th>famrel</th>\n      <th>freetime</th>\n      <th>goout</th>\n      <th>Dalc</th>\n      <th>...</th>\n      <th>freetime_C</th>\n      <th>goout_C</th>\n      <th>Dalc_C</th>\n      <th>Walc_C</th>\n      <th>health_C</th>\n      <th>absences_C</th>\n      <th>G1_C</th>\n      <th>G2_C</th>\n      <th>G3_C</th>\n      <th>rank</th>\n    </tr>\n  </thead>\n  <tbody>\n    <tr>\n      <th>count</th>\n      <td>395.000000</td>\n      <td>395.000000</td>\n      <td>395.000000</td>\n      <td>395.000000</td>\n      <td>395.000000</td>\n      <td>395.000000</td>\n      <td>395.000000</td>\n      <td>395.000000</td>\n      <td>395.000000</td>\n      <td>395.000000</td>\n      <td>...</td>\n      <td>395.000000</td>\n      <td>395.000000</td>\n      <td>395.000000</td>\n      <td>395.000000</td>\n      <td>395.000000</td>\n      <td>395.000000</td>\n      <td>395.000000</td>\n      <td>395.000000</td>\n      <td>395.000000</td>\n      <td>395.000000</td>\n    </tr>\n    <tr>\n      <th>mean</th>\n      <td>16.696203</td>\n      <td>2.749367</td>\n      <td>2.521519</td>\n      <td>1.448101</td>\n      <td>2.035443</td>\n      <td>0.334177</td>\n      <td>3.944304</td>\n      <td>3.235443</td>\n      <td>3.108861</td>\n      <td>1.481013</td>\n      <td>...</td>\n      <td>3.235443</td>\n      <td>3.108861</td>\n      <td>1.481013</td>\n      <td>2.291139</td>\n      <td>3.554430</td>\n      <td>0.202532</td>\n      <td>0.640506</td>\n      <td>0.630380</td>\n      <td>0.670886</td>\n      <td>198.000000</td>\n    </tr>\n    <tr>\n      <th>std</th>\n      <td>1.276043</td>\n      <td>1.094735</td>\n      <td>1.088201</td>\n      <td>0.697505</td>\n      <td>0.839240</td>\n      <td>0.743651</td>\n      <td>0.896659</td>\n      <td>0.998862</td>\n      <td>1.113278</td>\n      <td>0.890741</td>\n      <td>...</td>\n      <td>0.998862</td>\n      <td>1.113278</td>\n      <td>0.890741</td>\n      <td>1.287897</td>\n      <td>1.390303</td>\n      <td>3.774681</td>\n      <td>0.480461</td>\n      <td>0.483314</td>\n      <td>0.470487</td>\n      <td>114.170924</td>\n    </tr>\n    <tr>\n      <th>min</th>\n      <td>15.000000</td>\n      <td>0.000000</td>\n      <td>0.000000</td>\n      <td>1.000000</td>\n      <td>1.000000</td>\n      <td>0.000000</td>\n      <td>1.000000</td>\n      <td>1.000000</td>\n      <td>1.000000</td>\n      <td>1.000000</td>\n      <td>...</td>\n      <td>1.000000</td>\n      <td>1.000000</td>\n      <td>1.000000</td>\n      <td>1.000000</td>\n      <td>1.000000</td>\n      <td>0.000000</td>\n      <td>0.000000</td>\n      <td>0.000000</td>\n      <td>0.000000</td>\n      <td>1.000000</td>\n    </tr>\n    <tr>\n      <th>25%</th>\n      <td>16.000000</td>\n      <td>2.000000</td>\n      <td>2.000000</td>\n      <td>1.000000</td>\n      <td>1.000000</td>\n      <td>0.000000</td>\n      <td>4.000000</td>\n      <td>3.000000</td>\n      <td>2.000000</td>\n      <td>1.000000</td>\n      <td>...</td>\n      <td>3.000000</td>\n      <td>2.000000</td>\n      <td>1.000000</td>\n      <td>1.000000</td>\n      <td>3.000000</td>\n      <td>0.000000</td>\n      <td>0.000000</td>\n      <td>0.000000</td>\n      <td>0.000000</td>\n      <td>99.500000</td>\n    </tr>\n    <tr>\n      <th>50%</th>\n      <td>17.000000</td>\n      <td>3.000000</td>\n      <td>2.000000</td>\n      <td>1.000000</td>\n      <td>2.000000</td>\n      <td>0.000000</td>\n      <td>4.000000</td>\n      <td>3.000000</td>\n      <td>3.000000</td>\n      <td>1.000000</td>\n      <td>...</td>\n      <td>3.000000</td>\n      <td>3.000000</td>\n      <td>1.000000</td>\n      <td>2.000000</td>\n      <td>4.000000</td>\n      <td>0.000000</td>\n      <td>1.000000</td>\n      <td>1.000000</td>\n      <td>1.000000</td>\n      <td>198.000000</td>\n    </tr>\n    <tr>\n      <th>75%</th>\n      <td>18.000000</td>\n      <td>4.000000</td>\n      <td>3.000000</td>\n      <td>2.000000</td>\n      <td>2.000000</td>\n      <td>0.000000</td>\n      <td>5.000000</td>\n      <td>4.000000</td>\n      <td>4.000000</td>\n      <td>2.000000</td>\n      <td>...</td>\n      <td>4.000000</td>\n      <td>4.000000</td>\n      <td>2.000000</td>\n      <td>3.000000</td>\n      <td>5.000000</td>\n      <td>0.000000</td>\n      <td>1.000000</td>\n      <td>1.000000</td>\n      <td>1.000000</td>\n      <td>296.500000</td>\n    </tr>\n    <tr>\n      <th>max</th>\n      <td>22.000000</td>\n      <td>4.000000</td>\n      <td>4.000000</td>\n      <td>4.000000</td>\n      <td>4.000000</td>\n      <td>3.000000</td>\n      <td>5.000000</td>\n      <td>5.000000</td>\n      <td>5.000000</td>\n      <td>5.000000</td>\n      <td>...</td>\n      <td>5.000000</td>\n      <td>5.000000</td>\n      <td>5.000000</td>\n      <td>5.000000</td>\n      <td>5.000000</td>\n      <td>75.000000</td>\n      <td>1.000000</td>\n      <td>1.000000</td>\n      <td>1.000000</td>\n      <td>395.000000</td>\n    </tr>\n  </tbody>\n</table>\n<p>8 rows × 50 columns</p>\n</div>"
     },
     "execution_count": 18,
     "metadata": {},
     "output_type": "execute_result"
    }
   ],
   "source": [
    "# 45222 rows\n",
    "original_student_data = pd.read_csv(r\"../../InputData/StudentDataset/LargeDatasets/student-mat_cat_withrank.csv\")\n",
    "\n",
    "original_student_data.describe()"
   ],
   "metadata": {
    "collapsed": false,
    "pycharm": {
     "name": "#%%\n"
    }
   }
  },
  {
   "cell_type": "code",
   "execution_count": 19,
   "outputs": [
    {
     "name": "stdout",
     "output_type": "stream",
     "text": [
      "395\n"
     ]
    }
   ],
   "source": [
    "# 395\n",
    "print(len(original_student_data))"
   ],
   "metadata": {
    "collapsed": false,
    "pycharm": {
     "name": "#%%\n"
    }
   }
  },
  {
   "cell_type": "code",
   "execution_count": 20,
   "outputs": [
    {
     "name": "stdout",
     "output_type": "stream",
     "text": [
      "['school', 'sex', 'age', 'address', 'famsize', 'Pstatus', 'Medu', 'Fedu', 'Mjob', 'Fjob', 'reason', 'guardian', 'traveltime', 'studytime', 'failures', 'schoolsup', 'famsup', 'paid', 'activities', 'nursery', 'higher', 'internet', 'romantic', 'famrel', 'freetime', 'goout', 'Dalc', 'Walc', 'health', 'absences', 'G1', 'G2', 'G3', 'school_C', 'sex_C', 'age_C', 'address_C', 'famsize_C', 'Pstatus_C', 'Medu_C', 'Fedu_C', 'Mjob_C', 'Fjob_C', 'reason_C', 'guardian_C', 'traveltime_C', 'studytime_C', 'failures_C', 'schoolsup_C', 'famsup_C', 'paid_C', 'activities_C', 'nursery_C', 'higher_C', 'internet_C', 'romantic_C', 'famrel_C', 'freetime_C', 'goout_C', 'Dalc_C', 'Walc_C', 'health_C', 'absences_C', 'G1_C', 'G2_C', 'G3_C', 'rank']\n"
     ]
    }
   ],
   "source": [
    "print(original_student_data.columns.tolist())\n",
    "# ['school', 'sex', 'age', 'address', 'famsize', 'Pstatus', 'Medu', 'Fedu', 'Mjob', 'Fjob', 'reason', 'guardian',\n",
    "# 'traveltime', 'studytime', 'failures', 'schoolsup', 'famsup', 'paid', 'activities', 'nursery', 'higher',\n",
    "# 'internet', 'romantic', 'famrel', 'freetime', 'goout', 'Dalc', 'Walc', 'health', 'absences', 'G1', 'G2', 'G3',\n",
    "# 'school_C', 'sex_C', 'age_C', 'address_C', 'famsize_C', 'Pstatus_C', 'Medu_C', 'Fedu_C', 'Mjob_C', 'Fjob_C',\n",
    "# 'reason_C', 'guardian_C', 'traveltime_C', 'studytime_C', 'failures_C', 'schoolsup_C', 'famsup_C', 'paid_C',\n",
    "# 'activities_C', 'nursery_C', 'higher_C', 'internet_C', 'romantic_C', 'famrel_C', 'freetime_C', 'goout_C',\n",
    "# 'Dalc_C', 'Walc_C', 'health_C', 'absences_C', 'G1_C', 'G2_C', 'G3_C', 'rank']"
   ],
   "metadata": {
    "collapsed": false,
    "pycharm": {
     "name": "#%%\n"
    }
   }
  },
  {
   "cell_type": "code",
   "execution_count": 21,
   "outputs": [
    {
     "name": "stdout",
     "output_type": "stream",
     "text": [
      "37\n"
     ]
    }
   ],
   "source": [
    "numeric_att = [ 'school_C', 'sex_C', 'age_C', 'address_C', 'famsize_C', 'Pstatus_C', 'Medu_C', 'Fedu_C', 'Mjob_C', 'Fjob_C',\n",
    " 'reason_C', 'guardian_C', 'traveltime_C', 'studytime_C', 'failures_C', 'schoolsup_C', 'famsup_C', 'paid_C',\n",
    " 'activities_C', 'nursery_C', 'higher_C', 'internet_C', 'romantic_C', 'famrel_C', 'freetime_C', 'goout_C',\n",
    " 'Dalc_C', 'Walc_C', 'health_C', 'absences_C', 'G1_C', 'G2_C', 'G3_C', 'G1', 'G2', 'G3', 'rank']\n",
    "\n",
    "print(len(numeric_att))"
   ],
   "metadata": {
    "collapsed": false,
    "pycharm": {
     "name": "#%%\n"
    }
   }
  },
  {
   "cell_type": "code",
   "execution_count": 22,
   "outputs": [
    {
     "name": "stdout",
     "output_type": "stream",
     "text": [
      "(395, 37)\n"
     ]
    }
   ],
   "source": [
    "student_data_numeric = original_student_data[numeric_att]\n",
    "print(student_data_numeric.shape)"
   ],
   "metadata": {
    "collapsed": false,
    "pycharm": {
     "name": "#%%\n"
    }
   }
  },
  {
   "cell_type": "code",
   "execution_count": 23,
   "outputs": [],
   "source": [
    "student_data_numeric.to_csv(\"../../InputData/StudentDataset/LargeDatasets/student-mat_cat_numeric_withrank.csv\", index=False)\n"
   ],
   "metadata": {
    "collapsed": false,
    "pycharm": {
     "name": "#%%\n"
    }
   }
  },
  {
   "cell_type": "code",
   "execution_count": 24,
   "outputs": [
    {
     "name": "stdout",
     "output_type": "stream",
     "text": [
      "5\n",
      "0 [1, 0, 0, 1, 0, 0, 0, 3, 2, 2, 0, 2, 2, 2, 3, 1, 0, 1, 0, 1, 1, 1, 1, 4, 5, 3, 1, 1, 1, 62, 1, 1, 0, 19, 5, 1, 62]\n"
     ]
    }
   ],
   "source": [
    "file_path = r\"../../InputData/StudentDataset/LargeDatasets/student-mat_cat_numeric_withrank.csv\"\n",
    "output_pre = r\"../../InputData/StudentDataset/LargeDatasets/\"\n",
    "extendDataset(400, file_path, output_pre)\n"
   ],
   "metadata": {
    "collapsed": false,
    "pycharm": {
     "name": "#%%\n"
    }
   }
  },
  {
   "cell_type": "code",
   "execution_count": 26,
   "outputs": [],
   "source": [
    "def UpdateAndRank(file_path, ranked_by):\n",
    "    data = pd.read_csv(file_path)\n",
    "    data['rank'] = data[ranked_by].rank(method='first', na_option='bottom', ascending=False)\n",
    "    data = data.sort_values(by='rank', ascending=True)\n",
    "    data.to_csv(file_path, index=False)\n",
    "\n",
    "\n",
    "def ExtendAndRank(size, input_file_path, output_pre, ranked_by_att):\n",
    "    extendDataset(size, input_file_path, output_pre)\n",
    "    new_file_path = output_pre + str(size) + '.csv'\n",
    "    UpdateAndRank(new_file_path, ranked_by_att)\n"
   ],
   "metadata": {
    "collapsed": false,
    "pycharm": {
     "name": "#%%\n"
    }
   }
  },
  {
   "cell_type": "code",
   "execution_count": 27,
   "outputs": [],
   "source": [
    "UpdateAndRank(\"../../InputData/StudentDataset/LargeDatasets/400.csv\", 'G3')\n"
   ],
   "metadata": {
    "collapsed": false,
    "pycharm": {
     "name": "#%%\n"
    }
   }
  },
  {
   "cell_type": "code",
   "execution_count": 35,
   "outputs": [
    {
     "name": "stdout",
     "output_type": "stream",
     "text": [
      "100\n",
      "0 [1, 0, 1, 1, 0, 1, 0, 2, 0, 4, 1, 2, 1, 1, 2, 0, 1, 1, 0, 1, 1, 0, 1, 4, 2, 1, 5, 5, 4, 72, 0, 0, 1, 8, 8, 3, 307]\n"
     ]
    }
   ],
   "source": [
    "input_file_path = \"../../InputData/StudentDataset/LargeDatasets/1100.csv\"\n",
    "output_pre = r\"../../InputData/StudentDataset/LargeDatasets/\"\n",
    "ExtendAndRank(1200, input_file_path, output_pre, 'G3')"
   ],
   "metadata": {
    "collapsed": false,
    "pycharm": {
     "name": "#%%\n"
    }
   }
  },
  {
   "cell_type": "code",
   "execution_count": null,
   "outputs": [],
   "source": [],
   "metadata": {
    "collapsed": false,
    "pycharm": {
     "name": "#%%\n"
    }
   }
  }
 ],
 "metadata": {
  "kernelspec": {
   "display_name": "Python 3",
   "language": "python",
   "name": "python3"
  },
  "language_info": {
   "codemirror_mode": {
    "name": "ipython",
    "version": 2
   },
   "file_extension": ".py",
   "mimetype": "text/x-python",
   "name": "python",
   "nbconvert_exporter": "python",
   "pygments_lexer": "ipython2",
   "version": "2.7.6"
  }
 },
 "nbformat": 4,
 "nbformat_minor": 0
}