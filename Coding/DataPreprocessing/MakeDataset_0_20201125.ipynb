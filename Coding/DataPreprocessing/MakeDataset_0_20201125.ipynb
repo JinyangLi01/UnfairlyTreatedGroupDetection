{
 "cells": [
  {
   "cell_type": "raw",
   "source": [
    "\n",
    "This notebook aims to create datasets with different sizes\n"
   ],
   "metadata": {
    "collapsed": false
   }
  },
  {
   "cell_type": "markdown",
   "source": [
    "# 1. Small Dataset to Check Implementation Correctness"
   ],
   "metadata": {
    "collapsed": false
   }
  },
  {
   "cell_type": "code",
   "execution_count": null,
   "outputs": [],
   "source": [
    "import numpy as np\n",
    "import pandas as pd\n",
    "import random\n",
    "from Algorithms import pattern_count"
   ],
   "metadata": {
    "collapsed": false,
    "pycharm": {
     "name": "#%%\n"
    }
   }
  },
  {
   "cell_type": "markdown",
   "source": [
    "# 1.1 small dataset"
   ],
   "metadata": {
    "collapsed": false
   }
  },
  {
   "cell_type": "code",
   "execution_count": null,
   "outputs": [],
   "source": [
    "adult3 = pd.read_csv(\"../../InputData/AdultDataset/CleanAdult3.csv\")\n",
    "\n",
    "print(adult3.shape)\n",
    "print(adult3[:5])"
   ],
   "metadata": {
    "collapsed": false,
    "pycharm": {
     "name": "#%%\n"
    }
   }
  },
  {
   "cell_type": "code",
   "execution_count": null,
   "outputs": [],
   "source": [
    "SmallWhole_3_20 = adult3[adult3.columns[0:3]].head(20)"
   ],
   "metadata": {
    "collapsed": false,
    "pycharm": {
     "name": "#%%\n"
    }
   }
  },
  {
   "cell_type": "code",
   "execution_count": null,
   "outputs": [],
   "source": [
    "# this is dataset with only attributes\n",
    "SmallWhole_3_20.to_csv (r'../InputData/SmallDataset/SmallWhole_3_20.csv', index = False, header=True)"
   ],
   "metadata": {
    "collapsed": false,
    "pycharm": {
     "name": "#%%\n"
    }
   }
  },
  {
   "cell_type": "code",
   "execution_count": null,
   "outputs": [],
   "source": [
    "# suppose mis-classified tuples are the first 10\n",
    "SmallMisClass_3_20 = SmallWhole_3_20[:10]\n",
    "SmallMisClass_3_20.to_csv(r'../InputData/SmallDataset/SmallMisClass_3_20.csv', index = False, header=True)\n"
   ],
   "metadata": {
    "collapsed": false,
    "pycharm": {
     "name": "#%%\n"
    }
   }
  },
  {
   "cell_type": "code",
   "execution_count": null,
   "outputs": [],
   "source": [
    "SmallWholes_13_100 = adult3[adult3.columns].head(100)\n",
    "SmallWholes_13_100.to_csv(r'../InputData/SmallDataset/SmallWhole_13_100.csv', index = False, header=True)\n",
    "SmallWholes_13_100.to_csv(r'../InputData/SmallDataset/SmallMisClass_13_50.csv', index = False, header=True)\n"
   ],
   "metadata": {
    "collapsed": false,
    "pycharm": {
     "name": "#%%\n"
    }
   }
  },
  {
   "cell_type": "code",
   "execution_count": null,
   "outputs": [],
   "source": [
    "\n",
    "SmallWholes_13_1000 = adult3[adult3.columns].head(1000)\n",
    "SmallWholes_13_1000.to_csv(r'../InputData/SmallDataset/SmallWhole_13_1000.csv', index = False, header=True)\n",
    "SmallWholes_13_1000.head(500).to_csv(r'../InputData/SmallDataset/SmallMisClass_13_500.csv', index = False, header=True)"
   ],
   "metadata": {
    "collapsed": false,
    "pycharm": {
     "name": "#%%\n"
    }
   }
  },
  {
   "cell_type": "code",
   "execution_count": null,
   "outputs": [],
   "source": [
    "\n",
    "SmallWholes_13_1000 = adult3[adult3.columns].head(10000)\n",
    "SmallWholes_13_1000.to_csv(r'../InputData/SmallDataset/SmallWhole_13_10000.csv', index = False, header=True)\n",
    "SmallWholes_13_1000.head(5000).to_csv(r'../InputData/SmallDataset/SmallMisClass_13_5000.csv', index = False, header=True)\n",
    "\n"
   ],
   "metadata": {
    "collapsed": false,
    "pycharm": {
     "name": "#%%\n"
    }
   }
  },
  {
   "cell_type": "code",
   "execution_count": null,
   "outputs": [],
   "source": [
    "# this is dataset with income levels\n",
    "adult2 = pd.read_csv(\"../../InputData/AdultDataset/CleanAdult2.csv\")\n",
    "\n",
    "s = adult2.columns[0:5].tolist()\n",
    "s.append('income')"
   ],
   "metadata": {
    "collapsed": false,
    "pycharm": {
     "name": "#%%\n"
    }
   }
  },
  {
   "cell_type": "code",
   "execution_count": null,
   "outputs": [],
   "source": [
    "Small_5_20_income = adult2[s].head(20)\n",
    "Small_5_20_income\n"
   ],
   "metadata": {
    "collapsed": false,
    "pycharm": {
     "name": "#%%\n"
    }
   }
  },
  {
   "cell_type": "code",
   "execution_count": null,
   "outputs": [],
   "source": [
    "\n",
    "Small_5_20_income.to_csv(\"../../InputData/AdultDataset/SmallDataset/Small_5_20_income.csv\")\n"
   ],
   "metadata": {
    "collapsed": false,
    "pycharm": {
     "name": "#%%\n"
    }
   }
  },
  {
   "cell_type": "markdown",
   "source": [
    "# 2. Less attributes datasets"
   ],
   "metadata": {
    "collapsed": false
   }
  },
  {
   "cell_type": "code",
   "execution_count": null,
   "outputs": [],
   "source": [
    "adult3 = pd.read_csv(\"../InputData/CleanAdult3.csv\")\n",
    "print(adult3.shape)\n",
    "print(adult3[:5])\n",
    "selected_attributes = ['age', 'education', 'marital-status', 'race', 'gender']\n",
    "LessAttributeDataset = adult3[selected_attributes]\n",
    "LessAttributeDataset.describe()"
   ],
   "metadata": {
    "collapsed": false,
    "pycharm": {
     "name": "#%%\n"
    }
   }
  },
  {
   "cell_type": "markdown",
   "source": [
    "# 3. smaller data sizes"
   ],
   "metadata": {
    "collapsed": false
   }
  },
  {
   "cell_type": "markdown",
   "source": [
    "## 3.1 Adult data"
   ],
   "metadata": {
    "collapsed": false
   }
  },
  {
   "cell_type": "code",
   "execution_count": null,
   "outputs": [],
   "source": [
    "# 45222 rows\n",
    "\n",
    "data = pd.read_csv(\"../../InputData/AdultDataset/CleanAdult2.csv\")"
   ],
   "metadata": {
    "collapsed": false,
    "pycharm": {
     "name": "#%%\n"
    }
   }
  },
  {
   "cell_type": "code",
   "execution_count": null,
   "outputs": [],
   "source": [
    "def makeDataSetWithSize(datasize, wholesize, filepath, output_pre):\n",
    "    index_list = random.sample(range(0, wholesize), datasize)\n",
    "    wholedata = pd.read_csv(filepath)\n",
    "    newdata = wholedata.iloc[index_list, : ]\n",
    "    output_path = output_pre + str(datasize) + \".csv\"\n",
    "    newdata.to_csv(output_path)"
   ],
   "metadata": {
    "collapsed": false,
    "pycharm": {
     "name": "#%%\n"
    }
   }
  },
  {
   "cell_type": "code",
   "execution_count": null,
   "outputs": [],
   "source": [
    "file_path = r\"../../InputData/CleanAdult2.csv\"\n",
    "output_pre = r\"../../InputData/DifferentDataSizes/\"\n",
    "makeDataSetWithSize(40000, 45222, file_path, output_pre)"
   ],
   "metadata": {
    "collapsed": false,
    "pycharm": {
     "name": "#%%\n"
    }
   }
  },
  {
   "cell_type": "markdown",
   "source": [
    "## 3.1 Compas data"
   ],
   "metadata": {
    "collapsed": false
   }
  },
  {
   "cell_type": "code",
   "execution_count": null,
   "outputs": [],
   "source": [
    "# 6889 rows\n",
    "compas_data = pd.read_csv(\"../../InputData/RecidivismData/RecidivismData_att_classified.csv\")\n",
    "\n",
    "len(compas_data)\n"
   ],
   "metadata": {
    "collapsed": false,
    "pycharm": {
     "name": "#%%\n"
    }
   }
  },
  {
   "cell_type": "code",
   "execution_count": null,
   "outputs": [],
   "source": [
    "file_path = r\"../../InputData/RecidivismData/RecidivismData_att_classified.csv\"\n",
    "output_pre = r\"../../InputData/RecidivismData/DifferentDataSizes/\"\n",
    "makeDataSetWithSize(6000, 6889, file_path, output_pre)\n"
   ],
   "metadata": {
    "collapsed": false,
    "pycharm": {
     "name": "#%%\n"
    }
   }
  },
  {
   "cell_type": "markdown",
   "source": [
    "## define categorizations"
   ],
   "metadata": {
    "collapsed": false
   }
  },
  {
   "cell_type": "code",
   "execution_count": null,
   "outputs": [],
   "source": [
    "\n",
    "def age(x):\n",
    "    if x <= 30:\n",
    "        return 0\n",
    "    elif x <= 50:\n",
    "        return 1\n",
    "    else:\n",
    "        return 2\n",
    "\n",
    "\n",
    "def capitalgain(x):\n",
    "    if x == 0:\n",
    "        return 0\n",
    "    else:\n",
    "        return 1\n",
    "\n",
    "\n",
    "def capitalloss(x):\n",
    "    if x == 0:\n",
    "        return 0\n",
    "    else:\n",
    "        return 1\n",
    "\n",
    "\n",
    "def hoursperweek(x):\n",
    "    if x < 50:\n",
    "        return 0\n",
    "    else:\n",
    "        return 1"
   ],
   "metadata": {
    "collapsed": false,
    "pycharm": {
     "name": "#%%\n"
    }
   }
  },
  {
   "cell_type": "code",
   "execution_count": null,
   "outputs": [],
   "source": [
    "def categorize(data):\n",
    "    data['age'] = data['age'].map(lambda x: age(x))\n",
    "    data['capital-gain'] = data['capital-gain'].map(lambda x: capitalgain(x))\n",
    "    data['capital-loss'] = data['capital-loss'].map(lambda x: capitalloss(x))\n",
    "    data['hours-per-week'] = data['hours-per-week'].map(lambda x: hoursperweek(x))\n",
    "\n",
    "\n"
   ],
   "metadata": {
    "collapsed": false,
    "pycharm": {
     "name": "#%%\n"
    }
   }
  },
  {
   "cell_type": "markdown",
   "source": [
    "# 4. larger data sizes, by generating new tuples"
   ],
   "metadata": {
    "collapsed": false
   }
  },
  {
   "cell_type": "markdown",
   "source": [
    "## 4.1 Adult data"
   ],
   "metadata": {
    "collapsed": false
   }
  },
  {
   "cell_type": "code",
   "execution_count": null,
   "outputs": [],
   "source": [
    "# 45222 rows\n",
    "original_adult_data = pd.read_csv(r\"../../InputData/AdultDataset/ForClassification/CleanAdult_numerical.csv\")\n",
    "\n",
    "print(len(original_adult_data))\n",
    "original_adult_data.describe()\n"
   ],
   "metadata": {
    "collapsed": false,
    "pycharm": {
     "name": "#%%\n"
    }
   }
  },
  {
   "cell_type": "code",
   "execution_count": null,
   "outputs": [],
   "source": [
    "len(original_adult_data)\n",
    "for index, row in original_adult_data.iterrows():\n",
    "    rowlist = row.tolist()\n",
    "    print(rowlist)"
   ],
   "metadata": {
    "collapsed": false,
    "pycharm": {
     "name": "#%%\n"
    }
   }
  },
  {
   "cell_type": "code",
   "execution_count": null,
   "outputs": [],
   "source": [
    "def generateTuple(original_data):\n",
    "    describe_data = original_data.describe()\n",
    "    attributes = original_data.columns.tolist()\n",
    "    tuple = list()\n",
    "    for att in attributes:\n",
    "        min = int(describe_data[att]['min'])\n",
    "        max = int(describe_data[att]['max'])\n",
    "        a = random.randint(min, max)\n",
    "        tuple.append(a)\n",
    "    return tuple\n"
   ],
   "metadata": {
    "collapsed": false,
    "pycharm": {
     "name": "#%%\n"
    }
   }
  },
  {
   "cell_type": "code",
   "execution_count": null,
   "outputs": [],
   "source": [
    "# def PatternEqual(m, P):\n",
    "#     length = len(m)\n",
    "#     if len(P) != length:\n",
    "#         return False\n",
    "#     for i in range(length):\n",
    "#         if m[i] != P[i]:\n",
    "#             return False\n",
    "#     return True\n",
    "#\n",
    "# def patterns_in_data(p, data):\n",
    "#     for index, row in data.iterrows():\n",
    "#         rowlist = row.tolist()\n",
    "#         if PatternEqual(p, rowlist):\n",
    "#             return True\n",
    "#     return False"
   ],
   "metadata": {
    "collapsed": false,
    "pycharm": {
     "name": "#%%\n"
    }
   }
  },
  {
   "cell_type": "code",
   "execution_count": null,
   "outputs": [],
   "source": [
    "def extendDataset(newsize, filepath, output_pre):\n",
    "    global tp\n",
    "    original_data = pd.read_csv(filepath)\n",
    "\n",
    "    original_data_pc = pattern_count.PatternCounter(original_data, encoded=False)\n",
    "    original_data_pc.parse_data()\n",
    "\n",
    "    oldsize = len(original_data)\n",
    "    num_new_tuples = newsize - oldsize\n",
    "    print(num_new_tuples)\n",
    "    for i in range(num_new_tuples):\n",
    "        tp = generateTuple(original_data)\n",
    "        original_data.loc[len(original_data)] = tp\n",
    "        if i % 1000 == 0:\n",
    "            print(i, tp)\n",
    "    output_path = output_pre + str(newsize) + \".csv\"\n",
    "    original_data.to_csv(output_path, index=False)\n"
   ],
   "metadata": {
    "collapsed": false,
    "pycharm": {
     "name": "#%%\n"
    }
   }
  },
  {
   "cell_type": "code",
   "execution_count": null,
   "outputs": [],
   "source": [
    "file_path = r\"../../InputData/AdultDataset/ForClassification/CleanAdult_numerical.csv\"\n",
    "\n",
    "output_pre = r\"../../InputData/AdultDataset/LargeDatasets_without_cat/\"\n",
    "extendDataset(50000, file_path, output_pre)\n"
   ],
   "metadata": {
    "collapsed": false,
    "pycharm": {
     "name": "#%%\n"
    }
   }
  },
  {
   "cell_type": "code",
   "execution_count": 105,
   "outputs": [
    {
     "data": {
      "text/plain": "   age  workclass  education  educational-num  marital-status  occupation  \\\n0   65          4         13                8               5          12   \n1   84          3         13               10               2           6   \n2   71          5          3                4               3          12   \n3   45          2          8               11               0           0   \n\n   relationship  race  gender  capital-gain  capital-loss  hours-per-week  \\\n0             3     2       1         70842           575               9   \n1             1     1       1         70966           663              12   \n2             1     0       0         14560          2444              62   \n3             4     4       0             0             0              55   \n\n   native-country  act pred  \n0              21    0  [1]  \n1               3    1  [0]  \n2              39    0  [1]  \n3              38    1  [0]  ",
      "text/html": "<div>\n<style scoped>\n    .dataframe tbody tr th:only-of-type {\n        vertical-align: middle;\n    }\n\n    .dataframe tbody tr th {\n        vertical-align: top;\n    }\n\n    .dataframe thead th {\n        text-align: right;\n    }\n</style>\n<table border=\"1\" class=\"dataframe\">\n  <thead>\n    <tr style=\"text-align: right;\">\n      <th></th>\n      <th>age</th>\n      <th>workclass</th>\n      <th>education</th>\n      <th>educational-num</th>\n      <th>marital-status</th>\n      <th>occupation</th>\n      <th>relationship</th>\n      <th>race</th>\n      <th>gender</th>\n      <th>capital-gain</th>\n      <th>capital-loss</th>\n      <th>hours-per-week</th>\n      <th>native-country</th>\n      <th>act</th>\n      <th>pred</th>\n    </tr>\n  </thead>\n  <tbody>\n    <tr>\n      <th>0</th>\n      <td>65</td>\n      <td>4</td>\n      <td>13</td>\n      <td>8</td>\n      <td>5</td>\n      <td>12</td>\n      <td>3</td>\n      <td>2</td>\n      <td>1</td>\n      <td>70842</td>\n      <td>575</td>\n      <td>9</td>\n      <td>21</td>\n      <td>0</td>\n      <td>[1]</td>\n    </tr>\n    <tr>\n      <th>1</th>\n      <td>84</td>\n      <td>3</td>\n      <td>13</td>\n      <td>10</td>\n      <td>2</td>\n      <td>6</td>\n      <td>1</td>\n      <td>1</td>\n      <td>1</td>\n      <td>70966</td>\n      <td>663</td>\n      <td>12</td>\n      <td>3</td>\n      <td>1</td>\n      <td>[0]</td>\n    </tr>\n    <tr>\n      <th>2</th>\n      <td>71</td>\n      <td>5</td>\n      <td>3</td>\n      <td>4</td>\n      <td>3</td>\n      <td>12</td>\n      <td>1</td>\n      <td>0</td>\n      <td>0</td>\n      <td>14560</td>\n      <td>2444</td>\n      <td>62</td>\n      <td>39</td>\n      <td>0</td>\n      <td>[1]</td>\n    </tr>\n    <tr>\n      <th>3</th>\n      <td>45</td>\n      <td>2</td>\n      <td>8</td>\n      <td>11</td>\n      <td>0</td>\n      <td>0</td>\n      <td>4</td>\n      <td>4</td>\n      <td>0</td>\n      <td>0</td>\n      <td>0</td>\n      <td>55</td>\n      <td>38</td>\n      <td>1</td>\n      <td>[0]</td>\n    </tr>\n  </tbody>\n</table>\n</div>"
     },
     "execution_count": 105,
     "metadata": {},
     "output_type": "execute_result"
    }
   ],
   "source": [
    "f = pd.read_csv(r\"../../InputData/AdultDataset/LargeDatasets_without_cat/80000_mis.csv\")\n",
    "f[:4]\n",
    "\n"
   ],
   "metadata": {
    "collapsed": false,
    "pycharm": {
     "name": "#%%\n"
    }
   }
  },
  {
   "cell_type": "code",
   "execution_count": 106,
   "outputs": [
    {
     "name": "stdout",
     "output_type": "stream",
     "text": [
      "12965\n",
      "                age     workclass     education  educational-num  \\\n",
      "count  12965.000000  12965.000000  12965.000000     12965.000000   \n",
      "mean      50.164597      2.730505      8.539144         9.251600   \n",
      "std       19.284451      1.797792      4.473476         4.131546   \n",
      "min       17.000000      0.000000      0.000000         1.000000   \n",
      "25%       35.000000      2.000000      5.000000         6.000000   \n",
      "50%       48.000000      2.000000      9.000000        10.000000   \n",
      "75%       64.000000      4.000000     12.000000        13.000000   \n",
      "max       90.000000      6.000000     15.000000        16.000000   \n",
      "\n",
      "       marital-status    occupation  relationship          race        gender  \\\n",
      "count    12965.000000  12965.000000  12965.000000  12965.000000  12965.000000   \n",
      "mean         2.737293      6.450212      1.966525      2.558349      0.603085   \n",
      "std          1.804363      4.097217      1.854418      1.490304      0.489277   \n",
      "min          0.000000      0.000000      0.000000      0.000000      0.000000   \n",
      "25%          2.000000      3.000000      0.000000      1.000000      0.000000   \n",
      "50%          2.000000      6.000000      1.000000      3.000000      1.000000   \n",
      "75%          4.000000     10.000000      4.000000      4.000000      1.000000   \n",
      "max          6.000000     13.000000      5.000000      4.000000      1.000000   \n",
      "\n",
      "       capital-gain  capital-loss  hours-per-week  native-country  \\\n",
      "count  12965.000000  12965.000000    12965.000000    12965.000000   \n",
      "mean   33780.142923   1470.652526       47.985808       25.300116   \n",
      "std    33276.004649   1439.023245       24.532971       12.945091   \n",
      "min        0.000000      0.000000        1.000000        0.000000   \n",
      "25%        0.000000      0.000000       34.000000       14.000000   \n",
      "50%    26243.000000   1162.000000       44.000000       29.000000   \n",
      "75%    62797.000000   2714.000000       65.000000       38.000000   \n",
      "max    99999.000000   4355.000000       99.000000       40.000000   \n",
      "\n",
      "                act  \n",
      "count  12965.000000  \n",
      "mean       0.499576  \n",
      "std        0.500019  \n",
      "min        0.000000  \n",
      "25%        0.000000  \n",
      "50%        0.000000  \n",
      "75%        1.000000  \n",
      "max        1.000000  \n"
     ]
    }
   ],
   "source": [
    "print(len(f))\n",
    "\n",
    "print(f.describe())\n",
    "\n",
    "categorize(f)\n",
    "\n",
    "f.to_csv(r\"../../InputData/AdultDataset/LargeDatasets_cat/80000_mis.csv\", index=False)"
   ],
   "metadata": {
    "collapsed": false,
    "pycharm": {
     "name": "#%%\n"
    }
   }
  },
  {
   "cell_type": "code",
   "execution_count": 88,
   "outputs": [
    {
     "name": "stdout",
     "output_type": "stream",
     "text": [
      "               age    workclass    education  educational-num  marital-status  \\\n",
      "count  6577.000000  6577.000000  6577.000000      6577.000000     6577.000000   \n",
      "mean      1.216208     2.523643     9.489281         9.884142        2.456439   \n",
      "std       0.679307     1.508117     4.081766         3.578451        1.520829   \n",
      "min       0.000000     0.000000     0.000000         1.000000        0.000000   \n",
      "25%       1.000000     2.000000     7.000000         9.000000        2.000000   \n",
      "50%       1.000000     2.000000    10.000000        10.000000        2.000000   \n",
      "75%       2.000000     4.000000    12.000000        13.000000        3.000000   \n",
      "max       2.000000     6.000000    15.000000        16.000000        6.000000   \n",
      "\n",
      "        occupation  relationship         race       gender  capital-gain  \\\n",
      "count  6577.000000   6577.000000  6577.000000  6577.000000   6577.000000   \n",
      "mean      6.375095      1.411890     3.101110     0.704272      0.382393   \n",
      "std       4.126343      1.803753     1.351182     0.456404      0.486009   \n",
      "min       0.000000      0.000000     0.000000     0.000000      0.000000   \n",
      "25%       3.000000      0.000000     2.000000     0.000000      0.000000   \n",
      "50%       6.000000      0.000000     4.000000     1.000000      0.000000   \n",
      "75%      10.000000      3.000000     4.000000     1.000000      1.000000   \n",
      "max      13.000000      5.000000     4.000000     1.000000      1.000000   \n",
      "\n",
      "       capital-loss  hours-per-week  native-country          act  \n",
      "count   6577.000000     6577.000000     6577.000000  6577.000000  \n",
      "mean       0.388019        0.381785       30.405504     0.509655  \n",
      "std        0.487336        0.485861       11.786611     0.499945  \n",
      "min        0.000000        0.000000        0.000000     0.000000  \n",
      "25%        0.000000        0.000000       24.000000     0.000000  \n",
      "50%        0.000000        0.000000       38.000000     1.000000  \n",
      "75%        1.000000        1.000000       38.000000     1.000000  \n",
      "max        1.000000        1.000000       40.000000     1.000000  \n"
     ]
    }
   ],
   "source": [
    "print(f.describe())\n"
   ],
   "metadata": {
    "collapsed": false,
    "pycharm": {
     "name": "#%%\n"
    }
   }
  },
  {
   "cell_type": "code",
   "execution_count": null,
   "outputs": [],
   "source": [],
   "metadata": {
    "collapsed": false,
    "pycharm": {
     "name": "#%%\n"
    }
   }
  },
  {
   "cell_type": "code",
   "execution_count": null,
   "outputs": [],
   "source": [],
   "metadata": {
    "collapsed": false,
    "pycharm": {
     "name": "#%%\n"
    }
   }
  },
  {
   "cell_type": "code",
   "execution_count": null,
   "outputs": [],
   "source": [
    "\n",
    "file_path = r\"../../InputData/AdultDataset/LargeDatasets_without_cat/95000.csv\"\n",
    "output_pre = r\"../../InputData/AdultDataset/LargeDatasets_without_cat/\"\n",
    "extendDataset(100000, file_path, output_pre)\n"
   ],
   "metadata": {
    "collapsed": false,
    "pycharm": {
     "name": "#%%\n"
    }
   }
  },
  {
   "cell_type": "code",
   "execution_count": null,
   "outputs": [],
   "source": [
    "\n",
    "f = pd.read_csv(r\"../../InputData/AdultDataset/LargeDatasets_without_cat/100000.csv\")\n",
    "f[:4]"
   ],
   "metadata": {
    "collapsed": false,
    "pycharm": {
     "name": "#%%\n"
    }
   }
  },
  {
   "cell_type": "code",
   "execution_count": null,
   "outputs": [],
   "source": [
    "print(len(f))\n",
    "\n",
    "print(f.describe())\n",
    "\n",
    "categorize(f)\n",
    "\n",
    "f.to_csv(r\"../../InputData/AdultDataset/LargeDatasets_cat/100000.csv\")\n",
    "\n",
    "\n"
   ],
   "metadata": {
    "collapsed": false,
    "pycharm": {
     "name": "#%%\n"
    }
   }
  },
  {
   "cell_type": "code",
   "execution_count": null,
   "outputs": [],
   "source": [],
   "metadata": {
    "collapsed": false,
    "pycharm": {
     "name": "#%%\n"
    }
   }
  },
  {
   "cell_type": "markdown",
   "source": [
    "## 4.2 Compas Data"
   ],
   "metadata": {
    "collapsed": false
   }
  },
  {
   "cell_type": "code",
   "execution_count": null,
   "outputs": [],
   "source": [
    "# 45222 rows\n",
    "original_compas_data = pd.read_csv(r\"../../InputData/RecidivismData/RecidivismData_att_classified.csv\")\n",
    "\n",
    "original_compas_data.describe()\n",
    "\n",
    "# 6889\n",
    "print(len(original_compas_data))"
   ],
   "metadata": {
    "collapsed": false,
    "pycharm": {
     "name": "#%%\n"
    }
   }
  },
  {
   "cell_type": "code",
   "execution_count": null,
   "outputs": [],
   "source": [
    "original_compas_data[:6000].to_csv(r\"../../InputData/RecidivismData/LargerDatasets/6000.csv\")"
   ],
   "metadata": {
    "collapsed": false,
    "pycharm": {
     "name": "#%%\n"
    }
   }
  },
  {
   "cell_type": "code",
   "execution_count": null,
   "outputs": [],
   "source": [
    "file_path = r\"../../InputData/RecidivismData/RecidivismData_att_classified.csv\"\n",
    "output_pre = r\"../../InputData/RecidivismData/LargerDatasets/\"\n",
    "extendDataset(8000, file_path, output_pre)"
   ],
   "metadata": {
    "collapsed": false,
    "pycharm": {
     "name": "#%%\n"
    }
   }
  },
  {
   "cell_type": "code",
   "execution_count": null,
   "outputs": [],
   "source": [],
   "metadata": {
    "collapsed": false,
    "pycharm": {
     "name": "#%%\n"
    }
   }
  },
  {
   "cell_type": "markdown",
   "source": [
    "## 4.2 Creditcard Data"
   ],
   "metadata": {
    "collapsed": false
   }
  },
  {
   "cell_type": "code",
   "execution_count": null,
   "outputs": [],
   "source": [
    "# 45222 rows\n",
    "original_creditcard_data = pd.read_csv(r\"../../InputData/CreditcardDataset/credit_card_clients_categorized.csv\")\n",
    "\n",
    "original_creditcard_data.describe()\n",
    "\n",
    "# 6889\n",
    "print(len(original_creditcard_data))"
   ],
   "metadata": {
    "collapsed": false,
    "pycharm": {
     "name": "#%%\n"
    }
   }
  },
  {
   "cell_type": "code",
   "execution_count": null,
   "outputs": [],
   "source": [
    "original_creditcard_data[:30000].to_csv(r\"../../InputData/CreditcardDataset/LargerDatasets/30000.csv\")"
   ],
   "metadata": {
    "collapsed": false,
    "pycharm": {
     "name": "#%%\n"
    }
   }
  },
  {
   "cell_type": "code",
   "execution_count": null,
   "outputs": [],
   "source": [
    "file_path = r\"../../InputData/CreditcardDataset/LargerDatasets/35000.csv\"\n",
    "output_pre = r\"../../InputData/CreditcardDataset/LargerDatasets/\"\n",
    "extendDataset(40000, file_path, output_pre)"
   ],
   "metadata": {
    "collapsed": false,
    "pycharm": {
     "name": "#%%\n"
    }
   }
  },
  {
   "cell_type": "code",
   "execution_count": null,
   "outputs": [],
   "source": [],
   "metadata": {
    "collapsed": false,
    "pycharm": {
     "name": "#%%\n"
    }
   }
  },
  {
   "cell_type": "code",
   "execution_count": null,
   "outputs": [],
   "source": [
    "\n",
    "file_path = r\"../../InputData/CreditcardDataset/LargerDatasets/40000.csv\"\n",
    "output_pre = r\"../../InputData/CreditcardDataset/LargerDatasets/\"\n",
    "extendDataset(45000, file_path, output_pre)\n"
   ],
   "metadata": {
    "collapsed": false,
    "pycharm": {
     "name": "#%%\n"
    }
   }
  },
  {
   "cell_type": "code",
   "execution_count": null,
   "outputs": [],
   "source": [
    "\n",
    "file_path = r\"../../InputData/CreditcardDataset/LargerDatasets/45000.csv\"\n",
    "output_pre = r\"../../InputData/CreditcardDataset/LargerDatasets/\"\n",
    "extendDataset(50000, file_path, output_pre)\n",
    "\n"
   ],
   "metadata": {
    "collapsed": false,
    "pycharm": {
     "name": "#%%\n"
    }
   }
  },
  {
   "cell_type": "code",
   "execution_count": null,
   "outputs": [],
   "source": [
    "\n",
    "\n",
    "file_path = r\"../../InputData/CreditcardDataset/LargerDatasets/50000.csv\"\n",
    "output_pre = r\"../../InputData/CreditcardDataset/LargerDatasets/\"\n",
    "extendDataset(55000, file_path, output_pre)\n"
   ],
   "metadata": {
    "collapsed": false,
    "pycharm": {
     "name": "#%%\n"
    }
   }
  },
  {
   "cell_type": "code",
   "execution_count": null,
   "outputs": [],
   "source": [
    "\n",
    "file_path = r\"../../InputData/CreditcardDataset/LargerDatasets/55000.csv\"\n",
    "output_pre = r\"../../InputData/CreditcardDataset/LargerDatasets/\"\n",
    "extendDataset(60000, file_path, output_pre)\n",
    "\n"
   ],
   "metadata": {
    "collapsed": false,
    "pycharm": {
     "name": "#%%\n"
    }
   }
  },
  {
   "cell_type": "code",
   "execution_count": null,
   "outputs": [],
   "source": [],
   "metadata": {
    "collapsed": false,
    "pycharm": {
     "name": "#%%\n"
    }
   }
  }
 ],
 "metadata": {
  "kernelspec": {
   "display_name": "Python 3",
   "language": "python",
   "name": "python3"
  },
  "language_info": {
   "codemirror_mode": {
    "name": "ipython",
    "version": 2
   },
   "file_extension": ".py",
   "mimetype": "text/x-python",
   "name": "python",
   "nbconvert_exporter": "python",
   "pygments_lexer": "ipython2",
   "version": "2.7.6"
  }
 },
 "nbformat": 4,
 "nbformat_minor": 0
}