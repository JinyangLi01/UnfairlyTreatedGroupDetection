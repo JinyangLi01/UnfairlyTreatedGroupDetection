{
 "cells": [
  {
   "cell_type": "markdown",
   "source": [
    "This is to preprocess compasa data for ranking experiments.\n",
    "ranked file with categorized attributes : /InputData/CompasData/general/compas_data_cat_necessary-att_ranked.csv"
   ],
   "metadata": {
    "collapsed": false
   }
  },
  {
   "cell_type": "code",
   "execution_count": 5,
   "outputs": [],
   "source": [
    "import numpy as np\n",
    "import pandas as pd\n",
    "from sklearn.tree import DecisionTreeClassifier\n",
    "from sklearn.model_selection import train_test_split\n",
    "from sklearn.metrics import accuracy_score\n"
   ],
   "metadata": {
    "collapsed": false,
    "pycharm": {
     "name": "#%%\n"
    }
   }
  },
  {
   "cell_type": "markdown",
   "source": [
    "## number of small groups"
   ],
   "metadata": {
    "collapsed": false,
    "pycharm": {
     "name": "#%% md\n"
    }
   }
  },
  {
   "cell_type": "code",
   "execution_count": 84,
   "outputs": [],
   "source": [
    "\n",
    "compas_data_necessary_att_cate = pd.read_csv(r\"../../InputData/CompasData/general/compas_data_cat_necessary_att.csv\")\n"
   ],
   "metadata": {
    "collapsed": false,
    "pycharm": {
     "name": "#%%\n"
    }
   }
  },
  {
   "cell_type": "code",
   "execution_count": 93,
   "outputs": [
    {
     "name": "stdout",
     "output_type": "stream",
     "text": [
      "785\n",
      "169\n",
      "32\n",
      "193\n",
      "33\n",
      "303\n",
      "1014\n"
     ]
    }
   ],
   "source": [
    "print(len(compas_data_necessary_att_cate[compas_data_necessary_att_cate['MarriageStatus_C'] == 1]))\n",
    "\n",
    "print(len(compas_data_necessary_att_cate[compas_data_necessary_att_cate['MarriageStatus_C'] == 2]))\n",
    "\n",
    "print(len(compas_data_necessary_att_cate[compas_data_necessary_att_cate['MarriageStatus_C'] == 3]))\n",
    "\n",
    "print(len(compas_data_necessary_att_cate[compas_data_necessary_att_cate['MarriageStatus_C'] == 4]))\n",
    "\n",
    "print(len(compas_data_necessary_att_cate[compas_data_necessary_att_cate['MarriageStatus_C'] == 5]))\n",
    "\n",
    "print(len(compas_data_necessary_att_cate[compas_data_necessary_att_cate['MarriageStatus_C'] == 6]))\n",
    "\n",
    "print(len(compas_data_necessary_att_cate[compas_data_necessary_att_cate['race_C'] == 2]))\n"
   ],
   "metadata": {
    "collapsed": false,
    "pycharm": {
     "name": "#%%\n"
    }
   }
  },
  {
   "cell_type": "code",
   "execution_count": 94,
   "outputs": [
    {
     "name": "stdout",
     "output_type": "stream",
     "text": [
      "67\n"
     ]
    },
    {
     "name": "stderr",
     "output_type": "stream",
     "text": [
      "/Users/jinyangli/opt/anaconda3/envs/py37/lib/python3.7/site-packages/ipykernel_launcher.py:3: UserWarning: Boolean Series key will be reindexed to match DataFrame index.\n",
      "  This is separate from the ipykernel package so we can avoid doing imports until\n"
     ]
    }
   ],
   "source": [
    "black = compas_data_necessary_att_cate[compas_data_necessary_att_cate['race_C'] == 0 ]\n",
    "\n",
    "print(len(black[compas_data_necessary_att_cate['MarriageStatus_C'] == 6]))\n",
    "\n",
    "\n"
   ],
   "metadata": {
    "collapsed": false,
    "pycharm": {
     "name": "#%%\n"
    }
   }
  },
  {
   "cell_type": "markdown",
   "source": [
    "## categorize: age, sex, race, marriage status\n"
   ],
   "metadata": {
    "collapsed": false,
    "pycharm": {
     "name": "#%% md\n"
    }
   }
  },
  {
   "cell_type": "code",
   "execution_count": null,
   "outputs": [],
   "source": [
    "\n",
    "compas_data = pd.read_csv(\"../../InputData/CompasData/RecidivismData_Original-categorized.csv\")\n",
    "print(len(compas_data))\n",
    "compas_data[:4]"
   ],
   "metadata": {
    "collapsed": false,
    "pycharm": {
     "name": "#%%\n"
    }
   }
  },
  {
   "cell_type": "code",
   "execution_count": null,
   "outputs": [],
   "source": [
    "compas_data = compas_data.drop('ageC', axis=1)\n",
    "compas_data = compas_data.drop('sexC', axis=1)\n",
    "compas_data = compas_data.drop('raceC', axis=1)\n",
    "compas_data = compas_data.drop('MC', axis=1)\n",
    "compas_data[:4]"
   ],
   "metadata": {
    "collapsed": false,
    "pycharm": {
     "name": "#%%\n"
    }
   }
  },
  {
   "cell_type": "code",
   "execution_count": null,
   "outputs": [],
   "source": [
    "compas_data.to_csv(r\"../../InputData/CompasData/CompasData_original_classified_col_cropped.csv\")"
   ],
   "metadata": {
    "collapsed": false,
    "pycharm": {
     "name": "#%%\n"
    }
   }
  },
  {
   "cell_type": "code",
   "execution_count": null,
   "outputs": [],
   "source": [
    "compas_data.describe()\n"
   ],
   "metadata": {
    "collapsed": false,
    "pycharm": {
     "name": "#%%\n"
    }
   }
  },
  {
   "cell_type": "code",
   "execution_count": null,
   "outputs": [],
   "source": [
    "compas_data['age_binary'] = [0]*6889\n",
    "compas_data['age_bucketized'] = [0]*6889\n",
    "compas_data['sex_binary'] = [0]*6889\n",
    "compas_data['race_C'] = [0]*6889"
   ],
   "metadata": {
    "collapsed": false,
    "pycharm": {
     "name": "#%%\n"
    }
   }
  },
  {
   "cell_type": "code",
   "execution_count": null,
   "outputs": [],
   "source": [
    "compas_data[:4]\n"
   ],
   "metadata": {
    "collapsed": false,
    "pycharm": {
     "name": "#%%\n"
    }
   }
  },
  {
   "cell_type": "code",
   "execution_count": null,
   "outputs": [],
   "source": [
    "\n",
    "def age_binary(x):\n",
    "    if x <= 35:\n",
    "        return 0\n",
    "    else:\n",
    "        return 1\n",
    "\n",
    "\n",
    "print(compas_data['age_binary'])\n",
    "compas_data['age_binary'] = compas_data['age'].map(lambda x: age_binary(x))\n",
    "print(compas_data['age_binary'])"
   ],
   "metadata": {
    "collapsed": false,
    "pycharm": {
     "name": "#%%\n"
    }
   }
  },
  {
   "cell_type": "code",
   "execution_count": null,
   "outputs": [],
   "source": [
    "\n",
    "def age_bucketized(x):\n",
    "    if x <= 30:\n",
    "        return 0\n",
    "    elif x <= 40:\n",
    "        return 1\n",
    "    else:\n",
    "        return 2\n",
    "\n",
    "\n",
    "print(compas_data['age_bucketized'])\n",
    "compas_data['age_bucketized'] = compas_data['age'].map(lambda x: age_binary(x))\n",
    "print(compas_data['age_bucketized'])\n"
   ],
   "metadata": {
    "collapsed": false,
    "pycharm": {
     "name": "#%%\n"
    }
   }
  },
  {
   "cell_type": "code",
   "execution_count": null,
   "outputs": [],
   "source": [
    "compas_data_ageok = compas_data.copy()"
   ],
   "metadata": {
    "collapsed": false,
    "pycharm": {
     "name": "#%%\n"
    }
   }
  },
  {
   "cell_type": "code",
   "execution_count": null,
   "outputs": [],
   "source": [
    "\n",
    "def sex(x):\n",
    "    if x == \"Male\":\n",
    "        return 0\n",
    "    else:\n",
    "        return 1\n",
    "\n",
    "\n",
    "print(compas_data_ageok['sex_binary'])\n",
    "compas_data_ageok['sex_binary'] = compas_data_ageok['sex'].map(lambda x: sex(x))\n",
    "print(compas_data_ageok['sex_binary'])"
   ],
   "metadata": {
    "collapsed": false,
    "pycharm": {
     "name": "#%%\n"
    }
   }
  },
  {
   "cell_type": "code",
   "execution_count": null,
   "outputs": [],
   "source": [
    "\n",
    "def race(x):\n",
    "    if x == \"African-American\":\n",
    "        return 0\n",
    "    elif x == \"Caucasian\":\n",
    "        return 1\n",
    "    else:\n",
    "        return 2\n",
    "\n",
    "\n",
    "print(compas_data_ageok['race_C'])\n",
    "compas_data_ageok['race_C'] = compas_data_ageok['race'].map(lambda x: race(x))\n",
    "print(compas_data_ageok['race_C'])\n",
    "\n"
   ],
   "metadata": {
    "collapsed": false,
    "pycharm": {
     "name": "#%%\n"
    }
   }
  },
  {
   "cell_type": "code",
   "execution_count": 22,
   "outputs": [],
   "source": [
    "# printout\n",
    "\n",
    "compas_data_ageok.to_csv(r\"../../InputData/CompasData/ForRanking/CompasData_original_classified.csv\", index=False)\n"
   ],
   "metadata": {
    "collapsed": false,
    "pycharm": {
     "name": "#%%\n"
    }
   }
  },
  {
   "cell_type": "code",
   "execution_count": 78,
   "outputs": [],
   "source": [
    "compas_data = pd.read_csv(r\"../../InputData/CompasData/ForRanking/CompasData_original_classified.csv\", index_col=0)\n",
    "\n",
    "compas_describe = compas_data.describe()"
   ],
   "metadata": {
    "collapsed": false,
    "pycharm": {
     "name": "#%%\n"
    }
   }
  },
  {
   "cell_type": "code",
   "execution_count": 79,
   "outputs": [
    {
     "data": {
      "text/plain": "               age  juv_fel_count  decile_score  juv_misd_count  \\\ncount  6889.000000    6889.000000   6889.000000     6889.000000   \nmean     34.869792       0.068225      4.507621        0.090289   \nstd      11.924183       0.480444      2.855803        0.484343   \nmin      18.000000       0.000000      1.000000        0.000000   \n25%      25.000000       0.000000      2.000000        0.000000   \n50%      31.000000       0.000000      4.000000        0.000000   \n75%      43.000000       0.000000      7.000000        0.000000   \nmax      83.000000      20.000000     10.000000       13.000000   \n\n       juv_other_count  priors_count  days_b_screening_arrest  \\\ncount      6889.000000   6889.000000              6595.000000   \nmean          0.111047      3.466686                 2.206065   \nstd           0.508643      4.881592                71.840165   \nmin           0.000000      0.000000              -414.000000   \n25%           0.000000      0.000000                -1.000000   \n50%           0.000000      2.000000                -1.000000   \n75%           0.000000      5.000000                -1.000000   \nmax          17.000000     38.000000              1057.000000   \n\n       c_days_from_compas     is_recid  is_violent_recid  ...        start  \\\ncount         6868.000000  6889.000000       6889.000000  ...  6889.000000   \nmean            57.663221     0.479895          0.112353  ...    11.567281   \nstd            331.867889     0.499632          0.315823  ...    47.454454   \nmin              0.000000     0.000000          0.000000  ...     0.000000   \n25%              1.000000     0.000000          0.000000  ...     0.000000   \n50%              1.000000     0.000000          0.000000  ...     0.000000   \n75%              2.000000     1.000000          0.000000  ...     2.000000   \nmax           9485.000000     1.000000          1.000000  ...   937.000000   \n\n               end        event  two_year_recid  Violence_score  \\\ncount  6889.000000  6889.000000     6889.000000     6889.000000   \nmean    554.479315     0.382204        0.450428       -2.368951   \nstd     399.199550     0.485961        0.497573        0.871101   \nmin       0.000000     0.000000        0.000000       -4.630000   \n25%     149.000000     0.000000        0.000000       -2.990000   \n50%     532.000000     0.000000        0.000000       -2.330000   \n75%     914.000000     1.000000        1.000000       -1.740000   \nmax    1186.000000     1.000000        1.000000        0.930000   \n\n       Recidivism_score   age_binary  age_bucketized   sex_binary       race_C  \ncount       6889.000000  6889.000000     6889.000000  6889.000000  6889.000000  \nmean          -0.693594     0.385978        0.385978     0.192771     0.635070  \nstd            0.843544     0.486861        0.486861     0.394503     0.725407  \nmin           -3.000000     0.000000        0.000000     0.000000     0.000000  \n25%           -1.280000     0.000000        0.000000     0.000000     0.000000  \n50%           -0.640000     0.000000        0.000000     0.000000     0.000000  \n75%           -0.080000     1.000000        1.000000     0.000000     1.000000  \nmax            1.690000     1.000000        1.000000     1.000000     2.000000  \n\n[8 rows x 22 columns]",
      "text/html": "<div>\n<style scoped>\n    .dataframe tbody tr th:only-of-type {\n        vertical-align: middle;\n    }\n\n    .dataframe tbody tr th {\n        vertical-align: top;\n    }\n\n    .dataframe thead th {\n        text-align: right;\n    }\n</style>\n<table border=\"1\" class=\"dataframe\">\n  <thead>\n    <tr style=\"text-align: right;\">\n      <th></th>\n      <th>age</th>\n      <th>juv_fel_count</th>\n      <th>decile_score</th>\n      <th>juv_misd_count</th>\n      <th>juv_other_count</th>\n      <th>priors_count</th>\n      <th>days_b_screening_arrest</th>\n      <th>c_days_from_compas</th>\n      <th>is_recid</th>\n      <th>is_violent_recid</th>\n      <th>...</th>\n      <th>start</th>\n      <th>end</th>\n      <th>event</th>\n      <th>two_year_recid</th>\n      <th>Violence_score</th>\n      <th>Recidivism_score</th>\n      <th>age_binary</th>\n      <th>age_bucketized</th>\n      <th>sex_binary</th>\n      <th>race_C</th>\n    </tr>\n  </thead>\n  <tbody>\n    <tr>\n      <th>count</th>\n      <td>6889.000000</td>\n      <td>6889.000000</td>\n      <td>6889.000000</td>\n      <td>6889.000000</td>\n      <td>6889.000000</td>\n      <td>6889.000000</td>\n      <td>6595.000000</td>\n      <td>6868.000000</td>\n      <td>6889.000000</td>\n      <td>6889.000000</td>\n      <td>...</td>\n      <td>6889.000000</td>\n      <td>6889.000000</td>\n      <td>6889.000000</td>\n      <td>6889.000000</td>\n      <td>6889.000000</td>\n      <td>6889.000000</td>\n      <td>6889.000000</td>\n      <td>6889.000000</td>\n      <td>6889.000000</td>\n      <td>6889.000000</td>\n    </tr>\n    <tr>\n      <th>mean</th>\n      <td>34.869792</td>\n      <td>0.068225</td>\n      <td>4.507621</td>\n      <td>0.090289</td>\n      <td>0.111047</td>\n      <td>3.466686</td>\n      <td>2.206065</td>\n      <td>57.663221</td>\n      <td>0.479895</td>\n      <td>0.112353</td>\n      <td>...</td>\n      <td>11.567281</td>\n      <td>554.479315</td>\n      <td>0.382204</td>\n      <td>0.450428</td>\n      <td>-2.368951</td>\n      <td>-0.693594</td>\n      <td>0.385978</td>\n      <td>0.385978</td>\n      <td>0.192771</td>\n      <td>0.635070</td>\n    </tr>\n    <tr>\n      <th>std</th>\n      <td>11.924183</td>\n      <td>0.480444</td>\n      <td>2.855803</td>\n      <td>0.484343</td>\n      <td>0.508643</td>\n      <td>4.881592</td>\n      <td>71.840165</td>\n      <td>331.867889</td>\n      <td>0.499632</td>\n      <td>0.315823</td>\n      <td>...</td>\n      <td>47.454454</td>\n      <td>399.199550</td>\n      <td>0.485961</td>\n      <td>0.497573</td>\n      <td>0.871101</td>\n      <td>0.843544</td>\n      <td>0.486861</td>\n      <td>0.486861</td>\n      <td>0.394503</td>\n      <td>0.725407</td>\n    </tr>\n    <tr>\n      <th>min</th>\n      <td>18.000000</td>\n      <td>0.000000</td>\n      <td>1.000000</td>\n      <td>0.000000</td>\n      <td>0.000000</td>\n      <td>0.000000</td>\n      <td>-414.000000</td>\n      <td>0.000000</td>\n      <td>0.000000</td>\n      <td>0.000000</td>\n      <td>...</td>\n      <td>0.000000</td>\n      <td>0.000000</td>\n      <td>0.000000</td>\n      <td>0.000000</td>\n      <td>-4.630000</td>\n      <td>-3.000000</td>\n      <td>0.000000</td>\n      <td>0.000000</td>\n      <td>0.000000</td>\n      <td>0.000000</td>\n    </tr>\n    <tr>\n      <th>25%</th>\n      <td>25.000000</td>\n      <td>0.000000</td>\n      <td>2.000000</td>\n      <td>0.000000</td>\n      <td>0.000000</td>\n      <td>0.000000</td>\n      <td>-1.000000</td>\n      <td>1.000000</td>\n      <td>0.000000</td>\n      <td>0.000000</td>\n      <td>...</td>\n      <td>0.000000</td>\n      <td>149.000000</td>\n      <td>0.000000</td>\n      <td>0.000000</td>\n      <td>-2.990000</td>\n      <td>-1.280000</td>\n      <td>0.000000</td>\n      <td>0.000000</td>\n      <td>0.000000</td>\n      <td>0.000000</td>\n    </tr>\n    <tr>\n      <th>50%</th>\n      <td>31.000000</td>\n      <td>0.000000</td>\n      <td>4.000000</td>\n      <td>0.000000</td>\n      <td>0.000000</td>\n      <td>2.000000</td>\n      <td>-1.000000</td>\n      <td>1.000000</td>\n      <td>0.000000</td>\n      <td>0.000000</td>\n      <td>...</td>\n      <td>0.000000</td>\n      <td>532.000000</td>\n      <td>0.000000</td>\n      <td>0.000000</td>\n      <td>-2.330000</td>\n      <td>-0.640000</td>\n      <td>0.000000</td>\n      <td>0.000000</td>\n      <td>0.000000</td>\n      <td>0.000000</td>\n    </tr>\n    <tr>\n      <th>75%</th>\n      <td>43.000000</td>\n      <td>0.000000</td>\n      <td>7.000000</td>\n      <td>0.000000</td>\n      <td>0.000000</td>\n      <td>5.000000</td>\n      <td>-1.000000</td>\n      <td>2.000000</td>\n      <td>1.000000</td>\n      <td>0.000000</td>\n      <td>...</td>\n      <td>2.000000</td>\n      <td>914.000000</td>\n      <td>1.000000</td>\n      <td>1.000000</td>\n      <td>-1.740000</td>\n      <td>-0.080000</td>\n      <td>1.000000</td>\n      <td>1.000000</td>\n      <td>0.000000</td>\n      <td>1.000000</td>\n    </tr>\n    <tr>\n      <th>max</th>\n      <td>83.000000</td>\n      <td>20.000000</td>\n      <td>10.000000</td>\n      <td>13.000000</td>\n      <td>17.000000</td>\n      <td>38.000000</td>\n      <td>1057.000000</td>\n      <td>9485.000000</td>\n      <td>1.000000</td>\n      <td>1.000000</td>\n      <td>...</td>\n      <td>937.000000</td>\n      <td>1186.000000</td>\n      <td>1.000000</td>\n      <td>1.000000</td>\n      <td>0.930000</td>\n      <td>1.690000</td>\n      <td>1.000000</td>\n      <td>1.000000</td>\n      <td>1.000000</td>\n      <td>2.000000</td>\n    </tr>\n  </tbody>\n</table>\n<p>8 rows × 22 columns</p>\n</div>"
     },
     "execution_count": 79,
     "metadata": {},
     "output_type": "execute_result"
    }
   ],
   "source": [
    "compas_describe\n"
   ],
   "metadata": {
    "collapsed": false,
    "pycharm": {
     "name": "#%%\n"
    }
   }
  },
  {
   "cell_type": "markdown",
   "source": [
    "## scoring and ranking"
   ],
   "metadata": {
    "collapsed": false
   }
  },
  {
   "cell_type": "markdown",
   "source": [
    "###  normalize the score\n"
   ],
   "metadata": {
    "collapsed": false,
    "pycharm": {
     "name": "#%% md\n"
    }
   }
  },
  {
   "cell_type": "code",
   "execution_count": 80,
   "outputs": [],
   "source": [
    "c_days_from_compas_max = compas_describe['c_days_from_compas']['max']\n",
    "c_days_from_compas_min = compas_describe['c_days_from_compas']['min']\n",
    "\n",
    "juv_other_count_max = compas_describe['juv_other_count']['max']\n",
    "juv_other_count_min = compas_describe['juv_other_count']['min']\n",
    "\n",
    "days_b_screening_arrest_max = compas_describe['days_b_screening_arrest']['max']\n",
    "days_b_screening_arrest_min = compas_describe['days_b_screening_arrest']['min']\n",
    "\n",
    "start_max = compas_describe['start']['max']\n",
    "start_min = compas_describe['start']['min']\n",
    "\n",
    "end_max = compas_describe['end']['max']\n",
    "end_min = compas_describe['end']['min']\n",
    "\n",
    "age_max = compas_describe['age']['max']\n",
    "age_min = compas_describe['age']['min']\n",
    "\n",
    "priors_count_max = compas_describe['priors_count']['max']\n",
    "priors_count_min = compas_describe['priors_count']['min']\n"
   ],
   "metadata": {
    "collapsed": false,
    "pycharm": {
     "name": "#%%\n"
    }
   }
  },
  {
   "cell_type": "code",
   "execution_count": 81,
   "outputs": [
    {
     "name": "stdout",
     "output_type": "stream",
     "text": [
      "name\n",
      "miguel hernandez        1.0\n",
      "kevon dixon             1.0\n",
      "ed philo                1.0\n",
      "marcu brown             1.0\n",
      "bouthy pierrelouis     76.0\n",
      "                       ... \n",
      "steven butler           1.0\n",
      "malcolm simmons         1.0\n",
      "winston gregory         1.0\n",
      "farrah jean             1.0\n",
      "florencia sanmartin     2.0\n",
      "Name: c_days_from_compas, Length: 6889, dtype: float64\n",
      "name\n",
      "miguel hernandez       0.000105\n",
      "kevon dixon            0.000105\n",
      "ed philo               0.000105\n",
      "marcu brown            0.000105\n",
      "bouthy pierrelouis     0.008013\n",
      "                         ...   \n",
      "steven butler          0.000105\n",
      "malcolm simmons        0.000105\n",
      "winston gregory        0.000105\n",
      "farrah jean            0.000105\n",
      "florencia sanmartin    0.000211\n",
      "Name: c_days_from_compas, Length: 6889, dtype: float64\n"
     ]
    }
   ],
   "source": [
    "\n",
    "def c_days_from_compas(x):\n",
    "    return (x-c_days_from_compas_min)/(c_days_from_compas_max - c_days_from_compas_min)\n",
    "\n",
    "\n",
    "print(compas_data['c_days_from_compas'])\n",
    "compas_data['c_days_from_compas'] = compas_data['c_days_from_compas'].map(lambda x: c_days_from_compas(x))\n",
    "print(compas_data['c_days_from_compas'])\n"
   ],
   "metadata": {
    "collapsed": false,
    "pycharm": {
     "name": "#%%\n"
    }
   }
  },
  {
   "cell_type": "code",
   "execution_count": 82,
   "outputs": [
    {
     "name": "stdout",
     "output_type": "stream",
     "text": [
      "name\n",
      "miguel hernandez       0\n",
      "kevon dixon            0\n",
      "ed philo               1\n",
      "marcu brown            0\n",
      "bouthy pierrelouis     0\n",
      "                      ..\n",
      "steven butler          0\n",
      "malcolm simmons        0\n",
      "winston gregory        0\n",
      "farrah jean            0\n",
      "florencia sanmartin    0\n",
      "Name: juv_other_count, Length: 6889, dtype: int64\n",
      "name\n",
      "miguel hernandez       0.000000\n",
      "kevon dixon            0.000000\n",
      "ed philo               0.058824\n",
      "marcu brown            0.000000\n",
      "bouthy pierrelouis     0.000000\n",
      "                         ...   \n",
      "steven butler          0.000000\n",
      "malcolm simmons        0.000000\n",
      "winston gregory        0.000000\n",
      "farrah jean            0.000000\n",
      "florencia sanmartin    0.000000\n",
      "Name: juv_other_count, Length: 6889, dtype: float64\n"
     ]
    }
   ],
   "source": [
    "\n",
    "def juv_other_count(x):\n",
    "    return (x - juv_other_count_min)/(juv_other_count_max - juv_other_count_min)\n",
    "\n",
    "\n",
    "print(compas_data['juv_other_count'])\n",
    "compas_data['juv_other_count'] = compas_data['juv_other_count'].map(lambda x: juv_other_count(x))\n",
    "print(compas_data['juv_other_count'])\n"
   ],
   "metadata": {
    "collapsed": false,
    "pycharm": {
     "name": "#%%\n"
    }
   }
  },
  {
   "cell_type": "code",
   "execution_count": 83,
   "outputs": [
    {
     "name": "stdout",
     "output_type": "stream",
     "text": [
      "name\n",
      "miguel hernandez      -1.0\n",
      "kevon dixon           -1.0\n",
      "ed philo              -1.0\n",
      "marcu brown            NaN\n",
      "bouthy pierrelouis     NaN\n",
      "                      ... \n",
      "steven butler         -1.0\n",
      "malcolm simmons       -1.0\n",
      "winston gregory       -1.0\n",
      "farrah jean           -1.0\n",
      "florencia sanmartin   -2.0\n",
      "Name: days_b_screening_arrest, Length: 6889, dtype: float64\n",
      "name\n",
      "miguel hernandez       0.280761\n",
      "kevon dixon            0.280761\n",
      "ed philo               0.280761\n",
      "marcu brown                 NaN\n",
      "bouthy pierrelouis          NaN\n",
      "                         ...   \n",
      "steven butler          0.280761\n",
      "malcolm simmons        0.280761\n",
      "winston gregory        0.280761\n",
      "farrah jean            0.280761\n",
      "florencia sanmartin    0.280082\n",
      "Name: days_b_screening_arrest, Length: 6889, dtype: float64\n"
     ]
    }
   ],
   "source": [
    "\n",
    "def days_b_screening_arrest(x):\n",
    "    return (x - days_b_screening_arrest_min)/(days_b_screening_arrest_max - days_b_screening_arrest_min)\n",
    "\n",
    "\n",
    "print(compas_data['days_b_screening_arrest'])\n",
    "compas_data['days_b_screening_arrest'] = compas_data['days_b_screening_arrest'].map(lambda x: days_b_screening_arrest(x))\n",
    "print(compas_data['days_b_screening_arrest'])\n"
   ],
   "metadata": {
    "collapsed": false,
    "pycharm": {
     "name": "#%%\n"
    }
   }
  },
  {
   "cell_type": "code",
   "execution_count": 84,
   "outputs": [
    {
     "name": "stdout",
     "output_type": "stream",
     "text": [
      "name\n",
      "miguel hernandez       0\n",
      "kevon dixon            9\n",
      "ed philo               0\n",
      "marcu brown            0\n",
      "bouthy pierrelouis     0\n",
      "                      ..\n",
      "steven butler          1\n",
      "malcolm simmons        1\n",
      "winston gregory        0\n",
      "farrah jean            0\n",
      "florencia sanmartin    0\n",
      "Name: start, Length: 6889, dtype: int64\n",
      "name\n",
      "miguel hernandez       0.000000\n",
      "kevon dixon            0.009605\n",
      "ed philo               0.000000\n",
      "marcu brown            0.000000\n",
      "bouthy pierrelouis     0.000000\n",
      "                         ...   \n",
      "steven butler          0.001067\n",
      "malcolm simmons        0.001067\n",
      "winston gregory        0.000000\n",
      "farrah jean            0.000000\n",
      "florencia sanmartin    0.000000\n",
      "Name: start, Length: 6889, dtype: float64\n"
     ]
    }
   ],
   "source": [
    "\n",
    "def start(x):\n",
    "    return (x - start_min)/(start_max - start_min)\n",
    "\n",
    "\n",
    "print(compas_data['start'])\n",
    "compas_data['start'] = compas_data['start'].map(lambda x: start(x))\n",
    "print(compas_data['start'])\n"
   ],
   "metadata": {
    "collapsed": false,
    "pycharm": {
     "name": "#%%\n"
    }
   }
  },
  {
   "cell_type": "code",
   "execution_count": 85,
   "outputs": [
    {
     "name": "stdout",
     "output_type": "stream",
     "text": [
      "name\n",
      "miguel hernandez        327\n",
      "kevon dixon             159\n",
      "ed philo                 63\n",
      "marcu brown            1174\n",
      "bouthy pierrelouis     1102\n",
      "                       ... \n",
      "steven butler           860\n",
      "malcolm simmons         790\n",
      "winston gregory         808\n",
      "farrah jean             754\n",
      "florencia sanmartin     258\n",
      "Name: end, Length: 6889, dtype: int64\n",
      "name\n",
      "miguel hernandez       0.275717\n",
      "kevon dixon            0.134064\n",
      "ed philo               0.053120\n",
      "marcu brown            0.989882\n",
      "bouthy pierrelouis     0.929174\n",
      "                         ...   \n",
      "steven butler          0.725126\n",
      "malcolm simmons        0.666105\n",
      "winston gregory        0.681282\n",
      "farrah jean            0.635750\n",
      "florencia sanmartin    0.217538\n",
      "Name: end, Length: 6889, dtype: float64\n"
     ]
    }
   ],
   "source": [
    "def end(x):\n",
    "    return (x - end_min)/(end_max - end_min)\n",
    "\n",
    "\n",
    "print(compas_data['end'])\n",
    "compas_data['end'] = compas_data['end'].map(lambda x: end(x))\n",
    "print(compas_data['end'])\n",
    "\n"
   ],
   "metadata": {
    "collapsed": false,
    "pycharm": {
     "name": "#%%\n"
    }
   }
  },
  {
   "cell_type": "code",
   "execution_count": 86,
   "outputs": [
    {
     "name": "stdout",
     "output_type": "stream",
     "text": [
      "name\n",
      "miguel hernandez       69\n",
      "kevon dixon            34\n",
      "ed philo               24\n",
      "marcu brown            23\n",
      "bouthy pierrelouis     43\n",
      "                       ..\n",
      "steven butler          23\n",
      "malcolm simmons        23\n",
      "winston gregory        57\n",
      "farrah jean            33\n",
      "florencia sanmartin    23\n",
      "Name: age, Length: 6889, dtype: int64\n",
      "name\n",
      "miguel hernandez       0.784615\n",
      "kevon dixon            0.246154\n",
      "ed philo               0.092308\n",
      "marcu brown            0.076923\n",
      "bouthy pierrelouis     0.384615\n",
      "                         ...   \n",
      "steven butler          0.076923\n",
      "malcolm simmons        0.076923\n",
      "winston gregory        0.600000\n",
      "farrah jean            0.230769\n",
      "florencia sanmartin    0.076923\n",
      "Name: age, Length: 6889, dtype: float64\n"
     ]
    }
   ],
   "source": [
    "\n",
    "def age(x):\n",
    "    return (x - age_min)/(age_max - age_min)\n",
    "\n",
    "\n",
    "print(compas_data['age'])\n",
    "compas_data['age'] = compas_data['age'].map(lambda x: age(x))\n",
    "print(compas_data['age'])\n"
   ],
   "metadata": {
    "collapsed": false,
    "pycharm": {
     "name": "#%%\n"
    }
   }
  },
  {
   "cell_type": "code",
   "execution_count": 87,
   "outputs": [
    {
     "name": "stdout",
     "output_type": "stream",
     "text": [
      "name\n",
      "miguel hernandez       0\n",
      "kevon dixon            0\n",
      "ed philo               4\n",
      "marcu brown            1\n",
      "bouthy pierrelouis     2\n",
      "                      ..\n",
      "steven butler          0\n",
      "malcolm simmons        0\n",
      "winston gregory        0\n",
      "farrah jean            3\n",
      "florencia sanmartin    2\n",
      "Name: priors_count, Length: 6889, dtype: int64\n",
      "name\n",
      "miguel hernandez       0.000000\n",
      "kevon dixon            0.000000\n",
      "ed philo               0.105263\n",
      "marcu brown            0.026316\n",
      "bouthy pierrelouis     0.052632\n",
      "                         ...   \n",
      "steven butler          0.000000\n",
      "malcolm simmons        0.000000\n",
      "winston gregory        0.000000\n",
      "farrah jean            0.078947\n",
      "florencia sanmartin    0.052632\n",
      "Name: priors_count, Length: 6889, dtype: float64\n"
     ]
    }
   ],
   "source": [
    "\n",
    "def priors_count(x):\n",
    "    return (x - priors_count_min)/(priors_count_max - priors_count_min)\n",
    "\n",
    "\n",
    "print(compas_data['priors_count'])\n",
    "compas_data['priors_count'] = compas_data['priors_count'].map(lambda x: priors_count(x))\n",
    "print(compas_data['priors_count'])\n"
   ],
   "metadata": {
    "collapsed": false,
    "pycharm": {
     "name": "#%%\n"
    }
   }
  },
  {
   "cell_type": "code",
   "execution_count": 88,
   "outputs": [],
   "source": [
    "compas_data.to_csv(r\"../../InputData/CompasData/ForRanking/CompasData_score_normalized.csv\", index=False)"
   ],
   "metadata": {
    "collapsed": false,
    "pycharm": {
     "name": "#%%\n"
    }
   }
  },
  {
   "cell_type": "markdown",
   "source": [
    "## rank"
   ],
   "metadata": {
    "collapsed": false,
    "pycharm": {
     "name": "#%% md\n"
    }
   }
  },
  {
   "cell_type": "code",
   "execution_count": 68,
   "outputs": [
    {
     "data": {
      "text/plain": "  FirstName   LastName   sex DateOfBirth       age              race  \\\n0    miguel  hernandez  Male   4/18/1947  0.784615             Other   \n1     kevon      dixon  Male   1/22/1982  0.246154  African-American   \n2        ed      philo  Male   5/14/1991  0.092308  African-American   \n\n   juv_fel_count  decile_score  juv_misd_count  juv_other_count  ...  \\\n0              0             1               0         0.000000  ...   \n1              0             3               0         0.000000  ...   \n2              0             4               0         0.058824  ...   \n\n        end  event  two_year_recid Violence_score  Recidivism_score  \\\n0  0.275717      0               0          -4.31             -2.78   \n1  0.134064      1               1          -3.07             -0.76   \n2  0.053120      0               1          -1.31              0.44   \n\n   MarriageStatus  age_binary  age_bucketized  sex_binary  race_C  \n0          Single           1               1           0       2  \n1          Single           0               0           0       0  \n2          Single           0               0           0       0  \n\n[3 rows x 29 columns]",
      "text/html": "<div>\n<style scoped>\n    .dataframe tbody tr th:only-of-type {\n        vertical-align: middle;\n    }\n\n    .dataframe tbody tr th {\n        vertical-align: top;\n    }\n\n    .dataframe thead th {\n        text-align: right;\n    }\n</style>\n<table border=\"1\" class=\"dataframe\">\n  <thead>\n    <tr style=\"text-align: right;\">\n      <th></th>\n      <th>FirstName</th>\n      <th>LastName</th>\n      <th>sex</th>\n      <th>DateOfBirth</th>\n      <th>age</th>\n      <th>race</th>\n      <th>juv_fel_count</th>\n      <th>decile_score</th>\n      <th>juv_misd_count</th>\n      <th>juv_other_count</th>\n      <th>...</th>\n      <th>end</th>\n      <th>event</th>\n      <th>two_year_recid</th>\n      <th>Violence_score</th>\n      <th>Recidivism_score</th>\n      <th>MarriageStatus</th>\n      <th>age_binary</th>\n      <th>age_bucketized</th>\n      <th>sex_binary</th>\n      <th>race_C</th>\n    </tr>\n  </thead>\n  <tbody>\n    <tr>\n      <th>0</th>\n      <td>miguel</td>\n      <td>hernandez</td>\n      <td>Male</td>\n      <td>4/18/1947</td>\n      <td>0.784615</td>\n      <td>Other</td>\n      <td>0</td>\n      <td>1</td>\n      <td>0</td>\n      <td>0.000000</td>\n      <td>...</td>\n      <td>0.275717</td>\n      <td>0</td>\n      <td>0</td>\n      <td>-4.31</td>\n      <td>-2.78</td>\n      <td>Single</td>\n      <td>1</td>\n      <td>1</td>\n      <td>0</td>\n      <td>2</td>\n    </tr>\n    <tr>\n      <th>1</th>\n      <td>kevon</td>\n      <td>dixon</td>\n      <td>Male</td>\n      <td>1/22/1982</td>\n      <td>0.246154</td>\n      <td>African-American</td>\n      <td>0</td>\n      <td>3</td>\n      <td>0</td>\n      <td>0.000000</td>\n      <td>...</td>\n      <td>0.134064</td>\n      <td>1</td>\n      <td>1</td>\n      <td>-3.07</td>\n      <td>-0.76</td>\n      <td>Single</td>\n      <td>0</td>\n      <td>0</td>\n      <td>0</td>\n      <td>0</td>\n    </tr>\n    <tr>\n      <th>2</th>\n      <td>ed</td>\n      <td>philo</td>\n      <td>Male</td>\n      <td>5/14/1991</td>\n      <td>0.092308</td>\n      <td>African-American</td>\n      <td>0</td>\n      <td>4</td>\n      <td>0</td>\n      <td>0.058824</td>\n      <td>...</td>\n      <td>0.053120</td>\n      <td>0</td>\n      <td>1</td>\n      <td>-1.31</td>\n      <td>0.44</td>\n      <td>Single</td>\n      <td>0</td>\n      <td>0</td>\n      <td>0</td>\n      <td>0</td>\n    </tr>\n  </tbody>\n</table>\n<p>3 rows × 29 columns</p>\n</div>"
     },
     "execution_count": 68,
     "metadata": {},
     "output_type": "execute_result"
    }
   ],
   "source": [
    "compas_data = pd.read_csv(r\"../../InputData/CompasData/ForRanking/CompasData_score_normalized.csv\")\n",
    "compas_data[:3]\n"
   ],
   "metadata": {
    "collapsed": false,
    "pycharm": {
     "name": "#%%\n"
    }
   }
  },
  {
   "cell_type": "code",
   "execution_count": 69,
   "outputs": [],
   "source": [
    "\n",
    "compas_data['score'] = [0]*6889"
   ],
   "metadata": {
    "collapsed": false,
    "pycharm": {
     "name": "#%%\n"
    }
   }
  },
  {
   "cell_type": "code",
   "execution_count": 70,
   "outputs": [
    {
     "name": "stdout",
     "output_type": "stream",
     "text": [
      "0       0\n",
      "1       0\n",
      "2       0\n",
      "3       0\n",
      "4       0\n",
      "       ..\n",
      "6884    0\n",
      "6885    0\n",
      "6886    0\n",
      "6887    0\n",
      "6888    0\n",
      "Name: score, Length: 6889, dtype: int64\n",
      "0      -0.228032\n",
      "1       0.178382\n",
      "2       0.405766\n",
      "3            NaN\n",
      "4            NaN\n",
      "          ...   \n",
      "6884    0.930137\n",
      "6885    0.871116\n",
      "6886    0.362148\n",
      "6887    0.764795\n",
      "6888    0.473539\n",
      "Name: score, Length: 6889, dtype: float64\n"
     ]
    }
   ],
   "source": [
    "\n",
    "print(compas_data['score'])\n",
    "\n",
    "compas_data['score'] = compas_data['c_days_from_compas'] + compas_data['juv_other_count'] + \\\n",
    "                       compas_data['days_b_screening_arrest'] + compas_data['start'] + compas_data['end'] \\\n",
    "                       + compas_data['priors_count'] - compas_data['age']\n",
    "\n",
    "\n",
    "print(compas_data['score'])\n"
   ],
   "metadata": {
    "collapsed": false,
    "pycharm": {
     "name": "#%%\n"
    }
   }
  },
  {
   "cell_type": "code",
   "execution_count": null,
   "outputs": [],
   "source": [],
   "metadata": {
    "collapsed": false,
    "pycharm": {
     "name": "#%%\n"
    }
   }
  },
  {
   "cell_type": "code",
   "execution_count": 71,
   "outputs": [],
   "source": [
    "compas_data.to_csv(r\"../../InputData/CompasData/ForRanking/CompasData_with_score.csv\", index=False)\n"
   ],
   "metadata": {
    "collapsed": false,
    "pycharm": {
     "name": "#%%\n"
    }
   }
  },
  {
   "cell_type": "code",
   "execution_count": 73,
   "outputs": [],
   "source": [
    "compas_data_necessary_att_cate = pd.read_csv(r\"../../InputData/CompasData/general/compas_data_cat_necessary_att.csv\")\n"
   ],
   "metadata": {
    "collapsed": false,
    "pycharm": {
     "name": "#%%\n"
    }
   }
  },
  {
   "cell_type": "code",
   "execution_count": 73,
   "outputs": [],
   "source": [],
   "metadata": {
    "collapsed": false,
    "pycharm": {
     "name": "#%%\n"
    }
   }
  },
  {
   "cell_type": "code",
   "execution_count": 74,
   "outputs": [
    {
     "name": "stdout",
     "output_type": "stream",
     "text": [
      "  FirstName     LastName   sex DateOfBirth       age              race  \\\n",
      "0    miguel    hernandez  Male   4/18/1947  0.784615             Other   \n",
      "1     kevon        dixon  Male   1/22/1982  0.246154  African-American   \n",
      "2        ed        philo  Male   5/14/1991  0.092308  African-American   \n",
      "3     marcu        brown  Male   1/21/1993  0.076923  African-American   \n",
      "4    bouthy  pierrelouis  Male   1/22/1973  0.384615             Other   \n",
      "\n",
      "   juv_fel_count  decile_score  juv_misd_count  juv_other_count  ...  event  \\\n",
      "0              0             1               0         0.000000  ...      0   \n",
      "1              0             3               0         0.000000  ...      1   \n",
      "2              0             4               0         0.058824  ...      0   \n",
      "3              0             8               1         0.000000  ...      0   \n",
      "4              0             1               0         0.000000  ...      0   \n",
      "\n",
      "   two_year_recid  Violence_score Recidivism_score  MarriageStatus  \\\n",
      "0               0           -4.31            -2.78          Single   \n",
      "1               1           -3.07            -0.76          Single   \n",
      "2               1           -1.31             0.44          Single   \n",
      "3               0           -1.59             0.16          Single   \n",
      "4               0           -3.23            -2.20         Married   \n",
      "\n",
      "   age_binary  age_bucketized  sex_binary  race_C     score  \n",
      "0           1               1           0       2 -0.228032  \n",
      "1           0               0           0       0  0.178382  \n",
      "2           0               0           0       0  0.405766  \n",
      "3           0               0           0       0       NaN  \n",
      "4           1               1           0       2       NaN  \n",
      "\n",
      "[5 rows x 30 columns]\n"
     ]
    }
   ],
   "source": [
    "compas_data = pd.read_csv(r\"../../InputData/CompasData/ForRanking/CompasData_with_score.csv\")\n",
    "\n",
    "print(compas_data[:5])"
   ],
   "metadata": {
    "collapsed": false,
    "pycharm": {
     "name": "#%%\n"
    }
   }
  },
  {
   "cell_type": "code",
   "execution_count": 76,
   "outputs": [],
   "source": [
    "# score list\n",
    "score_list = list(compas_data['score'])\n"
   ],
   "metadata": {
    "collapsed": false,
    "pycharm": {
     "name": "#%%\n"
    }
   }
  },
  {
   "cell_type": "code",
   "execution_count": 77,
   "outputs": [
    {
     "data": {
      "text/plain": "   age_binary  age_bucketized  sex_binary  race_C     score    rank  \\\n0           1               1           0       2 -0.228032  1677.0   \n1           0               0           0       0  0.178382   786.0   \n2           0               0           0       0  0.405766  1303.0   \n3           0               0           0       0       NaN  6596.0   \n4           1               1           0       2       NaN  6597.0   \n\n   juv_fel_count_C  decile_score_C  juv_misd_count_C  juv_other_count_C  ...  \\\n0                0               0                 0                  0  ...   \n1                0               0                 0                  0  ...   \n2                0               0                 0                  0  ...   \n3                0               1                 0                  0  ...   \n4                0               0                 0                  0  ...   \n\n   v_decile_score_C  start_C  end_C  event_C  MarriageStatus_C  is_recid  \\\n0                 0        0      0        0                 0         0   \n1                 0        0      0        1                 0         1   \n2                 0        0      0        0                 0         1   \n3                 1        0      2        0                 0         0   \n4                 0        0      2        0                 1         0   \n\n   is_violent_recid  two_year_recid  Violence_score  Recidivism_score  \n0                 0               0           -4.31             -2.78  \n1                 1               1           -3.07             -0.76  \n2                 0               1           -1.31              0.44  \n3                 0               0           -1.59              0.16  \n4                 0               0           -3.23             -2.20  \n\n[5 rows x 24 columns]",
      "text/html": "<div>\n<style scoped>\n    .dataframe tbody tr th:only-of-type {\n        vertical-align: middle;\n    }\n\n    .dataframe tbody tr th {\n        vertical-align: top;\n    }\n\n    .dataframe thead th {\n        text-align: right;\n    }\n</style>\n<table border=\"1\" class=\"dataframe\">\n  <thead>\n    <tr style=\"text-align: right;\">\n      <th></th>\n      <th>age_binary</th>\n      <th>age_bucketized</th>\n      <th>sex_binary</th>\n      <th>race_C</th>\n      <th>score</th>\n      <th>rank</th>\n      <th>juv_fel_count_C</th>\n      <th>decile_score_C</th>\n      <th>juv_misd_count_C</th>\n      <th>juv_other_count_C</th>\n      <th>...</th>\n      <th>v_decile_score_C</th>\n      <th>start_C</th>\n      <th>end_C</th>\n      <th>event_C</th>\n      <th>MarriageStatus_C</th>\n      <th>is_recid</th>\n      <th>is_violent_recid</th>\n      <th>two_year_recid</th>\n      <th>Violence_score</th>\n      <th>Recidivism_score</th>\n    </tr>\n  </thead>\n  <tbody>\n    <tr>\n      <th>0</th>\n      <td>1</td>\n      <td>1</td>\n      <td>0</td>\n      <td>2</td>\n      <td>-0.228032</td>\n      <td>1677.0</td>\n      <td>0</td>\n      <td>0</td>\n      <td>0</td>\n      <td>0</td>\n      <td>...</td>\n      <td>0</td>\n      <td>0</td>\n      <td>0</td>\n      <td>0</td>\n      <td>0</td>\n      <td>0</td>\n      <td>0</td>\n      <td>0</td>\n      <td>-4.31</td>\n      <td>-2.78</td>\n    </tr>\n    <tr>\n      <th>1</th>\n      <td>0</td>\n      <td>0</td>\n      <td>0</td>\n      <td>0</td>\n      <td>0.178382</td>\n      <td>786.0</td>\n      <td>0</td>\n      <td>0</td>\n      <td>0</td>\n      <td>0</td>\n      <td>...</td>\n      <td>0</td>\n      <td>0</td>\n      <td>0</td>\n      <td>1</td>\n      <td>0</td>\n      <td>1</td>\n      <td>1</td>\n      <td>1</td>\n      <td>-3.07</td>\n      <td>-0.76</td>\n    </tr>\n    <tr>\n      <th>2</th>\n      <td>0</td>\n      <td>0</td>\n      <td>0</td>\n      <td>0</td>\n      <td>0.405766</td>\n      <td>1303.0</td>\n      <td>0</td>\n      <td>0</td>\n      <td>0</td>\n      <td>0</td>\n      <td>...</td>\n      <td>0</td>\n      <td>0</td>\n      <td>0</td>\n      <td>0</td>\n      <td>0</td>\n      <td>1</td>\n      <td>0</td>\n      <td>1</td>\n      <td>-1.31</td>\n      <td>0.44</td>\n    </tr>\n    <tr>\n      <th>3</th>\n      <td>0</td>\n      <td>0</td>\n      <td>0</td>\n      <td>0</td>\n      <td>NaN</td>\n      <td>6596.0</td>\n      <td>0</td>\n      <td>1</td>\n      <td>0</td>\n      <td>0</td>\n      <td>...</td>\n      <td>1</td>\n      <td>0</td>\n      <td>2</td>\n      <td>0</td>\n      <td>0</td>\n      <td>0</td>\n      <td>0</td>\n      <td>0</td>\n      <td>-1.59</td>\n      <td>0.16</td>\n    </tr>\n    <tr>\n      <th>4</th>\n      <td>1</td>\n      <td>1</td>\n      <td>0</td>\n      <td>2</td>\n      <td>NaN</td>\n      <td>6597.0</td>\n      <td>0</td>\n      <td>0</td>\n      <td>0</td>\n      <td>0</td>\n      <td>...</td>\n      <td>0</td>\n      <td>0</td>\n      <td>2</td>\n      <td>0</td>\n      <td>1</td>\n      <td>0</td>\n      <td>0</td>\n      <td>0</td>\n      <td>-3.23</td>\n      <td>-2.20</td>\n    </tr>\n  </tbody>\n</table>\n<p>5 rows × 24 columns</p>\n</div>"
     },
     "execution_count": 77,
     "metadata": {},
     "output_type": "execute_result"
    }
   ],
   "source": [
    "compas_data_necessary_att_cate['score'] = score_list\n",
    "compas_data_necessary_att_cate[:5]"
   ],
   "metadata": {
    "collapsed": false,
    "pycharm": {
     "name": "#%%\n"
    }
   }
  },
  {
   "cell_type": "code",
   "execution_count": 78,
   "outputs": [],
   "source": [
    "compas_data_necessary_att_cate.to_csv(r\"../../InputData/CompasData/general/compas_data_cat_necessary_att.csv\", index=False)\n"
   ],
   "metadata": {
    "collapsed": false,
    "pycharm": {
     "name": "#%%\n"
    }
   }
  },
  {
   "cell_type": "code",
   "execution_count": null,
   "outputs": [],
   "source": [
    "#change score, run til here"
   ],
   "metadata": {
    "collapsed": false,
    "pycharm": {
     "name": "#%%\n"
    }
   }
  },
  {
   "cell_type": "code",
   "execution_count": null,
   "outputs": [],
   "source": [],
   "metadata": {
    "collapsed": false,
    "pycharm": {
     "name": "#%%\n"
    }
   }
  },
  {
   "cell_type": "markdown",
   "source": [
    "\n",
    "## Add the score and 4 categorized attributes to original file\n"
   ],
   "metadata": {
    "collapsed": false,
    "pycharm": {
     "name": "#%% md\n"
    }
   }
  },
  {
   "cell_type": "code",
   "execution_count": 54,
   "outputs": [
    {
     "name": "stdout",
     "output_type": "stream",
     "text": [
      "                 name FirstName     LastName   sex DateOfBirth  age  \\\n",
      "0    miguel hernandez    miguel    hernandez  Male   4/18/1947   69   \n",
      "1         kevon dixon     kevon        dixon  Male   1/22/1982   34   \n",
      "2            ed philo        ed        philo  Male   5/14/1991   24   \n",
      "3         marcu brown     marcu        brown  Male   1/21/1993   23   \n",
      "4  bouthy pierrelouis    bouthy  pierrelouis  Male   1/22/1973   43   \n",
      "\n",
      "               race  juv_fel_count  decile_score  juv_misd_count  ...   end  \\\n",
      "0             Other              0             1               0  ...   327   \n",
      "1  African-American              0             3               0  ...   159   \n",
      "2  African-American              0             4               0  ...    63   \n",
      "3  African-American              0             8               1  ...  1174   \n",
      "4             Other              0             1               0  ...  1102   \n",
      "\n",
      "   event  two_year_recid  Violence_score Recidivism_score  MarriageStatus  \\\n",
      "0      0               0           -4.31            -2.78          Single   \n",
      "1      1               1           -3.07            -0.76          Single   \n",
      "2      0               1           -1.31             0.44          Single   \n",
      "3      0               0           -1.59             0.16          Single   \n",
      "4      0               0           -3.23            -2.20         Married   \n",
      "\n",
      "   age_binary  age_bucketized  sex_binary  race_C  \n",
      "0           1               1           0       2  \n",
      "1           0               0           0       0  \n",
      "2           0               0           0       0  \n",
      "3           0               0           0       0  \n",
      "4           1               1           0       2  \n",
      "\n",
      "[5 rows x 30 columns]\n",
      "               age  juv_fel_count  decile_score  juv_misd_count  \\\n",
      "count  6889.000000    6889.000000   6889.000000     6889.000000   \n",
      "mean     34.869792       0.068225      4.507621        0.090289   \n",
      "std      11.924183       0.480444      2.855803        0.484343   \n",
      "min      18.000000       0.000000      1.000000        0.000000   \n",
      "25%      25.000000       0.000000      2.000000        0.000000   \n",
      "50%      31.000000       0.000000      4.000000        0.000000   \n",
      "75%      43.000000       0.000000      7.000000        0.000000   \n",
      "max      83.000000      20.000000     10.000000       13.000000   \n",
      "\n",
      "       juv_other_count  priors_count  days_b_screening_arrest  \\\n",
      "count      6889.000000   6889.000000              6595.000000   \n",
      "mean          0.111047      3.466686                 2.206065   \n",
      "std           0.508643      4.881592                71.840165   \n",
      "min           0.000000      0.000000              -414.000000   \n",
      "25%           0.000000      0.000000                -1.000000   \n",
      "50%           0.000000      2.000000                -1.000000   \n",
      "75%           0.000000      5.000000                -1.000000   \n",
      "max          17.000000     38.000000              1057.000000   \n",
      "\n",
      "       c_days_from_compas     is_recid  is_violent_recid  ...        start  \\\n",
      "count         6868.000000  6889.000000       6889.000000  ...  6889.000000   \n",
      "mean            57.663221     0.479895          0.112353  ...    11.567281   \n",
      "std            331.867889     0.499632          0.315823  ...    47.454454   \n",
      "min              0.000000     0.000000          0.000000  ...     0.000000   \n",
      "25%              1.000000     0.000000          0.000000  ...     0.000000   \n",
      "50%              1.000000     0.000000          0.000000  ...     0.000000   \n",
      "75%              2.000000     1.000000          0.000000  ...     2.000000   \n",
      "max           9485.000000     1.000000          1.000000  ...   937.000000   \n",
      "\n",
      "               end        event  two_year_recid  Violence_score  \\\n",
      "count  6889.000000  6889.000000     6889.000000     6889.000000   \n",
      "mean    554.479315     0.382204        0.450428       -2.368951   \n",
      "std     399.199550     0.485961        0.497573        0.871101   \n",
      "min       0.000000     0.000000        0.000000       -4.630000   \n",
      "25%     149.000000     0.000000        0.000000       -2.990000   \n",
      "50%     532.000000     0.000000        0.000000       -2.330000   \n",
      "75%     914.000000     1.000000        1.000000       -1.740000   \n",
      "max    1186.000000     1.000000        1.000000        0.930000   \n",
      "\n",
      "       Recidivism_score   age_binary  age_bucketized   sex_binary       race_C  \n",
      "count       6889.000000  6889.000000     6889.000000  6889.000000  6889.000000  \n",
      "mean          -0.693594     0.385978        0.385978     0.192771     0.635070  \n",
      "std            0.843544     0.486861        0.486861     0.394503     0.725407  \n",
      "min           -3.000000     0.000000        0.000000     0.000000     0.000000  \n",
      "25%           -1.280000     0.000000        0.000000     0.000000     0.000000  \n",
      "50%           -0.640000     0.000000        0.000000     0.000000     0.000000  \n",
      "75%           -0.080000     1.000000        1.000000     0.000000     1.000000  \n",
      "max            1.690000     1.000000        1.000000     1.000000     2.000000  \n",
      "\n",
      "[8 rows x 22 columns]\n"
     ]
    }
   ],
   "source": [
    "compas_data_original_value = pd.read_csv(r\"../../InputData/CompasData/ForRanking/CompasData_original_classified.csv\")\n",
    "print(compas_data_original_value[:5])\n",
    "print(compas_data_original_value.describe())\n"
   ],
   "metadata": {
    "collapsed": false,
    "pycharm": {
     "name": "#%%\n"
    }
   }
  },
  {
   "cell_type": "code",
   "execution_count": 56,
   "outputs": [],
   "source": [
    "# score list\n",
    "score_list = list(compas_data['score'])\n"
   ],
   "metadata": {
    "collapsed": false,
    "pycharm": {
     "name": "#%%\n"
    }
   }
  },
  {
   "cell_type": "code",
   "execution_count": 57,
   "outputs": [
    {
     "data": {
      "text/plain": "                 name FirstName     LastName   sex DateOfBirth  age  \\\n0    miguel hernandez    miguel    hernandez  Male   4/18/1947   69   \n1         kevon dixon     kevon        dixon  Male   1/22/1982   34   \n2            ed philo        ed        philo  Male   5/14/1991   24   \n3         marcu brown     marcu        brown  Male   1/21/1993   23   \n4  bouthy pierrelouis    bouthy  pierrelouis  Male   1/22/1973   43   \n\n               race  juv_fel_count  decile_score  juv_misd_count  ...  event  \\\n0             Other              0             1               0  ...      0   \n1  African-American              0             3               0  ...      1   \n2  African-American              0             4               0  ...      0   \n3  African-American              0             8               1  ...      0   \n4             Other              0             1               0  ...      0   \n\n   two_year_recid  Violence_score  Recidivism_score MarriageStatus  \\\n0               0           -4.31             -2.78         Single   \n1               1           -3.07             -0.76         Single   \n2               1           -1.31              0.44         Single   \n3               0           -1.59              0.16         Single   \n4               0           -3.23             -2.20        Married   \n\n   age_binary  age_bucketized  sex_binary  race_C     score  \n0           1               1           0       2  0.556584  \n1           0               0           0       0  0.424536  \n2           0               0           0       0  0.498073  \n3           0               0           0       0       NaN  \n4           1               1           0       2       NaN  \n\n[5 rows x 31 columns]",
      "text/html": "<div>\n<style scoped>\n    .dataframe tbody tr th:only-of-type {\n        vertical-align: middle;\n    }\n\n    .dataframe tbody tr th {\n        vertical-align: top;\n    }\n\n    .dataframe thead th {\n        text-align: right;\n    }\n</style>\n<table border=\"1\" class=\"dataframe\">\n  <thead>\n    <tr style=\"text-align: right;\">\n      <th></th>\n      <th>name</th>\n      <th>FirstName</th>\n      <th>LastName</th>\n      <th>sex</th>\n      <th>DateOfBirth</th>\n      <th>age</th>\n      <th>race</th>\n      <th>juv_fel_count</th>\n      <th>decile_score</th>\n      <th>juv_misd_count</th>\n      <th>...</th>\n      <th>event</th>\n      <th>two_year_recid</th>\n      <th>Violence_score</th>\n      <th>Recidivism_score</th>\n      <th>MarriageStatus</th>\n      <th>age_binary</th>\n      <th>age_bucketized</th>\n      <th>sex_binary</th>\n      <th>race_C</th>\n      <th>score</th>\n    </tr>\n  </thead>\n  <tbody>\n    <tr>\n      <th>0</th>\n      <td>miguel hernandez</td>\n      <td>miguel</td>\n      <td>hernandez</td>\n      <td>Male</td>\n      <td>4/18/1947</td>\n      <td>69</td>\n      <td>Other</td>\n      <td>0</td>\n      <td>1</td>\n      <td>0</td>\n      <td>...</td>\n      <td>0</td>\n      <td>0</td>\n      <td>-4.31</td>\n      <td>-2.78</td>\n      <td>Single</td>\n      <td>1</td>\n      <td>1</td>\n      <td>0</td>\n      <td>2</td>\n      <td>0.556584</td>\n    </tr>\n    <tr>\n      <th>1</th>\n      <td>kevon dixon</td>\n      <td>kevon</td>\n      <td>dixon</td>\n      <td>Male</td>\n      <td>1/22/1982</td>\n      <td>34</td>\n      <td>African-American</td>\n      <td>0</td>\n      <td>3</td>\n      <td>0</td>\n      <td>...</td>\n      <td>1</td>\n      <td>1</td>\n      <td>-3.07</td>\n      <td>-0.76</td>\n      <td>Single</td>\n      <td>0</td>\n      <td>0</td>\n      <td>0</td>\n      <td>0</td>\n      <td>0.424536</td>\n    </tr>\n    <tr>\n      <th>2</th>\n      <td>ed philo</td>\n      <td>ed</td>\n      <td>philo</td>\n      <td>Male</td>\n      <td>5/14/1991</td>\n      <td>24</td>\n      <td>African-American</td>\n      <td>0</td>\n      <td>4</td>\n      <td>0</td>\n      <td>...</td>\n      <td>0</td>\n      <td>1</td>\n      <td>-1.31</td>\n      <td>0.44</td>\n      <td>Single</td>\n      <td>0</td>\n      <td>0</td>\n      <td>0</td>\n      <td>0</td>\n      <td>0.498073</td>\n    </tr>\n    <tr>\n      <th>3</th>\n      <td>marcu brown</td>\n      <td>marcu</td>\n      <td>brown</td>\n      <td>Male</td>\n      <td>1/21/1993</td>\n      <td>23</td>\n      <td>African-American</td>\n      <td>0</td>\n      <td>8</td>\n      <td>1</td>\n      <td>...</td>\n      <td>0</td>\n      <td>0</td>\n      <td>-1.59</td>\n      <td>0.16</td>\n      <td>Single</td>\n      <td>0</td>\n      <td>0</td>\n      <td>0</td>\n      <td>0</td>\n      <td>NaN</td>\n    </tr>\n    <tr>\n      <th>4</th>\n      <td>bouthy pierrelouis</td>\n      <td>bouthy</td>\n      <td>pierrelouis</td>\n      <td>Male</td>\n      <td>1/22/1973</td>\n      <td>43</td>\n      <td>Other</td>\n      <td>0</td>\n      <td>1</td>\n      <td>0</td>\n      <td>...</td>\n      <td>0</td>\n      <td>0</td>\n      <td>-3.23</td>\n      <td>-2.20</td>\n      <td>Married</td>\n      <td>1</td>\n      <td>1</td>\n      <td>0</td>\n      <td>2</td>\n      <td>NaN</td>\n    </tr>\n  </tbody>\n</table>\n<p>5 rows × 31 columns</p>\n</div>"
     },
     "execution_count": 57,
     "metadata": {},
     "output_type": "execute_result"
    }
   ],
   "source": [
    "compas_data_original_value['score'] = score_list\n",
    "compas_data_original_value[:5]\n"
   ],
   "metadata": {
    "collapsed": false,
    "pycharm": {
     "name": "#%%\n"
    }
   }
  },
  {
   "cell_type": "markdown",
   "source": [
    "### drop useless attributes"
   ],
   "metadata": {
    "collapsed": false,
    "pycharm": {
     "name": "#%% md\n"
    }
   }
  },
  {
   "cell_type": "code",
   "execution_count": 58,
   "outputs": [],
   "source": [
    "compas_data_original_value = compas_data_original_value.drop('FirstName', axis=1)\n",
    "compas_data_original_value = compas_data_original_value.drop('LastName', axis=1)\n",
    "compas_data_original_value = compas_data_original_value.drop('name', axis=1)\n",
    "compas_data_original_value = compas_data_original_value.drop('sex', axis=1)\n",
    "compas_data_original_value = compas_data_original_value.drop('DateOfBirth', axis=1)\n",
    "compas_data_original_value = compas_data_original_value.drop('age', axis=1)\n",
    "compas_data_original_value = compas_data_original_value.drop('race', axis=1)\n",
    "\n"
   ],
   "metadata": {
    "collapsed": false,
    "pycharm": {
     "name": "#%%\n"
    }
   }
  },
  {
   "cell_type": "code",
   "execution_count": 60,
   "outputs": [
    {
     "data": {
      "text/plain": "   juv_fel_count  decile_score  juv_misd_count  juv_other_count  priors_count  \\\n0              0             1               0                0             0   \n1              0             3               0                0             0   \n2              0             4               0                1             4   \n3              0             8               1                0             1   \n4              0             1               0                0             2   \n\n   days_b_screening_arrest  c_days_from_compas c_charge_degree  is_recid  \\\n0                     -1.0                 1.0               F         0   \n1                     -1.0                 1.0               F         1   \n2                     -1.0                 1.0               F         1   \n3                      NaN                 1.0               F         0   \n4                      NaN                76.0               F         0   \n\n   is_violent_recid  ...  event  two_year_recid  Violence_score  \\\n0                 0  ...      0               0           -4.31   \n1                 1  ...      1               1           -3.07   \n2                 0  ...      0               1           -1.31   \n3                 0  ...      0               0           -1.59   \n4                 0  ...      0               0           -3.23   \n\n   Recidivism_score  MarriageStatus  age_binary  age_bucketized  sex_binary  \\\n0             -2.78          Single           1               1           0   \n1             -0.76          Single           0               0           0   \n2              0.44          Single           0               0           0   \n3              0.16          Single           0               0           0   \n4             -2.20         Married           1               1           0   \n\n  race_C     score  \n0      2  0.556584  \n1      0  0.424536  \n2      0  0.498073  \n3      0       NaN  \n4      2       NaN  \n\n[5 rows x 24 columns]",
      "text/html": "<div>\n<style scoped>\n    .dataframe tbody tr th:only-of-type {\n        vertical-align: middle;\n    }\n\n    .dataframe tbody tr th {\n        vertical-align: top;\n    }\n\n    .dataframe thead th {\n        text-align: right;\n    }\n</style>\n<table border=\"1\" class=\"dataframe\">\n  <thead>\n    <tr style=\"text-align: right;\">\n      <th></th>\n      <th>juv_fel_count</th>\n      <th>decile_score</th>\n      <th>juv_misd_count</th>\n      <th>juv_other_count</th>\n      <th>priors_count</th>\n      <th>days_b_screening_arrest</th>\n      <th>c_days_from_compas</th>\n      <th>c_charge_degree</th>\n      <th>is_recid</th>\n      <th>is_violent_recid</th>\n      <th>...</th>\n      <th>event</th>\n      <th>two_year_recid</th>\n      <th>Violence_score</th>\n      <th>Recidivism_score</th>\n      <th>MarriageStatus</th>\n      <th>age_binary</th>\n      <th>age_bucketized</th>\n      <th>sex_binary</th>\n      <th>race_C</th>\n      <th>score</th>\n    </tr>\n  </thead>\n  <tbody>\n    <tr>\n      <th>0</th>\n      <td>0</td>\n      <td>1</td>\n      <td>0</td>\n      <td>0</td>\n      <td>0</td>\n      <td>-1.0</td>\n      <td>1.0</td>\n      <td>F</td>\n      <td>0</td>\n      <td>0</td>\n      <td>...</td>\n      <td>0</td>\n      <td>0</td>\n      <td>-4.31</td>\n      <td>-2.78</td>\n      <td>Single</td>\n      <td>1</td>\n      <td>1</td>\n      <td>0</td>\n      <td>2</td>\n      <td>0.556584</td>\n    </tr>\n    <tr>\n      <th>1</th>\n      <td>0</td>\n      <td>3</td>\n      <td>0</td>\n      <td>0</td>\n      <td>0</td>\n      <td>-1.0</td>\n      <td>1.0</td>\n      <td>F</td>\n      <td>1</td>\n      <td>1</td>\n      <td>...</td>\n      <td>1</td>\n      <td>1</td>\n      <td>-3.07</td>\n      <td>-0.76</td>\n      <td>Single</td>\n      <td>0</td>\n      <td>0</td>\n      <td>0</td>\n      <td>0</td>\n      <td>0.424536</td>\n    </tr>\n    <tr>\n      <th>2</th>\n      <td>0</td>\n      <td>4</td>\n      <td>0</td>\n      <td>1</td>\n      <td>4</td>\n      <td>-1.0</td>\n      <td>1.0</td>\n      <td>F</td>\n      <td>1</td>\n      <td>0</td>\n      <td>...</td>\n      <td>0</td>\n      <td>1</td>\n      <td>-1.31</td>\n      <td>0.44</td>\n      <td>Single</td>\n      <td>0</td>\n      <td>0</td>\n      <td>0</td>\n      <td>0</td>\n      <td>0.498073</td>\n    </tr>\n    <tr>\n      <th>3</th>\n      <td>0</td>\n      <td>8</td>\n      <td>1</td>\n      <td>0</td>\n      <td>1</td>\n      <td>NaN</td>\n      <td>1.0</td>\n      <td>F</td>\n      <td>0</td>\n      <td>0</td>\n      <td>...</td>\n      <td>0</td>\n      <td>0</td>\n      <td>-1.59</td>\n      <td>0.16</td>\n      <td>Single</td>\n      <td>0</td>\n      <td>0</td>\n      <td>0</td>\n      <td>0</td>\n      <td>NaN</td>\n    </tr>\n    <tr>\n      <th>4</th>\n      <td>0</td>\n      <td>1</td>\n      <td>0</td>\n      <td>0</td>\n      <td>2</td>\n      <td>NaN</td>\n      <td>76.0</td>\n      <td>F</td>\n      <td>0</td>\n      <td>0</td>\n      <td>...</td>\n      <td>0</td>\n      <td>0</td>\n      <td>-3.23</td>\n      <td>-2.20</td>\n      <td>Married</td>\n      <td>1</td>\n      <td>1</td>\n      <td>0</td>\n      <td>2</td>\n      <td>NaN</td>\n    </tr>\n  </tbody>\n</table>\n<p>5 rows × 24 columns</p>\n</div>"
     },
     "execution_count": 60,
     "metadata": {},
     "output_type": "execute_result"
    }
   ],
   "source": [
    "compas_data_original_value[:5]"
   ],
   "metadata": {
    "collapsed": false,
    "pycharm": {
     "name": "#%%\n"
    }
   }
  },
  {
   "cell_type": "code",
   "execution_count": 61,
   "outputs": [
    {
     "data": {
      "text/plain": "0       1677.0\n1        786.0\n2       1303.0\n3       6596.0\n4       6597.0\n         ...  \n6884    4119.0\n6885    3641.0\n6886    3752.0\n6887    4032.0\n6888    1634.0\nName: rank, Length: 6889, dtype: float64"
     },
     "execution_count": 61,
     "metadata": {},
     "output_type": "execute_result"
    }
   ],
   "source": [
    "compas_data_original_value['rank'] = compas_data_original_value['score'].rank(method='first', na_option='bottom')\n",
    "compas_data_original_value['rank']\n"
   ],
   "metadata": {
    "collapsed": false,
    "pycharm": {
     "name": "#%%\n"
    }
   }
  },
  {
   "cell_type": "markdown",
   "source": [
    "### output"
   ],
   "metadata": {
    "collapsed": false,
    "pycharm": {
     "name": "#%% md\n"
    }
   }
  },
  {
   "cell_type": "code",
   "execution_count": 64,
   "outputs": [],
   "source": [
    "compas_data_original_value.to_csv(r\"../../InputData/CompasData/general/compas_data_original_value_with_score_and_rank.csv\", index=False)"
   ],
   "metadata": {
    "collapsed": false,
    "pycharm": {
     "name": "#%%\n"
    }
   }
  },
  {
   "cell_type": "markdown",
   "source": [
    "### categorize other attributes"
   ],
   "metadata": {
    "collapsed": false,
    "pycharm": {
     "name": "#%% md\n"
    }
   }
  },
  {
   "cell_type": "code",
   "execution_count": 6,
   "outputs": [
    {
     "data": {
      "text/plain": "   juv_fel_count  decile_score  juv_misd_count  juv_other_count  priors_count  \\\n0              0             1               0                0             0   \n1              0             3               0                0             0   \n2              0             4               0                1             4   \n3              0             8               1                0             1   \n\n   days_b_screening_arrest  c_days_from_compas c_charge_degree  is_recid  \\\n0                     -1.0                 1.0               F         0   \n1                     -1.0                 1.0               F         1   \n2                     -1.0                 1.0               F         1   \n3                      NaN                 1.0               F         0   \n\n   is_violent_recid  ...  two_year_recid  Violence_score  Recidivism_score  \\\n0                 0  ...               0           -4.31             -2.78   \n1                 1  ...               1           -3.07             -0.76   \n2                 0  ...               1           -1.31              0.44   \n3                 0  ...               0           -1.59              0.16   \n\n   MarriageStatus  age_binary  age_bucketized  sex_binary  race_C     score  \\\n0          Single           1               1           0       2  0.556584   \n1          Single           0               0           0       0  0.424536   \n2          Single           0               0           0       0  0.498073   \n3          Single           0               0           0       0       NaN   \n\n     rank  \n0  1677.0  \n1   786.0  \n2  1303.0  \n3  6596.0  \n\n[4 rows x 25 columns]",
      "text/html": "<div>\n<style scoped>\n    .dataframe tbody tr th:only-of-type {\n        vertical-align: middle;\n    }\n\n    .dataframe tbody tr th {\n        vertical-align: top;\n    }\n\n    .dataframe thead th {\n        text-align: right;\n    }\n</style>\n<table border=\"1\" class=\"dataframe\">\n  <thead>\n    <tr style=\"text-align: right;\">\n      <th></th>\n      <th>juv_fel_count</th>\n      <th>decile_score</th>\n      <th>juv_misd_count</th>\n      <th>juv_other_count</th>\n      <th>priors_count</th>\n      <th>days_b_screening_arrest</th>\n      <th>c_days_from_compas</th>\n      <th>c_charge_degree</th>\n      <th>is_recid</th>\n      <th>is_violent_recid</th>\n      <th>...</th>\n      <th>two_year_recid</th>\n      <th>Violence_score</th>\n      <th>Recidivism_score</th>\n      <th>MarriageStatus</th>\n      <th>age_binary</th>\n      <th>age_bucketized</th>\n      <th>sex_binary</th>\n      <th>race_C</th>\n      <th>score</th>\n      <th>rank</th>\n    </tr>\n  </thead>\n  <tbody>\n    <tr>\n      <th>0</th>\n      <td>0</td>\n      <td>1</td>\n      <td>0</td>\n      <td>0</td>\n      <td>0</td>\n      <td>-1.0</td>\n      <td>1.0</td>\n      <td>F</td>\n      <td>0</td>\n      <td>0</td>\n      <td>...</td>\n      <td>0</td>\n      <td>-4.31</td>\n      <td>-2.78</td>\n      <td>Single</td>\n      <td>1</td>\n      <td>1</td>\n      <td>0</td>\n      <td>2</td>\n      <td>0.556584</td>\n      <td>1677.0</td>\n    </tr>\n    <tr>\n      <th>1</th>\n      <td>0</td>\n      <td>3</td>\n      <td>0</td>\n      <td>0</td>\n      <td>0</td>\n      <td>-1.0</td>\n      <td>1.0</td>\n      <td>F</td>\n      <td>1</td>\n      <td>1</td>\n      <td>...</td>\n      <td>1</td>\n      <td>-3.07</td>\n      <td>-0.76</td>\n      <td>Single</td>\n      <td>0</td>\n      <td>0</td>\n      <td>0</td>\n      <td>0</td>\n      <td>0.424536</td>\n      <td>786.0</td>\n    </tr>\n    <tr>\n      <th>2</th>\n      <td>0</td>\n      <td>4</td>\n      <td>0</td>\n      <td>1</td>\n      <td>4</td>\n      <td>-1.0</td>\n      <td>1.0</td>\n      <td>F</td>\n      <td>1</td>\n      <td>0</td>\n      <td>...</td>\n      <td>1</td>\n      <td>-1.31</td>\n      <td>0.44</td>\n      <td>Single</td>\n      <td>0</td>\n      <td>0</td>\n      <td>0</td>\n      <td>0</td>\n      <td>0.498073</td>\n      <td>1303.0</td>\n    </tr>\n    <tr>\n      <th>3</th>\n      <td>0</td>\n      <td>8</td>\n      <td>1</td>\n      <td>0</td>\n      <td>1</td>\n      <td>NaN</td>\n      <td>1.0</td>\n      <td>F</td>\n      <td>0</td>\n      <td>0</td>\n      <td>...</td>\n      <td>0</td>\n      <td>-1.59</td>\n      <td>0.16</td>\n      <td>Single</td>\n      <td>0</td>\n      <td>0</td>\n      <td>0</td>\n      <td>0</td>\n      <td>NaN</td>\n      <td>6596.0</td>\n    </tr>\n  </tbody>\n</table>\n<p>4 rows × 25 columns</p>\n</div>"
     },
     "execution_count": 6,
     "metadata": {},
     "output_type": "execute_result"
    }
   ],
   "source": [
    "compas_data_original_value = pd.read_csv(r\"../../InputData/CompasData/general/compas_data_original_value_with_score_and_rank.csv\")\n",
    "\n",
    "compas_data_original_value[:4]"
   ],
   "metadata": {
    "collapsed": false,
    "pycharm": {
     "name": "#%%\n"
    }
   }
  },
  {
   "cell_type": "code",
   "execution_count": 7,
   "outputs": [
    {
     "name": "stdout",
     "output_type": "stream",
     "text": [
      "Empty DataFrame\n",
      "Columns: [juv_fel_count, decile_score, juv_misd_count, juv_other_count, priors_count, days_b_screening_arrest, c_days_from_compas, c_charge_degree, is_recid, is_violent_recid, v_decile_score, priors_count_C, start, end, event, two_year_recid, Violence_score, Recidivism_score, MarriageStatus, age_binary, age_bucketized, sex_binary, race_C, score, rank]\n",
      "Index: []\n",
      "\n",
      "[0 rows x 25 columns]\n"
     ]
    }
   ],
   "source": [
    "\n",
    "print(compas_data_original_value[ compas_data_original_value['priors_count'] != compas_data_original_value['priors_count_C'] ])\n",
    "# result show that priors_count = priors_count_C, so I need to categorize priors_count_C"
   ],
   "metadata": {
    "collapsed": false,
    "pycharm": {
     "name": "#%%\n"
    }
   }
  },
  {
   "cell_type": "code",
   "execution_count": 8,
   "outputs": [],
   "source": [
    "compas_data_original_value = compas_data_original_value.drop('priors_count_C', axis=1)"
   ],
   "metadata": {
    "collapsed": false,
    "pycharm": {
     "name": "#%%\n"
    }
   }
  },
  {
   "cell_type": "code",
   "execution_count": 9,
   "outputs": [],
   "source": [
    "\n",
    "compas_data_original_value['juv_fel_count_C'] = [0]*6889\n",
    "compas_data_original_value['decile_score_C'] = [0]*6889\n",
    "compas_data_original_value['juv_misd_count_C'] = [0]*6889\n",
    "compas_data_original_value['juv_other_count_C'] = [0]*6889\n",
    "compas_data_original_value['priors_count_C'] = [0]*6889\n",
    "compas_data_original_value['days_b_screening_arrest_C'] = [0]*6889\n",
    "compas_data_original_value['c_days_from_compas_C'] = [0]*6889\n",
    "compas_data_original_value['c_charge_degree_C'] = [0]*6889\n",
    "compas_data_original_value['v_decile_score_C'] = [0]*6889\n",
    "compas_data_original_value['start_C'] = [0]*6889\n",
    "compas_data_original_value['end_C'] = [0]*6889\n",
    "compas_data_original_value['event_C'] = [0]*6889\n",
    "\n",
    "compas_data_original_value['MarriageStatus_C'] = [0]*6889\n",
    "\n"
   ],
   "metadata": {
    "collapsed": false,
    "pycharm": {
     "name": "#%%\n"
    }
   }
  },
  {
   "cell_type": "code",
   "execution_count": 20,
   "outputs": [
    {
     "data": {
      "text/plain": "       juv_fel_count  decile_score  juv_misd_count  juv_other_count  \\\ncount    6889.000000   6889.000000     6889.000000      6889.000000   \nmean        0.068225      4.507621        0.090289         0.111047   \nstd         0.480444      2.855803        0.484343         0.508643   \nmin         0.000000      1.000000        0.000000         0.000000   \n25%         0.000000      2.000000        0.000000         0.000000   \n50%         0.000000      4.000000        0.000000         0.000000   \n75%         0.000000      7.000000        0.000000         0.000000   \nmax        20.000000     10.000000       13.000000        17.000000   \n\n       priors_count  days_b_screening_arrest  c_days_from_compas     is_recid  \\\ncount   6889.000000              6595.000000         6868.000000  6889.000000   \nmean       3.466686                 2.206065           57.663221     0.479895   \nstd        4.881592                71.840165          331.867889     0.499632   \nmin        0.000000              -414.000000            0.000000     0.000000   \n25%        0.000000                -1.000000            1.000000     0.000000   \n50%        2.000000                -1.000000            1.000000     0.000000   \n75%        5.000000                -1.000000            2.000000     1.000000   \nmax       38.000000              1057.000000         9485.000000     1.000000   \n\n       is_violent_recid  v_decile_score  ...  priors_count_C  \\\ncount       6889.000000     6889.000000  ...          6889.0   \nmean           0.112353        3.691682  ...             0.0   \nstd            0.315823        2.512545  ...             0.0   \nmin            0.000000        1.000000  ...             0.0   \n25%            0.000000        1.000000  ...             0.0   \n50%            0.000000        3.000000  ...             0.0   \n75%            0.000000        5.000000  ...             0.0   \nmax            1.000000       10.000000  ...             0.0   \n\n       das_b_screening_arrest_C  c_days_from_compas_C  c_charge_degree_C  \\\ncount                    6889.0                6889.0             6889.0   \nmean                        0.0                   0.0                0.0   \nstd                         0.0                   0.0                0.0   \nmin                         0.0                   0.0                0.0   \n25%                         0.0                   0.0                0.0   \n50%                         0.0                   0.0                0.0   \n75%                         0.0                   0.0                0.0   \nmax                         0.0                   0.0                0.0   \n\n       v_decile_score_C  start_C   end_C  event_C  two_year_recid_C  \\\ncount            6889.0   6889.0  6889.0   6889.0            6889.0   \nmean                0.0      0.0     0.0      0.0               0.0   \nstd                 0.0      0.0     0.0      0.0               0.0   \nmin                 0.0      0.0     0.0      0.0               0.0   \n25%                 0.0      0.0     0.0      0.0               0.0   \n50%                 0.0      0.0     0.0      0.0               0.0   \n75%                 0.0      0.0     0.0      0.0               0.0   \nmax                 0.0      0.0     0.0      0.0               0.0   \n\n       MarriageStatus_C  \ncount            6889.0  \nmean                0.0  \nstd                 0.0  \nmin                 0.0  \n25%                 0.0  \n50%                 0.0  \n75%                 0.0  \nmax                 0.0  \n\n[8 rows x 36 columns]",
      "text/html": "<div>\n<style scoped>\n    .dataframe tbody tr th:only-of-type {\n        vertical-align: middle;\n    }\n\n    .dataframe tbody tr th {\n        vertical-align: top;\n    }\n\n    .dataframe thead th {\n        text-align: right;\n    }\n</style>\n<table border=\"1\" class=\"dataframe\">\n  <thead>\n    <tr style=\"text-align: right;\">\n      <th></th>\n      <th>juv_fel_count</th>\n      <th>decile_score</th>\n      <th>juv_misd_count</th>\n      <th>juv_other_count</th>\n      <th>priors_count</th>\n      <th>days_b_screening_arrest</th>\n      <th>c_days_from_compas</th>\n      <th>is_recid</th>\n      <th>is_violent_recid</th>\n      <th>v_decile_score</th>\n      <th>...</th>\n      <th>priors_count_C</th>\n      <th>das_b_screening_arrest_C</th>\n      <th>c_days_from_compas_C</th>\n      <th>c_charge_degree_C</th>\n      <th>v_decile_score_C</th>\n      <th>start_C</th>\n      <th>end_C</th>\n      <th>event_C</th>\n      <th>two_year_recid_C</th>\n      <th>MarriageStatus_C</th>\n    </tr>\n  </thead>\n  <tbody>\n    <tr>\n      <th>count</th>\n      <td>6889.000000</td>\n      <td>6889.000000</td>\n      <td>6889.000000</td>\n      <td>6889.000000</td>\n      <td>6889.000000</td>\n      <td>6595.000000</td>\n      <td>6868.000000</td>\n      <td>6889.000000</td>\n      <td>6889.000000</td>\n      <td>6889.000000</td>\n      <td>...</td>\n      <td>6889.0</td>\n      <td>6889.0</td>\n      <td>6889.0</td>\n      <td>6889.0</td>\n      <td>6889.0</td>\n      <td>6889.0</td>\n      <td>6889.0</td>\n      <td>6889.0</td>\n      <td>6889.0</td>\n      <td>6889.0</td>\n    </tr>\n    <tr>\n      <th>mean</th>\n      <td>0.068225</td>\n      <td>4.507621</td>\n      <td>0.090289</td>\n      <td>0.111047</td>\n      <td>3.466686</td>\n      <td>2.206065</td>\n      <td>57.663221</td>\n      <td>0.479895</td>\n      <td>0.112353</td>\n      <td>3.691682</td>\n      <td>...</td>\n      <td>0.0</td>\n      <td>0.0</td>\n      <td>0.0</td>\n      <td>0.0</td>\n      <td>0.0</td>\n      <td>0.0</td>\n      <td>0.0</td>\n      <td>0.0</td>\n      <td>0.0</td>\n      <td>0.0</td>\n    </tr>\n    <tr>\n      <th>std</th>\n      <td>0.480444</td>\n      <td>2.855803</td>\n      <td>0.484343</td>\n      <td>0.508643</td>\n      <td>4.881592</td>\n      <td>71.840165</td>\n      <td>331.867889</td>\n      <td>0.499632</td>\n      <td>0.315823</td>\n      <td>2.512545</td>\n      <td>...</td>\n      <td>0.0</td>\n      <td>0.0</td>\n      <td>0.0</td>\n      <td>0.0</td>\n      <td>0.0</td>\n      <td>0.0</td>\n      <td>0.0</td>\n      <td>0.0</td>\n      <td>0.0</td>\n      <td>0.0</td>\n    </tr>\n    <tr>\n      <th>min</th>\n      <td>0.000000</td>\n      <td>1.000000</td>\n      <td>0.000000</td>\n      <td>0.000000</td>\n      <td>0.000000</td>\n      <td>-414.000000</td>\n      <td>0.000000</td>\n      <td>0.000000</td>\n      <td>0.000000</td>\n      <td>1.000000</td>\n      <td>...</td>\n      <td>0.0</td>\n      <td>0.0</td>\n      <td>0.0</td>\n      <td>0.0</td>\n      <td>0.0</td>\n      <td>0.0</td>\n      <td>0.0</td>\n      <td>0.0</td>\n      <td>0.0</td>\n      <td>0.0</td>\n    </tr>\n    <tr>\n      <th>25%</th>\n      <td>0.000000</td>\n      <td>2.000000</td>\n      <td>0.000000</td>\n      <td>0.000000</td>\n      <td>0.000000</td>\n      <td>-1.000000</td>\n      <td>1.000000</td>\n      <td>0.000000</td>\n      <td>0.000000</td>\n      <td>1.000000</td>\n      <td>...</td>\n      <td>0.0</td>\n      <td>0.0</td>\n      <td>0.0</td>\n      <td>0.0</td>\n      <td>0.0</td>\n      <td>0.0</td>\n      <td>0.0</td>\n      <td>0.0</td>\n      <td>0.0</td>\n      <td>0.0</td>\n    </tr>\n    <tr>\n      <th>50%</th>\n      <td>0.000000</td>\n      <td>4.000000</td>\n      <td>0.000000</td>\n      <td>0.000000</td>\n      <td>2.000000</td>\n      <td>-1.000000</td>\n      <td>1.000000</td>\n      <td>0.000000</td>\n      <td>0.000000</td>\n      <td>3.000000</td>\n      <td>...</td>\n      <td>0.0</td>\n      <td>0.0</td>\n      <td>0.0</td>\n      <td>0.0</td>\n      <td>0.0</td>\n      <td>0.0</td>\n      <td>0.0</td>\n      <td>0.0</td>\n      <td>0.0</td>\n      <td>0.0</td>\n    </tr>\n    <tr>\n      <th>75%</th>\n      <td>0.000000</td>\n      <td>7.000000</td>\n      <td>0.000000</td>\n      <td>0.000000</td>\n      <td>5.000000</td>\n      <td>-1.000000</td>\n      <td>2.000000</td>\n      <td>1.000000</td>\n      <td>0.000000</td>\n      <td>5.000000</td>\n      <td>...</td>\n      <td>0.0</td>\n      <td>0.0</td>\n      <td>0.0</td>\n      <td>0.0</td>\n      <td>0.0</td>\n      <td>0.0</td>\n      <td>0.0</td>\n      <td>0.0</td>\n      <td>0.0</td>\n      <td>0.0</td>\n    </tr>\n    <tr>\n      <th>max</th>\n      <td>20.000000</td>\n      <td>10.000000</td>\n      <td>13.000000</td>\n      <td>17.000000</td>\n      <td>38.000000</td>\n      <td>1057.000000</td>\n      <td>9485.000000</td>\n      <td>1.000000</td>\n      <td>1.000000</td>\n      <td>10.000000</td>\n      <td>...</td>\n      <td>0.0</td>\n      <td>0.0</td>\n      <td>0.0</td>\n      <td>0.0</td>\n      <td>0.0</td>\n      <td>0.0</td>\n      <td>0.0</td>\n      <td>0.0</td>\n      <td>0.0</td>\n      <td>0.0</td>\n    </tr>\n  </tbody>\n</table>\n<p>8 rows × 36 columns</p>\n</div>"
     },
     "execution_count": 20,
     "metadata": {},
     "output_type": "execute_result"
    }
   ],
   "source": [
    "compas_data_original_value.describe()"
   ],
   "metadata": {
    "collapsed": false,
    "pycharm": {
     "name": "#%%\n"
    }
   }
  },
  {
   "cell_type": "code",
   "execution_count": null,
   "outputs": [],
   "source": [
    "compas_data = compas_data_original_value"
   ],
   "metadata": {
    "collapsed": false,
    "pycharm": {
     "name": "#%%\n"
    }
   }
  },
  {
   "cell_type": "code",
   "execution_count": null,
   "outputs": [],
   "source": [
    "def juv_fel_count(x):\n",
    "    if x < 5:\n",
    "        return 0\n",
    "    elif x < 10:\n",
    "        return 1\n",
    "    elif x < 15:\n",
    "        return 2\n",
    "    else:\n",
    "        return 3\n",
    "\n",
    "print(compas_data['juv_fel_count_C'])\n",
    "compas_data['juv_fel_count_C'] = compas_data['juv_fel_count'].map(lambda x: juv_fel_count(x))\n",
    "print(compas_data['juv_fel_count_C'])"
   ],
   "metadata": {
    "collapsed": false,
    "pycharm": {
     "name": "#%%\n"
    }
   }
  },
  {
   "cell_type": "code",
   "execution_count": 21,
   "outputs": [
    {
     "name": "stdout",
     "output_type": "stream",
     "text": [
      "0       0\n",
      "1       0\n",
      "2       0\n",
      "3       0\n",
      "4       0\n",
      "       ..\n",
      "6884    0\n",
      "6885    0\n",
      "6886    0\n",
      "6887    0\n",
      "6888    0\n",
      "Name: decile_score_C, Length: 6889, dtype: int64\n",
      "0       0\n",
      "1       0\n",
      "2       0\n",
      "3       1\n",
      "4       0\n",
      "       ..\n",
      "6884    1\n",
      "6885    0\n",
      "6886    0\n",
      "6887    0\n",
      "6888    0\n",
      "Name: decile_score_C, Length: 6889, dtype: int64\n"
     ]
    }
   ],
   "source": [
    "def decile_score(x):\n",
    "    if x <= 5:\n",
    "        return 0\n",
    "    else:\n",
    "        return 1\n",
    "\n",
    "print(compas_data['decile_score_C'])\n",
    "compas_data['decile_score_C'] = compas_data['decile_score'].map(lambda x: decile_score(x))\n",
    "print(compas_data['decile_score_C'])\n",
    "\n"
   ],
   "metadata": {
    "collapsed": false,
    "pycharm": {
     "name": "#%%\n"
    }
   }
  },
  {
   "cell_type": "code",
   "execution_count": 22,
   "outputs": [
    {
     "name": "stdout",
     "output_type": "stream",
     "text": [
      "0       0\n",
      "1       0\n",
      "2       0\n",
      "3       0\n",
      "4       0\n",
      "       ..\n",
      "6884    0\n",
      "6885    0\n",
      "6886    0\n",
      "6887    0\n",
      "6888    0\n",
      "Name: juv_misd_count_C, Length: 6889, dtype: int64\n",
      "0       0\n",
      "1       0\n",
      "2       0\n",
      "3       0\n",
      "4       0\n",
      "       ..\n",
      "6884    0\n",
      "6885    0\n",
      "6886    0\n",
      "6887    0\n",
      "6888    0\n",
      "Name: juv_misd_count_C, Length: 6889, dtype: int64\n"
     ]
    }
   ],
   "source": [
    "def juv_misd_count(x):\n",
    "    if x < 5:\n",
    "        return 0\n",
    "    elif x < 10:\n",
    "        return 1\n",
    "    else:\n",
    "        return 2\n",
    "\n",
    "\n",
    "print(compas_data['juv_misd_count_C'])\n",
    "compas_data['juv_misd_count_C'] = compas_data['juv_misd_count'].map(lambda x: juv_misd_count(x))\n",
    "print(compas_data['juv_misd_count_C'])\n"
   ],
   "metadata": {
    "collapsed": false,
    "pycharm": {
     "name": "#%%\n"
    }
   }
  },
  {
   "cell_type": "code",
   "execution_count": 23,
   "outputs": [
    {
     "name": "stdout",
     "output_type": "stream",
     "text": [
      "0       0\n",
      "1       0\n",
      "2       0\n",
      "3       0\n",
      "4       0\n",
      "       ..\n",
      "6884    0\n",
      "6885    0\n",
      "6886    0\n",
      "6887    0\n",
      "6888    0\n",
      "Name: juv_other_count_C, Length: 6889, dtype: int64\n",
      "0       0\n",
      "1       0\n",
      "2       0\n",
      "3       0\n",
      "4       0\n",
      "       ..\n",
      "6884    0\n",
      "6885    0\n",
      "6886    0\n",
      "6887    0\n",
      "6888    0\n",
      "Name: juv_other_count_C, Length: 6889, dtype: int64\n"
     ]
    }
   ],
   "source": [
    "\n",
    "\n",
    "def juv_other_count(x):\n",
    "    if x < 6:\n",
    "        return 0\n",
    "    elif x < 12:\n",
    "        return 1\n",
    "    else:\n",
    "        return 2\n",
    "\n",
    "\n",
    "print(compas_data['juv_other_count_C'])\n",
    "compas_data['juv_other_count_C'] = compas_data['juv_other_count'].map(lambda x: juv_other_count(x))\n",
    "print(compas_data['juv_other_count_C'])\n"
   ],
   "metadata": {
    "collapsed": false,
    "pycharm": {
     "name": "#%%\n"
    }
   }
  },
  {
   "cell_type": "code",
   "execution_count": 24,
   "outputs": [
    {
     "name": "stdout",
     "output_type": "stream",
     "text": [
      "0       0\n",
      "1       0\n",
      "2       0\n",
      "3       0\n",
      "4       0\n",
      "       ..\n",
      "6884    0\n",
      "6885    0\n",
      "6886    0\n",
      "6887    0\n",
      "6888    0\n",
      "Name: priors_count_C, Length: 6889, dtype: int64\n",
      "0       0\n",
      "1       0\n",
      "2       0\n",
      "3       0\n",
      "4       0\n",
      "       ..\n",
      "6884    0\n",
      "6885    0\n",
      "6886    0\n",
      "6887    0\n",
      "6888    0\n",
      "Name: priors_count_C, Length: 6889, dtype: int64\n"
     ]
    }
   ],
   "source": [
    "\n",
    "\n",
    "def priors_count(x):\n",
    "    if x < 10:\n",
    "        return 0\n",
    "    elif x < 20:\n",
    "        return 1\n",
    "    elif x < 30:\n",
    "        return 2\n",
    "    else:\n",
    "        return 3\n",
    "\n",
    "\n",
    "print(compas_data['priors_count_C'])\n",
    "compas_data['priors_count_C'] = compas_data['priors_count'].map(lambda x: priors_count(x))\n",
    "print(compas_data['priors_count_C'])\n",
    "\n"
   ],
   "metadata": {
    "collapsed": false,
    "pycharm": {
     "name": "#%%\n"
    }
   }
  },
  {
   "cell_type": "code",
   "execution_count": 29,
   "outputs": [],
   "source": [
    "\n"
   ],
   "metadata": {
    "collapsed": false,
    "pycharm": {
     "name": "#%%\n"
    }
   }
  },
  {
   "cell_type": "code",
   "execution_count": 31,
   "outputs": [
    {
     "name": "stdout",
     "output_type": "stream",
     "text": [
      "0       0\n",
      "1       0\n",
      "2       0\n",
      "3       0\n",
      "4       0\n",
      "       ..\n",
      "6884    0\n",
      "6885    0\n",
      "6886    0\n",
      "6887    0\n",
      "6888    0\n",
      "Name: days_b_screening_arrest_C, Length: 6889, dtype: int64\n",
      "0       0\n",
      "1       0\n",
      "2       0\n",
      "3       2\n",
      "4       2\n",
      "       ..\n",
      "6884    0\n",
      "6885    0\n",
      "6886    0\n",
      "6887    0\n",
      "6888    0\n",
      "Name: days_b_screening_arrest_C, Length: 6889, dtype: int64\n"
     ]
    }
   ],
   "source": [
    "\n",
    "def days_b_screening_arrest(x):\n",
    "    if x < 0:\n",
    "        return 0\n",
    "    elif x < 500:\n",
    "        return 1\n",
    "    else:\n",
    "        return 2\n",
    "\n",
    "\n",
    "print(compas_data['days_b_screening_arrest_C'])\n",
    "compas_data['days_b_screening_arrest_C'] = compas_data['days_b_screening_arrest'].map(lambda x: days_b_screening_arrest(x))\n",
    "print(compas_data['days_b_screening_arrest_C'])\n"
   ],
   "metadata": {
    "collapsed": false,
    "pycharm": {
     "name": "#%%\n"
    }
   }
  },
  {
   "cell_type": "code",
   "execution_count": 32,
   "outputs": [
    {
     "name": "stdout",
     "output_type": "stream",
     "text": [
      "0       0\n",
      "1       0\n",
      "2       0\n",
      "3       0\n",
      "4       0\n",
      "       ..\n",
      "6884    0\n",
      "6885    0\n",
      "6886    0\n",
      "6887    0\n",
      "6888    0\n",
      "Name: c_days_from_compas_C, Length: 6889, dtype: int64\n",
      "0       0\n",
      "1       0\n",
      "2       0\n",
      "3       0\n",
      "4       0\n",
      "       ..\n",
      "6884    0\n",
      "6885    0\n",
      "6886    0\n",
      "6887    0\n",
      "6888    0\n",
      "Name: c_days_from_compas_C, Length: 6889, dtype: int64\n"
     ]
    }
   ],
   "source": [
    "\n",
    "def c_days_from_compas(x):\n",
    "    if x < 3000:\n",
    "        return 0\n",
    "    elif x < 6000:\n",
    "        return 1\n",
    "    else:\n",
    "        return 2\n",
    "\n",
    "\n",
    "print(compas_data['c_days_from_compas_C'])\n",
    "compas_data['c_days_from_compas_C'] = compas_data['c_days_from_compas'].map(lambda x: c_days_from_compas(x))\n",
    "print(compas_data['c_days_from_compas_C'])\n"
   ],
   "metadata": {
    "collapsed": false,
    "pycharm": {
     "name": "#%%\n"
    }
   }
  },
  {
   "cell_type": "code",
   "execution_count": 33,
   "outputs": [
    {
     "data": {
      "text/plain": "count     6889\nunique       2\ntop          F\nfreq      4444\nName: c_charge_degree, dtype: object"
     },
     "execution_count": 33,
     "metadata": {},
     "output_type": "execute_result"
    }
   ],
   "source": [
    "compas_data['c_charge_degree'].describe()"
   ],
   "metadata": {
    "collapsed": false,
    "pycharm": {
     "name": "#%%\n"
    }
   }
  },
  {
   "cell_type": "code",
   "execution_count": 34,
   "outputs": [
    {
     "name": "stdout",
     "output_type": "stream",
     "text": [
      "0       0\n",
      "1       0\n",
      "2       0\n",
      "3       0\n",
      "4       0\n",
      "       ..\n",
      "6884    0\n",
      "6885    0\n",
      "6886    0\n",
      "6887    0\n",
      "6888    0\n",
      "Name: c_charge_degree_C, Length: 6889, dtype: int64\n",
      "0       0\n",
      "1       0\n",
      "2       0\n",
      "3       0\n",
      "4       0\n",
      "       ..\n",
      "6884    0\n",
      "6885    0\n",
      "6886    0\n",
      "6887    1\n",
      "6888    0\n",
      "Name: c_charge_degree_C, Length: 6889, dtype: int64\n"
     ]
    }
   ],
   "source": [
    "\n",
    "def c_charge_degree(x):\n",
    "    if x == 'F':\n",
    "        return 0\n",
    "    else:\n",
    "        return 1\n",
    "\n",
    "\n",
    "print(compas_data['c_charge_degree_C'])\n",
    "compas_data['c_charge_degree_C'] = compas_data['c_charge_degree'].map(lambda x: c_charge_degree(x))\n",
    "print(compas_data['c_charge_degree_C'])\n"
   ],
   "metadata": {
    "collapsed": false,
    "pycharm": {
     "name": "#%%\n"
    }
   }
  },
  {
   "cell_type": "code",
   "execution_count": 37,
   "outputs": [
    {
     "data": {
      "text/plain": "count    6889.000000\nmean        3.691682\nstd         2.512545\nmin         1.000000\n25%         1.000000\n50%         3.000000\n75%         5.000000\nmax        10.000000\nName: v_decile_score, dtype: float64"
     },
     "execution_count": 37,
     "metadata": {},
     "output_type": "execute_result"
    }
   ],
   "source": [
    "compas_data['v_decile_score'].describe()"
   ],
   "metadata": {
    "collapsed": false,
    "pycharm": {
     "name": "#%%\n"
    }
   }
  },
  {
   "cell_type": "code",
   "execution_count": 38,
   "outputs": [
    {
     "name": "stdout",
     "output_type": "stream",
     "text": [
      "0       0\n",
      "1       0\n",
      "2       0\n",
      "3       0\n",
      "4       0\n",
      "       ..\n",
      "6884    0\n",
      "6885    0\n",
      "6886    0\n",
      "6887    0\n",
      "6888    0\n",
      "Name: v_decile_score_C, Length: 6889, dtype: int64\n",
      "0       0\n",
      "1       0\n",
      "2       0\n",
      "3       1\n",
      "4       0\n",
      "       ..\n",
      "6884    0\n",
      "6885    0\n",
      "6886    0\n",
      "6887    0\n",
      "6888    0\n",
      "Name: v_decile_score_C, Length: 6889, dtype: int64\n"
     ]
    }
   ],
   "source": [
    "def v_decile_score(x):\n",
    "    if x <= 5:\n",
    "        return 0\n",
    "    else:\n",
    "        return 1\n",
    "\n",
    "\n",
    "print(compas_data['v_decile_score_C'])\n",
    "compas_data['v_decile_score_C'] = compas_data['v_decile_score'].map(lambda x: v_decile_score(x))\n",
    "print(compas_data['v_decile_score_C'])\n"
   ],
   "metadata": {
    "collapsed": false,
    "pycharm": {
     "name": "#%%\n"
    }
   }
  },
  {
   "cell_type": "code",
   "execution_count": 40,
   "outputs": [
    {
     "data": {
      "text/plain": "count    6889.000000\nmean       11.567281\nstd        47.454454\nmin         0.000000\n25%         0.000000\n50%         0.000000\n75%         2.000000\nmax       937.000000\nName: start, dtype: float64"
     },
     "execution_count": 40,
     "metadata": {},
     "output_type": "execute_result"
    }
   ],
   "source": [
    "compas_data['start'].describe()"
   ],
   "metadata": {
    "collapsed": false,
    "pycharm": {
     "name": "#%%\n"
    }
   }
  },
  {
   "cell_type": "code",
   "execution_count": 41,
   "outputs": [
    {
     "name": "stdout",
     "output_type": "stream",
     "text": [
      "0       0\n",
      "1       0\n",
      "2       0\n",
      "3       0\n",
      "4       0\n",
      "       ..\n",
      "6884    0\n",
      "6885    0\n",
      "6886    0\n",
      "6887    0\n",
      "6888    0\n",
      "Name: start_C, Length: 6889, dtype: int64\n",
      "0       0\n",
      "1       0\n",
      "2       0\n",
      "3       0\n",
      "4       0\n",
      "       ..\n",
      "6884    0\n",
      "6885    0\n",
      "6886    0\n",
      "6887    0\n",
      "6888    0\n",
      "Name: start_C, Length: 6889, dtype: int64\n"
     ]
    }
   ],
   "source": [
    "def start(x):\n",
    "    if x <= 300:\n",
    "        return 0\n",
    "    elif x <= 600:\n",
    "        return 1\n",
    "    else:\n",
    "        return 2\n",
    "\n",
    "\n",
    "print(compas_data['start_C'])\n",
    "compas_data['start_C'] = compas_data['start'].map(lambda x: start(x))\n",
    "print(compas_data['start_C'])"
   ],
   "metadata": {
    "collapsed": false,
    "pycharm": {
     "name": "#%%\n"
    }
   }
  },
  {
   "cell_type": "code",
   "execution_count": 42,
   "outputs": [
    {
     "data": {
      "text/plain": "count    6889.000000\nmean      554.479315\nstd       399.199550\nmin         0.000000\n25%       149.000000\n50%       532.000000\n75%       914.000000\nmax      1186.000000\nName: end, dtype: float64"
     },
     "execution_count": 42,
     "metadata": {},
     "output_type": "execute_result"
    }
   ],
   "source": [
    "compas_data['end'].describe()"
   ],
   "metadata": {
    "collapsed": false,
    "pycharm": {
     "name": "#%%\n"
    }
   }
  },
  {
   "cell_type": "code",
   "execution_count": 43,
   "outputs": [
    {
     "name": "stdout",
     "output_type": "stream",
     "text": [
      "0       0\n",
      "1       0\n",
      "2       0\n",
      "3       0\n",
      "4       0\n",
      "       ..\n",
      "6884    0\n",
      "6885    0\n",
      "6886    0\n",
      "6887    0\n",
      "6888    0\n",
      "Name: end_C, Length: 6889, dtype: int64\n",
      "0       0\n",
      "1       0\n",
      "2       0\n",
      "3       2\n",
      "4       2\n",
      "       ..\n",
      "6884    2\n",
      "6885    1\n",
      "6886    2\n",
      "6887    1\n",
      "6888    0\n",
      "Name: end_C, Length: 6889, dtype: int64\n"
     ]
    }
   ],
   "source": [
    "def end(x):\n",
    "    if x <= 400:\n",
    "        return 0\n",
    "    elif x <= 800:\n",
    "        return 1\n",
    "    else:\n",
    "        return 2\n",
    "\n",
    "\n",
    "print(compas_data['end_C'])\n",
    "compas_data['end_C'] = compas_data['end'].map(lambda x: end(x))\n",
    "print(compas_data['end_C'])\n"
   ],
   "metadata": {
    "collapsed": false,
    "pycharm": {
     "name": "#%%\n"
    }
   }
  },
  {
   "cell_type": "code",
   "execution_count": 46,
   "outputs": [],
   "source": [
    "compas_data = compas_data.drop('event', axis=1)\n"
   ],
   "metadata": {
    "collapsed": false,
    "pycharm": {
     "name": "#%%\n"
    }
   }
  },
  {
   "cell_type": "code",
   "execution_count": 54,
   "outputs": [
    {
     "data": {
      "text/plain": "Index(['juv_fel_count', 'decile_score', 'juv_misd_count', 'juv_other_count',\n       'priors_count', 'days_b_screening_arrest', 'c_days_from_compas',\n       'c_charge_degree', 'is_recid', 'is_violent_recid', 'v_decile_score',\n       'start', 'end', 'two_year_recid', 'Violence_score', 'Recidivism_score',\n       'MarriageStatus', 'age_binary', 'age_bucketized', 'sex_binary',\n       'race_C', 'score', 'rank', 'juv_fel_count_C', 'decile_score_C',\n       'juv_misd_count_C', 'juv_other_count_C', 'priors_count_C',\n       'days_b_screening_arrest_C', 'c_days_from_compas_C',\n       'c_charge_degree_C', 'v_decile_score_C', 'start_C', 'end_C', 'event_C',\n       'two_year_recid_C', 'MarriageStatus_C'],\n      dtype='object')"
     },
     "execution_count": 54,
     "metadata": {},
     "output_type": "execute_result"
    }
   ],
   "source": [
    "compas_data.columns\n"
   ],
   "metadata": {
    "collapsed": false,
    "pycharm": {
     "name": "#%%\n"
    }
   }
  },
  {
   "cell_type": "code",
   "execution_count": 55,
   "outputs": [
    {
     "name": "stdout",
     "output_type": "stream",
     "text": [
      "0       0\n",
      "1       0\n",
      "2       0\n",
      "3       0\n",
      "4       0\n",
      "       ..\n",
      "6884    0\n",
      "6885    0\n",
      "6886    0\n",
      "6887    0\n",
      "6888    0\n",
      "Name: MarriageStatus_C, Length: 6889, dtype: int64\n",
      "0       0\n",
      "1       0\n",
      "2       0\n",
      "3       0\n",
      "4       1\n",
      "       ..\n",
      "6884    0\n",
      "6885    0\n",
      "6886    1\n",
      "6887    0\n",
      "6888    0\n",
      "Name: MarriageStatus_C, Length: 6889, dtype: int64\n"
     ]
    }
   ],
   "source": [
    "\n",
    "def MarriageStatus(x):\n",
    "    if x == 'Single':\n",
    "        return 0\n",
    "    elif x == 'Married':\n",
    "        return 1\n",
    "    elif x == 'Separated':\n",
    "        return 2\n",
    "    elif x == 'Unknown':\n",
    "        return 3\n",
    "    elif x == 'Significant Other':\n",
    "        return 4\n",
    "    elif x == 'Widowed':\n",
    "        return 5\n",
    "    elif x == 'Divorced':\n",
    "        return 6\n",
    "\n",
    "\n",
    "print(compas_data['MarriageStatus_C'])\n",
    "compas_data['MarriageStatus_C'] = compas_data['MarriageStatus'].map(lambda x: MarriageStatus(x))\n",
    "print(compas_data['MarriageStatus_C'])\n"
   ],
   "metadata": {
    "collapsed": false,
    "pycharm": {
     "name": "#%%\n"
    }
   }
  },
  {
   "cell_type": "code",
   "execution_count": 60,
   "outputs": [],
   "source": [
    "\n",
    "compas_data.to_csv(r\"../../InputData/CompasData/general/CompasData_categorized.csv\", index=False)"
   ],
   "metadata": {
    "collapsed": false,
    "pycharm": {
     "name": "#%%\n"
    }
   }
  },
  {
   "cell_type": "code",
   "execution_count": 63,
   "outputs": [
    {
     "data": {
      "text/plain": "   juv_fel_count  decile_score  juv_misd_count  juv_other_count  priors_count  \\\n0              0             1               0                0             0   \n1              0             3               0                0             0   \n2              0             4               0                1             4   \n3              0             8               1                0             1   \n\n   days_b_screening_arrest  c_days_from_compas c_charge_degree  is_recid  \\\n0                     -1.0                 1.0               F         0   \n1                     -1.0                 1.0               F         1   \n2                     -1.0                 1.0               F         1   \n3                      NaN                 1.0               F         0   \n\n   is_violent_recid  ...  juv_other_count_C  priors_count_C  \\\n0                 0  ...                  0               0   \n1                 1  ...                  0               0   \n2                 0  ...                  0               0   \n3                 0  ...                  0               0   \n\n   days_b_screening_arrest_C  c_days_from_compas_C  c_charge_degree_C  \\\n0                          0                     0                  0   \n1                          0                     0                  0   \n2                          0                     0                  0   \n3                          2                     0                  0   \n\n   v_decile_score_C start_C  end_C  event_C  MarriageStatus_C  \n0                 0       0      0        0                 0  \n1                 0       0      0        1                 0  \n2                 0       0      0        0                 0  \n3                 1       0      2        0                 0  \n\n[4 rows x 36 columns]",
      "text/html": "<div>\n<style scoped>\n    .dataframe tbody tr th:only-of-type {\n        vertical-align: middle;\n    }\n\n    .dataframe tbody tr th {\n        vertical-align: top;\n    }\n\n    .dataframe thead th {\n        text-align: right;\n    }\n</style>\n<table border=\"1\" class=\"dataframe\">\n  <thead>\n    <tr style=\"text-align: right;\">\n      <th></th>\n      <th>juv_fel_count</th>\n      <th>decile_score</th>\n      <th>juv_misd_count</th>\n      <th>juv_other_count</th>\n      <th>priors_count</th>\n      <th>days_b_screening_arrest</th>\n      <th>c_days_from_compas</th>\n      <th>c_charge_degree</th>\n      <th>is_recid</th>\n      <th>is_violent_recid</th>\n      <th>...</th>\n      <th>juv_other_count_C</th>\n      <th>priors_count_C</th>\n      <th>days_b_screening_arrest_C</th>\n      <th>c_days_from_compas_C</th>\n      <th>c_charge_degree_C</th>\n      <th>v_decile_score_C</th>\n      <th>start_C</th>\n      <th>end_C</th>\n      <th>event_C</th>\n      <th>MarriageStatus_C</th>\n    </tr>\n  </thead>\n  <tbody>\n    <tr>\n      <th>0</th>\n      <td>0</td>\n      <td>1</td>\n      <td>0</td>\n      <td>0</td>\n      <td>0</td>\n      <td>-1.0</td>\n      <td>1.0</td>\n      <td>F</td>\n      <td>0</td>\n      <td>0</td>\n      <td>...</td>\n      <td>0</td>\n      <td>0</td>\n      <td>0</td>\n      <td>0</td>\n      <td>0</td>\n      <td>0</td>\n      <td>0</td>\n      <td>0</td>\n      <td>0</td>\n      <td>0</td>\n    </tr>\n    <tr>\n      <th>1</th>\n      <td>0</td>\n      <td>3</td>\n      <td>0</td>\n      <td>0</td>\n      <td>0</td>\n      <td>-1.0</td>\n      <td>1.0</td>\n      <td>F</td>\n      <td>1</td>\n      <td>1</td>\n      <td>...</td>\n      <td>0</td>\n      <td>0</td>\n      <td>0</td>\n      <td>0</td>\n      <td>0</td>\n      <td>0</td>\n      <td>0</td>\n      <td>0</td>\n      <td>1</td>\n      <td>0</td>\n    </tr>\n    <tr>\n      <th>2</th>\n      <td>0</td>\n      <td>4</td>\n      <td>0</td>\n      <td>1</td>\n      <td>4</td>\n      <td>-1.0</td>\n      <td>1.0</td>\n      <td>F</td>\n      <td>1</td>\n      <td>0</td>\n      <td>...</td>\n      <td>0</td>\n      <td>0</td>\n      <td>0</td>\n      <td>0</td>\n      <td>0</td>\n      <td>0</td>\n      <td>0</td>\n      <td>0</td>\n      <td>0</td>\n      <td>0</td>\n    </tr>\n    <tr>\n      <th>3</th>\n      <td>0</td>\n      <td>8</td>\n      <td>1</td>\n      <td>0</td>\n      <td>1</td>\n      <td>NaN</td>\n      <td>1.0</td>\n      <td>F</td>\n      <td>0</td>\n      <td>0</td>\n      <td>...</td>\n      <td>0</td>\n      <td>0</td>\n      <td>2</td>\n      <td>0</td>\n      <td>0</td>\n      <td>1</td>\n      <td>0</td>\n      <td>2</td>\n      <td>0</td>\n      <td>0</td>\n    </tr>\n  </tbody>\n</table>\n<p>4 rows × 36 columns</p>\n</div>"
     },
     "execution_count": 63,
     "metadata": {},
     "output_type": "execute_result"
    }
   ],
   "source": [
    "compas_data = pd.read_csv(r\"../../InputData/CompasData/general/CompasData_categorized.csv\")\n",
    "\n",
    "compas_data[:4]\n"
   ],
   "metadata": {
    "collapsed": false,
    "pycharm": {
     "name": "#%%\n"
    }
   }
  },
  {
   "cell_type": "code",
   "execution_count": 65,
   "outputs": [],
   "source": [
    "att_list = ['age_binary', 'age_bucketized', 'sex_binary', 'race_C', 'score', 'rank',\n",
    "            'juv_fel_count_C', 'decile_score_C', 'juv_misd_count_C', 'juv_other_count_C', 'priors_count_C',\n",
    "            'days_b_screening_arrest_C', 'c_days_from_compas_C', 'c_charge_degree_C', 'v_decile_score_C', 'start_C',\n",
    "            'end_C', 'event_C', 'MarriageStatus_C', 'is_recid', 'is_violent_recid', 'two_year_recid',\n",
    "            'Violence_score', 'Recidivism_score']\n",
    "compas_data_necessary_att = compas_data[att_list]\n",
    "\n",
    "compas_data_necessary_att.to_csv(r\"../../InputData/CompasData/general/compas_data_cat_necessary_att.csv\", index=False)\n"
   ],
   "metadata": {
    "collapsed": false,
    "pycharm": {
     "name": "#%%\n"
    }
   }
  },
  {
   "cell_type": "code",
   "execution_count": null,
   "outputs": [],
   "source": [],
   "metadata": {
    "collapsed": false,
    "pycharm": {
     "name": "#%%\n"
    }
   }
  },
  {
   "cell_type": "code",
   "execution_count": 80,
   "outputs": [
    {
     "data": {
      "text/plain": "Index(['age_binary', 'age_bucketized', 'sex_binary', 'race_C', 'score', 'rank',\n       'juv_fel_count_C', 'decile_score_C', 'juv_misd_count_C',\n       'juv_other_count_C', 'priors_count_C', 'days_b_screening_arrest_C',\n       'c_days_from_compas_C', 'c_charge_degree_C', 'v_decile_score_C',\n       'start_C', 'end_C', 'event_C', 'MarriageStatus_C', 'is_recid',\n       'is_violent_recid', 'two_year_recid', 'Violence_score',\n       'Recidivism_score'],\n      dtype='object')"
     },
     "execution_count": 80,
     "metadata": {},
     "output_type": "execute_result"
    }
   ],
   "source": [
    "compas_data_necessary_att = pd.read_csv(r\"../../InputData/CompasData/general/compas_data_cat_necessary_att.csv\")\n",
    "compas_data_necessary_att.columns"
   ],
   "metadata": {
    "collapsed": false,
    "pycharm": {
     "name": "#%%\n"
    }
   }
  },
  {
   "cell_type": "code",
   "execution_count": 81,
   "outputs": [
    {
     "data": {
      "text/plain": "   age_binary  age_bucketized  sex_binary  race_C     score    rank  \\\n0           1               1           0       2 -0.228032  1677.0   \n1           0               0           0       0  0.178382   786.0   \n2           0               0           0       0  0.405766  1303.0   \n3           0               0           0       0       NaN  6596.0   \n4           1               1           0       2       NaN  6597.0   \n\n   juv_fel_count_C  decile_score_C  juv_misd_count_C  juv_other_count_C  ...  \\\n0                0               0                 0                  0  ...   \n1                0               0                 0                  0  ...   \n2                0               0                 0                  0  ...   \n3                0               1                 0                  0  ...   \n4                0               0                 0                  0  ...   \n\n   v_decile_score_C  start_C  end_C  event_C  MarriageStatus_C  is_recid  \\\n0                 0        0      0        0                 0         0   \n1                 0        0      0        1                 0         1   \n2                 0        0      0        0                 0         1   \n3                 1        0      2        0                 0         0   \n4                 0        0      2        0                 1         0   \n\n   is_violent_recid  two_year_recid  Violence_score  Recidivism_score  \n0                 0               0           -4.31             -2.78  \n1                 1               1           -3.07             -0.76  \n2                 0               1           -1.31              0.44  \n3                 0               0           -1.59              0.16  \n4                 0               0           -3.23             -2.20  \n\n[5 rows x 24 columns]",
      "text/html": "<div>\n<style scoped>\n    .dataframe tbody tr th:only-of-type {\n        vertical-align: middle;\n    }\n\n    .dataframe tbody tr th {\n        vertical-align: top;\n    }\n\n    .dataframe thead th {\n        text-align: right;\n    }\n</style>\n<table border=\"1\" class=\"dataframe\">\n  <thead>\n    <tr style=\"text-align: right;\">\n      <th></th>\n      <th>age_binary</th>\n      <th>age_bucketized</th>\n      <th>sex_binary</th>\n      <th>race_C</th>\n      <th>score</th>\n      <th>rank</th>\n      <th>juv_fel_count_C</th>\n      <th>decile_score_C</th>\n      <th>juv_misd_count_C</th>\n      <th>juv_other_count_C</th>\n      <th>...</th>\n      <th>v_decile_score_C</th>\n      <th>start_C</th>\n      <th>end_C</th>\n      <th>event_C</th>\n      <th>MarriageStatus_C</th>\n      <th>is_recid</th>\n      <th>is_violent_recid</th>\n      <th>two_year_recid</th>\n      <th>Violence_score</th>\n      <th>Recidivism_score</th>\n    </tr>\n  </thead>\n  <tbody>\n    <tr>\n      <th>0</th>\n      <td>1</td>\n      <td>1</td>\n      <td>0</td>\n      <td>2</td>\n      <td>-0.228032</td>\n      <td>1677.0</td>\n      <td>0</td>\n      <td>0</td>\n      <td>0</td>\n      <td>0</td>\n      <td>...</td>\n      <td>0</td>\n      <td>0</td>\n      <td>0</td>\n      <td>0</td>\n      <td>0</td>\n      <td>0</td>\n      <td>0</td>\n      <td>0</td>\n      <td>-4.31</td>\n      <td>-2.78</td>\n    </tr>\n    <tr>\n      <th>1</th>\n      <td>0</td>\n      <td>0</td>\n      <td>0</td>\n      <td>0</td>\n      <td>0.178382</td>\n      <td>786.0</td>\n      <td>0</td>\n      <td>0</td>\n      <td>0</td>\n      <td>0</td>\n      <td>...</td>\n      <td>0</td>\n      <td>0</td>\n      <td>0</td>\n      <td>1</td>\n      <td>0</td>\n      <td>1</td>\n      <td>1</td>\n      <td>1</td>\n      <td>-3.07</td>\n      <td>-0.76</td>\n    </tr>\n    <tr>\n      <th>2</th>\n      <td>0</td>\n      <td>0</td>\n      <td>0</td>\n      <td>0</td>\n      <td>0.405766</td>\n      <td>1303.0</td>\n      <td>0</td>\n      <td>0</td>\n      <td>0</td>\n      <td>0</td>\n      <td>...</td>\n      <td>0</td>\n      <td>0</td>\n      <td>0</td>\n      <td>0</td>\n      <td>0</td>\n      <td>1</td>\n      <td>0</td>\n      <td>1</td>\n      <td>-1.31</td>\n      <td>0.44</td>\n    </tr>\n    <tr>\n      <th>3</th>\n      <td>0</td>\n      <td>0</td>\n      <td>0</td>\n      <td>0</td>\n      <td>NaN</td>\n      <td>6596.0</td>\n      <td>0</td>\n      <td>1</td>\n      <td>0</td>\n      <td>0</td>\n      <td>...</td>\n      <td>1</td>\n      <td>0</td>\n      <td>2</td>\n      <td>0</td>\n      <td>0</td>\n      <td>0</td>\n      <td>0</td>\n      <td>0</td>\n      <td>-1.59</td>\n      <td>0.16</td>\n    </tr>\n    <tr>\n      <th>4</th>\n      <td>1</td>\n      <td>1</td>\n      <td>0</td>\n      <td>2</td>\n      <td>NaN</td>\n      <td>6597.0</td>\n      <td>0</td>\n      <td>0</td>\n      <td>0</td>\n      <td>0</td>\n      <td>...</td>\n      <td>0</td>\n      <td>0</td>\n      <td>2</td>\n      <td>0</td>\n      <td>1</td>\n      <td>0</td>\n      <td>0</td>\n      <td>0</td>\n      <td>-3.23</td>\n      <td>-2.20</td>\n    </tr>\n  </tbody>\n</table>\n<p>5 rows × 24 columns</p>\n</div>"
     },
     "execution_count": 81,
     "metadata": {},
     "output_type": "execute_result"
    }
   ],
   "source": [
    "compas_data_necessary_att[:5]"
   ],
   "metadata": {
    "collapsed": false,
    "pycharm": {
     "name": "#%%\n"
    }
   }
  },
  {
   "cell_type": "code",
   "execution_count": 82,
   "outputs": [
    {
     "data": {
      "text/plain": "      age_binary  age_bucketized  sex_binary  race_C     score  rank  \\\n1987           0               0           0       1  0.250835   1.0   \n1485           0               0           0       0  0.128544   2.0   \n3013           0               0           0       0  0.021858   3.0   \n919            0               0           0       0  0.161163   4.0   \n5462           1               1           0       1 -0.038389   5.0   \n1217           0               0           0       0  0.192775   6.0   \n3683           1               1           0       0 -0.114917   7.0   \n4699           0               0           0       0  0.254313   8.0   \n\n      juv_fel_count_C  decile_score_C  juv_misd_count_C  juv_other_count_C  \\\n1987                0               0                 0                  0   \n1485                0               0                 0                  0   \n3013                0               1                 0                  0   \n919                 0               0                 0                  0   \n5462                0               0                 0                  0   \n1217                0               0                 0                  0   \n3683                0               0                 0                  0   \n4699                0               1                 0                  0   \n\n      ...  v_decile_score_C  start_C  end_C  event_C  MarriageStatus_C  \\\n1987  ...                 0        0      0        1                 0   \n1485  ...                 0        0      0        1                 0   \n3013  ...                 0        0      0        1                 0   \n919   ...                 0        0      0        1                 0   \n5462  ...                 0        0      0        1                 6   \n1217  ...                 0        0      0        1                 0   \n3683  ...                 0        0      0        1                 0   \n4699  ...                 1        0      0        1                 0   \n\n      is_recid  is_violent_recid  two_year_recid  Violence_score  \\\n1987         1                 0               1           -1.92   \n1485         1                 0               1           -2.31   \n3013         1                 0               1           -2.28   \n919          1                 1               1           -1.99   \n5462         1                 1               1           -2.80   \n1217         1                 0               1           -2.17   \n3683         1                 0               1           -3.60   \n4699         1                 0               1           -1.26   \n\n      Recidivism_score  \n1987             -1.07  \n1485             -0.52  \n3013             -0.09  \n919              -0.51  \n5462             -1.05  \n1217             -0.93  \n3683             -1.14  \n4699              0.14  \n\n[8 rows x 24 columns]",
      "text/html": "<div>\n<style scoped>\n    .dataframe tbody tr th:only-of-type {\n        vertical-align: middle;\n    }\n\n    .dataframe tbody tr th {\n        vertical-align: top;\n    }\n\n    .dataframe thead th {\n        text-align: right;\n    }\n</style>\n<table border=\"1\" class=\"dataframe\">\n  <thead>\n    <tr style=\"text-align: right;\">\n      <th></th>\n      <th>age_binary</th>\n      <th>age_bucketized</th>\n      <th>sex_binary</th>\n      <th>race_C</th>\n      <th>score</th>\n      <th>rank</th>\n      <th>juv_fel_count_C</th>\n      <th>decile_score_C</th>\n      <th>juv_misd_count_C</th>\n      <th>juv_other_count_C</th>\n      <th>...</th>\n      <th>v_decile_score_C</th>\n      <th>start_C</th>\n      <th>end_C</th>\n      <th>event_C</th>\n      <th>MarriageStatus_C</th>\n      <th>is_recid</th>\n      <th>is_violent_recid</th>\n      <th>two_year_recid</th>\n      <th>Violence_score</th>\n      <th>Recidivism_score</th>\n    </tr>\n  </thead>\n  <tbody>\n    <tr>\n      <th>1987</th>\n      <td>0</td>\n      <td>0</td>\n      <td>0</td>\n      <td>1</td>\n      <td>0.250835</td>\n      <td>1.0</td>\n      <td>0</td>\n      <td>0</td>\n      <td>0</td>\n      <td>0</td>\n      <td>...</td>\n      <td>0</td>\n      <td>0</td>\n      <td>0</td>\n      <td>1</td>\n      <td>0</td>\n      <td>1</td>\n      <td>0</td>\n      <td>1</td>\n      <td>-1.92</td>\n      <td>-1.07</td>\n    </tr>\n    <tr>\n      <th>1485</th>\n      <td>0</td>\n      <td>0</td>\n      <td>0</td>\n      <td>0</td>\n      <td>0.128544</td>\n      <td>2.0</td>\n      <td>0</td>\n      <td>0</td>\n      <td>0</td>\n      <td>0</td>\n      <td>...</td>\n      <td>0</td>\n      <td>0</td>\n      <td>0</td>\n      <td>1</td>\n      <td>0</td>\n      <td>1</td>\n      <td>0</td>\n      <td>1</td>\n      <td>-2.31</td>\n      <td>-0.52</td>\n    </tr>\n    <tr>\n      <th>3013</th>\n      <td>0</td>\n      <td>0</td>\n      <td>0</td>\n      <td>0</td>\n      <td>0.021858</td>\n      <td>3.0</td>\n      <td>0</td>\n      <td>1</td>\n      <td>0</td>\n      <td>0</td>\n      <td>...</td>\n      <td>0</td>\n      <td>0</td>\n      <td>0</td>\n      <td>1</td>\n      <td>0</td>\n      <td>1</td>\n      <td>0</td>\n      <td>1</td>\n      <td>-2.28</td>\n      <td>-0.09</td>\n    </tr>\n    <tr>\n      <th>919</th>\n      <td>0</td>\n      <td>0</td>\n      <td>0</td>\n      <td>0</td>\n      <td>0.161163</td>\n      <td>4.0</td>\n      <td>0</td>\n      <td>0</td>\n      <td>0</td>\n      <td>0</td>\n      <td>...</td>\n      <td>0</td>\n      <td>0</td>\n      <td>0</td>\n      <td>1</td>\n      <td>0</td>\n      <td>1</td>\n      <td>1</td>\n      <td>1</td>\n      <td>-1.99</td>\n      <td>-0.51</td>\n    </tr>\n    <tr>\n      <th>5462</th>\n      <td>1</td>\n      <td>1</td>\n      <td>0</td>\n      <td>1</td>\n      <td>-0.038389</td>\n      <td>5.0</td>\n      <td>0</td>\n      <td>0</td>\n      <td>0</td>\n      <td>0</td>\n      <td>...</td>\n      <td>0</td>\n      <td>0</td>\n      <td>0</td>\n      <td>1</td>\n      <td>6</td>\n      <td>1</td>\n      <td>1</td>\n      <td>1</td>\n      <td>-2.80</td>\n      <td>-1.05</td>\n    </tr>\n    <tr>\n      <th>1217</th>\n      <td>0</td>\n      <td>0</td>\n      <td>0</td>\n      <td>0</td>\n      <td>0.192775</td>\n      <td>6.0</td>\n      <td>0</td>\n      <td>0</td>\n      <td>0</td>\n      <td>0</td>\n      <td>...</td>\n      <td>0</td>\n      <td>0</td>\n      <td>0</td>\n      <td>1</td>\n      <td>0</td>\n      <td>1</td>\n      <td>0</td>\n      <td>1</td>\n      <td>-2.17</td>\n      <td>-0.93</td>\n    </tr>\n    <tr>\n      <th>3683</th>\n      <td>1</td>\n      <td>1</td>\n      <td>0</td>\n      <td>0</td>\n      <td>-0.114917</td>\n      <td>7.0</td>\n      <td>0</td>\n      <td>0</td>\n      <td>0</td>\n      <td>0</td>\n      <td>...</td>\n      <td>0</td>\n      <td>0</td>\n      <td>0</td>\n      <td>1</td>\n      <td>0</td>\n      <td>1</td>\n      <td>0</td>\n      <td>1</td>\n      <td>-3.60</td>\n      <td>-1.14</td>\n    </tr>\n    <tr>\n      <th>4699</th>\n      <td>0</td>\n      <td>0</td>\n      <td>0</td>\n      <td>0</td>\n      <td>0.254313</td>\n      <td>8.0</td>\n      <td>0</td>\n      <td>1</td>\n      <td>0</td>\n      <td>0</td>\n      <td>...</td>\n      <td>1</td>\n      <td>0</td>\n      <td>0</td>\n      <td>1</td>\n      <td>0</td>\n      <td>1</td>\n      <td>0</td>\n      <td>1</td>\n      <td>-1.26</td>\n      <td>0.14</td>\n    </tr>\n  </tbody>\n</table>\n<p>8 rows × 24 columns</p>\n</div>"
     },
     "execution_count": 82,
     "metadata": {},
     "output_type": "execute_result"
    }
   ],
   "source": [
    "compas_data_necessary_att = compas_data_necessary_att.sort_values(by=['rank'])\n",
    "compas_data_necessary_att[:8]\n"
   ],
   "metadata": {
    "collapsed": false,
    "pycharm": {
     "name": "#%%\n"
    }
   }
  },
  {
   "cell_type": "code",
   "execution_count": 83,
   "outputs": [],
   "source": [
    "### !!! This is ranked file with categorized attributes\n",
    "compas_data_necessary_att.to_csv(r\"../../InputData/CompasData/general/compas_data_cat_necessary_att_ranked.csv\", index=False)"
   ],
   "metadata": {
    "collapsed": false,
    "pycharm": {
     "name": "#%%\n"
    }
   }
  },
  {
   "cell_type": "code",
   "execution_count": null,
   "outputs": [],
   "source": [],
   "metadata": {
    "collapsed": false,
    "pycharm": {
     "name": "#%%\n"
    }
   }
  },
  {
   "cell_type": "code",
   "execution_count": null,
   "outputs": [],
   "source": [],
   "metadata": {
    "collapsed": false,
    "pycharm": {
     "name": "#%%\n"
    }
   }
  },
  {
   "cell_type": "markdown",
   "source": [
    "### binary attributes without cat: two_year_recid, is_recid, is_violent_recid\n"
   ],
   "metadata": {
    "collapsed": false,
    "pycharm": {
     "name": "#%% md\n"
    }
   }
  },
  {
   "cell_type": "code",
   "execution_count": null,
   "outputs": [],
   "source": [],
   "metadata": {
    "collapsed": false,
    "pycharm": {
     "name": "#%%\n"
    }
   }
  },
  {
   "cell_type": "code",
   "execution_count": null,
   "outputs": [],
   "source": [],
   "metadata": {
    "collapsed": false,
    "pycharm": {
     "name": "#%%\n"
    }
   }
  },
  {
   "cell_type": "markdown",
   "source": [
    "### The rest are for InputData/CompasData/Ranking folder\n",
    "\n"
   ],
   "metadata": {
    "collapsed": false,
    "pycharm": {
     "name": "#%% md\n"
    }
   }
  },
  {
   "cell_type": "code",
   "execution_count": 93,
   "outputs": [
    {
     "data": {
      "text/plain": "FirstName\nmiguel       1677.0\nkevon         786.0\ned           1303.0\nmarcu        6596.0\nbouthy       6597.0\n              ...  \nsteven       4119.0\nmalcolm      3641.0\nwinston      3752.0\nfarrah       4032.0\nflorencia    1634.0\nName: rank, Length: 6889, dtype: float64"
     },
     "execution_count": 93,
     "metadata": {},
     "output_type": "execute_result"
    }
   ],
   "source": [
    "compas_data['rank'] = compas_data['score'].rank(method='first', na_option='bottom')\n",
    "compas_data['rank']"
   ],
   "metadata": {
    "collapsed": false,
    "pycharm": {
     "name": "#%%\n"
    }
   }
  },
  {
   "cell_type": "code",
   "execution_count": 94,
   "outputs": [
    {
     "data": {
      "text/plain": "                    LastName     sex DateOfBirth       age              race  \\\nFirstName                                                                      \nmiguel       garcia-silverio    Male  11/18/1995  0.030769         Caucasian   \nchristopher           mcewan    Male    3/3/1988  0.153846  African-American   \nsteven                  king    Male  12/30/1980  0.261538  African-American   \nbenjamin            robinson    Male    7/4/1989  0.123077  African-American   \ngregory                 lugo    Male   1/13/1977  0.323077         Caucasian   \n...                      ...     ...         ...       ...               ...   \nclayton             mitchell    Male  10/11/1992  0.076923  African-American   \nmarion                 davis    Male   2/26/1988  0.153846  African-American   \nmichelle           st. surin  Female   2/27/1987  0.169231  African-American   \njoseph               alvardo    Male   1/26/1985  0.200000  African-American   \nstanley               givens    Male   10/1/1992  0.076923  African-American   \n\n             juv_fel_count  decile_score  juv_misd_count  juv_other_count  \\\nFirstName                                                                   \nmiguel                   0             2               0         0.000000   \nchristopher              0             4               0         0.000000   \nsteven                   0             7               0         0.000000   \nbenjamin                 0             4               0         0.000000   \ngregory                  0             1               0         0.000000   \n...                    ...           ...             ...              ...   \nclayton                  2             6               0         0.000000   \nmarion                   0             3               0         0.000000   \nmichelle                 0             4               0         0.000000   \njoseph                   0             6               0         0.000000   \nstanley                  0             2               0         0.058824   \n\n             priors_count  ...  two_year_recid  Violence_score  \\\nFirstName                  ...                                   \nmiguel           0.000000  ...               1           -1.92   \nchristopher      0.000000  ...               1           -2.31   \nsteven           0.000000  ...               1           -2.28   \nbenjamin         0.000000  ...               1           -1.99   \ngregory          0.000000  ...               1           -2.80   \n...                   ...  ...             ...             ...   \nclayton          0.078947  ...               0           -0.89   \nmarion           0.000000  ...               1           -2.53   \nmichelle         0.000000  ...               0           -2.33   \njoseph           0.026316  ...               0           -1.60   \nstanley          0.000000  ...               0           -2.24   \n\n            Recidivism_score     MarriageStatus  age_binary  age_bucketized  \\\nFirstName                                                                     \nmiguel                 -1.07             Single           0               0   \nchristopher            -0.52             Single           0               0   \nsteven                 -0.09             Single           0               0   \nbenjamin               -0.51             Single           0               0   \ngregory                -1.05           Divorced           1               1   \n...                      ...                ...         ...             ...   \nclayton                -0.17  Significant Other           0               0   \nmarion                 -0.95             Single           0               0   \nmichelle               -0.90             Single           0               0   \njoseph                 -0.25             Single           0               0   \nstanley                -1.24             Single           0               0   \n\n             sex_binary  race_C     score    rank  \nFirstName                                          \nmiguel                0       1  0.281605     1.0  \nchristopher           0       0  0.282390     2.0  \nsteven                0       0  0.283396     3.0  \nbenjamin              0       0  0.284239     4.0  \ngregory               0       1  0.284688     5.0  \n...                 ...     ...       ...     ...  \nclayton               0       0       NaN  6885.0  \nmarion                0       0       NaN  6886.0  \nmichelle              1       0       NaN  6887.0  \njoseph                0       0       NaN  6888.0  \nstanley               0       0       NaN  6889.0  \n\n[6889 rows x 30 columns]",
      "text/html": "<div>\n<style scoped>\n    .dataframe tbody tr th:only-of-type {\n        vertical-align: middle;\n    }\n\n    .dataframe tbody tr th {\n        vertical-align: top;\n    }\n\n    .dataframe thead th {\n        text-align: right;\n    }\n</style>\n<table border=\"1\" class=\"dataframe\">\n  <thead>\n    <tr style=\"text-align: right;\">\n      <th></th>\n      <th>LastName</th>\n      <th>sex</th>\n      <th>DateOfBirth</th>\n      <th>age</th>\n      <th>race</th>\n      <th>juv_fel_count</th>\n      <th>decile_score</th>\n      <th>juv_misd_count</th>\n      <th>juv_other_count</th>\n      <th>priors_count</th>\n      <th>...</th>\n      <th>two_year_recid</th>\n      <th>Violence_score</th>\n      <th>Recidivism_score</th>\n      <th>MarriageStatus</th>\n      <th>age_binary</th>\n      <th>age_bucketized</th>\n      <th>sex_binary</th>\n      <th>race_C</th>\n      <th>score</th>\n      <th>rank</th>\n    </tr>\n    <tr>\n      <th>FirstName</th>\n      <th></th>\n      <th></th>\n      <th></th>\n      <th></th>\n      <th></th>\n      <th></th>\n      <th></th>\n      <th></th>\n      <th></th>\n      <th></th>\n      <th></th>\n      <th></th>\n      <th></th>\n      <th></th>\n      <th></th>\n      <th></th>\n      <th></th>\n      <th></th>\n      <th></th>\n      <th></th>\n      <th></th>\n    </tr>\n  </thead>\n  <tbody>\n    <tr>\n      <th>miguel</th>\n      <td>garcia-silverio</td>\n      <td>Male</td>\n      <td>11/18/1995</td>\n      <td>0.030769</td>\n      <td>Caucasian</td>\n      <td>0</td>\n      <td>2</td>\n      <td>0</td>\n      <td>0.000000</td>\n      <td>0.000000</td>\n      <td>...</td>\n      <td>1</td>\n      <td>-1.92</td>\n      <td>-1.07</td>\n      <td>Single</td>\n      <td>0</td>\n      <td>0</td>\n      <td>0</td>\n      <td>1</td>\n      <td>0.281605</td>\n      <td>1.0</td>\n    </tr>\n    <tr>\n      <th>christopher</th>\n      <td>mcewan</td>\n      <td>Male</td>\n      <td>3/3/1988</td>\n      <td>0.153846</td>\n      <td>African-American</td>\n      <td>0</td>\n      <td>4</td>\n      <td>0</td>\n      <td>0.000000</td>\n      <td>0.000000</td>\n      <td>...</td>\n      <td>1</td>\n      <td>-2.31</td>\n      <td>-0.52</td>\n      <td>Single</td>\n      <td>0</td>\n      <td>0</td>\n      <td>0</td>\n      <td>0</td>\n      <td>0.282390</td>\n      <td>2.0</td>\n    </tr>\n    <tr>\n      <th>steven</th>\n      <td>king</td>\n      <td>Male</td>\n      <td>12/30/1980</td>\n      <td>0.261538</td>\n      <td>African-American</td>\n      <td>0</td>\n      <td>7</td>\n      <td>0</td>\n      <td>0.000000</td>\n      <td>0.000000</td>\n      <td>...</td>\n      <td>1</td>\n      <td>-2.28</td>\n      <td>-0.09</td>\n      <td>Single</td>\n      <td>0</td>\n      <td>0</td>\n      <td>0</td>\n      <td>0</td>\n      <td>0.283396</td>\n      <td>3.0</td>\n    </tr>\n    <tr>\n      <th>benjamin</th>\n      <td>robinson</td>\n      <td>Male</td>\n      <td>7/4/1989</td>\n      <td>0.123077</td>\n      <td>African-American</td>\n      <td>0</td>\n      <td>4</td>\n      <td>0</td>\n      <td>0.000000</td>\n      <td>0.000000</td>\n      <td>...</td>\n      <td>1</td>\n      <td>-1.99</td>\n      <td>-0.51</td>\n      <td>Single</td>\n      <td>0</td>\n      <td>0</td>\n      <td>0</td>\n      <td>0</td>\n      <td>0.284239</td>\n      <td>4.0</td>\n    </tr>\n    <tr>\n      <th>gregory</th>\n      <td>lugo</td>\n      <td>Male</td>\n      <td>1/13/1977</td>\n      <td>0.323077</td>\n      <td>Caucasian</td>\n      <td>0</td>\n      <td>1</td>\n      <td>0</td>\n      <td>0.000000</td>\n      <td>0.000000</td>\n      <td>...</td>\n      <td>1</td>\n      <td>-2.80</td>\n      <td>-1.05</td>\n      <td>Divorced</td>\n      <td>1</td>\n      <td>1</td>\n      <td>0</td>\n      <td>1</td>\n      <td>0.284688</td>\n      <td>5.0</td>\n    </tr>\n    <tr>\n      <th>...</th>\n      <td>...</td>\n      <td>...</td>\n      <td>...</td>\n      <td>...</td>\n      <td>...</td>\n      <td>...</td>\n      <td>...</td>\n      <td>...</td>\n      <td>...</td>\n      <td>...</td>\n      <td>...</td>\n      <td>...</td>\n      <td>...</td>\n      <td>...</td>\n      <td>...</td>\n      <td>...</td>\n      <td>...</td>\n      <td>...</td>\n      <td>...</td>\n      <td>...</td>\n      <td>...</td>\n    </tr>\n    <tr>\n      <th>clayton</th>\n      <td>mitchell</td>\n      <td>Male</td>\n      <td>10/11/1992</td>\n      <td>0.076923</td>\n      <td>African-American</td>\n      <td>2</td>\n      <td>6</td>\n      <td>0</td>\n      <td>0.000000</td>\n      <td>0.078947</td>\n      <td>...</td>\n      <td>0</td>\n      <td>-0.89</td>\n      <td>-0.17</td>\n      <td>Significant Other</td>\n      <td>0</td>\n      <td>0</td>\n      <td>0</td>\n      <td>0</td>\n      <td>NaN</td>\n      <td>6885.0</td>\n    </tr>\n    <tr>\n      <th>marion</th>\n      <td>davis</td>\n      <td>Male</td>\n      <td>2/26/1988</td>\n      <td>0.153846</td>\n      <td>African-American</td>\n      <td>0</td>\n      <td>3</td>\n      <td>0</td>\n      <td>0.000000</td>\n      <td>0.000000</td>\n      <td>...</td>\n      <td>1</td>\n      <td>-2.53</td>\n      <td>-0.95</td>\n      <td>Single</td>\n      <td>0</td>\n      <td>0</td>\n      <td>0</td>\n      <td>0</td>\n      <td>NaN</td>\n      <td>6886.0</td>\n    </tr>\n    <tr>\n      <th>michelle</th>\n      <td>st. surin</td>\n      <td>Female</td>\n      <td>2/27/1987</td>\n      <td>0.169231</td>\n      <td>African-American</td>\n      <td>0</td>\n      <td>4</td>\n      <td>0</td>\n      <td>0.000000</td>\n      <td>0.000000</td>\n      <td>...</td>\n      <td>0</td>\n      <td>-2.33</td>\n      <td>-0.90</td>\n      <td>Single</td>\n      <td>0</td>\n      <td>0</td>\n      <td>1</td>\n      <td>0</td>\n      <td>NaN</td>\n      <td>6887.0</td>\n    </tr>\n    <tr>\n      <th>joseph</th>\n      <td>alvardo</td>\n      <td>Male</td>\n      <td>1/26/1985</td>\n      <td>0.200000</td>\n      <td>African-American</td>\n      <td>0</td>\n      <td>6</td>\n      <td>0</td>\n      <td>0.000000</td>\n      <td>0.026316</td>\n      <td>...</td>\n      <td>0</td>\n      <td>-1.60</td>\n      <td>-0.25</td>\n      <td>Single</td>\n      <td>0</td>\n      <td>0</td>\n      <td>0</td>\n      <td>0</td>\n      <td>NaN</td>\n      <td>6888.0</td>\n    </tr>\n    <tr>\n      <th>stanley</th>\n      <td>givens</td>\n      <td>Male</td>\n      <td>10/1/1992</td>\n      <td>0.076923</td>\n      <td>African-American</td>\n      <td>0</td>\n      <td>2</td>\n      <td>0</td>\n      <td>0.058824</td>\n      <td>0.000000</td>\n      <td>...</td>\n      <td>0</td>\n      <td>-2.24</td>\n      <td>-1.24</td>\n      <td>Single</td>\n      <td>0</td>\n      <td>0</td>\n      <td>0</td>\n      <td>0</td>\n      <td>NaN</td>\n      <td>6889.0</td>\n    </tr>\n  </tbody>\n</table>\n<p>6889 rows × 30 columns</p>\n</div>"
     },
     "execution_count": 94,
     "metadata": {},
     "output_type": "execute_result"
    }
   ],
   "source": [
    "compas_data = compas_data.sort_values(by=['rank'])\n",
    "compas_data"
   ],
   "metadata": {
    "collapsed": false,
    "pycharm": {
     "name": "#%%\n"
    }
   }
  },
  {
   "cell_type": "code",
   "execution_count": 95,
   "outputs": [
    {
     "ename": "KeyError",
     "evalue": "\"['name'] not found in axis\"",
     "output_type": "error",
     "traceback": [
      "\u001B[0;31m---------------------------------------------------------------------------\u001B[0m",
      "\u001B[0;31mKeyError\u001B[0m                                  Traceback (most recent call last)",
      "\u001B[0;32m<ipython-input-95-d415146a089b>\u001B[0m in \u001B[0;36m<module>\u001B[0;34m\u001B[0m\n\u001B[1;32m      1\u001B[0m \u001B[0mcompas_data_ranked\u001B[0m \u001B[0;34m=\u001B[0m \u001B[0mcompas_data\u001B[0m\u001B[0;34m.\u001B[0m\u001B[0mcopy\u001B[0m\u001B[0;34m(\u001B[0m\u001B[0;34m)\u001B[0m\u001B[0;34m\u001B[0m\u001B[0;34m\u001B[0m\u001B[0m\n\u001B[0;32m----> 2\u001B[0;31m \u001B[0mcompas_data_ranked\u001B[0m \u001B[0;34m=\u001B[0m \u001B[0mcompas_data_ranked\u001B[0m\u001B[0;34m.\u001B[0m\u001B[0mdrop\u001B[0m\u001B[0;34m(\u001B[0m\u001B[0;34m\"name\"\u001B[0m\u001B[0;34m,\u001B[0m \u001B[0maxis\u001B[0m\u001B[0;34m=\u001B[0m\u001B[0;36m1\u001B[0m\u001B[0;34m)\u001B[0m\u001B[0;34m\u001B[0m\u001B[0;34m\u001B[0m\u001B[0m\n\u001B[0m\u001B[1;32m      3\u001B[0m \u001B[0mcompas_data_ranked\u001B[0m\u001B[0;34m=\u001B[0m\u001B[0mcompas_data_ranked\u001B[0m\u001B[0;34m.\u001B[0m\u001B[0mdrop\u001B[0m\u001B[0;34m(\u001B[0m\u001B[0;34m\"FirstName\"\u001B[0m\u001B[0;34m,\u001B[0m \u001B[0maxis\u001B[0m\u001B[0;34m=\u001B[0m\u001B[0;36m1\u001B[0m\u001B[0;34m)\u001B[0m\u001B[0;34m\u001B[0m\u001B[0;34m\u001B[0m\u001B[0m\n\u001B[1;32m      4\u001B[0m \u001B[0mcompas_data_ranked\u001B[0m\u001B[0;34m=\u001B[0m\u001B[0mcompas_data_ranked\u001B[0m\u001B[0;34m.\u001B[0m\u001B[0mdrop\u001B[0m\u001B[0;34m(\u001B[0m\u001B[0;34m\"LastName\"\u001B[0m\u001B[0;34m,\u001B[0m \u001B[0maxis\u001B[0m\u001B[0;34m=\u001B[0m\u001B[0;36m1\u001B[0m\u001B[0;34m)\u001B[0m\u001B[0;34m\u001B[0m\u001B[0;34m\u001B[0m\u001B[0m\n\u001B[1;32m      5\u001B[0m \u001B[0mcompas_data_ranked\u001B[0m\u001B[0;34m=\u001B[0m\u001B[0mcompas_data_ranked\u001B[0m\u001B[0;34m.\u001B[0m\u001B[0mdrop\u001B[0m\u001B[0;34m(\u001B[0m\u001B[0;34m\"sex\"\u001B[0m\u001B[0;34m,\u001B[0m \u001B[0maxis\u001B[0m\u001B[0;34m=\u001B[0m\u001B[0;36m1\u001B[0m\u001B[0;34m)\u001B[0m\u001B[0;34m\u001B[0m\u001B[0;34m\u001B[0m\u001B[0m\n",
      "\u001B[0;32m~/opt/anaconda3/envs/py37/lib/python3.7/site-packages/pandas/core/frame.py\u001B[0m in \u001B[0;36mdrop\u001B[0;34m(self, labels, axis, index, columns, level, inplace, errors)\u001B[0m\n\u001B[1;32m   4168\u001B[0m             \u001B[0mlevel\u001B[0m\u001B[0;34m=\u001B[0m\u001B[0mlevel\u001B[0m\u001B[0;34m,\u001B[0m\u001B[0;34m\u001B[0m\u001B[0;34m\u001B[0m\u001B[0m\n\u001B[1;32m   4169\u001B[0m             \u001B[0minplace\u001B[0m\u001B[0;34m=\u001B[0m\u001B[0minplace\u001B[0m\u001B[0;34m,\u001B[0m\u001B[0;34m\u001B[0m\u001B[0;34m\u001B[0m\u001B[0m\n\u001B[0;32m-> 4170\u001B[0;31m             \u001B[0merrors\u001B[0m\u001B[0;34m=\u001B[0m\u001B[0merrors\u001B[0m\u001B[0;34m,\u001B[0m\u001B[0;34m\u001B[0m\u001B[0;34m\u001B[0m\u001B[0m\n\u001B[0m\u001B[1;32m   4171\u001B[0m         )\n\u001B[1;32m   4172\u001B[0m \u001B[0;34m\u001B[0m\u001B[0m\n",
      "\u001B[0;32m~/opt/anaconda3/envs/py37/lib/python3.7/site-packages/pandas/core/generic.py\u001B[0m in \u001B[0;36mdrop\u001B[0;34m(self, labels, axis, index, columns, level, inplace, errors)\u001B[0m\n\u001B[1;32m   3885\u001B[0m         \u001B[0;32mfor\u001B[0m \u001B[0maxis\u001B[0m\u001B[0;34m,\u001B[0m \u001B[0mlabels\u001B[0m \u001B[0;32min\u001B[0m \u001B[0maxes\u001B[0m\u001B[0;34m.\u001B[0m\u001B[0mitems\u001B[0m\u001B[0;34m(\u001B[0m\u001B[0;34m)\u001B[0m\u001B[0;34m:\u001B[0m\u001B[0;34m\u001B[0m\u001B[0;34m\u001B[0m\u001B[0m\n\u001B[1;32m   3886\u001B[0m             \u001B[0;32mif\u001B[0m \u001B[0mlabels\u001B[0m \u001B[0;32mis\u001B[0m \u001B[0;32mnot\u001B[0m \u001B[0;32mNone\u001B[0m\u001B[0;34m:\u001B[0m\u001B[0;34m\u001B[0m\u001B[0;34m\u001B[0m\u001B[0m\n\u001B[0;32m-> 3887\u001B[0;31m                 \u001B[0mobj\u001B[0m \u001B[0;34m=\u001B[0m \u001B[0mobj\u001B[0m\u001B[0;34m.\u001B[0m\u001B[0m_drop_axis\u001B[0m\u001B[0;34m(\u001B[0m\u001B[0mlabels\u001B[0m\u001B[0;34m,\u001B[0m \u001B[0maxis\u001B[0m\u001B[0;34m,\u001B[0m \u001B[0mlevel\u001B[0m\u001B[0;34m=\u001B[0m\u001B[0mlevel\u001B[0m\u001B[0;34m,\u001B[0m \u001B[0merrors\u001B[0m\u001B[0;34m=\u001B[0m\u001B[0merrors\u001B[0m\u001B[0;34m)\u001B[0m\u001B[0;34m\u001B[0m\u001B[0;34m\u001B[0m\u001B[0m\n\u001B[0m\u001B[1;32m   3888\u001B[0m \u001B[0;34m\u001B[0m\u001B[0m\n\u001B[1;32m   3889\u001B[0m         \u001B[0;32mif\u001B[0m \u001B[0minplace\u001B[0m\u001B[0;34m:\u001B[0m\u001B[0;34m\u001B[0m\u001B[0;34m\u001B[0m\u001B[0m\n",
      "\u001B[0;32m~/opt/anaconda3/envs/py37/lib/python3.7/site-packages/pandas/core/generic.py\u001B[0m in \u001B[0;36m_drop_axis\u001B[0;34m(self, labels, axis, level, errors)\u001B[0m\n\u001B[1;32m   3919\u001B[0m                 \u001B[0mnew_axis\u001B[0m \u001B[0;34m=\u001B[0m \u001B[0maxis\u001B[0m\u001B[0;34m.\u001B[0m\u001B[0mdrop\u001B[0m\u001B[0;34m(\u001B[0m\u001B[0mlabels\u001B[0m\u001B[0;34m,\u001B[0m \u001B[0mlevel\u001B[0m\u001B[0;34m=\u001B[0m\u001B[0mlevel\u001B[0m\u001B[0;34m,\u001B[0m \u001B[0merrors\u001B[0m\u001B[0;34m=\u001B[0m\u001B[0merrors\u001B[0m\u001B[0;34m)\u001B[0m\u001B[0;34m\u001B[0m\u001B[0;34m\u001B[0m\u001B[0m\n\u001B[1;32m   3920\u001B[0m             \u001B[0;32melse\u001B[0m\u001B[0;34m:\u001B[0m\u001B[0;34m\u001B[0m\u001B[0;34m\u001B[0m\u001B[0m\n\u001B[0;32m-> 3921\u001B[0;31m                 \u001B[0mnew_axis\u001B[0m \u001B[0;34m=\u001B[0m \u001B[0maxis\u001B[0m\u001B[0;34m.\u001B[0m\u001B[0mdrop\u001B[0m\u001B[0;34m(\u001B[0m\u001B[0mlabels\u001B[0m\u001B[0;34m,\u001B[0m \u001B[0merrors\u001B[0m\u001B[0;34m=\u001B[0m\u001B[0merrors\u001B[0m\u001B[0;34m)\u001B[0m\u001B[0;34m\u001B[0m\u001B[0;34m\u001B[0m\u001B[0m\n\u001B[0m\u001B[1;32m   3922\u001B[0m             \u001B[0mresult\u001B[0m \u001B[0;34m=\u001B[0m \u001B[0mself\u001B[0m\u001B[0;34m.\u001B[0m\u001B[0mreindex\u001B[0m\u001B[0;34m(\u001B[0m\u001B[0;34m**\u001B[0m\u001B[0;34m{\u001B[0m\u001B[0maxis_name\u001B[0m\u001B[0;34m:\u001B[0m \u001B[0mnew_axis\u001B[0m\u001B[0;34m}\u001B[0m\u001B[0;34m)\u001B[0m\u001B[0;34m\u001B[0m\u001B[0;34m\u001B[0m\u001B[0m\n\u001B[1;32m   3923\u001B[0m \u001B[0;34m\u001B[0m\u001B[0m\n",
      "\u001B[0;32m~/opt/anaconda3/envs/py37/lib/python3.7/site-packages/pandas/core/indexes/base.py\u001B[0m in \u001B[0;36mdrop\u001B[0;34m(self, labels, errors)\u001B[0m\n\u001B[1;32m   5280\u001B[0m         \u001B[0;32mif\u001B[0m \u001B[0mmask\u001B[0m\u001B[0;34m.\u001B[0m\u001B[0many\u001B[0m\u001B[0;34m(\u001B[0m\u001B[0;34m)\u001B[0m\u001B[0;34m:\u001B[0m\u001B[0;34m\u001B[0m\u001B[0;34m\u001B[0m\u001B[0m\n\u001B[1;32m   5281\u001B[0m             \u001B[0;32mif\u001B[0m \u001B[0merrors\u001B[0m \u001B[0;34m!=\u001B[0m \u001B[0;34m\"ignore\"\u001B[0m\u001B[0;34m:\u001B[0m\u001B[0;34m\u001B[0m\u001B[0;34m\u001B[0m\u001B[0m\n\u001B[0;32m-> 5282\u001B[0;31m                 \u001B[0;32mraise\u001B[0m \u001B[0mKeyError\u001B[0m\u001B[0;34m(\u001B[0m\u001B[0;34mf\"{labels[mask]} not found in axis\"\u001B[0m\u001B[0;34m)\u001B[0m\u001B[0;34m\u001B[0m\u001B[0;34m\u001B[0m\u001B[0m\n\u001B[0m\u001B[1;32m   5283\u001B[0m             \u001B[0mindexer\u001B[0m \u001B[0;34m=\u001B[0m \u001B[0mindexer\u001B[0m\u001B[0;34m[\u001B[0m\u001B[0;34m~\u001B[0m\u001B[0mmask\u001B[0m\u001B[0;34m]\u001B[0m\u001B[0;34m\u001B[0m\u001B[0;34m\u001B[0m\u001B[0m\n\u001B[1;32m   5284\u001B[0m         \u001B[0;32mreturn\u001B[0m \u001B[0mself\u001B[0m\u001B[0;34m.\u001B[0m\u001B[0mdelete\u001B[0m\u001B[0;34m(\u001B[0m\u001B[0mindexer\u001B[0m\u001B[0;34m)\u001B[0m\u001B[0;34m\u001B[0m\u001B[0;34m\u001B[0m\u001B[0m\n",
      "\u001B[0;31mKeyError\u001B[0m: \"['name'] not found in axis\""
     ]
    }
   ],
   "source": [
    "compas_data_ranked = compas_data.copy()\n",
    "compas_data_ranked = compas_data_ranked.drop(\"name\", axis=1)\n",
    "compas_data_ranked=compas_data_ranked.drop(\"FirstName\", axis=1)\n",
    "compas_data_ranked=compas_data_ranked.drop(\"LastName\", axis=1)\n",
    "compas_data_ranked=compas_data_ranked.drop(\"sex\", axis=1)\n",
    "compas_data_ranked=compas_data_ranked.drop(\"DateOfBirth\", axis=1)"
   ],
   "metadata": {
    "collapsed": false,
    "pycharm": {
     "name": "#%%\n"
    }
   }
  },
  {
   "cell_type": "code",
   "execution_count": 96,
   "outputs": [
    {
     "data": {
      "text/plain": "Index(['LastName', 'sex', 'DateOfBirth', 'age', 'race', 'juv_fel_count',\n       'decile_score', 'juv_misd_count', 'juv_other_count', 'priors_count',\n       'days_b_screening_arrest', 'c_days_from_compas', 'c_charge_degree',\n       'is_recid', 'is_violent_recid', 'v_decile_score', 'priors_count_C',\n       'start', 'end', 'event', 'two_year_recid', 'Violence_score',\n       'Recidivism_score', 'MarriageStatus', 'age_binary', 'age_bucketized',\n       'sex_binary', 'race_C', 'score', 'rank'],\n      dtype='object')"
     },
     "execution_count": 96,
     "metadata": {},
     "output_type": "execute_result"
    }
   ],
   "source": [
    "compas_data_ranked.columns"
   ],
   "metadata": {
    "collapsed": false,
    "pycharm": {
     "name": "#%%\n"
    }
   }
  },
  {
   "cell_type": "code",
   "execution_count": 97,
   "outputs": [
    {
     "data": {
      "text/plain": "                    LastName   sex DateOfBirth       age              race  \\\nFirstName                                                                    \nmiguel       garcia-silverio  Male  11/18/1995  0.030769         Caucasian   \nchristopher           mcewan  Male    3/3/1988  0.153846  African-American   \nsteven                  king  Male  12/30/1980  0.261538  African-American   \nbenjamin            robinson  Male    7/4/1989  0.123077  African-American   \ngregory                 lugo  Male   1/13/1977  0.323077         Caucasian   \n\n             juv_fel_count  decile_score  juv_misd_count  juv_other_count  \\\nFirstName                                                                   \nmiguel                   0             2               0              0.0   \nchristopher              0             4               0              0.0   \nsteven                   0             7               0              0.0   \nbenjamin                 0             4               0              0.0   \ngregory                  0             1               0              0.0   \n\n             priors_count  ...  two_year_recid  Violence_score  \\\nFirstName                  ...                                   \nmiguel                0.0  ...               1           -1.92   \nchristopher           0.0  ...               1           -2.31   \nsteven                0.0  ...               1           -2.28   \nbenjamin              0.0  ...               1           -1.99   \ngregory               0.0  ...               1           -2.80   \n\n            Recidivism_score  MarriageStatus  age_binary  age_bucketized  \\\nFirstName                                                                  \nmiguel                 -1.07          Single           0               0   \nchristopher            -0.52          Single           0               0   \nsteven                 -0.09          Single           0               0   \nbenjamin               -0.51          Single           0               0   \ngregory                -1.05        Divorced           1               1   \n\n             sex_binary  race_C     score  rank  \nFirstName                                        \nmiguel                0       1  0.281605   1.0  \nchristopher           0       0  0.282390   2.0  \nsteven                0       0  0.283396   3.0  \nbenjamin              0       0  0.284239   4.0  \ngregory               0       1  0.284688   5.0  \n\n[5 rows x 30 columns]",
      "text/html": "<div>\n<style scoped>\n    .dataframe tbody tr th:only-of-type {\n        vertical-align: middle;\n    }\n\n    .dataframe tbody tr th {\n        vertical-align: top;\n    }\n\n    .dataframe thead th {\n        text-align: right;\n    }\n</style>\n<table border=\"1\" class=\"dataframe\">\n  <thead>\n    <tr style=\"text-align: right;\">\n      <th></th>\n      <th>LastName</th>\n      <th>sex</th>\n      <th>DateOfBirth</th>\n      <th>age</th>\n      <th>race</th>\n      <th>juv_fel_count</th>\n      <th>decile_score</th>\n      <th>juv_misd_count</th>\n      <th>juv_other_count</th>\n      <th>priors_count</th>\n      <th>...</th>\n      <th>two_year_recid</th>\n      <th>Violence_score</th>\n      <th>Recidivism_score</th>\n      <th>MarriageStatus</th>\n      <th>age_binary</th>\n      <th>age_bucketized</th>\n      <th>sex_binary</th>\n      <th>race_C</th>\n      <th>score</th>\n      <th>rank</th>\n    </tr>\n    <tr>\n      <th>FirstName</th>\n      <th></th>\n      <th></th>\n      <th></th>\n      <th></th>\n      <th></th>\n      <th></th>\n      <th></th>\n      <th></th>\n      <th></th>\n      <th></th>\n      <th></th>\n      <th></th>\n      <th></th>\n      <th></th>\n      <th></th>\n      <th></th>\n      <th></th>\n      <th></th>\n      <th></th>\n      <th></th>\n      <th></th>\n    </tr>\n  </thead>\n  <tbody>\n    <tr>\n      <th>miguel</th>\n      <td>garcia-silverio</td>\n      <td>Male</td>\n      <td>11/18/1995</td>\n      <td>0.030769</td>\n      <td>Caucasian</td>\n      <td>0</td>\n      <td>2</td>\n      <td>0</td>\n      <td>0.0</td>\n      <td>0.0</td>\n      <td>...</td>\n      <td>1</td>\n      <td>-1.92</td>\n      <td>-1.07</td>\n      <td>Single</td>\n      <td>0</td>\n      <td>0</td>\n      <td>0</td>\n      <td>1</td>\n      <td>0.281605</td>\n      <td>1.0</td>\n    </tr>\n    <tr>\n      <th>christopher</th>\n      <td>mcewan</td>\n      <td>Male</td>\n      <td>3/3/1988</td>\n      <td>0.153846</td>\n      <td>African-American</td>\n      <td>0</td>\n      <td>4</td>\n      <td>0</td>\n      <td>0.0</td>\n      <td>0.0</td>\n      <td>...</td>\n      <td>1</td>\n      <td>-2.31</td>\n      <td>-0.52</td>\n      <td>Single</td>\n      <td>0</td>\n      <td>0</td>\n      <td>0</td>\n      <td>0</td>\n      <td>0.282390</td>\n      <td>2.0</td>\n    </tr>\n    <tr>\n      <th>steven</th>\n      <td>king</td>\n      <td>Male</td>\n      <td>12/30/1980</td>\n      <td>0.261538</td>\n      <td>African-American</td>\n      <td>0</td>\n      <td>7</td>\n      <td>0</td>\n      <td>0.0</td>\n      <td>0.0</td>\n      <td>...</td>\n      <td>1</td>\n      <td>-2.28</td>\n      <td>-0.09</td>\n      <td>Single</td>\n      <td>0</td>\n      <td>0</td>\n      <td>0</td>\n      <td>0</td>\n      <td>0.283396</td>\n      <td>3.0</td>\n    </tr>\n    <tr>\n      <th>benjamin</th>\n      <td>robinson</td>\n      <td>Male</td>\n      <td>7/4/1989</td>\n      <td>0.123077</td>\n      <td>African-American</td>\n      <td>0</td>\n      <td>4</td>\n      <td>0</td>\n      <td>0.0</td>\n      <td>0.0</td>\n      <td>...</td>\n      <td>1</td>\n      <td>-1.99</td>\n      <td>-0.51</td>\n      <td>Single</td>\n      <td>0</td>\n      <td>0</td>\n      <td>0</td>\n      <td>0</td>\n      <td>0.284239</td>\n      <td>4.0</td>\n    </tr>\n    <tr>\n      <th>gregory</th>\n      <td>lugo</td>\n      <td>Male</td>\n      <td>1/13/1977</td>\n      <td>0.323077</td>\n      <td>Caucasian</td>\n      <td>0</td>\n      <td>1</td>\n      <td>0</td>\n      <td>0.0</td>\n      <td>0.0</td>\n      <td>...</td>\n      <td>1</td>\n      <td>-2.80</td>\n      <td>-1.05</td>\n      <td>Divorced</td>\n      <td>1</td>\n      <td>1</td>\n      <td>0</td>\n      <td>1</td>\n      <td>0.284688</td>\n      <td>5.0</td>\n    </tr>\n  </tbody>\n</table>\n<p>5 rows × 30 columns</p>\n</div>"
     },
     "execution_count": 97,
     "metadata": {},
     "output_type": "execute_result"
    }
   ],
   "source": [
    "compas_data_ranked[:5]"
   ],
   "metadata": {
    "collapsed": false,
    "pycharm": {
     "name": "#%%\n"
    }
   }
  },
  {
   "cell_type": "code",
   "execution_count": 98,
   "outputs": [],
   "source": [
    "compas_data_ranked.to_csv(r\"../../InputData/CompasData/ForRanking/CompasData_ranked.csv\", index=False)"
   ],
   "metadata": {
    "collapsed": false,
    "pycharm": {
     "name": "#%%\n"
    }
   }
  },
  {
   "cell_type": "code",
   "execution_count": 99,
   "outputs": [],
   "source": [
    "compas_data_ranked = pd.read_csv(r\"../../InputData/CompasData/ForRanking/CompasData_ranked.csv\", index_col=0)"
   ],
   "metadata": {
    "collapsed": false,
    "pycharm": {
     "name": "#%%\n"
    }
   }
  },
  {
   "cell_type": "code",
   "execution_count": 101,
   "outputs": [],
   "source": [
    "selected_columns = compas_data_ranked[[\"sex_binary\",\"age_binary\",\"race_C\",\"age_bucketized\",\"rank\"]]\n",
    "new_df = selected_columns.copy()\n",
    "new_df.to_csv(r\"../../InputData/CompasData/ForRanking/CompasData_ranked_5att.csv\", index=False)\n"
   ],
   "metadata": {
    "collapsed": false,
    "pycharm": {
     "name": "#%%\n"
    }
   }
  },
  {
   "cell_type": "code",
   "execution_count": 102,
   "outputs": [],
   "source": [
    "\n",
    "new_df_small = new_df[:100]\n",
    "new_df_small.to_csv(r\"../../InputData/CompasData/ForRanking/SmallDataset/CompasData_ranked_5att_100.csv\", index=False)\n"
   ],
   "metadata": {
    "collapsed": false,
    "pycharm": {
     "name": "#%%\n"
    }
   }
  },
  {
   "cell_type": "code",
   "execution_count": 6,
   "outputs": [],
   "source": [
    "compas_data_essential = pd.read_csv(r\"../../InputData/CompasData/ForRanking/CompasData_ranked_5att.csv\")\n",
    "\n",
    "compas_data_essential_small = compas_data_essential[:1000]\n",
    "compas_data_essential_small.to_csv(r\"../../InputData/CompasData/ForRanking/SmallDataset/CompasData_ranked_5att_1000.csv\", index=False)"
   ],
   "metadata": {
    "collapsed": false,
    "pycharm": {
     "name": "#%%\n"
    }
   }
  },
  {
   "cell_type": "code",
   "execution_count": 33,
   "outputs": [
    {
     "name": "stdout",
     "output_type": "stream",
     "text": [
      "|||\n",
      "|||\n"
     ]
    }
   ],
   "source": [],
   "metadata": {
    "collapsed": false,
    "pycharm": {
     "name": "#%%\n"
    }
   }
  }
 ],
 "metadata": {
  "kernelspec": {
   "display_name": "Python 3",
   "language": "python",
   "name": "python3"
  },
  "language_info": {
   "codemirror_mode": {
    "name": "ipython",
    "version": 3
   },
   "file_extension": ".py",
   "mimetype": "text/x-python",
   "name": "python",
   "nbconvert_exporter": "python",
   "pygments_lexer": "ipython3",
   "version": "3.8.3"
  }
 },
 "nbformat": 4,
 "nbformat_minor": 4
}