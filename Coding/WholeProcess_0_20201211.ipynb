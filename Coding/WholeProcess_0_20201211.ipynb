{
 "cells": [
  {
   "cell_type": "raw",
   "metadata": {
    "collapsed": true,
    "pycharm": {
     "name": "#%% raw\n"
    }
   },
   "source": [
    "\n",
    "The whole process\n",
    "\n",
    "- train a ml model\n",
    "- use the model to test\n",
    "- find mis-classified tuples\n",
    "- apply NewAlg / NaiveAlg\n"
   ]
  },
  {
   "cell_type": "code",
   "execution_count": 39,
   "outputs": [
    {
     "name": "stdout",
     "output_type": "stream",
     "text": [
      "The autoreload extension is already loaded. To reload it, use:\n",
      "  %reload_ext autoreload\n"
     ]
    }
   ],
   "source": [
    "%load_ext autoreload\n",
    "%autoreload 2\n",
    "\n",
    "\n",
    "import pandas as pd\n",
    "import pattern_count\n",
    "import NewAlg_0_20201128 as newalg\n",
    "import NaiveAlg_0_20201111 as naivealg\n",
    "import WholeProcess_0_20201211 as wholeprocess\n"
   ],
   "metadata": {
    "collapsed": false,
    "pycharm": {
     "name": "#%%\n"
    }
   }
  },
  {
   "cell_type": "code",
   "execution_count": 53,
   "outputs": [
    {
     "name": "stderr",
     "output_type": "stream",
     "text": [
      "/Users/jinyangli/opt/anaconda3/envs/py37/lib/python3.7/site-packages/pandas/core/frame.py:4170: SettingWithCopyWarning: \n",
      "A value is trying to be set on a copy of a slice from a DataFrame\n",
      "\n",
      "See the caveats in the documentation: https://pandas.pydata.org/pandas-docs/stable/user_guide/indexing.html#returning-a-view-versus-a-copy\n",
      "  errors=errors,\n",
      "/Users/jinyangli/opt/anaconda3/envs/py37/lib/python3.7/site-packages/pandas/core/frame.py:4170: SettingWithCopyWarning: \n",
      "A value is trying to be set on a copy of a slice from a DataFrame\n",
      "\n",
      "See the caveats in the documentation: https://pandas.pydata.org/pandas-docs/stable/user_guide/indexing.html#returning-a-view-versus-a-copy\n",
      "  errors=errors,\n"
     ]
    },
    {
     "name": "stdout",
     "output_type": "stream",
     "text": [
      "[1, 12, 3, -1, -1]\n",
      "[] \n",
      " 2007 0.40436792373657227 0.8183627437972668 0.6183627437972667\n",
      "[[1, 15, 2, 0, -1]] \n",
      " 2311 0.4378221035003662 0.8183185175357127 0.6183185175357127\n"
     ]
    }
   ],
   "source": [
    "original_data_file = \"../InputData/CleanAdult2.csv\"\n",
    "Thc = 15\n",
    "selected_attributes = ['age', 'education', 'marital-status', 'race', 'gender']\n",
    "pattern_with_low_accuracy, num_patterns_checked, execution_time, OverallAccuracy, Tha, mis_class_data = wholeprocess.WholeProcess(original_data_file, selected_attributes, Thc, newalg.GraphTraverse)\n",
    "\n",
    "print(pattern_with_low_accuracy, \"\\n\", num_patterns_checked, execution_time, OverallAccuracy, Tha)\n"
   ],
   "metadata": {
    "collapsed": false,
    "pycharm": {
     "name": "#%%\n"
    }
   }
  },
  {
   "cell_type": "code",
   "execution_count": 54,
   "outputs": [],
   "source": [
    "original_data = pd.read_csv(original_data_file, delimiter=', *', engine='python')\n",
    "less_attribute_data = original_data[selected_attributes]\n",
    "\n",
    "original_pattern_count = pattern_count.PatternCounter(original_data, selected_attributes, encoded=False)\n",
    "misclass_pattern_count = pattern_count.PatternCounter(mis_class_data, selected_attributes, encoded=False)\n",
    "original_pattern_count.parse_data()\n",
    "misclass_pattern_count.parse_data()"
   ],
   "metadata": {
    "collapsed": false,
    "pycharm": {
     "name": "#%%\n"
    }
   }
  },
  {
   "cell_type": "code",
   "execution_count": 55,
   "outputs": [
    {
     "name": "stdout",
     "output_type": "stream",
     "text": [
      "[1, 15, 2, 0, -1] 0.6111111111111112 18 7\n"
     ]
    }
   ],
   "source": [
    "for p in pattern_with_low_accuracy:\n",
    "    p_ = pattern_count.num2string(p)\n",
    "    cardinality_whole_data = original_pattern_count.pattern_count(p_)\n",
    "    cardinality_mis_class = misclass_pattern_count.pattern_count(p_)\n",
    "    acc = (cardinality_whole_data - cardinality_mis_class) / cardinality_whole_data\n",
    "    print(p, acc, cardinality_whole_data, cardinality_mis_class)"
   ],
   "metadata": {
    "collapsed": false,
    "pycharm": {
     "name": "#%%\n"
    }
   }
  },
  {
   "cell_type": "code",
   "execution_count": 56,
   "outputs": [
    {
     "name": "stderr",
     "output_type": "stream",
     "text": [
      "/Users/jinyangli/opt/anaconda3/envs/py37/lib/python3.7/site-packages/pandas/core/frame.py:4170: SettingWithCopyWarning: \n",
      "A value is trying to be set on a copy of a slice from a DataFrame\n",
      "\n",
      "See the caveats in the documentation: https://pandas.pydata.org/pandas-docs/stable/user_guide/indexing.html#returning-a-view-versus-a-copy\n",
      "  errors=errors,\n"
     ]
    },
    {
     "name": "stdout",
     "output_type": "stream",
     "text": [
      "----------------------------------------------------  num_att =  1\n",
      "----------------------------------------------------  num_att =  2\n",
      "----------------------------------------------------  num_att =  3\n",
      "----------------------------------------------------  num_att =  4\n",
      "1\n",
      "----------------------------------------------------  num_att =  5\n",
      "execution time = 0.9451539516448975 seconds\n",
      "1\n",
      "num_pattern_checked =  12239\n",
      "[[1, 15, 2, 0, -1]] \n",
      " 12239 0.9451539516448975 0.8183627437972668 0.6183627437972667\n"
     ]
    }
   ],
   "source": [
    "pattern_with_low_accuracy, num_patterns_checked, execution_time, OverallAccuracy, Tha, mis_class_data = wholeprocess.WholeProcess(original_data_file, selected_attributes, Thc, naivealg.NaiveAlg)\n",
    "\n",
    "print(pattern_with_low_accuracy, \"\\n\", num_patterns_checked, execution_time, OverallAccuracy, Tha)\n"
   ],
   "metadata": {
    "collapsed": false,
    "pycharm": {
     "name": "#%%\n"
    }
   }
  },
  {
   "cell_type": "code",
   "execution_count": 57,
   "outputs": [
    {
     "name": "stdout",
     "output_type": "stream",
     "text": [
      "[1, 15, 2, 0, -1] 0.6111111111111112 18 7\n"
     ]
    }
   ],
   "source": [
    "for p in pattern_with_low_accuracy:\n",
    "    p_ = pattern_count.num2string(p)\n",
    "    cardinality_whole_data = original_pattern_count.pattern_count(p_)\n",
    "    cardinality_mis_class = misclass_pattern_count.pattern_count(p_)\n",
    "    acc = (cardinality_whole_data - cardinality_mis_class) / cardinality_whole_data\n",
    "    print(p, acc, cardinality_whole_data, cardinality_mis_class)"
   ],
   "metadata": {
    "collapsed": false,
    "pycharm": {
     "name": "#%%\n"
    }
   }
  },
  {
   "cell_type": "code",
   "execution_count": null,
   "outputs": [],
   "source": [],
   "metadata": {
    "collapsed": false,
    "pycharm": {
     "name": "#%%\n"
    }
   }
  }
 ],
 "metadata": {
  "kernelspec": {
   "display_name": "Python 3",
   "language": "python",
   "name": "python3"
  },
  "language_info": {
   "codemirror_mode": {
    "name": "ipython",
    "version": 2
   },
   "file_extension": ".py",
   "mimetype": "text/x-python",
   "name": "python",
   "nbconvert_exporter": "python",
   "pygments_lexer": "ipython2",
   "version": "2.7.6"
  }
 },
 "nbformat": 4,
 "nbformat_minor": 0
}