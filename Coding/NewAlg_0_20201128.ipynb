{
 "cells": [
  {
   "cell_type": "raw",
   "metadata": {
    "collapsed": true,
    "pycharm": {
     "name": "#%% raw\n"
    }
   },
   "source": [
    "\n",
    "This notebook implements the new proposed algorithm.\n",
    "Travel in the graph from top down\n",
    "Stop point 1: when finding a pattern satisfying the requirements\n",
    "Stop point 2: when the cardinality is too small\n"
   ]
  },
  {
   "cell_type": "code",
   "source": [
    "import pandas as pd\n",
    "import pattern_count\n",
    "import time\n",
    "import NewAlg_0_20201128 as newalg\n"
   ],
   "metadata": {
    "collapsed": false,
    "pycharm": {
     "name": "#%%\n"
    }
   },
   "execution_count": 142,
   "outputs": []
  },
  {
   "cell_type": "markdown",
   "source": [
    "# test 1"
   ],
   "metadata": {
    "collapsed": false,
    "pycharm": {
     "name": "#%% md\n"
    }
   }
  },
  {
   "cell_type": "code",
   "execution_count": null,
   "outputs": [],
   "source": [
    "whole_data_file = \"../InputData/SmallDataset/SmallWhole_5_10.csv\"\n",
    "mis_class_data_file = \"../InputData/SmallDataset/SmallMisClass_5_10.csv\"\n",
    "Tha = 0.5\n",
    "Thc = 2\n",
    "pattern_with_low_accuracy, num_pattern_checked, execution_time = newalg.GraphTraverse(whole_data_file, mis_class_data_file, Tha, Thc)\n",
    "\n",
    "\n",
    "print(pattern_with_low_accuracy, \"\\n\", num_pattern_checked, execution_time)\n"
   ],
   "metadata": {
    "collapsed": false,
    "pycharm": {
     "name": "#%%\n"
    }
   }
  },
  {
   "cell_type": "code",
   "execution_count": 136,
   "outputs": [
    {
     "name": "stdout",
     "output_type": "stream",
     "text": [
      "['age', 'workclass', 'education', 'educational-num', 'marital-status']\n",
      "[-1, -1, -1, -1, 4] 3 2\n",
      "[-1, 2, -1, -1, -1] 7 4\n",
      "[0, -1, -1, -1, -1] 6 4\n"
     ]
    }
   ],
   "source": [
    "\n",
    "# check pattern coverage\n",
    "column_list = pd.read_csv(whole_data_file).columns.values.tolist()\n",
    "print(column_list)\n",
    "\n",
    "whole_pattern_count = pattern_count.PatternCounter(whole_data_file, column_list, encoded=False)\n",
    "misclass_pattern_count = pattern_count.PatternCounter(mis_class_data_file, column_list, encoded=False)\n",
    "whole_pattern_count.parse_data()\n",
    "misclass_pattern_count.parse_data()\n",
    "\n",
    "\n",
    "for p in pattern_with_low_accuracy:\n",
    "    p_ = pattern_count.num2string(p)\n",
    "    print(p, whole_pattern_count.pattern_count(p_), misclass_pattern_count.pattern_count(p_))"
   ],
   "metadata": {
    "collapsed": false,
    "pycharm": {
     "name": "#%%\n"
    }
   }
  },
  {
   "cell_type": "markdown",
   "source": [
    "# test 2"
   ],
   "metadata": {
    "collapsed": false,
    "pycharm": {
     "name": "#%% md\n"
    }
   }
  },
  {
   "cell_type": "code",
   "execution_count": null,
   "outputs": [],
   "source": [
    "whole_data_file = \"../InputData/SmallDataset/SmallWhole_13_100.csv\"\n",
    "mis_class_data_file = \"../InputData/SmallDataset/SmallMisClass_13_50.csv\"\n",
    "Tha = 0.5\n",
    "Thc = 6\n",
    "pattern_with_low_accuracy, num_pattern_checked, execution_time = newalg.GraphTraverse(whole_data_file, mis_class_data_file, Tha, Thc)\n",
    "\n",
    "print(len(pattern_with_low_accuracy), \"\\n\", pattern_with_low_accuracy, \"\\n\", num_pattern_checked, execution_time)\n",
    "\n"
   ],
   "metadata": {
    "collapsed": false,
    "pycharm": {
     "name": "#%%\n"
    }
   }
  },
  {
   "cell_type": "code",
   "execution_count": 139,
   "outputs": [
    {
     "name": "stdout",
     "output_type": "stream",
     "text": [
      "['age', 'workclass', 'education', 'educational-num', 'marital-status', 'occupation', 'relationship', 'race', 'gender', 'capital-gain', 'capital-loss', 'hours-per-week', 'native-country']\n",
      "[-1, -1, -1, -1, -1, -1, -1, -1, -1, -1, -1, 1, -1] 0.45454545454545453\n",
      "[-1, -1, -1, -1, -1, -1, -1, 4, 1, 0, 0, -1, 38] 0.4883720930232558\n",
      "[-1, -1, -1, -1, -1, -1, 4, -1, -1, -1, -1, -1, -1] 0.2857142857142857\n",
      "[-1, -1, -1, -1, -1, -1, 3, 4, 1, 0, -1, -1, -1] 0.42857142857142855\n",
      "[-1, -1, -1, -1, -1, -1, 0, -1, -1, -1, -1, -1, 38] 0.47368421052631576\n",
      "[-1, -1, -1, -1, -1, -1, 0, -1, -1, 4, -1, -1, -1] 0.45454545454545453\n",
      "[-1, -1, -1, -1, -1, 9, -1, -1, -1, -1, -1, -1, -1] 0.125\n",
      "[-1, -1, -1, -1, -1, 6, -1, -1, -1, -1, -1, -1, 38] 0.46153846153846156\n",
      "[-1, -1, -1, -1, -1, 6, -1, -1, 1, -1, -1, -1, -1] 0.3333333333333333\n",
      "[-1, -1, -1, -1, -1, 2, -1, -1, -1, -1, -1, -1, 38] 0.42857142857142855\n",
      "[-1, -1, -1, -1, 4, -1, -1, -1, 1, -1, -1, 2, -1] 0.45454545454545453\n",
      "[-1, -1, -1, -1, 4, -1, -1, -1, 1, 0, -1, -1, -1] 0.45\n",
      "[-1, -1, -1, -1, 4, -1, -1, 4, 1, -1, -1, -1, -1] 0.4117647058823529\n",
      "[-1, -1, -1, -1, 4, -1, 1, -1, 1, -1, -1, -1, -1] 0.45454545454545453\n",
      "[-1, -1, -1, -1, 2, -1, -1, -1, -1, -1, -1, -1, 38] 0.4634146341463415\n",
      "[-1, -1, -1, -1, 2, -1, -1, -1, 1, 4, -1, -1, -1] 0.45454545454545453\n",
      "[-1, -1, -1, -1, 2, -1, -1, 4, -1, 0, -1, -1, -1] 0.4838709677419355\n",
      "[-1, -1, -1, 13, -1, -1, -1, -1, -1, -1, -1, 2, -1] 0.45454545454545453\n",
      "[-1, -1, -1, 13, -1, -1, -1, -1, -1, 0, -1, -1, -1] 0.45454545454545453\n",
      "[-1, -1, -1, 13, -1, -1, -1, -1, 1, -1, -1, -1, -1] 0.3333333333333333\n",
      "[-1, -1, 9, -1, -1, -1, -1, -1, -1, -1, -1, 2, -1] 0.45454545454545453\n",
      "[-1, -1, 9, -1, -1, -1, -1, -1, -1, 0, -1, -1, -1] 0.45454545454545453\n",
      "[-1, -1, 9, -1, -1, -1, -1, -1, 1, -1, -1, -1, -1] 0.3333333333333333\n",
      "[-1, 4, -1, -1, -1, -1, -1, -1, -1, -1, -1, -1, -1] 0.2857142857142857\n",
      "[-1, 2, -1, -1, -1, 6, -1, -1, -1, -1, -1, -1, -1] 0.46153846153846156\n",
      "[0, -1, -1, -1, -1, -1, -1, -1, 1, -1, -1, -1, -1] 0.475\n",
      "[0, -1, -1, -1, -1, -1, -1, 4, -1, 0, 0, -1, -1] 0.48936170212765956\n",
      "[0, -1, -1, -1, -1, -1, 0, -1, -1, -1, -1, -1, -1] 0.35714285714285715\n",
      "[0, -1, -1, -1, 2, -1, -1, -1, -1, -1, -1, -1, -1] 0.375\n",
      "[0, -1, -1, 13, -1, -1, -1, -1, -1, -1, -1, -1, -1] 0.4\n",
      "[0, -1, -1, 9, -1, -1, -1, -1, -1, 0, -1, -1, 38] 0.4666666666666667\n",
      "[0, -1, 11, -1, -1, -1, -1, -1, -1, 0, -1, -1, 38] 0.4666666666666667\n",
      "[0, -1, 9, -1, -1, -1, -1, -1, -1, -1, -1, -1, -1] 0.4\n"
     ]
    }
   ],
   "source": [
    "# check pattern coverage\n",
    "column_list = pd.read_csv(whole_data_file).columns.values.tolist()\n",
    "print(column_list)\n",
    "\n",
    "whole_pattern_count = pattern_count.PatternCounter(whole_data_file, column_list, encoded=False)\n",
    "misclass_pattern_count = pattern_count.PatternCounter(mis_class_data_file, column_list, encoded=False)\n",
    "whole_pattern_count.parse_data()\n",
    "misclass_pattern_count.parse_data()\n",
    "\n",
    "\n",
    "for p in pattern_with_low_accuracy:\n",
    "    p_ = pattern_count.num2string(p)\n",
    "    cardinality_whole_data = whole_pattern_count.pattern_count(p_)\n",
    "    cardinality_mis_class = misclass_pattern_count.pattern_count(p_)\n",
    "    acc = (cardinality_whole_data - cardinality_mis_class) / cardinality_whole_data\n",
    "    print(p, acc)"
   ],
   "metadata": {
    "collapsed": false,
    "pycharm": {
     "name": "#%%\n"
    }
   }
  },
  {
   "cell_type": "code",
   "execution_count": 140,
   "outputs": [],
   "source": [
    "# check pattern domination\n",
    "\n",
    "for p in pattern_with_low_accuracy:\n",
    "    d, domination = newalg.PDominatedByM(p, pattern_with_low_accuracy)\n",
    "    if d:\n",
    "        print(p, \"is donimated by\", domination)"
   ],
   "metadata": {
    "collapsed": false,
    "pycharm": {
     "name": "#%%\n"
    }
   }
  },
  {
   "cell_type": "code",
   "execution_count": 144,
   "outputs": [
    {
     "name": "stdout",
     "output_type": "stream",
     "text": [
      "4 \n",
      " [[-1, -1, -1, 16, -1, -1, -1, -1, -1, 0, 0, 1, 38], [-1, -1, 10, -1, -1, -1, -1, -1, -1, 0, 0, 1, 38], [-1, 1, -1, 11, 2, -1, -1, 4, -1, 0, -1, 2, -1], [-1, 1, 8, -1, 2, -1, -1, 4, -1, 0, -1, 2, -1]] \n",
      " 8361542 1488.7421729564667\n"
     ]
    }
   ],
   "source": [
    "\n",
    "# test 3\n",
    "\n",
    "whole_data_file = \"../InputData/CleanAdult3.csv\"\n",
    "mis_class_data_file = \"../InputData/mis_class3.csv\"\n",
    "Tha = 0.5\n",
    "Thc = 30\n",
    "pattern_with_low_accuracy, num_pattern_checked, execution_time = newalg.GraphTraverse(whole_data_file, mis_class_data_file, Tha, Thc)\n",
    "\n",
    "print(len(pattern_with_low_accuracy), \"\\n\", pattern_with_low_accuracy, \"\\n\", num_pattern_checked, execution_time)\n",
    "\n"
   ],
   "metadata": {
    "collapsed": false,
    "pycharm": {
     "name": "#%%\n"
    }
   }
  },
  {
   "cell_type": "code",
   "execution_count": null,
   "outputs": [],
   "source": [
    "# check pattern coverage\n",
    "column_list = pd.read_csv(whole_data_file).columns.values.tolist()\n",
    "print(column_list)\n",
    "\n",
    "whole_pattern_count = pattern_count.PatternCounter(whole_data_file, column_list, encoded=False)\n",
    "misclass_pattern_count = pattern_count.PatternCounter(mis_class_data_file, column_list, encoded=False)\n",
    "whole_pattern_count.parse_data()\n",
    "misclass_pattern_count.parse_data()\n",
    "\n",
    "\n",
    "for p in pattern_with_low_accuracy:\n",
    "    p_ = pattern_count.num2string(p)\n",
    "    cardinality_whole_data = whole_pattern_count.pattern_count(p_)\n",
    "    cardinality_mis_class = misclass_pattern_count.pattern_count(p_)\n",
    "    acc = (cardinality_whole_data - cardinality_mis_class) / cardinality_whole_data\n",
    "    print(p, acc)"
   ],
   "metadata": {
    "collapsed": false,
    "pycharm": {
     "name": "#%%\n"
    }
   }
  },
  {
   "cell_type": "code",
   "execution_count": null,
   "outputs": [],
   "source": [
    "# check pattern domination\n",
    "\n",
    "for p in pattern_with_low_accuracy:\n",
    "    d, domination = newalg.PDominatedByM(p, pattern_with_low_accuracy)\n",
    "    if d:\n",
    "        print(p, \"is donimated by\", domination)\n"
   ],
   "metadata": {
    "collapsed": false,
    "pycharm": {
     "name": "#%%\n"
    }
   }
  },
  {
   "cell_type": "code",
   "execution_count": 146,
   "outputs": [
    {
     "name": "stdout",
     "output_type": "stream",
     "text": [
      "119 \n",
      " [[-1, -1, -1, -1, -1, -1, -1, -1, -1, -1, -1, -1, 25], [-1, -1, -1, -1, -1, -1, -1, -1, -1, -1, -1, 3, -1], [-1, -1, -1, -1, -1, -1, -1, -1, -1, -1, -1, 1, -1], [-1, -1, -1, -1, -1, -1, -1, -1, -1, -1, -1, 0, -1], [-1, -1, -1, -1, -1, -1, -1, -1, -1, -1, 3, -1, 38], [-1, -1, -1, -1, -1, -1, -1, -1, -1, -1, 0, 4, -1], [-1, -1, -1, -1, -1, -1, -1, -1, -1, 4, -1, -1, -1], [-1, -1, -1, -1, -1, -1, -1, -1, 1, -1, -1, 4, -1], [-1, -1, -1, -1, -1, -1, -1, -1, 1, -1, 3, -1, -1], [-1, -1, -1, -1, -1, -1, -1, -1, 0, -1, -1, -1, -1], [-1, -1, -1, -1, -1, -1, -1, 4, -1, -1, 3, -1, -1], [-1, -1, -1, -1, -1, -1, -1, 3, -1, -1, -1, 2, -1], [-1, -1, -1, -1, -1, -1, -1, 3, -1, -1, 0, -1, -1], [-1, -1, -1, -1, -1, -1, -1, 3, -1, 0, -1, -1, -1], [-1, -1, -1, -1, -1, -1, -1, 3, 1, -1, -1, -1, -1], [-1, -1, -1, -1, -1, -1, -1, 2, -1, -1, -1, -1, -1], [-1, -1, -1, -1, -1, -1, -1, 1, 1, -1, -1, -1, -1], [-1, -1, -1, -1, -1, -1, -1, 0, -1, -1, -1, -1, -1], [-1, -1, -1, -1, -1, -1, 4, -1, -1, -1, -1, -1, -1], [-1, -1, -1, -1, -1, -1, 3, -1, -1, -1, -1, -1, -1], [-1, -1, -1, -1, -1, -1, 2, -1, -1, -1, -1, -1, -1], [-1, -1, -1, -1, -1, -1, 1, -1, -1, -1, 3, -1, -1], [-1, -1, -1, -1, -1, -1, 1, 4, -1, 0, -1, -1, -1], [-1, -1, -1, -1, -1, -1, 0, -1, -1, -1, -1, 4, -1], [-1, -1, -1, -1, -1, -1, 0, -1, -1, -1, 3, -1, -1], [-1, -1, -1, -1, -1, -1, 0, 1, -1, -1, -1, -1, -1], [-1, -1, -1, -1, -1, 12, 1, -1, -1, -1, -1, 2, -1], [-1, -1, -1, -1, -1, 12, 1, 4, -1, -1, 0, -1, -1], [-1, -1, -1, -1, -1, 11, -1, -1, -1, -1, -1, -1, -1], [-1, -1, -1, -1, -1, 10, -1, -1, -1, -1, -1, -1, -1], [-1, -1, -1, -1, -1, 9, -1, -1, -1, -1, -1, -1, -1], [-1, -1, -1, -1, -1, 8, -1, -1, -1, -1, -1, -1, -1], [-1, -1, -1, -1, -1, 7, -1, -1, -1, -1, -1, -1, -1], [-1, -1, -1, -1, -1, 6, -1, -1, -1, -1, -1, -1, -1], [-1, -1, -1, -1, -1, 5, 1, 4, -1, -1, -1, -1, 38], [-1, -1, -1, -1, -1, 4, 1, -1, -1, -1, -1, -1, -1], [-1, -1, -1, -1, -1, 3, -1, -1, -1, -1, -1, -1, -1], [-1, -1, -1, -1, -1, 2, -1, -1, -1, -1, -1, -1, 38], [-1, -1, -1, -1, -1, 2, 0, -1, -1, -1, -1, -1, -1], [-1, -1, -1, -1, -1, 0, -1, -1, -1, -1, 0, -1, -1], [-1, -1, -1, -1, -1, 0, -1, 4, -1, -1, -1, -1, -1], [-1, -1, -1, -1, -1, 0, 1, -1, -1, -1, -1, -1, -1], [-1, -1, -1, -1, 6, -1, -1, -1, -1, -1, -1, -1, -1], [-1, -1, -1, -1, 5, -1, 1, 4, -1, -1, -1, -1, -1], [-1, -1, -1, -1, 4, -1, -1, -1, -1, -1, -1, -1, -1], [-1, -1, -1, -1, 3, -1, 1, 4, -1, -1, -1, -1, -1], [-1, -1, -1, -1, 2, -1, -1, -1, -1, -1, -1, 4, -1], [-1, -1, -1, -1, 2, -1, -1, -1, -1, -1, 3, -1, -1], [-1, -1, -1, -1, 2, -1, -1, 1, -1, -1, -1, -1, -1], [-1, -1, -1, -1, 2, -1, 5, -1, -1, 0, 0, 2, 38], [-1, -1, -1, -1, 2, 2, -1, -1, -1, -1, -1, -1, -1], [-1, -1, -1, -1, 0, -1, -1, -1, -1, -1, -1, -1, -1], [-1, -1, -1, 16, -1, -1, -1, -1, -1, 0, -1, -1, -1], [-1, -1, -1, 16, -1, -1, -1, 4, -1, -1, -1, -1, -1], [-1, -1, -1, 15, -1, -1, -1, -1, -1, -1, 0, -1, -1], [-1, -1, -1, 15, -1, -1, 0, -1, -1, -1, -1, -1, -1], [-1, -1, -1, 15, 2, -1, -1, -1, -1, -1, -1, -1, -1], [-1, -1, -1, 14, -1, -1, -1, -1, -1, -1, -1, -1, -1], [-1, -1, -1, 13, -1, -1, -1, -1, -1, -1, -1, -1, -1], [-1, -1, -1, 12, -1, -1, 1, -1, -1, -1, -1, -1, -1], [-1, -1, -1, 11, -1, -1, -1, -1, -1, -1, -1, -1, -1], [-1, -1, -1, 10, -1, -1, -1, -1, -1, -1, -1, -1, -1], [-1, -1, -1, 9, -1, -1, -1, -1, -1, -1, 3, -1, -1], [-1, -1, -1, 9, -1, -1, -1, 1, -1, -1, -1, -1, -1], [-1, -1, -1, 9, -1, -1, 5, -1, -1, -1, -1, -1, -1], [-1, -1, -1, 9, -1, -1, 1, -1, -1, -1, -1, 2, -1], [-1, -1, -1, 9, -1, 12, -1, 4, -1, -1, -1, -1, -1], [-1, -1, -1, 9, -1, 2, 1, -1, -1, -1, -1, -1, -1], [-1, -1, -1, 9, -1, 0, -1, -1, -1, -1, -1, -1, -1], [-1, -1, -1, 8, -1, -1, -1, -1, 1, -1, -1, -1, 38], [-1, -1, -1, 7, -1, -1, -1, -1, -1, -1, -1, -1, -1], [-1, -1, -1, 6, -1, -1, -1, -1, -1, -1, -1, -1, -1], [-1, -1, -1, 5, -1, -1, -1, -1, -1, -1, -1, -1, -1], [-1, -1, -1, 4, -1, -1, -1, -1, -1, -1, -1, -1, -1], [-1, -1, -1, 3, -1, -1, -1, -1, 1, -1, -1, -1, -1], [-1, -1, -1, 3, -1, -1, -1, 4, -1, -1, -1, -1, -1], [-1, -1, 15, -1, -1, -1, -1, -1, -1, -1, -1, -1, -1], [-1, -1, 14, -1, -1, -1, -1, -1, -1, -1, 0, -1, -1], [-1, -1, 14, -1, -1, -1, 0, -1, -1, -1, -1, -1, -1], [-1, -1, 14, -1, 2, -1, -1, -1, -1, -1, -1, -1, -1], [-1, -1, 12, -1, -1, -1, -1, -1, -1, -1, -1, -1, -1], [-1, -1, 11, -1, -1, -1, -1, -1, -1, -1, 3, -1, -1], [-1, -1, 11, -1, -1, -1, -1, 1, -1, -1, -1, -1, -1], [-1, -1, 11, -1, -1, -1, 5, -1, -1, -1, -1, -1, -1], [-1, -1, 11, -1, -1, -1, 1, -1, -1, -1, -1, 2, -1], [-1, -1, 11, -1, -1, 12, -1, 4, -1, -1, -1, -1, -1], [-1, -1, 11, -1, -1, 2, 1, -1, -1, -1, -1, -1, -1], [-1, -1, 11, -1, -1, 0, -1, -1, -1, -1, -1, -1, -1], [-1, -1, 10, -1, -1, -1, -1, -1, -1, 0, -1, -1, -1], [-1, -1, 10, -1, -1, -1, -1, 4, -1, -1, -1, -1, -1], [-1, -1, 9, -1, -1, -1, -1, -1, -1, -1, -1, -1, -1], [-1, -1, 8, -1, -1, -1, -1, -1, -1, -1, -1, -1, -1], [-1, -1, 7, -1, -1, -1, 1, -1, -1, -1, -1, -1, -1], [-1, -1, 6, -1, -1, -1, -1, -1, -1, -1, -1, -1, -1], [-1, -1, 5, -1, -1, -1, -1, -1, -1, -1, -1, -1, -1], [-1, -1, 4, -1, -1, -1, -1, -1, 1, -1, -1, -1, -1], [-1, -1, 4, -1, -1, -1, -1, 4, -1, -1, -1, -1, -1], [-1, -1, 2, -1, -1, -1, -1, -1, 1, -1, -1, -1, 38], [-1, -1, 1, -1, -1, -1, -1, -1, -1, -1, -1, -1, -1], [-1, -1, 0, -1, -1, -1, -1, -1, -1, -1, -1, -1, -1], [-1, 5, -1, -1, -1, -1, -1, -1, -1, -1, -1, -1, -1], [-1, 4, -1, -1, -1, -1, 1, 4, -1, -1, -1, 2, -1], [-1, 4, -1, -1, -1, 2, -1, -1, -1, 0, -1, -1, -1], [-1, 4, -1, 9, -1, 2, -1, -1, 1, -1, -1, -1, -1], [-1, 4, 11, -1, -1, 2, -1, -1, 1, -1, -1, -1, -1], [-1, 3, -1, -1, -1, -1, -1, -1, -1, -1, -1, -1, -1], [-1, 2, -1, -1, -1, -1, -1, -1, -1, -1, -1, -1, -1], [-1, 1, -1, -1, -1, 0, -1, -1, -1, -1, -1, 2, -1], [-1, 0, -1, -1, -1, -1, -1, -1, -1, -1, -1, -1, -1], [2, -1, -1, -1, -1, -1, -1, -1, -1, -1, -1, -1, -1], [1, -1, -1, -1, -1, -1, 5, -1, -1, -1, -1, 2, 38], [1, -1, -1, -1, -1, 12, -1, -1, -1, -1, 0, 2, -1], [1, -1, -1, -1, -1, 12, -1, -1, -1, 0, -1, 2, -1], [1, -1, -1, -1, -1, 12, -1, -1, -1, 0, 0, -1, -1], [1, -1, -1, -1, -1, 5, -1, -1, -1, -1, -1, -1, -1], [1, -1, -1, -1, -1, 2, -1, -1, -1, -1, -1, -1, -1], [1, -1, -1, 16, -1, -1, -1, -1, -1, -1, -1, -1, -1], [1, -1, 10, -1, -1, -1, -1, -1, -1, -1, -1, -1, -1], [0, -1, -1, -1, -1, -1, -1, -1, -1, -1, -1, -1, -1]] \n",
      " 637611 121.77241778373718\n"
     ]
    }
   ],
   "source": [
    "\n",
    "# test 4\n",
    "\n",
    "whole_data_file = \"../InputData/SmallDataset/SmallWhole_13_10000.csv\"\n",
    "mis_class_data_file = \"../InputData/SmallDataset/SmallMisClass_13_5000.csv\"\n",
    "Tha = 0.5\n",
    "Thc = 50\n",
    "pattern_with_low_accuracy, num_pattern_checked, execution_time = newalg.GraphTraverse(whole_data_file, mis_class_data_file, Tha, Thc)\n",
    "\n",
    "print(len(pattern_with_low_accuracy), \"\\n\", pattern_with_low_accuracy, \"\\n\", num_pattern_checked, execution_time)\n",
    "\n"
   ],
   "metadata": {
    "collapsed": false,
    "pycharm": {
     "name": "#%%\n"
    }
   }
  },
  {
   "cell_type": "code",
   "execution_count": null,
   "outputs": [],
   "source": [
    "# check pattern coverage\n",
    "column_list = pd.read_csv(whole_data_file).columns.values.tolist()\n",
    "print(column_list)\n",
    "\n",
    "whole_pattern_count = pattern_count.PatternCounter(whole_data_file, column_list, encoded=False)\n",
    "misclass_pattern_count = pattern_count.PatternCounter(mis_class_data_file, column_list, encoded=False)\n",
    "whole_pattern_count.parse_data()\n",
    "misclass_pattern_count.parse_data()\n",
    "\n",
    "\n",
    "for p in pattern_with_low_accuracy:\n",
    "    p_ = pattern_count.num2string(p)\n",
    "    cardinality_whole_data = whole_pattern_count.pattern_count(p_)\n",
    "    cardinality_mis_class = misclass_pattern_count.pattern_count(p_)\n",
    "    acc = (cardinality_whole_data - cardinality_mis_class) / cardinality_whole_data\n",
    "    print(p, acc)"
   ],
   "metadata": {
    "collapsed": false,
    "pycharm": {
     "name": "#%%\n"
    }
   }
  },
  {
   "cell_type": "code",
   "execution_count": null,
   "outputs": [],
   "source": [
    "# check pattern domination\n",
    "\n",
    "for p in pattern_with_low_accuracy:\n",
    "    d, domination = newalg.PDominatedByM(p, pattern_with_low_accuracy)\n",
    "    if d:\n",
    "        print(p, \"is donimated by\", domination)"
   ],
   "metadata": {
    "collapsed": false,
    "pycharm": {
     "name": "#%%\n"
    }
   }
  }
 ],
 "metadata": {
  "kernelspec": {
   "display_name": "Python 3",
   "language": "python",
   "name": "python3"
  },
  "language_info": {
   "codemirror_mode": {
    "name": "ipython",
    "version": 2
   },
   "file_extension": ".py",
   "mimetype": "text/x-python",
   "name": "python",
   "nbconvert_exporter": "python",
   "pygments_lexer": "ipython2",
   "version": "2.7.6"
  }
 },
 "nbformat": 4,
 "nbformat_minor": 0
}