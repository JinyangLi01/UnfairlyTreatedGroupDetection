{
 "cells": [
  {
   "cell_type": "code",
   "execution_count": 9,
   "metadata": {
    "collapsed": true,
    "pycharm": {
     "name": "#%%\n"
    }
   },
   "outputs": [],
   "source": [
    "\n"
   ]
  },
  {
   "cell_type": "code",
   "execution_count": 3,
   "outputs": [],
   "source": [
    "import pandas as pd\n",
    "import numpy as np\n"
   ],
   "metadata": {
    "collapsed": false,
    "pycharm": {
     "name": "#%%\n"
    }
   }
  },
  {
   "cell_type": "code",
   "execution_count": 11,
   "outputs": [
    {
     "name": "stdout",
     "output_type": "stream",
     "text": [
      "[]\n"
     ]
    }
   ],
   "source": [],
   "metadata": {
    "collapsed": false,
    "pycharm": {
     "name": "#%%\n"
    }
   }
  },
  {
   "cell_type": "code",
   "execution_count": 9,
   "outputs": [
    {
     "name": "stdout",
     "output_type": "stream",
     "text": [
      "0 0\n",
      " \n",
      " \n"
     ]
    },
    {
     "data": {
      "text/plain": "True"
     },
     "execution_count": 9,
     "metadata": {},
     "output_type": "execute_result"
    }
   ],
   "source": [
    "def P1DominatedByP2ForStr(str1, str2, num_att):\n",
    "    num_separator = num_att - 1\n",
    "    start_pos1 = 0\n",
    "    start_pos2 = 0\n",
    "    for i in range(num_separator):\n",
    "        p1 = str1.find(\"|\", start_pos1)\n",
    "        p2 = str2.find(\"|\", start_pos2)\n",
    "        s1 = str1[start_pos1:p1]\n",
    "        s2 = str2[start_pos2:p2]\n",
    "        print(s1, s2)\n",
    "        if s1 != s2 and s2 != \"\":\n",
    "            return False\n",
    "        start_pos1 = p1 + 1\n",
    "        start_pos2 = p2 + 1\n",
    "    s1 = str1[start_pos1:]\n",
    "    s2 = str2[start_pos2:]\n",
    "    if s1 != s2 and s2 != \"\":\n",
    "        return False\n",
    "    return True\n",
    "\n",
    "P1DominatedByP2ForStr(\"0|||1\", \"0|||1\", 4)"
   ],
   "metadata": {
    "collapsed": false,
    "pycharm": {
     "name": "#%%\n"
    }
   }
  },
  {
   "cell_type": "code",
   "execution_count": 11,
   "outputs": [],
   "source": [
    "s = [[2, 3], [3, 4], [1, 2]]\n",
    "p = [7, 3]\n",
    "\n",
    "if p in s:\n",
    "    print(\"True\")"
   ],
   "metadata": {
    "collapsed": false,
    "pycharm": {
     "name": "#%%\n"
    }
   }
  },
  {
   "cell_type": "code",
   "execution_count": 2,
   "outputs": [
    {
     "name": "stdout",
     "output_type": "stream",
     "text": [
      "||| 0\n",
      "0|| 3\n",
      "||0 1\n",
      "1|2|3 2\n"
     ]
    }
   ],
   "source": [
    "\n",
    "\n"
   ],
   "metadata": {
    "collapsed": false,
    "pycharm": {
     "name": "#%%\n"
    }
   }
  },
  {
   "cell_type": "code",
   "execution_count": 4,
   "outputs": [
    {
     "name": "stdout",
     "output_type": "stream",
     "text": [
      " | | | 0\n",
      " | |0 1\n",
      "0| |  3\n",
      "1|2|3 2\n"
     ]
    }
   ],
   "source": [
    "from sortedcontainers import SortedDict\n",
    "\n",
    "nodes_dict = SortedDict()\n",
    "nodes_dict[\" | | |\"] = 0\n",
    "nodes_dict[\"0| | \"] = 3\n",
    "nodes_dict[\" | |0\"] = 1\n",
    "nodes_dict[\"1|2|3\"] = 2\n",
    "\n",
    "for i in nodes_dict:\n",
    "    print(i, nodes_dict[i])\n"
   ],
   "metadata": {
    "collapsed": false,
    "pycharm": {
     "name": "#%%\n"
    }
   }
  },
  {
   "cell_type": "code",
   "execution_count": 1,
   "outputs": [
    {
     "data": {
      "text/plain": "[-1, -1, 0, -1]"
     },
     "execution_count": 1,
     "metadata": {},
     "output_type": "execute_result"
    }
   ],
   "source": [
    "\n",
    "def string2num(st):\n",
    "    p = []\n",
    "    items = st.split('|')\n",
    "    for i in items:\n",
    "        if i == ' ':\n",
    "            p.append(-1)\n",
    "        else:\n",
    "            p.append(int(i))\n",
    "    return p\n",
    "\n",
    "string2num(\" | |0| \")\n"
   ],
   "metadata": {
    "collapsed": false,
    "pycharm": {
     "name": "#%%\n"
    }
   }
  },
  {
   "cell_type": "code",
   "execution_count": 23,
   "outputs": [
    {
     "data": {
      "text/plain": "' | | | '"
     },
     "execution_count": 23,
     "metadata": {},
     "output_type": "execute_result"
    }
   ],
   "source": [
    "\n",
    "def findParentForStr(child):\n",
    "    end = 0\n",
    "    start = 0\n",
    "    length = len(child)\n",
    "    i = length - 1\n",
    "    while i > -1:\n",
    "        if child[i] != '|' and child[i] != ' ':\n",
    "            end = i + 1\n",
    "            i -= 1\n",
    "            break\n",
    "        i -= 1\n",
    "    while i > -1:\n",
    "        if child[i] == '|':\n",
    "            start = i\n",
    "            parent = child[:start + 1] + ' ' + child[end:]\n",
    "            return parent\n",
    "        i -= 1\n",
    "    parent = ' ' + child[end:]\n",
    "    return parent\n",
    "\n",
    "\n",
    "findParentForStr(\"4| | | \")\n"
   ],
   "metadata": {
    "collapsed": false,
    "pycharm": {
     "name": "#%%\n"
    }
   }
  },
  {
   "cell_type": "code",
   "execution_count": 40,
   "outputs": [
    {
     "data": {
      "text/plain": "SortedDict({' |0| | ': <__main__.Node object at 0x7f7d61024c40>, ' |0| |1': <__main__.Node object at 0x7f7d61024070>})"
     },
     "execution_count": 40,
     "metadata": {},
     "output_type": "execute_result"
    }
   ],
   "source": [
    "\n",
    "from sortedcontainers import SortedDict\n",
    "\n",
    "\n",
    "# closest ancestor must be the ancestor with smallest k value\n",
    "# smallest_ancestor != \"\" if and only if there is an ancestor having the same k value\n",
    "class Node:\n",
    "    # init method or constructor\n",
    "    def __init__(self, pattern, st, smallest_valid_k, smallest_ancestor, self_smallest_k):\n",
    "        self.pattern = pattern\n",
    "        self.st = st\n",
    "        self.smallest_valid_k = smallest_valid_k\n",
    "        # string of ancestor with smallest k, \"\" means itself\n",
    "        # in case of same k, smallest_ancestor points to the ancestor rather than the node itself\n",
    "        # since when we reach that k, all these nodes need updating\n",
    "        self.smallest_ancestor = smallest_ancestor\n",
    "        # whether this node has the smallest k in the path from the root\n",
    "        self.self_smallest_k = self_smallest_k # must be true. It may have children with smaller k but it doesn't know\n",
    "\n",
    "\n",
    "def Add_node_to_set(nodes_dict, k_dict, smallest_valid_k, p, st, num_att):\n",
    "    if st in nodes_dict.keys():\n",
    "        return\n",
    "    att = 0\n",
    "    end = 0\n",
    "    length = len(st)\n",
    "    i = length - 1\n",
    "    original_st = st\n",
    "    while i > -1:\n",
    "        if st[i] != '|' and st[i] != ' ':\n",
    "            end = i + 1\n",
    "            i -= 1\n",
    "            break\n",
    "        if st[i] == ' ':\n",
    "            att += 1\n",
    "        i -= 1\n",
    "    while att < num_att:\n",
    "        while i > -1:\n",
    "            if st[i] == '|':\n",
    "                start = i\n",
    "                parent = st[:start + 1] + ' ' + st[end:]\n",
    "                if parent in nodes_dict.keys():\n",
    "                    if nodes_dict[parent].smallest_valid_k > smallest_valid_k:\n",
    "                        nodes_dict[original_st] = Node(p, original_st, smallest_valid_k, \"\", True)\n",
    "                        k_dict.append(original_st)\n",
    "                        return\n",
    "                    else:\n",
    "                        return\n",
    "                st = parent\n",
    "                i -= 1\n",
    "                break\n",
    "            i -= 1\n",
    "    nodes_dict[original_st] = Node(p, original_st, smallest_valid_k, \"\", True)\n",
    "    k_dict.append(original_st)\n",
    "\n",
    "\n",
    "nodes_dict = SortedDict()\n",
    "k_dict = dict()\n",
    "k_dict[3] = []\n",
    "\n",
    "nodes_dict[\" |0| | \"] = Node([-1, 0, -1, -1], \" |0| | \", 3, \"\", True)\n",
    "k_dict[3].append(\" |0| | \")\n",
    "k_dict[2] = []\n",
    "Add_node_to_set(nodes_dict, k_dict[2], 2, [-1, 0, -1, 1], \" |0| |1\", 3)\n",
    "\n",
    "\n",
    "nodes_dict\n"
   ],
   "metadata": {
    "collapsed": false,
    "pycharm": {
     "name": "#%%\n"
    }
   }
  },
  {
   "cell_type": "code",
   "execution_count": 42,
   "outputs": [
    {
     "data": {
      "text/plain": "{3: [' |0| | '], 2: [' |0| |1']}"
     },
     "execution_count": 42,
     "metadata": {},
     "output_type": "execute_result"
    }
   ],
   "source": [
    "\n",
    "k_dict\n",
    "\n"
   ],
   "metadata": {
    "collapsed": false,
    "pycharm": {
     "name": "#%%\n"
    }
   }
  },
  {
   "cell_type": "code",
   "execution_count": 12,
   "outputs": [
    {
     "data": {
      "text/plain": "True"
     },
     "execution_count": 12,
     "metadata": {},
     "output_type": "execute_result"
    }
   ],
   "source": [
    "\n",
    "\n",
    "\n",
    "# whether a is an ancestor of b, a and b are string\n",
    "def A_is_ancestor_of_B_list(a, b, num_att):\n",
    "    nondeterministic = False\n",
    "    for i in range(num_att-1, 0, -1):\n",
    "        if nondeterministic:\n",
    "            if a[i] != -1:\n",
    "                return False\n",
    "        else:\n",
    "            if a[i] == -1 and b[i] != -1:\n",
    "                nondeterministic = True\n",
    "            elif a[i] != -1:\n",
    "                return False\n",
    "    return True\n",
    "\n",
    "a = [-1, -1, -1, -1]\n",
    "b = [-1, 4, -1, -1]\n",
    "\n",
    "A_is_ancestor_of_B_list(a, b, 4)"
   ],
   "metadata": {
    "collapsed": false,
    "pycharm": {
     "name": "#%%\n"
    }
   }
  },
  {
   "cell_type": "code",
   "execution_count": 4,
   "outputs": [
    {
     "data": {
      "text/plain": "        age_binary  age_bucketized   sex_binary       race_C        score  \\\ncount  6889.000000     6889.000000  6889.000000  6889.000000  6595.000000   \nmean      0.385978        0.385978     0.192771     0.635070     0.597314   \nstd       0.486861        0.486861     0.394503     0.725407     0.344170   \nmin       0.000000        0.000000     0.000000     0.000000    -0.446235   \n25%       0.000000        0.000000     0.000000     0.000000     0.347201   \n50%       0.000000        0.000000     0.000000     0.000000     0.574175   \n75%       1.000000        1.000000     0.000000     1.000000     0.860213   \nmax       1.000000        1.000000     1.000000     2.000000     2.238960   \n\n              rank  juv_fel_count_C  decile_score_C  juv_misd_count_C  \\\ncount  6889.000000      6889.000000     6889.000000       6889.000000   \nmean   3445.000000         0.002177        0.365220          0.002177   \nstd    1988.827335         0.057744        0.481527          0.052476   \nmin       1.000000         0.000000        0.000000          0.000000   \n25%    1723.000000         0.000000        0.000000          0.000000   \n50%    3445.000000         0.000000        0.000000          0.000000   \n75%    5167.000000         0.000000        1.000000          0.000000   \nmax    6889.000000         3.000000        1.000000          2.000000   \n\n       juv_other_count_C  ...  v_decile_score_C      start_C        end_C  \\\ncount        6889.000000  ...       6889.000000  6889.000000  6889.000000   \nmean            0.000871  ...          0.244448     0.006677     0.928727   \nstd             0.034069  ...          0.429790     0.094639     0.898929   \nmin             0.000000  ...          0.000000     0.000000     0.000000   \n25%             0.000000  ...          0.000000     0.000000     0.000000   \n50%             0.000000  ...          0.000000     0.000000     1.000000   \n75%             0.000000  ...          0.000000     0.000000     2.000000   \nmax             2.000000  ...          1.000000     2.000000     2.000000   \n\n           event_C  MarriageStatus_C     is_recid  is_violent_recid  \\\ncount  6889.000000       6889.000000  6889.000000       6889.000000   \nmean      0.382204          0.576862     0.479895          0.112353   \nstd       0.485961          1.439728     0.499632          0.315823   \nmin       0.000000          0.000000     0.000000          0.000000   \n25%       0.000000          0.000000     0.000000          0.000000   \n50%       0.000000          0.000000     0.000000          0.000000   \n75%       1.000000          0.000000     1.000000          0.000000   \nmax       1.000000          6.000000     1.000000          1.000000   \n\n       two_year_recid  Violence_score  Recidivism_score  \ncount     6889.000000     6889.000000       6889.000000  \nmean         0.450428       -2.368951         -0.693594  \nstd          0.497573        0.871101          0.843544  \nmin          0.000000       -4.630000         -3.000000  \n25%          0.000000       -2.990000         -1.280000  \n50%          0.000000       -2.330000         -0.640000  \n75%          1.000000       -1.740000         -0.080000  \nmax          1.000000        0.930000          1.690000  \n\n[8 rows x 24 columns]",
      "text/html": "<div>\n<style scoped>\n    .dataframe tbody tr th:only-of-type {\n        vertical-align: middle;\n    }\n\n    .dataframe tbody tr th {\n        vertical-align: top;\n    }\n\n    .dataframe thead th {\n        text-align: right;\n    }\n</style>\n<table border=\"1\" class=\"dataframe\">\n  <thead>\n    <tr style=\"text-align: right;\">\n      <th></th>\n      <th>age_binary</th>\n      <th>age_bucketized</th>\n      <th>sex_binary</th>\n      <th>race_C</th>\n      <th>score</th>\n      <th>rank</th>\n      <th>juv_fel_count_C</th>\n      <th>decile_score_C</th>\n      <th>juv_misd_count_C</th>\n      <th>juv_other_count_C</th>\n      <th>...</th>\n      <th>v_decile_score_C</th>\n      <th>start_C</th>\n      <th>end_C</th>\n      <th>event_C</th>\n      <th>MarriageStatus_C</th>\n      <th>is_recid</th>\n      <th>is_violent_recid</th>\n      <th>two_year_recid</th>\n      <th>Violence_score</th>\n      <th>Recidivism_score</th>\n    </tr>\n  </thead>\n  <tbody>\n    <tr>\n      <th>count</th>\n      <td>6889.000000</td>\n      <td>6889.000000</td>\n      <td>6889.000000</td>\n      <td>6889.000000</td>\n      <td>6595.000000</td>\n      <td>6889.000000</td>\n      <td>6889.000000</td>\n      <td>6889.000000</td>\n      <td>6889.000000</td>\n      <td>6889.000000</td>\n      <td>...</td>\n      <td>6889.000000</td>\n      <td>6889.000000</td>\n      <td>6889.000000</td>\n      <td>6889.000000</td>\n      <td>6889.000000</td>\n      <td>6889.000000</td>\n      <td>6889.000000</td>\n      <td>6889.000000</td>\n      <td>6889.000000</td>\n      <td>6889.000000</td>\n    </tr>\n    <tr>\n      <th>mean</th>\n      <td>0.385978</td>\n      <td>0.385978</td>\n      <td>0.192771</td>\n      <td>0.635070</td>\n      <td>0.597314</td>\n      <td>3445.000000</td>\n      <td>0.002177</td>\n      <td>0.365220</td>\n      <td>0.002177</td>\n      <td>0.000871</td>\n      <td>...</td>\n      <td>0.244448</td>\n      <td>0.006677</td>\n      <td>0.928727</td>\n      <td>0.382204</td>\n      <td>0.576862</td>\n      <td>0.479895</td>\n      <td>0.112353</td>\n      <td>0.450428</td>\n      <td>-2.368951</td>\n      <td>-0.693594</td>\n    </tr>\n    <tr>\n      <th>std</th>\n      <td>0.486861</td>\n      <td>0.486861</td>\n      <td>0.394503</td>\n      <td>0.725407</td>\n      <td>0.344170</td>\n      <td>1988.827335</td>\n      <td>0.057744</td>\n      <td>0.481527</td>\n      <td>0.052476</td>\n      <td>0.034069</td>\n      <td>...</td>\n      <td>0.429790</td>\n      <td>0.094639</td>\n      <td>0.898929</td>\n      <td>0.485961</td>\n      <td>1.439728</td>\n      <td>0.499632</td>\n      <td>0.315823</td>\n      <td>0.497573</td>\n      <td>0.871101</td>\n      <td>0.843544</td>\n    </tr>\n    <tr>\n      <th>min</th>\n      <td>0.000000</td>\n      <td>0.000000</td>\n      <td>0.000000</td>\n      <td>0.000000</td>\n      <td>-0.446235</td>\n      <td>1.000000</td>\n      <td>0.000000</td>\n      <td>0.000000</td>\n      <td>0.000000</td>\n      <td>0.000000</td>\n      <td>...</td>\n      <td>0.000000</td>\n      <td>0.000000</td>\n      <td>0.000000</td>\n      <td>0.000000</td>\n      <td>0.000000</td>\n      <td>0.000000</td>\n      <td>0.000000</td>\n      <td>0.000000</td>\n      <td>-4.630000</td>\n      <td>-3.000000</td>\n    </tr>\n    <tr>\n      <th>25%</th>\n      <td>0.000000</td>\n      <td>0.000000</td>\n      <td>0.000000</td>\n      <td>0.000000</td>\n      <td>0.347201</td>\n      <td>1723.000000</td>\n      <td>0.000000</td>\n      <td>0.000000</td>\n      <td>0.000000</td>\n      <td>0.000000</td>\n      <td>...</td>\n      <td>0.000000</td>\n      <td>0.000000</td>\n      <td>0.000000</td>\n      <td>0.000000</td>\n      <td>0.000000</td>\n      <td>0.000000</td>\n      <td>0.000000</td>\n      <td>0.000000</td>\n      <td>-2.990000</td>\n      <td>-1.280000</td>\n    </tr>\n    <tr>\n      <th>50%</th>\n      <td>0.000000</td>\n      <td>0.000000</td>\n      <td>0.000000</td>\n      <td>0.000000</td>\n      <td>0.574175</td>\n      <td>3445.000000</td>\n      <td>0.000000</td>\n      <td>0.000000</td>\n      <td>0.000000</td>\n      <td>0.000000</td>\n      <td>...</td>\n      <td>0.000000</td>\n      <td>0.000000</td>\n      <td>1.000000</td>\n      <td>0.000000</td>\n      <td>0.000000</td>\n      <td>0.000000</td>\n      <td>0.000000</td>\n      <td>0.000000</td>\n      <td>-2.330000</td>\n      <td>-0.640000</td>\n    </tr>\n    <tr>\n      <th>75%</th>\n      <td>1.000000</td>\n      <td>1.000000</td>\n      <td>0.000000</td>\n      <td>1.000000</td>\n      <td>0.860213</td>\n      <td>5167.000000</td>\n      <td>0.000000</td>\n      <td>1.000000</td>\n      <td>0.000000</td>\n      <td>0.000000</td>\n      <td>...</td>\n      <td>0.000000</td>\n      <td>0.000000</td>\n      <td>2.000000</td>\n      <td>1.000000</td>\n      <td>0.000000</td>\n      <td>1.000000</td>\n      <td>0.000000</td>\n      <td>1.000000</td>\n      <td>-1.740000</td>\n      <td>-0.080000</td>\n    </tr>\n    <tr>\n      <th>max</th>\n      <td>1.000000</td>\n      <td>1.000000</td>\n      <td>1.000000</td>\n      <td>2.000000</td>\n      <td>2.238960</td>\n      <td>6889.000000</td>\n      <td>3.000000</td>\n      <td>1.000000</td>\n      <td>2.000000</td>\n      <td>2.000000</td>\n      <td>...</td>\n      <td>1.000000</td>\n      <td>2.000000</td>\n      <td>2.000000</td>\n      <td>1.000000</td>\n      <td>6.000000</td>\n      <td>1.000000</td>\n      <td>1.000000</td>\n      <td>1.000000</td>\n      <td>0.930000</td>\n      <td>1.690000</td>\n    </tr>\n  </tbody>\n</table>\n<p>8 rows × 24 columns</p>\n</div>"
     },
     "execution_count": 4,
     "metadata": {},
     "output_type": "execute_result"
    }
   ],
   "source": [
    "\n",
    "original_data_file = r\"../../InputData/CompasData/ForRanking/LargeDatasets/compas_data_cat_necessary_att_ranked.csv\"\n",
    "\n",
    "data = pd.read_csv(original_data_file)\n",
    "data.describe()"
   ],
   "metadata": {
    "collapsed": false,
    "pycharm": {
     "name": "#%%\n"
    }
   }
  },
  {
   "cell_type": "code",
   "execution_count": null,
   "outputs": [],
   "source": [],
   "metadata": {
    "collapsed": false,
    "pycharm": {
     "name": "#%%\n"
    }
   }
  }
 ],
 "metadata": {
  "kernelspec": {
   "display_name": "Python 3",
   "language": "python",
   "name": "python3"
  },
  "language_info": {
   "codemirror_mode": {
    "name": "ipython",
    "version": 2
   },
   "file_extension": ".py",
   "mimetype": "text/x-python",
   "name": "python",
   "nbconvert_exporter": "python",
   "pygments_lexer": "ipython2",
   "version": "2.7.6"
  }
 },
 "nbformat": 4,
 "nbformat_minor": 0
}