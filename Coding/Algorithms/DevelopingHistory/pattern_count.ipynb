{
 "cells": [
  {
   "cell_type": "raw",
   "metadata": {},
   "source": [
    "This notebook is to test pattern_count.py\n"
   ]
  },
  {
   "cell_type": "code",
   "execution_count": 80,
   "metadata": {},
   "outputs": [],
   "source": [
    "import pickle\n",
    "import pandas as pd\n",
    "import numpy as np\n",
    "import pattern_count"
   ]
  },
  {
   "cell_type": "markdown",
   "metadata": {},
   "source": [
    "# PatternCounter"
   ]
  },
  {
   "cell_type": "code",
   "execution_count": 162,
   "metadata": {},
   "outputs": [
    {
     "name": "stdout",
     "output_type": "stream",
     "text": [
      "6\n",
      "13\n",
      "4\n",
      "3\n",
      "7\n",
      "0\n",
      "0\n",
      "2\n",
      "6\n",
      "13\n",
      "4\n",
      "3\n",
      "7\n",
      "0\n",
      "0\n",
      "2\n",
      "1\n",
      "0\n"
     ]
    }
   ],
   "source": [
    "def main():\n",
    "    '''\n",
    "    Test case to check for pattern count correctness\n",
    "    '''\n",
    "    pc = pattern_count.PatternCounter('test_data.txt', ['col1', 'col2', 'col3', 'col4'])\n",
    "    pc.parse_data()\n",
    "    print(pc.pattern_count('2XXX')) # 6\n",
    "    print(pc.pattern_count('XXXX')) # 13\n",
    "    print(pc.pattern_count('2001')) # 4\n",
    "    print(pc.pattern_count('X1XX')) # 3\n",
    "    print(pc.pattern_count('X0XX')) # 7\n",
    "    print(pc.pattern_count('X10X')) # 0\n",
    "    print(pc.pattern_count('21XX')) # 0\n",
    "    print(pc.pattern_count('X1X0')) # 2\n",
    "\n",
    "    pc2 = pattern_count.PatternCounter('test_data2.txt', ['col1', 'col2', 'col3', 'col4'], encoded=False)\n",
    "    pc2.parse_data()\n",
    "    print(pc2.pattern_count('hehe|||')) # 6\n",
    "    print(pc2.pattern_count('|||')) # 13\n",
    "    print(pc2.pattern_count('hehe|haha|0|Yifan Guan')) # 4\n",
    "    print(pc2.pattern_count('|123||')) # 3\n",
    "    print(pc2.pattern_count('|haha||')) # 7\n",
    "    print(pc2.pattern_count('|123|0|')) # 0\n",
    "    print(pc2.pattern_count('hehe|123||')) # 0\n",
    "    print(pc2.pattern_count('|123||Yifan')) # 2\n",
    "\n",
    "    pc3 = pattern_count.PatternCounter('CleanAdult4.csv', ['age', 'workclass', 'education', 'educational-num'], encoded=False)\n",
    "    pc3.parse_data()\n",
    "    print(pc3.pattern_count('|||37')) # 1\n",
    "    print(pc3.pattern_count('|||33')) # 0\n",
    "    return 0\n",
    "\n",
    "\n",
    "if __name__ == '__main__':\n",
    "    main()"
   ]
  },
  {
   "cell_type": "markdown",
   "metadata": {},
   "source": [
    "# use pattern_count and my naive function for adult dataset\n"
   ]
  },
  {
   "cell_type": "code",
   "execution_count": 164,
   "metadata": {},
   "outputs": [],
   "source": [
    "with open('M30.pkl', 'rb') as filehandle:\n",
    "    # read the data as binary data stream\n",
    "    cands = pickle.load(filehandle)\n",
    "\n",
    "    \n",
    "data = pd.read_csv(\"CleanAdult3.csv\")\n",
    "dataarray = np.array(data)\n",
    "datalist = dataarray.tolist()\n"
   ]
  },
  {
   "cell_type": "code",
   "execution_count": 169,
   "metadata": {},
   "outputs": [
    {
     "name": "stdout",
     "output_type": "stream",
     "text": [
      "<class 'list'> ['age', 'workclass', 'education', 'educational-num', 'marital-status', 'occupation', 'relationship', 'race', 'gender', 'capital-gain', 'capital-loss', 'hours-per-week', 'native-country']\n"
     ]
    }
   ],
   "source": [
    "column_list = np.array(data.columns).tolist()\n",
    "print(type(column_list), column_list) \n",
    "pc = pattern_count.PatternCounter('CleanAdult3.csv', column_list, encoded=False)\n",
    "pc.parse_data()\n"
   ]
  },
  {
   "cell_type": "raw",
   "metadata": {},
   "source": [
    "\n",
    "mc, mcdes, attributes = Prepatation('miss_class3.csv')\n",
    "mcarray = np.array(mc)\n",
    "mclist = mcarray.tolist()\n"
   ]
  },
  {
   "cell_type": "code",
   "execution_count": 170,
   "metadata": {},
   "outputs": [],
   "source": [
    "\n",
    "def num2string(pattern):\n",
    "    st = ''\n",
    "    for i in pattern:\n",
    "        if i != -1:\n",
    "            st += str(i)\n",
    "        st += '|'\n",
    "    st = st[:-1]\n",
    "    return st\n",
    "\n",
    "\n",
    "\n",
    "def P1DominatedByP2(P1, P2):\n",
    "    length = len(P1)\n",
    "    for i in range(length):\n",
    "        if P1[i] == -1:\n",
    "            if P2[i] != -1:\n",
    "                return False\n",
    "        if P1[i] != -1:\n",
    "            if P2[i] != P1[i] and P2[i] != -1:\n",
    "                return False\n",
    "    return True\n",
    "\n",
    "# whether a pattern P is dominated by MUP M\n",
    "def PDominatedByM(P, M):\n",
    "    for m in M:\n",
    "        if P1DominatedByP2(P, m):\n",
    "            return True\n",
    "    return False\n",
    "\n",
    "# whether a pattern P dominates MUP M\n",
    "def PDominatesM(P, M):\n",
    "    for m in M:\n",
    "        if P1DominatedByP2(m, P):\n",
    "            return True\n",
    "    return False\n",
    "\n",
    "# coverage of P among dataset D\n",
    "def cov(P, D):\n",
    "    cnt = 0\n",
    "    for d in D:\n",
    "        if P1DominatedByP2(d, P):\n",
    "            cnt += 1\n",
    "    return cnt\n",
    "\n"
   ]
  },
  {
   "cell_type": "code",
   "execution_count": 171,
   "metadata": {},
   "outputs": [
    {
     "name": "stdout",
     "output_type": "stream",
     "text": [
      "end\n"
     ]
    }
   ],
   "source": [
    "# check for correctness of pattern_count and my naive algorithm\n",
    "for c in cands:\n",
    "    covdata = cov(c, datalist)\n",
    "    st = num2string(c)\n",
    "    #print(st, covdata)\n",
    "    patternCount = pc.pattern_count(st)\n",
    "    if covdata != patternCount:\n",
    "        print(c, covdata, patternCount, \"not equal\")\n",
    "print('end')\n",
    "\n"
   ]
  },
  {
   "cell_type": "code",
   "execution_count": null,
   "metadata": {},
   "outputs": [],
   "source": []
  },
  {
   "cell_type": "code",
   "execution_count": null,
   "metadata": {},
   "outputs": [],
   "source": []
  },
  {
   "cell_type": "code",
   "execution_count": null,
   "metadata": {},
   "outputs": [],
   "source": []
  }
 ],
 "metadata": {
  "kernelspec": {
   "display_name": "Python 3",
   "language": "python",
   "name": "python3"
  },
  "language_info": {
   "codemirror_mode": {
    "name": "ipython",
    "version": 3
   },
   "file_extension": ".py",
   "mimetype": "text/x-python",
   "name": "python",
   "nbconvert_exporter": "python",
   "pygments_lexer": "ipython3",
   "version": "3.8.3"
  },
  "toc": {
   "base_numbering": 1,
   "nav_menu": {},
   "number_sections": true,
   "sideBar": true,
   "skip_h1_title": false,
   "title_cell": "Table of Contents",
   "title_sidebar": "Contents",
   "toc_cell": false,
   "toc_position": {},
   "toc_section_display": true,
   "toc_window_display": false
  }
 },
 "nbformat": 4,
 "nbformat_minor": 4
}