{
 "cells": [
  {
   "cell_type": "raw",
   "metadata": {
    "collapsed": true,
    "pycharm": {
     "name": "#%% raw\n"
    }
   },
   "source": [
    "\n",
    "Add cardinality and accuracy check to every pattern in Deepdiver\n"
   ]
  },
  {
   "cell_type": "markdown",
   "source": [
    "# Imports and Definitions"
   ],
   "metadata": {
    "collapsed": false,
    "pycharm": {
     "name": "#%% md\n"
    }
   }
  },
  {
   "cell_type": "code",
   "execution_count": 24,
   "outputs": [],
   "source": [
    "\n",
    "\n",
    "import numpy as np\n",
    "import pandas as pd\n",
    "import csv\n",
    "import math\n",
    "import pickle\n",
    "import import_ipynb\n",
    "import pattern_count\n",
    "import time\n",
    "\n",
    "\n",
    "\n",
    "def P1DominatedByP2(P1, P2):\n",
    "    length = len(P1)\n",
    "    for i in range(length):\n",
    "        if P1[i] == -1:\n",
    "            if P2[i] != -1:\n",
    "                return False\n",
    "        if P1[i] != -1:\n",
    "            if P2[i] != P1[i] and P2[i] != -1:\n",
    "                return False\n",
    "    return True\n",
    "\n",
    "# whether a pattern P is dominated by MUP M\n",
    "def PDominatedByM(P, M):\n",
    "    for m in M:\n",
    "        if P1DominatedByP2(P, m):\n",
    "            return True\n",
    "    return False\n",
    "\n",
    "# whether a pattern P dominates MUP M\n",
    "def PDominatesM(P, M):\n",
    "    for m in M:\n",
    "        if P1DominatedByP2(m, P):\n",
    "            return True\n",
    "    return False\n",
    "\n",
    "\"\"\"\n",
    "# coverage of P among dataset D\n",
    "def cov(P, D):\n",
    "    cnt = 0\n",
    "    for d in D:\n",
    "        if P1DominatedByP2(d, P):\n",
    "            cnt += 1\n",
    "    return cnt\n",
    "\n",
    "\"\"\"\n",
    "def GenerateParents(P):\n",
    "    parents = []\n",
    "    length = len(P)\n",
    "    for i in range(length):\n",
    "        if P[i] != -1:\n",
    "            q = P.copy()\n",
    "            q[i] = -1\n",
    "            parents.append(q)\n",
    "    return parents\n",
    "\n",
    "def GenerateByRule1(P, mcdes, attributes):\n",
    "    children = []\n",
    "    length = len(P)\n",
    "    i = 0\n",
    "    for i in range(length-1, -1, -1):\n",
    "        if P[i] != -1:\n",
    "            break\n",
    "    if P[i] == -1:\n",
    "        i -= 1\n",
    "    for j in range(i+1, length, 1):\n",
    "        for a in range(int(mcdes[attributes[j]]['min']), int(mcdes[attributes[j]]['max'])+1):\n",
    "            s = P.copy()\n",
    "            s[j] = a\n",
    "            children.append(s)\n",
    "    return children\n",
    "\n",
    "\n",
    "def num2string(pattern):\n",
    "    st = ''\n",
    "    for i in pattern:\n",
    "        if i != -1:\n",
    "            st += str(i)\n",
    "        st += '|'\n",
    "    st = st[:-1]\n",
    "    return st\n",
    "\n",
    "\n",
    "\n",
    "\n",
    "def Prepatation(filename):\n",
    "    mc = pd.read_csv(filename)\n",
    "    mcdes = mc.describe()\n",
    "    attributes = mcdes.columns.values\n",
    "    return mc, mcdes, attributes\n",
    "\n",
    "\n"
   ],
   "metadata": {
    "collapsed": false,
    "pycharm": {
     "name": "#%%\n"
    }
   }
  },
  {
   "cell_type": "code",
   "execution_count": 30,
   "outputs": [],
   "source": [
    "\n",
    "# check whether each pattern P is legal: cardinality and accuracy\n",
    "def CheckWhetherMUP(P, Tha, Thc, pc_adult, pc_mc):\n",
    "    adult_p = num2string(P)\n",
    "    covdata = pc_adult.pattern_count(adult_p)\n",
    "    covmc = pc_mc.pattern_count(adult_p)\n",
    "    if covdata >= Thc:\n",
    "        acc = 1 - covmc / covdata\n",
    "        if acc < Tha:\n",
    "            return True\n",
    "    return False\n",
    "\n",
    "\n",
    "def Deepdiver(mcfile, datafile, Tha, Thc):\n",
    "    tao =  (1-Tha) * Thc\n",
    "    mc, mcdes, attributes = Prepatation(mcfile)\n",
    "    column_list_mc = np.array(mc.columns).tolist()\n",
    "    pc_mc = pattern_count.PatternCounter(mcfile, column_list_mc, encoded=False)\n",
    "    pc_mc.parse_data()\n",
    "\n",
    "    data = pd.read_csv(datafile)\n",
    "    column_list_adult = np.array(data.columns).tolist()\n",
    "    pc_adult = pattern_count.PatternCounter(datafile, column_list_adult, encoded=False)\n",
    "    pc_adult.parse_data()\n",
    "\n",
    "    num_pattern_checked = 0\n",
    "\n",
    "    root = [-1] * (len(attributes))\n",
    "    S = [root]  # initial stack\n",
    "    M = []  # maximal uncovered patterns\n",
    "    while len(S) > 0:\n",
    "        P = S.pop()\n",
    "        print(\"pop from S: \", P)\n",
    "        num_pattern_checked += 1\n",
    "        if num_pattern_checked % 50000 == 0:\n",
    "            print(\"num_pattern_checked = {}\".format(num_pattern_checked))\n",
    "        #print(P, len(M))\n",
    "        if PDominatedByM(P, M):\n",
    "            continue\n",
    "        elif PDominatesM(P, M):\n",
    "            uncoveredFlag = True\n",
    "        else:\n",
    "            cnt = pc_mc.pattern_count(num2string(P)) # cov(P, mclist)\n",
    "            print(\"cnt = \", cnt)\n",
    "            uncoveredFlag = (cnt < tao and cnt > 0) # add > 0 requirement here\n",
    "        if uncoveredFlag:\n",
    "            print(P)\n",
    "            S1 = [P] # stack\n",
    "            while len(S1) > 0:\n",
    "                P1 = S1.pop()\n",
    "                ParentNodes = GenerateParents(P1)\n",
    "                for parent in ParentNodes:\n",
    "                    cntparent = pc_mc.pattern_count(num2string(parent)) # cov(parent, mclist)\n",
    "                    if cntparent < tao:\n",
    "                        S1.append(parent)\n",
    "                        break\n",
    "                \"\"\"\n",
    "                if CheckWhetherMUP(P, Tha, Thc, pc_adult, pc_mc) is True:\n",
    "                    M.append(P)\n",
    "                    if len(M) % 10 == 0:\n",
    "                        print(len(M))\n",
    "                \"\"\"\n",
    "            # end while\n",
    "        else:\n",
    "            children = GenerateByRule1(P, mcdes, attributes)\n",
    "            S = S + children\n",
    "    return M, num_pattern_checked\n",
    "\n",
    "\n",
    "\n"
   ],
   "metadata": {
    "collapsed": false,
    "pycharm": {
     "name": "#%%\n"
    }
   }
  },
  {
   "cell_type": "code",
   "execution_count": 31,
   "outputs": [
    {
     "name": "stdout",
     "output_type": "stream",
     "text": [
      "pop from S:  [-1, -1, -1]\n",
      "cnt =  8\n",
      "pop from S:  [-1, -1, 15]\n",
      "cnt =  1\n",
      "[-1, -1, 15]\n",
      "pop from S:  [-1, -1, 14]\n",
      "cnt =  1\n",
      "[-1, -1, 14]\n"
     ]
    },
    {
     "ename": "KeyboardInterrupt",
     "evalue": "",
     "output_type": "error",
     "traceback": [
      "\u001B[0;31m---------------------------------------------------------------------------\u001B[0m",
      "\u001B[0;31mKeyboardInterrupt\u001B[0m                         Traceback (most recent call last)",
      "\u001B[0;32m<ipython-input-31-f6f7d679913f>\u001B[0m in \u001B[0;36m<module>\u001B[0;34m\u001B[0m\n\u001B[1;32m      7\u001B[0m \u001B[0;34m\u001B[0m\u001B[0m\n\u001B[1;32m      8\u001B[0m \u001B[0mtime1\u001B[0m \u001B[0;34m=\u001B[0m \u001B[0mtime\u001B[0m\u001B[0;34m.\u001B[0m\u001B[0mtime\u001B[0m\u001B[0;34m(\u001B[0m\u001B[0;34m)\u001B[0m\u001B[0;34m\u001B[0m\u001B[0;34m\u001B[0m\u001B[0m\n\u001B[0;32m----> 9\u001B[0;31m \u001B[0mM\u001B[0m\u001B[0;34m,\u001B[0m \u001B[0mnum_pattern_checked\u001B[0m \u001B[0;34m=\u001B[0m \u001B[0mDeepdiver\u001B[0m\u001B[0;34m(\u001B[0m\u001B[0mmis_class_data_file\u001B[0m\u001B[0;34m,\u001B[0m \u001B[0mwhole_data_file\u001B[0m\u001B[0;34m,\u001B[0m \u001B[0mTha\u001B[0m\u001B[0;34m,\u001B[0m \u001B[0mThc\u001B[0m\u001B[0;34m)\u001B[0m\u001B[0;34m\u001B[0m\u001B[0;34m\u001B[0m\u001B[0m\n\u001B[0m\u001B[1;32m     10\u001B[0m \u001B[0mtime2\u001B[0m \u001B[0;34m=\u001B[0m \u001B[0mtime\u001B[0m\u001B[0;34m.\u001B[0m\u001B[0mtime\u001B[0m\u001B[0;34m(\u001B[0m\u001B[0;34m)\u001B[0m\u001B[0;34m\u001B[0m\u001B[0;34m\u001B[0m\u001B[0m\n\u001B[1;32m     11\u001B[0m \u001B[0;34m\u001B[0m\u001B[0m\n",
      "\u001B[0;32m<ipython-input-30-8181eab97b81>\u001B[0m in \u001B[0;36mDeepdiver\u001B[0;34m(mcfile, datafile, Tha, Thc)\u001B[0m\n\u001B[1;32m     49\u001B[0m             \u001B[0mS1\u001B[0m \u001B[0;34m=\u001B[0m \u001B[0;34m[\u001B[0m\u001B[0mP\u001B[0m\u001B[0;34m]\u001B[0m \u001B[0;31m# stack\u001B[0m\u001B[0;34m\u001B[0m\u001B[0;34m\u001B[0m\u001B[0m\n\u001B[1;32m     50\u001B[0m             \u001B[0;32mwhile\u001B[0m \u001B[0mlen\u001B[0m\u001B[0;34m(\u001B[0m\u001B[0mS1\u001B[0m\u001B[0;34m)\u001B[0m \u001B[0;34m>\u001B[0m \u001B[0;36m0\u001B[0m\u001B[0;34m:\u001B[0m\u001B[0;34m\u001B[0m\u001B[0;34m\u001B[0m\u001B[0m\n\u001B[0;32m---> 51\u001B[0;31m                 \u001B[0mP1\u001B[0m \u001B[0;34m=\u001B[0m \u001B[0mS1\u001B[0m\u001B[0;34m.\u001B[0m\u001B[0mpop\u001B[0m\u001B[0;34m(\u001B[0m\u001B[0;34m)\u001B[0m\u001B[0;34m\u001B[0m\u001B[0;34m\u001B[0m\u001B[0m\n\u001B[0m\u001B[1;32m     52\u001B[0m                 \u001B[0mParentNodes\u001B[0m \u001B[0;34m=\u001B[0m \u001B[0mGenerateParents\u001B[0m\u001B[0;34m(\u001B[0m\u001B[0mP1\u001B[0m\u001B[0;34m)\u001B[0m\u001B[0;34m\u001B[0m\u001B[0;34m\u001B[0m\u001B[0m\n\u001B[1;32m     53\u001B[0m                 \u001B[0;32mfor\u001B[0m \u001B[0mparent\u001B[0m \u001B[0;32min\u001B[0m \u001B[0mParentNodes\u001B[0m\u001B[0;34m:\u001B[0m\u001B[0;34m\u001B[0m\u001B[0;34m\u001B[0m\u001B[0m\n",
      "\u001B[0;32m<ipython-input-30-8181eab97b81>\u001B[0m in \u001B[0;36mDeepdiver\u001B[0;34m(mcfile, datafile, Tha, Thc)\u001B[0m\n\u001B[1;32m     49\u001B[0m             \u001B[0mS1\u001B[0m \u001B[0;34m=\u001B[0m \u001B[0;34m[\u001B[0m\u001B[0mP\u001B[0m\u001B[0;34m]\u001B[0m \u001B[0;31m# stack\u001B[0m\u001B[0;34m\u001B[0m\u001B[0;34m\u001B[0m\u001B[0m\n\u001B[1;32m     50\u001B[0m             \u001B[0;32mwhile\u001B[0m \u001B[0mlen\u001B[0m\u001B[0;34m(\u001B[0m\u001B[0mS1\u001B[0m\u001B[0;34m)\u001B[0m \u001B[0;34m>\u001B[0m \u001B[0;36m0\u001B[0m\u001B[0;34m:\u001B[0m\u001B[0;34m\u001B[0m\u001B[0;34m\u001B[0m\u001B[0m\n\u001B[0;32m---> 51\u001B[0;31m                 \u001B[0mP1\u001B[0m \u001B[0;34m=\u001B[0m \u001B[0mS1\u001B[0m\u001B[0;34m.\u001B[0m\u001B[0mpop\u001B[0m\u001B[0;34m(\u001B[0m\u001B[0;34m)\u001B[0m\u001B[0;34m\u001B[0m\u001B[0;34m\u001B[0m\u001B[0m\n\u001B[0m\u001B[1;32m     52\u001B[0m                 \u001B[0mParentNodes\u001B[0m \u001B[0;34m=\u001B[0m \u001B[0mGenerateParents\u001B[0m\u001B[0;34m(\u001B[0m\u001B[0mP1\u001B[0m\u001B[0;34m)\u001B[0m\u001B[0;34m\u001B[0m\u001B[0;34m\u001B[0m\u001B[0m\n\u001B[1;32m     53\u001B[0m                 \u001B[0;32mfor\u001B[0m \u001B[0mparent\u001B[0m \u001B[0;32min\u001B[0m \u001B[0mParentNodes\u001B[0m\u001B[0;34m:\u001B[0m\u001B[0;34m\u001B[0m\u001B[0;34m\u001B[0m\u001B[0m\n",
      "\u001B[0;32m_pydevd_bundle/pydevd_cython_darwin_37_64.pyx\u001B[0m in \u001B[0;36m_pydevd_bundle.pydevd_cython_darwin_37_64.SafeCallWrapper.__call__\u001B[0;34m()\u001B[0m\n",
      "\u001B[0;32m_pydevd_bundle/pydevd_cython_darwin_37_64.pyx\u001B[0m in \u001B[0;36m_pydevd_bundle.pydevd_cython_darwin_37_64.PyDBFrame.trace_dispatch\u001B[0;34m()\u001B[0m\n",
      "\u001B[0;32m_pydevd_bundle/pydevd_cython_darwin_37_64.pyx\u001B[0m in \u001B[0;36m_pydevd_bundle.pydevd_cython_darwin_37_64.PyDBFrame.trace_dispatch\u001B[0;34m()\u001B[0m\n",
      "\u001B[0;32m_pydevd_bundle/pydevd_cython_darwin_37_64.pyx\u001B[0m in \u001B[0;36m_pydevd_bundle.pydevd_cython_darwin_37_64.PyDBFrame.trace_dispatch\u001B[0;34m()\u001B[0m\n",
      "\u001B[0;32m/Applications/PyCharm.app/Contents/plugins/python/helpers-pro/jupyter_debug/pydev_jupyter_plugin.py\u001B[0m in \u001B[0;36mstop\u001B[0;34m(plugin, pydb, frame, event, args, stop_info, arg, step_cmd)\u001B[0m\n\u001B[1;32m    163\u001B[0m         \u001B[0mframe\u001B[0m \u001B[0;34m=\u001B[0m \u001B[0msuspend_jupyter\u001B[0m\u001B[0;34m(\u001B[0m\u001B[0mmain_debugger\u001B[0m\u001B[0;34m,\u001B[0m \u001B[0mthread\u001B[0m\u001B[0;34m,\u001B[0m \u001B[0mframe\u001B[0m\u001B[0;34m,\u001B[0m \u001B[0mstep_cmd\u001B[0m\u001B[0;34m)\u001B[0m\u001B[0;34m\u001B[0m\u001B[0;34m\u001B[0m\u001B[0m\n\u001B[1;32m    164\u001B[0m         \u001B[0;32mif\u001B[0m \u001B[0mframe\u001B[0m\u001B[0;34m:\u001B[0m\u001B[0;34m\u001B[0m\u001B[0;34m\u001B[0m\u001B[0m\n\u001B[0;32m--> 165\u001B[0;31m             \u001B[0mmain_debugger\u001B[0m\u001B[0;34m.\u001B[0m\u001B[0mdo_wait_suspend\u001B[0m\u001B[0;34m(\u001B[0m\u001B[0mthread\u001B[0m\u001B[0;34m,\u001B[0m \u001B[0mframe\u001B[0m\u001B[0;34m,\u001B[0m \u001B[0mevent\u001B[0m\u001B[0;34m,\u001B[0m \u001B[0marg\u001B[0m\u001B[0;34m)\u001B[0m\u001B[0;34m\u001B[0m\u001B[0;34m\u001B[0m\u001B[0m\n\u001B[0m\u001B[1;32m    166\u001B[0m             \u001B[0;32mreturn\u001B[0m \u001B[0;32mTrue\u001B[0m\u001B[0;34m\u001B[0m\u001B[0;34m\u001B[0m\u001B[0m\n\u001B[1;32m    167\u001B[0m     \u001B[0;32mreturn\u001B[0m \u001B[0;32mFalse\u001B[0m\u001B[0;34m\u001B[0m\u001B[0;34m\u001B[0m\u001B[0m\n",
      "\u001B[0;32m/Applications/PyCharm.app/Contents/plugins/python/helpers/pydev/pydevd.py\u001B[0m in \u001B[0;36mdo_wait_suspend\u001B[0;34m(self, thread, frame, event, arg, send_suspend_message, is_unhandled_exception)\u001B[0m\n\u001B[1;32m   1110\u001B[0m \u001B[0;34m\u001B[0m\u001B[0m\n\u001B[1;32m   1111\u001B[0m         \u001B[0;32mwith\u001B[0m \u001B[0mself\u001B[0m\u001B[0;34m.\u001B[0m\u001B[0m_threads_suspended_single_notification\u001B[0m\u001B[0;34m.\u001B[0m\u001B[0mnotify_thread_suspended\u001B[0m\u001B[0;34m(\u001B[0m\u001B[0mthread_id\u001B[0m\u001B[0;34m,\u001B[0m \u001B[0mstop_reason\u001B[0m\u001B[0;34m)\u001B[0m\u001B[0;34m:\u001B[0m\u001B[0;34m\u001B[0m\u001B[0;34m\u001B[0m\u001B[0m\n\u001B[0;32m-> 1112\u001B[0;31m             \u001B[0mself\u001B[0m\u001B[0;34m.\u001B[0m\u001B[0m_do_wait_suspend\u001B[0m\u001B[0;34m(\u001B[0m\u001B[0mthread\u001B[0m\u001B[0;34m,\u001B[0m \u001B[0mframe\u001B[0m\u001B[0;34m,\u001B[0m \u001B[0mevent\u001B[0m\u001B[0;34m,\u001B[0m \u001B[0marg\u001B[0m\u001B[0;34m,\u001B[0m \u001B[0msuspend_type\u001B[0m\u001B[0;34m,\u001B[0m \u001B[0mfrom_this_thread\u001B[0m\u001B[0;34m)\u001B[0m\u001B[0;34m\u001B[0m\u001B[0;34m\u001B[0m\u001B[0m\n\u001B[0m\u001B[1;32m   1113\u001B[0m \u001B[0;34m\u001B[0m\u001B[0m\n\u001B[1;32m   1114\u001B[0m     \u001B[0;32mdef\u001B[0m \u001B[0m_do_wait_suspend\u001B[0m\u001B[0;34m(\u001B[0m\u001B[0mself\u001B[0m\u001B[0;34m,\u001B[0m \u001B[0mthread\u001B[0m\u001B[0;34m,\u001B[0m \u001B[0mframe\u001B[0m\u001B[0;34m,\u001B[0m \u001B[0mevent\u001B[0m\u001B[0;34m,\u001B[0m \u001B[0marg\u001B[0m\u001B[0;34m,\u001B[0m \u001B[0msuspend_type\u001B[0m\u001B[0;34m,\u001B[0m \u001B[0mfrom_this_thread\u001B[0m\u001B[0;34m)\u001B[0m\u001B[0;34m:\u001B[0m\u001B[0;34m\u001B[0m\u001B[0;34m\u001B[0m\u001B[0m\n",
      "\u001B[0;32m/Applications/PyCharm.app/Contents/plugins/python/helpers/pydev/pydevd.py\u001B[0m in \u001B[0;36m_do_wait_suspend\u001B[0;34m(self, thread, frame, event, arg, suspend_type, from_this_thread)\u001B[0m\n\u001B[1;32m   1125\u001B[0m \u001B[0;34m\u001B[0m\u001B[0m\n\u001B[1;32m   1126\u001B[0m                 \u001B[0mself\u001B[0m\u001B[0;34m.\u001B[0m\u001B[0mprocess_internal_commands\u001B[0m\u001B[0;34m(\u001B[0m\u001B[0;34m)\u001B[0m\u001B[0;34m\u001B[0m\u001B[0;34m\u001B[0m\u001B[0m\n\u001B[0;32m-> 1127\u001B[0;31m                 \u001B[0mtime\u001B[0m\u001B[0;34m.\u001B[0m\u001B[0msleep\u001B[0m\u001B[0;34m(\u001B[0m\u001B[0;36m0.01\u001B[0m\u001B[0;34m)\u001B[0m\u001B[0;34m\u001B[0m\u001B[0;34m\u001B[0m\u001B[0m\n\u001B[0m\u001B[1;32m   1128\u001B[0m \u001B[0;34m\u001B[0m\u001B[0m\n\u001B[1;32m   1129\u001B[0m         \u001B[0mself\u001B[0m\u001B[0;34m.\u001B[0m\u001B[0mcancel_async_evaluation\u001B[0m\u001B[0;34m(\u001B[0m\u001B[0mget_current_thread_id\u001B[0m\u001B[0;34m(\u001B[0m\u001B[0mthread\u001B[0m\u001B[0;34m)\u001B[0m\u001B[0;34m,\u001B[0m \u001B[0mstr\u001B[0m\u001B[0;34m(\u001B[0m\u001B[0mid\u001B[0m\u001B[0;34m(\u001B[0m\u001B[0mframe\u001B[0m\u001B[0;34m)\u001B[0m\u001B[0;34m)\u001B[0m\u001B[0;34m)\u001B[0m\u001B[0;34m\u001B[0m\u001B[0;34m\u001B[0m\u001B[0m\n",
      "\u001B[0;31mKeyboardInterrupt\u001B[0m: "
     ]
    }
   ],
   "source": [
    "whole_data_file = \"../InputData/SmallDataset/SmallWhole_3_20.csv\"\n",
    "mis_class_data_file = \"../InputData/SmallDataset/SmallMisClass_3_20.csv\"\n",
    "Tha = 0.4\n",
    "\n",
    "Thc = 4\n",
    "\n",
    "time1 = time.time()\n",
    "M, num_pattern_checked = Deepdiver(mis_class_data_file, whole_data_file, Tha, Thc)\n",
    "time2 = time.time()\n",
    "\n",
    "print(\"time = {} seconds\".format(time2-time1))\n",
    "print(len(M), num_pattern_checked)\n",
    "\n",
    "print(M)\n",
    "print(num_pattern_checked)\n"
   ],
   "metadata": {
    "collapsed": false,
    "pycharm": {
     "name": "#%%\n"
    }
   }
  },
  {
   "cell_type": "code",
   "execution_count": null,
   "outputs": [],
   "source": [],
   "metadata": {
    "collapsed": false,
    "pycharm": {
     "name": "#%%\n"
    }
   }
  }
 ],
 "metadata": {
  "kernelspec": {
   "name": "python3",
   "language": "python",
   "display_name": "Python 3"
  },
  "language_info": {
   "codemirror_mode": {
    "name": "ipython",
    "version": 2
   },
   "file_extension": ".py",
   "mimetype": "text/x-python",
   "name": "python",
   "nbconvert_exporter": "python",
   "pygments_lexer": "ipython2",
   "version": "2.7.6"
  }
 },
 "nbformat": 4,
 "nbformat_minor": 0
}