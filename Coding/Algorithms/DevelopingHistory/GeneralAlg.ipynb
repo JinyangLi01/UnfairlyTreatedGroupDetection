{
 "cells": [
  {
   "cell_type": "raw",
   "metadata": {
    "collapsed": true,
    "pycharm": {
     "name": "#%% raw\n"
    }
   },
   "source": [
    "\n",
    "This notebook implements the new proposed algorithm.\n",
    "\n"
   ]
  },
  {
   "cell_type": "code",
   "source": [
    "\n",
    "%load_ext autoreload\n",
    "%autoreload 2\n",
    "\n",
    "import pandas as pd\n",
    "from Algorithms import pattern_count\n",
    "from Algorithms import WholeProcess_0_20201211 as wholeprocess\n",
    "from Algorithms import NewAlgGeneral_0_20210412 as newalg\n",
    "from Algorithms import Predict_0_20210127 as predict\n",
    "from Algorithms import NaiveAlgGeneral_0_20210515 as naivealg\n",
    "import matplotlib.pyplot as plt\n",
    "from matplotlib.ticker import FuncFormatter"
   ],
   "metadata": {
    "collapsed": false,
    "pycharm": {
     "name": "#%%\n"
    }
   },
   "execution_count": 14,
   "outputs": [
    {
     "name": "stdout",
     "output_type": "stream",
     "text": [
      "The autoreload extension is already loaded. To reload it, use:\n",
      "  %reload_ext autoreload\n"
     ]
    }
   ]
  },
  {
   "cell_type": "code",
   "execution_count": 15,
   "outputs": [],
   "source": [
    "def thousands_formatter(x, pos):\n",
    "    return int(x/1000)\n"
   ],
   "metadata": {
    "collapsed": false,
    "pycharm": {
     "name": "#%%\n"
    }
   }
  },
  {
   "cell_type": "markdown",
   "source": [
    "# test 1"
   ],
   "metadata": {
    "collapsed": false,
    "pycharm": {
     "name": "#%% md\n"
    }
   }
  },
  {
   "cell_type": "code",
   "execution_count": 16,
   "outputs": [],
   "source": [
    "\n",
    "selected_attributes = ['age', 'education', 'marital-status', 'race', 'gender', 'workclass', 'relationship',\n",
    "                       'occupation', 'educational-num', 'capital-gain']\n",
    "original_data_file = \"../../InputData/AdultDataset/CleanAdult2.csv\"\n",
    "att_to_predict = 'income'\n",
    "time_limit = 20*60\n",
    "thc = 20\n",
    "num_loops = 1\n",
    "fairness_definition = 0\n",
    "dif = 0.1"
   ],
   "metadata": {
    "collapsed": false,
    "pycharm": {
     "name": "#%%\n"
    }
   }
  },
  {
   "cell_type": "code",
   "execution_count": 13,
   "outputs": [
    {
     "name": "stderr",
     "output_type": "stream",
     "text": [
      "/Users/jinyangli/opt/anaconda3/envs/py37/lib/python3.7/site-packages/pandas/core/frame.py:4170: SettingWithCopyWarning: \n",
      "A value is trying to be set on a copy of a slice from a DataFrame\n",
      "\n",
      "See the caveats in the documentation: https://pandas.pydata.org/pandas-docs/stable/user_guide/indexing.html#returning-a-view-versus-a-copy\n",
      "  errors=errors,\n"
     ]
    },
    {
     "name": "stdout",
     "output_type": "stream",
     "text": [
      "Predictive_parity, original_thf = 0.6469135802469136, Thf = 0.5469135802469136\n",
      "newalg, time = 0.581326961517334 s, num_calculation = 233, num_pattern = 72 \n",
      " [[-1, -1, -1, -1, -1, -1, -1, -1, -1, 4], [-1, -1, -1, -1, -1, -1, -1, -1, -1, 0], [-1, -1, -1, -1, -1, -1, -1, -1, 16, -1], [-1, -1, -1, -1, -1, -1, -1, -1, 15, -1], [-1, -1, -1, -1, -1, -1, -1, -1, 14, -1], [-1, -1, -1, -1, -1, -1, -1, -1, 13, -1], [-1, -1, -1, -1, -1, -1, -1, -1, 12, -1], [-1, -1, -1, -1, -1, -1, -1, -1, 11, -1], [-1, -1, -1, -1, -1, -1, -1, -1, 10, -1], [-1, -1, -1, -1, -1, -1, -1, -1, 9, -1], [-1, -1, -1, -1, -1, -1, -1, -1, 8, -1], [-1, -1, -1, -1, -1, -1, -1, -1, 7, -1], [-1, -1, -1, -1, -1, -1, -1, -1, 6, -1], [-1, -1, -1, -1, -1, -1, -1, -1, 5, -1], [-1, -1, -1, -1, -1, -1, -1, -1, 4, -1], [-1, -1, -1, -1, -1, -1, -1, -1, 3, -1], [-1, -1, -1, -1, -1, -1, -1, 13, -1, -1], [-1, -1, -1, -1, -1, -1, -1, 12, -1, -1], [-1, -1, -1, -1, -1, -1, -1, 11, -1, -1], [-1, -1, -1, -1, -1, -1, -1, 10, -1, -1], [-1, -1, -1, -1, -1, -1, -1, 9, -1, -1], [-1, -1, -1, -1, -1, -1, -1, 7, -1, -1], [-1, -1, -1, -1, -1, -1, -1, 6, -1, -1], [-1, -1, -1, -1, -1, -1, -1, 5, -1, -1], [-1, -1, -1, -1, -1, -1, -1, 4, -1, -1], [-1, -1, -1, -1, -1, -1, -1, 3, -1, -1], [-1, -1, -1, -1, -1, -1, -1, 2, -1, -1], [-1, -1, -1, -1, -1, -1, -1, 0, -1, -1], [-1, -1, -1, -1, -1, -1, 5, -1, -1, -1], [-1, -1, -1, -1, -1, -1, 4, -1, -1, -1], [-1, -1, -1, -1, -1, -1, 3, -1, -1, -1], [-1, -1, -1, -1, -1, -1, 2, -1, -1, -1], [-1, -1, -1, -1, -1, -1, 1, -1, -1, -1], [-1, -1, -1, -1, -1, -1, 0, -1, -1, -1], [-1, -1, -1, -1, -1, 5, -1, -1, -1, -1], [-1, -1, -1, -1, -1, 4, -1, -1, -1, -1], [-1, -1, -1, -1, -1, 3, -1, -1, -1, -1], [-1, -1, -1, -1, -1, 2, -1, -1, -1, -1], [-1, -1, -1, -1, -1, 1, -1, -1, -1, -1], [-1, -1, -1, -1, -1, 0, -1, -1, -1, -1], [-1, -1, -1, -1, 1, -1, -1, -1, -1, -1], [-1, -1, -1, -1, 0, -1, -1, -1, -1, -1], [-1, -1, -1, 4, -1, -1, -1, -1, -1, -1], [-1, -1, -1, 3, -1, -1, -1, -1, -1, -1], [-1, -1, -1, 2, -1, -1, -1, -1, -1, -1], [-1, -1, -1, 1, -1, -1, -1, -1, -1, -1], [-1, -1, -1, 0, -1, -1, -1, -1, -1, -1], [-1, -1, 6, -1, -1, -1, -1, -1, -1, -1], [-1, -1, 5, -1, -1, -1, -1, -1, -1, -1], [-1, -1, 4, -1, -1, -1, -1, -1, -1, -1], [-1, -1, 3, -1, -1, -1, -1, -1, -1, -1], [-1, -1, 2, -1, -1, -1, -1, -1, -1, -1], [-1, -1, 1, -1, -1, -1, -1, -1, -1, -1], [-1, -1, 0, -1, -1, -1, -1, -1, -1, -1], [-1, 15, -1, -1, -1, -1, -1, -1, -1, -1], [-1, 14, -1, -1, -1, -1, -1, -1, -1, -1], [-1, 12, -1, -1, -1, -1, -1, -1, -1, -1], [-1, 11, -1, -1, -1, -1, -1, -1, -1, -1], [-1, 10, -1, -1, -1, -1, -1, -1, -1, -1], [-1, 9, -1, -1, -1, -1, -1, -1, -1, -1], [-1, 8, -1, -1, -1, -1, -1, -1, -1, -1], [-1, 7, -1, -1, -1, -1, -1, -1, -1, -1], [-1, 6, -1, -1, -1, -1, -1, -1, -1, -1], [-1, 5, -1, -1, -1, -1, -1, -1, -1, -1], [-1, 4, -1, -1, -1, -1, -1, -1, -1, -1], [-1, 2, -1, -1, -1, -1, -1, -1, -1, -1], [-1, 1, -1, -1, -1, -1, -1, -1, -1, -1], [-1, 0, -1, -1, -1, -1, -1, -1, -1, -1], [3, -1, -1, -1, -1, -1, -1, -1, -1, -1], [2, -1, -1, -1, -1, -1, -1, -1, -1, -1], [1, -1, -1, -1, -1, -1, -1, -1, -1, -1], [0, -1, -1, -1, -1, -1, -1, -1, -1, -1]]\n"
     ]
    }
   ],
   "source": [
    "less_attribute_data, TP, TN, FP, FN = predict.PredictWithMLReturnTPTNFPFN(original_data_file,\n",
    "                                                                         selected_attributes,\n",
    "                                                                         att_to_predict)\n",
    "\n",
    "pattern_with_low_fairness1, calculation1_, t1_ = newalg.GraphTraverse(less_attribute_data,\n",
    "                                                                              TP, TN, FP, FN, dif,\n",
    "                                                                              thc, time_limit, fairness_definition)\n",
    "\n",
    "print(\"newalg, time = {} s, num_calculation = {}, num_pattern = {}\".format(t1_, calculation1_,\n",
    "      len(pattern_with_low_fairness1)),\n",
    "      \"\\n\",\n",
    "      pattern_with_low_fairness1)\n"
   ],
   "metadata": {
    "collapsed": false,
    "pycharm": {
     "name": "#%%\n"
    }
   }
  },
  {
   "cell_type": "code",
   "execution_count": null,
   "outputs": [],
   "source": [
    "for p in pattern_with_low_fairness1:\n"
   ],
   "metadata": {
    "collapsed": false,
    "pycharm": {
     "name": "#%%\n"
    }
   }
  }
 ],
 "metadata": {
  "kernelspec": {
   "display_name": "Python 3",
   "language": "python",
   "name": "python3"
  },
  "language_info": {
   "codemirror_mode": {
    "name": "ipython",
    "version": 2
   },
   "file_extension": ".py",
   "mimetype": "text/x-python",
   "name": "python",
   "nbconvert_exporter": "python",
   "pygments_lexer": "ipython2",
   "version": "2.7.6"
  }
 },
 "nbformat": 4,
 "nbformat_minor": 0
}