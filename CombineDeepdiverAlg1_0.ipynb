{
 "cells": [
  {
   "cell_type": "raw",
   "metadata": {
    "collapsed": true,
    "pycharm": {
     "name": "#%% raw\n"
    }
   },
   "source": [
    "\n",
    "Add algorithm 1 checker to every pattern in Deepdiver\n"
   ]
  },
  {
   "cell_type": "markdown",
   "source": [
    "# Imports and Definitions"
   ],
   "metadata": {
    "collapsed": false,
    "pycharm": {
     "name": "#%% md\n"
    }
   }
  },
  {
   "cell_type": "code",
   "execution_count": 8,
   "outputs": [],
   "source": [
    "\n",
    "\n",
    "import numpy as np\n",
    "import pandas as pd\n",
    "import csv\n",
    "import math\n",
    "import pickle\n",
    "import import_ipynb\n",
    "import pattern_count\n",
    "import time\n",
    "\n",
    "\n",
    "\n",
    "def P1DominatedByP2(P1, P2):\n",
    "    length = len(P1)\n",
    "    for i in range(length):\n",
    "        if P1[i] == -1:\n",
    "            if P2[i] != -1:\n",
    "                return False\n",
    "        if P1[i] != -1:\n",
    "            if P2[i] != P1[i] and P2[i] != -1:\n",
    "                return False\n",
    "    return True\n",
    "\n",
    "# whether a pattern P is dominated by MUP M\n",
    "def PDominatedByM(P, M):\n",
    "    for m in M:\n",
    "        if P1DominatedByP2(P, m):\n",
    "            return True\n",
    "    return False\n",
    "\n",
    "# whether a pattern P dominates MUP M\n",
    "def PDominatesM(P, M):\n",
    "    for m in M:\n",
    "        if P1DominatedByP2(m, P):\n",
    "            return True\n",
    "    return False\n",
    "\n",
    "\"\"\"\n",
    "# coverage of P among dataset D\n",
    "def cov(P, D):\n",
    "    cnt = 0\n",
    "    for d in D:\n",
    "        if P1DominatedByP2(d, P):\n",
    "            cnt += 1\n",
    "    return cnt\n",
    "\n",
    "\"\"\"\n",
    "def GenerateParents(P):\n",
    "    parents = []\n",
    "    length = len(P)\n",
    "    for i in range(length):\n",
    "        if P[i] != -1:\n",
    "            q = P.copy()\n",
    "            q[i] = -1\n",
    "            parents.append(q)\n",
    "    return parents\n",
    "\n",
    "def GenerateByRule1(P, mcdes, attributes):\n",
    "    children = []\n",
    "    length = len(P)\n",
    "    i = 0\n",
    "    for i in range(length-1, -1, -1):\n",
    "        if P[i] != -1:\n",
    "            break\n",
    "    if P[i] == -1:\n",
    "        i -= 1\n",
    "    for j in range(i+1, length, 1):\n",
    "        for a in range(int(mcdes[attributes[j]]['min']), int(mcdes[attributes[j]]['max'])+1):\n",
    "            s = P.copy()\n",
    "            s[j] = a\n",
    "            children.append(s)\n",
    "    return children\n",
    "\n",
    "\n",
    "def num2string(pattern):\n",
    "    st = ''\n",
    "    for i in pattern:\n",
    "        if i != -1:\n",
    "            st += str(i)\n",
    "        st += '|'\n",
    "    st = st[:-1]\n",
    "    return st\n",
    "\n",
    "\n",
    "\n",
    "\n",
    "def Prepatation(filename):\n",
    "    mc = pd.read_csv(filename)\n",
    "    mcdes = mc.describe()\n",
    "    attributes = mcdes.columns.values\n",
    "    return mc, mcdes, attributes\n",
    "\n",
    "\n",
    "\n",
    "# check whether each pattern P is legal: cardinality and accuracy\n",
    "def CheckWhetherMUP(P, Tha, Thc, pc_adult, pc_mc):\n",
    "    adult_p = num2string(P)\n",
    "    covdata = pc_adult.pattern_count(adult_p)\n",
    "    covmc = pc_mc.pattern_count(adult_p)\n",
    "    if covdata >= Thc:\n",
    "        acc = 1 - covmc / covdata\n",
    "        if acc < Tha:\n",
    "            return True\n",
    "    return False\n"
   ],
   "metadata": {
    "collapsed": false,
    "pycharm": {
     "name": "#%%\n"
    }
   }
  },
  {
   "cell_type": "code",
   "execution_count": 9,
   "outputs": [],
   "source": [
    "\n",
    "def Deepdiver(mcfile, datafile, Tha, Thc):\n",
    "    tao = (1-Tha) * Thc\n",
    "    mc, mcdes, attributes = Prepatation(mcfile)\n",
    "    column_list_mc = np.array(mc.columns).tolist()\n",
    "    pc_mc = pattern_count.PatternCounter(mcfile, column_list_mc, encoded=False)\n",
    "    pc_mc.parse_data()\n",
    "\n",
    "    data = pd.read_csv(datafile)\n",
    "    column_list_adult = np.array(data.columns).tolist()\n",
    "    pc_adult = pattern_count.PatternCounter(datafile, column_list_adult, encoded=False)\n",
    "    pc_adult.parse_data()\n",
    "\n",
    "    num_pattern_checked = 0\n",
    "\n",
    "    root = [-1] * (len(attributes))\n",
    "    S = [root]  # initial stack\n",
    "    M = []  # maximal uncovered patterns\n",
    "    while len(S) > 0:\n",
    "        P = S.pop()\n",
    "        num_pattern_checked += 1\n",
    "        if num_pattern_checked % 50000 == 0:\n",
    "            print(\"num_pattern_checked = {}\".format(num_pattern_checked))\n",
    "        #print(P, len(M))\n",
    "        if PDominatedByM(P, M):\n",
    "            continue\n",
    "        elif PDominatesM(P, M):\n",
    "            uncoveredFlag = True\n",
    "        else:\n",
    "            cnt = pc_mc.pattern_count(num2string(P)) # cov(P, mclist)\n",
    "            #uncoveredFlag = (cnt < tao and cnt > 0) # add > 0 requirement here\n",
    "            uncoveredFlag = cnt < tao\n",
    "        if uncoveredFlag:\n",
    "            S1 = [P] # stack\n",
    "            while len(S1) > 0:\n",
    "                P1 = S1.pop()\n",
    "                ParentNodes = GenerateParents(P1)\n",
    "                for parent in ParentNodes:\n",
    "                    cntparent = pc_mc.pattern_count(num2string(parent)) # cov(parent, mclist)\n",
    "                    if cntparent < tao:\n",
    "                        S1.append(parent)\n",
    "                        break\n",
    "                if CheckWhetherMUP(P, Tha, Thc, pc_adult, pc_mc) is True:\n",
    "                    M.append(P)\n",
    "                    if len(M) % 10 == 0:\n",
    "                        print(len(M))\n",
    "            # end while\n",
    "        else:\n",
    "            children = GenerateByRule1(P, mcdes, attributes)\n",
    "            S = S + children\n",
    "    return M, num_pattern_checked\n",
    "\n",
    "\n",
    "\n"
   ],
   "metadata": {
    "collapsed": false,
    "pycharm": {
     "name": "#%%\n"
    }
   }
  },
  {
   "cell_type": "code",
   "execution_count": 10,
   "outputs": [
    {
     "name": "stdout",
     "output_type": "stream",
     "text": [
      "num_pattern_checked = 50000\n",
      "num_pattern_checked = 100000\n",
      "num_pattern_checked = 150000\n",
      "num_pattern_checked = 200000\n",
      "num_pattern_checked = 250000\n",
      "num_pattern_checked = 300000\n",
      "num_pattern_checked = 350000\n",
      "num_pattern_checked = 400000\n",
      "num_pattern_checked = 450000\n",
      "num_pattern_checked = 500000\n",
      "num_pattern_checked = 550000\n",
      "num_pattern_checked = 600000\n",
      "num_pattern_checked = 650000\n",
      "num_pattern_checked = 700000\n",
      "num_pattern_checked = 750000\n",
      "num_pattern_checked = 800000\n",
      "num_pattern_checked = 850000\n",
      "num_pattern_checked = 900000\n",
      "num_pattern_checked = 950000\n",
      "num_pattern_checked = 1000000\n",
      "num_pattern_checked = 1050000\n",
      "num_pattern_checked = 1100000\n",
      "num_pattern_checked = 1150000\n",
      "num_pattern_checked = 1200000\n",
      "num_pattern_checked = 1250000\n",
      "num_pattern_checked = 1300000\n",
      "num_pattern_checked = 1350000\n",
      "num_pattern_checked = 1400000\n",
      "num_pattern_checked = 1450000\n",
      "num_pattern_checked = 1500000\n",
      "num_pattern_checked = 1550000\n",
      "num_pattern_checked = 1600000\n",
      "num_pattern_checked = 1650000\n",
      "num_pattern_checked = 1700000\n",
      "num_pattern_checked = 1750000\n",
      "num_pattern_checked = 1800000\n",
      "num_pattern_checked = 1850000\n",
      "num_pattern_checked = 1900000\n",
      "num_pattern_checked = 1950000\n",
      "num_pattern_checked = 2000000\n",
      "num_pattern_checked = 2050000\n",
      "num_pattern_checked = 2100000\n",
      "num_pattern_checked = 2150000\n",
      "num_pattern_checked = 2200000\n",
      "num_pattern_checked = 2250000\n"
     ]
    },
    {
     "ename": "KeyboardInterrupt",
     "evalue": "",
     "output_type": "error",
     "traceback": [
      "\u001B[0;31m---------------------------------------------------------------------------\u001B[0m",
      "\u001B[0;31mKeyboardInterrupt\u001B[0m                         Traceback (most recent call last)",
      "\u001B[0;32m<ipython-input-10-281cac2bc019>\u001B[0m in \u001B[0;36m<module>\u001B[0;34m\u001B[0m\n\u001B[1;32m      1\u001B[0m \u001B[0mtime1\u001B[0m \u001B[0;34m=\u001B[0m \u001B[0mtime\u001B[0m\u001B[0;34m.\u001B[0m\u001B[0mtime\u001B[0m\u001B[0;34m(\u001B[0m\u001B[0;34m)\u001B[0m\u001B[0;34m\u001B[0m\u001B[0;34m\u001B[0m\u001B[0m\n\u001B[0;32m----> 2\u001B[0;31m \u001B[0mM\u001B[0m\u001B[0;34m,\u001B[0m \u001B[0mnum_pattern_checked\u001B[0m \u001B[0;34m=\u001B[0m \u001B[0mDeepdiver\u001B[0m\u001B[0;34m(\u001B[0m\u001B[0;34m\"miss_class3.csv\"\u001B[0m\u001B[0;34m,\u001B[0m \u001B[0;34m\"CleanAdult3.csv\"\u001B[0m\u001B[0;34m,\u001B[0m \u001B[0;36m0.65\u001B[0m\u001B[0;34m,\u001B[0m \u001B[0;36m50\u001B[0m\u001B[0;34m)\u001B[0m\u001B[0;34m\u001B[0m\u001B[0;34m\u001B[0m\u001B[0m\n\u001B[0m\u001B[1;32m      3\u001B[0m \u001B[0mtime2\u001B[0m \u001B[0;34m=\u001B[0m \u001B[0mtime\u001B[0m\u001B[0;34m.\u001B[0m\u001B[0mtime\u001B[0m\u001B[0;34m(\u001B[0m\u001B[0;34m)\u001B[0m\u001B[0;34m\u001B[0m\u001B[0;34m\u001B[0m\u001B[0m\n\u001B[1;32m      4\u001B[0m \u001B[0;34m\u001B[0m\u001B[0m\n\u001B[1;32m      5\u001B[0m \u001B[0mprint\u001B[0m\u001B[0;34m(\u001B[0m\u001B[0;34m\"time = {} seconds\"\u001B[0m\u001B[0;34m.\u001B[0m\u001B[0mformat\u001B[0m\u001B[0;34m(\u001B[0m\u001B[0mtime2\u001B[0m\u001B[0;34m-\u001B[0m\u001B[0mtime1\u001B[0m\u001B[0;34m)\u001B[0m\u001B[0;34m)\u001B[0m\u001B[0;34m\u001B[0m\u001B[0;34m\u001B[0m\u001B[0m\n",
      "\u001B[0;32m<ipython-input-9-312d63fb9272>\u001B[0m in \u001B[0;36mDeepdiver\u001B[0;34m(mcfile, datafile, Tha, Thc)\u001B[0m\n\u001B[1;32m     40\u001B[0m                         \u001B[0mS1\u001B[0m\u001B[0;34m.\u001B[0m\u001B[0mappend\u001B[0m\u001B[0;34m(\u001B[0m\u001B[0mparent\u001B[0m\u001B[0;34m)\u001B[0m\u001B[0;34m\u001B[0m\u001B[0;34m\u001B[0m\u001B[0m\n\u001B[1;32m     41\u001B[0m                         \u001B[0;32mbreak\u001B[0m\u001B[0;34m\u001B[0m\u001B[0;34m\u001B[0m\u001B[0m\n\u001B[0;32m---> 42\u001B[0;31m                 \u001B[0;32mif\u001B[0m \u001B[0mCheckWhetherMUP\u001B[0m\u001B[0;34m(\u001B[0m\u001B[0mP\u001B[0m\u001B[0;34m,\u001B[0m \u001B[0mTha\u001B[0m\u001B[0;34m,\u001B[0m \u001B[0mThc\u001B[0m\u001B[0;34m,\u001B[0m \u001B[0mpc_adult\u001B[0m\u001B[0;34m,\u001B[0m \u001B[0mpc_mc\u001B[0m\u001B[0;34m)\u001B[0m \u001B[0;32mis\u001B[0m \u001B[0;32mTrue\u001B[0m\u001B[0;34m:\u001B[0m\u001B[0;34m\u001B[0m\u001B[0;34m\u001B[0m\u001B[0m\n\u001B[0m\u001B[1;32m     43\u001B[0m                     \u001B[0mM\u001B[0m\u001B[0;34m.\u001B[0m\u001B[0mappend\u001B[0m\u001B[0;34m(\u001B[0m\u001B[0mP\u001B[0m\u001B[0;34m)\u001B[0m\u001B[0;34m\u001B[0m\u001B[0;34m\u001B[0m\u001B[0m\n\u001B[1;32m     44\u001B[0m                     \u001B[0;32mif\u001B[0m \u001B[0mlen\u001B[0m\u001B[0;34m(\u001B[0m\u001B[0mM\u001B[0m\u001B[0;34m)\u001B[0m \u001B[0;34m%\u001B[0m \u001B[0;36m10\u001B[0m \u001B[0;34m==\u001B[0m \u001B[0;36m0\u001B[0m\u001B[0;34m:\u001B[0m\u001B[0;34m\u001B[0m\u001B[0;34m\u001B[0m\u001B[0m\n",
      "\u001B[0;32m<ipython-input-8-5221814e5c80>\u001B[0m in \u001B[0;36mCheckWhetherMUP\u001B[0;34m(P, Tha, Thc, pc_adult, pc_mc)\u001B[0m\n\u001B[1;32m     95\u001B[0m \u001B[0;32mdef\u001B[0m \u001B[0mCheckWhetherMUP\u001B[0m\u001B[0;34m(\u001B[0m\u001B[0mP\u001B[0m\u001B[0;34m,\u001B[0m \u001B[0mTha\u001B[0m\u001B[0;34m,\u001B[0m \u001B[0mThc\u001B[0m\u001B[0;34m,\u001B[0m \u001B[0mpc_adult\u001B[0m\u001B[0;34m,\u001B[0m \u001B[0mpc_mc\u001B[0m\u001B[0;34m)\u001B[0m\u001B[0;34m:\u001B[0m\u001B[0;34m\u001B[0m\u001B[0;34m\u001B[0m\u001B[0m\n\u001B[1;32m     96\u001B[0m     \u001B[0madult_p\u001B[0m \u001B[0;34m=\u001B[0m \u001B[0mnum2string\u001B[0m\u001B[0;34m(\u001B[0m\u001B[0mP\u001B[0m\u001B[0;34m)\u001B[0m\u001B[0;34m\u001B[0m\u001B[0;34m\u001B[0m\u001B[0m\n\u001B[0;32m---> 97\u001B[0;31m     \u001B[0mcovdata\u001B[0m \u001B[0;34m=\u001B[0m \u001B[0mpc_adult\u001B[0m\u001B[0;34m.\u001B[0m\u001B[0mpattern_count\u001B[0m\u001B[0;34m(\u001B[0m\u001B[0madult_p\u001B[0m\u001B[0;34m)\u001B[0m\u001B[0;34m\u001B[0m\u001B[0;34m\u001B[0m\u001B[0m\n\u001B[0m\u001B[1;32m     98\u001B[0m     \u001B[0mcovmc\u001B[0m \u001B[0;34m=\u001B[0m \u001B[0mpc_mc\u001B[0m\u001B[0;34m.\u001B[0m\u001B[0mpattern_count\u001B[0m\u001B[0;34m(\u001B[0m\u001B[0madult_p\u001B[0m\u001B[0;34m)\u001B[0m\u001B[0;34m\u001B[0m\u001B[0;34m\u001B[0m\u001B[0m\n\u001B[1;32m     99\u001B[0m     \u001B[0;32mif\u001B[0m \u001B[0mcovdata\u001B[0m \u001B[0;34m>=\u001B[0m \u001B[0mThc\u001B[0m\u001B[0;34m:\u001B[0m\u001B[0;34m\u001B[0m\u001B[0;34m\u001B[0m\u001B[0m\n",
      "\u001B[0;32m~/Desktop/Fairness/Coding/Jupyter/pattern_count.py\u001B[0m in \u001B[0;36mpattern_count\u001B[0;34m(self, pattern)\u001B[0m\n\u001B[1;32m    125\u001B[0m \u001B[0;34m\u001B[0m\u001B[0m\n\u001B[1;32m    126\u001B[0m             \u001B[0mcount\u001B[0m \u001B[0;34m=\u001B[0m \u001B[0;36m0\u001B[0m\u001B[0;34m\u001B[0m\u001B[0;34m\u001B[0m\u001B[0m\n\u001B[0;32m--> 127\u001B[0;31m             \u001B[0;32mfor\u001B[0m \u001B[0mi\u001B[0m\u001B[0;34m,\u001B[0m \u001B[0mbit\u001B[0m \u001B[0;32min\u001B[0m \u001B[0menumerate\u001B[0m\u001B[0;34m(\u001B[0m\u001B[0mand_bitarray\u001B[0m\u001B[0;34m)\u001B[0m\u001B[0;34m:\u001B[0m\u001B[0;34m\u001B[0m\u001B[0;34m\u001B[0m\u001B[0m\n\u001B[0m\u001B[1;32m    128\u001B[0m                 \u001B[0;32mif\u001B[0m \u001B[0mbit\u001B[0m\u001B[0;34m:\u001B[0m\u001B[0;34m\u001B[0m\u001B[0;34m\u001B[0m\u001B[0m\n\u001B[1;32m    129\u001B[0m                     \u001B[0mcount\u001B[0m \u001B[0;34m+=\u001B[0m \u001B[0mself\u001B[0m\u001B[0;34m.\u001B[0m\u001B[0moccurences\u001B[0m\u001B[0;34m[\u001B[0m\u001B[0mi\u001B[0m\u001B[0;34m]\u001B[0m\u001B[0;34m\u001B[0m\u001B[0;34m\u001B[0m\u001B[0m\n",
      "\u001B[0;31mKeyboardInterrupt\u001B[0m: "
     ]
    }
   ],
   "source": [
    "\n",
    "time1 = time.time()\n",
    "M, num_pattern_checked = Deepdiver(\"miss_class3.csv\", \"CleanAdult3.csv\", 0.65, 50)\n",
    "time2 = time.time()\n",
    "\n",
    "print(\"time = {} seconds\".format(time2-time1))\n",
    "print(len(M), num_pattern_checked)\n",
    "\n",
    "f = open(\"CombineDeepdiverAlg1_0_output.txt\", \"a\")\n",
    "f.write(\"time = {} seconds\".format(time2-time1))\n",
    "f.write(len(M), num_pattern_checked)\n",
    "f.close()\n"
   ],
   "metadata": {
    "collapsed": false,
    "pycharm": {
     "name": "#%%\n"
    }
   }
  },
  {
   "cell_type": "code",
   "execution_count": null,
   "outputs": [],
   "source": [],
   "metadata": {
    "collapsed": false,
    "pycharm": {
     "name": "#%%\n"
    }
   }
  }
 ],
 "metadata": {
  "kernelspec": {
   "display_name": "Python 3",
   "language": "python",
   "name": "python3"
  },
  "language_info": {
   "codemirror_mode": {
    "name": "ipython",
    "version": 2
   },
   "file_extension": ".py",
   "mimetype": "text/x-python",
   "name": "python",
   "nbconvert_exporter": "python",
   "pygments_lexer": "ipython2",
   "version": "2.7.6"
  }
 },
 "nbformat": 4,
 "nbformat_minor": 0
}