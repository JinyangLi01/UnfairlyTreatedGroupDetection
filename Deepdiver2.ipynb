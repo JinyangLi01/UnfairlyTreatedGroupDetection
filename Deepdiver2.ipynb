{
 "cells": [
  {
   "cell_type": "code",
   "execution_count": 3,
   "metadata": {},
   "outputs": [],
   "source": [
    "import numpy as np\n",
    "import pandas as pd\n",
    "import csv\n",
    "import math\n",
    "import pickle\n",
    "import import_ipynb\n",
    "import pattern_count\n",
    "import time"
   ]
  },
  {
   "cell_type": "code",
   "execution_count": 4,
   "metadata": {},
   "outputs": [],
   "source": [
    "def P1DominatedByP2(P1, P2):\n",
    "    length = len(P1)\n",
    "    for i in range(length):\n",
    "        if P1[i] == -1:\n",
    "            if P2[i] != -1:\n",
    "                return False\n",
    "        if P1[i] != -1:\n",
    "            if P2[i] != P1[i] and P2[i] != -1:\n",
    "                return False\n",
    "    return True\n",
    "\n",
    "# whether a pattern P is dominated by MUP M\n",
    "def PDominatedByM(P, M):\n",
    "    for m in M:\n",
    "        if P1DominatedByP2(P, m):\n",
    "            return True\n",
    "    return False\n",
    "\n",
    "# whether a pattern P dominates MUP M\n",
    "def PDominatesM(P, M):\n",
    "    for m in M:\n",
    "        if P1DominatedByP2(m, P):\n",
    "            return True\n",
    "    return False\n",
    "\n",
    "\n",
    "# coverage of P among dataset D\n",
    "def cov(P, D):\n",
    "    cnt = 0\n",
    "    for d in D:\n",
    "        if P1DominatedByP2(d, P):\n",
    "            cnt += 1\n",
    "    return cnt\n",
    "\n",
    "\n",
    "def GenerateParents(P):\n",
    "    parents = []\n",
    "    length = len(P)\n",
    "    for i in range(length):\n",
    "        if P[i] != -1:\n",
    "            q = P.copy()\n",
    "            q[i] = -1\n",
    "            parents.append(q)\n",
    "    return parents\n",
    "\n",
    "def GenerateByRule1(P, mcdes, attributes):\n",
    "    children = []\n",
    "    length = len(P)\n",
    "    i = 0\n",
    "    for i in range(length-1, -1, -1):\n",
    "        if P[i] != -1:\n",
    "            break\n",
    "    if P[i] == -1:\n",
    "        i -= 1\n",
    "    for j in range(i+1, length, 1):\n",
    "        for a in range(int(mcdes[attributes[j]]['min']), int(mcdes[attributes[j]]['max'])+1):\n",
    "            s = P.copy()\n",
    "            s[j] = a\n",
    "            children.append(s)\n",
    "    return children\n",
    "\n",
    "\n",
    "def num2string(pattern):\n",
    "    st = ''\n",
    "    for i in pattern:\n",
    "        if i != -1:\n",
    "            st += str(i)\n",
    "        st += '|'\n",
    "    st = st[:-1]\n",
    "    return st\n",
    "\n",
    "\n",
    "\n",
    "def Deepdiver(file, tao):\n",
    "    mc, mcdes, attributes = Prepatation(file)\n",
    "    column_list = np.array(mc.columns).tolist()\n",
    "    pc = pattern_count.PatternCounter(file, column_list, encoded=False)\n",
    "    pc.parse_data()\n",
    "    mcarray = np.array(mc)\n",
    "    mclist = mcarray.tolist()\n",
    "    \n",
    "    root = [-1] * (len(attributes))\n",
    "    S = [root]  # initial stack\n",
    "    M = []  # maximal uncovered patterns\n",
    "    while len(S) > 0:\n",
    "        P = S.pop()\n",
    "        #print(P, len(M))\n",
    "        if PDominatedByM(P, M):\n",
    "            continue\n",
    "        elif PDominatesM(P, M):\n",
    "            uncoveredFlag = True\n",
    "        else:\n",
    "            cnt = cov(P, mclist)\n",
    "            #uncoveredFlag = (cnt < tao and cnt > 0) # add > 0 requirement here\n",
    "            uncoveredFlag = cnt < tao \n",
    "        if uncoveredFlag:\n",
    "            S1 = [P] # stack\n",
    "            while len(S1) > 0:\n",
    "                P1 = S1.pop()\n",
    "                ParentNodes = GenerateParents(P1)\n",
    "                for parent in ParentNodes:\n",
    "                    cntparent = cov(parent, mclist)\n",
    "                    if cntparent < tao:\n",
    "                        S1.append(parent)\n",
    "                        break\n",
    "                M.append(P)\n",
    "                if len(M) % 1000 == 0:\n",
    "                    print(len(M))\n",
    "            # end while\n",
    "        else:\n",
    "            children = GenerateByRule1(P, mcdes, attributes)\n",
    "            S = S + children\n",
    "    return M\n",
    "\n",
    "\n",
    "def Prepatation(filename):\n",
    "    mc = pd.read_csv(filename)\n",
    "    mcdes = mc.describe()\n",
    "    attributes = mcdes.columns.values\n",
    "    return mc, mcdes, attributes\n"
   ]
  },
  {
   "cell_type": "code",
   "execution_count": 5,
   "metadata": {},
   "outputs": [
    {
     "name": "stdout",
     "output_type": "stream",
     "text": [
      "13\n"
     ]
    }
   ],
   "source": [
    "\n",
    "mc, mcdes, attributes = Prepatation('miss_class3.csv')\n",
    "print(len(attributes))\n",
    "mcarray = np.array(mc)\n",
    "mclist = mcarray.tolist()\n"
   ]
  },
  {
   "cell_type": "code",
   "execution_count": 25,
   "metadata": {},
   "outputs": [
    {
     "name": "stdout",
     "output_type": "stream",
     "text": [
      "1000\n",
      "2000\n",
      "3000\n",
      "4000\n",
      "5000\n",
      "6000\n",
      "7000\n"
     ]
    },
    {
     "ename": "NameError",
     "evalue": "name 'start_time' is not defined",
     "output_type": "error",
     "traceback": [
      "\u001B[0;31m---------------------------------------------------------------------------\u001B[0m",
      "\u001B[0;31mNameError\u001B[0m                                 Traceback (most recent call last)",
      "\u001B[0;32m<ipython-input-25-7d68e1e12da0>\u001B[0m in \u001B[0;36m<module>\u001B[0;34m\u001B[0m\n\u001B[1;32m      2\u001B[0m \u001B[0mM\u001B[0m \u001B[0;34m=\u001B[0m \u001B[0mDeepdiver\u001B[0m\u001B[0;34m(\u001B[0m\u001B[0;34m'miss_class3.csv'\u001B[0m\u001B[0;34m,\u001B[0m \u001B[0;36m50\u001B[0m\u001B[0;34m*\u001B[0m\u001B[0;36m0.6\u001B[0m\u001B[0;34m)\u001B[0m\u001B[0;34m\u001B[0m\u001B[0;34m\u001B[0m\u001B[0m\n\u001B[1;32m      3\u001B[0m \u001B[0mtime2\u001B[0m \u001B[0;34m=\u001B[0m \u001B[0mtime\u001B[0m\u001B[0;34m.\u001B[0m\u001B[0mtime\u001B[0m\u001B[0;34m(\u001B[0m\u001B[0;34m)\u001B[0m\u001B[0;34m\u001B[0m\u001B[0;34m\u001B[0m\u001B[0m\n\u001B[0;32m----> 4\u001B[0;31m \u001B[0mprint\u001B[0m\u001B[0;34m(\u001B[0m\u001B[0;34m\"--- %s seconds ---\"\u001B[0m \u001B[0;34m%\u001B[0m \u001B[0;34m(\u001B[0m\u001B[0mtime\u001B[0m\u001B[0;34m.\u001B[0m\u001B[0mtime\u001B[0m\u001B[0;34m(\u001B[0m\u001B[0;34m)\u001B[0m \u001B[0;34m-\u001B[0m \u001B[0mstart_time\u001B[0m\u001B[0;34m)\u001B[0m\u001B[0;34m)\u001B[0m\u001B[0;34m\u001B[0m\u001B[0;34m\u001B[0m\u001B[0m\n\u001B[0m\u001B[1;32m      5\u001B[0m \u001B[0mprint\u001B[0m\u001B[0;34m(\u001B[0m\u001B[0mM\u001B[0m\u001B[0;34m)\u001B[0m\u001B[0;34m\u001B[0m\u001B[0;34m\u001B[0m\u001B[0m\n",
      "\u001B[0;31mNameError\u001B[0m: name 'start_time' is not defined"
     ]
    }
   ],
   "source": [
    "time1 = time.time()\n",
    "M = Deepdiver('miss_class3.csv', 50*0.6)\n",
    "time2 = time.time()\n",
    "print(\"--- %s seconds ---\" % (time2 - time1))\n",
    "print(M)"
   ]
  },
  {
   "cell_type": "code",
   "execution_count": null,
   "metadata": {},
   "outputs": [],
   "source": []
  }
 ],
 "metadata": {
  "kernelspec": {
   "display_name": "Python 3",
   "language": "python",
   "name": "python3"
  },
  "language_info": {
   "codemirror_mode": {
    "name": "ipython",
    "version": 3
   },
   "file_extension": ".py",
   "mimetype": "text/x-python",
   "name": "python",
   "nbconvert_exporter": "python",
   "pygments_lexer": "ipython3",
   "version": "3.8.3"
  },
  "toc": {
   "base_numbering": 1,
   "nav_menu": {},
   "number_sections": true,
   "sideBar": true,
   "skip_h1_title": false,
   "title_cell": "Table of Contents",
   "title_sidebar": "Contents",
   "toc_cell": false,
   "toc_position": {},
   "toc_section_display": true,
   "toc_window_display": false
  }
 },
 "nbformat": 4,
 "nbformat_minor": 4
}